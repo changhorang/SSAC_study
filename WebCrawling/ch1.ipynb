{
 "cells": [
  {
   "cell_type": "markdown",
   "source": [
    "# Ch.01 준비하기\r\n",
    "\r\n",
    "## ch.1.2 파이썬 준비\r\n",
    "\r\n",
    "### 1. 아나콘다 다운로드 및 설치 (가상환경 준비)\r\n",
    "\r\n",
    "### - 아나콘다 업데이트\r\n",
    "- $ conda update conda  : conda 프로그램만 업데이트\r\n",
    "- $ conda update anaconda : anaconda(conda의 GUI 버전)를 구성하는 패키지 업데이트\r\n",
    "- $ conda update --all : 위 아나콘다 업데이트와 동일\r\n",
    "\r\n",
    "### - 아나콘다가 지원하는 가상 환경\r\n",
    "- 가상환경 생성\r\n",
    "  - $ conda create --name 환경이름 설치할_패키지_목록\r\n",
    "\r\n",
    "- 환경 진입\r\n",
    "  - $ activate 환경이름\r\n",
    "  - $ conda activate 환경이름\r\n",
    "\r\n",
    "- 환경 나오기\r\n",
    "  - $ deactivate\r\n",
    "  - $ conda deactivate\r\n",
    "\r\n",
    "### - conda list\r\n",
    "\r\n",
    "### - 환경에 jupyter notebook & jupyter lab 설치\r\n",
    "- Anaconda에서 패키지 찾기: anaconda.org\r\n",
    "\r\n",
    "- $ conda install -c conda-forge -n playdata jupyterlab\r\n"
   ],
   "metadata": {}
  }
 ],
 "metadata": {
  "orig_nbformat": 4,
  "language_info": {
   "name": "python",
   "version": "3.9.5"
  },
  "kernelspec": {
   "name": "python3",
   "display_name": "Python 3.9.5 64-bit"
  },
  "interpreter": {
   "hash": "5d44725d55c3c25373c9cea7b363fe9d5696c3b23e8383192da0211bfba569d6"
  }
 },
 "nbformat": 4,
 "nbformat_minor": 2
}