{
 "cells": [
  {
   "cell_type": "markdown",
   "source": [
    "## Ch.3.2 유튜브 랭킹 데이터 수집과 시각화"
   ],
   "metadata": {}
  },
  {
   "cell_type": "code",
   "execution_count": 32,
   "source": [
    "from selenium import webdriver\r\n",
    "from bs4 import BeautifulSoup\r\n",
    "import time\r\n",
    "import pandas as pd\r\n",
    "\r\n",
    "browser = webdriver.Chrome()\r\n",
    "url = 'https://youtube-rank.com/board/bbs/board.php?bo_table=youtube'\r\n",
    "browser.get(url)\r\n",
    "\r\n",
    "soup = BeautifulSoup(browser.page_source, 'html.parser')"
   ],
   "outputs": [],
   "metadata": {}
  },
  {
   "cell_type": "code",
   "execution_count": 48,
   "source": [
    "channel_list = soup.select('form > table > tbody > tr')\r\n",
    "channel = channel_list[0]\r\n",
    "\r\n",
    "category = channel.select('p.category')[0].text.strip()\r\n",
    "title = channel.select('a')[0].text.strip()\r\n",
    "subscriber = channel.select('.subscriber_cnt')[0].text\r\n",
    "view = channel.select('.view_cnt')[0].text\r\n",
    "video = channel.select('.video_cnt')[0].text"
   ],
   "outputs": [],
   "metadata": {}
  },
  {
   "cell_type": "code",
   "execution_count": 53,
   "source": [
    "for channel in channel_list:\r\n",
    "    category = channel.select('p.category')[0].text.strip()\r\n",
    "    title = channel.select('h1 > a')[0].text.strip()\r\n",
    "    subscriber = channel.select('.subscriber_cnt')[0].text\r\n",
    "    view = channel.select('.view_cnt')[0].text\r\n",
    "    video = channel.select('.video_cnt')[0].text\r\n",
    "    print(category, title, subscriber, view, video)"
   ],
   "outputs": [
    {
     "output_type": "stream",
     "name": "stdout",
     "text": [
      "[음악/댄스/가수] BLACKPINK 6420만 190억9788만 371개\n",
      "[음악/댄스/가수] HYBE LABELS 6050만 188억2855만 656개\n",
      "[음악/댄스/가수] BANGTANTV 5670만 123억1572만 1,582개\n",
      "[음악/댄스/가수] SMTOWN 2860만 219억6449만 3,729개\n",
      "[키즈/어린이] Boram Tube Vlog [보람튜브 브이로그] 2650만 110억5288만 223개\n",
      "[음악/댄스/가수] 1MILLION Dance Studio 2420만 67억0781만 2,929개\n",
      "[음악/댄스/가수] 1theK (원더케이) 2330만 206억4367만 15,006개\n",
      "[음악/댄스/가수] JYP Entertainment 2170만 137억8091만 1,339개\n",
      "[미분류] Coldplay 1930만 127억9973만 280개\n",
      "[음악/댄스/가수] Mnet K-POP 1850만 130억3916만 25,618개\n",
      "[음악/댄스/가수] JFlaMusic 1720만 34억2666만 279개\n",
      "[TV/방송] KBS WORLD TV 1660만 123억9350만 52,450개\n",
      "[음악/댄스/가수] officialpsy 1510만 86억3926만 90개\n",
      "[음식/요리/레시피] Jane ASMR 제인 1420만 49억3799만 1,195개\n",
      "[음악/댄스/가수] BIGBANG 1380만 66억8826만 773개\n",
      "[음악/댄스/가수] TWICE 1150만 22억2158만 594개\n",
      "[키즈/어린이] Nao FunFun 1080만 393만 34개\n",
      "[음악/댄스/가수] Stone Music Entertainment 999만 78억8412만 7,947개\n",
      "[키즈/어린이] DuDuPopTOY 985만 43억7833만 1,754개\n",
      "[음식/요리/레시피] Hongyu ASMR 홍유 979만 27억0924만 387개\n",
      "[키즈/어린이] 핑크퐁 (인기 동요・동화) 948만 57억2598만 2,233개\n",
      "[TV/방송] MBCkpop 943만 73억7941만 40,723개\n",
      "[키즈/어린이] 서은이야기[SeoeunStory] 937만 40억0032만 1,003개\n",
      "[키즈/어린이] Larva TUBA 933만 40억5751만 2,879개\n",
      "[키즈/어린이] Toymong tv 토이몽TV 928만 38억3064만 1,837개\n",
      "[미분류] The Late Show with Stephen Colbert 860만 78억4506만 8,365개\n",
      "[뉴스/정치/사회] MBCentertainment 839만 143억5555만 85,522개\n",
      "[음악/댄스/가수] Mnet Official 835만 90억8531만 18,131개\n",
      "[음악/댄스/가수] iKON 832만 20억9684만 468개\n",
      "[음악/댄스/가수] EXO 829만 4억6794만 201개\n",
      "[미분류] WIRED 815만 26억2196만 3,223개\n",
      "[미분류] Nintendo 803만 27억3164만 5,151개\n",
      "[미분류] BBC Radio 1 760만 31억9948만 4,414개\n",
      "[TV/방송] M2 750만 55억4991만 14,284개\n",
      "[음식/요리/레시피] [햄지]Hamzy 749만 21억6546만 333개\n",
      "[키즈/어린이] MariAndKids 748만 22억8947만 808개\n",
      "[음악/댄스/가수] TOMORROW X TOGETHER OFFICIAL 745만 4억4513만 746개\n",
      "[키즈/어린이] SonicToy소닉토이 717만 29억3759만 164개\n",
      "[해외] Serie A 708만 23억9843만 20,529개\n",
      "[음악/댄스/가수] Stray Kids 700만 10억1216만 465개\n",
      "[음식/요리/레시피] Travel Thirsty 689만 29억0469만 678개\n",
      "[뉴스/정치/사회] JTBC Entertainment 685만 97억4196만 64,117개\n",
      "[음악/댄스/가수] SEVENTEEN 682만 21억2033만 875개\n",
      "[음악/댄스/가수] Sungha Jung 673만 18억7139만 1,264개\n",
      "[음악/댄스/가수] 이지금 [IU Official] 666만 9억2940만 125개\n",
      "[음식/요리/레시피] 문복희 Eat with Boki 651만 14억5863만 428개\n",
      "[음식/요리/레시피] 쏘영 Ssoyoung 639만 9억4010만 569개\n",
      "[음악/댄스/가수] ALL THE K-POP 639만 38억9208만 19,613개\n",
      "[음악/댄스/가수] YG ENTERTAINMENT 636만 16억3276만 389개\n",
      "[TV/방송] KBS Kpop 628만 47억3695만 29,134개\n",
      "[음악/댄스/가수] GOT7 605만 7억5464만 579개\n",
      "[음악/댄스/가수] MAMAMOO 605만 16억2127만 601개\n",
      "[패션/미용] PONY Syndrome 586만 3억5512만 189개\n",
      "[TV/방송] 스브스케이팝 / SBS KPOP 583만 38억7373만 25,889개\n",
      "[회사/오피셜] Samsung 579만 10억2134만 1,554개\n",
      "[TV/방송] tvN DRAMA 577만 55억1123만 35,008개\n",
      "[TV/방송] SBS Entertainment 573만 66억8878만 216,839개\n",
      "[키즈/어린이] 스위트티비 SweetTV 561만 26억5812만 503개\n",
      "[미분류] PSG - Paris Saint-Germain 557만 5억8555만 4,075개\n",
      "[음악/댄스/가수] ITZY 557만 9억6245만 423개\n",
      "[TV/방송] SBS Drama 550만 57억6891만 340,900개\n",
      "[키즈/어린이] [장난감티비]TOYTV 542만 26억3928만 1,467개\n",
      "[키즈/어린이] 미니특공대TV 539만 30억2791만 1,108개\n",
      "[음악/댄스/가수] 2NE1 530만 19억4756만 321개\n",
      "[키즈/어린이] 콩순이 • 시크릿 쥬쥬 [Kongsuni • Secret Jouju] 516만 44억8880만 1,239개\n",
      "[BJ/인물/연예인] [Awesome Haeun]어썸하은 515만 7억9857만 487개\n",
      "[음식/요리/레시피] 백종원의 요리비책 Paik's Cuisine 513만 5억2646만 336개\n",
      "[키즈/어린이] ToyMart TV 495만 21억4856만 651개\n",
      "[음식/요리/레시피] 야미보이 Yummyboy 491만 17억4357만 852개\n",
      "[음악/댄스/가수] starshipTV 480만 27억7786만 1,961개\n",
      "[키즈/어린이] 베이비버스 -인기 동요・동화 475만 31억7543만 1,284개\n",
      "[음악/댄스/가수] BT21 461만 3억6401만 193개\n",
      "[뉴스/정치/사회] SBS NOW / SBS 공식 채널 458만 45억4894만 19,877개\n",
      "[키즈/어린이] TOY GUMA 458만 15억1869만 306개\n",
      "[TV/방송] KBS Entertain 448만 70억7193만 100,072개\n",
      "[음식/요리/레시피] 떵개떵 447만 25억1140만 4,337개\n",
      "[음악/댄스/가수] ASTRO 아스트로 442만 4억1311만 434개\n",
      "[음악/댄스/가수] Red Velvet 438만 5억9464만 140개\n",
      "[키즈/어린이] 뽀로로(Pororo) 438만 58억8451만 3,600개\n",
      "[TV/방송] MBCdrama 433만 49억0705만 54,000개\n",
      "[음식/요리/레시피] 하루한끼 one meal a day 431만 4억1090만 162개\n",
      "[음악/댄스/가수] TREASURE (트레저) 428만 8억2923만 253개\n",
      "[음식/요리/레시피] 푸메Fume 425만 8억6105만 465개\n",
      "[TV/방송] 채널 NCT DAILY 420만 7억2647만 467개\n",
      "[키즈/어린이] 슈슈토이 Shushu ToysReview 420만 15억5703만 584개\n",
      "[음악/댄스/가수] Raon Lee 419만 9억1695만 295개\n",
      "[미분류] EA SPORTS FIFA 418만 7억9416만 792개\n",
      "[음악/댄스/가수] NCT 417만 2억7111만 221개\n",
      "[키즈/어린이] With Kids Playground [위드키즈 놀이터] 417만 15억7255만 400개\n",
      "[음식/요리/레시피] Cooking tree 쿠킹트리 417만 3억7951만 1,136개\n",
      "[음식/요리/레시피] [Dorothy]도로시 415만 9억8733만 905개\n",
      "[음식/요리/레시피] tzuyang쯔양 414만 5억1966만 239개\n",
      "[TV/방송] JTBC Drama 413만 42억1681만 22,579개\n",
      "[애완/반려동물] SBS TV동물농장x애니멀봐 413만 37억6254만 3,010개\n",
      "[BJ/인물/연예인] 영국남자 Korean Englishman 411만 13억4007만 432개\n",
      "[음식/요리/레시피] 까니짱 [ G-NI ] 409만 10억3859만 484개\n",
      "[키즈/어린이] 로미유 스토리[Romiyu Story] 408만 10억6711만 433개\n",
      "[음악/댄스/가수] NCT DREAM 391만 3억7615만 230개\n",
      "[취미/라이프] JaeYeol ASMR 재열 382만 10억2159만 973개\n",
      "[BJ/인물/연예인] 허팝Heopop 382만 31억5128만 1,852개\n"
     ]
    }
   ],
   "metadata": {}
  },
  {
   "cell_type": "code",
   "execution_count": 60,
   "source": [
    "results = []\r\n",
    "for page in range(1,11):\r\n",
    "    url = f\"https://youtube-rank.com/board/bbs/board.php?bo_table=youtube&page={page}\" \r\n",
    "    browser.get(url)\r\n",
    "    time.sleep(2)\r\n",
    "    html = browser.page_source\r\n",
    "    soup = BeautifulSoup(html, 'html.parser')\r\n",
    "    channel_list = soup.select('form > table > tbody > tr')\r\n",
    "    for channel in channel_list:\r\n",
    "        title = channel.select('h1 > a')[0].text.strip() \r\n",
    "        category = channel.select('p.category')[0].text.strip()\r\n",
    "        subscriber = channel.select('.subscriber_cnt')[0].text \r\n",
    "        view = channel.select('.view_cnt')[0].text\r\n",
    "        video = channel.select('.video_cnt')[0].text\r\n",
    "        data = [title, category, subscriber, view, video]\r\n",
    "        results.append(data)"
   ],
   "outputs": [],
   "metadata": {}
  },
  {
   "cell_type": "code",
   "execution_count": 61,
   "source": [
    "df = pd.DataFrame(results)\r\n",
    "df.columns = ['title', 'category', 'subscriber', 'view', 'video']\r\n",
    "df.to_excel('./Sample/youtube_rank.xlsx', index = False)"
   ],
   "outputs": [],
   "metadata": {}
  },
  {
   "cell_type": "markdown",
   "source": [
    "## 시각화 (Matplotlib)"
   ],
   "metadata": {}
  },
  {
   "cell_type": "code",
   "execution_count": null,
   "source": [
    "import pandas as pd\r\n",
    "import matplotlib.pyplot as plt"
   ],
   "outputs": [],
   "metadata": {}
  },
  {
   "cell_type": "code",
   "execution_count": null,
   "source": [],
   "outputs": [],
   "metadata": {}
  }
 ],
 "metadata": {
  "orig_nbformat": 4,
  "language_info": {
   "name": "python",
   "version": "3.9.5",
   "mimetype": "text/x-python",
   "codemirror_mode": {
    "name": "ipython",
    "version": 3
   },
   "pygments_lexer": "ipython3",
   "nbconvert_exporter": "python",
   "file_extension": ".py"
  },
  "kernelspec": {
   "name": "python3",
   "display_name": "Python 3.9.5 64-bit"
  },
  "interpreter": {
   "hash": "5d44725d55c3c25373c9cea7b363fe9d5696c3b23e8383192da0211bfba569d6"
  }
 },
 "nbformat": 4,
 "nbformat_minor": 2
}