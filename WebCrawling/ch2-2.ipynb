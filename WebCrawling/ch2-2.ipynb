{
 "cells": [
  {
   "cell_type": "markdown",
   "source": [
    "## Ch.2.2 웹크롤링 기초\r\n",
    "\r\n",
    "### 1. Selenium과 크롬 드라이버 설치"
   ],
   "metadata": {}
  },
  {
   "cell_type": "code",
   "execution_count": 9,
   "source": [
    "from selenium import webdriver\r\n",
    "\r\n",
    "\r\n",
    "driver = webdriver.Chrome()\r\n",
    "\r\n",
    "url = 'https://www.naver.com/'\r\n",
    "driver.get(url)\r\n",
    "\r\n",
    "html = driver.page_source"
   ],
   "outputs": [],
   "metadata": {}
  },
  {
   "cell_type": "code",
   "execution_count": 10,
   "source": [
    "html = '''\r\n",
    "<html>\r\n",
    "    <head>\r\n",
    "    </head>\r\n",
    "    <body>\r\n",
    "        <h1> 우리동네시장</h1>\r\n",
    "            <div class = 'sale'>\r\n",
    "                <p id='fruits1' class='fruits'>\r\n",
    "                    <span class = 'name'> 바나나 </span>\r\n",
    "                    <span class = 'price'> 3000원 </span>\r\n",
    "                    <span class = 'inventory'> 500개 </span>\r\n",
    "                    <span class = 'store'> 가나다상회 </span>\r\n",
    "                    <a href = 'http://bit.ly/forPlaywithData' > 홈페이지 </a>\r\n",
    "                </p>\r\n",
    "            </div>\r\n",
    "            <div class = 'prepare'>\r\n",
    "                <p id='fruits2' class='fruits'>\r\n",
    "                    <span class ='name'> 파인애플 </span>\r\n",
    "                </p>\r\n",
    "            </div>\r\n",
    "    </body>\r\n",
    "</html>\r\n",
    "'''"
   ],
   "outputs": [],
   "metadata": {}
  },
  {
   "cell_type": "code",
   "execution_count": 18,
   "source": [
    "from bs4 import BeautifulSoup\r\n",
    "\r\n",
    "soup = BeautifulSoup(html, 'html.parser') # html.parser가 성능이 맞지 않을 때, lxml 사용할 수 있음\r\n",
    "soup"
   ],
   "outputs": [
    {
     "output_type": "execute_result",
     "data": {
      "text/plain": [
       "\n",
       "<html>\n",
       "<head>\n",
       "</head>\n",
       "<body>\n",
       "<h1> 우리동네시장</h1>\n",
       "<div class=\"sale\">\n",
       "<p class=\"fruits\" id=\"fruits1\">\n",
       "<span class=\"name\"> 바나나 </span>\n",
       "<span class=\"price\"> 3000원 </span>\n",
       "<span class=\"inventory\"> 500개 </span>\n",
       "<span class=\"store\"> 가나다상회 </span>\n",
       "<a href=\"http://bit.ly/forPlaywithData\"> 홈페이지 </a>\n",
       "</p>\n",
       "</div>\n",
       "<div class=\"prepare\">\n",
       "<p class=\"fruits\" id=\"fruits2\">\n",
       "<span class=\"name\"> 파인애플 </span>\n",
       "</p>\n",
       "</div>\n",
       "</body>\n",
       "</html>"
      ]
     },
     "metadata": {},
     "execution_count": 18
    }
   ],
   "metadata": {}
  },
  {
   "cell_type": "markdown",
   "source": [
    "### 2. HTML 정보 찾기 - 태그 속성(attribute) 활용\r\n",
    "- 참고문서 : https://www.crummy.com/software/BeautifulSoup/bs4/doc/"
   ],
   "metadata": {}
  },
  {
   "cell_type": "code",
   "execution_count": 23,
   "source": [
    "tags_span = soup.select('span')\r\n",
    "tags_p = soup.select('p')\r\n",
    "print(tags_span)\r\n",
    "print(tags_p)\r\n",
    "print(type(tags_p)) # ResultSet (결과집합)"
   ],
   "outputs": [
    {
     "output_type": "stream",
     "name": "stdout",
     "text": [
      "[<span class=\"name\"> 바나나 </span>, <span class=\"price\"> 3000원 </span>, <span class=\"inventory\"> 500개 </span>, <span class=\"store\"> 가나다상회 </span>, <span class=\"name\"> 파인애플 </span>]\n",
      "[<p class=\"fruits\" id=\"fruits1\">\n",
      "<span class=\"name\"> 바나나 </span>\n",
      "<span class=\"price\"> 3000원 </span>\n",
      "<span class=\"inventory\"> 500개 </span>\n",
      "<span class=\"store\"> 가나다상회 </span>\n",
      "<a href=\"http://bit.ly/forPlaywithData\"> 홈페이지 </a>\n",
      "</p>, <p class=\"fruits\" id=\"fruits2\">\n",
      "<span class=\"name\"> 파인애플 </span>\n",
      "</p>]\n",
      "<class 'bs4.element.ResultSet'>\n"
     ]
    }
   ],
   "metadata": {}
  },
  {
   "cell_type": "code",
   "execution_count": 25,
   "source": [
    "# id (#) & class (.) 찾기\r\n",
    "ids_fruits1 = soup.select('#fruits1')\r\n",
    "print(ids_fruits1)\r\n",
    "\r\n",
    "class_price = soup.select('.price')\r\n",
    "print(class_price)"
   ],
   "outputs": [
    {
     "output_type": "stream",
     "name": "stdout",
     "text": [
      "[<p class=\"fruits\" id=\"fruits1\">\n",
      "<span class=\"name\"> 바나나 </span>\n",
      "<span class=\"price\"> 3000원 </span>\n",
      "<span class=\"inventory\"> 500개 </span>\n",
      "<span class=\"store\"> 가나다상회 </span>\n",
      "<a href=\"http://bit.ly/forPlaywithData\"> 홈페이지 </a>\n",
      "</p>]\n",
      "[<span class=\"price\"> 3000원 </span>]\n"
     ]
    }
   ],
   "metadata": {}
  },
  {
   "cell_type": "markdown",
   "source": [
    "### 3. HTML 정보 찾기 - 상위 구조 활용"
   ],
   "metadata": {}
  },
  {
   "cell_type": "code",
   "execution_count": 31,
   "source": [
    "# banana 만 찾기\r\n",
    "soup.select('#fruits1 > span.name')\r\n",
    "soup.select('div.sale > #fruits1 > span.name')"
   ],
   "outputs": [
    {
     "output_type": "execute_result",
     "data": {
      "text/plain": [
       "[<span class=\"name\"> 바나나 </span>]"
      ]
     },
     "metadata": {},
     "execution_count": 31
    }
   ],
   "metadata": {}
  },
  {
   "cell_type": "markdown",
   "source": [
    "### 4. HTML 정보 가져오기"
   ],
   "metadata": {}
  },
  {
   "cell_type": "code",
   "execution_count": 34,
   "source": [
    "# 태그 선택하기\r\n",
    "tags = soup.select('span.name')\r\n",
    "for tag in tags:\r\n",
    "    print(tag)"
   ],
   "outputs": [
    {
     "output_type": "stream",
     "name": "stdout",
     "text": [
      "<span class=\"name\"> 바나나 </span>\n",
      "<span class=\"name\"> 파인애플 </span>\n"
     ]
    }
   ],
   "metadata": {}
  },
  {
   "cell_type": "code",
   "execution_count": 41,
   "source": [
    "# 텍스트, 속성값 가져오기\r\n",
    "tags = soup.select('a')\r\n",
    "tag = tags[0]\r\n",
    "content = tag.text\r\n",
    "link = tag['href']\r\n",
    "\r\n",
    "print(\"text :\", content)\r\n",
    "print(\"link :\", link)"
   ],
   "outputs": [
    {
     "output_type": "stream",
     "name": "stdout",
     "text": [
      "text :  홈페이지 \n",
      "link : http://bit.ly/forPlaywithData\n"
     ]
    }
   ],
   "metadata": {}
  },
  {
   "cell_type": "markdown",
   "source": [
    "### 5. 멜론 노래 순위 정보 크롤링"
   ],
   "metadata": {}
  },
  {
   "cell_type": "code",
   "execution_count": 69,
   "source": [
    "from selenium import webdriver\r\n",
    "from bs4 import BeautifulSoup\r\n",
    "\r\n",
    "driver = webdriver.Chrome()\r\n",
    "\r\n",
    "url = 'https://www.melon.com/chart/index.htm'\r\n",
    "driver.get(url)\r\n",
    "\r\n",
    "soup = BeautifulSoup(driver.page_source, 'html.parser')"
   ],
   "outputs": [],
   "metadata": {}
  },
  {
   "cell_type": "code",
   "execution_count": 55,
   "source": [
    "songs = soup.select('tbody > tr')\r\n",
    "len(songs)"
   ],
   "outputs": [
    {
     "output_type": "execute_result",
     "data": {
      "text/plain": [
       "100"
      ]
     },
     "metadata": {},
     "execution_count": 55
    }
   ],
   "metadata": {}
  },
  {
   "cell_type": "code",
   "execution_count": 66,
   "source": [
    "song = songs[0]\r\n",
    "title = song.select('div.rank01 > span > a')[0].text\r\n",
    "singer = song.select('div.rank02 > span > a')[0].text\r\n",
    "print(title, singer)"
   ],
   "outputs": [
    {
     "output_type": "stream",
     "name": "stdout",
     "text": [
      "신호등 이무진\n"
     ]
    }
   ],
   "metadata": {}
  },
  {
   "cell_type": "code",
   "execution_count": 68,
   "source": [
    "for song in songs:\r\n",
    "    title = song.select('div.rank01 > span > a')[0].text\r\n",
    "    singer = song.select('div.rank02 > span > a')[0].text\r\n",
    "    print(title, ':', singer)"
   ],
   "outputs": [
    {
     "output_type": "stream",
     "name": "stdout",
     "text": [
      "신호등 : 이무진\n",
      "바라만 본다 : MSG워너비(M.O.M)\n",
      "낙하 (with 아이유) : AKMU (악뮤)\n",
      "Next Level : aespa\n",
      "Permission to Dance : 방탄소년단\n",
      "Weekend : 태연 (TAEYEON)\n",
      "Butter : 방탄소년단\n",
      "Queendom : Red Velvet (레드벨벳)\n",
      "STAY : The Kid LAROI\n",
      "좋아좋아 : 조정석\n",
      "OHAYO MY NIGHT : 디핵 (D-Hack)\n",
      "DUMB DUMB : 전소미\n",
      "헤픈 우연 : 헤이즈 (Heize)\n",
      "Peaches (Feat. Daniel Caesar & Giveon) : Justin Bieber\n",
      "비와 당신 : 이무진\n",
      "Dynamite : 방탄소년단\n",
      "Bad Habits : Ed Sheeran\n",
      "Dun Dun Dance : 오마이걸 (OH MY GIRL)\n",
      "이제 나만 믿어요 : 임영웅\n",
      "롤린 (Rollin') : 브레이브걸스\n",
      "비가 오는 날엔 (2021) : 헤이즈 (Heize)\n",
      "라일락 : 아이유\n",
      "치맛바람 (Chi Mat Ba Ram) : 브레이브걸스\n",
      "Celebrity : 아이유\n",
      "Alcohol-Free : TWICE (트와이스)\n",
      "안녕 (Hello) : 조이 (JOY)\n",
      "하루만 더 : 빅마마\n",
      "ASAP : STAYC(스테이씨)\n",
      "나를 아는 사람 : MSG워너비(정상동기)\n",
      "다정히 내 이름을 부르면 : 경서예지\n",
      "여전히 아름다운지 : 세븐틴\n",
      "별빛 같은 나의 사랑아 : 임영웅\n",
      "Savage Love (Laxed - Siren Beat) (BTS Remix) : Jawsh 685\n",
      "사이렌 Remix (Feat. UNEDUCATED KID, Paul Blanco) : 호미들\n",
      "운전만해 (We Ride) : 브레이브걸스\n",
      "작은 것들을 위한 시 (Boy With Luv) (Feat. Halsey) : 방탄소년단\n",
      "HERO : 임영웅\n",
      "그대라는 사치 : 임영웅\n",
      "내 손을 잡아 : 아이유\n",
      "가을 우체국 앞에서 : 김대명\n",
      "밝게 빛나는 별이 되어 비춰줄게 : 송이한\n",
      "상상더하기 : 라붐 (LABOUM)\n",
      "다시 사랑한다면 (김필 Ver.) : 임영웅\n",
      "Timeless : SG 워너비\n",
      "비 오는 날 듣기 좋은 노래 (Feat. Colde) : 에픽하이 (EPIK HIGH)\n",
      "끝사랑 : 임영웅\n",
      "멜로디 : ASH ISLAND\n",
      "봄날 : 방탄소년단\n",
      "Bk Love : 임영웅\n",
      "Life Goes On : 방탄소년단\n",
      "밤하늘의 별을(2020) : 경서\n",
      "잊었니 : 임영웅\n",
      "사진을 보다가 : 다비치\n",
      "상상더하기 : MSG워너비 TOP 8 (별루지, 김정수, 강창모, 정기석, 이동휘, 이상이, 박재정, 원슈타인)\n",
      "Lovesick Girls : BLACKPINK\n",
      "어떻게 이별까지 사랑하겠어, 널 사랑하는 거지 : AKMU (악뮤)\n",
      "Off My Face : Justin Bieber\n",
      "술버릇 (운전만해 그후) : 브레이브걸스\n",
      "미워요 : 임영웅\n",
      "아로하 : 조정석\n",
      "추억은 만남보다 이별에 남아 : 정동하\n",
      "계단말고 엘리베이터 : 임영웅\n",
      "사랑의 아픔 딛고 : 임영웅\n",
      "어푸 (Ah puh) : 아이유\n",
      "잠이 오질 않네요 : 장범준\n",
      "Blueming : 아이유\n",
      "Dolphin : 오마이걸 (OH MY GIRL)\n",
      "슈퍼스타 : 미도와 파라솔\n",
      "에잇(Prod.&Feat. SUGA of BTS) : 아이유\n",
      "고백 : 10CM\n",
      "이젠 잊기로 해요 (Drama Ver.) : 미도와 파라솔\n",
      "라라라 : SG 워너비\n",
      "취기를 빌려 (취향저격 그녀 X 산들) : 산들\n",
      "LOVE DAY (2021) (바른연애 길잡이 X 양요섭, 정은지) : 양요섭\n",
      "그날에 나는 맘이 편했을까 : 이예준\n",
      "2002 : Anne-Marie\n",
      "목로주점 : 임영웅\n",
      "회상 : 정경호\n",
      "모든 날, 모든 순간 (Every day, Every Moment) : 폴킴\n",
      "넌 좋은 사람 : SG 워너비\n",
      "흔들리는 꽃들 속에서 네 샴푸향이 느껴진거야 : 장범준\n",
      "12:45 (Stripped) : Etham\n",
      "METEOR : 창모 (CHANGMO)\n",
      "허리춤 : 오반 (OVAN)\n",
      "오래된 노래 : 스탠딩 에그\n",
      "나랑 같이 걸을래 (바른연애 길잡이 X 적재) : 적재\n",
      "너의 번호를 누르고 (Prod. 영화처럼) : #안녕\n",
      "Coin : 아이유\n",
      "VVS (Feat. JUSTHIS) (Prod. GroovyRoom) : 미란이 (Mirani)\n",
      "오늘도 빛나는 너에게 (To You My Light) (Feat.이라온) : 마크툽 (MAKTUB)\n",
      "On The Ground : 로제 (ROSÉ)\n",
      "어떻게 지내 (Prod. By VAN.C) : 오반 (OVAN)\n",
      "Memories : Maroon 5\n",
      "제자리 걸음 : V.O.S\n",
      "나는 너 좋아 : 장범준\n",
      "사실 나는 (Feat.전건호) : 경서예지\n",
      "LO$ER=LO♡ER : 투모로우바이투게더\n",
      "고백 : 장범준\n",
      "내사람 : SG 워너비\n",
      "너에게 : 유연석\n"
     ]
    }
   ],
   "metadata": {}
  }
 ],
 "metadata": {
  "orig_nbformat": 4,
  "language_info": {
   "name": "python",
   "version": "3.9.5",
   "mimetype": "text/x-python",
   "codemirror_mode": {
    "name": "ipython",
    "version": 3
   },
   "pygments_lexer": "ipython3",
   "nbconvert_exporter": "python",
   "file_extension": ".py"
  },
  "kernelspec": {
   "name": "python3",
   "display_name": "Python 3.9.5 64-bit"
  },
  "interpreter": {
   "hash": "5d44725d55c3c25373c9cea7b363fe9d5696c3b23e8383192da0211bfba569d6"
  }
 },
 "nbformat": 4,
 "nbformat_minor": 2
}