{
 "cells": [
  {
   "cell_type": "code",
   "execution_count": 1,
   "source": [
    "import numpy as np\r\n",
    "import pandas as pd"
   ],
   "outputs": [],
   "metadata": {}
  },
  {
   "cell_type": "code",
   "execution_count": 2,
   "source": [
    "s = pd.Series([1, 3, 5, np.nan, 6, 8])\r\n",
    "s"
   ],
   "outputs": [
    {
     "output_type": "execute_result",
     "data": {
      "text/plain": [
       "0    1.0\n",
       "1    3.0\n",
       "2    5.0\n",
       "3    NaN\n",
       "4    6.0\n",
       "5    8.0\n",
       "dtype: float64"
      ]
     },
     "metadata": {},
     "execution_count": 2
    }
   ],
   "metadata": {}
  },
  {
   "cell_type": "code",
   "execution_count": 4,
   "source": [
    "dates = pd.date_range('20210824', periods=6)\r\n",
    "dates"
   ],
   "outputs": [
    {
     "output_type": "execute_result",
     "data": {
      "text/plain": [
       "DatetimeIndex(['2021-08-24', '2021-08-25', '2021-08-26', '2021-08-27',\n",
       "               '2021-08-28', '2021-08-29'],\n",
       "              dtype='datetime64[ns]', freq='D')"
      ]
     },
     "metadata": {},
     "execution_count": 4
    }
   ],
   "metadata": {}
  },
  {
   "cell_type": "code",
   "execution_count": 5,
   "source": [
    "df = pd.DataFrame(np.random.randn(6, 4), index=dates, columns=list('ABCD'))\r\n",
    "df"
   ],
   "outputs": [
    {
     "output_type": "execute_result",
     "data": {
      "text/plain": [
       "                   A         B         C         D\n",
       "2021-08-24  0.735292  2.028247  1.183924  0.431805\n",
       "2021-08-25 -0.462085 -0.377598  0.624194 -0.263522\n",
       "2021-08-26  1.338015 -0.291916 -0.855423 -1.611366\n",
       "2021-08-27  2.071388 -0.982899  1.275743  0.571827\n",
       "2021-08-28 -0.275111 -0.523806 -0.567789 -0.543647\n",
       "2021-08-29 -0.231374 -2.545185 -0.763348 -0.119575"
      ],
      "text/html": [
       "<div>\n",
       "<style scoped>\n",
       "    .dataframe tbody tr th:only-of-type {\n",
       "        vertical-align: middle;\n",
       "    }\n",
       "\n",
       "    .dataframe tbody tr th {\n",
       "        vertical-align: top;\n",
       "    }\n",
       "\n",
       "    .dataframe thead th {\n",
       "        text-align: right;\n",
       "    }\n",
       "</style>\n",
       "<table border=\"1\" class=\"dataframe\">\n",
       "  <thead>\n",
       "    <tr style=\"text-align: right;\">\n",
       "      <th></th>\n",
       "      <th>A</th>\n",
       "      <th>B</th>\n",
       "      <th>C</th>\n",
       "      <th>D</th>\n",
       "    </tr>\n",
       "  </thead>\n",
       "  <tbody>\n",
       "    <tr>\n",
       "      <th>2021-08-24</th>\n",
       "      <td>0.735292</td>\n",
       "      <td>2.028247</td>\n",
       "      <td>1.183924</td>\n",
       "      <td>0.431805</td>\n",
       "    </tr>\n",
       "    <tr>\n",
       "      <th>2021-08-25</th>\n",
       "      <td>-0.462085</td>\n",
       "      <td>-0.377598</td>\n",
       "      <td>0.624194</td>\n",
       "      <td>-0.263522</td>\n",
       "    </tr>\n",
       "    <tr>\n",
       "      <th>2021-08-26</th>\n",
       "      <td>1.338015</td>\n",
       "      <td>-0.291916</td>\n",
       "      <td>-0.855423</td>\n",
       "      <td>-1.611366</td>\n",
       "    </tr>\n",
       "    <tr>\n",
       "      <th>2021-08-27</th>\n",
       "      <td>2.071388</td>\n",
       "      <td>-0.982899</td>\n",
       "      <td>1.275743</td>\n",
       "      <td>0.571827</td>\n",
       "    </tr>\n",
       "    <tr>\n",
       "      <th>2021-08-28</th>\n",
       "      <td>-0.275111</td>\n",
       "      <td>-0.523806</td>\n",
       "      <td>-0.567789</td>\n",
       "      <td>-0.543647</td>\n",
       "    </tr>\n",
       "    <tr>\n",
       "      <th>2021-08-29</th>\n",
       "      <td>-0.231374</td>\n",
       "      <td>-2.545185</td>\n",
       "      <td>-0.763348</td>\n",
       "      <td>-0.119575</td>\n",
       "    </tr>\n",
       "  </tbody>\n",
       "</table>\n",
       "</div>"
      ]
     },
     "metadata": {},
     "execution_count": 5
    }
   ],
   "metadata": {}
  },
  {
   "cell_type": "code",
   "execution_count": 7,
   "source": [
    "df2 = pd.DataFrame(\r\n",
    "    {\r\n",
    "        'A' : 1.0,\r\n",
    "        'B' : pd.Timestamp('20210824'),\r\n",
    "        'C' : pd.Series(1, index=list(range(4)), dtype='float32'),\r\n",
    "        'D' : np.array([3] * 4, dtype='int32'),\r\n",
    "        'E' : pd.Categorical(['test', 'train', 'test', 'train']),\r\n",
    "        'F' : 'foo',\r\n",
    "    }\r\n",
    ")\r\n",
    "df2"
   ],
   "outputs": [
    {
     "output_type": "execute_result",
     "data": {
      "text/plain": [
       "     A          B    C  D      E    F\n",
       "0  1.0 2021-08-24  1.0  3   test  foo\n",
       "1  1.0 2021-08-24  1.0  3  train  foo\n",
       "2  1.0 2021-08-24  1.0  3   test  foo\n",
       "3  1.0 2021-08-24  1.0  3  train  foo"
      ],
      "text/html": [
       "<div>\n",
       "<style scoped>\n",
       "    .dataframe tbody tr th:only-of-type {\n",
       "        vertical-align: middle;\n",
       "    }\n",
       "\n",
       "    .dataframe tbody tr th {\n",
       "        vertical-align: top;\n",
       "    }\n",
       "\n",
       "    .dataframe thead th {\n",
       "        text-align: right;\n",
       "    }\n",
       "</style>\n",
       "<table border=\"1\" class=\"dataframe\">\n",
       "  <thead>\n",
       "    <tr style=\"text-align: right;\">\n",
       "      <th></th>\n",
       "      <th>A</th>\n",
       "      <th>B</th>\n",
       "      <th>C</th>\n",
       "      <th>D</th>\n",
       "      <th>E</th>\n",
       "      <th>F</th>\n",
       "    </tr>\n",
       "  </thead>\n",
       "  <tbody>\n",
       "    <tr>\n",
       "      <th>0</th>\n",
       "      <td>1.0</td>\n",
       "      <td>2021-08-24</td>\n",
       "      <td>1.0</td>\n",
       "      <td>3</td>\n",
       "      <td>test</td>\n",
       "      <td>foo</td>\n",
       "    </tr>\n",
       "    <tr>\n",
       "      <th>1</th>\n",
       "      <td>1.0</td>\n",
       "      <td>2021-08-24</td>\n",
       "      <td>1.0</td>\n",
       "      <td>3</td>\n",
       "      <td>train</td>\n",
       "      <td>foo</td>\n",
       "    </tr>\n",
       "    <tr>\n",
       "      <th>2</th>\n",
       "      <td>1.0</td>\n",
       "      <td>2021-08-24</td>\n",
       "      <td>1.0</td>\n",
       "      <td>3</td>\n",
       "      <td>test</td>\n",
       "      <td>foo</td>\n",
       "    </tr>\n",
       "    <tr>\n",
       "      <th>3</th>\n",
       "      <td>1.0</td>\n",
       "      <td>2021-08-24</td>\n",
       "      <td>1.0</td>\n",
       "      <td>3</td>\n",
       "      <td>train</td>\n",
       "      <td>foo</td>\n",
       "    </tr>\n",
       "  </tbody>\n",
       "</table>\n",
       "</div>"
      ]
     },
     "metadata": {},
     "execution_count": 7
    }
   ],
   "metadata": {}
  },
  {
   "cell_type": "code",
   "execution_count": 8,
   "source": [
    "df2.dtypes"
   ],
   "outputs": [
    {
     "output_type": "execute_result",
     "data": {
      "text/plain": [
       "A           float64\n",
       "B    datetime64[ns]\n",
       "C           float32\n",
       "D             int32\n",
       "E          category\n",
       "F            object\n",
       "dtype: object"
      ]
     },
     "metadata": {},
     "execution_count": 8
    }
   ],
   "metadata": {}
  },
  {
   "cell_type": "code",
   "execution_count": 9,
   "source": [
    "df.to_numpy()"
   ],
   "outputs": [
    {
     "output_type": "execute_result",
     "data": {
      "text/plain": [
       "array([[ 0.73529185,  2.02824671,  1.18392412,  0.43180492],\n",
       "       [-0.46208491, -0.3775984 ,  0.62419386, -0.26352243],\n",
       "       [ 1.33801518, -0.29191589, -0.85542303, -1.61136633],\n",
       "       [ 2.07138829, -0.98289874,  1.27574323,  0.57182688],\n",
       "       [-0.27511136, -0.52380605, -0.56778852, -0.54364668],\n",
       "       [-0.2313738 , -2.54518494, -0.76334847, -0.11957525]])"
      ]
     },
     "metadata": {},
     "execution_count": 9
    }
   ],
   "metadata": {}
  },
  {
   "cell_type": "code",
   "execution_count": 10,
   "source": [
    "df2.to_numpy()"
   ],
   "outputs": [
    {
     "output_type": "execute_result",
     "data": {
      "text/plain": [
       "array([[1.0, Timestamp('2021-08-24 00:00:00'), 1.0, 3, 'test', 'foo'],\n",
       "       [1.0, Timestamp('2021-08-24 00:00:00'), 1.0, 3, 'train', 'foo'],\n",
       "       [1.0, Timestamp('2021-08-24 00:00:00'), 1.0, 3, 'test', 'foo'],\n",
       "       [1.0, Timestamp('2021-08-24 00:00:00'), 1.0, 3, 'train', 'foo']],\n",
       "      dtype=object)"
      ]
     },
     "metadata": {},
     "execution_count": 10
    }
   ],
   "metadata": {}
  },
  {
   "cell_type": "code",
   "execution_count": 12,
   "source": [
    "df.describe()"
   ],
   "outputs": [
    {
     "output_type": "execute_result",
     "data": {
      "text/plain": [
       "              A         B         C         D\n",
       "count  6.000000  6.000000  6.000000  6.000000\n",
       "mean   0.529354 -0.448860  0.149550 -0.255746\n",
       "std    1.027914  1.473171  0.992115  0.786994\n",
       "min   -0.462085 -2.545185 -0.855423 -1.611366\n",
       "25%   -0.264177 -0.868126 -0.714458 -0.473616\n",
       "50%    0.251959 -0.450702  0.028203 -0.191549\n",
       "75%    1.187334 -0.313337  1.043992  0.293960\n",
       "max    2.071388  2.028247  1.275743  0.571827"
      ],
      "text/html": [
       "<div>\n",
       "<style scoped>\n",
       "    .dataframe tbody tr th:only-of-type {\n",
       "        vertical-align: middle;\n",
       "    }\n",
       "\n",
       "    .dataframe tbody tr th {\n",
       "        vertical-align: top;\n",
       "    }\n",
       "\n",
       "    .dataframe thead th {\n",
       "        text-align: right;\n",
       "    }\n",
       "</style>\n",
       "<table border=\"1\" class=\"dataframe\">\n",
       "  <thead>\n",
       "    <tr style=\"text-align: right;\">\n",
       "      <th></th>\n",
       "      <th>A</th>\n",
       "      <th>B</th>\n",
       "      <th>C</th>\n",
       "      <th>D</th>\n",
       "    </tr>\n",
       "  </thead>\n",
       "  <tbody>\n",
       "    <tr>\n",
       "      <th>count</th>\n",
       "      <td>6.000000</td>\n",
       "      <td>6.000000</td>\n",
       "      <td>6.000000</td>\n",
       "      <td>6.000000</td>\n",
       "    </tr>\n",
       "    <tr>\n",
       "      <th>mean</th>\n",
       "      <td>0.529354</td>\n",
       "      <td>-0.448860</td>\n",
       "      <td>0.149550</td>\n",
       "      <td>-0.255746</td>\n",
       "    </tr>\n",
       "    <tr>\n",
       "      <th>std</th>\n",
       "      <td>1.027914</td>\n",
       "      <td>1.473171</td>\n",
       "      <td>0.992115</td>\n",
       "      <td>0.786994</td>\n",
       "    </tr>\n",
       "    <tr>\n",
       "      <th>min</th>\n",
       "      <td>-0.462085</td>\n",
       "      <td>-2.545185</td>\n",
       "      <td>-0.855423</td>\n",
       "      <td>-1.611366</td>\n",
       "    </tr>\n",
       "    <tr>\n",
       "      <th>25%</th>\n",
       "      <td>-0.264177</td>\n",
       "      <td>-0.868126</td>\n",
       "      <td>-0.714458</td>\n",
       "      <td>-0.473616</td>\n",
       "    </tr>\n",
       "    <tr>\n",
       "      <th>50%</th>\n",
       "      <td>0.251959</td>\n",
       "      <td>-0.450702</td>\n",
       "      <td>0.028203</td>\n",
       "      <td>-0.191549</td>\n",
       "    </tr>\n",
       "    <tr>\n",
       "      <th>75%</th>\n",
       "      <td>1.187334</td>\n",
       "      <td>-0.313337</td>\n",
       "      <td>1.043992</td>\n",
       "      <td>0.293960</td>\n",
       "    </tr>\n",
       "    <tr>\n",
       "      <th>max</th>\n",
       "      <td>2.071388</td>\n",
       "      <td>2.028247</td>\n",
       "      <td>1.275743</td>\n",
       "      <td>0.571827</td>\n",
       "    </tr>\n",
       "  </tbody>\n",
       "</table>\n",
       "</div>"
      ]
     },
     "metadata": {},
     "execution_count": 12
    }
   ],
   "metadata": {}
  },
  {
   "cell_type": "code",
   "execution_count": 13,
   "source": [
    "df.T"
   ],
   "outputs": [
    {
     "output_type": "execute_result",
     "data": {
      "text/plain": [
       "   2021-08-24  2021-08-25  2021-08-26  2021-08-27  2021-08-28  2021-08-29\n",
       "A    0.735292   -0.462085    1.338015    2.071388   -0.275111   -0.231374\n",
       "B    2.028247   -0.377598   -0.291916   -0.982899   -0.523806   -2.545185\n",
       "C    1.183924    0.624194   -0.855423    1.275743   -0.567789   -0.763348\n",
       "D    0.431805   -0.263522   -1.611366    0.571827   -0.543647   -0.119575"
      ],
      "text/html": [
       "<div>\n",
       "<style scoped>\n",
       "    .dataframe tbody tr th:only-of-type {\n",
       "        vertical-align: middle;\n",
       "    }\n",
       "\n",
       "    .dataframe tbody tr th {\n",
       "        vertical-align: top;\n",
       "    }\n",
       "\n",
       "    .dataframe thead th {\n",
       "        text-align: right;\n",
       "    }\n",
       "</style>\n",
       "<table border=\"1\" class=\"dataframe\">\n",
       "  <thead>\n",
       "    <tr style=\"text-align: right;\">\n",
       "      <th></th>\n",
       "      <th>2021-08-24</th>\n",
       "      <th>2021-08-25</th>\n",
       "      <th>2021-08-26</th>\n",
       "      <th>2021-08-27</th>\n",
       "      <th>2021-08-28</th>\n",
       "      <th>2021-08-29</th>\n",
       "    </tr>\n",
       "  </thead>\n",
       "  <tbody>\n",
       "    <tr>\n",
       "      <th>A</th>\n",
       "      <td>0.735292</td>\n",
       "      <td>-0.462085</td>\n",
       "      <td>1.338015</td>\n",
       "      <td>2.071388</td>\n",
       "      <td>-0.275111</td>\n",
       "      <td>-0.231374</td>\n",
       "    </tr>\n",
       "    <tr>\n",
       "      <th>B</th>\n",
       "      <td>2.028247</td>\n",
       "      <td>-0.377598</td>\n",
       "      <td>-0.291916</td>\n",
       "      <td>-0.982899</td>\n",
       "      <td>-0.523806</td>\n",
       "      <td>-2.545185</td>\n",
       "    </tr>\n",
       "    <tr>\n",
       "      <th>C</th>\n",
       "      <td>1.183924</td>\n",
       "      <td>0.624194</td>\n",
       "      <td>-0.855423</td>\n",
       "      <td>1.275743</td>\n",
       "      <td>-0.567789</td>\n",
       "      <td>-0.763348</td>\n",
       "    </tr>\n",
       "    <tr>\n",
       "      <th>D</th>\n",
       "      <td>0.431805</td>\n",
       "      <td>-0.263522</td>\n",
       "      <td>-1.611366</td>\n",
       "      <td>0.571827</td>\n",
       "      <td>-0.543647</td>\n",
       "      <td>-0.119575</td>\n",
       "    </tr>\n",
       "  </tbody>\n",
       "</table>\n",
       "</div>"
      ]
     },
     "metadata": {},
     "execution_count": 13
    }
   ],
   "metadata": {}
  },
  {
   "cell_type": "code",
   "execution_count": 14,
   "source": [
    "df.sort_index(axis=1, ascending=False)"
   ],
   "outputs": [
    {
     "output_type": "execute_result",
     "data": {
      "text/plain": [
       "                   D         C         B         A\n",
       "2021-08-24  0.431805  1.183924  2.028247  0.735292\n",
       "2021-08-25 -0.263522  0.624194 -0.377598 -0.462085\n",
       "2021-08-26 -1.611366 -0.855423 -0.291916  1.338015\n",
       "2021-08-27  0.571827  1.275743 -0.982899  2.071388\n",
       "2021-08-28 -0.543647 -0.567789 -0.523806 -0.275111\n",
       "2021-08-29 -0.119575 -0.763348 -2.545185 -0.231374"
      ],
      "text/html": [
       "<div>\n",
       "<style scoped>\n",
       "    .dataframe tbody tr th:only-of-type {\n",
       "        vertical-align: middle;\n",
       "    }\n",
       "\n",
       "    .dataframe tbody tr th {\n",
       "        vertical-align: top;\n",
       "    }\n",
       "\n",
       "    .dataframe thead th {\n",
       "        text-align: right;\n",
       "    }\n",
       "</style>\n",
       "<table border=\"1\" class=\"dataframe\">\n",
       "  <thead>\n",
       "    <tr style=\"text-align: right;\">\n",
       "      <th></th>\n",
       "      <th>D</th>\n",
       "      <th>C</th>\n",
       "      <th>B</th>\n",
       "      <th>A</th>\n",
       "    </tr>\n",
       "  </thead>\n",
       "  <tbody>\n",
       "    <tr>\n",
       "      <th>2021-08-24</th>\n",
       "      <td>0.431805</td>\n",
       "      <td>1.183924</td>\n",
       "      <td>2.028247</td>\n",
       "      <td>0.735292</td>\n",
       "    </tr>\n",
       "    <tr>\n",
       "      <th>2021-08-25</th>\n",
       "      <td>-0.263522</td>\n",
       "      <td>0.624194</td>\n",
       "      <td>-0.377598</td>\n",
       "      <td>-0.462085</td>\n",
       "    </tr>\n",
       "    <tr>\n",
       "      <th>2021-08-26</th>\n",
       "      <td>-1.611366</td>\n",
       "      <td>-0.855423</td>\n",
       "      <td>-0.291916</td>\n",
       "      <td>1.338015</td>\n",
       "    </tr>\n",
       "    <tr>\n",
       "      <th>2021-08-27</th>\n",
       "      <td>0.571827</td>\n",
       "      <td>1.275743</td>\n",
       "      <td>-0.982899</td>\n",
       "      <td>2.071388</td>\n",
       "    </tr>\n",
       "    <tr>\n",
       "      <th>2021-08-28</th>\n",
       "      <td>-0.543647</td>\n",
       "      <td>-0.567789</td>\n",
       "      <td>-0.523806</td>\n",
       "      <td>-0.275111</td>\n",
       "    </tr>\n",
       "    <tr>\n",
       "      <th>2021-08-29</th>\n",
       "      <td>-0.119575</td>\n",
       "      <td>-0.763348</td>\n",
       "      <td>-2.545185</td>\n",
       "      <td>-0.231374</td>\n",
       "    </tr>\n",
       "  </tbody>\n",
       "</table>\n",
       "</div>"
      ]
     },
     "metadata": {},
     "execution_count": 14
    }
   ],
   "metadata": {}
  },
  {
   "cell_type": "code",
   "execution_count": 16,
   "source": [
    "df.sort_values(by='B')"
   ],
   "outputs": [
    {
     "output_type": "execute_result",
     "data": {
      "text/plain": [
       "                   A         B         C         D\n",
       "2021-08-29 -0.231374 -2.545185 -0.763348 -0.119575\n",
       "2021-08-27  2.071388 -0.982899  1.275743  0.571827\n",
       "2021-08-28 -0.275111 -0.523806 -0.567789 -0.543647\n",
       "2021-08-25 -0.462085 -0.377598  0.624194 -0.263522\n",
       "2021-08-26  1.338015 -0.291916 -0.855423 -1.611366\n",
       "2021-08-24  0.735292  2.028247  1.183924  0.431805"
      ],
      "text/html": [
       "<div>\n",
       "<style scoped>\n",
       "    .dataframe tbody tr th:only-of-type {\n",
       "        vertical-align: middle;\n",
       "    }\n",
       "\n",
       "    .dataframe tbody tr th {\n",
       "        vertical-align: top;\n",
       "    }\n",
       "\n",
       "    .dataframe thead th {\n",
       "        text-align: right;\n",
       "    }\n",
       "</style>\n",
       "<table border=\"1\" class=\"dataframe\">\n",
       "  <thead>\n",
       "    <tr style=\"text-align: right;\">\n",
       "      <th></th>\n",
       "      <th>A</th>\n",
       "      <th>B</th>\n",
       "      <th>C</th>\n",
       "      <th>D</th>\n",
       "    </tr>\n",
       "  </thead>\n",
       "  <tbody>\n",
       "    <tr>\n",
       "      <th>2021-08-29</th>\n",
       "      <td>-0.231374</td>\n",
       "      <td>-2.545185</td>\n",
       "      <td>-0.763348</td>\n",
       "      <td>-0.119575</td>\n",
       "    </tr>\n",
       "    <tr>\n",
       "      <th>2021-08-27</th>\n",
       "      <td>2.071388</td>\n",
       "      <td>-0.982899</td>\n",
       "      <td>1.275743</td>\n",
       "      <td>0.571827</td>\n",
       "    </tr>\n",
       "    <tr>\n",
       "      <th>2021-08-28</th>\n",
       "      <td>-0.275111</td>\n",
       "      <td>-0.523806</td>\n",
       "      <td>-0.567789</td>\n",
       "      <td>-0.543647</td>\n",
       "    </tr>\n",
       "    <tr>\n",
       "      <th>2021-08-25</th>\n",
       "      <td>-0.462085</td>\n",
       "      <td>-0.377598</td>\n",
       "      <td>0.624194</td>\n",
       "      <td>-0.263522</td>\n",
       "    </tr>\n",
       "    <tr>\n",
       "      <th>2021-08-26</th>\n",
       "      <td>1.338015</td>\n",
       "      <td>-0.291916</td>\n",
       "      <td>-0.855423</td>\n",
       "      <td>-1.611366</td>\n",
       "    </tr>\n",
       "    <tr>\n",
       "      <th>2021-08-24</th>\n",
       "      <td>0.735292</td>\n",
       "      <td>2.028247</td>\n",
       "      <td>1.183924</td>\n",
       "      <td>0.431805</td>\n",
       "    </tr>\n",
       "  </tbody>\n",
       "</table>\n",
       "</div>"
      ]
     },
     "metadata": {},
     "execution_count": 16
    }
   ],
   "metadata": {}
  },
  {
   "cell_type": "code",
   "execution_count": 17,
   "source": [
    "df['A']"
   ],
   "outputs": [
    {
     "output_type": "execute_result",
     "data": {
      "text/plain": [
       "2021-08-24    0.735292\n",
       "2021-08-25   -0.462085\n",
       "2021-08-26    1.338015\n",
       "2021-08-27    2.071388\n",
       "2021-08-28   -0.275111\n",
       "2021-08-29   -0.231374\n",
       "Freq: D, Name: A, dtype: float64"
      ]
     },
     "metadata": {},
     "execution_count": 17
    }
   ],
   "metadata": {}
  },
  {
   "cell_type": "code",
   "execution_count": 19,
   "source": [
    "df[0:3]"
   ],
   "outputs": [
    {
     "output_type": "execute_result",
     "data": {
      "text/plain": [
       "                   A         B         C         D\n",
       "2021-08-24  0.735292  2.028247  1.183924  0.431805\n",
       "2021-08-25 -0.462085 -0.377598  0.624194 -0.263522\n",
       "2021-08-26  1.338015 -0.291916 -0.855423 -1.611366"
      ],
      "text/html": [
       "<div>\n",
       "<style scoped>\n",
       "    .dataframe tbody tr th:only-of-type {\n",
       "        vertical-align: middle;\n",
       "    }\n",
       "\n",
       "    .dataframe tbody tr th {\n",
       "        vertical-align: top;\n",
       "    }\n",
       "\n",
       "    .dataframe thead th {\n",
       "        text-align: right;\n",
       "    }\n",
       "</style>\n",
       "<table border=\"1\" class=\"dataframe\">\n",
       "  <thead>\n",
       "    <tr style=\"text-align: right;\">\n",
       "      <th></th>\n",
       "      <th>A</th>\n",
       "      <th>B</th>\n",
       "      <th>C</th>\n",
       "      <th>D</th>\n",
       "    </tr>\n",
       "  </thead>\n",
       "  <tbody>\n",
       "    <tr>\n",
       "      <th>2021-08-24</th>\n",
       "      <td>0.735292</td>\n",
       "      <td>2.028247</td>\n",
       "      <td>1.183924</td>\n",
       "      <td>0.431805</td>\n",
       "    </tr>\n",
       "    <tr>\n",
       "      <th>2021-08-25</th>\n",
       "      <td>-0.462085</td>\n",
       "      <td>-0.377598</td>\n",
       "      <td>0.624194</td>\n",
       "      <td>-0.263522</td>\n",
       "    </tr>\n",
       "    <tr>\n",
       "      <th>2021-08-26</th>\n",
       "      <td>1.338015</td>\n",
       "      <td>-0.291916</td>\n",
       "      <td>-0.855423</td>\n",
       "      <td>-1.611366</td>\n",
       "    </tr>\n",
       "  </tbody>\n",
       "</table>\n",
       "</div>"
      ]
     },
     "metadata": {},
     "execution_count": 19
    }
   ],
   "metadata": {}
  },
  {
   "cell_type": "code",
   "execution_count": 20,
   "source": [
    "df['20210824':'20210827']"
   ],
   "outputs": [
    {
     "output_type": "execute_result",
     "data": {
      "text/plain": [
       "                   A         B         C         D\n",
       "2021-08-24  0.735292  2.028247  1.183924  0.431805\n",
       "2021-08-25 -0.462085 -0.377598  0.624194 -0.263522\n",
       "2021-08-26  1.338015 -0.291916 -0.855423 -1.611366\n",
       "2021-08-27  2.071388 -0.982899  1.275743  0.571827"
      ],
      "text/html": [
       "<div>\n",
       "<style scoped>\n",
       "    .dataframe tbody tr th:only-of-type {\n",
       "        vertical-align: middle;\n",
       "    }\n",
       "\n",
       "    .dataframe tbody tr th {\n",
       "        vertical-align: top;\n",
       "    }\n",
       "\n",
       "    .dataframe thead th {\n",
       "        text-align: right;\n",
       "    }\n",
       "</style>\n",
       "<table border=\"1\" class=\"dataframe\">\n",
       "  <thead>\n",
       "    <tr style=\"text-align: right;\">\n",
       "      <th></th>\n",
       "      <th>A</th>\n",
       "      <th>B</th>\n",
       "      <th>C</th>\n",
       "      <th>D</th>\n",
       "    </tr>\n",
       "  </thead>\n",
       "  <tbody>\n",
       "    <tr>\n",
       "      <th>2021-08-24</th>\n",
       "      <td>0.735292</td>\n",
       "      <td>2.028247</td>\n",
       "      <td>1.183924</td>\n",
       "      <td>0.431805</td>\n",
       "    </tr>\n",
       "    <tr>\n",
       "      <th>2021-08-25</th>\n",
       "      <td>-0.462085</td>\n",
       "      <td>-0.377598</td>\n",
       "      <td>0.624194</td>\n",
       "      <td>-0.263522</td>\n",
       "    </tr>\n",
       "    <tr>\n",
       "      <th>2021-08-26</th>\n",
       "      <td>1.338015</td>\n",
       "      <td>-0.291916</td>\n",
       "      <td>-0.855423</td>\n",
       "      <td>-1.611366</td>\n",
       "    </tr>\n",
       "    <tr>\n",
       "      <th>2021-08-27</th>\n",
       "      <td>2.071388</td>\n",
       "      <td>-0.982899</td>\n",
       "      <td>1.275743</td>\n",
       "      <td>0.571827</td>\n",
       "    </tr>\n",
       "  </tbody>\n",
       "</table>\n",
       "</div>"
      ]
     },
     "metadata": {},
     "execution_count": 20
    }
   ],
   "metadata": {}
  },
  {
   "cell_type": "code",
   "execution_count": 21,
   "source": [
    "df.loc[dates[0]]"
   ],
   "outputs": [
    {
     "output_type": "execute_result",
     "data": {
      "text/plain": [
       "A    0.735292\n",
       "B    2.028247\n",
       "C    1.183924\n",
       "D    0.431805\n",
       "Name: 2021-08-24 00:00:00, dtype: float64"
      ]
     },
     "metadata": {},
     "execution_count": 21
    }
   ],
   "metadata": {}
  },
  {
   "cell_type": "code",
   "execution_count": 22,
   "source": [
    "df.loc[:, ['A', 'B']]"
   ],
   "outputs": [
    {
     "output_type": "execute_result",
     "data": {
      "text/plain": [
       "                   A         B\n",
       "2021-08-24  0.735292  2.028247\n",
       "2021-08-25 -0.462085 -0.377598\n",
       "2021-08-26  1.338015 -0.291916\n",
       "2021-08-27  2.071388 -0.982899\n",
       "2021-08-28 -0.275111 -0.523806\n",
       "2021-08-29 -0.231374 -2.545185"
      ],
      "text/html": [
       "<div>\n",
       "<style scoped>\n",
       "    .dataframe tbody tr th:only-of-type {\n",
       "        vertical-align: middle;\n",
       "    }\n",
       "\n",
       "    .dataframe tbody tr th {\n",
       "        vertical-align: top;\n",
       "    }\n",
       "\n",
       "    .dataframe thead th {\n",
       "        text-align: right;\n",
       "    }\n",
       "</style>\n",
       "<table border=\"1\" class=\"dataframe\">\n",
       "  <thead>\n",
       "    <tr style=\"text-align: right;\">\n",
       "      <th></th>\n",
       "      <th>A</th>\n",
       "      <th>B</th>\n",
       "    </tr>\n",
       "  </thead>\n",
       "  <tbody>\n",
       "    <tr>\n",
       "      <th>2021-08-24</th>\n",
       "      <td>0.735292</td>\n",
       "      <td>2.028247</td>\n",
       "    </tr>\n",
       "    <tr>\n",
       "      <th>2021-08-25</th>\n",
       "      <td>-0.462085</td>\n",
       "      <td>-0.377598</td>\n",
       "    </tr>\n",
       "    <tr>\n",
       "      <th>2021-08-26</th>\n",
       "      <td>1.338015</td>\n",
       "      <td>-0.291916</td>\n",
       "    </tr>\n",
       "    <tr>\n",
       "      <th>2021-08-27</th>\n",
       "      <td>2.071388</td>\n",
       "      <td>-0.982899</td>\n",
       "    </tr>\n",
       "    <tr>\n",
       "      <th>2021-08-28</th>\n",
       "      <td>-0.275111</td>\n",
       "      <td>-0.523806</td>\n",
       "    </tr>\n",
       "    <tr>\n",
       "      <th>2021-08-29</th>\n",
       "      <td>-0.231374</td>\n",
       "      <td>-2.545185</td>\n",
       "    </tr>\n",
       "  </tbody>\n",
       "</table>\n",
       "</div>"
      ]
     },
     "metadata": {},
     "execution_count": 22
    }
   ],
   "metadata": {}
  },
  {
   "cell_type": "code",
   "execution_count": null,
   "source": [],
   "outputs": [],
   "metadata": {}
  }
 ],
 "metadata": {
  "orig_nbformat": 4,
  "language_info": {
   "name": "python",
   "version": "3.9.5",
   "mimetype": "text/x-python",
   "codemirror_mode": {
    "name": "ipython",
    "version": 3
   },
   "pygments_lexer": "ipython3",
   "nbconvert_exporter": "python",
   "file_extension": ".py"
  },
  "kernelspec": {
   "name": "python3",
   "display_name": "Python 3.9.5 64-bit"
  },
  "interpreter": {
   "hash": "5d44725d55c3c25373c9cea7b363fe9d5696c3b23e8383192da0211bfba569d6"
  }
 },
 "nbformat": 4,
 "nbformat_minor": 2
}