{
 "cells": [
  {
   "cell_type": "markdown",
   "source": [
    "## ch5-2 함수의 활용\r\n",
    "1. 재귀 함수(Recursive function)\r\n",
    "  - 함수가 자기를 호출하는 함수\r\n",
    "  - 반드시 재귀를 종료할 수 있는 단계가 필요\r\n",
    "  - 복잡한 문제를 간단히 해결할 수 있음\r\n",
    "  - 단점: 메모리 과다 사용, 속도 저하\r\n",
    "\r\n",
    "2. 메모화\r\n",
    " - 재귀 함수의 단점을 없앨 수 있음"
   ],
   "metadata": {}
  },
  {
   "cell_type": "code",
   "execution_count": null,
   "source": [],
   "outputs": [],
   "metadata": {}
  }
 ],
 "metadata": {
  "orig_nbformat": 4,
  "language_info": {
   "name": "python",
   "version": "3.9.5",
   "mimetype": "text/x-python",
   "codemirror_mode": {
    "name": "ipython",
    "version": 3
   },
   "pygments_lexer": "ipython3",
   "nbconvert_exporter": "python",
   "file_extension": ".py"
  },
  "kernelspec": {
   "name": "python3",
   "display_name": "Python 3.9.5 64-bit"
  },
  "interpreter": {
   "hash": "5d44725d55c3c25373c9cea7b363fe9d5696c3b23e8383192da0211bfba569d6"
  }
 },
 "nbformat": 4,
 "nbformat_minor": 2
}