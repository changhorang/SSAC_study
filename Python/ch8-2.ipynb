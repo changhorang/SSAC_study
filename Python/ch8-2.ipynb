{
 "cells": [
  {
   "cell_type": "markdown",
   "source": [
    "## Ch.8-2 클래스의 추가적인 구문\r\n",
    "\r\n",
    "### 1. 상속\r\n",
    "- 어떤 클래스의 속성(attribute, property)과 기능(method)를 물려받아 새로운 클래스를 만드는 행위\r\n",
    "- 클래스를 확장하여 새로운 클래스를 정의\r\n",
    "- 확장: 재사용, 추가, 수정(덮어씀, method overriding)\r\n",
    "- 상위클래스로 갈수록: 일반적, 추상적, 공통적\r\n",
    "\r\n",
    "### # 참고: 파이썬의 method overloading은 필요하다면 구현할 수 있지만 다른 언어에 비해 약함\r\n",
    "- 함수 오버로딩: 컴파일러에서만 유의미\r\n",
    "\r\n",
    "### 2. 객체지향언어의 3대 특징\r\n",
    "- 캡슐화\r\n",
    "- 상속\r\n",
    "- 다형성(Polymorphism)"
   ],
   "metadata": {}
  },
  {
   "cell_type": "code",
   "execution_count": 23,
   "source": [
    "class Student:\r\n",
    "    def __init__(self, name, korean, english):\r\n",
    "        self.name = name\r\n",
    "        self.korean = korean\r\n",
    "        self.english = english\r\n",
    "\r\n",
    "    def show(self):\r\n",
    "        print('student 임')\r\n",
    "        print('이름: {}'.format(self.name))\r\n",
    "\r\n",
    "class HighStudent(Student): # 상위 클래스 받아오기\r\n",
    "    def __init__(self, name, korean, english, dream):\r\n",
    "        super().__init__(name, korean, english)\r\n",
    "        # super을 이용하면 상속을 받아오는 것이기 때문에 일일이 정의할 필요 없음\r\n",
    "        self.dream = dream\r\n",
    "    \r\n",
    "    def hello(self):\r\n",
    "        print('my dream: {}'.format(self.dream))\r\n",
    "\r\n",
    "    def __str__(self):\r\n",
    "        print('name : {}'.format(self.name))\r\n",
    "\r\n",
    "kim = HighStudent('kim', 10, 20, 'AI programmer')\r\n",
    "kim.hello()\r\n",
    "print(type(kim))\r\n",
    "print(isinstance(kim, HighStudent))\r\n",
    "print(isinstance(kim, Student)) # 상위 클래스이기 때문에 True 반환 (다형성)\r\n",
    "\r\n",
    "kee = Student('kee', 10, 20)\r\n",
    "print(isinstance(kee, HighStudent)) # 상위 클래스에만 속해 있으므로 False 반환\r\n",
    "print(isinstance(kee, Student))\r\n",
    "\r\n",
    "kim.__str__()"
   ],
   "outputs": [
    {
     "output_type": "stream",
     "name": "stdout",
     "text": [
      "my dream: AI programmer\n",
      "<class '__main__.HighStudent'>\n",
      "True\n",
      "True\n",
      "False\n",
      "True\n",
      "name : kim\n"
     ]
    }
   ],
   "metadata": {}
  },
  {
   "cell_type": "code",
   "execution_count": 26,
   "source": [
    "class Student:\r\n",
    "    count = 0\r\n",
    "\r\n",
    "    def __init__(self, name, korean, english):\r\n",
    "        self.name = name\r\n",
    "        self.korean = korean\r\n",
    "        self.english = english\r\n",
    "\r\n",
    "        Student.count += 1\r\n",
    "        print(\"{}번 째 학생이 생성\".format(Student.count))\r\n",
    "\r\n",
    "students = [\r\n",
    "    Student('kim', 10, 20),\r\n",
    "    Student('k', 10, 20),\r\n",
    "    Student('a', 10, 20)\r\n",
    "]"
   ],
   "outputs": [
    {
     "output_type": "stream",
     "name": "stdout",
     "text": [
      "1번 째 학생이 생성\n",
      "2번 째 학생이 생성\n",
      "3번 째 학생이 생성\n"
     ]
    }
   ],
   "metadata": {}
  },
  {
   "cell_type": "markdown",
   "source": [
    "### 3. 클래스 변수\r\n",
    "- 파이썬의 클래스 변수에 접근할 때는 반드시 클래스 이름을 붙여야 한다.\r\n",
    "\r\n",
    "### 4. 클래스 메서드\r\n",
    "- @classmethod 데코레이터로 선언\r\n",
    "- 해당 클래스의 인스턴스 생성 없이 바로 사용할 수 있는 장점"
   ],
   "metadata": {}
  },
  {
   "cell_type": "code",
   "execution_count": 30,
   "source": [
    "# 프라이빗 변수 (접근 방지) / 게터 & 세터 : 데이터 보호\r\n",
    "class Student:\r\n",
    "    def __init__(self, name, korean, english):\r\n",
    "        self.name = name\r\n",
    "        self.__korean = korean # __를 추가해 직접 접근을 방지할 수 있음\r\n",
    "        self.__english = english\r\n",
    "\r\n",
    "    def show(self):\r\n",
    "        print('student 임')\r\n",
    "        print('이름: {}'.format(self.name))\r\n",
    "\r\n",
    "kim = Student('kim', 10, 20)\r\n",
    "lim = Student('lim', 10, 20)\r\n",
    "\r\n",
    "print(kim.english)\r\n",
    "print(lim.korean)"
   ],
   "outputs": [
    {
     "output_type": "error",
     "ename": "AttributeError",
     "evalue": "'Student' object has no attribute 'english'",
     "traceback": [
      "\u001b[1;31m---------------------------------------------------------------------------\u001b[0m",
      "\u001b[1;31mAttributeError\u001b[0m                            Traceback (most recent call last)",
      "\u001b[1;32mC:\\Users\\CHANGH~1\\AppData\\Local\\Temp/ipykernel_17092/3743152268.py\u001b[0m in \u001b[0;36m<module>\u001b[1;34m\u001b[0m\n\u001b[0;32m     13\u001b[0m \u001b[0mlim\u001b[0m \u001b[1;33m=\u001b[0m \u001b[0mStudent\u001b[0m\u001b[1;33m(\u001b[0m\u001b[1;34m'lim'\u001b[0m\u001b[1;33m,\u001b[0m \u001b[1;36m10\u001b[0m\u001b[1;33m,\u001b[0m \u001b[1;36m20\u001b[0m\u001b[1;33m)\u001b[0m\u001b[1;33m\u001b[0m\u001b[1;33m\u001b[0m\u001b[0m\n\u001b[0;32m     14\u001b[0m \u001b[1;33m\u001b[0m\u001b[0m\n\u001b[1;32m---> 15\u001b[1;33m \u001b[0mprint\u001b[0m\u001b[1;33m(\u001b[0m\u001b[0mkim\u001b[0m\u001b[1;33m.\u001b[0m\u001b[0menglish\u001b[0m\u001b[1;33m)\u001b[0m\u001b[1;33m\u001b[0m\u001b[1;33m\u001b[0m\u001b[0m\n\u001b[0m\u001b[0;32m     16\u001b[0m \u001b[0mprint\u001b[0m\u001b[1;33m(\u001b[0m\u001b[0mlim\u001b[0m\u001b[1;33m.\u001b[0m\u001b[0mkorean\u001b[0m\u001b[1;33m)\u001b[0m\u001b[1;33m\u001b[0m\u001b[1;33m\u001b[0m\u001b[0m\n",
      "\u001b[1;31mAttributeError\u001b[0m: 'Student' object has no attribute 'english'"
     ]
    }
   ],
   "metadata": {}
  },
  {
   "cell_type": "code",
   "execution_count": 32,
   "source": [
    "# 상속 / 다중상속\r\n",
    "class Unit():\r\n",
    "    def __init__(self, char_class, hp, mp):\r\n",
    "        self.char_class = char_class\r\n",
    "        self.hp = hp\r\n",
    "        self.mp = mp\r\n",
    "        self.x, self.y = 0, 0\r\n",
    " \r\n",
    "    def attack(self):\r\n",
    "        print('{}이(가) 공격합니다.'.format(self.char_class))\r\n",
    " \r\n",
    "    def move(self, x, y):\r\n",
    "        self.x = x\r\n",
    "        self.y = y\r\n",
    "        print('{}이(가) ({}, {})로 이동하였음.'.format(self.char_class, self.x, self.y))\r\n",
    " \r\n",
    " \r\n",
    "class Melee(Unit):\r\n",
    "    def __init__(self, char_class, hp, mp, weapon):\r\n",
    "        super().__init__(char_class, hp, mp)\r\n",
    "        self.weapon = weapon\r\n",
    " \r\n",
    " \r\n",
    "class Fighter(Melee):\r\n",
    "    def __init__(self, hp, mp, weapon='검', shield='원형방패'):\r\n",
    "        super().__init__('전사', hp, mp, weapon)  # 상위 클래스 호출: super()\r\n",
    "        self.shield = shield\r\n",
    " \r\n",
    "    def use_shiled(self):        \r\n",
    "        print('전사가 {}로 적의 공격을 막습니다.'.format(self.shield))\r\n",
    " \r\n",
    " \r\n",
    "class Paladin(Melee):\r\n",
    "    def __init__(self, hp, mp, weapon):\r\n",
    "        super().__init__('성기사', hp, mp, weapon)\r\n",
    " \r\n",
    "    # Method Overriding: (상위클래스) 메소드 재정의\r\n",
    "    def attack(self):\r\n",
    "        print('성기사가 멋지~~게 공격합니다.')\r\n",
    "        print('성기사는 또 공격합니다.')\r\n",
    " \r\n",
    "    def heal(self):\r\n",
    "        print('성기사가 치유를 시전합니다.')\r\n",
    " \r\n",
    " \r\n",
    "class Wizard(Unit):\r\n",
    "    def __init__(self, hp, mp, skill):\r\n",
    "        super().__init__('마법사', hp, mp)\r\n",
    "        self.skill = skill\r\n",
    " \r\n",
    "    def hide(self):\r\n",
    "        print('마법사가 모습을 감춥니다.')\r\n",
    " \r\n",
    " \r\n",
    "# 다중상속\r\n",
    "class FightMage(Wizard, Fighter):\r\n",
    "    def __init__(self, hp, mp, weapon):\r\n",
    "        Fighter.__init__(self, '파이트메이지', hp, mp, weapon)"
   ],
   "outputs": [],
   "metadata": {}
  },
  {
   "cell_type": "code",
   "execution_count": 33,
   "source": [
    "f = Fighter(100, 20, '검')\r\n",
    "w = Wizard(50, 100, ['FireBall', 'DrainLife'])\r\n",
    "p = Paladin(80, 50, '장검')\r\n",
    " \r\n",
    "units = [f, w, p]\r\n",
    " \r\n",
    "for unit in units:\r\n",
    "    unit.attack()\r\n",
    " \r\n",
    "f.move(10, 10)\r\n",
    "p.move(2, 5)\r\n",
    "w.move(3, 5)\r\n",
    " \r\n",
    "f.use_shiled()\r\n",
    "w.hide()\r\n",
    "p.heal()\r\n",
    " \r\n",
    "print()\r\n",
    " \r\n",
    "# 전사만 공격하는 페이즈\r\n",
    "for unit in units:\r\n",
    "    if isinstance(unit, Fighter):\r\n",
    "        unit.attack()\r\n",
    " \r\n",
    "print()\r\n",
    " \r\n",
    "# 근거리 유닛만 공격하는 페이즈\r\n",
    "# 다형성\r\n",
    "for unit in units:\r\n",
    "    if isinstance(unit, Melee):\r\n",
    "        unit.attack()\r\n",
    " \r\n",
    "print()\r\n",
    "fm = FightMage(90, 70, '완드')\r\n",
    "fm.attack()\r\n",
    "fm.hide()\r\n",
    "fm.use_shiled()"
   ],
   "outputs": [
    {
     "output_type": "stream",
     "name": "stdout",
     "text": [
      "전사이(가) 공격합니다.\n",
      "마법사이(가) 공격합니다.\n",
      "성기사가 멋지~~게 공격합니다.\n",
      "성기사는 또 공격합니다.\n",
      "전사이(가) (10, 10)로 이동하였음.\n",
      "성기사이(가) (2, 5)로 이동하였음.\n",
      "마법사이(가) (3, 5)로 이동하였음.\n",
      "전사가 원형방패로 적의 공격을 막습니다.\n",
      "마법사가 모습을 감춥니다.\n",
      "성기사가 치유를 시전합니다.\n",
      "\n",
      "전사이(가) 공격합니다.\n",
      "\n",
      "전사이(가) 공격합니다.\n",
      "성기사가 멋지~~게 공격합니다.\n",
      "성기사는 또 공격합니다.\n",
      "\n",
      "전사이(가) 공격합니다.\n",
      "마법사가 모습을 감춥니다.\n",
      "전사가 완드로 적의 공격을 막습니다.\n"
     ]
    }
   ],
   "metadata": {}
  }
 ],
 "metadata": {
  "orig_nbformat": 4,
  "language_info": {
   "name": "python",
   "version": "3.9.5",
   "mimetype": "text/x-python",
   "codemirror_mode": {
    "name": "ipython",
    "version": 3
   },
   "pygments_lexer": "ipython3",
   "nbconvert_exporter": "python",
   "file_extension": ".py"
  },
  "kernelspec": {
   "name": "python3",
   "display_name": "Python 3.9.5 64-bit"
  },
  "interpreter": {
   "hash": "5d44725d55c3c25373c9cea7b363fe9d5696c3b23e8383192da0211bfba569d6"
  }
 },
 "nbformat": 4,
 "nbformat_minor": 2
}