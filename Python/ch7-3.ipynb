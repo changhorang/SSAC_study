{
 "cells": [
  {
   "cell_type": "markdown",
   "source": [
    "## Ch.7-3 모듈\r\n",
    "### 1. 패키지\r\n",
    " - 구조화된 모듈의 모임(묶음)\r\n",
    " - 물리적: 디렉터리 구조(계층적 구조, 트리 구조)\r\n",
    "\r\n",
    "### 2. 패키지 import (module의 위치 고려)\r\n",
    " - import 폴더 → X\r\n",
    " - import (폴더.)모듈\r\n",
    "    → (폴더.)모듈.정의\r\n",
    " - import 모듈 as 별칭\r\n",
    "    → 별칭.정의\r\n",
    " - from 폴더 import 모듈 (별칭)\r\n",
    "    → 정의 (별칭)\r\n",
    " - from 폴더 import 모듈\r\n",
    "    → 모듈.정의\r\n",
    " - from 폴더 import 모듈 as 별칭\r\n",
    "    → 별칭.정의\r\n",
    " - from 폴더 import 폴더.모듈 → X\r\n",
    " - from 폴더 import 모듈.정의 → X"
   ],
   "metadata": {}
  },
  {
   "cell_type": "code",
   "execution_count": 16,
   "source": [
    "import os\r\n",
    "from module_test.test import module_hi\r\n",
    "from fibonacci import fibonacci\r\n",
    "\r\n",
    "print(os.getcwd())\r\n",
    "module_hi()\r\n",
    "fibonacci()"
   ],
   "outputs": [
    {
     "output_type": "stream",
     "name": "stdout",
     "text": [
      "c:\\Users\\ChangHo Kim\\Documents\\GitHub\\SSAC_study\\Python\n",
      "module 작동\n"
     ]
    },
    {
     "output_type": "execute_result",
     "data": {
      "text/plain": [
       "<generator object fibonacci at 0x000001C5DF6FDC10>"
      ]
     },
     "metadata": {},
     "execution_count": 16
    }
   ],
   "metadata": {}
  }
 ],
 "metadata": {
  "orig_nbformat": 4,
  "language_info": {
   "name": "python",
   "version": "3.9.5",
   "mimetype": "text/x-python",
   "codemirror_mode": {
    "name": "ipython",
    "version": 3
   },
   "pygments_lexer": "ipython3",
   "nbconvert_exporter": "python",
   "file_extension": ".py"
  },
  "kernelspec": {
   "name": "python3",
   "display_name": "Python 3.9.5 64-bit"
  },
  "interpreter": {
   "hash": "5d44725d55c3c25373c9cea7b363fe9d5696c3b23e8383192da0211bfba569d6"
  }
 },
 "nbformat": 4,
 "nbformat_minor": 2
}