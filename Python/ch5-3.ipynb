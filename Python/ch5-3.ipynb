{
 "cells": [
  {
   "cell_type": "markdown",
   "source": [
    "## Ch5-3 함수 고급\r\n",
    " ### 1. first class citizen(일급 객체)\r\n",
    "  - 다른 객체들에 일반적으로 적용 가능한 연산을 모두 지원하는 객체\r\n",
    "  - 적용 가능한 연산\r\n",
    "    : 변수 대입, 함수의 인자로 사용, 수정, 함수의 반환값 등\r\n",
    "  - 리터럴, 변수, 객체\r\n",
    "\r\n",
    " ### 2. 파이썬에서 함수도 일급 객체이다.\r\n",
    "\r\n",
    " ### 3. Closure(클로저)\r\n",
    "  - 함수가 종료되어도 자유 변수가 소멸되지 않음\r\n",
    "\r\n",
    " ### 4. 튜플\r\n",
    "  - 리스트와 98% 동일\r\n",
    "  - 단, 요소의 값을 변경할 수 없음\r\n",
    "  - 요소를 괄호로 묶어서 생성\r\n",
    "  - 괄호를 생략 가능\r\n",
    "  - 함수가 여러 값을 반환하면 튜플로 묶어서 반환됨(일종의 Packing)\r\n",
    "    : 반환값을 하나의 변수로 받을 수도 있고 여러 변수로 받을 수도 있음\r\n",
    "  - 튜플의 요소를 변경할 수 없지만, 튜플의 요소가 변경가능한 리스트, 딕셔너리라면 리스트와 딕셔너리에 저장된 요소는 변경가능함\r\n"
   ],
   "metadata": {}
  },
  {
   "cell_type": "code",
   "execution_count": 1,
   "source": [
    "def sum_and_mult(x, y):\r\n",
    "    return x+y, x*y\r\n",
    "result1, result2 = sum_and_mult(100, 200)\r\n",
    "print(result1)\r\n",
    "print(result2)"
   ],
   "outputs": [
    {
     "output_type": "stream",
     "name": "stdout",
     "text": [
      "300\n",
      "20000\n"
     ]
    }
   ],
   "metadata": {}
  },
  {
   "cell_type": "code",
   "execution_count": 6,
   "source": [
    "t1 = (1, 2, ['hello', 100])\r\n",
    "t1[2]\r\n",
    "['hello', 100]\r\n",
    "\r\n",
    "t1[2] = 300\r\n",
    "# Traceback (most recent call last):\r\n",
    "#  File \"<stdin>\", line 1, in <module>\r\n",
    "# TypeError: 'tuple' object does not support item assignment"
   ],
   "outputs": [
    {
     "output_type": "error",
     "ename": "TypeError",
     "evalue": "'tuple' object does not support item assignment",
     "traceback": [
      "\u001b[1;31m---------------------------------------------------------------------------\u001b[0m",
      "\u001b[1;31mTypeError\u001b[0m                                 Traceback (most recent call last)",
      "\u001b[1;32mC:\\Users\\CHANGH~1\\AppData\\Local\\Temp/ipykernel_16212/744338569.py\u001b[0m in \u001b[0;36m<module>\u001b[1;34m\u001b[0m\n\u001b[0;32m      3\u001b[0m \u001b[1;33m[\u001b[0m\u001b[1;34m'hello'\u001b[0m\u001b[1;33m,\u001b[0m \u001b[1;36m100\u001b[0m\u001b[1;33m]\u001b[0m\u001b[1;33m\u001b[0m\u001b[1;33m\u001b[0m\u001b[0m\n\u001b[0;32m      4\u001b[0m \u001b[1;33m\u001b[0m\u001b[0m\n\u001b[1;32m----> 5\u001b[1;33m \u001b[0mt1\u001b[0m\u001b[1;33m[\u001b[0m\u001b[1;36m2\u001b[0m\u001b[1;33m]\u001b[0m \u001b[1;33m=\u001b[0m \u001b[1;36m300\u001b[0m\u001b[1;33m\u001b[0m\u001b[1;33m\u001b[0m\u001b[0m\n\u001b[0m\u001b[0;32m      6\u001b[0m \u001b[1;31m# Traceback (most recent call last):\u001b[0m\u001b[1;33m\u001b[0m\u001b[1;33m\u001b[0m\u001b[1;33m\u001b[0m\u001b[0m\n\u001b[0;32m      7\u001b[0m \u001b[1;31m#  File \"<stdin>\", line 1, in <module>\u001b[0m\u001b[1;33m\u001b[0m\u001b[1;33m\u001b[0m\u001b[1;33m\u001b[0m\u001b[0m\n",
      "\u001b[1;31mTypeError\u001b[0m: 'tuple' object does not support item assignment"
     ]
    }
   ],
   "metadata": {}
  },
  {
   "cell_type": "code",
   "execution_count": 7,
   "source": [
    "t1[2][0] = 'world'\r\n",
    "t1\r\n",
    "# (1, 2, ['world', 100])"
   ],
   "outputs": [
    {
     "output_type": "execute_result",
     "data": {
      "text/plain": [
       "(1, 2, ['world', 100])"
      ]
     },
     "metadata": {},
     "execution_count": 7
    }
   ],
   "metadata": {}
  },
  {
   "cell_type": "markdown",
   "source": [
    "### 5. 요소가 하나인 튜플 생성\r\n",
    "  - 값 뒤에 콤마(,)를 붙여야 함"
   ],
   "metadata": {}
  },
  {
   "cell_type": "code",
   "execution_count": 3,
   "source": [
    "a = (1, )\r\n",
    "a"
   ],
   "outputs": [
    {
     "output_type": "execute_result",
     "data": {
      "text/plain": [
       "(1,)"
      ]
     },
     "metadata": {},
     "execution_count": 3
    }
   ],
   "metadata": {}
  },
  {
   "cell_type": "markdown",
   "source": [
    "### 6. 람다 표현식(Lambda expression) : 이름 없는(annoymous) 함수"
   ],
   "metadata": {}
  },
  {
   "cell_type": "code",
   "execution_count": 8,
   "source": [
    "s = lambda x, y: x*y\r\n",
    "s(10, 2)"
   ],
   "outputs": [
    {
     "output_type": "execute_result",
     "data": {
      "text/plain": [
       "20"
      ]
     },
     "metadata": {},
     "execution_count": 8
    }
   ],
   "metadata": {}
  },
  {
   "cell_type": "code",
   "execution_count": 12,
   "source": [
    "# 확인문제\r\n",
    "numbers = [1, 2, 3, 4, 5, 6]\r\n",
    "# list 내포\r\n",
    "print(\"::\".join([str(number) for number in numbers]))\r\n",
    "# map 함수 사용\r\n",
    "print('::'.join(map(str, numbers)))"
   ],
   "outputs": [
    {
     "output_type": "stream",
     "name": "stdout",
     "text": [
      "1::2::3::4::5::6\n",
      "1::2::3::4::5::6\n"
     ]
    }
   ],
   "metadata": {}
  }
 ],
 "metadata": {
  "orig_nbformat": 4,
  "language_info": {
   "name": "python",
   "version": "3.9.5",
   "mimetype": "text/x-python",
   "codemirror_mode": {
    "name": "ipython",
    "version": 3
   },
   "pygments_lexer": "ipython3",
   "nbconvert_exporter": "python",
   "file_extension": ".py"
  },
  "kernelspec": {
   "name": "python3",
   "display_name": "Python 3.9.5 64-bit"
  },
  "interpreter": {
   "hash": "5d44725d55c3c25373c9cea7b363fe9d5696c3b23e8383192da0211bfba569d6"
  }
 },
 "nbformat": 4,
 "nbformat_minor": 2
}