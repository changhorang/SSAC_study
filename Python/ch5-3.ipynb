{
 "cells": [
  {
   "cell_type": "markdown",
   "source": [
    "## Ch5-3 함수 고급\r\n",
    " ### 1. first class citizen(일급 객체)\r\n",
    "  - 다른 객체들에 일반적으로 적용 가능한 연산을 모두 지원하는 객체\r\n",
    "  - 적용 가능한 연산\r\n",
    "    : 변수 대입, 함수의 인자로 사용, 수정, 함수의 반환값 등\r\n",
    "  - 리터럴, 변수, 객체\r\n",
    "\r\n",
    " ### 2. 파이썬에서 함수도 일급 객체이다.\r\n",
    "\r\n",
    " ### 3. Closure(클로저)\r\n",
    "  - 함수가 종료되어도 자유 변수가 소멸되지 않음\r\n",
    "\r\n",
    " ### 4. 튜플\r\n",
    "  - 리스트와 98% 동일\r\n",
    "  - 단, 요소의 값을 변경할 수 없음\r\n",
    "  - 요소를 괄호로 묶어서 생성\r\n",
    "  - 괄호를 생략 가능\r\n",
    "  - 함수가 여러 값을 반환하면 튜플로 묶어서 반환됨(일종의 Packing)\r\n",
    "    : 반환값을 하나의 변수로 받을 수도 있고 여러 변수로 받을 수도 있음\r\n",
    "  - 튜플의 요소를 변경할 수 없지만, 튜플의 요소가 변경가능한 리스트, 딕셔너리라면 리스트와 딕셔너리에 저장된 요소는 변경가능함\r\n"
   ],
   "metadata": {}
  },
  {
   "cell_type": "code",
   "execution_count": 1,
   "source": [
    "def sum_and_mult(x, y):\r\n",
    "    return x+y, x*y\r\n",
    "result1, result2 = sum_and_mult(100, 200)\r\n",
    "print(result1)\r\n",
    "print(result2)"
   ],
   "outputs": [
    {
     "output_type": "stream",
     "name": "stdout",
     "text": [
      "300\n",
      "20000\n"
     ]
    }
   ],
   "metadata": {}
  },
  {
   "cell_type": "code",
   "execution_count": 6,
   "source": [
    "t1 = (1, 2, ['hello', 100])\r\n",
    "t1[2]\r\n",
    "['hello', 100]\r\n",
    "\r\n",
    "t1[2] = 300\r\n",
    "# Traceback (most recent call last):\r\n",
    "#  File \"<stdin>\", line 1, in <module>\r\n",
    "# TypeError: 'tuple' object does not support item assignment"
   ],
   "outputs": [
    {
     "output_type": "error",
     "ename": "TypeError",
     "evalue": "'tuple' object does not support item assignment",
     "traceback": [
      "\u001b[1;31m---------------------------------------------------------------------------\u001b[0m",
      "\u001b[1;31mTypeError\u001b[0m                                 Traceback (most recent call last)",
      "\u001b[1;32mC:\\Users\\CHANGH~1\\AppData\\Local\\Temp/ipykernel_16212/744338569.py\u001b[0m in \u001b[0;36m<module>\u001b[1;34m\u001b[0m\n\u001b[0;32m      3\u001b[0m \u001b[1;33m[\u001b[0m\u001b[1;34m'hello'\u001b[0m\u001b[1;33m,\u001b[0m \u001b[1;36m100\u001b[0m\u001b[1;33m]\u001b[0m\u001b[1;33m\u001b[0m\u001b[1;33m\u001b[0m\u001b[0m\n\u001b[0;32m      4\u001b[0m \u001b[1;33m\u001b[0m\u001b[0m\n\u001b[1;32m----> 5\u001b[1;33m \u001b[0mt1\u001b[0m\u001b[1;33m[\u001b[0m\u001b[1;36m2\u001b[0m\u001b[1;33m]\u001b[0m \u001b[1;33m=\u001b[0m \u001b[1;36m300\u001b[0m\u001b[1;33m\u001b[0m\u001b[1;33m\u001b[0m\u001b[0m\n\u001b[0m\u001b[0;32m      6\u001b[0m \u001b[1;31m# Traceback (most recent call last):\u001b[0m\u001b[1;33m\u001b[0m\u001b[1;33m\u001b[0m\u001b[1;33m\u001b[0m\u001b[0m\n\u001b[0;32m      7\u001b[0m \u001b[1;31m#  File \"<stdin>\", line 1, in <module>\u001b[0m\u001b[1;33m\u001b[0m\u001b[1;33m\u001b[0m\u001b[1;33m\u001b[0m\u001b[0m\n",
      "\u001b[1;31mTypeError\u001b[0m: 'tuple' object does not support item assignment"
     ]
    }
   ],
   "metadata": {}
  },
  {
   "cell_type": "code",
   "execution_count": 7,
   "source": [
    "t1[2][0] = 'world'\r\n",
    "t1\r\n",
    "# (1, 2, ['world', 100])"
   ],
   "outputs": [
    {
     "output_type": "execute_result",
     "data": {
      "text/plain": [
       "(1, 2, ['world', 100])"
      ]
     },
     "metadata": {},
     "execution_count": 7
    }
   ],
   "metadata": {}
  },
  {
   "cell_type": "markdown",
   "source": [
    "### 5. 요소가 하나인 튜플 생성\r\n",
    "  - 값 뒤에 콤마(,)를 붙여야 함"
   ],
   "metadata": {}
  },
  {
   "cell_type": "code",
   "execution_count": 3,
   "source": [
    "a = (1, )\r\n",
    "a"
   ],
   "outputs": [
    {
     "output_type": "execute_result",
     "data": {
      "text/plain": [
       "(1,)"
      ]
     },
     "metadata": {},
     "execution_count": 3
    }
   ],
   "metadata": {}
  },
  {
   "cell_type": "markdown",
   "source": [
    "### 6. 람다 표현식(Lambda expression) : 이름 없는(annoymous) 함수\r\n",
    "  - 이름 없는 함수 객체를 반환\r\n",
    "    → 1회 사용 목적으로 활용\r\n",
    "  - 여러번 사용하려면 변수에 바인딩하면 됨\r\n",
    "  - 함께 사용하는 함수 : map(func., list), filter(func., list)"
   ],
   "metadata": {}
  },
  {
   "cell_type": "code",
   "execution_count": 8,
   "source": [
    "s = lambda x, y: x*y\r\n",
    "s(10, 2)"
   ],
   "outputs": [
    {
     "output_type": "execute_result",
     "data": {
      "text/plain": [
       "20"
      ]
     },
     "metadata": {},
     "execution_count": 8
    }
   ],
   "metadata": {}
  },
  {
   "cell_type": "code",
   "execution_count": 1,
   "source": [
    "# 확인문제\r\n",
    "numbers = [1, 2, 3, 4, 5, 6]\r\n",
    "# list 내포\r\n",
    "print(\"::\".join([str(number) for number in numbers]))\r\n",
    "# map 함수 사용\r\n",
    "print('::'.join(map(str, numbers)))"
   ],
   "outputs": [
    {
     "output_type": "stream",
     "name": "stdout",
     "text": [
      "1::2::3::4::5::6\n",
      "1::2::3::4::5::6\n"
     ]
    }
   ],
   "metadata": {}
  },
  {
   "cell_type": "markdown",
   "source": [
    "### 7-0. 파일 처리\r\n",
    "  1) 열기\r\n",
    "  2) 읽기, 쓰기, 추가하기\r\n",
    "  3) 닫기\r\n",
    "\r\n",
    "### 7. 파이썬\r\n",
    "  - open(): 내장 함수, 파일 객체를 리턴, utf-8로 변경해 저장 (한글 깨짐 방지)\r\n",
    "  - file.close(): 파일 객체의 메서드\r\n",
    "  - with 를 이용할 경우, close가 필요 없음"
   ],
   "metadata": {}
  },
  {
   "cell_type": "code",
   "execution_count": 9,
   "source": [
    "file = open('basic.txt', 'w', encoding = 'utf-8')\r\n",
    "\r\n",
    "file.write('헬로 python!')\r\n",
    "\r\n",
    "file.close()"
   ],
   "outputs": [],
   "metadata": {}
  },
  {
   "cell_type": "code",
   "execution_count": 12,
   "source": [
    "import random\r\n",
    "\r\n",
    "hanguls = list(\"가나다라마바사아자차카타파하\")\r\n",
    "with open(\"info.txt\", \"w\", encoding='utf8') as file:\r\n",
    "    for i in range(1000):\r\n",
    "        name = random.choice(hanguls) + random.choice(hanguls)\r\n",
    "        weight = random.randrange(40, 100)\r\n",
    "        height = random.randrange(140, 200)\r\n",
    "        file.write(\"{},{},{}\\n\".format(name, weight, height))"
   ],
   "outputs": [],
   "metadata": {}
  },
  {
   "cell_type": "code",
   "execution_count": 43,
   "source": [
    "with open(\"info.txt\", \"r\", encoding='utf8') as file:\r\n",
    "    for line in file:\r\n",
    "        (name, weight, height) = line.strip().split(\",\")\r\n",
    "        \r\n",
    "        if (not name) or (not weight) or (not height):\r\n",
    "            continue\r\n",
    "        bmi = int(weight) / ((int(height) / 100) ** 2)\r\n",
    "        result = \"\"\r\n",
    "        \r\n",
    "        if 25 <= bmi:\r\n",
    "            result = \"과체중\"\r\n",
    "        elif 18.5 <= bmi:\r\n",
    "            result = \"정상체중\"\r\n",
    "        else:\r\n",
    "            result = \"저체중\"\r\n",
    "        # print('\\n'.join([\"이름: {}\", \"몸무게: {}\", \"키 : {}\", \"BMI: {}\", \"결과: {}\"]\r\n",
    "        #     ).format(name, weight, height, bmi, result))\r\n",
    "        # print()\r\n",
    "        # 결과 값이 길기 때문에 생략"
   ],
   "outputs": [],
   "metadata": {}
  },
  {
   "cell_type": "markdown",
   "source": [
    "### * Shortcut Evaluation : and로만 또는 or로만 조건식이 연결되어 있을 때\r\n",
    "  - and: 어느 한 조건식이 False면 나머지는 계산할 필요없이 False로 판별\r\n",
    "  - or : 어느 한 조건식이 True면 나머지는 계산할 필요없이 True로 판별"
   ],
   "metadata": {}
  },
  {
   "cell_type": "markdown",
   "source": [
    "### 8. Generator\r\n",
    "  - 우리의 요구에 의해 값을 하나씩 발생해 주는 객체\r\n",
    "  - 함수와 비슷한 구조를 가짐\r\n",
    "  - def 키워드 사용\r\n",
    "  - return 문 대신 yield 문 사용\r\n",
    "  - 내부에 이터레이터가 있기 때문에\r\n",
    "    -> next() 내장함수로 제너레이터를 실행하고 yield 값을 얻어옴\r\n",
    "    -> for 문의 in에 사용될 수 있음\r\n",
    "\r\n",
    "### 9. Generator Expression\r\n",
    "  - []대신 ()인것만 제외하면 리스트 내포와 구문적으로 동일\r\n",
    "  - 제너레이터 객체를 만듬\r\n",
    "  - yield를 사용하지 않음"
   ],
   "metadata": {}
  },
  {
   "cell_type": "code",
   "execution_count": 18,
   "source": [
    "def test():\r\n",
    "    print(\"함수 호출\")\r\n",
    "    yield \"test\"\r\n",
    "\r\n",
    "print(\"A 지점 통과\")\r\n",
    "next(test())\r\n",
    "\r\n",
    "print(\"B지점 통과\")\r\n",
    "next(test())\r\n",
    "print(test())"
   ],
   "outputs": [
    {
     "output_type": "stream",
     "name": "stdout",
     "text": [
      "A 지점 통과\n",
      "함수 호출\n",
      "B지점 통과\n",
      "함수 호출\n",
      "<generator object test at 0x000001A323029820>\n"
     ]
    }
   ],
   "metadata": {}
  },
  {
   "cell_type": "code",
   "execution_count": 24,
   "source": [
    "def test():\r\n",
    "    print(\"A 지점 통과\")\r\n",
    "    yield 1\r\n",
    "    print(\"B 지점 통과\")\r\n",
    "    yield 2\r\n",
    "    print(\"C 지점 통과\")\r\n",
    "\r\n",
    "output = test()\r\n",
    "print(type(test))\r\n",
    "print(type(output))\r\n",
    "\r\n",
    "print(\"D 지점 통과\")\r\n",
    "a = next(output)\r\n",
    "print(a)\r\n",
    "\r\n",
    "print(\"E 지점 통과\")\r\n",
    "b = next(output)\r\n",
    "print(b)\r\n",
    "\r\n",
    "print(\"F 지점 통과\")\r\n",
    "c = next(output) # 더이상 반환할 값이 없어 StopIteration 발생\r\n",
    "print(c)\r\n",
    "next(output)"
   ],
   "outputs": [
    {
     "output_type": "stream",
     "name": "stdout",
     "text": [
      "D 지점 통과\n",
      "A 지점 통과\n",
      "1\n",
      "E 지점 통과\n",
      "B 지점 통과\n",
      "2\n",
      "F 지점 통과\n",
      "C 지점 통과\n"
     ]
    },
    {
     "output_type": "error",
     "ename": "StopIteration",
     "evalue": "",
     "traceback": [
      "\u001b[1;31m---------------------------------------------------------------------------\u001b[0m",
      "\u001b[1;31mStopIteration\u001b[0m                             Traceback (most recent call last)",
      "\u001b[1;32mC:\\Users\\CHANGH~1\\AppData\\Local\\Temp/ipykernel_16764/4235851185.py\u001b[0m in \u001b[0;36m<module>\u001b[1;34m\u001b[0m\n\u001b[0;32m     19\u001b[0m \u001b[1;33m\u001b[0m\u001b[0m\n\u001b[0;32m     20\u001b[0m \u001b[0mprint\u001b[0m\u001b[1;33m(\u001b[0m\u001b[1;34m\"F 지점 통과\"\u001b[0m\u001b[1;33m)\u001b[0m\u001b[1;33m\u001b[0m\u001b[1;33m\u001b[0m\u001b[0m\n\u001b[1;32m---> 21\u001b[1;33m \u001b[0mc\u001b[0m \u001b[1;33m=\u001b[0m \u001b[0mnext\u001b[0m\u001b[1;33m(\u001b[0m\u001b[0moutput\u001b[0m\u001b[1;33m)\u001b[0m\u001b[1;33m\u001b[0m\u001b[1;33m\u001b[0m\u001b[0m\n\u001b[0m\u001b[0;32m     22\u001b[0m \u001b[0mprint\u001b[0m\u001b[1;33m(\u001b[0m\u001b[0mc\u001b[0m\u001b[1;33m)\u001b[0m\u001b[1;33m\u001b[0m\u001b[1;33m\u001b[0m\u001b[0m\n\u001b[0;32m     23\u001b[0m \u001b[0mnext\u001b[0m\u001b[1;33m(\u001b[0m\u001b[0moutput\u001b[0m\u001b[1;33m)\u001b[0m\u001b[1;33m\u001b[0m\u001b[1;33m\u001b[0m\u001b[0m\n",
      "\u001b[1;31mStopIteration\u001b[0m: "
     ]
    }
   ],
   "metadata": {}
  },
  {
   "cell_type": "code",
   "execution_count": 38,
   "source": [
    "def square(numbers):\r\n",
    "    for number in numbers:\r\n",
    "        yield number * number\r\n",
    "data = [1, 2, 3, 4]\r\n",
    "\r\n",
    "g = square(data)\r\n",
    "\r\n",
    "for n, v in enumerate(g):\r\n",
    "    print('{}, {}'.format(n + 1, v))"
   ],
   "outputs": [
    {
     "output_type": "stream",
     "name": "stdout",
     "text": [
      "1, 1\n",
      "2, 4\n",
      "3, 9\n",
      "4, 16\n"
     ]
    }
   ],
   "metadata": {}
  },
  {
   "cell_type": "code",
   "execution_count": 41,
   "source": [
    "# generator expression\r\n",
    "ge = (v**2 for v in data)\r\n",
    "print('ge type: {}'.format(type(ge)))\r\n",
    "\r\n",
    "for v in ge:\r\n",
    "    print(\"{}\".format(v))\r\n",
    "\r\n",
    "next(ge) # StopIteration"
   ],
   "outputs": [
    {
     "output_type": "stream",
     "name": "stdout",
     "text": [
      "ge type: <class 'generator'>\n",
      "1\n",
      "4\n",
      "9\n",
      "16\n"
     ]
    },
    {
     "output_type": "error",
     "ename": "StopIteration",
     "evalue": "",
     "traceback": [
      "\u001b[1;31m---------------------------------------------------------------------------\u001b[0m",
      "\u001b[1;31mStopIteration\u001b[0m                             Traceback (most recent call last)",
      "\u001b[1;32mC:\\Users\\CHANGH~1\\AppData\\Local\\Temp/ipykernel_16764/3738587607.py\u001b[0m in \u001b[0;36m<module>\u001b[1;34m\u001b[0m\n\u001b[0;32m      6\u001b[0m     \u001b[0mprint\u001b[0m\u001b[1;33m(\u001b[0m\u001b[1;34m\"{}\"\u001b[0m\u001b[1;33m.\u001b[0m\u001b[0mformat\u001b[0m\u001b[1;33m(\u001b[0m\u001b[0mv\u001b[0m\u001b[1;33m)\u001b[0m\u001b[1;33m)\u001b[0m\u001b[1;33m\u001b[0m\u001b[1;33m\u001b[0m\u001b[0m\n\u001b[0;32m      7\u001b[0m \u001b[1;33m\u001b[0m\u001b[0m\n\u001b[1;32m----> 8\u001b[1;33m \u001b[0mnext\u001b[0m\u001b[1;33m(\u001b[0m\u001b[0mge\u001b[0m\u001b[1;33m)\u001b[0m\u001b[1;33m\u001b[0m\u001b[1;33m\u001b[0m\u001b[0m\n\u001b[0m",
      "\u001b[1;31mStopIteration\u001b[0m: "
     ]
    }
   ],
   "metadata": {}
  },
  {
   "cell_type": "code",
   "execution_count": 48,
   "source": [
    "# 확인 문제 2\r\n",
    "numbers = list(range(1, 10 + 1))\r\n",
    "\r\n",
    "print(list(filter(lambda x: x % 2 == 1, numbers)))\r\n",
    "print(list(filter(lambda x: 2 > x < 7 , numbers)))\r\n",
    "print(list(filter(lambda x: x*x < 50 , numbers)))"
   ],
   "outputs": [
    {
     "output_type": "stream",
     "name": "stdout",
     "text": [
      "[1, 3, 5, 7, 9]\n",
      "[1]\n",
      "[1, 2, 3, 4, 5, 6, 7]\n"
     ]
    }
   ],
   "metadata": {}
  },
  {
   "cell_type": "markdown",
   "source": [
    "------------------\r\n",
    "### * Path(경로)\r\n",
    "  * 운영체제의 파일 시스템에서 파일 또는 디렉터리(폴더)을 지칭하는 방법\r\n",
    "  * 절대 경로 vs. 상대 경로\r\n",
    "    - 절대 경로: 파일시스템의 꼭대기(윈도: 드라이브명, 유닉스 계열: /(root directory))부터 지정하는 방식\r\n",
    "    - 상대 경로: 현재 작업 디렉터리 또는 특정 디렉터리에서 찾아가는 경로\r\n",
    "\r\n",
    "  * 절대 경로는 현재 작업 디렉터리와 상관없이 항상 일정한 경로\r\n",
    "    상대 경로는 작업 디렉터리가 변경되면 그에 따라 변경됨\r\n",
    "\r\n",
    "  * 현재 작업 디렉터리: 터미널 환경에서는 항상 특정 디렉터리에 우리가 위치하게 되는데 이 디렉터리를 의미\r\n",
    "  \r\n",
    "### * 파일 시스템에서 특수한 의미를 갖는 문자(., ..)\r\n",
    "  - 윈도, 리눅스 다 동일\r\n",
    "  - . : 현재 디렉터리\r\n",
    "  - .. : 상위 디렉터리\r\n",
    "\r\n",
    "### * 프로그램 진입점(Entry point)\r\n",
    "  - 프로그램이 시작하는 지점(위치)\r\n",
    "------------------------------------------------------------"
   ],
   "metadata": {}
  },
  {
   "cell_type": "markdown",
   "source": [
    "------------------\r\n",
    "### * 메모리(RAM)\r\n",
    "  - Cache : 한 번 읽은 데이터를 메모리에 저장해 두고 같은 데이터를 요청할 때 디스크로부터 읽거나 연산을 통하지 않고 메모리에서 바로 읽어서 빠른 속도를 제공하는 메모리 용도\r\n",
    "  - Buffer: 장치간 데이터 처리속도 차이로 인해 발생하는 충돌/속도차를 완화시켜주기 위한 메모리\r\n",
    "  - Pool  : 메모리 공간을 미리 준비(확보)해 두고 필요할 때 즉시 제공하여 빠른 속도를 취할수 있도록 하는 메모리\r\n",
    "\r\n",
    "### * 파일 인코딩\r\n",
    "  - 텍스트 파일에만 적용됨\r\n",
    "  - open() 함수에서 설정, 매개변수 encoding\r\n",
    "------------------"
   ],
   "metadata": {}
  },
  {
   "cell_type": "markdown",
   "source": [
    "--------\r\n",
    "### * 데이터를 구조화된 정도로 분류\r\n",
    "  1) Unstructured Data(비구조적 데이터)\r\n",
    "     : 리뷰, 기사, 트윗, 소설, 소셜미디어, 동영상, 음성 등\r\n",
    "  2) Semi-Structured Data(반구조적 데이터)\r\n",
    "     : XML, JSON, YAML 등\r\n",
    "  3) Structured Data(구조적 데이터)\r\n",
    "     : 테이블성 데이터(엑셀 워크시트, DB의 테이블, CSV, TSV 등)\r\n",
    "--------"
   ],
   "metadata": {}
  }
 ],
 "metadata": {
  "orig_nbformat": 4,
  "language_info": {
   "name": "python",
   "version": "3.9.5",
   "mimetype": "text/x-python",
   "codemirror_mode": {
    "name": "ipython",
    "version": 3
   },
   "pygments_lexer": "ipython3",
   "nbconvert_exporter": "python",
   "file_extension": ".py"
  },
  "kernelspec": {
   "name": "python3",
   "display_name": "Python 3.9.5 64-bit"
  },
  "interpreter": {
   "hash": "5d44725d55c3c25373c9cea7b363fe9d5696c3b23e8383192da0211bfba569d6"
  }
 },
 "nbformat": 4,
 "nbformat_minor": 2
}