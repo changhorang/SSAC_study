{
 "cells": [
  {
   "cell_type": "markdown",
   "source": [
    "## Ch.6 예외 처리\r\n",
    "### Ch.6-1 구문 오류와 예외\r\n",
    "1. 오류(Error)와 예외(Exception)\r\n",
    "    - 오류: 프로그램이 실행되지 않거나 작동이 중단되는 모든 상황\r\n",
    "    - cf) 논리적 오류: 프로그램이 중단되지는 않는데 원하는 대로 작동하지 않는 경우\r\n",
    "\r\n",
    "2. 오류의 종류\r\n",
    "    - 프로그램 실행 전 오류: 컴파일러의 경우 -> 보통 구문 오류\r\n",
    "    : compile error, compile-time error, compilation-time error\r\n",
    "    - 프로그램 실행 중 오류\r\n",
    "    : run-time error => 예외(Exception) : 실행중 Error\r\n",
    "\r\n",
    "3. 예외의 cycle\r\n",
    "    - 발생(Raise) -> 처리(Handling)\r\n",
    "\r\n",
    "4. 예외의 발생\r\n",
    "    - 자동발생: 시스템, 운영체제, 인터프리터가 발생\r\n",
    "    - 수동발생: 프로그래머, 프로그램이 발생 시킬 수 있음 -> raise\r\n",
    "\r\n",
    "5. 디버깅(Debugging)\r\n",
    "    -프로그램의 각종 오류를 해결하는 작업\r\n",
    "\r\n",
    "6. EOF: End Of File, EOL: End Of Line\r\n",
    "\r\n",
    "7. 예외 처리(Exception Handling)\r\n",
    "    - 기본 예외 처리: 조건문 이용\r\n",
    "    - 고급 예외 처리: try 구문\r\n",
    "        - try, except, else, finally\r\n",
    "\r\n",
    "8. finally가 유의미하게 사용되는 경우\r\n",
    "    - try 구문 안에서 return ⇐ 함수, 메서드\r\n",
    "      - return 문이 실행되기 전에 finally 실행\r\n",
    "    - 반복문 안의 try 구문 내에서 break\r\n",
    "      - break 문으로 반복문을 빠져나오기 직전에 finally 실행"
   ],
   "metadata": {}
  },
  {
   "cell_type": "code",
   "execution_count": 8,
   "source": [
    "try:\r\n",
    "    file = open('info.txt', 'r')\r\n",
    "    # 예외발생()\r\n",
    "    print(\"무사히 실행\")\r\n",
    "\r\n",
    "except:\r\n",
    "    print('파일에 무언가 문제 발생')\r\n",
    "\r\n",
    "finally: # 생략해도 무방함\r\n",
    "    file.close()"
   ],
   "outputs": [
    {
     "output_type": "stream",
     "name": "stdout",
     "text": [
      "파일에 무언가 문제 발생\n"
     ]
    }
   ],
   "metadata": {}
  }
 ],
 "metadata": {
  "orig_nbformat": 4,
  "language_info": {
   "name": "python",
   "version": "3.9.5",
   "mimetype": "text/x-python",
   "codemirror_mode": {
    "name": "ipython",
    "version": 3
   },
   "pygments_lexer": "ipython3",
   "nbconvert_exporter": "python",
   "file_extension": ".py"
  },
  "kernelspec": {
   "name": "python3",
   "display_name": "Python 3.9.5 64-bit"
  },
  "interpreter": {
   "hash": "5d44725d55c3c25373c9cea7b363fe9d5696c3b23e8383192da0211bfba569d6"
  }
 },
 "nbformat": 4,
 "nbformat_minor": 2
}