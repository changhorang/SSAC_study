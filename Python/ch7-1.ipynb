{
 "cells": [
  {
   "cell_type": "markdown",
   "source": [
    "# Ch.7 표준 모듈\r\n",
    "## Ch7-1 표준모듈\r\n",
    "\r\n",
    "### 1. 모듈\r\n",
    " - 파이썬 스크립트 파일\r\n",
    " - 확장자 .py\r\n",
    " - 모듈의 정의(변수, 함수, 클래스 등)들은 다른 모듈이나 메인 모듈로 임포트될 수 있음\r\n",
    "  * __name__ ⇒ 모듈 이름\r\n",
    "    - 모듈이 메인 프로그램으로 실행된다면 __name__ 은 ‘__main__’이라는 문자열을 바인딩함\r\n",
    "\r\n",
    " - import 모듈 이름\r\n",
    " - from 모듈 이름 import 가져올 함수\r\n",
    " - from 모듈 import *\r\n",
    "   - 밑줄로 시작하는 정의를 제외한 모든 정의를 임포트 함\r\n",
    "   - 권장하지 않음 (중복 될 수 있으므로)\r\n",
    " - 라이브러리 / 모듈 ... 다 동일한 의미"
   ],
   "metadata": {}
  },
  {
   "cell_type": "code",
   "execution_count": 1,
   "source": [
    "# 모듈 가져오기 예시\r\n",
    "import fibonacci as f\r\n",
    "f.fibonacci()"
   ],
   "outputs": [
    {
     "output_type": "execute_result",
     "data": {
      "text/plain": [
       "<generator object fibonacci at 0x000001931D4AFF20>"
      ]
     },
     "metadata": {},
     "execution_count": 1
    }
   ],
   "metadata": {}
  },
  {
   "cell_type": "code",
   "execution_count": 17,
   "source": [
    "# random 모듈\r\n",
    "import random\r\n",
    "l = [1, 2, 3, 4, 5]\r\n",
    "print(random.random())\r\n",
    "print(random.randrange(10))\r\n",
    "print(random.choice(l))\r\n",
    "print(random.shuffle(l))\r\n",
    "print(random.sample(l, 3))"
   ],
   "outputs": [
    {
     "output_type": "stream",
     "name": "stdout",
     "text": [
      "0.10621306250711393\n",
      "8\n",
      "2\n",
      "None\n",
      "[2, 1, 4]\n"
     ]
    }
   ],
   "metadata": {}
  },
  {
   "cell_type": "code",
   "execution_count": 9,
   "source": [
    "# sys, os 모듈\r\n",
    "import sys, os\r\n",
    "\r\n",
    "os.getcwd()\r\n",
    "# os.chdir(r\"\")\r\n",
    "os.system('dir')"
   ],
   "outputs": [
    {
     "output_type": "execute_result",
     "data": {
      "text/plain": [
       "0"
      ]
     },
     "metadata": {},
     "execution_count": 9
    }
   ],
   "metadata": {}
  },
  {
   "cell_type": "code",
   "execution_count": 18,
   "source": [
    "# datetime 모듈\r\n",
    "import datetime\r\n",
    "\r\n",
    "now = datetime.datetime.now()\r\n",
    "print(type(now))\r\n",
    "print(now.strftime(\"%Y{} %m{} %d{} %H{}:%M{}:%S{}\").format(*\"년월일시분초\"))"
   ],
   "outputs": [
    {
     "output_type": "stream",
     "name": "stdout",
     "text": [
      "<class 'datetime.datetime'>\n",
      "2021년 08월 12일 15시:15분:35초\n"
     ]
    }
   ],
   "metadata": {}
  },
  {
   "cell_type": "code",
   "execution_count": 23,
   "source": [
    "# urllib 모듈\r\n",
    "from urllib import request\r\n",
    "\r\n",
    "# target = request.urlopen(\"https://www.google.com\")\r\n",
    "output = target.read()\r\n",
    "\r\n",
    "print(output)"
   ],
   "outputs": [
    {
     "output_type": "stream",
     "name": "stdout",
     "text": [
      "b''\n"
     ]
    }
   ],
   "metadata": {}
  },
  {
   "cell_type": "markdown",
   "source": [
    "### 라이브러리 : https://docs.python.org/3/library/"
   ],
   "metadata": {}
  }
 ],
 "metadata": {
  "orig_nbformat": 4,
  "language_info": {
   "name": "python",
   "version": "3.9.5",
   "mimetype": "text/x-python",
   "codemirror_mode": {
    "name": "ipython",
    "version": 3
   },
   "pygments_lexer": "ipython3",
   "nbconvert_exporter": "python",
   "file_extension": ".py"
  },
  "kernelspec": {
   "name": "python3",
   "display_name": "Python 3.9.5 64-bit"
  },
  "interpreter": {
   "hash": "5d44725d55c3c25373c9cea7b363fe9d5696c3b23e8383192da0211bfba569d6"
  }
 },
 "nbformat": 4,
 "nbformat_minor": 2
}