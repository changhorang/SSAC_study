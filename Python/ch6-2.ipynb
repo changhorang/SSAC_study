{
 "cells": [
  {
   "cell_type": "markdown",
   "source": [
    "### 예외 고급\r\n",
    "1. Exception 클래스\r\n",
    " - 모든 예외 클래스의 최상위 클래스\r\n",
    "\r\n",
    "2. 예외 클래스로 여러 예외를 조건에 따라 처리 시 : except Exception를 제일 마지막에 (만약 사용한다면)\r\n",
    "  - “그물이 촘촘할수록 마지막에 쳐야한다.” (상위 클래스를 나중에)\r\n"
   ],
   "metadata": {}
  },
  {
   "cell_type": "code",
   "execution_count": 3,
   "source": [
    "num = [1, 2, 3, 4, 5]\r\n",
    "try:\r\n",
    "    number = int(input(\"정수 입력\"))\r\n",
    "    print(\"{} 번째 요소의 값 {}\".format(number, num[number]))\r\n",
    "except ValueError as e:\r\n",
    "    print(\"Value error\")\r\n",
    "    print(\"reason\", e)\r\n",
    "except IndexError as e:\r\n",
    "    print(\"Index error\")\r\n",
    "    print(\"reason\", e)\r\n",
    "except Exception as e:\r\n",
    "    print(\"모든 에러 처리\")\r\n",
    "print(\"program end\")"
   ],
   "outputs": [
    {
     "output_type": "stream",
     "name": "stdout",
     "text": [
      "Value error\n",
      "reason invalid literal for int() with base 10: 'string'\n",
      "program end\n"
     ]
    }
   ],
   "metadata": {}
  }
 ],
 "metadata": {
  "orig_nbformat": 4,
  "language_info": {
   "name": "python",
   "version": "3.9.5",
   "mimetype": "text/x-python",
   "codemirror_mode": {
    "name": "ipython",
    "version": 3
   },
   "pygments_lexer": "ipython3",
   "nbconvert_exporter": "python",
   "file_extension": ".py"
  },
  "kernelspec": {
   "name": "python3",
   "display_name": "Python 3.9.5 64-bit"
  },
  "interpreter": {
   "hash": "5d44725d55c3c25373c9cea7b363fe9d5696c3b23e8383192da0211bfba569d6"
  }
 },
 "nbformat": 4,
 "nbformat_minor": 2
}