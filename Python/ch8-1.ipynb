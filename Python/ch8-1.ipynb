{
 "cells": [
  {
   "cell_type": "markdown",
   "source": [
    "# Ch.8 클래스\r\n",
    "## Ch.8-1 클래스의 기본\r\n",
    "### 1. 객체 지향 프로그래밍\r\n",
    " - 객체(object, 개체)가 프로그램 실행의 기본 요소 (조각, 구성)\r\n",
    " - 객체들 간의 상호작용으로 프로그램이 실행되고 흘러감\r\n",
    "    cf) 절차적 프로그래밍 (Procedural Programming) : C, PASCAL, Delphi 등\r\n",
    "        - 함수가 프로그램 실행의 기본요소\r\n",
    "        - 프로그램 시작점 : main 함수\r\n",
    " - 절차적 프로그래밍 요소가 조금 포함되어 있음 (ex: C++, JAVA)\r\n",
    "    cf) 함수적 프로그래밍\r\n",
    "\r\n",
    "### 2. 객체 : 어떠한 속성값과 행동을 가지고 있는 데이터 (숫자, 문자, 함수 등)\r\n",
    "\r\n",
    "### 3. 클래스\r\n",
    " - 객체들을 추상화한 결과물 (설계도)\r\n",
    " - 정의하는 법\r\n",
    "    1) 귀납적 : 관심 있는 객체들을 최대한 모아 추상화\r\n",
    "    2) 연역적 : 특정 추상(일반) 객체를 설계하고 이를 상속하여 구체적 클래스를 정의\r\n",
    " - 파이썬은 다중상속 가능\r\n",
    "\r\n",
    "### 4. 객체지향 프로그래밍 용어\r\n",
    " - 인스턴스\r\n",
    " - 상속\r\n",
    " - 상위/하위 클래스 (Super class/Subclass, 부모클래스/자식클래스)\r\n",
    " - 생성자/소멸자 (파이썬에서 잘 사용 안함)"
   ],
   "metadata": {}
  },
  {
   "cell_type": "code",
   "execution_count": 2,
   "source": [
    "# Class 구문\r\n",
    "# class naming([상위클래스1, 상위클래스2]):\r\n",
    "#     문장1\r\n",
    "#     문장2"
   ],
   "outputs": [],
   "metadata": {}
  },
  {
   "cell_type": "markdown",
   "source": [
    "### 5. Method\r\n",
    "- 클래스 내에 정의된 함수\r\n",
    "- 객체를 이용하여 접근 (.)\r\n",
    "- 파이썬의 메서드는 첫 번째 인자로 해당 객체를 자동으로 넣어줌\r\n",
    "   - 관례적으로 첫 번째 파라미터의 이름은 self로 지음\r\n",
    "   - self는 식별자가 아니므로 다른 이름 이용해도 무방\r\n",
    "\r\n",
    "### 6. 파이썬의 인스턴스 메서드\r\n",
    "  - 호출할 때 자동적으로 객체가 첫 번째 인자로 넘겨짐"
   ],
   "metadata": {}
  },
  {
   "cell_type": "code",
   "execution_count": 12,
   "source": [
    "class Student:\r\n",
    "    def __init__(self, name, korean, english):\r\n",
    "        self.name = name\r\n",
    "        self.korean = korean\r\n",
    "        self.english = english\r\n",
    "\r\n",
    "    def show(self):\r\n",
    "        print('student 임')\r\n",
    "        print('이름: {}'.format(self.name))\r\n",
    "\r\n",
    "kim = Student('kim', 10, 20)\r\n",
    "print(kim)\r\n",
    "print(kim.name)\r\n",
    "kim.show()"
   ],
   "outputs": [
    {
     "output_type": "stream",
     "name": "stdout",
     "text": [
      "<__main__.Student object at 0x000001860A0D80A0>\n",
      "kim\n",
      "student 임\n",
      "이름: kim\n"
     ]
    }
   ],
   "metadata": {}
  }
 ],
 "metadata": {
  "orig_nbformat": 4,
  "language_info": {
   "name": "python",
   "version": "3.9.5",
   "mimetype": "text/x-python",
   "codemirror_mode": {
    "name": "ipython",
    "version": 3
   },
   "pygments_lexer": "ipython3",
   "nbconvert_exporter": "python",
   "file_extension": ".py"
  },
  "kernelspec": {
   "name": "python3",
   "display_name": "Python 3.9.5 64-bit"
  },
  "interpreter": {
   "hash": "5d44725d55c3c25373c9cea7b363fe9d5696c3b23e8383192da0211bfba569d6"
  }
 },
 "nbformat": 4,
 "nbformat_minor": 2
}