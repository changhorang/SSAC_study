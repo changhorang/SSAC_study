{
 "cells": [
  {
   "cell_type": "markdown",
   "source": [
    "## ch5-2 함수의 활용\r\n",
    "\r\n",
    "1. 재귀 함수(Recursive function)\r\n",
    "  - 함수가 자기를 호출하는 함수\r\n",
    "  - 반드시 재귀를 종료할 수 있는 단계가 필요\r\n",
    "  - 복잡한 문제를 간단히 해결할 수 있음\r\n",
    "  - 단점: 메모리 과다 사용, 속도 저하"
   ],
   "metadata": {}
  },
  {
   "cell_type": "code",
   "execution_count": 2,
   "source": [
    "counter = 0\r\n",
    "\r\n",
    "def fibonacci(n):\r\n",
    "    global counter\r\n",
    "    counter += 1\r\n",
    "    if n in (1, 2):\r\n",
    "        return 1\r\n",
    "    else:\r\n",
    "        return fibonacci(n-1) + fibonacci(n-2)\r\n",
    "\r\n",
    "fibonacci(10)\r\n",
    "print('-----------')\r\n",
    "print(\"fibonacci(10) 계산에 활용된 count 횟수는 {}번입니다.\".format(counter))"
   ],
   "outputs": [
    {
     "output_type": "stream",
     "name": "stdout",
     "text": [
      "-----------\n",
      "fibonacci(10) 계산에 활용된 count 횟수는 109번입니다.\n"
     ]
    }
   ],
   "metadata": {}
  },
  {
   "cell_type": "markdown",
   "source": [
    "2. 메모화 (Memoization)\r\n",
    " - 재귀 함수의 단점해소 방법"
   ],
   "metadata": {}
  },
  {
   "cell_type": "code",
   "execution_count": 3,
   "source": [
    "dictionary = {\r\n",
    "    1 : 1,\r\n",
    "    2 : 1\r\n",
    "}\r\n",
    "\r\n",
    "def fibonacci(n):\r\n",
    "    if n in dictionary:\r\n",
    "        return dictionary[n]\r\n",
    "    else:\r\n",
    "        output = fibonacci(n-1) + fibonacci(n-2)\r\n",
    "        dictionary[n] = output\r\n",
    "        return output\r\n",
    "print(\"fibonacci(20):\", fibonacci(20))\r\n",
    "print(dictionary)"
   ],
   "outputs": [
    {
     "output_type": "stream",
     "name": "stdout",
     "text": [
      "fibonacci(20): 6765\n",
      "{1: 1, 2: 1, 3: 2, 4: 3, 5: 5, 6: 8, 7: 13, 8: 21, 9: 34, 10: 55, 11: 89, 12: 144, 13: 233, 14: 377, 15: 610, 16: 987, 17: 1597, 18: 2584, 19: 4181, 20: 6765}\n"
     ]
    }
   ],
   "metadata": {}
  },
  {
   "cell_type": "markdown",
   "source": [
    "3. 변수 생성과 변수 접근 측면에서 본 변수의 종류\r\n",
    "- 전역 변수 (Global variable)\r\n",
    "    : 프로그램 어디에서든 접근 가능\r\n",
    "    : 프로그램이 종료되면 소멸\r\n",
    "    \r\n",
    "- 지역 변수 (Local variable)\r\n",
    "    : 코드 블록 내부에 선언/생성된 변수\r\n",
    "    : 해당 코드 블록 내부에서만 접근 가능\r\n",
    "    : 해당 코드 블록을 벗어나면 소멸\r\n",
    "\r\n",
    "4. Python\r\n",
    "- 전역 변수\r\n",
    "    * 프로그램 (인터랙티브 셸도 포함) 또는 모듈 어디에서든 접근 가능\r\n",
    "    * 모듈, 인터랙티브에서 생성한 변수\r\n",
    "    * 변수를 생성하는 문장에서 생성되고 프로그램이 종료될 때 소멸\r\n",
    "\r\n",
    "- 지역 변수\r\n",
    "    * 함수에서 생성한 변수\r\n",
    "    * 함수 매개변수\r\n",
    "    * 코드 블록에서 생성한 변수 (if, for, while ...)\r\n",
    "    * 일반적으로 생성하는 문장에서 변수가 생성되고 코드 블록이 끝나면 소멸, 파이썬은 조금 다르다\r\n",
    "\r\n",
    "\r\n",
    "- 자유 변수\r\n",
    "    - 변수가 생성된 곳과 접근한 곳이 다른 변수\r\n",
    "    - ex) for 변수는 for 문에서 생성 되었지만, for 문은 물론 for 바깥에서도 접근 가능\r\n",
    "    - 메인 프로그램 또는 모듈의 전역 변수는 함수 내부에서 접근 가능"
   ],
   "metadata": {}
  },
  {
   "cell_type": "markdown",
   "source": [
    "5. global문\r\n",
    "- 함수 내부에서 사용하는 자유변수가 전역 변수임을 선언\r\n",
    "- 전역 변수를 함수 내부에서 변경할 필요가 있을 때 사용 (cf : nonlocal)"
   ],
   "metadata": {}
  },
  {
   "cell_type": "code",
   "execution_count": 4,
   "source": [
    "# 전역 변수\r\n",
    "free = 10\r\n",
    "print('전역 변수 : {}'.format(free))\r\n",
    "\r\n",
    "# 전역 + 자유 변수\r\n",
    "def test():\r\n",
    "    global free\r\n",
    "    free = free + 10\r\n",
    "    print(\"전역 + 자유 변수 : {}\".format(free))\r\n",
    "test()\r\n",
    "\r\n",
    "# 로컬 변수\r\n",
    "def test():\r\n",
    "    free = 20 # local variable\r\n",
    "    print(\"로컬 변수 : {}\".format(free))\r\n",
    "test()"
   ],
   "outputs": [
    {
     "output_type": "stream",
     "name": "stdout",
     "text": [
      "전역 변수 : 10\n",
      "전역 + 자유 변수 : 20\n",
      "로컬 변수 : 20\n"
     ]
    }
   ],
   "metadata": {}
  },
  {
   "cell_type": "code",
   "execution_count": 5,
   "source": [
    "# 연습문제 1\r\n",
    "def flatten(data):\r\n",
    "    output = []\r\n",
    "    for i in data:\r\n",
    "        if type(i) == list:\r\n",
    "            output += flatten(i)\r\n",
    "        else:\r\n",
    "            output.append(i)\r\n",
    "    return output\r\n",
    "\r\n",
    "\r\n",
    "example = [[1, 2, 3], [4, [5, 6]], 7, [8, 9]]\r\n",
    "\r\n",
    "print(\"변환: \", flatten(example))"
   ],
   "outputs": [
    {
     "output_type": "stream",
     "name": "stdout",
     "text": [
      "변환:  [1, 2, 3, 4, 5, 6, 7, 8, 9]\n"
     ]
    }
   ],
   "metadata": {}
  },
  {
   "cell_type": "code",
   "execution_count": 6,
   "source": [
    "# 연습문제 2\r\n",
    "min_person = 2\r\n",
    "max_person = 10\r\n",
    "total = 100\r\n",
    "memo = {}\r\n",
    "\r\n",
    "def solution(rest, sit):\r\n",
    "    key = str([rest, sit])\r\n",
    "    if key in memo:\r\n",
    "        return memo[key]\r\n",
    "    elif rest < 0:\r\n",
    "        return 0\r\n",
    "    elif rest == 0:\r\n",
    "        return 1\r\n",
    "\r\n",
    "    count = 0\r\n",
    "    for i in range(sit, max_person + 1):\r\n",
    "        count += solution(rest - i, i)\r\n",
    "        memo[key] = count\r\n",
    "    return count\r\n",
    "\r\n",
    "print(solution(total, min_person))"
   ],
   "outputs": [
    {
     "output_type": "stream",
     "name": "stdout",
     "text": [
      "437420\n"
     ]
    }
   ],
   "metadata": {}
  }
 ],
 "metadata": {
  "orig_nbformat": 4,
  "language_info": {
   "name": "python",
   "version": "3.9.5",
   "mimetype": "text/x-python",
   "codemirror_mode": {
    "name": "ipython",
    "version": 3
   },
   "pygments_lexer": "ipython3",
   "nbconvert_exporter": "python",
   "file_extension": ".py"
  },
  "kernelspec": {
   "name": "python3",
   "display_name": "Python 3.9.5 64-bit"
  },
  "interpreter": {
   "hash": "5d44725d55c3c25373c9cea7b363fe9d5696c3b23e8383192da0211bfba569d6"
  }
 },
 "nbformat": 4,
 "nbformat_minor": 2
}