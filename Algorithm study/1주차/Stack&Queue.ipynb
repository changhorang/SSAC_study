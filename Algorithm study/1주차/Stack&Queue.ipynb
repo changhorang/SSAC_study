{
 "cells": [
  {
   "cell_type": "markdown",
   "source": [
    "# 1. Stack (스택)\r\n",
    "\r\n",
    "## 1.1 구조\r\n",
    "- Push (element 추가) : Books = [Book1, Book2, Book3]에 Book4를 추가 -> Books = [Book1, Book2, Book3, Book4]\r\n",
    "- Peek (element 관찰만)\r\n",
    "- Pop (element 가져오기)"
   ],
   "metadata": {}
  },
  {
   "cell_type": "markdown",
   "source": [
    "## 1.2 Python Stack 직접 구현"
   ],
   "metadata": {}
  },
  {
   "cell_type": "code",
   "execution_count": 1,
   "source": [
    "class Stack(list):\r\n",
    "    push = list.append\r\n",
    "\r\n",
    "    def peek(self):\r\n",
    "        return self[-1]\r\n",
    "    \r\n",
    "    # pop은 이미 내장 함수로 있음"
   ],
   "outputs": [],
   "metadata": {}
  },
  {
   "cell_type": "markdown",
   "source": [
    "## 1.3 활용"
   ],
   "metadata": {}
  },
  {
   "cell_type": "code",
   "execution_count": 2,
   "source": [
    "s = Stack()\r\n",
    "s.push(1)\r\n",
    "s.push(5)\r\n",
    "s.push(10)\r\n",
    "\r\n",
    "print(s)\r\n",
    "print(s.pop())\r\n",
    "print(s.peek)\r\n",
    "print(s)"
   ],
   "outputs": [
    {
     "output_type": "stream",
     "name": "stdout",
     "text": [
      "[1, 5, 10]\n",
      "10\n",
      "<bound method Stack.peek of [1, 5]>\n",
      "[1, 5]\n"
     ]
    }
   ],
   "metadata": {}
  },
  {
   "cell_type": "markdown",
   "source": [
    "# 2. 큐 : 일이 처리되기 기다리는 리스트 (선착순)\r\n",
    "## 2.1 Definition\r\n",
    "- put\r\n",
    "- peek\r\n",
    "- get\r\n",
    "## 2.2 구현"
   ],
   "metadata": {}
  },
  {
   "cell_type": "code",
   "execution_count": 3,
   "source": [
    "class Queue(list):\r\n",
    "    put = list.append\r\n",
    "\r\n",
    "    def peek(self):\r\n",
    "        return self[0]\r\n",
    "\r\n",
    "    def get(self):\r\n",
    "        return self.pop(0)"
   ],
   "outputs": [],
   "metadata": {}
  },
  {
   "cell_type": "markdown",
   "source": [
    "## 2.3 활용"
   ],
   "metadata": {}
  },
  {
   "cell_type": "code",
   "execution_count": 4,
   "source": [
    "q = Queue()\r\n",
    "q.put(1)\r\n",
    "q.put(5)\r\n",
    "q.put(10)\r\n",
    "\r\n",
    "print(q)\r\n",
    "print(q.get())\r\n",
    "print(q.peek())\r\n",
    "print(q)"
   ],
   "outputs": [
    {
     "output_type": "stream",
     "name": "stdout",
     "text": [
      "[1, 5, 10]\n",
      "1\n",
      "5\n",
      "[5, 10]\n"
     ]
    }
   ],
   "metadata": {}
  },
  {
   "cell_type": "code",
   "execution_count": 5,
   "source": [
    "# import\r\n",
    "# from queue import Queue\r\n",
    "# q = Queue()\r\n",
    "\r\n",
    "# print(q)\r\n",
    "# print(q.get())\r\n",
    "# print(q.peek())\r\n",
    "print(q)"
   ],
   "outputs": [
    {
     "output_type": "stream",
     "name": "stdout",
     "text": [
      "[5, 10]\n"
     ]
    }
   ],
   "metadata": {}
  },
  {
   "cell_type": "code",
   "execution_count": 7,
   "source": [
    "# list\r\n",
    "q.append(1)\r\n",
    "q.append(5)\r\n",
    "q.append(10)\r\n",
    "\r\n",
    "print(q.pop(0)) # get\r\n",
    "print(q[0]) # peek"
   ],
   "outputs": [
    {
     "output_type": "stream",
     "name": "stdout",
     "text": [
      "10\n",
      "1\n"
     ]
    }
   ],
   "metadata": {}
  }
 ],
 "metadata": {
  "orig_nbformat": 4,
  "language_info": {
   "name": "python",
   "version": "3.9.5",
   "mimetype": "text/x-python",
   "codemirror_mode": {
    "name": "ipython",
    "version": 3
   },
   "pygments_lexer": "ipython3",
   "nbconvert_exporter": "python",
   "file_extension": ".py"
  },
  "kernelspec": {
   "name": "python3",
   "display_name": "Python 3.9.5 64-bit"
  },
  "interpreter": {
   "hash": "5d44725d55c3c25373c9cea7b363fe9d5696c3b23e8383192da0211bfba569d6"
  }
 },
 "nbformat": 4,
 "nbformat_minor": 2
}