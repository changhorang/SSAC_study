{
 "cells": [
  {
   "cell_type": "markdown",
   "source": [
    "# 기능개발\r\n",
    "## 1. 문제"
   ],
   "metadata": {}
  },
  {
   "cell_type": "markdown",
   "source": [
    "- 먼저 배포되어야 하는 순서대로 작업의 진도가 적힌 정수 배열 progresses와 각 작업의 개발 속도가 적힌 정수 배열 speeds가 주어질 때, 각 배포마다 몇 개의 기능이 배포되는지를 return 하도록 solution 함수를 완성하세요."
   ],
   "metadata": {}
  },
  {
   "cell_type": "code",
   "execution_count": 13,
   "source": [
    "# 예시는 아래와 같음\r\n",
    "progresses = [93, 30, 55]\r\n",
    "speeds = [1, 30, 5]\r\n",
    "answer = [2, 1]"
   ],
   "outputs": [],
   "metadata": {}
  },
  {
   "cell_type": "markdown",
   "source": [
    "### 입출력 예 #1\r\n",
    "- 첫 번째 기능은 93% 완료되어 있고 하루에 1%씩 작업이 가능하므로 7일간 작업 후 배포가 가능\r\n",
    "- 두 번째 기능은 30%가 완료되어 있고 하루에 30%씩 작업이 가능하므로 3일간 작업 후 배포가 가능, 하지만 이전 첫 번째 기능이 아직 완성된 상태가 아니기 때문에 첫 번째 기능이 배포되는 7일째 배포\r\n",
    "- 세 번째 기능은 55%가 완료되어 있고 하루에 5%씩 작업이 가능하므로 9일간 작업 후 배포가 가능\r\n",
    "\r\n",
    "- 따라서 7일째에 2개의 기능, 9일째에 1개의 기능이 배포"
   ],
   "metadata": {}
  },
  {
   "cell_type": "code",
   "execution_count": 14,
   "source": [
    "# 먼저 list를 받는 함수를 정의\r\n",
    "def solution(progresses, speeds):\r\n",
    "    pass\r\n",
    "# 그리고 결과를 담을 빈 리스트를 하나 생성\r\n",
    "Q = []\r\n",
    "\r\n",
    "# 다시 for 문을 통해서 2개의 list를 zip 함수를 통해 묶기\r\n",
    "for p, s in zip(progresses, speeds):\r\n",
    "    print(p, s) # zip 함수의 결과는 아래와 같음"
   ],
   "outputs": [
    {
     "output_type": "stream",
     "name": "stdout",
     "text": [
      "93 1\n",
      "30 30\n",
      "55 5\n"
     ]
    }
   ],
   "metadata": {}
  },
  {
   "cell_type": "code",
   "execution_count": 15,
   "source": [
    "# if 문을 통해서 배포일과 배포하는 기능의 수를 list에 담기\r\n",
    "# 만약에 두 번째 기능 배포일이 첫 번째 기능 배포일 보다 큰 경우 배포 기능 수를 추가\r\n",
    "if len(Q) == 0 or Q[-1][0] < ((100-p)//s):\r\n",
    "    Q.append([((100-p)//s), 1])\r\n",
    "\r\n",
    "# 만약에 두 번째 기능 배포일이 첫 번째 기능 배포일 보다 작은 경우 배포 기능 수를 추가\r\n",
    "else:\r\n",
    "    Q[-1][1] += 1"
   ],
   "outputs": [],
   "metadata": {}
  },
  {
   "cell_type": "code",
   "execution_count": null,
   "source": [
    "# 마지막으로 q[1], 즉 배포하는 기능 수를 return\r\n",
    "return [q[1] for q in Q]"
   ],
   "outputs": [],
   "metadata": {}
  },
  {
   "cell_type": "markdown",
   "source": [
    "## 전체 Source 코드와 예제"
   ],
   "metadata": {}
  },
  {
   "cell_type": "code",
   "execution_count": 17,
   "source": [
    "progresses = [95, 90, 99, 99, 80, 99] \r\n",
    "speeds = [1, 1, 1, 1, 1, 1]\r\n",
    "\r\n",
    "# 정답 : [1, 3, 2]"
   ],
   "outputs": [],
   "metadata": {}
  },
  {
   "cell_type": "code",
   "execution_count": 19,
   "source": [
    "def solution(progresses, speeds):\r\n",
    "    Q=[]\r\n",
    "    for p, s in zip(progresses, speeds):\r\n",
    "        if len(Q) == 0 or Q[-1][0] < ((100-p)//s):\r\n",
    "            Q.append([((100-p)//s), 1])\r\n",
    "        \r\n",
    "        else:\r\n",
    "            Q[-1][1] += 1\r\n",
    "\r\n",
    "    return [q[1] for q in Q]\r\n",
    "\r\n",
    "solution(progresses, speeds)"
   ],
   "outputs": [
    {
     "output_type": "execute_result",
     "data": {
      "text/plain": [
       "[1, 3, 2]"
      ]
     },
     "metadata": {},
     "execution_count": 19
    }
   ],
   "metadata": {}
  }
 ],
 "metadata": {
  "orig_nbformat": 4,
  "language_info": {
   "name": "python",
   "version": "3.9.5",
   "mimetype": "text/x-python",
   "codemirror_mode": {
    "name": "ipython",
    "version": 3
   },
   "pygments_lexer": "ipython3",
   "nbconvert_exporter": "python",
   "file_extension": ".py"
  },
  "kernelspec": {
   "name": "python3",
   "display_name": "Python 3.9.5 64-bit"
  },
  "interpreter": {
   "hash": "5d44725d55c3c25373c9cea7b363fe9d5696c3b23e8383192da0211bfba569d6"
  }
 },
 "nbformat": 4,
 "nbformat_minor": 2
}