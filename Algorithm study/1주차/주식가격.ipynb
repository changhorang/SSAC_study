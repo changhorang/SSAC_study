{
 "cells": [
  {
   "cell_type": "code",
   "execution_count": 12,
   "source": [
    "# deque 모듈을 import 하여서 popleft를 활용\r\n",
    "from collections import deque\r\n",
    "\r\n",
    "def solution(prices):\r\n",
    "    answer = []\r\n",
    "    prices = deque(prices)\r\n",
    "    while prices:\r\n",
    "        # 왼쪽의 주식 현재가격을 꺼내옴\r\n",
    "        c = prices.popleft()\r\n",
    "\r\n",
    "        # 주식이 가격이 떨어지지 않을 때 까지 count를 늘림\r\n",
    "        count = 0\r\n",
    "        for i in prices:\r\n",
    "            # c값이 i값보다 큰 경우에는 count를 하나만 늘리고 멈춤\r\n",
    "            if c > i:\r\n",
    "                count += 1\r\n",
    "                break\r\n",
    "            count += 1\r\n",
    "\r\n",
    "        answer.append(count)\r\n",
    "\r\n",
    "    return answer"
   ],
   "outputs": [],
   "metadata": {}
  },
  {
   "cell_type": "code",
   "execution_count": 13,
   "source": [
    "prices = [1, 2, 3, 2, 3]\r\n",
    "solution(prices)"
   ],
   "outputs": [
    {
     "output_type": "execute_result",
     "data": {
      "text/plain": [
       "[4, 3, 1, 1, 0]"
      ]
     },
     "metadata": {},
     "execution_count": 13
    }
   ],
   "metadata": {}
  }
 ],
 "metadata": {
  "orig_nbformat": 4,
  "language_info": {
   "name": "python",
   "version": "3.9.5",
   "mimetype": "text/x-python",
   "codemirror_mode": {
    "name": "ipython",
    "version": 3
   },
   "pygments_lexer": "ipython3",
   "nbconvert_exporter": "python",
   "file_extension": ".py"
  },
  "kernelspec": {
   "name": "python3",
   "display_name": "Python 3.9.5 64-bit"
  },
  "interpreter": {
   "hash": "5d44725d55c3c25373c9cea7b363fe9d5696c3b23e8383192da0211bfba569d6"
  }
 },
 "nbformat": 4,
 "nbformat_minor": 2
}