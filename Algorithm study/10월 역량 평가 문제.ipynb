{
 "cells": [
  {
   "cell_type": "markdown",
   "metadata": {},
   "source": [
    "1. 아래와 같이 숫자를 두번 물어보게 하고 ★을 출력해서 사각형을 만드시오\n",
    "예시)\n",
    "가로의 숫자를 입력하시오 : 4\n",
    "세로의 숫자를 입력하시오 : 4\n",
    "★★★★\n",
    "★★★★\n",
    "★★★★\n",
    "★★★★\n"
   ]
  },
  {
   "cell_type": "code",
   "execution_count": 1,
   "metadata": {},
   "outputs": [
    {
     "name": "stdout",
     "output_type": "stream",
     "text": [
      "★★★★\n",
      "★★★★\n",
      "★★★★\n",
      "★★★★\n"
     ]
    }
   ],
   "source": [
    "a = int(input(\"가로의 숫자를 입력하시오 :\"))\n",
    "b = int(input(\"세로의 숫자를 입력하시오 :\"))\n",
    "\n",
    "for i in range(b):\n",
    "        print(\"★\"*a)"
   ]
  },
  {
   "cell_type": "markdown",
   "metadata": {},
   "source": [
    "2. 삼각형의 가로와 높이를 받아서 넓이를 출력하는 함수를 작성하시오"
   ]
  },
  {
   "cell_type": "code",
   "execution_count": 2,
   "metadata": {},
   "outputs": [
    {
     "data": {
      "text/plain": [
       "2.0"
      ]
     },
     "execution_count": 2,
     "metadata": {},
     "output_type": "execute_result"
    }
   ],
   "source": [
    "def triangle_area(w, h):\n",
    "    area = w*h/2\n",
    "    return area"
   ]
  },
  {
   "cell_type": "markdown",
   "metadata": {},
   "source": [
    "3. 아래와 같이 별이 찍히게 출력하시오\n",
    "숫자를 입력하세요 : \n",
    "    ★\n",
    "   ★★\n",
    "  ★★★\n",
    " ★★★★\n",
    "★★★★★  \n",
    " ★★★★\n",
    "   ★★★\n",
    "    ★★\n",
    "     ★"
   ]
  },
  {
   "cell_type": "code",
   "execution_count": 13,
   "metadata": {},
   "outputs": [
    {
     "name": "stdout",
     "output_type": "stream",
     "text": [
      "    ★\n",
      "   ★★\n",
      "  ★★★\n",
      " ★★★★\n",
      "★★★★★\n",
      " ★★★★\n",
      "  ★★★\n",
      "   ★★\n",
      "    ★\n",
      "     \n"
     ]
    }
   ],
   "source": [
    "a = int(input(\"숫자를 입력하세요 : \"))\n",
    "\n",
    "for i in range(1, a+1):\n",
    "    str = \"★\"*i\n",
    "    str = str.rjust(a, \" \")\n",
    "    print(str)\n",
    "for i in range(1, a+1):\n",
    "    str = \"★\"*(a-i)\n",
    "    str = str.rjust(a, \" \")\n",
    "    print(str)"
   ]
  },
  {
   "cell_type": "markdown",
   "metadata": {},
   "source": [
    "4 .1부터 100까지의 수의 합을 계산하던 중에 합이 1000 이상일 때, 최초로 1000을 넘게 하는 수가 무엇인지 코드를 만들고 답을 구하시오."
   ]
  },
  {
   "cell_type": "code",
   "execution_count": 42,
   "metadata": {},
   "outputs": [
    {
     "name": "stdout",
     "output_type": "stream",
     "text": [
      "45\n"
     ]
    }
   ],
   "source": [
    "x = 0\n",
    "a = 0\n",
    "\n",
    "for i in range(1, 100):\n",
    "    x += i\n",
    "    if x < 1000:\n",
    "        a = i+1\n",
    "\n",
    "print(a)"
   ]
  },
  {
   "cell_type": "markdown",
   "metadata": {},
   "source": [
    "5. 정수를 입력했을때 짝수인지 홀수인지 핀별하는 코드를 작성하시오."
   ]
  },
  {
   "cell_type": "code",
   "execution_count": 43,
   "metadata": {},
   "outputs": [
    {
     "name": "stdout",
     "output_type": "stream",
     "text": [
      "홀수\n"
     ]
    }
   ],
   "source": [
    "a = int(input(\"입력한 정수\"))\n",
    "\n",
    "if a % 2 == 1:\n",
    "    print(\"홀수\")\n",
    "else:\n",
    "    print(\"짝수\")"
   ]
  },
  {
   "cell_type": "markdown",
   "metadata": {},
   "source": [
    "6. 리스트 메서드 중 하나를 이용하여 아래의 리스트를 ABCD순으로 정렬하시오.\n",
    "namelist = ['Mary', 'Sams', 'Aimy', 'Tom', 'Michale', 'Bob', 'Kelly']"
   ]
  },
  {
   "cell_type": "code",
   "execution_count": 47,
   "metadata": {},
   "outputs": [
    {
     "name": "stdout",
     "output_type": "stream",
     "text": [
      "['Aimy', 'Bob', 'Kelly', 'Mary', 'Michale', 'Sams', 'Tom']\n"
     ]
    }
   ],
   "source": [
    "namelist = ['Mary', 'Sams', 'Aimy', 'Tom', 'Michale', 'Bob', 'Kelly']\n",
    "\n",
    "print(sorted(namelist))"
   ]
  },
  {
   "cell_type": "markdown",
   "metadata": {},
   "source": [
    "7. 주민등록번호를 입력하면 남자인지 여자인지 알려주는 프로그램을 작성하시오. (리스트  split 과 슬라이싱 활용)"
   ]
  },
  {
   "cell_type": "code",
   "execution_count": 51,
   "metadata": {},
   "outputs": [
    {
     "name": "stdout",
     "output_type": "stream",
     "text": [
      "여자\n"
     ]
    }
   ],
   "source": [
    "id_number = list(input().split('-'))\n",
    "\n",
    "if id_number[1][0] == '1':\n",
    "    print(\"남자\")\n",
    "else:\n",
    "    print(\"여자\")"
   ]
  },
  {
   "cell_type": "markdown",
   "metadata": {},
   "source": [
    "8.  확장자가 포함된 파일 이름이 담긴 리스트에서 확장자를 제거하고 파일 이름만 추가 리스트에\n",
    "저장하시오."
   ]
  },
  {
   "cell_type": "code",
   "execution_count": 52,
   "metadata": {},
   "outputs": [],
   "source": [
    "file = ['exit.py', 'hi.py','playdata.hwp','intro.jpg']\n",
    "file_name = []\n",
    "\n",
    "for i in file:\n",
    "    file_name.append(i.split(\".\")[0])"
   ]
  },
  {
   "cell_type": "markdown",
   "metadata": {},
   "source": [
    "9. 다음 리스트에서 알파벳의 갯수가 7개인 단어를 출력하시오."
   ]
  },
  {
   "cell_type": "code",
   "execution_count": 54,
   "metadata": {},
   "outputs": [
    {
     "name": "stdout",
     "output_type": "stream",
     "text": [
      "charlie\n",
      "foxtrot\n"
     ]
    }
   ],
   "source": [
    "a = ['alpha', 'bravo', 'charlie', 'delta', 'echo', 'foxtrot', 'golf', 'hotel', 'india']\n",
    "\n",
    "for i in a:\n",
    "    if len(i) == 7:\n",
    "        print(i)"
   ]
  },
  {
   "cell_type": "markdown",
   "metadata": {},
   "source": [
    "10. 리스트 메서드 중 하나를 이용하여 아래의 리스트에 '화성'이라는 요소를 삽입하시오.\n",
    "출력 전 리스트 : planet =['태양','수성','금성','목성','토성','천왕성','해왕성']\n",
    "출력 후 리스트 : planet =['태양','수성','금성','화성','목성','토성','천왕성','해왕성']"
   ]
  },
  {
   "cell_type": "code",
   "execution_count": 55,
   "metadata": {},
   "outputs": [
    {
     "name": "stdout",
     "output_type": "stream",
     "text": [
      "['태양', '수성', '금성', '화성', '토성', '천왕성', '해왕성']\n"
     ]
    }
   ],
   "source": [
    "planet =['태양','수성','금성','목성','토성','천왕성','해왕성']\n",
    "\n",
    "planet[3] = '화성'\n",
    "print(planet)"
   ]
  },
  {
   "cell_type": "markdown",
   "metadata": {},
   "source": [
    "11.점수 구간에 해당하는 학점이 아래와 같이 정의되어 있다. 점수를 입력했을때 해당 학점이 출력하게\n",
    "하시오.\n",
    "81~100 : A\n",
    "61~80 : B\n",
    "41~60 : C\n",
    "21~40 : D\n",
    "0~20 : F"
   ]
  },
  {
   "cell_type": "code",
   "execution_count": 58,
   "metadata": {},
   "outputs": [
    {
     "name": "stdout",
     "output_type": "stream",
     "text": [
      "F\n"
     ]
    }
   ],
   "source": [
    "score = int(input(\"점수를 입력 하시오:\"))\n",
    "\n",
    "if 81 <= score <= 100:\n",
    "    print(\"A\")\n",
    "\n",
    "elif 61 <= score <= 80:\n",
    "    print(\"B\")\n",
    "\n",
    "elif 41 <= score <= 60:\n",
    "    print(\"C\")\n",
    "\n",
    "elif 21 <= score <= 40:\n",
    "    print(\"D\")\n",
    "\n",
    "else:\n",
    "    print(\"F\")"
   ]
  },
  {
   "cell_type": "markdown",
   "metadata": {},
   "source": [
    "12. 최대공약수 및 최소공배수를 구하는 함수를 구현하시오."
   ]
  },
  {
   "cell_type": "code",
   "execution_count": 59,
   "metadata": {},
   "outputs": [
    {
     "data": {
      "text/plain": [
       "5"
      ]
     },
     "execution_count": 59,
     "metadata": {},
     "output_type": "execute_result"
    }
   ],
   "source": [
    "def GCD(a, b):\n",
    "    while(b):\n",
    "        a, b = b, a%b\n",
    "    return a\n",
    "\n",
    "def LCM(a, b):\n",
    "    result = (a*b)//GCD(a, b)\n",
    "    return result"
   ]
  },
  {
   "cell_type": "markdown",
   "metadata": {},
   "source": [
    "13.Card 클래스를 생성해 카드에 충전기능, 소비기능, 잔액을 알려주는 기능을 넣으시오.\n",
    "-충전기능 (charge)\n",
    "-소비기능 (consume)\n",
    "print 기능(print) # 잔액이 ( ) 원 입니다."
   ]
  },
  {
   "cell_type": "code",
   "execution_count": 77,
   "metadata": {},
   "outputs": [
    {
     "name": "stdout",
     "output_type": "stream",
     "text": [
      "9000\n"
     ]
    }
   ],
   "source": [
    "class Card:\n",
    "    def __init__(self, total, n):\n",
    "        self.total = total\n",
    "        self.n = n\n",
    "\n",
    "    def charge(self):\n",
    "        self.total += n\n",
    "        return self.total\n",
    "\n",
    "    def consume(self):\n",
    "        self.total -= n\n",
    "        return self.total\n",
    "\n",
    "    def balance_inquiry(total):\n",
    "        print(f\"잔액이 {total}원 입니다.\")\n",
    "\n",
    "total = 10000\n",
    "n = 1000\n",
    "card = Card(total, n)\n",
    "print(card.consume())\n"
   ]
  },
  {
   "cell_type": "markdown",
   "metadata": {},
   "source": [
    "14. 년, 월, 일을 입력하면 그 날이 무슨 요일인지 출력하시오."
   ]
  },
  {
   "cell_type": "code",
   "execution_count": 79,
   "metadata": {},
   "outputs": [
    {
     "name": "stdout",
     "output_type": "stream",
     "text": [
      "토요일\n"
     ]
    }
   ],
   "source": [
    "import datetime\n",
    "\n",
    "days = ['월요일', '화요일', '수요일', '목요일', '금요일', '토요일', '일요일']\n",
    "a, b, c = map(int, input().split())\n",
    "\n",
    "day = days[datetime.date(a, b, c).weekday()]\n",
    "print(day)"
   ]
  },
  {
   "cell_type": "markdown",
   "metadata": {},
   "source": [
    "15 계산기 기능을 하는 Calculator 클래스를 만드시오.\n",
    "cal = Calculator()\n",
    "\n",
    "<입력>\n",
    "print(cal.Add(10,20))\n",
    "print(cal.Min(10,20))\n",
    "print(cal.Mul(10,20))\n",
    "print(cal.Div(10,20))"
   ]
  },
  {
   "cell_type": "code",
   "execution_count": 88,
   "metadata": {},
   "outputs": [
    {
     "name": "stdout",
     "output_type": "stream",
     "text": [
      "30\n",
      "-10\n",
      "200\n",
      "0.5\n",
      "3.0\n"
     ]
    }
   ],
   "source": [
    "class Calculator:\n",
    "    def Add(self, a, b):\n",
    "        return (a + b)\n",
    "\n",
    "    def Min(self, a, b):\n",
    "        return (a - b)\n",
    "\n",
    "    def Mul(self, a, b):\n",
    "        return (a*b)\n",
    "\n",
    "    def Div(self, a, b):\n",
    "        return (a/b)\n",
    "\n",
    "cal = Calculator()\n",
    "print(cal.Add(10, 20))\n",
    "print(cal.Min(10, 20))\n",
    "print(cal.Mul(10, 20))\n",
    "print(cal.Div(10, 20))"
   ]
  },
  {
   "cell_type": "markdown",
   "metadata": {},
   "source": [
    "16. Gorila 라는 클래스를 생성하시오.\n",
    "1. 바나나를 먹는 기능 : eat\n",
    "2. 바나나가 뱃속에 몇 개 남았는지 확인하는 기능 : check\n",
    "3. 소리지르는 기능 : shout\n",
    "4. 걷는 기능 :  walk"
   ]
  },
  {
   "cell_type": "code",
   "execution_count": 93,
   "metadata": {},
   "outputs": [
    {
     "name": "stdout",
     "output_type": "stream",
     "text": [
      "바나나 먹는중\n",
      "뱃 속에 남은 바나나는 5개\n",
      "Shout!!\n",
      "Walking~\n"
     ]
    }
   ],
   "source": [
    "class Gorila:\n",
    "    def eat(self):\n",
    "        print(\"바나나 먹는중\")\n",
    "\n",
    "    def check(self, rest):\n",
    "        print(f\"뱃 속에 남은 바나나는 {rest}개\")\n",
    "\n",
    "    def shout(self):\n",
    "        print(\"Shout!!\")\n",
    "\n",
    "    def walk(self):\n",
    "        print(\"Walking~\")\n",
    "\n",
    "gorila = Gorila()\n",
    "gorila.eat()\n",
    "gorila.check(5)\n",
    "gorila.shout()\n",
    "gorila.walk()"
   ]
  },
  {
   "cell_type": "markdown",
   "metadata": {},
   "source": [
    "17. Gun 이라는 클래스를 생성하시오.\n",
    "1. 충전 기능 : charge\n",
    "2. 쏘는 기능 : shoot\n",
    "3. 남아있는 총알 갯수 확인 기능 : check"
   ]
  },
  {
   "cell_type": "code",
   "execution_count": 1,
   "metadata": {},
   "outputs": [
    {
     "name": "stdout",
     "output_type": "stream",
     "text": [
      "총알 5발 충전\n",
      "Shoot!!\n",
      "남은 총알 수: 5\n"
     ]
    }
   ],
   "source": [
    "class Gun:\n",
    "    def charge(self, n):\n",
    "        print(f\"총알 {n}발 충전\")\n",
    "\n",
    "    def shoot(self):\n",
    "        print(\"Shoot!!\")\n",
    "\n",
    "    def check(self, n):\n",
    "        print(f\"남은 총알 수: {n}\")\n",
    "\n",
    "n = 5\n",
    "gun = Gun()\n",
    "gun.charge(n)\n",
    "gun.shoot()\n",
    "gun.check(n)\n"
   ]
  },
  {
   "cell_type": "markdown",
   "metadata": {},
   "source": [
    "18. 아직 정렬되지 않은 값을 이미 정렬된 배열 사이에 끼워 넣는 과정을 반복하여 정렬하는 것을 삽입정렬이라고 합니다. 주어진 리스트를 삽입정렬함수(insert_sort)를 생성하여 오름차순으로 정렬하시오."
   ]
  },
  {
   "cell_type": "code",
   "execution_count": 8,
   "metadata": {},
   "outputs": [
    {
     "name": "stdout",
     "output_type": "stream",
     "text": [
      "[1, 2, 3, 4, 5, 6, 7, 8, 9, 10, 11, 21]\n"
     ]
    }
   ],
   "source": [
    "given_list = [6, 2, 3, 7, 8, 10, 21, 1]\n",
    "sorted_list = [4, 5, 9, 11]\n",
    "\n",
    "def insert_sort(a, b):\n",
    "    for i in a:\n",
    "        b.append(i)\n",
    "    b = sorted(b)\n",
    "    print(b)\n",
    "\n",
    "insert_sort(given_list, sorted_list)"
   ]
  },
  {
   "cell_type": "markdown",
   "metadata": {},
   "source": [
    "19 .앞뒤로 이웃한 숫자를 비교하여 크기가 큰 숫자가 작은숫자보다 앞에 있을 경우 서로 위치를 바꿔 가며 정렬하는 것을 버블정렬이라고 합니다. 주어진 리스트를 버블정렬함수(bubble_sort)를 생성하여 오름차순으로 정렬하시오."
   ]
  },
  {
   "cell_type": "code",
   "execution_count": 14,
   "metadata": {},
   "outputs": [
    {
     "data": {
      "text/plain": [
       "[1, 2, 3, 4, 5, 6, 7, 8, 10, 11, 16, 21]"
      ]
     },
     "execution_count": 14,
     "metadata": {},
     "output_type": "execute_result"
    }
   ],
   "source": [
    "list = [4, 3, 2, 1, 8, 7, 5, 10, 11, 16, 21, 6]\n",
    "\n",
    "def bubble_sort(l):\n",
    "    for i in range(len(l) - 1, 0, -1):\n",
    "        for j in range(i):\n",
    "            if l[j] > l[j + 1]:\n",
    "                l[j], l[j + 1] = l[j + 1], l[j]\n",
    "    return l\n",
    "\n",
    "        \n",
    "bubble_sort(list)"
   ]
  },
  {
   "cell_type": "markdown",
   "metadata": {},
   "source": [
    "20. 팩토리얼은 1부터 n까지 연속한 숫자의 곱이라 합니다. 팩토리얼을 함수(factorial)로 구현하는데 재귀함수를 이용하여 구현하시오"
   ]
  },
  {
   "cell_type": "code",
   "execution_count": 10,
   "metadata": {},
   "outputs": [
    {
     "name": "stdout",
     "output_type": "stream",
     "text": [
      "6\n"
     ]
    }
   ],
   "source": [
    "def factorial(n):\n",
    "    if n == 1:      \n",
    "        return 1\n",
    "    return n * factorial(n - 1)\n",
    "\n",
    "print(factorial(3))"
   ]
  }
 ],
 "metadata": {
  "interpreter": {
   "hash": "5d44725d55c3c25373c9cea7b363fe9d5696c3b23e8383192da0211bfba569d6"
  },
  "kernelspec": {
   "display_name": "Python 3.9.5 64-bit",
   "name": "python3"
  },
  "language_info": {
   "codemirror_mode": {
    "name": "ipython",
    "version": 3
   },
   "file_extension": ".py",
   "mimetype": "text/x-python",
   "name": "python",
   "nbconvert_exporter": "python",
   "pygments_lexer": "ipython3",
   "version": "3.9.5"
  },
  "orig_nbformat": 4
 },
 "nbformat": 4,
 "nbformat_minor": 2
}
