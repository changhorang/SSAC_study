{
 "cells": [
  {
   "cell_type": "markdown",
   "metadata": {},
   "source": [
    "## 1978번 : 소수 찾기\n",
    "주어진 수 N개 중에서 소수가 몇 개인지 찾아서 출력하는 프로그램을 작성하시오."
   ]
  },
  {
   "cell_type": "code",
   "execution_count": 30,
   "metadata": {},
   "outputs": [
    {
     "name": "stdout",
     "output_type": "stream",
     "text": [
      "3\n"
     ]
    }
   ],
   "source": [
    "import math\n",
    "\n",
    "n = int(input())\n",
    "num_list = [int(x) for x in input().split()]\n",
    "num_count = 0\n",
    "\n",
    "for i in num_list:\n",
    "    count = 0\n",
    "\n",
    "    if i == 1:\n",
    "        continue\n",
    "\n",
    "    for j in range(2, i):\n",
    "        if i % j == 0:\n",
    "            count += 1\n",
    "    if count == 0:\n",
    "        num_count += 1\n",
    "\n",
    "print(num_count)"
   ]
  },
  {
   "cell_type": "markdown",
   "metadata": {},
   "source": [
    "## 2581번 : 소수\n",
    "자연수 M과 N이 주어질 때 M이상 N이하의 자연수 중 소수인 것을 모두 골라 이들 소수의 합과 최솟값을 찾는 프로그램을 작성하시오.\n",
    "\n",
    "예를 들어 M=60, N=100인 경우 60이상 100이하의 자연수 중 소수는 61, 67, 71, 73, 79, 83, 89, 97 총 8개가 있으므로, 이들 소수의 합은 620이고, 최솟값은 61이 된다."
   ]
  },
  {
   "cell_type": "code",
   "execution_count": 10,
   "metadata": {},
   "outputs": [
    {
     "name": "stdout",
     "output_type": "stream",
     "text": [
      "620\n",
      "61\n"
     ]
    }
   ],
   "source": [
    "A = int(input())\n",
    "B = int(input())\n",
    "\n",
    "num_sum = 0\n",
    "num_min = B\n",
    "\n",
    "for i in range(A, B+1):\n",
    "    count = 0\n",
    "\n",
    "    if i == 1:\n",
    "        continue\n",
    "\n",
    "    for j in range(2, i):\n",
    "        if i % j == 0:\n",
    "            count += 1\n",
    "            continue\n",
    "    if count == 0:\n",
    "        num_sum += i\n",
    "        if num_min > i:\n",
    "            num_min = i\n",
    "\n",
    "if num_min != B:\n",
    "    print(num_sum)\n",
    "    print(num_min)\n",
    "else:\n",
    "    print(-1)"
   ]
  }
 ],
 "metadata": {
  "interpreter": {
   "hash": "5d44725d55c3c25373c9cea7b363fe9d5696c3b23e8383192da0211bfba569d6"
  },
  "kernelspec": {
   "display_name": "Python 3.9.5 64-bit",
   "name": "python3"
  },
  "language_info": {
   "codemirror_mode": {
    "name": "ipython",
    "version": 3
   },
   "file_extension": ".py",
   "mimetype": "text/x-python",
   "name": "python",
   "nbconvert_exporter": "python",
   "pygments_lexer": "ipython3",
   "version": "3.9.5"
  },
  "orig_nbformat": 4
 },
 "nbformat": 4,
 "nbformat_minor": 2
}
