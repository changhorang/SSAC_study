{
  "nbformat": 4,
  "nbformat_minor": 0,
  "metadata": {
    "colab": {
      "name": "1차원 배열.ipynb",
      "provenance": [],
      "collapsed_sections": []
    },
    "kernelspec": {
      "name": "python3",
      "display_name": "Python 3"
    },
    "language_info": {
      "name": "python"
    }
  },
  "cells": [
    {
      "cell_type": "markdown",
      "metadata": {
        "id": "1LBHGVK--NiZ"
      },
      "source": [
        "# 1차원 배열\n",
        "## 10818번 최소, 최대\n",
        "- N개의 정수가 주어진다. 이때, 최솟값과 최댓값을 구하는 프로그램을 작성하시오."
      ]
    },
    {
      "cell_type": "code",
      "metadata": {
        "colab": {
          "base_uri": "https://localhost:8080/"
        },
        "id": "tCV1MPDs-aW9",
        "outputId": "4c6fda34-d078-4cc3-9b25-3ef767e916a2"
      },
      "source": [
        "T = int(input())\n",
        "a = [int(i) for i in input().split()]\n",
        "\n",
        "print(min(a), max(a))\n",
        "  \n"
      ],
      "execution_count": null,
      "outputs": [
        {
          "name": "stdout",
          "output_type": "stream",
          "text": [
            "5\n",
            "1 2 3 4 5\n"
          ]
        },
        {
          "output_type": "execute_result",
          "data": {
            "text/plain": [
              "[1, 2, 3, 4, 5]"
            ]
          },
          "metadata": {},
          "execution_count": 21
        }
      ]
    },
    {
      "cell_type": "markdown",
      "metadata": {
        "id": "ylh9rrqZDdC7"
      },
      "source": [
        "## 2562번 최댓값\n",
        "9개의 서로 다른 자연수가 주어질 때, 이들 중 최댓값을 찾고 그 최댓값이 몇 번째 수인지를 구하는 프로그램을 작성하시오.\n",
        "\n",
        "예를 들어, 서로 다른 9개의 자연수\n",
        "\n",
        "3, 29, 38, 12, 57, 74, 40, 85, 61\n",
        "\n",
        "이 주어지면, 이들 중 최댓값은 85이고, 이 값은 8번째 수이다."
      ]
    },
    {
      "cell_type": "code",
      "metadata": {
        "colab": {
          "base_uri": "https://localhost:8080/"
        },
        "id": "KKS6cBDR-LpS",
        "outputId": "23a614e1-cb93-413c-fe07-bb9d3c034a3e"
      },
      "source": [
        "import sys\n",
        "\n",
        "l = []\n",
        "\n",
        "for k in sys.stdin:\n",
        "  l.append(int(k))\n",
        "\n",
        "\n",
        "for i, j in enumerate(l):\n",
        "  if max(l) == j:\n",
        "    print(j, i+1, sep='\\n')"
      ],
      "execution_count": null,
      "outputs": [
        {
          "output_type": "stream",
          "name": "stdout",
          "text": [
            "85\n",
            "8\n"
          ]
        }
      ]
    },
    {
      "cell_type": "markdown",
      "metadata": {
        "id": "uhO0lvN7LgIO"
      },
      "source": [
        "## 2577번 숫자의 개수\n",
        "\n",
        "세 개의 자연수 A, B, C가 주어질 때 A × B × C를 계산한 결과에 0부터 9까지 각각의 숫자가 몇 번씩 쓰였는지를 구하는 프로그램을 작성하시오.\n",
        "\n",
        "예를 들어 A = 150, B = 266, C = 427 이라면 A × B × C = 150 × 266 × 427 = 17037300 이 되고, 계산한 결과 17037300 에는 0이 3번, 1이 1번, 3이 2번, 7이 2번 쓰였다."
      ]
    },
    {
      "cell_type": "code",
      "metadata": {
        "colab": {
          "base_uri": "https://localhost:8080/"
        },
        "id": "Sw9w1H6_LfkP",
        "outputId": "40a530f0-ab84-4f14-d34f-40e73d37701c"
      },
      "source": [
        "import sys\n",
        "\n",
        "l1 = []\n",
        "l2 = [0, 0, 0, 0, 0, 0, 0, 0, 0, 0]\n",
        "x = 1\n",
        "\n",
        "\n",
        "for i in sys.stdin:\n",
        "  l1.append(int(i))\n",
        "\n",
        "# a = [150, 21, 510]\n",
        "# # 260100\n",
        "\n",
        "\n",
        "for y in l1:\n",
        "  x *= y\n",
        "\n",
        "for j in str(x):\n",
        "  for k in range(10):\n",
        "    if k == int(j):\n",
        "      l2[k] += 1\n",
        "\n",
        "for m in l2:\n",
        "  print(m)"
      ],
      "execution_count": null,
      "outputs": [
        {
          "output_type": "stream",
          "name": "stdout",
          "text": [
            "3\n",
            "1\n",
            "1\n",
            "0\n",
            "0\n",
            "0\n",
            "1\n",
            "0\n",
            "0\n",
            "0\n"
          ]
        }
      ]
    }
  ]
}