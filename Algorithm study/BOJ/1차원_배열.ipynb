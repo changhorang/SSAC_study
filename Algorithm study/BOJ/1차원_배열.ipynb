{
  "cells": [
    {
      "cell_type": "markdown",
      "metadata": {
        "id": "1LBHGVK--NiZ"
      },
      "source": [
        "# 1차원 배열\n",
        "## 10818번 최소, 최대\n",
        "N개의 정수가 주어진다. 이때, 최솟값과 최댓값을 구하는 프로그램을 작성하시오."
      ]
    },
    {
      "cell_type": "code",
      "execution_count": null,
      "metadata": {
        "colab": {
          "base_uri": "https://localhost:8080/"
        },
        "id": "tCV1MPDs-aW9",
        "outputId": "4c6fda34-d078-4cc3-9b25-3ef767e916a2"
      },
      "outputs": [
        {
          "name": "stdout",
          "output_type": "stream",
          "text": [
            "5\n",
            "1 2 3 4 5\n"
          ]
        },
        {
          "data": {
            "text/plain": [
              "[1, 2, 3, 4, 5]"
            ]
          },
          "execution_count": 21,
          "metadata": {},
          "output_type": "execute_result"
        }
      ],
      "source": [
        "T = int(input())\n",
        "a = [int(i) for i in input().split()]\n",
        "\n",
        "print(min(a), max(a))"
      ]
    },
    {
      "cell_type": "markdown",
      "metadata": {
        "id": "ylh9rrqZDdC7"
      },
      "source": [
        "## 2562번 최댓값\n",
        "9개의 서로 다른 자연수가 주어질 때, 이들 중 최댓값을 찾고 그 최댓값이 몇 번째 수인지를 구하는 프로그램을 작성하시오.\n",
        "\n",
        "예를 들어, 서로 다른 9개의 자연수\n",
        "\n",
        "3, 29, 38, 12, 57, 74, 40, 85, 61\n",
        "\n",
        "이 주어지면, 이들 중 최댓값은 85이고, 이 값은 8번째 수이다."
      ]
    },
    {
      "cell_type": "code",
      "execution_count": null,
      "metadata": {
        "colab": {
          "base_uri": "https://localhost:8080/"
        },
        "id": "KKS6cBDR-LpS",
        "outputId": "23a614e1-cb93-413c-fe07-bb9d3c034a3e"
      },
      "outputs": [
        {
          "name": "stdout",
          "output_type": "stream",
          "text": [
            "85\n",
            "8\n"
          ]
        }
      ],
      "source": [
        "import sys\n",
        "\n",
        "l = []\n",
        "\n",
        "for k in sys.stdin:\n",
        "  l.append(int(k))\n",
        "\n",
        "\n",
        "for i, j in enumerate(l):\n",
        "  if max(l) == j:\n",
        "    print(j, i+1, sep='\\n')"
      ]
    },
    {
      "cell_type": "markdown",
      "metadata": {
        "id": "uhO0lvN7LgIO"
      },
      "source": [
        "## 2577번 숫자의 개수\n",
        "\n",
        "세 개의 자연수 A, B, C가 주어질 때 A × B × C를 계산한 결과에 0부터 9까지 각각의 숫자가 몇 번씩 쓰였는지를 구하는 프로그램을 작성하시오.\n",
        "\n",
        "예를 들어 A = 150, B = 266, C = 427 이라면 A × B × C = 150 × 266 × 427 = 17037300 이 되고, 계산한 결과 17037300 에는 0이 3번, 1이 1번, 3이 2번, 7이 2번 쓰였다."
      ]
    },
    {
      "cell_type": "code",
      "execution_count": null,
      "metadata": {
        "colab": {
          "base_uri": "https://localhost:8080/"
        },
        "id": "Sw9w1H6_LfkP",
        "outputId": "40a530f0-ab84-4f14-d34f-40e73d37701c"
      },
      "outputs": [
        {
          "name": "stdout",
          "output_type": "stream",
          "text": [
            "3\n",
            "1\n",
            "1\n",
            "0\n",
            "0\n",
            "0\n",
            "1\n",
            "0\n",
            "0\n",
            "0\n"
          ]
        }
      ],
      "source": [
        "import sys\n",
        "\n",
        "l1 = []\n",
        "l2 = [0, 0, 0, 0, 0, 0, 0, 0, 0, 0]\n",
        "x = 1\n",
        "\n",
        "for i in sys.stdin:\n",
        "  l1.append(int(i))\n",
        "\n",
        "# a = [150, 21, 510]\n",
        "# # 260100\n",
        "\n",
        "for y in l1:\n",
        "  x *= y\n",
        "\n",
        "for j in str(x):\n",
        "  for k in range(10):\n",
        "    if k == int(j):\n",
        "      l2[k] += 1\n",
        "\n",
        "for m in l2:\n",
        "  print(m)"
      ]
    },
    {
      "cell_type": "markdown",
      "metadata": {},
      "source": [
        "## 3052번 나머지\n",
        "두 자연수 A와 B가 있을 때, A%B는 A를 B로 나눈 나머지 이다. 예를 들어, 7, 14, 27, 38을 3으로 나눈 나머지는 1, 2, 0, 2이다. \n",
        "\n",
        "수 10개를 입력받은 뒤, 이를 42로 나눈 나머지를 구한다. 그 다음 서로 다른 값이 몇 개 있는지 출력하는 프로그램을 작성하시오."
      ]
    },
    {
      "cell_type": "code",
      "execution_count": 12,
      "metadata": {},
      "outputs": [
        {
          "name": "stdout",
          "output_type": "stream",
          "text": [
            "6\n"
          ]
        }
      ],
      "source": [
        "import sys\n",
        "\n",
        "count = 0\n",
        "l1 = []\n",
        "l2 = []\n",
        "\n",
        "for i in sys.stdin:\n",
        "    l1.append(int(i))\n",
        "\n",
        "# l1 = [39, 40, 41, 42, 43, 44, 82, 83, 84, 85]\n",
        "\n",
        "for i in l1:\n",
        "    if i%42 not in l2:\n",
        "        l2.append(i%42)\n",
        "        count += 1\n",
        "        \n",
        "print(count)"
      ]
    },
    {
      "cell_type": "markdown",
      "metadata": {},
      "source": [
        "## 1546번 평균\n",
        "세준이는 기말고사를 망쳤다. 세준이는 점수를 조작해서 집에 가져가기로 했다. 일단 세준이는 자기 점수 중에 최댓값을 골랐다. 이 값을 M이라고 한다. 그리고 나서 모든 점수를 점수/M*100으로 고쳤다.\n",
        "\n",
        "예를 들어, 세준이의 최고점이 70이고, 수학점수가 50이었으면 수학점수는 50/70*100이 되어 71.43점이 된다.\n",
        "\n",
        "세준이의 성적을 위의 방법대로 새로 계산했을 때, 새로운 평균을 구하는 프로그램을 작성하시오."
      ]
    },
    {
      "cell_type": "code",
      "execution_count": null,
      "metadata": {},
      "outputs": [],
      "source": [
        "import sys\n",
        "\n",
        "n = int(input())\n",
        "\n",
        "data = list(map(int, sys.stdin.readline().split()))\n",
        "\n",
        "print(sum(data)*100/max(data)/n)"
      ]
    },
    {
      "cell_type": "markdown",
      "metadata": {},
      "source": [
        "## 8958번 OX퀴즈\n",
        "\"OOXXOXXOOO\"와 같은 OX퀴즈의 결과가 있다. O는 문제를 맞은 것이고, X는 문제를 틀린 것이다. 문제를 맞은 경우 그 문제의 점수는 그 문제까지 연속된 O의 개수가 된다. 예를 들어, 10번 문제의 점수는 3이 된다.\n",
        "\n",
        "\"OOXXOXXOOO\"의 점수는 1+2+0+0+1+0+0+1+2+3 = 10점이다.\n",
        "\n",
        "OX퀴즈의 결과가 주어졌을 때, 점수를 구하는 프로그램을 작성하시오."
      ]
    },
    {
      "cell_type": "code",
      "execution_count": null,
      "metadata": {},
      "outputs": [],
      "source": []
    },
    {
      "cell_type": "markdown",
      "metadata": {},
      "source": [
        "## 4344번 평균은 넘겠지\n",
        "대학생 새내기들의 90%는 자신이 반에서 평균은 넘는다고 생각한다. 당신은 그들에게 슬픈 진실을 알려줘야 한다."
      ]
    },
    {
      "cell_type": "code",
      "execution_count": 55,
      "metadata": {},
      "outputs": [
        {
          "name": "stdout",
          "output_type": "stream",
          "text": [
            "55.556%\n",
            "55.556%\n",
            "55.556%\n"
          ]
        }
      ],
      "source": [
        "import sys\n",
        "\n",
        "n = int(sys.stdin.readline())\n",
        "\n",
        "# l = [9, 100, 99, 98, 97, 96, 95, 94, 93, 91]\n",
        "for i in range(n):\n",
        "    count = 0\n",
        "    l = list(map(int, sys.stdin.readline().split()))\n",
        "    for j in l[1:]:\n",
        "        if sum(l[1:])/l[0] < j:\n",
        "            count += 1\n",
        "    # print(l)\n",
        "    print(f'{(count/l[0]*100):.3f}%')"
      ]
    }
  ],
  "metadata": {
    "colab": {
      "collapsed_sections": [],
      "name": "1차원 배열.ipynb",
      "provenance": []
    },
    "interpreter": {
      "hash": "5d44725d55c3c25373c9cea7b363fe9d5696c3b23e8383192da0211bfba569d6"
    },
    "kernelspec": {
      "display_name": "Python 3.9.5 64-bit",
      "name": "python3"
    },
    "language_info": {
      "codemirror_mode": {
        "name": "ipython",
        "version": 3
      },
      "file_extension": ".py",
      "mimetype": "text/x-python",
      "name": "python",
      "nbconvert_exporter": "python",
      "pygments_lexer": "ipython3",
      "version": "3.9.5"
    }
  },
  "nbformat": 4,
  "nbformat_minor": 0
}
