{
  "nbformat": 4,
  "nbformat_minor": 0,
  "metadata": {
    "colab": {
      "name": "while.ipynb",
      "provenance": [],
      "collapsed_sections": []
    },
    "kernelspec": {
      "name": "python3",
      "display_name": "Python 3"
    },
    "language_info": {
      "name": "python"
    }
  },
  "cells": [
    {
      "cell_type": "markdown",
      "metadata": {
        "id": "CdSKGGXqTmBM"
      },
      "source": [
        "# while 문\n",
        "## 10952번 : A+B-5\n",
        "두 정수 A와 B를 입력받은 다음, A+B를 출력하는 프로그램을 작성"
      ]
    },
    {
      "cell_type": "code",
      "metadata": {
        "colab": {
          "base_uri": "https://localhost:8080/"
        },
        "id": "SdZoBFUxT0Mw",
        "outputId": "bbb20a7c-b563-4cd0-d14b-59fa04d4b840"
      },
      "source": [
        "while True:\n",
        "  A, B = input().split()\n",
        "  A = int(A)\n",
        "  B = int(B)\n",
        "  if A != 0 and B != 0:\n",
        "    print(A + B)\n",
        "  else:\n",
        "    break"
      ],
      "execution_count": null,
      "outputs": [
        {
          "output_type": "stream",
          "name": "stdout",
          "text": [
            "1 1\n",
            "2\n"
          ]
        }
      ]
    },
    {
      "cell_type": "markdown",
      "metadata": {
        "id": "3lMSdxLJYiBv"
      },
      "source": [
        "## 10951번 : A+B-4\n",
        "두 정수 A와 B를 입력받은 다음, A+B를 출력하는 프로그램을 작성"
      ]
    },
    {
      "cell_type": "code",
      "metadata": {
        "id": "X233QZkFYihz"
      },
      "source": [
        "import sys\n",
        "\n",
        "while True:\n",
        "  try:\n",
        "    A, B = map(int, sys.stdin.readline().split())\n",
        "    # A = int(A)\n",
        "    # B = int(B)\n",
        "    print(A + B)\n",
        "    \n",
        "  except ValueError:\n",
        "    break"
      ],
      "execution_count": null,
      "outputs": []
    },
    {
      "cell_type": "markdown",
      "metadata": {
        "id": "M_jVm-H_TDI5"
      },
      "source": [
        "## 1110번 : 더하기 사이클\n",
        "0보다 크거나 같고, 99보다 작거나 같은 정수가 주어질 때 다음과 같은 연산을 할 수 있다. 먼저 주어진 수가 10보다 작다면 앞에 0을 붙여 두 자리 수로 만들고, 각 자리의 숫자를 더한다. 그 다음, 주어진 수의 가장 오른쪽 자리 수와 앞에서 구한 합의 가장 오른쪽 자리 수를 이어 붙이면 새로운 수를 만들 수 있다. 다음 예를 보자.\n",
        "\n",
        "26부터 시작한다. 2+6 = 8이다. 새로운 수는 68이다. 6+8 = 14이다. 새로운 수는 84이다. 8+4 = 12이다. 새로운 수는 42이다. 4+2 = 6이다. 새로운 수는 26이다.\n",
        "\n",
        "위의 예는 4번만에 원래 수로 돌아올 수 있다. 따라서 26의 사이클의 길이는 4이다.\n",
        "\n",
        "N이 주어졌을 때, N의 사이클의 길이를 구하는 프로그램을 작성하시오"
      ]
    },
    {
      "cell_type": "code",
      "metadata": {
        "id": "aHc3IFRqTRZ8"
      },
      "source": [
        ""
      ],
      "execution_count": null,
      "outputs": []
    }
  ]
}