{
  "nbformat": 4,
  "nbformat_minor": 0,
  "metadata": {
    "colab": {
      "name": "if문",
      "provenance": [],
      "collapsed_sections": []
    },
    "kernelspec": {
      "name": "python3",
      "display_name": "Python 3"
    },
    "language_info": {
      "name": "python"
    }
  },
  "cells": [
    {
      "cell_type": "markdown",
      "metadata": {
        "id": "7_dceV5OvaHs"
      },
      "source": [
        "# if 문\n",
        "## 1330번\n",
        "두 정수 A와 B가 주어졌을 때, A와 B를 비교하는 프로그램을 작성"
      ]
    },
    {
      "cell_type": "code",
      "metadata": {
        "colab": {
          "base_uri": "https://localhost:8080/"
        },
        "id": "mgEayhD_z8Jb",
        "outputId": "cffd1749-bcf1-4e2e-a049-5b2eaf6d0fc1"
      },
      "source": [
        "A, B = input().split()\n",
        "A, B = int(A), int(B)\n",
        "\n",
        "if A < B:\n",
        "  print('<')\n",
        "\n",
        "elif A > B:\n",
        "  print('>')\n",
        "\n",
        "else:\n",
        "  print('==')"
      ],
      "execution_count": null,
      "outputs": [
        {
          "name": "stdout",
          "output_type": "stream",
          "text": [
            "1 2\n"
          ]
        },
        {
          "output_type": "execute_result",
          "data": {
            "text/plain": [
              "(1, 2)"
            ]
          },
          "metadata": {},
          "execution_count": 2
        }
      ]
    },
    {
      "cell_type": "markdown",
      "metadata": {
        "id": "lVMtqDac1lCy"
      },
      "source": [
        "## 9488번\n",
        "시험 점수를 입력받아 90 ~ 100점은 A, 80 ~ 89점은 B, 70 ~ 79점은 C, 60 ~ 69점은 D, 나머지 점수는 F를 출력하는 프로그램을 작성"
      ]
    },
    {
      "cell_type": "code",
      "metadata": {
        "colab": {
          "base_uri": "https://localhost:8080/"
        },
        "id": "jqyLRUBW1qGd",
        "outputId": "4e92f7da-7ed3-4ca9-bb8b-deec594483e6"
      },
      "source": [
        "A = int(input())\n",
        "\n",
        "if 90 <= A <= 100:\n",
        "  print('A')\n",
        "\n",
        "elif 80 <= A <= 89:\n",
        "  print('B')\n",
        "\n",
        "elif 70 <= A <= 79:\n",
        "  print('C')\n",
        "\n",
        "elif 60 <= A <= 69:\n",
        "  print('D')\n",
        "\n",
        "else:\n",
        "  print('F')"
      ],
      "execution_count": null,
      "outputs": [
        {
          "output_type": "stream",
          "name": "stdout",
          "text": [
            "90\n",
            "A\n"
          ]
        }
      ]
    },
    {
      "cell_type": "markdown",
      "metadata": {
        "id": "djJn2dR22UyQ"
      },
      "source": [
        "## 2753번\n",
        "연도가 주어졌을 때, 윤년이면 1, 아니면 0을 출력하는 프로그램을 작성하시오.\n",
        "\n",
        "윤년은 연도가 4의 배수이면서, 100의 배수가 아닐 때 또는 400의 배수일 때이다.\n",
        "\n",
        "예를 들어, 2012년은 4의 배수이면서 100의 배수가 아니라서 윤년이다. 1900년은 100의 배수이고 400의 배수는 아니기 때문에 윤년이 아니다. 하지만, 2000년은 400의 배수이기 때문에 윤년이다."
      ]
    },
    {
      "cell_type": "code",
      "metadata": {
        "colab": {
          "base_uri": "https://localhost:8080/"
        },
        "id": "R04KWqwl2Wpf",
        "outputId": "18640c8f-fbc9-4e2c-a044-4dc5295f6bf2"
      },
      "source": [
        "A = int(input())\n",
        "\n",
        "if (A % 4 == 0 and A%100 != 0) or A%400==0:\n",
        "  print(1)\n",
        "else:\n",
        "  print(0)"
      ],
      "execution_count": null,
      "outputs": [
        {
          "output_type": "stream",
          "name": "stdout",
          "text": [
            "2012\n",
            "1\n"
          ]
        }
      ]
    },
    {
      "cell_type": "markdown",
      "metadata": {
        "id": "_Uvb6JO8wLXL"
      },
      "source": [
        "## 14681번\n",
        "흔한 수학 문제 중 하나는 주어진 점이 어느 사분면에 속하는지 알아내는 것이다. 사분면은 아래 그림처럼 1부터 4까지 번호를 갖는다. \"Quadrant n\"은 \"제n사분면\"이라는 뜻이다.\n",
        "\n",
        "예를 들어, 좌표가 (12, 5)인 점 A는 x좌표와 y좌표가 모두 양수이므로 제1사분면에 속한다. 점 B는 x좌표가 음수이고 y좌표가 양수이므로 제2사분면에 속한다.\n",
        "\n",
        "점의 좌표를 입력받아 그 점이 어느 사분면에 속하는지 알아내는 프로그램을 작성하시오. 단, x좌표와 y좌표는 모두 양수나 음수라고 가정한다."
      ]
    },
    {
      "cell_type": "code",
      "metadata": {
        "id": "0n8VQt0RwR95"
      },
      "source": [
        "x = int(input())\n",
        "y = int(input())\n",
        "\n",
        "if x > 0 and y > 0:\n",
        "  print(1)\n",
        "\n",
        "elif x > 0 and y < 0:\n",
        "  print(4)\n",
        "\n",
        "elif x < 0 and y > 0:\n",
        "  print(2)\n",
        "\n",
        "else:\n",
        "  print(3)"
      ],
      "execution_count": null,
      "outputs": []
    },
    {
      "cell_type": "markdown",
      "metadata": {
        "id": "2PxX6QWCwxZl"
      },
      "source": [
        "## 2884번\n",
        "상근이는 매일 아침 알람을 듣고 일어난다. 알람을 듣고 바로 일어나면 다행이겠지만, 항상 조금만 더 자려는 마음 때문에 매일 학교를 지각하고 있다.\n",
        "\n",
        "상근이는 모든 방법을 동원해보았지만, 조금만 더 자려는 마음은 그 어떤 것도 없앨 수가 없었다.\n",
        "\n",
        "이런 상근이를 불쌍하게 보던, 창영이는 자신이 사용하는 방법을 추천해 주었다.\n",
        "\n",
        "바로 \"45분 일찍 알람 설정하기\"이다.\n",
        "\n",
        "이 방법은 단순하다. 원래 설정되어 있는 알람을 45분 앞서는 시간으로 바꾸는 것이다. 어차피 알람 소리를 들으면, 알람을 끄고 조금 더 잘 것이기 때문이다. 이 방법을 사용하면, 매일 아침 더 잤다는 기분을 느낄 수 있고, 학교도 지각하지 않게 된다.\n",
        "\n",
        "현재 상근이가 설정한 알람 시각이 주어졌을 때, 창영이의 방법을 사용한다면, 이를 언제로 고쳐야 하는지 구하는 프로그램을 작성"
      ]
    },
    {
      "cell_type": "code",
      "metadata": {
        "colab": {
          "base_uri": "https://localhost:8080/"
        },
        "id": "NYj5KyInw9qe",
        "outputId": "7056c577-e22e-4942-c25f-a34fc2c586aa"
      },
      "source": [
        "H, M = input().split()\n",
        "H = int(H)\n",
        "M = int(M)\n",
        "\n",
        "if M < 45 and H != 0:\n",
        "  print(H-1, 60+(M-45))\n",
        "\n",
        "elif M < 45 and H == 0:\n",
        "  print(23, 60+(M-45))\n",
        "\n",
        "else:\n",
        "  print(H, (M-45))"
      ],
      "execution_count": null,
      "outputs": [
        {
          "output_type": "stream",
          "name": "stdout",
          "text": [
            "0 30\n",
            "23 45\n"
          ]
        }
      ]
    }
  ]
}