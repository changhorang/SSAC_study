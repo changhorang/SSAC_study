{
 "cells": [
  {
   "cell_type": "markdown",
   "source": [
    "# 입출력과 사칙연산"
   ],
   "metadata": {}
  },
  {
   "cell_type": "markdown",
   "source": [
    "## 1000번\r\n",
    "두 정수 A와 B를 입력받은 다음, A+B를 출력하는 프로그램을 작성"
   ],
   "metadata": {}
  },
  {
   "cell_type": "code",
   "execution_count": 1,
   "source": [
    "A, B = input().split()\r\n",
    "A = int(A)\r\n",
    "B = int(B)\r\n",
    "print(A+B)"
   ],
   "outputs": [
    {
     "output_type": "stream",
     "name": "stdout",
     "text": [
      "3\n"
     ]
    }
   ],
   "metadata": {}
  },
  {
   "cell_type": "markdown",
   "source": [
    "## 1001번\r\n",
    "두 정수 A와 B를 입력받은 다음, A-B를 출력하는 프로그램을 작성"
   ],
   "metadata": {}
  },
  {
   "cell_type": "code",
   "execution_count": 2,
   "source": [
    "A, B = input().split()\r\n",
    "A = int(A)\r\n",
    "B = int(B)\r\n",
    "print(A-B)"
   ],
   "outputs": [
    {
     "output_type": "stream",
     "name": "stdout",
     "text": [
      "2\n"
     ]
    }
   ],
   "metadata": {}
  },
  {
   "cell_type": "markdown",
   "source": [
    "## 10998번\r\n",
    "두 정수 A와 B를 입력받은 다음, A*B를 출력하는 프로그램을 작성"
   ],
   "metadata": {}
  },
  {
   "cell_type": "code",
   "execution_count": 3,
   "source": [
    "A, B = input().split()\r\n",
    "A = int(A)\r\n",
    "B = int(B)\r\n",
    "print(A*B)"
   ],
   "outputs": [
    {
     "output_type": "stream",
     "name": "stdout",
     "text": [
      "12\n"
     ]
    }
   ],
   "metadata": {}
  },
  {
   "cell_type": "markdown",
   "source": [
    "## 1008번\r\n",
    "두 정수 A와 B를 입력받은 다음, A/B를 출력하는 프로그램을 작성"
   ],
   "metadata": {}
  },
  {
   "cell_type": "code",
   "execution_count": 4,
   "source": [
    "A, B = input().split()\r\n",
    "A = int(A)\r\n",
    "B = int(B)\r\n",
    "print(A/B)"
   ],
   "outputs": [
    {
     "output_type": "stream",
     "name": "stdout",
     "text": [
      "3.0\n"
     ]
    }
   ],
   "metadata": {}
  },
  {
   "cell_type": "markdown",
   "source": [
    "## 10430번\r\n",
    "(A+B)%C는 ((A%C) + (B%C))%C 와 같을까?\r\n",
    "\r\n",
    "(A×B)%C는 ((A%C) × (B%C))%C 와 같을까?\r\n",
    "\r\n",
    "세 수 A, B, C가 주어졌을 때, 위의 네 가지 값을 구하는 프로그램을 작성하시오."
   ],
   "metadata": {}
  },
  {
   "cell_type": "code",
   "execution_count": 5,
   "source": [
    "A, B, C = input().split()\r\n",
    "A = int(A)\r\n",
    "B = int(B)\r\n",
    "C = int(C)\r\n",
    "\r\n",
    "print((A+B)%C) \r\n",
    "print(((A%C) + (B%C))%C)\r\n",
    "print((A*B)%C)\r\n",
    "print(((A%C)*(B%C))%C)"
   ],
   "outputs": [
    {
     "output_type": "stream",
     "name": "stdout",
     "text": [
      "1\n",
      "1\n",
      "0\n",
      "0\n"
     ]
    }
   ],
   "metadata": {}
  },
  {
   "cell_type": "markdown",
   "source": [
    "## 2558번\r\n",
    "- (세 자리 수) × (세 자리 수)는 다음과 같은 과정을 통하여 이루어진다. <br>\r\n",
    "<br>\r\n",
    "     472 (1) <br>\r\n",
    "x    385 (2) <br>\r\n",
    "-------------<br>\r\n",
    "    2360 (3) <br>\r\n",
    "   3776  (4) <br>\r\n",
    "  1416   (5) <br>\r\n",
    "-------------<br>\r\n",
    "  181720 (6) <br>\r\n",
    "\r\n",
    "(1)과 (2)위치에 들어갈 세 자리 자연수가 주어질 때 (3), (4), (5), (6)위치에 들어갈 값을 구하는 프로그램을 작성"
   ],
   "metadata": {}
  },
  {
   "cell_type": "code",
   "execution_count": 14,
   "source": [
    "A = int(input())\r\n",
    "B = input()\r\n",
    "\r\n",
    "for i in range(1, 4):\r\n",
    "    print(int(B[-i])*A)\r\n",
    "\r\n",
    "B = int(B)\r\n",
    "print(A*B)"
   ],
   "outputs": [
    {
     "output_type": "stream",
     "name": "stdout",
     "text": [
      "2360\n",
      "3776\n",
      "181720\n"
     ]
    }
   ],
   "metadata": {}
  }
 ],
 "metadata": {
  "orig_nbformat": 4,
  "language_info": {
   "name": "python",
   "version": "3.9.5",
   "mimetype": "text/x-python",
   "codemirror_mode": {
    "name": "ipython",
    "version": 3
   },
   "pygments_lexer": "ipython3",
   "nbconvert_exporter": "python",
   "file_extension": ".py"
  },
  "kernelspec": {
   "name": "python3",
   "display_name": "Python 3.9.5 64-bit"
  },
  "interpreter": {
   "hash": "5d44725d55c3c25373c9cea7b363fe9d5696c3b23e8383192da0211bfba569d6"
  }
 },
 "nbformat": 4,
 "nbformat_minor": 2
}