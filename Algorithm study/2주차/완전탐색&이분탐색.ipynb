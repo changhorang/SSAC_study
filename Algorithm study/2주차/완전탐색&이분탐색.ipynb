{
 "cells": [
  {
   "cell_type": "markdown",
   "source": [
    "# 0. 탐색 : 데이터 속에서 원하는 데이터를 찾는 것\r\n",
    "- 완전탐색, 이분탐색, 깊이우선탐색, 너비우선탐색\r\n",
    "\r\n",
    "## 1. 완전탐색\r\n",
    "- 가능한 모든 경우의 수를 다 구해서 값을 찾는 것\r\n",
    "- 결과 값이 가장 확실하지만 그만큼 시간이 가장 오래걸리는 탐색방법"
   ],
   "metadata": {}
  },
  {
   "cell_type": "markdown",
   "source": [
    "### 1.1 구현\r\n",
    "- 반복문\r\n",
    "- 재귀함수"
   ],
   "metadata": {}
  },
  {
   "cell_type": "code",
   "execution_count": 3,
   "source": [
    "# trump에서 8카드 찾기\r\n",
    "# 반복문\r\n",
    "def solution(trump):\r\n",
    "    for i in range(len(trump)):\r\n",
    "        if trump[i] == 8:\r\n",
    "            return i\r\n",
    "    return -1"
   ],
   "outputs": [],
   "metadata": {}
  },
  {
   "cell_type": "code",
   "execution_count": 2,
   "source": [
    "# 재귀함수\r\n",
    "def solution(trump, loc):\r\n",
    "    if trump[loc] == 8:\r\n",
    "        return loc\r\n",
    "    else:\r\n",
    "        return solution(trump, loc+1)"
   ],
   "outputs": [],
   "metadata": {}
  },
  {
   "cell_type": "markdown",
   "source": [
    "## 2. 이분탐색 \r\n",
    "- 데이터가 **정렬돼** 있는 배열에서 특정한 값을 찾아내는 것\r\n",
    "- 배열의 중간에 있는 임의의 값을 선택하여 찾고자 하는 값 X와 비교\r\n",
    "- X가 중간 값보다 작으면 중간 값을 기준으로 좌측의 데이터들을 대상으로, X가 중간값보다 크면 배열의 우축을 대상으로 다시 탐색을 하면서 해당값을 탐색"
   ],
   "metadata": {}
  },
  {
   "cell_type": "code",
   "execution_count": 4,
   "source": [
    "def solution(trump):\r\n",
    "    # 인덱스 지정\r\n",
    "    left = 0\r\n",
    "    right = len(trump) - 1\r\n",
    "    # mid 계산\r\n",
    "    while (left <= right):\r\n",
    "        mid = (left + right)//2\r\n",
    "        if trump[mid] == 8:\r\n",
    "            return mid\r\n",
    "        elif trump[mid] < 8:\r\n",
    "            left = mid + 1\r\n",
    "        elif trump[mid] > 8:\r\n",
    "            right = mid - 1\r\n",
    "    return mid"
   ],
   "outputs": [],
   "metadata": {}
  }
 ],
 "metadata": {
  "orig_nbformat": 4,
  "language_info": {
   "name": "python",
   "version": "3.9.5",
   "mimetype": "text/x-python",
   "codemirror_mode": {
    "name": "ipython",
    "version": 3
   },
   "pygments_lexer": "ipython3",
   "nbconvert_exporter": "python",
   "file_extension": ".py"
  },
  "kernelspec": {
   "name": "python3",
   "display_name": "Python 3.9.5 64-bit"
  },
  "interpreter": {
   "hash": "5d44725d55c3c25373c9cea7b363fe9d5696c3b23e8383192da0211bfba569d6"
  }
 },
 "nbformat": 4,
 "nbformat_minor": 2
}