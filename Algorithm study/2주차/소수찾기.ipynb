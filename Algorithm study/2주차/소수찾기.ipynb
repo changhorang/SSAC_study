{
 "cells": [
  {
   "cell_type": "markdown",
   "source": [
    "# 소수 찾기\r\n",
    "\r\n",
    "참고 : https://blog.naver.com/azprncs/222451591125"
   ],
   "metadata": {}
  },
  {
   "cell_type": "code",
   "execution_count": 1,
   "source": [
    "def getnumber(stack, num, r_num, ch):\r\n",
    "    if stack:\r\n",
    "        r_num.add(int(''.join(stack)))     \r\n",
    "        \r\n",
    "    for i in range(len(num)):\r\n",
    "        if ch[i] == 0:\r\n",
    "            ch[i] = 1\r\n",
    "            stack.append(num[i])\r\n",
    "            getnumber(stack, num, r_num, ch)\r\n",
    "            ch[i] = 0\r\n",
    "            stack.pop()\r\n",
    "    return list(r_num)\r\n",
    "\r\n",
    "def solution(num):\r\n",
    "    ch = [0]*len(num)\r\n",
    "    num = getnumber([], num, set(), ch)\r\n",
    "\r\n",
    "    r_ans = 0\r\n",
    "    for k in num:\r\n",
    "        ans = 0\r\n",
    "        if k != 1 and k != 0:\r\n",
    "            for i in range(1, (k+1)//2+1):\r\n",
    "                if k%i == 0:\r\n",
    "                    ans += 1\r\n",
    "        if ans == 1:\r\n",
    "            r_ans += 1\r\n",
    "\r\n",
    "    return r_ans"
   ],
   "outputs": [],
   "metadata": {}
  },
  {
   "cell_type": "code",
   "execution_count": 2,
   "source": [
    "solution(\"17\") # 3"
   ],
   "outputs": [
    {
     "output_type": "execute_result",
     "data": {
      "text/plain": [
       "3"
      ]
     },
     "metadata": {},
     "execution_count": 2
    }
   ],
   "metadata": {}
  },
  {
   "cell_type": "code",
   "execution_count": 3,
   "source": [
    "solution(\"011\") # 2"
   ],
   "outputs": [
    {
     "output_type": "execute_result",
     "data": {
      "text/plain": [
       "2"
      ]
     },
     "metadata": {},
     "execution_count": 3
    }
   ],
   "metadata": {}
  }
 ],
 "metadata": {
  "orig_nbformat": 4,
  "language_info": {
   "name": "python",
   "version": "3.9.5",
   "mimetype": "text/x-python",
   "codemirror_mode": {
    "name": "ipython",
    "version": 3
   },
   "pygments_lexer": "ipython3",
   "nbconvert_exporter": "python",
   "file_extension": ".py"
  },
  "kernelspec": {
   "name": "python3",
   "display_name": "Python 3.9.5 64-bit"
  },
  "interpreter": {
   "hash": "5d44725d55c3c25373c9cea7b363fe9d5696c3b23e8383192da0211bfba569d6"
  }
 },
 "nbformat": 4,
 "nbformat_minor": 2
}