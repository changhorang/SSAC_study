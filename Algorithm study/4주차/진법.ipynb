{
 "cells": [
  {
   "cell_type": "markdown",
   "source": [
    "# 진법 \r\n",
    "- 수를 셀 때 자릿수가 올라가는 단위를 기준으로 하는 셈법의 총칭\r\n",
    "- 사용하는 숫자의 개수가 진법의 숫자를 의미함\r\n",
    "\r\n",
    "## CPU\r\n",
    "- 2진법\r\n",
    "\r\n",
    "## 진법 변환 예시\r\n",
    "- 10(10) / 2 => 1010 (2)\r\n",
    "- 'bin()' 함수를 통해 한 번에 변환\r\n",
    "- 95(10) / 8 => 137 (8)\r\n",
    "- 'oct()' 이용해 8진법 변환\r\n",
    "- 'hex()' 이용해 16진법 변환\r\n",
    "- 그 외에는 변환해주는 함수가 없음\r\n",
    "- 'int()' 이용해 10진법 변환"
   ],
   "metadata": {}
  },
  {
   "cell_type": "markdown",
   "source": [
    "# 비트연산\r\n",
    "- 한 개 혹은 두개의 이진수에 적용되는 연산\r\n",
    "- 'AND(&)' : 각 자릿수를 비교해 둘 다 1일 경우 1, 아니면 0을 반환\r\n",
    "- 'OR'(|) : 각 자릿수를 비교해 둘 중 하나가 1일 경우 1, 아니면 0을 반환\r\n",
    "- 'XOR(^)' : 각 자릿수를 비교해 다르면 0, 같으면 1\r\n",
    "- 'NOT(~)' : 비트 반전 연산자로 1은 0, 0은 1로 반환 (2진수의 음수 개념 처리) // 간단히 1을 더한 후 '-' 처리\r\n",
    "- 'SHIFT(<<, >>)' : '<<(>>)', 비트 이동 연산자로 왼쪽(오른쪽)으로 주어진 수만큼 이동"
   ],
   "metadata": {}
  },
  {
   "cell_type": "markdown",
   "source": [
    "## 비트연산 활용\r\n",
    "- 컴퓨터 연산을 위한 비트 필드\r\n",
    "- 데이터의 압축 및 암호화\r\n",
    "- 유한 상태 기계\r\n",
    "- 컴퓨터 통신을 위한 포트 및 소켓"
   ],
   "metadata": {}
  },
  {
   "cell_type": "code",
   "execution_count": 2,
   "source": [
    "bin(10)"
   ],
   "outputs": [
    {
     "output_type": "execute_result",
     "data": {
      "text/plain": [
       "'0b1010'"
      ]
     },
     "metadata": {},
     "execution_count": 2
    }
   ],
   "metadata": {}
  },
  {
   "cell_type": "code",
   "execution_count": 8,
   "source": [
    "oct(95)"
   ],
   "outputs": [
    {
     "output_type": "execute_result",
     "data": {
      "text/plain": [
       "'0o137'"
      ]
     },
     "metadata": {},
     "execution_count": 8
    }
   ],
   "metadata": {}
  },
  {
   "cell_type": "code",
   "execution_count": 12,
   "source": [
    "hex(504)"
   ],
   "outputs": [
    {
     "output_type": "execute_result",
     "data": {
      "text/plain": [
       "'0x1f8'"
      ]
     },
     "metadata": {},
     "execution_count": 12
    }
   ],
   "metadata": {}
  }
 ],
 "metadata": {
  "orig_nbformat": 4,
  "language_info": {
   "name": "python",
   "version": "3.9.5",
   "mimetype": "text/x-python",
   "codemirror_mode": {
    "name": "ipython",
    "version": 3
   },
   "pygments_lexer": "ipython3",
   "nbconvert_exporter": "python",
   "file_extension": ".py"
  },
  "kernelspec": {
   "name": "python3",
   "display_name": "Python 3.9.5 64-bit"
  },
  "interpreter": {
   "hash": "5d44725d55c3c25373c9cea7b363fe9d5696c3b23e8383192da0211bfba569d6"
  }
 },
 "nbformat": 4,
 "nbformat_minor": 2
}