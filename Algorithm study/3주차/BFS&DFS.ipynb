{
 "cells": [
  {
   "cell_type": "markdown",
   "source": [
    "# 3주차\r\n",
    "## 깊이 우선 탐색과 너비 우선 탐색\r\n",
    "## 1. 깊이우선탐색 (DFS)\r\n",
    "- Depth First Search의 약자로 넓이 우선 탐색을 의미\r\n",
    "- 하나의 경우의 수에 대해 모든 경우의 수를 조사하고 다음 경우의 수를 조사하면서 해를 찾는 과정"
   ],
   "metadata": {}
  },
  {
   "cell_type": "code",
   "execution_count": null,
   "source": [
    "# 예시 - 미로찾기\r\n",
    "# stack과 if 문 만들기\r\n",
    "while len(stack)>0:\r\n",
    "    # stack의 마지막 데이터 추출\r\n",
    "    now = stack.pop()\r\n",
    "    \r\n",
    "    #정답 여부 검사\r\n",
    "    if now == dest:\r\n",
    "        return True\r\n",
    "    x = now[1]\r\n",
    "    y = now[0]\r\n",
    "    \r\n",
    "    # 왼쪽 이동 가능\r\n",
    "    if x-1 > -1:\r\n",
    "        if maps[y][x-1]==0:\r\n",
    "            stack.append([y, x-1])\r\n",
    "            maps[y][x-1] = 2\r\n",
    "    \r\n",
    "    # 오른쪽 이동 가능\r\n",
    "    if x+1 < hori:\r\n",
    "        if maps[y][x+1]==0:\r\n",
    "            stack.append([y, x+1])\r\n",
    "            maps[y][x+1] = 2\r\n",
    "    \r\n",
    "    # 위로 이동 가능\r\n",
    "    if y-1 > -1:\r\n",
    "        if maps[y-1][x]==0:\r\n",
    "            stack.append([y-1, x])\r\n",
    "            maps[y-1][x] = 2\r\n",
    "    \r\n",
    "    # 아래로 이동 가능\r\n",
    "    if y+1 < verti:\r\n",
    "        if maps[y+1][x]==0:\r\n",
    "            stack.append([y+1, x])\r\n",
    "            maps[y+1][x] = 2\r\n",
    "    \r\n",
    "    # stack에 데이터 없을 시 False\r\n",
    "    return False"
   ],
   "outputs": [],
   "metadata": {}
  },
  {
   "cell_type": "markdown",
   "source": [
    "## 2. 너비우선탐색(BFS)\r\n",
    "- Breadth First Search의 약자로 넓이 우선 탐색을 의미\r\n",
    "- 하나의 경우의 수에 대한 다음 단계의 모든 경우의 수를 조사하면서 해를 찾는 과정 "
   ],
   "metadata": {}
  },
  {
   "cell_type": "code",
   "execution_count": null,
   "source": [
    "# 최단 경로 찾기\r\n",
    "\r\n",
    "\r\n",
    "while len(queue)>0:\r\n",
    "    # 같은 거리에 있는 queue 개수 만큼 검사\r\n",
    "    count = len(queue)\r\n",
    "    for time in range(count):\r\n",
    "        now = queue.pop(0)\r\n",
    "\r\n",
    "        # 정답이 존재하는 경우, answer 반환\r\n",
    "        if now == dest:\r\n",
    "            return answer\r\n",
    "        \r\n",
    "        # 연결된 포인트 완전 탐색\r\n",
    "        for i in data:\r\n",
    "            # 방문하지 않은 연결된 길인 경우 queue에 추가 & 방문 표시('True')\r\n",
    "            if i[0]==now and visited[i[1]-1]==False:\r\n",
    "                queue.append(i[1])\r\n",
    "                visited[i[1]-1] = True\r\n",
    "            \r\n",
    "            elif i[1]==now and visited[i[0]-1]==False:\r\n",
    "                queue.append(i[0])\r\n",
    "                visited[i[0]-1] = True\r\n",
    "        \r\n",
    "        # 거리를 1 증가\r\n",
    "        answer += 1\r\n",
    "    return answer"
   ],
   "outputs": [],
   "metadata": {}
  }
 ],
 "metadata": {
  "orig_nbformat": 4,
  "language_info": {
   "name": "python",
   "version": "3.9.5",
   "mimetype": "text/x-python",
   "codemirror_mode": {
    "name": "ipython",
    "version": 3
   },
   "pygments_lexer": "ipython3",
   "nbconvert_exporter": "python",
   "file_extension": ".py"
  },
  "kernelspec": {
   "name": "python3",
   "display_name": "Python 3.9.5 64-bit"
  },
  "interpreter": {
   "hash": "5d44725d55c3c25373c9cea7b363fe9d5696c3b23e8383192da0211bfba569d6"
  }
 },
 "nbformat": 4,
 "nbformat_minor": 2
}