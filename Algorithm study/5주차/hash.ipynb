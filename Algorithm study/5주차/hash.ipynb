{
 "cells": [
  {
   "cell_type": "markdown",
   "source": [
    "# Hash\r\n",
    "- 데이터를 다루는 기법 중 하나로 검색과 저장이 아주 유용한 구조\r\n",
    "- key와 value 쌍으로 데이터를 저장\r\n",
    "\r\n",
    "## 해시함수 \r\n",
    "- 임의의 길이를 갖는 메시지를 입력받아 고정된 길이의 해시값을 출력하는 함수"
   ],
   "metadata": {}
  },
  {
   "cell_type": "code",
   "execution_count": 2,
   "source": [
    "# hash = {}\r\n",
    "hash = dict()\r\n",
    "\r\n",
    "hash[1] = 'apple'\r\n",
    "hash['a'] = 3\r\n",
    "hash[(4, 5)] = [1, 2, 3]\r\n",
    "hash[10] = dict({1: 'a', 2: 'b'})\r\n",
    "\r\n",
    "# 집합과 배열은 hash로 받을 수 없음\r\n",
    "# hash[[1, 2, 3]] = 5\r\n",
    "# hash[{1, 2, 3}] = 'or'\r\n",
    "\r\n",
    "hash"
   ],
   "outputs": [
    {
     "output_type": "execute_result",
     "data": {
      "text/plain": [
       "{1: 'apple', 'a': 3, (4, 5): [1, 2, 3], 10: {1: 'a', 2: 'b'}}"
      ]
     },
     "metadata": {},
     "execution_count": 2
    }
   ],
   "metadata": {}
  },
  {
   "cell_type": "code",
   "execution_count": 7,
   "source": [
    "# 값 수정 가능\r\n",
    "hash[1] = 'melon'\r\n",
    "hash"
   ],
   "outputs": [
    {
     "output_type": "execute_result",
     "data": {
      "text/plain": [
       "{'a': 3, (4, 5): [1, 2, 3], 10: {1: 'a', 2: 'b'}, 1: 'melon'}"
      ]
     },
     "metadata": {},
     "execution_count": 7
    }
   ],
   "metadata": {}
  },
  {
   "cell_type": "code",
   "execution_count": 8,
   "source": [
    "# 값 추출 가능\r\n",
    "hash.pop(1)"
   ],
   "outputs": [
    {
     "output_type": "execute_result",
     "data": {
      "text/plain": [
       "'melon'"
      ]
     },
     "metadata": {},
     "execution_count": 8
    }
   ],
   "metadata": {}
  },
  {
   "cell_type": "code",
   "execution_count": 9,
   "source": [
    "# del을 이용한 삭제 가능\r\n",
    "del hash['a']\r\n",
    "hash"
   ],
   "outputs": [
    {
     "output_type": "execute_result",
     "data": {
      "text/plain": [
       "{(4, 5): [1, 2, 3], 10: {1: 'a', 2: 'b'}}"
      ]
     },
     "metadata": {},
     "execution_count": 9
    }
   ],
   "metadata": {}
  },
  {
   "cell_type": "markdown",
   "source": [
    "## dictionary 활용\r\n",
    "### 딕셔너리 루프"
   ],
   "metadata": {}
  },
  {
   "cell_type": "code",
   "execution_count": 12,
   "source": [
    "hash = {}\r\n",
    "for i in range(1, 6):\r\n",
    "    hash[i] = i**2\r\n",
    "hash.keys(), hash.values(), hash.items()"
   ],
   "outputs": [
    {
     "output_type": "execute_result",
     "data": {
      "text/plain": [
       "(dict_keys([1, 2, 3, 4, 5]),\n",
       " dict_values([1, 4, 9, 16, 25]),\n",
       " dict_items([(1, 1), (2, 4), (3, 9), (4, 16), (5, 25)]))"
      ]
     },
     "metadata": {},
     "execution_count": 12
    }
   ],
   "metadata": {}
  },
  {
   "cell_type": "code",
   "execution_count": 13,
   "source": [
    "for k, v in hash.items():\r\n",
    "    print(k, v)"
   ],
   "outputs": [
    {
     "output_type": "stream",
     "name": "stdout",
     "text": [
      "1 1\n",
      "2 4\n",
      "3 9\n",
      "4 16\n",
      "5 25\n"
     ]
    }
   ],
   "metadata": {}
  },
  {
   "cell_type": "markdown",
   "source": [
    "## dictionary 활용\r\n",
    "### 딕셔너리 정렬\r\n",
    "- sorted() 이용해 list 타입을 반환"
   ],
   "metadata": {}
  },
  {
   "cell_type": "code",
   "execution_count": 22,
   "source": [
    "hash = dict({1: 10, 3: 12, 5: 7, 7: 6, 4: 5})\r\n",
    "# keys를 이용한 정렬\r\n",
    "sorted(hash.keys(), key=lambda x: x) # lambda르 이용해 key값을 그대로 사용함을 명시"
   ],
   "outputs": [
    {
     "output_type": "execute_result",
     "data": {
      "text/plain": [
       "[1, 3, 4, 5, 7]"
      ]
     },
     "metadata": {},
     "execution_count": 22
    }
   ],
   "metadata": {}
  },
  {
   "cell_type": "code",
   "execution_count": 21,
   "source": [
    "# values를 이용한 정렬\r\n",
    "sorted(hash.values(), key=lambda x: x)"
   ],
   "outputs": [
    {
     "output_type": "execute_result",
     "data": {
      "text/plain": [
       "[5, 6, 7, 10, 12]"
      ]
     },
     "metadata": {},
     "execution_count": 21
    }
   ],
   "metadata": {}
  },
  {
   "cell_type": "code",
   "execution_count": 24,
   "source": [
    "# 오름차순 정렬, key값에 의해\r\n",
    "sorted(hash.items(), key=lambda x: x)"
   ],
   "outputs": [
    {
     "output_type": "execute_result",
     "data": {
      "text/plain": [
       "[(1, 10), (3, 12), (4, 5), (5, 7), (7, 6)]"
      ]
     },
     "metadata": {},
     "execution_count": 24
    }
   ],
   "metadata": {}
  },
  {
   "cell_type": "code",
   "execution_count": 27,
   "source": [
    "# 내림차순 정렬, key값에 의해\r\n",
    "sorted(hash.keys(), key=lambda x: -x)"
   ],
   "outputs": [
    {
     "output_type": "execute_result",
     "data": {
      "text/plain": [
       "[7, 5, 4, 3, 1]"
      ]
     },
     "metadata": {},
     "execution_count": 27
    }
   ],
   "metadata": {}
  },
  {
   "cell_type": "code",
   "execution_count": 28,
   "source": [
    "# 내림차순 정렬, values에 의해\r\n",
    "sorted(hash.values(), key=lambda x: -x)"
   ],
   "outputs": [
    {
     "output_type": "execute_result",
     "data": {
      "text/plain": [
       "[12, 10, 7, 6, 5]"
      ]
     },
     "metadata": {},
     "execution_count": 28
    }
   ],
   "metadata": {}
  },
  {
   "cell_type": "code",
   "execution_count": 32,
   "source": [
    "# 내림차순 정렬, items에 의해 그대로 진행하면 error 발생 (tuple에 -값이 불가능하므로)\r\n",
    "sorted(hash.items(), key=lambda x: -x[1])"
   ],
   "outputs": [
    {
     "output_type": "execute_result",
     "data": {
      "text/plain": [
       "[(3, 12), (1, 10), (5, 7), (7, 6), (4, 5)]"
      ]
     },
     "metadata": {},
     "execution_count": 32
    }
   ],
   "metadata": {}
  }
 ],
 "metadata": {
  "orig_nbformat": 4,
  "language_info": {
   "name": "python",
   "version": "3.9.5",
   "mimetype": "text/x-python",
   "codemirror_mode": {
    "name": "ipython",
    "version": 3
   },
   "pygments_lexer": "ipython3",
   "nbconvert_exporter": "python",
   "file_extension": ".py"
  },
  "kernelspec": {
   "name": "python3",
   "display_name": "Python 3.9.5 64-bit"
  },
  "interpreter": {
   "hash": "5d44725d55c3c25373c9cea7b363fe9d5696c3b23e8383192da0211bfba569d6"
  }
 },
 "nbformat": 4,
 "nbformat_minor": 2
}