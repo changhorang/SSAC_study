{
 "cells": [
  {
   "cell_type": "markdown",
   "source": [
    "# 선형 회귀 실습\r\n",
    "## 최소 제곱법 (method of least squares)"
   ],
   "metadata": {}
  },
  {
   "cell_type": "code",
   "execution_count": 1,
   "source": [
    "import numpy as np\r\n",
    "\r\n",
    "# x값과 y값\r\n",
    "x = [2, 4, 6, 8]\r\n",
    "y = [81, 93, 91, 97]\r\n",
    "\r\n",
    "# x & y mean\r\n",
    "mx = np.mean(x)\r\n",
    "my = np.mean(y)\r\n",
    "print(f'mean : {mx}, {my}')\r\n",
    "\r\n",
    "# 기울기 공식 분모 & 분자\r\n",
    "divisor = sum([(mx - i)**2 for i in x])\r\n",
    "\r\n",
    "def top(x, mx, y, my):\r\n",
    "    d = 0\r\n",
    "    for i in range(len(x)):\r\n",
    "        d += (x[i] - mx)*(y[i] - my)\r\n",
    "    return d\r\n",
    "\r\n",
    "dividend = top(x, mx, y, my)\r\n",
    "print(f'분모 : {divisor}, 분자 : {dividend}')\r\n",
    "\r\n",
    "# 기울기 & bias\r\n",
    "a = dividend/divisor\r\n",
    "b = my - (mx*a)\r\n",
    "\r\n",
    "print(f'기울기 : {a}, y절편 : {b}')"
   ],
   "outputs": [
    {
     "output_type": "stream",
     "name": "stdout",
     "text": [
      "mean : 5.0, 90.5\n",
      "분모 : 20.0, 분자 : 46.0\n",
      "기울기 : 2.3, y절편 : 79.0\n"
     ]
    }
   ],
   "metadata": {}
  },
  {
   "cell_type": "markdown",
   "source": [
    "## 평균 제곱 오차 (MSE, mean squared error)"
   ],
   "metadata": {}
  },
  {
   "cell_type": "code",
   "execution_count": 2,
   "source": [
    "import numpy as np\r\n",
    "\r\n",
    "# 기울기와 y절편\r\n",
    "fake_a_b = [3, 76]\r\n",
    "\r\n",
    "data = [[2, 81], [4, 93], [6, 91], [8, 97]]\r\n",
    "x = [i[0] for i in data]\r\n",
    "y = [i[1] for i in data]\r\n",
    "\r\n",
    "# y = ax + b\r\n",
    "def predict(x):\r\n",
    "    return fake_a_b[0]*x + fake_a_b[1]\r\n",
    "\r\n",
    "# MSE 함수\r\n",
    "def mse(y_hat, y):\r\n",
    "    return ((y_hat - y)**2).mean()\r\n",
    "\r\n",
    "# MSE 함수를 각 y값에 대입해 최종 값을 구하는 함수\r\n",
    "def mse_val(predict_result, y):\r\n",
    "    return mse(np.array(predict_result), np.array(y))\r\n",
    "    \r\n",
    "# predict_result\r\n",
    "predict_result = []\r\n",
    "\r\n",
    "# x값 대입\r\n",
    "for i in range(len(x)):\r\n",
    "    # predict_result 생성\r\n",
    "    predict_result.append(predict(x[i]))\r\n",
    "    print(f'공부한 시간 : {x[i]}, 실제 점수 : {y[i]}, 예측 점수: {predict(x[i])}')\r\n",
    "\r\n",
    "# result MSE\r\n",
    "print('MSE 최종값 : '+ str(mse_val(predict_result, y)))"
   ],
   "outputs": [
    {
     "output_type": "stream",
     "name": "stdout",
     "text": [
      "공부한 시간 : 2, 실제 점수 : 81, 예측 점수: 82\n",
      "공부한 시간 : 4, 실제 점수 : 93, 예측 점수: 88\n",
      "공부한 시간 : 6, 실제 점수 : 91, 예측 점수: 94\n",
      "공부한 시간 : 8, 실제 점수 : 97, 예측 점수: 100\n",
      "MSE 최종값 : 11.0\n"
     ]
    }
   ],
   "metadata": {}
  },
  {
   "cell_type": "markdown",
   "source": [
    "## 경사 하강법"
   ],
   "metadata": {}
  },
  {
   "cell_type": "code",
   "execution_count": 5,
   "source": [
    "import numpy as np\r\n",
    "import pandas as pd\r\n",
    "import matplotlib.pyplot as plt\r\n",
    "\r\n",
    "# data\r\n",
    "data = [[2, 81], [4, 93], [6, 91], [8, 97]]\r\n",
    "x = [i[0] for i in data]\r\n",
    "y = [i[1] for i in data]\r\n",
    "\r\n",
    "# graph\r\n",
    "plt.figure(figsize=(8, 5))\r\n",
    "# plt.scatter(x, y)\r\n",
    "# plt.show()\r\n",
    "\r\n",
    "# x & y 넘파이 배열로 변경\r\n",
    "x_data = np.array(x)\r\n",
    "y_data = np.array(y)\r\n",
    "\r\n",
    "# 기울기 & y절편 초기화\r\n",
    "a, b = 0, 0\r\n",
    "\r\n",
    "# learning rate\r\n",
    "lr = 0.001\r\n",
    "\r\n",
    "# epochs\r\n",
    "epochs = 6001\r\n",
    "\r\n",
    "# 경사하강법\r\n",
    "for i in range(epochs):\r\n",
    "    y_pred = a*x_data + b\r\n",
    "    error = y_data - y_pred\r\n",
    "\r\n",
    "    a_diff = -(2/len(x_data))*sum(x_data*error)\r\n",
    "    b_diff = -(2/len(x_data))*sum(error)\r\n",
    "\r\n",
    "    a = a - lr*a_diff\r\n",
    "    b = b - lr*b_diff\r\n",
    "\r\n",
    "    if i % 600 == 0:\r\n",
    "        print(f'epoch = {i}, 기울기 = {a}, 절편 = {b}')\r\n",
    "\r\n",
    "y_pred = a*x_data + b\r\n",
    "plt.scatter(x, y)\r\n",
    "plt.plot([min(x_data), max(x_data)], [min(y_pred), max(y_pred)])\r\n",
    "plt.show()"
   ],
   "outputs": [
    {
     "output_type": "stream",
     "name": "stdout",
     "text": [
      "epoch = 0, 기울기 = 0.928, 절편 = 0.181\n",
      "epoch = 600, 기울기 = 12.844471191318743, 절편 = 16.075105483828832\n",
      "epoch = 1200, 기울기 = 10.97984864787588, 절편 = 27.202375380039047\n",
      "epoch = 1800, 기울기 = 9.444955036916404, 절편 = 36.36196402234923\n",
      "epoch = 2400, 기울기 = 8.181483024712653, 절편 = 43.90182464215073\n",
      "epoch = 3000, 기울기 = 7.141436005020983, 절편 = 50.10838045879872\n",
      "epoch = 3600, 기울기 = 6.285304810406849, 절편 = 55.21740528665834\n",
      "epoch = 4200, 기울기 = 5.580566843263092, 절편 = 59.42298007931095\n",
      "epoch = 4800, 기울기 = 5.000450611710807, 절편 = 62.88486565092688\n",
      "epoch = 5400, 기울기 = 4.5229187377372915, 절편 = 65.73457164876129\n",
      "epoch = 6000, 기울기 = 4.1298308042201395, 절편 = 68.08035232408912\n"
     ]
    },
    {
     "output_type": "display_data",
     "data": {
      "image/png": "[encoded data removed]",
      "text/plain": [
       "<Figure size 576x360 with 1 Axes>"
      ]
     },
     "metadata": {
      "needs_background": "light"
     }
    }
   ],
   "metadata": {}
  },
  {
   "cell_type": "markdown",
   "source": [
    "## 다중 선형 회귀\r\n",
    "- y = a1x1 + a2x2 + b"
   ],
   "metadata": {}
  },
  {
   "cell_type": "code",
   "execution_count": 2,
   "source": [
    "import numpy as np\r\n",
    "import pandas as pd\r\n",
    "import matplotlib.pyplot as plt\r\n",
    "from mpl_toolkits import mplot3d\r\n",
    "\r\n",
    "# data\r\n",
    "data = [[2, 0, 81], [4, 4, 93], [6, 2, 91], [8, 3, 97]]\r\n",
    "x1 = [i[0] for i in data]\r\n",
    "x2 = [i[1] for i in data]\r\n",
    "y = [i[2] for i in data]\r\n",
    "\r\n",
    "# graph\r\n",
    "ax = plt.axes(projection='3d')\r\n",
    "ax.set_xlabel('study_hours')\r\n",
    "ax.set_ylabel('private_class')\r\n",
    "ax.set_zlabel('Score')\r\n",
    "ax.dist = 11\r\n",
    "ax.scatter(x1, x2, y)\r\n",
    "plt.show()\r\n",
    "\r\n",
    "# list x, y => numpy array\r\n",
    "x1_data = np.array(x1)\r\n",
    "x2_data = np.array(x2)\r\n",
    "y_data = np.array(y)\r\n",
    "\r\n",
    "# gradient\r\n",
    "a1 = 0\r\n",
    "a2 = 0\r\n",
    "b = 0\r\n",
    "\r\n",
    "# lr & epochs\r\n",
    "lr = 0.05\r\n",
    "epochs = 2001\r\n",
    "\r\n",
    "# 경사하강법\r\n",
    "for i in range(epochs):\r\n",
    "    y_pred = a1*x1_data + a2*x2_data + b\r\n",
    "    error = y_data - y_pred\r\n",
    "\r\n",
    "    a1_diff = -(1/len(x1_data))*sum(x1_data*error)\r\n",
    "    a2_diff = -(1/len(x2_data))*sum(x2_data*error)\r\n",
    "\r\n",
    "    b_diff = -(1/len(x1_data))*sum(error)\r\n",
    "    a1 = a1 - lr*a1_diff\r\n",
    "    a2 = a2 - lr*a2_diff\r\n",
    "    b = b - lr*b_diff\r\n",
    "\r\n",
    "    if i%100 == 0:\r\n",
    "        print('epoch = %.f, a1 = %.04f, a2 = %.04f, b = %.04f' % (i, a1, a2, b))\r\n"
   ],
   "outputs": [
    {
     "output_type": "display_data",
     "data": {
      "image/png": "[encoded data removed]",
      "text/plain": [
       "<Figure size 432x288 with 1 Axes>"
      ]
     },
     "metadata": {
      "needs_background": "light"
     }
    },
    {
     "output_type": "stream",
     "name": "stdout",
     "text": [
      "epoch = 0, a1 = 23.2000, a2 = 10.5625, b = 4.5250\n",
      "epoch = 100, a1 = 6.4348, a2 = 3.9893, b = 43.9757\n",
      "epoch = 200, a1 = 3.7255, a2 = 3.0541, b = 62.5766\n",
      "epoch = 300, a1 = 2.5037, a2 = 2.6323, b = 70.9656\n",
      "epoch = 400, a1 = 1.9527, a2 = 2.4420, b = 74.7491\n",
      "epoch = 500, a1 = 1.7042, a2 = 2.3562, b = 76.4554\n",
      "epoch = 600, a1 = 1.5921, a2 = 2.3175, b = 77.2250\n",
      "epoch = 700, a1 = 1.5415, a2 = 2.3001, b = 77.5720\n",
      "epoch = 800, a1 = 1.5187, a2 = 2.2922, b = 77.7286\n",
      "epoch = 900, a1 = 1.5084, a2 = 2.2886, b = 77.7992\n",
      "epoch = 1000, a1 = 1.5038, a2 = 2.2870, b = 77.8310\n",
      "epoch = 1100, a1 = 1.5017, a2 = 2.2863, b = 77.8453\n",
      "epoch = 1200, a1 = 1.5008, a2 = 2.2860, b = 77.8518\n",
      "epoch = 1300, a1 = 1.5003, a2 = 2.2858, b = 77.8547\n",
      "epoch = 1400, a1 = 1.5002, a2 = 2.2858, b = 77.8561\n",
      "epoch = 1500, a1 = 1.5001, a2 = 2.2857, b = 77.8567\n",
      "epoch = 1600, a1 = 1.5000, a2 = 2.2857, b = 77.8569\n",
      "epoch = 1700, a1 = 1.5000, a2 = 2.2857, b = 77.8570\n",
      "epoch = 1800, a1 = 1.5000, a2 = 2.2857, b = 77.8571\n",
      "epoch = 1900, a1 = 1.5000, a2 = 2.2857, b = 77.8571\n",
      "epoch = 2000, a1 = 1.5000, a2 = 2.2857, b = 77.8571\n"
     ]
    }
   ],
   "metadata": {}
  },
  {
   "cell_type": "markdown",
   "source": [
    "## 로지스틱 회귀"
   ],
   "metadata": {}
  },
  {
   "cell_type": "code",
   "execution_count": 9,
   "source": [
    "import numpy as np\r\n",
    "import pandas as pd\r\n",
    "import matplotlib.pyplot as plt\r\n",
    "\r\n",
    "# data\r\n",
    "data = [[2, 0], [4, 0], [6, 0], [8, 1], [10, 1], [12, 1], [14, 1]]\r\n",
    "x_data = [i[0] for i in data]\r\n",
    "y_data = [i[1] for i in data]\r\n",
    "\r\n",
    "# graph\r\n",
    "plt.scatter(x_data, y_data)\r\n",
    "plt.xlim(0, 15)\r\n",
    "plt.ylim(-.1, 1.1)\r\n",
    "\r\n",
    "# a, b 초기화\r\n",
    "a = 0\r\n",
    "b = 0\r\n",
    "\r\n",
    "# lr & epochs\r\n",
    "lr = 0.05\r\n",
    "epochs = 2001\r\n",
    "\r\n",
    "# sigmoid func.\r\n",
    "def sigmoid(x):\r\n",
    "    return 1/(1+np.e**(-x))\r\n",
    "\r\n",
    "# 경사하강법\r\n",
    "for i in range(epochs):\r\n",
    "    for x_data, y_data in data:\r\n",
    "        a_diff = x_data*(sigmoid(a*x_data + b) - y_data)\r\n",
    "        b_diff = sigmoid(a*x_data + b) - y_data\r\n",
    "        a -= lr*a_diff\r\n",
    "        b -= lr*b_diff\r\n",
    "\r\n",
    "        if i%1000 == 0:\r\n",
    "            print('epoch = %.f, a = %.04f, b = %.04f' % (i, a, b))\r\n",
    "    \r\n",
    "# plt.scatter(x, y)\r\n",
    "plt.xlim(0, 15)\r\n",
    "plt.ylim(-.1, 1.1)\r\n",
    "x_range = (np.arange(0, 15, 0.1))\r\n",
    "plt.plot(np.arange(0, 15, 0.1), np.array([sigmoid(a*x + b) for x in x_range]))\r\n",
    "plt.show()"
   ],
   "outputs": [
    {
     "output_type": "stream",
     "name": "stdout",
     "text": [
      "epoch = 0, a = -0.0500, b = -0.0250\n",
      "epoch = 0, a = -0.1388, b = -0.0472\n",
      "epoch = 0, a = -0.2268, b = -0.0619\n",
      "epoch = 0, a = 0.1201, b = -0.0185\n",
      "epoch = 0, a = 0.2374, b = -0.0068\n",
      "epoch = 0, a = 0.2705, b = -0.0040\n",
      "epoch = 0, a = 0.2860, b = -0.0029\n",
      "epoch = 1000, a = 1.4978, b = -9.9401\n",
      "epoch = 1000, a = 1.4940, b = -9.9411\n",
      "epoch = 1000, a = 1.4120, b = -9.9547\n",
      "epoch = 1000, a = 1.4949, b = -9.9444\n",
      "epoch = 1000, a = 1.4982, b = -9.9440\n",
      "epoch = 1000, a = 1.4984, b = -9.9440\n",
      "epoch = 1000, a = 1.4985, b = -9.9440\n",
      "epoch = 2000, a = 1.9065, b = -12.9489\n",
      "epoch = 2000, a = 1.9055, b = -12.9491\n",
      "epoch = 2000, a = 1.8515, b = -12.9581\n",
      "epoch = 2000, a = 1.9057, b = -12.9514\n",
      "epoch = 2000, a = 1.9068, b = -12.9513\n",
      "epoch = 2000, a = 1.9068, b = -12.9513\n",
      "epoch = 2000, a = 1.9068, b = -12.9513\n"
     ]
    },
    {
     "output_type": "display_data",
     "data": {
      "image/png": "[encoded data removed]",
      "text/plain": [
       "<Figure size 432x288 with 1 Axes>"
      ]
     },
     "metadata": {
      "needs_background": "light"
     }
    }
   ],
   "metadata": {}
  }
 ],
 "metadata": {
  "orig_nbformat": 4,
  "language_info": {
   "name": "python",
   "version": "3.9.5",
   "mimetype": "text/x-python",
   "codemirror_mode": {
    "name": "ipython",
    "version": 3
   },
   "pygments_lexer": "ipython3",
   "nbconvert_exporter": "python",
   "file_extension": ".py"
  },
  "kernelspec": {
   "name": "python3",
   "display_name": "Python 3.9.5 64-bit"
  },
  "interpreter": {
   "hash": "5d44725d55c3c25373c9cea7b363fe9d5696c3b23e8383192da0211bfba569d6"
  }
 },
 "nbformat": 4,
 "nbformat_minor": 2
}