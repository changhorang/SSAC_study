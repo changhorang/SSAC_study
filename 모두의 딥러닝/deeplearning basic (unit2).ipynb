{
 "cells": [
  {
   "cell_type": "markdown",
   "source": [
    "# 선형 회귀 실습\r\n",
    "## 최소 제곱법 (method of least squares)"
   ],
   "metadata": {}
  },
  {
   "cell_type": "code",
   "execution_count": 1,
   "source": [
    "import numpy as np\r\n",
    "\r\n",
    "# x값과 y값\r\n",
    "x = [2, 4, 6, 8]\r\n",
    "y = [81, 93, 91, 97]\r\n",
    "\r\n",
    "# x & y mean\r\n",
    "mx = np.mean(x)\r\n",
    "my = np.mean(y)\r\n",
    "print(f'mean : {mx}, {my}')\r\n",
    "\r\n",
    "# 기울기 공식 분모 & 분자\r\n",
    "divisor = sum([(mx - i)**2 for i in x])\r\n",
    "\r\n",
    "def top(x, mx, y, my):\r\n",
    "    d = 0\r\n",
    "    for i in range(len(x)):\r\n",
    "        d += (x[i] - mx)*(y[i] - my)\r\n",
    "    return d\r\n",
    "\r\n",
    "dividend = top(x, mx, y, my)\r\n",
    "print(f'분모 : {divisor}, 분자 : {dividend}')\r\n",
    "\r\n",
    "# 기울기 & bias\r\n",
    "a = dividend/divisor\r\n",
    "b = my - (mx*a)\r\n",
    "\r\n",
    "print(f'기울기 : {a}, y절편 : {b}')"
   ],
   "outputs": [
    {
     "output_type": "stream",
     "name": "stdout",
     "text": [
      "mean : 5.0, 90.5\n",
      "분모 : 20.0, 분자 : 46.0\n",
      "기울기 : 2.3, y절편 : 79.0\n"
     ]
    }
   ],
   "metadata": {}
  },
  {
   "cell_type": "markdown",
   "source": [
    "## 평균 제곱 오차 (MSE, mean squared error)"
   ],
   "metadata": {}
  },
  {
   "cell_type": "code",
   "execution_count": 2,
   "source": [
    "import numpy as np\r\n",
    "\r\n",
    "# 기울기와 y절편\r\n",
    "fake_a_b = [3, 76]\r\n",
    "\r\n",
    "data = [[2, 81], [4, 93], [6, 91], [8, 97]]\r\n",
    "x = [i[0] for i in data]\r\n",
    "y = [i[1] for i in data]\r\n",
    "\r\n",
    "# y = ax + b\r\n",
    "def predict(x):\r\n",
    "    return fake_a_b[0]*x + fake_a_b[1]\r\n",
    "\r\n",
    "# MSE 함수\r\n",
    "def mse(y_hat, y):\r\n",
    "    return ((y_hat - y)**2).mean()\r\n",
    "\r\n",
    "# MSE 함수를 각 y값에 대입해 최종 값을 구하는 함수\r\n",
    "def mse_val(predict_result, y):\r\n",
    "    return mse(np.array(predict_result), np.array(y))\r\n",
    "    \r\n",
    "# predict_result\r\n",
    "predict_result = []\r\n",
    "\r\n",
    "# x값 대입\r\n",
    "for i in range(len(x)):\r\n",
    "    # predict_result 생성\r\n",
    "    predict_result.append(predict(x[i]))\r\n",
    "    print(f'공부한 시간 : {x[i]}, 실제 점수 : {y[i]}, 예측 점수: {predict(x[i])}')\r\n",
    "\r\n",
    "# result MSE\r\n",
    "print('MSE 최종값 : '+ str(mse_val(predict_result, y)))"
   ],
   "outputs": [
    {
     "output_type": "stream",
     "name": "stdout",
     "text": [
      "공부한 시간 : 2, 실제 점수 : 81, 예측 점수: 82\n",
      "공부한 시간 : 4, 실제 점수 : 93, 예측 점수: 88\n",
      "공부한 시간 : 6, 실제 점수 : 91, 예측 점수: 94\n",
      "공부한 시간 : 8, 실제 점수 : 97, 예측 점수: 100\n",
      "MSE 최종값 : 11.0\n"
     ]
    }
   ],
   "metadata": {}
  },
  {
   "cell_type": "markdown",
   "source": [
    "## 경사 하강법"
   ],
   "metadata": {}
  },
  {
   "cell_type": "code",
   "execution_count": 5,
   "source": [
    "import numpy as np\r\n",
    "import pandas as pd\r\n",
    "import matplotlib.pyplot as plt\r\n",
    "\r\n",
    "# data\r\n",
    "data = [[2, 81], [4, 93], [6, 91], [8, 97]]\r\n",
    "x = [i[0] for i in data]\r\n",
    "y = [i[1] for i in data]\r\n",
    "\r\n",
    "# graph\r\n",
    "plt.figure(figsize=(8, 5))\r\n",
    "# plt.scatter(x, y)\r\n",
    "# plt.show()\r\n",
    "\r\n",
    "# x & y 넘파이 배열로 변경\r\n",
    "x_data = np.array(x)\r\n",
    "y_data = np.array(y)\r\n",
    "\r\n",
    "# 기울기 & y절편 초기화\r\n",
    "a, b = 0, 0\r\n",
    "\r\n",
    "# learning rate\r\n",
    "lr = 0.001\r\n",
    "\r\n",
    "# epochs\r\n",
    "epochs = 6001\r\n",
    "\r\n",
    "# 경사하강법\r\n",
    "for i in range(epochs):\r\n",
    "    y_pred = a*x_data + b\r\n",
    "    error = y_data - y_pred\r\n",
    "\r\n",
    "    a_diff = -(2/len(x_data))*sum(x_data*error)\r\n",
    "    b_diff = -(2/len(x_data))*sum(error)\r\n",
    "\r\n",
    "    a = a - lr*a_diff\r\n",
    "    b = b - lr*b_diff\r\n",
    "\r\n",
    "    if i % 600 == 0:\r\n",
    "        print(f'epoch = {i}, 기울기 = {a}, 절편 = {b}')\r\n",
    "\r\n",
    "y_pred = a*x_data + b\r\n",
    "plt.scatter(x, y)\r\n",
    "plt.plot([min(x_data), max(x_data)], [min(y_pred), max(y_pred)])\r\n",
    "plt.show()"
   ],
   "outputs": [
    {
     "output_type": "stream",
     "name": "stdout",
     "text": [
      "epoch = 0, 기울기 = 0.928, 절편 = 0.181\n",
      "epoch = 600, 기울기 = 12.844471191318743, 절편 = 16.075105483828832\n",
      "epoch = 1200, 기울기 = 10.97984864787588, 절편 = 27.202375380039047\n",
      "epoch = 1800, 기울기 = 9.444955036916404, 절편 = 36.36196402234923\n",
      "epoch = 2400, 기울기 = 8.181483024712653, 절편 = 43.90182464215073\n",
      "epoch = 3000, 기울기 = 7.141436005020983, 절편 = 50.10838045879872\n",
      "epoch = 3600, 기울기 = 6.285304810406849, 절편 = 55.21740528665834\n",
      "epoch = 4200, 기울기 = 5.580566843263092, 절편 = 59.42298007931095\n",
      "epoch = 4800, 기울기 = 5.000450611710807, 절편 = 62.88486565092688\n",
      "epoch = 5400, 기울기 = 4.5229187377372915, 절편 = 65.73457164876129\n",
      "epoch = 6000, 기울기 = 4.1298308042201395, 절편 = 68.08035232408912\n"
     ]
    },
    {
     "output_type": "display_data",
     "data": {
      "image/png": "[encoded data removed]",
      "text/plain": [
       "<Figure size 576x360 with 1 Axes>"
      ]
     },
     "metadata": {
      "needs_background": "light"
     }
    }
   ],
   "metadata": {}
  },
  {
   "cell_type": "code",
   "execution_count": null,
   "source": [],
   "outputs": [],
   "metadata": {}
  }
 ],
 "metadata": {
  "orig_nbformat": 4,
  "language_info": {
   "name": "python",
   "version": "3.9.5",
   "mimetype": "text/x-python",
   "codemirror_mode": {
    "name": "ipython",
    "version": 3
   },
   "pygments_lexer": "ipython3",
   "nbconvert_exporter": "python",
   "file_extension": ".py"
  },
  "kernelspec": {
   "name": "python3",
   "display_name": "Python 3.9.5 64-bit"
  },
  "interpreter": {
   "hash": "5d44725d55c3c25373c9cea7b363fe9d5696c3b23e8383192da0211bfba569d6"
  }
 },
 "nbformat": 4,
 "nbformat_minor": 2
}