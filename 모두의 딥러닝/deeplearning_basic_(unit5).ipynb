{
  "nbformat": 4,
  "nbformat_minor": 0,
  "metadata": {
    "colab": {
      "name": "deeplearning basic (unit5).ipynb",
      "provenance": []
    },
    "kernelspec": {
      "name": "python3",
      "display_name": "Python 3"
    },
    "language_info": {
      "name": "python"
    },
    "accelerator": "GPU"
  },
  "cells": [
    {
      "cell_type": "markdown",
      "metadata": {
        "id": "iBaLNWg0uqCL"
      },
      "source": [
        "# Unit 5\n",
        "## 이미지 인식의 꽃, CNN 익히기\n",
        "- MNIST 손글씨 인식"
      ]
    },
    {
      "cell_type": "code",
      "metadata": {
        "colab": {
          "base_uri": "https://localhost:8080/",
          "height": 866
        },
        "id": "4jCsTtTMub4T",
        "outputId": "5573f021-e7ee-46d9-d496-8870eb332fab"
      },
      "source": [
        "from keras.datasets import mnist\n",
        "from keras.utils import np_utils\n",
        "\n",
        "import numpy as np\n",
        "import matplotlib.pyplot as plt\n",
        "import sys\n",
        "import tensorflow as tf\n",
        "\n",
        "seed = 0\n",
        "np.random.seed(seed)\n",
        "tf.random.set_seed(3)\n",
        "\n",
        "# MNIST dataset 불러오기\n",
        "(X_train, Y_class_train), (X_test, Y_class_test) = mnist.load_data()\n",
        "\n",
        "print(f'trainset 이미지 수 : {X_train.shape[0]}')\n",
        "print(f'testset 이미지 수 : {X_test.shape[0]}')\n",
        "\n",
        "# graph\n",
        "plt.imshow(X_train[0], cmap='Greys')\n",
        "plt.show()\n",
        "\n",
        "# code\n",
        "for x in X_train[0]:\n",
        "    for i in x:\n",
        "        sys.stdout.write('%d\\t' % i)\n",
        "    sys.stdout.write('\\n')\n",
        "\n",
        "# dimension trans.\n",
        "X_train = X_train.reshape(X_train.shape[0], 784)\n",
        "X_train = X_train.astype('float64')\n",
        "X_train = X_train/255\n",
        "\n",
        "X_test = X_test.reshape(X_test.shape[0], 784).astype('float64')/255\n",
        "\n",
        "# class\n",
        "print('class : %d' % (Y_class_train[0]))\n",
        "\n",
        "# binary\n",
        "Y_train = np_utils.to_categorical(Y_class_train, 10)\n",
        "Y_test = np_utils.to_categorical(Y_class_test, 10)\n",
        "\n",
        "print(Y_train[0])"
      ],
      "execution_count": 3,
      "outputs": [
        {
          "output_type": "stream",
          "name": "stdout",
          "text": [
            "trainset 이미지 수 : 60000\n",
            "testset 이미지 수 : 10000\n"
          ]
        },
        {
          "output_type": "display_data",
          "data": {
            "image/png": "[encoded data removed]",
            "text/plain": [
              "<Figure size 432x288 with 1 Axes>"
            ]
          },
          "metadata": {
            "needs_background": "light"
          }
        },
        {
          "output_type": "stream",
          "name": "stdout",
          "text": [
            "0\t0\t0\t0\t0\t0\t0\t0\t0\t0\t0\t0\t0\t0\t0\t0\t0\t0\t0\t0\t0\t0\t0\t0\t0\t0\t0\t0\t\n",
            "0\t0\t0\t0\t0\t0\t0\t0\t0\t0\t0\t0\t0\t0\t0\t0\t0\t0\t0\t0\t0\t0\t0\t0\t0\t0\t0\t0\t\n",
            "0\t0\t0\t0\t0\t0\t0\t0\t0\t0\t0\t0\t0\t0\t0\t0\t0\t0\t0\t0\t0\t0\t0\t0\t0\t0\t0\t0\t\n",
            "0\t0\t0\t0\t0\t0\t0\t0\t0\t0\t0\t0\t0\t0\t0\t0\t0\t0\t0\t0\t0\t0\t0\t0\t0\t0\t0\t0\t\n",
            "0\t0\t0\t0\t0\t0\t0\t0\t0\t0\t0\t0\t0\t0\t0\t0\t0\t0\t0\t0\t0\t0\t0\t0\t0\t0\t0\t0\t\n",
            "0\t0\t0\t0\t0\t0\t0\t0\t0\t0\t0\t0\t3\t18\t18\t18\t126\t136\t175\t26\t166\t255\t247\t127\t0\t0\t0\t0\t\n",
            "0\t0\t0\t0\t0\t0\t0\t0\t30\t36\t94\t154\t170\t253\t253\t253\t253\t253\t225\t172\t253\t242\t195\t64\t0\t0\t0\t0\t\n",
            "0\t0\t0\t0\t0\t0\t0\t49\t238\t253\t253\t253\t253\t253\t253\t253\t253\t251\t93\t82\t82\t56\t39\t0\t0\t0\t0\t0\t\n",
            "0\t0\t0\t0\t0\t0\t0\t18\t219\t253\t253\t253\t253\t253\t198\t182\t247\t241\t0\t0\t0\t0\t0\t0\t0\t0\t0\t0\t\n",
            "0\t0\t0\t0\t0\t0\t0\t0\t80\t156\t107\t253\t253\t205\t11\t0\t43\t154\t0\t0\t0\t0\t0\t0\t0\t0\t0\t0\t\n",
            "0\t0\t0\t0\t0\t0\t0\t0\t0\t14\t1\t154\t253\t90\t0\t0\t0\t0\t0\t0\t0\t0\t0\t0\t0\t0\t0\t0\t\n",
            "0\t0\t0\t0\t0\t0\t0\t0\t0\t0\t0\t139\t253\t190\t2\t0\t0\t0\t0\t0\t0\t0\t0\t0\t0\t0\t0\t0\t\n",
            "0\t0\t0\t0\t0\t0\t0\t0\t0\t0\t0\t11\t190\t253\t70\t0\t0\t0\t0\t0\t0\t0\t0\t0\t0\t0\t0\t0\t\n",
            "0\t0\t0\t0\t0\t0\t0\t0\t0\t0\t0\t0\t35\t241\t225\t160\t108\t1\t0\t0\t0\t0\t0\t0\t0\t0\t0\t0\t\n",
            "0\t0\t0\t0\t0\t0\t0\t0\t0\t0\t0\t0\t0\t81\t240\t253\t253\t119\t25\t0\t0\t0\t0\t0\t0\t0\t0\t0\t\n",
            "0\t0\t0\t0\t0\t0\t0\t0\t0\t0\t0\t0\t0\t0\t45\t186\t253\t253\t150\t27\t0\t0\t0\t0\t0\t0\t0\t0\t\n",
            "0\t0\t0\t0\t0\t0\t0\t0\t0\t0\t0\t0\t0\t0\t0\t16\t93\t252\t253\t187\t0\t0\t0\t0\t0\t0\t0\t0\t\n",
            "0\t0\t0\t0\t0\t0\t0\t0\t0\t0\t0\t0\t0\t0\t0\t0\t0\t249\t253\t249\t64\t0\t0\t0\t0\t0\t0\t0\t\n",
            "0\t0\t0\t0\t0\t0\t0\t0\t0\t0\t0\t0\t0\t0\t46\t130\t183\t253\t253\t207\t2\t0\t0\t0\t0\t0\t0\t0\t\n",
            "0\t0\t0\t0\t0\t0\t0\t0\t0\t0\t0\t0\t39\t148\t229\t253\t253\t253\t250\t182\t0\t0\t0\t0\t0\t0\t0\t0\t\n",
            "0\t0\t0\t0\t0\t0\t0\t0\t0\t0\t24\t114\t221\t253\t253\t253\t253\t201\t78\t0\t0\t0\t0\t0\t0\t0\t0\t0\t\n",
            "0\t0\t0\t0\t0\t0\t0\t0\t23\t66\t213\t253\t253\t253\t253\t198\t81\t2\t0\t0\t0\t0\t0\t0\t0\t0\t0\t0\t\n",
            "0\t0\t0\t0\t0\t0\t18\t171\t219\t253\t253\t253\t253\t195\t80\t9\t0\t0\t0\t0\t0\t0\t0\t0\t0\t0\t0\t0\t\n",
            "0\t0\t0\t0\t55\t172\t226\t253\t253\t253\t253\t244\t133\t11\t0\t0\t0\t0\t0\t0\t0\t0\t0\t0\t0\t0\t0\t0\t\n",
            "0\t0\t0\t0\t136\t253\t253\t253\t212\t135\t132\t16\t0\t0\t0\t0\t0\t0\t0\t0\t0\t0\t0\t0\t0\t0\t0\t0\t\n",
            "0\t0\t0\t0\t0\t0\t0\t0\t0\t0\t0\t0\t0\t0\t0\t0\t0\t0\t0\t0\t0\t0\t0\t0\t0\t0\t0\t0\t\n",
            "0\t0\t0\t0\t0\t0\t0\t0\t0\t0\t0\t0\t0\t0\t0\t0\t0\t0\t0\t0\t0\t0\t0\t0\t0\t0\t0\t0\t\n",
            "0\t0\t0\t0\t0\t0\t0\t0\t0\t0\t0\t0\t0\t0\t0\t0\t0\t0\t0\t0\t0\t0\t0\t0\t0\t0\t0\t0\t\n",
            "class : 5\n",
            "[0. 0. 0. 0. 0. 1. 0. 0. 0. 0.]\n"
          ]
        }
      ]
    },
    {
      "cell_type": "code",
      "metadata": {
        "colab": {
          "base_uri": "https://localhost:8080/",
          "height": 1000
        },
        "id": "MDmIs8yJubqW",
        "outputId": "c937b31a-2c53-4e24-c601-17022fa83ed7"
      },
      "source": [
        "from keras.datasets import mnist\n",
        "from keras.utils import np_utils\n",
        "from keras.models import Sequential\n",
        "from keras.layers import Dense\n",
        "from keras.callbacks import ModelCheckpoint, EarlyStopping\n",
        "\n",
        "import numpy as np\n",
        "import matplotlib.pyplot as plt\n",
        "import os\n",
        "import tensorflow as tf\n",
        "\n",
        "seed = 0\n",
        "np.random.seed(seed)\n",
        "tf.random.set_seed(3)\n",
        "\n",
        "# MNIST dataset 불러오기\n",
        "(X_train, Y_class_train), (X_test, Y_class_test) = mnist.load_data()\n",
        "\n",
        "# dimension trans.\n",
        "X_train = X_train.reshape(X_train.shape[0], 784).astype('float64')/255\n",
        "X_test = X_test.reshape(X_test.shape[0], 784).astype('float64')/255\n",
        "\n",
        "# binary\n",
        "Y_train = np_utils.to_categorical(Y_class_train, 10)\n",
        "Y_test = np_utils.to_categorical(Y_class_test, 10)\n",
        "\n",
        "# model\n",
        "model = Sequential()\n",
        "model.add(Dense(512, input_dim=784, activation='relu'))\n",
        "model.add(Dense(10, activation='softmax'))\n",
        "\n",
        "# compile\n",
        "model.compile(loss='categorical_crossentropy', optimizer='adam', metrics=['Accuracy'])\n",
        "\n",
        "# model optimization setting\n",
        "MODEL_DIR = './model/'\n",
        "if not os.path.exists(MODEL_DIR):\n",
        "    os.mkdir(MODEL_DIR)\n",
        "\n",
        "modelpath = './model/{epoch:02d}-{val_loss:.4f}.hdf5'\n",
        "checkpointer = ModelCheckpoint(filepath=modelpath, monitor='val_loss', verbose=1, save_beset_only=True)\n",
        "early_stopping_callback = EarlyStopping(monitor='val_loss', patience=10)\n",
        "\n",
        "# train model\n",
        "history = model.fit(X_train, Y_train, validation_data=(X_test, Y_test), epochs=30, batch_size=200, verbose=0,\n",
        "                    callbacks=[early_stopping_callback, checkpointer])\n",
        "\n",
        "# test accuracy\n",
        "print('\\n Test Accuracy: %.4f' % (model.evaluate(X_test, Y_test)[1]))\n",
        "\n",
        "# loss\n",
        "y_vloss = history.history['val_loss']\n",
        "y_loss = history.history['loss']\n",
        "\n",
        "# graph\n",
        "x_len = np.arange(len(y_loss))\n",
        "plt.plot(x_len, y_vloss, marker='.', c='red', label='Testset_loss')\n",
        "plt.plot(x_len, y_loss, marker='.', c='blue', label='Trainset_loss')\n",
        "plt.legend(loc='upper right')\n",
        "plt.grid()\n",
        "plt.xlabel('epoch')\n",
        "plt.ylabel('loss')\n",
        "plt.show()"
      ],
      "execution_count": 2,
      "outputs": [
        {
          "output_type": "stream",
          "name": "stdout",
          "text": [
            "\n",
            "Epoch 00001: saving model to ./model/01-0.1474.hdf5\n",
            "\n",
            "Epoch 00002: saving model to ./model/02-0.1019.hdf5\n",
            "\n",
            "Epoch 00003: saving model to ./model/03-0.0890.hdf5\n",
            "\n",
            "Epoch 00004: saving model to ./model/04-0.0784.hdf5\n",
            "\n",
            "Epoch 00005: saving model to ./model/05-0.0745.hdf5\n",
            "\n",
            "Epoch 00006: saving model to ./model/06-0.0665.hdf5\n",
            "\n",
            "Epoch 00007: saving model to ./model/07-0.0652.hdf5\n",
            "\n",
            "Epoch 00008: saving model to ./model/08-0.0629.hdf5\n",
            "\n",
            "Epoch 00009: saving model to ./model/09-0.0632.hdf5\n",
            "\n",
            "Epoch 00010: saving model to ./model/10-0.0622.hdf5\n",
            "\n",
            "Epoch 00011: saving model to ./model/11-0.0655.hdf5\n",
            "\n",
            "Epoch 00012: saving model to ./model/12-0.0678.hdf5\n",
            "\n",
            "Epoch 00013: saving model to ./model/13-0.0592.hdf5\n",
            "\n",
            "Epoch 00014: saving model to ./model/14-0.0656.hdf5\n",
            "\n",
            "Epoch 00015: saving model to ./model/15-0.0648.hdf5\n",
            "\n",
            "Epoch 00016: saving model to ./model/16-0.0697.hdf5\n",
            "\n",
            "Epoch 00017: saving model to ./model/17-0.0683.hdf5\n",
            "\n",
            "Epoch 00018: saving model to ./model/18-0.0870.hdf5\n",
            "\n",
            "Epoch 00019: saving model to ./model/19-0.0753.hdf5\n",
            "\n",
            "Epoch 00020: saving model to ./model/20-0.0863.hdf5\n",
            "\n",
            "Epoch 00021: saving model to ./model/21-0.0630.hdf5\n",
            "\n",
            "Epoch 00022: saving model to ./model/22-0.0645.hdf5\n",
            "\n",
            "Epoch 00023: saving model to ./model/23-0.0657.hdf5\n",
            "313/313 [==============================] - 1s 2ms/step - loss: 0.0657 - Accuracy: 0.9837\n",
            "\n",
            " Test Accuracy: 0.9837\n"
          ]
        },
        {
          "output_type": "display_data",
          "data": {
            "image/png": "[encoded data removed]",
            "text/plain": [
              "<Figure size 432x288 with 1 Axes>"
            ]
          },
          "metadata": {
            "needs_background": "light"
          }
        }
      ]
    },
    {
      "cell_type": "markdown",
      "metadata": {
        "id": "ee-_XhphuY07"
      },
      "source": [
        "## CNN"
      ]
    },
    {
      "cell_type": "code",
      "metadata": {
        "colab": {
          "base_uri": "https://localhost:8080/",
          "height": 1000
        },
        "id": "BV0lqdErt304",
        "outputId": "d084fb94-8df2-4872-85b7-4e65b8b536bb"
      },
      "source": [
        "from keras.datasets import mnist\n",
        "from keras.utils import np_utils\n",
        "from keras.models import Sequential\n",
        "from keras.layers import Dense, Dropout, Flatten, Conv2D, MaxPooling2D\n",
        "from keras.callbacks import ModelCheckpoint, EarlyStopping\n",
        "\n",
        "import numpy as np\n",
        "import matplotlib.pyplot as plt\n",
        "import os\n",
        "import tensorflow as tf\n",
        "\n",
        "seed = 0\n",
        "np.random.seed(seed)\n",
        "tf.random.set_seed(3)\n",
        "\n",
        "# MNIST dataset 불러오기\n",
        "(X_train, Y_class_train), (X_test, Y_class_test) = mnist.load_data()\n",
        "\n",
        "# dimension trans.\n",
        "X_train = X_train.reshape(X_train.shape[0], 28, 28, 1).astype('float32')/255\n",
        "X_test = X_test.reshape(X_test.shape[0], 28, 28, 1).astype('float32')/255\n",
        "\n",
        "# binary\n",
        "Y_train = np_utils.to_categorical(Y_class_train, 10)\n",
        "Y_test = np_utils.to_categorical(Y_class_test, 10)\n",
        "\n",
        "# model\n",
        "model = Sequential()\n",
        "model.add(Conv2D(32, kernel_size=(3, 3), input_shape=(28, 28, 1), activation='relu'))\n",
        "model.add(Conv2D(64, (3, 3), activation='relu'))\n",
        "model.add(MaxPooling2D(pool_size=2))\n",
        "model.add(Dropout(0.25))\n",
        "model.add(Flatten())\n",
        "model.add(Dense(128, activation='relu'))\n",
        "model.add(Dropout(0.5))\n",
        "model.add(Dense(10, activation='softmax'))\n",
        "\n",
        "# compile\n",
        "model.compile(loss='categorical_crossentropy', optimizer='adam', metrics=['Accuracy'])\n",
        "\n",
        "# model optimization setting\n",
        "MODEL_DIR = './model/'\n",
        "if not os.path.exists(MODEL_DIR):\n",
        "    os.mkdir(MODEL_DIR)\n",
        "\n",
        "modelpath = './model/{epoch:02d}-{val_loss:.4f}.hdf5'\n",
        "checkpointer = ModelCheckpoint(filepath=modelpath, monitor='val_loss', verbose=1, save_beset_only=True)\n",
        "early_stopping_callback = EarlyStopping(monitor='val_loss', patience=10)\n",
        "\n",
        "# train model\n",
        "history = model.fit(X_train, Y_train, validation_data=(X_test, Y_test), epochs=30, batch_size=200, verbose=0,\n",
        "                    callbacks=[early_stopping_callback, checkpointer])\n",
        "\n",
        "# test accuracy\n",
        "print('\\n Test Accuracy: %.4f' % (model.evaluate(X_test, Y_test)[1]))\n",
        "\n",
        "# loss\n",
        "y_vloss = history.history['val_loss']\n",
        "y_loss = history.history['loss']\n",
        "\n",
        "# graph\n",
        "x_len = np.arange(len(y_loss))\n",
        "plt.plot(x_len, y_vloss, marker='.', c='red', label='Testset_loss')\n",
        "plt.plot(x_len, y_loss, marker='.', c='blue', label='Trainset_loss')\n",
        "plt.legend(loc='upper right')\n",
        "plt.grid()\n",
        "plt.xlabel('epoch')\n",
        "plt.ylabel('loss')\n",
        "plt.show()"
      ],
      "execution_count": 1,
      "outputs": [
        {
          "output_type": "stream",
          "name": "stdout",
          "text": [
            "Downloading data from https://storage.googleapis.com/tensorflow/tf-keras-datasets/mnist.npz\n",
            "11493376/11490434 [==============================] - 0s 0us/step\n",
            "11501568/11490434 [==============================] - 0s 0us/step\n",
            "\n",
            "Epoch 00001: saving model to ./model/01-0.0529.hdf5\n",
            "\n",
            "Epoch 00002: saving model to ./model/02-0.0383.hdf5\n",
            "\n",
            "Epoch 00003: saving model to ./model/03-0.0350.hdf5\n",
            "\n",
            "Epoch 00004: saving model to ./model/04-0.0304.hdf5\n",
            "\n",
            "Epoch 00005: saving model to ./model/05-0.0291.hdf5\n",
            "\n",
            "Epoch 00006: saving model to ./model/06-0.0295.hdf5\n",
            "\n",
            "Epoch 00007: saving model to ./model/07-0.0306.hdf5\n",
            "\n",
            "Epoch 00008: saving model to ./model/08-0.0295.hdf5\n",
            "\n",
            "Epoch 00009: saving model to ./model/09-0.0261.hdf5\n",
            "\n",
            "Epoch 00010: saving model to ./model/10-0.0294.hdf5\n",
            "\n",
            "Epoch 00011: saving model to ./model/11-0.0263.hdf5\n",
            "\n",
            "Epoch 00012: saving model to ./model/12-0.0284.hdf5\n",
            "\n",
            "Epoch 00013: saving model to ./model/13-0.0265.hdf5\n",
            "\n",
            "Epoch 00014: saving model to ./model/14-0.0255.hdf5\n",
            "\n",
            "Epoch 00015: saving model to ./model/15-0.0347.hdf5\n",
            "\n",
            "Epoch 00016: saving model to ./model/16-0.0269.hdf5\n",
            "\n",
            "Epoch 00017: saving model to ./model/17-0.0279.hdf5\n",
            "\n",
            "Epoch 00018: saving model to ./model/18-0.0298.hdf5\n",
            "\n",
            "Epoch 00019: saving model to ./model/19-0.0303.hdf5\n",
            "\n",
            "Epoch 00020: saving model to ./model/20-0.0287.hdf5\n",
            "\n",
            "Epoch 00021: saving model to ./model/21-0.0309.hdf5\n",
            "\n",
            "Epoch 00022: saving model to ./model/22-0.0342.hdf5\n",
            "\n",
            "Epoch 00023: saving model to ./model/23-0.0290.hdf5\n",
            "\n",
            "Epoch 00024: saving model to ./model/24-0.0332.hdf5\n",
            "313/313 [==============================] - 1s 3ms/step - loss: 0.0332 - Accuracy: 0.9920\n",
            "\n",
            " Test Accuracy: 0.9920\n"
          ]
        },
        {
          "output_type": "display_data",
          "data": {
            "image/png": "[encoded data removed]",
            "text/plain": [
              "<Figure size 432x288 with 1 Axes>"
            ]
          },
          "metadata": {
            "needs_background": "light"
          }
        }
      ]
    },
    {
      "cell_type": "code",
      "metadata": {
        "id": "4bURvZ1fu-5k"
      },
      "source": [
        ""
      ],
      "execution_count": null,
      "outputs": []
    }
  ]
}