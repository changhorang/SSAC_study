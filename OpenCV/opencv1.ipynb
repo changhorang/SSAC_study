{
 "cells": [
  {
   "cell_type": "markdown",
   "source": [
    "# OpenCV\r\n",
    "# 2. 기본 입출력"
   ],
   "metadata": {}
  },
  {
   "cell_type": "code",
   "execution_count": 3,
   "source": [
    "import cv2\r\n",
    "\r\n",
    "img_file = './img/girl.jpg'\r\n",
    "img = cv2.imread(img_file)\r\n",
    "\r\n",
    "if img is not None:\r\n",
    "    cv2.imshow('IMG', img)  # 읽은 이미지 표시\r\n",
    "    cv2.waitKey()           # 키가 입력될 때까지 대기\r\n",
    "    cv2.destroyAllWindows() # 창 모두 닫기\r\n",
    "else:\r\n",
    "    print('No Image file!')"
   ],
   "outputs": [],
   "metadata": {}
  },
  {
   "cell_type": "code",
   "execution_count": 4,
   "source": [
    "import cv2\r\n",
    "\r\n",
    "img_file = './img/girl.jpg'\r\n",
    "img = cv2.imread(img_file, cv2.IMREAD_GRAYSCALE) # 그레이 스케일로 읽기\r\n",
    "\r\n",
    "if img is not None:\r\n",
    "    cv2.imshow('IMG', img)  # 읽은 이미지 표시\r\n",
    "    cv2.waitKey()           # 키가 입력될 때까지 대기\r\n",
    "    cv2.destroyAllWindows() # 창 모두 닫기\r\n",
    "else:\r\n",
    "    print('No Image file!')"
   ],
   "outputs": [],
   "metadata": {}
  },
  {
   "cell_type": "code",
   "execution_count": 6,
   "source": [
    "import cv2\r\n",
    "\r\n",
    "img_file = './img/girl.jpg'\r\n",
    "save_file = './img/girl_gray1.jpg'\r\n",
    "\r\n",
    "img = cv2.imread(img_file, cv2.IMREAD_GRAYSCALE) # 그레이 스케일로 읽기\r\n",
    "cv2.imshow(img_file, img)   # 읽은 이미지 표시\r\n",
    "cv2.imwrite(save_file, img) # 파일 저장\r\n",
    "cv2.waitKey()               # 키가 입력될 때까지 대기\r\n",
    "cv2.destroyAllWindows()     # 창 모두 닫기"
   ],
   "outputs": [],
   "metadata": {}
  },
  {
   "cell_type": "code",
   "execution_count": null,
   "source": [],
   "outputs": [],
   "metadata": {}
  }
 ],
 "metadata": {
  "orig_nbformat": 4,
  "language_info": {
   "name": "python",
   "version": "3.9.5",
   "mimetype": "text/x-python",
   "codemirror_mode": {
    "name": "ipython",
    "version": 3
   },
   "pygments_lexer": "ipython3",
   "nbconvert_exporter": "python",
   "file_extension": ".py"
  },
  "kernelspec": {
   "name": "python3",
   "display_name": "Python 3.9.5 64-bit"
  },
  "interpreter": {
   "hash": "5d44725d55c3c25373c9cea7b363fe9d5696c3b23e8383192da0211bfba569d6"
  }
 },
 "nbformat": 4,
 "nbformat_minor": 2
}