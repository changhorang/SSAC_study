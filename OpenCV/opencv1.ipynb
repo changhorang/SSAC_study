{
 "cells": [
  {
   "cell_type": "markdown",
   "source": [
    "# OpenCV\r\n",
    "# 2. 기본 입출력"
   ],
   "metadata": {}
  },
  {
   "cell_type": "code",
   "execution_count": 3,
   "source": [
    "# Install\r\n",
    "#!pip3 install opencv-python # main module\r\n",
    "#!pip3 install opencv-contrib-python # 엑스트라 모듈 포함\r\n",
    "\r\n",
    "# p.23 이미지 읽기\r\n",
    "import cv2\r\n",
    "\r\n",
    "img_file = './img/girl.jpg'\r\n",
    "img = cv2.imread(img_file)\r\n",
    "\r\n",
    "if img is not None:\r\n",
    "    cv2.imshow('IMG', img)  # 읽은 이미지 표시\r\n",
    "    cv2.waitKey()           # 키가 입력될 때까지 대기\r\n",
    "    cv2.destroyAllWindows() # 창 모두 닫기\r\n",
    "else:\r\n",
    "    print('No Image file!')"
   ],
   "outputs": [],
   "metadata": {}
  },
  {
   "cell_type": "code",
   "execution_count": 4,
   "source": [
    "# p.25 그레이 스케일로 읽기\r\n",
    "import cv2\r\n",
    "\r\n",
    "img_file = './img/girl.jpg'\r\n",
    "img = cv2.imread(img_file, cv2.IMREAD_GRAYSCALE) # 그레이 스케일로 읽기\r\n",
    "\r\n",
    "if img is not None:\r\n",
    "    cv2.imshow('IMG', img)  # 읽은 이미지 표시\r\n",
    "    cv2.waitKey()           # 키가 입력될 때까지 대기\r\n",
    "    cv2.destroyAllWindows() # 창 모두 닫기\r\n",
    "else:\r\n",
    "    print('No Image file!')"
   ],
   "outputs": [],
   "metadata": {}
  },
  {
   "cell_type": "code",
   "execution_count": 6,
   "source": [
    "# p.26 흑백사진 불러와서 저장\r\n",
    "import cv2\r\n",
    "\r\n",
    "img_file = './img/girl.jpg'\r\n",
    "save_file = './img/girl_gray1.jpg'\r\n",
    "\r\n",
    "img = cv2.imread(img_file, cv2.IMREAD_GRAYSCALE) # 그레이 스케일로 읽기\r\n",
    "cv2.imshow(img_file, img)   # 읽은 이미지 표시\r\n",
    "cv2.imwrite(save_file, img) # 파일 저장\r\n",
    "cv2.waitKey()               # 키가 입력될 때까지 대기\r\n",
    "cv2.destroyAllWindows()     # 창 모두 닫기"
   ],
   "outputs": [],
   "metadata": {}
  },
  {
   "cell_type": "code",
   "execution_count": 8,
   "source": [
    "# p.29 동영상 재생\r\n",
    "import cv2\r\n",
    "\r\n",
    "video_file = './img/big_buck.avi'\r\n",
    "\r\n",
    "cap = cv2.VideoCapture(video_file)\r\n",
    "if cap.isOpened():  # 캡쳐 객체 초기화 확인: 셋팅이 잘안되어 있는 경우 False 반환\r\n",
    "    while True:\r\n",
    "        ret, img = cap.read()\r\n",
    "        if ret:\r\n",
    "            cv2.imshow(video_file, img)\r\n",
    "            cv2.waitKey(25) # 일반적으로 40을 많이 활용\r\n",
    "        else:\r\n",
    "            break\r\n",
    "else:\r\n",
    "    print(\"Can't open video.\")\r\n",
    "\r\n",
    "cap.release()\r\n",
    "cv2.destroyAllWindows()"
   ],
   "outputs": [],
   "metadata": {}
  },
  {
   "cell_type": "code",
   "execution_count": 12,
   "source": [
    "# p.31 장치 카메라를 이용한 경우\r\n",
    "import cv2\r\n",
    "\r\n",
    "cap = cv2.VideoCapture(0)               # 일반적으로 카메라 한 대인 경우: 0\r\n",
    "if cap.isOpened(): \r\n",
    "    while True:\r\n",
    "        ret, img = cap.read()           # 카메라 프레임 읽기\r\n",
    "        if ret:                         # 카메라가 사용 중인 경우에는 ret이 False 반환\r\n",
    "            cv2.imshow('camera', img)\r\n",
    "            if cv2.waitKey(1) != -1:    # 1ms 동안 입력 대기\r\n",
    "                break\r\n",
    "        else:\r\n",
    "            print('No frame')\r\n",
    "            break\r\n",
    "else:\r\n",
    "    print(\"Can't open video.\")\r\n",
    "\r\n",
    "cap.release()\r\n",
    "cv2.destroyAllWindows()"
   ],
   "outputs": [],
   "metadata": {}
  },
  {
   "cell_type": "code",
   "execution_count": 14,
   "source": [
    "# p.33 FPS를 지정해서 동영상 재생\r\n",
    "import cv2\r\n",
    "\r\n",
    "video_file = './img/big_buck.avi'\r\n",
    "\r\n",
    "cap = cv2.VideoCapture(video_file)\r\n",
    "if cap.isOpened():\r\n",
    "    fps = cap.get(cv2.CAP_PROP_FPS)      # 초당 프레임수\r\n",
    "    delay = int(1000/fps)\r\n",
    "    print(f'FPS: {fps}, Delay: {delay}')\r\n",
    "\r\n",
    "    while True:\r\n",
    "        ret, img = cap.read()\r\n",
    "        if ret:\r\n",
    "            cv2.imshow(video_file, img)\r\n",
    "            cv2.waitKey(delay)\r\n",
    "        else:\r\n",
    "            break\r\n",
    "else:\r\n",
    "    print(\"Can't open video.\")\r\n",
    "\r\n",
    "cap.release()\r\n",
    "cv2.destroyAllWindows()"
   ],
   "outputs": [
    {
     "output_type": "stream",
     "name": "stdout",
     "text": [
      "FPS: 24.0, Delay: 41\n"
     ]
    }
   ],
   "metadata": {}
  },
  {
   "cell_type": "code",
   "execution_count": 1,
   "source": [
    "# p.33 카메라 프레임 크기 설정\r\n",
    "import cv2\r\n",
    "\r\n",
    "cap = cv2.VideoCapture(0)\r\n",
    "width = cap.get(cv2.CAP_PROP_FRAME_WIDTH)\r\n",
    "height = cap.get(cv2.CAP_PROP_FRAME_HEIGHT)\r\n",
    "print(f'Original width: {width}, height: {height}')\r\n",
    "\r\n",
    "cap.set(cv2.CAP_PROP_FRAME_WIDTH, 320)\r\n",
    "cap.set(cv2.CAP_PROP_FRAME_HEIGHT, 240)\r\n",
    "width = cap.get(cv2.CAP_PROP_FRAME_WIDTH)\r\n",
    "height = cap.get(cv2.CAP_PROP_FRAME_HEIGHT)\r\n",
    "print(f'Resized width: {width}, height: {height}')\r\n",
    "\r\n",
    "if cap.isOpened(): \r\n",
    "    while True:\r\n",
    "        ret, img = cap.read()           # 카메라 프레임 읽기\r\n",
    "        if ret:                         # 카메라가 사용 중인 경우에는 ret이 False 반환\r\n",
    "            cv2.imshow('camera', img)\r\n",
    "            if cv2.waitKey(1) != -1:    # 1ms 동안 입력 대기\r\n",
    "                break\r\n",
    "        else:\r\n",
    "            print('No frame')\r\n",
    "            break\r\n",
    "else:\r\n",
    "    print(\"Can't open video.\")\r\n",
    "\r\n",
    "cap.release()\r\n",
    "cv2.destroyAllWindows()"
   ],
   "outputs": [
    {
     "output_type": "stream",
     "name": "stdout",
     "text": [
      "Original width: 640.0, height: 480.0\n",
      "Resized width: 320.0, height: 240.0\n"
     ]
    }
   ],
   "metadata": {}
  },
  {
   "cell_type": "code",
   "execution_count": 3,
   "source": [
    "# p.35 카메라를 이용한 캡쳐\r\n",
    "import cv2\r\n",
    "\r\n",
    "cap = cv2.VideoCapture(0)               # 일반적으로 카메라 한 대인 경우: 0\r\n",
    "if cap.isOpened(): \r\n",
    "    while True:\r\n",
    "        ret, frame = cap.read()         # 카메라 프레임 읽기\r\n",
    "        if ret:                         # 카메라가 사용 중인 경우에는 ret이 False 반환\r\n",
    "            cv2.imshow('camera', frame) # 프레임 화면에 표시\r\n",
    "            if cv2.waitKey(1) != -1:    # 아무 키나 누르기를 통해서 이미지 파일 저장\r\n",
    "                cv2.imwrite('./img/selfcamera.jpg', frame)\r\n",
    "                break\r\n",
    "        else:\r\n",
    "            print('No frame')\r\n",
    "            break\r\n",
    "else:\r\n",
    "    print(\"Can't open video.\")\r\n",
    "\r\n",
    "cap.release()\r\n",
    "cv2.destroyAllWindows()"
   ],
   "outputs": [],
   "metadata": {}
  },
  {
   "cell_type": "code",
   "execution_count": 4,
   "source": [
    "# p.37 동영상 녹화하기\r\n",
    "import cv2\r\n",
    "\r\n",
    "cap = cv2.VideoCapture(0)\r\n",
    "\r\n",
    "if cap.isOpened:\r\n",
    "    file_path = './img/record1.avi'\r\n",
    "    fps = 25.4\r\n",
    "    fourcc = cv2.VideoWriter_fourcc(*'DIVX')            # 인코딩 포맷 문자\r\n",
    "    width = cap.get(cv2.CAP_PROP_FRAME_WIDTH)\r\n",
    "    height = cap.get(cv2.CAP_PROP_FRAME_HEIGHT)\r\n",
    "    size = (int(width), int(height))\r\n",
    "    out = cv2.VideoWriter(file_path, fourcc, fps, size) # VideoWriter 객체 생성\r\n",
    "    while True:\r\n",
    "        ret, frame = cap.read()\r\n",
    "        if ret:\r\n",
    "            cv2.imshow('camera-recording', frame)\r\n",
    "            out.write(frame)                            # 파일 저장\r\n",
    "            if cv2.waitKey(int(1000/fps)) != -1:\r\n",
    "                break\r\n",
    "        else:\r\n",
    "            print('No Frame!')\r\n",
    "    out.release()                                       # 파일 닫기\r\n",
    "else:\r\n",
    "    print(\"Can't open video.\")\r\n",
    "\r\n",
    "cap.release()\r\n",
    "cv2.destroyAllWindows()"
   ],
   "outputs": [],
   "metadata": {}
  },
  {
   "cell_type": "code",
   "execution_count": 7,
   "source": [
    "# p.38 그림 그리기\r\n",
    "import cv2\r\n",
    "import numpy as np\r\n",
    "\r\n",
    "img = np.full((500, 500, 3), 255, dtype=np.uint8)\r\n",
    "cv2.imwrite('./img/blank_500.jpg', img)"
   ],
   "outputs": [
    {
     "output_type": "execute_result",
     "data": {
      "text/plain": [
       "True"
      ]
     },
     "metadata": {},
     "execution_count": 7
    }
   ],
   "metadata": {}
  },
  {
   "cell_type": "code",
   "execution_count": 11,
   "source": [
    "# p.39 선 그리기\r\n",
    "import cv2\r\n",
    "\r\n",
    "img = cv2.imread('./img/blank_500.jpg')\r\n",
    "\r\n",
    "cv2.line(img, (50, 50), (150, 50), (255, 0, 0))  # 파란색 1픽셀선\r\n",
    "cv2.line(img, (200, 50), (300, 50), (0, 255, 0)) # 초록색 1픽셀선\r\n",
    "cv2.line(img, (350, 50), (450, 50), (0, 0, 255)) # 빨간색 1픽셀선\r\n",
    "\r\n",
    "cv2.line(img, (100, 100), (400, 100), (255, 255, 0), 10)  # 픽셀 두께: 10\r\n",
    "cv2.line(img, (100, 150), (400, 150), (255, 0, 255), 10)\r\n",
    "cv2.line(img, (100, 200), (400, 200), (0, 255, 255), 10)\r\n",
    "cv2.line(img, (100, 250), (400, 250), (200, 200, 200), 10)\r\n",
    "cv2.line(img, (100, 300), (400, 300), (0, 0, 0), 10)\r\n",
    "\r\n",
    "cv2.line(img, (100, 350), (400, 400), (0, 0, 255), 20, cv2.LINE_4) # 픽셀 두께: 20 /  라인 종류에 따라 다른 형상\r\n",
    "cv2.line(img, (100, 400), (400, 450), (0, 0, 255), 20, cv2.LINE_8)\r\n",
    "cv2.line(img, (100, 450), (400, 500), (0, 0, 255), 20, cv2.LINE_AA)\r\n",
    "cv2.line(img, (0, 0), (500, 500), (0, 0, 255))\r\n",
    "\r\n",
    "cv2.imshow('lines', img)\r\n",
    "cv2.waitKey(0)\r\n",
    "cv2.destroyAllWindows()"
   ],
   "outputs": [],
   "metadata": {}
  },
  {
   "cell_type": "code",
   "execution_count": 10,
   "source": [
    "# p.41 사각형 그리기\r\n",
    "import cv2\r\n",
    "\r\n",
    "img = cv2.imread('./img/blank_500.jpg')\r\n",
    "\r\n",
    "cv2.rectangle(img, (50, 50), (150, 150), (255, 0, 0))        # 좌상, 우하 좌표\r\n",
    "cv2.rectangle(img, (300, 300), (100, 100), (0, 255, 0), 10)  # 우하, 좌상 좌표\r\n",
    "cv2.rectangle(img, (450, 200), (200, 450), (0, 0, 255), -1)  # 사각형 채워 그리기\r\n",
    "\r\n",
    "cv2.imshow('rectangle', img)\r\n",
    "cv2.waitKey(0)\r\n",
    "cv2.destroyAllWindows()"
   ],
   "outputs": [],
   "metadata": {}
  },
  {
   "cell_type": "code",
   "execution_count": 12,
   "source": [
    "# p.42 다각형 그리기\r\n",
    "import cv2\r\n",
    "import numpy as np\r\n",
    "\r\n",
    "img = cv2.imread('./img/blank_500.jpg')\r\n",
    "\r\n",
    "# Numpy 배열로 좌표 생성\r\n",
    "# 삼각형/사각형/오각형\r\n",
    "pts1 = np.array([[50, 50], [150, 150], [100, 140], [200, 240]], dtype=np.int32)\r\n",
    "pts2 = np.array([[350, 50], [250, 150], [450, 200]], dtype=np.int32)\r\n",
    "pts3 = np.array([[150, 300], [50, 450], [250, 450]], dtype=np.int32)\r\n",
    "pts4 = np.array([[350, 250], [450, 350], [400, 450], [300, 450], [250, 350]], dtype=np.int32)\r\n",
    "\r\n",
    "cv2.polylines(img, [pts1], False, (255, 0, 0))    # False : 열린 선 / True : 닫힌 선\r\n",
    "cv2.polylines(img, [pts2], False, (0, 0, 0), 10)\r\n",
    "cv2.polylines(img, [pts3], True, (0, 0, 255), 10)\r\n",
    "cv2.polylines(img, [pts4], True, (0, 0, 0))\r\n",
    "\r\n",
    "cv2.imshow('poly line', img)\r\n",
    "cv2.waitKey(0)\r\n",
    "cv2.destroyAllWindows()"
   ],
   "outputs": [],
   "metadata": {}
  },
  {
   "cell_type": "code",
   "execution_count": 16,
   "source": [
    "# p.44 원/ 타원/ 호 그리기\r\n",
    "import cv2\r\n",
    "\r\n",
    "img = cv2.imread('./img/blank_500.jpg')\r\n",
    "\r\n",
    "cv2.circle(img, (150, 150), 100, (255, 0, 0))\r\n",
    "cv2.circle(img, (300, 150), 70, (0, 255, 0), 5)\r\n",
    "cv2.circle(img, (400, 150), 50, (0, 0, 255), -1)\r\n",
    "\r\n",
    "cv2.ellipse(img, (50, 300), (50, 50), 0, 0, 360, (255, 0, 0))\r\n",
    "cv2.ellipse(img, (150, 300), (50, 50), 0, 0, 180, (0, 255, 0))\r\n",
    "cv2.ellipse(img, (200, 300), (50, 50), 0, 181, 360, (0, 0, 255))\r\n",
    "\r\n",
    "cv2.ellipse(img, (325, 300), (75, 50), 0, 0, 360, (0, 255, 0))\r\n",
    "cv2.ellipse(img, (450, 300), (50, 75), 0, 0, 360, (255, 0, 255))\r\n",
    "\r\n",
    "cv2.ellipse(img, (50, 425), (50, 75), 15, 0, 360, (0, 0, 0))\r\n",
    "cv2.ellipse(img, (200, 425), (50, 75), 45, 0, 360, (0, 0, 0))\r\n",
    "\r\n",
    "cv2.ellipse(img, (350, 425), (50, 75), 45, 0, 180, (0, 0, 255))\r\n",
    "cv2.ellipse(img, (400, 425), (50, 75), 45, 181, 360, (255, 0, 0))\r\n",
    "\r\n",
    "cv2.imshow('circle', img)\r\n",
    "cv2.waitKey(0)\r\n",
    "cv2.destroyAllWindows()"
   ],
   "outputs": [],
   "metadata": {}
  },
  {
   "cell_type": "code",
   "execution_count": 24,
   "source": [
    "# p.48 글씨 그리기\r\n",
    "import cv2\r\n",
    "\r\n",
    "img = cv2.imread('./img/blank_500.jpg')\r\n",
    "\r\n",
    "cv2.putText(img, 'Plain', (50, 30), cv2.FONT_HERSHEY_PLAIN, 1, (0, 0, 0))\r\n",
    "cv2.putText(img, 'Simplex', (50, 70), cv2.FONT_HERSHEY_SIMPLEX, 1, (0, 0, 0))\r\n",
    "cv2.putText(img, 'Duplex', (50, 110), cv2.FONT_HERSHEY_DUPLEX, 1, (0, 0, 0))\r\n",
    "cv2.putText(img, 'Simplex', (200, 110), cv2.FONT_HERSHEY_SIMPLEX, 2, (0, 0, 250))\r\n",
    "\r\n",
    "cv2.putText(img, 'Complex Small', (50, 180), cv2.FONT_HERSHEY_COMPLEX_SMALL, 1, (0, 0, 0))\r\n",
    "cv2.putText(img, 'Complex', (50, 220), cv2.FONT_HERSHEY_COMPLEX, 1, (0, 0, 0))\r\n",
    "cv2.putText(img, 'Triplex', (50, 260), cv2.FONT_HERSHEY_TRIPLEX, 1, (0, 0, 0))\r\n",
    "\r\n",
    "cv2.putText(img, 'Complex', (200, 260), cv2.FONT_HERSHEY_COMPLEX, 2, (0, 0, 255))\r\n",
    "cv2.putText(img, 'Script Simplex', (50, 330), cv2.FONT_HERSHEY_SCRIPT_SIMPLEX, 1, (0, 0, 0))\r\n",
    "cv2.putText(img, 'Script Complex', (50, 370), cv2.FONT_HERSHEY_SCRIPT_COMPLEX, 1, (0, 0, 0))\r\n",
    "\r\n",
    "cv2.putText(img, 'Plain Italic', (50, 430), cv2.FONT_HERSHEY_PLAIN | cv2.FONT_ITALIC, 1, (0, 0, 0))\r\n",
    "cv2.putText(img, 'Plain Italic', (50, 470), cv2.FONT_HERSHEY_COMPLEX | cv2.FONT_ITALIC, 1, (0, 0, 0))\r\n",
    "\r\n",
    "cv2.imshow('draw text', img)\r\n",
    "cv2.waitKey(0)\r\n",
    "cv2.destroyAllWindows()"
   ],
   "outputs": [],
   "metadata": {}
  },
  {
   "cell_type": "code",
   "execution_count": 1,
   "source": [
    "# p.50 창 관리\r\n",
    "import cv2\r\n",
    "\r\n",
    "file_path = './img/girl.jpg'\r\n",
    "img = cv2.imread(file_path)\r\n",
    "img_gray = cv2.imread(file_path, cv2.IMREAD_GRAYSCALE)\r\n",
    "\r\n",
    "# 이름 지정\r\n",
    "cv2.namedWindow('origin', cv2.WINDOW_AUTOSIZE)\r\n",
    "cv2.namedWindow('gray', cv2.WINDOW_NORMAL)\r\n",
    "\r\n",
    "# 이미지 표시\r\n",
    "cv2.imshow('origin', img)\r\n",
    "cv2.imshow('gray', img_gray)\r\n",
    "\r\n",
    "# 창 이동\r\n",
    "cv2.moveWindow('origin', 0, 0)\r\n",
    "cv2.moveWindow('gray', 100, 100)\r\n",
    "\r\n",
    "# 창 크기 변경\r\n",
    "cv2.waitKey(0)\r\n",
    "cv2.resizeWindow('origin', 200, 200)\r\n",
    "cv2.resizeWindow('gray', 100, 100)\r\n",
    "\r\n",
    "cv2.waitKey(0)\r\n",
    "cv2.destroyWindow(\"gray\")\r\n",
    "\r\n",
    "cv2.waitKey(0)\r\n",
    "cv2.destroyAllWindows()"
   ],
   "outputs": [],
   "metadata": {}
  }
 ],
 "metadata": {
  "orig_nbformat": 4,
  "language_info": {
   "name": "python",
   "version": "3.9.5",
   "mimetype": "text/x-python",
   "codemirror_mode": {
    "name": "ipython",
    "version": 3
   },
   "pygments_lexer": "ipython3",
   "nbconvert_exporter": "python",
   "file_extension": ".py"
  },
  "kernelspec": {
   "name": "python3",
   "display_name": "Python 3.9.5 64-bit"
  },
  "interpreter": {
   "hash": "5d44725d55c3c25373c9cea7b363fe9d5696c3b23e8383192da0211bfba569d6"
  }
 },
 "nbformat": 4,
 "nbformat_minor": 2
}