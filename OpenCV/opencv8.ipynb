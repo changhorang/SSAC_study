{
 "cells": [
  {
   "cell_type": "markdown",
   "source": [
    "# Ch.6 영상 필터\r\n",
    "## 6.1 컨볼루션과 블러링\r\n",
    "- ㅋ컨볼루션 연산은 공간 영역 필터의 핵심, 대표적인 사례가 블러링\r\n",
    "### 6.1.1 필터와 컨볼루션\r\n",
    "- 입력픽셀, 커널(윈도우, 필터), 결과픽셀\r\n",
    "- 블러링은 주변 요소 값들의 평균값을 반영해 전체 영상이 흐릿하게 함\r\n",
    "- dst = cv2.filter2D(src, ddepth, kernel[, dst, anchor, delta, borderTyep])\r\n",
    "    - ddepth : 출력 영상의 dtype\r\n",
    "        - -1 : 입력영상과 동일\r\n",
    "        - CV_8U, CV16U/CV16S, CV_32F, CV_64F\r\n",
    "    - kernel : 컨볼루션 커널 (float32)\r\n",
    "    - anchor : 커널의 기준점 (default : (-1, -1))\r\n",
    "    - delta : 필터 적용된 결과에 추가할 값\r\n",
    "    - borderType : 외곽 픽셀 보정 방법 지정"
   ],
   "metadata": {}
  },
  {
   "cell_type": "markdown",
   "source": [
    "### 6.1.2 평균 블러링\r\n",
    "- cv2.blur() : 커널의 크기만 지정하면 평균 커널을 생성해 블러링 적용\r\n",
    "- dst = cv2.blur(src, ksize[, dst, anchor, borderTyep])\r\n",
    "    - ksize : 커널의 크기\r\n",
    "    - 나머지 인자는 cv2.filter2D와 동일\r\n",
    "\r\n",
    "- cv2.boxFilter() : normalize 적용시 cv2.blur()와 동일, False의 경우 커널 영역의 모든 픽셀의 합을 구해 객체 추적 알고리즘에 사용 (ch.8.5.2 옵티컬 플로)\r\n",
    "- dst = cv2.boxFilter(src, ddepth, ksize[, dst, anchor, normalize, borderTyep])\r\n",
    "    - ddepth : 출력 영상의 dtype, -1 : 입력영상과 동일\r\n",
    "    - normalize : 커널의 크기로 정규화 (1/ksize**2) 지정 여부 (boolean)\r\n",
    "    - 나머지 인자는 cv2.filter2D와 동일"
   ],
   "metadata": {}
  },
  {
   "cell_type": "code",
   "execution_count": 3,
   "source": [
    "import cv2\r\n",
    "import numpy as np\r\n",
    "\r\n",
    "img = cv2.imread('img/girl.jpg')\r\n",
    "\r\n",
    "kernel = np.array([[0.04, 0.04, 0.04, 0.04, 0.04],\r\n",
    "                    [0.04, 0.04, 0.04, 0.04, 0.04],\r\n",
    "                    [0.04, 0.04, 0.04, 0.04, 0.04],\r\n",
    "                    [0.04, 0.04, 0.04, 0.04, 0.04],\r\n",
    "                    [0.04, 0.04, 0.04, 0.04, 0.04]])\r\n",
    "\r\n",
    "# 5x5 평균 필터 커널 생성\r\n",
    "kernel = np.ones((5, 5))/5**2\r\n",
    "\r\n",
    "# filter\r\n",
    "blured = cv2.filter2D(img, -1, kernel)\r\n",
    "\r\n",
    "# result\r\n",
    "cv2.imshow('origin', img)\r\n",
    "cv2.imshow('blured', blured)\r\n",
    "cv2.waitKey()\r\n",
    "cv2.destroyAllWindows()"
   ],
   "outputs": [],
   "metadata": {}
  },
  {
   "cell_type": "code",
   "execution_count": 5,
   "source": [
    "import cv2\r\n",
    "import numpy as np\r\n",
    "\r\n",
    "img = cv2.imread('img/taekwonv1.jpg')\r\n",
    "\r\n",
    "# blur\r\n",
    "blur1 = cv2.blur(img, (10, 10))\r\n",
    "blur2 = cv2.boxFilter(img, -1, (10, 10))\r\n",
    "\r\n",
    "# result\r\n",
    "merged = np.hstack((img, blur1, blur2))\r\n",
    "cv2.imshow('merged', merged)\r\n",
    "cv2.waitKey()\r\n",
    "cv2.destroyAllWindows()"
   ],
   "outputs": [],
   "metadata": {}
  },
  {
   "cell_type": "markdown",
   "source": [
    "### 6.1.3 가우시안 블러링\r\n",
    "- dst = cv2.GaussianBlur(src, ksize[, dst, anchor, borderTyep])\r\n",
    "    - ksize : 커널 크기 (홀수)\r\n",
    "    - sigmaX : X 방향 표준편차\r\n",
    "        - 0 : auto, sigma = 0.3*((ksize - 1)*0.5 -1) + 0.8\r\n",
    "    - sigmaY : Y 방향 표준편차 (default : sigmaX)\r\n",
    "    - borderType : 외곽 테두리 보정 방식\r\n",
    "\r\n",
    "- ret = cv2.getGaussianKernel(src, sigma[, kType])\r\n",
    "    - ret : 가우시안 커널 (1차원이므로 ret*ret.T 형태로 사용(2차원으로 변형))"
   ],
   "metadata": {}
  },
  {
   "cell_type": "code",
   "execution_count": 14,
   "source": [
    "import cv2\r\n",
    "import numpy as np\r\n",
    "\r\n",
    "img = cv2.imread('img/gaussian_noise.jpg')\r\n",
    "\r\n",
    "# 가우시안 커널을 직접 생성해 블러링\r\n",
    "k1 = np.array([[1, 2, 1],\r\n",
    "                [2, 4, 2],\r\n",
    "                [1, 2, 1],])*(1/16)\r\n",
    "blur1 = cv2.filter2D(img, -1, k1)\r\n",
    "\r\n",
    "\r\n",
    "# 가우시안 커널 API\r\n",
    "k2 = cv2.getGaussianKernel(3, 0)\r\n",
    "blur2 = cv2.filter2D(img, -1, k2*k2.T) # k2 = [[a], [a], [a]] (3x1) / k2.T = [[a, a, a]] (1x3)\r\n",
    "# a = [[1, 1, 1]]\r\n",
    "\r\n",
    "# 가우시안 블러 API\r\n",
    "blur3 = cv2.GaussianBlur(img, (3, 3), 0)\r\n",
    "\r\n",
    "# result\r\n",
    "print('k1: ', k1)\r\n",
    "print('k2: ', k2*k2.T)\r\n",
    "\r\n",
    "merged = np.hstack((img, blur1, blur2, blur3))\r\n",
    "cv2.imshow('gaussian blur', merged)\r\n",
    "cv2.waitKey(0)\r\n",
    "cv2.destroyAllWindows()"
   ],
   "outputs": [
    {
     "output_type": "stream",
     "name": "stdout",
     "text": [
      "k1:  [[0.0625 0.125  0.0625]\n",
      " [0.125  0.25   0.125 ]\n",
      " [0.0625 0.125  0.0625]]\n",
      "k2:  [[0.25 0.25 0.25]\n",
      " [0.5  0.5  0.5 ]\n",
      " [0.25 0.25 0.25]]\n"
     ]
    }
   ],
   "metadata": {}
  },
  {
   "cell_type": "markdown",
   "source": [
    "### 6.1.4 미디언 블러링\r\n",
    "- dst = cv2.medianBlur(src, ksize)\r\n",
    "- 커널 영역 픽셀 값 중에 중간 값을 대상 픽셀의 값으로 선택하는 방법"
   ],
   "metadata": {}
  },
  {
   "cell_type": "code",
   "execution_count": 19,
   "source": [
    "import cv2\r\n",
    "import numpy as np\r\n",
    "\r\n",
    "img = cv2.imread('img/salt_pepper_noise.jpg')\r\n",
    "\r\n",
    "# 미디언 블러 API\r\n",
    "blur = cv2.medianBlur(img, 15)\r\n",
    "\r\n",
    "# result\r\n",
    "merged = np.hstack((img, blur))\r\n",
    "cv2.imshow('median blur', merged)\r\n",
    "cv2.waitKey(0)\r\n",
    "cv2.destroyAllWindows()"
   ],
   "outputs": [],
   "metadata": {}
  },
  {
   "cell_type": "markdown",
   "source": [
    "### 6.1.5 바이레터럴 필터\r\n",
    "- 블러링 필터는 대체로 잡음을 제거하는 데 효과가 있지만 경계도 흐릿해지는 문제점\r\n",
    "- 바이레터럴 필터를 이용해 이 문제를 개선 (가우시안 필터와 경계 필터를 사용)\r\n",
    "- 속도는 느림\r\n",
    "- dst = cv2.bilateralFilter(src, d, sigmaColor, sigmaSpace[, dst, borderType])\r\n",
    "    - d : 필터의 직경(diameter), 5보다 크면 매우 느림\r\n",
    "    - sigmaColor : 색공간 필터의 시그마 값\r\n",
    "    - sigmaSpace : 좌표 공간의 시그마 값 (단순 사용시 sigmaColor와 sigmaSpace 동일한 값 권장, 범위는 10~150 권장)\r\n",
    "    - 시그마 값 150 이상 지정 시 스케치 효과를 얻을 수 있음"
   ],
   "metadata": {}
  },
  {
   "cell_type": "code",
   "execution_count": 23,
   "source": [
    "import cv2\r\n",
    "import numpy as np\r\n",
    "\r\n",
    "img = cv2.imread('img/gaussian_noise.jpg')\r\n",
    "\r\n",
    "# 가우시안 필터 적용\r\n",
    "blur1 = cv2.GaussianBlur(img, (5, 5), 0)\r\n",
    "\r\n",
    "# 바이레터럴 필터 적용\r\n",
    "blur2 = cv2.bilateralFilter(img, 5, 250, 160)\r\n",
    "\r\n",
    "# 결과 출력\r\n",
    "merged = np.hstack((img, blur1, blur2))\r\n",
    "cv2.imshow('bilateral', merged)\r\n",
    "cv2.waitKey(0)\r\n",
    "cv2.destroyAllWindows()"
   ],
   "outputs": [],
   "metadata": {}
  },
  {
   "cell_type": "code",
   "execution_count": 30,
   "source": [
    "import cv2\r\n",
    "import numpy as np\r\n",
    "\r\n",
    "img = cv2.imread('img/gaussian_noise.jpg')\r\n",
    "\r\n",
    "# 가우시안 필터 적용\r\n",
    "blur1 = cv2.GaussianBlur(img, (5, 5), 0)\r\n",
    "\r\n",
    "# 바이레터럴 필터 적용\r\n",
    "blur2 = cv2.bilateralFilter(img, 5, 75, 160)\r\n",
    "\r\n",
    "# 결과 출력\r\n",
    "merged = np.hstack((img, blur1, blur2))\r\n",
    "cv2.imshow('bilateral', merged)\r\n",
    "cv2.waitKey(0)\r\n",
    "cv2.destroyAllWindows()"
   ],
   "outputs": [],
   "metadata": {}
  },
  {
   "cell_type": "markdown",
   "source": [
    "## 6.2 경계 검출\r\n",
    "### 6.2.1 기본 미분 필터\r\n",
    "- 영상 속의 픽셀 데이터는 연속된 공간이 아니므로 이산화시켜서 근사값으로 간소화해야함 (간소 미분 공식은 아래와 같음)\r\n",
    "    - Gx = af(x, y)/ax = f_x+1,y - f_x,y\r\n",
    "    - Gy = af(x, y)/ay = f_x,y+1 - f_x,y\r\n",
    "- 공식의 의미는 x축과 y축 각각의 방향에서 다음 픽셀의 값에서 현재 픽셀 값을 뺀다는 것임\r\n",
    "- 영상에 대한 미분 연산의 컨볼루션 커널은 다음과 같음\r\n",
    "    - Gx = [-1, 1] / Gy = [[-1], [1]]\r\n",
    "- **gradient 방향과 edge의 방향은 서로 수직의 방향**"
   ],
   "metadata": {}
  },
  {
   "cell_type": "code",
   "execution_count": 31,
   "source": [
    "import cv2\r\n",
    "import numpy as np\r\n",
    "\r\n",
    "img = cv2.imread('img/sudoku.jpg')\r\n",
    "\r\n",
    "# 미분 커널 생성\r\n",
    "gx_kernel = np.array([[-1, 1]])\r\n",
    "gy_kernel = np.array([[-1], [1]])\r\n",
    "\r\n",
    "# 필터 적용\r\n",
    "edge_gx = cv2.filter2D(img, -1, gx_kernel)\r\n",
    "edge_gy = cv2.filter2D(img, -1, gy_kernel)\r\n",
    "\r\n",
    "# 결과 출력\r\n",
    "merged = np.hstack((img, edge_gx, edge_gy))\r\n",
    "cv2.imshow('edge', merged)\r\n",
    "cv2.waitKey(0)\r\n",
    "cv2.destroyAllWindows()"
   ],
   "outputs": [],
   "metadata": {}
  },
  {
   "cell_type": "markdown",
   "source": [
    "### 6.2.2 로버츠 교차 필터\r\n",
    "- 대각선 방향으로 1과 -1을 배치해 사선 경계 검출 효과를 높였지만, 노이즈에 민감하고 엣지 강도가 약함\r\n",
    "- Gx = [[1, 0], [0, -1]] / Gy = [[0, 1], [-1, 0]]"
   ],
   "metadata": {}
  },
  {
   "cell_type": "code",
   "execution_count": 32,
   "source": [
    "import cv2\r\n",
    "import numpy as np\r\n",
    "\r\n",
    "img = cv2.imread('img/sudoku.jpg')\r\n",
    "\r\n",
    "# 로버츠 커널 생성\r\n",
    "gx_kernel = np.array([[1, 0], [0, -1]])\r\n",
    "gy_kernel = np.array([[0, 1], [-1, 0]])\r\n",
    "\r\n",
    "# 필터 적용\r\n",
    "edge_gx = cv2.filter2D(img, -1, gx_kernel)\r\n",
    "edge_gy = cv2.filter2D(img, -1, gy_kernel)\r\n",
    "\r\n",
    "# 결과 출력\r\n",
    "merged = np.hstack((img, edge_gx, edge_gy, edge_gx+edge_gy))\r\n",
    "cv2.imshow('roberts cross', merged)\r\n",
    "cv2.waitKey(0)\r\n",
    "cv2.destroyAllWindows()"
   ],
   "outputs": [],
   "metadata": {}
  },
  {
   "cell_type": "markdown",
   "source": [
    "### 6.2.3 프리윗 필터\r\n",
    "- 각 방향으로 차분을 세번 계산하도록 배치해 엣지 강도가 강하고 수직과 수평 엣지를 동등하게 찾음\r\n",
    "- 대각선 검출은 약함\r\n",
    "- Gx = [[-1, 0, 1], [-1, 0, 1], [-1, 0, 1]] / Gy = [[-1, -1, -1], [0, 0, 0], [1, 1, 1]]"
   ],
   "metadata": {}
  },
  {
   "cell_type": "code",
   "execution_count": 33,
   "source": [
    "import cv2\r\n",
    "import numpy as np\r\n",
    "\r\n",
    "img = cv2.imread('img/sudoku.jpg')\r\n",
    "\r\n",
    "# 로버츠 커널 생성\r\n",
    "gx_kernel = np.array([[-1, 0, 1], [-1, 0, 1], [-1, 0, 1]])\r\n",
    "gy_kernel = np.array([[-1, -1, -1], [0, 0, 0], [1, 1, 1]])\r\n",
    "\r\n",
    "# 필터 적용\r\n",
    "edge_gx = cv2.filter2D(img, -1, gx_kernel)\r\n",
    "edge_gy = cv2.filter2D(img, -1, gy_kernel)\r\n",
    "\r\n",
    "# 결과 출력\r\n",
    "merged = np.hstack((img, edge_gx, edge_gy, edge_gx+edge_gy))\r\n",
    "cv2.imshow('prewitt cross', merged)\r\n",
    "cv2.waitKey(0)\r\n",
    "cv2.destroyAllWindows()"
   ],
   "outputs": [],
   "metadata": {}
  },
  {
   "cell_type": "markdown",
   "source": [
    "### 6.2.4 소벨 필터\r\n",
    "- 중심 픽셀의 차분 비중을 두 배로 주어 수평, 수직 대각선 경계 검출에 모두 강한 마스크 제안\r\n",
    "- 1차 미분 마스크로 대표적\r\n",
    "- Gx = [[-1, 0, 1], [-2, 0, 2], [-1, 0, 1]] / Gy = [[-1, -2, -1], [0, 0, 0], [1, 2, 1]]\r\n",
    "- dst = cv2.Sobel(src, ddepth, dx, dy[, dst, ksize, scale, delta, borderType])\r\n",
    "    - ddepth : 출력 영상의 dtype (-1 : 입력 영상과 동일)\r\n",
    "    - dx, dy : 미분 차수 (0, 1, 2 중 선택, 둘 다 0일 수는 없음)\r\n",
    "    - ksize : 커널의 크기 (1, 3, 5, 7)\r\n",
    "    - scale : 미분에 사용할 계수\r\n",
    "    - delta : 연산 결과에 가산할 값"
   ],
   "metadata": {}
  },
  {
   "cell_type": "code",
   "execution_count": 36,
   "source": [
    "import cv2\r\n",
    "import numpy as np\r\n",
    "\r\n",
    "img = cv2.imread('img/sudoku.jpg')\r\n",
    "\r\n",
    "# 소벨 커널 생성\r\n",
    "gx_kernel = np.array([[-1, 0, 1], [-2, 0, 2], [-1, 0, 1]])\r\n",
    "gy_kernel = np.array([[-1, -2, -1], [0, 0, 0], [1, 2, 1]])\r\n",
    "\r\n",
    "# 필터 적용\r\n",
    "edge_gx = cv2.filter2D(img, -1, gx_kernel)\r\n",
    "edge_gy = cv2.filter2D(img, -1, gy_kernel)\r\n",
    "\r\n",
    "# 소벨 API로 경계 검출\r\n",
    "sobel_x = cv2.Sobel(img, -1, 1, 0, ksize=3)\r\n",
    "sobel_y = cv2.Sobel(img, -1, 0, 1, ksize=3)\r\n",
    "\r\n",
    "# 결과 출력\r\n",
    "merged1 = np.hstack((img, edge_gx, edge_gy, edge_gx+edge_gy))\r\n",
    "merged2 = np.hstack((img, sobel_x, sobel_y, sobel_x+sobel_y))\r\n",
    "merged = np.vstack((merged1, merged2))\r\n",
    "cv2.imshow('sobel', merged)\r\n",
    "cv2.waitKey(0)\r\n",
    "cv2.destroyAllWindows()"
   ],
   "outputs": [],
   "metadata": {}
  },
  {
   "cell_type": "markdown",
   "source": [
    "### 6.2.5 샤르 필터\r\n",
    "- 커널의 크기가 작은 경우, 또는 커널의 크기가 커도 중심에서 멀어질 수록 엣지의 방향성의 정확도가 떨어지는 단점이 있는 소벨 필터의 단점을 개선\r\n",
    "- Gx = [[-3, 0, 3], [-10, 0, 10], [-3, 0, 3]] / Gy = [[-3, -10, -3], [0, 0, 0], [3, 10, 3]]\r\n",
    "- dst = cv2.Scharr(src, ddepth, dx, dy[, dst, scale, delta, borderType])\r\n",
    "    - ddepth : 출력 영상의 dtype (-1 : 입력 영상과 동일)\r\n",
    "    - dx, dy : 미분 차수 (0, 1, 2 중 선택, 둘 다 0일 수는 없음)\r\n",
    "    - scale : 미분에 사용할 계수\r\n",
    "    - delta : 연산 결과에 가산할 값"
   ],
   "metadata": {}
  },
  {
   "cell_type": "code",
   "execution_count": 38,
   "source": [
    "import cv2\r\n",
    "import numpy as np\r\n",
    "\r\n",
    "img = cv2.imread('img/sudoku.jpg')\r\n",
    "\r\n",
    "# 샤르 커널 생성\r\n",
    "gx_kernel = np.array([[-3, 0, 3], [-10, 0, 10], [-3, 0, 3]])\r\n",
    "gy_kernel = np.array([[-3, -10, -3], [0, 0, 0], [3, 10, 3]])\r\n",
    "\r\n",
    "# 필터 적용\r\n",
    "edge_gx = cv2.filter2D(img, -1, gx_kernel)\r\n",
    "edge_gy = cv2.filter2D(img, -1, gy_kernel)\r\n",
    "\r\n",
    "# 샤르 API로 경계 검출\r\n",
    "scharr_x = cv2.Scharr(img, -1, 1, 0)\r\n",
    "scharr_y = cv2.Scharr(img, -1, 0, 1)\r\n",
    "\r\n",
    "# 결과 출력\r\n",
    "merged1 = np.hstack((img, edge_gx, edge_gy, edge_gx+edge_gy))\r\n",
    "merged2 = np.hstack((img, scharr_x, scharr_y, scharr_x+scharr_y))\r\n",
    "merged = np.vstack((merged1, merged2))\r\n",
    "cv2.imshow('scharr', merged)\r\n",
    "cv2.waitKey(0)\r\n",
    "cv2.destroyAllWindows()"
   ],
   "outputs": [],
   "metadata": {}
  },
  {
   "cell_type": "markdown",
   "source": [
    "### 6.2.6 라플라시안 필터\r\n",
    "- 2차 미분을 적용해 경계를 더 확실히 검출할 수 있음, 대표적인 2차 미분 마스크가 라플라시안 필터\r\n",
    "- d2f/dy2 = df(x,y+1)/dy - df(x,y+1)/dy = [f(x,y+1)-f(x,y)] - [f(x,y)-f(x,y-1)] = f(x,y+1) - 2*f(x,y) - f(x,y-1)\r\n",
    "- kernel = [[0, 1, 0], [1, -4, 1], [0, 1, 0]]\r\n",
    "- dst = cv2.Laplacian(src, ddepth, dx, dy[, dst, ksize, scale, delta, borderType])\r\n",
    "    - cv2.Sobel()과 함수 인자는 동일"
   ],
   "metadata": {}
  },
  {
   "cell_type": "code",
   "execution_count": 39,
   "source": [
    "import cv2\r\n",
    "import numpy as np\r\n",
    "\r\n",
    "img = cv2.imread('img/sudoku.jpg')\r\n",
    "\r\n",
    "# 라플라시안 API로 경계 검출\r\n",
    "edge = cv2.Laplacian(img, -1)\r\n",
    "\r\n",
    "# 결과 출력\r\n",
    "merged = np.hstack((img, edge))\r\n",
    "cv2.imshow('Laplacian', merged)\r\n",
    "cv2.waitKey(0)\r\n",
    "cv2.destroyAllWindows()"
   ],
   "outputs": [],
   "metadata": {}
  }
 ],
 "metadata": {
  "orig_nbformat": 4,
  "language_info": {
   "name": "python",
   "version": "3.9.5",
   "mimetype": "text/x-python",
   "codemirror_mode": {
    "name": "ipython",
    "version": 3
   },
   "pygments_lexer": "ipython3",
   "nbconvert_exporter": "python",
   "file_extension": ".py"
  },
  "kernelspec": {
   "name": "python3",
   "display_name": "Python 3.9.5 64-bit"
  },
  "interpreter": {
   "hash": "5d44725d55c3c25373c9cea7b363fe9d5696c3b23e8383192da0211bfba569d6"
  }
 },
 "nbformat": 4,
 "nbformat_minor": 2
}