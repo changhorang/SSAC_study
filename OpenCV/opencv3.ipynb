{
 "cells": [
  {
   "cell_type": "markdown",
   "source": [
    "# 컬러스페이스\r\n",
    "- 픽셀(pixel, 화소): 픽셀의 단위가 여러 개 모여 그림을 표현"
   ],
   "metadata": {}
  },
  {
   "cell_type": "markdown",
   "source": [
    "- RGB (row x column x channel) / BGR\r\n",
    "- cv2.cvtColor(img, flag) 통해서 컬러 스페이스를 변경"
   ],
   "metadata": {}
  },
  {
   "cell_type": "code",
   "execution_count": 1,
   "source": [
    "import cv2\r\n",
    "import numpy as np\r\n",
    "\r\n",
    "img = cv2.imread('./img/opencv_logo.png')\r\n",
    "bgr = cv2.imread('./img/opencv_logo.png', cv2.IMREAD_COLOR)\r\n",
    "# imread unchanged 옵션\r\n",
    "bgra = cv2.imread('./img/opencv_logo.png', cv2.IMREAD_UNCHANGED)\r\n",
    "\r\n",
    "# 각 옵션에 따른 이미지 shape\r\n",
    "print('default:', img.shape, 'color:', bgr.shape, 'unchanged:', bgra.shape)\r\n",
    "\r\n",
    "cv2.imshow('bgr', bgr)\r\n",
    "cv2.imshow('bgra', bgra)\r\n",
    "cv2.imshow('alpha', bgra[:,:,3]) # 알파 채널만 표시\r\n",
    "cv2.waitKey(0)\r\n",
    "cv2.destroyAllWindows()"
   ],
   "outputs": [
    {
     "output_type": "stream",
     "name": "stdout",
     "text": [
      "default: (120, 98, 3) color: (120, 98, 3) unchanged: (120, 98, 4)\n"
     ]
    }
   ],
   "metadata": {}
  },
  {
   "cell_type": "code",
   "execution_count": 1,
   "source": [
    "# p.118 컬러스페이스 변환\r\n",
    "import cv2\r\n",
    "import numpy as np\r\n",
    "\r\n",
    "img = cv2.imread('./img/girl.jpg')\r\n",
    "img2 = img.astype(np.uint16)         # dtype 변경 : 3채널의 값을 합한 경우, 255를 넘을 수도 있어서...\r\n",
    "b, r, g = cv2.split(img2)            # 채널별로 분리 (b = img2[:,:,0], g = img2[:,:,1], r = img2[:,:,3])\r\n",
    "gray1 = ((b+g+r)/3).astype(np.uint8) # 평균값 연산 후 dtype 변경\r\n",
    "\r\n",
    "gray2 = cv2.cvtColor(img, cv2.COLOR_BGR2GRAY) # BGR을 그레이 스케일로 변경\r\n",
    "cv2.imshow('original', img)\r\n",
    "cv2.imshow('gray1', gray1)\r\n",
    "cv2.imshow('gray2', gray2)\r\n",
    "\r\n",
    "cv2.waitKey(0)\r\n",
    "cv2.destroyAllWindows()"
   ],
   "outputs": [],
   "metadata": {}
  },
  {
   "cell_type": "markdown",
   "source": [
    "## HSV\r\n",
    "- out = cv2.cvtColor(img, flag)\r\n",
    "- flag : COLOR_BGR2GRAY, BGR2RGB, BGR2HSV, BGR2YUV\r\n",
    "- HSV = H(HUE): 색조 / S(SATURATION): 채도 / V(VALUE): 명도 (I(INTENSITY): 밀도, L(LIGHTNESS): 명도)"
   ],
   "metadata": {}
  },
  {
   "cell_type": "code",
   "execution_count": 1,
   "source": [
    "import cv2\r\n",
    "import numpy as np\r\n",
    "\r\n",
    "red_bgr = np.array([[[0, 0, 255]]], dtype=np.uint8)\r\n",
    "green_bgr = np.array([[[0, 255, 0]]], dtype=np.uint8)\r\n",
    "blue_bgr = np.array([[[255, 0, 0]]], dtype=np.uint8)\r\n",
    "yellow_bgr = np.array([[[0, 255, 255]]], dtype=np.uint8)\r\n",
    "\r\n",
    "red_hsv = cv2.cvtColor(red_bgr, cv2.COLOR_BGR2HSV)\r\n",
    "green_hsv = cv2.cvtColor(green_bgr, cv2.COLOR_BGR2HSV)\r\n",
    "blue_hsv = cv2.cvtColor(blue_bgr, cv2.COLOR_BGR2HSV)\r\n",
    "yellow_hsv = cv2.cvtColor(yellow_bgr, cv2.COLOR_BGR2HSV)\r\n",
    "\r\n",
    "print('red:', red_hsv)\r\n",
    "print('green:', green_hsv)\r\n",
    "print('blue:', blue_hsv)\r\n",
    "print('yellow:', yellow_hsv)"
   ],
   "outputs": [
    {
     "output_type": "stream",
     "name": "stdout",
     "text": [
      "red: [[[  0 255 255]]]\n",
      "green: [[[ 60 255 255]]]\n",
      "blue: [[[120 255 255]]]\n",
      "yellow: [[[ 30 255 255]]]\n"
     ]
    }
   ],
   "metadata": {}
  },
  {
   "cell_type": "markdown",
   "source": [
    "## YUV, YCbCr : 사람에게 민감한 밝기와 상대적으로 둔감한 색상을 고려해 만든 컬러스페이스\r\n",
    "- Y : Luma (밝기), 많은 비트수를 할당하고 U와 V에는 적은 비트수를 할당해 데이터를 압축하는 효과\r\n",
    "- U : Chroma Blue (밝기와 파란색과의 색상 차)\r\n",
    "- V : Chroma Red (밝기와 빨간색과의 색상 차)"
   ],
   "metadata": {}
  },
  {
   "cell_type": "code",
   "execution_count": 2,
   "source": [
    "import cv2\r\n",
    "import numpy as np\r\n",
    "\r\n",
    "dark = np.array([[[0, 0, 0]]], dtype=np.uint8)\r\n",
    "middle = np.array([[[127, 127, 127]]], dtype=np.uint8)\r\n",
    "bright = np.array([[[255, 255, 255]]], dtype=np.uint8)\r\n",
    "\r\n",
    "dark_yuv =  cv2.cvtColor(dark, cv2.COLOR_BGR2YUV)\r\n",
    "middle_yuv =  cv2.cvtColor(middle, cv2.COLOR_BGR2YUV)\r\n",
    "bright_yuv =  cv2.cvtColor(bright, cv2.COLOR_BGR2YUV)\r\n",
    "\r\n",
    "print('dark', dark_yuv)\r\n",
    "print('middle', middle_yuv)\r\n",
    "print('bright', bright_yuv)"
   ],
   "outputs": [
    {
     "output_type": "stream",
     "name": "stdout",
     "text": [
      "dark [[[  0 128 128]]]\n",
      "middle [[[127 128 128]]]\n",
      "bright [[[255 128 128]]]\n"
     ]
    }
   ],
   "metadata": {}
  },
  {
   "cell_type": "code",
   "execution_count": null,
   "source": [],
   "outputs": [],
   "metadata": {}
  }
 ],
 "metadata": {
  "orig_nbformat": 4,
  "language_info": {
   "name": "python",
   "version": "3.9.5",
   "mimetype": "text/x-python",
   "codemirror_mode": {
    "name": "ipython",
    "version": 3
   },
   "pygments_lexer": "ipython3",
   "nbconvert_exporter": "python",
   "file_extension": ".py"
  },
  "kernelspec": {
   "name": "python3",
   "display_name": "Python 3.9.5 64-bit"
  },
  "interpreter": {
   "hash": "5d44725d55c3c25373c9cea7b363fe9d5696c3b23e8383192da0211bfba569d6"
  }
 },
 "nbformat": 4,
 "nbformat_minor": 2
}