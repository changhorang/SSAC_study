{
 "cells": [
  {
   "cell_type": "markdown",
   "source": [
    "# 컬러스페이스\r\n",
    "- 픽셀(pixel, 화소): 픽셀의 단위가 여러 개 모여 그림을 표현"
   ],
   "metadata": {}
  },
  {
   "cell_type": "markdown",
   "source": [
    "- RGB (row x column x channel) / BGR"
   ],
   "metadata": {}
  },
  {
   "cell_type": "code",
   "execution_count": 1,
   "source": [
    "import cv2\r\n",
    "import numpy as np\r\n",
    "\r\n",
    "img = cv2.imread('./img/opencv_logo.png')\r\n",
    "bgr = cv2.imread('./img/opencv_logo.png', cv2.IMREAD_COLOR)\r\n",
    "# imread unchanged 옵션\r\n",
    "bgra = cv2.imread('./img/opencv_logo.png', cv2.IMREAD_UNCHANGED)\r\n",
    "\r\n",
    "# 각 옵션에 따른 이미지 shape\r\n",
    "print('default:', img.shape, 'color:', bgr.shape, 'unchanged:', bgra.shape)\r\n",
    "\r\n",
    "cv2.imshow('bgr', bgr)\r\n",
    "cv2.imshow('bgra', bgra)\r\n",
    "cv2.imshow('alpha', bgra[:,:,3]) # 알파 채널만 표시\r\n",
    "cv2.waitKey(0)\r\n",
    "cv2.destroyAllWindows()"
   ],
   "outputs": [
    {
     "output_type": "stream",
     "name": "stdout",
     "text": [
      "default: (120, 98, 3) color: (120, 98, 3) unchanged: (120, 98, 4)\n"
     ]
    }
   ],
   "metadata": {}
  },
  {
   "cell_type": "code",
   "execution_count": 1,
   "source": [
    "# p.118 컬러스페이스 변환\r\n",
    "import cv2\r\n",
    "import numpy as np\r\n",
    "\r\n",
    "img = cv2.imread('./img/girl.jpg')\r\n",
    "img2 = img.astype(np.uint16)         # dtype 변경\r\n",
    "b, r, g = cv2.split(img2)            # 채널별로 분리\r\n",
    "gray1 = ((b+g+r)/3).astype(np.uint8) # 평균값 연산 후 dtype 변경\r\n",
    "\r\n",
    "gray2 = cv2.cvtColor(img, cv2.COLOR_BGR2GRAY) # BGR을 그레이 스케일로 변경\r\n",
    "cv2.imshow('original', img)\r\n",
    "cv2.imshow('gray1', gray1)\r\n",
    "cv2.imshow('gray2', gray2)\r\n",
    "\r\n",
    "cv2.waitKey(0)\r\n",
    "cv2.destroyAllWindows()"
   ],
   "outputs": [],
   "metadata": {}
  },
  {
   "cell_type": "code",
   "execution_count": null,
   "source": [],
   "outputs": [],
   "metadata": {}
  },
  {
   "cell_type": "code",
   "execution_count": null,
   "source": [],
   "outputs": [],
   "metadata": {}
  }
 ],
 "metadata": {
  "orig_nbformat": 4,
  "language_info": {
   "name": "python",
   "version": "3.9.5",
   "mimetype": "text/x-python",
   "codemirror_mode": {
    "name": "ipython",
    "version": 3
   },
   "pygments_lexer": "ipython3",
   "nbconvert_exporter": "python",
   "file_extension": ".py"
  },
  "kernelspec": {
   "name": "python3",
   "display_name": "Python 3.9.5 64-bit"
  },
  "interpreter": {
   "hash": "5d44725d55c3c25373c9cea7b363fe9d5696c3b23e8383192da0211bfba569d6"
  }
 },
 "nbformat": 4,
 "nbformat_minor": 2
}