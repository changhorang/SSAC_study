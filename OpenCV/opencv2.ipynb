{
 "cells": [
  {
   "cell_type": "markdown",
   "source": [
    "## 이벤트 처리"
   ],
   "metadata": {}
  },
  {
   "cell_type": "code",
   "execution_count": 2,
   "source": [
    "# p.52 키 이벤트\r\n",
    "import cv2\r\n",
    "\r\n",
    "img_file = './img/girl.jpg'\r\n",
    "img = cv2.imread(img_file)\r\n",
    "title = 'IMG'\r\n",
    "x, y = 100, 100\r\n",
    "\r\n",
    "while True:\r\n",
    "    cv2.imshow(title, img)\r\n",
    "    cv2.moveWindow(title, x, y)\r\n",
    "    key = cv2.waitKey(0) & 0xFF\r\n",
    "    print(key, chr(key))\r\n",
    "    if key == ord('h'):\r\n",
    "        x -= 10\r\n",
    "    elif key == ord('j'):\r\n",
    "        y += 10\r\n",
    "    elif key == ord('k'):\r\n",
    "        y -= 10\r\n",
    "    elif key == ord('l'):\r\n",
    "        x += 10\r\n",
    "    elif key == ord('q') or key == 27: # 'q' 또는 'esc' 키이면 종료\r\n",
    "        break\r\n",
    "        cv2.destroyAllWindows()\r\n",
    "    cv2.moveWindow(title, x, y)"
   ],
   "outputs": [
    {
     "output_type": "stream",
     "name": "stdout",
     "text": [
      "104 h\n",
      "106 j\n",
      "107 k\n",
      "104 h\n",
      "106 j\n",
      "107 k\n",
      "104 h\n",
      "113 q\n"
     ]
    }
   ],
   "metadata": {}
  }
 ],
 "metadata": {
  "orig_nbformat": 4,
  "language_info": {
   "name": "python",
   "version": "3.9.5",
   "mimetype": "text/x-python",
   "codemirror_mode": {
    "name": "ipython",
    "version": 3
   },
   "pygments_lexer": "ipython3",
   "nbconvert_exporter": "python",
   "file_extension": ".py"
  },
  "kernelspec": {
   "name": "python3",
   "display_name": "Python 3.9.5 64-bit"
  },
  "interpreter": {
   "hash": "5d44725d55c3c25373c9cea7b363fe9d5696c3b23e8383192da0211bfba569d6"
  }
 },
 "nbformat": 4,
 "nbformat_minor": 2
}