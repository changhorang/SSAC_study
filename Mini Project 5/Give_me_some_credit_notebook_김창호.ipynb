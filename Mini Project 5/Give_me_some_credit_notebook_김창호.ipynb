{
 "cells": [
  {
   "cell_type": "markdown",
   "metadata": {
    "id": "Iy1f4ECUJhgm"
   },
   "source": [
    "# **Mini Project 5: 대출 위험도 평가** "
   ]
  },
  {
   "cell_type": "markdown",
   "metadata": {
    "id": "V6tA-uc_sUK3"
   },
   "source": [
    "# 1. EDA"
   ]
  },
  {
   "cell_type": "markdown",
   "metadata": {
    "id": "2Rq-Q9Cy0hK8"
   },
   "source": [
    "## Data load & Analysis"
   ]
  },
  {
   "cell_type": "code",
   "execution_count": null,
   "metadata": {
    "id": "epOnWaT0SLkX"
   },
   "outputs": [],
   "source": [
    "# for colab\n",
    "# cd '/content/drive/MyDrive'"
   ]
  },
  {
   "cell_type": "code",
   "execution_count": null,
   "metadata": {
    "id": "L1-Y2HiOCbLH"
   },
   "outputs": [],
   "source": [
    "import pandas as pd\n",
    "import numpy as np\n",
    "import matplotlib.pyplot as plt\n",
    "import seaborn as sns"
   ]
  },
  {
   "cell_type": "code",
   "execution_count": null,
   "metadata": {
    "colab": {
     "base_uri": "https://localhost:8080/",
     "height": 243
    },
    "id": "C28SGF9UDGi6",
    "outputId": "256d5572-9c0e-40c1-c7a0-e395b2ea3a78"
   },
   "outputs": [],
   "source": [
    "data = pd.read_csv('cs_data.csv', index_col=0)\n",
    "data.head()"
   ]
  },
  {
   "cell_type": "code",
   "execution_count": null,
   "metadata": {
    "colab": {
     "base_uri": "https://localhost:8080/",
     "height": 338
    },
    "id": "nrsdHjlwwjqo",
    "outputId": "ab0d4bf8-4571-4ed3-ced7-485c57c33c92"
   },
   "outputs": [],
   "source": [
    "data.describe()"
   ]
  },
  {
   "cell_type": "code",
   "execution_count": null,
   "metadata": {
    "colab": {
     "base_uri": "https://localhost:8080/",
     "height": 313
    },
    "id": "4YaBkyJU0hLG",
    "outputId": "3493d671-9c5a-4e93-b336-386085b65477"
   },
   "outputs": [],
   "source": [
    "sns.countplot(x='SeriousDlqin2yrs', data=data, palette='RdBu_r')\n",
    "plt.title('Binary Class Comparison')"
   ]
  },
  {
   "cell_type": "code",
   "execution_count": null,
   "metadata": {
    "colab": {
     "base_uri": "https://localhost:8080/"
    },
    "id": "tcKHWzdu0hLJ",
    "outputId": "9a92dde6-46a8-4180-b860-9fcfddd9ffb4"
   },
   "outputs": [],
   "source": [
    "data['NumberOfTime60-89DaysPastDueNotWorse'].value_counts()"
   ]
  },
  {
   "cell_type": "code",
   "execution_count": null,
   "metadata": {
    "colab": {
     "base_uri": "https://localhost:8080/"
    },
    "id": "Ax0WenAjY4Ag",
    "outputId": "8eb5b1fb-9928-4b52-e2dd-d0c67edf53ff"
   },
   "outputs": [],
   "source": [
    "data['NumberOfTimes90DaysLate'].value_counts()"
   ]
  },
  {
   "cell_type": "code",
   "execution_count": null,
   "metadata": {
    "colab": {
     "base_uri": "https://localhost:8080/"
    },
    "id": "npsqq2Hk1G61",
    "outputId": "0e7b2e92-b10e-49cb-e905-f70dd3783404"
   },
   "outputs": [],
   "source": [
    "data['NumberOfTime30-59DaysPastDueNotWorse'].value_counts()"
   ]
  },
  {
   "cell_type": "code",
   "execution_count": null,
   "metadata": {
    "colab": {
     "base_uri": "https://localhost:8080/"
    },
    "id": "W6Widm0d1PIW",
    "outputId": "e789f552-d021-4e6d-c23e-dc02d03bde4f"
   },
   "outputs": [],
   "source": [
    "data['NumberOfDependents'].value_counts()"
   ]
  },
  {
   "cell_type": "markdown",
   "metadata": {
    "id": "yk-8Szs20hLS"
   },
   "source": [
    "### **Analysis**\n",
    "- 먼저 data를 load하면서 전체적인 요소 및 값들의 분포를 파악했다.\n",
    "\n",
    "- 첫 번째로 target data (SeriousDlqin2yrs)에 대한 불균형도가 심한 것을 확인 할 수 있다. 이는 추후에 불균형된 학습을 유발 할 수 있으므로, 이를 해소하기 위한 방법으로 imblearn에서 SMOTE 모듈을 이용해 oversampling 통해서 어느 정도 해소해볼 예정이다.\n",
    "\n",
    "- 두 번째로 돈을 연체하게 된 data를 살펴 보았는데, 96과 98이라는 이상치로 보이는 숫자가 있어 이를 값을 대체하거나 삭제할 예정이다."
   ]
  },
  {
   "cell_type": "markdown",
   "metadata": {
    "id": "LZJNMhcpCGOy"
   },
   "source": [
    "## Data Visualization\n",
    "- Data의 각종 요소별 시각화를 진행했다."
   ]
  },
  {
   "cell_type": "code",
   "execution_count": null,
   "metadata": {
    "colab": {
     "base_uri": "https://localhost:8080/",
     "height": 1000
    },
    "id": "az9RsMs40hLU",
    "outputId": "1c69084c-9d96-42c4-c1ce-068ebbb39c6d"
   },
   "outputs": [],
   "source": [
    "# remove target variable Dlqin2yrs and variables with missing values\n",
    "feature_list = list(data.columns.values)\n",
    "remove_list = ['SeriousDlqin2yrs','MonthlyIncome','NumberOfDependents']\n",
    "for each in remove_list:\n",
    "    feature_list.remove(each)\n",
    "\n",
    "for each in feature_list:\n",
    "    sns.histplot(data[each], kde=True, bins=100)\n",
    "    plt.show()"
   ]
  },
  {
   "cell_type": "markdown",
   "metadata": {
    "id": "19Iurs-i0hLW"
   },
   "source": [
    "**Analysis**\n",
    "- RevolvingUtilizationOfUnsecuredLines\n",
    "- NumberOfTime30-59DaysPastDueNotWorse\n",
    "- DebtRatio\n",
    "- NumberOfTimes30DaysLate\n",
    "- NumberRealEstateLoansOrLines\n",
    "- NumberOfTime60-89DaysPastDueNotWorse\n",
    "\n",
    "위의 6가지 속성에 대해서는 매우 편향된 분포를 가지고 있음을 파악할 수 있었다."
   ]
  },
  {
   "cell_type": "markdown",
   "metadata": {
    "id": "b99AuYRm0hLW"
   },
   "source": [
    "### DebtRatio (Boxplot)"
   ]
  },
  {
   "cell_type": "code",
   "execution_count": null,
   "metadata": {
    "colab": {
     "base_uri": "https://localhost:8080/"
    },
    "id": "ATsAaAz-CO_a",
    "outputId": "6a2e39cb-7065-4032-f67a-847ae3ba3cc1"
   },
   "outputs": [],
   "source": [
    "data['DebtRatio'].value_counts()"
   ]
  },
  {
   "cell_type": "code",
   "execution_count": null,
   "metadata": {
    "colab": {
     "base_uri": "https://localhost:8080/"
    },
    "id": "hAcSscXBCcdK",
    "outputId": "5b2456a2-5989-4ddf-bc6a-7e3cd43d1d99"
   },
   "outputs": [],
   "source": [
    "data[data['DebtRatio'] > 1].value_counts()"
   ]
  },
  {
   "cell_type": "code",
   "execution_count": null,
   "metadata": {
    "colab": {
     "base_uri": "https://localhost:8080/",
     "height": 281
    },
    "id": "dS5dTzvuC6-6",
    "outputId": "47eb3e8f-7fd3-4a67-8057-e3df90aaa5f5"
   },
   "outputs": [],
   "source": [
    "plt.boxplot(data['DebtRatio'])\n",
    "plt.title('DebtRatio')\n",
    "plt.ylim(-0.1, 2)\n",
    "plt.show()"
   ]
  },
  {
   "cell_type": "code",
   "execution_count": null,
   "metadata": {
    "colab": {
     "base_uri": "https://localhost:8080/",
     "height": 295
    },
    "id": "_lfZrOQMDNI5",
    "outputId": "20c5f75a-b79d-4e0f-89a2-e8711076c2c9"
   },
   "outputs": [],
   "source": [
    "data_sample = data.copy()\n",
    "data_sample['age/20'] = data_sample[['age']].applymap(lambda x : int(x/20))\n",
    "sns.boxplot(x='age/20', y='DebtRatio', data=data_sample)\n",
    "plt.title('DebtRatio')\n",
    "plt.ylim(-0.1, 3.0)\n",
    "plt.show()"
   ]
  },
  {
   "cell_type": "code",
   "execution_count": null,
   "metadata": {
    "colab": {
     "base_uri": "https://localhost:8080/",
     "height": 338
    },
    "id": "04pRlcD_0hLb",
    "outputId": "fb7d5c92-a4dd-4ebb-f5d4-48a398fcb2e6"
   },
   "outputs": [],
   "source": [
    "data_sample[(data_sample['age/20']>=3) & (data_sample['DebtRatio']>1.)].describe()"
   ]
  },
  {
   "cell_type": "code",
   "execution_count": null,
   "metadata": {
    "id": "Ic2nRo9r0hLc"
   },
   "outputs": [],
   "source": [
    "data.loc[data['age'] == 0, 'age'] = data['age'].median()"
   ]
  },
  {
   "cell_type": "markdown",
   "metadata": {
    "id": "pGT3vjRa0hLd"
   },
   "source": [
    "### **Analysis**\n",
    "violin plot을 이용하여 연령별 DebtRatio를 파악해보았다. 그 결과, 60대 이상 (3번째 boxplot)에서 DebtRatio가 1을 넘어가는 값을 보였다. 이를 통해 data값이 잘못된 것일 지, 이 나이대에 특성이 그러한 지를 파악해 볼 필요가 있어 보였다.\n",
    "\n",
    "그리고 추가적으로 나이가 '0'인 값에 대해서는 있을 수 없는 값으로 판단하여, 중간값으로 대체했다."
   ]
  },
  {
   "cell_type": "markdown",
   "metadata": {
    "id": "2Aj_FrpzuKTO"
   },
   "source": [
    "### RevolvingUtilizationOfUnsecuredLines (Boxplot)"
   ]
  },
  {
   "cell_type": "code",
   "execution_count": null,
   "metadata": {
    "colab": {
     "base_uri": "https://localhost:8080/"
    },
    "id": "6jOsaBezCgSE",
    "outputId": "d7192b0a-6de5-4e94-be51-809733dae1c7"
   },
   "outputs": [],
   "source": [
    "data['RevolvingUtilizationOfUnsecuredLines'].describe()"
   ]
  },
  {
   "cell_type": "code",
   "execution_count": null,
   "metadata": {
    "colab": {
     "base_uri": "https://localhost:8080/"
    },
    "id": "i8Sgmb2nuKJX",
    "outputId": "2512b3e7-2661-47fa-f14b-1f10485f8e9f"
   },
   "outputs": [],
   "source": [
    "data[data['RevolvingUtilizationOfUnsecuredLines'] > 1].value_counts()"
   ]
  },
  {
   "cell_type": "code",
   "execution_count": null,
   "metadata": {
    "colab": {
     "base_uri": "https://localhost:8080/",
     "height": 281
    },
    "id": "KSPre1D-uKA_",
    "outputId": "449542d6-adab-4f83-abdf-f9c5bc6b1254"
   },
   "outputs": [],
   "source": [
    "plt.boxplot(data['RevolvingUtilizationOfUnsecuredLines'])\n",
    "plt.title('RevolvingUtilizationOfUnsecuredLines')\n",
    "plt.ylim(-0.1, 1.5)\n",
    "plt.show()"
   ]
  },
  {
   "cell_type": "code",
   "execution_count": null,
   "metadata": {
    "colab": {
     "base_uri": "https://localhost:8080/",
     "height": 295
    },
    "id": "VBvfn_E4zfCu",
    "outputId": "83c31362-b5cf-451a-c25a-30c45ab785bd"
   },
   "outputs": [],
   "source": [
    "data_sample = data.copy()\n",
    "data_sample['age/20'] = data_sample[['age']].applymap(lambda x : int(x/20))\n",
    "sns.boxplot(x='age/20', y='RevolvingUtilizationOfUnsecuredLines', data=data_sample)\n",
    "plt.title('RevolvingUtilizationOfUnsecuredLines')\n",
    "plt.ylim(-0.1, 1.1)\n",
    "plt.show()"
   ]
  },
  {
   "cell_type": "markdown",
   "metadata": {
    "id": "T7WHVZLD0hLi"
   },
   "source": [
    "### **Analysis**\n",
    "위와 마찬가지로 boxplot을 이용해 연령별로 현재 운용 가능한 현금의 비율을 살펴 보았다. 물론 비율이 1을 넘어가는 값은 이상치라고 생각되며, 적절한 값으로 대체를 하거나 삭제할 필요성은 있어 보인다. 연령은 높아질 수로 현재 운용가능한 현금의 비율이 낮아지는 것을 확인 할 수 있었고, 40~80대에서는 이상치로 판단 되는 값이 많은 것을 또한 확인했다."
   ]
  },
  {
   "cell_type": "markdown",
   "metadata": {
    "id": "rQJsBxesb9JE"
   },
   "source": [
    "### Age (Pie chart)"
   ]
  },
  {
   "cell_type": "code",
   "execution_count": null,
   "metadata": {
    "colab": {
     "base_uri": "https://localhost:8080/",
     "height": 206
    },
    "id": "fvHBR2iPEoZt",
    "outputId": "61143f44-9d28-4b52-f54d-0daaa969160f"
   },
   "outputs": [],
   "source": [
    "age_df = pd.DataFrame(data.age)\n",
    "age_df.head()"
   ]
  },
  {
   "cell_type": "code",
   "execution_count": null,
   "metadata": {
    "colab": {
     "base_uri": "https://localhost:8080/"
    },
    "id": "kmVM_lBIFxhP",
    "outputId": "a221ddc6-7a33-4ff3-d171-ca9d55c2ca2e"
   },
   "outputs": [],
   "source": [
    "# 20살 단위로 group화\n",
    "age_df['age/20'] = age_df[['age']].applymap(lambda x : int(x/20))\n",
    "age_df_count = age_df.groupby(['age/20'])['age/20'].count()\n",
    "age_df_count.index = ['20<=age<40', '40<=age<60', '60<=age<80', '80<=age<100', '100<=age']\n",
    "age_df_count.column = ['count']\n",
    "age_df_count"
   ]
  },
  {
   "cell_type": "code",
   "execution_count": null,
   "metadata": {
    "colab": {
     "base_uri": "https://localhost:8080/",
     "height": 373
    },
    "id": "LJpBM0M5HnaJ",
    "outputId": "8bffc2dd-4d56-48a5-bb6b-73596088f223"
   },
   "outputs": [],
   "source": [
    "# data visualization\n",
    "plt.figure(figsize=(7, 6))\n",
    "plt.pie(age_df_count.values, labels=age_df_count.index, autopct='%1.1f%%')\n",
    "plt.axis('equal')\n",
    "plt.title('age count')\n",
    "plt.show()"
   ]
  },
  {
   "cell_type": "markdown",
   "metadata": {
    "id": "ojwXupIKiWSo"
   },
   "source": [
    "### **Analysis**\n",
    "전체적인 나이 분포를 확인해본 결과, 40 ~ 60살 정도가 46.5% 이상의 높은 비율을 가지고 있었고 다음으로 60 ~ 80살이 28.3%로 40살 이상에서 약 75%가 넘는 분포를 가지고 있었다. 그 다음으로 20 ~ 40살 정도에서 약 21%의 비율을 차지했음을 알 수 있었다."
   ]
  },
  {
   "cell_type": "markdown",
   "metadata": {
    "id": "JN-ezBtki3Cz"
   },
   "source": [
    "### SeriousDlqin2yrs (Violin Plot)"
   ]
  },
  {
   "cell_type": "code",
   "execution_count": null,
   "metadata": {
    "colab": {
     "base_uri": "https://localhost:8080/",
     "height": 206
    },
    "id": "tgFx4iHGIJcu",
    "outputId": "52eea4c6-4d64-441f-aa45-bf0f27337e81"
   },
   "outputs": [],
   "source": [
    "df_SeriousDlqin2yrs = pd.DataFrame(data.SeriousDlqin2yrs)\n",
    "df_SeriousDlqin2yrs.head()"
   ]
  },
  {
   "cell_type": "code",
   "execution_count": null,
   "metadata": {
    "colab": {
     "base_uri": "https://localhost:8080/"
    },
    "id": "fZPncHkC0hLm",
    "outputId": "b98fd52b-7e9f-48aa-d46e-a1add335be99"
   },
   "outputs": [],
   "source": [
    "data['NumberOfTime60-89DaysPastDueNotWorse'].value_counts()"
   ]
  },
  {
   "cell_type": "code",
   "execution_count": null,
   "metadata": {
    "colab": {
     "base_uri": "https://localhost:8080/",
     "height": 677
    },
    "id": "JWDZOlXRTdKi",
    "outputId": "a6d1369a-2bab-42e6-c76c-f6b5bf4e4032"
   },
   "outputs": [],
   "source": [
    "plt.figure(figsize=(15, 10))\n",
    "sns.violinplot('NumberOfTime60-89DaysPastDueNotWorse', 'age', hue='SeriousDlqin2yrs', data=data[data['NumberOfTime60-89DaysPastDueNotWorse'] < 8])\n",
    "plt.title('SeriousDlqin2yrs')\n",
    "plt.show()"
   ]
  },
  {
   "cell_type": "markdown",
   "metadata": {
    "id": "1xegBzU1mzlP"
   },
   "source": [
    "### **Analysis**\n",
    "violin plot을 이용하여 최근 2년간 60 ~ 89일 연체한 횟수에 따른 2년 동안 90일 이상 연체 여부를 파악해보려고 했다. 하지만 위의 그림과 같이 60 ~ 89일 연체한 횟수에 대해 이상치 (outlier)로 보이는 것이 탐지가 되었다.\n",
    "\n",
    "이를 value_counts()를 통해서 다시 본 결과, 2년간 연체한 횟수가 98, 96번이라는 답변이 **264명과 5명**으로 조사되어 있다는 것을 파악했다. 이에 대한 값을 아예 **삭제를 할 것인지, 아니면 값을 대체할 지를** 결정이 필요해 보인다.\n",
    "\n",
    "그리고 그림을 통해서 outlier 등을 제외한 나머지 분포를 살펴보았을 때에, 연체를 한 사람이 **가운데 연령대**에서 조금 더 높은 비율을 가진 것을 확인했습니다."
   ]
  },
  {
   "cell_type": "markdown",
   "metadata": {
    "id": "RKF-E56jqLju"
   },
   "source": [
    "## 결측치 파악"
   ]
  },
  {
   "cell_type": "code",
   "execution_count": null,
   "metadata": {
    "colab": {
     "base_uri": "https://localhost:8080/"
    },
    "id": "99PFeElOEEr1",
    "outputId": "396a63a2-2257-4d55-880f-25b74592daf2"
   },
   "outputs": [],
   "source": [
    "data.info()"
   ]
  },
  {
   "cell_type": "code",
   "execution_count": null,
   "metadata": {
    "colab": {
     "base_uri": "https://localhost:8080/"
    },
    "id": "qcOfoPXrETEK",
    "outputId": "24f2c70e-a4de-4140-af73-26947492bb69"
   },
   "outputs": [],
   "source": [
    "data.isna().sum()"
   ]
  },
  {
   "cell_type": "markdown",
   "metadata": {
    "id": "Bj7F15r_qTMX"
   },
   "source": [
    "### **Analysis**\n",
    "결측치 (NA)에 대한 분석이다. 총 2개의 요소에서 결측치가 발생했다. (MonthlyIncome, NumberOfDependents) 특히, 월 수입에 대한 결측치는 거의 3만개에 가까운 숫자이기에 삭제하기에는 무리가 있다고 판단되었다. 그리고 부양 가족의 수도 그냥 삭제하기 보다는 데이터 전체의 평균 등으로 대체하여 사용할 예정이다.\n",
    "\n",
    "구체적으로 위의 상관 관계(heat map)에서 볼 수 있듯이, MonthlyIncome은 NumberRealEstateLoansOrLines에서 그나마 높은 상관 관계를 가지기에 각 값 별로 가지고 있는 월 평균 수입을 MonthlyIncome 값으로 대체할 예정이다.\n",
    "\n",
    "다음으로 NumberOfDependents의 경우, age와 음의 상관 관계이지만 관련성이 높아 보이므로 나이대에 따른 NumberOfDependents를 적용하거나 삭제할 예정이다."
   ]
  },
  {
   "cell_type": "markdown",
   "metadata": {
    "id": "htWKvHxBtya5"
   },
   "source": [
    "## Data preprocessing"
   ]
  },
  {
   "cell_type": "code",
   "execution_count": null,
   "metadata": {
    "colab": {
     "base_uri": "https://localhost:8080/",
     "height": 243
    },
    "id": "AlUs8Jlz0hLq",
    "outputId": "cd262fa1-48d6-4d01-e2e4-8274800db8f3"
   },
   "outputs": [],
   "source": [
    "preprocessing_data = data.copy()\n",
    "preprocessing_data.head()"
   ]
  },
  {
   "cell_type": "code",
   "execution_count": null,
   "metadata": {
    "colab": {
     "base_uri": "https://localhost:8080/",
     "height": 541
    },
    "id": "Oc-AFN5P0hLr",
    "outputId": "6dd7986d-13d1-4833-e8ea-c56e042d1246"
   },
   "outputs": [],
   "source": [
    "partial_preprocessing_data = preprocessing_data[['MonthlyIncome','NumberOfDependents']]\n",
    "#partial_preprocessing_data.dropna(how='any')\n",
    "partial_preprocessing_data = partial_preprocessing_data.dropna(how='any')\n",
    "\n",
    "sns.histplot(partial_preprocessing_data['MonthlyIncome'], kde=True, bins=100)\n",
    "plt.show()\n",
    "sns.histplot(partial_preprocessing_data['NumberOfDependents'], kde=True, bins=100)\n",
    "plt.show()"
   ]
  },
  {
   "cell_type": "markdown",
   "metadata": {
    "id": "V6eaaf8G0hLr"
   },
   "source": [
    "### 결측치 처리 : NumberOfDependents"
   ]
  },
  {
   "cell_type": "code",
   "execution_count": null,
   "metadata": {
    "colab": {
     "base_uri": "https://localhost:8080/",
     "height": 243
    },
    "id": "4v05_nEJuQHh",
    "outputId": "a84a5b7d-4da2-47c7-bfbb-e2f8f684e44b"
   },
   "outputs": [],
   "source": [
    "preprocessing_data['age/10'] = preprocessing_data[['age']].applymap(lambda x : int(x/10))\n",
    "preprocessing_data.head()"
   ]
  },
  {
   "cell_type": "code",
   "execution_count": null,
   "metadata": {
    "colab": {
     "base_uri": "https://localhost:8080/"
    },
    "id": "iNfqozIau-I5",
    "outputId": "2b8b213e-4ad9-4396-e4ed-5e36c824b964"
   },
   "outputs": [],
   "source": [
    "mean_df = preprocessing_data.groupby('age/10')['NumberOfDependents'].mean()\n",
    "mean_df = round(mean_df)\n",
    "mean_df"
   ]
  },
  {
   "cell_type": "code",
   "execution_count": null,
   "metadata": {
    "id": "Tgys-NG9xV2Q"
   },
   "outputs": [],
   "source": [
    "# NumberOfDependents의 결측치 채우기\n",
    "for j in range(0, 11):\n",
    "    for i in mean_df:\n",
    "        preprocessing_data.loc[(preprocessing_data['NumberOfDependents'].isnull()) & (preprocessing_data['age/10'] == j),\n",
    "                    'NumberOfDependents'] = round(i)"
   ]
  },
  {
   "cell_type": "code",
   "execution_count": null,
   "metadata": {
    "colab": {
     "base_uri": "https://localhost:8080/"
    },
    "id": "kCnHSnWazfRQ",
    "outputId": "02c97406-0b0f-441b-cc90-90bea68beebc"
   },
   "outputs": [],
   "source": [
    "preprocessing_data.info()"
   ]
  },
  {
   "cell_type": "markdown",
   "metadata": {
    "id": "diur50Xq5ymF"
   },
   "source": [
    "### 결측치 처리 : MonthlyIncome"
   ]
  },
  {
   "cell_type": "code",
   "execution_count": null,
   "metadata": {
    "colab": {
     "base_uri": "https://localhost:8080/"
    },
    "id": "4LTvyJMe-TPm",
    "outputId": "30bee476-38b0-48fa-f875-0358bf488973"
   },
   "outputs": [],
   "source": [
    "mean_df1 = preprocessing_data.loc[preprocessing_data['SeriousDlqin2yrs'] == 0, 'MonthlyIncome'].groupby(preprocessing_data['age/10']).mean()\n",
    "mean_df1, mean_df1.shape"
   ]
  },
  {
   "cell_type": "code",
   "execution_count": null,
   "metadata": {
    "colab": {
     "base_uri": "https://localhost:8080/"
    },
    "id": "X6a3JeJA0hLv",
    "outputId": "cefb8082-910b-49f4-e94c-ddad6f031dd2"
   },
   "outputs": [],
   "source": [
    "mean_df2 = preprocessing_data.loc[preprocessing_data['SeriousDlqin2yrs'] == 1, 'MonthlyIncome'].groupby(preprocessing_data['age/10']).mean()\n",
    "mean_df2, mean_df2.shape"
   ]
  },
  {
   "cell_type": "code",
   "execution_count": null,
   "metadata": {
    "id": "MOWW_AC0_0ds"
   },
   "outputs": [],
   "source": [
    "# MonthlyIncome 결측치 채우기\n",
    "\n",
    "for i in mean_df1:\n",
    "  for j in range(2, 11):\n",
    "    preprocessing_data.loc[(preprocessing_data['SeriousDlqin2yrs'] == 0) & (preprocessing_data['MonthlyIncome'].isnull()) & (preprocessing_data['age/10'] == j),\n",
    "              'MonthlyIncome'] = i\n",
    "\n",
    "for i in mean_df2:\n",
    "  for j in range(2, 11):\n",
    "    preprocessing_data.loc[(preprocessing_data['SeriousDlqin2yrs'] == 1) & (preprocessing_data['MonthlyIncome'].isnull()) & (preprocessing_data['age/10'] == j),\n",
    "              'MonthlyIncome'] = i"
   ]
  },
  {
   "cell_type": "code",
   "execution_count": null,
   "metadata": {
    "colab": {
     "base_uri": "https://localhost:8080/"
    },
    "id": "j0IqIaNM0hLv",
    "outputId": "c2604c81-8620-4067-a69f-24d0913dfd7f"
   },
   "outputs": [],
   "source": [
    "preprocessing_data.drop('age/10', axis=1, inplace=True)\n",
    "preprocessing_data.shape"
   ]
  },
  {
   "cell_type": "code",
   "execution_count": null,
   "metadata": {
    "colab": {
     "base_uri": "https://localhost:8080/"
    },
    "id": "Hsa6J54r52Eu",
    "outputId": "7b1007bb-6275-4c97-ca7b-f0f42af5dc07"
   },
   "outputs": [],
   "source": [
    "preprocessing_data.isna().any()"
   ]
  },
  {
   "cell_type": "markdown",
   "metadata": {
    "id": "vcqo0k3m89Jm"
   },
   "source": [
    "### Result\n",
    "NumberOfDependents와 MonthlyIncome의 결측치를 위와 같이 다 채우는 방향으로 진행하였다.\n",
    "\n",
    "구체적으로 NumberOfDependents의 경우에는 age를 10살 기준으로 나누어 각 평균값을 구하고, 각 나이가 해당되는 연령의 결측치에 평균값(int)으로 채웠다.\n",
    "\n",
    "다음으로 MonthlyIncome는 SeriousDlqin2yrs와 연령별 기준에 대한 MonthlyIncome 평균값을 구했다. 이를 각 해당하는 대출 건수에 대한 결측치를 채웠다."
   ]
  },
  {
   "cell_type": "markdown",
   "metadata": {
    "id": "tm7JtSCO-YmE"
   },
   "source": [
    "## Outlier (이상치)"
   ]
  },
  {
   "cell_type": "code",
   "execution_count": null,
   "metadata": {
    "id": "b2UMYNQdwHBC"
   },
   "outputs": [],
   "source": [
    "def get_outlier(df=None, column=None, weight=1.5):\n",
    "  # target 값과 상관관계가 높은 열을 우선적으로 진행\n",
    "  quantile_25 = np.percentile(df[column].values, 25)\n",
    "  quantile_75 = np.percentile(df[column].values, 75)\n",
    "\n",
    "  IQR = quantile_75 - quantile_25\n",
    "  \n",
    "  lowest = quantile_25 - IQR*weight\n",
    "  highest = quantile_75 + IQR*weight\n",
    "  lowest_outlier_idx = df[column][df[column] < lowest].index\n",
    "  highest_outlier_idx = df[column][df[column] > highest].index\n",
    "  return lowest, highest, lowest_outlier_idx, highest_outlier_idx"
   ]
  },
  {
   "cell_type": "markdown",
   "metadata": {
    "id": "SoQeJijbvYbH"
   },
   "source": [
    "### 이상치 제거 : RevolvingUtilizationOfUnsecuredLines\n",
    "\n",
    "- Data 이상치라고 판단되는 값을 Max. value로 대체함"
   ]
  },
  {
   "cell_type": "code",
   "execution_count": null,
   "metadata": {
    "id": "5RmUXIx5aGWj"
   },
   "outputs": [],
   "source": [
    "# replace value\n",
    "preprocessing_data.loc[preprocessing_data['RevolvingUtilizationOfUnsecuredLines'] > 1., 'RevolvingUtilizationOfUnsecuredLines'] = 1."
   ]
  },
  {
   "cell_type": "code",
   "execution_count": null,
   "metadata": {
    "colab": {
     "base_uri": "https://localhost:8080/"
    },
    "id": "T3Vq7qv2wqVv",
    "outputId": "94d393b1-7f86-4114-e0ef-9e4e08f52d77"
   },
   "outputs": [],
   "source": [
    "# 결과 확인\n",
    "preprocessing_data[preprocessing_data['RevolvingUtilizationOfUnsecuredLines'] > 1.].value_counts()"
   ]
  },
  {
   "cell_type": "markdown",
   "metadata": {
    "id": "6yreoaokDmOK"
   },
   "source": [
    "### 이상치 제거 : DebtRatio\n",
    "\n",
    "- Data의 속성상 **Highest** 이상의 숫자는 이상치를 대체함"
   ]
  },
  {
   "cell_type": "code",
   "execution_count": null,
   "metadata": {
    "colab": {
     "base_uri": "https://localhost:8080/"
    },
    "id": "OJcb6JVwxmIx",
    "outputId": "142137e9-d2f4-48f5-8e91-e1598bbf158b"
   },
   "outputs": [],
   "source": [
    "# lowest, highest value 및 index 확인\n",
    "lowest, highest, lowest_outlier_idx, highest_outlier_idx = get_outlier(preprocessing_data, 'DebtRatio')\n",
    "lowest, highest, lowest_outlier_idx, highest_outlier_idx"
   ]
  },
  {
   "cell_type": "code",
   "execution_count": null,
   "metadata": {
    "id": "A2qz6jGv1BtY"
   },
   "outputs": [],
   "source": [
    "# 이상치 값을 highest로 대체\n",
    "preprocessing_data.loc[highest_outlier_idx, 'DebtRatio'] = highest"
   ]
  },
  {
   "cell_type": "code",
   "execution_count": null,
   "metadata": {
    "colab": {
     "base_uri": "https://localhost:8080/",
     "height": 338
    },
    "id": "imvzptgpDaGh",
    "outputId": "0f985555-3881-408d-dfda-b4dc317832ae"
   },
   "outputs": [],
   "source": [
    "# 결과 확인\n",
    "preprocessing_data.describe()"
   ]
  },
  {
   "cell_type": "markdown",
   "metadata": {
    "id": "ErEL1ALAAcGc"
   },
   "source": [
    "### 이상치 제거  : NumberOfTimes90DaysLate\n",
    "\n",
    "- 위에서 확인한 것과 같이 96번과 98번 연체 횟수는 기간적 측면에서 볼 때 말이 되지 않는 값이라 outlier로 판단하고 데이터의 수 측면에서 크지 않다고 생각되어 삭제한다."
   ]
  },
  {
   "cell_type": "code",
   "execution_count": null,
   "metadata": {
    "colab": {
     "base_uri": "https://localhost:8080/",
     "height": 338
    },
    "id": "1W2cp8Tb0hL3",
    "outputId": "dc7f1190-6d1e-4b28-b526-886b074d5d1b"
   },
   "outputs": [],
   "source": [
    "preprocessing_data[(preprocessing_data['NumberOfTimes90DaysLate'] == 98 ) | (preprocessing_data['NumberOfTimes90DaysLate'] == 96)].describe()"
   ]
  },
  {
   "cell_type": "code",
   "execution_count": null,
   "metadata": {
    "colab": {
     "base_uri": "https://localhost:8080/"
    },
    "id": "xCQyti4PAbbE",
    "outputId": "893f73fa-5d4b-4785-8a8d-3568c3487974"
   },
   "outputs": [],
   "source": [
    "# 삭제할 index 추출 & 삭제\n",
    "data_del_idx = preprocessing_data[(preprocessing_data['NumberOfTimes90DaysLate'] == 98) | (preprocessing_data['NumberOfTimes90DaysLate'] == 96)].index\n",
    "preprocessing_data.drop(data_del_idx, inplace=True)\n",
    "data_del_idx.shape, preprocessing_data.shape"
   ]
  },
  {
   "cell_type": "code",
   "execution_count": null,
   "metadata": {
    "colab": {
     "base_uri": "https://localhost:8080/"
    },
    "id": "-SqFGvirKvES",
    "outputId": "0a3f5fea-8452-43b4-efde-b4ef0946c98b"
   },
   "outputs": [],
   "source": [
    "결과 확인\n",
    "preprocessing_data['NumberOfTimes90DaysLate'].value_counts()"
   ]
  },
  {
   "cell_type": "markdown",
   "metadata": {
    "id": "ZLUf9knGLDua"
   },
   "source": [
    "### Result\n",
    "\n",
    "- 각 속성에서 이상치로 판단 되는 값을 삭제 또는 대체하는 방향으로 진행.\n",
    " 추가적으로 NumberRealEstateLoansOrLines에 54건수에 대한 데이터가 이상치로 보이지만 큰 영향은 안 줄 것으로 판단하고 진행했으며, 아래와 같이 정제된 data를 통해 다시 descibe 및 correlation을 파악하는 과정을 거침."
   ]
  },
  {
   "cell_type": "code",
   "execution_count": null,
   "metadata": {
    "colab": {
     "base_uri": "https://localhost:8080/",
     "height": 834
    },
    "id": "3NJOUIYo7hSK",
    "outputId": "ed7a69d8-2bf2-4019-a66c-bec27e1787ca"
   },
   "outputs": [],
   "source": [
    "# column 별 상관 관계 분석\n",
    "df_corr = preprocessing_data.corr()\n",
    "\n",
    "plt.figure(figsize=(15, 10))\n",
    "plt.title('correlation')\n",
    "sns.heatmap(df_corr, \n",
    "            annot = True,      \n",
    "            cmap = 'RdYlBu_r',\n",
    "            fmt='.3f',\n",
    "            vmin = -1, vmax = 1)"
   ]
  },
  {
   "cell_type": "code",
   "execution_count": null,
   "metadata": {},
   "outputs": [],
   "source": [
    "preprocessing_data.to_csv('preprocessing_data_v01.csv', index=False)"
   ]
  },
  {
   "cell_type": "markdown",
   "metadata": {
    "id": "t8HZ-vug0hL6"
   },
   "source": [
    "### **Analysis**\n",
    "각 요소들의 상관관계에 관한 heatmap은 위의 그림과 같다.\n",
    "\n",
    "양의 상관 관계에서는 대표적으로 주택 담보대출을 포함한 부동산 담보 대출 건수(NumberRealEstateLoansOrLines)와 대출자가 보유중인 담보 대출 및 신용 대출 건수(NumberOfOpenCreditLinesAndLoans)가 **0.43** 정도의 상관 관계를 보였다.\n",
    "\n",
    "다음으로 음의 상관 관계는 대표적으로 주택 담보대출을 포함한 부동산 담보 대출 건수 (NumberRealEstateLoansOrLines)와 나이(age)가 **-0.275** 정도를 보였음을 확인 할 수 있었다."
   ]
  },
  {
   "cell_type": "markdown",
   "metadata": {
    "id": "RCMI2sZPsIuV"
   },
   "source": [
    "# 2. Base line model"
   ]
  },
  {
   "cell_type": "markdown",
   "metadata": {
    "id": "jkTr09a6spDm"
   },
   "source": [
    "## 결측치 Preprocessing 적용한 Data 활용"
   ]
  },
  {
   "cell_type": "code",
   "execution_count": null,
   "metadata": {
    "id": "vk_ACTtsssJQ"
   },
   "outputs": [],
   "source": [
    "from sklearn.preprocessing import MinMaxScaler, StandardScaler\n",
    "from sklearn.model_selection import train_test_split\n",
    "\n",
    "from sklearn.tree import DecisionTreeClassifier\n",
    "from sklearn.neighbors import KNeighborsClassifier\n",
    "from sklearn.svm import SVC\n",
    "from sklearn.linear_model import LogisticRegression\n",
    "from sklearn.ensemble import RandomForestClassifier, GradientBoostingClassifier, VotingClassifier\n",
    "from xgboost import XGBClassifier\n",
    "from sklearn.model_selection import GridSearchCV, RandomizedSearchCV\n",
    "from sklearn.pipeline import Pipeline, make_pipeline\n",
    "\n",
    "\n",
    "from imblearn.over_sampling import SMOTE\n",
    "\n",
    "from sklearn.metrics import accuracy_score, precision_score, recall_score, f1_score, plot_roc_curve, plot_confusion_matrix, roc_auc_score"
   ]
  },
  {
   "cell_type": "code",
   "execution_count": null,
   "metadata": {},
   "outputs": [],
   "source": [
    "preprocessing_data = pd.read_csv('preprocessing_data_v01.csv')\n",
    "preprocessing_data.head()"
   ]
  },
  {
   "cell_type": "code",
   "execution_count": null,
   "metadata": {
    "colab": {
     "base_uri": "https://localhost:8080/"
    },
    "id": "XMgNw-RBssdG",
    "outputId": "3d6a8ae9-69cf-4f3a-a8eb-8d43429c7479"
   },
   "outputs": [],
   "source": [
    "X = preprocessing_data.drop('SeriousDlqin2yrs', axis=1)\n",
    "y = preprocessing_data['SeriousDlqin2yrs']\n",
    "\n",
    "X.shape, y.shape"
   ]
  },
  {
   "cell_type": "code",
   "execution_count": null,
   "metadata": {
    "colab": {
     "base_uri": "https://localhost:8080/"
    },
    "id": "0q1WCEfDbSgE",
    "outputId": "8a03f9cc-cdc0-416c-dd1a-a0ad38107d93"
   },
   "outputs": [],
   "source": [
    "# train / validataion / test set split & imbalanced data processing\n",
    "X_train, X_test, y_train, y_test = train_test_split(X, y,\n",
    "                                                    test_size=0.2,\n",
    "                                                    random_state=157,\n",
    "                                                    stratify=y\n",
    "                                                    )\n",
    "\n",
    "X_train, X_val, y_train, y_val = train_test_split(X_train, y_train,\n",
    "                                                test_size=0.2,\n",
    "                                                random_state=157,\n",
    "                                                stratify=y_train\n",
    "                                                )\n",
    "\n",
    "smt = SMOTE(random_state=157)\n",
    "X_train, y_train = smt.fit_resample(X_train, y_train)\n",
    "\n",
    "X_train.shape, X_val.shape, X_test.shape"
   ]
  },
  {
   "cell_type": "code",
   "execution_count": null,
   "metadata": {},
   "outputs": [],
   "source": [
    "knn = make_pipeline(scaler, KNeighborsClassifier())\n",
    "lr = make_pipeline(scaler, LogisticRegression(max_iter=2000, random_state=0))\n",
    "rf = RandomForestClassifier(random_state=0)\n",
    "grb = GradientBoostingClassifier(random_state=0)\n",
    "xgb = XGBClassifier(random_state=0)"
   ]
  },
  {
   "cell_type": "code",
   "execution_count": null,
   "metadata": {},
   "outputs": [],
   "source": [
    "knn.fit(X_train, y_train)\n",
    "lr.fit(X_train, y_train)\n",
    "xgb.fit(X_train, y_train)\n",
    "grb.fit(X_train, y_train)\n",
    "rf.fit(X_train, y_train)"
   ]
  },
  {
   "cell_type": "code",
   "execution_count": null,
   "metadata": {},
   "outputs": [],
   "source": [
    "base_line = [knn, lr, xgb, grb, rf]\n",
    "model_names = ['KNN', 'LogisticRegression', 'XGBoost', 'GradientBoosting', 'RandomForest']"
   ]
  },
  {
   "cell_type": "code",
   "execution_count": null,
   "metadata": {},
   "outputs": [],
   "source": [
    "for model, name in zip(base_line, model_names):\n",
    "    if name == 'KNN':\n",
    "        continue\n",
    "    pred_train = model.predict(X_train)\n",
    "    pred_test = model.predict(X_test)\n",
    "    \n",
    "    pred_train_proba = model.predict_proba(X_train)\n",
    "    pred_test_proba = model.predict_proba(X_test)\n",
    "    \n",
    "    acc_train = np.round(accuracy_score(y_train,pred_train),3)\n",
    "    acc_test = np.round(accuracy_score(y_test, pred_test), 3)\n",
    "    \n",
    "    auc_train = np.round(roc_auc_score(y_train, pred_train_proba[:, 1]), 3)\n",
    "    auc_test = np.round(roc_auc_score(y_test, pred_test_proba[:, 1]), 3)\n",
    "    \n",
    "    print(f'{name}')\n",
    "    print(f'train정확도:{acc_train}, Test정확도:{acc_test}\\t train AUC:{auc_train}, Test AUC:{auc_test}')\n",
    "    print('='*50)"
   ]
  },
  {
   "cell_type": "markdown",
   "metadata": {
    "id": "sHppirotqvPq"
   },
   "source": [
    "### Results\n",
    "처음 데이터의 경우, 불균형 데이터임을 확인하였기에, 이를 조금 해소하고자 train data에 SMOTE를 통해서 불균형을 어느정도 해소를 했다.\n",
    "\n",
    "GradientBoostingClassifier, RandomForestClassifier, LogisticRegression, KNeighborsClassifier, XGBClassifier 등의 model들을 활용했다. roc_auc_score는 대부분 **0.7**이상의 score를 가진 것을 확인했다."
   ]
  },
  {
   "cell_type": "markdown",
   "metadata": {
    "id": "tYGMOwqZ3089"
   },
   "source": [
    "# 3. Hyper-parameter Tuning"
   ]
  },
  {
   "cell_type": "code",
   "execution_count": null,
   "metadata": {
    "colab": {
     "base_uri": "https://localhost:8080/"
    },
    "id": "KuPjKb9XeNDK",
    "outputId": "87786115-7908-4adb-edd6-868030a769cd"
   },
   "outputs": [],
   "source": [
    "grb = GradientBoostingClassifier(random_state=157)\n",
    "\n",
    "param = {\n",
    "    'learning_rate': [0.1, 0.5, 1],\n",
    "    'n_estimators':range(500, 1001, 100),\n",
    "    'max_depth': range(1, 4),\n",
    "    'subsample':[0.5, 0.8, 1]\n",
    "}\n",
    "\n",
    "gs = RandomizedSearchCV(grb, \n",
    "                  param, \n",
    "                  scoring='accuracy',\n",
    "                  cv=4,\n",
    "                  n_iter=60,\n",
    "                  n_jobs=-1)\n",
    "\n",
    "gs.fit(X_train, y_train)"
   ]
  },
  {
   "cell_type": "code",
   "execution_count": null,
   "metadata": {
    "colab": {
     "base_uri": "https://localhost:8080/"
    },
    "id": "zLIbassReOAq",
    "outputId": "8f78dccf-d1dc-437d-f155-7ba41d5dd23b"
   },
   "outputs": [],
   "source": [
    "gs.best_estimator_, gs.best_score_"
   ]
  },
  {
   "cell_type": "code",
   "execution_count": null,
   "metadata": {
    "colab": {
     "base_uri": "https://localhost:8080/",
     "height": 538
    },
    "id": "_i7ZuTVNeN4y",
    "outputId": "a12bd92b-df2f-43e9-9336-ac09df6d32bf"
   },
   "outputs": [],
   "source": [
    "df = pd.DataFrame(gs.cv_results_).sort_values('rank_test_score')\n",
    "df.head()"
   ]
  },
  {
   "cell_type": "code",
   "execution_count": null,
   "metadata": {
    "colab": {
     "base_uri": "https://localhost:8080/"
    },
    "id": "MMEbY-U7eRTx",
    "outputId": "ccde92f1-7929-41ea-d441-7fa827ae95d1"
   },
   "outputs": [],
   "source": [
    "best_grb = gs.best_estimator_\n",
    "pred_train = best_grb.predict(X_train)\n",
    "pred_val = best_grb.predict(X_val)\n",
    "\n",
    "print_metrics_classifier(y_train, pred_train, 'grb train')\n",
    "print_metrics_classifier(y_val, pred_val, 'grb validation')"
   ]
  },
  {
   "cell_type": "code",
   "execution_count": null,
   "metadata": {
    "colab": {
     "base_uri": "https://localhost:8080/"
    },
    "id": "Ey8pcpRA4K6N",
    "outputId": "4997fb8e-6a05-416a-8f54-3a10babe10f6"
   },
   "outputs": [],
   "source": [
    "# 순서대로 pipeline 구성 : Feature scaling => lr로 학습/추론\n",
    "# 각 프로세스 등록 (\"이름\", 객체)\n",
    "\n",
    "order = [\n",
    "    ('scaler', StandardScaler()),\n",
    "    ('lr', LogisticRegression())\n",
    "]\n",
    "pipeline = Pipeline(order, verbose=True) # verbose=True : 어떤 단계 처리하는지 log를 남김\n",
    "print(pipeline.steps)\n",
    "\n",
    "param = {\n",
    "    'lr__C':[0.001, 0.01, 0.1, 1, 10, 100],\n",
    "    'lr__max_iter': range(100, 1001, 100)\n",
    "}\n",
    "\n",
    "gs = GridSearchCV(pipeline, \n",
    "                  param, \n",
    "                  scoring='accuracy', \n",
    "                  cv=5, \n",
    "                  n_jobs=-1)\n",
    "\n",
    "gs.fit(X_train, y_train)"
   ]
  },
  {
   "cell_type": "code",
   "execution_count": null,
   "metadata": {
    "colab": {
     "base_uri": "https://localhost:8080/"
    },
    "id": "6quXCVkV4mlj",
    "outputId": "634d0083-7918-421d-9090-0712b6efb7b8"
   },
   "outputs": [],
   "source": [
    "gs.best_estimator_, gs.best_score_"
   ]
  },
  {
   "cell_type": "code",
   "execution_count": null,
   "metadata": {
    "colab": {
     "base_uri": "https://localhost:8080/",
     "height": 400
    },
    "id": "7VJhP0fu4oiV",
    "outputId": "a1f003ce-f95c-4bc7-f2ec-c048185bc66b"
   },
   "outputs": [],
   "source": [
    "df = pd.DataFrame(gs.cv_results_).sort_values('rank_test_score')\n",
    "df.head()"
   ]
  },
  {
   "cell_type": "code",
   "execution_count": null,
   "metadata": {
    "colab": {
     "base_uri": "https://localhost:8080/"
    },
    "id": "S-F8-jZ14qps",
    "outputId": "2c43f586-a6d2-4795-daf2-f791f84ff04e"
   },
   "outputs": [],
   "source": [
    "best_lr = gs.best_estimator_\n",
    "pred_train = best_lr.predict(X_train)\n",
    "pred_val = best_lr.predict(X_val)\n",
    "\n",
    "print_metrics_classifier(y_train, pred_train, 'lr train')\n",
    "print_metrics_classifier(y_val, pred_val, 'lr validation')"
   ]
  },
  {
   "cell_type": "code",
   "execution_count": null,
   "metadata": {
    "colab": {
     "base_uri": "https://localhost:8080/"
    },
    "id": "Tvpt_GqmsHvS",
    "outputId": "d00f99c8-97fd-4d7d-959a-80673e4532dd"
   },
   "outputs": [],
   "source": [
    "rf = RandomForestClassifier()\n",
    "\n",
    "param = {\n",
    "    'n_estimators':[0.01, 0.1, 1, 10],\n",
    "    'max_depth':[1, 2, 3, 4],\n",
    "    'max_leaf_nodes':[5, 10, 15, 20, 30],\n",
    "    'min_samples_leaf': range(500, 1001, 100)\n",
    "}\n",
    "\n",
    "gs = RandomizedSearchCV(rf, \n",
    "                param, \n",
    "                scoring='accuracy', \n",
    "                cv=4,\n",
    "                n_iter=50,\n",
    "                n_jobs=-1)\n",
    "\n",
    "gs.fit(X_train, y_train)"
   ]
  },
  {
   "cell_type": "code",
   "execution_count": null,
   "metadata": {
    "colab": {
     "base_uri": "https://localhost:8080/"
    },
    "id": "3GsJWQwNtAKE",
    "outputId": "0b0b6975-4e41-4e7e-8431-8f3db9c4573e"
   },
   "outputs": [],
   "source": [
    "gs.best_estimator_, gs.best_score_"
   ]
  },
  {
   "cell_type": "code",
   "execution_count": null,
   "metadata": {
    "colab": {
     "base_uri": "https://localhost:8080/",
     "height": 400
    },
    "id": "PXF01ezXvSa6",
    "outputId": "44cc8834-f3a5-41b4-a132-f63b5be9db7f"
   },
   "outputs": [],
   "source": [
    "df = pd.DataFrame(gs.cv_results_).sort_values('rank_test_score')\n",
    "df.head()"
   ]
  },
  {
   "cell_type": "code",
   "execution_count": null,
   "metadata": {
    "colab": {
     "base_uri": "https://localhost:8080/"
    },
    "id": "IAN1RAx8vqs6",
    "outputId": "fd7adcf3-6eaf-4b9a-d398-0e7326b804e4"
   },
   "outputs": [],
   "source": [
    "best_rf = gs.best_estimator_\n",
    "pred_train = best_rf.predict(X_train)\n",
    "pred_val = best_rf.predict(X_val)\n",
    "\n",
    "print_metrics_classifier(y_train, pred_train, 'RandomForest train')\n",
    "print_metrics_classifier(y_val, pred_val, 'RandomForest validation')"
   ]
  },
  {
   "cell_type": "code",
   "execution_count": null,
   "metadata": {
    "colab": {
     "base_uri": "https://localhost:8080/"
    },
    "id": "YlibX5rwkR7l",
    "outputId": "b114dfd6-b68f-4a99-fa15-4af420dd9f47"
   },
   "outputs": [],
   "source": [
    "estimators = [\n",
    "    ('lr', best_lr),\n",
    "    ('grb', best_grb),\n",
    "    ('rf', best_rf)\n",
    "]\n",
    "\n",
    "voting = VotingClassifier(estimators, voting='soft')\n",
    "voting.fit(X_train, y_train)\n",
    "\n",
    "pred_train = voting.predict(X_train)\n",
    "pred_val = voting.predict(X_val)\n",
    "\n",
    "print_metrics_classifier(y_train, pred_train, 'voting train')\n",
    "print_metrics_classifier(y_val, pred_val, 'voting validation')"
   ]
  },
  {
   "cell_type": "code",
   "execution_count": null,
   "metadata": {
    "colab": {
     "base_uri": "https://localhost:8080/"
    },
    "id": "Fg-tLcLe0hMG",
    "outputId": "6f4e972f-3b3a-443d-c0f6-de08774b1798"
   },
   "outputs": [],
   "source": [
    "pred_test = voting.predict(X_test)\n",
    "print_metrics_classifier(y_test, pred_test, 'voting test')"
   ]
  },
  {
   "cell_type": "markdown",
   "metadata": {
    "id": "hOM0_3dywj6y"
   },
   "source": [
    "# 4. Result"
   ]
  },
  {
   "cell_type": "markdown",
   "metadata": {
    "id": "h5xNWHQ50hMH"
   },
   "source": [
    "### ROC_AUC curve"
   ]
  },
  {
   "cell_type": "code",
   "execution_count": null,
   "metadata": {
    "colab": {
     "base_uri": "https://localhost:8080/",
     "height": 297
    },
    "id": "CVYMjLzX0hMH",
    "outputId": "b57db94d-8a8b-4a02-e2fc-6a7d1704f254"
   },
   "outputs": [],
   "source": [
    "from sklearn.metrics import ConfusionMatrixDisplay, confusion_matrix\n",
    "\n",
    "cm = confusion_matrix(y_test, pred_test)\n",
    "disp = ConfusionMatrixDisplay(cm, # confusion matrix\n",
    "                            display_labels=['SeriousDlqin2yrs: No', 'SeriousDlqin2yrs: Yes']) # [Negative label, Positive label]\n",
    "disp.plot(cmap='Reds') # 출력"
   ]
  },
  {
   "cell_type": "code",
   "execution_count": null,
   "metadata": {
    "colab": {
     "base_uri": "https://localhost:8080/",
     "height": 313
    },
    "id": "56R3CceRIePi",
    "outputId": "d74291b0-3018-47d2-940c-d205a7b0a891"
   },
   "outputs": [],
   "source": [
    "from sklearn.metrics import RocCurveDisplay, roc_curve\n",
    "\n",
    "voting_pos = voting.predict_proba(X_test)[:, 1]\n",
    "\n",
    "fprs_voting, tprs_voting, thresholds_voting = roc_curve(y_test, voting_pos)\n",
    "\n",
    "print(fprs_voting.shape, tprs_voting.shape, thresholds_voting.shape)\n",
    "\n",
    "auc = roc_auc_score(y_test, pred_test)\n",
    "disp = RocCurveDisplay(fpr=fprs_voting, tpr=tprs_voting, roc_auc=auc)\n",
    "disp.plot()\n",
    "plt.legend(loc='lower right')\n",
    "plt.title('ROC Curve')\n",
    "plt.grid()"
   ]
  },
  {
   "cell_type": "markdown",
   "metadata": {
    "id": "nnVB5LzSoPNZ"
   },
   "source": [
    "### Results\n",
    "Base line model중에서 꽤 괜찮은 성능을 보였던 RandomForest, LogisticRegression, Gradient Boosting model을 선정했다. 이 세 가지 모델들을 통해서 GridSearchCV와 RandomGridSearchCV를 이용해 hyper-parameter tuning을 진행했다. 다시 그 best model들을 통해서 validation을 진행했으며, Voting Classifier를 통해서 모델을 완성했다.\n",
    "\n",
    "결과적으로는 test_data와 ROC_AUC curve를 통해 살펴본 결과, **roc_auc_score**는 **0.78**로 나왔습니다. 따라서 연체한 사람들에 대해 어느정도 유의미하게 판단할 수 있음을 알 수 있었다.\n",
    "\n",
    "최근 2년 동안 90일 이상 연체하지 않은 비율이 연체한 비율에 비해서 매우 높기 때문에, data적인 측면에서는 연체한 사람들에 대한 case가 더 많이 필요함을 알 수 있었다.\n",
    "\n",
    "모델의 성능을 더 올리기 위해 다양한 이상치를 처리하거나 제거하는 방법들을 이용해보았지만, 현재의 요소를 통해서는 이 이상의 성능을 내는 것이 어려웠다. 그리고 요소별로 서로의 상관관계가 너무 낮은 것도 모델의 성능을 더 올리기 어려운 이유중 하나라고 생각된다. 마지막으로 Xgboosting, GradientBoosting classifier의 학습 시간이 상당히 오래 걸리는 부분도 모델의 평가를 빠르게 하지 못하게 되어 아쉬운 부분이 있었다."
   ]
  }
 ],
 "metadata": {
  "accelerator": "GPU",
  "colab": {
   "collapsed_sections": [],
   "machine_shape": "hm",
   "name": "minipjt5_note.ipynb",
   "provenance": []
  },
  "kernelspec": {
   "display_name": "Python 3",
   "language": "python",
   "name": "python3"
  },
  "language_info": {
   "codemirror_mode": {
    "name": "ipython",
    "version": 3
   },
   "file_extension": ".py",
   "mimetype": "text/x-python",
   "name": "python",
   "nbconvert_exporter": "python",
   "pygments_lexer": "ipython3",
   "version": "3.9.5"
  }
 },
 "nbformat": 4,
 "nbformat_minor": 1
}
