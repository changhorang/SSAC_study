{
 "cells": [
  {
   "cell_type": "markdown",
   "metadata": {
    "id": "Iy1f4ECUJhgm"
   },
   "source": [
    "# **Mini Project 5: 대출 위험도 평가** "
   ]
  },
  {
   "cell_type": "markdown",
   "metadata": {
    "id": "V6tA-uc_sUK3"
   },
   "source": [
    "# 1. EDA"
   ]
  },
  {
   "cell_type": "markdown",
   "metadata": {
    "id": "2Rq-Q9Cy0hK8"
   },
   "source": [
    "## Data load & Analysis"
   ]
  },
  {
   "cell_type": "code",
   "execution_count": null,
   "metadata": {
    "id": "epOnWaT0SLkX"
   },
   "outputs": [],
   "source": [
    "# for colab\n",
    "# cd '/content/drive/MyDrive'"
   ]
  },
  {
   "cell_type": "code",
   "execution_count": null,
   "metadata": {
    "id": "L1-Y2HiOCbLH"
   },
   "outputs": [],
   "source": [
    "import pandas as pd\n",
    "import numpy as np\n",
    "import matplotlib.pyplot as plt\n",
    "import seaborn as sns"
   ]
  },
  {
   "cell_type": "code",
   "execution_count": null,
   "metadata": {
    "colab": {
     "base_uri": "https://localhost:8080/",
     "height": 244
    },
    "executionInfo": {
     "elapsed": 50,
     "status": "ok",
     "timestamp": 1638153838463,
     "user": {
      "displayName": "김창호",
      "photoUrl": "https://lh3.googleusercontent.com/a/default-user=s64",
      "userId": "09806159714715776157"
     },
     "user_tz": -540
    },
    "id": "C28SGF9UDGi6",
    "outputId": "a8850e41-1a4a-4f1f-bee6-9ae922534934"
   },
   "outputs": [
    {
     "data": {
      "text/html": [
       "<div>\n",
       "<style scoped>\n",
       "    .dataframe tbody tr th:only-of-type {\n",
       "        vertical-align: middle;\n",
       "    }\n",
       "\n",
       "    .dataframe tbody tr th {\n",
       "        vertical-align: top;\n",
       "    }\n",
       "\n",
       "    .dataframe thead th {\n",
       "        text-align: right;\n",
       "    }\n",
       "</style>\n",
       "<table border=\"1\" class=\"dataframe\">\n",
       "  <thead>\n",
       "    <tr style=\"text-align: right;\">\n",
       "      <th></th>\n",
       "      <th>SeriousDlqin2yrs</th>\n",
       "      <th>RevolvingUtilizationOfUnsecuredLines</th>\n",
       "      <th>age</th>\n",
       "      <th>NumberOfTime30-59DaysPastDueNotWorse</th>\n",
       "      <th>DebtRatio</th>\n",
       "      <th>MonthlyIncome</th>\n",
       "      <th>NumberOfOpenCreditLinesAndLoans</th>\n",
       "      <th>NumberOfTimes90DaysLate</th>\n",
       "      <th>NumberRealEstateLoansOrLines</th>\n",
       "      <th>NumberOfTime60-89DaysPastDueNotWorse</th>\n",
       "      <th>NumberOfDependents</th>\n",
       "    </tr>\n",
       "  </thead>\n",
       "  <tbody>\n",
       "    <tr>\n",
       "      <th>1</th>\n",
       "      <td>1</td>\n",
       "      <td>0.766127</td>\n",
       "      <td>45</td>\n",
       "      <td>2</td>\n",
       "      <td>0.802982</td>\n",
       "      <td>9120.0</td>\n",
       "      <td>13</td>\n",
       "      <td>0</td>\n",
       "      <td>6</td>\n",
       "      <td>0</td>\n",
       "      <td>2.0</td>\n",
       "    </tr>\n",
       "    <tr>\n",
       "      <th>2</th>\n",
       "      <td>0</td>\n",
       "      <td>0.957151</td>\n",
       "      <td>40</td>\n",
       "      <td>0</td>\n",
       "      <td>0.121876</td>\n",
       "      <td>2600.0</td>\n",
       "      <td>4</td>\n",
       "      <td>0</td>\n",
       "      <td>0</td>\n",
       "      <td>0</td>\n",
       "      <td>1.0</td>\n",
       "    </tr>\n",
       "    <tr>\n",
       "      <th>3</th>\n",
       "      <td>0</td>\n",
       "      <td>0.658180</td>\n",
       "      <td>38</td>\n",
       "      <td>1</td>\n",
       "      <td>0.085113</td>\n",
       "      <td>3042.0</td>\n",
       "      <td>2</td>\n",
       "      <td>1</td>\n",
       "      <td>0</td>\n",
       "      <td>0</td>\n",
       "      <td>0.0</td>\n",
       "    </tr>\n",
       "    <tr>\n",
       "      <th>4</th>\n",
       "      <td>0</td>\n",
       "      <td>0.233810</td>\n",
       "      <td>30</td>\n",
       "      <td>0</td>\n",
       "      <td>0.036050</td>\n",
       "      <td>3300.0</td>\n",
       "      <td>5</td>\n",
       "      <td>0</td>\n",
       "      <td>0</td>\n",
       "      <td>0</td>\n",
       "      <td>0.0</td>\n",
       "    </tr>\n",
       "    <tr>\n",
       "      <th>5</th>\n",
       "      <td>0</td>\n",
       "      <td>0.907239</td>\n",
       "      <td>49</td>\n",
       "      <td>1</td>\n",
       "      <td>0.024926</td>\n",
       "      <td>63588.0</td>\n",
       "      <td>7</td>\n",
       "      <td>0</td>\n",
       "      <td>1</td>\n",
       "      <td>0</td>\n",
       "      <td>0.0</td>\n",
       "    </tr>\n",
       "  </tbody>\n",
       "</table>\n",
       "</div>"
      ],
      "text/plain": [
       "   SeriousDlqin2yrs  ...  NumberOfDependents\n",
       "1                 1  ...                 2.0\n",
       "2                 0  ...                 1.0\n",
       "3                 0  ...                 0.0\n",
       "4                 0  ...                 0.0\n",
       "5                 0  ...                 0.0\n",
       "\n",
       "[5 rows x 11 columns]"
      ]
     },
     "execution_count": 3,
     "metadata": {},
     "output_type": "execute_result"
    }
   ],
   "source": [
    "data = pd.read_csv('cs_data.csv', index_col=0)\n",
    "data.head()"
   ]
  },
  {
   "cell_type": "code",
   "execution_count": null,
   "metadata": {
    "colab": {
     "base_uri": "https://localhost:8080/",
     "height": 337
    },
    "executionInfo": {
     "elapsed": 47,
     "status": "ok",
     "timestamp": 1638153838466,
     "user": {
      "displayName": "김창호",
      "photoUrl": "https://lh3.googleusercontent.com/a/default-user=s64",
      "userId": "09806159714715776157"
     },
     "user_tz": -540
    },
    "id": "nrsdHjlwwjqo",
    "outputId": "7a6ce54c-ca5a-4efa-f079-06aa32282863"
   },
   "outputs": [
    {
     "data": {
      "text/html": [
       "<div>\n",
       "<style scoped>\n",
       "    .dataframe tbody tr th:only-of-type {\n",
       "        vertical-align: middle;\n",
       "    }\n",
       "\n",
       "    .dataframe tbody tr th {\n",
       "        vertical-align: top;\n",
       "    }\n",
       "\n",
       "    .dataframe thead th {\n",
       "        text-align: right;\n",
       "    }\n",
       "</style>\n",
       "<table border=\"1\" class=\"dataframe\">\n",
       "  <thead>\n",
       "    <tr style=\"text-align: right;\">\n",
       "      <th></th>\n",
       "      <th>SeriousDlqin2yrs</th>\n",
       "      <th>RevolvingUtilizationOfUnsecuredLines</th>\n",
       "      <th>age</th>\n",
       "      <th>NumberOfTime30-59DaysPastDueNotWorse</th>\n",
       "      <th>DebtRatio</th>\n",
       "      <th>MonthlyIncome</th>\n",
       "      <th>NumberOfOpenCreditLinesAndLoans</th>\n",
       "      <th>NumberOfTimes90DaysLate</th>\n",
       "      <th>NumberRealEstateLoansOrLines</th>\n",
       "      <th>NumberOfTime60-89DaysPastDueNotWorse</th>\n",
       "      <th>NumberOfDependents</th>\n",
       "    </tr>\n",
       "  </thead>\n",
       "  <tbody>\n",
       "    <tr>\n",
       "      <th>count</th>\n",
       "      <td>150000.000000</td>\n",
       "      <td>150000.000000</td>\n",
       "      <td>150000.000000</td>\n",
       "      <td>150000.000000</td>\n",
       "      <td>150000.000000</td>\n",
       "      <td>1.202690e+05</td>\n",
       "      <td>150000.000000</td>\n",
       "      <td>150000.000000</td>\n",
       "      <td>150000.000000</td>\n",
       "      <td>150000.000000</td>\n",
       "      <td>146076.000000</td>\n",
       "    </tr>\n",
       "    <tr>\n",
       "      <th>mean</th>\n",
       "      <td>0.066840</td>\n",
       "      <td>6.048438</td>\n",
       "      <td>52.295207</td>\n",
       "      <td>0.421033</td>\n",
       "      <td>353.005076</td>\n",
       "      <td>6.670221e+03</td>\n",
       "      <td>8.452760</td>\n",
       "      <td>0.265973</td>\n",
       "      <td>1.018240</td>\n",
       "      <td>0.240387</td>\n",
       "      <td>0.757222</td>\n",
       "    </tr>\n",
       "    <tr>\n",
       "      <th>std</th>\n",
       "      <td>0.249746</td>\n",
       "      <td>249.755371</td>\n",
       "      <td>14.771866</td>\n",
       "      <td>4.192781</td>\n",
       "      <td>2037.818523</td>\n",
       "      <td>1.438467e+04</td>\n",
       "      <td>5.145951</td>\n",
       "      <td>4.169304</td>\n",
       "      <td>1.129771</td>\n",
       "      <td>4.155179</td>\n",
       "      <td>1.115086</td>\n",
       "    </tr>\n",
       "    <tr>\n",
       "      <th>min</th>\n",
       "      <td>0.000000</td>\n",
       "      <td>0.000000</td>\n",
       "      <td>0.000000</td>\n",
       "      <td>0.000000</td>\n",
       "      <td>0.000000</td>\n",
       "      <td>0.000000e+00</td>\n",
       "      <td>0.000000</td>\n",
       "      <td>0.000000</td>\n",
       "      <td>0.000000</td>\n",
       "      <td>0.000000</td>\n",
       "      <td>0.000000</td>\n",
       "    </tr>\n",
       "    <tr>\n",
       "      <th>25%</th>\n",
       "      <td>0.000000</td>\n",
       "      <td>0.029867</td>\n",
       "      <td>41.000000</td>\n",
       "      <td>0.000000</td>\n",
       "      <td>0.175074</td>\n",
       "      <td>3.400000e+03</td>\n",
       "      <td>5.000000</td>\n",
       "      <td>0.000000</td>\n",
       "      <td>0.000000</td>\n",
       "      <td>0.000000</td>\n",
       "      <td>0.000000</td>\n",
       "    </tr>\n",
       "    <tr>\n",
       "      <th>50%</th>\n",
       "      <td>0.000000</td>\n",
       "      <td>0.154181</td>\n",
       "      <td>52.000000</td>\n",
       "      <td>0.000000</td>\n",
       "      <td>0.366508</td>\n",
       "      <td>5.400000e+03</td>\n",
       "      <td>8.000000</td>\n",
       "      <td>0.000000</td>\n",
       "      <td>1.000000</td>\n",
       "      <td>0.000000</td>\n",
       "      <td>0.000000</td>\n",
       "    </tr>\n",
       "    <tr>\n",
       "      <th>75%</th>\n",
       "      <td>0.000000</td>\n",
       "      <td>0.559046</td>\n",
       "      <td>63.000000</td>\n",
       "      <td>0.000000</td>\n",
       "      <td>0.868254</td>\n",
       "      <td>8.249000e+03</td>\n",
       "      <td>11.000000</td>\n",
       "      <td>0.000000</td>\n",
       "      <td>2.000000</td>\n",
       "      <td>0.000000</td>\n",
       "      <td>1.000000</td>\n",
       "    </tr>\n",
       "    <tr>\n",
       "      <th>max</th>\n",
       "      <td>1.000000</td>\n",
       "      <td>50708.000000</td>\n",
       "      <td>109.000000</td>\n",
       "      <td>98.000000</td>\n",
       "      <td>329664.000000</td>\n",
       "      <td>3.008750e+06</td>\n",
       "      <td>58.000000</td>\n",
       "      <td>98.000000</td>\n",
       "      <td>54.000000</td>\n",
       "      <td>98.000000</td>\n",
       "      <td>20.000000</td>\n",
       "    </tr>\n",
       "  </tbody>\n",
       "</table>\n",
       "</div>"
      ],
      "text/plain": [
       "       SeriousDlqin2yrs  ...  NumberOfDependents\n",
       "count     150000.000000  ...       146076.000000\n",
       "mean           0.066840  ...            0.757222\n",
       "std            0.249746  ...            1.115086\n",
       "min            0.000000  ...            0.000000\n",
       "25%            0.000000  ...            0.000000\n",
       "50%            0.000000  ...            0.000000\n",
       "75%            0.000000  ...            1.000000\n",
       "max            1.000000  ...           20.000000\n",
       "\n",
       "[8 rows x 11 columns]"
      ]
     },
     "execution_count": 4,
     "metadata": {},
     "output_type": "execute_result"
    }
   ],
   "source": [
    "data.describe()"
   ]
  },
  {
   "cell_type": "code",
   "execution_count": null,
   "metadata": {
    "colab": {
     "base_uri": "https://localhost:8080/",
     "height": 314
    },
    "executionInfo": {
     "elapsed": 511,
     "status": "ok",
     "timestamp": 1638153838933,
     "user": {
      "displayName": "김창호",
      "photoUrl": "https://lh3.googleusercontent.com/a/default-user=s64",
      "userId": "09806159714715776157"
     },
     "user_tz": -540
    },
    "id": "4YaBkyJU0hLG",
    "outputId": "781a1c83-22a7-426e-adb5-9e955217add6"
   },
   "outputs": [
    {
     "data": {
      "text/plain": [
       "Text(0.5, 1.0, 'Binary Class Comparison')"
      ]
     },
     "execution_count": 5,
     "metadata": {},
     "output_type": "execute_result"
    },
    {
     "data": {
      "image/png": "[encoded data removed]",
      "text/plain": [
       "<Figure size 432x288 with 1 Axes>"
      ]
     },
     "metadata": {},
     "output_type": "display_data"
    }
   ],
   "source": [
    "sns.countplot(x='SeriousDlqin2yrs', data=data, palette='RdBu_r')\n",
    "plt.title('Binary Class Comparison')"
   ]
  },
  {
   "cell_type": "code",
   "execution_count": null,
   "metadata": {
    "colab": {
     "base_uri": "https://localhost:8080/"
    },
    "executionInfo": {
     "elapsed": 41,
     "status": "ok",
     "timestamp": 1638153838934,
     "user": {
      "displayName": "김창호",
      "photoUrl": "https://lh3.googleusercontent.com/a/default-user=s64",
      "userId": "09806159714715776157"
     },
     "user_tz": -540
    },
    "id": "tcKHWzdu0hLJ",
    "outputId": "901c2f77-3a73-40a2-cb68-7cc6b850e802"
   },
   "outputs": [
    {
     "data": {
      "text/plain": [
       "0     142396\n",
       "1       5731\n",
       "2       1118\n",
       "3        318\n",
       "98       264\n",
       "4        105\n",
       "5         34\n",
       "6         16\n",
       "7          9\n",
       "96         5\n",
       "8          2\n",
       "11         1\n",
       "9          1\n",
       "Name: NumberOfTime60-89DaysPastDueNotWorse, dtype: int64"
      ]
     },
     "execution_count": 6,
     "metadata": {},
     "output_type": "execute_result"
    }
   ],
   "source": [
    "data['NumberOfTime60-89DaysPastDueNotWorse'].value_counts()"
   ]
  },
  {
   "cell_type": "code",
   "execution_count": null,
   "metadata": {
    "colab": {
     "base_uri": "https://localhost:8080/"
    },
    "executionInfo": {
     "elapsed": 37,
     "status": "ok",
     "timestamp": 1638153838939,
     "user": {
      "displayName": "김창호",
      "photoUrl": "https://lh3.googleusercontent.com/a/default-user=s64",
      "userId": "09806159714715776157"
     },
     "user_tz": -540
    },
    "id": "Ax0WenAjY4Ag",
    "outputId": "002d2f07-3250-473f-b9d0-2f7a7c45f27b"
   },
   "outputs": [
    {
     "data": {
      "text/plain": [
       "0     141662\n",
       "1       5243\n",
       "2       1555\n",
       "3        667\n",
       "4        291\n",
       "98       264\n",
       "5        131\n",
       "6         80\n",
       "7         38\n",
       "8         21\n",
       "9         19\n",
       "10         8\n",
       "11         5\n",
       "96         5\n",
       "13         4\n",
       "12         2\n",
       "14         2\n",
       "15         2\n",
       "17         1\n",
       "Name: NumberOfTimes90DaysLate, dtype: int64"
      ]
     },
     "execution_count": 7,
     "metadata": {},
     "output_type": "execute_result"
    }
   ],
   "source": [
    "data['NumberOfTimes90DaysLate'].value_counts()"
   ]
  },
  {
   "cell_type": "code",
   "execution_count": null,
   "metadata": {
    "colab": {
     "base_uri": "https://localhost:8080/"
    },
    "executionInfo": {
     "elapsed": 32,
     "status": "ok",
     "timestamp": 1638153838942,
     "user": {
      "displayName": "김창호",
      "photoUrl": "https://lh3.googleusercontent.com/a/default-user=s64",
      "userId": "09806159714715776157"
     },
     "user_tz": -540
    },
    "id": "npsqq2Hk1G61",
    "outputId": "c33bf74c-fa16-421a-cab2-fa2234d2a635"
   },
   "outputs": [
    {
     "data": {
      "text/plain": [
       "0     126018\n",
       "1      16033\n",
       "2       4598\n",
       "3       1754\n",
       "4        747\n",
       "5        342\n",
       "98       264\n",
       "6        140\n",
       "7         54\n",
       "8         25\n",
       "9         12\n",
       "96         5\n",
       "10         4\n",
       "12         2\n",
       "13         1\n",
       "11         1\n",
       "Name: NumberOfTime30-59DaysPastDueNotWorse, dtype: int64"
      ]
     },
     "execution_count": 8,
     "metadata": {},
     "output_type": "execute_result"
    }
   ],
   "source": [
    "data['NumberOfTime30-59DaysPastDueNotWorse'].value_counts()"
   ]
  },
  {
   "cell_type": "code",
   "execution_count": null,
   "metadata": {
    "colab": {
     "base_uri": "https://localhost:8080/"
    },
    "executionInfo": {
     "elapsed": 29,
     "status": "ok",
     "timestamp": 1638153838943,
     "user": {
      "displayName": "김창호",
      "photoUrl": "https://lh3.googleusercontent.com/a/default-user=s64",
      "userId": "09806159714715776157"
     },
     "user_tz": -540
    },
    "id": "W6Widm0d1PIW",
    "outputId": "4d94c892-cbe7-4e7a-a0dd-e4a1e3c231e5"
   },
   "outputs": [
    {
     "data": {
      "text/plain": [
       "0.0     86902\n",
       "1.0     26316\n",
       "2.0     19522\n",
       "3.0      9483\n",
       "4.0      2862\n",
       "5.0       746\n",
       "6.0       158\n",
       "7.0        51\n",
       "8.0        24\n",
       "9.0         5\n",
       "10.0        5\n",
       "13.0        1\n",
       "20.0        1\n",
       "Name: NumberOfDependents, dtype: int64"
      ]
     },
     "execution_count": 9,
     "metadata": {},
     "output_type": "execute_result"
    }
   ],
   "source": [
    "data['NumberOfDependents'].value_counts()"
   ]
  },
  {
   "cell_type": "markdown",
   "metadata": {
    "id": "yk-8Szs20hLS"
   },
   "source": [
    "### **Analysis**\n",
    "- 먼저 data를 load하면서 전체적인 요소 및 값들의 분포를 파악했다.\n",
    "\n",
    "- 첫 번째로 target data (SeriousDlqin2yrs)에 대한 불균형도가 심한 것을 확인 할 수 있다. 이는 추후에 불균형된 학습을 유발 할 수 있으므로, 이를 해소하기 위한 방법으로 imblearn에서 SMOTE 모듈을 이용해 oversampling 통해서 어느 정도 해소해볼 예정이다.\n",
    "\n",
    "- 두 번째로 돈을 연체하게 된 data를 살펴 보았는데, 96과 98이라는 이상치로 보이는 숫자가 있어 이를 값을 대체하거나 삭제할 예정이다."
   ]
  },
  {
   "cell_type": "markdown",
   "metadata": {
    "id": "LZJNMhcpCGOy"
   },
   "source": [
    "## Data Visualization\n",
    "- Data의 각종 요소별 시각화를 진행했다."
   ]
  },
  {
   "cell_type": "code",
   "execution_count": null,
   "metadata": {
    "colab": {
     "base_uri": "https://localhost:8080/",
     "height": 1000
    },
    "executionInfo": {
     "elapsed": 8638,
     "status": "ok",
     "timestamp": 1638153847563,
     "user": {
      "displayName": "김창호",
      "photoUrl": "https://lh3.googleusercontent.com/a/default-user=s64",
      "userId": "09806159714715776157"
     },
     "user_tz": -540
    },
    "id": "az9RsMs40hLU",
    "outputId": "753b1f3c-fefa-4bfb-9a3c-e172a2e38d57"
   },
   "outputs": [
    {
     "data": {
      "image/png": "[encoded data removed]",
      "text/plain": [
       "<Figure size 432x288 with 1 Axes>"
      ]
     },
     "metadata": {},
     "output_type": "display_data"
    },
    {
     "data": {
      "image/png": "[encoded data removed]",
      "text/plain": [
       "<Figure size 432x288 with 1 Axes>"
      ]
     },
     "metadata": {},
     "output_type": "display_data"
    },
    {
     "data": {
      "image/png": "[encoded data removed]",
      "text/plain": [
       "<Figure size 432x288 with 1 Axes>"
      ]
     },
     "metadata": {},
     "output_type": "display_data"
    },
    {
     "data": {
      "image/png": "[encoded data removed]",
      "text/plain": [
       "<Figure size 432x288 with 1 Axes>"
      ]
     },
     "metadata": {},
     "output_type": "display_data"
    },
    {
     "data": {
      "image/png": "[encoded data removed]",
      "text/plain": [
       "<Figure size 432x288 with 1 Axes>"
      ]
     },
     "metadata": {},
     "output_type": "display_data"
    },
    {
     "data": {
      "image/png": "[encoded data removed]",
      "text/plain": [
       "<Figure size 432x288 with 1 Axes>"
      ]
     },
     "metadata": {},
     "output_type": "display_data"
    },
    {
     "data": {
      "image/png": "[encoded data removed]",
      "text/plain": [
       "<Figure size 432x288 with 1 Axes>"
      ]
     },
     "metadata": {},
     "output_type": "display_data"
    },
    {
     "data": {
      "image/png": "[encoded data removed]",
      "text/plain": [
       "<Figure size 432x288 with 1 Axes>"
      ]
     },
     "metadata": {},
     "output_type": "display_data"
    }
   ],
   "source": [
    "# remove target variable Dlqin2yrs and variables with missing values\n",
    "feature_list = list(data.columns.values)\n",
    "remove_list = ['SeriousDlqin2yrs','MonthlyIncome','NumberOfDependents']\n",
    "for each in remove_list:\n",
    "    feature_list.remove(each)\n",
    "\n",
    "for each in feature_list:\n",
    "    sns.histplot(data[each], kde=True, bins=100)\n",
    "    plt.show()"
   ]
  },
  {
   "cell_type": "markdown",
   "metadata": {
    "id": "19Iurs-i0hLW"
   },
   "source": [
    "**Analysis**\n",
    "- RevolvingUtilizationOfUnsecuredLines\n",
    "- NumberOfTime30-59DaysPastDueNotWorse\n",
    "- DebtRatio\n",
    "- NumberOfTimes30DaysLate\n",
    "- NumberRealEstateLoansOrLines\n",
    "- NumberOfTime60-89DaysPastDueNotWorse\n",
    "\n",
    "위의 6가지 속성에 대해서는 매우 편향된 분포를 가지고 있음을 파악할 수 있었다."
   ]
  },
  {
   "cell_type": "markdown",
   "metadata": {
    "id": "b99AuYRm0hLW"
   },
   "source": [
    "### DebtRatio (Boxplot)"
   ]
  },
  {
   "cell_type": "code",
   "execution_count": null,
   "metadata": {
    "colab": {
     "base_uri": "https://localhost:8080/"
    },
    "executionInfo": {
     "elapsed": 34,
     "status": "ok",
     "timestamp": 1638153847566,
     "user": {
      "displayName": "김창호",
      "photoUrl": "https://lh3.googleusercontent.com/a/default-user=s64",
      "userId": "09806159714715776157"
     },
     "user_tz": -540
    },
    "id": "ATsAaAz-CO_a",
    "outputId": "0c4a1fcb-7883-429f-b64b-285702893f6d"
   },
   "outputs": [
    {
     "data": {
      "text/plain": [
       "0.000000    4113\n",
       "1.000000     229\n",
       "4.000000     174\n",
       "2.000000     170\n",
       "3.000000     162\n",
       "            ... \n",
       "0.367271       1\n",
       "0.037634       1\n",
       "0.755290       1\n",
       "0.457568       1\n",
       "0.656276       1\n",
       "Name: DebtRatio, Length: 114194, dtype: int64"
      ]
     },
     "execution_count": 11,
     "metadata": {},
     "output_type": "execute_result"
    }
   ],
   "source": [
    "data['DebtRatio'].value_counts()"
   ]
  },
  {
   "cell_type": "code",
   "execution_count": null,
   "metadata": {
    "colab": {
     "base_uri": "https://localhost:8080/"
    },
    "executionInfo": {
     "elapsed": 34,
     "status": "ok",
     "timestamp": 1638153847572,
     "user": {
      "displayName": "김창호",
      "photoUrl": "https://lh3.googleusercontent.com/a/default-user=s64",
      "userId": "09806159714715776157"
     },
     "user_tz": -540
    },
    "id": "hAcSscXBCcdK",
    "outputId": "874dd4fe-db05-49ef-bd06-82f86973f633"
   },
   "outputs": [
    {
     "data": {
      "text/plain": [
       "SeriousDlqin2yrs  RevolvingUtilizationOfUnsecuredLines  age  NumberOfTime30-59DaysPastDueNotWorse  DebtRatio    MonthlyIncome  NumberOfOpenCreditLinesAndLoans  NumberOfTimes90DaysLate  NumberRealEstateLoansOrLines  NumberOfTime60-89DaysPastDueNotWorse  NumberOfDependents\n",
       "1                 3818.000000                           39   2                                     1.154265     3668.0         12                               1                        2                             0                                     0.0                   1\n",
       "0                 0.105818                              72   0                                     1.668262     626.0          10                               0                        0                             0                                     1.0                   1\n",
       "                  0.102986                              45   0                                     2431.000000  0.0            6                                0                        0                             0                                     0.0                   1\n",
       "                  0.103029                              42   0                                     2071.500000  1.0            9                                0                        2                             0                                     2.0                   1\n",
       "                  0.103063                              41   0                                     1.035629     9654.0         12                               0                        1                             0                                     0.0                   1\n",
       "                                                                                                                                                                                                                                                                                  ..\n",
       "                  0.589138                              35   1                                     1.189962     1852.0         10                               1                        1                             0                                     0.0                   1\n",
       "                  0.589671                              54   0                                     1.056432     4500.0         10                               0                        2                             0                                     0.0                   1\n",
       "                  0.590126                              63   0                                     49.745098    50.0           4                                0                        1                             0                                     0.0                   1\n",
       "                  0.590282                              37   0                                     1.343828     2000.0         4                                0                        1                             0                                     1.0                   1\n",
       "                  0.000000                              21   0                                     2.000000     1.0            1                                0                        0                             0                                     0.0                   1\n",
       "Length: 7233, dtype: int64"
      ]
     },
     "execution_count": 12,
     "metadata": {},
     "output_type": "execute_result"
    }
   ],
   "source": [
    "data[data['DebtRatio'] > 1].value_counts()"
   ]
  },
  {
   "cell_type": "code",
   "execution_count": null,
   "metadata": {
    "colab": {
     "base_uri": "https://localhost:8080/",
     "height": 281
    },
    "executionInfo": {
     "elapsed": 29,
     "status": "ok",
     "timestamp": 1638153847576,
     "user": {
      "displayName": "김창호",
      "photoUrl": "https://lh3.googleusercontent.com/a/default-user=s64",
      "userId": "09806159714715776157"
     },
     "user_tz": -540
    },
    "id": "dS5dTzvuC6-6",
    "outputId": "b13877c8-ca19-4b95-9f6c-10915137eea8"
   },
   "outputs": [
    {
     "data": {
      "image/png": "[encoded data removed]",
      "text/plain": [
       "<Figure size 432x288 with 1 Axes>"
      ]
     },
     "metadata": {},
     "output_type": "display_data"
    }
   ],
   "source": [
    "plt.boxplot(data['DebtRatio'])\n",
    "plt.title('DebtRatio')\n",
    "plt.ylim(-0.1, 2)\n",
    "plt.show()"
   ]
  },
  {
   "cell_type": "code",
   "execution_count": null,
   "metadata": {
    "colab": {
     "base_uri": "https://localhost:8080/",
     "height": 295
    },
    "executionInfo": {
     "elapsed": 32,
     "status": "ok",
     "timestamp": 1638153847580,
     "user": {
      "displayName": "김창호",
      "photoUrl": "https://lh3.googleusercontent.com/a/default-user=s64",
      "userId": "09806159714715776157"
     },
     "user_tz": -540
    },
    "id": "_lfZrOQMDNI5",
    "outputId": "8a88662d-8d79-4088-f058-3c6932859c46"
   },
   "outputs": [
    {
     "data": {
      "image/png": "[encoded data removed]",
      "text/plain": [
       "<Figure size 432x288 with 1 Axes>"
      ]
     },
     "metadata": {},
     "output_type": "display_data"
    }
   ],
   "source": [
    "data_sample = data.copy()\n",
    "data_sample['age/20'] = data_sample[['age']].applymap(lambda x : int(x/20))\n",
    "sns.boxplot(x='age/20', y='DebtRatio', data=data_sample)\n",
    "plt.title('DebtRatio')\n",
    "plt.ylim(-0.1, 3.0)\n",
    "plt.show()"
   ]
  },
  {
   "cell_type": "code",
   "execution_count": null,
   "metadata": {
    "colab": {
     "base_uri": "https://localhost:8080/",
     "height": 337
    },
    "executionInfo": {
     "elapsed": 57,
     "status": "ok",
     "timestamp": 1638153848246,
     "user": {
      "displayName": "김창호",
      "photoUrl": "https://lh3.googleusercontent.com/a/default-user=s64",
      "userId": "09806159714715776157"
     },
     "user_tz": -540
    },
    "id": "04pRlcD_0hLb",
    "outputId": "a845983f-92d2-4afa-cbd0-533c9744972b"
   },
   "outputs": [
    {
     "data": {
      "text/html": [
       "<div>\n",
       "<style scoped>\n",
       "    .dataframe tbody tr th:only-of-type {\n",
       "        vertical-align: middle;\n",
       "    }\n",
       "\n",
       "    .dataframe tbody tr th {\n",
       "        vertical-align: top;\n",
       "    }\n",
       "\n",
       "    .dataframe thead th {\n",
       "        text-align: right;\n",
       "    }\n",
       "</style>\n",
       "<table border=\"1\" class=\"dataframe\">\n",
       "  <thead>\n",
       "    <tr style=\"text-align: right;\">\n",
       "      <th></th>\n",
       "      <th>SeriousDlqin2yrs</th>\n",
       "      <th>RevolvingUtilizationOfUnsecuredLines</th>\n",
       "      <th>age</th>\n",
       "      <th>NumberOfTime30-59DaysPastDueNotWorse</th>\n",
       "      <th>DebtRatio</th>\n",
       "      <th>MonthlyIncome</th>\n",
       "      <th>NumberOfOpenCreditLinesAndLoans</th>\n",
       "      <th>NumberOfTimes90DaysLate</th>\n",
       "      <th>NumberRealEstateLoansOrLines</th>\n",
       "      <th>NumberOfTime60-89DaysPastDueNotWorse</th>\n",
       "      <th>NumberOfDependents</th>\n",
       "      <th>age/20</th>\n",
       "    </tr>\n",
       "  </thead>\n",
       "  <tbody>\n",
       "    <tr>\n",
       "      <th>count</th>\n",
       "      <td>14056.000000</td>\n",
       "      <td>14056.000000</td>\n",
       "      <td>14056.000000</td>\n",
       "      <td>14056.000000</td>\n",
       "      <td>14056.000000</td>\n",
       "      <td>1934.000000</td>\n",
       "      <td>14056.000000</td>\n",
       "      <td>14056.000000</td>\n",
       "      <td>14056.000000</td>\n",
       "      <td>14056.000000</td>\n",
       "      <td>12228.000000</td>\n",
       "      <td>14056.000000</td>\n",
       "    </tr>\n",
       "    <tr>\n",
       "      <th>mean</th>\n",
       "      <td>0.029240</td>\n",
       "      <td>4.702026</td>\n",
       "      <td>69.641577</td>\n",
       "      <td>0.149260</td>\n",
       "      <td>1348.151022</td>\n",
       "      <td>2236.593588</td>\n",
       "      <td>8.244806</td>\n",
       "      <td>0.050797</td>\n",
       "      <td>0.938745</td>\n",
       "      <td>0.041121</td>\n",
       "      <td>0.166667</td>\n",
       "      <td>3.131759</td>\n",
       "    </tr>\n",
       "    <tr>\n",
       "      <th>std</th>\n",
       "      <td>0.168485</td>\n",
       "      <td>146.801266</td>\n",
       "      <td>7.879031</td>\n",
       "      <td>0.995645</td>\n",
       "      <td>4683.580781</td>\n",
       "      <td>3121.107817</td>\n",
       "      <td>5.183441</td>\n",
       "      <td>0.893541</td>\n",
       "      <td>1.218564</td>\n",
       "      <td>0.860461</td>\n",
       "      <td>0.531369</td>\n",
       "      <td>0.339710</td>\n",
       "    </tr>\n",
       "    <tr>\n",
       "      <th>min</th>\n",
       "      <td>0.000000</td>\n",
       "      <td>0.000000</td>\n",
       "      <td>60.000000</td>\n",
       "      <td>0.000000</td>\n",
       "      <td>1.000874</td>\n",
       "      <td>0.000000</td>\n",
       "      <td>0.000000</td>\n",
       "      <td>0.000000</td>\n",
       "      <td>0.000000</td>\n",
       "      <td>0.000000</td>\n",
       "      <td>0.000000</td>\n",
       "      <td>3.000000</td>\n",
       "    </tr>\n",
       "    <tr>\n",
       "      <th>25%</th>\n",
       "      <td>0.000000</td>\n",
       "      <td>0.013231</td>\n",
       "      <td>63.000000</td>\n",
       "      <td>0.000000</td>\n",
       "      <td>36.000000</td>\n",
       "      <td>1.000000</td>\n",
       "      <td>5.000000</td>\n",
       "      <td>0.000000</td>\n",
       "      <td>0.000000</td>\n",
       "      <td>0.000000</td>\n",
       "      <td>0.000000</td>\n",
       "      <td>3.000000</td>\n",
       "    </tr>\n",
       "    <tr>\n",
       "      <th>50%</th>\n",
       "      <td>0.000000</td>\n",
       "      <td>0.050383</td>\n",
       "      <td>68.000000</td>\n",
       "      <td>0.000000</td>\n",
       "      <td>666.000000</td>\n",
       "      <td>1400.000000</td>\n",
       "      <td>7.000000</td>\n",
       "      <td>0.000000</td>\n",
       "      <td>1.000000</td>\n",
       "      <td>0.000000</td>\n",
       "      <td>0.000000</td>\n",
       "      <td>3.000000</td>\n",
       "    </tr>\n",
       "    <tr>\n",
       "      <th>75%</th>\n",
       "      <td>0.000000</td>\n",
       "      <td>0.213127</td>\n",
       "      <td>75.000000</td>\n",
       "      <td>0.000000</td>\n",
       "      <td>1868.000000</td>\n",
       "      <td>3232.250000</td>\n",
       "      <td>11.000000</td>\n",
       "      <td>0.000000</td>\n",
       "      <td>1.000000</td>\n",
       "      <td>0.000000</td>\n",
       "      <td>0.000000</td>\n",
       "      <td>3.000000</td>\n",
       "    </tr>\n",
       "    <tr>\n",
       "      <th>max</th>\n",
       "      <td>1.000000</td>\n",
       "      <td>11553.000000</td>\n",
       "      <td>109.000000</td>\n",
       "      <td>98.000000</td>\n",
       "      <td>329664.000000</td>\n",
       "      <td>70000.000000</td>\n",
       "      <td>45.000000</td>\n",
       "      <td>98.000000</td>\n",
       "      <td>32.000000</td>\n",
       "      <td>98.000000</td>\n",
       "      <td>6.000000</td>\n",
       "      <td>5.000000</td>\n",
       "    </tr>\n",
       "  </tbody>\n",
       "</table>\n",
       "</div>"
      ],
      "text/plain": [
       "       SeriousDlqin2yrs  ...        age/20\n",
       "count      14056.000000  ...  14056.000000\n",
       "mean           0.029240  ...      3.131759\n",
       "std            0.168485  ...      0.339710\n",
       "min            0.000000  ...      3.000000\n",
       "25%            0.000000  ...      3.000000\n",
       "50%            0.000000  ...      3.000000\n",
       "75%            0.000000  ...      3.000000\n",
       "max            1.000000  ...      5.000000\n",
       "\n",
       "[8 rows x 12 columns]"
      ]
     },
     "execution_count": 15,
     "metadata": {},
     "output_type": "execute_result"
    }
   ],
   "source": [
    "data_sample[(data_sample['age/20']>=3) & (data_sample['DebtRatio']>1.)].describe()"
   ]
  },
  {
   "cell_type": "code",
   "execution_count": null,
   "metadata": {
    "id": "Ic2nRo9r0hLc"
   },
   "outputs": [],
   "source": [
    "data.loc[data['age'] == 0, 'age'] = data['age'].median()"
   ]
  },
  {
   "cell_type": "markdown",
   "metadata": {
    "id": "pGT3vjRa0hLd"
   },
   "source": [
    "### **Analysis**\n",
    "violin plot을 이용하여 연령별 DebtRatio를 파악해보았다. 그 결과, 60대 이상 (3번째 boxplot)에서 DebtRatio가 1을 넘어가는 값을 보였다. 이를 통해 data값이 잘못된 것일 지, 이 나이대에 특성이 그러한 지를 파악해 볼 필요가 있어 보였다.\n",
    "\n",
    "그리고 추가적으로 나이가 '0'인 값에 대해서는 있을 수 없는 값으로 판단하여, 중간값으로 대체했다."
   ]
  },
  {
   "cell_type": "markdown",
   "metadata": {
    "id": "2Aj_FrpzuKTO"
   },
   "source": [
    "### RevolvingUtilizationOfUnsecuredLines (Boxplot)"
   ]
  },
  {
   "cell_type": "code",
   "execution_count": null,
   "metadata": {
    "colab": {
     "base_uri": "https://localhost:8080/"
    },
    "executionInfo": {
     "elapsed": 60,
     "status": "ok",
     "timestamp": 1638153848252,
     "user": {
      "displayName": "김창호",
      "photoUrl": "https://lh3.googleusercontent.com/a/default-user=s64",
      "userId": "09806159714715776157"
     },
     "user_tz": -540
    },
    "id": "6jOsaBezCgSE",
    "outputId": "f0e36ae9-5c89-4f03-96c2-489e2d7e33b8"
   },
   "outputs": [
    {
     "data": {
      "text/plain": [
       "count    150000.000000\n",
       "mean          6.048438\n",
       "std         249.755371\n",
       "min           0.000000\n",
       "25%           0.029867\n",
       "50%           0.154181\n",
       "75%           0.559046\n",
       "max       50708.000000\n",
       "Name: RevolvingUtilizationOfUnsecuredLines, dtype: float64"
      ]
     },
     "execution_count": 17,
     "metadata": {},
     "output_type": "execute_result"
    }
   ],
   "source": [
    "data['RevolvingUtilizationOfUnsecuredLines'].describe()"
   ]
  },
  {
   "cell_type": "code",
   "execution_count": null,
   "metadata": {
    "colab": {
     "base_uri": "https://localhost:8080/"
    },
    "executionInfo": {
     "elapsed": 57,
     "status": "ok",
     "timestamp": 1638153848254,
     "user": {
      "displayName": "김창호",
      "photoUrl": "https://lh3.googleusercontent.com/a/default-user=s64",
      "userId": "09806159714715776157"
     },
     "user_tz": -540
    },
    "id": "i8Sgmb2nuKJX",
    "outputId": "9267fcbe-b353-49c9-81df-7b101fe13f54"
   },
   "outputs": [
    {
     "data": {
      "text/plain": [
       "SeriousDlqin2yrs  RevolvingUtilizationOfUnsecuredLines  age  NumberOfTime30-59DaysPastDueNotWorse  DebtRatio  MonthlyIncome  NumberOfOpenCreditLinesAndLoans  NumberOfTimes90DaysLate  NumberRealEstateLoansOrLines  NumberOfTime60-89DaysPastDueNotWorse  NumberOfDependents\n",
       "1                 6190.000000                           27   0                                     0.478532   1280.0         6                                0                        0                             1                                     1.0                   1\n",
       "0                 1.068493                              25   1                                     0.129968   4100.0         2                                0                        0                             0                                     0.0                   1\n",
       "                  1.069572                              45   0                                     0.019954   4810.0         2                                0                        0                             0                                     1.0                   1\n",
       "                  1.069530                              47   1                                     0.059499   8100.0         4                                0                        0                             0                                     0.0                   1\n",
       "                  1.069475                              61   0                                     0.497835   9466.0         17                               0                        2                             0                                     2.0                   1\n",
       "                                                                                                                                                                                                                                                                                ..\n",
       "1                 1.007768                              39   2                                     0.549801   7800.0         20                               0                        2                             1                                     1.0                   1\n",
       "                  1.007764                              61   0                                     0.168556   4146.0         4                                1                        0                             0                                     2.0                   1\n",
       "                  1.007713                              43   0                                     0.235135   3699.0         6                                0                        1                             0                                     0.0                   1\n",
       "                  1.007628                              36   0                                     0.625688   5083.0         18                               8                        1                             0                                     1.0                   1\n",
       "0                 1.000059                              47   0                                     0.375102   9775.0         5                                1                        2                             0                                     3.0                   1\n",
       "Length: 2773, dtype: int64"
      ]
     },
     "execution_count": 18,
     "metadata": {},
     "output_type": "execute_result"
    }
   ],
   "source": [
    "data[data['RevolvingUtilizationOfUnsecuredLines'] > 1].value_counts()"
   ]
  },
  {
   "cell_type": "code",
   "execution_count": null,
   "metadata": {
    "colab": {
     "base_uri": "https://localhost:8080/",
     "height": 281
    },
    "executionInfo": {
     "elapsed": 54,
     "status": "ok",
     "timestamp": 1638153848255,
     "user": {
      "displayName": "김창호",
      "photoUrl": "https://lh3.googleusercontent.com/a/default-user=s64",
      "userId": "09806159714715776157"
     },
     "user_tz": -540
    },
    "id": "KSPre1D-uKA_",
    "outputId": "06822ce4-7c73-4ac6-a97d-d0b1a4467c74"
   },
   "outputs": [
    {
     "data": {
      "image/png": "[encoded data removed]",
      "text/plain": [
       "<Figure size 432x288 with 1 Axes>"
      ]
     },
     "metadata": {},
     "output_type": "display_data"
    }
   ],
   "source": [
    "plt.boxplot(data['RevolvingUtilizationOfUnsecuredLines'])\n",
    "plt.title('RevolvingUtilizationOfUnsecuredLines')\n",
    "plt.ylim(-0.1, 1.5)\n",
    "plt.show()"
   ]
  },
  {
   "cell_type": "code",
   "execution_count": null,
   "metadata": {
    "colab": {
     "base_uri": "https://localhost:8080/",
     "height": 295
    },
    "executionInfo": {
     "elapsed": 57,
     "status": "ok",
     "timestamp": 1638153848260,
     "user": {
      "displayName": "김창호",
      "photoUrl": "https://lh3.googleusercontent.com/a/default-user=s64",
      "userId": "09806159714715776157"
     },
     "user_tz": -540
    },
    "id": "VBvfn_E4zfCu",
    "outputId": "52c76c32-a4c9-4dd4-a42d-da0cbe1f8bf6"
   },
   "outputs": [
    {
     "data": {
      "image/png": "[encoded data removed]",
      "text/plain": [
       "<Figure size 432x288 with 1 Axes>"
      ]
     },
     "metadata": {},
     "output_type": "display_data"
    }
   ],
   "source": [
    "data_sample = data.copy()\n",
    "data_sample['age/20'] = data_sample[['age']].applymap(lambda x : int(x/20))\n",
    "sns.boxplot(x='age/20', y='RevolvingUtilizationOfUnsecuredLines', data=data_sample)\n",
    "plt.title('RevolvingUtilizationOfUnsecuredLines')\n",
    "plt.ylim(-0.1, 1.1)\n",
    "plt.show()"
   ]
  },
  {
   "cell_type": "markdown",
   "metadata": {
    "id": "T7WHVZLD0hLi"
   },
   "source": [
    "### **Analysis**\n",
    "위와 마찬가지로 boxplot을 이용해 연령별로 현재 운용 가능한 현금의 비율을 살펴 보았다. 물론 비율이 1을 넘어가는 값은 이상치라고 생각되며, 적절한 값으로 대체를 하거나 삭제할 필요성은 있어 보인다. 연령은 높아질 수로 현재 운용가능한 현금의 비율이 낮아지는 것을 확인 할 수 있었고, 40~80대에서는 이상치로 판단 되는 값이 많은 것을 또한 확인했다."
   ]
  },
  {
   "cell_type": "markdown",
   "metadata": {
    "id": "rQJsBxesb9JE"
   },
   "source": [
    "### Age (Pie chart)"
   ]
  },
  {
   "cell_type": "code",
   "execution_count": null,
   "metadata": {
    "colab": {
     "base_uri": "https://localhost:8080/",
     "height": 206
    },
    "executionInfo": {
     "elapsed": 54,
     "status": "ok",
     "timestamp": 1638153848262,
     "user": {
      "displayName": "김창호",
      "photoUrl": "https://lh3.googleusercontent.com/a/default-user=s64",
      "userId": "09806159714715776157"
     },
     "user_tz": -540
    },
    "id": "fvHBR2iPEoZt",
    "outputId": "1ed753ed-a8e5-411b-cccb-864c912d03fc"
   },
   "outputs": [
    {
     "data": {
      "text/html": [
       "<div>\n",
       "<style scoped>\n",
       "    .dataframe tbody tr th:only-of-type {\n",
       "        vertical-align: middle;\n",
       "    }\n",
       "\n",
       "    .dataframe tbody tr th {\n",
       "        vertical-align: top;\n",
       "    }\n",
       "\n",
       "    .dataframe thead th {\n",
       "        text-align: right;\n",
       "    }\n",
       "</style>\n",
       "<table border=\"1\" class=\"dataframe\">\n",
       "  <thead>\n",
       "    <tr style=\"text-align: right;\">\n",
       "      <th></th>\n",
       "      <th>age</th>\n",
       "    </tr>\n",
       "  </thead>\n",
       "  <tbody>\n",
       "    <tr>\n",
       "      <th>1</th>\n",
       "      <td>45</td>\n",
       "    </tr>\n",
       "    <tr>\n",
       "      <th>2</th>\n",
       "      <td>40</td>\n",
       "    </tr>\n",
       "    <tr>\n",
       "      <th>3</th>\n",
       "      <td>38</td>\n",
       "    </tr>\n",
       "    <tr>\n",
       "      <th>4</th>\n",
       "      <td>30</td>\n",
       "    </tr>\n",
       "    <tr>\n",
       "      <th>5</th>\n",
       "      <td>49</td>\n",
       "    </tr>\n",
       "  </tbody>\n",
       "</table>\n",
       "</div>"
      ],
      "text/plain": [
       "   age\n",
       "1   45\n",
       "2   40\n",
       "3   38\n",
       "4   30\n",
       "5   49"
      ]
     },
     "execution_count": 21,
     "metadata": {},
     "output_type": "execute_result"
    }
   ],
   "source": [
    "age_df = pd.DataFrame(data.age)\n",
    "age_df.head()"
   ]
  },
  {
   "cell_type": "code",
   "execution_count": null,
   "metadata": {
    "colab": {
     "base_uri": "https://localhost:8080/"
    },
    "executionInfo": {
     "elapsed": 53,
     "status": "ok",
     "timestamp": 1638153848265,
     "user": {
      "displayName": "김창호",
      "photoUrl": "https://lh3.googleusercontent.com/a/default-user=s64",
      "userId": "09806159714715776157"
     },
     "user_tz": -540
    },
    "id": "kmVM_lBIFxhP",
    "outputId": "3547644f-36e4-4c6f-de0d-84dcd772a74f"
   },
   "outputs": [
    {
     "data": {
      "text/plain": [
       "20<=age<40     32003\n",
       "40<=age<60     69679\n",
       "60<=age<80     42506\n",
       "80<=age<100     5799\n",
       "100<=age          13\n",
       "Name: age/20, dtype: int64"
      ]
     },
     "execution_count": 22,
     "metadata": {},
     "output_type": "execute_result"
    }
   ],
   "source": [
    "# 20살 단위로 group화\n",
    "age_df['age/20'] = age_df[['age']].applymap(lambda x : int(x/20))\n",
    "age_df_count = age_df.groupby(['age/20'])['age/20'].count()\n",
    "age_df_count.index = ['20<=age<40', '40<=age<60', '60<=age<80', '80<=age<100', '100<=age']\n",
    "age_df_count.column = ['count']\n",
    "age_df_count"
   ]
  },
  {
   "cell_type": "code",
   "execution_count": null,
   "metadata": {
    "colab": {
     "base_uri": "https://localhost:8080/",
     "height": 373
    },
    "executionInfo": {
     "elapsed": 633,
     "status": "ok",
     "timestamp": 1638153848852,
     "user": {
      "displayName": "김창호",
      "photoUrl": "https://lh3.googleusercontent.com/a/default-user=s64",
      "userId": "09806159714715776157"
     },
     "user_tz": -540
    },
    "id": "LJpBM0M5HnaJ",
    "outputId": "b484432e-310e-4c43-d45c-3b1f10844d58"
   },
   "outputs": [
    {
     "data": {
      "image/png": "[encoded data removed]",
      "text/plain": [
       "<Figure size 504x432 with 1 Axes>"
      ]
     },
     "metadata": {},
     "output_type": "display_data"
    }
   ],
   "source": [
    "# data visualization\n",
    "plt.figure(figsize=(7, 6))\n",
    "plt.pie(age_df_count.values, labels=age_df_count.index, autopct='%1.1f%%')\n",
    "plt.axis('equal')\n",
    "plt.title('age count')\n",
    "plt.show()"
   ]
  },
  {
   "cell_type": "markdown",
   "metadata": {
    "id": "ojwXupIKiWSo"
   },
   "source": [
    "### **Analysis**\n",
    "전체적인 나이 분포를 확인해본 결과, 40 ~ 60살 정도가 46.5% 이상의 높은 비율을 가지고 있었고 다음으로 60 ~ 80살이 28.3%로 40살 이상에서 약 75%가 넘는 분포를 가지고 있었다. 그 다음으로 20 ~ 40살 정도에서 약 21%의 비율을 차지했음을 알 수 있었다."
   ]
  },
  {
   "cell_type": "markdown",
   "metadata": {
    "id": "JN-ezBtki3Cz"
   },
   "source": [
    "### SeriousDlqin2yrs (Violin Plot)"
   ]
  },
  {
   "cell_type": "code",
   "execution_count": null,
   "metadata": {
    "colab": {
     "base_uri": "https://localhost:8080/",
     "height": 206
    },
    "executionInfo": {
     "elapsed": 47,
     "status": "ok",
     "timestamp": 1638153848854,
     "user": {
      "displayName": "김창호",
      "photoUrl": "https://lh3.googleusercontent.com/a/default-user=s64",
      "userId": "09806159714715776157"
     },
     "user_tz": -540
    },
    "id": "tgFx4iHGIJcu",
    "outputId": "1d469c73-d177-4af1-e4c7-8bda3f7c1fa4"
   },
   "outputs": [
    {
     "data": {
      "text/html": [
       "<div>\n",
       "<style scoped>\n",
       "    .dataframe tbody tr th:only-of-type {\n",
       "        vertical-align: middle;\n",
       "    }\n",
       "\n",
       "    .dataframe tbody tr th {\n",
       "        vertical-align: top;\n",
       "    }\n",
       "\n",
       "    .dataframe thead th {\n",
       "        text-align: right;\n",
       "    }\n",
       "</style>\n",
       "<table border=\"1\" class=\"dataframe\">\n",
       "  <thead>\n",
       "    <tr style=\"text-align: right;\">\n",
       "      <th></th>\n",
       "      <th>SeriousDlqin2yrs</th>\n",
       "    </tr>\n",
       "  </thead>\n",
       "  <tbody>\n",
       "    <tr>\n",
       "      <th>1</th>\n",
       "      <td>1</td>\n",
       "    </tr>\n",
       "    <tr>\n",
       "      <th>2</th>\n",
       "      <td>0</td>\n",
       "    </tr>\n",
       "    <tr>\n",
       "      <th>3</th>\n",
       "      <td>0</td>\n",
       "    </tr>\n",
       "    <tr>\n",
       "      <th>4</th>\n",
       "      <td>0</td>\n",
       "    </tr>\n",
       "    <tr>\n",
       "      <th>5</th>\n",
       "      <td>0</td>\n",
       "    </tr>\n",
       "  </tbody>\n",
       "</table>\n",
       "</div>"
      ],
      "text/plain": [
       "   SeriousDlqin2yrs\n",
       "1                 1\n",
       "2                 0\n",
       "3                 0\n",
       "4                 0\n",
       "5                 0"
      ]
     },
     "execution_count": 24,
     "metadata": {},
     "output_type": "execute_result"
    }
   ],
   "source": [
    "df_SeriousDlqin2yrs = pd.DataFrame(data.SeriousDlqin2yrs)\n",
    "df_SeriousDlqin2yrs.head()"
   ]
  },
  {
   "cell_type": "code",
   "execution_count": null,
   "metadata": {
    "colab": {
     "base_uri": "https://localhost:8080/"
    },
    "executionInfo": {
     "elapsed": 46,
     "status": "ok",
     "timestamp": 1638153848856,
     "user": {
      "displayName": "김창호",
      "photoUrl": "https://lh3.googleusercontent.com/a/default-user=s64",
      "userId": "09806159714715776157"
     },
     "user_tz": -540
    },
    "id": "fZPncHkC0hLm",
    "outputId": "0335de90-0a54-4654-91fb-9b759eb53c11"
   },
   "outputs": [
    {
     "data": {
      "text/plain": [
       "0     142396\n",
       "1       5731\n",
       "2       1118\n",
       "3        318\n",
       "98       264\n",
       "4        105\n",
       "5         34\n",
       "6         16\n",
       "7          9\n",
       "96         5\n",
       "8          2\n",
       "11         1\n",
       "9          1\n",
       "Name: NumberOfTime60-89DaysPastDueNotWorse, dtype: int64"
      ]
     },
     "execution_count": 25,
     "metadata": {},
     "output_type": "execute_result"
    }
   ],
   "source": [
    "data['NumberOfTime60-89DaysPastDueNotWorse'].value_counts()"
   ]
  },
  {
   "cell_type": "code",
   "execution_count": null,
   "metadata": {
    "colab": {
     "base_uri": "https://localhost:8080/",
     "height": 677
    },
    "executionInfo": {
     "elapsed": 936,
     "status": "ok",
     "timestamp": 1638153849756,
     "user": {
      "displayName": "김창호",
      "photoUrl": "https://lh3.googleusercontent.com/a/default-user=s64",
      "userId": "09806159714715776157"
     },
     "user_tz": -540
    },
    "id": "JWDZOlXRTdKi",
    "outputId": "cc059846-f6fd-4ac2-8cf9-78f88868aeb2"
   },
   "outputs": [
    {
     "name": "stderr",
     "output_type": "stream",
     "text": [
      "/usr/local/lib/python3.7/dist-packages/seaborn/_decorators.py:43: FutureWarning: Pass the following variables as keyword args: x, y. From version 0.12, the only valid positional argument will be `data`, and passing other arguments without an explicit keyword will result in an error or misinterpretation.\n",
      "  FutureWarning\n"
     ]
    },
    {
     "data": {
      "image/png": "[encoded data removed]",
      "text/plain": [
       "<Figure size 1080x720 with 1 Axes>"
      ]
     },
     "metadata": {},
     "output_type": "display_data"
    }
   ],
   "source": [
    "plt.figure(figsize=(15, 10))\n",
    "sns.violinplot('NumberOfTime60-89DaysPastDueNotWorse', 'age', hue='SeriousDlqin2yrs', data=data[data['NumberOfTime60-89DaysPastDueNotWorse'] < 8])\n",
    "plt.title('SeriousDlqin2yrs')\n",
    "plt.show()"
   ]
  },
  {
   "cell_type": "markdown",
   "metadata": {
    "id": "1xegBzU1mzlP"
   },
   "source": [
    "### **Analysis**\n",
    "violin plot을 이용하여 최근 2년간 60 ~ 89일 연체한 횟수에 따른 2년 동안 90일 이상 연체 여부를 파악해보려고 했다. 하지만 위의 그림과 같이 60 ~ 89일 연체한 횟수에 대해 이상치 (outlier)로 보이는 것이 탐지가 되었다.\n",
    "\n",
    "이를 value_counts()를 통해서 다시 본 결과, 2년간 연체한 횟수가 98, 96번이라는 답변이 **264명과 5명**으로 조사되어 있다는 것을 파악했다. 이에 대한 값을 아예 **삭제를 할 것인지, 아니면 값을 대체할 지를** 결정이 필요해 보인다.\n",
    "\n",
    "그리고 그림을 통해서 outlier 등을 제외한 나머지 분포를 살펴보았을 때에, 연체를 한 사람이 **가운데 연령대**에서 조금 더 높은 비율을 가진 것을 확인했습니다."
   ]
  },
  {
   "cell_type": "markdown",
   "metadata": {
    "id": "RKF-E56jqLju"
   },
   "source": [
    "## 결측치 파악"
   ]
  },
  {
   "cell_type": "code",
   "execution_count": null,
   "metadata": {
    "colab": {
     "base_uri": "https://localhost:8080/"
    },
    "executionInfo": {
     "elapsed": 39,
     "status": "ok",
     "timestamp": 1638153849765,
     "user": {
      "displayName": "김창호",
      "photoUrl": "https://lh3.googleusercontent.com/a/default-user=s64",
      "userId": "09806159714715776157"
     },
     "user_tz": -540
    },
    "id": "99PFeElOEEr1",
    "outputId": "1e364ff6-7d81-4a2a-fed1-1b1a994f86f0"
   },
   "outputs": [
    {
     "name": "stdout",
     "output_type": "stream",
     "text": [
      "<class 'pandas.core.frame.DataFrame'>\n",
      "Int64Index: 150000 entries, 1 to 150000\n",
      "Data columns (total 11 columns):\n",
      " #   Column                                Non-Null Count   Dtype  \n",
      "---  ------                                --------------   -----  \n",
      " 0   SeriousDlqin2yrs                      150000 non-null  int64  \n",
      " 1   RevolvingUtilizationOfUnsecuredLines  150000 non-null  float64\n",
      " 2   age                                   150000 non-null  int64  \n",
      " 3   NumberOfTime30-59DaysPastDueNotWorse  150000 non-null  int64  \n",
      " 4   DebtRatio                             150000 non-null  float64\n",
      " 5   MonthlyIncome                         120269 non-null  float64\n",
      " 6   NumberOfOpenCreditLinesAndLoans       150000 non-null  int64  \n",
      " 7   NumberOfTimes90DaysLate               150000 non-null  int64  \n",
      " 8   NumberRealEstateLoansOrLines          150000 non-null  int64  \n",
      " 9   NumberOfTime60-89DaysPastDueNotWorse  150000 non-null  int64  \n",
      " 10  NumberOfDependents                    146076 non-null  float64\n",
      "dtypes: float64(4), int64(7)\n",
      "memory usage: 18.7 MB\n"
     ]
    }
   ],
   "source": [
    "data.info()"
   ]
  },
  {
   "cell_type": "code",
   "execution_count": null,
   "metadata": {
    "colab": {
     "base_uri": "https://localhost:8080/"
    },
    "executionInfo": {
     "elapsed": 33,
     "status": "ok",
     "timestamp": 1638153849767,
     "user": {
      "displayName": "김창호",
      "photoUrl": "https://lh3.googleusercontent.com/a/default-user=s64",
      "userId": "09806159714715776157"
     },
     "user_tz": -540
    },
    "id": "qcOfoPXrETEK",
    "outputId": "508e603d-4425-4c63-e138-f38bd49ef597"
   },
   "outputs": [
    {
     "data": {
      "text/plain": [
       "SeriousDlqin2yrs                            0\n",
       "RevolvingUtilizationOfUnsecuredLines        0\n",
       "age                                         0\n",
       "NumberOfTime30-59DaysPastDueNotWorse        0\n",
       "DebtRatio                                   0\n",
       "MonthlyIncome                           29731\n",
       "NumberOfOpenCreditLinesAndLoans             0\n",
       "NumberOfTimes90DaysLate                     0\n",
       "NumberRealEstateLoansOrLines                0\n",
       "NumberOfTime60-89DaysPastDueNotWorse        0\n",
       "NumberOfDependents                       3924\n",
       "dtype: int64"
      ]
     },
     "execution_count": 28,
     "metadata": {},
     "output_type": "execute_result"
    }
   ],
   "source": [
    "data.isna().sum()"
   ]
  },
  {
   "cell_type": "markdown",
   "metadata": {
    "id": "Bj7F15r_qTMX"
   },
   "source": [
    "### **Analysis**\n",
    "결측치 (NA)에 대한 분석이다. 총 2개의 요소에서 결측치가 발생했다. (MonthlyIncome, NumberOfDependents) 특히, 월 수입에 대한 결측치는 거의 3만개에 가까운 숫자이기에 삭제하기에는 무리가 있다고 판단되었다. 그리고 부양 가족의 수도 그냥 삭제하기 보다는 데이터 전체의 평균 등으로 대체하여 사용할 예정이다.\n",
    "\n",
    "구체적으로 위의 상관 관계(heat map)에서 볼 수 있듯이, MonthlyIncome은 NumberRealEstateLoansOrLines에서 그나마 높은 상관 관계를 가지기에 각 값 별로 가지고 있는 월 평균 수입을 MonthlyIncome 값으로 대체할 예정이다.\n",
    "\n",
    "다음으로 NumberOfDependents의 경우, age와 음의 상관 관계이지만 관련성이 높아 보이므로 나이대에 따른 NumberOfDependents를 적용하거나 삭제할 예정이다."
   ]
  },
  {
   "cell_type": "markdown",
   "metadata": {
    "id": "htWKvHxBtya5"
   },
   "source": [
    "## Data preprocessing"
   ]
  },
  {
   "cell_type": "code",
   "execution_count": null,
   "metadata": {
    "colab": {
     "base_uri": "https://localhost:8080/",
     "height": 244
    },
    "executionInfo": {
     "elapsed": 29,
     "status": "ok",
     "timestamp": 1638153849769,
     "user": {
      "displayName": "김창호",
      "photoUrl": "https://lh3.googleusercontent.com/a/default-user=s64",
      "userId": "09806159714715776157"
     },
     "user_tz": -540
    },
    "id": "AlUs8Jlz0hLq",
    "outputId": "9446a4db-cdd0-426f-b76c-00354520c1c7"
   },
   "outputs": [
    {
     "data": {
      "text/html": [
       "<div>\n",
       "<style scoped>\n",
       "    .dataframe tbody tr th:only-of-type {\n",
       "        vertical-align: middle;\n",
       "    }\n",
       "\n",
       "    .dataframe tbody tr th {\n",
       "        vertical-align: top;\n",
       "    }\n",
       "\n",
       "    .dataframe thead th {\n",
       "        text-align: right;\n",
       "    }\n",
       "</style>\n",
       "<table border=\"1\" class=\"dataframe\">\n",
       "  <thead>\n",
       "    <tr style=\"text-align: right;\">\n",
       "      <th></th>\n",
       "      <th>SeriousDlqin2yrs</th>\n",
       "      <th>RevolvingUtilizationOfUnsecuredLines</th>\n",
       "      <th>age</th>\n",
       "      <th>NumberOfTime30-59DaysPastDueNotWorse</th>\n",
       "      <th>DebtRatio</th>\n",
       "      <th>MonthlyIncome</th>\n",
       "      <th>NumberOfOpenCreditLinesAndLoans</th>\n",
       "      <th>NumberOfTimes90DaysLate</th>\n",
       "      <th>NumberRealEstateLoansOrLines</th>\n",
       "      <th>NumberOfTime60-89DaysPastDueNotWorse</th>\n",
       "      <th>NumberOfDependents</th>\n",
       "    </tr>\n",
       "  </thead>\n",
       "  <tbody>\n",
       "    <tr>\n",
       "      <th>1</th>\n",
       "      <td>1</td>\n",
       "      <td>0.766127</td>\n",
       "      <td>45</td>\n",
       "      <td>2</td>\n",
       "      <td>0.802982</td>\n",
       "      <td>9120.0</td>\n",
       "      <td>13</td>\n",
       "      <td>0</td>\n",
       "      <td>6</td>\n",
       "      <td>0</td>\n",
       "      <td>2.0</td>\n",
       "    </tr>\n",
       "    <tr>\n",
       "      <th>2</th>\n",
       "      <td>0</td>\n",
       "      <td>0.957151</td>\n",
       "      <td>40</td>\n",
       "      <td>0</td>\n",
       "      <td>0.121876</td>\n",
       "      <td>2600.0</td>\n",
       "      <td>4</td>\n",
       "      <td>0</td>\n",
       "      <td>0</td>\n",
       "      <td>0</td>\n",
       "      <td>1.0</td>\n",
       "    </tr>\n",
       "    <tr>\n",
       "      <th>3</th>\n",
       "      <td>0</td>\n",
       "      <td>0.658180</td>\n",
       "      <td>38</td>\n",
       "      <td>1</td>\n",
       "      <td>0.085113</td>\n",
       "      <td>3042.0</td>\n",
       "      <td>2</td>\n",
       "      <td>1</td>\n",
       "      <td>0</td>\n",
       "      <td>0</td>\n",
       "      <td>0.0</td>\n",
       "    </tr>\n",
       "    <tr>\n",
       "      <th>4</th>\n",
       "      <td>0</td>\n",
       "      <td>0.233810</td>\n",
       "      <td>30</td>\n",
       "      <td>0</td>\n",
       "      <td>0.036050</td>\n",
       "      <td>3300.0</td>\n",
       "      <td>5</td>\n",
       "      <td>0</td>\n",
       "      <td>0</td>\n",
       "      <td>0</td>\n",
       "      <td>0.0</td>\n",
       "    </tr>\n",
       "    <tr>\n",
       "      <th>5</th>\n",
       "      <td>0</td>\n",
       "      <td>0.907239</td>\n",
       "      <td>49</td>\n",
       "      <td>1</td>\n",
       "      <td>0.024926</td>\n",
       "      <td>63588.0</td>\n",
       "      <td>7</td>\n",
       "      <td>0</td>\n",
       "      <td>1</td>\n",
       "      <td>0</td>\n",
       "      <td>0.0</td>\n",
       "    </tr>\n",
       "  </tbody>\n",
       "</table>\n",
       "</div>"
      ],
      "text/plain": [
       "   SeriousDlqin2yrs  ...  NumberOfDependents\n",
       "1                 1  ...                 2.0\n",
       "2                 0  ...                 1.0\n",
       "3                 0  ...                 0.0\n",
       "4                 0  ...                 0.0\n",
       "5                 0  ...                 0.0\n",
       "\n",
       "[5 rows x 11 columns]"
      ]
     },
     "execution_count": 29,
     "metadata": {},
     "output_type": "execute_result"
    }
   ],
   "source": [
    "preprocessing_data = data.copy()\n",
    "preprocessing_data.head()"
   ]
  },
  {
   "cell_type": "code",
   "execution_count": null,
   "metadata": {
    "colab": {
     "base_uri": "https://localhost:8080/",
     "height": 541
    },
    "executionInfo": {
     "elapsed": 1664,
     "status": "ok",
     "timestamp": 1638153851406,
     "user": {
      "displayName": "김창호",
      "photoUrl": "https://lh3.googleusercontent.com/a/default-user=s64",
      "userId": "09806159714715776157"
     },
     "user_tz": -540
    },
    "id": "Oc-AFN5P0hLr",
    "outputId": "d9b40967-1f6d-4d91-bc2c-3ab2ef24a134"
   },
   "outputs": [
    {
     "data": {
      "image/png": "[encoded data removed]",
      "text/plain": [
       "<Figure size 432x288 with 1 Axes>"
      ]
     },
     "metadata": {},
     "output_type": "display_data"
    },
    {
     "data": {
      "image/png": "[encoded data removed]",
      "text/plain": [
       "<Figure size 432x288 with 1 Axes>"
      ]
     },
     "metadata": {},
     "output_type": "display_data"
    }
   ],
   "source": [
    "partial_preprocessing_data = preprocessing_data[['MonthlyIncome','NumberOfDependents']]\n",
    "#partial_preprocessing_data.dropna(how='any')\n",
    "partial_preprocessing_data = partial_preprocessing_data.dropna(how='any')\n",
    "\n",
    "sns.histplot(partial_preprocessing_data['MonthlyIncome'], kde=True, bins=100)\n",
    "plt.show()\n",
    "sns.histplot(partial_preprocessing_data['NumberOfDependents'], kde=True, bins=100)\n",
    "plt.show()"
   ]
  },
  {
   "cell_type": "markdown",
   "metadata": {
    "id": "V6eaaf8G0hLr"
   },
   "source": [
    "### 결측치 처리 : NumberOfDependents"
   ]
  },
  {
   "cell_type": "code",
   "execution_count": null,
   "metadata": {
    "colab": {
     "base_uri": "https://localhost:8080/",
     "height": 244
    },
    "executionInfo": {
     "elapsed": 48,
     "status": "ok",
     "timestamp": 1638153851409,
     "user": {
      "displayName": "김창호",
      "photoUrl": "https://lh3.googleusercontent.com/a/default-user=s64",
      "userId": "09806159714715776157"
     },
     "user_tz": -540
    },
    "id": "4v05_nEJuQHh",
    "outputId": "9828d501-0f6e-4c37-fa06-1d64c89fab38"
   },
   "outputs": [
    {
     "data": {
      "text/html": [
       "<div>\n",
       "<style scoped>\n",
       "    .dataframe tbody tr th:only-of-type {\n",
       "        vertical-align: middle;\n",
       "    }\n",
       "\n",
       "    .dataframe tbody tr th {\n",
       "        vertical-align: top;\n",
       "    }\n",
       "\n",
       "    .dataframe thead th {\n",
       "        text-align: right;\n",
       "    }\n",
       "</style>\n",
       "<table border=\"1\" class=\"dataframe\">\n",
       "  <thead>\n",
       "    <tr style=\"text-align: right;\">\n",
       "      <th></th>\n",
       "      <th>SeriousDlqin2yrs</th>\n",
       "      <th>RevolvingUtilizationOfUnsecuredLines</th>\n",
       "      <th>age</th>\n",
       "      <th>NumberOfTime30-59DaysPastDueNotWorse</th>\n",
       "      <th>DebtRatio</th>\n",
       "      <th>MonthlyIncome</th>\n",
       "      <th>NumberOfOpenCreditLinesAndLoans</th>\n",
       "      <th>NumberOfTimes90DaysLate</th>\n",
       "      <th>NumberRealEstateLoansOrLines</th>\n",
       "      <th>NumberOfTime60-89DaysPastDueNotWorse</th>\n",
       "      <th>NumberOfDependents</th>\n",
       "      <th>age/10</th>\n",
       "    </tr>\n",
       "  </thead>\n",
       "  <tbody>\n",
       "    <tr>\n",
       "      <th>1</th>\n",
       "      <td>1</td>\n",
       "      <td>0.766127</td>\n",
       "      <td>45</td>\n",
       "      <td>2</td>\n",
       "      <td>0.802982</td>\n",
       "      <td>9120.0</td>\n",
       "      <td>13</td>\n",
       "      <td>0</td>\n",
       "      <td>6</td>\n",
       "      <td>0</td>\n",
       "      <td>2.0</td>\n",
       "      <td>4</td>\n",
       "    </tr>\n",
       "    <tr>\n",
       "      <th>2</th>\n",
       "      <td>0</td>\n",
       "      <td>0.957151</td>\n",
       "      <td>40</td>\n",
       "      <td>0</td>\n",
       "      <td>0.121876</td>\n",
       "      <td>2600.0</td>\n",
       "      <td>4</td>\n",
       "      <td>0</td>\n",
       "      <td>0</td>\n",
       "      <td>0</td>\n",
       "      <td>1.0</td>\n",
       "      <td>4</td>\n",
       "    </tr>\n",
       "    <tr>\n",
       "      <th>3</th>\n",
       "      <td>0</td>\n",
       "      <td>0.658180</td>\n",
       "      <td>38</td>\n",
       "      <td>1</td>\n",
       "      <td>0.085113</td>\n",
       "      <td>3042.0</td>\n",
       "      <td>2</td>\n",
       "      <td>1</td>\n",
       "      <td>0</td>\n",
       "      <td>0</td>\n",
       "      <td>0.0</td>\n",
       "      <td>3</td>\n",
       "    </tr>\n",
       "    <tr>\n",
       "      <th>4</th>\n",
       "      <td>0</td>\n",
       "      <td>0.233810</td>\n",
       "      <td>30</td>\n",
       "      <td>0</td>\n",
       "      <td>0.036050</td>\n",
       "      <td>3300.0</td>\n",
       "      <td>5</td>\n",
       "      <td>0</td>\n",
       "      <td>0</td>\n",
       "      <td>0</td>\n",
       "      <td>0.0</td>\n",
       "      <td>3</td>\n",
       "    </tr>\n",
       "    <tr>\n",
       "      <th>5</th>\n",
       "      <td>0</td>\n",
       "      <td>0.907239</td>\n",
       "      <td>49</td>\n",
       "      <td>1</td>\n",
       "      <td>0.024926</td>\n",
       "      <td>63588.0</td>\n",
       "      <td>7</td>\n",
       "      <td>0</td>\n",
       "      <td>1</td>\n",
       "      <td>0</td>\n",
       "      <td>0.0</td>\n",
       "      <td>4</td>\n",
       "    </tr>\n",
       "  </tbody>\n",
       "</table>\n",
       "</div>"
      ],
      "text/plain": [
       "   SeriousDlqin2yrs  ...  age/10\n",
       "1                 1  ...       4\n",
       "2                 0  ...       4\n",
       "3                 0  ...       3\n",
       "4                 0  ...       3\n",
       "5                 0  ...       4\n",
       "\n",
       "[5 rows x 12 columns]"
      ]
     },
     "execution_count": 31,
     "metadata": {},
     "output_type": "execute_result"
    }
   ],
   "source": [
    "preprocessing_data['age/10'] = preprocessing_data[['age']].applymap(lambda x : int(x/10))\n",
    "preprocessing_data.head()"
   ]
  },
  {
   "cell_type": "code",
   "execution_count": null,
   "metadata": {
    "colab": {
     "base_uri": "https://localhost:8080/"
    },
    "executionInfo": {
     "elapsed": 45,
     "status": "ok",
     "timestamp": 1638153851412,
     "user": {
      "displayName": "김창호",
      "photoUrl": "https://lh3.googleusercontent.com/a/default-user=s64",
      "userId": "09806159714715776157"
     },
     "user_tz": -540
    },
    "id": "iNfqozIau-I5",
    "outputId": "a1bd7065-659a-4bb4-b89c-bdfaaeba6176"
   },
   "outputs": [
    {
     "data": {
      "text/plain": [
       "age/10\n",
       "2     0.0\n",
       "3     1.0\n",
       "4     1.0\n",
       "5     1.0\n",
       "6     0.0\n",
       "7     0.0\n",
       "8     0.0\n",
       "9     0.0\n",
       "10    0.0\n",
       "Name: NumberOfDependents, dtype: float64"
      ]
     },
     "execution_count": 32,
     "metadata": {},
     "output_type": "execute_result"
    }
   ],
   "source": [
    "mean_df = preprocessing_data.groupby('age/10')['NumberOfDependents'].mean()\n",
    "mean_df = round(mean_df)\n",
    "mean_df"
   ]
  },
  {
   "cell_type": "code",
   "execution_count": null,
   "metadata": {
    "id": "Tgys-NG9xV2Q"
   },
   "outputs": [],
   "source": [
    "# NumberOfDependents의 결측치 채우기\n",
    "for j in range(0, 11):\n",
    "    for i in mean_df:\n",
    "        preprocessing_data.loc[(preprocessing_data['NumberOfDependents'].isnull()) & (preprocessing_data['age/10'] == j),\n",
    "                    'NumberOfDependents'] = round(i)"
   ]
  },
  {
   "cell_type": "code",
   "execution_count": null,
   "metadata": {
    "colab": {
     "base_uri": "https://localhost:8080/"
    },
    "executionInfo": {
     "elapsed": 39,
     "status": "ok",
     "timestamp": 1638153851415,
     "user": {
      "displayName": "김창호",
      "photoUrl": "https://lh3.googleusercontent.com/a/default-user=s64",
      "userId": "09806159714715776157"
     },
     "user_tz": -540
    },
    "id": "kCnHSnWazfRQ",
    "outputId": "52ae77b1-0803-4922-cf0c-8ac8fe719394"
   },
   "outputs": [
    {
     "name": "stdout",
     "output_type": "stream",
     "text": [
      "<class 'pandas.core.frame.DataFrame'>\n",
      "Int64Index: 150000 entries, 1 to 150000\n",
      "Data columns (total 12 columns):\n",
      " #   Column                                Non-Null Count   Dtype  \n",
      "---  ------                                --------------   -----  \n",
      " 0   SeriousDlqin2yrs                      150000 non-null  int64  \n",
      " 1   RevolvingUtilizationOfUnsecuredLines  150000 non-null  float64\n",
      " 2   age                                   150000 non-null  int64  \n",
      " 3   NumberOfTime30-59DaysPastDueNotWorse  150000 non-null  int64  \n",
      " 4   DebtRatio                             150000 non-null  float64\n",
      " 5   MonthlyIncome                         120269 non-null  float64\n",
      " 6   NumberOfOpenCreditLinesAndLoans       150000 non-null  int64  \n",
      " 7   NumberOfTimes90DaysLate               150000 non-null  int64  \n",
      " 8   NumberRealEstateLoansOrLines          150000 non-null  int64  \n",
      " 9   NumberOfTime60-89DaysPastDueNotWorse  150000 non-null  int64  \n",
      " 10  NumberOfDependents                    150000 non-null  float64\n",
      " 11  age/10                                150000 non-null  int64  \n",
      "dtypes: float64(4), int64(8)\n",
      "memory usage: 19.9 MB\n"
     ]
    }
   ],
   "source": [
    "preprocessing_data.info()"
   ]
  },
  {
   "cell_type": "markdown",
   "metadata": {
    "id": "diur50Xq5ymF"
   },
   "source": [
    "### 결측치 처리 : MonthlyIncome"
   ]
  },
  {
   "cell_type": "code",
   "execution_count": null,
   "metadata": {
    "colab": {
     "base_uri": "https://localhost:8080/"
    },
    "executionInfo": {
     "elapsed": 37,
     "status": "ok",
     "timestamp": 1638153851421,
     "user": {
      "displayName": "김창호",
      "photoUrl": "https://lh3.googleusercontent.com/a/default-user=s64",
      "userId": "09806159714715776157"
     },
     "user_tz": -540
    },
    "id": "4LTvyJMe-TPm",
    "outputId": "802ef070-5dde-4c48-9d5d-93cb326cf402"
   },
   "outputs": [
    {
     "data": {
      "text/plain": [
       "(age/10\n",
       " 2     2999.883430\n",
       " 3     5577.010729\n",
       " 4     7319.504950\n",
       " 5     7854.726798\n",
       " 6     7488.072723\n",
       " 7     5768.068784\n",
       " 8     5313.903383\n",
       " 9     5757.194366\n",
       " 10    1996.800000\n",
       " Name: MonthlyIncome, dtype: float64, (9,))"
      ]
     },
     "execution_count": 35,
     "metadata": {},
     "output_type": "execute_result"
    }
   ],
   "source": [
    "mean_df1 = preprocessing_data.loc[preprocessing_data['SeriousDlqin2yrs'] == 0, 'MonthlyIncome'].groupby(preprocessing_data['age/10']).mean()\n",
    "mean_df1, mean_df1.shape"
   ]
  },
  {
   "cell_type": "code",
   "execution_count": null,
   "metadata": {
    "colab": {
     "base_uri": "https://localhost:8080/"
    },
    "executionInfo": {
     "elapsed": 31,
     "status": "ok",
     "timestamp": 1638153851422,
     "user": {
      "displayName": "김창호",
      "photoUrl": "https://lh3.googleusercontent.com/a/default-user=s64",
      "userId": "09806159714715776157"
     },
     "user_tz": -540
    },
    "id": "X6a3JeJA0hLv",
    "outputId": "fea5a75c-5f0d-4689-8b22-c1bea71f7774"
   },
   "outputs": [
    {
     "data": {
      "text/plain": [
       "(age/10\n",
       " 2     2898.832524\n",
       " 3     5000.628413\n",
       " 4     6131.941922\n",
       " 5     6683.833684\n",
       " 6     6105.761176\n",
       " 7     5363.187500\n",
       " 8     4582.025316\n",
       " 9     8938.375000\n",
       " 10    2883.000000\n",
       " Name: MonthlyIncome, dtype: float64, (9,))"
      ]
     },
     "execution_count": 36,
     "metadata": {},
     "output_type": "execute_result"
    }
   ],
   "source": [
    "mean_df2 = preprocessing_data.loc[preprocessing_data['SeriousDlqin2yrs'] == 1, 'MonthlyIncome'].groupby(preprocessing_data['age/10']).mean()\n",
    "mean_df2, mean_df2.shape"
   ]
  },
  {
   "cell_type": "code",
   "execution_count": null,
   "metadata": {
    "id": "MOWW_AC0_0ds"
   },
   "outputs": [],
   "source": [
    "# MonthlyIncome 결측치 채우기\n",
    "\n",
    "for i in mean_df1:\n",
    "  for j in range(2, 11):\n",
    "    preprocessing_data.loc[(preprocessing_data['SeriousDlqin2yrs'] == 0) & (preprocessing_data['MonthlyIncome'].isnull()) & (preprocessing_data['age/10'] == j),\n",
    "              'MonthlyIncome'] = i\n",
    "\n",
    "for i in mean_df2:\n",
    "  for j in range(2, 11):\n",
    "    preprocessing_data.loc[(preprocessing_data['SeriousDlqin2yrs'] == 1) & (preprocessing_data['MonthlyIncome'].isnull()) & (preprocessing_data['age/10'] == j),\n",
    "              'MonthlyIncome'] = i"
   ]
  },
  {
   "cell_type": "code",
   "execution_count": null,
   "metadata": {
    "colab": {
     "base_uri": "https://localhost:8080/"
    },
    "executionInfo": {
     "elapsed": 89,
     "status": "ok",
     "timestamp": 1638153852360,
     "user": {
      "displayName": "김창호",
      "photoUrl": "https://lh3.googleusercontent.com/a/default-user=s64",
      "userId": "09806159714715776157"
     },
     "user_tz": -540
    },
    "id": "j0IqIaNM0hLv",
    "outputId": "70ddfe6d-a378-4fec-d5b7-395580061697"
   },
   "outputs": [
    {
     "data": {
      "text/plain": [
       "(150000, 11)"
      ]
     },
     "execution_count": 38,
     "metadata": {},
     "output_type": "execute_result"
    }
   ],
   "source": [
    "preprocessing_data.drop('age/10', axis=1, inplace=True)\n",
    "preprocessing_data.shape"
   ]
  },
  {
   "cell_type": "code",
   "execution_count": null,
   "metadata": {
    "colab": {
     "base_uri": "https://localhost:8080/"
    },
    "executionInfo": {
     "elapsed": 88,
     "status": "ok",
     "timestamp": 1638153852362,
     "user": {
      "displayName": "김창호",
      "photoUrl": "https://lh3.googleusercontent.com/a/default-user=s64",
      "userId": "09806159714715776157"
     },
     "user_tz": -540
    },
    "id": "Hsa6J54r52Eu",
    "outputId": "315246c8-955b-4f4e-84ce-c7e2177b18d7"
   },
   "outputs": [
    {
     "data": {
      "text/plain": [
       "SeriousDlqin2yrs                        False\n",
       "RevolvingUtilizationOfUnsecuredLines    False\n",
       "age                                     False\n",
       "NumberOfTime30-59DaysPastDueNotWorse    False\n",
       "DebtRatio                               False\n",
       "MonthlyIncome                           False\n",
       "NumberOfOpenCreditLinesAndLoans         False\n",
       "NumberOfTimes90DaysLate                 False\n",
       "NumberRealEstateLoansOrLines            False\n",
       "NumberOfTime60-89DaysPastDueNotWorse    False\n",
       "NumberOfDependents                      False\n",
       "dtype: bool"
      ]
     },
     "execution_count": 39,
     "metadata": {},
     "output_type": "execute_result"
    }
   ],
   "source": [
    "preprocessing_data.isna().any()"
   ]
  },
  {
   "cell_type": "markdown",
   "metadata": {
    "id": "vcqo0k3m89Jm"
   },
   "source": [
    "### Result\n",
    "NumberOfDependents와 MonthlyIncome의 결측치를 위와 같이 다 채우는 방향으로 진행하였다.\n",
    "\n",
    "구체적으로 NumberOfDependents의 경우에는 age를 10살 기준으로 나누어 각 평균값을 구하고, 각 나이가 해당되는 연령의 결측치에 평균값(int)으로 채웠다.\n",
    "\n",
    "다음으로 MonthlyIncome는 SeriousDlqin2yrs와 연령별 기준에 대한 MonthlyIncome 평균값을 구했다. 이를 각 해당하는 대출 건수에 대한 결측치를 채웠다."
   ]
  },
  {
   "cell_type": "markdown",
   "metadata": {
    "id": "tm7JtSCO-YmE"
   },
   "source": [
    "## Outlier (이상치)"
   ]
  },
  {
   "cell_type": "code",
   "execution_count": null,
   "metadata": {
    "id": "b2UMYNQdwHBC"
   },
   "outputs": [],
   "source": [
    "def get_outlier(df=None, column=None, weight=1.5):\n",
    "  # target 값과 상관관계가 높은 열을 우선적으로 진행\n",
    "  quantile_25 = np.percentile(df[column].values, 25)\n",
    "  quantile_75 = np.percentile(df[column].values, 75)\n",
    "\n",
    "  IQR = quantile_75 - quantile_25\n",
    "  \n",
    "  lowest = quantile_25 - IQR*weight\n",
    "  highest = quantile_75 + IQR*weight\n",
    "  lowest_outlier_idx = df[column][df[column] < lowest].index\n",
    "  highest_outlier_idx = df[column][df[column] > highest].index\n",
    "  return lowest, highest, lowest_outlier_idx, highest_outlier_idx"
   ]
  },
  {
   "cell_type": "markdown",
   "metadata": {
    "id": "SoQeJijbvYbH"
   },
   "source": [
    "### 이상치 제거 : RevolvingUtilizationOfUnsecuredLines\n",
    "\n",
    "- Data 이상치라고 판단되는 값을 Max. value로 대체함"
   ]
  },
  {
   "cell_type": "code",
   "execution_count": null,
   "metadata": {
    "id": "5RmUXIx5aGWj"
   },
   "outputs": [],
   "source": [
    "# replace value\n",
    "preprocessing_data.loc[preprocessing_data['RevolvingUtilizationOfUnsecuredLines'] > 1., 'RevolvingUtilizationOfUnsecuredLines'] = 1."
   ]
  },
  {
   "cell_type": "code",
   "execution_count": null,
   "metadata": {
    "colab": {
     "base_uri": "https://localhost:8080/"
    },
    "executionInfo": {
     "elapsed": 91,
     "status": "ok",
     "timestamp": 1638153852372,
     "user": {
      "displayName": "김창호",
      "photoUrl": "https://lh3.googleusercontent.com/a/default-user=s64",
      "userId": "09806159714715776157"
     },
     "user_tz": -540
    },
    "id": "T3Vq7qv2wqVv",
    "outputId": "1d8d0ea6-4529-4a74-c24a-e4d15a000180"
   },
   "outputs": [
    {
     "data": {
      "text/plain": [
       "Series([], dtype: int64)"
      ]
     },
     "execution_count": 42,
     "metadata": {},
     "output_type": "execute_result"
    }
   ],
   "source": [
    "# 결과 확인\n",
    "preprocessing_data[preprocessing_data['RevolvingUtilizationOfUnsecuredLines'] > 1.].value_counts()"
   ]
  },
  {
   "cell_type": "markdown",
   "metadata": {
    "id": "6yreoaokDmOK"
   },
   "source": [
    "### 이상치 제거 : DebtRatio\n",
    "\n",
    "- Data의 속성상 **Highest** 이상의 숫자는 이상치를 대체함"
   ]
  },
  {
   "cell_type": "code",
   "execution_count": null,
   "metadata": {
    "colab": {
     "base_uri": "https://localhost:8080/"
    },
    "executionInfo": {
     "elapsed": 83,
     "status": "ok",
     "timestamp": 1638153852375,
     "user": {
      "displayName": "김창호",
      "photoUrl": "https://lh3.googleusercontent.com/a/default-user=s64",
      "userId": "09806159714715776157"
     },
     "user_tz": -540
    },
    "id": "OJcb6JVwxmIx",
    "outputId": "25b9939b-5398-4dd3-c10a-fdb8c97e6c0d"
   },
   "outputs": [
    {
     "data": {
      "text/plain": [
       "(-0.8646960792499998,\n",
       " 1.9080236847499998,\n",
       " Int64Index([], dtype='int64'),\n",
       " Int64Index([     7,      9,     15,     17,     33,     42,     45,     51,\n",
       "                 59,     63,\n",
       "             ...\n",
       "             149961, 149964, 149966, 149968, 149976, 149977, 149978, 149985,\n",
       "             149993, 149998],\n",
       "            dtype='int64', length=31311))"
      ]
     },
     "execution_count": 43,
     "metadata": {},
     "output_type": "execute_result"
    }
   ],
   "source": [
    "# lowest, highest value 및 index 확인\n",
    "lowest, highest, lowest_outlier_idx, highest_outlier_idx = get_outlier(preprocessing_data, 'DebtRatio')\n",
    "lowest, highest, lowest_outlier_idx, highest_outlier_idx"
   ]
  },
  {
   "cell_type": "code",
   "execution_count": null,
   "metadata": {
    "id": "A2qz6jGv1BtY"
   },
   "outputs": [],
   "source": [
    "# 이상치 값을 highest로 대체\n",
    "preprocessing_data.loc[highest_outlier_idx, 'DebtRatio'] = highest"
   ]
  },
  {
   "cell_type": "code",
   "execution_count": null,
   "metadata": {
    "colab": {
     "base_uri": "https://localhost:8080/",
     "height": 337
    },
    "executionInfo": {
     "elapsed": 76,
     "status": "ok",
     "timestamp": 1638153852381,
     "user": {
      "displayName": "김창호",
      "photoUrl": "https://lh3.googleusercontent.com/a/default-user=s64",
      "userId": "09806159714715776157"
     },
     "user_tz": -540
    },
    "id": "imvzptgpDaGh",
    "outputId": "ac759bd6-2a4a-4fae-f210-d354b03ab524"
   },
   "outputs": [
    {
     "data": {
      "text/html": [
       "<div>\n",
       "<style scoped>\n",
       "    .dataframe tbody tr th:only-of-type {\n",
       "        vertical-align: middle;\n",
       "    }\n",
       "\n",
       "    .dataframe tbody tr th {\n",
       "        vertical-align: top;\n",
       "    }\n",
       "\n",
       "    .dataframe thead th {\n",
       "        text-align: right;\n",
       "    }\n",
       "</style>\n",
       "<table border=\"1\" class=\"dataframe\">\n",
       "  <thead>\n",
       "    <tr style=\"text-align: right;\">\n",
       "      <th></th>\n",
       "      <th>SeriousDlqin2yrs</th>\n",
       "      <th>RevolvingUtilizationOfUnsecuredLines</th>\n",
       "      <th>age</th>\n",
       "      <th>NumberOfTime30-59DaysPastDueNotWorse</th>\n",
       "      <th>DebtRatio</th>\n",
       "      <th>MonthlyIncome</th>\n",
       "      <th>NumberOfOpenCreditLinesAndLoans</th>\n",
       "      <th>NumberOfTimes90DaysLate</th>\n",
       "      <th>NumberRealEstateLoansOrLines</th>\n",
       "      <th>NumberOfTime60-89DaysPastDueNotWorse</th>\n",
       "      <th>NumberOfDependents</th>\n",
       "    </tr>\n",
       "  </thead>\n",
       "  <tbody>\n",
       "    <tr>\n",
       "      <th>count</th>\n",
       "      <td>150000.000000</td>\n",
       "      <td>150000.000000</td>\n",
       "      <td>150000.000000</td>\n",
       "      <td>150000.000000</td>\n",
       "      <td>150000.000000</td>\n",
       "      <td>1.500000e+05</td>\n",
       "      <td>150000.000000</td>\n",
       "      <td>150000.000000</td>\n",
       "      <td>150000.000000</td>\n",
       "      <td>150000.000000</td>\n",
       "      <td>150000.000000</td>\n",
       "    </tr>\n",
       "    <tr>\n",
       "      <th>mean</th>\n",
       "      <td>0.066840</td>\n",
       "      <td>0.319196</td>\n",
       "      <td>52.295553</td>\n",
       "      <td>0.421033</td>\n",
       "      <td>0.663258</td>\n",
       "      <td>5.941611e+03</td>\n",
       "      <td>8.452760</td>\n",
       "      <td>0.265973</td>\n",
       "      <td>1.018240</td>\n",
       "      <td>0.240387</td>\n",
       "      <td>0.737413</td>\n",
       "    </tr>\n",
       "    <tr>\n",
       "      <th>std</th>\n",
       "      <td>0.249746</td>\n",
       "      <td>0.349481</td>\n",
       "      <td>14.771249</td>\n",
       "      <td>4.192781</td>\n",
       "      <td>0.688085</td>\n",
       "      <td>1.296355e+04</td>\n",
       "      <td>5.145951</td>\n",
       "      <td>4.169304</td>\n",
       "      <td>1.129771</td>\n",
       "      <td>4.155179</td>\n",
       "      <td>1.107021</td>\n",
       "    </tr>\n",
       "    <tr>\n",
       "      <th>min</th>\n",
       "      <td>0.000000</td>\n",
       "      <td>0.000000</td>\n",
       "      <td>21.000000</td>\n",
       "      <td>0.000000</td>\n",
       "      <td>0.000000</td>\n",
       "      <td>0.000000e+00</td>\n",
       "      <td>0.000000</td>\n",
       "      <td>0.000000</td>\n",
       "      <td>0.000000</td>\n",
       "      <td>0.000000</td>\n",
       "      <td>0.000000</td>\n",
       "    </tr>\n",
       "    <tr>\n",
       "      <th>25%</th>\n",
       "      <td>0.000000</td>\n",
       "      <td>0.029867</td>\n",
       "      <td>41.000000</td>\n",
       "      <td>0.000000</td>\n",
       "      <td>0.175074</td>\n",
       "      <td>2.999883e+03</td>\n",
       "      <td>5.000000</td>\n",
       "      <td>0.000000</td>\n",
       "      <td>0.000000</td>\n",
       "      <td>0.000000</td>\n",
       "      <td>0.000000</td>\n",
       "    </tr>\n",
       "    <tr>\n",
       "      <th>50%</th>\n",
       "      <td>0.000000</td>\n",
       "      <td>0.154181</td>\n",
       "      <td>52.000000</td>\n",
       "      <td>0.000000</td>\n",
       "      <td>0.366508</td>\n",
       "      <td>4.357500e+03</td>\n",
       "      <td>8.000000</td>\n",
       "      <td>0.000000</td>\n",
       "      <td>1.000000</td>\n",
       "      <td>0.000000</td>\n",
       "      <td>0.000000</td>\n",
       "    </tr>\n",
       "    <tr>\n",
       "      <th>75%</th>\n",
       "      <td>0.000000</td>\n",
       "      <td>0.559046</td>\n",
       "      <td>63.000000</td>\n",
       "      <td>0.000000</td>\n",
       "      <td>0.868254</td>\n",
       "      <td>7.400000e+03</td>\n",
       "      <td>11.000000</td>\n",
       "      <td>0.000000</td>\n",
       "      <td>2.000000</td>\n",
       "      <td>0.000000</td>\n",
       "      <td>1.000000</td>\n",
       "    </tr>\n",
       "    <tr>\n",
       "      <th>max</th>\n",
       "      <td>1.000000</td>\n",
       "      <td>1.000000</td>\n",
       "      <td>109.000000</td>\n",
       "      <td>98.000000</td>\n",
       "      <td>1.908024</td>\n",
       "      <td>3.008750e+06</td>\n",
       "      <td>58.000000</td>\n",
       "      <td>98.000000</td>\n",
       "      <td>54.000000</td>\n",
       "      <td>98.000000</td>\n",
       "      <td>20.000000</td>\n",
       "    </tr>\n",
       "  </tbody>\n",
       "</table>\n",
       "</div>"
      ],
      "text/plain": [
       "       SeriousDlqin2yrs  ...  NumberOfDependents\n",
       "count     150000.000000  ...       150000.000000\n",
       "mean           0.066840  ...            0.737413\n",
       "std            0.249746  ...            1.107021\n",
       "min            0.000000  ...            0.000000\n",
       "25%            0.000000  ...            0.000000\n",
       "50%            0.000000  ...            0.000000\n",
       "75%            0.000000  ...            1.000000\n",
       "max            1.000000  ...           20.000000\n",
       "\n",
       "[8 rows x 11 columns]"
      ]
     },
     "execution_count": 45,
     "metadata": {},
     "output_type": "execute_result"
    }
   ],
   "source": [
    "# 결과 확인\n",
    "preprocessing_data.describe()"
   ]
  },
  {
   "cell_type": "markdown",
   "metadata": {
    "id": "ErEL1ALAAcGc"
   },
   "source": [
    "### 이상치 제거  : NumberOfTimes90DaysLate\n",
    "\n",
    "- 위에서 확인한 것과 같이 96번과 98번 연체 횟수는 기간적 측면에서 볼 때 말이 되지 않는 값이라 outlier로 판단하고 데이터의 수 측면에서 크지 않다고 생각되어 삭제한다."
   ]
  },
  {
   "cell_type": "code",
   "execution_count": null,
   "metadata": {
    "colab": {
     "base_uri": "https://localhost:8080/",
     "height": 337
    },
    "executionInfo": {
     "elapsed": 85,
     "status": "ok",
     "timestamp": 1638153852391,
     "user": {
      "displayName": "김창호",
      "photoUrl": "https://lh3.googleusercontent.com/a/default-user=s64",
      "userId": "09806159714715776157"
     },
     "user_tz": -540
    },
    "id": "1W2cp8Tb0hL3",
    "outputId": "ddca4ec0-f8a5-4e49-da11-c63ae85213ec"
   },
   "outputs": [
    {
     "data": {
      "text/html": [
       "<div>\n",
       "<style scoped>\n",
       "    .dataframe tbody tr th:only-of-type {\n",
       "        vertical-align: middle;\n",
       "    }\n",
       "\n",
       "    .dataframe tbody tr th {\n",
       "        vertical-align: top;\n",
       "    }\n",
       "\n",
       "    .dataframe thead th {\n",
       "        text-align: right;\n",
       "    }\n",
       "</style>\n",
       "<table border=\"1\" class=\"dataframe\">\n",
       "  <thead>\n",
       "    <tr style=\"text-align: right;\">\n",
       "      <th></th>\n",
       "      <th>SeriousDlqin2yrs</th>\n",
       "      <th>RevolvingUtilizationOfUnsecuredLines</th>\n",
       "      <th>age</th>\n",
       "      <th>NumberOfTime30-59DaysPastDueNotWorse</th>\n",
       "      <th>DebtRatio</th>\n",
       "      <th>MonthlyIncome</th>\n",
       "      <th>NumberOfOpenCreditLinesAndLoans</th>\n",
       "      <th>NumberOfTimes90DaysLate</th>\n",
       "      <th>NumberRealEstateLoansOrLines</th>\n",
       "      <th>NumberOfTime60-89DaysPastDueNotWorse</th>\n",
       "      <th>NumberOfDependents</th>\n",
       "    </tr>\n",
       "  </thead>\n",
       "  <tbody>\n",
       "    <tr>\n",
       "      <th>count</th>\n",
       "      <td>269.000000</td>\n",
       "      <td>2.690000e+02</td>\n",
       "      <td>269.000000</td>\n",
       "      <td>269.000000</td>\n",
       "      <td>269.000000</td>\n",
       "      <td>269.000000</td>\n",
       "      <td>269.000000</td>\n",
       "      <td>269.000000</td>\n",
       "      <td>269.0</td>\n",
       "      <td>269.000000</td>\n",
       "      <td>269.000000</td>\n",
       "    </tr>\n",
       "    <tr>\n",
       "      <th>mean</th>\n",
       "      <td>0.546468</td>\n",
       "      <td>9.999999e-01</td>\n",
       "      <td>34.245353</td>\n",
       "      <td>97.962825</td>\n",
       "      <td>0.202212</td>\n",
       "      <td>2732.623375</td>\n",
       "      <td>0.007435</td>\n",
       "      <td>97.962825</td>\n",
       "      <td>0.0</td>\n",
       "      <td>97.962825</td>\n",
       "      <td>0.327138</td>\n",
       "    </tr>\n",
       "    <tr>\n",
       "      <th>std</th>\n",
       "      <td>0.498764</td>\n",
       "      <td>2.891960e-15</td>\n",
       "      <td>13.061823</td>\n",
       "      <td>0.270628</td>\n",
       "      <td>0.582814</td>\n",
       "      <td>2043.114944</td>\n",
       "      <td>0.086065</td>\n",
       "      <td>0.270628</td>\n",
       "      <td>0.0</td>\n",
       "      <td>0.270628</td>\n",
       "      <td>0.789889</td>\n",
       "    </tr>\n",
       "    <tr>\n",
       "      <th>min</th>\n",
       "      <td>0.000000</td>\n",
       "      <td>9.999999e-01</td>\n",
       "      <td>21.000000</td>\n",
       "      <td>96.000000</td>\n",
       "      <td>0.000000</td>\n",
       "      <td>0.000000</td>\n",
       "      <td>0.000000</td>\n",
       "      <td>96.000000</td>\n",
       "      <td>0.0</td>\n",
       "      <td>96.000000</td>\n",
       "      <td>0.000000</td>\n",
       "    </tr>\n",
       "    <tr>\n",
       "      <th>25%</th>\n",
       "      <td>0.000000</td>\n",
       "      <td>9.999999e-01</td>\n",
       "      <td>24.000000</td>\n",
       "      <td>98.000000</td>\n",
       "      <td>0.000000</td>\n",
       "      <td>2000.000000</td>\n",
       "      <td>0.000000</td>\n",
       "      <td>98.000000</td>\n",
       "      <td>0.0</td>\n",
       "      <td>98.000000</td>\n",
       "      <td>0.000000</td>\n",
       "    </tr>\n",
       "    <tr>\n",
       "      <th>50%</th>\n",
       "      <td>1.000000</td>\n",
       "      <td>9.999999e-01</td>\n",
       "      <td>29.000000</td>\n",
       "      <td>98.000000</td>\n",
       "      <td>0.000000</td>\n",
       "      <td>2898.832524</td>\n",
       "      <td>0.000000</td>\n",
       "      <td>98.000000</td>\n",
       "      <td>0.0</td>\n",
       "      <td>98.000000</td>\n",
       "      <td>0.000000</td>\n",
       "    </tr>\n",
       "    <tr>\n",
       "      <th>75%</th>\n",
       "      <td>1.000000</td>\n",
       "      <td>9.999999e-01</td>\n",
       "      <td>43.000000</td>\n",
       "      <td>98.000000</td>\n",
       "      <td>0.000000</td>\n",
       "      <td>2999.883430</td>\n",
       "      <td>0.000000</td>\n",
       "      <td>98.000000</td>\n",
       "      <td>0.0</td>\n",
       "      <td>98.000000</td>\n",
       "      <td>0.000000</td>\n",
       "    </tr>\n",
       "    <tr>\n",
       "      <th>max</th>\n",
       "      <td>1.000000</td>\n",
       "      <td>9.999999e-01</td>\n",
       "      <td>79.000000</td>\n",
       "      <td>98.000000</td>\n",
       "      <td>1.908024</td>\n",
       "      <td>28733.000000</td>\n",
       "      <td>1.000000</td>\n",
       "      <td>98.000000</td>\n",
       "      <td>0.0</td>\n",
       "      <td>98.000000</td>\n",
       "      <td>5.000000</td>\n",
       "    </tr>\n",
       "  </tbody>\n",
       "</table>\n",
       "</div>"
      ],
      "text/plain": [
       "       SeriousDlqin2yrs  ...  NumberOfDependents\n",
       "count        269.000000  ...          269.000000\n",
       "mean           0.546468  ...            0.327138\n",
       "std            0.498764  ...            0.789889\n",
       "min            0.000000  ...            0.000000\n",
       "25%            0.000000  ...            0.000000\n",
       "50%            1.000000  ...            0.000000\n",
       "75%            1.000000  ...            0.000000\n",
       "max            1.000000  ...            5.000000\n",
       "\n",
       "[8 rows x 11 columns]"
      ]
     },
     "execution_count": 46,
     "metadata": {},
     "output_type": "execute_result"
    }
   ],
   "source": [
    "preprocessing_data[(preprocessing_data['NumberOfTimes90DaysLate'] == 98 ) | (preprocessing_data['NumberOfTimes90DaysLate'] == 96)].describe()"
   ]
  },
  {
   "cell_type": "code",
   "execution_count": null,
   "metadata": {
    "colab": {
     "base_uri": "https://localhost:8080/"
    },
    "executionInfo": {
     "elapsed": 84,
     "status": "ok",
     "timestamp": 1638153852392,
     "user": {
      "displayName": "김창호",
      "photoUrl": "https://lh3.googleusercontent.com/a/default-user=s64",
      "userId": "09806159714715776157"
     },
     "user_tz": -540
    },
    "id": "xCQyti4PAbbE",
    "outputId": "c8c17711-cd9c-4811-cc51-b8e43f076469"
   },
   "outputs": [
    {
     "data": {
      "text/plain": [
       "((269,), (149731, 11))"
      ]
     },
     "execution_count": 47,
     "metadata": {},
     "output_type": "execute_result"
    }
   ],
   "source": [
    "# 삭제할 index 추출 & 삭제\n",
    "data_del_idx = preprocessing_data[(preprocessing_data['NumberOfTimes90DaysLate'] == 98) | (preprocessing_data['NumberOfTimes90DaysLate'] == 96)].index\n",
    "preprocessing_data.drop(data_del_idx, inplace=True)\n",
    "data_del_idx.shape, preprocessing_data.shape"
   ]
  },
  {
   "cell_type": "code",
   "execution_count": null,
   "metadata": {
    "colab": {
     "base_uri": "https://localhost:8080/"
    },
    "executionInfo": {
     "elapsed": 11,
     "status": "ok",
     "timestamp": 1638153866240,
     "user": {
      "displayName": "김창호",
      "photoUrl": "https://lh3.googleusercontent.com/a/default-user=s64",
      "userId": "09806159714715776157"
     },
     "user_tz": -540
    },
    "id": "-SqFGvirKvES",
    "outputId": "acd4da5e-5786-46f5-f709-6942f3bd6a4f"
   },
   "outputs": [
    {
     "data": {
      "text/plain": [
       "0     141662\n",
       "1       5243\n",
       "2       1555\n",
       "3        667\n",
       "4        291\n",
       "5        131\n",
       "6         80\n",
       "7         38\n",
       "8         21\n",
       "9         19\n",
       "10         8\n",
       "11         5\n",
       "13         4\n",
       "15         2\n",
       "12         2\n",
       "14         2\n",
       "17         1\n",
       "Name: NumberOfTimes90DaysLate, dtype: int64"
      ]
     },
     "execution_count": 49,
     "metadata": {},
     "output_type": "execute_result"
    }
   ],
   "source": [
    "# 결과 확인\n",
    "preprocessing_data['NumberOfTimes90DaysLate'].value_counts()"
   ]
  },
  {
   "cell_type": "markdown",
   "metadata": {
    "id": "ZLUf9knGLDua"
   },
   "source": [
    "### Result\n",
    "\n",
    "- 각 속성에서 이상치로 판단 되는 값을 삭제 또는 대체하는 방향으로 진행.\n",
    " 추가적으로 NumberRealEstateLoansOrLines에 54건수에 대한 데이터가 이상치로 보이지만 큰 영향은 안 줄 것으로 판단하고 진행했으며, 아래와 같이 정제된 data를 통해 다시 descibe 및 correlation을 파악하는 과정을 거침."
   ]
  },
  {
   "cell_type": "code",
   "execution_count": null,
   "metadata": {
    "colab": {
     "base_uri": "https://localhost:8080/",
     "height": 835
    },
    "executionInfo": {
     "elapsed": 1842,
     "status": "ok",
     "timestamp": 1638153868495,
     "user": {
      "displayName": "김창호",
      "photoUrl": "https://lh3.googleusercontent.com/a/default-user=s64",
      "userId": "09806159714715776157"
     },
     "user_tz": -540
    },
    "id": "3NJOUIYo7hSK",
    "outputId": "45835438-b752-480a-bdaa-316ff6fcfbfc"
   },
   "outputs": [
    {
     "data": {
      "text/plain": [
       "<matplotlib.axes._subplots.AxesSubplot at 0x7f5b5f46bed0>"
      ]
     },
     "execution_count": 50,
     "metadata": {},
     "output_type": "execute_result"
    },
    {
     "data": {
      "image/png": "[encoded data removed]",
      "text/plain": [
       "<Figure size 1080x720 with 2 Axes>"
      ]
     },
     "metadata": {},
     "output_type": "display_data"
    }
   ],
   "source": [
    "# column 별 상관 관계 분석\n",
    "df_corr = preprocessing_data.corr()\n",
    "\n",
    "plt.figure(figsize=(15, 10))\n",
    "plt.title('correlation')\n",
    "sns.heatmap(df_corr, \n",
    "            annot = True,      \n",
    "            cmap = 'RdYlBu_r',\n",
    "            fmt='.3f',\n",
    "            vmin = -1, vmax = 1)"
   ]
  },
  {
   "cell_type": "code",
   "execution_count": null,
   "metadata": {
    "id": "mv5aVRDXkj0l"
   },
   "outputs": [],
   "source": [
    "preprocessing_data.to_csv('preprocessing_data_v01.csv', index=False)"
   ]
  },
  {
   "cell_type": "markdown",
   "metadata": {
    "id": "t8HZ-vug0hL6"
   },
   "source": [
    "### **Analysis**\n",
    "각 요소들의 상관관계에 관한 heatmap은 위의 그림과 같다.\n",
    "\n",
    "양의 상관 관계에서는 대표적으로 주택 담보대출을 포함한 부동산 담보 대출 건수(NumberRealEstateLoansOrLines)와 대출자가 보유중인 담보 대출 및 신용 대출 건수(NumberOfOpenCreditLinesAndLoans)가 **0.43** 정도의 상관 관계를 보였다.\n",
    "\n",
    "다음으로 음의 상관 관계는 대표적으로 주택 담보대출을 포함한 부동산 담보 대출 건수 (NumberRealEstateLoansOrLines)와 나이(age)가 **-0.275** 정도를 보였음을 확인 할 수 있었다."
   ]
  },
  {
   "cell_type": "markdown",
   "metadata": {
    "id": "RCMI2sZPsIuV"
   },
   "source": [
    "# 2. Base line model"
   ]
  },
  {
   "cell_type": "markdown",
   "metadata": {
    "id": "jkTr09a6spDm"
   },
   "source": [
    "## 결측치 Preprocessing 적용한 Data 활용"
   ]
  },
  {
   "cell_type": "code",
   "execution_count": null,
   "metadata": {
    "id": "vk_ACTtsssJQ"
   },
   "outputs": [],
   "source": [
    "from sklearn.preprocessing import MinMaxScaler, StandardScaler\n",
    "from sklearn.model_selection import train_test_split\n",
    "\n",
    "from sklearn.tree import DecisionTreeClassifier\n",
    "from sklearn.neighbors import KNeighborsClassifier\n",
    "from sklearn.svm import SVC\n",
    "from sklearn.linear_model import LogisticRegression\n",
    "from sklearn.ensemble import RandomForestClassifier, GradientBoostingClassifier, VotingClassifier\n",
    "from xgboost import XGBClassifier\n",
    "from sklearn.model_selection import GridSearchCV, RandomizedSearchCV\n",
    "from sklearn.pipeline import Pipeline, make_pipeline\n",
    "\n",
    "\n",
    "from imblearn.over_sampling import SMOTE\n",
    "\n",
    "from sklearn.metrics import accuracy_score, precision_score, recall_score, f1_score, plot_roc_curve, plot_confusion_matrix, roc_auc_score"
   ]
  },
  {
   "cell_type": "code",
   "execution_count": null,
   "metadata": {
    "colab": {
     "base_uri": "https://localhost:8080/",
     "height": 244
    },
    "executionInfo": {
     "elapsed": 28,
     "status": "ok",
     "timestamp": 1638156422639,
     "user": {
      "displayName": "김창호",
      "photoUrl": "https://lh3.googleusercontent.com/a/default-user=s64",
      "userId": "09806159714715776157"
     },
     "user_tz": -540
    },
    "id": "_2xAKd8nkj0m",
    "outputId": "bebe29c7-3a13-4aa5-95f9-14c596314ae5"
   },
   "outputs": [
    {
     "data": {
      "text/html": [
       "<div>\n",
       "<style scoped>\n",
       "    .dataframe tbody tr th:only-of-type {\n",
       "        vertical-align: middle;\n",
       "    }\n",
       "\n",
       "    .dataframe tbody tr th {\n",
       "        vertical-align: top;\n",
       "    }\n",
       "\n",
       "    .dataframe thead th {\n",
       "        text-align: right;\n",
       "    }\n",
       "</style>\n",
       "<table border=\"1\" class=\"dataframe\">\n",
       "  <thead>\n",
       "    <tr style=\"text-align: right;\">\n",
       "      <th></th>\n",
       "      <th>SeriousDlqin2yrs</th>\n",
       "      <th>RevolvingUtilizationOfUnsecuredLines</th>\n",
       "      <th>age</th>\n",
       "      <th>NumberOfTime30-59DaysPastDueNotWorse</th>\n",
       "      <th>DebtRatio</th>\n",
       "      <th>MonthlyIncome</th>\n",
       "      <th>NumberOfOpenCreditLinesAndLoans</th>\n",
       "      <th>NumberOfTimes90DaysLate</th>\n",
       "      <th>NumberRealEstateLoansOrLines</th>\n",
       "      <th>NumberOfTime60-89DaysPastDueNotWorse</th>\n",
       "      <th>NumberOfDependents</th>\n",
       "    </tr>\n",
       "  </thead>\n",
       "  <tbody>\n",
       "    <tr>\n",
       "      <th>0</th>\n",
       "      <td>1</td>\n",
       "      <td>0.766127</td>\n",
       "      <td>45</td>\n",
       "      <td>2</td>\n",
       "      <td>0.802982</td>\n",
       "      <td>9120.0</td>\n",
       "      <td>13</td>\n",
       "      <td>0</td>\n",
       "      <td>6</td>\n",
       "      <td>0</td>\n",
       "      <td>2.0</td>\n",
       "    </tr>\n",
       "    <tr>\n",
       "      <th>1</th>\n",
       "      <td>0</td>\n",
       "      <td>0.957151</td>\n",
       "      <td>40</td>\n",
       "      <td>0</td>\n",
       "      <td>0.121876</td>\n",
       "      <td>2600.0</td>\n",
       "      <td>4</td>\n",
       "      <td>0</td>\n",
       "      <td>0</td>\n",
       "      <td>0</td>\n",
       "      <td>1.0</td>\n",
       "    </tr>\n",
       "    <tr>\n",
       "      <th>2</th>\n",
       "      <td>0</td>\n",
       "      <td>0.658180</td>\n",
       "      <td>38</td>\n",
       "      <td>1</td>\n",
       "      <td>0.085113</td>\n",
       "      <td>3042.0</td>\n",
       "      <td>2</td>\n",
       "      <td>1</td>\n",
       "      <td>0</td>\n",
       "      <td>0</td>\n",
       "      <td>0.0</td>\n",
       "    </tr>\n",
       "    <tr>\n",
       "      <th>3</th>\n",
       "      <td>0</td>\n",
       "      <td>0.233810</td>\n",
       "      <td>30</td>\n",
       "      <td>0</td>\n",
       "      <td>0.036050</td>\n",
       "      <td>3300.0</td>\n",
       "      <td>5</td>\n",
       "      <td>0</td>\n",
       "      <td>0</td>\n",
       "      <td>0</td>\n",
       "      <td>0.0</td>\n",
       "    </tr>\n",
       "    <tr>\n",
       "      <th>4</th>\n",
       "      <td>0</td>\n",
       "      <td>0.907239</td>\n",
       "      <td>49</td>\n",
       "      <td>1</td>\n",
       "      <td>0.024926</td>\n",
       "      <td>63588.0</td>\n",
       "      <td>7</td>\n",
       "      <td>0</td>\n",
       "      <td>1</td>\n",
       "      <td>0</td>\n",
       "      <td>0.0</td>\n",
       "    </tr>\n",
       "  </tbody>\n",
       "</table>\n",
       "</div>"
      ],
      "text/plain": [
       "   SeriousDlqin2yrs  ...  NumberOfDependents\n",
       "0                 1  ...                 2.0\n",
       "1                 0  ...                 1.0\n",
       "2                 0  ...                 0.0\n",
       "3                 0  ...                 0.0\n",
       "4                 0  ...                 0.0\n",
       "\n",
       "[5 rows x 11 columns]"
      ]
     },
     "execution_count": 64,
     "metadata": {},
     "output_type": "execute_result"
    }
   ],
   "source": [
    "preprocessing_data = pd.read_csv('preprocessing_data_v01.csv')\n",
    "preprocessing_data.head()"
   ]
  },
  {
   "cell_type": "code",
   "execution_count": null,
   "metadata": {
    "colab": {
     "base_uri": "https://localhost:8080/"
    },
    "executionInfo": {
     "elapsed": 28,
     "status": "ok",
     "timestamp": 1638156422642,
     "user": {
      "displayName": "김창호",
      "photoUrl": "https://lh3.googleusercontent.com/a/default-user=s64",
      "userId": "09806159714715776157"
     },
     "user_tz": -540
    },
    "id": "XMgNw-RBssdG",
    "outputId": "8d9c926e-8000-4f93-a429-b88c11f7ff7c"
   },
   "outputs": [
    {
     "data": {
      "text/plain": [
       "((149731, 10), (149731,))"
      ]
     },
     "execution_count": 65,
     "metadata": {},
     "output_type": "execute_result"
    }
   ],
   "source": [
    "X = preprocessing_data.drop('SeriousDlqin2yrs', axis=1)\n",
    "y = preprocessing_data['SeriousDlqin2yrs']\n",
    "\n",
    "X.shape, y.shape"
   ]
  },
  {
   "cell_type": "code",
   "execution_count": null,
   "metadata": {
    "colab": {
     "base_uri": "https://localhost:8080/"
    },
    "executionInfo": {
     "elapsed": 23,
     "status": "ok",
     "timestamp": 1638156422644,
     "user": {
      "displayName": "김창호",
      "photoUrl": "https://lh3.googleusercontent.com/a/default-user=s64",
      "userId": "09806159714715776157"
     },
     "user_tz": -540
    },
    "id": "0q1WCEfDbSgE",
    "outputId": "b14cfa9a-08eb-416b-9857-3214446478df"
   },
   "outputs": [
    {
     "data": {
      "text/plain": [
       "((179010, 10), (23957, 10), (29947, 10))"
      ]
     },
     "execution_count": 66,
     "metadata": {},
     "output_type": "execute_result"
    }
   ],
   "source": [
    "# train / validataion / test set split & imbalanced data processing\n",
    "X_train, X_test, y_train, y_test = train_test_split(X, y,\n",
    "                                                    test_size=0.2,\n",
    "                                                    random_state=157,\n",
    "                                                    stratify=y\n",
    "                                                    )\n",
    "\n",
    "X_train, X_val, y_train, y_val = train_test_split(X_train, y_train,\n",
    "                                                test_size=0.2,\n",
    "                                                random_state=157,\n",
    "                                                stratify=y_train\n",
    "                                                )\n",
    "\n",
    "smt = SMOTE(random_state=157)\n",
    "X_train, y_train = smt.fit_resample(X_train, y_train)\n",
    "\n",
    "X_train.shape, X_val.shape, X_test.shape"
   ]
  },
  {
   "cell_type": "code",
   "execution_count": null,
   "metadata": {
    "id": "jzouwEvqkj0m"
   },
   "outputs": [],
   "source": [
    "scaler = StandardScaler()\n",
    "\n",
    "knn = make_pipeline(scaler, KNeighborsClassifier())\n",
    "lr = make_pipeline(scaler, LogisticRegression(max_iter=2000, random_state=0))\n",
    "rf = RandomForestClassifier(random_state=0)\n",
    "grb = GradientBoostingClassifier(random_state=0)\n",
    "xgb = XGBClassifier(random_state=0)"
   ]
  },
  {
   "cell_type": "code",
   "execution_count": null,
   "metadata": {
    "colab": {
     "base_uri": "https://localhost:8080/"
    },
    "executionInfo": {
     "elapsed": 61968,
     "status": "ok",
     "timestamp": 1638156484593,
     "user": {
      "displayName": "김창호",
      "photoUrl": "https://lh3.googleusercontent.com/a/default-user=s64",
      "userId": "09806159714715776157"
     },
     "user_tz": -540
    },
    "id": "zca1bgpckj0n",
    "outputId": "f63c888a-4447-4a0c-dc27-caea3ef00728"
   },
   "outputs": [
    {
     "data": {
      "text/plain": [
       "RandomForestClassifier(random_state=0)"
      ]
     },
     "execution_count": 68,
     "metadata": {},
     "output_type": "execute_result"
    }
   ],
   "source": [
    "knn.fit(X_train, y_train)\n",
    "lr.fit(X_train, y_train)\n",
    "xgb.fit(X_train, y_train)\n",
    "grb.fit(X_train, y_train)\n",
    "rf.fit(X_train, y_train)"
   ]
  },
  {
   "cell_type": "code",
   "execution_count": null,
   "metadata": {
    "id": "dRvNCZK2kj0n"
   },
   "outputs": [],
   "source": [
    "base_line = [knn, lr, xgb, grb, rf]\n",
    "model_names = ['KNN', 'LogisticRegression', 'XGBoost', 'GradientBoosting', 'RandomForest']"
   ]
  },
  {
   "cell_type": "code",
   "execution_count": null,
   "metadata": {
    "colab": {
     "base_uri": "https://localhost:8080/"
    },
    "executionInfo": {
     "elapsed": 10255,
     "status": "ok",
     "timestamp": 1638156494804,
     "user": {
      "displayName": "김창호",
      "photoUrl": "https://lh3.googleusercontent.com/a/default-user=s64",
      "userId": "09806159714715776157"
     },
     "user_tz": -540
    },
    "id": "KhvKhV1Vkj0n",
    "outputId": "41a7979e-5957-48fe-b829-96816e498d1f"
   },
   "outputs": [
    {
     "name": "stdout",
     "output_type": "stream",
     "text": [
      "LogisticRegression\n",
      "train정확도:0.754, Test정확도:0.759\t train AUC:0.83, Test AUC:0.842\n",
      "==================================================\n",
      "XGBoost\n",
      "train정확도:0.887, Test정확도:0.885\t train AUC:0.959, Test AUC:0.862\n",
      "==================================================\n",
      "GradientBoosting\n",
      "train정확도:0.888, Test정확도:0.889\t train AUC:0.961, Test AUC:0.868\n",
      "==================================================\n",
      "RandomForest\n",
      "train정확도:1.0, Test정확도:0.908\t train AUC:1.0, Test AUC:0.862\n",
      "==================================================\n"
     ]
    }
   ],
   "source": [
    "for model, name in zip(base_line, model_names):\n",
    "    if name == 'KNN':\n",
    "        continue\n",
    "    pred_train = model.predict(X_train)\n",
    "    pred_test = model.predict(X_test)\n",
    "    \n",
    "    pred_train_proba = model.predict_proba(X_train)\n",
    "    pred_test_proba = model.predict_proba(X_test)\n",
    "    \n",
    "    acc_train = np.round(accuracy_score(y_train,pred_train),3)\n",
    "    acc_test = np.round(accuracy_score(y_test, pred_test), 3)\n",
    "    \n",
    "    auc_train = np.round(roc_auc_score(y_train, pred_train_proba[:, 1]), 3)\n",
    "    auc_test = np.round(roc_auc_score(y_test, pred_test_proba[:, 1]), 3)\n",
    "    \n",
    "    print(f'{name}')\n",
    "    print(f'train정확도:{acc_train}, Test정확도:{acc_test}\\t train AUC:{auc_train}, Test AUC:{auc_test}')\n",
    "    print('='*50)"
   ]
  },
  {
   "cell_type": "markdown",
   "metadata": {
    "id": "sHppirotqvPq"
   },
   "source": [
    "### Results\n",
    "처음 데이터의 경우, 불균형 데이터임을 확인하였기에, 이를 조금 해소하고자 train data에 SMOTE를 통해서 불균형을 어느정도 해소를 했다.\n",
    "\n",
    "GradientBoostingClassifier, RandomForestClassifier, LogisticRegression, KNeighborsClassifier, XGBClassifier 등의 model들을 활용했다. roc_auc_score는 대부분 **0.84 ~ 0.86**정도의 score를 가진 것을 확인했다."
   ]
  },
  {
   "cell_type": "markdown",
   "metadata": {
    "id": "tYGMOwqZ3089"
   },
   "source": [
    "# 3. Hyper-parameter Tuning"
   ]
  },
  {
   "cell_type": "code",
   "execution_count": null,
   "metadata": {
    "colab": {
     "background_save": true
    },
    "id": "KuPjKb9XeNDK",
    "outputId": "827a2a66-5ad2-486c-ae81-1943ce09c152"
   },
   "outputs": [
    {
     "data": {
      "text/plain": [
       "RandomizedSearchCV(cv=4, estimator=GradientBoostingClassifier(random_state=157),\n",
       "                   n_iter=60, n_jobs=-1,\n",
       "                   param_distributions={'learning_rate': [0.1, 0.5, 1],\n",
       "                                        'max_depth': range(1, 4),\n",
       "                                        'n_estimators': range(100, 501, 100),\n",
       "                                        'subsample': [0.5, 0.8, 1]},\n",
       "                   scoring='roc_auc')"
      ]
     },
     "execution_count": null,
     "metadata": {},
     "output_type": "execute_result"
    }
   ],
   "source": [
    "grb = GradientBoostingClassifier(random_state=157)\n",
    "\n",
    "param = {\n",
    "    'learning_rate': [0.1, 0.5, 1],\n",
    "    'n_estimators':range(100, 501, 100),\n",
    "    'max_depth': range(1, 4),\n",
    "    'subsample':[0.5, 0.8, 1]\n",
    "}\n",
    "\n",
    "gs = RandomizedSearchCV(grb, \n",
    "                  param, \n",
    "                  scoring='roc_auc',\n",
    "                  cv=4,\n",
    "                  n_iter=60,\n",
    "                  n_jobs=-1)\n",
    "\n",
    "gs.fit(X_train, y_train)"
   ]
  },
  {
   "cell_type": "code",
   "execution_count": 73,
   "metadata": {
    "colab": {
     "base_uri": "https://localhost:8080/"
    },
    "executionInfo": {
     "elapsed": 516,
     "status": "ok",
     "timestamp": 1638160846845,
     "user": {
      "displayName": "김창호",
      "photoUrl": "https://lh3.googleusercontent.com/a/default-user=s64",
      "userId": "09806159714715776157"
     },
     "user_tz": -540
    },
    "id": "zLIbassReOAq",
    "outputId": "691eae4a-097d-410c-cd7a-0c5083eedc1a"
   },
   "outputs": [
    {
     "data": {
      "text/plain": [
       "(GradientBoostingClassifier(learning_rate=0.5, n_estimators=500,\n",
       "                            random_state=157, subsample=1), 0.969740876237992)"
      ]
     },
     "execution_count": 73,
     "metadata": {},
     "output_type": "execute_result"
    }
   ],
   "source": [
    "gs.best_estimator_, gs.best_score_"
   ]
  },
  {
   "cell_type": "code",
   "execution_count": 74,
   "metadata": {
    "colab": {
     "base_uri": "https://localhost:8080/",
     "height": 556
    },
    "executionInfo": {
     "elapsed": 617,
     "status": "ok",
     "timestamp": 1638160851596,
     "user": {
      "displayName": "김창호",
      "photoUrl": "https://lh3.googleusercontent.com/a/default-user=s64",
      "userId": "09806159714715776157"
     },
     "user_tz": -540
    },
    "id": "_i7ZuTVNeN4y",
    "outputId": "b5db7287-c9c6-42be-fe7d-3e8bcf5c0cec"
   },
   "outputs": [
    {
     "data": {
      "text/html": [
       "<div>\n",
       "<style scoped>\n",
       "    .dataframe tbody tr th:only-of-type {\n",
       "        vertical-align: middle;\n",
       "    }\n",
       "\n",
       "    .dataframe tbody tr th {\n",
       "        vertical-align: top;\n",
       "    }\n",
       "\n",
       "    .dataframe thead th {\n",
       "        text-align: right;\n",
       "    }\n",
       "</style>\n",
       "<table border=\"1\" class=\"dataframe\">\n",
       "  <thead>\n",
       "    <tr style=\"text-align: right;\">\n",
       "      <th></th>\n",
       "      <th>mean_fit_time</th>\n",
       "      <th>std_fit_time</th>\n",
       "      <th>mean_score_time</th>\n",
       "      <th>std_score_time</th>\n",
       "      <th>param_subsample</th>\n",
       "      <th>param_n_estimators</th>\n",
       "      <th>param_max_depth</th>\n",
       "      <th>param_learning_rate</th>\n",
       "      <th>params</th>\n",
       "      <th>split0_test_score</th>\n",
       "      <th>split1_test_score</th>\n",
       "      <th>split2_test_score</th>\n",
       "      <th>split3_test_score</th>\n",
       "      <th>mean_test_score</th>\n",
       "      <th>std_test_score</th>\n",
       "      <th>rank_test_score</th>\n",
       "    </tr>\n",
       "  </thead>\n",
       "  <tbody>\n",
       "    <tr>\n",
       "      <th>30</th>\n",
       "      <td>146.224506</td>\n",
       "      <td>0.568550</td>\n",
       "      <td>0.336336</td>\n",
       "      <td>0.003243</td>\n",
       "      <td>1</td>\n",
       "      <td>500</td>\n",
       "      <td>3</td>\n",
       "      <td>0.5</td>\n",
       "      <td>{'subsample': 1, 'n_estimators': 500, 'max_dep...</td>\n",
       "      <td>0.941013</td>\n",
       "      <td>0.979260</td>\n",
       "      <td>0.979488</td>\n",
       "      <td>0.979202</td>\n",
       "      <td>0.969741</td>\n",
       "      <td>0.016587</td>\n",
       "      <td>1</td>\n",
       "    </tr>\n",
       "    <tr>\n",
       "      <th>5</th>\n",
       "      <td>118.425019</td>\n",
       "      <td>1.055361</td>\n",
       "      <td>0.280186</td>\n",
       "      <td>0.004697</td>\n",
       "      <td>1</td>\n",
       "      <td>400</td>\n",
       "      <td>3</td>\n",
       "      <td>0.5</td>\n",
       "      <td>{'subsample': 1, 'n_estimators': 400, 'max_dep...</td>\n",
       "      <td>0.940439</td>\n",
       "      <td>0.978566</td>\n",
       "      <td>0.978812</td>\n",
       "      <td>0.978440</td>\n",
       "      <td>0.969064</td>\n",
       "      <td>0.016527</td>\n",
       "      <td>2</td>\n",
       "    </tr>\n",
       "    <tr>\n",
       "      <th>10</th>\n",
       "      <td>146.783191</td>\n",
       "      <td>0.499268</td>\n",
       "      <td>0.342001</td>\n",
       "      <td>0.006228</td>\n",
       "      <td>1</td>\n",
       "      <td>500</td>\n",
       "      <td>3</td>\n",
       "      <td>1</td>\n",
       "      <td>{'subsample': 1, 'n_estimators': 500, 'max_dep...</td>\n",
       "      <td>0.939917</td>\n",
       "      <td>0.978117</td>\n",
       "      <td>0.978603</td>\n",
       "      <td>0.979131</td>\n",
       "      <td>0.968942</td>\n",
       "      <td>0.016761</td>\n",
       "      <td>3</td>\n",
       "    </tr>\n",
       "    <tr>\n",
       "      <th>59</th>\n",
       "      <td>126.776067</td>\n",
       "      <td>0.331248</td>\n",
       "      <td>0.293605</td>\n",
       "      <td>0.045393</td>\n",
       "      <td>0.8</td>\n",
       "      <td>500</td>\n",
       "      <td>3</td>\n",
       "      <td>0.5</td>\n",
       "      <td>{'subsample': 0.8, 'n_estimators': 500, 'max_d...</td>\n",
       "      <td>0.941827</td>\n",
       "      <td>0.977538</td>\n",
       "      <td>0.976386</td>\n",
       "      <td>0.979094</td>\n",
       "      <td>0.968711</td>\n",
       "      <td>0.015551</td>\n",
       "      <td>4</td>\n",
       "    </tr>\n",
       "    <tr>\n",
       "      <th>57</th>\n",
       "      <td>87.732888</td>\n",
       "      <td>0.226239</td>\n",
       "      <td>0.216831</td>\n",
       "      <td>0.003192</td>\n",
       "      <td>1</td>\n",
       "      <td>300</td>\n",
       "      <td>3</td>\n",
       "      <td>0.5</td>\n",
       "      <td>{'subsample': 1, 'n_estimators': 300, 'max_dep...</td>\n",
       "      <td>0.939777</td>\n",
       "      <td>0.977484</td>\n",
       "      <td>0.977699</td>\n",
       "      <td>0.977563</td>\n",
       "      <td>0.968130</td>\n",
       "      <td>0.016370</td>\n",
       "      <td>5</td>\n",
       "    </tr>\n",
       "  </tbody>\n",
       "</table>\n",
       "</div>"
      ],
      "text/plain": [
       "    mean_fit_time  std_fit_time  ...  std_test_score  rank_test_score\n",
       "30     146.224506      0.568550  ...        0.016587                1\n",
       "5      118.425019      1.055361  ...        0.016527                2\n",
       "10     146.783191      0.499268  ...        0.016761                3\n",
       "59     126.776067      0.331248  ...        0.015551                4\n",
       "57      87.732888      0.226239  ...        0.016370                5\n",
       "\n",
       "[5 rows x 16 columns]"
      ]
     },
     "execution_count": 74,
     "metadata": {},
     "output_type": "execute_result"
    }
   ],
   "source": [
    "df = pd.DataFrame(gs.cv_results_).sort_values('rank_test_score')\n",
    "df.head()"
   ]
  },
  {
   "cell_type": "code",
   "execution_count": 76,
   "metadata": {
    "colab": {
     "base_uri": "https://localhost:8080/"
    },
    "executionInfo": {
     "elapsed": 3372,
     "status": "ok",
     "timestamp": 1638160888271,
     "user": {
      "displayName": "김창호",
      "photoUrl": "https://lh3.googleusercontent.com/a/default-user=s64",
      "userId": "09806159714715776157"
     },
     "user_tz": -540
    },
    "id": "MMEbY-U7eRTx",
    "outputId": "4b47177c-c868-4fef-b4ae-8a631b308ed6"
   },
   "outputs": [
    {
     "name": "stdout",
     "output_type": "stream",
     "text": [
      "train 정확도:0.924, val 정확도:0.9\t train AUC:0.98, val AUC:0.862\n",
      "==================================================\n"
     ]
    }
   ],
   "source": [
    "best_grb = gs.best_estimator_\n",
    "\n",
    "pred_train = best_grb.predict(X_train)\n",
    "pred_val = best_grb.predict(X_val)\n",
    "\n",
    "pred_train_proba = best_grb.predict_proba(X_train)\n",
    "pred_val_proba = best_grb.predict_proba(X_val)\n",
    "\n",
    "acc_train = np.round(accuracy_score(y_train,pred_train),3)\n",
    "acc_val = np.round(accuracy_score(y_val, pred_val), 3)\n",
    "\n",
    "auc_train = np.round(roc_auc_score(y_train, pred_train_proba[:, 1]), 3)\n",
    "auc_val = np.round(roc_auc_score(y_val, pred_val_proba[:, 1]), 3)\n",
    "\n",
    "print(f'train 정확도:{acc_train}, val 정확도:{acc_val}\\t train AUC:{auc_train}, val AUC:{auc_val}')\n",
    "print('='*50)"
   ]
  },
  {
   "cell_type": "code",
   "execution_count": 86,
   "metadata": {
    "colab": {
     "base_uri": "https://localhost:8080/"
    },
    "executionInfo": {
     "elapsed": 2436419,
     "status": "ok",
     "timestamp": 1638163514827,
     "user": {
      "displayName": "김창호",
      "photoUrl": "https://lh3.googleusercontent.com/a/default-user=s64",
      "userId": "09806159714715776157"
     },
     "user_tz": -540
    },
    "id": "Ey8pcpRA4K6N",
    "outputId": "a9140285-77ec-4ede-a62b-c42c518e253c"
   },
   "outputs": [
    {
     "data": {
      "text/plain": [
       "RandomizedSearchCV(cv=5, estimator=XGBClassifier(random_state=157), n_iter=60,\n",
       "                   n_jobs=-1,\n",
       "                   param_distributions={'learning_rate': [0.01, 0.1, 0.5, 1],\n",
       "                                        'max_depth': range(1, 6),\n",
       "                                        'n_estimators': range(100, 501, 100),\n",
       "                                        'subsample': [0.6, 0.7, 0.8, 0.9, 1]},\n",
       "                   scoring='roc_auc')"
      ]
     },
     "execution_count": 86,
     "metadata": {},
     "output_type": "execute_result"
    }
   ],
   "source": [
    "xgb = XGBClassifier(random_state=157)\n",
    "\n",
    "param = {\n",
    "    'learning_rate':[0.01, 0.1, 0.5, 1],\n",
    "    'n_estimators': range(100, 501, 100),\n",
    "    'max_depth':range(1, 6),\n",
    "    'subsample':[0.6, 0.7, 0.8, 0.9, 1]\n",
    "}\n",
    "\n",
    "gs = RandomizedSearchCV(xgb,\n",
    "                        param, \n",
    "                        n_iter=60, \n",
    "                        scoring='roc_auc',\n",
    "                        cv=5,\n",
    "                        n_jobs=-1)\n",
    "\n",
    "gs.fit(X_train, y_train)"
   ]
  },
  {
   "cell_type": "code",
   "execution_count": 87,
   "metadata": {
    "colab": {
     "base_uri": "https://localhost:8080/"
    },
    "executionInfo": {
     "elapsed": 13,
     "status": "ok",
     "timestamp": 1638163516196,
     "user": {
      "displayName": "김창호",
      "photoUrl": "https://lh3.googleusercontent.com/a/default-user=s64",
      "userId": "09806159714715776157"
     },
     "user_tz": -540
    },
    "id": "6quXCVkV4mlj",
    "outputId": "f7511e67-3b4e-49f1-9c88-40ce105c327f"
   },
   "outputs": [
    {
     "data": {
      "text/plain": [
       "(XGBClassifier(learning_rate=0.5, max_depth=5, n_estimators=400,\n",
       "               random_state=157), 0.9730113754868643)"
      ]
     },
     "execution_count": 87,
     "metadata": {},
     "output_type": "execute_result"
    }
   ],
   "source": [
    "gs.best_estimator_, gs.best_score_"
   ]
  },
  {
   "cell_type": "code",
   "execution_count": 88,
   "metadata": {
    "colab": {
     "base_uri": "https://localhost:8080/",
     "height": 539
    },
    "executionInfo": {
     "elapsed": 10,
     "status": "ok",
     "timestamp": 1638163516198,
     "user": {
      "displayName": "김창호",
      "photoUrl": "https://lh3.googleusercontent.com/a/default-user=s64",
      "userId": "09806159714715776157"
     },
     "user_tz": -540
    },
    "id": "7VJhP0fu4oiV",
    "outputId": "12eda64d-bc92-4e19-848a-0a11ffc93faf"
   },
   "outputs": [
    {
     "data": {
      "text/html": [
       "<div>\n",
       "<style scoped>\n",
       "    .dataframe tbody tr th:only-of-type {\n",
       "        vertical-align: middle;\n",
       "    }\n",
       "\n",
       "    .dataframe tbody tr th {\n",
       "        vertical-align: top;\n",
       "    }\n",
       "\n",
       "    .dataframe thead th {\n",
       "        text-align: right;\n",
       "    }\n",
       "</style>\n",
       "<table border=\"1\" class=\"dataframe\">\n",
       "  <thead>\n",
       "    <tr style=\"text-align: right;\">\n",
       "      <th></th>\n",
       "      <th>mean_fit_time</th>\n",
       "      <th>std_fit_time</th>\n",
       "      <th>mean_score_time</th>\n",
       "      <th>std_score_time</th>\n",
       "      <th>param_subsample</th>\n",
       "      <th>param_n_estimators</th>\n",
       "      <th>param_max_depth</th>\n",
       "      <th>param_learning_rate</th>\n",
       "      <th>params</th>\n",
       "      <th>split0_test_score</th>\n",
       "      <th>split1_test_score</th>\n",
       "      <th>split2_test_score</th>\n",
       "      <th>split3_test_score</th>\n",
       "      <th>split4_test_score</th>\n",
       "      <th>mean_test_score</th>\n",
       "      <th>std_test_score</th>\n",
       "      <th>rank_test_score</th>\n",
       "    </tr>\n",
       "  </thead>\n",
       "  <tbody>\n",
       "    <tr>\n",
       "      <th>6</th>\n",
       "      <td>67.293765</td>\n",
       "      <td>0.555531</td>\n",
       "      <td>0.707168</td>\n",
       "      <td>0.011798</td>\n",
       "      <td>1</td>\n",
       "      <td>400</td>\n",
       "      <td>5</td>\n",
       "      <td>0.5</td>\n",
       "      <td>{'subsample': 1, 'n_estimators': 400, 'max_dep...</td>\n",
       "      <td>0.940105</td>\n",
       "      <td>0.981357</td>\n",
       "      <td>0.981717</td>\n",
       "      <td>0.980521</td>\n",
       "      <td>0.981357</td>\n",
       "      <td>0.973011</td>\n",
       "      <td>0.016458</td>\n",
       "      <td>1</td>\n",
       "    </tr>\n",
       "    <tr>\n",
       "      <th>30</th>\n",
       "      <td>67.122664</td>\n",
       "      <td>0.330868</td>\n",
       "      <td>0.723603</td>\n",
       "      <td>0.012334</td>\n",
       "      <td>1</td>\n",
       "      <td>400</td>\n",
       "      <td>5</td>\n",
       "      <td>1</td>\n",
       "      <td>{'subsample': 1, 'n_estimators': 400, 'max_dep...</td>\n",
       "      <td>0.939573</td>\n",
       "      <td>0.980810</td>\n",
       "      <td>0.981547</td>\n",
       "      <td>0.980650</td>\n",
       "      <td>0.981070</td>\n",
       "      <td>0.972730</td>\n",
       "      <td>0.016581</td>\n",
       "      <td>2</td>\n",
       "    </tr>\n",
       "    <tr>\n",
       "      <th>15</th>\n",
       "      <td>50.690839</td>\n",
       "      <td>0.381360</td>\n",
       "      <td>0.539658</td>\n",
       "      <td>0.009842</td>\n",
       "      <td>1</td>\n",
       "      <td>300</td>\n",
       "      <td>5</td>\n",
       "      <td>0.5</td>\n",
       "      <td>{'subsample': 1, 'n_estimators': 300, 'max_dep...</td>\n",
       "      <td>0.938613</td>\n",
       "      <td>0.980221</td>\n",
       "      <td>0.980611</td>\n",
       "      <td>0.979015</td>\n",
       "      <td>0.980234</td>\n",
       "      <td>0.971739</td>\n",
       "      <td>0.016572</td>\n",
       "      <td>3</td>\n",
       "    </tr>\n",
       "    <tr>\n",
       "      <th>21</th>\n",
       "      <td>52.620137</td>\n",
       "      <td>0.198131</td>\n",
       "      <td>0.542203</td>\n",
       "      <td>0.005160</td>\n",
       "      <td>0.9</td>\n",
       "      <td>300</td>\n",
       "      <td>5</td>\n",
       "      <td>0.5</td>\n",
       "      <td>{'subsample': 0.9, 'n_estimators': 300, 'max_d...</td>\n",
       "      <td>0.938627</td>\n",
       "      <td>0.979420</td>\n",
       "      <td>0.980127</td>\n",
       "      <td>0.978851</td>\n",
       "      <td>0.980004</td>\n",
       "      <td>0.971406</td>\n",
       "      <td>0.016396</td>\n",
       "      <td>4</td>\n",
       "    </tr>\n",
       "    <tr>\n",
       "      <th>0</th>\n",
       "      <td>76.175737</td>\n",
       "      <td>0.459710</td>\n",
       "      <td>0.753938</td>\n",
       "      <td>0.017287</td>\n",
       "      <td>0.6</td>\n",
       "      <td>400</td>\n",
       "      <td>5</td>\n",
       "      <td>0.5</td>\n",
       "      <td>{'subsample': 0.6, 'n_estimators': 400, 'max_d...</td>\n",
       "      <td>0.938162</td>\n",
       "      <td>0.978406</td>\n",
       "      <td>0.979942</td>\n",
       "      <td>0.979334</td>\n",
       "      <td>0.979753</td>\n",
       "      <td>0.971120</td>\n",
       "      <td>0.016487</td>\n",
       "      <td>5</td>\n",
       "    </tr>\n",
       "  </tbody>\n",
       "</table>\n",
       "</div>"
      ],
      "text/plain": [
       "    mean_fit_time  std_fit_time  ...  std_test_score  rank_test_score\n",
       "6       67.293765      0.555531  ...        0.016458                1\n",
       "30      67.122664      0.330868  ...        0.016581                2\n",
       "15      50.690839      0.381360  ...        0.016572                3\n",
       "21      52.620137      0.198131  ...        0.016396                4\n",
       "0       76.175737      0.459710  ...        0.016487                5\n",
       "\n",
       "[5 rows x 17 columns]"
      ]
     },
     "execution_count": 88,
     "metadata": {},
     "output_type": "execute_result"
    }
   ],
   "source": [
    "df = pd.DataFrame(gs.cv_results_).sort_values('rank_test_score')\n",
    "df.head()"
   ]
  },
  {
   "cell_type": "code",
   "execution_count": 89,
   "metadata": {
    "colab": {
     "base_uri": "https://localhost:8080/"
    },
    "executionInfo": {
     "elapsed": 3566,
     "status": "ok",
     "timestamp": 1638163519756,
     "user": {
      "displayName": "김창호",
      "photoUrl": "https://lh3.googleusercontent.com/a/default-user=s64",
      "userId": "09806159714715776157"
     },
     "user_tz": -540
    },
    "id": "S-F8-jZ14qps",
    "outputId": "23746684-6b35-41fa-aaab-6010123f0238"
   },
   "outputs": [
    {
     "name": "stdout",
     "output_type": "stream",
     "text": [
      "train 정확도:0.924, val 정확도:0.9\t train AUC:0.985, val AUC:0.866\n",
      "==================================================\n"
     ]
    }
   ],
   "source": [
    "best_xgb = gs.best_estimator_\n",
    "\n",
    "pred_train_proba = best_xgb.predict_proba(X_train)\n",
    "pred_val_proba = best_xgb.predict_proba(X_val)\n",
    "\n",
    "acc_train = np.round(accuracy_score(y_train,pred_train),3)\n",
    "acc_val = np.round(accuracy_score(y_val, pred_val), 3)\n",
    "\n",
    "auc_train = np.round(roc_auc_score(y_train, pred_train_proba[:, 1]), 3)\n",
    "auc_val = np.round(roc_auc_score(y_val, pred_val_proba[:, 1]), 3)\n",
    "\n",
    "print(f'train 정확도:{acc_train}, val 정확도:{acc_val}\\t train AUC:{auc_train}, val AUC:{auc_val}')\n",
    "print('='*50)"
   ]
  },
  {
   "cell_type": "code",
   "execution_count": 90,
   "metadata": {
    "colab": {
     "base_uri": "https://localhost:8080/"
    },
    "executionInfo": {
     "elapsed": 16889,
     "status": "ok",
     "timestamp": 1638163555013,
     "user": {
      "displayName": "김창호",
      "photoUrl": "https://lh3.googleusercontent.com/a/default-user=s64",
      "userId": "09806159714715776157"
     },
     "user_tz": -540
    },
    "id": "Tvpt_GqmsHvS",
    "outputId": "4aa55756-ff41-4891-a3b4-ebb6d64f5ffe"
   },
   "outputs": [
    {
     "name": "stderr",
     "output_type": "stream",
     "text": [
      "/usr/local/lib/python3.7/dist-packages/sklearn/model_selection/_validation.py:372: FitFailedWarning: \n",
      "104 fits failed out of a total of 200.\n",
      "The score on these train-test partitions for these parameters will be set to nan.\n",
      "If these failures are not expected, you can try to debug them by setting error_score='raise'.\n",
      "\n",
      "Below are more details about the failures:\n",
      "--------------------------------------------------------------------------------\n",
      "104 fits failed with the following error:\n",
      "Traceback (most recent call last):\n",
      "  File \"/usr/local/lib/python3.7/dist-packages/sklearn/model_selection/_validation.py\", line 681, in _fit_and_score\n",
      "    estimator.fit(X_train, y_train, **fit_params)\n",
      "  File \"/usr/local/lib/python3.7/dist-packages/sklearn/ensemble/_forest.py\", line 384, in fit\n",
      "    self._validate_estimator()\n",
      "  File \"/usr/local/lib/python3.7/dist-packages/sklearn/ensemble/_base.py\", line 133, in _validate_estimator\n",
      "    type(self.n_estimators)\n",
      "ValueError: n_estimators must be an integer, got <class 'float'>.\n",
      "\n",
      "  warnings.warn(some_fits_failed_message, FitFailedWarning)\n",
      "/usr/local/lib/python3.7/dist-packages/sklearn/model_selection/_search.py:972: UserWarning: One or more of the test scores are non-finite: [0.74212162        nan 0.7482859  0.88274694        nan 0.88921981\n",
      " 0.84219703 0.60701707 0.68362475 0.86825036 0.76443223 0.82673362\n",
      "        nan 0.76286207 0.86609415 0.78741532        nan 0.77590899\n",
      "        nan        nan 0.87206014        nan 0.8262096         nan\n",
      " 0.81353552        nan        nan 0.88026882        nan        nan\n",
      " 0.87357175        nan 0.8508971         nan        nan        nan\n",
      "        nan        nan        nan        nan        nan        nan\n",
      "        nan        nan 0.84814412 0.8260103  0.80848942        nan\n",
      "        nan 0.84905957]\n",
      "  category=UserWarning,\n"
     ]
    },
    {
     "data": {
      "text/plain": [
       "RandomizedSearchCV(cv=4, estimator=RandomForestClassifier(), n_iter=50,\n",
       "                   n_jobs=-1,\n",
       "                   param_distributions={'max_depth': [1, 2, 3, 4],\n",
       "                                        'max_leaf_nodes': [5, 10, 15, 20, 30],\n",
       "                                        'min_samples_leaf': range(500, 1001, 100),\n",
       "                                        'n_estimators': [0.01, 0.1, 1, 10]},\n",
       "                   scoring='roc_auc')"
      ]
     },
     "execution_count": 90,
     "metadata": {},
     "output_type": "execute_result"
    }
   ],
   "source": [
    "rf = RandomForestClassifier()\n",
    "\n",
    "param = {\n",
    "    'n_estimators':[0.01, 0.1, 1, 10],\n",
    "    'max_depth':[1, 2, 3, 4],\n",
    "    'max_leaf_nodes':[5, 10, 15, 20, 30],\n",
    "    'min_samples_leaf': range(500, 1001, 100)\n",
    "}\n",
    "\n",
    "gs = RandomizedSearchCV(rf, \n",
    "                param, \n",
    "                scoring='roc_auc', \n",
    "                cv=4,\n",
    "                n_iter=50,\n",
    "                n_jobs=-1)\n",
    "\n",
    "gs.fit(X_train, y_train)"
   ]
  },
  {
   "cell_type": "code",
   "execution_count": 91,
   "metadata": {
    "colab": {
     "base_uri": "https://localhost:8080/"
    },
    "executionInfo": {
     "elapsed": 21,
     "status": "ok",
     "timestamp": 1638163555014,
     "user": {
      "displayName": "김창호",
      "photoUrl": "https://lh3.googleusercontent.com/a/default-user=s64",
      "userId": "09806159714715776157"
     },
     "user_tz": -540
    },
    "id": "3GsJWQwNtAKE",
    "outputId": "61e6b36f-3cfd-4944-95c2-1c2d5ad3029f"
   },
   "outputs": [
    {
     "data": {
      "text/plain": [
       "(RandomForestClassifier(max_depth=4, max_leaf_nodes=15, min_samples_leaf=700,\n",
       "                        n_estimators=10), 0.8892198078380407)"
      ]
     },
     "execution_count": 91,
     "metadata": {},
     "output_type": "execute_result"
    }
   ],
   "source": [
    "gs.best_estimator_, gs.best_score_"
   ]
  },
  {
   "cell_type": "code",
   "execution_count": 92,
   "metadata": {
    "colab": {
     "base_uri": "https://localhost:8080/",
     "height": 400
    },
    "executionInfo": {
     "elapsed": 19,
     "status": "ok",
     "timestamp": 1638163555016,
     "user": {
      "displayName": "김창호",
      "photoUrl": "https://lh3.googleusercontent.com/a/default-user=s64",
      "userId": "09806159714715776157"
     },
     "user_tz": -540
    },
    "id": "PXF01ezXvSa6",
    "outputId": "b4856ff2-75f9-4217-99b1-ca5ceb971257"
   },
   "outputs": [
    {
     "data": {
      "text/html": [
       "<div>\n",
       "<style scoped>\n",
       "    .dataframe tbody tr th:only-of-type {\n",
       "        vertical-align: middle;\n",
       "    }\n",
       "\n",
       "    .dataframe tbody tr th {\n",
       "        vertical-align: top;\n",
       "    }\n",
       "\n",
       "    .dataframe thead th {\n",
       "        text-align: right;\n",
       "    }\n",
       "</style>\n",
       "<table border=\"1\" class=\"dataframe\">\n",
       "  <thead>\n",
       "    <tr style=\"text-align: right;\">\n",
       "      <th></th>\n",
       "      <th>mean_fit_time</th>\n",
       "      <th>std_fit_time</th>\n",
       "      <th>mean_score_time</th>\n",
       "      <th>std_score_time</th>\n",
       "      <th>param_n_estimators</th>\n",
       "      <th>param_min_samples_leaf</th>\n",
       "      <th>param_max_leaf_nodes</th>\n",
       "      <th>param_max_depth</th>\n",
       "      <th>params</th>\n",
       "      <th>split0_test_score</th>\n",
       "      <th>split1_test_score</th>\n",
       "      <th>split2_test_score</th>\n",
       "      <th>split3_test_score</th>\n",
       "      <th>mean_test_score</th>\n",
       "      <th>std_test_score</th>\n",
       "      <th>rank_test_score</th>\n",
       "    </tr>\n",
       "  </thead>\n",
       "  <tbody>\n",
       "    <tr>\n",
       "      <th>5</th>\n",
       "      <td>1.042984</td>\n",
       "      <td>0.022314</td>\n",
       "      <td>0.062377</td>\n",
       "      <td>0.002511</td>\n",
       "      <td>10</td>\n",
       "      <td>700</td>\n",
       "      <td>15</td>\n",
       "      <td>4</td>\n",
       "      <td>{'n_estimators': 10, 'min_samples_leaf': 700, ...</td>\n",
       "      <td>0.875964</td>\n",
       "      <td>0.896948</td>\n",
       "      <td>0.887801</td>\n",
       "      <td>0.896166</td>\n",
       "      <td>0.889220</td>\n",
       "      <td>0.008452</td>\n",
       "      <td>1</td>\n",
       "    </tr>\n",
       "    <tr>\n",
       "      <th>3</th>\n",
       "      <td>1.080411</td>\n",
       "      <td>0.015893</td>\n",
       "      <td>0.061581</td>\n",
       "      <td>0.001077</td>\n",
       "      <td>10</td>\n",
       "      <td>1000</td>\n",
       "      <td>30</td>\n",
       "      <td>4</td>\n",
       "      <td>{'n_estimators': 10, 'min_samples_leaf': 1000,...</td>\n",
       "      <td>0.863557</td>\n",
       "      <td>0.882412</td>\n",
       "      <td>0.896281</td>\n",
       "      <td>0.888738</td>\n",
       "      <td>0.882747</td>\n",
       "      <td>0.012119</td>\n",
       "      <td>2</td>\n",
       "    </tr>\n",
       "    <tr>\n",
       "      <th>27</th>\n",
       "      <td>1.114098</td>\n",
       "      <td>0.046245</td>\n",
       "      <td>0.061003</td>\n",
       "      <td>0.001914</td>\n",
       "      <td>10</td>\n",
       "      <td>800</td>\n",
       "      <td>20</td>\n",
       "      <td>4</td>\n",
       "      <td>{'n_estimators': 10, 'min_samples_leaf': 800, ...</td>\n",
       "      <td>0.879355</td>\n",
       "      <td>0.884857</td>\n",
       "      <td>0.872453</td>\n",
       "      <td>0.884410</td>\n",
       "      <td>0.880269</td>\n",
       "      <td>0.005003</td>\n",
       "      <td>3</td>\n",
       "    </tr>\n",
       "    <tr>\n",
       "      <th>30</th>\n",
       "      <td>0.873519</td>\n",
       "      <td>0.015648</td>\n",
       "      <td>0.057258</td>\n",
       "      <td>0.000988</td>\n",
       "      <td>10</td>\n",
       "      <td>900</td>\n",
       "      <td>20</td>\n",
       "      <td>3</td>\n",
       "      <td>{'n_estimators': 10, 'min_samples_leaf': 900, ...</td>\n",
       "      <td>0.853476</td>\n",
       "      <td>0.875429</td>\n",
       "      <td>0.893645</td>\n",
       "      <td>0.871736</td>\n",
       "      <td>0.873572</td>\n",
       "      <td>0.014262</td>\n",
       "      <td>4</td>\n",
       "    </tr>\n",
       "    <tr>\n",
       "      <th>20</th>\n",
       "      <td>0.820563</td>\n",
       "      <td>0.019208</td>\n",
       "      <td>0.058447</td>\n",
       "      <td>0.002452</td>\n",
       "      <td>10</td>\n",
       "      <td>700</td>\n",
       "      <td>10</td>\n",
       "      <td>3</td>\n",
       "      <td>{'n_estimators': 10, 'min_samples_leaf': 700, ...</td>\n",
       "      <td>0.858030</td>\n",
       "      <td>0.872285</td>\n",
       "      <td>0.881565</td>\n",
       "      <td>0.876361</td>\n",
       "      <td>0.872060</td>\n",
       "      <td>0.008743</td>\n",
       "      <td>5</td>\n",
       "    </tr>\n",
       "  </tbody>\n",
       "</table>\n",
       "</div>"
      ],
      "text/plain": [
       "    mean_fit_time  std_fit_time  ...  std_test_score  rank_test_score\n",
       "5        1.042984      0.022314  ...        0.008452                1\n",
       "3        1.080411      0.015893  ...        0.012119                2\n",
       "27       1.114098      0.046245  ...        0.005003                3\n",
       "30       0.873519      0.015648  ...        0.014262                4\n",
       "20       0.820563      0.019208  ...        0.008743                5\n",
       "\n",
       "[5 rows x 16 columns]"
      ]
     },
     "execution_count": 92,
     "metadata": {},
     "output_type": "execute_result"
    }
   ],
   "source": [
    "df = pd.DataFrame(gs.cv_results_).sort_values('rank_test_score')\n",
    "df.head()"
   ]
  },
  {
   "cell_type": "code",
   "execution_count": 93,
   "metadata": {
    "colab": {
     "base_uri": "https://localhost:8080/"
    },
    "executionInfo": {
     "elapsed": 18,
     "status": "ok",
     "timestamp": 1638163555017,
     "user": {
      "displayName": "김창호",
      "photoUrl": "https://lh3.googleusercontent.com/a/default-user=s64",
      "userId": "09806159714715776157"
     },
     "user_tz": -540
    },
    "id": "IAN1RAx8vqs6",
    "outputId": "0a804ee1-da0b-4d8c-a3a9-fe158c3a91d6"
   },
   "outputs": [
    {
     "name": "stdout",
     "output_type": "stream",
     "text": [
      "train 정확도:0.924, val 정확도:0.9\t train AUC:0.895, val AUC:0.846\n",
      "==================================================\n"
     ]
    }
   ],
   "source": [
    "best_rf = gs.best_estimator_\n",
    "\n",
    "pred_train_proba = best_rf.predict_proba(X_train)\n",
    "pred_val_proba = best_rf.predict_proba(X_val)\n",
    "\n",
    "acc_train = np.round(accuracy_score(y_train, pred_train), 3)\n",
    "acc_val = np.round(accuracy_score(y_val, pred_val), 3)\n",
    "\n",
    "auc_train = np.round(roc_auc_score(y_train, pred_train_proba[:, 1]), 3)\n",
    "auc_val = np.round(roc_auc_score(y_val, pred_val_proba[:, 1]), 3)\n",
    "\n",
    "print(f'train 정확도:{acc_train}, val 정확도:{acc_val}\\t train AUC:{auc_train}, val AUC:{auc_val}')\n",
    "print('='*50)"
   ]
  },
  {
   "cell_type": "code",
   "execution_count": 96,
   "metadata": {
    "colab": {
     "base_uri": "https://localhost:8080/"
    },
    "executionInfo": {
     "elapsed": 193841,
     "status": "ok",
     "timestamp": 1638163961326,
     "user": {
      "displayName": "김창호",
      "photoUrl": "https://lh3.googleusercontent.com/a/default-user=s64",
      "userId": "09806159714715776157"
     },
     "user_tz": -540
    },
    "id": "YlibX5rwkR7l",
    "outputId": "27dfd82e-ce40-4c90-aea0-458dbb2912c4"
   },
   "outputs": [
    {
     "name": "stdout",
     "output_type": "stream",
     "text": [
      "train 정확도:0.924, val 정확도:0.9\t train AUC:0.98, val AUC:0.876\n",
      "==================================================\n"
     ]
    }
   ],
   "source": [
    "estimators = [\n",
    "    ('xgb', best_xgb),\n",
    "    ('grb', best_grb),\n",
    "    ('rf', best_rf)\n",
    "]\n",
    "\n",
    "voting = VotingClassifier(estimators, voting='soft')\n",
    "voting.fit(X_train, y_train)\n",
    "\n",
    "pred_train_proba = voting.predict_proba(X_train)\n",
    "pred_val_proba = voting.predict_proba(X_val)\n",
    "\n",
    "acc_train = np.round(accuracy_score(y_train, pred_train), 3)\n",
    "acc_val = np.round(accuracy_score(y_val, pred_val), 3)\n",
    "\n",
    "auc_train = np.round(roc_auc_score(y_train, pred_train_proba[:, 1]), 3)\n",
    "auc_val = np.round(roc_auc_score(y_val, pred_val_proba[:, 1]), 3)\n",
    "\n",
    "print(f'train 정확도:{acc_train}, val 정확도:{acc_val}\\t train AUC:{auc_train}, val AUC:{auc_val}')\n",
    "print('='*50)"
   ]
  },
  {
   "cell_type": "code",
   "execution_count": 97,
   "metadata": {
    "colab": {
     "base_uri": "https://localhost:8080/"
    },
    "executionInfo": {
     "elapsed": 840,
     "status": "ok",
     "timestamp": 1638163962161,
     "user": {
      "displayName": "김창호",
      "photoUrl": "https://lh3.googleusercontent.com/a/default-user=s64",
      "userId": "09806159714715776157"
     },
     "user_tz": -540
    },
    "id": "Fg-tLcLe0hMG",
    "outputId": "5b1f6153-4a10-40b3-acd6-7cdec9f4e724"
   },
   "outputs": [
    {
     "name": "stdout",
     "output_type": "stream",
     "text": [
      "test 정확도:0.908 \t test AUC:0.869\n",
      "==================================================\n"
     ]
    }
   ],
   "source": [
    "pred_test_proba = voting.predict_proba(X_test)\n",
    "\n",
    "acc_test = np.round(accuracy_score(y_test, pred_test), 3)\n",
    "\n",
    "auc_test = np.round(roc_auc_score(y_test, pred_test_proba[:, 1]), 3)\n",
    "\n",
    "print(f'test 정확도:{acc_test} \\t test AUC:{auc_test}')\n",
    "print('='*50)"
   ]
  },
  {
   "cell_type": "markdown",
   "metadata": {
    "id": "hOM0_3dywj6y"
   },
   "source": [
    "# 4. Result"
   ]
  },
  {
   "cell_type": "markdown",
   "metadata": {
    "id": "h5xNWHQ50hMH"
   },
   "source": [
    "### ROC_AUC curve"
   ]
  },
  {
   "cell_type": "code",
   "execution_count": 101,
   "metadata": {
    "colab": {
     "base_uri": "https://localhost:8080/",
     "height": 297
    },
    "executionInfo": {
     "elapsed": 444,
     "status": "ok",
     "timestamp": 1638165030796,
     "user": {
      "displayName": "김창호",
      "photoUrl": "https://lh3.googleusercontent.com/a/default-user=s64",
      "userId": "09806159714715776157"
     },
     "user_tz": -540
    },
    "id": "CVYMjLzX0hMH",
    "outputId": "3a85d723-92e9-4280-df1b-26c0886c3b7c"
   },
   "outputs": [
    {
     "data": {
      "text/plain": [
       "<sklearn.metrics._plot.confusion_matrix.ConfusionMatrixDisplay at 0x7f5b84659190>"
      ]
     },
     "execution_count": 101,
     "metadata": {},
     "output_type": "execute_result"
    },
    {
     "data": {
      "image/png": "[encoded data removed]",
      "text/plain": [
       "<Figure size 432x288 with 2 Axes>"
      ]
     },
     "metadata": {
      "needs_background": "light"
     },
     "output_type": "display_data"
    }
   ],
   "source": [
    "from sklearn.metrics import ConfusionMatrixDisplay, confusion_matrix\n",
    "\n",
    "cm = confusion_matrix(y_test, pred_test)\n",
    "disp = ConfusionMatrixDisplay(cm, # confusion matrix\n",
    "                            display_labels=['SeriousDlqin2yrs: No', 'SeriousDlqin2yrs: Yes']) # [Negative label, Positive label]\n",
    "disp.plot(cmap='Reds') # 출력"
   ]
  },
  {
   "cell_type": "code",
   "execution_count": 102,
   "metadata": {
    "colab": {
     "base_uri": "https://localhost:8080/",
     "height": 313
    },
    "executionInfo": {
     "elapsed": 1080,
     "status": "ok",
     "timestamp": 1638165059265,
     "user": {
      "displayName": "김창호",
      "photoUrl": "https://lh3.googleusercontent.com/a/default-user=s64",
      "userId": "09806159714715776157"
     },
     "user_tz": -540
    },
    "id": "56R3CceRIePi",
    "outputId": "b776f051-b2a6-4602-dacc-e4b5152bbd23"
   },
   "outputs": [
    {
     "name": "stdout",
     "output_type": "stream",
     "text": [
      "(3158,) (3158,) (3158,)\n"
     ]
    },
    {
     "data": {
      "image/png": "[encoded data removed]",
      "text/plain": [
       "<Figure size 432x288 with 1 Axes>"
      ]
     },
     "metadata": {
      "needs_background": "light"
     },
     "output_type": "display_data"
    }
   ],
   "source": [
    "from sklearn.metrics import RocCurveDisplay, roc_curve\n",
    "\n",
    "voting_pos = voting.predict_proba(X_test)[:, 1]\n",
    "\n",
    "fprs_voting, tprs_voting, thresholds_voting = roc_curve(y_test, voting_pos)\n",
    "\n",
    "print(fprs_voting.shape, tprs_voting.shape, thresholds_voting.shape)\n",
    "\n",
    "auc = roc_auc_score(y_test, pred_test_proba[:, 1])\n",
    "disp = RocCurveDisplay(fpr=fprs_voting, tpr=tprs_voting, roc_auc=auc)\n",
    "disp.plot()\n",
    "plt.legend(loc='lower right')\n",
    "plt.title('ROC Curve')\n",
    "plt.grid()"
   ]
  },
  {
   "cell_type": "markdown",
   "metadata": {
    "id": "nnVB5LzSoPNZ"
   },
   "source": [
    "### Results\n",
    "Base line model중에서 꽤 괜찮은 성능을 보였던 RandomForest, LogisticRegression, Gradient Boosting model을 선정했다. 이 세 가지 모델들을 통해서 GridSearchCV와 RandomGridSearchCV를 이용해 hyper-parameter tuning을 진행했다. 다시 그 best model들을 통해서 validation을 진행했으며, Voting Classifier를 통해서 모델을 완성했다.\n",
    "\n",
    "결과적으로는 test_data와 ROC_AUC curve를 통해 살펴본 결과, **roc_auc_score**는 **0.87**로 나왔다. 따라서 연체한 사람들에 대해 어느정도 유의미하게 판단할 수 있음을 알 수 있었다.\n",
    "\n",
    "confusion_matrix를 살펴보면, 연체하지 않은 case에 대한 data를 연체했다고 예측하는 경우가 많았다. 이를 통해 최근 2년 동안 90일 이상 연체하지 않은 비율이 연체한 비율에 비해서 매우 높기 때문에, data적인 측면에서는 연체한 사람들에 대한 case가 더 많이 필요함을 알 수 있었다.\n",
    "\n",
    "모델의 성능을 더 올리기 위해 다양한 이상치를 처리하거나 제거하는 방법들을 이용해보았지만, 현재의 요소를 통해서는 이 이상의 성능을 내는 것이 어려웠다. 그리고 요소별로 서로의 상관관계가 너무 낮은 것도 모델의 성능을 더 올리기 어려운 이유중 하나라고 생각된다. 마지막으로 Xgboosting, GradientBoosting classifier의 학습 시간이 상당히 오래 걸리는 부분도 모델의 평가를 빠르게 하지 못하게 되어 아쉬운 부분이 있었다."
   ]
  },
  {
   "cell_type": "markdown",
   "metadata": {
    "id": "n-ko6c63QpOx"
   },
   "source": [
    "# Appendix: model save"
   ]
  },
  {
   "cell_type": "code",
   "execution_count": 106,
   "metadata": {
    "executionInfo": {
     "elapsed": 426,
     "status": "ok",
     "timestamp": 1638165544379,
     "user": {
      "displayName": "김창호",
      "photoUrl": "https://lh3.googleusercontent.com/a/default-user=s64",
      "userId": "09806159714715776157"
     },
     "user_tz": -540
    },
    "id": "cWz4KgU_QoTO"
   },
   "outputs": [],
   "source": [
    "# 모델저장\n",
    "import os\n",
    "import pickle\n",
    "save_dir = 'saved_model'\n",
    "os.makedirs(save_dir, exist_ok=True)\n",
    "\n",
    "xgb_file_path = os.path.join(save_dir, 'xgb_best.pkl')\n",
    "# best_model_xgb.save_model(xgb_file_path)\n",
    "\n",
    "gb_file_path = os.path.join(save_dir, 'best_grb.pkl')\n",
    "with open(gb_file_path, 'wb') as fw:\n",
    "    pickle.dump(best_grb, fw)\n",
    "\n",
    "rf_file_path = os.path.join(save_dir, \"best_rf.pkl\")\n",
    "with open(rf_file_path, 'wb') as fo:\n",
    "    pickle.dump(best_rf, fo)\n",
    "\n",
    "voting_file_path = os.path.join(save_dir, \"voting.pkl\")\n",
    "with open(rf_file_path, 'wb') as fo:\n",
    "    pickle.dump(voting, fo)"
   ]
  },
  {
   "cell_type": "code",
   "execution_count": null,
   "metadata": {
    "id": "PcCWzgjsQuXB"
   },
   "outputs": [],
   "source": [
    "# Load Model\n",
    "saved_xgb = XGBClassifier()\n",
    "saved_xgb.load_model(xgb_file_path)"
   ]
  }
 ],
 "metadata": {
  "accelerator": "GPU",
  "colab": {
   "collapsed_sections": [],
   "machine_shape": "hm",
   "name": "Give_me_some_credit_notebook_김창호.ipynb",
   "provenance": []
  },
  "kernelspec": {
   "display_name": "Python 3",
   "language": "python",
   "name": "python3"
  },
  "language_info": {
   "codemirror_mode": {
    "name": "ipython",
    "version": 3
   },
   "file_extension": ".py",
   "mimetype": "text/x-python",
   "name": "python",
   "nbconvert_exporter": "python",
   "pygments_lexer": "ipython3",
   "version": "3.8.5"
  }
 },
 "nbformat": 4,
 "nbformat_minor": 1
}
