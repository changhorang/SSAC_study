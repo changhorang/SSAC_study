{
  "cells": [
    {
      "cell_type": "markdown",
      "metadata": {
        "id": "V6tA-uc_sUK3"
      },
      "source": [
        "# 1. EDA"
      ]
    },
    {
      "cell_type": "markdown",
      "metadata": {},
      "source": [
        "## Data load & Analysis"
      ]
    },
    {
      "cell_type": "code",
      "execution_count": 1,
      "metadata": {
        "colab": {
          "base_uri": "https://localhost:8080/"
        },
        "id": "epOnWaT0SLkX",
        "outputId": "c7ecaf2c-7510-4930-8000-5840bd488dd8"
      },
      "outputs": [],
      "source": [
        "# for colab\n",
        "# cd '/content/drive/MyDrive'"
      ]
    },
    {
      "cell_type": "code",
      "execution_count": 2,
      "metadata": {
        "id": "L1-Y2HiOCbLH"
      },
      "outputs": [],
      "source": [
        "import pandas as pd\n",
        "import numpy as np\n",
        "import matplotlib.pyplot as plt\n",
        "import seaborn as sns"
      ]
    },
    {
      "cell_type": "code",
      "execution_count": 3,
      "metadata": {
        "colab": {
          "base_uri": "https://localhost:8080/",
          "height": 224
        },
        "id": "C28SGF9UDGi6",
        "outputId": "66f5a8ea-c17e-4de5-fa64-c5fdc92eb077"
      },
      "outputs": [
        {
          "data": {
            "text/html": [
              "<div>\n",
              "<style scoped>\n",
              "    .dataframe tbody tr th:only-of-type {\n",
              "        vertical-align: middle;\n",
              "    }\n",
              "\n",
              "    .dataframe tbody tr th {\n",
              "        vertical-align: top;\n",
              "    }\n",
              "\n",
              "    .dataframe thead th {\n",
              "        text-align: right;\n",
              "    }\n",
              "</style>\n",
              "<table border=\"1\" class=\"dataframe\">\n",
              "  <thead>\n",
              "    <tr style=\"text-align: right;\">\n",
              "      <th></th>\n",
              "      <th>SeriousDlqin2yrs</th>\n",
              "      <th>RevolvingUtilizationOfUnsecuredLines</th>\n",
              "      <th>age</th>\n",
              "      <th>NumberOfTime30-59DaysPastDueNotWorse</th>\n",
              "      <th>DebtRatio</th>\n",
              "      <th>MonthlyIncome</th>\n",
              "      <th>NumberOfOpenCreditLinesAndLoans</th>\n",
              "      <th>NumberOfTimes90DaysLate</th>\n",
              "      <th>NumberRealEstateLoansOrLines</th>\n",
              "      <th>NumberOfTime60-89DaysPastDueNotWorse</th>\n",
              "      <th>NumberOfDependents</th>\n",
              "    </tr>\n",
              "  </thead>\n",
              "  <tbody>\n",
              "    <tr>\n",
              "      <th>1</th>\n",
              "      <td>1</td>\n",
              "      <td>0.766127</td>\n",
              "      <td>45</td>\n",
              "      <td>2</td>\n",
              "      <td>0.802982</td>\n",
              "      <td>9120.0</td>\n",
              "      <td>13</td>\n",
              "      <td>0</td>\n",
              "      <td>6</td>\n",
              "      <td>0</td>\n",
              "      <td>2.0</td>\n",
              "    </tr>\n",
              "    <tr>\n",
              "      <th>2</th>\n",
              "      <td>0</td>\n",
              "      <td>0.957151</td>\n",
              "      <td>40</td>\n",
              "      <td>0</td>\n",
              "      <td>0.121876</td>\n",
              "      <td>2600.0</td>\n",
              "      <td>4</td>\n",
              "      <td>0</td>\n",
              "      <td>0</td>\n",
              "      <td>0</td>\n",
              "      <td>1.0</td>\n",
              "    </tr>\n",
              "    <tr>\n",
              "      <th>3</th>\n",
              "      <td>0</td>\n",
              "      <td>0.658180</td>\n",
              "      <td>38</td>\n",
              "      <td>1</td>\n",
              "      <td>0.085113</td>\n",
              "      <td>3042.0</td>\n",
              "      <td>2</td>\n",
              "      <td>1</td>\n",
              "      <td>0</td>\n",
              "      <td>0</td>\n",
              "      <td>0.0</td>\n",
              "    </tr>\n",
              "    <tr>\n",
              "      <th>4</th>\n",
              "      <td>0</td>\n",
              "      <td>0.233810</td>\n",
              "      <td>30</td>\n",
              "      <td>0</td>\n",
              "      <td>0.036050</td>\n",
              "      <td>3300.0</td>\n",
              "      <td>5</td>\n",
              "      <td>0</td>\n",
              "      <td>0</td>\n",
              "      <td>0</td>\n",
              "      <td>0.0</td>\n",
              "    </tr>\n",
              "    <tr>\n",
              "      <th>5</th>\n",
              "      <td>0</td>\n",
              "      <td>0.907239</td>\n",
              "      <td>49</td>\n",
              "      <td>1</td>\n",
              "      <td>0.024926</td>\n",
              "      <td>63588.0</td>\n",
              "      <td>7</td>\n",
              "      <td>0</td>\n",
              "      <td>1</td>\n",
              "      <td>0</td>\n",
              "      <td>0.0</td>\n",
              "    </tr>\n",
              "  </tbody>\n",
              "</table>\n",
              "</div>"
            ],
            "text/plain": [
              "   SeriousDlqin2yrs  RevolvingUtilizationOfUnsecuredLines  age  \\\n",
              "1                 1                              0.766127   45   \n",
              "2                 0                              0.957151   40   \n",
              "3                 0                              0.658180   38   \n",
              "4                 0                              0.233810   30   \n",
              "5                 0                              0.907239   49   \n",
              "\n",
              "   NumberOfTime30-59DaysPastDueNotWorse  DebtRatio  MonthlyIncome  \\\n",
              "1                                     2   0.802982         9120.0   \n",
              "2                                     0   0.121876         2600.0   \n",
              "3                                     1   0.085113         3042.0   \n",
              "4                                     0   0.036050         3300.0   \n",
              "5                                     1   0.024926        63588.0   \n",
              "\n",
              "   NumberOfOpenCreditLinesAndLoans  NumberOfTimes90DaysLate  \\\n",
              "1                               13                        0   \n",
              "2                                4                        0   \n",
              "3                                2                        1   \n",
              "4                                5                        0   \n",
              "5                                7                        0   \n",
              "\n",
              "   NumberRealEstateLoansOrLines  NumberOfTime60-89DaysPastDueNotWorse  \\\n",
              "1                             6                                     0   \n",
              "2                             0                                     0   \n",
              "3                             0                                     0   \n",
              "4                             0                                     0   \n",
              "5                             1                                     0   \n",
              "\n",
              "   NumberOfDependents  \n",
              "1                 2.0  \n",
              "2                 1.0  \n",
              "3                 0.0  \n",
              "4                 0.0  \n",
              "5                 0.0  "
            ]
          },
          "execution_count": 3,
          "metadata": {},
          "output_type": "execute_result"
        }
      ],
      "source": [
        "data = pd.read_csv('cs_data.csv', index_col=0)\n",
        "data.head()"
      ]
    },
    {
      "cell_type": "code",
      "execution_count": 4,
      "metadata": {
        "colab": {
          "base_uri": "https://localhost:8080/",
          "height": 338
        },
        "id": "nrsdHjlwwjqo",
        "outputId": "000af404-d4dd-4ae7-bcd8-0643b9bf00a2"
      },
      "outputs": [
        {
          "data": {
            "text/html": [
              "<div>\n",
              "<style scoped>\n",
              "    .dataframe tbody tr th:only-of-type {\n",
              "        vertical-align: middle;\n",
              "    }\n",
              "\n",
              "    .dataframe tbody tr th {\n",
              "        vertical-align: top;\n",
              "    }\n",
              "\n",
              "    .dataframe thead th {\n",
              "        text-align: right;\n",
              "    }\n",
              "</style>\n",
              "<table border=\"1\" class=\"dataframe\">\n",
              "  <thead>\n",
              "    <tr style=\"text-align: right;\">\n",
              "      <th></th>\n",
              "      <th>SeriousDlqin2yrs</th>\n",
              "      <th>RevolvingUtilizationOfUnsecuredLines</th>\n",
              "      <th>age</th>\n",
              "      <th>NumberOfTime30-59DaysPastDueNotWorse</th>\n",
              "      <th>DebtRatio</th>\n",
              "      <th>MonthlyIncome</th>\n",
              "      <th>NumberOfOpenCreditLinesAndLoans</th>\n",
              "      <th>NumberOfTimes90DaysLate</th>\n",
              "      <th>NumberRealEstateLoansOrLines</th>\n",
              "      <th>NumberOfTime60-89DaysPastDueNotWorse</th>\n",
              "      <th>NumberOfDependents</th>\n",
              "    </tr>\n",
              "  </thead>\n",
              "  <tbody>\n",
              "    <tr>\n",
              "      <th>count</th>\n",
              "      <td>150000.000000</td>\n",
              "      <td>150000.000000</td>\n",
              "      <td>150000.000000</td>\n",
              "      <td>150000.000000</td>\n",
              "      <td>150000.000000</td>\n",
              "      <td>1.202690e+05</td>\n",
              "      <td>150000.000000</td>\n",
              "      <td>150000.000000</td>\n",
              "      <td>150000.000000</td>\n",
              "      <td>150000.000000</td>\n",
              "      <td>146076.000000</td>\n",
              "    </tr>\n",
              "    <tr>\n",
              "      <th>mean</th>\n",
              "      <td>0.066840</td>\n",
              "      <td>6.048438</td>\n",
              "      <td>52.295207</td>\n",
              "      <td>0.421033</td>\n",
              "      <td>353.005076</td>\n",
              "      <td>6.670221e+03</td>\n",
              "      <td>8.452760</td>\n",
              "      <td>0.265973</td>\n",
              "      <td>1.018240</td>\n",
              "      <td>0.240387</td>\n",
              "      <td>0.757222</td>\n",
              "    </tr>\n",
              "    <tr>\n",
              "      <th>std</th>\n",
              "      <td>0.249746</td>\n",
              "      <td>249.755371</td>\n",
              "      <td>14.771866</td>\n",
              "      <td>4.192781</td>\n",
              "      <td>2037.818523</td>\n",
              "      <td>1.438467e+04</td>\n",
              "      <td>5.145951</td>\n",
              "      <td>4.169304</td>\n",
              "      <td>1.129771</td>\n",
              "      <td>4.155179</td>\n",
              "      <td>1.115086</td>\n",
              "    </tr>\n",
              "    <tr>\n",
              "      <th>min</th>\n",
              "      <td>0.000000</td>\n",
              "      <td>0.000000</td>\n",
              "      <td>0.000000</td>\n",
              "      <td>0.000000</td>\n",
              "      <td>0.000000</td>\n",
              "      <td>0.000000e+00</td>\n",
              "      <td>0.000000</td>\n",
              "      <td>0.000000</td>\n",
              "      <td>0.000000</td>\n",
              "      <td>0.000000</td>\n",
              "      <td>0.000000</td>\n",
              "    </tr>\n",
              "    <tr>\n",
              "      <th>25%</th>\n",
              "      <td>0.000000</td>\n",
              "      <td>0.029867</td>\n",
              "      <td>41.000000</td>\n",
              "      <td>0.000000</td>\n",
              "      <td>0.175074</td>\n",
              "      <td>3.400000e+03</td>\n",
              "      <td>5.000000</td>\n",
              "      <td>0.000000</td>\n",
              "      <td>0.000000</td>\n",
              "      <td>0.000000</td>\n",
              "      <td>0.000000</td>\n",
              "    </tr>\n",
              "    <tr>\n",
              "      <th>50%</th>\n",
              "      <td>0.000000</td>\n",
              "      <td>0.154181</td>\n",
              "      <td>52.000000</td>\n",
              "      <td>0.000000</td>\n",
              "      <td>0.366508</td>\n",
              "      <td>5.400000e+03</td>\n",
              "      <td>8.000000</td>\n",
              "      <td>0.000000</td>\n",
              "      <td>1.000000</td>\n",
              "      <td>0.000000</td>\n",
              "      <td>0.000000</td>\n",
              "    </tr>\n",
              "    <tr>\n",
              "      <th>75%</th>\n",
              "      <td>0.000000</td>\n",
              "      <td>0.559046</td>\n",
              "      <td>63.000000</td>\n",
              "      <td>0.000000</td>\n",
              "      <td>0.868254</td>\n",
              "      <td>8.249000e+03</td>\n",
              "      <td>11.000000</td>\n",
              "      <td>0.000000</td>\n",
              "      <td>2.000000</td>\n",
              "      <td>0.000000</td>\n",
              "      <td>1.000000</td>\n",
              "    </tr>\n",
              "    <tr>\n",
              "      <th>max</th>\n",
              "      <td>1.000000</td>\n",
              "      <td>50708.000000</td>\n",
              "      <td>109.000000</td>\n",
              "      <td>98.000000</td>\n",
              "      <td>329664.000000</td>\n",
              "      <td>3.008750e+06</td>\n",
              "      <td>58.000000</td>\n",
              "      <td>98.000000</td>\n",
              "      <td>54.000000</td>\n",
              "      <td>98.000000</td>\n",
              "      <td>20.000000</td>\n",
              "    </tr>\n",
              "  </tbody>\n",
              "</table>\n",
              "</div>"
            ],
            "text/plain": [
              "       SeriousDlqin2yrs  RevolvingUtilizationOfUnsecuredLines            age  \\\n",
              "count     150000.000000                         150000.000000  150000.000000   \n",
              "mean           0.066840                              6.048438      52.295207   \n",
              "std            0.249746                            249.755371      14.771866   \n",
              "min            0.000000                              0.000000       0.000000   \n",
              "25%            0.000000                              0.029867      41.000000   \n",
              "50%            0.000000                              0.154181      52.000000   \n",
              "75%            0.000000                              0.559046      63.000000   \n",
              "max            1.000000                          50708.000000     109.000000   \n",
              "\n",
              "       NumberOfTime30-59DaysPastDueNotWorse      DebtRatio  MonthlyIncome  \\\n",
              "count                         150000.000000  150000.000000   1.202690e+05   \n",
              "mean                               0.421033     353.005076   6.670221e+03   \n",
              "std                                4.192781    2037.818523   1.438467e+04   \n",
              "min                                0.000000       0.000000   0.000000e+00   \n",
              "25%                                0.000000       0.175074   3.400000e+03   \n",
              "50%                                0.000000       0.366508   5.400000e+03   \n",
              "75%                                0.000000       0.868254   8.249000e+03   \n",
              "max                               98.000000  329664.000000   3.008750e+06   \n",
              "\n",
              "       NumberOfOpenCreditLinesAndLoans  NumberOfTimes90DaysLate  \\\n",
              "count                    150000.000000            150000.000000   \n",
              "mean                          8.452760                 0.265973   \n",
              "std                           5.145951                 4.169304   \n",
              "min                           0.000000                 0.000000   \n",
              "25%                           5.000000                 0.000000   \n",
              "50%                           8.000000                 0.000000   \n",
              "75%                          11.000000                 0.000000   \n",
              "max                          58.000000                98.000000   \n",
              "\n",
              "       NumberRealEstateLoansOrLines  NumberOfTime60-89DaysPastDueNotWorse  \\\n",
              "count                 150000.000000                         150000.000000   \n",
              "mean                       1.018240                              0.240387   \n",
              "std                        1.129771                              4.155179   \n",
              "min                        0.000000                              0.000000   \n",
              "25%                        0.000000                              0.000000   \n",
              "50%                        1.000000                              0.000000   \n",
              "75%                        2.000000                              0.000000   \n",
              "max                       54.000000                             98.000000   \n",
              "\n",
              "       NumberOfDependents  \n",
              "count       146076.000000  \n",
              "mean             0.757222  \n",
              "std              1.115086  \n",
              "min              0.000000  \n",
              "25%              0.000000  \n",
              "50%              0.000000  \n",
              "75%              1.000000  \n",
              "max             20.000000  "
            ]
          },
          "execution_count": 4,
          "metadata": {},
          "output_type": "execute_result"
        }
      ],
      "source": [
        "data.describe()"
      ]
    },
    {
      "cell_type": "code",
      "execution_count": 5,
      "metadata": {},
      "outputs": [
        {
          "data": {
            "text/plain": [
              "Text(0.5, 1.0, 'Binary Class Comparison')"
            ]
          },
          "execution_count": 5,
          "metadata": {},
          "output_type": "execute_result"
        },
        {
          "data": {
            "image/png": "[encoded data removed]",
            "text/plain": [
              "<Figure size 432x288 with 1 Axes>"
            ]
          },
          "metadata": {
            "needs_background": "light"
          },
          "output_type": "display_data"
        }
      ],
      "source": [
        "sns.countplot(x='SeriousDlqin2yrs', data=data, palette='RdBu_r')\n",
        "plt.title('Binary Class Comparison')"
      ]
    },
    {
      "cell_type": "code",
      "execution_count": 6,
      "metadata": {},
      "outputs": [
        {
          "data": {
            "text/plain": [
              "0     142396\n",
              "1       5731\n",
              "2       1118\n",
              "3        318\n",
              "98       264\n",
              "4        105\n",
              "5         34\n",
              "6         16\n",
              "7          9\n",
              "96         5\n",
              "8          2\n",
              "11         1\n",
              "9          1\n",
              "Name: NumberOfTime60-89DaysPastDueNotWorse, dtype: int64"
            ]
          },
          "execution_count": 6,
          "metadata": {},
          "output_type": "execute_result"
        }
      ],
      "source": [
        "data['NumberOfTime60-89DaysPastDueNotWorse'].value_counts()"
      ]
    },
    {
      "cell_type": "code",
      "execution_count": 7,
      "metadata": {
        "colab": {
          "base_uri": "https://localhost:8080/"
        },
        "id": "Ax0WenAjY4Ag",
        "outputId": "bd481aeb-bd65-46a4-aa67-e9a4722d56bb"
      },
      "outputs": [
        {
          "data": {
            "text/plain": [
              "0     141662\n",
              "1       5243\n",
              "2       1555\n",
              "3        667\n",
              "4        291\n",
              "98       264\n",
              "5        131\n",
              "6         80\n",
              "7         38\n",
              "8         21\n",
              "9         19\n",
              "10         8\n",
              "96         5\n",
              "11         5\n",
              "13         4\n",
              "15         2\n",
              "14         2\n",
              "12         2\n",
              "17         1\n",
              "Name: NumberOfTimes90DaysLate, dtype: int64"
            ]
          },
          "execution_count": 7,
          "metadata": {},
          "output_type": "execute_result"
        }
      ],
      "source": [
        "data['NumberOfTimes90DaysLate'].value_counts()"
      ]
    },
    {
      "cell_type": "code",
      "execution_count": 8,
      "metadata": {
        "colab": {
          "base_uri": "https://localhost:8080/"
        },
        "id": "npsqq2Hk1G61",
        "outputId": "cb9109d3-3b34-42f2-8983-61848a873a6d"
      },
      "outputs": [
        {
          "data": {
            "text/plain": [
              "0     126018\n",
              "1      16033\n",
              "2       4598\n",
              "3       1754\n",
              "4        747\n",
              "5        342\n",
              "98       264\n",
              "6        140\n",
              "7         54\n",
              "8         25\n",
              "9         12\n",
              "96         5\n",
              "10         4\n",
              "12         2\n",
              "13         1\n",
              "11         1\n",
              "Name: NumberOfTime30-59DaysPastDueNotWorse, dtype: int64"
            ]
          },
          "execution_count": 8,
          "metadata": {},
          "output_type": "execute_result"
        }
      ],
      "source": [
        "data['NumberOfTime30-59DaysPastDueNotWorse'].value_counts()"
      ]
    },
    {
      "cell_type": "code",
      "execution_count": 9,
      "metadata": {
        "colab": {
          "base_uri": "https://localhost:8080/"
        },
        "id": "W6Widm0d1PIW",
        "outputId": "7a86d9c7-c836-42d4-b788-da4817abd87d"
      },
      "outputs": [
        {
          "data": {
            "text/plain": [
              "0.0     86902\n",
              "1.0     26316\n",
              "2.0     19522\n",
              "3.0      9483\n",
              "4.0      2862\n",
              "5.0       746\n",
              "6.0       158\n",
              "7.0        51\n",
              "8.0        24\n",
              "10.0        5\n",
              "9.0         5\n",
              "20.0        1\n",
              "13.0        1\n",
              "Name: NumberOfDependents, dtype: int64"
            ]
          },
          "execution_count": 9,
          "metadata": {},
          "output_type": "execute_result"
        }
      ],
      "source": [
        "data['NumberOfDependents'].value_counts()"
      ]
    },
    {
      "cell_type": "markdown",
      "metadata": {},
      "source": [
        "### **Analysis**\n",
        "- 먼저 data를 load하면서 전체적인 요소 및 값들의 분포를 파악했다.\n",
        "\n",
        "- 첫 번째로 target data (SeriousDlqin2yrs)에 대한 불균형도가 심한 것을 확인 할 수 있다. 이는 추후에 불균형된 학습을 유발 할 수 있으므로, 이를 해소하기 위한 방법으로 imblearn에서 SMOTE 모듈을 이용해 oversampling 통해서 어느 정도 해소해볼 예정이다.\n",
        "\n",
        "- 두 번째로 돈을 연체하게 된 data를 살펴 보았는데, 96과 98이라는 이상치로 보이는 숫자가 있어 이를 값을 대체하거나 삭제할 예정이다."
      ]
    },
    {
      "cell_type": "markdown",
      "metadata": {
        "id": "LZJNMhcpCGOy"
      },
      "source": [
        "## Data Visualization\n",
        "- Data의 각종 요소별 시각화를 진행했다."
      ]
    },
    {
      "cell_type": "code",
      "execution_count": 10,
      "metadata": {},
      "outputs": [
        {
          "data": {
            "image/png": "[encoded data removed]",
            "text/plain": [
              "<Figure size 432x288 with 1 Axes>"
            ]
          },
          "metadata": {
            "needs_background": "light"
          },
          "output_type": "display_data"
        },
        {
          "data": {
            "image/png": "[encoded data removed]",
            "text/plain": [
              "<Figure size 432x288 with 1 Axes>"
            ]
          },
          "metadata": {
            "needs_background": "light"
          },
          "output_type": "display_data"
        },
        {
          "data": {
            "image/png": "[encoded data removed]",
            "text/plain": [
              "<Figure size 432x288 with 1 Axes>"
            ]
          },
          "metadata": {
            "needs_background": "light"
          },
          "output_type": "display_data"
        },
        {
          "data": {
            "image/png": "[encoded data removed]",
            "text/plain": [
              "<Figure size 432x288 with 1 Axes>"
            ]
          },
          "metadata": {
            "needs_background": "light"
          },
          "output_type": "display_data"
        },
        {
          "data": {
            "image/png": "[encoded data removed]",
            "text/plain": [
              "<Figure size 432x288 with 1 Axes>"
            ]
          },
          "metadata": {
            "needs_background": "light"
          },
          "output_type": "display_data"
        },
        {
          "data": {
            "image/png": "[encoded data removed]",
            "text/plain": [
              "<Figure size 432x288 with 1 Axes>"
            ]
          },
          "metadata": {
            "needs_background": "light"
          },
          "output_type": "display_data"
        },
        {
          "data": {
            "image/png": "[encoded data removed]",
            "text/plain": [
              "<Figure size 432x288 with 1 Axes>"
            ]
          },
          "metadata": {
            "needs_background": "light"
          },
          "output_type": "display_data"
        },
        {
          "data": {
            "image/png": "[encoded data removed]",
            "text/plain": [
              "<Figure size 432x288 with 1 Axes>"
            ]
          },
          "metadata": {
            "needs_background": "light"
          },
          "output_type": "display_data"
        }
      ],
      "source": [
        "# remove target variable Dlqin2yrs and variables with missing values\n",
        "feature_list = list(data.columns.values)\n",
        "remove_list = ['SeriousDlqin2yrs','MonthlyIncome','NumberOfDependents']\n",
        "for each in remove_list:\n",
        "    feature_list.remove(each)\n",
        "\n",
        "for each in feature_list:\n",
        "    sns.histplot(data[each], kde=True, bins=100)\n",
        "    plt.show()"
      ]
    },
    {
      "cell_type": "markdown",
      "metadata": {},
      "source": [
        "**Analysis**\n",
        "- RevolvingUtilizationOfUnsecuredLines\n",
        "- NumberOfTime30-59DaysPastDueNotWorse\n",
        "- DebtRatio\n",
        "- NumberOfTimes30DaysLate\n",
        "- NumberRealEstateLoansOrLines\n",
        "- NumberOfTime60-89DaysPastDueNotWorse\n",
        "\n",
        "위의 6가지 속성에 대해서는 매우 편향된 분포를 가지고 있음을 파악할 수 있었다."
      ]
    },
    {
      "cell_type": "markdown",
      "metadata": {},
      "source": [
        "### DebtRatio (Boxplot)"
      ]
    },
    {
      "cell_type": "code",
      "execution_count": 11,
      "metadata": {
        "colab": {
          "base_uri": "https://localhost:8080/"
        },
        "id": "ATsAaAz-CO_a",
        "outputId": "b1de767d-df61-4b0e-c914-d8ef3b83049e"
      },
      "outputs": [
        {
          "data": {
            "text/plain": [
              "0.000000    4113\n",
              "1.000000     229\n",
              "4.000000     174\n",
              "2.000000     170\n",
              "3.000000     162\n",
              "            ... \n",
              "0.368763       1\n",
              "0.108009       1\n",
              "0.441337       1\n",
              "1.006015       1\n",
              "0.249908       1\n",
              "Name: DebtRatio, Length: 114194, dtype: int64"
            ]
          },
          "execution_count": 11,
          "metadata": {},
          "output_type": "execute_result"
        }
      ],
      "source": [
        "data['DebtRatio'].value_counts()"
      ]
    },
    {
      "cell_type": "code",
      "execution_count": 12,
      "metadata": {
        "colab": {
          "base_uri": "https://localhost:8080/"
        },
        "id": "hAcSscXBCcdK",
        "outputId": "646d6e2d-8cf0-454f-9e8d-c1ebfb8a4e50"
      },
      "outputs": [
        {
          "data": {
            "text/plain": [
              "SeriousDlqin2yrs  RevolvingUtilizationOfUnsecuredLines  age  NumberOfTime30-59DaysPastDueNotWorse  DebtRatio    MonthlyIncome  NumberOfOpenCreditLinesAndLoans  NumberOfTimes90DaysLate  NumberRealEstateLoansOrLines  NumberOfTime60-89DaysPastDueNotWorse  NumberOfDependents\n",
              "0                 0.000000                              21   0                                     2.000000     1.0            1                                0                        0                             0                                     0.0                   1\n",
              "                  0.585153                              48   0                                     1.503747     1200.0         4                                0                        1                             0                                     2.0                   1\n",
              "                  0.590404                              35   0                                     1.058824     4368.0         5                                0                        2                             0                                     1.0                   1\n",
              "                  0.590342                              46   0                                     1.044319     3000.0         5                                0                        1                             0                                     1.0                   1\n",
              "                  0.590282                              37   0                                     1.343828     2000.0         4                                0                        1                             0                                     1.0                   1\n",
              "                                                                                                                                                                                                                                                                                  ..\n",
              "                  0.103352                              72   0                                     2265.000000  0.0            6                                0                        3                             0                                     0.0                   1\n",
              "                  0.103095                              59   0                                     6.466777     601.0          6                                0                        3                             0                                     1.0                   1\n",
              "                  0.103088                              54   0                                     2.368179     1740.0         16                               0                        2                             0                                     0.0                   1\n",
              "                  0.103063                              41   0                                     1.035629     9654.0         12                               0                        1                             0                                     0.0                   1\n",
              "1                 3818.000000                           39   2                                     1.154265     3668.0         12                               1                        2                             0                                     0.0                   1\n",
              "Length: 7233, dtype: int64"
            ]
          },
          "execution_count": 12,
          "metadata": {},
          "output_type": "execute_result"
        }
      ],
      "source": [
        "data[data['DebtRatio'] > 1].value_counts()"
      ]
    },
    {
      "cell_type": "code",
      "execution_count": 13,
      "metadata": {
        "colab": {
          "base_uri": "https://localhost:8080/",
          "height": 0
        },
        "id": "dS5dTzvuC6-6",
        "outputId": "12ec8dc8-428e-4ce7-f2e8-4c843616d445"
      },
      "outputs": [
        {
          "data": {
            "image/png": "[encoded data removed]",
            "text/plain": [
              "<Figure size 432x288 with 1 Axes>"
            ]
          },
          "metadata": {
            "needs_background": "light"
          },
          "output_type": "display_data"
        }
      ],
      "source": [
        "plt.boxplot(data['DebtRatio'])\n",
        "plt.title('DebtRatio')\n",
        "plt.ylim(-0.1, 2)\n",
        "plt.show()"
      ]
    },
    {
      "cell_type": "code",
      "execution_count": 14,
      "metadata": {
        "colab": {
          "base_uri": "https://localhost:8080/",
          "height": 0
        },
        "id": "_lfZrOQMDNI5",
        "outputId": "f4e292c6-2dfd-439d-bd86-de1bb17369b0"
      },
      "outputs": [
        {
          "data": {
            "image/png": "[encoded data removed]",
            "text/plain": [
              "<Figure size 432x288 with 1 Axes>"
            ]
          },
          "metadata": {
            "needs_background": "light"
          },
          "output_type": "display_data"
        }
      ],
      "source": [
        "data_sample = data.copy()\n",
        "data_sample['age/20'] = data_sample[['age']].applymap(lambda x : int(x/20))\n",
        "sns.boxplot(x='age/20', y='DebtRatio', data=data_sample)\n",
        "plt.title('DebtRatio')\n",
        "plt.ylim(-0.1, 3.0)\n",
        "plt.show()"
      ]
    },
    {
      "cell_type": "code",
      "execution_count": 15,
      "metadata": {},
      "outputs": [
        {
          "data": {
            "text/html": [
              "<div>\n",
              "<style scoped>\n",
              "    .dataframe tbody tr th:only-of-type {\n",
              "        vertical-align: middle;\n",
              "    }\n",
              "\n",
              "    .dataframe tbody tr th {\n",
              "        vertical-align: top;\n",
              "    }\n",
              "\n",
              "    .dataframe thead th {\n",
              "        text-align: right;\n",
              "    }\n",
              "</style>\n",
              "<table border=\"1\" class=\"dataframe\">\n",
              "  <thead>\n",
              "    <tr style=\"text-align: right;\">\n",
              "      <th></th>\n",
              "      <th>SeriousDlqin2yrs</th>\n",
              "      <th>RevolvingUtilizationOfUnsecuredLines</th>\n",
              "      <th>age</th>\n",
              "      <th>NumberOfTime30-59DaysPastDueNotWorse</th>\n",
              "      <th>DebtRatio</th>\n",
              "      <th>MonthlyIncome</th>\n",
              "      <th>NumberOfOpenCreditLinesAndLoans</th>\n",
              "      <th>NumberOfTimes90DaysLate</th>\n",
              "      <th>NumberRealEstateLoansOrLines</th>\n",
              "      <th>NumberOfTime60-89DaysPastDueNotWorse</th>\n",
              "      <th>NumberOfDependents</th>\n",
              "      <th>age/20</th>\n",
              "    </tr>\n",
              "  </thead>\n",
              "  <tbody>\n",
              "    <tr>\n",
              "      <th>count</th>\n",
              "      <td>14056.000000</td>\n",
              "      <td>14056.000000</td>\n",
              "      <td>14056.000000</td>\n",
              "      <td>14056.000000</td>\n",
              "      <td>14056.000000</td>\n",
              "      <td>1934.000000</td>\n",
              "      <td>14056.000000</td>\n",
              "      <td>14056.000000</td>\n",
              "      <td>14056.000000</td>\n",
              "      <td>14056.000000</td>\n",
              "      <td>12228.000000</td>\n",
              "      <td>14056.000000</td>\n",
              "    </tr>\n",
              "    <tr>\n",
              "      <th>mean</th>\n",
              "      <td>0.029240</td>\n",
              "      <td>4.702026</td>\n",
              "      <td>69.641577</td>\n",
              "      <td>0.149260</td>\n",
              "      <td>1348.151022</td>\n",
              "      <td>2236.593588</td>\n",
              "      <td>8.244806</td>\n",
              "      <td>0.050797</td>\n",
              "      <td>0.938745</td>\n",
              "      <td>0.041121</td>\n",
              "      <td>0.166667</td>\n",
              "      <td>3.131759</td>\n",
              "    </tr>\n",
              "    <tr>\n",
              "      <th>std</th>\n",
              "      <td>0.168485</td>\n",
              "      <td>146.801266</td>\n",
              "      <td>7.879031</td>\n",
              "      <td>0.995645</td>\n",
              "      <td>4683.580781</td>\n",
              "      <td>3121.107817</td>\n",
              "      <td>5.183441</td>\n",
              "      <td>0.893541</td>\n",
              "      <td>1.218564</td>\n",
              "      <td>0.860461</td>\n",
              "      <td>0.531369</td>\n",
              "      <td>0.339710</td>\n",
              "    </tr>\n",
              "    <tr>\n",
              "      <th>min</th>\n",
              "      <td>0.000000</td>\n",
              "      <td>0.000000</td>\n",
              "      <td>60.000000</td>\n",
              "      <td>0.000000</td>\n",
              "      <td>1.000874</td>\n",
              "      <td>0.000000</td>\n",
              "      <td>0.000000</td>\n",
              "      <td>0.000000</td>\n",
              "      <td>0.000000</td>\n",
              "      <td>0.000000</td>\n",
              "      <td>0.000000</td>\n",
              "      <td>3.000000</td>\n",
              "    </tr>\n",
              "    <tr>\n",
              "      <th>25%</th>\n",
              "      <td>0.000000</td>\n",
              "      <td>0.013231</td>\n",
              "      <td>63.000000</td>\n",
              "      <td>0.000000</td>\n",
              "      <td>36.000000</td>\n",
              "      <td>1.000000</td>\n",
              "      <td>5.000000</td>\n",
              "      <td>0.000000</td>\n",
              "      <td>0.000000</td>\n",
              "      <td>0.000000</td>\n",
              "      <td>0.000000</td>\n",
              "      <td>3.000000</td>\n",
              "    </tr>\n",
              "    <tr>\n",
              "      <th>50%</th>\n",
              "      <td>0.000000</td>\n",
              "      <td>0.050383</td>\n",
              "      <td>68.000000</td>\n",
              "      <td>0.000000</td>\n",
              "      <td>666.000000</td>\n",
              "      <td>1400.000000</td>\n",
              "      <td>7.000000</td>\n",
              "      <td>0.000000</td>\n",
              "      <td>1.000000</td>\n",
              "      <td>0.000000</td>\n",
              "      <td>0.000000</td>\n",
              "      <td>3.000000</td>\n",
              "    </tr>\n",
              "    <tr>\n",
              "      <th>75%</th>\n",
              "      <td>0.000000</td>\n",
              "      <td>0.213127</td>\n",
              "      <td>75.000000</td>\n",
              "      <td>0.000000</td>\n",
              "      <td>1868.000000</td>\n",
              "      <td>3232.250000</td>\n",
              "      <td>11.000000</td>\n",
              "      <td>0.000000</td>\n",
              "      <td>1.000000</td>\n",
              "      <td>0.000000</td>\n",
              "      <td>0.000000</td>\n",
              "      <td>3.000000</td>\n",
              "    </tr>\n",
              "    <tr>\n",
              "      <th>max</th>\n",
              "      <td>1.000000</td>\n",
              "      <td>11553.000000</td>\n",
              "      <td>109.000000</td>\n",
              "      <td>98.000000</td>\n",
              "      <td>329664.000000</td>\n",
              "      <td>70000.000000</td>\n",
              "      <td>45.000000</td>\n",
              "      <td>98.000000</td>\n",
              "      <td>32.000000</td>\n",
              "      <td>98.000000</td>\n",
              "      <td>6.000000</td>\n",
              "      <td>5.000000</td>\n",
              "    </tr>\n",
              "  </tbody>\n",
              "</table>\n",
              "</div>"
            ],
            "text/plain": [
              "       SeriousDlqin2yrs  RevolvingUtilizationOfUnsecuredLines           age  \\\n",
              "count      14056.000000                          14056.000000  14056.000000   \n",
              "mean           0.029240                              4.702026     69.641577   \n",
              "std            0.168485                            146.801266      7.879031   \n",
              "min            0.000000                              0.000000     60.000000   \n",
              "25%            0.000000                              0.013231     63.000000   \n",
              "50%            0.000000                              0.050383     68.000000   \n",
              "75%            0.000000                              0.213127     75.000000   \n",
              "max            1.000000                          11553.000000    109.000000   \n",
              "\n",
              "       NumberOfTime30-59DaysPastDueNotWorse      DebtRatio  MonthlyIncome  \\\n",
              "count                          14056.000000   14056.000000    1934.000000   \n",
              "mean                               0.149260    1348.151022    2236.593588   \n",
              "std                                0.995645    4683.580781    3121.107817   \n",
              "min                                0.000000       1.000874       0.000000   \n",
              "25%                                0.000000      36.000000       1.000000   \n",
              "50%                                0.000000     666.000000    1400.000000   \n",
              "75%                                0.000000    1868.000000    3232.250000   \n",
              "max                               98.000000  329664.000000   70000.000000   \n",
              "\n",
              "       NumberOfOpenCreditLinesAndLoans  NumberOfTimes90DaysLate  \\\n",
              "count                     14056.000000             14056.000000   \n",
              "mean                          8.244806                 0.050797   \n",
              "std                           5.183441                 0.893541   \n",
              "min                           0.000000                 0.000000   \n",
              "25%                           5.000000                 0.000000   \n",
              "50%                           7.000000                 0.000000   \n",
              "75%                          11.000000                 0.000000   \n",
              "max                          45.000000                98.000000   \n",
              "\n",
              "       NumberRealEstateLoansOrLines  NumberOfTime60-89DaysPastDueNotWorse  \\\n",
              "count                  14056.000000                          14056.000000   \n",
              "mean                       0.938745                              0.041121   \n",
              "std                        1.218564                              0.860461   \n",
              "min                        0.000000                              0.000000   \n",
              "25%                        0.000000                              0.000000   \n",
              "50%                        1.000000                              0.000000   \n",
              "75%                        1.000000                              0.000000   \n",
              "max                       32.000000                             98.000000   \n",
              "\n",
              "       NumberOfDependents        age/20  \n",
              "count        12228.000000  14056.000000  \n",
              "mean             0.166667      3.131759  \n",
              "std              0.531369      0.339710  \n",
              "min              0.000000      3.000000  \n",
              "25%              0.000000      3.000000  \n",
              "50%              0.000000      3.000000  \n",
              "75%              0.000000      3.000000  \n",
              "max              6.000000      5.000000  "
            ]
          },
          "execution_count": 15,
          "metadata": {},
          "output_type": "execute_result"
        }
      ],
      "source": [
        "data_sample[(data_sample['age/20']>=3) & (data_sample['DebtRatio']>1.)].describe()"
      ]
    },
    {
      "cell_type": "code",
      "execution_count": 16,
      "metadata": {},
      "outputs": [],
      "source": [
        "data.loc[data['age'] == 0, 'age'] = data['age'].median()"
      ]
    },
    {
      "cell_type": "markdown",
      "metadata": {},
      "source": [
        "### **Analysis**\n",
        "violin plot을 이용하여 연령별 DebtRatio를 파악해보았다. 그 결과, 60대 이상 (3번째 boxplot)에서 DebtRatio가 1을 넘어가는 값을 보였다. 이를 통해 data값이 잘못된 것일 지, 이 나이대에 특성이 그러한 지를 파악해 볼 필요가 있어 보였다.\n",
        "\n",
        "그리고 추가적으로 나이가 '0'인 값에 대해서는 있을 수 없는 값으로 판단하여, 중간값으로 대체했다."
      ]
    },
    {
      "cell_type": "markdown",
      "metadata": {
        "id": "2Aj_FrpzuKTO"
      },
      "source": [
        "### RevolvingUtilizationOfUnsecuredLines (Boxplot)"
      ]
    },
    {
      "cell_type": "code",
      "execution_count": 17,
      "metadata": {
        "colab": {
          "base_uri": "https://localhost:8080/"
        },
        "id": "6jOsaBezCgSE",
        "outputId": "4b6c4343-50da-482f-dc66-eaf090067970"
      },
      "outputs": [
        {
          "data": {
            "text/plain": [
              "count    150000.000000\n",
              "mean          6.048438\n",
              "std         249.755371\n",
              "min           0.000000\n",
              "25%           0.029867\n",
              "50%           0.154181\n",
              "75%           0.559046\n",
              "max       50708.000000\n",
              "Name: RevolvingUtilizationOfUnsecuredLines, dtype: float64"
            ]
          },
          "execution_count": 17,
          "metadata": {},
          "output_type": "execute_result"
        }
      ],
      "source": [
        "data['RevolvingUtilizationOfUnsecuredLines'].describe()"
      ]
    },
    {
      "cell_type": "code",
      "execution_count": 18,
      "metadata": {
        "colab": {
          "base_uri": "https://localhost:8080/"
        },
        "id": "i8Sgmb2nuKJX",
        "outputId": "b8b043c8-2f92-46fc-e013-a0565e4326cc"
      },
      "outputs": [
        {
          "data": {
            "text/plain": [
              "SeriousDlqin2yrs  RevolvingUtilizationOfUnsecuredLines  age  NumberOfTime30-59DaysPastDueNotWorse  DebtRatio  MonthlyIncome  NumberOfOpenCreditLinesAndLoans  NumberOfTimes90DaysLate  NumberRealEstateLoansOrLines  NumberOfTime60-89DaysPastDueNotWorse  NumberOfDependents\n",
              "0                 1.000059                              47   0                                     0.375102   9775.0         5                                1                        2                             0                                     3.0                   1\n",
              "1                 1.008430                              26   0                                     0.037537   4075.0         4                                0                        0                             2                                     1.0                   1\n",
              "                  1.007713                              43   0                                     0.235135   3699.0         6                                0                        1                             0                                     0.0                   1\n",
              "                  1.007764                              61   0                                     0.168556   4146.0         4                                1                        0                             0                                     2.0                   1\n",
              "                  1.007768                              39   2                                     0.549801   7800.0         20                               0                        2                             1                                     1.0                   1\n",
              "                                                                                                                                                                                                                                                                                ..\n",
              "0                 1.069475                              61   0                                     0.497835   9466.0         17                               0                        2                             0                                     2.0                   1\n",
              "                  1.069530                              47   1                                     0.059499   8100.0         4                                0                        0                             0                                     0.0                   1\n",
              "                  1.069572                              45   0                                     0.019954   4810.0         2                                0                        0                             0                                     1.0                   1\n",
              "                  1.069860                              62   0                                     0.267368   11500.0        3                                5                        1                             0                                     0.0                   1\n",
              "1                 6190.000000                           27   0                                     0.478532   1280.0         6                                0                        0                             1                                     1.0                   1\n",
              "Length: 2773, dtype: int64"
            ]
          },
          "execution_count": 18,
          "metadata": {},
          "output_type": "execute_result"
        }
      ],
      "source": [
        "data[data['RevolvingUtilizationOfUnsecuredLines'] > 1].value_counts()"
      ]
    },
    {
      "cell_type": "code",
      "execution_count": 19,
      "metadata": {
        "colab": {
          "base_uri": "https://localhost:8080/",
          "height": 0
        },
        "id": "KSPre1D-uKA_",
        "outputId": "ce200b54-3771-41f4-8f9d-84dec2ccf04f"
      },
      "outputs": [
        {
          "data": {
            "image/png": "[encoded data removed]",
            "text/plain": [
              "<Figure size 432x288 with 1 Axes>"
            ]
          },
          "metadata": {
            "needs_background": "light"
          },
          "output_type": "display_data"
        }
      ],
      "source": [
        "plt.boxplot(data['RevolvingUtilizationOfUnsecuredLines'])\n",
        "plt.title('RevolvingUtilizationOfUnsecuredLines')\n",
        "plt.ylim(-0.1, 1.5)\n",
        "plt.show()"
      ]
    },
    {
      "cell_type": "code",
      "execution_count": 20,
      "metadata": {
        "colab": {
          "base_uri": "https://localhost:8080/",
          "height": 0
        },
        "id": "VBvfn_E4zfCu",
        "outputId": "9602ed9f-8d35-452c-bc6e-bb32c381e53c"
      },
      "outputs": [
        {
          "data": {
            "image/png": "[encoded data removed]",
            "text/plain": [
              "<Figure size 432x288 with 1 Axes>"
            ]
          },
          "metadata": {
            "needs_background": "light"
          },
          "output_type": "display_data"
        }
      ],
      "source": [
        "data_sample = data.copy()\n",
        "data_sample['age/20'] = data_sample[['age']].applymap(lambda x : int(x/20))\n",
        "sns.boxplot(x='age/20', y='RevolvingUtilizationOfUnsecuredLines', data=data_sample)\n",
        "plt.title('RevolvingUtilizationOfUnsecuredLines')\n",
        "plt.ylim(-0.1, 1.1)\n",
        "plt.show()"
      ]
    },
    {
      "cell_type": "markdown",
      "metadata": {},
      "source": [
        "### **Analysis**\n",
        "위와 마찬가지로 boxplot을 이용해 연령별로 현재 운용 가능한 현금의 비율을 살펴 보았다. 물론 비율이 1을 넘어가는 값은 이상치라고 생각되며, 적절한 값으로 대체를 하거나 삭제할 필요성은 있어 보인다. 연령은 높아질 수로 현재 운용가능한 현금의 비율이 낮아지는 것을 확인 할 수 있었고, 40~80대에서는 이상치로 판단 되는 값이 많은 것을 또한 확인했다."
      ]
    },
    {
      "cell_type": "markdown",
      "metadata": {
        "id": "rQJsBxesb9JE"
      },
      "source": [
        "### Age (Pie chart)"
      ]
    },
    {
      "cell_type": "code",
      "execution_count": 21,
      "metadata": {
        "colab": {
          "base_uri": "https://localhost:8080/",
          "height": 0
        },
        "id": "fvHBR2iPEoZt",
        "outputId": "6c424489-8599-4ecd-8af0-f1f1fa117e25"
      },
      "outputs": [
        {
          "data": {
            "text/html": [
              "<div>\n",
              "<style scoped>\n",
              "    .dataframe tbody tr th:only-of-type {\n",
              "        vertical-align: middle;\n",
              "    }\n",
              "\n",
              "    .dataframe tbody tr th {\n",
              "        vertical-align: top;\n",
              "    }\n",
              "\n",
              "    .dataframe thead th {\n",
              "        text-align: right;\n",
              "    }\n",
              "</style>\n",
              "<table border=\"1\" class=\"dataframe\">\n",
              "  <thead>\n",
              "    <tr style=\"text-align: right;\">\n",
              "      <th></th>\n",
              "      <th>age</th>\n",
              "    </tr>\n",
              "  </thead>\n",
              "  <tbody>\n",
              "    <tr>\n",
              "      <th>1</th>\n",
              "      <td>45</td>\n",
              "    </tr>\n",
              "    <tr>\n",
              "      <th>2</th>\n",
              "      <td>40</td>\n",
              "    </tr>\n",
              "    <tr>\n",
              "      <th>3</th>\n",
              "      <td>38</td>\n",
              "    </tr>\n",
              "    <tr>\n",
              "      <th>4</th>\n",
              "      <td>30</td>\n",
              "    </tr>\n",
              "    <tr>\n",
              "      <th>5</th>\n",
              "      <td>49</td>\n",
              "    </tr>\n",
              "  </tbody>\n",
              "</table>\n",
              "</div>"
            ],
            "text/plain": [
              "   age\n",
              "1   45\n",
              "2   40\n",
              "3   38\n",
              "4   30\n",
              "5   49"
            ]
          },
          "execution_count": 21,
          "metadata": {},
          "output_type": "execute_result"
        }
      ],
      "source": [
        "age_df = pd.DataFrame(data.age)\n",
        "age_df.head()"
      ]
    },
    {
      "cell_type": "code",
      "execution_count": 22,
      "metadata": {
        "colab": {
          "base_uri": "https://localhost:8080/"
        },
        "id": "kmVM_lBIFxhP",
        "outputId": "2afb195c-988b-4be7-bfc8-28d88acd5547"
      },
      "outputs": [
        {
          "data": {
            "text/plain": [
              "20<=age<40     32003\n",
              "40<=age<60     69679\n",
              "60<=age<80     42506\n",
              "80<=age<100     5799\n",
              "100<=age          13\n",
              "Name: age/20, dtype: int64"
            ]
          },
          "execution_count": 22,
          "metadata": {},
          "output_type": "execute_result"
        }
      ],
      "source": [
        "# 20살 단위로 group화\n",
        "age_df['age/20'] = age_df[['age']].applymap(lambda x : int(x/20))\n",
        "age_df_count = age_df.groupby(['age/20'])['age/20'].count()\n",
        "age_df_count.index = ['20<=age<40', '40<=age<60', '60<=age<80', '80<=age<100', '100<=age']\n",
        "age_df_count.column = ['count']\n",
        "age_df_count"
      ]
    },
    {
      "cell_type": "code",
      "execution_count": 23,
      "metadata": {
        "colab": {
          "base_uri": "https://localhost:8080/",
          "height": 0
        },
        "id": "LJpBM0M5HnaJ",
        "outputId": "ed8dc46c-3e15-4db4-d8d2-636f937db0d2"
      },
      "outputs": [
        {
          "data": {
            "image/png": "[encoded data removed]",
            "text/plain": [
              "<Figure size 504x432 with 1 Axes>"
            ]
          },
          "metadata": {},
          "output_type": "display_data"
        }
      ],
      "source": [
        "# data visualization\n",
        "plt.figure(figsize=(7, 6))\n",
        "plt.pie(age_df_count.values, labels=age_df_count.index, autopct='%1.1f%%')\n",
        "plt.axis('equal')\n",
        "plt.title('age count')\n",
        "plt.show()"
      ]
    },
    {
      "cell_type": "markdown",
      "metadata": {
        "id": "ojwXupIKiWSo"
      },
      "source": [
        "### **Analysis**\n",
        "전체적인 나이 분포를 확인해본 결과, 40 ~ 60살 정도가 46.5% 이상의 높은 비율을 가지고 있었고 다음으로 60 ~ 80살이 28.3%로 40살 이상에서 약 75%가 넘는 분포를 가지고 있었다. 그 다음으로 20 ~ 40살 정도에서 약 21%의 비율을 차지했음을 알 수 있었다."
      ]
    },
    {
      "cell_type": "markdown",
      "metadata": {
        "id": "JN-ezBtki3Cz"
      },
      "source": [
        "### SeriousDlqin2yrs (Violin Plot)"
      ]
    },
    {
      "cell_type": "code",
      "execution_count": 24,
      "metadata": {
        "colab": {
          "base_uri": "https://localhost:8080/",
          "height": 0
        },
        "id": "tgFx4iHGIJcu",
        "outputId": "5035ef6f-1823-4455-9cd6-76f386f2a7db"
      },
      "outputs": [
        {
          "data": {
            "text/html": [
              "<div>\n",
              "<style scoped>\n",
              "    .dataframe tbody tr th:only-of-type {\n",
              "        vertical-align: middle;\n",
              "    }\n",
              "\n",
              "    .dataframe tbody tr th {\n",
              "        vertical-align: top;\n",
              "    }\n",
              "\n",
              "    .dataframe thead th {\n",
              "        text-align: right;\n",
              "    }\n",
              "</style>\n",
              "<table border=\"1\" class=\"dataframe\">\n",
              "  <thead>\n",
              "    <tr style=\"text-align: right;\">\n",
              "      <th></th>\n",
              "      <th>SeriousDlqin2yrs</th>\n",
              "    </tr>\n",
              "  </thead>\n",
              "  <tbody>\n",
              "    <tr>\n",
              "      <th>1</th>\n",
              "      <td>1</td>\n",
              "    </tr>\n",
              "    <tr>\n",
              "      <th>2</th>\n",
              "      <td>0</td>\n",
              "    </tr>\n",
              "    <tr>\n",
              "      <th>3</th>\n",
              "      <td>0</td>\n",
              "    </tr>\n",
              "    <tr>\n",
              "      <th>4</th>\n",
              "      <td>0</td>\n",
              "    </tr>\n",
              "    <tr>\n",
              "      <th>5</th>\n",
              "      <td>0</td>\n",
              "    </tr>\n",
              "  </tbody>\n",
              "</table>\n",
              "</div>"
            ],
            "text/plain": [
              "   SeriousDlqin2yrs\n",
              "1                 1\n",
              "2                 0\n",
              "3                 0\n",
              "4                 0\n",
              "5                 0"
            ]
          },
          "execution_count": 24,
          "metadata": {},
          "output_type": "execute_result"
        }
      ],
      "source": [
        "df_SeriousDlqin2yrs = pd.DataFrame(data.SeriousDlqin2yrs)\n",
        "df_SeriousDlqin2yrs.head()"
      ]
    },
    {
      "cell_type": "code",
      "execution_count": 25,
      "metadata": {},
      "outputs": [
        {
          "data": {
            "text/plain": [
              "0     142396\n",
              "1       5731\n",
              "2       1118\n",
              "3        318\n",
              "98       264\n",
              "4        105\n",
              "5         34\n",
              "6         16\n",
              "7          9\n",
              "96         5\n",
              "8          2\n",
              "11         1\n",
              "9          1\n",
              "Name: NumberOfTime60-89DaysPastDueNotWorse, dtype: int64"
            ]
          },
          "execution_count": 25,
          "metadata": {},
          "output_type": "execute_result"
        }
      ],
      "source": [
        "data['NumberOfTime60-89DaysPastDueNotWorse'].value_counts()"
      ]
    },
    {
      "cell_type": "code",
      "execution_count": 26,
      "metadata": {
        "colab": {
          "base_uri": "https://localhost:8080/",
          "height": 0
        },
        "id": "JWDZOlXRTdKi",
        "outputId": "32d1e9e1-bb8e-4646-eb5f-119b0d06c7de"
      },
      "outputs": [
        {
          "name": "stderr",
          "output_type": "stream",
          "text": [
            "C:\\Users\\ChangHo Kim\\AppData\\Roaming\\Python\\Python39\\site-packages\\seaborn\\_decorators.py:36: FutureWarning: Pass the following variables as keyword args: x, y. From version 0.12, the only valid positional argument will be `data`, and passing other arguments without an explicit keyword will result in an error or misinterpretation.\n",
            "  warnings.warn(\n"
          ]
        },
        {
          "data": {
            "image/png": "[encoded data removed]",
            "text/plain": [
              "<Figure size 1080x720 with 1 Axes>"
            ]
          },
          "metadata": {
            "needs_background": "light"
          },
          "output_type": "display_data"
        }
      ],
      "source": [
        "plt.figure(figsize=(15, 10))\n",
        "sns.violinplot('NumberOfTime60-89DaysPastDueNotWorse', 'age', hue='SeriousDlqin2yrs', data=data[data['NumberOfTime60-89DaysPastDueNotWorse'] < 8])\n",
        "plt.title('SeriousDlqin2yrs')\n",
        "plt.show()"
      ]
    },
    {
      "cell_type": "markdown",
      "metadata": {
        "id": "1xegBzU1mzlP"
      },
      "source": [
        "### **Analysis**\n",
        "violin plot을 이용하여 최근 2년간 60 ~ 89일 연체한 횟수에 따른 2년 동안 90일 이상 연체 여부를 파악해보려고 했다. 하지만 위의 그림과 같이 60 ~ 89일 연체한 횟수에 대해 이상치 (outlier)로 보이는 것이 탐지가 되었다.\n",
        "\n",
        "이를 value_counts()를 통해서 다시 본 결과, 2년간 연체한 횟수가 98, 96번이라는 답변이 **264명과 5명**으로 조사되어 있다는 것을 파악했다. 이에 대한 값을 아예 **삭제를 할 것인지, 아니면 값을 대체할 지를** 결정이 필요해 보인다.\n",
        "\n",
        "그리고 그림을 통해서 outlier 등을 제외한 나머지 분포를 살펴보았을 때에, 연체를 한 사람이 **가운데 연령대**에서 조금 더 높은 비율을 가진 것을 확인했습니다."
      ]
    },
    {
      "cell_type": "markdown",
      "metadata": {
        "id": "RKF-E56jqLju"
      },
      "source": [
        "## 결측치 파악"
      ]
    },
    {
      "cell_type": "code",
      "execution_count": 27,
      "metadata": {
        "colab": {
          "base_uri": "https://localhost:8080/"
        },
        "id": "99PFeElOEEr1",
        "outputId": "8e16b861-0201-4933-d3a6-3307a9ce82fb"
      },
      "outputs": [
        {
          "name": "stdout",
          "output_type": "stream",
          "text": [
            "<class 'pandas.core.frame.DataFrame'>\n",
            "Int64Index: 150000 entries, 1 to 150000\n",
            "Data columns (total 11 columns):\n",
            " #   Column                                Non-Null Count   Dtype  \n",
            "---  ------                                --------------   -----  \n",
            " 0   SeriousDlqin2yrs                      150000 non-null  int64  \n",
            " 1   RevolvingUtilizationOfUnsecuredLines  150000 non-null  float64\n",
            " 2   age                                   150000 non-null  int64  \n",
            " 3   NumberOfTime30-59DaysPastDueNotWorse  150000 non-null  int64  \n",
            " 4   DebtRatio                             150000 non-null  float64\n",
            " 5   MonthlyIncome                         120269 non-null  float64\n",
            " 6   NumberOfOpenCreditLinesAndLoans       150000 non-null  int64  \n",
            " 7   NumberOfTimes90DaysLate               150000 non-null  int64  \n",
            " 8   NumberRealEstateLoansOrLines          150000 non-null  int64  \n",
            " 9   NumberOfTime60-89DaysPastDueNotWorse  150000 non-null  int64  \n",
            " 10  NumberOfDependents                    146076 non-null  float64\n",
            "dtypes: float64(4), int64(7)\n",
            "memory usage: 17.8 MB\n"
          ]
        }
      ],
      "source": [
        "data.info()"
      ]
    },
    {
      "cell_type": "code",
      "execution_count": 28,
      "metadata": {
        "colab": {
          "base_uri": "https://localhost:8080/"
        },
        "id": "qcOfoPXrETEK",
        "outputId": "1a63e641-958d-42d7-d706-796dfe842369"
      },
      "outputs": [
        {
          "data": {
            "text/plain": [
              "SeriousDlqin2yrs                            0\n",
              "RevolvingUtilizationOfUnsecuredLines        0\n",
              "age                                         0\n",
              "NumberOfTime30-59DaysPastDueNotWorse        0\n",
              "DebtRatio                                   0\n",
              "MonthlyIncome                           29731\n",
              "NumberOfOpenCreditLinesAndLoans             0\n",
              "NumberOfTimes90DaysLate                     0\n",
              "NumberRealEstateLoansOrLines                0\n",
              "NumberOfTime60-89DaysPastDueNotWorse        0\n",
              "NumberOfDependents                       3924\n",
              "dtype: int64"
            ]
          },
          "execution_count": 28,
          "metadata": {},
          "output_type": "execute_result"
        }
      ],
      "source": [
        "data.isna().sum()"
      ]
    },
    {
      "cell_type": "markdown",
      "metadata": {
        "id": "Bj7F15r_qTMX"
      },
      "source": [
        "### **Analysis**\n",
        "결측치 (NA)에 대한 분석이다. 총 2개의 요소에서 결측치가 발생했다. (MonthlyIncome, NumberOfDependents) 특히, 월 수입에 대한 결측치는 거의 3만개에 가까운 숫자이기에 삭제하기에는 무리가 있다고 판단되었다. 그리고 부양 가족의 수도 그냥 삭제하기 보다는 데이터 전체의 평균 등으로 대체하여 사용할 예정이다.\n",
        "\n",
        "구체적으로 위의 상관 관계(heat map)에서 볼 수 있듯이, MonthlyIncome은 NumberRealEstateLoansOrLines에서 그나마 높은 상관 관계를 가지기에 각 값 별로 가지고 있는 월 평균 수입을 MonthlyIncome 값으로 대체할 예정이다.\n",
        "\n",
        "다음으로 NumberOfDependents의 경우, age와 음의 상관 관계이지만 관련성이 높아 보이므로 나이대에 따른 NumberOfDependents를 적용하거나 삭제할 예정이다."
      ]
    },
    {
      "cell_type": "markdown",
      "metadata": {
        "id": "htWKvHxBtya5"
      },
      "source": [
        "## Data preprocessing"
      ]
    },
    {
      "cell_type": "code",
      "execution_count": 29,
      "metadata": {},
      "outputs": [
        {
          "data": {
            "text/html": [
              "<div>\n",
              "<style scoped>\n",
              "    .dataframe tbody tr th:only-of-type {\n",
              "        vertical-align: middle;\n",
              "    }\n",
              "\n",
              "    .dataframe tbody tr th {\n",
              "        vertical-align: top;\n",
              "    }\n",
              "\n",
              "    .dataframe thead th {\n",
              "        text-align: right;\n",
              "    }\n",
              "</style>\n",
              "<table border=\"1\" class=\"dataframe\">\n",
              "  <thead>\n",
              "    <tr style=\"text-align: right;\">\n",
              "      <th></th>\n",
              "      <th>SeriousDlqin2yrs</th>\n",
              "      <th>RevolvingUtilizationOfUnsecuredLines</th>\n",
              "      <th>age</th>\n",
              "      <th>NumberOfTime30-59DaysPastDueNotWorse</th>\n",
              "      <th>DebtRatio</th>\n",
              "      <th>MonthlyIncome</th>\n",
              "      <th>NumberOfOpenCreditLinesAndLoans</th>\n",
              "      <th>NumberOfTimes90DaysLate</th>\n",
              "      <th>NumberRealEstateLoansOrLines</th>\n",
              "      <th>NumberOfTime60-89DaysPastDueNotWorse</th>\n",
              "      <th>NumberOfDependents</th>\n",
              "    </tr>\n",
              "  </thead>\n",
              "  <tbody>\n",
              "    <tr>\n",
              "      <th>1</th>\n",
              "      <td>1</td>\n",
              "      <td>0.766127</td>\n",
              "      <td>45</td>\n",
              "      <td>2</td>\n",
              "      <td>0.802982</td>\n",
              "      <td>9120.0</td>\n",
              "      <td>13</td>\n",
              "      <td>0</td>\n",
              "      <td>6</td>\n",
              "      <td>0</td>\n",
              "      <td>2.0</td>\n",
              "    </tr>\n",
              "    <tr>\n",
              "      <th>2</th>\n",
              "      <td>0</td>\n",
              "      <td>0.957151</td>\n",
              "      <td>40</td>\n",
              "      <td>0</td>\n",
              "      <td>0.121876</td>\n",
              "      <td>2600.0</td>\n",
              "      <td>4</td>\n",
              "      <td>0</td>\n",
              "      <td>0</td>\n",
              "      <td>0</td>\n",
              "      <td>1.0</td>\n",
              "    </tr>\n",
              "    <tr>\n",
              "      <th>3</th>\n",
              "      <td>0</td>\n",
              "      <td>0.658180</td>\n",
              "      <td>38</td>\n",
              "      <td>1</td>\n",
              "      <td>0.085113</td>\n",
              "      <td>3042.0</td>\n",
              "      <td>2</td>\n",
              "      <td>1</td>\n",
              "      <td>0</td>\n",
              "      <td>0</td>\n",
              "      <td>0.0</td>\n",
              "    </tr>\n",
              "    <tr>\n",
              "      <th>4</th>\n",
              "      <td>0</td>\n",
              "      <td>0.233810</td>\n",
              "      <td>30</td>\n",
              "      <td>0</td>\n",
              "      <td>0.036050</td>\n",
              "      <td>3300.0</td>\n",
              "      <td>5</td>\n",
              "      <td>0</td>\n",
              "      <td>0</td>\n",
              "      <td>0</td>\n",
              "      <td>0.0</td>\n",
              "    </tr>\n",
              "    <tr>\n",
              "      <th>5</th>\n",
              "      <td>0</td>\n",
              "      <td>0.907239</td>\n",
              "      <td>49</td>\n",
              "      <td>1</td>\n",
              "      <td>0.024926</td>\n",
              "      <td>63588.0</td>\n",
              "      <td>7</td>\n",
              "      <td>0</td>\n",
              "      <td>1</td>\n",
              "      <td>0</td>\n",
              "      <td>0.0</td>\n",
              "    </tr>\n",
              "  </tbody>\n",
              "</table>\n",
              "</div>"
            ],
            "text/plain": [
              "   SeriousDlqin2yrs  RevolvingUtilizationOfUnsecuredLines  age  \\\n",
              "1                 1                              0.766127   45   \n",
              "2                 0                              0.957151   40   \n",
              "3                 0                              0.658180   38   \n",
              "4                 0                              0.233810   30   \n",
              "5                 0                              0.907239   49   \n",
              "\n",
              "   NumberOfTime30-59DaysPastDueNotWorse  DebtRatio  MonthlyIncome  \\\n",
              "1                                     2   0.802982         9120.0   \n",
              "2                                     0   0.121876         2600.0   \n",
              "3                                     1   0.085113         3042.0   \n",
              "4                                     0   0.036050         3300.0   \n",
              "5                                     1   0.024926        63588.0   \n",
              "\n",
              "   NumberOfOpenCreditLinesAndLoans  NumberOfTimes90DaysLate  \\\n",
              "1                               13                        0   \n",
              "2                                4                        0   \n",
              "3                                2                        1   \n",
              "4                                5                        0   \n",
              "5                                7                        0   \n",
              "\n",
              "   NumberRealEstateLoansOrLines  NumberOfTime60-89DaysPastDueNotWorse  \\\n",
              "1                             6                                     0   \n",
              "2                             0                                     0   \n",
              "3                             0                                     0   \n",
              "4                             0                                     0   \n",
              "5                             1                                     0   \n",
              "\n",
              "   NumberOfDependents  \n",
              "1                 2.0  \n",
              "2                 1.0  \n",
              "3                 0.0  \n",
              "4                 0.0  \n",
              "5                 0.0  "
            ]
          },
          "execution_count": 29,
          "metadata": {},
          "output_type": "execute_result"
        }
      ],
      "source": [
        "data_1 = data.copy()\n",
        "data_1.head()"
      ]
    },
    {
      "cell_type": "code",
      "execution_count": 30,
      "metadata": {},
      "outputs": [
        {
          "data": {
            "image/png": "[encoded data removed]",
            "text/plain": [
              "<Figure size 432x288 with 1 Axes>"
            ]
          },
          "metadata": {
            "needs_background": "light"
          },
          "output_type": "display_data"
        },
        {
          "data": {
            "image/png": "[encoded data removed]",
            "text/plain": [
              "<Figure size 432x288 with 1 Axes>"
            ]
          },
          "metadata": {
            "needs_background": "light"
          },
          "output_type": "display_data"
        }
      ],
      "source": [
        "partial_data_1 = data_1[['MonthlyIncome','NumberOfDependents']]\n",
        "#partial_data_1.dropna(how='any')\n",
        "partial_data_1 = partial_data_1.dropna(how='any')\n",
        "\n",
        "sns.histplot(partial_data_1['MonthlyIncome'], kde=True, bins=100)\n",
        "plt.show()\n",
        "sns.histplot(partial_data_1['NumberOfDependents'], kde=True, bins=100)\n",
        "plt.show()"
      ]
    },
    {
      "cell_type": "markdown",
      "metadata": {},
      "source": [
        "### 결측치 처리 : NumberOfDependents"
      ]
    },
    {
      "cell_type": "code",
      "execution_count": 31,
      "metadata": {
        "colab": {
          "base_uri": "https://localhost:8080/",
          "height": 224
        },
        "id": "4v05_nEJuQHh",
        "outputId": "61327f6f-b1c2-4407-a27e-04b6a767c8ce"
      },
      "outputs": [
        {
          "data": {
            "text/html": [
              "<div>\n",
              "<style scoped>\n",
              "    .dataframe tbody tr th:only-of-type {\n",
              "        vertical-align: middle;\n",
              "    }\n",
              "\n",
              "    .dataframe tbody tr th {\n",
              "        vertical-align: top;\n",
              "    }\n",
              "\n",
              "    .dataframe thead th {\n",
              "        text-align: right;\n",
              "    }\n",
              "</style>\n",
              "<table border=\"1\" class=\"dataframe\">\n",
              "  <thead>\n",
              "    <tr style=\"text-align: right;\">\n",
              "      <th></th>\n",
              "      <th>SeriousDlqin2yrs</th>\n",
              "      <th>RevolvingUtilizationOfUnsecuredLines</th>\n",
              "      <th>age</th>\n",
              "      <th>NumberOfTime30-59DaysPastDueNotWorse</th>\n",
              "      <th>DebtRatio</th>\n",
              "      <th>MonthlyIncome</th>\n",
              "      <th>NumberOfOpenCreditLinesAndLoans</th>\n",
              "      <th>NumberOfTimes90DaysLate</th>\n",
              "      <th>NumberRealEstateLoansOrLines</th>\n",
              "      <th>NumberOfTime60-89DaysPastDueNotWorse</th>\n",
              "      <th>NumberOfDependents</th>\n",
              "      <th>age/10</th>\n",
              "    </tr>\n",
              "  </thead>\n",
              "  <tbody>\n",
              "    <tr>\n",
              "      <th>1</th>\n",
              "      <td>1</td>\n",
              "      <td>0.766127</td>\n",
              "      <td>45</td>\n",
              "      <td>2</td>\n",
              "      <td>0.802982</td>\n",
              "      <td>9120.0</td>\n",
              "      <td>13</td>\n",
              "      <td>0</td>\n",
              "      <td>6</td>\n",
              "      <td>0</td>\n",
              "      <td>2.0</td>\n",
              "      <td>4</td>\n",
              "    </tr>\n",
              "    <tr>\n",
              "      <th>2</th>\n",
              "      <td>0</td>\n",
              "      <td>0.957151</td>\n",
              "      <td>40</td>\n",
              "      <td>0</td>\n",
              "      <td>0.121876</td>\n",
              "      <td>2600.0</td>\n",
              "      <td>4</td>\n",
              "      <td>0</td>\n",
              "      <td>0</td>\n",
              "      <td>0</td>\n",
              "      <td>1.0</td>\n",
              "      <td>4</td>\n",
              "    </tr>\n",
              "    <tr>\n",
              "      <th>3</th>\n",
              "      <td>0</td>\n",
              "      <td>0.658180</td>\n",
              "      <td>38</td>\n",
              "      <td>1</td>\n",
              "      <td>0.085113</td>\n",
              "      <td>3042.0</td>\n",
              "      <td>2</td>\n",
              "      <td>1</td>\n",
              "      <td>0</td>\n",
              "      <td>0</td>\n",
              "      <td>0.0</td>\n",
              "      <td>3</td>\n",
              "    </tr>\n",
              "    <tr>\n",
              "      <th>4</th>\n",
              "      <td>0</td>\n",
              "      <td>0.233810</td>\n",
              "      <td>30</td>\n",
              "      <td>0</td>\n",
              "      <td>0.036050</td>\n",
              "      <td>3300.0</td>\n",
              "      <td>5</td>\n",
              "      <td>0</td>\n",
              "      <td>0</td>\n",
              "      <td>0</td>\n",
              "      <td>0.0</td>\n",
              "      <td>3</td>\n",
              "    </tr>\n",
              "    <tr>\n",
              "      <th>5</th>\n",
              "      <td>0</td>\n",
              "      <td>0.907239</td>\n",
              "      <td>49</td>\n",
              "      <td>1</td>\n",
              "      <td>0.024926</td>\n",
              "      <td>63588.0</td>\n",
              "      <td>7</td>\n",
              "      <td>0</td>\n",
              "      <td>1</td>\n",
              "      <td>0</td>\n",
              "      <td>0.0</td>\n",
              "      <td>4</td>\n",
              "    </tr>\n",
              "  </tbody>\n",
              "</table>\n",
              "</div>"
            ],
            "text/plain": [
              "   SeriousDlqin2yrs  RevolvingUtilizationOfUnsecuredLines  age  \\\n",
              "1                 1                              0.766127   45   \n",
              "2                 0                              0.957151   40   \n",
              "3                 0                              0.658180   38   \n",
              "4                 0                              0.233810   30   \n",
              "5                 0                              0.907239   49   \n",
              "\n",
              "   NumberOfTime30-59DaysPastDueNotWorse  DebtRatio  MonthlyIncome  \\\n",
              "1                                     2   0.802982         9120.0   \n",
              "2                                     0   0.121876         2600.0   \n",
              "3                                     1   0.085113         3042.0   \n",
              "4                                     0   0.036050         3300.0   \n",
              "5                                     1   0.024926        63588.0   \n",
              "\n",
              "   NumberOfOpenCreditLinesAndLoans  NumberOfTimes90DaysLate  \\\n",
              "1                               13                        0   \n",
              "2                                4                        0   \n",
              "3                                2                        1   \n",
              "4                                5                        0   \n",
              "5                                7                        0   \n",
              "\n",
              "   NumberRealEstateLoansOrLines  NumberOfTime60-89DaysPastDueNotWorse  \\\n",
              "1                             6                                     0   \n",
              "2                             0                                     0   \n",
              "3                             0                                     0   \n",
              "4                             0                                     0   \n",
              "5                             1                                     0   \n",
              "\n",
              "   NumberOfDependents  age/10  \n",
              "1                 2.0       4  \n",
              "2                 1.0       4  \n",
              "3                 0.0       3  \n",
              "4                 0.0       3  \n",
              "5                 0.0       4  "
            ]
          },
          "execution_count": 31,
          "metadata": {},
          "output_type": "execute_result"
        }
      ],
      "source": [
        "data_1['age/10'] = data_1[['age']].applymap(lambda x : int(x/10))\n",
        "data_1.head()"
      ]
    },
    {
      "cell_type": "code",
      "execution_count": 32,
      "metadata": {
        "colab": {
          "base_uri": "https://localhost:8080/"
        },
        "id": "iNfqozIau-I5",
        "outputId": "25e98b26-d73c-4ba0-a609-a4725266de8f"
      },
      "outputs": [
        {
          "data": {
            "text/plain": [
              "age/10\n",
              "2     0.0\n",
              "3     1.0\n",
              "4     1.0\n",
              "5     1.0\n",
              "6     0.0\n",
              "7     0.0\n",
              "8     0.0\n",
              "9     0.0\n",
              "10    0.0\n",
              "Name: NumberOfDependents, dtype: float64"
            ]
          },
          "execution_count": 32,
          "metadata": {},
          "output_type": "execute_result"
        }
      ],
      "source": [
        "mean_df = data_1.groupby('age/10')['NumberOfDependents'].mean()\n",
        "mean_df = round(mean_df)\n",
        "mean_df"
      ]
    },
    {
      "cell_type": "code",
      "execution_count": 33,
      "metadata": {
        "id": "Tgys-NG9xV2Q"
      },
      "outputs": [],
      "source": [
        "# NumberOfDependents의 결측치 채우기\n",
        "for j in range(0, 11):\n",
        "    for i in mean_df:\n",
        "        data_1.loc[(data_1['NumberOfDependents'].isnull()) & (data_1['age/10'] == j),\n",
        "                    'NumberOfDependents'] = round(i)"
      ]
    },
    {
      "cell_type": "code",
      "execution_count": 34,
      "metadata": {
        "colab": {
          "base_uri": "https://localhost:8080/"
        },
        "id": "kCnHSnWazfRQ",
        "outputId": "747d3946-862e-4da6-d797-ab5fb480190e"
      },
      "outputs": [
        {
          "name": "stdout",
          "output_type": "stream",
          "text": [
            "<class 'pandas.core.frame.DataFrame'>\n",
            "Int64Index: 150000 entries, 1 to 150000\n",
            "Data columns (total 12 columns):\n",
            " #   Column                                Non-Null Count   Dtype  \n",
            "---  ------                                --------------   -----  \n",
            " 0   SeriousDlqin2yrs                      150000 non-null  int64  \n",
            " 1   RevolvingUtilizationOfUnsecuredLines  150000 non-null  float64\n",
            " 2   age                                   150000 non-null  int64  \n",
            " 3   NumberOfTime30-59DaysPastDueNotWorse  150000 non-null  int64  \n",
            " 4   DebtRatio                             150000 non-null  float64\n",
            " 5   MonthlyIncome                         120269 non-null  float64\n",
            " 6   NumberOfOpenCreditLinesAndLoans       150000 non-null  int64  \n",
            " 7   NumberOfTimes90DaysLate               150000 non-null  int64  \n",
            " 8   NumberRealEstateLoansOrLines          150000 non-null  int64  \n",
            " 9   NumberOfTime60-89DaysPastDueNotWorse  150000 non-null  int64  \n",
            " 10  NumberOfDependents                    150000 non-null  float64\n",
            " 11  age/10                                150000 non-null  int64  \n",
            "dtypes: float64(4), int64(8)\n",
            "memory usage: 18.9 MB\n"
          ]
        }
      ],
      "source": [
        "data_1.info()"
      ]
    },
    {
      "cell_type": "markdown",
      "metadata": {
        "id": "diur50Xq5ymF"
      },
      "source": [
        "### 결측치 처리 : MonthlyIncome"
      ]
    },
    {
      "cell_type": "code",
      "execution_count": 35,
      "metadata": {
        "colab": {
          "base_uri": "https://localhost:8080/"
        },
        "id": "4LTvyJMe-TPm",
        "outputId": "9107f33b-a0a4-483f-efc2-be514fc76f1e"
      },
      "outputs": [
        {
          "data": {
            "text/plain": [
              "(age/10\n",
              " 2     2999.883430\n",
              " 3     5577.010729\n",
              " 4     7319.504950\n",
              " 5     7854.726798\n",
              " 6     7488.072723\n",
              " 7     5768.068784\n",
              " 8     5313.903383\n",
              " 9     5757.194366\n",
              " 10    1996.800000\n",
              " Name: MonthlyIncome, dtype: float64,\n",
              " (9,))"
            ]
          },
          "execution_count": 35,
          "metadata": {},
          "output_type": "execute_result"
        }
      ],
      "source": [
        "mean_df1 = data_1.loc[data_1['SeriousDlqin2yrs'] == 0, 'MonthlyIncome'].groupby(data_1['age/10']).mean()\n",
        "mean_df1, mean_df1.shape"
      ]
    },
    {
      "cell_type": "code",
      "execution_count": 36,
      "metadata": {},
      "outputs": [
        {
          "data": {
            "text/plain": [
              "(age/10\n",
              " 2     2898.832524\n",
              " 3     5000.628413\n",
              " 4     6131.941922\n",
              " 5     6683.833684\n",
              " 6     6105.761176\n",
              " 7     5363.187500\n",
              " 8     4582.025316\n",
              " 9     8938.375000\n",
              " 10    2883.000000\n",
              " Name: MonthlyIncome, dtype: float64,\n",
              " (9,))"
            ]
          },
          "execution_count": 36,
          "metadata": {},
          "output_type": "execute_result"
        }
      ],
      "source": [
        "mean_df2 = data_1.loc[data_1['SeriousDlqin2yrs'] == 1, 'MonthlyIncome'].groupby(data_1['age/10']).mean()\n",
        "mean_df2, mean_df2.shape"
      ]
    },
    {
      "cell_type": "code",
      "execution_count": 37,
      "metadata": {
        "id": "MOWW_AC0_0ds"
      },
      "outputs": [],
      "source": [
        "# MonthlyIncome 결측치 채우기\n",
        "\n",
        "for i in mean_df1:\n",
        "  for j in range(2, 11):\n",
        "    data_1.loc[(data_1['SeriousDlqin2yrs'] == 0) & (data_1['MonthlyIncome'].isnull()) & (data_1['age/10'] == j),\n",
        "              'MonthlyIncome'] = i\n",
        "\n",
        "for i in mean_df2:\n",
        "  for j in range(2, 11):\n",
        "    data_1.loc[(data_1['SeriousDlqin2yrs'] == 1) & (data_1['MonthlyIncome'].isnull()) & (data_1['age/10'] == j),\n",
        "              'MonthlyIncome'] = i"
      ]
    },
    {
      "cell_type": "code",
      "execution_count": 38,
      "metadata": {},
      "outputs": [
        {
          "data": {
            "text/plain": [
              "(150000, 11)"
            ]
          },
          "execution_count": 38,
          "metadata": {},
          "output_type": "execute_result"
        }
      ],
      "source": [
        "data_1.drop('age/10', axis=1, inplace=True)\n",
        "data_1.shape"
      ]
    },
    {
      "cell_type": "code",
      "execution_count": 39,
      "metadata": {
        "colab": {
          "base_uri": "https://localhost:8080/"
        },
        "id": "Hsa6J54r52Eu",
        "outputId": "3fa02eca-ecbf-40e7-d032-72de7ffdcc48"
      },
      "outputs": [
        {
          "data": {
            "text/plain": [
              "SeriousDlqin2yrs                        False\n",
              "RevolvingUtilizationOfUnsecuredLines    False\n",
              "age                                     False\n",
              "NumberOfTime30-59DaysPastDueNotWorse    False\n",
              "DebtRatio                               False\n",
              "MonthlyIncome                           False\n",
              "NumberOfOpenCreditLinesAndLoans         False\n",
              "NumberOfTimes90DaysLate                 False\n",
              "NumberRealEstateLoansOrLines            False\n",
              "NumberOfTime60-89DaysPastDueNotWorse    False\n",
              "NumberOfDependents                      False\n",
              "dtype: bool"
            ]
          },
          "execution_count": 39,
          "metadata": {},
          "output_type": "execute_result"
        }
      ],
      "source": [
        "data_1.isna().any()"
      ]
    },
    {
      "cell_type": "markdown",
      "metadata": {
        "id": "vcqo0k3m89Jm"
      },
      "source": [
        "### Result\n",
        "NumberOfDependents와 MonthlyIncome의 결측치를 위와 같이 다 채우는 방향으로 진행하였다.\n",
        "\n",
        "구체적으로 NumberOfDependents의 경우에는 age를 10살 기준으로 나누어 각 평균값을 구하고, 각 나이가 해당되는 연령의 결측치에 평균값(int)으로 채웠다.\n",
        "\n",
        "다음으로 MonthlyIncome는 SeriousDlqin2yrs와 연령별 기준에 대한 MonthlyIncome 평균값을 구했다. 이를 각 해당하는 대출 건수에 대한 결측치를 채웠다."
      ]
    },
    {
      "cell_type": "markdown",
      "metadata": {
        "id": "tm7JtSCO-YmE"
      },
      "source": [
        "## Outlier (이상치)"
      ]
    },
    {
      "cell_type": "code",
      "execution_count": 40,
      "metadata": {
        "id": "b2UMYNQdwHBC"
      },
      "outputs": [],
      "source": [
        "def get_outlier(df=None, column=None, weight=1.5):\n",
        "  # target 값과 상관관계가 높은 열을 우선적으로 진행\n",
        "  quantile_25 = np.percentile(df[column].values, 25)\n",
        "  quantile_75 = np.percentile(df[column].values, 75)\n",
        "\n",
        "  IQR = quantile_75 - quantile_25\n",
        "  \n",
        "  lowest = quantile_25 - IQR*weight\n",
        "  highest = quantile_75 + IQR*weight\n",
        "  lowest_outlier_idx = df[column][df[column] < lowest].index\n",
        "  highest_outlier_idx = df[column][df[column] > highest].index\n",
        "  return lowest, highest, lowest_outlier_idx, highest_outlier_idx"
      ]
    },
    {
      "cell_type": "markdown",
      "metadata": {
        "id": "SoQeJijbvYbH"
      },
      "source": [
        "### 이상치 제거 : RevolvingUtilizationOfUnsecuredLines\n",
        "\n",
        "- Data 이상치라고 판단되는 값을 Max. value로 대체함"
      ]
    },
    {
      "cell_type": "code",
      "execution_count": 41,
      "metadata": {},
      "outputs": [
        {
          "data": {
            "text/plain": [
              "(-0.7639007662499999, 1.35281445575, Int64Index([], dtype='int64'), (763,))"
            ]
          },
          "execution_count": 41,
          "metadata": {},
          "output_type": "execute_result"
        }
      ],
      "source": [
        "# lowest, highest value 및 index 확인\n",
        "lowest, highest, lowest_outlier_idx, highest_outlier_idx = get_outlier(data_1, 'RevolvingUtilizationOfUnsecuredLines')\n",
        "lowest, highest, lowest_outlier_idx, highest_outlier_idx.shape"
      ]
    },
    {
      "cell_type": "code",
      "execution_count": 42,
      "metadata": {
        "id": "5RmUXIx5aGWj"
      },
      "outputs": [],
      "source": [
        "# replace value\n",
        "data_1.loc[data_1['RevolvingUtilizationOfUnsecuredLines'] > highest, 'RevolvingUtilizationOfUnsecuredLines'] = highest"
      ]
    },
    {
      "cell_type": "code",
      "execution_count": 43,
      "metadata": {
        "colab": {
          "base_uri": "https://localhost:8080/"
        },
        "id": "T3Vq7qv2wqVv",
        "outputId": "350e0ff1-1218-4b29-c82c-aa1714f9f466"
      },
      "outputs": [
        {
          "data": {
            "text/plain": [
              "Series([], dtype: int64)"
            ]
          },
          "execution_count": 43,
          "metadata": {},
          "output_type": "execute_result"
        }
      ],
      "source": [
        "# 결과 확인\n",
        "data_1[data_1['RevolvingUtilizationOfUnsecuredLines'] > highest].value_counts()"
      ]
    },
    {
      "cell_type": "markdown",
      "metadata": {
        "id": "6yreoaokDmOK"
      },
      "source": [
        "### 이상치 제거 : DebtRatio\n",
        "\n",
        "- Data의 속성상 **Highest** 이상의 숫자는 이상치를 대체함"
      ]
    },
    {
      "cell_type": "code",
      "execution_count": 44,
      "metadata": {
        "colab": {
          "base_uri": "https://localhost:8080/"
        },
        "id": "OJcb6JVwxmIx",
        "outputId": "970a312c-d7aa-4d35-f964-3f8867d36c84"
      },
      "outputs": [
        {
          "data": {
            "text/plain": [
              "(-0.8646960792499998,\n",
              " 1.9080236847499998,\n",
              " Int64Index([], dtype='int64'),\n",
              " Int64Index([     7,      9,     15,     17,     33,     42,     45,     51,\n",
              "                 59,     63,\n",
              "             ...\n",
              "             149961, 149964, 149966, 149968, 149976, 149977, 149978, 149985,\n",
              "             149993, 149998],\n",
              "            dtype='int64', length=31311))"
            ]
          },
          "execution_count": 44,
          "metadata": {},
          "output_type": "execute_result"
        }
      ],
      "source": [
        "# lowest, highest value 및 index 확인\n",
        "lowest, highest, lowest_outlier_idx, highest_outlier_idx = get_outlier(data_1, 'DebtRatio')\n",
        "lowest, highest, lowest_outlier_idx, highest_outlier_idx"
      ]
    },
    {
      "cell_type": "code",
      "execution_count": 45,
      "metadata": {
        "id": "A2qz6jGv1BtY"
      },
      "outputs": [],
      "source": [
        "# 이상치 값을 highest로 대체\n",
        "data_1.loc[highest_outlier_idx, 'DebtRatio'] = highest"
      ]
    },
    {
      "cell_type": "code",
      "execution_count": 46,
      "metadata": {
        "colab": {
          "base_uri": "https://localhost:8080/",
          "height": 338
        },
        "id": "imvzptgpDaGh",
        "outputId": "ef0d31dd-fe69-40a9-96bd-66105919beb3"
      },
      "outputs": [
        {
          "data": {
            "text/html": [
              "<div>\n",
              "<style scoped>\n",
              "    .dataframe tbody tr th:only-of-type {\n",
              "        vertical-align: middle;\n",
              "    }\n",
              "\n",
              "    .dataframe tbody tr th {\n",
              "        vertical-align: top;\n",
              "    }\n",
              "\n",
              "    .dataframe thead th {\n",
              "        text-align: right;\n",
              "    }\n",
              "</style>\n",
              "<table border=\"1\" class=\"dataframe\">\n",
              "  <thead>\n",
              "    <tr style=\"text-align: right;\">\n",
              "      <th></th>\n",
              "      <th>SeriousDlqin2yrs</th>\n",
              "      <th>RevolvingUtilizationOfUnsecuredLines</th>\n",
              "      <th>age</th>\n",
              "      <th>NumberOfTime30-59DaysPastDueNotWorse</th>\n",
              "      <th>DebtRatio</th>\n",
              "      <th>MonthlyIncome</th>\n",
              "      <th>NumberOfOpenCreditLinesAndLoans</th>\n",
              "      <th>NumberOfTimes90DaysLate</th>\n",
              "      <th>NumberRealEstateLoansOrLines</th>\n",
              "      <th>NumberOfTime60-89DaysPastDueNotWorse</th>\n",
              "      <th>NumberOfDependents</th>\n",
              "    </tr>\n",
              "  </thead>\n",
              "  <tbody>\n",
              "    <tr>\n",
              "      <th>count</th>\n",
              "      <td>150000.000000</td>\n",
              "      <td>150000.000000</td>\n",
              "      <td>150000.000000</td>\n",
              "      <td>150000.000000</td>\n",
              "      <td>150000.000000</td>\n",
              "      <td>1.500000e+05</td>\n",
              "      <td>150000.000000</td>\n",
              "      <td>150000.000000</td>\n",
              "      <td>150000.000000</td>\n",
              "      <td>150000.000000</td>\n",
              "      <td>150000.000000</td>\n",
              "    </tr>\n",
              "    <tr>\n",
              "      <th>mean</th>\n",
              "      <td>0.066840</td>\n",
              "      <td>0.322261</td>\n",
              "      <td>52.295553</td>\n",
              "      <td>0.421033</td>\n",
              "      <td>0.663258</td>\n",
              "      <td>5.941611e+03</td>\n",
              "      <td>8.452760</td>\n",
              "      <td>0.265973</td>\n",
              "      <td>1.018240</td>\n",
              "      <td>0.240387</td>\n",
              "      <td>0.737413</td>\n",
              "    </tr>\n",
              "    <tr>\n",
              "      <th>std</th>\n",
              "      <td>0.249746</td>\n",
              "      <td>0.356572</td>\n",
              "      <td>14.771249</td>\n",
              "      <td>4.192781</td>\n",
              "      <td>0.688085</td>\n",
              "      <td>1.296355e+04</td>\n",
              "      <td>5.145951</td>\n",
              "      <td>4.169304</td>\n",
              "      <td>1.129771</td>\n",
              "      <td>4.155179</td>\n",
              "      <td>1.107021</td>\n",
              "    </tr>\n",
              "    <tr>\n",
              "      <th>min</th>\n",
              "      <td>0.000000</td>\n",
              "      <td>0.000000</td>\n",
              "      <td>21.000000</td>\n",
              "      <td>0.000000</td>\n",
              "      <td>0.000000</td>\n",
              "      <td>0.000000e+00</td>\n",
              "      <td>0.000000</td>\n",
              "      <td>0.000000</td>\n",
              "      <td>0.000000</td>\n",
              "      <td>0.000000</td>\n",
              "      <td>0.000000</td>\n",
              "    </tr>\n",
              "    <tr>\n",
              "      <th>25%</th>\n",
              "      <td>0.000000</td>\n",
              "      <td>0.029867</td>\n",
              "      <td>41.000000</td>\n",
              "      <td>0.000000</td>\n",
              "      <td>0.175074</td>\n",
              "      <td>2.999883e+03</td>\n",
              "      <td>5.000000</td>\n",
              "      <td>0.000000</td>\n",
              "      <td>0.000000</td>\n",
              "      <td>0.000000</td>\n",
              "      <td>0.000000</td>\n",
              "    </tr>\n",
              "    <tr>\n",
              "      <th>50%</th>\n",
              "      <td>0.000000</td>\n",
              "      <td>0.154181</td>\n",
              "      <td>52.000000</td>\n",
              "      <td>0.000000</td>\n",
              "      <td>0.366508</td>\n",
              "      <td>4.357500e+03</td>\n",
              "      <td>8.000000</td>\n",
              "      <td>0.000000</td>\n",
              "      <td>1.000000</td>\n",
              "      <td>0.000000</td>\n",
              "      <td>0.000000</td>\n",
              "    </tr>\n",
              "    <tr>\n",
              "      <th>75%</th>\n",
              "      <td>0.000000</td>\n",
              "      <td>0.559046</td>\n",
              "      <td>63.000000</td>\n",
              "      <td>0.000000</td>\n",
              "      <td>0.868254</td>\n",
              "      <td>7.400000e+03</td>\n",
              "      <td>11.000000</td>\n",
              "      <td>0.000000</td>\n",
              "      <td>2.000000</td>\n",
              "      <td>0.000000</td>\n",
              "      <td>1.000000</td>\n",
              "    </tr>\n",
              "    <tr>\n",
              "      <th>max</th>\n",
              "      <td>1.000000</td>\n",
              "      <td>1.352814</td>\n",
              "      <td>109.000000</td>\n",
              "      <td>98.000000</td>\n",
              "      <td>1.908024</td>\n",
              "      <td>3.008750e+06</td>\n",
              "      <td>58.000000</td>\n",
              "      <td>98.000000</td>\n",
              "      <td>54.000000</td>\n",
              "      <td>98.000000</td>\n",
              "      <td>20.000000</td>\n",
              "    </tr>\n",
              "  </tbody>\n",
              "</table>\n",
              "</div>"
            ],
            "text/plain": [
              "       SeriousDlqin2yrs  RevolvingUtilizationOfUnsecuredLines            age  \\\n",
              "count     150000.000000                         150000.000000  150000.000000   \n",
              "mean           0.066840                              0.322261      52.295553   \n",
              "std            0.249746                              0.356572      14.771249   \n",
              "min            0.000000                              0.000000      21.000000   \n",
              "25%            0.000000                              0.029867      41.000000   \n",
              "50%            0.000000                              0.154181      52.000000   \n",
              "75%            0.000000                              0.559046      63.000000   \n",
              "max            1.000000                              1.352814     109.000000   \n",
              "\n",
              "       NumberOfTime30-59DaysPastDueNotWorse      DebtRatio  MonthlyIncome  \\\n",
              "count                         150000.000000  150000.000000   1.500000e+05   \n",
              "mean                               0.421033       0.663258   5.941611e+03   \n",
              "std                                4.192781       0.688085   1.296355e+04   \n",
              "min                                0.000000       0.000000   0.000000e+00   \n",
              "25%                                0.000000       0.175074   2.999883e+03   \n",
              "50%                                0.000000       0.366508   4.357500e+03   \n",
              "75%                                0.000000       0.868254   7.400000e+03   \n",
              "max                               98.000000       1.908024   3.008750e+06   \n",
              "\n",
              "       NumberOfOpenCreditLinesAndLoans  NumberOfTimes90DaysLate  \\\n",
              "count                    150000.000000            150000.000000   \n",
              "mean                          8.452760                 0.265973   \n",
              "std                           5.145951                 4.169304   \n",
              "min                           0.000000                 0.000000   \n",
              "25%                           5.000000                 0.000000   \n",
              "50%                           8.000000                 0.000000   \n",
              "75%                          11.000000                 0.000000   \n",
              "max                          58.000000                98.000000   \n",
              "\n",
              "       NumberRealEstateLoansOrLines  NumberOfTime60-89DaysPastDueNotWorse  \\\n",
              "count                 150000.000000                         150000.000000   \n",
              "mean                       1.018240                              0.240387   \n",
              "std                        1.129771                              4.155179   \n",
              "min                        0.000000                              0.000000   \n",
              "25%                        0.000000                              0.000000   \n",
              "50%                        1.000000                              0.000000   \n",
              "75%                        2.000000                              0.000000   \n",
              "max                       54.000000                             98.000000   \n",
              "\n",
              "       NumberOfDependents  \n",
              "count       150000.000000  \n",
              "mean             0.737413  \n",
              "std              1.107021  \n",
              "min              0.000000  \n",
              "25%              0.000000  \n",
              "50%              0.000000  \n",
              "75%              1.000000  \n",
              "max             20.000000  "
            ]
          },
          "execution_count": 46,
          "metadata": {},
          "output_type": "execute_result"
        }
      ],
      "source": [
        "# 결과 확인\n",
        "data_1.describe()"
      ]
    },
    {
      "cell_type": "markdown",
      "metadata": {
        "id": "ErEL1ALAAcGc"
      },
      "source": [
        "### 이상치 제거  : NumberOfTimes90DaysLate\n",
        "\n",
        "- 위에서 확인한 것과 같이 96번과 98번 연체 횟수는 기간적 측면에서 볼 때 말이 되지 않는 값이라 outlier로 판단하고 데이터의 수 측면에서 크지 않다고 생각되어 삭제한다."
      ]
    },
    {
      "cell_type": "code",
      "execution_count": 47,
      "metadata": {},
      "outputs": [
        {
          "data": {
            "text/html": [
              "<div>\n",
              "<style scoped>\n",
              "    .dataframe tbody tr th:only-of-type {\n",
              "        vertical-align: middle;\n",
              "    }\n",
              "\n",
              "    .dataframe tbody tr th {\n",
              "        vertical-align: top;\n",
              "    }\n",
              "\n",
              "    .dataframe thead th {\n",
              "        text-align: right;\n",
              "    }\n",
              "</style>\n",
              "<table border=\"1\" class=\"dataframe\">\n",
              "  <thead>\n",
              "    <tr style=\"text-align: right;\">\n",
              "      <th></th>\n",
              "      <th>SeriousDlqin2yrs</th>\n",
              "      <th>RevolvingUtilizationOfUnsecuredLines</th>\n",
              "      <th>age</th>\n",
              "      <th>NumberOfTime30-59DaysPastDueNotWorse</th>\n",
              "      <th>DebtRatio</th>\n",
              "      <th>MonthlyIncome</th>\n",
              "      <th>NumberOfOpenCreditLinesAndLoans</th>\n",
              "      <th>NumberOfTimes90DaysLate</th>\n",
              "      <th>NumberRealEstateLoansOrLines</th>\n",
              "      <th>NumberOfTime60-89DaysPastDueNotWorse</th>\n",
              "      <th>NumberOfDependents</th>\n",
              "    </tr>\n",
              "  </thead>\n",
              "  <tbody>\n",
              "    <tr>\n",
              "      <th>count</th>\n",
              "      <td>269.000000</td>\n",
              "      <td>2.690000e+02</td>\n",
              "      <td>269.000000</td>\n",
              "      <td>269.000000</td>\n",
              "      <td>269.000000</td>\n",
              "      <td>269.000000</td>\n",
              "      <td>269.000000</td>\n",
              "      <td>269.000000</td>\n",
              "      <td>269.0</td>\n",
              "      <td>269.000000</td>\n",
              "      <td>269.000000</td>\n",
              "    </tr>\n",
              "    <tr>\n",
              "      <th>mean</th>\n",
              "      <td>0.546468</td>\n",
              "      <td>9.999999e-01</td>\n",
              "      <td>34.245353</td>\n",
              "      <td>97.962825</td>\n",
              "      <td>0.202212</td>\n",
              "      <td>2732.623375</td>\n",
              "      <td>0.007435</td>\n",
              "      <td>97.962825</td>\n",
              "      <td>0.0</td>\n",
              "      <td>97.962825</td>\n",
              "      <td>0.327138</td>\n",
              "    </tr>\n",
              "    <tr>\n",
              "      <th>std</th>\n",
              "      <td>0.498764</td>\n",
              "      <td>1.112292e-16</td>\n",
              "      <td>13.061823</td>\n",
              "      <td>0.270628</td>\n",
              "      <td>0.582814</td>\n",
              "      <td>2043.114944</td>\n",
              "      <td>0.086065</td>\n",
              "      <td>0.270628</td>\n",
              "      <td>0.0</td>\n",
              "      <td>0.270628</td>\n",
              "      <td>0.789889</td>\n",
              "    </tr>\n",
              "    <tr>\n",
              "      <th>min</th>\n",
              "      <td>0.000000</td>\n",
              "      <td>9.999999e-01</td>\n",
              "      <td>21.000000</td>\n",
              "      <td>96.000000</td>\n",
              "      <td>0.000000</td>\n",
              "      <td>0.000000</td>\n",
              "      <td>0.000000</td>\n",
              "      <td>96.000000</td>\n",
              "      <td>0.0</td>\n",
              "      <td>96.000000</td>\n",
              "      <td>0.000000</td>\n",
              "    </tr>\n",
              "    <tr>\n",
              "      <th>25%</th>\n",
              "      <td>0.000000</td>\n",
              "      <td>9.999999e-01</td>\n",
              "      <td>24.000000</td>\n",
              "      <td>98.000000</td>\n",
              "      <td>0.000000</td>\n",
              "      <td>2000.000000</td>\n",
              "      <td>0.000000</td>\n",
              "      <td>98.000000</td>\n",
              "      <td>0.0</td>\n",
              "      <td>98.000000</td>\n",
              "      <td>0.000000</td>\n",
              "    </tr>\n",
              "    <tr>\n",
              "      <th>50%</th>\n",
              "      <td>1.000000</td>\n",
              "      <td>9.999999e-01</td>\n",
              "      <td>29.000000</td>\n",
              "      <td>98.000000</td>\n",
              "      <td>0.000000</td>\n",
              "      <td>2898.832524</td>\n",
              "      <td>0.000000</td>\n",
              "      <td>98.000000</td>\n",
              "      <td>0.0</td>\n",
              "      <td>98.000000</td>\n",
              "      <td>0.000000</td>\n",
              "    </tr>\n",
              "    <tr>\n",
              "      <th>75%</th>\n",
              "      <td>1.000000</td>\n",
              "      <td>9.999999e-01</td>\n",
              "      <td>43.000000</td>\n",
              "      <td>98.000000</td>\n",
              "      <td>0.000000</td>\n",
              "      <td>2999.883430</td>\n",
              "      <td>0.000000</td>\n",
              "      <td>98.000000</td>\n",
              "      <td>0.0</td>\n",
              "      <td>98.000000</td>\n",
              "      <td>0.000000</td>\n",
              "    </tr>\n",
              "    <tr>\n",
              "      <th>max</th>\n",
              "      <td>1.000000</td>\n",
              "      <td>9.999999e-01</td>\n",
              "      <td>79.000000</td>\n",
              "      <td>98.000000</td>\n",
              "      <td>1.908024</td>\n",
              "      <td>28733.000000</td>\n",
              "      <td>1.000000</td>\n",
              "      <td>98.000000</td>\n",
              "      <td>0.0</td>\n",
              "      <td>98.000000</td>\n",
              "      <td>5.000000</td>\n",
              "    </tr>\n",
              "  </tbody>\n",
              "</table>\n",
              "</div>"
            ],
            "text/plain": [
              "       SeriousDlqin2yrs  RevolvingUtilizationOfUnsecuredLines         age  \\\n",
              "count        269.000000                          2.690000e+02  269.000000   \n",
              "mean           0.546468                          9.999999e-01   34.245353   \n",
              "std            0.498764                          1.112292e-16   13.061823   \n",
              "min            0.000000                          9.999999e-01   21.000000   \n",
              "25%            0.000000                          9.999999e-01   24.000000   \n",
              "50%            1.000000                          9.999999e-01   29.000000   \n",
              "75%            1.000000                          9.999999e-01   43.000000   \n",
              "max            1.000000                          9.999999e-01   79.000000   \n",
              "\n",
              "       NumberOfTime30-59DaysPastDueNotWorse   DebtRatio  MonthlyIncome  \\\n",
              "count                            269.000000  269.000000     269.000000   \n",
              "mean                              97.962825    0.202212    2732.623375   \n",
              "std                                0.270628    0.582814    2043.114944   \n",
              "min                               96.000000    0.000000       0.000000   \n",
              "25%                               98.000000    0.000000    2000.000000   \n",
              "50%                               98.000000    0.000000    2898.832524   \n",
              "75%                               98.000000    0.000000    2999.883430   \n",
              "max                               98.000000    1.908024   28733.000000   \n",
              "\n",
              "       NumberOfOpenCreditLinesAndLoans  NumberOfTimes90DaysLate  \\\n",
              "count                       269.000000               269.000000   \n",
              "mean                          0.007435                97.962825   \n",
              "std                           0.086065                 0.270628   \n",
              "min                           0.000000                96.000000   \n",
              "25%                           0.000000                98.000000   \n",
              "50%                           0.000000                98.000000   \n",
              "75%                           0.000000                98.000000   \n",
              "max                           1.000000                98.000000   \n",
              "\n",
              "       NumberRealEstateLoansOrLines  NumberOfTime60-89DaysPastDueNotWorse  \\\n",
              "count                         269.0                            269.000000   \n",
              "mean                            0.0                             97.962825   \n",
              "std                             0.0                              0.270628   \n",
              "min                             0.0                             96.000000   \n",
              "25%                             0.0                             98.000000   \n",
              "50%                             0.0                             98.000000   \n",
              "75%                             0.0                             98.000000   \n",
              "max                             0.0                             98.000000   \n",
              "\n",
              "       NumberOfDependents  \n",
              "count          269.000000  \n",
              "mean             0.327138  \n",
              "std              0.789889  \n",
              "min              0.000000  \n",
              "25%              0.000000  \n",
              "50%              0.000000  \n",
              "75%              0.000000  \n",
              "max              5.000000  "
            ]
          },
          "execution_count": 47,
          "metadata": {},
          "output_type": "execute_result"
        }
      ],
      "source": [
        "data_1[(data_1['NumberOfTimes90DaysLate'] == 98 ) | (data_1['NumberOfTimes90DaysLate'] == 96)].describe()"
      ]
    },
    {
      "cell_type": "code",
      "execution_count": 48,
      "metadata": {
        "colab": {
          "base_uri": "https://localhost:8080/"
        },
        "id": "xCQyti4PAbbE",
        "outputId": "5e211eb4-8824-4d06-be6a-12a5c8710bbb"
      },
      "outputs": [
        {
          "data": {
            "text/plain": [
              "((269,), (149731, 11))"
            ]
          },
          "execution_count": 48,
          "metadata": {},
          "output_type": "execute_result"
        }
      ],
      "source": [
        "# 삭제할 index 추출 & 삭제\n",
        "data_del_idx = data_1[(data_1['NumberOfTimes90DaysLate'] == 98) | (data_1['NumberOfTimes90DaysLate'] == 96)].index\n",
        "data_1.drop(data_del_idx, inplace=True)\n",
        "data_del_idx.shape, data_1.shape"
      ]
    },
    {
      "cell_type": "code",
      "execution_count": 49,
      "metadata": {
        "colab": {
          "base_uri": "https://localhost:8080/"
        },
        "id": "-SqFGvirKvES",
        "outputId": "717ff7e0-e4af-4617-fa42-273b75c54388"
      },
      "outputs": [
        {
          "data": {
            "text/plain": [
              "0     141662\n",
              "1       5243\n",
              "2       1555\n",
              "3        667\n",
              "4        291\n",
              "5        131\n",
              "6         80\n",
              "7         38\n",
              "8         21\n",
              "9         19\n",
              "10         8\n",
              "11         5\n",
              "13         4\n",
              "15         2\n",
              "14         2\n",
              "12         2\n",
              "17         1\n",
              "Name: NumberOfTimes90DaysLate, dtype: int64"
            ]
          },
          "execution_count": 49,
          "metadata": {},
          "output_type": "execute_result"
        }
      ],
      "source": [
        "# 결과 확인\n",
        "data_1['NumberOfTimes90DaysLate'].value_counts()"
      ]
    },
    {
      "cell_type": "markdown",
      "metadata": {
        "id": "ZLUf9knGLDua"
      },
      "source": [
        "### Result\n",
        "\n",
        "- 각 속성에서 이상치로 판단 되는 값을 삭제 또는 대체하는 방향으로 진행.\n",
        " 추가적으로 NumberRealEstateLoansOrLines에 54건수에 대한 데이터가 이상치로 보이지만 큰 영향은 안 줄 것으로 판단하고 진행했으며, 아래와 같이 정제된 data를 통해 다시 descibe 및 correlation을 파악하는 과정을 거침."
      ]
    },
    {
      "cell_type": "code",
      "execution_count": 50,
      "metadata": {
        "colab": {
          "base_uri": "https://localhost:8080/",
          "height": 834
        },
        "id": "3NJOUIYo7hSK",
        "outputId": "f6c8bf9a-d7f9-47f8-b5fe-53f8d5dd5360"
      },
      "outputs": [
        {
          "data": {
            "text/plain": [
              "<AxesSubplot:title={'center':'correlation'}>"
            ]
          },
          "execution_count": 50,
          "metadata": {},
          "output_type": "execute_result"
        },
        {
          "data": {
            "image/png": "[encoded data removed]",
            "text/plain": [
              "<Figure size 1080x720 with 2 Axes>"
            ]
          },
          "metadata": {
            "needs_background": "light"
          },
          "output_type": "display_data"
        }
      ],
      "source": [
        "# column 별 상관 관계 분석\n",
        "df_corr = data_1.corr()\n",
        "\n",
        "plt.figure(figsize=(15, 10))\n",
        "plt.title('correlation')\n",
        "sns.heatmap(df_corr, \n",
        "            annot = True,      \n",
        "            cmap = 'RdYlBu_r',\n",
        "            fmt='.3f',\n",
        "            vmin = -1, vmax = 1)"
      ]
    },
    {
      "cell_type": "code",
      "execution_count": 51,
      "metadata": {},
      "outputs": [],
      "source": [
        "# drop_list = ['NumberOfTime30-59DaysPastDueNotWorse', 'NumberOfTime60-89DaysPastDueNotWorse']\n",
        "\n",
        "# for i in drop_list:\n",
        "#     data_1.drop(i, axis=1, inplace=True)"
      ]
    },
    {
      "cell_type": "markdown",
      "metadata": {},
      "source": [
        "### **Analysis**\n",
        "각 요소들의 상관관계에 관한 heatmap은 위의 그림과 같다.\n",
        "\n",
        "양의 상관 관계에서는 대표적으로 주택 담보대출을 포함한 부동산 담보 대출 건수(NumberRealEstateLoansOrLines)와 대출자가 보유중인 담보 대출 및 신용 대출 건수(NumberOfOpenCreditLinesAndLoans)가 **0.43** 정도의 상관 관계를 보였다.\n",
        "\n",
        "다음으로 음의 상관 관계는 대표적으로 주택 담보대출을 포함한 부동산 담보 대출 건수 (NumberRealEstateLoansOrLines)와 나이(age)가 **-0.275** 정도를 보였음을 확인 할 수 있었다."
      ]
    },
    {
      "cell_type": "markdown",
      "metadata": {
        "id": "jkTr09a6spDm"
      },
      "source": [
        "# 2. Base line model\n",
        "## Import"
      ]
    },
    {
      "cell_type": "code",
      "execution_count": 52,
      "metadata": {
        "id": "vk_ACTtsssJQ"
      },
      "outputs": [],
      "source": [
        "from sklearn.preprocessing import MinMaxScaler, StandardScaler\n",
        "from sklearn.model_selection import train_test_split\n",
        "\n",
        "from sklearn.tree import DecisionTreeClassifier\n",
        "from sklearn.neighbors import KNeighborsClassifier\n",
        "from sklearn.svm import SVC\n",
        "from sklearn.linear_model import LogisticRegression\n",
        "from sklearn.ensemble import RandomForestClassifier, GradientBoostingClassifier, VotingClassifier\n",
        "from xgboost import XGBClassifier\n",
        "\n",
        "from imblearn.over_sampling import SMOTE\n",
        "\n",
        "from sklearn.metrics import accuracy_score, precision_score, recall_score, f1_score, plot_roc_curve, plot_confusion_matrix, roc_auc_score"
      ]
    },
    {
      "cell_type": "code",
      "execution_count": 53,
      "metadata": {
        "id": "CcaCfo9WTyzN"
      },
      "outputs": [],
      "source": [
        "def print_metrics_classifier(y, pred, title=None):\n",
        "    \"\"\"\n",
        "    accuracy, recall, precision, f1 출력하는 함수\n",
        "    [parameter]\n",
        "    y : target (ndarray)\n",
        "    pred : prediction (ndarray)\n",
        "    title : (str)\n",
        "    [Return]\n",
        "    [Exception]\n",
        "    \"\"\"\n",
        "    if title:\n",
        "      print(title)\n",
        "    print('정확도(Accuracy): ', accuracy_score(y, pred))\n",
        "    print('재현률(Recall): ', recall_score(y, pred))\n",
        "    print('정밀도(Precision): ', precision_score(y, pred))\n",
        "    print('f1 score: ', f1_score(y, pred))\n",
        "    print('roc_auc_score', roc_auc_score(y, pred))\n",
        "    print()"
      ]
    },
    {
      "cell_type": "markdown",
      "metadata": {
        "id": "Ms9ugqaVUhnW"
      },
      "source": [
        "### 결측치 Preprocessing 적용한 Data 활용"
      ]
    },
    {
      "cell_type": "code",
      "execution_count": 54,
      "metadata": {
        "colab": {
          "base_uri": "https://localhost:8080/"
        },
        "id": "XMgNw-RBssdG",
        "outputId": "e4e8ad50-734e-4483-f255-3310e5aeb18a"
      },
      "outputs": [
        {
          "data": {
            "text/plain": [
              "((149731, 10), (149731,))"
            ]
          },
          "execution_count": 54,
          "metadata": {},
          "output_type": "execute_result"
        }
      ],
      "source": [
        "X = data_1.drop('SeriousDlqin2yrs', axis=1)\n",
        "y = data_1['SeriousDlqin2yrs']\n",
        "\n",
        "X.shape, y.shape"
      ]
    },
    {
      "cell_type": "code",
      "execution_count": 55,
      "metadata": {
        "colab": {
          "base_uri": "https://localhost:8080/"
        },
        "id": "0q1WCEfDbSgE",
        "outputId": "3c539944-fd8d-4d07-d720-94c573b81529"
      },
      "outputs": [
        {
          "data": {
            "text/plain": [
              "((179010, 10), (23957, 10), (29947, 10))"
            ]
          },
          "execution_count": 55,
          "metadata": {},
          "output_type": "execute_result"
        }
      ],
      "source": [
        "# train / validataion / test set split & imbalanced data processing\n",
        "X_train, X_test, y_train, y_test = train_test_split(X, y,\n",
        "                                                    test_size=0.2,\n",
        "                                                    random_state=157,\n",
        "                                                    stratify=y\n",
        "                                                    )\n",
        "\n",
        "X_train, X_val, y_train, y_val = train_test_split(X_train, y_train,\n",
        "                                                test_size=0.2,\n",
        "                                                random_state=157,\n",
        "                                                stratify=y_train\n",
        "                                                )\n",
        "\n",
        "smt = SMOTE(random_state=157)\n",
        "X_train, y_train = smt.fit_resample(X_train, y_train)\n",
        "\n",
        "X_train.shape, X_val.shape, X_test.shape"
      ]
    },
    {
      "cell_type": "code",
      "execution_count": 56,
      "metadata": {
        "id": "QXtRHTezXBEH"
      },
      "outputs": [],
      "source": [
        "# scaling\n",
        "scaler = StandardScaler()\n",
        "\n",
        "X_train_scaled = scaler.fit_transform(X_train)\n",
        "X_val_scaled = scaler.transform(X_val)\n",
        "X_test_scaled = scaler.transform(X_test)"
      ]
    },
    {
      "cell_type": "code",
      "execution_count": 57,
      "metadata": {
        "colab": {
          "base_uri": "https://localhost:8080/"
        },
        "id": "SrDOQ47mssYW",
        "outputId": "cfbe9ffd-15e1-47a3-82de-10fa744072b3"
      },
      "outputs": [
        {
          "name": "stdout",
          "output_type": "stream",
          "text": [
            "grb train\n",
            "정확도(Accuracy):  0.890022903748394\n",
            "재현률(Recall):  0.8639182168593933\n",
            "정밀도(Precision):  0.9115074500188608\n",
            "f1 score:  0.8870750328386974\n",
            "roc_auc_score 0.8900229037483939\n",
            "\n",
            "grb validation\n",
            "정확도(Accuracy):  0.8948115373377301\n",
            "재현률(Recall):  0.5977229601518027\n",
            "정밀도(Precision):  0.3340402969247084\n",
            "f1 score:  0.4285714285714286\n",
            "roc_auc_score 0.7567628029218076\n",
            "\n"
          ]
        }
      ],
      "source": [
        "grb = GradientBoostingClassifier(random_state=157)\n",
        "grb.fit(X_train, y_train)\n",
        "\n",
        "pred_train = grb.predict(X_train)\n",
        "pred_val = grb.predict(X_val)\n",
        "\n",
        "print_metrics_classifier(y_train, pred_train, 'grb train')\n",
        "print_metrics_classifier(y_val, pred_val, 'grb validation')"
      ]
    },
    {
      "cell_type": "code",
      "execution_count": 58,
      "metadata": {
        "colab": {
          "base_uri": "https://localhost:8080/"
        },
        "id": "0lT3AD0PRZwo",
        "outputId": "3226daa9-fb7a-4761-a385-d75d523da1e3"
      },
      "outputs": [
        {
          "name": "stdout",
          "output_type": "stream",
          "text": [
            "RandomForest train\n",
            "정확도(Accuracy):  0.8175967823026646\n",
            "재현률(Recall):  0.8520082676945422\n",
            "정밀도(Precision):  0.7971462917472429\n",
            "f1 score:  0.8236647405087216\n",
            "roc_auc_score 0.8175967823026646\n",
            "\n",
            "RandomForest validation\n",
            "정확도(Accuracy):  0.783069666485787\n",
            "재현률(Recall):  0.7760910815939279\n",
            "정밀도(Precision):  0.20214168039538716\n",
            "f1 score:  0.3207423866161286\n",
            "roc_auc_score 0.7798269136964991\n",
            "\n"
          ]
        }
      ],
      "source": [
        "rf = RandomForestClassifier(n_estimators=300, max_depth=5, random_state=157)\n",
        "rf.fit(X_train, y_train)\n",
        "\n",
        "pred_train = rf.predict(X_train)\n",
        "pred_val = rf.predict(X_val)\n",
        "\n",
        "print_metrics_classifier(y_train, pred_train, 'RandomForest train')\n",
        "print_metrics_classifier(y_val, pred_val, 'RandomForest validation')"
      ]
    },
    {
      "cell_type": "code",
      "execution_count": 59,
      "metadata": {
        "colab": {
          "base_uri": "https://localhost:8080/"
        },
        "id": "2LXyhQTbStNP",
        "outputId": "dd2efe57-e6f5-4a04-a5cf-da1629823dbb"
      },
      "outputs": [
        {
          "name": "stdout",
          "output_type": "stream",
          "text": [
            "LogisticRegression train\n",
            "정확도(Accuracy):  0.7549745824255628\n",
            "재현률(Recall):  0.7454443885816435\n",
            "정밀도(Precision):  0.7599289285754963\n",
            "f1 score:  0.75261697423634\n",
            "roc_auc_score 0.7549745824255628\n",
            "\n",
            "LogisticRegression validation\n",
            "정확도(Accuracy):  0.7644112367992654\n",
            "재현률(Recall):  0.7432005060088551\n",
            "정밀도(Precision):  0.18322158116326212\n",
            "f1 score:  0.29397047785839375\n",
            "roc_auc_score 0.7545552047384283\n",
            "\n"
          ]
        }
      ],
      "source": [
        "lr = LogisticRegression(random_state=157)\n",
        "lr.fit(X_train_scaled, y_train)\n",
        "\n",
        "pred_train = lr.predict(X_train_scaled)\n",
        "pred_val = lr.predict(X_val_scaled)\n",
        "\n",
        "print_metrics_classifier(y_train, pred_train, 'LogisticRegression train')\n",
        "print_metrics_classifier(y_val, pred_val, 'LogisticRegression validation')"
      ]
    },
    {
      "cell_type": "code",
      "execution_count": 60,
      "metadata": {
        "colab": {
          "base_uri": "https://localhost:8080/"
        },
        "id": "Umj3p8McyKlm",
        "outputId": "ce6d67a5-66ac-44ff-ae1e-1aebdbac1852"
      },
      "outputs": [
        {
          "name": "stdout",
          "output_type": "stream",
          "text": [
            "K-NN train\n",
            "정확도(Accuracy):  0.895944360650243\n",
            "재현률(Recall):  0.9388190603876878\n",
            "정밀도(Precision):  0.8646738011936612\n",
            "f1 score:  0.9002222995955754\n",
            "roc_auc_score 0.895944360650243\n",
            "\n",
            "K-NN validation\n",
            "정확도(Accuracy):  0.7895813332220228\n",
            "재현률(Recall):  0.6565464895635673\n",
            "정밀도(Precision):  0.1875\n",
            "f1 score:  0.29169593930026694\n",
            "roc_auc_score 0.7277637703448869\n",
            "\n"
          ]
        }
      ],
      "source": [
        "knn = KNeighborsClassifier()\n",
        "knn.fit(X_train_scaled, y_train)\n",
        "\n",
        "pred_train = knn.predict(X_train_scaled)\n",
        "pred_val = knn.predict(X_val_scaled)\n",
        "\n",
        "print_metrics_classifier(y_train, pred_train, 'K-NN train')\n",
        "print_metrics_classifier(y_val, pred_val, 'K-NN validation')"
      ]
    },
    {
      "cell_type": "code",
      "execution_count": 61,
      "metadata": {
        "colab": {
          "base_uri": "https://localhost:8080/"
        },
        "id": "sC1EmsnRjVR9",
        "outputId": "2b4895a6-f4e0-45e5-ecc8-7ab9c734564a"
      },
      "outputs": [
        {
          "name": "stderr",
          "output_type": "stream",
          "text": [
            "C:\\Users\\ChangHo Kim\\AppData\\Local\\Programs\\Python\\Python39\\lib\\site-packages\\xgboost\\sklearn.py:1224: UserWarning: The use of label encoder in XGBClassifier is deprecated and will be removed in a future release. To remove this warning, do the following: 1) Pass option use_label_encoder=False when constructing XGBClassifier object; and 2) Encode your labels (y) as integers starting with 0, i.e. 0, 1, 2, ..., [num_class - 1].\n",
            "  warnings.warn(label_encoder_deprecation_msg, UserWarning)\n"
          ]
        },
        {
          "name": "stdout",
          "output_type": "stream",
          "text": [
            "[22:44:42] WARNING: C:/Users/Administrator/workspace/xgboost-win64_release_1.5.1/src/learner.cc:1115: Starting in XGBoost 1.3.0, the default evaluation metric used with the objective 'binary:logistic' was changed from 'error' to 'logloss'. Explicitly set eval_metric if you'd like to restore the old behavior.\n",
            "xgb train\n",
            "정확도(Accuracy):  0.9214177978883861\n",
            "재현률(Recall):  0.900396625886822\n",
            "정밀도(Precision):  0.9399127615404352\n",
            "f1 score:  0.9197304376109149\n",
            "roc_auc_score 0.9214177978883862\n",
            "\n",
            "xgb validation\n",
            "정확도(Accuracy):  0.9062069541261427\n",
            "재현률(Recall):  0.5256166982922201\n",
            "정밀도(Precision):  0.35695876288659795\n",
            "f1 score:  0.42517267843438217\n",
            "roc_auc_score 0.7293573301972363\n",
            "\n"
          ]
        }
      ],
      "source": [
        "xgb = XGBClassifier(random_state=157)\n",
        "xgb.fit(X_train, y_train)\n",
        "\n",
        "pred_train = xgb.predict(X_train)\n",
        "pred_val = xgb.predict(X_val)\n",
        "\n",
        "print_metrics_classifier(y_train, pred_train, 'xgb train')\n",
        "print_metrics_classifier(y_val, pred_val, 'xgb validation')"
      ]
    },
    {
      "cell_type": "code",
      "execution_count": 62,
      "metadata": {
        "id": "IfnK9uw5SRG3"
      },
      "outputs": [],
      "source": [
        "# svc = SVC()\n",
        "# svc.fit(X_train_scaled, y_train)\n",
        "\n",
        "# pred_train = svc.predict(X_train_scaled)\n",
        "# pred_val = svc.predict(X_val_scaled)\n",
        "\n",
        "# print_metrics_classifier(y_train, pred_train, 'SVC train')\n",
        "# print_metrics_classifier(y_val, pred_val, 'SVC validation')"
      ]
    },
    {
      "cell_type": "markdown",
      "metadata": {
        "id": "tYGMOwqZ3089"
      },
      "source": [
        "# 3. Hyper-parameter Tuning"
      ]
    },
    {
      "cell_type": "code",
      "execution_count": 62,
      "metadata": {
        "id": "HKIFEOwR74EE"
      },
      "outputs": [],
      "source": [
        "from sklearn.model_selection import GridSearchCV, RandomizedSearchCV\n",
        "from sklearn.pipeline import Pipeline"
      ]
    },
    {
      "cell_type": "code",
      "execution_count": 63,
      "metadata": {
        "colab": {
          "base_uri": "https://localhost:8080/",
          "height": 382
        },
        "id": "KuPjKb9XeNDK",
        "outputId": "3e7a1db0-f928-4bbb-d0bc-afc61289d2cb"
      },
      "outputs": [],
      "source": [
        "grb = GradientBoostingClassifier(random_state=157)\n",
        "\n",
        "param = {\n",
        "    'learning_rate': [0.1, 1],\n",
        "    'n_estimators':range(500, 1001, 100),\n",
        "    'max_depth': range(1, 4),\n",
        "    'subsample':[0.5, 0.8, 1]\n",
        "}\n",
        "\n",
        "gs = RandomizedSearchCV(grb, \n",
        "                  param, \n",
        "                  scoring='accuracy', \n",
        "                  cv=4,\n",
        "                  n_iter=60,\n",
        "                  n_jobs=-1)\n",
        "\n",
        "gs.fit(X_train, y_train)"
      ]
    },
    {
      "cell_type": "code",
      "execution_count": null,
      "metadata": {
        "id": "zLIbassReOAq"
      },
      "outputs": [],
      "source": [
        "gs.best_estimator_, gs.best_score_"
      ]
    },
    {
      "cell_type": "code",
      "execution_count": null,
      "metadata": {
        "id": "_i7ZuTVNeN4y"
      },
      "outputs": [],
      "source": [
        "df = pd.DataFrame(gs.cv_results_).sort_values('rank_test_score')\n",
        "df.head()"
      ]
    },
    {
      "cell_type": "code",
      "execution_count": null,
      "metadata": {
        "id": "MMEbY-U7eRTx"
      },
      "outputs": [],
      "source": [
        "best_grb = gs.best_estimator_\n",
        "pred_train = best_grb.predict(X_train)\n",
        "pred_val = best_grb.predict(X_val)\n",
        "\n",
        "print_metrics_classifier(y_train, pred_train, 'grb train')\n",
        "print_metrics_classifier(y_val, pred_val, 'grb validation')"
      ]
    },
    {
      "cell_type": "code",
      "execution_count": null,
      "metadata": {
        "colab": {
          "base_uri": "https://localhost:8080/"
        },
        "id": "Ey8pcpRA4K6N",
        "outputId": "860227b4-9027-4832-e125-2a80a22b2423"
      },
      "outputs": [],
      "source": [
        "# 순서대로 pipeline 구성 : Feature scaling => lr로 학습/추론\n",
        "# 각 프로세스 등록 (\"이름\", 객체)\n",
        "\n",
        "order = [\n",
        "    ('scaler', StandardScaler()),\n",
        "    ('lr', LogisticRegression(random_state=157))\n",
        "]\n",
        "pipeline = Pipeline(order, verbose=True) # verbose=True : 어떤 단계 처리하는지 log를 남김\n",
        "print(pipeline.steps)\n",
        "\n",
        "param = {\n",
        "    'lr__C':[0.001, 0.01, 0.1, 1, 10, 100],\n",
        "    'lr__max_iter': range(100, 1001, 100)\n",
        "}\n",
        "\n",
        "gs = GridSearchCV(pipeline, \n",
        "                  param, \n",
        "                  scoring='accuracy', \n",
        "                  cv=5, \n",
        "                  n_jobs=-1)\n",
        "\n",
        "gs.fit(X_train, y_train)"
      ]
    },
    {
      "cell_type": "code",
      "execution_count": null,
      "metadata": {
        "colab": {
          "base_uri": "https://localhost:8080/"
        },
        "id": "6quXCVkV4mlj",
        "outputId": "bd39d5cf-78f4-47ba-e79d-2b08bc45089b"
      },
      "outputs": [],
      "source": [
        "gs.best_estimator_, gs.best_score_"
      ]
    },
    {
      "cell_type": "code",
      "execution_count": null,
      "metadata": {
        "colab": {
          "base_uri": "https://localhost:8080/",
          "height": 400
        },
        "id": "7VJhP0fu4oiV",
        "outputId": "89fdb762-8ee1-44cd-97a7-17c7ccc9e263"
      },
      "outputs": [],
      "source": [
        "df = pd.DataFrame(gs.cv_results_).sort_values('rank_test_score')\n",
        "df.head()"
      ]
    },
    {
      "cell_type": "code",
      "execution_count": null,
      "metadata": {
        "colab": {
          "base_uri": "https://localhost:8080/"
        },
        "id": "S-F8-jZ14qps",
        "outputId": "352f165a-debe-402a-d4f8-c5040d8061e8"
      },
      "outputs": [],
      "source": [
        "best_lr = gs.best_estimator_\n",
        "pred_train = best_lr.predict(X_train)\n",
        "pred_val = best_lr.predict(X_val)\n",
        "\n",
        "print_metrics_classifier(y_train, pred_train, 'lr train')\n",
        "print_metrics_classifier(y_val, pred_val, 'lr validation')"
      ]
    },
    {
      "cell_type": "code",
      "execution_count": null,
      "metadata": {
        "colab": {
          "base_uri": "https://localhost:8080/"
        },
        "id": "Tvpt_GqmsHvS",
        "outputId": "d7f788f8-2ba9-4864-b94d-9e2ae9657c97"
      },
      "outputs": [],
      "source": [
        "rf = RandomForestClassifier()\n",
        "\n",
        "param = {\n",
        "    'n_estimators':[0.01, 0.1, 1, 10],\n",
        "    'max_depth':[1, 2, 3, 4],\n",
        "    'max_leaf_nodes':[5, 10, 15, 20, 30],\n",
        "    'min_samples_leaf': range(500, 1001, 100)\n",
        "}\n",
        "\n",
        "gs = RandomizedSearchCV(rf, \n",
        "                param, \n",
        "                scoring='accuracy', \n",
        "                cv=4,\n",
        "                n_iter=50,\n",
        "                n_jobs=-1)\n",
        "\n",
        "gs.fit(X_train, y_train)"
      ]
    },
    {
      "cell_type": "code",
      "execution_count": null,
      "metadata": {
        "colab": {
          "base_uri": "https://localhost:8080/"
        },
        "id": "3GsJWQwNtAKE",
        "outputId": "bb088b1d-3671-4028-eec8-d526ccfd6a21"
      },
      "outputs": [],
      "source": [
        "gs.best_estimator_, gs.best_score_"
      ]
    },
    {
      "cell_type": "code",
      "execution_count": null,
      "metadata": {
        "colab": {
          "base_uri": "https://localhost:8080/",
          "height": 400
        },
        "id": "PXF01ezXvSa6",
        "outputId": "b7d6f62f-0568-4569-f159-68a7a619ff54"
      },
      "outputs": [],
      "source": [
        "df = pd.DataFrame(gs.cv_results_).sort_values('rank_test_score')\n",
        "df.head()"
      ]
    },
    {
      "cell_type": "code",
      "execution_count": null,
      "metadata": {
        "colab": {
          "base_uri": "https://localhost:8080/"
        },
        "id": "IAN1RAx8vqs6",
        "outputId": "6c9201c4-2767-48a2-c8a3-51c9b998fb4b"
      },
      "outputs": [],
      "source": [
        "best_rf = gs.best_estimator_\n",
        "pred_train = best_rf.predict(X_train)\n",
        "pred_val = best_rf.predict(X_val)\n",
        "\n",
        "print_metrics_classifier(y_train, pred_train, 'RandomForest train')\n",
        "print_metrics_classifier(y_val, pred_val, 'RandomForest validation')"
      ]
    },
    {
      "cell_type": "code",
      "execution_count": null,
      "metadata": {
        "colab": {
          "base_uri": "https://localhost:8080/"
        },
        "id": "YlibX5rwkR7l",
        "outputId": "b3f5ae36-2d28-4107-f6d5-9578ef8ce5a5"
      },
      "outputs": [],
      "source": [
        "estimators = [\n",
        "    ('lr', best_lr),\n",
        "    ('grb', best_grb),\n",
        "    ('rf', best_rf)\n",
        "]\n",
        "\n",
        "voting = VotingClassifier(estimators, voting='soft')\n",
        "voting.fit(X_train, y_train)\n",
        "\n",
        "pred_train = voting.predict(X_train)\n",
        "pred_val = voting.predict(X_val)\n",
        "\n",
        "print_metrics_classifier(y_train, pred_train, 'voting train')\n",
        "print_metrics_classifier(y_val, pred_val, 'voting validation')"
      ]
    },
    {
      "cell_type": "code",
      "execution_count": null,
      "metadata": {},
      "outputs": [],
      "source": [
        "pred_test = voting.predict(X_test)\n",
        "print_metrics_classifier(y_test, pred_test)"
      ]
    },
    {
      "cell_type": "markdown",
      "metadata": {},
      "source": [
        "### ROC_AUC curve"
      ]
    },
    {
      "cell_type": "code",
      "execution_count": null,
      "metadata": {},
      "outputs": [],
      "source": [
        "from sklearn.metrics import ConfusionMatrixDisplay, confusion_matrix\n",
        "\n",
        "cm = confusion_matrix(y_test, pred_test)\n",
        "disp = ConfusionMatrixDisplay(cm, # confusion matrix\n",
        "                            display_labels=['SeriousDlqin2yrs: No', 'SeriousDlqin2yrs: Yes']) # [Negative label, Positive label]\n",
        "disp.plot(cmap='Reds') # 출력"
      ]
    },
    {
      "cell_type": "code",
      "execution_count": null,
      "metadata": {},
      "outputs": [],
      "source": [
        "# plot_roc_curve\n",
        "from sklearn.metrics import plot_roc_curve\n",
        "\n",
        "plt.figure(figsize=(12, 10))\n",
        "plot_roc_curve(voting, X_test, y_test)\n",
        "\n",
        "plt.legend(loc='lower right')\n",
        "plt.title('ROC Curve')\n",
        "plt.show()\n",
        "plt.grid()\n",
        "plt.show()"
      ]
    }
  ],
  "metadata": {
    "accelerator": "GPU",
    "colab": {
      "collapsed_sections": [
        "LZJNMhcpCGOy",
        "2Aj_FrpzuKTO",
        "rQJsBxesb9JE",
        "JN-ezBtki3Cz"
      ],
      "machine_shape": "hm",
      "name": "minipjt5_note.ipynb",
      "provenance": []
    },
    "kernelspec": {
      "display_name": "Python 3",
      "name": "python3"
    },
    "language_info": {
      "codemirror_mode": {
        "name": "ipython",
        "version": 3
      },
      "file_extension": ".py",
      "mimetype": "text/x-python",
      "name": "python",
      "nbconvert_exporter": "python",
      "pygments_lexer": "ipython3",
      "version": "3.9.5"
    }
  },
  "nbformat": 4,
  "nbformat_minor": 0
}
