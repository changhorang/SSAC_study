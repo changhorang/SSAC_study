{
  "nbformat": 4,
  "nbformat_minor": 0,
  "metadata": {
    "colab": {
      "name": "minipjt5.ipynb",
      "provenance": [],
      "collapsed_sections": [
        "6yreoaokDmOK"
      ],
      "machine_shape": "hm"
    },
    "kernelspec": {
      "name": "python3",
      "display_name": "Python 3"
    },
    "language_info": {
      "name": "python"
    },
    "accelerator": "GPU"
  },
  "cells": [
    {
      "cell_type": "markdown",
      "metadata": {
        "id": "V6tA-uc_sUK3"
      },
      "source": [
        "# 1. EDA\n",
        "## Data load\n",
        "\n"
      ]
    },
    {
      "cell_type": "code",
      "metadata": {
        "colab": {
          "base_uri": "https://localhost:8080/"
        },
        "id": "epOnWaT0SLkX",
        "outputId": "3ba18f40-7935-43c0-c1af-c5332e297d88"
      },
      "source": [
        "cd '/content/drive/MyDrive'"
      ],
      "execution_count": 1,
      "outputs": [
        {
          "output_type": "stream",
          "name": "stdout",
          "text": [
            "/content/drive/MyDrive\n"
          ]
        }
      ]
    },
    {
      "cell_type": "code",
      "metadata": {
        "id": "L1-Y2HiOCbLH"
      },
      "source": [
        "import pandas as pd\n",
        "import numpy as np\n",
        "import matplotlib.pyplot as plt\n",
        "import seaborn as sns"
      ],
      "execution_count": 2,
      "outputs": []
    },
    {
      "cell_type": "code",
      "metadata": {
        "colab": {
          "base_uri": "https://localhost:8080/",
          "height": 244
        },
        "id": "C28SGF9UDGi6",
        "outputId": "377c0ead-6fe2-4800-ba0a-ddb546a764b6"
      },
      "source": [
        "data = pd.read_csv('cs_data.csv', index_col=0)\n",
        "data.head()"
      ],
      "execution_count": 3,
      "outputs": [
        {
          "output_type": "execute_result",
          "data": {
            "text/html": [
              "<div>\n",
              "<style scoped>\n",
              "    .dataframe tbody tr th:only-of-type {\n",
              "        vertical-align: middle;\n",
              "    }\n",
              "\n",
              "    .dataframe tbody tr th {\n",
              "        vertical-align: top;\n",
              "    }\n",
              "\n",
              "    .dataframe thead th {\n",
              "        text-align: right;\n",
              "    }\n",
              "</style>\n",
              "<table border=\"1\" class=\"dataframe\">\n",
              "  <thead>\n",
              "    <tr style=\"text-align: right;\">\n",
              "      <th></th>\n",
              "      <th>SeriousDlqin2yrs</th>\n",
              "      <th>RevolvingUtilizationOfUnsecuredLines</th>\n",
              "      <th>age</th>\n",
              "      <th>NumberOfTime30-59DaysPastDueNotWorse</th>\n",
              "      <th>DebtRatio</th>\n",
              "      <th>MonthlyIncome</th>\n",
              "      <th>NumberOfOpenCreditLinesAndLoans</th>\n",
              "      <th>NumberOfTimes90DaysLate</th>\n",
              "      <th>NumberRealEstateLoansOrLines</th>\n",
              "      <th>NumberOfTime60-89DaysPastDueNotWorse</th>\n",
              "      <th>NumberOfDependents</th>\n",
              "    </tr>\n",
              "  </thead>\n",
              "  <tbody>\n",
              "    <tr>\n",
              "      <th>1</th>\n",
              "      <td>1</td>\n",
              "      <td>0.766127</td>\n",
              "      <td>45</td>\n",
              "      <td>2</td>\n",
              "      <td>0.802982</td>\n",
              "      <td>9120.0</td>\n",
              "      <td>13</td>\n",
              "      <td>0</td>\n",
              "      <td>6</td>\n",
              "      <td>0</td>\n",
              "      <td>2.0</td>\n",
              "    </tr>\n",
              "    <tr>\n",
              "      <th>2</th>\n",
              "      <td>0</td>\n",
              "      <td>0.957151</td>\n",
              "      <td>40</td>\n",
              "      <td>0</td>\n",
              "      <td>0.121876</td>\n",
              "      <td>2600.0</td>\n",
              "      <td>4</td>\n",
              "      <td>0</td>\n",
              "      <td>0</td>\n",
              "      <td>0</td>\n",
              "      <td>1.0</td>\n",
              "    </tr>\n",
              "    <tr>\n",
              "      <th>3</th>\n",
              "      <td>0</td>\n",
              "      <td>0.658180</td>\n",
              "      <td>38</td>\n",
              "      <td>1</td>\n",
              "      <td>0.085113</td>\n",
              "      <td>3042.0</td>\n",
              "      <td>2</td>\n",
              "      <td>1</td>\n",
              "      <td>0</td>\n",
              "      <td>0</td>\n",
              "      <td>0.0</td>\n",
              "    </tr>\n",
              "    <tr>\n",
              "      <th>4</th>\n",
              "      <td>0</td>\n",
              "      <td>0.233810</td>\n",
              "      <td>30</td>\n",
              "      <td>0</td>\n",
              "      <td>0.036050</td>\n",
              "      <td>3300.0</td>\n",
              "      <td>5</td>\n",
              "      <td>0</td>\n",
              "      <td>0</td>\n",
              "      <td>0</td>\n",
              "      <td>0.0</td>\n",
              "    </tr>\n",
              "    <tr>\n",
              "      <th>5</th>\n",
              "      <td>0</td>\n",
              "      <td>0.907239</td>\n",
              "      <td>49</td>\n",
              "      <td>1</td>\n",
              "      <td>0.024926</td>\n",
              "      <td>63588.0</td>\n",
              "      <td>7</td>\n",
              "      <td>0</td>\n",
              "      <td>1</td>\n",
              "      <td>0</td>\n",
              "      <td>0.0</td>\n",
              "    </tr>\n",
              "  </tbody>\n",
              "</table>\n",
              "</div>"
            ],
            "text/plain": [
              "   SeriousDlqin2yrs  ...  NumberOfDependents\n",
              "1                 1  ...                 2.0\n",
              "2                 0  ...                 1.0\n",
              "3                 0  ...                 0.0\n",
              "4                 0  ...                 0.0\n",
              "5                 0  ...                 0.0\n",
              "\n",
              "[5 rows x 11 columns]"
            ]
          },
          "metadata": {},
          "execution_count": 3
        }
      ]
    },
    {
      "cell_type": "code",
      "metadata": {
        "colab": {
          "base_uri": "https://localhost:8080/",
          "height": 338
        },
        "id": "nrsdHjlwwjqo",
        "outputId": "22aef974-427c-4f61-8c7c-ebb5879a320d"
      },
      "source": [
        "data.describe()"
      ],
      "execution_count": 4,
      "outputs": [
        {
          "output_type": "execute_result",
          "data": {
            "text/html": [
              "<div>\n",
              "<style scoped>\n",
              "    .dataframe tbody tr th:only-of-type {\n",
              "        vertical-align: middle;\n",
              "    }\n",
              "\n",
              "    .dataframe tbody tr th {\n",
              "        vertical-align: top;\n",
              "    }\n",
              "\n",
              "    .dataframe thead th {\n",
              "        text-align: right;\n",
              "    }\n",
              "</style>\n",
              "<table border=\"1\" class=\"dataframe\">\n",
              "  <thead>\n",
              "    <tr style=\"text-align: right;\">\n",
              "      <th></th>\n",
              "      <th>SeriousDlqin2yrs</th>\n",
              "      <th>RevolvingUtilizationOfUnsecuredLines</th>\n",
              "      <th>age</th>\n",
              "      <th>NumberOfTime30-59DaysPastDueNotWorse</th>\n",
              "      <th>DebtRatio</th>\n",
              "      <th>MonthlyIncome</th>\n",
              "      <th>NumberOfOpenCreditLinesAndLoans</th>\n",
              "      <th>NumberOfTimes90DaysLate</th>\n",
              "      <th>NumberRealEstateLoansOrLines</th>\n",
              "      <th>NumberOfTime60-89DaysPastDueNotWorse</th>\n",
              "      <th>NumberOfDependents</th>\n",
              "    </tr>\n",
              "  </thead>\n",
              "  <tbody>\n",
              "    <tr>\n",
              "      <th>count</th>\n",
              "      <td>150000.000000</td>\n",
              "      <td>150000.000000</td>\n",
              "      <td>150000.000000</td>\n",
              "      <td>150000.000000</td>\n",
              "      <td>150000.000000</td>\n",
              "      <td>1.202690e+05</td>\n",
              "      <td>150000.000000</td>\n",
              "      <td>150000.000000</td>\n",
              "      <td>150000.000000</td>\n",
              "      <td>150000.000000</td>\n",
              "      <td>146076.000000</td>\n",
              "    </tr>\n",
              "    <tr>\n",
              "      <th>mean</th>\n",
              "      <td>0.066840</td>\n",
              "      <td>6.048438</td>\n",
              "      <td>52.295207</td>\n",
              "      <td>0.421033</td>\n",
              "      <td>353.005076</td>\n",
              "      <td>6.670221e+03</td>\n",
              "      <td>8.452760</td>\n",
              "      <td>0.265973</td>\n",
              "      <td>1.018240</td>\n",
              "      <td>0.240387</td>\n",
              "      <td>0.757222</td>\n",
              "    </tr>\n",
              "    <tr>\n",
              "      <th>std</th>\n",
              "      <td>0.249746</td>\n",
              "      <td>249.755371</td>\n",
              "      <td>14.771866</td>\n",
              "      <td>4.192781</td>\n",
              "      <td>2037.818523</td>\n",
              "      <td>1.438467e+04</td>\n",
              "      <td>5.145951</td>\n",
              "      <td>4.169304</td>\n",
              "      <td>1.129771</td>\n",
              "      <td>4.155179</td>\n",
              "      <td>1.115086</td>\n",
              "    </tr>\n",
              "    <tr>\n",
              "      <th>min</th>\n",
              "      <td>0.000000</td>\n",
              "      <td>0.000000</td>\n",
              "      <td>0.000000</td>\n",
              "      <td>0.000000</td>\n",
              "      <td>0.000000</td>\n",
              "      <td>0.000000e+00</td>\n",
              "      <td>0.000000</td>\n",
              "      <td>0.000000</td>\n",
              "      <td>0.000000</td>\n",
              "      <td>0.000000</td>\n",
              "      <td>0.000000</td>\n",
              "    </tr>\n",
              "    <tr>\n",
              "      <th>25%</th>\n",
              "      <td>0.000000</td>\n",
              "      <td>0.029867</td>\n",
              "      <td>41.000000</td>\n",
              "      <td>0.000000</td>\n",
              "      <td>0.175074</td>\n",
              "      <td>3.400000e+03</td>\n",
              "      <td>5.000000</td>\n",
              "      <td>0.000000</td>\n",
              "      <td>0.000000</td>\n",
              "      <td>0.000000</td>\n",
              "      <td>0.000000</td>\n",
              "    </tr>\n",
              "    <tr>\n",
              "      <th>50%</th>\n",
              "      <td>0.000000</td>\n",
              "      <td>0.154181</td>\n",
              "      <td>52.000000</td>\n",
              "      <td>0.000000</td>\n",
              "      <td>0.366508</td>\n",
              "      <td>5.400000e+03</td>\n",
              "      <td>8.000000</td>\n",
              "      <td>0.000000</td>\n",
              "      <td>1.000000</td>\n",
              "      <td>0.000000</td>\n",
              "      <td>0.000000</td>\n",
              "    </tr>\n",
              "    <tr>\n",
              "      <th>75%</th>\n",
              "      <td>0.000000</td>\n",
              "      <td>0.559046</td>\n",
              "      <td>63.000000</td>\n",
              "      <td>0.000000</td>\n",
              "      <td>0.868254</td>\n",
              "      <td>8.249000e+03</td>\n",
              "      <td>11.000000</td>\n",
              "      <td>0.000000</td>\n",
              "      <td>2.000000</td>\n",
              "      <td>0.000000</td>\n",
              "      <td>1.000000</td>\n",
              "    </tr>\n",
              "    <tr>\n",
              "      <th>max</th>\n",
              "      <td>1.000000</td>\n",
              "      <td>50708.000000</td>\n",
              "      <td>109.000000</td>\n",
              "      <td>98.000000</td>\n",
              "      <td>329664.000000</td>\n",
              "      <td>3.008750e+06</td>\n",
              "      <td>58.000000</td>\n",
              "      <td>98.000000</td>\n",
              "      <td>54.000000</td>\n",
              "      <td>98.000000</td>\n",
              "      <td>20.000000</td>\n",
              "    </tr>\n",
              "  </tbody>\n",
              "</table>\n",
              "</div>"
            ],
            "text/plain": [
              "       SeriousDlqin2yrs  ...  NumberOfDependents\n",
              "count     150000.000000  ...       146076.000000\n",
              "mean           0.066840  ...            0.757222\n",
              "std            0.249746  ...            1.115086\n",
              "min            0.000000  ...            0.000000\n",
              "25%            0.000000  ...            0.000000\n",
              "50%            0.000000  ...            0.000000\n",
              "75%            0.000000  ...            1.000000\n",
              "max            1.000000  ...           20.000000\n",
              "\n",
              "[8 rows x 11 columns]"
            ]
          },
          "metadata": {},
          "execution_count": 4
        }
      ]
    },
    {
      "cell_type": "code",
      "metadata": {
        "colab": {
          "base_uri": "https://localhost:8080/"
        },
        "id": "Ax0WenAjY4Ag",
        "outputId": "72d38b26-395f-4fc7-d411-e08eeb825dd8"
      },
      "source": [
        "data['NumberOfTimes90DaysLate'].value_counts()"
      ],
      "execution_count": 5,
      "outputs": [
        {
          "output_type": "execute_result",
          "data": {
            "text/plain": [
              "0     141662\n",
              "1       5243\n",
              "2       1555\n",
              "3        667\n",
              "4        291\n",
              "98       264\n",
              "5        131\n",
              "6         80\n",
              "7         38\n",
              "8         21\n",
              "9         19\n",
              "10         8\n",
              "11         5\n",
              "96         5\n",
              "13         4\n",
              "12         2\n",
              "14         2\n",
              "15         2\n",
              "17         1\n",
              "Name: NumberOfTimes90DaysLate, dtype: int64"
            ]
          },
          "metadata": {},
          "execution_count": 5
        }
      ]
    },
    {
      "cell_type": "code",
      "metadata": {
        "colab": {
          "base_uri": "https://localhost:8080/"
        },
        "id": "npsqq2Hk1G61",
        "outputId": "a076c3e8-0c7c-4f86-9ac4-7cab0f4cd494"
      },
      "source": [
        "data['NumberOfTime30-59DaysPastDueNotWorse'].value_counts()"
      ],
      "execution_count": 6,
      "outputs": [
        {
          "output_type": "execute_result",
          "data": {
            "text/plain": [
              "0     126018\n",
              "1      16033\n",
              "2       4598\n",
              "3       1754\n",
              "4        747\n",
              "5        342\n",
              "98       264\n",
              "6        140\n",
              "7         54\n",
              "8         25\n",
              "9         12\n",
              "96         5\n",
              "10         4\n",
              "12         2\n",
              "13         1\n",
              "11         1\n",
              "Name: NumberOfTime30-59DaysPastDueNotWorse, dtype: int64"
            ]
          },
          "metadata": {},
          "execution_count": 6
        }
      ]
    },
    {
      "cell_type": "code",
      "metadata": {
        "colab": {
          "base_uri": "https://localhost:8080/"
        },
        "id": "W6Widm0d1PIW",
        "outputId": "2446b376-39bd-42e6-a67e-3032589408f9"
      },
      "source": [
        "data['NumberOfDependents'].value_counts()"
      ],
      "execution_count": 7,
      "outputs": [
        {
          "output_type": "execute_result",
          "data": {
            "text/plain": [
              "0.0     86902\n",
              "1.0     26316\n",
              "2.0     19522\n",
              "3.0      9483\n",
              "4.0      2862\n",
              "5.0       746\n",
              "6.0       158\n",
              "7.0        51\n",
              "8.0        24\n",
              "9.0         5\n",
              "10.0        5\n",
              "13.0        1\n",
              "20.0        1\n",
              "Name: NumberOfDependents, dtype: int64"
            ]
          },
          "metadata": {},
          "execution_count": 7
        }
      ]
    },
    {
      "cell_type": "markdown",
      "metadata": {
        "id": "oCXnsMV7dMb8"
      },
      "source": [
        "## 각 항목별 상관관계 분석"
      ]
    },
    {
      "cell_type": "code",
      "metadata": {
        "colab": {
          "base_uri": "https://localhost:8080/",
          "height": 466
        },
        "id": "1ajwGADPZ2r4",
        "outputId": "9f6d83f8-afa0-444f-d03c-a66ce7518c43"
      },
      "source": [
        "# data column별 상관관계 분석\n",
        "df_corr = data.corr()\n",
        "df_corr"
      ],
      "execution_count": 8,
      "outputs": [
        {
          "output_type": "execute_result",
          "data": {
            "text/html": [
              "<div>\n",
              "<style scoped>\n",
              "    .dataframe tbody tr th:only-of-type {\n",
              "        vertical-align: middle;\n",
              "    }\n",
              "\n",
              "    .dataframe tbody tr th {\n",
              "        vertical-align: top;\n",
              "    }\n",
              "\n",
              "    .dataframe thead th {\n",
              "        text-align: right;\n",
              "    }\n",
              "</style>\n",
              "<table border=\"1\" class=\"dataframe\">\n",
              "  <thead>\n",
              "    <tr style=\"text-align: right;\">\n",
              "      <th></th>\n",
              "      <th>SeriousDlqin2yrs</th>\n",
              "      <th>RevolvingUtilizationOfUnsecuredLines</th>\n",
              "      <th>age</th>\n",
              "      <th>NumberOfTime30-59DaysPastDueNotWorse</th>\n",
              "      <th>DebtRatio</th>\n",
              "      <th>MonthlyIncome</th>\n",
              "      <th>NumberOfOpenCreditLinesAndLoans</th>\n",
              "      <th>NumberOfTimes90DaysLate</th>\n",
              "      <th>NumberRealEstateLoansOrLines</th>\n",
              "      <th>NumberOfTime60-89DaysPastDueNotWorse</th>\n",
              "      <th>NumberOfDependents</th>\n",
              "    </tr>\n",
              "  </thead>\n",
              "  <tbody>\n",
              "    <tr>\n",
              "      <th>SeriousDlqin2yrs</th>\n",
              "      <td>1.000000</td>\n",
              "      <td>-0.001802</td>\n",
              "      <td>-0.115386</td>\n",
              "      <td>0.125587</td>\n",
              "      <td>-0.007602</td>\n",
              "      <td>-0.019746</td>\n",
              "      <td>-0.029669</td>\n",
              "      <td>0.117175</td>\n",
              "      <td>-0.007038</td>\n",
              "      <td>0.102261</td>\n",
              "      <td>0.046048</td>\n",
              "    </tr>\n",
              "    <tr>\n",
              "      <th>RevolvingUtilizationOfUnsecuredLines</th>\n",
              "      <td>-0.001802</td>\n",
              "      <td>1.000000</td>\n",
              "      <td>-0.005898</td>\n",
              "      <td>-0.001314</td>\n",
              "      <td>0.003961</td>\n",
              "      <td>0.007124</td>\n",
              "      <td>-0.011281</td>\n",
              "      <td>-0.001061</td>\n",
              "      <td>0.006235</td>\n",
              "      <td>-0.001048</td>\n",
              "      <td>0.001557</td>\n",
              "    </tr>\n",
              "    <tr>\n",
              "      <th>age</th>\n",
              "      <td>-0.115386</td>\n",
              "      <td>-0.005898</td>\n",
              "      <td>1.000000</td>\n",
              "      <td>-0.062995</td>\n",
              "      <td>0.024188</td>\n",
              "      <td>0.037717</td>\n",
              "      <td>0.147705</td>\n",
              "      <td>-0.061005</td>\n",
              "      <td>0.033150</td>\n",
              "      <td>-0.057159</td>\n",
              "      <td>-0.213303</td>\n",
              "    </tr>\n",
              "    <tr>\n",
              "      <th>NumberOfTime30-59DaysPastDueNotWorse</th>\n",
              "      <td>0.125587</td>\n",
              "      <td>-0.001314</td>\n",
              "      <td>-0.062995</td>\n",
              "      <td>1.000000</td>\n",
              "      <td>-0.006542</td>\n",
              "      <td>-0.010217</td>\n",
              "      <td>-0.055312</td>\n",
              "      <td>0.983603</td>\n",
              "      <td>-0.030565</td>\n",
              "      <td>0.987005</td>\n",
              "      <td>-0.002680</td>\n",
              "    </tr>\n",
              "    <tr>\n",
              "      <th>DebtRatio</th>\n",
              "      <td>-0.007602</td>\n",
              "      <td>0.003961</td>\n",
              "      <td>0.024188</td>\n",
              "      <td>-0.006542</td>\n",
              "      <td>1.000000</td>\n",
              "      <td>-0.028712</td>\n",
              "      <td>0.049565</td>\n",
              "      <td>-0.008320</td>\n",
              "      <td>0.120046</td>\n",
              "      <td>-0.007533</td>\n",
              "      <td>-0.040673</td>\n",
              "    </tr>\n",
              "    <tr>\n",
              "      <th>MonthlyIncome</th>\n",
              "      <td>-0.019746</td>\n",
              "      <td>0.007124</td>\n",
              "      <td>0.037717</td>\n",
              "      <td>-0.010217</td>\n",
              "      <td>-0.028712</td>\n",
              "      <td>1.000000</td>\n",
              "      <td>0.091455</td>\n",
              "      <td>-0.012743</td>\n",
              "      <td>0.124959</td>\n",
              "      <td>-0.011116</td>\n",
              "      <td>0.062647</td>\n",
              "    </tr>\n",
              "    <tr>\n",
              "      <th>NumberOfOpenCreditLinesAndLoans</th>\n",
              "      <td>-0.029669</td>\n",
              "      <td>-0.011281</td>\n",
              "      <td>0.147705</td>\n",
              "      <td>-0.055312</td>\n",
              "      <td>0.049565</td>\n",
              "      <td>0.091455</td>\n",
              "      <td>1.000000</td>\n",
              "      <td>-0.079984</td>\n",
              "      <td>0.433959</td>\n",
              "      <td>-0.071077</td>\n",
              "      <td>0.065322</td>\n",
              "    </tr>\n",
              "    <tr>\n",
              "      <th>NumberOfTimes90DaysLate</th>\n",
              "      <td>0.117175</td>\n",
              "      <td>-0.001061</td>\n",
              "      <td>-0.061005</td>\n",
              "      <td>0.983603</td>\n",
              "      <td>-0.008320</td>\n",
              "      <td>-0.012743</td>\n",
              "      <td>-0.079984</td>\n",
              "      <td>1.000000</td>\n",
              "      <td>-0.045205</td>\n",
              "      <td>0.992796</td>\n",
              "      <td>-0.010176</td>\n",
              "    </tr>\n",
              "    <tr>\n",
              "      <th>NumberRealEstateLoansOrLines</th>\n",
              "      <td>-0.007038</td>\n",
              "      <td>0.006235</td>\n",
              "      <td>0.033150</td>\n",
              "      <td>-0.030565</td>\n",
              "      <td>0.120046</td>\n",
              "      <td>0.124959</td>\n",
              "      <td>0.433959</td>\n",
              "      <td>-0.045205</td>\n",
              "      <td>1.000000</td>\n",
              "      <td>-0.039722</td>\n",
              "      <td>0.124684</td>\n",
              "    </tr>\n",
              "    <tr>\n",
              "      <th>NumberOfTime60-89DaysPastDueNotWorse</th>\n",
              "      <td>0.102261</td>\n",
              "      <td>-0.001048</td>\n",
              "      <td>-0.057159</td>\n",
              "      <td>0.987005</td>\n",
              "      <td>-0.007533</td>\n",
              "      <td>-0.011116</td>\n",
              "      <td>-0.071077</td>\n",
              "      <td>0.992796</td>\n",
              "      <td>-0.039722</td>\n",
              "      <td>1.000000</td>\n",
              "      <td>-0.010922</td>\n",
              "    </tr>\n",
              "    <tr>\n",
              "      <th>NumberOfDependents</th>\n",
              "      <td>0.046048</td>\n",
              "      <td>0.001557</td>\n",
              "      <td>-0.213303</td>\n",
              "      <td>-0.002680</td>\n",
              "      <td>-0.040673</td>\n",
              "      <td>0.062647</td>\n",
              "      <td>0.065322</td>\n",
              "      <td>-0.010176</td>\n",
              "      <td>0.124684</td>\n",
              "      <td>-0.010922</td>\n",
              "      <td>1.000000</td>\n",
              "    </tr>\n",
              "  </tbody>\n",
              "</table>\n",
              "</div>"
            ],
            "text/plain": [
              "                                      SeriousDlqin2yrs  ...  NumberOfDependents\n",
              "SeriousDlqin2yrs                              1.000000  ...            0.046048\n",
              "RevolvingUtilizationOfUnsecuredLines         -0.001802  ...            0.001557\n",
              "age                                          -0.115386  ...           -0.213303\n",
              "NumberOfTime30-59DaysPastDueNotWorse          0.125587  ...           -0.002680\n",
              "DebtRatio                                    -0.007602  ...           -0.040673\n",
              "MonthlyIncome                                -0.019746  ...            0.062647\n",
              "NumberOfOpenCreditLinesAndLoans              -0.029669  ...            0.065322\n",
              "NumberOfTimes90DaysLate                       0.117175  ...           -0.010176\n",
              "NumberRealEstateLoansOrLines                 -0.007038  ...            0.124684\n",
              "NumberOfTime60-89DaysPastDueNotWorse          0.102261  ...           -0.010922\n",
              "NumberOfDependents                            0.046048  ...            1.000000\n",
              "\n",
              "[11 rows x 11 columns]"
            ]
          },
          "metadata": {},
          "execution_count": 8
        }
      ]
    },
    {
      "cell_type": "code",
      "metadata": {
        "colab": {
          "base_uri": "https://localhost:8080/",
          "height": 693
        },
        "id": "lEZaZ6Q1aAbK",
        "outputId": "5c45ed4c-a60d-463d-9695-136000558d80"
      },
      "source": [
        "plt.figure(figsize=(15, 10))\n",
        "plt.title('correlation')\n",
        "sns.heatmap(df_corr, \n",
        "               annot = True,      # 실제 값 화면에 나타내기\n",
        "               cmap = 'RdYlBu_r',  # Red, Yellow, Blue 색상으로 표시\n",
        "               vmin = -1, vmax = 1, #컬러차트 -1 ~ 1 범위로 표시\n",
        "              )"
      ],
      "execution_count": 9,
      "outputs": [
        {
          "output_type": "execute_result",
          "data": {
            "text/plain": [
              "<matplotlib.axes._subplots.AxesSubplot at 0x7fc1acfc8c10>"
            ]
          },
          "metadata": {},
          "execution_count": 9
        },
        {
          "output_type": "display_data",
          "data": {
            "image/png": "[encoded data removed]",
            "text/plain": [
              "<Figure size 1080x720 with 2 Axes>"
            ]
          },
          "metadata": {
            "needs_background": "light"
          }
        }
      ]
    },
    {
      "cell_type": "markdown",
      "metadata": {
        "id": "3e7kHDYodR3L"
      },
      "source": [
        "### **Analysis**\n",
        "각 요소들의 상관관계에 관한 heatmap은 위의 그림과 같다. \n",
        "\n",
        "구체적으로 최근 2년 동안 30 ~ 59일 연차한 횟수(NumberOfTime30-59DaysPastDueNotWorse)는 각각 과거 90일 이상 연체한 횟수(NumberOfTimes90DaysLate)와 최근 2년간 60 ~ 89일 연체한 횟수(NumberOfTime60-89DaysPastDueNotWorse)가 **0.98**과 **0.99**로 당연하게도 높은 상관 관계를 보였다.\n",
        "\n",
        "다음으로 최근 2년간 60 ~ 89일 연체한 횟수 (NumberOfTime60-89DaysPastDueNotWorse)와 과거 90일 이상 연체한 횟수(NumberOfTimes90DaysLate) 또한 **0.99**정도로 높은 상관 관계를 보였다.\n",
        "\n",
        "양의 상관 관계에서 마지막으로 주택 담보대출을 포함한 부동산 담보 대출 건수(NumberRealEstateLoansOrLines)와 대출자가 보유중인 담보 대출 및 신용 대출 건수(NumberOfOpenCreditLinesAndLoans)가 **0.43** 정도의 상관 관계를 보였다.\n",
        "\n",
        "마지막으로 음의 상관 관계는 대출자를 제외한 부양가족 수 (NumberOfDependents)와 나이(age)가 **-0.21**를 보였는데, 이는 직관적으로 이해가 되지 않아 데이터를 더 확인해 보면서 파악할 예정이다."
      ]
    },
    {
      "cell_type": "markdown",
      "metadata": {
        "id": "LZJNMhcpCGOy"
      },
      "source": [
        "## DebtRatio Boxplot"
      ]
    },
    {
      "cell_type": "code",
      "metadata": {
        "colab": {
          "base_uri": "https://localhost:8080/"
        },
        "id": "ATsAaAz-CO_a",
        "outputId": "e85b4106-f7b9-4217-990e-6263080ecab8"
      },
      "source": [
        "data['DebtRatio'].value_counts()"
      ],
      "execution_count": 10,
      "outputs": [
        {
          "output_type": "execute_result",
          "data": {
            "text/plain": [
              "0.000000    4113\n",
              "1.000000     229\n",
              "4.000000     174\n",
              "2.000000     170\n",
              "3.000000     162\n",
              "            ... \n",
              "0.367271       1\n",
              "0.037634       1\n",
              "0.755290       1\n",
              "0.457568       1\n",
              "0.656276       1\n",
              "Name: DebtRatio, Length: 114194, dtype: int64"
            ]
          },
          "metadata": {},
          "execution_count": 10
        }
      ]
    },
    {
      "cell_type": "code",
      "metadata": {
        "colab": {
          "base_uri": "https://localhost:8080/"
        },
        "id": "hAcSscXBCcdK",
        "outputId": "276d9e4d-de38-4cea-edc4-c86e41f0ccd1"
      },
      "source": [
        "data[data['DebtRatio'] > 1].value_counts()"
      ],
      "execution_count": 11,
      "outputs": [
        {
          "output_type": "execute_result",
          "data": {
            "text/plain": [
              "SeriousDlqin2yrs  RevolvingUtilizationOfUnsecuredLines  age  NumberOfTime30-59DaysPastDueNotWorse  DebtRatio    MonthlyIncome  NumberOfOpenCreditLinesAndLoans  NumberOfTimes90DaysLate  NumberRealEstateLoansOrLines  NumberOfTime60-89DaysPastDueNotWorse  NumberOfDependents\n",
              "1                 3818.000000                           39   2                                     1.154265     3668.0         12                               1                        2                             0                                     0.0                   1\n",
              "0                 0.105818                              72   0                                     1.668262     626.0          10                               0                        0                             0                                     1.0                   1\n",
              "                  0.102986                              45   0                                     2431.000000  0.0            6                                0                        0                             0                                     0.0                   1\n",
              "                  0.103029                              42   0                                     2071.500000  1.0            9                                0                        2                             0                                     2.0                   1\n",
              "                  0.103063                              41   0                                     1.035629     9654.0         12                               0                        1                             0                                     0.0                   1\n",
              "                                                                                                                                                                                                                                                                                  ..\n",
              "                  0.589138                              35   1                                     1.189962     1852.0         10                               1                        1                             0                                     0.0                   1\n",
              "                  0.589671                              54   0                                     1.056432     4500.0         10                               0                        2                             0                                     0.0                   1\n",
              "                  0.590126                              63   0                                     49.745098    50.0           4                                0                        1                             0                                     0.0                   1\n",
              "                  0.590282                              37   0                                     1.343828     2000.0         4                                0                        1                             0                                     1.0                   1\n",
              "                  0.000000                              21   0                                     2.000000     1.0            1                                0                        0                             0                                     0.0                   1\n",
              "Length: 7233, dtype: int64"
            ]
          },
          "metadata": {},
          "execution_count": 11
        }
      ]
    },
    {
      "cell_type": "code",
      "metadata": {
        "colab": {
          "base_uri": "https://localhost:8080/",
          "height": 281
        },
        "id": "dS5dTzvuC6-6",
        "outputId": "eb536156-4cb1-41af-f7fa-3f1f2aa3763c"
      },
      "source": [
        "plt.boxplot(data['DebtRatio'])\n",
        "plt.title('DebtRatio')\n",
        "plt.ylim(0, 1)\n",
        "plt.show()"
      ],
      "execution_count": 12,
      "outputs": [
        {
          "output_type": "display_data",
          "data": {
            "image/png": "[encoded data removed]",
            "text/plain": [
              "<Figure size 432x288 with 1 Axes>"
            ]
          },
          "metadata": {
            "needs_background": "light"
          }
        }
      ]
    },
    {
      "cell_type": "code",
      "metadata": {
        "colab": {
          "base_uri": "https://localhost:8080/",
          "height": 295
        },
        "id": "_lfZrOQMDNI5",
        "outputId": "79fd777f-193c-420c-8fa3-98acb6a0ec9e"
      },
      "source": [
        "data_sample = data.copy()\n",
        "data_sample['age/20'] = data_sample[['age']].applymap(lambda x : int(x/20))\n",
        "sns.boxplot(x='age/20', y='DebtRatio', data=data_sample)\n",
        "plt.title('DebtRatio')\n",
        "plt.ylim(0, 1)\n",
        "plt.show()"
      ],
      "execution_count": 13,
      "outputs": [
        {
          "output_type": "display_data",
          "data": {
            "image/png": "[encoded data removed]",
            "text/plain": [
              "<Figure size 432x288 with 1 Axes>"
            ]
          },
          "metadata": {
            "needs_background": "light"
          }
        }
      ]
    },
    {
      "cell_type": "markdown",
      "metadata": {
        "id": "2Aj_FrpzuKTO"
      },
      "source": [
        "## RevolvingUtilizationOfUnsecuredLines Boxplot"
      ]
    },
    {
      "cell_type": "code",
      "metadata": {
        "colab": {
          "base_uri": "https://localhost:8080/"
        },
        "id": "6jOsaBezCgSE",
        "outputId": "06918b56-6fe8-402b-82c9-21196ce8705a"
      },
      "source": [
        "data['RevolvingUtilizationOfUnsecuredLines'].value_counts()"
      ],
      "execution_count": 14,
      "outputs": [
        {
          "output_type": "execute_result",
          "data": {
            "text/plain": [
              "0.000000    10878\n",
              "1.000000    10256\n",
              "1.000000       17\n",
              "0.950100        8\n",
              "0.713147        6\n",
              "            ...  \n",
              "0.486200        1\n",
              "0.039377        1\n",
              "0.030780        1\n",
              "0.355181        1\n",
              "0.168611        1\n",
              "Name: RevolvingUtilizationOfUnsecuredLines, Length: 125728, dtype: int64"
            ]
          },
          "metadata": {},
          "execution_count": 14
        }
      ]
    },
    {
      "cell_type": "code",
      "metadata": {
        "colab": {
          "base_uri": "https://localhost:8080/"
        },
        "id": "i8Sgmb2nuKJX",
        "outputId": "a544865b-ef7e-4aa1-8893-14ac1599e36f"
      },
      "source": [
        "data[data['RevolvingUtilizationOfUnsecuredLines'] > 1].value_counts()"
      ],
      "execution_count": 15,
      "outputs": [
        {
          "output_type": "execute_result",
          "data": {
            "text/plain": [
              "SeriousDlqin2yrs  RevolvingUtilizationOfUnsecuredLines  age  NumberOfTime30-59DaysPastDueNotWorse  DebtRatio  MonthlyIncome  NumberOfOpenCreditLinesAndLoans  NumberOfTimes90DaysLate  NumberRealEstateLoansOrLines  NumberOfTime60-89DaysPastDueNotWorse  NumberOfDependents\n",
              "1                 6190.000000                           27   0                                     0.478532   1280.0         6                                0                        0                             1                                     1.0                   1\n",
              "0                 1.068493                              25   1                                     0.129968   4100.0         2                                0                        0                             0                                     0.0                   1\n",
              "                  1.069572                              45   0                                     0.019954   4810.0         2                                0                        0                             0                                     1.0                   1\n",
              "                  1.069530                              47   1                                     0.059499   8100.0         4                                0                        0                             0                                     0.0                   1\n",
              "                  1.069475                              61   0                                     0.497835   9466.0         17                               0                        2                             0                                     2.0                   1\n",
              "                                                                                                                                                                                                                                                                                ..\n",
              "1                 1.007768                              39   2                                     0.549801   7800.0         20                               0                        2                             1                                     1.0                   1\n",
              "                  1.007764                              61   0                                     0.168556   4146.0         4                                1                        0                             0                                     2.0                   1\n",
              "                  1.007713                              43   0                                     0.235135   3699.0         6                                0                        1                             0                                     0.0                   1\n",
              "                  1.007628                              36   0                                     0.625688   5083.0         18                               8                        1                             0                                     1.0                   1\n",
              "0                 1.000059                              47   0                                     0.375102   9775.0         5                                1                        2                             0                                     3.0                   1\n",
              "Length: 2773, dtype: int64"
            ]
          },
          "metadata": {},
          "execution_count": 15
        }
      ]
    },
    {
      "cell_type": "code",
      "metadata": {
        "colab": {
          "base_uri": "https://localhost:8080/",
          "height": 281
        },
        "id": "KSPre1D-uKA_",
        "outputId": "ac9fd956-6b60-4b9c-8a63-f02f3cb4f786"
      },
      "source": [
        "plt.boxplot(data['RevolvingUtilizationOfUnsecuredLines'])\n",
        "plt.title('RevolvingUtilizationOfUnsecuredLines')\n",
        "plt.ylim(0, 1)\n",
        "plt.show()"
      ],
      "execution_count": 16,
      "outputs": [
        {
          "output_type": "display_data",
          "data": {
            "image/png": "[encoded data removed]",
            "text/plain": [
              "<Figure size 432x288 with 1 Axes>"
            ]
          },
          "metadata": {
            "needs_background": "light"
          }
        }
      ]
    },
    {
      "cell_type": "code",
      "metadata": {
        "colab": {
          "base_uri": "https://localhost:8080/",
          "height": 295
        },
        "id": "VBvfn_E4zfCu",
        "outputId": "76f4dae6-bc92-4cfc-8f2b-4524b0e3a665"
      },
      "source": [
        "data_sample = data.copy()\n",
        "data_sample['age/20'] = data_sample[['age']].applymap(lambda x : int(x/20))\n",
        "sns.boxplot(x='age/20', y='RevolvingUtilizationOfUnsecuredLines', data=data_sample)\n",
        "plt.title('RevolvingUtilizationOfUnsecuredLines')\n",
        "plt.ylim(-0.1, 1.1)\n",
        "plt.show()"
      ],
      "execution_count": 17,
      "outputs": [
        {
          "output_type": "display_data",
          "data": {
            "image/png": "[encoded data removed]",
            "text/plain": [
              "<Figure size 432x288 with 1 Axes>"
            ]
          },
          "metadata": {
            "needs_background": "light"
          }
        }
      ]
    },
    {
      "cell_type": "markdown",
      "metadata": {
        "id": "rQJsBxesb9JE"
      },
      "source": [
        "## 전체 나이 분포 확인 (Pie chart)"
      ]
    },
    {
      "cell_type": "code",
      "metadata": {
        "colab": {
          "base_uri": "https://localhost:8080/",
          "height": 206
        },
        "id": "fvHBR2iPEoZt",
        "outputId": "78c90436-4dc4-4d24-b19d-5b1d3c2e8fd4"
      },
      "source": [
        "age_df = pd.DataFrame(data.age)\n",
        "age_df.head()"
      ],
      "execution_count": 18,
      "outputs": [
        {
          "output_type": "execute_result",
          "data": {
            "text/html": [
              "<div>\n",
              "<style scoped>\n",
              "    .dataframe tbody tr th:only-of-type {\n",
              "        vertical-align: middle;\n",
              "    }\n",
              "\n",
              "    .dataframe tbody tr th {\n",
              "        vertical-align: top;\n",
              "    }\n",
              "\n",
              "    .dataframe thead th {\n",
              "        text-align: right;\n",
              "    }\n",
              "</style>\n",
              "<table border=\"1\" class=\"dataframe\">\n",
              "  <thead>\n",
              "    <tr style=\"text-align: right;\">\n",
              "      <th></th>\n",
              "      <th>age</th>\n",
              "    </tr>\n",
              "  </thead>\n",
              "  <tbody>\n",
              "    <tr>\n",
              "      <th>1</th>\n",
              "      <td>45</td>\n",
              "    </tr>\n",
              "    <tr>\n",
              "      <th>2</th>\n",
              "      <td>40</td>\n",
              "    </tr>\n",
              "    <tr>\n",
              "      <th>3</th>\n",
              "      <td>38</td>\n",
              "    </tr>\n",
              "    <tr>\n",
              "      <th>4</th>\n",
              "      <td>30</td>\n",
              "    </tr>\n",
              "    <tr>\n",
              "      <th>5</th>\n",
              "      <td>49</td>\n",
              "    </tr>\n",
              "  </tbody>\n",
              "</table>\n",
              "</div>"
            ],
            "text/plain": [
              "   age\n",
              "1   45\n",
              "2   40\n",
              "3   38\n",
              "4   30\n",
              "5   49"
            ]
          },
          "metadata": {},
          "execution_count": 18
        }
      ]
    },
    {
      "cell_type": "code",
      "metadata": {
        "colab": {
          "base_uri": "https://localhost:8080/"
        },
        "id": "kmVM_lBIFxhP",
        "outputId": "bcdc5a43-3e43-4172-d290-811bd41a34c6"
      },
      "source": [
        "# 20살 단위로 group화\n",
        "age_df['age/20'] = age_df[['age']].applymap(lambda x : int(x/20))\n",
        "age_df_count = age_df.groupby(['age/20'])['age/20'].count()\n",
        "age_df_count.index = ['age<20', '20<=age<40', '40<=age<60', '60<=age<80', '80<=age<100', '100<=age']\n",
        "age_df_count.column = ['count']\n",
        "age_df_count"
      ],
      "execution_count": 19,
      "outputs": [
        {
          "output_type": "execute_result",
          "data": {
            "text/plain": [
              "age<20             1\n",
              "20<=age<40     32003\n",
              "40<=age<60     69678\n",
              "60<=age<80     42506\n",
              "80<=age<100     5799\n",
              "100<=age          13\n",
              "Name: age/20, dtype: int64"
            ]
          },
          "metadata": {},
          "execution_count": 19
        }
      ]
    },
    {
      "cell_type": "code",
      "metadata": {
        "colab": {
          "base_uri": "https://localhost:8080/",
          "height": 373
        },
        "id": "LJpBM0M5HnaJ",
        "outputId": "b656c813-d98a-45fc-db0e-3609a630248e"
      },
      "source": [
        "# data visualization\n",
        "plt.figure(figsize=(7, 6))\n",
        "plt.pie(age_df_count.values, labels=age_df_count.index, autopct='%1.1f%%')\n",
        "plt.axis('equal')\n",
        "plt.title('age count')\n",
        "plt.show()"
      ],
      "execution_count": 20,
      "outputs": [
        {
          "output_type": "display_data",
          "data": {
            "image/png": "[encoded data removed]",
            "text/plain": [
              "<Figure size 504x432 with 1 Axes>"
            ]
          },
          "metadata": {}
        }
      ]
    },
    {
      "cell_type": "markdown",
      "metadata": {
        "id": "ojwXupIKiWSo"
      },
      "source": [
        "### **Analysis**\n",
        "전체적인 나이 분포를 확인해본 결과, 40 ~ 60살 정도가 46.5% 이상의 높은 비율을 가지고 있었고 다음으로 60 ~ 80살이 28.3%로 40살 이상에서 약 75%가 넘는 분포를 가지고 있었다. 그 다음으로 20 ~ 40살 정도에서 약 21%의 비율을 차지했음을 알 수 있었다.\n",
        "\n"
      ]
    },
    {
      "cell_type": "markdown",
      "metadata": {
        "id": "JN-ezBtki3Cz"
      },
      "source": [
        "## 최근 2년 동안 90일 이상 연체 여부 데이터 분석 (SeriousDlqin2yrs / Violin Plot)"
      ]
    },
    {
      "cell_type": "code",
      "metadata": {
        "colab": {
          "base_uri": "https://localhost:8080/",
          "height": 206
        },
        "id": "tgFx4iHGIJcu",
        "outputId": "648b8c33-393a-4f4b-b99b-ae19c78fc21e"
      },
      "source": [
        "# SeriousDlqin2yrs\n",
        "df_SeriousDlqin2yrs = pd.DataFrame(data.SeriousDlqin2yrs)\n",
        "df_SeriousDlqin2yrs.head()"
      ],
      "execution_count": 21,
      "outputs": [
        {
          "output_type": "execute_result",
          "data": {
            "text/html": [
              "<div>\n",
              "<style scoped>\n",
              "    .dataframe tbody tr th:only-of-type {\n",
              "        vertical-align: middle;\n",
              "    }\n",
              "\n",
              "    .dataframe tbody tr th {\n",
              "        vertical-align: top;\n",
              "    }\n",
              "\n",
              "    .dataframe thead th {\n",
              "        text-align: right;\n",
              "    }\n",
              "</style>\n",
              "<table border=\"1\" class=\"dataframe\">\n",
              "  <thead>\n",
              "    <tr style=\"text-align: right;\">\n",
              "      <th></th>\n",
              "      <th>SeriousDlqin2yrs</th>\n",
              "    </tr>\n",
              "  </thead>\n",
              "  <tbody>\n",
              "    <tr>\n",
              "      <th>1</th>\n",
              "      <td>1</td>\n",
              "    </tr>\n",
              "    <tr>\n",
              "      <th>2</th>\n",
              "      <td>0</td>\n",
              "    </tr>\n",
              "    <tr>\n",
              "      <th>3</th>\n",
              "      <td>0</td>\n",
              "    </tr>\n",
              "    <tr>\n",
              "      <th>4</th>\n",
              "      <td>0</td>\n",
              "    </tr>\n",
              "    <tr>\n",
              "      <th>5</th>\n",
              "      <td>0</td>\n",
              "    </tr>\n",
              "  </tbody>\n",
              "</table>\n",
              "</div>"
            ],
            "text/plain": [
              "   SeriousDlqin2yrs\n",
              "1                 1\n",
              "2                 0\n",
              "3                 0\n",
              "4                 0\n",
              "5                 0"
            ]
          },
          "metadata": {},
          "execution_count": 21
        }
      ]
    },
    {
      "cell_type": "code",
      "metadata": {
        "colab": {
          "base_uri": "https://localhost:8080/",
          "height": 640
        },
        "id": "JWDZOlXRTdKi",
        "outputId": "726a80b5-0d78-44b3-a0af-8e8b6fc259cc"
      },
      "source": [
        "plt.figure(figsize=(15, 10))\n",
        "sns.violinplot('NumberOfTime60-89DaysPastDueNotWorse', 'age', hue='SeriousDlqin2yrs', data=data)\n",
        "plt.title('SeriousDlqin2yrs')\n",
        "plt.show()"
      ],
      "execution_count": 22,
      "outputs": [
        {
          "output_type": "stream",
          "name": "stderr",
          "text": [
            "/usr/local/lib/python3.7/dist-packages/seaborn/_decorators.py:43: FutureWarning: Pass the following variables as keyword args: x, y. From version 0.12, the only valid positional argument will be `data`, and passing other arguments without an explicit keyword will result in an error or misinterpretation.\n",
            "  FutureWarning\n"
          ]
        },
        {
          "output_type": "display_data",
          "data": {
            "image/png": "[encoded data removed]",
            "text/plain": [
              "<Figure size 1080x720 with 1 Axes>"
            ]
          },
          "metadata": {
            "needs_background": "light"
          }
        }
      ]
    },
    {
      "cell_type": "code",
      "metadata": {
        "colab": {
          "base_uri": "https://localhost:8080/"
        },
        "id": "yUVz-9wZYM2X",
        "outputId": "c06b76d9-9572-44d7-fe6c-0202b8c5d312"
      },
      "source": [
        "data['NumberOfTime60-89DaysPastDueNotWorse'].value_counts()"
      ],
      "execution_count": 23,
      "outputs": [
        {
          "output_type": "execute_result",
          "data": {
            "text/plain": [
              "0     142396\n",
              "1       5731\n",
              "2       1118\n",
              "3        318\n",
              "98       264\n",
              "4        105\n",
              "5         34\n",
              "6         16\n",
              "7          9\n",
              "96         5\n",
              "8          2\n",
              "11         1\n",
              "9          1\n",
              "Name: NumberOfTime60-89DaysPastDueNotWorse, dtype: int64"
            ]
          },
          "metadata": {},
          "execution_count": 23
        }
      ]
    },
    {
      "cell_type": "markdown",
      "metadata": {
        "id": "1xegBzU1mzlP"
      },
      "source": [
        "### **Analysis**\n",
        "violin plot을 이용하여 최근 2년간 60 ~ 89일 연체한 횟수에 따른 2년 동안 90일 이상 연체 여부를 파악해보려고 했다. 하지만 위의 그림과 같이 60 ~ 89일 연체한 횟수에 대해 이상치 (outlier)로 보이는 것이 탐지가 되었다.\n",
        "\n",
        "이를 value_counts()를 통해서 다시 본 결과, 2년간 연체한 횟수가 98, 96번이라는 답변이 **264명과 5명**으로 조사되어 있다는 것을 파악했다. 이에 대한 값을 아예 **삭제를 할 것인지, 아니면 값을 대체할 지를** 결정이 필요해 보인다."
      ]
    },
    {
      "cell_type": "markdown",
      "metadata": {
        "id": "RKF-E56jqLju"
      },
      "source": [
        "## 결측치 파악"
      ]
    },
    {
      "cell_type": "code",
      "metadata": {
        "colab": {
          "base_uri": "https://localhost:8080/"
        },
        "id": "99PFeElOEEr1",
        "outputId": "4d4abeb4-6515-496d-b41f-9ace555442f2"
      },
      "source": [
        "data.info()"
      ],
      "execution_count": 24,
      "outputs": [
        {
          "output_type": "stream",
          "name": "stdout",
          "text": [
            "<class 'pandas.core.frame.DataFrame'>\n",
            "Int64Index: 150000 entries, 1 to 150000\n",
            "Data columns (total 11 columns):\n",
            " #   Column                                Non-Null Count   Dtype  \n",
            "---  ------                                --------------   -----  \n",
            " 0   SeriousDlqin2yrs                      150000 non-null  int64  \n",
            " 1   RevolvingUtilizationOfUnsecuredLines  150000 non-null  float64\n",
            " 2   age                                   150000 non-null  int64  \n",
            " 3   NumberOfTime30-59DaysPastDueNotWorse  150000 non-null  int64  \n",
            " 4   DebtRatio                             150000 non-null  float64\n",
            " 5   MonthlyIncome                         120269 non-null  float64\n",
            " 6   NumberOfOpenCreditLinesAndLoans       150000 non-null  int64  \n",
            " 7   NumberOfTimes90DaysLate               150000 non-null  int64  \n",
            " 8   NumberRealEstateLoansOrLines          150000 non-null  int64  \n",
            " 9   NumberOfTime60-89DaysPastDueNotWorse  150000 non-null  int64  \n",
            " 10  NumberOfDependents                    146076 non-null  float64\n",
            "dtypes: float64(4), int64(7)\n",
            "memory usage: 18.7 MB\n"
          ]
        }
      ]
    },
    {
      "cell_type": "code",
      "metadata": {
        "colab": {
          "base_uri": "https://localhost:8080/"
        },
        "id": "qcOfoPXrETEK",
        "outputId": "5f48a218-9587-47ae-db66-f59bf6294aec"
      },
      "source": [
        "data.isna().sum()"
      ],
      "execution_count": 25,
      "outputs": [
        {
          "output_type": "execute_result",
          "data": {
            "text/plain": [
              "SeriousDlqin2yrs                            0\n",
              "RevolvingUtilizationOfUnsecuredLines        0\n",
              "age                                         0\n",
              "NumberOfTime30-59DaysPastDueNotWorse        0\n",
              "DebtRatio                                   0\n",
              "MonthlyIncome                           29731\n",
              "NumberOfOpenCreditLinesAndLoans             0\n",
              "NumberOfTimes90DaysLate                     0\n",
              "NumberRealEstateLoansOrLines                0\n",
              "NumberOfTime60-89DaysPastDueNotWorse        0\n",
              "NumberOfDependents                       3924\n",
              "dtype: int64"
            ]
          },
          "metadata": {},
          "execution_count": 25
        }
      ]
    },
    {
      "cell_type": "markdown",
      "metadata": {
        "id": "Bj7F15r_qTMX"
      },
      "source": [
        "### **Analysis**\n",
        "결측치 (NA)에 대한 분석이다. 총 2개의 요소에서 결측치가 발생했다. (MonthlyIncome, NumberOfDependents) 특히, 월 수입에 대한 결측치는 거의 3만개에 가까운 숫자이기에 삭제하기에는 무리가 있다고 판단되었다. 그리고 부양 가족의 수도 그냥 삭제하기 보다는 데이터 전체의 평균 등으로 대체하여 사용할 예정이다.\n",
        "\n",
        "구체적으로 위의 상관 관계(heat map)에서 볼 수 있듯이, MonthlyIncome은 NumberRealEstateLoansOrLines에서 그나마 높은 상관 관계를 가지기에 각 값 별로 가지고 있는 월 평균 수입을 MonthlyIncome 값으로 대체할 예정이다.\n",
        "\n",
        "다음으로 NumberOfDependents의 경우, age와 음의 상관 관계이지만 관련성이 높아 보이므로 나이대에 따른 NumberOfDependents를 적용하거나 삭제할 예정이다."
      ]
    },
    {
      "cell_type": "markdown",
      "metadata": {
        "id": "htWKvHxBtya5"
      },
      "source": [
        "## Data preprocessing\n",
        "### 결측치 처리 : NumberOfDependents"
      ]
    },
    {
      "cell_type": "code",
      "metadata": {
        "id": "EHMhNuXxrhvK",
        "colab": {
          "base_uri": "https://localhost:8080/"
        },
        "outputId": "fba69b6d-5861-4a21-f781-c7083b0e5d7c"
      },
      "source": [
        "data.shape"
      ],
      "execution_count": 81,
      "outputs": [
        {
          "output_type": "execute_result",
          "data": {
            "text/plain": [
              "(150000, 11)"
            ]
          },
          "metadata": {},
          "execution_count": 81
        }
      ]
    },
    {
      "cell_type": "code",
      "metadata": {
        "id": "iADRIjWUEWWh",
        "colab": {
          "base_uri": "https://localhost:8080/",
          "height": 244
        },
        "outputId": "79856085-9865-4328-b645-5f8355383cfd"
      },
      "source": [
        "data_1 = data.copy()\n",
        "data_1.head()"
      ],
      "execution_count": 82,
      "outputs": [
        {
          "output_type": "execute_result",
          "data": {
            "text/html": [
              "<div>\n",
              "<style scoped>\n",
              "    .dataframe tbody tr th:only-of-type {\n",
              "        vertical-align: middle;\n",
              "    }\n",
              "\n",
              "    .dataframe tbody tr th {\n",
              "        vertical-align: top;\n",
              "    }\n",
              "\n",
              "    .dataframe thead th {\n",
              "        text-align: right;\n",
              "    }\n",
              "</style>\n",
              "<table border=\"1\" class=\"dataframe\">\n",
              "  <thead>\n",
              "    <tr style=\"text-align: right;\">\n",
              "      <th></th>\n",
              "      <th>SeriousDlqin2yrs</th>\n",
              "      <th>RevolvingUtilizationOfUnsecuredLines</th>\n",
              "      <th>age</th>\n",
              "      <th>NumberOfTime30-59DaysPastDueNotWorse</th>\n",
              "      <th>DebtRatio</th>\n",
              "      <th>MonthlyIncome</th>\n",
              "      <th>NumberOfOpenCreditLinesAndLoans</th>\n",
              "      <th>NumberOfTimes90DaysLate</th>\n",
              "      <th>NumberRealEstateLoansOrLines</th>\n",
              "      <th>NumberOfTime60-89DaysPastDueNotWorse</th>\n",
              "      <th>NumberOfDependents</th>\n",
              "    </tr>\n",
              "  </thead>\n",
              "  <tbody>\n",
              "    <tr>\n",
              "      <th>1</th>\n",
              "      <td>1</td>\n",
              "      <td>0.766127</td>\n",
              "      <td>45</td>\n",
              "      <td>2</td>\n",
              "      <td>0.802982</td>\n",
              "      <td>9120.0</td>\n",
              "      <td>13</td>\n",
              "      <td>0</td>\n",
              "      <td>6</td>\n",
              "      <td>0</td>\n",
              "      <td>2.0</td>\n",
              "    </tr>\n",
              "    <tr>\n",
              "      <th>2</th>\n",
              "      <td>0</td>\n",
              "      <td>0.957151</td>\n",
              "      <td>40</td>\n",
              "      <td>0</td>\n",
              "      <td>0.121876</td>\n",
              "      <td>2600.0</td>\n",
              "      <td>4</td>\n",
              "      <td>0</td>\n",
              "      <td>0</td>\n",
              "      <td>0</td>\n",
              "      <td>1.0</td>\n",
              "    </tr>\n",
              "    <tr>\n",
              "      <th>3</th>\n",
              "      <td>0</td>\n",
              "      <td>0.658180</td>\n",
              "      <td>38</td>\n",
              "      <td>1</td>\n",
              "      <td>0.085113</td>\n",
              "      <td>3042.0</td>\n",
              "      <td>2</td>\n",
              "      <td>1</td>\n",
              "      <td>0</td>\n",
              "      <td>0</td>\n",
              "      <td>0.0</td>\n",
              "    </tr>\n",
              "    <tr>\n",
              "      <th>4</th>\n",
              "      <td>0</td>\n",
              "      <td>0.233810</td>\n",
              "      <td>30</td>\n",
              "      <td>0</td>\n",
              "      <td>0.036050</td>\n",
              "      <td>3300.0</td>\n",
              "      <td>5</td>\n",
              "      <td>0</td>\n",
              "      <td>0</td>\n",
              "      <td>0</td>\n",
              "      <td>0.0</td>\n",
              "    </tr>\n",
              "    <tr>\n",
              "      <th>5</th>\n",
              "      <td>0</td>\n",
              "      <td>0.907239</td>\n",
              "      <td>49</td>\n",
              "      <td>1</td>\n",
              "      <td>0.024926</td>\n",
              "      <td>63588.0</td>\n",
              "      <td>7</td>\n",
              "      <td>0</td>\n",
              "      <td>1</td>\n",
              "      <td>0</td>\n",
              "      <td>0.0</td>\n",
              "    </tr>\n",
              "  </tbody>\n",
              "</table>\n",
              "</div>"
            ],
            "text/plain": [
              "   SeriousDlqin2yrs  ...  NumberOfDependents\n",
              "1                 1  ...                 2.0\n",
              "2                 0  ...                 1.0\n",
              "3                 0  ...                 0.0\n",
              "4                 0  ...                 0.0\n",
              "5                 0  ...                 0.0\n",
              "\n",
              "[5 rows x 11 columns]"
            ]
          },
          "metadata": {},
          "execution_count": 82
        }
      ]
    },
    {
      "cell_type": "code",
      "metadata": {
        "colab": {
          "base_uri": "https://localhost:8080/",
          "height": 244
        },
        "id": "4v05_nEJuQHh",
        "outputId": "0e743182-6c39-47a5-98e2-6852c50c9403"
      },
      "source": [
        "data_1['age/10'] = data_1[['age']].applymap(lambda x : int(x/10))\n",
        "data_1.head()"
      ],
      "execution_count": 83,
      "outputs": [
        {
          "output_type": "execute_result",
          "data": {
            "text/html": [
              "<div>\n",
              "<style scoped>\n",
              "    .dataframe tbody tr th:only-of-type {\n",
              "        vertical-align: middle;\n",
              "    }\n",
              "\n",
              "    .dataframe tbody tr th {\n",
              "        vertical-align: top;\n",
              "    }\n",
              "\n",
              "    .dataframe thead th {\n",
              "        text-align: right;\n",
              "    }\n",
              "</style>\n",
              "<table border=\"1\" class=\"dataframe\">\n",
              "  <thead>\n",
              "    <tr style=\"text-align: right;\">\n",
              "      <th></th>\n",
              "      <th>SeriousDlqin2yrs</th>\n",
              "      <th>RevolvingUtilizationOfUnsecuredLines</th>\n",
              "      <th>age</th>\n",
              "      <th>NumberOfTime30-59DaysPastDueNotWorse</th>\n",
              "      <th>DebtRatio</th>\n",
              "      <th>MonthlyIncome</th>\n",
              "      <th>NumberOfOpenCreditLinesAndLoans</th>\n",
              "      <th>NumberOfTimes90DaysLate</th>\n",
              "      <th>NumberRealEstateLoansOrLines</th>\n",
              "      <th>NumberOfTime60-89DaysPastDueNotWorse</th>\n",
              "      <th>NumberOfDependents</th>\n",
              "      <th>age/10</th>\n",
              "    </tr>\n",
              "  </thead>\n",
              "  <tbody>\n",
              "    <tr>\n",
              "      <th>1</th>\n",
              "      <td>1</td>\n",
              "      <td>0.766127</td>\n",
              "      <td>45</td>\n",
              "      <td>2</td>\n",
              "      <td>0.802982</td>\n",
              "      <td>9120.0</td>\n",
              "      <td>13</td>\n",
              "      <td>0</td>\n",
              "      <td>6</td>\n",
              "      <td>0</td>\n",
              "      <td>2.0</td>\n",
              "      <td>4</td>\n",
              "    </tr>\n",
              "    <tr>\n",
              "      <th>2</th>\n",
              "      <td>0</td>\n",
              "      <td>0.957151</td>\n",
              "      <td>40</td>\n",
              "      <td>0</td>\n",
              "      <td>0.121876</td>\n",
              "      <td>2600.0</td>\n",
              "      <td>4</td>\n",
              "      <td>0</td>\n",
              "      <td>0</td>\n",
              "      <td>0</td>\n",
              "      <td>1.0</td>\n",
              "      <td>4</td>\n",
              "    </tr>\n",
              "    <tr>\n",
              "      <th>3</th>\n",
              "      <td>0</td>\n",
              "      <td>0.658180</td>\n",
              "      <td>38</td>\n",
              "      <td>1</td>\n",
              "      <td>0.085113</td>\n",
              "      <td>3042.0</td>\n",
              "      <td>2</td>\n",
              "      <td>1</td>\n",
              "      <td>0</td>\n",
              "      <td>0</td>\n",
              "      <td>0.0</td>\n",
              "      <td>3</td>\n",
              "    </tr>\n",
              "    <tr>\n",
              "      <th>4</th>\n",
              "      <td>0</td>\n",
              "      <td>0.233810</td>\n",
              "      <td>30</td>\n",
              "      <td>0</td>\n",
              "      <td>0.036050</td>\n",
              "      <td>3300.0</td>\n",
              "      <td>5</td>\n",
              "      <td>0</td>\n",
              "      <td>0</td>\n",
              "      <td>0</td>\n",
              "      <td>0.0</td>\n",
              "      <td>3</td>\n",
              "    </tr>\n",
              "    <tr>\n",
              "      <th>5</th>\n",
              "      <td>0</td>\n",
              "      <td>0.907239</td>\n",
              "      <td>49</td>\n",
              "      <td>1</td>\n",
              "      <td>0.024926</td>\n",
              "      <td>63588.0</td>\n",
              "      <td>7</td>\n",
              "      <td>0</td>\n",
              "      <td>1</td>\n",
              "      <td>0</td>\n",
              "      <td>0.0</td>\n",
              "      <td>4</td>\n",
              "    </tr>\n",
              "  </tbody>\n",
              "</table>\n",
              "</div>"
            ],
            "text/plain": [
              "   SeriousDlqin2yrs  ...  age/10\n",
              "1                 1  ...       4\n",
              "2                 0  ...       4\n",
              "3                 0  ...       3\n",
              "4                 0  ...       3\n",
              "5                 0  ...       4\n",
              "\n",
              "[5 rows x 12 columns]"
            ]
          },
          "metadata": {},
          "execution_count": 83
        }
      ]
    },
    {
      "cell_type": "code",
      "metadata": {
        "colab": {
          "base_uri": "https://localhost:8080/"
        },
        "id": "iNfqozIau-I5",
        "outputId": "96bcf6bf-6d2b-4497-aead-e0b489ad7577"
      },
      "source": [
        "mean_df = data_1['NumberOfDependents'].groupby(data_1['age/10']).mean()\n",
        "mean_df\n",
        "# data_1.NumberOfDependents.mean()"
      ],
      "execution_count": 84,
      "outputs": [
        {
          "output_type": "execute_result",
          "data": {
            "text/plain": [
              "age/10\n",
              "0     2.000000\n",
              "2     0.293748\n",
              "3     0.928793\n",
              "4     1.303160\n",
              "5     0.849615\n",
              "6     0.363403\n",
              "7     0.187539\n",
              "8     0.114765\n",
              "9     0.086331\n",
              "10    0.100000\n",
              "Name: NumberOfDependents, dtype: float64"
            ]
          },
          "metadata": {},
          "execution_count": 84
        }
      ]
    },
    {
      "cell_type": "code",
      "metadata": {
        "id": "Tgys-NG9xV2Q"
      },
      "source": [
        "# NumberOfDependents의 결측치 채우기\n",
        "# data_1.loc[(data_1['NumberOfDependents'].isnull()), 'NumberOfDependents'] = int(data_1.NumberOfDependents.mean())\n",
        "for j in range(0, 11):\n",
        "  for i in mean_df:\n",
        "    data_1.loc[(data_1['NumberOfDependents'].isnull()) & (data_1['age/10'] == round(j)),\n",
        "               'NumberOfDependents'] = i"
      ],
      "execution_count": 85,
      "outputs": []
    },
    {
      "cell_type": "code",
      "metadata": {
        "colab": {
          "base_uri": "https://localhost:8080/"
        },
        "id": "kCnHSnWazfRQ",
        "outputId": "a1cb49f7-e215-42c4-b04c-6f6563d0c370"
      },
      "source": [
        "data_1.info()"
      ],
      "execution_count": 86,
      "outputs": [
        {
          "output_type": "stream",
          "name": "stdout",
          "text": [
            "<class 'pandas.core.frame.DataFrame'>\n",
            "Int64Index: 150000 entries, 1 to 150000\n",
            "Data columns (total 12 columns):\n",
            " #   Column                                Non-Null Count   Dtype  \n",
            "---  ------                                --------------   -----  \n",
            " 0   SeriousDlqin2yrs                      150000 non-null  int64  \n",
            " 1   RevolvingUtilizationOfUnsecuredLines  150000 non-null  float64\n",
            " 2   age                                   150000 non-null  int64  \n",
            " 3   NumberOfTime30-59DaysPastDueNotWorse  150000 non-null  int64  \n",
            " 4   DebtRatio                             150000 non-null  float64\n",
            " 5   MonthlyIncome                         120269 non-null  float64\n",
            " 6   NumberOfOpenCreditLinesAndLoans       150000 non-null  int64  \n",
            " 7   NumberOfTimes90DaysLate               150000 non-null  int64  \n",
            " 8   NumberRealEstateLoansOrLines          150000 non-null  int64  \n",
            " 9   NumberOfTime60-89DaysPastDueNotWorse  150000 non-null  int64  \n",
            " 10  NumberOfDependents                    150000 non-null  float64\n",
            " 11  age/10                                150000 non-null  int64  \n",
            "dtypes: float64(4), int64(8)\n",
            "memory usage: 19.9 MB\n"
          ]
        }
      ]
    },
    {
      "cell_type": "code",
      "metadata": {
        "colab": {
          "base_uri": "https://localhost:8080/",
          "height": 244
        },
        "id": "ZnkOhxtJ6sTN",
        "outputId": "a4ab1bf0-9fe8-4b5f-e99a-24179ea0c982"
      },
      "source": [
        "data_1.drop('age/10', axis=1, inplace=True)\n",
        "data_1.head()"
      ],
      "execution_count": 87,
      "outputs": [
        {
          "output_type": "execute_result",
          "data": {
            "text/html": [
              "<div>\n",
              "<style scoped>\n",
              "    .dataframe tbody tr th:only-of-type {\n",
              "        vertical-align: middle;\n",
              "    }\n",
              "\n",
              "    .dataframe tbody tr th {\n",
              "        vertical-align: top;\n",
              "    }\n",
              "\n",
              "    .dataframe thead th {\n",
              "        text-align: right;\n",
              "    }\n",
              "</style>\n",
              "<table border=\"1\" class=\"dataframe\">\n",
              "  <thead>\n",
              "    <tr style=\"text-align: right;\">\n",
              "      <th></th>\n",
              "      <th>SeriousDlqin2yrs</th>\n",
              "      <th>RevolvingUtilizationOfUnsecuredLines</th>\n",
              "      <th>age</th>\n",
              "      <th>NumberOfTime30-59DaysPastDueNotWorse</th>\n",
              "      <th>DebtRatio</th>\n",
              "      <th>MonthlyIncome</th>\n",
              "      <th>NumberOfOpenCreditLinesAndLoans</th>\n",
              "      <th>NumberOfTimes90DaysLate</th>\n",
              "      <th>NumberRealEstateLoansOrLines</th>\n",
              "      <th>NumberOfTime60-89DaysPastDueNotWorse</th>\n",
              "      <th>NumberOfDependents</th>\n",
              "    </tr>\n",
              "  </thead>\n",
              "  <tbody>\n",
              "    <tr>\n",
              "      <th>1</th>\n",
              "      <td>1</td>\n",
              "      <td>0.766127</td>\n",
              "      <td>45</td>\n",
              "      <td>2</td>\n",
              "      <td>0.802982</td>\n",
              "      <td>9120.0</td>\n",
              "      <td>13</td>\n",
              "      <td>0</td>\n",
              "      <td>6</td>\n",
              "      <td>0</td>\n",
              "      <td>2.0</td>\n",
              "    </tr>\n",
              "    <tr>\n",
              "      <th>2</th>\n",
              "      <td>0</td>\n",
              "      <td>0.957151</td>\n",
              "      <td>40</td>\n",
              "      <td>0</td>\n",
              "      <td>0.121876</td>\n",
              "      <td>2600.0</td>\n",
              "      <td>4</td>\n",
              "      <td>0</td>\n",
              "      <td>0</td>\n",
              "      <td>0</td>\n",
              "      <td>1.0</td>\n",
              "    </tr>\n",
              "    <tr>\n",
              "      <th>3</th>\n",
              "      <td>0</td>\n",
              "      <td>0.658180</td>\n",
              "      <td>38</td>\n",
              "      <td>1</td>\n",
              "      <td>0.085113</td>\n",
              "      <td>3042.0</td>\n",
              "      <td>2</td>\n",
              "      <td>1</td>\n",
              "      <td>0</td>\n",
              "      <td>0</td>\n",
              "      <td>0.0</td>\n",
              "    </tr>\n",
              "    <tr>\n",
              "      <th>4</th>\n",
              "      <td>0</td>\n",
              "      <td>0.233810</td>\n",
              "      <td>30</td>\n",
              "      <td>0</td>\n",
              "      <td>0.036050</td>\n",
              "      <td>3300.0</td>\n",
              "      <td>5</td>\n",
              "      <td>0</td>\n",
              "      <td>0</td>\n",
              "      <td>0</td>\n",
              "      <td>0.0</td>\n",
              "    </tr>\n",
              "    <tr>\n",
              "      <th>5</th>\n",
              "      <td>0</td>\n",
              "      <td>0.907239</td>\n",
              "      <td>49</td>\n",
              "      <td>1</td>\n",
              "      <td>0.024926</td>\n",
              "      <td>63588.0</td>\n",
              "      <td>7</td>\n",
              "      <td>0</td>\n",
              "      <td>1</td>\n",
              "      <td>0</td>\n",
              "      <td>0.0</td>\n",
              "    </tr>\n",
              "  </tbody>\n",
              "</table>\n",
              "</div>"
            ],
            "text/plain": [
              "   SeriousDlqin2yrs  ...  NumberOfDependents\n",
              "1                 1  ...                 2.0\n",
              "2                 0  ...                 1.0\n",
              "3                 0  ...                 0.0\n",
              "4                 0  ...                 0.0\n",
              "5                 0  ...                 0.0\n",
              "\n",
              "[5 rows x 11 columns]"
            ]
          },
          "metadata": {},
          "execution_count": 87
        }
      ]
    },
    {
      "cell_type": "markdown",
      "metadata": {
        "id": "diur50Xq5ymF"
      },
      "source": [
        "### 결측치 처리 : MonthlyIncome"
      ]
    },
    {
      "cell_type": "code",
      "metadata": {
        "colab": {
          "base_uri": "https://localhost:8080/"
        },
        "id": "n-NSo8Pw5T8V",
        "outputId": "70b929d4-2035-4cb1-dff4-9d5c87311e0c"
      },
      "source": [
        "data_1['NumberRealEstateLoansOrLines'].value_counts()"
      ],
      "execution_count": 88,
      "outputs": [
        {
          "output_type": "execute_result",
          "data": {
            "text/plain": [
              "0     56188\n",
              "1     52338\n",
              "2     31522\n",
              "3      6300\n",
              "4      2170\n",
              "5       689\n",
              "6       320\n",
              "7       171\n",
              "8        93\n",
              "9        78\n",
              "10       37\n",
              "11       23\n",
              "12       18\n",
              "13       15\n",
              "14        7\n",
              "15        7\n",
              "16        4\n",
              "17        4\n",
              "25        3\n",
              "18        2\n",
              "19        2\n",
              "20        2\n",
              "23        2\n",
              "32        1\n",
              "21        1\n",
              "26        1\n",
              "29        1\n",
              "54        1\n",
              "Name: NumberRealEstateLoansOrLines, dtype: int64"
            ]
          },
          "metadata": {},
          "execution_count": 88
        }
      ]
    },
    {
      "cell_type": "code",
      "metadata": {
        "colab": {
          "base_uri": "https://localhost:8080/"
        },
        "id": "kXfqM24H516t",
        "outputId": "0b040710-fed5-428e-8815-9b494d1db7f6"
      },
      "source": [
        "mean_df = data_1['MonthlyIncome'].groupby(data_1['NumberRealEstateLoansOrLines']).mean()\n",
        "mean_df, mean_df.shape"
      ],
      "execution_count": 89,
      "outputs": [
        {
          "output_type": "execute_result",
          "data": {
            "text/plain": [
              "(NumberRealEstateLoansOrLines\n",
              " 0      4865.215082\n",
              " 1      6714.410023\n",
              " 2      8140.706147\n",
              " 3      9764.082914\n",
              " 4     12528.724307\n",
              " 5     13589.894017\n",
              " 6     14366.163121\n",
              " 7     14794.359155\n",
              " 8     13578.341772\n",
              " 9     14014.250000\n",
              " 10    12604.000000\n",
              " 11    15128.062500\n",
              " 12    18452.588235\n",
              " 13    23457.500000\n",
              " 14    18260.142857\n",
              " 15     9257.200000\n",
              " 16    90507.000000\n",
              " 17    29448.000000\n",
              " 18    10000.000000\n",
              " 19    20000.000000\n",
              " 20    21507.000000\n",
              " 21    33334.000000\n",
              " 23    14500.000000\n",
              " 25    35133.333333\n",
              " 26    48000.000000\n",
              " 29    55966.000000\n",
              " 32    70000.000000\n",
              " 54     8000.000000\n",
              " Name: MonthlyIncome, dtype: float64, (28,))"
            ]
          },
          "metadata": {},
          "execution_count": 89
        }
      ]
    },
    {
      "cell_type": "code",
      "metadata": {
        "id": "mQwjKdft51_u"
      },
      "source": [
        "# MonthlyIncome 결측치 채우기\n",
        "# data_1['MonthlyIncome'].mean()\n",
        "# data_1.loc[(data_1['MonthlyIncome'].isnull()), 'MonthlyIncome'] = data_1['MonthlyIncome'].mean()\n",
        "for j in range(0, 32):\n",
        "  for i in mean_df:\n",
        "    data_1.loc[(data_1['MonthlyIncome'].isnull()) & (data_1['NumberRealEstateLoansOrLines'] == j),\n",
        "               'MonthlyIncome'] = i"
      ],
      "execution_count": 90,
      "outputs": []
    },
    {
      "cell_type": "code",
      "metadata": {
        "colab": {
          "base_uri": "https://localhost:8080/"
        },
        "id": "MOWW_AC0_0ds",
        "outputId": "df5b2aa1-1c29-4407-eceb-1b8c36f59063"
      },
      "source": [
        "mean_df = data_1['MonthlyIncome'].groupby(data_1['NumberRealEstateLoansOrLines']).mean()\n",
        "mean_df, mean_df.shape"
      ],
      "execution_count": 91,
      "outputs": [
        {
          "output_type": "execute_result",
          "data": {
            "text/plain": [
              "(NumberRealEstateLoansOrLines\n",
              " 0      4865.215082\n",
              " 1      6339.327798\n",
              " 2      7634.034793\n",
              " 3      9038.583916\n",
              " 4     11359.774282\n",
              " 5     12272.961348\n",
              " 6     13237.925541\n",
              " 7     13110.469224\n",
              " 8     12266.688292\n",
              " 9     12372.115527\n",
              " 10    11767.374603\n",
              " 11    12004.587199\n",
              " 12    17697.734171\n",
              " 13    22218.014339\n",
              " 14    18260.142857\n",
              " 15     8002.347166\n",
              " 16    90507.000000\n",
              " 17    23302.303770\n",
              " 18     7432.607541\n",
              " 19    20000.000000\n",
              " 20    21507.000000\n",
              " 21    33334.000000\n",
              " 23     9682.607541\n",
              " 25    35133.333333\n",
              " 26    48000.000000\n",
              " 29    55966.000000\n",
              " 32    70000.000000\n",
              " 54     8000.000000\n",
              " Name: MonthlyIncome, dtype: float64, (28,))"
            ]
          },
          "metadata": {},
          "execution_count": 91
        }
      ]
    },
    {
      "cell_type": "code",
      "metadata": {
        "colab": {
          "base_uri": "https://localhost:8080/"
        },
        "id": "Hsa6J54r52Eu",
        "outputId": "bf2df527-1908-44de-ac17-e26f40dfe4f5"
      },
      "source": [
        "data_1.info()"
      ],
      "execution_count": 92,
      "outputs": [
        {
          "output_type": "stream",
          "name": "stdout",
          "text": [
            "<class 'pandas.core.frame.DataFrame'>\n",
            "Int64Index: 150000 entries, 1 to 150000\n",
            "Data columns (total 11 columns):\n",
            " #   Column                                Non-Null Count   Dtype  \n",
            "---  ------                                --------------   -----  \n",
            " 0   SeriousDlqin2yrs                      150000 non-null  int64  \n",
            " 1   RevolvingUtilizationOfUnsecuredLines  150000 non-null  float64\n",
            " 2   age                                   150000 non-null  int64  \n",
            " 3   NumberOfTime30-59DaysPastDueNotWorse  150000 non-null  int64  \n",
            " 4   DebtRatio                             150000 non-null  float64\n",
            " 5   MonthlyIncome                         150000 non-null  float64\n",
            " 6   NumberOfOpenCreditLinesAndLoans       150000 non-null  int64  \n",
            " 7   NumberOfTimes90DaysLate               150000 non-null  int64  \n",
            " 8   NumberRealEstateLoansOrLines          150000 non-null  int64  \n",
            " 9   NumberOfTime60-89DaysPastDueNotWorse  150000 non-null  int64  \n",
            " 10  NumberOfDependents                    150000 non-null  float64\n",
            "dtypes: float64(4), int64(7)\n",
            "memory usage: 18.7 MB\n"
          ]
        }
      ]
    },
    {
      "cell_type": "markdown",
      "metadata": {
        "id": "vcqo0k3m89Jm"
      },
      "source": [
        "### Result\n",
        "NumberOfDependents와 MonthlyIncome의 결측치를 위와 같이 다 채우는 방향으로 진행하였다.\n",
        "\n",
        "구체적으로 NumberOfDependents의 경우에는 age를 20살 기준으로 나누어 각 평균값을 구하고, 각 나이가 해당되는 연령의 결측치에 평균값으로 채웠다.\n",
        "\n",
        "다음으로 MonthlyIncome는 앞서 언급한 대로 NumberRealEstateLoansOrLines의 숫자를 살펴보았고, 각 대출 건수에 대한 MonthlyIncome 평균값을 구했다. 이를 각 해당하는 대출 건수에 대한 결측치를 채웠다."
      ]
    },
    {
      "cell_type": "markdown",
      "metadata": {
        "id": "tm7JtSCO-YmE"
      },
      "source": [
        "## Remove Outlier (이상치 제거)"
      ]
    },
    {
      "cell_type": "code",
      "metadata": {
        "colab": {
          "base_uri": "https://localhost:8080/"
        },
        "id": "60KyW3Og-YDN",
        "outputId": "97184cad-ef4e-45b3-8db7-0216a719f153"
      },
      "source": [
        "data_1.info()"
      ],
      "execution_count": 93,
      "outputs": [
        {
          "output_type": "stream",
          "name": "stdout",
          "text": [
            "<class 'pandas.core.frame.DataFrame'>\n",
            "Int64Index: 150000 entries, 1 to 150000\n",
            "Data columns (total 11 columns):\n",
            " #   Column                                Non-Null Count   Dtype  \n",
            "---  ------                                --------------   -----  \n",
            " 0   SeriousDlqin2yrs                      150000 non-null  int64  \n",
            " 1   RevolvingUtilizationOfUnsecuredLines  150000 non-null  float64\n",
            " 2   age                                   150000 non-null  int64  \n",
            " 3   NumberOfTime30-59DaysPastDueNotWorse  150000 non-null  int64  \n",
            " 4   DebtRatio                             150000 non-null  float64\n",
            " 5   MonthlyIncome                         150000 non-null  float64\n",
            " 6   NumberOfOpenCreditLinesAndLoans       150000 non-null  int64  \n",
            " 7   NumberOfTimes90DaysLate               150000 non-null  int64  \n",
            " 8   NumberRealEstateLoansOrLines          150000 non-null  int64  \n",
            " 9   NumberOfTime60-89DaysPastDueNotWorse  150000 non-null  int64  \n",
            " 10  NumberOfDependents                    150000 non-null  float64\n",
            "dtypes: float64(4), int64(7)\n",
            "memory usage: 18.7 MB\n"
          ]
        }
      ]
    },
    {
      "cell_type": "markdown",
      "metadata": {
        "id": "SoQeJijbvYbH"
      },
      "source": [
        "### 이상치 제거 : RevolvingUtilizationOfUnsecuredLines\n",
        "\n",
        "- Data의 속성상 **1** 이상의 숫자는 이상치라고 판단하여, 1.0 이상의 숫자를 삭제함"
      ]
    },
    {
      "cell_type": "code",
      "metadata": {
        "colab": {
          "base_uri": "https://localhost:8080/"
        },
        "id": "snnyywwkvX-3",
        "outputId": "eb64b05f-c7e0-4fd0-c482-d4096cb58fb7"
      },
      "source": [
        "data_1[data_1['RevolvingUtilizationOfUnsecuredLines'] > 1.0].value_counts()"
      ],
      "execution_count": 94,
      "outputs": [
        {
          "output_type": "execute_result",
          "data": {
            "text/plain": [
              "SeriousDlqin2yrs  RevolvingUtilizationOfUnsecuredLines  age  NumberOfTime30-59DaysPastDueNotWorse  DebtRatio     MonthlyIncome  NumberOfOpenCreditLinesAndLoans  NumberOfTimes90DaysLate  NumberRealEstateLoansOrLines  NumberOfTime60-89DaysPastDueNotWorse  NumberOfDependents\n",
              "1                 8328.000000                           39   0                                     21395.000000  4865.215082    9                                0                        2                             1                                     0.0                   1\n",
              "0                 1.079622                              54   1                                     0.950224      4238.000000    7                                0                        2                             0                                     1.0                   1\n",
              "                  1.080975                              63   1                                     6.293796      2739.000000    9                                0                        3                             1                                     0.0                   1\n",
              "                  1.080964                              52   0                                     0.508098      5000.000000    11                               0                        1                             0                                     1.0                   1\n",
              "                  1.080613                              33   4                                     0.378805      4500.000000    8                                0                        2                             0                                     2.0                   1\n",
              "                                                                                                                                                                                                                                                                                   ..\n",
              "1                 1.008430                              26   0                                     0.037537      4075.000000    4                                0                        0                             2                                     1.0                   1\n",
              "                  1.008420                              34   1                                     0.160349      7333.000000    5                                0                        0                             0                                     1.0                   1\n",
              "                  1.007984                              34   0                                     0.109397      3564.000000    2                                0                        0                             0                                     1.0                   1\n",
              "                  1.007872                              51   6                                     0.338923      9600.000000    12                               0                        1                             0                                     2.0                   1\n",
              "0                 1.000059                              47   0                                     0.375102      9775.000000    5                                1                        2                             0                                     3.0                   1\n",
              "Length: 3321, dtype: int64"
            ]
          },
          "metadata": {},
          "execution_count": 94
        }
      ]
    },
    {
      "cell_type": "code",
      "metadata": {
        "colab": {
          "base_uri": "https://localhost:8080/"
        },
        "id": "bu1MHsG_v2b2",
        "outputId": "d48d79e2-d1e4-4e5a-ae20-1fb2e57a87bc"
      },
      "source": [
        "data_del_idx = data_1[(data['RevolvingUtilizationOfUnsecuredLines'] > 1.0)].index\n",
        "data_1.drop(data_del_idx, inplace=True)\n",
        "data_del_idx.shape, data_1.shape"
      ],
      "execution_count": 95,
      "outputs": [
        {
          "output_type": "execute_result",
          "data": {
            "text/plain": [
              "((3321,), (146679, 11))"
            ]
          },
          "metadata": {},
          "execution_count": 95
        }
      ]
    },
    {
      "cell_type": "code",
      "metadata": {
        "colab": {
          "base_uri": "https://localhost:8080/"
        },
        "id": "T3Vq7qv2wqVv",
        "outputId": "37cefc31-f480-44b9-9c51-56a0afa93620"
      },
      "source": [
        "data_1[data_1['RevolvingUtilizationOfUnsecuredLines'] > 1.0].value_counts()"
      ],
      "execution_count": 41,
      "outputs": [
        {
          "output_type": "execute_result",
          "data": {
            "text/plain": [
              "Series([], dtype: int64)"
            ]
          },
          "metadata": {},
          "execution_count": 41
        }
      ]
    },
    {
      "cell_type": "markdown",
      "metadata": {
        "id": "6yreoaokDmOK"
      },
      "source": [
        "### 이상치 제거 : DebtRatio\n",
        "\n",
        "- Data의 속성상 **1** 이상의 숫자는 이상치라고 판단하여, 1.0 이상의 숫자를 삭제함"
      ]
    },
    {
      "cell_type": "code",
      "metadata": {
        "colab": {
          "base_uri": "https://localhost:8080/"
        },
        "id": "imvzptgpDaGh",
        "outputId": "3faafa90-36ee-45dd-fe4e-bcb3e88a210f"
      },
      "source": [
        "# data_1[data_1['DebtRatio'] > 1].value_counts()"
      ],
      "execution_count": 72,
      "outputs": [
        {
          "output_type": "execute_result",
          "data": {
            "text/plain": [
              "SeriousDlqin2yrs  RevolvingUtilizationOfUnsecuredLines  age  NumberOfTime30-59DaysPastDueNotWorse  DebtRatio  MonthlyIncome  NumberOfOpenCreditLinesAndLoans  NumberOfTimes90DaysLate  NumberRealEstateLoansOrLines  NumberOfTime60-89DaysPastDueNotWorse  NumberOfDependents\n",
              "0                 0.000000                              24   0                                     520.0      4865.215082    2                                0                        0                             0                                     0.0                   3\n",
              "                  1.000000                              22   0                                     24.0       4865.215082    0                                0                        0                             0                                     0.0                   2\n",
              "                                                                                                   7.0        4865.215082    0                                0                        0                             0                                     0.0                   2\n",
              "                                                        60   0                                     9.0        4865.215082    1                                0                        0                             0                                     0.0                   2\n",
              "                  0.000000                              24   0                                     520.0      4865.215082    3                                0                        0                             0                                     0.0                   2\n",
              "                                                                                                                                                                                                                                                                                ..\n",
              "                  0.296946                              61   0                                     3464.0     4865.215082    11                               0                        2                             0                                     0.0                   1\n",
              "                  0.296981                              47   1                                     4007.0     4865.215082    13                               0                        2                             0                                     2.0                   1\n",
              "                  0.297030                              51   0                                     1300.0     4865.215082    9                                0                        1                             0                                     0.0                   1\n",
              "                  0.297161                              57   0                                     484.0      4865.215082    4                                0                        0                             0                                     0.0                   1\n",
              "                  0.000000                              21   0                                     2.0        1.000000       1                                0                        0                             0                                     0.0                   1\n",
              "Length: 34378, dtype: int64"
            ]
          },
          "metadata": {},
          "execution_count": 72
        }
      ]
    },
    {
      "cell_type": "code",
      "metadata": {
        "colab": {
          "base_uri": "https://localhost:8080/"
        },
        "id": "aO5m8hOaDila",
        "outputId": "5ed8dae8-ae01-4e9b-ff61-0ae09355f9cb"
      },
      "source": [
        "# data_del_idx = data_1[(data['DebtRatio'] > 1.0)].index\n",
        "# data_1.drop(data_del_idx, inplace=True)\n",
        "# data_del_idx.shape, data_1.shape"
      ],
      "execution_count": 73,
      "outputs": [
        {
          "output_type": "stream",
          "name": "stderr",
          "text": [
            "/usr/local/lib/python3.7/dist-packages/ipykernel_launcher.py:1: UserWarning: Boolean Series key will be reindexed to match DataFrame index.\n",
            "  \"\"\"Entry point for launching an IPython kernel.\n"
          ]
        },
        {
          "output_type": "execute_result",
          "data": {
            "text/plain": [
              "((34388,), (112022, 11))"
            ]
          },
          "metadata": {},
          "execution_count": 73
        }
      ]
    },
    {
      "cell_type": "code",
      "metadata": {
        "colab": {
          "base_uri": "https://localhost:8080/"
        },
        "id": "J5cM-1egEfqY",
        "outputId": "051537cd-68ae-45d0-8307-55271cc887b9"
      },
      "source": [
        "# data_1.shape"
      ],
      "execution_count": 74,
      "outputs": [
        {
          "output_type": "execute_result",
          "data": {
            "text/plain": [
              "(112022, 11)"
            ]
          },
          "metadata": {},
          "execution_count": 74
        }
      ]
    },
    {
      "cell_type": "markdown",
      "metadata": {
        "id": "ErEL1ALAAcGc"
      },
      "source": [
        "### 이상치 제거  : NumberOfTime60-89DaysPastDueNotWorse\n",
        "\n",
        "- 위에서 확인한 것과 같이 96번과 98번 연체 횟수는 기간적 측면에서 볼 때 말이 되지 않는 값이라 outlier로 판단하고 데이터의 수 측면에서 크지 않다고 생각되어 삭제한다."
      ]
    },
    {
      "cell_type": "code",
      "metadata": {
        "colab": {
          "base_uri": "https://localhost:8080/"
        },
        "id": "xCQyti4PAbbE",
        "outputId": "43bc9c68-9681-4a9b-c7ed-94bbe23ca278"
      },
      "source": [
        "# 삭제할 index 추출 & 삭제\n",
        "data_del_idx = data_1[(data_1['NumberOfTime60-89DaysPastDueNotWorse'] == 98) | (data_1['NumberOfTime60-89DaysPastDueNotWorse'] == 96)].index\n",
        "data_1.drop(data_del_idx, inplace=True)\n",
        "data_del_idx.shape, data_1.shape"
      ],
      "execution_count": 96,
      "outputs": [
        {
          "output_type": "execute_result",
          "data": {
            "text/plain": [
              "((269,), (146410, 11))"
            ]
          },
          "metadata": {},
          "execution_count": 96
        }
      ]
    },
    {
      "cell_type": "code",
      "metadata": {
        "colab": {
          "base_uri": "https://localhost:8080/"
        },
        "id": "-SqFGvirKvES",
        "outputId": "97e1f2f3-fbfe-4ac3-c530-42c69d11b4ee"
      },
      "source": [
        "# 결과 확인\n",
        "data_1['NumberOfTime60-89DaysPastDueNotWorse'].value_counts()"
      ],
      "execution_count": 97,
      "outputs": [
        {
          "output_type": "execute_result",
          "data": {
            "text/plain": [
              "0     139990\n",
              "1       5158\n",
              "2        892\n",
              "3        242\n",
              "4         79\n",
              "5         26\n",
              "6         13\n",
              "7          6\n",
              "8          2\n",
              "11         1\n",
              "9          1\n",
              "Name: NumberOfTime60-89DaysPastDueNotWorse, dtype: int64"
            ]
          },
          "metadata": {},
          "execution_count": 97
        }
      ]
    },
    {
      "cell_type": "code",
      "metadata": {
        "id": "W-xdRlk3-rZ8"
      },
      "source": [
        "# mean_df = data_1['MonthlyIncome'].groupby(data_1['NumberRealEstateLoansOrLines']).mean()\n",
        "# mean_df"
      ],
      "execution_count": 47,
      "outputs": []
    },
    {
      "cell_type": "code",
      "metadata": {
        "colab": {
          "base_uri": "https://localhost:8080/"
        },
        "id": "nsc7qJ9w-rT8",
        "outputId": "264f53e3-6b65-4699-bb63-ae94d81c1231"
      },
      "source": [
        "data_1['SeriousDlqin2yrs'].value_counts(), data_1.shape"
      ],
      "execution_count": 98,
      "outputs": [
        {
          "output_type": "execute_result",
          "data": {
            "text/plain": [
              "(0    137768\n",
              " 1      8642\n",
              " Name: SeriousDlqin2yrs, dtype: int64, (146410, 11))"
            ]
          },
          "metadata": {},
          "execution_count": 98
        }
      ]
    },
    {
      "cell_type": "code",
      "metadata": {
        "colab": {
          "base_uri": "https://localhost:8080/"
        },
        "id": "C9qR15q2IhLw",
        "outputId": "72d44bb3-36c7-4b7e-aa36-badeb1f9f6f1"
      },
      "source": [
        "# 삭제할 index 추출 & 삭제\n",
        "data_del_idx = data_1[(data_1['age'] == 0)].index\n",
        "data_1.drop(data_del_idx, inplace=True)\n",
        "data_del_idx.shape, data_1.shape"
      ],
      "execution_count": 100,
      "outputs": [
        {
          "output_type": "execute_result",
          "data": {
            "text/plain": [
              "((1,), (146409, 11))"
            ]
          },
          "metadata": {},
          "execution_count": 100
        }
      ]
    },
    {
      "cell_type": "markdown",
      "metadata": {
        "id": "ZLUf9knGLDua"
      },
      "source": [
        "### Result\n",
        "NumberOfTime60-89DaysPastDueNotWorse에 대한 이상치 제거, NumberRealEstateLoansOrLines에 54건수에 대한 데이터가 이상치로 보이지만 큰 영향은 안 줄 것으로 판단하고 진행"
      ]
    },
    {
      "cell_type": "code",
      "metadata": {
        "colab": {
          "base_uri": "https://localhost:8080/",
          "height": 338
        },
        "id": "Mja_EgflBPfq",
        "outputId": "e18a62c0-a229-4a5f-b47a-221c7d74329d"
      },
      "source": [
        "data_1.describe()"
      ],
      "execution_count": 101,
      "outputs": [
        {
          "output_type": "execute_result",
          "data": {
            "text/html": [
              "<div>\n",
              "<style scoped>\n",
              "    .dataframe tbody tr th:only-of-type {\n",
              "        vertical-align: middle;\n",
              "    }\n",
              "\n",
              "    .dataframe tbody tr th {\n",
              "        vertical-align: top;\n",
              "    }\n",
              "\n",
              "    .dataframe thead th {\n",
              "        text-align: right;\n",
              "    }\n",
              "</style>\n",
              "<table border=\"1\" class=\"dataframe\">\n",
              "  <thead>\n",
              "    <tr style=\"text-align: right;\">\n",
              "      <th></th>\n",
              "      <th>SeriousDlqin2yrs</th>\n",
              "      <th>RevolvingUtilizationOfUnsecuredLines</th>\n",
              "      <th>age</th>\n",
              "      <th>NumberOfTime30-59DaysPastDueNotWorse</th>\n",
              "      <th>DebtRatio</th>\n",
              "      <th>MonthlyIncome</th>\n",
              "      <th>NumberOfOpenCreditLinesAndLoans</th>\n",
              "      <th>NumberOfTimes90DaysLate</th>\n",
              "      <th>NumberRealEstateLoansOrLines</th>\n",
              "      <th>NumberOfTime60-89DaysPastDueNotWorse</th>\n",
              "      <th>NumberOfDependents</th>\n",
              "    </tr>\n",
              "  </thead>\n",
              "  <tbody>\n",
              "    <tr>\n",
              "      <th>count</th>\n",
              "      <td>146409.000000</td>\n",
              "      <td>146409.000000</td>\n",
              "      <td>146409.000000</td>\n",
              "      <td>146409.000000</td>\n",
              "      <td>146409.000000</td>\n",
              "      <td>1.464090e+05</td>\n",
              "      <td>146409.000000</td>\n",
              "      <td>146409.000000</td>\n",
              "      <td>146409.000000</td>\n",
              "      <td>146409.000000</td>\n",
              "      <td>146409.000000</td>\n",
              "    </tr>\n",
              "    <tr>\n",
              "      <th>mean</th>\n",
              "      <td>0.059026</td>\n",
              "      <td>0.302498</td>\n",
              "      <td>52.515631</td>\n",
              "      <td>0.228312</td>\n",
              "      <td>356.091560</td>\n",
              "      <td>6.342242e+03</td>\n",
              "      <td>8.515453</td>\n",
              "      <td>0.078042</td>\n",
              "      <td>1.027731</td>\n",
              "      <td>0.056486</td>\n",
              "      <td>0.786796</td>\n",
              "    </tr>\n",
              "    <tr>\n",
              "      <th>std</th>\n",
              "      <td>0.235675</td>\n",
              "      <td>0.336877</td>\n",
              "      <td>14.744832</td>\n",
              "      <td>0.665226</td>\n",
              "      <td>2057.676356</td>\n",
              "      <td>1.303666e+04</td>\n",
              "      <td>5.150571</td>\n",
              "      <td>0.440820</td>\n",
              "      <td>1.132093</td>\n",
              "      <td>0.303015</td>\n",
              "      <td>1.116358</td>\n",
              "    </tr>\n",
              "    <tr>\n",
              "      <th>min</th>\n",
              "      <td>0.000000</td>\n",
              "      <td>0.000000</td>\n",
              "      <td>21.000000</td>\n",
              "      <td>0.000000</td>\n",
              "      <td>0.000000</td>\n",
              "      <td>0.000000e+00</td>\n",
              "      <td>0.000000</td>\n",
              "      <td>0.000000</td>\n",
              "      <td>0.000000</td>\n",
              "      <td>0.000000</td>\n",
              "      <td>0.000000</td>\n",
              "    </tr>\n",
              "    <tr>\n",
              "      <th>25%</th>\n",
              "      <td>0.000000</td>\n",
              "      <td>0.028515</td>\n",
              "      <td>42.000000</td>\n",
              "      <td>0.000000</td>\n",
              "      <td>0.175915</td>\n",
              "      <td>3.958000e+03</td>\n",
              "      <td>5.000000</td>\n",
              "      <td>0.000000</td>\n",
              "      <td>0.000000</td>\n",
              "      <td>0.000000</td>\n",
              "      <td>0.000000</td>\n",
              "    </tr>\n",
              "    <tr>\n",
              "      <th>50%</th>\n",
              "      <td>0.000000</td>\n",
              "      <td>0.143716</td>\n",
              "      <td>52.000000</td>\n",
              "      <td>0.000000</td>\n",
              "      <td>0.366998</td>\n",
              "      <td>4.865215e+03</td>\n",
              "      <td>8.000000</td>\n",
              "      <td>0.000000</td>\n",
              "      <td>1.000000</td>\n",
              "      <td>0.000000</td>\n",
              "      <td>0.000000</td>\n",
              "    </tr>\n",
              "    <tr>\n",
              "      <th>75%</th>\n",
              "      <td>0.000000</td>\n",
              "      <td>0.516929</td>\n",
              "      <td>63.000000</td>\n",
              "      <td>0.000000</td>\n",
              "      <td>0.871876</td>\n",
              "      <td>7.434000e+03</td>\n",
              "      <td>11.000000</td>\n",
              "      <td>0.000000</td>\n",
              "      <td>2.000000</td>\n",
              "      <td>0.000000</td>\n",
              "      <td>1.000000</td>\n",
              "    </tr>\n",
              "    <tr>\n",
              "      <th>max</th>\n",
              "      <td>1.000000</td>\n",
              "      <td>1.000000</td>\n",
              "      <td>109.000000</td>\n",
              "      <td>13.000000</td>\n",
              "      <td>329664.000000</td>\n",
              "      <td>3.008750e+06</td>\n",
              "      <td>58.000000</td>\n",
              "      <td>17.000000</td>\n",
              "      <td>54.000000</td>\n",
              "      <td>11.000000</td>\n",
              "      <td>20.000000</td>\n",
              "    </tr>\n",
              "  </tbody>\n",
              "</table>\n",
              "</div>"
            ],
            "text/plain": [
              "       SeriousDlqin2yrs  ...  NumberOfDependents\n",
              "count     146409.000000  ...       146409.000000\n",
              "mean           0.059026  ...            0.786796\n",
              "std            0.235675  ...            1.116358\n",
              "min            0.000000  ...            0.000000\n",
              "25%            0.000000  ...            0.000000\n",
              "50%            0.000000  ...            0.000000\n",
              "75%            0.000000  ...            1.000000\n",
              "max            1.000000  ...           20.000000\n",
              "\n",
              "[8 rows x 11 columns]"
            ]
          },
          "metadata": {},
          "execution_count": 101
        }
      ]
    },
    {
      "cell_type": "markdown",
      "metadata": {
        "id": "jkTr09a6spDm"
      },
      "source": [
        "# 2. Base line model\n",
        "## Import"
      ]
    },
    {
      "cell_type": "code",
      "metadata": {
        "id": "vk_ACTtsssJQ"
      },
      "source": [
        "from sklearn.preprocessing import MinMaxScaler, StandardScaler\n",
        "from sklearn.model_selection import train_test_split\n",
        "from sklearn.tree import DecisionTreeClassifier\n",
        "from sklearn.neighbors import KNeighborsClassifier\n",
        "from sklearn.svm import SVC\n",
        "from sklearn.linear_model import LogisticRegression\n",
        "from sklearn.ensemble import RandomForestClassifier\n",
        "from sklearn.metrics import accuracy_score, precision_score, recall_score, f1_score, plot_roc_curve, plot_confusion_matrix, roc_auc_score"
      ],
      "execution_count": 50,
      "outputs": []
    },
    {
      "cell_type": "code",
      "metadata": {
        "id": "CcaCfo9WTyzN"
      },
      "source": [
        "def print_metrics_classifier(y, pred, title=None):\n",
        "    \"\"\"\n",
        "    accuracy, recall, precision, f1 출력하는 함수\n",
        "    [parameter]\n",
        "    y : target (ndarray)\n",
        "    pred : prediction (ndarray)\n",
        "    title : (str)\n",
        "    [Return]\n",
        "    [Exception]\n",
        "    \"\"\"\n",
        "    if title:\n",
        "      print(title)\n",
        "    print('정확도(Accuracy): ', accuracy_score(y, pred))\n",
        "    print('재현률(Recall): ', recall_score(y, pred))\n",
        "    print('정밀도(Precision): ', precision_score(y, pred))\n",
        "    print('f1 score: ', f1_score(y, pred))\n",
        "    print('roc_auc_score', roc_auc_score(y, pred))\n",
        "    print()"
      ],
      "execution_count": 51,
      "outputs": []
    },
    {
      "cell_type": "markdown",
      "metadata": {
        "id": "FOTPidknUM1m"
      },
      "source": [
        "### 결측치 있는 열 그대로 삭제 후 적용"
      ]
    },
    {
      "cell_type": "code",
      "metadata": {
        "colab": {
          "base_uri": "https://localhost:8080/"
        },
        "id": "2f4vyMRyTwAv",
        "outputId": "0275bd55-dfb8-453f-a5a6-223e0a70ab94"
      },
      "source": [
        "data_0 = data.copy()\n",
        "data_0.dropna(axis=0, inplace=True)\n",
        "\n",
        "X = data_0.drop('SeriousDlqin2yrs', axis=1)\n",
        "y = data_0['SeriousDlqin2yrs']\n",
        "# X.shape, y.shape\n",
        "\n",
        "X_train, X_test, y_train, y_test = train_test_split(X, y,\n",
        "                                                    test_size=0.2,\n",
        "                                                    random_state=157,\n",
        "                                                    stratify=y\n",
        "                                                    )\n",
        "X_train, X_val, y_train, y_val = train_test_split(X_train, y_train,\n",
        "                                                  test_size=0.2,\n",
        "                                                  random_state=157,\n",
        "                                                  stratify=y_train\n",
        "                                                  )\n",
        "\n",
        "X_train.shape, X_val.shape, X_test.shape"
      ],
      "execution_count": 52,
      "outputs": [
        {
          "output_type": "execute_result",
          "data": {
            "text/plain": [
              "((76972, 10), (19243, 10), (24054, 10))"
            ]
          },
          "metadata": {},
          "execution_count": 52
        }
      ]
    },
    {
      "cell_type": "code",
      "metadata": {
        "colab": {
          "base_uri": "https://localhost:8080/"
        },
        "id": "-s4bqVAVT-3-",
        "outputId": "3558775b-1aa5-41e9-8662-d2ee77747eaf"
      },
      "source": [
        "data_0.info()"
      ],
      "execution_count": 53,
      "outputs": [
        {
          "output_type": "stream",
          "name": "stdout",
          "text": [
            "<class 'pandas.core.frame.DataFrame'>\n",
            "Int64Index: 120269 entries, 1 to 150000\n",
            "Data columns (total 11 columns):\n",
            " #   Column                                Non-Null Count   Dtype  \n",
            "---  ------                                --------------   -----  \n",
            " 0   SeriousDlqin2yrs                      120269 non-null  int64  \n",
            " 1   RevolvingUtilizationOfUnsecuredLines  120269 non-null  float64\n",
            " 2   age                                   120269 non-null  int64  \n",
            " 3   NumberOfTime30-59DaysPastDueNotWorse  120269 non-null  int64  \n",
            " 4   DebtRatio                             120269 non-null  float64\n",
            " 5   MonthlyIncome                         120269 non-null  float64\n",
            " 6   NumberOfOpenCreditLinesAndLoans       120269 non-null  int64  \n",
            " 7   NumberOfTimes90DaysLate               120269 non-null  int64  \n",
            " 8   NumberRealEstateLoansOrLines          120269 non-null  int64  \n",
            " 9   NumberOfTime60-89DaysPastDueNotWorse  120269 non-null  int64  \n",
            " 10  NumberOfDependents                    120269 non-null  float64\n",
            "dtypes: float64(4), int64(7)\n",
            "memory usage: 11.0 MB\n"
          ]
        }
      ]
    },
    {
      "cell_type": "code",
      "metadata": {
        "colab": {
          "base_uri": "https://localhost:8080/"
        },
        "id": "WlwM17DpUCMG",
        "outputId": "71e18752-f99e-4055-98a2-c8c178557c3a"
      },
      "source": [
        "model = DecisionTreeClassifier(max_depth=8, random_state=157)\n",
        "model.fit(X_train, y_train)\n",
        "\n",
        "pred_train = model.predict(X_train)\n",
        "pred_val = model.predict(X_val)\n",
        "pred_test = model.predict(X_test)\n",
        "\n",
        "print_metrics_classifier(y_train, pred_train, 'train')\n",
        "print_metrics_classifier(y_val, pred_val, 'validation')\n",
        "print_metrics_classifier(y_test, pred_test, 'test')"
      ],
      "execution_count": 54,
      "outputs": [
        {
          "output_type": "stream",
          "name": "stdout",
          "text": [
            "train\n",
            "정확도(Accuracy):  0.9395884217637582\n",
            "재현률(Recall):  0.20228080014956065\n",
            "정밀도(Precision):  0.7385665529010239\n",
            "f1 score:  0.317581449955973\n",
            "roc_auc_score 0.5984666779464137\n",
            "\n",
            "validation\n",
            "정확도(Accuracy):  0.932806734916593\n",
            "재현률(Recall):  0.15108451757666416\n",
            "정밀도(Precision):  0.5611111111111111\n",
            "f1 score:  0.2380671773718326\n",
            "roc_auc_score 0.5711303298259731\n",
            "\n",
            "test\n",
            "정확도(Accuracy):  0.932111083395693\n",
            "재현률(Recall):  0.13824057450628366\n",
            "정밀도(Precision):  0.5448113207547169\n",
            "f1 score:  0.2205250596658711\n",
            "roc_auc_score 0.5648089795642708\n",
            "\n"
          ]
        }
      ]
    },
    {
      "cell_type": "markdown",
      "metadata": {
        "id": "Ms9ugqaVUhnW"
      },
      "source": [
        "### 결측치 Preprocessing 적용한 Data 활용"
      ]
    },
    {
      "cell_type": "code",
      "metadata": {
        "id": "t-pmBNXEbDuU"
      },
      "source": [
        "from imblearn.over_sampling import RandomOverSampler, ADASYN, SMOTE\n",
        "from imblearn.under_sampling import TomekLinks, CondensedNearestNeighbour"
      ],
      "execution_count": 102,
      "outputs": []
    },
    {
      "cell_type": "code",
      "metadata": {
        "id": "XMgNw-RBssdG",
        "colab": {
          "base_uri": "https://localhost:8080/"
        },
        "outputId": "316580a6-f031-48c8-fc41-4ca0986140fe"
      },
      "source": [
        "X = data_1.drop('SeriousDlqin2yrs', axis=1)\n",
        "y = data_1['SeriousDlqin2yrs']\n",
        "X.shape, y.shape"
      ],
      "execution_count": 103,
      "outputs": [
        {
          "output_type": "execute_result",
          "data": {
            "text/plain": [
              "((146409, 10), (146409,))"
            ]
          },
          "metadata": {},
          "execution_count": 103
        }
      ]
    },
    {
      "cell_type": "code",
      "metadata": {
        "colab": {
          "base_uri": "https://localhost:8080/"
        },
        "id": "0q1WCEfDbSgE",
        "outputId": "73e82a2d-8063-4bf0-e39f-968b1fa028ec"
      },
      "source": [
        "X_train, X_test, y_train, y_test = train_test_split(X, y,\n",
        "                                                    test_size=0.2,\n",
        "                                                    random_state=157,\n",
        "                                                    stratify=y\n",
        "                                                    )\n",
        "# cnn = CondensedNearestNeighbour()\n",
        "# X_train, y_train = cnn.fit_resample(X_train, y_train)\n",
        "\n",
        "# tl = TomekLinks()\n",
        "# X_train, y_train = tl.fit_resample(X_train, y_train)\n",
        "\n",
        "smt = SMOTE(random_state=157)\n",
        "X_train, y_train = smt.fit_resample(X_train, y_train)\n",
        "# X.shape, y.shape\n",
        "\n",
        "X_train, X_val, y_train, y_val = train_test_split(X_train, y_train,\n",
        "                                                  test_size=0.2,\n",
        "                                                  random_state=157,\n",
        "                                                  stratify=y_train\n",
        "                                                  )\n",
        "\n",
        "X_train.shape, X_val.shape, X_test.shape"
      ],
      "execution_count": 104,
      "outputs": [
        {
          "output_type": "execute_result",
          "data": {
            "text/plain": [
              "((176340, 10), (44086, 10), (29282, 10))"
            ]
          },
          "metadata": {},
          "execution_count": 104
        }
      ]
    },
    {
      "cell_type": "code",
      "metadata": {
        "id": "sDlsuQxEch9c"
      },
      "source": [
        "# ros = RandomOverSampler(random_state=157)\n",
        "# X_train, y_train = ros.fit_resample(X_train, y_train)\n",
        "# X_train.shape, y_train.shape\n",
        "\n",
        "# smt = SMOTE(random_state=157)\n",
        "# X_train, y_train = smt.fit_resample(X_train, y_train)\n",
        "# X_train.shape, y_train.shape\n",
        "\n",
        "# ass = ADASYN(random_state=157)\n",
        "# X_train, y_train = ass.fit_resample(X_train, y_train)\n",
        "# X_train.shape, y_train.shape"
      ],
      "execution_count": 58,
      "outputs": []
    },
    {
      "cell_type": "code",
      "metadata": {
        "id": "QXtRHTezXBEH"
      },
      "source": [
        "scaler = StandardScaler()\n",
        "\n",
        "X_train_scaled = scaler.fit_transform(X_train)\n",
        "X_val_scaled = scaler.transform(X_val)\n",
        "X_test_scaled = scaler.transform(X_test)"
      ],
      "execution_count": 105,
      "outputs": []
    },
    {
      "cell_type": "code",
      "metadata": {
        "id": "SrDOQ47mssYW",
        "colab": {
          "base_uri": "https://localhost:8080/"
        },
        "outputId": "5e57a0f5-18a8-485f-a6d7-3c535a8a7416"
      },
      "source": [
        "tree = DecisionTreeClassifier(max_depth=7, random_state=157)\n",
        "tree.fit(X_train, y_train)\n",
        "\n",
        "pred_train = tree.predict(X_train)\n",
        "pred_val = tree.predict(X_val)\n",
        "pred_test = tree.predict(X_test)\n",
        "\n",
        "print_metrics_classifier(y_train, pred_train, 'tree train')\n",
        "print_metrics_classifier(y_val, pred_val, 'tree validation')\n",
        "print_metrics_classifier(y_test, pred_test, 'tree test')"
      ],
      "execution_count": 106,
      "outputs": [
        {
          "output_type": "stream",
          "name": "stdout",
          "text": [
            "tree train\n",
            "정확도(Accuracy):  0.8320460474084156\n",
            "재현률(Recall):  0.816298060564818\n",
            "정밀도(Precision):  0.8428442612392116\n",
            "f1 score:  0.8293587919084137\n",
            "roc_auc_score 0.8320460474084156\n",
            "\n",
            "tree validation\n",
            "정확도(Accuracy):  0.8287891847752121\n",
            "재현률(Recall):  0.8145896656534954\n",
            "정밀도(Precision):  0.8383994023439324\n",
            "f1 score:  0.826323055683387\n",
            "roc_auc_score 0.828789184775212\n",
            "\n",
            "tree test\n",
            "정확도(Accuracy):  0.8318762379618878\n",
            "재현률(Recall):  0.5520833333333334\n",
            "정밀도(Precision):  0.18694885361552027\n",
            "f1 score:  0.2793148880105402\n",
            "roc_auc_score 0.7007531423144856\n",
            "\n"
          ]
        }
      ]
    },
    {
      "cell_type": "code",
      "metadata": {
        "colab": {
          "base_uri": "https://localhost:8080/"
        },
        "id": "pdMD_DDP_oyz",
        "outputId": "3ab986ce-ca5f-49ef-fa60-bd3799c3f08e"
      },
      "source": [
        "fi = pd.Series(tree.feature_importances_, index=X.columns)\n",
        "fi"
      ],
      "execution_count": 107,
      "outputs": [
        {
          "output_type": "execute_result",
          "data": {
            "text/plain": [
              "RevolvingUtilizationOfUnsecuredLines    0.482331\n",
              "age                                     0.003784\n",
              "NumberOfTime30-59DaysPastDueNotWorse    0.018003\n",
              "DebtRatio                               0.005384\n",
              "MonthlyIncome                           0.008810\n",
              "NumberOfOpenCreditLinesAndLoans         0.004244\n",
              "NumberOfTimes90DaysLate                 0.054112\n",
              "NumberRealEstateLoansOrLines            0.006180\n",
              "NumberOfTime60-89DaysPastDueNotWorse    0.000347\n",
              "NumberOfDependents                      0.416806\n",
              "dtype: float64"
            ]
          },
          "metadata": {},
          "execution_count": 107
        }
      ]
    },
    {
      "cell_type": "code",
      "metadata": {
        "colab": {
          "base_uri": "https://localhost:8080/"
        },
        "id": "0lT3AD0PRZwo",
        "outputId": "bd36cb76-50eb-407d-ea4a-252e4716eca3"
      },
      "source": [
        "rf = RandomForestClassifier(n_estimators=300, max_depth=3, random_state=157)\n",
        "rf.fit(X_train, y_train)\n",
        "\n",
        "pred_train = rf.predict(X_train)\n",
        "pred_val = rf.predict(X_val)\n",
        "pred_test = rf.predict(X_test)\n",
        "\n",
        "print_metrics_classifier(y_train, pred_train, 'RandomForest train')\n",
        "print_metrics_classifier(y_val, pred_val, 'RandomForest validation')\n",
        "print_metrics_classifier(y_test, pred_test, 'RandomForest test')"
      ],
      "execution_count": 108,
      "outputs": [
        {
          "output_type": "stream",
          "name": "stdout",
          "text": [
            "RandomForest train\n",
            "정확도(Accuracy):  0.7695191108086651\n",
            "재현률(Recall):  0.8345242145854599\n",
            "정밀도(Precision):  0.7385103329218231\n",
            "f1 score:  0.7835870566497872\n",
            "roc_auc_score 0.7695191108086651\n",
            "\n",
            "RandomForest validation\n",
            "정확도(Accuracy):  0.768951594610534\n",
            "재현률(Recall):  0.8350043097581998\n",
            "정밀도(Precision):  0.7375676217190944\n",
            "f1 score:  0.7832673730797054\n",
            "roc_auc_score 0.768951594610534\n",
            "\n",
            "RandomForest test\n",
            "정확도(Accuracy):  0.71040229492521\n",
            "재현률(Recall):  0.7528935185185185\n",
            "정밀도(Precision):  0.13908488347231132\n",
            "f1 score:  0.23479516332791917\n",
            "roc_auc_score 0.7303155260444809\n",
            "\n"
          ]
        }
      ]
    },
    {
      "cell_type": "code",
      "metadata": {
        "colab": {
          "base_uri": "https://localhost:8080/"
        },
        "id": "UauGGgH6__V7",
        "outputId": "60bd6ae6-dfd2-402e-f7e3-f10482a2cac5"
      },
      "source": [
        "fi = pd.Series(rf.feature_importances_, index=X.columns)\n",
        "fi"
      ],
      "execution_count": 109,
      "outputs": [
        {
          "output_type": "execute_result",
          "data": {
            "text/plain": [
              "RevolvingUtilizationOfUnsecuredLines    0.494451\n",
              "age                                     0.056102\n",
              "NumberOfTime30-59DaysPastDueNotWorse    0.100999\n",
              "DebtRatio                               0.005909\n",
              "MonthlyIncome                           0.003011\n",
              "NumberOfOpenCreditLinesAndLoans         0.004282\n",
              "NumberOfTimes90DaysLate                 0.113828\n",
              "NumberRealEstateLoansOrLines            0.025212\n",
              "NumberOfTime60-89DaysPastDueNotWorse    0.015160\n",
              "NumberOfDependents                      0.181046\n",
              "dtype: float64"
            ]
          },
          "metadata": {},
          "execution_count": 109
        }
      ]
    },
    {
      "cell_type": "code",
      "metadata": {
        "id": "2LXyhQTbStNP"
      },
      "source": [
        "# lr = LogisticRegression(random_state=157)\n",
        "# lr.fit(X_train_scaled, y_train)\n",
        "\n",
        "# pred_train = lr.predict(X_train_scaled)\n",
        "# pred_val = lr.predict(X_val_scaled)\n",
        "# pred_test = lr.predict(X_test_scaled)\n",
        "\n",
        "# print_metrics_classifier(y_train, pred_train, 'LogisticRegression train')\n",
        "# print_metrics_classifier(y_val, pred_val, 'LogisticRegression validation')\n",
        "# print_metrics_classifier(y_test, pred_test, 'LogisticRegression test')"
      ],
      "execution_count": 64,
      "outputs": []
    },
    {
      "cell_type": "code",
      "metadata": {
        "id": "Umj3p8McyKlm"
      },
      "source": [
        "# knn = KNeighborsClassifier()\n",
        "# knn.fit(X_train_scaled, y_train)\n",
        "\n",
        "# pred_train = knn.predict(X_train_scaled)\n",
        "# pred_val = knn.predict(X_val_scaled)\n",
        "# pred_test = knn.predict(X_test_scaled)\n",
        "\n",
        "# print_metrics_classifier(y_train, pred_train, 'K-NN train')\n",
        "# print_metrics_classifier(y_val, pred_val, 'K-NN validation')\n",
        "# print_metrics_classifier(y_test, pred_test, 'K-NN test')"
      ],
      "execution_count": 65,
      "outputs": []
    },
    {
      "cell_type": "code",
      "metadata": {
        "id": "IfnK9uw5SRG3"
      },
      "source": [
        "# svc = SVC()\n",
        "# svc.fit(X_train_scaled, y_train)\n",
        "\n",
        "# pred_train = svc.predict(X_train_scaled)\n",
        "# pred_val = svc.predict(X_val_scaled)\n",
        "# pred_test = svc.predict(X_test_scaled)\n",
        "\n",
        "# print_metrics_classifier(y_train, pred_train, 'SVC train')\n",
        "# print_metrics_classifier(y_val, pred_val, 'SVC validation')\n",
        "# print_metrics_classifier(y_test, pred_test, 'SVC test')"
      ],
      "execution_count": 66,
      "outputs": []
    },
    {
      "cell_type": "markdown",
      "metadata": {
        "id": "tYGMOwqZ3089"
      },
      "source": [
        "## Hyper-parameter Tuning"
      ]
    },
    {
      "cell_type": "code",
      "metadata": {
        "id": "HKIFEOwR74EE"
      },
      "source": [
        ""
      ],
      "execution_count": 66,
      "outputs": []
    }
  ]
}