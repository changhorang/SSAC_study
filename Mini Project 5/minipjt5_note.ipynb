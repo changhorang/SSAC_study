{
  "cells": [
    {
      "cell_type": "markdown",
      "metadata": {
        "id": "V6tA-uc_sUK3"
      },
      "source": [
        "# 1. EDA\n",
        "## Data load\n",
        "\n"
      ]
    },
    {
      "cell_type": "code",
      "execution_count": 1,
      "metadata": {
        "colab": {
          "base_uri": "https://localhost:8080/"
        },
        "id": "epOnWaT0SLkX",
        "outputId": "c7ecaf2c-7510-4930-8000-5840bd488dd8"
      },
      "outputs": [
        {
          "name": "stdout",
          "output_type": "stream",
          "text": [
            "[WinError 3] 지정된 경로를 찾을 수 없습니다: \"'/content/drive/MyDrive'\"\n",
            "c:\\Users\\user\\Documents\\GitHub\\SSAC_study\\Mini Project 5\n"
          ]
        }
      ],
      "source": [
        "cd '/content/drive/MyDrive'"
      ]
    },
    {
      "cell_type": "code",
      "execution_count": 2,
      "metadata": {
        "id": "L1-Y2HiOCbLH"
      },
      "outputs": [],
      "source": [
        "import pandas as pd\n",
        "import numpy as np\n",
        "import matplotlib.pyplot as plt\n",
        "import seaborn as sns"
      ]
    },
    {
      "cell_type": "code",
      "execution_count": 3,
      "metadata": {
        "colab": {
          "base_uri": "https://localhost:8080/",
          "height": 224
        },
        "id": "C28SGF9UDGi6",
        "outputId": "66f5a8ea-c17e-4de5-fa64-c5fdc92eb077"
      },
      "outputs": [
        {
          "data": {
            "text/html": [
              "<div>\n",
              "<style scoped>\n",
              "    .dataframe tbody tr th:only-of-type {\n",
              "        vertical-align: middle;\n",
              "    }\n",
              "\n",
              "    .dataframe tbody tr th {\n",
              "        vertical-align: top;\n",
              "    }\n",
              "\n",
              "    .dataframe thead th {\n",
              "        text-align: right;\n",
              "    }\n",
              "</style>\n",
              "<table border=\"1\" class=\"dataframe\">\n",
              "  <thead>\n",
              "    <tr style=\"text-align: right;\">\n",
              "      <th></th>\n",
              "      <th>SeriousDlqin2yrs</th>\n",
              "      <th>RevolvingUtilizationOfUnsecuredLines</th>\n",
              "      <th>age</th>\n",
              "      <th>NumberOfTime30-59DaysPastDueNotWorse</th>\n",
              "      <th>DebtRatio</th>\n",
              "      <th>MonthlyIncome</th>\n",
              "      <th>NumberOfOpenCreditLinesAndLoans</th>\n",
              "      <th>NumberOfTimes90DaysLate</th>\n",
              "      <th>NumberRealEstateLoansOrLines</th>\n",
              "      <th>NumberOfTime60-89DaysPastDueNotWorse</th>\n",
              "      <th>NumberOfDependents</th>\n",
              "    </tr>\n",
              "  </thead>\n",
              "  <tbody>\n",
              "    <tr>\n",
              "      <th>1</th>\n",
              "      <td>1</td>\n",
              "      <td>0.766127</td>\n",
              "      <td>45</td>\n",
              "      <td>2</td>\n",
              "      <td>0.802982</td>\n",
              "      <td>9120.0</td>\n",
              "      <td>13</td>\n",
              "      <td>0</td>\n",
              "      <td>6</td>\n",
              "      <td>0</td>\n",
              "      <td>2.0</td>\n",
              "    </tr>\n",
              "    <tr>\n",
              "      <th>2</th>\n",
              "      <td>0</td>\n",
              "      <td>0.957151</td>\n",
              "      <td>40</td>\n",
              "      <td>0</td>\n",
              "      <td>0.121876</td>\n",
              "      <td>2600.0</td>\n",
              "      <td>4</td>\n",
              "      <td>0</td>\n",
              "      <td>0</td>\n",
              "      <td>0</td>\n",
              "      <td>1.0</td>\n",
              "    </tr>\n",
              "    <tr>\n",
              "      <th>3</th>\n",
              "      <td>0</td>\n",
              "      <td>0.658180</td>\n",
              "      <td>38</td>\n",
              "      <td>1</td>\n",
              "      <td>0.085113</td>\n",
              "      <td>3042.0</td>\n",
              "      <td>2</td>\n",
              "      <td>1</td>\n",
              "      <td>0</td>\n",
              "      <td>0</td>\n",
              "      <td>0.0</td>\n",
              "    </tr>\n",
              "    <tr>\n",
              "      <th>4</th>\n",
              "      <td>0</td>\n",
              "      <td>0.233810</td>\n",
              "      <td>30</td>\n",
              "      <td>0</td>\n",
              "      <td>0.036050</td>\n",
              "      <td>3300.0</td>\n",
              "      <td>5</td>\n",
              "      <td>0</td>\n",
              "      <td>0</td>\n",
              "      <td>0</td>\n",
              "      <td>0.0</td>\n",
              "    </tr>\n",
              "    <tr>\n",
              "      <th>5</th>\n",
              "      <td>0</td>\n",
              "      <td>0.907239</td>\n",
              "      <td>49</td>\n",
              "      <td>1</td>\n",
              "      <td>0.024926</td>\n",
              "      <td>63588.0</td>\n",
              "      <td>7</td>\n",
              "      <td>0</td>\n",
              "      <td>1</td>\n",
              "      <td>0</td>\n",
              "      <td>0.0</td>\n",
              "    </tr>\n",
              "  </tbody>\n",
              "</table>\n",
              "</div>"
            ],
            "text/plain": [
              "   SeriousDlqin2yrs  RevolvingUtilizationOfUnsecuredLines  age  \\\n",
              "1                 1                              0.766127   45   \n",
              "2                 0                              0.957151   40   \n",
              "3                 0                              0.658180   38   \n",
              "4                 0                              0.233810   30   \n",
              "5                 0                              0.907239   49   \n",
              "\n",
              "   NumberOfTime30-59DaysPastDueNotWorse  DebtRatio  MonthlyIncome  \\\n",
              "1                                     2   0.802982         9120.0   \n",
              "2                                     0   0.121876         2600.0   \n",
              "3                                     1   0.085113         3042.0   \n",
              "4                                     0   0.036050         3300.0   \n",
              "5                                     1   0.024926        63588.0   \n",
              "\n",
              "   NumberOfOpenCreditLinesAndLoans  NumberOfTimes90DaysLate  \\\n",
              "1                               13                        0   \n",
              "2                                4                        0   \n",
              "3                                2                        1   \n",
              "4                                5                        0   \n",
              "5                                7                        0   \n",
              "\n",
              "   NumberRealEstateLoansOrLines  NumberOfTime60-89DaysPastDueNotWorse  \\\n",
              "1                             6                                     0   \n",
              "2                             0                                     0   \n",
              "3                             0                                     0   \n",
              "4                             0                                     0   \n",
              "5                             1                                     0   \n",
              "\n",
              "   NumberOfDependents  \n",
              "1                 2.0  \n",
              "2                 1.0  \n",
              "3                 0.0  \n",
              "4                 0.0  \n",
              "5                 0.0  "
            ]
          },
          "execution_count": 3,
          "metadata": {},
          "output_type": "execute_result"
        }
      ],
      "source": [
        "data = pd.read_csv('cs_data.csv', index_col=0)\n",
        "data.head()"
      ]
    },
    {
      "cell_type": "code",
      "execution_count": 4,
      "metadata": {
        "colab": {
          "base_uri": "https://localhost:8080/",
          "height": 338
        },
        "id": "nrsdHjlwwjqo",
        "outputId": "000af404-d4dd-4ae7-bcd8-0643b9bf00a2"
      },
      "outputs": [
        {
          "data": {
            "text/html": [
              "<div>\n",
              "<style scoped>\n",
              "    .dataframe tbody tr th:only-of-type {\n",
              "        vertical-align: middle;\n",
              "    }\n",
              "\n",
              "    .dataframe tbody tr th {\n",
              "        vertical-align: top;\n",
              "    }\n",
              "\n",
              "    .dataframe thead th {\n",
              "        text-align: right;\n",
              "    }\n",
              "</style>\n",
              "<table border=\"1\" class=\"dataframe\">\n",
              "  <thead>\n",
              "    <tr style=\"text-align: right;\">\n",
              "      <th></th>\n",
              "      <th>SeriousDlqin2yrs</th>\n",
              "      <th>RevolvingUtilizationOfUnsecuredLines</th>\n",
              "      <th>age</th>\n",
              "      <th>NumberOfTime30-59DaysPastDueNotWorse</th>\n",
              "      <th>DebtRatio</th>\n",
              "      <th>MonthlyIncome</th>\n",
              "      <th>NumberOfOpenCreditLinesAndLoans</th>\n",
              "      <th>NumberOfTimes90DaysLate</th>\n",
              "      <th>NumberRealEstateLoansOrLines</th>\n",
              "      <th>NumberOfTime60-89DaysPastDueNotWorse</th>\n",
              "      <th>NumberOfDependents</th>\n",
              "    </tr>\n",
              "  </thead>\n",
              "  <tbody>\n",
              "    <tr>\n",
              "      <th>count</th>\n",
              "      <td>150000.000000</td>\n",
              "      <td>150000.000000</td>\n",
              "      <td>150000.000000</td>\n",
              "      <td>150000.000000</td>\n",
              "      <td>150000.000000</td>\n",
              "      <td>1.202690e+05</td>\n",
              "      <td>150000.000000</td>\n",
              "      <td>150000.000000</td>\n",
              "      <td>150000.000000</td>\n",
              "      <td>150000.000000</td>\n",
              "      <td>146076.000000</td>\n",
              "    </tr>\n",
              "    <tr>\n",
              "      <th>mean</th>\n",
              "      <td>0.066840</td>\n",
              "      <td>6.048438</td>\n",
              "      <td>52.295207</td>\n",
              "      <td>0.421033</td>\n",
              "      <td>353.005076</td>\n",
              "      <td>6.670221e+03</td>\n",
              "      <td>8.452760</td>\n",
              "      <td>0.265973</td>\n",
              "      <td>1.018240</td>\n",
              "      <td>0.240387</td>\n",
              "      <td>0.757222</td>\n",
              "    </tr>\n",
              "    <tr>\n",
              "      <th>std</th>\n",
              "      <td>0.249746</td>\n",
              "      <td>249.755371</td>\n",
              "      <td>14.771866</td>\n",
              "      <td>4.192781</td>\n",
              "      <td>2037.818523</td>\n",
              "      <td>1.438467e+04</td>\n",
              "      <td>5.145951</td>\n",
              "      <td>4.169304</td>\n",
              "      <td>1.129771</td>\n",
              "      <td>4.155179</td>\n",
              "      <td>1.115086</td>\n",
              "    </tr>\n",
              "    <tr>\n",
              "      <th>min</th>\n",
              "      <td>0.000000</td>\n",
              "      <td>0.000000</td>\n",
              "      <td>0.000000</td>\n",
              "      <td>0.000000</td>\n",
              "      <td>0.000000</td>\n",
              "      <td>0.000000e+00</td>\n",
              "      <td>0.000000</td>\n",
              "      <td>0.000000</td>\n",
              "      <td>0.000000</td>\n",
              "      <td>0.000000</td>\n",
              "      <td>0.000000</td>\n",
              "    </tr>\n",
              "    <tr>\n",
              "      <th>25%</th>\n",
              "      <td>0.000000</td>\n",
              "      <td>0.029867</td>\n",
              "      <td>41.000000</td>\n",
              "      <td>0.000000</td>\n",
              "      <td>0.175074</td>\n",
              "      <td>3.400000e+03</td>\n",
              "      <td>5.000000</td>\n",
              "      <td>0.000000</td>\n",
              "      <td>0.000000</td>\n",
              "      <td>0.000000</td>\n",
              "      <td>0.000000</td>\n",
              "    </tr>\n",
              "    <tr>\n",
              "      <th>50%</th>\n",
              "      <td>0.000000</td>\n",
              "      <td>0.154181</td>\n",
              "      <td>52.000000</td>\n",
              "      <td>0.000000</td>\n",
              "      <td>0.366508</td>\n",
              "      <td>5.400000e+03</td>\n",
              "      <td>8.000000</td>\n",
              "      <td>0.000000</td>\n",
              "      <td>1.000000</td>\n",
              "      <td>0.000000</td>\n",
              "      <td>0.000000</td>\n",
              "    </tr>\n",
              "    <tr>\n",
              "      <th>75%</th>\n",
              "      <td>0.000000</td>\n",
              "      <td>0.559046</td>\n",
              "      <td>63.000000</td>\n",
              "      <td>0.000000</td>\n",
              "      <td>0.868254</td>\n",
              "      <td>8.249000e+03</td>\n",
              "      <td>11.000000</td>\n",
              "      <td>0.000000</td>\n",
              "      <td>2.000000</td>\n",
              "      <td>0.000000</td>\n",
              "      <td>1.000000</td>\n",
              "    </tr>\n",
              "    <tr>\n",
              "      <th>max</th>\n",
              "      <td>1.000000</td>\n",
              "      <td>50708.000000</td>\n",
              "      <td>109.000000</td>\n",
              "      <td>98.000000</td>\n",
              "      <td>329664.000000</td>\n",
              "      <td>3.008750e+06</td>\n",
              "      <td>58.000000</td>\n",
              "      <td>98.000000</td>\n",
              "      <td>54.000000</td>\n",
              "      <td>98.000000</td>\n",
              "      <td>20.000000</td>\n",
              "    </tr>\n",
              "  </tbody>\n",
              "</table>\n",
              "</div>"
            ],
            "text/plain": [
              "       SeriousDlqin2yrs  RevolvingUtilizationOfUnsecuredLines            age  \\\n",
              "count     150000.000000                         150000.000000  150000.000000   \n",
              "mean           0.066840                              6.048438      52.295207   \n",
              "std            0.249746                            249.755371      14.771866   \n",
              "min            0.000000                              0.000000       0.000000   \n",
              "25%            0.000000                              0.029867      41.000000   \n",
              "50%            0.000000                              0.154181      52.000000   \n",
              "75%            0.000000                              0.559046      63.000000   \n",
              "max            1.000000                          50708.000000     109.000000   \n",
              "\n",
              "       NumberOfTime30-59DaysPastDueNotWorse      DebtRatio  MonthlyIncome  \\\n",
              "count                         150000.000000  150000.000000   1.202690e+05   \n",
              "mean                               0.421033     353.005076   6.670221e+03   \n",
              "std                                4.192781    2037.818523   1.438467e+04   \n",
              "min                                0.000000       0.000000   0.000000e+00   \n",
              "25%                                0.000000       0.175074   3.400000e+03   \n",
              "50%                                0.000000       0.366508   5.400000e+03   \n",
              "75%                                0.000000       0.868254   8.249000e+03   \n",
              "max                               98.000000  329664.000000   3.008750e+06   \n",
              "\n",
              "       NumberOfOpenCreditLinesAndLoans  NumberOfTimes90DaysLate  \\\n",
              "count                    150000.000000            150000.000000   \n",
              "mean                          8.452760                 0.265973   \n",
              "std                           5.145951                 4.169304   \n",
              "min                           0.000000                 0.000000   \n",
              "25%                           5.000000                 0.000000   \n",
              "50%                           8.000000                 0.000000   \n",
              "75%                          11.000000                 0.000000   \n",
              "max                          58.000000                98.000000   \n",
              "\n",
              "       NumberRealEstateLoansOrLines  NumberOfTime60-89DaysPastDueNotWorse  \\\n",
              "count                 150000.000000                         150000.000000   \n",
              "mean                       1.018240                              0.240387   \n",
              "std                        1.129771                              4.155179   \n",
              "min                        0.000000                              0.000000   \n",
              "25%                        0.000000                              0.000000   \n",
              "50%                        1.000000                              0.000000   \n",
              "75%                        2.000000                              0.000000   \n",
              "max                       54.000000                             98.000000   \n",
              "\n",
              "       NumberOfDependents  \n",
              "count       146076.000000  \n",
              "mean             0.757222  \n",
              "std              1.115086  \n",
              "min              0.000000  \n",
              "25%              0.000000  \n",
              "50%              0.000000  \n",
              "75%              1.000000  \n",
              "max             20.000000  "
            ]
          },
          "execution_count": 4,
          "metadata": {},
          "output_type": "execute_result"
        }
      ],
      "source": [
        "data.describe()"
      ]
    },
    {
      "cell_type": "code",
      "execution_count": 5,
      "metadata": {
        "colab": {
          "base_uri": "https://localhost:8080/"
        },
        "id": "Ax0WenAjY4Ag",
        "outputId": "bd481aeb-bd65-46a4-aa67-e9a4722d56bb"
      },
      "outputs": [
        {
          "data": {
            "text/plain": [
              "0     141662\n",
              "1       5243\n",
              "2       1555\n",
              "3        667\n",
              "4        291\n",
              "98       264\n",
              "5        131\n",
              "6         80\n",
              "7         38\n",
              "8         21\n",
              "9         19\n",
              "10         8\n",
              "96         5\n",
              "11         5\n",
              "13         4\n",
              "15         2\n",
              "14         2\n",
              "12         2\n",
              "17         1\n",
              "Name: NumberOfTimes90DaysLate, dtype: int64"
            ]
          },
          "execution_count": 5,
          "metadata": {},
          "output_type": "execute_result"
        }
      ],
      "source": [
        "data['NumberOfTimes90DaysLate'].value_counts()"
      ]
    },
    {
      "cell_type": "code",
      "execution_count": 6,
      "metadata": {
        "colab": {
          "base_uri": "https://localhost:8080/"
        },
        "id": "npsqq2Hk1G61",
        "outputId": "cb9109d3-3b34-42f2-8983-61848a873a6d"
      },
      "outputs": [
        {
          "data": {
            "text/plain": [
              "0     126018\n",
              "1      16033\n",
              "2       4598\n",
              "3       1754\n",
              "4        747\n",
              "5        342\n",
              "98       264\n",
              "6        140\n",
              "7         54\n",
              "8         25\n",
              "9         12\n",
              "96         5\n",
              "10         4\n",
              "12         2\n",
              "13         1\n",
              "11         1\n",
              "Name: NumberOfTime30-59DaysPastDueNotWorse, dtype: int64"
            ]
          },
          "execution_count": 6,
          "metadata": {},
          "output_type": "execute_result"
        }
      ],
      "source": [
        "data['NumberOfTime30-59DaysPastDueNotWorse'].value_counts()"
      ]
    },
    {
      "cell_type": "code",
      "execution_count": 7,
      "metadata": {
        "colab": {
          "base_uri": "https://localhost:8080/"
        },
        "id": "W6Widm0d1PIW",
        "outputId": "7a86d9c7-c836-42d4-b788-da4817abd87d"
      },
      "outputs": [
        {
          "data": {
            "text/plain": [
              "0.0     86902\n",
              "1.0     26316\n",
              "2.0     19522\n",
              "3.0      9483\n",
              "4.0      2862\n",
              "5.0       746\n",
              "6.0       158\n",
              "7.0        51\n",
              "8.0        24\n",
              "10.0        5\n",
              "9.0         5\n",
              "20.0        1\n",
              "13.0        1\n",
              "Name: NumberOfDependents, dtype: int64"
            ]
          },
          "execution_count": 7,
          "metadata": {},
          "output_type": "execute_result"
        }
      ],
      "source": [
        "data['NumberOfDependents'].value_counts()"
      ]
    },
    {
      "cell_type": "markdown",
      "metadata": {
        "id": "oCXnsMV7dMb8"
      },
      "source": [
        "## 각 항목별 상관관계 분석"
      ]
    },
    {
      "cell_type": "code",
      "execution_count": 8,
      "metadata": {
        "colab": {
          "base_uri": "https://localhost:8080/",
          "height": 466
        },
        "id": "1ajwGADPZ2r4",
        "outputId": "08f7c97e-dc0c-4ae3-f231-0f3ff05ab624"
      },
      "outputs": [
        {
          "data": {
            "text/html": [
              "<div>\n",
              "<style scoped>\n",
              "    .dataframe tbody tr th:only-of-type {\n",
              "        vertical-align: middle;\n",
              "    }\n",
              "\n",
              "    .dataframe tbody tr th {\n",
              "        vertical-align: top;\n",
              "    }\n",
              "\n",
              "    .dataframe thead th {\n",
              "        text-align: right;\n",
              "    }\n",
              "</style>\n",
              "<table border=\"1\" class=\"dataframe\">\n",
              "  <thead>\n",
              "    <tr style=\"text-align: right;\">\n",
              "      <th></th>\n",
              "      <th>SeriousDlqin2yrs</th>\n",
              "      <th>RevolvingUtilizationOfUnsecuredLines</th>\n",
              "      <th>age</th>\n",
              "      <th>NumberOfTime30-59DaysPastDueNotWorse</th>\n",
              "      <th>DebtRatio</th>\n",
              "      <th>MonthlyIncome</th>\n",
              "      <th>NumberOfOpenCreditLinesAndLoans</th>\n",
              "      <th>NumberOfTimes90DaysLate</th>\n",
              "      <th>NumberRealEstateLoansOrLines</th>\n",
              "      <th>NumberOfTime60-89DaysPastDueNotWorse</th>\n",
              "      <th>NumberOfDependents</th>\n",
              "    </tr>\n",
              "  </thead>\n",
              "  <tbody>\n",
              "    <tr>\n",
              "      <th>SeriousDlqin2yrs</th>\n",
              "      <td>1.000000</td>\n",
              "      <td>-0.001802</td>\n",
              "      <td>-0.115386</td>\n",
              "      <td>0.125587</td>\n",
              "      <td>-0.007602</td>\n",
              "      <td>-0.019746</td>\n",
              "      <td>-0.029669</td>\n",
              "      <td>0.117175</td>\n",
              "      <td>-0.007038</td>\n",
              "      <td>0.102261</td>\n",
              "      <td>0.046048</td>\n",
              "    </tr>\n",
              "    <tr>\n",
              "      <th>RevolvingUtilizationOfUnsecuredLines</th>\n",
              "      <td>-0.001802</td>\n",
              "      <td>1.000000</td>\n",
              "      <td>-0.005898</td>\n",
              "      <td>-0.001314</td>\n",
              "      <td>0.003961</td>\n",
              "      <td>0.007124</td>\n",
              "      <td>-0.011281</td>\n",
              "      <td>-0.001061</td>\n",
              "      <td>0.006235</td>\n",
              "      <td>-0.001048</td>\n",
              "      <td>0.001557</td>\n",
              "    </tr>\n",
              "    <tr>\n",
              "      <th>age</th>\n",
              "      <td>-0.115386</td>\n",
              "      <td>-0.005898</td>\n",
              "      <td>1.000000</td>\n",
              "      <td>-0.062995</td>\n",
              "      <td>0.024188</td>\n",
              "      <td>0.037717</td>\n",
              "      <td>0.147705</td>\n",
              "      <td>-0.061005</td>\n",
              "      <td>0.033150</td>\n",
              "      <td>-0.057159</td>\n",
              "      <td>-0.213303</td>\n",
              "    </tr>\n",
              "    <tr>\n",
              "      <th>NumberOfTime30-59DaysPastDueNotWorse</th>\n",
              "      <td>0.125587</td>\n",
              "      <td>-0.001314</td>\n",
              "      <td>-0.062995</td>\n",
              "      <td>1.000000</td>\n",
              "      <td>-0.006542</td>\n",
              "      <td>-0.010217</td>\n",
              "      <td>-0.055312</td>\n",
              "      <td>0.983603</td>\n",
              "      <td>-0.030565</td>\n",
              "      <td>0.987005</td>\n",
              "      <td>-0.002680</td>\n",
              "    </tr>\n",
              "    <tr>\n",
              "      <th>DebtRatio</th>\n",
              "      <td>-0.007602</td>\n",
              "      <td>0.003961</td>\n",
              "      <td>0.024188</td>\n",
              "      <td>-0.006542</td>\n",
              "      <td>1.000000</td>\n",
              "      <td>-0.028712</td>\n",
              "      <td>0.049565</td>\n",
              "      <td>-0.008320</td>\n",
              "      <td>0.120046</td>\n",
              "      <td>-0.007533</td>\n",
              "      <td>-0.040673</td>\n",
              "    </tr>\n",
              "    <tr>\n",
              "      <th>MonthlyIncome</th>\n",
              "      <td>-0.019746</td>\n",
              "      <td>0.007124</td>\n",
              "      <td>0.037717</td>\n",
              "      <td>-0.010217</td>\n",
              "      <td>-0.028712</td>\n",
              "      <td>1.000000</td>\n",
              "      <td>0.091455</td>\n",
              "      <td>-0.012743</td>\n",
              "      <td>0.124959</td>\n",
              "      <td>-0.011116</td>\n",
              "      <td>0.062647</td>\n",
              "    </tr>\n",
              "    <tr>\n",
              "      <th>NumberOfOpenCreditLinesAndLoans</th>\n",
              "      <td>-0.029669</td>\n",
              "      <td>-0.011281</td>\n",
              "      <td>0.147705</td>\n",
              "      <td>-0.055312</td>\n",
              "      <td>0.049565</td>\n",
              "      <td>0.091455</td>\n",
              "      <td>1.000000</td>\n",
              "      <td>-0.079984</td>\n",
              "      <td>0.433959</td>\n",
              "      <td>-0.071077</td>\n",
              "      <td>0.065322</td>\n",
              "    </tr>\n",
              "    <tr>\n",
              "      <th>NumberOfTimes90DaysLate</th>\n",
              "      <td>0.117175</td>\n",
              "      <td>-0.001061</td>\n",
              "      <td>-0.061005</td>\n",
              "      <td>0.983603</td>\n",
              "      <td>-0.008320</td>\n",
              "      <td>-0.012743</td>\n",
              "      <td>-0.079984</td>\n",
              "      <td>1.000000</td>\n",
              "      <td>-0.045205</td>\n",
              "      <td>0.992796</td>\n",
              "      <td>-0.010176</td>\n",
              "    </tr>\n",
              "    <tr>\n",
              "      <th>NumberRealEstateLoansOrLines</th>\n",
              "      <td>-0.007038</td>\n",
              "      <td>0.006235</td>\n",
              "      <td>0.033150</td>\n",
              "      <td>-0.030565</td>\n",
              "      <td>0.120046</td>\n",
              "      <td>0.124959</td>\n",
              "      <td>0.433959</td>\n",
              "      <td>-0.045205</td>\n",
              "      <td>1.000000</td>\n",
              "      <td>-0.039722</td>\n",
              "      <td>0.124684</td>\n",
              "    </tr>\n",
              "    <tr>\n",
              "      <th>NumberOfTime60-89DaysPastDueNotWorse</th>\n",
              "      <td>0.102261</td>\n",
              "      <td>-0.001048</td>\n",
              "      <td>-0.057159</td>\n",
              "      <td>0.987005</td>\n",
              "      <td>-0.007533</td>\n",
              "      <td>-0.011116</td>\n",
              "      <td>-0.071077</td>\n",
              "      <td>0.992796</td>\n",
              "      <td>-0.039722</td>\n",
              "      <td>1.000000</td>\n",
              "      <td>-0.010922</td>\n",
              "    </tr>\n",
              "    <tr>\n",
              "      <th>NumberOfDependents</th>\n",
              "      <td>0.046048</td>\n",
              "      <td>0.001557</td>\n",
              "      <td>-0.213303</td>\n",
              "      <td>-0.002680</td>\n",
              "      <td>-0.040673</td>\n",
              "      <td>0.062647</td>\n",
              "      <td>0.065322</td>\n",
              "      <td>-0.010176</td>\n",
              "      <td>0.124684</td>\n",
              "      <td>-0.010922</td>\n",
              "      <td>1.000000</td>\n",
              "    </tr>\n",
              "  </tbody>\n",
              "</table>\n",
              "</div>"
            ],
            "text/plain": [
              "                                      SeriousDlqin2yrs  \\\n",
              "SeriousDlqin2yrs                              1.000000   \n",
              "RevolvingUtilizationOfUnsecuredLines         -0.001802   \n",
              "age                                          -0.115386   \n",
              "NumberOfTime30-59DaysPastDueNotWorse          0.125587   \n",
              "DebtRatio                                    -0.007602   \n",
              "MonthlyIncome                                -0.019746   \n",
              "NumberOfOpenCreditLinesAndLoans              -0.029669   \n",
              "NumberOfTimes90DaysLate                       0.117175   \n",
              "NumberRealEstateLoansOrLines                 -0.007038   \n",
              "NumberOfTime60-89DaysPastDueNotWorse          0.102261   \n",
              "NumberOfDependents                            0.046048   \n",
              "\n",
              "                                      RevolvingUtilizationOfUnsecuredLines  \\\n",
              "SeriousDlqin2yrs                                                 -0.001802   \n",
              "RevolvingUtilizationOfUnsecuredLines                              1.000000   \n",
              "age                                                              -0.005898   \n",
              "NumberOfTime30-59DaysPastDueNotWorse                             -0.001314   \n",
              "DebtRatio                                                         0.003961   \n",
              "MonthlyIncome                                                     0.007124   \n",
              "NumberOfOpenCreditLinesAndLoans                                  -0.011281   \n",
              "NumberOfTimes90DaysLate                                          -0.001061   \n",
              "NumberRealEstateLoansOrLines                                      0.006235   \n",
              "NumberOfTime60-89DaysPastDueNotWorse                             -0.001048   \n",
              "NumberOfDependents                                                0.001557   \n",
              "\n",
              "                                           age  \\\n",
              "SeriousDlqin2yrs                     -0.115386   \n",
              "RevolvingUtilizationOfUnsecuredLines -0.005898   \n",
              "age                                   1.000000   \n",
              "NumberOfTime30-59DaysPastDueNotWorse -0.062995   \n",
              "DebtRatio                             0.024188   \n",
              "MonthlyIncome                         0.037717   \n",
              "NumberOfOpenCreditLinesAndLoans       0.147705   \n",
              "NumberOfTimes90DaysLate              -0.061005   \n",
              "NumberRealEstateLoansOrLines          0.033150   \n",
              "NumberOfTime60-89DaysPastDueNotWorse -0.057159   \n",
              "NumberOfDependents                   -0.213303   \n",
              "\n",
              "                                      NumberOfTime30-59DaysPastDueNotWorse  \\\n",
              "SeriousDlqin2yrs                                                  0.125587   \n",
              "RevolvingUtilizationOfUnsecuredLines                             -0.001314   \n",
              "age                                                              -0.062995   \n",
              "NumberOfTime30-59DaysPastDueNotWorse                              1.000000   \n",
              "DebtRatio                                                        -0.006542   \n",
              "MonthlyIncome                                                    -0.010217   \n",
              "NumberOfOpenCreditLinesAndLoans                                  -0.055312   \n",
              "NumberOfTimes90DaysLate                                           0.983603   \n",
              "NumberRealEstateLoansOrLines                                     -0.030565   \n",
              "NumberOfTime60-89DaysPastDueNotWorse                              0.987005   \n",
              "NumberOfDependents                                               -0.002680   \n",
              "\n",
              "                                      DebtRatio  MonthlyIncome  \\\n",
              "SeriousDlqin2yrs                      -0.007602      -0.019746   \n",
              "RevolvingUtilizationOfUnsecuredLines   0.003961       0.007124   \n",
              "age                                    0.024188       0.037717   \n",
              "NumberOfTime30-59DaysPastDueNotWorse  -0.006542      -0.010217   \n",
              "DebtRatio                              1.000000      -0.028712   \n",
              "MonthlyIncome                         -0.028712       1.000000   \n",
              "NumberOfOpenCreditLinesAndLoans        0.049565       0.091455   \n",
              "NumberOfTimes90DaysLate               -0.008320      -0.012743   \n",
              "NumberRealEstateLoansOrLines           0.120046       0.124959   \n",
              "NumberOfTime60-89DaysPastDueNotWorse  -0.007533      -0.011116   \n",
              "NumberOfDependents                    -0.040673       0.062647   \n",
              "\n",
              "                                      NumberOfOpenCreditLinesAndLoans  \\\n",
              "SeriousDlqin2yrs                                            -0.029669   \n",
              "RevolvingUtilizationOfUnsecuredLines                        -0.011281   \n",
              "age                                                          0.147705   \n",
              "NumberOfTime30-59DaysPastDueNotWorse                        -0.055312   \n",
              "DebtRatio                                                    0.049565   \n",
              "MonthlyIncome                                                0.091455   \n",
              "NumberOfOpenCreditLinesAndLoans                              1.000000   \n",
              "NumberOfTimes90DaysLate                                     -0.079984   \n",
              "NumberRealEstateLoansOrLines                                 0.433959   \n",
              "NumberOfTime60-89DaysPastDueNotWorse                        -0.071077   \n",
              "NumberOfDependents                                           0.065322   \n",
              "\n",
              "                                      NumberOfTimes90DaysLate  \\\n",
              "SeriousDlqin2yrs                                     0.117175   \n",
              "RevolvingUtilizationOfUnsecuredLines                -0.001061   \n",
              "age                                                 -0.061005   \n",
              "NumberOfTime30-59DaysPastDueNotWorse                 0.983603   \n",
              "DebtRatio                                           -0.008320   \n",
              "MonthlyIncome                                       -0.012743   \n",
              "NumberOfOpenCreditLinesAndLoans                     -0.079984   \n",
              "NumberOfTimes90DaysLate                              1.000000   \n",
              "NumberRealEstateLoansOrLines                        -0.045205   \n",
              "NumberOfTime60-89DaysPastDueNotWorse                 0.992796   \n",
              "NumberOfDependents                                  -0.010176   \n",
              "\n",
              "                                      NumberRealEstateLoansOrLines  \\\n",
              "SeriousDlqin2yrs                                         -0.007038   \n",
              "RevolvingUtilizationOfUnsecuredLines                      0.006235   \n",
              "age                                                       0.033150   \n",
              "NumberOfTime30-59DaysPastDueNotWorse                     -0.030565   \n",
              "DebtRatio                                                 0.120046   \n",
              "MonthlyIncome                                             0.124959   \n",
              "NumberOfOpenCreditLinesAndLoans                           0.433959   \n",
              "NumberOfTimes90DaysLate                                  -0.045205   \n",
              "NumberRealEstateLoansOrLines                              1.000000   \n",
              "NumberOfTime60-89DaysPastDueNotWorse                     -0.039722   \n",
              "NumberOfDependents                                        0.124684   \n",
              "\n",
              "                                      NumberOfTime60-89DaysPastDueNotWorse  \\\n",
              "SeriousDlqin2yrs                                                  0.102261   \n",
              "RevolvingUtilizationOfUnsecuredLines                             -0.001048   \n",
              "age                                                              -0.057159   \n",
              "NumberOfTime30-59DaysPastDueNotWorse                              0.987005   \n",
              "DebtRatio                                                        -0.007533   \n",
              "MonthlyIncome                                                    -0.011116   \n",
              "NumberOfOpenCreditLinesAndLoans                                  -0.071077   \n",
              "NumberOfTimes90DaysLate                                           0.992796   \n",
              "NumberRealEstateLoansOrLines                                     -0.039722   \n",
              "NumberOfTime60-89DaysPastDueNotWorse                              1.000000   \n",
              "NumberOfDependents                                               -0.010922   \n",
              "\n",
              "                                      NumberOfDependents  \n",
              "SeriousDlqin2yrs                                0.046048  \n",
              "RevolvingUtilizationOfUnsecuredLines            0.001557  \n",
              "age                                            -0.213303  \n",
              "NumberOfTime30-59DaysPastDueNotWorse           -0.002680  \n",
              "DebtRatio                                      -0.040673  \n",
              "MonthlyIncome                                   0.062647  \n",
              "NumberOfOpenCreditLinesAndLoans                 0.065322  \n",
              "NumberOfTimes90DaysLate                        -0.010176  \n",
              "NumberRealEstateLoansOrLines                    0.124684  \n",
              "NumberOfTime60-89DaysPastDueNotWorse           -0.010922  \n",
              "NumberOfDependents                              1.000000  "
            ]
          },
          "execution_count": 8,
          "metadata": {},
          "output_type": "execute_result"
        }
      ],
      "source": [
        "# data column별 상관관계 분석\n",
        "df_corr = data.corr()\n",
        "df_corr"
      ]
    },
    {
      "cell_type": "code",
      "execution_count": 9,
      "metadata": {
        "colab": {
          "base_uri": "https://localhost:8080/",
          "height": 834
        },
        "id": "lEZaZ6Q1aAbK",
        "outputId": "6f0f4212-117e-48f4-9fd0-358050d74336"
      },
      "outputs": [
        {
          "data": {
            "text/plain": [
              "<AxesSubplot:title={'center':'correlation'}>"
            ]
          },
          "execution_count": 9,
          "metadata": {},
          "output_type": "execute_result"
        },
        {
          "data": {
            "image/png": "[encoded data removed]",
            "text/plain": [
              "<Figure size 1080x720 with 2 Axes>"
            ]
          },
          "metadata": {
            "needs_background": "light"
          },
          "output_type": "display_data"
        }
      ],
      "source": [
        "plt.figure(figsize=(15, 10))\n",
        "plt.title('correlation')\n",
        "sns.heatmap(df_corr, \n",
        "               annot = True,      \n",
        "               cmap = 'RdYlBu_r',\n",
        "               vmin = -1, vmax = 1)"
      ]
    },
    {
      "cell_type": "markdown",
      "metadata": {
        "id": "3e7kHDYodR3L"
      },
      "source": [
        "### **Analysis**\n",
        "각 요소들의 상관관계에 관한 heatmap은 위의 그림과 같다. \n",
        "\n",
        "구체적으로 최근 2년 동안 30 ~ 59일 연차한 횟수(NumberOfTime30-59DaysPastDueNotWorse)는 각각 과거 90일 이상 연체한 횟수(NumberOfTimes90DaysLate)와 최근 2년간 60 ~ 89일 연체한 횟수(NumberOfTime60-89DaysPastDueNotWorse)가 **0.98**과 **0.99**로 당연하게도 높은 상관 관계를 보였다.\n",
        "\n",
        "다음으로 최근 2년간 60 ~ 89일 연체한 횟수 (NumberOfTime60-89DaysPastDueNotWorse)와 과거 90일 이상 연체한 횟수(NumberOfTimes90DaysLate) 또한 **0.99**정도로 높은 상관 관계를 보였다.\n",
        "\n",
        "양의 상관 관계에서 마지막으로 주택 담보대출을 포함한 부동산 담보 대출 건수(NumberRealEstateLoansOrLines)와 대출자가 보유중인 담보 대출 및 신용 대출 건수(NumberOfOpenCreditLinesAndLoans)가 **0.43** 정도의 상관 관계를 보였다.\n",
        "\n",
        "마지막으로 음의 상관 관계는 대출자를 제외한 부양가족 수 (NumberOfDependents)와 나이(age)가 **-0.21**를 보였는데, 이는 직관적으로 이해가 되지 않아 데이터를 더 확인해 보면서 파악할 예정이다."
      ]
    },
    {
      "cell_type": "markdown",
      "metadata": {
        "id": "LZJNMhcpCGOy"
      },
      "source": [
        "## DebtRatio Boxplot"
      ]
    },
    {
      "cell_type": "code",
      "execution_count": 10,
      "metadata": {
        "colab": {
          "base_uri": "https://localhost:8080/"
        },
        "id": "ATsAaAz-CO_a",
        "outputId": "b1de767d-df61-4b0e-c914-d8ef3b83049e"
      },
      "outputs": [
        {
          "data": {
            "text/plain": [
              "0.000000    4113\n",
              "1.000000     229\n",
              "4.000000     174\n",
              "2.000000     170\n",
              "3.000000     162\n",
              "            ... \n",
              "0.368763       1\n",
              "0.108009       1\n",
              "0.441337       1\n",
              "1.006015       1\n",
              "0.249908       1\n",
              "Name: DebtRatio, Length: 114194, dtype: int64"
            ]
          },
          "execution_count": 10,
          "metadata": {},
          "output_type": "execute_result"
        }
      ],
      "source": [
        "data['DebtRatio'].value_counts()"
      ]
    },
    {
      "cell_type": "code",
      "execution_count": 11,
      "metadata": {
        "colab": {
          "base_uri": "https://localhost:8080/"
        },
        "id": "hAcSscXBCcdK",
        "outputId": "646d6e2d-8cf0-454f-9e8d-c1ebfb8a4e50"
      },
      "outputs": [
        {
          "data": {
            "text/plain": [
              "SeriousDlqin2yrs  RevolvingUtilizationOfUnsecuredLines  age  NumberOfTime30-59DaysPastDueNotWorse  DebtRatio    MonthlyIncome  NumberOfOpenCreditLinesAndLoans  NumberOfTimes90DaysLate  NumberRealEstateLoansOrLines  NumberOfTime60-89DaysPastDueNotWorse  NumberOfDependents\n",
              "0                 0.000000                              21   0                                     2.000000     1.0            1                                0                        0                             0                                     0.0                   1\n",
              "                  0.585153                              48   0                                     1.503747     1200.0         4                                0                        1                             0                                     2.0                   1\n",
              "                  0.590404                              35   0                                     1.058824     4368.0         5                                0                        2                             0                                     1.0                   1\n",
              "                  0.590342                              46   0                                     1.044319     3000.0         5                                0                        1                             0                                     1.0                   1\n",
              "                  0.590282                              37   0                                     1.343828     2000.0         4                                0                        1                             0                                     1.0                   1\n",
              "                                                                                                                                                                                                                                                                                  ..\n",
              "                  0.103352                              72   0                                     2265.000000  0.0            6                                0                        3                             0                                     0.0                   1\n",
              "                  0.103095                              59   0                                     6.466777     601.0          6                                0                        3                             0                                     1.0                   1\n",
              "                  0.103088                              54   0                                     2.368179     1740.0         16                               0                        2                             0                                     0.0                   1\n",
              "                  0.103063                              41   0                                     1.035629     9654.0         12                               0                        1                             0                                     0.0                   1\n",
              "1                 3818.000000                           39   2                                     1.154265     3668.0         12                               1                        2                             0                                     0.0                   1\n",
              "Length: 7233, dtype: int64"
            ]
          },
          "execution_count": 11,
          "metadata": {},
          "output_type": "execute_result"
        }
      ],
      "source": [
        "data[data['DebtRatio'] > 1].value_counts()"
      ]
    },
    {
      "cell_type": "code",
      "execution_count": 12,
      "metadata": {
        "colab": {
          "base_uri": "https://localhost:8080/",
          "height": 0
        },
        "id": "dS5dTzvuC6-6",
        "outputId": "12ec8dc8-428e-4ce7-f2e8-4c843616d445"
      },
      "outputs": [
        {
          "data": {
            "image/png": "[encoded data removed]",
            "text/plain": [
              "<Figure size 432x288 with 1 Axes>"
            ]
          },
          "metadata": {
            "needs_background": "light"
          },
          "output_type": "display_data"
        }
      ],
      "source": [
        "plt.boxplot(data['DebtRatio'])\n",
        "plt.title('DebtRatio')\n",
        "plt.ylim(-0.1, 2)\n",
        "plt.show()"
      ]
    },
    {
      "cell_type": "code",
      "execution_count": 13,
      "metadata": {
        "colab": {
          "base_uri": "https://localhost:8080/",
          "height": 0
        },
        "id": "_lfZrOQMDNI5",
        "outputId": "f4e292c6-2dfd-439d-bd86-de1bb17369b0"
      },
      "outputs": [
        {
          "data": {
            "image/png": "[encoded data removed]",
            "text/plain": [
              "<Figure size 432x288 with 1 Axes>"
            ]
          },
          "metadata": {
            "needs_background": "light"
          },
          "output_type": "display_data"
        }
      ],
      "source": [
        "data_sample = data.copy()\n",
        "data_sample['age/20'] = data_sample[['age']].applymap(lambda x : int(x/20))\n",
        "sns.boxplot(x='age/20', y='DebtRatio', data=data_sample)\n",
        "plt.title('DebtRatio')\n",
        "plt.ylim(-0.1, 2.0)\n",
        "plt.show()"
      ]
    },
    {
      "cell_type": "markdown",
      "metadata": {
        "id": "2Aj_FrpzuKTO"
      },
      "source": [
        "## RevolvingUtilizationOfUnsecuredLines Boxplot"
      ]
    },
    {
      "cell_type": "code",
      "execution_count": 14,
      "metadata": {
        "colab": {
          "base_uri": "https://localhost:8080/"
        },
        "id": "6jOsaBezCgSE",
        "outputId": "4b6c4343-50da-482f-dc66-eaf090067970"
      },
      "outputs": [
        {
          "data": {
            "text/plain": [
              "0.000000    10878\n",
              "1.000000    10256\n",
              "1.000000       17\n",
              "0.950100        8\n",
              "0.007984        6\n",
              "            ...  \n",
              "0.954162        1\n",
              "0.820080        1\n",
              "0.176771        1\n",
              "0.084661        1\n",
              "0.850283        1\n",
              "Name: RevolvingUtilizationOfUnsecuredLines, Length: 125728, dtype: int64"
            ]
          },
          "execution_count": 14,
          "metadata": {},
          "output_type": "execute_result"
        }
      ],
      "source": [
        "data['RevolvingUtilizationOfUnsecuredLines'].value_counts()"
      ]
    },
    {
      "cell_type": "code",
      "execution_count": 15,
      "metadata": {
        "colab": {
          "base_uri": "https://localhost:8080/"
        },
        "id": "i8Sgmb2nuKJX",
        "outputId": "b8b043c8-2f92-46fc-e013-a0565e4326cc"
      },
      "outputs": [
        {
          "data": {
            "text/plain": [
              "SeriousDlqin2yrs  RevolvingUtilizationOfUnsecuredLines  age  NumberOfTime30-59DaysPastDueNotWorse  DebtRatio  MonthlyIncome  NumberOfOpenCreditLinesAndLoans  NumberOfTimes90DaysLate  NumberRealEstateLoansOrLines  NumberOfTime60-89DaysPastDueNotWorse  NumberOfDependents\n",
              "0                 1.000059                              47   0                                     0.375102   9775.0         5                                1                        2                             0                                     3.0                   1\n",
              "1                 1.008430                              26   0                                     0.037537   4075.0         4                                0                        0                             2                                     1.0                   1\n",
              "                  1.007713                              43   0                                     0.235135   3699.0         6                                0                        1                             0                                     0.0                   1\n",
              "                  1.007764                              61   0                                     0.168556   4146.0         4                                1                        0                             0                                     2.0                   1\n",
              "                  1.007768                              39   2                                     0.549801   7800.0         20                               0                        2                             1                                     1.0                   1\n",
              "                                                                                                                                                                                                                                                                                ..\n",
              "0                 1.069475                              61   0                                     0.497835   9466.0         17                               0                        2                             0                                     2.0                   1\n",
              "                  1.069530                              47   1                                     0.059499   8100.0         4                                0                        0                             0                                     0.0                   1\n",
              "                  1.069572                              45   0                                     0.019954   4810.0         2                                0                        0                             0                                     1.0                   1\n",
              "                  1.069860                              62   0                                     0.267368   11500.0        3                                5                        1                             0                                     0.0                   1\n",
              "1                 6190.000000                           27   0                                     0.478532   1280.0         6                                0                        0                             1                                     1.0                   1\n",
              "Length: 2773, dtype: int64"
            ]
          },
          "execution_count": 15,
          "metadata": {},
          "output_type": "execute_result"
        }
      ],
      "source": [
        "data[data['RevolvingUtilizationOfUnsecuredLines'] > 1].value_counts()"
      ]
    },
    {
      "cell_type": "code",
      "execution_count": 16,
      "metadata": {
        "colab": {
          "base_uri": "https://localhost:8080/",
          "height": 0
        },
        "id": "KSPre1D-uKA_",
        "outputId": "ce200b54-3771-41f4-8f9d-84dec2ccf04f"
      },
      "outputs": [
        {
          "data": {
            "image/png": "[encoded data removed]",
            "text/plain": [
              "<Figure size 432x288 with 1 Axes>"
            ]
          },
          "metadata": {
            "needs_background": "light"
          },
          "output_type": "display_data"
        }
      ],
      "source": [
        "plt.boxplot(data['RevolvingUtilizationOfUnsecuredLines'])\n",
        "plt.title('RevolvingUtilizationOfUnsecuredLines')\n",
        "plt.ylim(-0.1, 1.8)\n",
        "plt.show()"
      ]
    },
    {
      "cell_type": "code",
      "execution_count": 17,
      "metadata": {
        "colab": {
          "base_uri": "https://localhost:8080/",
          "height": 0
        },
        "id": "VBvfn_E4zfCu",
        "outputId": "9602ed9f-8d35-452c-bc6e-bb32c381e53c"
      },
      "outputs": [
        {
          "data": {
            "image/png": "[encoded data removed]",
            "text/plain": [
              "<Figure size 432x288 with 1 Axes>"
            ]
          },
          "metadata": {
            "needs_background": "light"
          },
          "output_type": "display_data"
        }
      ],
      "source": [
        "data_sample = data.copy()\n",
        "data_sample['age/20'] = data_sample[['age']].applymap(lambda x : int(x/20))\n",
        "sns.boxplot(x='age/20', y='RevolvingUtilizationOfUnsecuredLines', data=data_sample)\n",
        "plt.title('RevolvingUtilizationOfUnsecuredLines')\n",
        "plt.ylim(-0.1, 1.1)\n",
        "plt.show()"
      ]
    },
    {
      "cell_type": "markdown",
      "metadata": {
        "id": "rQJsBxesb9JE"
      },
      "source": [
        "## 전체 나이 분포 확인 (Pie chart)"
      ]
    },
    {
      "cell_type": "code",
      "execution_count": 18,
      "metadata": {
        "colab": {
          "base_uri": "https://localhost:8080/",
          "height": 0
        },
        "id": "fvHBR2iPEoZt",
        "outputId": "6c424489-8599-4ecd-8af0-f1f1fa117e25"
      },
      "outputs": [
        {
          "data": {
            "text/html": [
              "<div>\n",
              "<style scoped>\n",
              "    .dataframe tbody tr th:only-of-type {\n",
              "        vertical-align: middle;\n",
              "    }\n",
              "\n",
              "    .dataframe tbody tr th {\n",
              "        vertical-align: top;\n",
              "    }\n",
              "\n",
              "    .dataframe thead th {\n",
              "        text-align: right;\n",
              "    }\n",
              "</style>\n",
              "<table border=\"1\" class=\"dataframe\">\n",
              "  <thead>\n",
              "    <tr style=\"text-align: right;\">\n",
              "      <th></th>\n",
              "      <th>age</th>\n",
              "    </tr>\n",
              "  </thead>\n",
              "  <tbody>\n",
              "    <tr>\n",
              "      <th>1</th>\n",
              "      <td>45</td>\n",
              "    </tr>\n",
              "    <tr>\n",
              "      <th>2</th>\n",
              "      <td>40</td>\n",
              "    </tr>\n",
              "    <tr>\n",
              "      <th>3</th>\n",
              "      <td>38</td>\n",
              "    </tr>\n",
              "    <tr>\n",
              "      <th>4</th>\n",
              "      <td>30</td>\n",
              "    </tr>\n",
              "    <tr>\n",
              "      <th>5</th>\n",
              "      <td>49</td>\n",
              "    </tr>\n",
              "  </tbody>\n",
              "</table>\n",
              "</div>"
            ],
            "text/plain": [
              "   age\n",
              "1   45\n",
              "2   40\n",
              "3   38\n",
              "4   30\n",
              "5   49"
            ]
          },
          "execution_count": 18,
          "metadata": {},
          "output_type": "execute_result"
        }
      ],
      "source": [
        "age_df = pd.DataFrame(data.age)\n",
        "age_df.head()"
      ]
    },
    {
      "cell_type": "code",
      "execution_count": 19,
      "metadata": {
        "colab": {
          "base_uri": "https://localhost:8080/"
        },
        "id": "kmVM_lBIFxhP",
        "outputId": "2afb195c-988b-4be7-bfc8-28d88acd5547"
      },
      "outputs": [
        {
          "data": {
            "text/plain": [
              "age<20             1\n",
              "20<=age<40     32003\n",
              "40<=age<60     69678\n",
              "60<=age<80     42506\n",
              "80<=age<100     5799\n",
              "100<=age          13\n",
              "Name: age/20, dtype: int64"
            ]
          },
          "execution_count": 19,
          "metadata": {},
          "output_type": "execute_result"
        }
      ],
      "source": [
        "# 20살 단위로 group화\n",
        "age_df['age/20'] = age_df[['age']].applymap(lambda x : int(x/20))\n",
        "age_df_count = age_df.groupby(['age/20'])['age/20'].count()\n",
        "age_df_count.index = ['age<20', '20<=age<40', '40<=age<60', '60<=age<80', '80<=age<100', '100<=age']\n",
        "age_df_count.column = ['count']\n",
        "age_df_count"
      ]
    },
    {
      "cell_type": "code",
      "execution_count": 20,
      "metadata": {
        "colab": {
          "base_uri": "https://localhost:8080/",
          "height": 0
        },
        "id": "LJpBM0M5HnaJ",
        "outputId": "ed8dc46c-3e15-4db4-d8d2-636f937db0d2"
      },
      "outputs": [
        {
          "data": {
            "image/png": "[encoded data removed]",
            "text/plain": [
              "<Figure size 504x432 with 1 Axes>"
            ]
          },
          "metadata": {},
          "output_type": "display_data"
        }
      ],
      "source": [
        "# data visualization\n",
        "plt.figure(figsize=(7, 6))\n",
        "plt.pie(age_df_count.values, labels=age_df_count.index, autopct='%1.1f%%')\n",
        "plt.axis('equal')\n",
        "plt.title('age count')\n",
        "plt.show()"
      ]
    },
    {
      "cell_type": "markdown",
      "metadata": {
        "id": "ojwXupIKiWSo"
      },
      "source": [
        "### **Analysis**\n",
        "전체적인 나이 분포를 확인해본 결과, 40 ~ 60살 정도가 46.5% 이상의 높은 비율을 가지고 있었고 다음으로 60 ~ 80살이 28.3%로 40살 이상에서 약 75%가 넘는 분포를 가지고 있었다. 그 다음으로 20 ~ 40살 정도에서 약 21%의 비율을 차지했음을 알 수 있었다.\n",
        "\n"
      ]
    },
    {
      "cell_type": "markdown",
      "metadata": {
        "id": "JN-ezBtki3Cz"
      },
      "source": [
        "## 최근 2년 동안 90일 이상 연체 여부 데이터 분석 (SeriousDlqin2yrs / Violin Plot)"
      ]
    },
    {
      "cell_type": "code",
      "execution_count": 21,
      "metadata": {
        "colab": {
          "base_uri": "https://localhost:8080/",
          "height": 0
        },
        "id": "tgFx4iHGIJcu",
        "outputId": "5035ef6f-1823-4455-9cd6-76f386f2a7db"
      },
      "outputs": [
        {
          "data": {
            "text/html": [
              "<div>\n",
              "<style scoped>\n",
              "    .dataframe tbody tr th:only-of-type {\n",
              "        vertical-align: middle;\n",
              "    }\n",
              "\n",
              "    .dataframe tbody tr th {\n",
              "        vertical-align: top;\n",
              "    }\n",
              "\n",
              "    .dataframe thead th {\n",
              "        text-align: right;\n",
              "    }\n",
              "</style>\n",
              "<table border=\"1\" class=\"dataframe\">\n",
              "  <thead>\n",
              "    <tr style=\"text-align: right;\">\n",
              "      <th></th>\n",
              "      <th>SeriousDlqin2yrs</th>\n",
              "    </tr>\n",
              "  </thead>\n",
              "  <tbody>\n",
              "    <tr>\n",
              "      <th>1</th>\n",
              "      <td>1</td>\n",
              "    </tr>\n",
              "    <tr>\n",
              "      <th>2</th>\n",
              "      <td>0</td>\n",
              "    </tr>\n",
              "    <tr>\n",
              "      <th>3</th>\n",
              "      <td>0</td>\n",
              "    </tr>\n",
              "    <tr>\n",
              "      <th>4</th>\n",
              "      <td>0</td>\n",
              "    </tr>\n",
              "    <tr>\n",
              "      <th>5</th>\n",
              "      <td>0</td>\n",
              "    </tr>\n",
              "  </tbody>\n",
              "</table>\n",
              "</div>"
            ],
            "text/plain": [
              "   SeriousDlqin2yrs\n",
              "1                 1\n",
              "2                 0\n",
              "3                 0\n",
              "4                 0\n",
              "5                 0"
            ]
          },
          "execution_count": 21,
          "metadata": {},
          "output_type": "execute_result"
        }
      ],
      "source": [
        "# SeriousDlqin2yrs\n",
        "df_SeriousDlqin2yrs = pd.DataFrame(data.SeriousDlqin2yrs)\n",
        "df_SeriousDlqin2yrs.head()"
      ]
    },
    {
      "cell_type": "code",
      "execution_count": 22,
      "metadata": {
        "colab": {
          "base_uri": "https://localhost:8080/",
          "height": 0
        },
        "id": "JWDZOlXRTdKi",
        "outputId": "32d1e9e1-bb8e-4646-eb5f-119b0d06c7de"
      },
      "outputs": [
        {
          "name": "stderr",
          "output_type": "stream",
          "text": [
            "C:\\Users\\user\\anaconda3\\envs\\ml\\lib\\site-packages\\seaborn\\_decorators.py:36: FutureWarning: Pass the following variables as keyword args: x, y. From version 0.12, the only valid positional argument will be `data`, and passing other arguments without an explicit keyword will result in an error or misinterpretation.\n",
            "  warnings.warn(\n"
          ]
        },
        {
          "data": {
            "image/png": "[encoded data removed]",
            "text/plain": [
              "<Figure size 1080x720 with 1 Axes>"
            ]
          },
          "metadata": {
            "needs_background": "light"
          },
          "output_type": "display_data"
        }
      ],
      "source": [
        "plt.figure(figsize=(15, 10))\n",
        "sns.violinplot('NumberOfTime60-89DaysPastDueNotWorse', 'age', hue='SeriousDlqin2yrs', data=data)\n",
        "plt.title('SeriousDlqin2yrs')\n",
        "plt.show()"
      ]
    },
    {
      "cell_type": "code",
      "execution_count": 23,
      "metadata": {
        "colab": {
          "base_uri": "https://localhost:8080/"
        },
        "id": "yUVz-9wZYM2X",
        "outputId": "86e3d4d0-056f-48e4-f692-42008cac30b8"
      },
      "outputs": [
        {
          "data": {
            "text/plain": [
              "0     142396\n",
              "1       5731\n",
              "2       1118\n",
              "3        318\n",
              "98       264\n",
              "4        105\n",
              "5         34\n",
              "6         16\n",
              "7          9\n",
              "96         5\n",
              "8          2\n",
              "11         1\n",
              "9          1\n",
              "Name: NumberOfTime60-89DaysPastDueNotWorse, dtype: int64"
            ]
          },
          "execution_count": 23,
          "metadata": {},
          "output_type": "execute_result"
        }
      ],
      "source": [
        "data['NumberOfTime60-89DaysPastDueNotWorse'].value_counts()"
      ]
    },
    {
      "cell_type": "markdown",
      "metadata": {
        "id": "1xegBzU1mzlP"
      },
      "source": [
        "### **Analysis**\n",
        "violin plot을 이용하여 최근 2년간 60 ~ 89일 연체한 횟수에 따른 2년 동안 90일 이상 연체 여부를 파악해보려고 했다. 하지만 위의 그림과 같이 60 ~ 89일 연체한 횟수에 대해 이상치 (outlier)로 보이는 것이 탐지가 되었다.\n",
        "\n",
        "이를 value_counts()를 통해서 다시 본 결과, 2년간 연체한 횟수가 98, 96번이라는 답변이 **264명과 5명**으로 조사되어 있다는 것을 파악했다. 이에 대한 값을 아예 **삭제를 할 것인지, 아니면 값을 대체할 지를** 결정이 필요해 보인다."
      ]
    },
    {
      "cell_type": "markdown",
      "metadata": {
        "id": "RKF-E56jqLju"
      },
      "source": [
        "## 결측치 파악"
      ]
    },
    {
      "cell_type": "code",
      "execution_count": 24,
      "metadata": {
        "colab": {
          "base_uri": "https://localhost:8080/"
        },
        "id": "99PFeElOEEr1",
        "outputId": "8e16b861-0201-4933-d3a6-3307a9ce82fb"
      },
      "outputs": [
        {
          "name": "stdout",
          "output_type": "stream",
          "text": [
            "<class 'pandas.core.frame.DataFrame'>\n",
            "Int64Index: 150000 entries, 1 to 150000\n",
            "Data columns (total 11 columns):\n",
            " #   Column                                Non-Null Count   Dtype  \n",
            "---  ------                                --------------   -----  \n",
            " 0   SeriousDlqin2yrs                      150000 non-null  int64  \n",
            " 1   RevolvingUtilizationOfUnsecuredLines  150000 non-null  float64\n",
            " 2   age                                   150000 non-null  int64  \n",
            " 3   NumberOfTime30-59DaysPastDueNotWorse  150000 non-null  int64  \n",
            " 4   DebtRatio                             150000 non-null  float64\n",
            " 5   MonthlyIncome                         120269 non-null  float64\n",
            " 6   NumberOfOpenCreditLinesAndLoans       150000 non-null  int64  \n",
            " 7   NumberOfTimes90DaysLate               150000 non-null  int64  \n",
            " 8   NumberRealEstateLoansOrLines          150000 non-null  int64  \n",
            " 9   NumberOfTime60-89DaysPastDueNotWorse  150000 non-null  int64  \n",
            " 10  NumberOfDependents                    146076 non-null  float64\n",
            "dtypes: float64(4), int64(7)\n",
            "memory usage: 17.8 MB\n"
          ]
        }
      ],
      "source": [
        "data.info()"
      ]
    },
    {
      "cell_type": "code",
      "execution_count": 25,
      "metadata": {
        "colab": {
          "base_uri": "https://localhost:8080/"
        },
        "id": "qcOfoPXrETEK",
        "outputId": "1a63e641-958d-42d7-d706-796dfe842369"
      },
      "outputs": [
        {
          "data": {
            "text/plain": [
              "SeriousDlqin2yrs                            0\n",
              "RevolvingUtilizationOfUnsecuredLines        0\n",
              "age                                         0\n",
              "NumberOfTime30-59DaysPastDueNotWorse        0\n",
              "DebtRatio                                   0\n",
              "MonthlyIncome                           29731\n",
              "NumberOfOpenCreditLinesAndLoans             0\n",
              "NumberOfTimes90DaysLate                     0\n",
              "NumberRealEstateLoansOrLines                0\n",
              "NumberOfTime60-89DaysPastDueNotWorse        0\n",
              "NumberOfDependents                       3924\n",
              "dtype: int64"
            ]
          },
          "execution_count": 25,
          "metadata": {},
          "output_type": "execute_result"
        }
      ],
      "source": [
        "data.isna().sum()"
      ]
    },
    {
      "cell_type": "markdown",
      "metadata": {
        "id": "Bj7F15r_qTMX"
      },
      "source": [
        "### **Analysis**\n",
        "결측치 (NA)에 대한 분석이다. 총 2개의 요소에서 결측치가 발생했다. (MonthlyIncome, NumberOfDependents) 특히, 월 수입에 대한 결측치는 거의 3만개에 가까운 숫자이기에 삭제하기에는 무리가 있다고 판단되었다. 그리고 부양 가족의 수도 그냥 삭제하기 보다는 데이터 전체의 평균 등으로 대체하여 사용할 예정이다.\n",
        "\n",
        "구체적으로 위의 상관 관계(heat map)에서 볼 수 있듯이, MonthlyIncome은 NumberRealEstateLoansOrLines에서 그나마 높은 상관 관계를 가지기에 각 값 별로 가지고 있는 월 평균 수입을 MonthlyIncome 값으로 대체할 예정이다.\n",
        "\n",
        "다음으로 NumberOfDependents의 경우, age와 음의 상관 관계이지만 관련성이 높아 보이므로 나이대에 따른 NumberOfDependents를 적용하거나 삭제할 예정이다."
      ]
    },
    {
      "cell_type": "markdown",
      "metadata": {
        "id": "htWKvHxBtya5"
      },
      "source": [
        "## Data preprocessing\n",
        "### 결측치 처리 : NumberOfDependents"
      ]
    },
    {
      "cell_type": "code",
      "execution_count": 26,
      "metadata": {
        "colab": {
          "base_uri": "https://localhost:8080/"
        },
        "id": "EHMhNuXxrhvK",
        "outputId": "ad88c1c7-c958-476d-fcdb-331c2255a58f"
      },
      "outputs": [
        {
          "data": {
            "text/plain": [
              "(150000, 11)"
            ]
          },
          "execution_count": 26,
          "metadata": {},
          "output_type": "execute_result"
        }
      ],
      "source": [
        "data.shape"
      ]
    },
    {
      "cell_type": "code",
      "execution_count": 27,
      "metadata": {
        "colab": {
          "base_uri": "https://localhost:8080/",
          "height": 224
        },
        "id": "iADRIjWUEWWh",
        "outputId": "45c094ae-c64b-4790-afa8-c05650081684"
      },
      "outputs": [
        {
          "data": {
            "text/html": [
              "<div>\n",
              "<style scoped>\n",
              "    .dataframe tbody tr th:only-of-type {\n",
              "        vertical-align: middle;\n",
              "    }\n",
              "\n",
              "    .dataframe tbody tr th {\n",
              "        vertical-align: top;\n",
              "    }\n",
              "\n",
              "    .dataframe thead th {\n",
              "        text-align: right;\n",
              "    }\n",
              "</style>\n",
              "<table border=\"1\" class=\"dataframe\">\n",
              "  <thead>\n",
              "    <tr style=\"text-align: right;\">\n",
              "      <th></th>\n",
              "      <th>SeriousDlqin2yrs</th>\n",
              "      <th>RevolvingUtilizationOfUnsecuredLines</th>\n",
              "      <th>age</th>\n",
              "      <th>NumberOfTime30-59DaysPastDueNotWorse</th>\n",
              "      <th>DebtRatio</th>\n",
              "      <th>MonthlyIncome</th>\n",
              "      <th>NumberOfOpenCreditLinesAndLoans</th>\n",
              "      <th>NumberOfTimes90DaysLate</th>\n",
              "      <th>NumberRealEstateLoansOrLines</th>\n",
              "      <th>NumberOfTime60-89DaysPastDueNotWorse</th>\n",
              "      <th>NumberOfDependents</th>\n",
              "    </tr>\n",
              "  </thead>\n",
              "  <tbody>\n",
              "    <tr>\n",
              "      <th>1</th>\n",
              "      <td>1</td>\n",
              "      <td>0.766127</td>\n",
              "      <td>45</td>\n",
              "      <td>2</td>\n",
              "      <td>0.802982</td>\n",
              "      <td>9120.0</td>\n",
              "      <td>13</td>\n",
              "      <td>0</td>\n",
              "      <td>6</td>\n",
              "      <td>0</td>\n",
              "      <td>2.0</td>\n",
              "    </tr>\n",
              "    <tr>\n",
              "      <th>2</th>\n",
              "      <td>0</td>\n",
              "      <td>0.957151</td>\n",
              "      <td>40</td>\n",
              "      <td>0</td>\n",
              "      <td>0.121876</td>\n",
              "      <td>2600.0</td>\n",
              "      <td>4</td>\n",
              "      <td>0</td>\n",
              "      <td>0</td>\n",
              "      <td>0</td>\n",
              "      <td>1.0</td>\n",
              "    </tr>\n",
              "    <tr>\n",
              "      <th>3</th>\n",
              "      <td>0</td>\n",
              "      <td>0.658180</td>\n",
              "      <td>38</td>\n",
              "      <td>1</td>\n",
              "      <td>0.085113</td>\n",
              "      <td>3042.0</td>\n",
              "      <td>2</td>\n",
              "      <td>1</td>\n",
              "      <td>0</td>\n",
              "      <td>0</td>\n",
              "      <td>0.0</td>\n",
              "    </tr>\n",
              "    <tr>\n",
              "      <th>4</th>\n",
              "      <td>0</td>\n",
              "      <td>0.233810</td>\n",
              "      <td>30</td>\n",
              "      <td>0</td>\n",
              "      <td>0.036050</td>\n",
              "      <td>3300.0</td>\n",
              "      <td>5</td>\n",
              "      <td>0</td>\n",
              "      <td>0</td>\n",
              "      <td>0</td>\n",
              "      <td>0.0</td>\n",
              "    </tr>\n",
              "    <tr>\n",
              "      <th>5</th>\n",
              "      <td>0</td>\n",
              "      <td>0.907239</td>\n",
              "      <td>49</td>\n",
              "      <td>1</td>\n",
              "      <td>0.024926</td>\n",
              "      <td>63588.0</td>\n",
              "      <td>7</td>\n",
              "      <td>0</td>\n",
              "      <td>1</td>\n",
              "      <td>0</td>\n",
              "      <td>0.0</td>\n",
              "    </tr>\n",
              "  </tbody>\n",
              "</table>\n",
              "</div>"
            ],
            "text/plain": [
              "   SeriousDlqin2yrs  RevolvingUtilizationOfUnsecuredLines  age  \\\n",
              "1                 1                              0.766127   45   \n",
              "2                 0                              0.957151   40   \n",
              "3                 0                              0.658180   38   \n",
              "4                 0                              0.233810   30   \n",
              "5                 0                              0.907239   49   \n",
              "\n",
              "   NumberOfTime30-59DaysPastDueNotWorse  DebtRatio  MonthlyIncome  \\\n",
              "1                                     2   0.802982         9120.0   \n",
              "2                                     0   0.121876         2600.0   \n",
              "3                                     1   0.085113         3042.0   \n",
              "4                                     0   0.036050         3300.0   \n",
              "5                                     1   0.024926        63588.0   \n",
              "\n",
              "   NumberOfOpenCreditLinesAndLoans  NumberOfTimes90DaysLate  \\\n",
              "1                               13                        0   \n",
              "2                                4                        0   \n",
              "3                                2                        1   \n",
              "4                                5                        0   \n",
              "5                                7                        0   \n",
              "\n",
              "   NumberRealEstateLoansOrLines  NumberOfTime60-89DaysPastDueNotWorse  \\\n",
              "1                             6                                     0   \n",
              "2                             0                                     0   \n",
              "3                             0                                     0   \n",
              "4                             0                                     0   \n",
              "5                             1                                     0   \n",
              "\n",
              "   NumberOfDependents  \n",
              "1                 2.0  \n",
              "2                 1.0  \n",
              "3                 0.0  \n",
              "4                 0.0  \n",
              "5                 0.0  "
            ]
          },
          "execution_count": 27,
          "metadata": {},
          "output_type": "execute_result"
        }
      ],
      "source": [
        "data_1 = data.copy()\n",
        "data_1.head()"
      ]
    },
    {
      "cell_type": "code",
      "execution_count": 28,
      "metadata": {
        "colab": {
          "base_uri": "https://localhost:8080/",
          "height": 224
        },
        "id": "4v05_nEJuQHh",
        "outputId": "61327f6f-b1c2-4407-a27e-04b6a767c8ce"
      },
      "outputs": [
        {
          "data": {
            "text/html": [
              "<div>\n",
              "<style scoped>\n",
              "    .dataframe tbody tr th:only-of-type {\n",
              "        vertical-align: middle;\n",
              "    }\n",
              "\n",
              "    .dataframe tbody tr th {\n",
              "        vertical-align: top;\n",
              "    }\n",
              "\n",
              "    .dataframe thead th {\n",
              "        text-align: right;\n",
              "    }\n",
              "</style>\n",
              "<table border=\"1\" class=\"dataframe\">\n",
              "  <thead>\n",
              "    <tr style=\"text-align: right;\">\n",
              "      <th></th>\n",
              "      <th>SeriousDlqin2yrs</th>\n",
              "      <th>RevolvingUtilizationOfUnsecuredLines</th>\n",
              "      <th>age</th>\n",
              "      <th>NumberOfTime30-59DaysPastDueNotWorse</th>\n",
              "      <th>DebtRatio</th>\n",
              "      <th>MonthlyIncome</th>\n",
              "      <th>NumberOfOpenCreditLinesAndLoans</th>\n",
              "      <th>NumberOfTimes90DaysLate</th>\n",
              "      <th>NumberRealEstateLoansOrLines</th>\n",
              "      <th>NumberOfTime60-89DaysPastDueNotWorse</th>\n",
              "      <th>NumberOfDependents</th>\n",
              "      <th>age/10</th>\n",
              "    </tr>\n",
              "  </thead>\n",
              "  <tbody>\n",
              "    <tr>\n",
              "      <th>1</th>\n",
              "      <td>1</td>\n",
              "      <td>0.766127</td>\n",
              "      <td>45</td>\n",
              "      <td>2</td>\n",
              "      <td>0.802982</td>\n",
              "      <td>9120.0</td>\n",
              "      <td>13</td>\n",
              "      <td>0</td>\n",
              "      <td>6</td>\n",
              "      <td>0</td>\n",
              "      <td>2.0</td>\n",
              "      <td>4</td>\n",
              "    </tr>\n",
              "    <tr>\n",
              "      <th>2</th>\n",
              "      <td>0</td>\n",
              "      <td>0.957151</td>\n",
              "      <td>40</td>\n",
              "      <td>0</td>\n",
              "      <td>0.121876</td>\n",
              "      <td>2600.0</td>\n",
              "      <td>4</td>\n",
              "      <td>0</td>\n",
              "      <td>0</td>\n",
              "      <td>0</td>\n",
              "      <td>1.0</td>\n",
              "      <td>4</td>\n",
              "    </tr>\n",
              "    <tr>\n",
              "      <th>3</th>\n",
              "      <td>0</td>\n",
              "      <td>0.658180</td>\n",
              "      <td>38</td>\n",
              "      <td>1</td>\n",
              "      <td>0.085113</td>\n",
              "      <td>3042.0</td>\n",
              "      <td>2</td>\n",
              "      <td>1</td>\n",
              "      <td>0</td>\n",
              "      <td>0</td>\n",
              "      <td>0.0</td>\n",
              "      <td>3</td>\n",
              "    </tr>\n",
              "    <tr>\n",
              "      <th>4</th>\n",
              "      <td>0</td>\n",
              "      <td>0.233810</td>\n",
              "      <td>30</td>\n",
              "      <td>0</td>\n",
              "      <td>0.036050</td>\n",
              "      <td>3300.0</td>\n",
              "      <td>5</td>\n",
              "      <td>0</td>\n",
              "      <td>0</td>\n",
              "      <td>0</td>\n",
              "      <td>0.0</td>\n",
              "      <td>3</td>\n",
              "    </tr>\n",
              "    <tr>\n",
              "      <th>5</th>\n",
              "      <td>0</td>\n",
              "      <td>0.907239</td>\n",
              "      <td>49</td>\n",
              "      <td>1</td>\n",
              "      <td>0.024926</td>\n",
              "      <td>63588.0</td>\n",
              "      <td>7</td>\n",
              "      <td>0</td>\n",
              "      <td>1</td>\n",
              "      <td>0</td>\n",
              "      <td>0.0</td>\n",
              "      <td>4</td>\n",
              "    </tr>\n",
              "  </tbody>\n",
              "</table>\n",
              "</div>"
            ],
            "text/plain": [
              "   SeriousDlqin2yrs  RevolvingUtilizationOfUnsecuredLines  age  \\\n",
              "1                 1                              0.766127   45   \n",
              "2                 0                              0.957151   40   \n",
              "3                 0                              0.658180   38   \n",
              "4                 0                              0.233810   30   \n",
              "5                 0                              0.907239   49   \n",
              "\n",
              "   NumberOfTime30-59DaysPastDueNotWorse  DebtRatio  MonthlyIncome  \\\n",
              "1                                     2   0.802982         9120.0   \n",
              "2                                     0   0.121876         2600.0   \n",
              "3                                     1   0.085113         3042.0   \n",
              "4                                     0   0.036050         3300.0   \n",
              "5                                     1   0.024926        63588.0   \n",
              "\n",
              "   NumberOfOpenCreditLinesAndLoans  NumberOfTimes90DaysLate  \\\n",
              "1                               13                        0   \n",
              "2                                4                        0   \n",
              "3                                2                        1   \n",
              "4                                5                        0   \n",
              "5                                7                        0   \n",
              "\n",
              "   NumberRealEstateLoansOrLines  NumberOfTime60-89DaysPastDueNotWorse  \\\n",
              "1                             6                                     0   \n",
              "2                             0                                     0   \n",
              "3                             0                                     0   \n",
              "4                             0                                     0   \n",
              "5                             1                                     0   \n",
              "\n",
              "   NumberOfDependents  age/10  \n",
              "1                 2.0       4  \n",
              "2                 1.0       4  \n",
              "3                 0.0       3  \n",
              "4                 0.0       3  \n",
              "5                 0.0       4  "
            ]
          },
          "execution_count": 28,
          "metadata": {},
          "output_type": "execute_result"
        }
      ],
      "source": [
        "data_1['age/10'] = data_1[['age']].applymap(lambda x : int(x/10))\n",
        "data_1.head()"
      ]
    },
    {
      "cell_type": "code",
      "execution_count": 29,
      "metadata": {
        "colab": {
          "base_uri": "https://localhost:8080/"
        },
        "id": "iNfqozIau-I5",
        "outputId": "25e98b26-d73c-4ba0-a609-a4725266de8f"
      },
      "outputs": [
        {
          "data": {
            "text/plain": [
              "age/10\n",
              "0     2.000000\n",
              "2     0.293748\n",
              "3     0.928793\n",
              "4     1.303160\n",
              "5     0.849615\n",
              "6     0.363403\n",
              "7     0.187539\n",
              "8     0.114765\n",
              "9     0.086331\n",
              "10    0.100000\n",
              "Name: NumberOfDependents, dtype: float64"
            ]
          },
          "execution_count": 29,
          "metadata": {},
          "output_type": "execute_result"
        }
      ],
      "source": [
        "mean_df = data_1.groupby('age/10')['NumberOfDependents'].mean()\n",
        "mean_df"
      ]
    },
    {
      "cell_type": "code",
      "execution_count": 30,
      "metadata": {
        "id": "Tgys-NG9xV2Q"
      },
      "outputs": [],
      "source": [
        "# NumberOfDependents의 결측치 채우기\n",
        "for j in range(0, 11):\n",
        "  for i in mean_df:\n",
        "    data_1.loc[(data_1['NumberOfDependents'].isnull()) & (data_1['age/10'] == j),\n",
        "               'NumberOfDependents'] = round(i)"
      ]
    },
    {
      "cell_type": "code",
      "execution_count": 31,
      "metadata": {
        "colab": {
          "base_uri": "https://localhost:8080/"
        },
        "id": "kCnHSnWazfRQ",
        "outputId": "747d3946-862e-4da6-d797-ab5fb480190e"
      },
      "outputs": [
        {
          "name": "stdout",
          "output_type": "stream",
          "text": [
            "<class 'pandas.core.frame.DataFrame'>\n",
            "Int64Index: 150000 entries, 1 to 150000\n",
            "Data columns (total 12 columns):\n",
            " #   Column                                Non-Null Count   Dtype  \n",
            "---  ------                                --------------   -----  \n",
            " 0   SeriousDlqin2yrs                      150000 non-null  int64  \n",
            " 1   RevolvingUtilizationOfUnsecuredLines  150000 non-null  float64\n",
            " 2   age                                   150000 non-null  int64  \n",
            " 3   NumberOfTime30-59DaysPastDueNotWorse  150000 non-null  int64  \n",
            " 4   DebtRatio                             150000 non-null  float64\n",
            " 5   MonthlyIncome                         120269 non-null  float64\n",
            " 6   NumberOfOpenCreditLinesAndLoans       150000 non-null  int64  \n",
            " 7   NumberOfTimes90DaysLate               150000 non-null  int64  \n",
            " 8   NumberRealEstateLoansOrLines          150000 non-null  int64  \n",
            " 9   NumberOfTime60-89DaysPastDueNotWorse  150000 non-null  int64  \n",
            " 10  NumberOfDependents                    150000 non-null  float64\n",
            " 11  age/10                                150000 non-null  int64  \n",
            "dtypes: float64(4), int64(8)\n",
            "memory usage: 18.9 MB\n"
          ]
        }
      ],
      "source": [
        "data_1.info()"
      ]
    },
    {
      "cell_type": "code",
      "execution_count": 32,
      "metadata": {
        "colab": {
          "base_uri": "https://localhost:8080/",
          "height": 224
        },
        "id": "ZnkOhxtJ6sTN",
        "outputId": "6723f663-5212-410a-f337-4aed180e3cd0"
      },
      "outputs": [
        {
          "data": {
            "text/html": [
              "<div>\n",
              "<style scoped>\n",
              "    .dataframe tbody tr th:only-of-type {\n",
              "        vertical-align: middle;\n",
              "    }\n",
              "\n",
              "    .dataframe tbody tr th {\n",
              "        vertical-align: top;\n",
              "    }\n",
              "\n",
              "    .dataframe thead th {\n",
              "        text-align: right;\n",
              "    }\n",
              "</style>\n",
              "<table border=\"1\" class=\"dataframe\">\n",
              "  <thead>\n",
              "    <tr style=\"text-align: right;\">\n",
              "      <th></th>\n",
              "      <th>SeriousDlqin2yrs</th>\n",
              "      <th>RevolvingUtilizationOfUnsecuredLines</th>\n",
              "      <th>age</th>\n",
              "      <th>NumberOfTime30-59DaysPastDueNotWorse</th>\n",
              "      <th>DebtRatio</th>\n",
              "      <th>MonthlyIncome</th>\n",
              "      <th>NumberOfOpenCreditLinesAndLoans</th>\n",
              "      <th>NumberOfTimes90DaysLate</th>\n",
              "      <th>NumberRealEstateLoansOrLines</th>\n",
              "      <th>NumberOfTime60-89DaysPastDueNotWorse</th>\n",
              "      <th>NumberOfDependents</th>\n",
              "    </tr>\n",
              "  </thead>\n",
              "  <tbody>\n",
              "    <tr>\n",
              "      <th>1</th>\n",
              "      <td>1</td>\n",
              "      <td>0.766127</td>\n",
              "      <td>45</td>\n",
              "      <td>2</td>\n",
              "      <td>0.802982</td>\n",
              "      <td>9120.0</td>\n",
              "      <td>13</td>\n",
              "      <td>0</td>\n",
              "      <td>6</td>\n",
              "      <td>0</td>\n",
              "      <td>2.0</td>\n",
              "    </tr>\n",
              "    <tr>\n",
              "      <th>2</th>\n",
              "      <td>0</td>\n",
              "      <td>0.957151</td>\n",
              "      <td>40</td>\n",
              "      <td>0</td>\n",
              "      <td>0.121876</td>\n",
              "      <td>2600.0</td>\n",
              "      <td>4</td>\n",
              "      <td>0</td>\n",
              "      <td>0</td>\n",
              "      <td>0</td>\n",
              "      <td>1.0</td>\n",
              "    </tr>\n",
              "    <tr>\n",
              "      <th>3</th>\n",
              "      <td>0</td>\n",
              "      <td>0.658180</td>\n",
              "      <td>38</td>\n",
              "      <td>1</td>\n",
              "      <td>0.085113</td>\n",
              "      <td>3042.0</td>\n",
              "      <td>2</td>\n",
              "      <td>1</td>\n",
              "      <td>0</td>\n",
              "      <td>0</td>\n",
              "      <td>0.0</td>\n",
              "    </tr>\n",
              "    <tr>\n",
              "      <th>4</th>\n",
              "      <td>0</td>\n",
              "      <td>0.233810</td>\n",
              "      <td>30</td>\n",
              "      <td>0</td>\n",
              "      <td>0.036050</td>\n",
              "      <td>3300.0</td>\n",
              "      <td>5</td>\n",
              "      <td>0</td>\n",
              "      <td>0</td>\n",
              "      <td>0</td>\n",
              "      <td>0.0</td>\n",
              "    </tr>\n",
              "    <tr>\n",
              "      <th>5</th>\n",
              "      <td>0</td>\n",
              "      <td>0.907239</td>\n",
              "      <td>49</td>\n",
              "      <td>1</td>\n",
              "      <td>0.024926</td>\n",
              "      <td>63588.0</td>\n",
              "      <td>7</td>\n",
              "      <td>0</td>\n",
              "      <td>1</td>\n",
              "      <td>0</td>\n",
              "      <td>0.0</td>\n",
              "    </tr>\n",
              "  </tbody>\n",
              "</table>\n",
              "</div>"
            ],
            "text/plain": [
              "   SeriousDlqin2yrs  RevolvingUtilizationOfUnsecuredLines  age  \\\n",
              "1                 1                              0.766127   45   \n",
              "2                 0                              0.957151   40   \n",
              "3                 0                              0.658180   38   \n",
              "4                 0                              0.233810   30   \n",
              "5                 0                              0.907239   49   \n",
              "\n",
              "   NumberOfTime30-59DaysPastDueNotWorse  DebtRatio  MonthlyIncome  \\\n",
              "1                                     2   0.802982         9120.0   \n",
              "2                                     0   0.121876         2600.0   \n",
              "3                                     1   0.085113         3042.0   \n",
              "4                                     0   0.036050         3300.0   \n",
              "5                                     1   0.024926        63588.0   \n",
              "\n",
              "   NumberOfOpenCreditLinesAndLoans  NumberOfTimes90DaysLate  \\\n",
              "1                               13                        0   \n",
              "2                                4                        0   \n",
              "3                                2                        1   \n",
              "4                                5                        0   \n",
              "5                                7                        0   \n",
              "\n",
              "   NumberRealEstateLoansOrLines  NumberOfTime60-89DaysPastDueNotWorse  \\\n",
              "1                             6                                     0   \n",
              "2                             0                                     0   \n",
              "3                             0                                     0   \n",
              "4                             0                                     0   \n",
              "5                             1                                     0   \n",
              "\n",
              "   NumberOfDependents  \n",
              "1                 2.0  \n",
              "2                 1.0  \n",
              "3                 0.0  \n",
              "4                 0.0  \n",
              "5                 0.0  "
            ]
          },
          "execution_count": 32,
          "metadata": {},
          "output_type": "execute_result"
        }
      ],
      "source": [
        "data_1.drop('age/10', axis=1, inplace=True)\n",
        "data_1.head()"
      ]
    },
    {
      "cell_type": "markdown",
      "metadata": {
        "id": "diur50Xq5ymF"
      },
      "source": [
        "### 결측치 처리 : MonthlyIncome"
      ]
    },
    {
      "cell_type": "code",
      "execution_count": 33,
      "metadata": {
        "colab": {
          "base_uri": "https://localhost:8080/"
        },
        "id": "n-NSo8Pw5T8V",
        "outputId": "13e52362-f657-4b7f-f26b-58ffeed42fcb"
      },
      "outputs": [
        {
          "data": {
            "text/plain": [
              "0     56188\n",
              "1     52338\n",
              "2     31522\n",
              "3      6300\n",
              "4      2170\n",
              "5       689\n",
              "6       320\n",
              "7       171\n",
              "8        93\n",
              "9        78\n",
              "10       37\n",
              "11       23\n",
              "12       18\n",
              "13       15\n",
              "15        7\n",
              "14        7\n",
              "17        4\n",
              "16        4\n",
              "25        3\n",
              "18        2\n",
              "23        2\n",
              "19        2\n",
              "20        2\n",
              "26        1\n",
              "54        1\n",
              "21        1\n",
              "29        1\n",
              "32        1\n",
              "Name: NumberRealEstateLoansOrLines, dtype: int64"
            ]
          },
          "execution_count": 33,
          "metadata": {},
          "output_type": "execute_result"
        }
      ],
      "source": [
        "data_1['NumberRealEstateLoansOrLines'].value_counts()"
      ]
    },
    {
      "cell_type": "code",
      "execution_count": 34,
      "metadata": {
        "colab": {
          "base_uri": "https://localhost:8080/"
        },
        "id": "4LTvyJMe-TPm",
        "outputId": "9107f33b-a0a4-483f-efc2-be514fc76f1e"
      },
      "outputs": [
        {
          "data": {
            "text/plain": [
              "(NumberRealEstateLoansOrLines\n",
              " 0      3980.0\n",
              " 1      5539.0\n",
              " 2      7000.0\n",
              " 3      8500.0\n",
              " 4      9500.0\n",
              " 5     10600.0\n",
              " 6     11352.5\n",
              " 7     11361.5\n",
              " 8     12850.0\n",
              " 9     10291.5\n",
              " 10    11100.0\n",
              " 11    12739.0\n",
              " 12    17000.0\n",
              " 13    13539.5\n",
              " 14    15916.0\n",
              " 15     8377.0\n",
              " 16    16472.5\n",
              " 17    12080.0\n",
              " 18    10000.0\n",
              " 19    20000.0\n",
              " 20    21507.0\n",
              " 21    33334.0\n",
              " 23    14500.0\n",
              " 25    37000.0\n",
              " 26    48000.0\n",
              " 29    55966.0\n",
              " 32    70000.0\n",
              " 54     8000.0\n",
              " Name: MonthlyIncome, dtype: float64,\n",
              " (28,))"
            ]
          },
          "execution_count": 34,
          "metadata": {},
          "output_type": "execute_result"
        }
      ],
      "source": [
        "median_df = data_1['MonthlyIncome'].groupby(data_1['NumberRealEstateLoansOrLines']).median()\n",
        "median_df, median_df.shape"
      ]
    },
    {
      "cell_type": "code",
      "execution_count": 35,
      "metadata": {
        "id": "MOWW_AC0_0ds"
      },
      "outputs": [],
      "source": [
        "# MonthlyIncome 결측치 채우기\n",
        "for j in range(0, 54):\n",
        "  for i in median_df:\n",
        "    data_1.loc[(data_1['MonthlyIncome'].isnull()) & (data_1['NumberRealEstateLoansOrLines'] == j),\n",
        "               'MonthlyIncome'] = i"
      ]
    },
    {
      "cell_type": "code",
      "execution_count": 36,
      "metadata": {
        "colab": {
          "base_uri": "https://localhost:8080/"
        },
        "id": "Hsa6J54r52Eu",
        "outputId": "3fa02eca-ecbf-40e7-d032-72de7ffdcc48"
      },
      "outputs": [
        {
          "data": {
            "text/plain": [
              "SeriousDlqin2yrs                        False\n",
              "RevolvingUtilizationOfUnsecuredLines    False\n",
              "age                                     False\n",
              "NumberOfTime30-59DaysPastDueNotWorse    False\n",
              "DebtRatio                               False\n",
              "MonthlyIncome                           False\n",
              "NumberOfOpenCreditLinesAndLoans         False\n",
              "NumberOfTimes90DaysLate                 False\n",
              "NumberRealEstateLoansOrLines            False\n",
              "NumberOfTime60-89DaysPastDueNotWorse    False\n",
              "NumberOfDependents                      False\n",
              "dtype: bool"
            ]
          },
          "execution_count": 36,
          "metadata": {},
          "output_type": "execute_result"
        }
      ],
      "source": [
        "data_1.isna().any()"
      ]
    },
    {
      "cell_type": "markdown",
      "metadata": {
        "id": "vcqo0k3m89Jm"
      },
      "source": [
        "### Result\n",
        "NumberOfDependents와 MonthlyIncome의 결측치를 위와 같이 다 채우는 방향으로 진행하였다.\n",
        "\n",
        "구체적으로 NumberOfDependents의 경우에는 age를 20살 기준으로 나누어 각 평균값을 구하고, 각 나이가 해당되는 연령의 결측치에 평균값으로 채웠다.\n",
        "\n",
        "다음으로 MonthlyIncome는 앞서 언급한 대로 NumberRealEstateLoansOrLines의 숫자를 살펴보았고, 각 대출 건수에 대한 MonthlyIncome 평균값을 구했다. 이를 각 해당하는 대출 건수에 대한 결측치를 채웠다."
      ]
    },
    {
      "cell_type": "markdown",
      "metadata": {
        "id": "tm7JtSCO-YmE"
      },
      "source": [
        "## Outlier (이상치)"
      ]
    },
    {
      "cell_type": "code",
      "execution_count": 37,
      "metadata": {
        "id": "b2UMYNQdwHBC"
      },
      "outputs": [],
      "source": [
        "def get_outlier(df=None, column=None, weight=1.5):\n",
        "  # target 값과 상관관계가 높은 열을 우선적으로 진행\n",
        "  quantile_25 = np.percentile(df[column].values, 25)\n",
        "  quantile_75 = np.percentile(df[column].values, 75)\n",
        "\n",
        "  IQR = quantile_75 - quantile_25\n",
        "  IQR_weight = IQR*weight\n",
        "  \n",
        "  lowest = quantile_25 - IQR_weight\n",
        "  highest = quantile_75 + IQR_weight\n",
        "  lowest_outlier_idx = df[column][df[column] < lowest].index\n",
        "  highest_outlier_idx = df[column][df[column] > highest].index\n",
        "  return lowest, highest, lowest_outlier_idx, highest_outlier_idx"
      ]
    },
    {
      "cell_type": "code",
      "execution_count": 38,
      "metadata": {
        "colab": {
          "base_uri": "https://localhost:8080/"
        },
        "id": "60KyW3Og-YDN",
        "outputId": "0cdc84d3-edb9-4cbc-d8b1-57eaec63e2ba"
      },
      "outputs": [
        {
          "name": "stdout",
          "output_type": "stream",
          "text": [
            "<class 'pandas.core.frame.DataFrame'>\n",
            "Int64Index: 150000 entries, 1 to 150000\n",
            "Data columns (total 11 columns):\n",
            " #   Column                                Non-Null Count   Dtype  \n",
            "---  ------                                --------------   -----  \n",
            " 0   SeriousDlqin2yrs                      150000 non-null  int64  \n",
            " 1   RevolvingUtilizationOfUnsecuredLines  150000 non-null  float64\n",
            " 2   age                                   150000 non-null  int64  \n",
            " 3   NumberOfTime30-59DaysPastDueNotWorse  150000 non-null  int64  \n",
            " 4   DebtRatio                             150000 non-null  float64\n",
            " 5   MonthlyIncome                         150000 non-null  float64\n",
            " 6   NumberOfOpenCreditLinesAndLoans       150000 non-null  int64  \n",
            " 7   NumberOfTimes90DaysLate               150000 non-null  int64  \n",
            " 8   NumberRealEstateLoansOrLines          150000 non-null  int64  \n",
            " 9   NumberOfTime60-89DaysPastDueNotWorse  150000 non-null  int64  \n",
            " 10  NumberOfDependents                    150000 non-null  float64\n",
            "dtypes: float64(4), int64(7)\n",
            "memory usage: 17.8 MB\n"
          ]
        }
      ],
      "source": [
        "data_1.info()"
      ]
    },
    {
      "cell_type": "markdown",
      "metadata": {
        "id": "SoQeJijbvYbH"
      },
      "source": [
        "### 이상치 제거 : RevolvingUtilizationOfUnsecuredLines\n",
        "\n",
        "- Data의 속성상 **1** 이상의 숫자는 이상치라고 판단하여, 1.0 이상의 숫자를 1로 대체함"
      ]
    },
    {
      "cell_type": "code",
      "execution_count": 39,
      "metadata": {
        "colab": {
          "base_uri": "https://localhost:8080/"
        },
        "id": "snnyywwkvX-3",
        "outputId": "a0882bcc-72e5-42ce-84b1-ecb1388acf54"
      },
      "outputs": [
        {
          "data": {
            "text/plain": [
              "SeriousDlqin2yrs  RevolvingUtilizationOfUnsecuredLines  age  NumberOfTime30-59DaysPastDueNotWorse  DebtRatio     MonthlyIncome  NumberOfOpenCreditLinesAndLoans  NumberOfTimes90DaysLate  NumberRealEstateLoansOrLines  NumberOfTime60-89DaysPastDueNotWorse  NumberOfDependents\n",
              "0                 1.000059                              47   0                                     0.375102      9775.0         5                                1                        2                             0                                     3.0                   1\n",
              "1                 1.009081                              46   3                                     0.502533      3750.0         5                                0                        0                             0                                     4.0                   1\n",
              "                  1.007984                              34   0                                     0.109397      3564.0         2                                0                        0                             0                                     1.0                   1\n",
              "                  1.008420                              34   1                                     0.160349      7333.0         5                                0                        0                             0                                     1.0                   1\n",
              "                  1.008430                              26   0                                     0.037537      4075.0         4                                0                        0                             2                                     1.0                   1\n",
              "                                                                                                                                                                                                                                                                                   ..\n",
              "0                 1.080613                              33   4                                     0.378805      4500.0         8                                0                        2                             0                                     2.0                   1\n",
              "                  1.080964                              52   0                                     0.508098      5000.0         11                               0                        1                             0                                     1.0                   1\n",
              "                  1.080975                              63   1                                     6.293796      2739.0         9                                0                        3                             1                                     0.0                   1\n",
              "                  1.080984                              40   1                                     0.376109      3833.0         5                                0                        0                             0                                     1.0                   1\n",
              "1                 8328.000000                           39   0                                     21395.000000  3980.0         9                                0                        2                             1                                     0.0                   1\n",
              "Length: 3321, dtype: int64"
            ]
          },
          "execution_count": 39,
          "metadata": {},
          "output_type": "execute_result"
        }
      ],
      "source": [
        "# 1.0 이상의 숫자확인\n",
        "data_1[data_1['RevolvingUtilizationOfUnsecuredLines'] > 1.].value_counts()"
      ]
    },
    {
      "cell_type": "code",
      "execution_count": 40,
      "metadata": {
        "id": "5RmUXIx5aGWj"
      },
      "outputs": [],
      "source": [
        "# replace value\n",
        "data_1.loc[data_1['RevolvingUtilizationOfUnsecuredLines'] > 1., 'RevolvingUtilizationOfUnsecuredLines'] = 1"
      ]
    },
    {
      "cell_type": "code",
      "execution_count": 41,
      "metadata": {
        "colab": {
          "base_uri": "https://localhost:8080/"
        },
        "id": "T3Vq7qv2wqVv",
        "outputId": "350e0ff1-1218-4b29-c82c-aa1714f9f466"
      },
      "outputs": [
        {
          "data": {
            "text/plain": [
              "Series([], dtype: int64)"
            ]
          },
          "execution_count": 41,
          "metadata": {},
          "output_type": "execute_result"
        }
      ],
      "source": [
        "# 결과 확인\n",
        "data_1[data_1['RevolvingUtilizationOfUnsecuredLines'] > 1.].value_counts()"
      ]
    },
    {
      "cell_type": "markdown",
      "metadata": {
        "id": "vOwXt4JXBLec"
      },
      "source": [
        "### 이상치 : MonthlyIncome\n",
        "\n",
        "- 1달 월급에 대해 이상치 값을 max, min value 값으로 대체"
      ]
    },
    {
      "cell_type": "code",
      "execution_count": 42,
      "metadata": {
        "colab": {
          "base_uri": "https://localhost:8080/"
        },
        "id": "HKxa5y8sBPxV",
        "outputId": "178ee5df-4b5e-41ba-84e3-01e8559fd334"
      },
      "outputs": [
        {
          "data": {
            "text/plain": [
              "(-1342.5,\n",
              " 12645.5,\n",
              " Int64Index([], dtype='int64'),\n",
              " Int64Index([     5,     10,     14,     46,     49,     56,     57,     79,\n",
              "                124,    128,\n",
              "             ...\n",
              "             149862, 149894, 149905, 149907, 149938, 149944, 149945, 149967,\n",
              "             149970, 149971],\n",
              "            dtype='int64', length=9149))"
            ]
          },
          "execution_count": 42,
          "metadata": {},
          "output_type": "execute_result"
        }
      ],
      "source": [
        "# lowest, highest value 및 index 확인\n",
        "lowest, highest, lowest_outlier_idx, highest_outlier_idx = get_outlier(data_1, 'MonthlyIncome')\n",
        "lowest, highest, lowest_outlier_idx, highest_outlier_idx"
      ]
    },
    {
      "cell_type": "code",
      "execution_count": 43,
      "metadata": {
        "id": "UKjrIiS3BVw8"
      },
      "outputs": [],
      "source": [
        "# 이상치 값을 highest로 대체\n",
        "data_1.loc[highest_outlier_idx, 'MonthlyIncome'] = highest"
      ]
    },
    {
      "cell_type": "code",
      "execution_count": 44,
      "metadata": {
        "colab": {
          "base_uri": "https://localhost:8080/",
          "height": 338
        },
        "id": "g4jCC1ujBa-U",
        "outputId": "fd35ba02-f851-48b3-a1fc-48e2737d7e3b"
      },
      "outputs": [
        {
          "data": {
            "text/html": [
              "<div>\n",
              "<style scoped>\n",
              "    .dataframe tbody tr th:only-of-type {\n",
              "        vertical-align: middle;\n",
              "    }\n",
              "\n",
              "    .dataframe tbody tr th {\n",
              "        vertical-align: top;\n",
              "    }\n",
              "\n",
              "    .dataframe thead th {\n",
              "        text-align: right;\n",
              "    }\n",
              "</style>\n",
              "<table border=\"1\" class=\"dataframe\">\n",
              "  <thead>\n",
              "    <tr style=\"text-align: right;\">\n",
              "      <th></th>\n",
              "      <th>SeriousDlqin2yrs</th>\n",
              "      <th>RevolvingUtilizationOfUnsecuredLines</th>\n",
              "      <th>age</th>\n",
              "      <th>NumberOfTime30-59DaysPastDueNotWorse</th>\n",
              "      <th>DebtRatio</th>\n",
              "      <th>MonthlyIncome</th>\n",
              "      <th>NumberOfOpenCreditLinesAndLoans</th>\n",
              "      <th>NumberOfTimes90DaysLate</th>\n",
              "      <th>NumberRealEstateLoansOrLines</th>\n",
              "      <th>NumberOfTime60-89DaysPastDueNotWorse</th>\n",
              "      <th>NumberOfDependents</th>\n",
              "    </tr>\n",
              "  </thead>\n",
              "  <tbody>\n",
              "    <tr>\n",
              "      <th>count</th>\n",
              "      <td>150000.000000</td>\n",
              "      <td>150000.000000</td>\n",
              "      <td>150000.000000</td>\n",
              "      <td>150000.000000</td>\n",
              "      <td>150000.000000</td>\n",
              "      <td>150000.000000</td>\n",
              "      <td>150000.000000</td>\n",
              "      <td>150000.000000</td>\n",
              "      <td>150000.000000</td>\n",
              "      <td>150000.000000</td>\n",
              "      <td>150000.000000</td>\n",
              "    </tr>\n",
              "    <tr>\n",
              "      <th>mean</th>\n",
              "      <td>0.066840</td>\n",
              "      <td>0.319196</td>\n",
              "      <td>52.295207</td>\n",
              "      <td>0.421033</td>\n",
              "      <td>353.005076</td>\n",
              "      <td>5595.794043</td>\n",
              "      <td>8.452760</td>\n",
              "      <td>0.265973</td>\n",
              "      <td>1.018240</td>\n",
              "      <td>0.240387</td>\n",
              "      <td>0.789733</td>\n",
              "    </tr>\n",
              "    <tr>\n",
              "      <th>std</th>\n",
              "      <td>0.249746</td>\n",
              "      <td>0.349481</td>\n",
              "      <td>14.771866</td>\n",
              "      <td>4.192781</td>\n",
              "      <td>2037.818523</td>\n",
              "      <td>3140.158709</td>\n",
              "      <td>5.145951</td>\n",
              "      <td>4.169304</td>\n",
              "      <td>1.129771</td>\n",
              "      <td>4.155179</td>\n",
              "      <td>1.118140</td>\n",
              "    </tr>\n",
              "    <tr>\n",
              "      <th>min</th>\n",
              "      <td>0.000000</td>\n",
              "      <td>0.000000</td>\n",
              "      <td>0.000000</td>\n",
              "      <td>0.000000</td>\n",
              "      <td>0.000000</td>\n",
              "      <td>0.000000</td>\n",
              "      <td>0.000000</td>\n",
              "      <td>0.000000</td>\n",
              "      <td>0.000000</td>\n",
              "      <td>0.000000</td>\n",
              "      <td>0.000000</td>\n",
              "    </tr>\n",
              "    <tr>\n",
              "      <th>25%</th>\n",
              "      <td>0.000000</td>\n",
              "      <td>0.029867</td>\n",
              "      <td>41.000000</td>\n",
              "      <td>0.000000</td>\n",
              "      <td>0.175074</td>\n",
              "      <td>3903.000000</td>\n",
              "      <td>5.000000</td>\n",
              "      <td>0.000000</td>\n",
              "      <td>0.000000</td>\n",
              "      <td>0.000000</td>\n",
              "      <td>0.000000</td>\n",
              "    </tr>\n",
              "    <tr>\n",
              "      <th>50%</th>\n",
              "      <td>0.000000</td>\n",
              "      <td>0.154181</td>\n",
              "      <td>52.000000</td>\n",
              "      <td>0.000000</td>\n",
              "      <td>0.366508</td>\n",
              "      <td>4357.500000</td>\n",
              "      <td>8.000000</td>\n",
              "      <td>0.000000</td>\n",
              "      <td>1.000000</td>\n",
              "      <td>0.000000</td>\n",
              "      <td>0.000000</td>\n",
              "    </tr>\n",
              "    <tr>\n",
              "      <th>75%</th>\n",
              "      <td>0.000000</td>\n",
              "      <td>0.559046</td>\n",
              "      <td>63.000000</td>\n",
              "      <td>0.000000</td>\n",
              "      <td>0.868254</td>\n",
              "      <td>7400.000000</td>\n",
              "      <td>11.000000</td>\n",
              "      <td>0.000000</td>\n",
              "      <td>2.000000</td>\n",
              "      <td>0.000000</td>\n",
              "      <td>1.000000</td>\n",
              "    </tr>\n",
              "    <tr>\n",
              "      <th>max</th>\n",
              "      <td>1.000000</td>\n",
              "      <td>1.000000</td>\n",
              "      <td>109.000000</td>\n",
              "      <td>98.000000</td>\n",
              "      <td>329664.000000</td>\n",
              "      <td>12645.500000</td>\n",
              "      <td>58.000000</td>\n",
              "      <td>98.000000</td>\n",
              "      <td>54.000000</td>\n",
              "      <td>98.000000</td>\n",
              "      <td>20.000000</td>\n",
              "    </tr>\n",
              "  </tbody>\n",
              "</table>\n",
              "</div>"
            ],
            "text/plain": [
              "       SeriousDlqin2yrs  RevolvingUtilizationOfUnsecuredLines            age  \\\n",
              "count     150000.000000                         150000.000000  150000.000000   \n",
              "mean           0.066840                              0.319196      52.295207   \n",
              "std            0.249746                              0.349481      14.771866   \n",
              "min            0.000000                              0.000000       0.000000   \n",
              "25%            0.000000                              0.029867      41.000000   \n",
              "50%            0.000000                              0.154181      52.000000   \n",
              "75%            0.000000                              0.559046      63.000000   \n",
              "max            1.000000                              1.000000     109.000000   \n",
              "\n",
              "       NumberOfTime30-59DaysPastDueNotWorse      DebtRatio  MonthlyIncome  \\\n",
              "count                         150000.000000  150000.000000  150000.000000   \n",
              "mean                               0.421033     353.005076    5595.794043   \n",
              "std                                4.192781    2037.818523    3140.158709   \n",
              "min                                0.000000       0.000000       0.000000   \n",
              "25%                                0.000000       0.175074    3903.000000   \n",
              "50%                                0.000000       0.366508    4357.500000   \n",
              "75%                                0.000000       0.868254    7400.000000   \n",
              "max                               98.000000  329664.000000   12645.500000   \n",
              "\n",
              "       NumberOfOpenCreditLinesAndLoans  NumberOfTimes90DaysLate  \\\n",
              "count                    150000.000000            150000.000000   \n",
              "mean                          8.452760                 0.265973   \n",
              "std                           5.145951                 4.169304   \n",
              "min                           0.000000                 0.000000   \n",
              "25%                           5.000000                 0.000000   \n",
              "50%                           8.000000                 0.000000   \n",
              "75%                          11.000000                 0.000000   \n",
              "max                          58.000000                98.000000   \n",
              "\n",
              "       NumberRealEstateLoansOrLines  NumberOfTime60-89DaysPastDueNotWorse  \\\n",
              "count                 150000.000000                         150000.000000   \n",
              "mean                       1.018240                              0.240387   \n",
              "std                        1.129771                              4.155179   \n",
              "min                        0.000000                              0.000000   \n",
              "25%                        0.000000                              0.000000   \n",
              "50%                        1.000000                              0.000000   \n",
              "75%                        2.000000                              0.000000   \n",
              "max                       54.000000                             98.000000   \n",
              "\n",
              "       NumberOfDependents  \n",
              "count       150000.000000  \n",
              "mean             0.789733  \n",
              "std              1.118140  \n",
              "min              0.000000  \n",
              "25%              0.000000  \n",
              "50%              0.000000  \n",
              "75%              1.000000  \n",
              "max             20.000000  "
            ]
          },
          "execution_count": 44,
          "metadata": {},
          "output_type": "execute_result"
        }
      ],
      "source": [
        "data_1.describe()"
      ]
    },
    {
      "cell_type": "markdown",
      "metadata": {
        "id": "6yreoaokDmOK"
      },
      "source": [
        "### 이상치 제거 : DebtRatio\n",
        "\n",
        "- Data의 속성상 **Highest** 이상의 숫자는 이상치를 대체함"
      ]
    },
    {
      "cell_type": "code",
      "execution_count": 45,
      "metadata": {
        "colab": {
          "base_uri": "https://localhost:8080/"
        },
        "id": "OJcb6JVwxmIx",
        "outputId": "970a312c-d7aa-4d35-f964-3f8867d36c84"
      },
      "outputs": [
        {
          "data": {
            "text/plain": [
              "(-0.8646960792499998,\n",
              " 1.9080236847499998,\n",
              " Int64Index([], dtype='int64'),\n",
              " Int64Index([     7,      9,     15,     17,     33,     42,     45,     51,\n",
              "                 59,     63,\n",
              "             ...\n",
              "             149961, 149964, 149966, 149968, 149976, 149977, 149978, 149985,\n",
              "             149993, 149998],\n",
              "            dtype='int64', length=31311))"
            ]
          },
          "execution_count": 45,
          "metadata": {},
          "output_type": "execute_result"
        }
      ],
      "source": [
        "# lowest, highest value 및 index 확인\n",
        "lowest, highest, lowest_outlier_idx, highest_outlier_idx = get_outlier(data_1, 'DebtRatio')\n",
        "lowest, highest, lowest_outlier_idx, highest_outlier_idx"
      ]
    },
    {
      "cell_type": "code",
      "execution_count": 46,
      "metadata": {
        "id": "A2qz6jGv1BtY"
      },
      "outputs": [],
      "source": [
        "# 이상치 값을 highest로 대체\n",
        "data_1.loc[highest_outlier_idx, 'DebtRatio'] = highest"
      ]
    },
    {
      "cell_type": "code",
      "execution_count": 47,
      "metadata": {
        "colab": {
          "base_uri": "https://localhost:8080/",
          "height": 338
        },
        "id": "imvzptgpDaGh",
        "outputId": "ef0d31dd-fe69-40a9-96bd-66105919beb3"
      },
      "outputs": [
        {
          "data": {
            "text/html": [
              "<div>\n",
              "<style scoped>\n",
              "    .dataframe tbody tr th:only-of-type {\n",
              "        vertical-align: middle;\n",
              "    }\n",
              "\n",
              "    .dataframe tbody tr th {\n",
              "        vertical-align: top;\n",
              "    }\n",
              "\n",
              "    .dataframe thead th {\n",
              "        text-align: right;\n",
              "    }\n",
              "</style>\n",
              "<table border=\"1\" class=\"dataframe\">\n",
              "  <thead>\n",
              "    <tr style=\"text-align: right;\">\n",
              "      <th></th>\n",
              "      <th>SeriousDlqin2yrs</th>\n",
              "      <th>RevolvingUtilizationOfUnsecuredLines</th>\n",
              "      <th>age</th>\n",
              "      <th>NumberOfTime30-59DaysPastDueNotWorse</th>\n",
              "      <th>DebtRatio</th>\n",
              "      <th>MonthlyIncome</th>\n",
              "      <th>NumberOfOpenCreditLinesAndLoans</th>\n",
              "      <th>NumberOfTimes90DaysLate</th>\n",
              "      <th>NumberRealEstateLoansOrLines</th>\n",
              "      <th>NumberOfTime60-89DaysPastDueNotWorse</th>\n",
              "      <th>NumberOfDependents</th>\n",
              "    </tr>\n",
              "  </thead>\n",
              "  <tbody>\n",
              "    <tr>\n",
              "      <th>count</th>\n",
              "      <td>150000.000000</td>\n",
              "      <td>150000.000000</td>\n",
              "      <td>150000.000000</td>\n",
              "      <td>150000.000000</td>\n",
              "      <td>150000.000000</td>\n",
              "      <td>150000.000000</td>\n",
              "      <td>150000.000000</td>\n",
              "      <td>150000.000000</td>\n",
              "      <td>150000.000000</td>\n",
              "      <td>150000.000000</td>\n",
              "      <td>150000.000000</td>\n",
              "    </tr>\n",
              "    <tr>\n",
              "      <th>mean</th>\n",
              "      <td>0.066840</td>\n",
              "      <td>0.319196</td>\n",
              "      <td>52.295207</td>\n",
              "      <td>0.421033</td>\n",
              "      <td>0.663258</td>\n",
              "      <td>5595.794043</td>\n",
              "      <td>8.452760</td>\n",
              "      <td>0.265973</td>\n",
              "      <td>1.018240</td>\n",
              "      <td>0.240387</td>\n",
              "      <td>0.789733</td>\n",
              "    </tr>\n",
              "    <tr>\n",
              "      <th>std</th>\n",
              "      <td>0.249746</td>\n",
              "      <td>0.349481</td>\n",
              "      <td>14.771866</td>\n",
              "      <td>4.192781</td>\n",
              "      <td>0.688085</td>\n",
              "      <td>3140.158709</td>\n",
              "      <td>5.145951</td>\n",
              "      <td>4.169304</td>\n",
              "      <td>1.129771</td>\n",
              "      <td>4.155179</td>\n",
              "      <td>1.118140</td>\n",
              "    </tr>\n",
              "    <tr>\n",
              "      <th>min</th>\n",
              "      <td>0.000000</td>\n",
              "      <td>0.000000</td>\n",
              "      <td>0.000000</td>\n",
              "      <td>0.000000</td>\n",
              "      <td>0.000000</td>\n",
              "      <td>0.000000</td>\n",
              "      <td>0.000000</td>\n",
              "      <td>0.000000</td>\n",
              "      <td>0.000000</td>\n",
              "      <td>0.000000</td>\n",
              "      <td>0.000000</td>\n",
              "    </tr>\n",
              "    <tr>\n",
              "      <th>25%</th>\n",
              "      <td>0.000000</td>\n",
              "      <td>0.029867</td>\n",
              "      <td>41.000000</td>\n",
              "      <td>0.000000</td>\n",
              "      <td>0.175074</td>\n",
              "      <td>3903.000000</td>\n",
              "      <td>5.000000</td>\n",
              "      <td>0.000000</td>\n",
              "      <td>0.000000</td>\n",
              "      <td>0.000000</td>\n",
              "      <td>0.000000</td>\n",
              "    </tr>\n",
              "    <tr>\n",
              "      <th>50%</th>\n",
              "      <td>0.000000</td>\n",
              "      <td>0.154181</td>\n",
              "      <td>52.000000</td>\n",
              "      <td>0.000000</td>\n",
              "      <td>0.366508</td>\n",
              "      <td>4357.500000</td>\n",
              "      <td>8.000000</td>\n",
              "      <td>0.000000</td>\n",
              "      <td>1.000000</td>\n",
              "      <td>0.000000</td>\n",
              "      <td>0.000000</td>\n",
              "    </tr>\n",
              "    <tr>\n",
              "      <th>75%</th>\n",
              "      <td>0.000000</td>\n",
              "      <td>0.559046</td>\n",
              "      <td>63.000000</td>\n",
              "      <td>0.000000</td>\n",
              "      <td>0.868254</td>\n",
              "      <td>7400.000000</td>\n",
              "      <td>11.000000</td>\n",
              "      <td>0.000000</td>\n",
              "      <td>2.000000</td>\n",
              "      <td>0.000000</td>\n",
              "      <td>1.000000</td>\n",
              "    </tr>\n",
              "    <tr>\n",
              "      <th>max</th>\n",
              "      <td>1.000000</td>\n",
              "      <td>1.000000</td>\n",
              "      <td>109.000000</td>\n",
              "      <td>98.000000</td>\n",
              "      <td>1.908024</td>\n",
              "      <td>12645.500000</td>\n",
              "      <td>58.000000</td>\n",
              "      <td>98.000000</td>\n",
              "      <td>54.000000</td>\n",
              "      <td>98.000000</td>\n",
              "      <td>20.000000</td>\n",
              "    </tr>\n",
              "  </tbody>\n",
              "</table>\n",
              "</div>"
            ],
            "text/plain": [
              "       SeriousDlqin2yrs  RevolvingUtilizationOfUnsecuredLines            age  \\\n",
              "count     150000.000000                         150000.000000  150000.000000   \n",
              "mean           0.066840                              0.319196      52.295207   \n",
              "std            0.249746                              0.349481      14.771866   \n",
              "min            0.000000                              0.000000       0.000000   \n",
              "25%            0.000000                              0.029867      41.000000   \n",
              "50%            0.000000                              0.154181      52.000000   \n",
              "75%            0.000000                              0.559046      63.000000   \n",
              "max            1.000000                              1.000000     109.000000   \n",
              "\n",
              "       NumberOfTime30-59DaysPastDueNotWorse      DebtRatio  MonthlyIncome  \\\n",
              "count                         150000.000000  150000.000000  150000.000000   \n",
              "mean                               0.421033       0.663258    5595.794043   \n",
              "std                                4.192781       0.688085    3140.158709   \n",
              "min                                0.000000       0.000000       0.000000   \n",
              "25%                                0.000000       0.175074    3903.000000   \n",
              "50%                                0.000000       0.366508    4357.500000   \n",
              "75%                                0.000000       0.868254    7400.000000   \n",
              "max                               98.000000       1.908024   12645.500000   \n",
              "\n",
              "       NumberOfOpenCreditLinesAndLoans  NumberOfTimes90DaysLate  \\\n",
              "count                    150000.000000            150000.000000   \n",
              "mean                          8.452760                 0.265973   \n",
              "std                           5.145951                 4.169304   \n",
              "min                           0.000000                 0.000000   \n",
              "25%                           5.000000                 0.000000   \n",
              "50%                           8.000000                 0.000000   \n",
              "75%                          11.000000                 0.000000   \n",
              "max                          58.000000                98.000000   \n",
              "\n",
              "       NumberRealEstateLoansOrLines  NumberOfTime60-89DaysPastDueNotWorse  \\\n",
              "count                 150000.000000                         150000.000000   \n",
              "mean                       1.018240                              0.240387   \n",
              "std                        1.129771                              4.155179   \n",
              "min                        0.000000                              0.000000   \n",
              "25%                        0.000000                              0.000000   \n",
              "50%                        1.000000                              0.000000   \n",
              "75%                        2.000000                              0.000000   \n",
              "max                       54.000000                             98.000000   \n",
              "\n",
              "       NumberOfDependents  \n",
              "count       150000.000000  \n",
              "mean             0.789733  \n",
              "std              1.118140  \n",
              "min              0.000000  \n",
              "25%              0.000000  \n",
              "50%              0.000000  \n",
              "75%              1.000000  \n",
              "max             20.000000  "
            ]
          },
          "execution_count": 47,
          "metadata": {},
          "output_type": "execute_result"
        }
      ],
      "source": [
        "data_1.describe()"
      ]
    },
    {
      "cell_type": "markdown",
      "metadata": {
        "id": "ErEL1ALAAcGc"
      },
      "source": [
        "### 이상치 제거  : NumberOfTime60-89DaysPastDueNotWorse\n",
        "\n",
        "- 위에서 확인한 것과 같이 96번과 98번 연체 횟수는 기간적 측면에서 볼 때 말이 되지 않는 값이라 outlier로 판단하고 데이터의 수 측면에서 크지 않다고 생각되어 삭제한다."
      ]
    },
    {
      "cell_type": "code",
      "execution_count": 48,
      "metadata": {
        "colab": {
          "base_uri": "https://localhost:8080/"
        },
        "id": "xCQyti4PAbbE",
        "outputId": "5e211eb4-8824-4d06-be6a-12a5c8710bbb"
      },
      "outputs": [
        {
          "data": {
            "text/plain": [
              "((269,), (149731, 11))"
            ]
          },
          "execution_count": 48,
          "metadata": {},
          "output_type": "execute_result"
        }
      ],
      "source": [
        "# 삭제할 index 추출 & 삭제\n",
        "data_del_idx = data_1[(data_1['NumberOfTime60-89DaysPastDueNotWorse'] == 98) | (data_1['NumberOfTime60-89DaysPastDueNotWorse'] == 96)].index\n",
        "data_1.drop(data_del_idx, inplace=True)\n",
        "data_del_idx.shape, data_1.shape"
      ]
    },
    {
      "cell_type": "code",
      "execution_count": 49,
      "metadata": {
        "colab": {
          "base_uri": "https://localhost:8080/"
        },
        "id": "-SqFGvirKvES",
        "outputId": "717ff7e0-e4af-4617-fa42-273b75c54388"
      },
      "outputs": [
        {
          "data": {
            "text/plain": [
              "0     142396\n",
              "1       5731\n",
              "2       1118\n",
              "3        318\n",
              "4        105\n",
              "5         34\n",
              "6         16\n",
              "7          9\n",
              "8          2\n",
              "11         1\n",
              "9          1\n",
              "Name: NumberOfTime60-89DaysPastDueNotWorse, dtype: int64"
            ]
          },
          "execution_count": 49,
          "metadata": {},
          "output_type": "execute_result"
        }
      ],
      "source": [
        "# 결과 확인\n",
        "data_1['NumberOfTime60-89DaysPastDueNotWorse'].value_counts()"
      ]
    },
    {
      "cell_type": "markdown",
      "metadata": {
        "id": "3JRPw48tytgN"
      },
      "source": [
        "### 이상치 : age\n",
        "\n",
        "- age 값이 0인 것은 말이 되지 않는 data로 판단하여 평균 나이로 대체"
      ]
    },
    {
      "cell_type": "code",
      "execution_count": 50,
      "metadata": {
        "id": "C9qR15q2IhLw"
      },
      "outputs": [],
      "source": [
        "# 삭제할 index 추출 & 삭제\n",
        "data_1.loc[data_1[(data_1['age'] == 0)].index] = data_1['age'].mean()"
      ]
    },
    {
      "cell_type": "code",
      "execution_count": 51,
      "metadata": {
        "colab": {
          "base_uri": "https://localhost:8080/"
        },
        "id": "py2iO2gfzXps",
        "outputId": "b9e5a610-1a06-44c2-bfd6-46e2c3dd8efb"
      },
      "outputs": [
        {
          "data": {
            "text/plain": [
              "21.0"
            ]
          },
          "execution_count": 51,
          "metadata": {},
          "output_type": "execute_result"
        }
      ],
      "source": [
        "# 결과 확인\n",
        "data_1['age'].min()"
      ]
    },
    {
      "cell_type": "code",
      "execution_count": 52,
      "metadata": {
        "colab": {
          "base_uri": "https://localhost:8080/"
        },
        "id": "nsc7qJ9w-rT8",
        "outputId": "d4cb552e-64fe-438e-b715-ac0975bb7c48"
      },
      "outputs": [
        {
          "data": {
            "text/plain": [
              "(0.000000     139851\n",
              " 1.000000       9879\n",
              " 52.327634         1\n",
              " Name: SeriousDlqin2yrs, dtype: int64,\n",
              " (149731, 11))"
            ]
          },
          "execution_count": 52,
          "metadata": {},
          "output_type": "execute_result"
        }
      ],
      "source": [
        "data_1['SeriousDlqin2yrs'].value_counts(), data_1.shape"
      ]
    },
    {
      "cell_type": "markdown",
      "metadata": {
        "id": "ZLUf9knGLDua"
      },
      "source": [
        "### Result\n",
        "\n",
        "- 각 속성에서 이상치로 판단 되는 값을 삭제 또는 대체하는 방향으로 진행.\n",
        " 추가적으로 NumberRealEstateLoansOrLines에 54건수에 대한 데이터가 이상치로 보이지만 큰 영향은 안 줄 것으로 판단하고 진행했으며, 아래와 같이 정제된 data를 통해 다시 descibe 및 correlation을 파악하는 과정을 거침."
      ]
    },
    {
      "cell_type": "code",
      "execution_count": 53,
      "metadata": {
        "colab": {
          "base_uri": "https://localhost:8080/",
          "height": 338
        },
        "id": "Mja_EgflBPfq",
        "outputId": "3c591e2c-e709-4fd4-ee96-b1ee2e0b227d"
      },
      "outputs": [
        {
          "data": {
            "text/html": [
              "<div>\n",
              "<style scoped>\n",
              "    .dataframe tbody tr th:only-of-type {\n",
              "        vertical-align: middle;\n",
              "    }\n",
              "\n",
              "    .dataframe tbody tr th {\n",
              "        vertical-align: top;\n",
              "    }\n",
              "\n",
              "    .dataframe thead th {\n",
              "        text-align: right;\n",
              "    }\n",
              "</style>\n",
              "<table border=\"1\" class=\"dataframe\">\n",
              "  <thead>\n",
              "    <tr style=\"text-align: right;\">\n",
              "      <th></th>\n",
              "      <th>SeriousDlqin2yrs</th>\n",
              "      <th>RevolvingUtilizationOfUnsecuredLines</th>\n",
              "      <th>age</th>\n",
              "      <th>NumberOfTime30-59DaysPastDueNotWorse</th>\n",
              "      <th>DebtRatio</th>\n",
              "      <th>MonthlyIncome</th>\n",
              "      <th>NumberOfOpenCreditLinesAndLoans</th>\n",
              "      <th>NumberOfTimes90DaysLate</th>\n",
              "      <th>NumberRealEstateLoansOrLines</th>\n",
              "      <th>NumberOfTime60-89DaysPastDueNotWorse</th>\n",
              "      <th>NumberOfDependents</th>\n",
              "    </tr>\n",
              "  </thead>\n",
              "  <tbody>\n",
              "    <tr>\n",
              "      <th>count</th>\n",
              "      <td>149731.000000</td>\n",
              "      <td>149731.000000</td>\n",
              "      <td>149731.000000</td>\n",
              "      <td>149731.000000</td>\n",
              "      <td>149731.000000</td>\n",
              "      <td>149731.000000</td>\n",
              "      <td>149731.000000</td>\n",
              "      <td>149731.000000</td>\n",
              "      <td>149731.000000</td>\n",
              "      <td>149731.000000</td>\n",
              "      <td>149731.000000</td>\n",
              "    </tr>\n",
              "    <tr>\n",
              "      <th>mean</th>\n",
              "      <td>0.066328</td>\n",
              "      <td>0.318316</td>\n",
              "      <td>52.327984</td>\n",
              "      <td>0.246137</td>\n",
              "      <td>0.664433</td>\n",
              "      <td>5600.171042</td>\n",
              "      <td>8.468242</td>\n",
              "      <td>0.090805</td>\n",
              "      <td>1.020405</td>\n",
              "      <td>0.065172</td>\n",
              "      <td>0.790486</td>\n",
              "    </tr>\n",
              "    <tr>\n",
              "      <th>std</th>\n",
              "      <td>0.282607</td>\n",
              "      <td>0.373611</td>\n",
              "      <td>14.754322</td>\n",
              "      <td>0.710640</td>\n",
              "      <td>0.700819</td>\n",
              "      <td>3140.557575</td>\n",
              "      <td>5.139340</td>\n",
              "      <td>0.503945</td>\n",
              "      <td>1.137710</td>\n",
              "      <td>0.356638</td>\n",
              "      <td>1.126293</td>\n",
              "    </tr>\n",
              "    <tr>\n",
              "      <th>min</th>\n",
              "      <td>0.000000</td>\n",
              "      <td>0.000000</td>\n",
              "      <td>21.000000</td>\n",
              "      <td>0.000000</td>\n",
              "      <td>0.000000</td>\n",
              "      <td>0.000000</td>\n",
              "      <td>0.000000</td>\n",
              "      <td>0.000000</td>\n",
              "      <td>0.000000</td>\n",
              "      <td>0.000000</td>\n",
              "      <td>0.000000</td>\n",
              "    </tr>\n",
              "    <tr>\n",
              "      <th>25%</th>\n",
              "      <td>0.000000</td>\n",
              "      <td>0.029771</td>\n",
              "      <td>41.000000</td>\n",
              "      <td>0.000000</td>\n",
              "      <td>0.175998</td>\n",
              "      <td>3915.000000</td>\n",
              "      <td>5.000000</td>\n",
              "      <td>0.000000</td>\n",
              "      <td>0.000000</td>\n",
              "      <td>0.000000</td>\n",
              "      <td>0.000000</td>\n",
              "    </tr>\n",
              "    <tr>\n",
              "      <th>50%</th>\n",
              "      <td>0.000000</td>\n",
              "      <td>0.153491</td>\n",
              "      <td>52.000000</td>\n",
              "      <td>0.000000</td>\n",
              "      <td>0.367119</td>\n",
              "      <td>4375.000000</td>\n",
              "      <td>8.000000</td>\n",
              "      <td>0.000000</td>\n",
              "      <td>1.000000</td>\n",
              "      <td>0.000000</td>\n",
              "      <td>0.000000</td>\n",
              "    </tr>\n",
              "    <tr>\n",
              "      <th>75%</th>\n",
              "      <td>0.000000</td>\n",
              "      <td>0.555601</td>\n",
              "      <td>63.000000</td>\n",
              "      <td>0.000000</td>\n",
              "      <td>0.870098</td>\n",
              "      <td>7400.000000</td>\n",
              "      <td>11.000000</td>\n",
              "      <td>0.000000</td>\n",
              "      <td>2.000000</td>\n",
              "      <td>0.000000</td>\n",
              "      <td>1.000000</td>\n",
              "    </tr>\n",
              "    <tr>\n",
              "      <th>max</th>\n",
              "      <td>52.327634</td>\n",
              "      <td>52.327634</td>\n",
              "      <td>109.000000</td>\n",
              "      <td>52.327634</td>\n",
              "      <td>52.327634</td>\n",
              "      <td>12645.500000</td>\n",
              "      <td>58.000000</td>\n",
              "      <td>52.327634</td>\n",
              "      <td>54.000000</td>\n",
              "      <td>52.327634</td>\n",
              "      <td>52.327634</td>\n",
              "    </tr>\n",
              "  </tbody>\n",
              "</table>\n",
              "</div>"
            ],
            "text/plain": [
              "       SeriousDlqin2yrs  RevolvingUtilizationOfUnsecuredLines            age  \\\n",
              "count     149731.000000                         149731.000000  149731.000000   \n",
              "mean           0.066328                              0.318316      52.327984   \n",
              "std            0.282607                              0.373611      14.754322   \n",
              "min            0.000000                              0.000000      21.000000   \n",
              "25%            0.000000                              0.029771      41.000000   \n",
              "50%            0.000000                              0.153491      52.000000   \n",
              "75%            0.000000                              0.555601      63.000000   \n",
              "max           52.327634                             52.327634     109.000000   \n",
              "\n",
              "       NumberOfTime30-59DaysPastDueNotWorse      DebtRatio  MonthlyIncome  \\\n",
              "count                         149731.000000  149731.000000  149731.000000   \n",
              "mean                               0.246137       0.664433    5600.171042   \n",
              "std                                0.710640       0.700819    3140.557575   \n",
              "min                                0.000000       0.000000       0.000000   \n",
              "25%                                0.000000       0.175998    3915.000000   \n",
              "50%                                0.000000       0.367119    4375.000000   \n",
              "75%                                0.000000       0.870098    7400.000000   \n",
              "max                               52.327634      52.327634   12645.500000   \n",
              "\n",
              "       NumberOfOpenCreditLinesAndLoans  NumberOfTimes90DaysLate  \\\n",
              "count                    149731.000000            149731.000000   \n",
              "mean                          8.468242                 0.090805   \n",
              "std                           5.139340                 0.503945   \n",
              "min                           0.000000                 0.000000   \n",
              "25%                           5.000000                 0.000000   \n",
              "50%                           8.000000                 0.000000   \n",
              "75%                          11.000000                 0.000000   \n",
              "max                          58.000000                52.327634   \n",
              "\n",
              "       NumberRealEstateLoansOrLines  NumberOfTime60-89DaysPastDueNotWorse  \\\n",
              "count                 149731.000000                         149731.000000   \n",
              "mean                       1.020405                              0.065172   \n",
              "std                        1.137710                              0.356638   \n",
              "min                        0.000000                              0.000000   \n",
              "25%                        0.000000                              0.000000   \n",
              "50%                        1.000000                              0.000000   \n",
              "75%                        2.000000                              0.000000   \n",
              "max                       54.000000                             52.327634   \n",
              "\n",
              "       NumberOfDependents  \n",
              "count       149731.000000  \n",
              "mean             0.790486  \n",
              "std              1.126293  \n",
              "min              0.000000  \n",
              "25%              0.000000  \n",
              "50%              0.000000  \n",
              "75%              1.000000  \n",
              "max             52.327634  "
            ]
          },
          "execution_count": 53,
          "metadata": {},
          "output_type": "execute_result"
        }
      ],
      "source": [
        "data_1.describe()"
      ]
    },
    {
      "cell_type": "code",
      "execution_count": 54,
      "metadata": {
        "colab": {
          "base_uri": "https://localhost:8080/",
          "height": 466
        },
        "id": "9e82Nt5k7hSI",
        "outputId": "ef1903cf-4c80-4b6c-f679-3989279e3cb6"
      },
      "outputs": [
        {
          "data": {
            "text/html": [
              "<div>\n",
              "<style scoped>\n",
              "    .dataframe tbody tr th:only-of-type {\n",
              "        vertical-align: middle;\n",
              "    }\n",
              "\n",
              "    .dataframe tbody tr th {\n",
              "        vertical-align: top;\n",
              "    }\n",
              "\n",
              "    .dataframe thead th {\n",
              "        text-align: right;\n",
              "    }\n",
              "</style>\n",
              "<table border=\"1\" class=\"dataframe\">\n",
              "  <thead>\n",
              "    <tr style=\"text-align: right;\">\n",
              "      <th></th>\n",
              "      <th>SeriousDlqin2yrs</th>\n",
              "      <th>RevolvingUtilizationOfUnsecuredLines</th>\n",
              "      <th>age</th>\n",
              "      <th>NumberOfTime30-59DaysPastDueNotWorse</th>\n",
              "      <th>DebtRatio</th>\n",
              "      <th>MonthlyIncome</th>\n",
              "      <th>NumberOfOpenCreditLinesAndLoans</th>\n",
              "      <th>NumberOfTimes90DaysLate</th>\n",
              "      <th>NumberRealEstateLoansOrLines</th>\n",
              "      <th>NumberOfTime60-89DaysPastDueNotWorse</th>\n",
              "      <th>NumberOfDependents</th>\n",
              "    </tr>\n",
              "  </thead>\n",
              "  <tbody>\n",
              "    <tr>\n",
              "      <th>SeriousDlqin2yrs</th>\n",
              "      <td>1.000000</td>\n",
              "      <td>0.396667</td>\n",
              "      <td>-0.099242</td>\n",
              "      <td>0.327321</td>\n",
              "      <td>0.095887</td>\n",
              "      <td>-0.044779</td>\n",
              "      <td>-0.010740</td>\n",
              "      <td>0.394215</td>\n",
              "      <td>0.052246</td>\n",
              "      <td>0.398974</td>\n",
              "      <td>0.094476</td>\n",
              "    </tr>\n",
              "    <tr>\n",
              "      <th>RevolvingUtilizationOfUnsecuredLines</th>\n",
              "      <td>0.396667</td>\n",
              "      <td>1.000000</td>\n",
              "      <td>-0.257877</td>\n",
              "      <td>0.287712</td>\n",
              "      <td>0.052901</td>\n",
              "      <td>-0.074939</td>\n",
              "      <td>-0.137297</td>\n",
              "      <td>0.311633</td>\n",
              "      <td>-0.019280</td>\n",
              "      <td>0.305576</td>\n",
              "      <td>0.116002</td>\n",
              "    </tr>\n",
              "    <tr>\n",
              "      <th>age</th>\n",
              "      <td>-0.099242</td>\n",
              "      <td>-0.257877</td>\n",
              "      <td>1.000000</td>\n",
              "      <td>-0.070545</td>\n",
              "      <td>0.081595</td>\n",
              "      <td>0.066750</td>\n",
              "      <td>0.144707</td>\n",
              "      <td>-0.079381</td>\n",
              "      <td>0.031067</td>\n",
              "      <td>-0.064651</td>\n",
              "      <td>-0.190034</td>\n",
              "    </tr>\n",
              "    <tr>\n",
              "      <th>NumberOfTime30-59DaysPastDueNotWorse</th>\n",
              "      <td>0.327321</td>\n",
              "      <td>0.287712</td>\n",
              "      <td>-0.070545</td>\n",
              "      <td>1.000000</td>\n",
              "      <td>0.038136</td>\n",
              "      <td>0.005719</td>\n",
              "      <td>0.082782</td>\n",
              "      <td>0.257108</td>\n",
              "      <td>0.063770</td>\n",
              "      <td>0.349700</td>\n",
              "      <td>0.078548</td>\n",
              "    </tr>\n",
              "    <tr>\n",
              "      <th>DebtRatio</th>\n",
              "      <td>0.095887</td>\n",
              "      <td>0.052901</td>\n",
              "      <td>0.081595</td>\n",
              "      <td>0.038136</td>\n",
              "      <td>1.000000</td>\n",
              "      <td>-0.340649</td>\n",
              "      <td>0.038110</td>\n",
              "      <td>0.045500</td>\n",
              "      <td>0.152695</td>\n",
              "      <td>0.075136</td>\n",
              "      <td>-0.048157</td>\n",
              "    </tr>\n",
              "    <tr>\n",
              "      <th>MonthlyIncome</th>\n",
              "      <td>-0.044779</td>\n",
              "      <td>-0.074939</td>\n",
              "      <td>0.066750</td>\n",
              "      <td>0.005719</td>\n",
              "      <td>-0.340649</td>\n",
              "      <td>1.000000</td>\n",
              "      <td>0.278214</td>\n",
              "      <td>-0.054865</td>\n",
              "      <td>0.334639</td>\n",
              "      <td>-0.030809</td>\n",
              "      <td>0.195676</td>\n",
              "    </tr>\n",
              "    <tr>\n",
              "      <th>NumberOfOpenCreditLinesAndLoans</th>\n",
              "      <td>-0.010740</td>\n",
              "      <td>-0.137297</td>\n",
              "      <td>0.144707</td>\n",
              "      <td>0.082782</td>\n",
              "      <td>0.038110</td>\n",
              "      <td>0.278214</td>\n",
              "      <td>1.000000</td>\n",
              "      <td>-0.084509</td>\n",
              "      <td>0.432186</td>\n",
              "      <td>-0.011918</td>\n",
              "      <td>0.049191</td>\n",
              "    </tr>\n",
              "    <tr>\n",
              "      <th>NumberOfTimes90DaysLate</th>\n",
              "      <td>0.394215</td>\n",
              "      <td>0.311633</td>\n",
              "      <td>-0.079381</td>\n",
              "      <td>0.257108</td>\n",
              "      <td>0.045500</td>\n",
              "      <td>-0.054865</td>\n",
              "      <td>-0.084509</td>\n",
              "      <td>1.000000</td>\n",
              "      <td>-0.028558</td>\n",
              "      <td>0.364175</td>\n",
              "      <td>0.058651</td>\n",
              "    </tr>\n",
              "    <tr>\n",
              "      <th>NumberRealEstateLoansOrLines</th>\n",
              "      <td>0.052246</td>\n",
              "      <td>-0.019280</td>\n",
              "      <td>0.031067</td>\n",
              "      <td>0.063770</td>\n",
              "      <td>0.152695</td>\n",
              "      <td>0.334639</td>\n",
              "      <td>0.432186</td>\n",
              "      <td>-0.028558</td>\n",
              "      <td>1.000000</td>\n",
              "      <td>0.025114</td>\n",
              "      <td>0.122492</td>\n",
              "    </tr>\n",
              "    <tr>\n",
              "      <th>NumberOfTime60-89DaysPastDueNotWorse</th>\n",
              "      <td>0.398974</td>\n",
              "      <td>0.305576</td>\n",
              "      <td>-0.064651</td>\n",
              "      <td>0.349700</td>\n",
              "      <td>0.075136</td>\n",
              "      <td>-0.030809</td>\n",
              "      <td>-0.011918</td>\n",
              "      <td>0.364175</td>\n",
              "      <td>0.025114</td>\n",
              "      <td>1.000000</td>\n",
              "      <td>0.075592</td>\n",
              "    </tr>\n",
              "    <tr>\n",
              "      <th>NumberOfDependents</th>\n",
              "      <td>0.094476</td>\n",
              "      <td>0.116002</td>\n",
              "      <td>-0.190034</td>\n",
              "      <td>0.078548</td>\n",
              "      <td>-0.048157</td>\n",
              "      <td>0.195676</td>\n",
              "      <td>0.049191</td>\n",
              "      <td>0.058651</td>\n",
              "      <td>0.122492</td>\n",
              "      <td>0.075592</td>\n",
              "      <td>1.000000</td>\n",
              "    </tr>\n",
              "  </tbody>\n",
              "</table>\n",
              "</div>"
            ],
            "text/plain": [
              "                                      SeriousDlqin2yrs  \\\n",
              "SeriousDlqin2yrs                              1.000000   \n",
              "RevolvingUtilizationOfUnsecuredLines          0.396667   \n",
              "age                                          -0.099242   \n",
              "NumberOfTime30-59DaysPastDueNotWorse          0.327321   \n",
              "DebtRatio                                     0.095887   \n",
              "MonthlyIncome                                -0.044779   \n",
              "NumberOfOpenCreditLinesAndLoans              -0.010740   \n",
              "NumberOfTimes90DaysLate                       0.394215   \n",
              "NumberRealEstateLoansOrLines                  0.052246   \n",
              "NumberOfTime60-89DaysPastDueNotWorse          0.398974   \n",
              "NumberOfDependents                            0.094476   \n",
              "\n",
              "                                      RevolvingUtilizationOfUnsecuredLines  \\\n",
              "SeriousDlqin2yrs                                                  0.396667   \n",
              "RevolvingUtilizationOfUnsecuredLines                              1.000000   \n",
              "age                                                              -0.257877   \n",
              "NumberOfTime30-59DaysPastDueNotWorse                              0.287712   \n",
              "DebtRatio                                                         0.052901   \n",
              "MonthlyIncome                                                    -0.074939   \n",
              "NumberOfOpenCreditLinesAndLoans                                  -0.137297   \n",
              "NumberOfTimes90DaysLate                                           0.311633   \n",
              "NumberRealEstateLoansOrLines                                     -0.019280   \n",
              "NumberOfTime60-89DaysPastDueNotWorse                              0.305576   \n",
              "NumberOfDependents                                                0.116002   \n",
              "\n",
              "                                           age  \\\n",
              "SeriousDlqin2yrs                     -0.099242   \n",
              "RevolvingUtilizationOfUnsecuredLines -0.257877   \n",
              "age                                   1.000000   \n",
              "NumberOfTime30-59DaysPastDueNotWorse -0.070545   \n",
              "DebtRatio                             0.081595   \n",
              "MonthlyIncome                         0.066750   \n",
              "NumberOfOpenCreditLinesAndLoans       0.144707   \n",
              "NumberOfTimes90DaysLate              -0.079381   \n",
              "NumberRealEstateLoansOrLines          0.031067   \n",
              "NumberOfTime60-89DaysPastDueNotWorse -0.064651   \n",
              "NumberOfDependents                   -0.190034   \n",
              "\n",
              "                                      NumberOfTime30-59DaysPastDueNotWorse  \\\n",
              "SeriousDlqin2yrs                                                  0.327321   \n",
              "RevolvingUtilizationOfUnsecuredLines                              0.287712   \n",
              "age                                                              -0.070545   \n",
              "NumberOfTime30-59DaysPastDueNotWorse                              1.000000   \n",
              "DebtRatio                                                         0.038136   \n",
              "MonthlyIncome                                                     0.005719   \n",
              "NumberOfOpenCreditLinesAndLoans                                   0.082782   \n",
              "NumberOfTimes90DaysLate                                           0.257108   \n",
              "NumberRealEstateLoansOrLines                                      0.063770   \n",
              "NumberOfTime60-89DaysPastDueNotWorse                              0.349700   \n",
              "NumberOfDependents                                                0.078548   \n",
              "\n",
              "                                      DebtRatio  MonthlyIncome  \\\n",
              "SeriousDlqin2yrs                       0.095887      -0.044779   \n",
              "RevolvingUtilizationOfUnsecuredLines   0.052901      -0.074939   \n",
              "age                                    0.081595       0.066750   \n",
              "NumberOfTime30-59DaysPastDueNotWorse   0.038136       0.005719   \n",
              "DebtRatio                              1.000000      -0.340649   \n",
              "MonthlyIncome                         -0.340649       1.000000   \n",
              "NumberOfOpenCreditLinesAndLoans        0.038110       0.278214   \n",
              "NumberOfTimes90DaysLate                0.045500      -0.054865   \n",
              "NumberRealEstateLoansOrLines           0.152695       0.334639   \n",
              "NumberOfTime60-89DaysPastDueNotWorse   0.075136      -0.030809   \n",
              "NumberOfDependents                    -0.048157       0.195676   \n",
              "\n",
              "                                      NumberOfOpenCreditLinesAndLoans  \\\n",
              "SeriousDlqin2yrs                                            -0.010740   \n",
              "RevolvingUtilizationOfUnsecuredLines                        -0.137297   \n",
              "age                                                          0.144707   \n",
              "NumberOfTime30-59DaysPastDueNotWorse                         0.082782   \n",
              "DebtRatio                                                    0.038110   \n",
              "MonthlyIncome                                                0.278214   \n",
              "NumberOfOpenCreditLinesAndLoans                              1.000000   \n",
              "NumberOfTimes90DaysLate                                     -0.084509   \n",
              "NumberRealEstateLoansOrLines                                 0.432186   \n",
              "NumberOfTime60-89DaysPastDueNotWorse                        -0.011918   \n",
              "NumberOfDependents                                           0.049191   \n",
              "\n",
              "                                      NumberOfTimes90DaysLate  \\\n",
              "SeriousDlqin2yrs                                     0.394215   \n",
              "RevolvingUtilizationOfUnsecuredLines                 0.311633   \n",
              "age                                                 -0.079381   \n",
              "NumberOfTime30-59DaysPastDueNotWorse                 0.257108   \n",
              "DebtRatio                                            0.045500   \n",
              "MonthlyIncome                                       -0.054865   \n",
              "NumberOfOpenCreditLinesAndLoans                     -0.084509   \n",
              "NumberOfTimes90DaysLate                              1.000000   \n",
              "NumberRealEstateLoansOrLines                        -0.028558   \n",
              "NumberOfTime60-89DaysPastDueNotWorse                 0.364175   \n",
              "NumberOfDependents                                   0.058651   \n",
              "\n",
              "                                      NumberRealEstateLoansOrLines  \\\n",
              "SeriousDlqin2yrs                                          0.052246   \n",
              "RevolvingUtilizationOfUnsecuredLines                     -0.019280   \n",
              "age                                                       0.031067   \n",
              "NumberOfTime30-59DaysPastDueNotWorse                      0.063770   \n",
              "DebtRatio                                                 0.152695   \n",
              "MonthlyIncome                                             0.334639   \n",
              "NumberOfOpenCreditLinesAndLoans                           0.432186   \n",
              "NumberOfTimes90DaysLate                                  -0.028558   \n",
              "NumberRealEstateLoansOrLines                              1.000000   \n",
              "NumberOfTime60-89DaysPastDueNotWorse                      0.025114   \n",
              "NumberOfDependents                                        0.122492   \n",
              "\n",
              "                                      NumberOfTime60-89DaysPastDueNotWorse  \\\n",
              "SeriousDlqin2yrs                                                  0.398974   \n",
              "RevolvingUtilizationOfUnsecuredLines                              0.305576   \n",
              "age                                                              -0.064651   \n",
              "NumberOfTime30-59DaysPastDueNotWorse                              0.349700   \n",
              "DebtRatio                                                         0.075136   \n",
              "MonthlyIncome                                                    -0.030809   \n",
              "NumberOfOpenCreditLinesAndLoans                                  -0.011918   \n",
              "NumberOfTimes90DaysLate                                           0.364175   \n",
              "NumberRealEstateLoansOrLines                                      0.025114   \n",
              "NumberOfTime60-89DaysPastDueNotWorse                              1.000000   \n",
              "NumberOfDependents                                                0.075592   \n",
              "\n",
              "                                      NumberOfDependents  \n",
              "SeriousDlqin2yrs                                0.094476  \n",
              "RevolvingUtilizationOfUnsecuredLines            0.116002  \n",
              "age                                            -0.190034  \n",
              "NumberOfTime30-59DaysPastDueNotWorse            0.078548  \n",
              "DebtRatio                                      -0.048157  \n",
              "MonthlyIncome                                   0.195676  \n",
              "NumberOfOpenCreditLinesAndLoans                 0.049191  \n",
              "NumberOfTimes90DaysLate                         0.058651  \n",
              "NumberRealEstateLoansOrLines                    0.122492  \n",
              "NumberOfTime60-89DaysPastDueNotWorse            0.075592  \n",
              "NumberOfDependents                              1.000000  "
            ]
          },
          "execution_count": 54,
          "metadata": {},
          "output_type": "execute_result"
        }
      ],
      "source": [
        "# data column별 상관관계 분석\n",
        "df_corr = data_1.corr()\n",
        "df_corr"
      ]
    },
    {
      "cell_type": "code",
      "execution_count": 55,
      "metadata": {
        "colab": {
          "base_uri": "https://localhost:8080/",
          "height": 834
        },
        "id": "3NJOUIYo7hSK",
        "outputId": "f6c8bf9a-d7f9-47f8-b5fe-53f8d5dd5360"
      },
      "outputs": [
        {
          "data": {
            "text/plain": [
              "<AxesSubplot:title={'center':'correlation'}>"
            ]
          },
          "execution_count": 55,
          "metadata": {},
          "output_type": "execute_result"
        },
        {
          "data": {
            "image/png": "[encoded data removed]",
            "text/plain": [
              "<Figure size 1080x720 with 2 Axes>"
            ]
          },
          "metadata": {
            "needs_background": "light"
          },
          "output_type": "display_data"
        }
      ],
      "source": [
        "plt.figure(figsize=(15, 10))\n",
        "plt.title('correlation')\n",
        "sns.heatmap(df_corr, \n",
        "            annot = True,      \n",
        "            cmap = 'RdYlBu_r',\n",
        "            fmt='.2f',\n",
        "            vmin = -1, vmax = 1)"
      ]
    },
    {
      "cell_type": "markdown",
      "metadata": {
        "id": "jkTr09a6spDm"
      },
      "source": [
        "# 2. Base line model\n",
        "## Import"
      ]
    },
    {
      "cell_type": "code",
      "execution_count": 56,
      "metadata": {
        "id": "vk_ACTtsssJQ"
      },
      "outputs": [],
      "source": [
        "from sklearn.preprocessing import MinMaxScaler, StandardScaler\n",
        "from sklearn.model_selection import train_test_split\n",
        "\n",
        "from sklearn.tree import DecisionTreeClassifier\n",
        "from sklearn.neighbors import KNeighborsClassifier\n",
        "from sklearn.svm import SVC\n",
        "from sklearn.linear_model import LogisticRegression\n",
        "from sklearn.ensemble import RandomForestClassifier, GradientBoostingClassifier, VotingClassifier\n",
        "from xgboost import XGBClassifier\n",
        "\n",
        "from imblearn.over_sampling import SMOTE\n",
        "\n",
        "from sklearn.metrics import accuracy_score, precision_score, recall_score, f1_score, plot_roc_curve, plot_confusion_matrix, roc_auc_score"
      ]
    },
    {
      "cell_type": "code",
      "execution_count": 57,
      "metadata": {
        "id": "CcaCfo9WTyzN"
      },
      "outputs": [],
      "source": [
        "def print_metrics_classifier(y, pred, title=None):\n",
        "    \"\"\"\n",
        "    accuracy, recall, precision, f1 출력하는 함수\n",
        "    [parameter]\n",
        "    y : target (ndarray)\n",
        "    pred : prediction (ndarray)\n",
        "    title : (str)\n",
        "    [Return]\n",
        "    [Exception]\n",
        "    \"\"\"\n",
        "    if title:\n",
        "      print(title)\n",
        "    print('정확도(Accuracy): ', accuracy_score(y, pred))\n",
        "    print('재현률(Recall): ', recall_score(y, pred))\n",
        "    print('정밀도(Precision): ', precision_score(y, pred))\n",
        "    print('f1 score: ', f1_score(y, pred))\n",
        "    print('roc_auc_score', roc_auc_score(y, pred))\n",
        "    print()"
      ]
    },
    {
      "cell_type": "markdown",
      "metadata": {
        "id": "FOTPidknUM1m"
      },
      "source": [
        "### 결측치 있는 열 그대로 삭제 후 적용"
      ]
    },
    {
      "cell_type": "code",
      "execution_count": 58,
      "metadata": {
        "colab": {
          "base_uri": "https://localhost:8080/"
        },
        "id": "2f4vyMRyTwAv",
        "outputId": "04779b0e-631d-4d87-a111-5800751f79f9"
      },
      "outputs": [
        {
          "data": {
            "text/plain": [
              "((143246, 10), (35812, 10), (24054, 10))"
            ]
          },
          "execution_count": 58,
          "metadata": {},
          "output_type": "execute_result"
        }
      ],
      "source": [
        "data_0 = data.copy()\n",
        "data_0.dropna(axis=0, inplace=True)\n",
        "\n",
        "X = data_0.drop('SeriousDlqin2yrs', axis=1)\n",
        "y = data_0['SeriousDlqin2yrs']\n",
        "\n",
        "X_train, X_test, y_train, y_test = train_test_split(X, y,\n",
        "                                                    test_size=0.2,\n",
        "                                                    random_state=157,\n",
        "                                                    stratify=y\n",
        "                                                    )\n",
        "smt = SMOTE(random_state=157)\n",
        "X_train, y_train = smt.fit_resample(X_train, y_train)\n",
        "\n",
        "X_train, X_val, y_train, y_val = train_test_split(X_train, y_train,\n",
        "                                                  test_size=0.2,\n",
        "                                                  random_state=157,\n",
        "                                                  stratify=y_train\n",
        "                                                  )\n",
        "\n",
        "X_train.shape, X_val.shape, X_test.shape"
      ]
    },
    {
      "cell_type": "code",
      "execution_count": 59,
      "metadata": {
        "colab": {
          "base_uri": "https://localhost:8080/"
        },
        "id": "-s4bqVAVT-3-",
        "outputId": "140c67e2-297b-4f80-c82f-18d565a64376"
      },
      "outputs": [
        {
          "name": "stdout",
          "output_type": "stream",
          "text": [
            "<class 'pandas.core.frame.DataFrame'>\n",
            "Int64Index: 120269 entries, 1 to 150000\n",
            "Data columns (total 11 columns):\n",
            " #   Column                                Non-Null Count   Dtype  \n",
            "---  ------                                --------------   -----  \n",
            " 0   SeriousDlqin2yrs                      120269 non-null  int64  \n",
            " 1   RevolvingUtilizationOfUnsecuredLines  120269 non-null  float64\n",
            " 2   age                                   120269 non-null  int64  \n",
            " 3   NumberOfTime30-59DaysPastDueNotWorse  120269 non-null  int64  \n",
            " 4   DebtRatio                             120269 non-null  float64\n",
            " 5   MonthlyIncome                         120269 non-null  float64\n",
            " 6   NumberOfOpenCreditLinesAndLoans       120269 non-null  int64  \n",
            " 7   NumberOfTimes90DaysLate               120269 non-null  int64  \n",
            " 8   NumberRealEstateLoansOrLines          120269 non-null  int64  \n",
            " 9   NumberOfTime60-89DaysPastDueNotWorse  120269 non-null  int64  \n",
            " 10  NumberOfDependents                    120269 non-null  float64\n",
            "dtypes: float64(4), int64(7)\n",
            "memory usage: 11.0 MB\n"
          ]
        }
      ],
      "source": [
        "data_0.info()"
      ]
    },
    {
      "cell_type": "code",
      "execution_count": 60,
      "metadata": {
        "colab": {
          "base_uri": "https://localhost:8080/"
        },
        "id": "WlwM17DpUCMG",
        "outputId": "eef4fdb7-1767-451e-ca70-b3b719bc503c"
      },
      "outputs": [
        {
          "name": "stdout",
          "output_type": "stream",
          "text": [
            "RandomForest train\n",
            "정확도(Accuracy):  0.9999790570068274\n",
            "재현률(Recall):  0.9999720760091032\n",
            "정밀도(Precision):  0.9999860378096116\n",
            "f1 score:  0.9999790568606235\n",
            "roc_auc_score 0.9999790570068273\n",
            "\n",
            "RandomForest validation\n",
            "정확도(Accuracy):  0.9168435161398414\n",
            "재현률(Recall):  0.9082988942253993\n",
            "정밀도(Precision):  0.9240909090909091\n",
            "f1 score:  0.9161268517996959\n",
            "roc_auc_score 0.9168435161398413\n",
            "\n",
            "RandomForest test\n",
            "정확도(Accuracy):  0.8840109753055625\n",
            "재현률(Recall):  0.4374625972471574\n",
            "정밀도(Precision):  0.28322355676094535\n",
            "f1 score:  0.3438381937911571\n",
            "roc_auc_score 0.6774052922794783\n",
            "\n"
          ]
        }
      ],
      "source": [
        "rf = RandomForestClassifier(random_state=157)\n",
        "rf.fit(X_train, y_train)\n",
        "\n",
        "pred_train = rf.predict(X_train)\n",
        "pred_val = rf.predict(X_val)\n",
        "pred_test = rf.predict(X_test)\n",
        "\n",
        "print_metrics_classifier(y_train, pred_train, 'RandomForest train')\n",
        "print_metrics_classifier(y_val, pred_val, 'RandomForest validation')\n",
        "print_metrics_classifier(y_test, pred_test, 'RandomForest test')"
      ]
    },
    {
      "cell_type": "markdown",
      "metadata": {
        "id": "Ms9ugqaVUhnW"
      },
      "source": [
        "### 결측치 Preprocessing 적용한 Data 활용"
      ]
    },
    {
      "cell_type": "code",
      "execution_count": 61,
      "metadata": {
        "colab": {
          "base_uri": "https://localhost:8080/"
        },
        "id": "XMgNw-RBssdG",
        "outputId": "e4e8ad50-734e-4483-f255-3310e5aeb18a"
      },
      "outputs": [
        {
          "data": {
            "text/plain": [
              "((149731, 10), (149731,))"
            ]
          },
          "execution_count": 61,
          "metadata": {},
          "output_type": "execute_result"
        }
      ],
      "source": [
        "X = data_1.drop('SeriousDlqin2yrs', axis=1)\n",
        "y = data_1['SeriousDlqin2yrs']\n",
        "\n",
        "X.shape, y.shape"
      ]
    },
    {
      "cell_type": "code",
      "execution_count": 62,
      "metadata": {
        "colab": {
          "base_uri": "https://localhost:8080/"
        },
        "id": "0q1WCEfDbSgE",
        "outputId": "3c539944-fd8d-4d07-d720-94c573b81529"
      },
      "outputs": [
        {
          "ename": "ValueError",
          "evalue": "The least populated class in y has only 1 member, which is too few. The minimum number of groups for any class cannot be less than 2.",
          "output_type": "error",
          "traceback": [
            "\u001b[1;31m---------------------------------------------------------------------------\u001b[0m",
            "\u001b[1;31mValueError\u001b[0m                                Traceback (most recent call last)",
            "\u001b[1;32m~\\AppData\\Local\\Temp/ipykernel_7740/502043870.py\u001b[0m in \u001b[0;36m<module>\u001b[1;34m\u001b[0m\n\u001b[0;32m      1\u001b[0m \u001b[1;31m# train / validataion / test set split & imbalanced data processing\u001b[0m\u001b[1;33m\u001b[0m\u001b[1;33m\u001b[0m\u001b[1;33m\u001b[0m\u001b[0m\n\u001b[1;32m----> 2\u001b[1;33m X_train, X_test, y_train, y_test = train_test_split(X, y,\n\u001b[0m\u001b[0;32m      3\u001b[0m                                                     \u001b[0mtest_size\u001b[0m\u001b[1;33m=\u001b[0m\u001b[1;36m0.2\u001b[0m\u001b[1;33m,\u001b[0m\u001b[1;33m\u001b[0m\u001b[1;33m\u001b[0m\u001b[0m\n\u001b[0;32m      4\u001b[0m                                                     \u001b[0mrandom_state\u001b[0m\u001b[1;33m=\u001b[0m\u001b[1;36m157\u001b[0m\u001b[1;33m,\u001b[0m\u001b[1;33m\u001b[0m\u001b[1;33m\u001b[0m\u001b[0m\n\u001b[0;32m      5\u001b[0m                                                     \u001b[0mstratify\u001b[0m\u001b[1;33m=\u001b[0m\u001b[0my\u001b[0m\u001b[1;33m\u001b[0m\u001b[1;33m\u001b[0m\u001b[0m\n",
            "\u001b[1;32m~\\anaconda3\\envs\\ml\\lib\\site-packages\\sklearn\\model_selection\\_split.py\u001b[0m in \u001b[0;36mtrain_test_split\u001b[1;34m(test_size, train_size, random_state, shuffle, stratify, *arrays)\u001b[0m\n\u001b[0;32m   2441\u001b[0m         \u001b[0mcv\u001b[0m \u001b[1;33m=\u001b[0m \u001b[0mCVClass\u001b[0m\u001b[1;33m(\u001b[0m\u001b[0mtest_size\u001b[0m\u001b[1;33m=\u001b[0m\u001b[0mn_test\u001b[0m\u001b[1;33m,\u001b[0m \u001b[0mtrain_size\u001b[0m\u001b[1;33m=\u001b[0m\u001b[0mn_train\u001b[0m\u001b[1;33m,\u001b[0m \u001b[0mrandom_state\u001b[0m\u001b[1;33m=\u001b[0m\u001b[0mrandom_state\u001b[0m\u001b[1;33m)\u001b[0m\u001b[1;33m\u001b[0m\u001b[1;33m\u001b[0m\u001b[0m\n\u001b[0;32m   2442\u001b[0m \u001b[1;33m\u001b[0m\u001b[0m\n\u001b[1;32m-> 2443\u001b[1;33m         \u001b[0mtrain\u001b[0m\u001b[1;33m,\u001b[0m \u001b[0mtest\u001b[0m \u001b[1;33m=\u001b[0m \u001b[0mnext\u001b[0m\u001b[1;33m(\u001b[0m\u001b[0mcv\u001b[0m\u001b[1;33m.\u001b[0m\u001b[0msplit\u001b[0m\u001b[1;33m(\u001b[0m\u001b[0mX\u001b[0m\u001b[1;33m=\u001b[0m\u001b[0marrays\u001b[0m\u001b[1;33m[\u001b[0m\u001b[1;36m0\u001b[0m\u001b[1;33m]\u001b[0m\u001b[1;33m,\u001b[0m \u001b[0my\u001b[0m\u001b[1;33m=\u001b[0m\u001b[0mstratify\u001b[0m\u001b[1;33m)\u001b[0m\u001b[1;33m)\u001b[0m\u001b[1;33m\u001b[0m\u001b[1;33m\u001b[0m\u001b[0m\n\u001b[0m\u001b[0;32m   2444\u001b[0m \u001b[1;33m\u001b[0m\u001b[0m\n\u001b[0;32m   2445\u001b[0m     return list(\n",
            "\u001b[1;32m~\\anaconda3\\envs\\ml\\lib\\site-packages\\sklearn\\model_selection\\_split.py\u001b[0m in \u001b[0;36msplit\u001b[1;34m(self, X, y, groups)\u001b[0m\n\u001b[0;32m   1598\u001b[0m         \"\"\"\n\u001b[0;32m   1599\u001b[0m         \u001b[0mX\u001b[0m\u001b[1;33m,\u001b[0m \u001b[0my\u001b[0m\u001b[1;33m,\u001b[0m \u001b[0mgroups\u001b[0m \u001b[1;33m=\u001b[0m \u001b[0mindexable\u001b[0m\u001b[1;33m(\u001b[0m\u001b[0mX\u001b[0m\u001b[1;33m,\u001b[0m \u001b[0my\u001b[0m\u001b[1;33m,\u001b[0m \u001b[0mgroups\u001b[0m\u001b[1;33m)\u001b[0m\u001b[1;33m\u001b[0m\u001b[1;33m\u001b[0m\u001b[0m\n\u001b[1;32m-> 1600\u001b[1;33m         \u001b[1;32mfor\u001b[0m \u001b[0mtrain\u001b[0m\u001b[1;33m,\u001b[0m \u001b[0mtest\u001b[0m \u001b[1;32min\u001b[0m \u001b[0mself\u001b[0m\u001b[1;33m.\u001b[0m\u001b[0m_iter_indices\u001b[0m\u001b[1;33m(\u001b[0m\u001b[0mX\u001b[0m\u001b[1;33m,\u001b[0m \u001b[0my\u001b[0m\u001b[1;33m,\u001b[0m \u001b[0mgroups\u001b[0m\u001b[1;33m)\u001b[0m\u001b[1;33m:\u001b[0m\u001b[1;33m\u001b[0m\u001b[1;33m\u001b[0m\u001b[0m\n\u001b[0m\u001b[0;32m   1601\u001b[0m             \u001b[1;32myield\u001b[0m \u001b[0mtrain\u001b[0m\u001b[1;33m,\u001b[0m \u001b[0mtest\u001b[0m\u001b[1;33m\u001b[0m\u001b[1;33m\u001b[0m\u001b[0m\n\u001b[0;32m   1602\u001b[0m \u001b[1;33m\u001b[0m\u001b[0m\n",
            "\u001b[1;32m~\\anaconda3\\envs\\ml\\lib\\site-packages\\sklearn\\model_selection\\_split.py\u001b[0m in \u001b[0;36m_iter_indices\u001b[1;34m(self, X, y, groups)\u001b[0m\n\u001b[0;32m   1938\u001b[0m         \u001b[0mclass_counts\u001b[0m \u001b[1;33m=\u001b[0m \u001b[0mnp\u001b[0m\u001b[1;33m.\u001b[0m\u001b[0mbincount\u001b[0m\u001b[1;33m(\u001b[0m\u001b[0my_indices\u001b[0m\u001b[1;33m)\u001b[0m\u001b[1;33m\u001b[0m\u001b[1;33m\u001b[0m\u001b[0m\n\u001b[0;32m   1939\u001b[0m         \u001b[1;32mif\u001b[0m \u001b[0mnp\u001b[0m\u001b[1;33m.\u001b[0m\u001b[0mmin\u001b[0m\u001b[1;33m(\u001b[0m\u001b[0mclass_counts\u001b[0m\u001b[1;33m)\u001b[0m \u001b[1;33m<\u001b[0m \u001b[1;36m2\u001b[0m\u001b[1;33m:\u001b[0m\u001b[1;33m\u001b[0m\u001b[1;33m\u001b[0m\u001b[0m\n\u001b[1;32m-> 1940\u001b[1;33m             raise ValueError(\n\u001b[0m\u001b[0;32m   1941\u001b[0m                 \u001b[1;34m\"The least populated class in y has only 1\"\u001b[0m\u001b[1;33m\u001b[0m\u001b[1;33m\u001b[0m\u001b[0m\n\u001b[0;32m   1942\u001b[0m                 \u001b[1;34m\" member, which is too few. The minimum\"\u001b[0m\u001b[1;33m\u001b[0m\u001b[1;33m\u001b[0m\u001b[0m\n",
            "\u001b[1;31mValueError\u001b[0m: The least populated class in y has only 1 member, which is too few. The minimum number of groups for any class cannot be less than 2."
          ]
        }
      ],
      "source": [
        "# train / validataion / test set split & imbalanced data processing\n",
        "X_train, X_test, y_train, y_test = train_test_split(X, y,\n",
        "                                                    test_size=0.2,\n",
        "                                                    random_state=157,\n",
        "                                                    stratify=y\n",
        "                                                    )\n",
        "\n",
        "smt = SMOTE(random_state=157)\n",
        "X_train, y_train = smt.fit_resample(X_train, y_train)\n",
        "\n",
        "X_train, X_val, y_train, y_val = train_test_split(X_train, y_train,\n",
        "                                                  test_size=0.2,\n",
        "                                                  random_state=157,\n",
        "                                                  stratify=y_train\n",
        "                                                  )\n",
        "\n",
        "X_train.shape, X_val.shape, X_test.shape"
      ]
    },
    {
      "cell_type": "code",
      "execution_count": null,
      "metadata": {
        "id": "QXtRHTezXBEH"
      },
      "outputs": [],
      "source": [
        "# scaling\n",
        "scaler = StandardScaler()\n",
        "\n",
        "X_train_scaled = scaler.fit_transform(X_train)\n",
        "X_val_scaled = scaler.transform(X_val)\n",
        "X_test_scaled = scaler.transform(X_test)"
      ]
    },
    {
      "cell_type": "code",
      "execution_count": null,
      "metadata": {
        "colab": {
          "base_uri": "https://localhost:8080/"
        },
        "id": "SrDOQ47mssYW",
        "outputId": "cfbe9ffd-15e1-47a3-82de-10fa744072b3"
      },
      "outputs": [
        {
          "name": "stdout",
          "output_type": "stream",
          "text": [
            "grb train\n",
            "정확도(Accuracy):  0.9452206313649034\n",
            "재현률(Recall):  0.9149768169376012\n",
            "정밀도(Precision):  0.973885433637369\n",
            "f1 score:  0.9435125233300308\n",
            "roc_auc_score 0.9452208003172097\n",
            "\n",
            "grb validation\n",
            "정확도(Accuracy):  0.946148861528836\n",
            "재현률(Recall):  0.9174562030747229\n",
            "정밀도(Precision):  0.9733074151337\n",
            "f1 score:  0.9445569154320419\n",
            "roc_auc_score 0.9461482204094176\n",
            "\n",
            "grb test\n",
            "정확도(Accuracy):  0.9309423629199225\n",
            "재현률(Recall):  0.29959514170040485\n",
            "정밀도(Precision):  0.46394984326018807\n",
            "f1 score:  0.3640836408364084\n",
            "roc_auc_score 0.6375701843646822\n",
            "\n"
          ]
        }
      ],
      "source": [
        "grb = GradientBoostingClassifier(random_state=157)\n",
        "grb.fit(X_train, y_train)\n",
        "\n",
        "pred_train = grb.predict(X_train)\n",
        "pred_val = grb.predict(X_val)\n",
        "pred_test = grb.predict(X_test)\n",
        "\n",
        "print_metrics_classifier(y_train, pred_train, 'grb train')\n",
        "print_metrics_classifier(y_val, pred_val, 'grb validation')\n",
        "print_metrics_classifier(y_test, pred_test, 'grb test')"
      ]
    },
    {
      "cell_type": "code",
      "execution_count": null,
      "metadata": {
        "colab": {
          "base_uri": "https://localhost:8080/"
        },
        "id": "0lT3AD0PRZwo",
        "outputId": "3226daa9-fb7a-4761-a385-d75d523da1e3"
      },
      "outputs": [
        {
          "name": "stdout",
          "output_type": "stream",
          "text": [
            "RandomForest train\n",
            "정확도(Accuracy):  0.9998603422174304\n",
            "재현률(Recall):  0.9998435841573097\n",
            "정밀도(Precision):  0.9998770977184868\n",
            "f1 score:  0.9998603406570693\n",
            "roc_auc_score 0.9998603423110467\n",
            "\n",
            "RandomForest validation\n",
            "정확도(Accuracy):  0.961790271043282\n",
            "재현률(Recall):  0.9437790489810511\n",
            "정밀도(Precision):  0.979044969865554\n",
            "f1 score:  0.9610886087470988\n",
            "roc_auc_score 0.961789868593846\n",
            "\n",
            "RandomForest test\n",
            "정확도(Accuracy):  0.933914379215922\n",
            "재현률(Recall):  0.2479757085020243\n",
            "정밀도(Precision):  0.49847405900305186\n",
            "f1 score:  0.33119297059817504\n",
            "roc_auc_score 0.6151748403075011\n",
            "\n"
          ]
        }
      ],
      "source": [
        "rf = RandomForestClassifier(random_state=157)\n",
        "rf.fit(X_train, y_train)\n",
        "\n",
        "pred_train = rf.predict(X_train)\n",
        "pred_val = rf.predict(X_val)\n",
        "pred_test = rf.predict(X_test)\n",
        "\n",
        "print_metrics_classifier(y_train, pred_train, 'RandomForest train')\n",
        "print_metrics_classifier(y_val, pred_val, 'RandomForest validation')\n",
        "print_metrics_classifier(y_test, pred_test, 'RandomForest test')"
      ]
    },
    {
      "cell_type": "code",
      "execution_count": null,
      "metadata": {
        "colab": {
          "base_uri": "https://localhost:8080/"
        },
        "id": "UauGGgH6__V7",
        "outputId": "f6baec9d-b744-4524-ba85-126c43e3e8da"
      },
      "outputs": [
        {
          "data": {
            "text/plain": [
              "RevolvingUtilizationOfUnsecuredLines    0.205054\n",
              "age                                     0.137449\n",
              "NumberOfTime30-59DaysPastDueNotWorse    0.050792\n",
              "DebtRatio                               0.151963\n",
              "MonthlyIncome                           0.141428\n",
              "NumberOfOpenCreditLinesAndLoans         0.096355\n",
              "NumberOfTimes90DaysLate                 0.087155\n",
              "NumberRealEstateLoansOrLines            0.037602\n",
              "NumberOfTime60-89DaysPastDueNotWorse    0.046361\n",
              "NumberOfDependents                      0.045842\n",
              "dtype: float64"
            ]
          },
          "execution_count": 69,
          "metadata": {},
          "output_type": "execute_result"
        }
      ],
      "source": [
        "# fi = pd.Series(rf.feature_importances_, index=X.columns)\n",
        "# fi"
      ]
    },
    {
      "cell_type": "code",
      "execution_count": null,
      "metadata": {
        "colab": {
          "base_uri": "https://localhost:8080/"
        },
        "id": "2LXyhQTbStNP",
        "outputId": "dd2efe57-e6f5-4a04-a5cf-da1629823dbb"
      },
      "outputs": [
        {
          "name": "stdout",
          "output_type": "stream",
          "text": [
            "LogisticRegression train\n",
            "정확도(Accuracy):  0.7981609863191236\n",
            "재현률(Recall):  0.7719121836768895\n",
            "정밀도(Precision):  0.8146829233780629\n",
            "f1 score:  0.7927210560435084\n",
            "roc_auc_score 0.7981611329539255\n",
            "\n",
            "LogisticRegression validation\n",
            "정확도(Accuracy):  0.8002145107590553\n",
            "재현률(Recall):  0.7736414015016089\n",
            "정밀도(Precision):  0.8170576296785765\n",
            "f1 score:  0.7947570185708055\n",
            "roc_auc_score 0.8002139169996313\n",
            "\n",
            "LogisticRegression test\n",
            "정확도(Accuracy):  0.8193748747745943\n",
            "재현률(Recall):  0.7327935222672065\n",
            "정밀도(Precision):  0.22878811818612735\n",
            "f1 score:  0.3487055990367249\n",
            "roc_auc_score 0.7791425602040358\n",
            "\n"
          ]
        }
      ],
      "source": [
        "lr = LogisticRegression(random_state=157)\n",
        "lr.fit(X_train_scaled, y_train)\n",
        "\n",
        "pred_train = lr.predict(X_train_scaled)\n",
        "pred_val = lr.predict(X_val_scaled)\n",
        "pred_test = lr.predict(X_test_scaled)\n",
        "\n",
        "print_metrics_classifier(y_train, pred_train, 'LogisticRegression train')\n",
        "print_metrics_classifier(y_val, pred_val, 'LogisticRegression validation')\n",
        "print_metrics_classifier(y_test, pred_test, 'LogisticRegression test')"
      ]
    },
    {
      "cell_type": "code",
      "execution_count": null,
      "metadata": {
        "colab": {
          "base_uri": "https://localhost:8080/"
        },
        "id": "Umj3p8McyKlm",
        "outputId": "ce6d67a5-66ac-44ff-ae1e-1aebdbac1852"
      },
      "outputs": [
        {
          "name": "stdout",
          "output_type": "stream",
          "text": [
            "K-NN train\n",
            "정확도(Accuracy):  0.9328972286309627\n",
            "재현률(Recall):  0.9610971454108709\n",
            "정밀도(Precision):  0.9097860459213352\n",
            "f1 score:  0.9347379630333916\n",
            "roc_auc_score 0.9328970710965688\n",
            "\n",
            "K-NN validation\n",
            "정확도(Accuracy):  0.8976828369047885\n",
            "재현률(Recall):  0.9303271362173757\n",
            "정밀도(Precision):  0.8733062046398457\n",
            "f1 score:  0.9009153268560794\n",
            "roc_auc_score 0.8976835663211382\n",
            "\n",
            "K-NN test\n",
            "정확도(Accuracy):  0.8477259066319375\n",
            "재현률(Recall):  0.5688259109311741\n",
            "정밀도(Precision):  0.2326158940397351\n",
            "f1 score:  0.33019976498237374\n",
            "roc_auc_score 0.7181276497809249\n",
            "\n"
          ]
        }
      ],
      "source": [
        "knn = KNeighborsClassifier()\n",
        "knn.fit(X_train_scaled, y_train)\n",
        "\n",
        "pred_train = knn.predict(X_train_scaled)\n",
        "pred_val = knn.predict(X_val_scaled)\n",
        "pred_test = knn.predict(X_test_scaled)\n",
        "\n",
        "print_metrics_classifier(y_train, pred_train, 'K-NN train')\n",
        "print_metrics_classifier(y_val, pred_val, 'K-NN validation')\n",
        "print_metrics_classifier(y_test, pred_test, 'K-NN test')"
      ]
    },
    {
      "cell_type": "code",
      "execution_count": null,
      "metadata": {
        "colab": {
          "base_uri": "https://localhost:8080/"
        },
        "id": "sC1EmsnRjVR9",
        "outputId": "2b4895a6-f4e0-45e5-ecc8-7ab9c734564a"
      },
      "outputs": [
        {
          "name": "stdout",
          "output_type": "stream",
          "text": [
            "xgb train\n",
            "정확도(Accuracy):  0.9091442329715266\n",
            "재현률(Recall):  0.9185296910787107\n",
            "정밀도(Precision):  0.9016066238964742\n",
            "f1 score:  0.9099894847528918\n",
            "roc_auc_score 0.9091441805411429\n",
            "\n",
            "xgb validation\n",
            "정확도(Accuracy):  0.9107322414139835\n",
            "재현률(Recall):  0.922640328923847\n",
            "정밀도(Precision):  0.9011742110087738\n",
            "f1 score:  0.9117809429170806\n",
            "roc_auc_score 0.910732507492714\n",
            "\n",
            "xgb test\n",
            "정확도(Accuracy):  0.8770453482935952\n",
            "재현률(Recall):  0.5460526315789473\n",
            "정밀도(Precision):  0.27924430641821946\n",
            "f1 score:  0.36952054794520545\n",
            "roc_auc_score 0.7232408313418512\n",
            "\n"
          ]
        }
      ],
      "source": [
        "xgb = XGBClassifier(random_state=157)\n",
        "xgb.fit(X_train, y_train)\n",
        "\n",
        "pred_train = xgb.predict(X_train)\n",
        "pred_val = xgb.predict(X_val)\n",
        "pred_test = xgb.predict(X_test)\n",
        "\n",
        "print_metrics_classifier(y_train, pred_train, 'xgb train')\n",
        "print_metrics_classifier(y_val, pred_val, 'xgb validation')\n",
        "print_metrics_classifier(y_test, pred_test, 'xgb test')"
      ]
    },
    {
      "cell_type": "code",
      "execution_count": null,
      "metadata": {
        "id": "IfnK9uw5SRG3"
      },
      "outputs": [],
      "source": [
        "svc = SVC()\n",
        "svc.fit(X_train_scaled, y_train)\n",
        "\n",
        "pred_train = svc.predict(X_train_scaled)\n",
        "pred_val = svc.predict(X_val_scaled)\n",
        "pred_test = svc.predict(X_test_scaled)\n",
        "\n",
        "print_metrics_classifier(y_train, pred_train, 'SVC train')\n",
        "print_metrics_classifier(y_val, pred_val, 'SVC validation')\n",
        "print_metrics_classifier(y_test, pred_test, 'SVC test')"
      ]
    },
    {
      "cell_type": "markdown",
      "metadata": {
        "id": "tYGMOwqZ3089"
      },
      "source": [
        "## Hyper-parameter Tuning\n",
        "### Import"
      ]
    },
    {
      "cell_type": "code",
      "execution_count": null,
      "metadata": {
        "id": "HKIFEOwR74EE"
      },
      "outputs": [],
      "source": [
        "from sklearn.model_selection import GridSearchCV\n",
        "from sklearn.pipeline import Pipeline"
      ]
    },
    {
      "cell_type": "code",
      "execution_count": null,
      "metadata": {
        "colab": {
          "base_uri": "https://localhost:8080/",
          "height": 382
        },
        "id": "KuPjKb9XeNDK",
        "outputId": "3e7a1db0-f928-4bbb-d0bc-afc61289d2cb"
      },
      "outputs": [
        {
          "name": "stdout",
          "output_type": "stream",
          "text": [
            "[('xgb', XGBClassifier(random_state=157))]\n"
          ]
        },
        {
          "ename": "KeyboardInterrupt",
          "evalue": "ignored",
          "output_type": "error",
          "traceback": [
            "\u001b[0;31m---------------------------------------------------------------------------\u001b[0m",
            "\u001b[0;31mKeyboardInterrupt\u001b[0m                         Traceback (most recent call last)",
            "\u001b[0;32m<ipython-input-91-07a10bf86435>\u001b[0m in \u001b[0;36m<module>\u001b[0;34m()\u001b[0m\n\u001b[1;32m     23\u001b[0m                   n_jobs=-1)\n\u001b[1;32m     24\u001b[0m \u001b[0;34m\u001b[0m\u001b[0m\n\u001b[0;32m---> 25\u001b[0;31m \u001b[0mgs\u001b[0m\u001b[0;34m.\u001b[0m\u001b[0mfit\u001b[0m\u001b[0;34m(\u001b[0m\u001b[0mX_train\u001b[0m\u001b[0;34m,\u001b[0m \u001b[0my_train\u001b[0m\u001b[0;34m)\u001b[0m\u001b[0;34m\u001b[0m\u001b[0;34m\u001b[0m\u001b[0m\n\u001b[0m",
            "\u001b[0;32m/usr/local/lib/python3.7/dist-packages/sklearn/model_selection/_search.py\u001b[0m in \u001b[0;36mfit\u001b[0;34m(self, X, y, groups, **fit_params)\u001b[0m\n\u001b[1;32m    889\u001b[0m                 \u001b[0;32mreturn\u001b[0m \u001b[0mresults\u001b[0m\u001b[0;34m\u001b[0m\u001b[0;34m\u001b[0m\u001b[0m\n\u001b[1;32m    890\u001b[0m \u001b[0;34m\u001b[0m\u001b[0m\n\u001b[0;32m--> 891\u001b[0;31m             \u001b[0mself\u001b[0m\u001b[0;34m.\u001b[0m\u001b[0m_run_search\u001b[0m\u001b[0;34m(\u001b[0m\u001b[0mevaluate_candidates\u001b[0m\u001b[0;34m)\u001b[0m\u001b[0;34m\u001b[0m\u001b[0;34m\u001b[0m\u001b[0m\n\u001b[0m\u001b[1;32m    892\u001b[0m \u001b[0;34m\u001b[0m\u001b[0m\n\u001b[1;32m    893\u001b[0m             \u001b[0;31m# multimetric is determined here because in the case of a callable\u001b[0m\u001b[0;34m\u001b[0m\u001b[0;34m\u001b[0m\u001b[0;34m\u001b[0m\u001b[0m\n",
            "\u001b[0;32m/usr/local/lib/python3.7/dist-packages/sklearn/model_selection/_search.py\u001b[0m in \u001b[0;36m_run_search\u001b[0;34m(self, evaluate_candidates)\u001b[0m\n\u001b[1;32m   1390\u001b[0m     \u001b[0;32mdef\u001b[0m \u001b[0m_run_search\u001b[0m\u001b[0;34m(\u001b[0m\u001b[0mself\u001b[0m\u001b[0;34m,\u001b[0m \u001b[0mevaluate_candidates\u001b[0m\u001b[0;34m)\u001b[0m\u001b[0;34m:\u001b[0m\u001b[0;34m\u001b[0m\u001b[0;34m\u001b[0m\u001b[0m\n\u001b[1;32m   1391\u001b[0m         \u001b[0;34m\"\"\"Search all candidates in param_grid\"\"\"\u001b[0m\u001b[0;34m\u001b[0m\u001b[0;34m\u001b[0m\u001b[0m\n\u001b[0;32m-> 1392\u001b[0;31m         \u001b[0mevaluate_candidates\u001b[0m\u001b[0;34m(\u001b[0m\u001b[0mParameterGrid\u001b[0m\u001b[0;34m(\u001b[0m\u001b[0mself\u001b[0m\u001b[0;34m.\u001b[0m\u001b[0mparam_grid\u001b[0m\u001b[0;34m)\u001b[0m\u001b[0;34m)\u001b[0m\u001b[0;34m\u001b[0m\u001b[0;34m\u001b[0m\u001b[0m\n\u001b[0m\u001b[1;32m   1393\u001b[0m \u001b[0;34m\u001b[0m\u001b[0m\n\u001b[1;32m   1394\u001b[0m \u001b[0;34m\u001b[0m\u001b[0m\n",
            "\u001b[0;32m/usr/local/lib/python3.7/dist-packages/sklearn/model_selection/_search.py\u001b[0m in \u001b[0;36mevaluate_candidates\u001b[0;34m(candidate_params, cv, more_results)\u001b[0m\n\u001b[1;32m    849\u001b[0m                     )\n\u001b[1;32m    850\u001b[0m                     for (cand_idx, parameters), (split_idx, (train, test)) in product(\n\u001b[0;32m--> 851\u001b[0;31m                         \u001b[0menumerate\u001b[0m\u001b[0;34m(\u001b[0m\u001b[0mcandidate_params\u001b[0m\u001b[0;34m)\u001b[0m\u001b[0;34m,\u001b[0m \u001b[0menumerate\u001b[0m\u001b[0;34m(\u001b[0m\u001b[0mcv\u001b[0m\u001b[0;34m.\u001b[0m\u001b[0msplit\u001b[0m\u001b[0;34m(\u001b[0m\u001b[0mX\u001b[0m\u001b[0;34m,\u001b[0m \u001b[0my\u001b[0m\u001b[0;34m,\u001b[0m \u001b[0mgroups\u001b[0m\u001b[0;34m)\u001b[0m\u001b[0;34m)\u001b[0m\u001b[0;34m\u001b[0m\u001b[0;34m\u001b[0m\u001b[0m\n\u001b[0m\u001b[1;32m    852\u001b[0m                     )\n\u001b[1;32m    853\u001b[0m                 )\n",
            "\u001b[0;32m/usr/local/lib/python3.7/dist-packages/joblib/parallel.py\u001b[0m in \u001b[0;36m__call__\u001b[0;34m(self, iterable)\u001b[0m\n\u001b[1;32m   1054\u001b[0m \u001b[0;34m\u001b[0m\u001b[0m\n\u001b[1;32m   1055\u001b[0m             \u001b[0;32mwith\u001b[0m \u001b[0mself\u001b[0m\u001b[0;34m.\u001b[0m\u001b[0m_backend\u001b[0m\u001b[0;34m.\u001b[0m\u001b[0mretrieval_context\u001b[0m\u001b[0;34m(\u001b[0m\u001b[0;34m)\u001b[0m\u001b[0;34m:\u001b[0m\u001b[0;34m\u001b[0m\u001b[0;34m\u001b[0m\u001b[0m\n\u001b[0;32m-> 1056\u001b[0;31m                 \u001b[0mself\u001b[0m\u001b[0;34m.\u001b[0m\u001b[0mretrieve\u001b[0m\u001b[0;34m(\u001b[0m\u001b[0;34m)\u001b[0m\u001b[0;34m\u001b[0m\u001b[0;34m\u001b[0m\u001b[0m\n\u001b[0m\u001b[1;32m   1057\u001b[0m             \u001b[0;31m# Make sure that we get a last message telling us we are done\u001b[0m\u001b[0;34m\u001b[0m\u001b[0;34m\u001b[0m\u001b[0;34m\u001b[0m\u001b[0m\n\u001b[1;32m   1058\u001b[0m             \u001b[0melapsed_time\u001b[0m \u001b[0;34m=\u001b[0m \u001b[0mtime\u001b[0m\u001b[0;34m.\u001b[0m\u001b[0mtime\u001b[0m\u001b[0;34m(\u001b[0m\u001b[0;34m)\u001b[0m \u001b[0;34m-\u001b[0m \u001b[0mself\u001b[0m\u001b[0;34m.\u001b[0m\u001b[0m_start_time\u001b[0m\u001b[0;34m\u001b[0m\u001b[0;34m\u001b[0m\u001b[0m\n",
            "\u001b[0;32m/usr/local/lib/python3.7/dist-packages/joblib/parallel.py\u001b[0m in \u001b[0;36mretrieve\u001b[0;34m(self)\u001b[0m\n\u001b[1;32m    933\u001b[0m             \u001b[0;32mtry\u001b[0m\u001b[0;34m:\u001b[0m\u001b[0;34m\u001b[0m\u001b[0;34m\u001b[0m\u001b[0m\n\u001b[1;32m    934\u001b[0m                 \u001b[0;32mif\u001b[0m \u001b[0mgetattr\u001b[0m\u001b[0;34m(\u001b[0m\u001b[0mself\u001b[0m\u001b[0;34m.\u001b[0m\u001b[0m_backend\u001b[0m\u001b[0;34m,\u001b[0m \u001b[0;34m'supports_timeout'\u001b[0m\u001b[0;34m,\u001b[0m \u001b[0;32mFalse\u001b[0m\u001b[0;34m)\u001b[0m\u001b[0;34m:\u001b[0m\u001b[0;34m\u001b[0m\u001b[0;34m\u001b[0m\u001b[0m\n\u001b[0;32m--> 935\u001b[0;31m                     \u001b[0mself\u001b[0m\u001b[0;34m.\u001b[0m\u001b[0m_output\u001b[0m\u001b[0;34m.\u001b[0m\u001b[0mextend\u001b[0m\u001b[0;34m(\u001b[0m\u001b[0mjob\u001b[0m\u001b[0;34m.\u001b[0m\u001b[0mget\u001b[0m\u001b[0;34m(\u001b[0m\u001b[0mtimeout\u001b[0m\u001b[0;34m=\u001b[0m\u001b[0mself\u001b[0m\u001b[0;34m.\u001b[0m\u001b[0mtimeout\u001b[0m\u001b[0;34m)\u001b[0m\u001b[0;34m)\u001b[0m\u001b[0;34m\u001b[0m\u001b[0;34m\u001b[0m\u001b[0m\n\u001b[0m\u001b[1;32m    936\u001b[0m                 \u001b[0;32melse\u001b[0m\u001b[0;34m:\u001b[0m\u001b[0;34m\u001b[0m\u001b[0;34m\u001b[0m\u001b[0m\n\u001b[1;32m    937\u001b[0m                     \u001b[0mself\u001b[0m\u001b[0;34m.\u001b[0m\u001b[0m_output\u001b[0m\u001b[0;34m.\u001b[0m\u001b[0mextend\u001b[0m\u001b[0;34m(\u001b[0m\u001b[0mjob\u001b[0m\u001b[0;34m.\u001b[0m\u001b[0mget\u001b[0m\u001b[0;34m(\u001b[0m\u001b[0;34m)\u001b[0m\u001b[0;34m)\u001b[0m\u001b[0;34m\u001b[0m\u001b[0;34m\u001b[0m\u001b[0m\n",
            "\u001b[0;32m/usr/local/lib/python3.7/dist-packages/joblib/_parallel_backends.py\u001b[0m in \u001b[0;36mwrap_future_result\u001b[0;34m(future, timeout)\u001b[0m\n\u001b[1;32m    540\u001b[0m         AsyncResults.get from multiprocessing.\"\"\"\n\u001b[1;32m    541\u001b[0m         \u001b[0;32mtry\u001b[0m\u001b[0;34m:\u001b[0m\u001b[0;34m\u001b[0m\u001b[0;34m\u001b[0m\u001b[0m\n\u001b[0;32m--> 542\u001b[0;31m             \u001b[0;32mreturn\u001b[0m \u001b[0mfuture\u001b[0m\u001b[0;34m.\u001b[0m\u001b[0mresult\u001b[0m\u001b[0;34m(\u001b[0m\u001b[0mtimeout\u001b[0m\u001b[0;34m=\u001b[0m\u001b[0mtimeout\u001b[0m\u001b[0;34m)\u001b[0m\u001b[0;34m\u001b[0m\u001b[0;34m\u001b[0m\u001b[0m\n\u001b[0m\u001b[1;32m    543\u001b[0m         \u001b[0;32mexcept\u001b[0m \u001b[0mCfTimeoutError\u001b[0m \u001b[0;32mas\u001b[0m \u001b[0me\u001b[0m\u001b[0;34m:\u001b[0m\u001b[0;34m\u001b[0m\u001b[0;34m\u001b[0m\u001b[0m\n\u001b[1;32m    544\u001b[0m             \u001b[0;32mraise\u001b[0m \u001b[0mTimeoutError\u001b[0m \u001b[0;32mfrom\u001b[0m \u001b[0me\u001b[0m\u001b[0;34m\u001b[0m\u001b[0;34m\u001b[0m\u001b[0m\n",
            "\u001b[0;32m/usr/lib/python3.7/concurrent/futures/_base.py\u001b[0m in \u001b[0;36mresult\u001b[0;34m(self, timeout)\u001b[0m\n\u001b[1;32m    428\u001b[0m                 \u001b[0;32mreturn\u001b[0m \u001b[0mself\u001b[0m\u001b[0;34m.\u001b[0m\u001b[0m__get_result\u001b[0m\u001b[0;34m(\u001b[0m\u001b[0;34m)\u001b[0m\u001b[0;34m\u001b[0m\u001b[0;34m\u001b[0m\u001b[0m\n\u001b[1;32m    429\u001b[0m \u001b[0;34m\u001b[0m\u001b[0m\n\u001b[0;32m--> 430\u001b[0;31m             \u001b[0mself\u001b[0m\u001b[0;34m.\u001b[0m\u001b[0m_condition\u001b[0m\u001b[0;34m.\u001b[0m\u001b[0mwait\u001b[0m\u001b[0;34m(\u001b[0m\u001b[0mtimeout\u001b[0m\u001b[0;34m)\u001b[0m\u001b[0;34m\u001b[0m\u001b[0;34m\u001b[0m\u001b[0m\n\u001b[0m\u001b[1;32m    431\u001b[0m \u001b[0;34m\u001b[0m\u001b[0m\n\u001b[1;32m    432\u001b[0m             \u001b[0;32mif\u001b[0m \u001b[0mself\u001b[0m\u001b[0;34m.\u001b[0m\u001b[0m_state\u001b[0m \u001b[0;32min\u001b[0m \u001b[0;34m[\u001b[0m\u001b[0mCANCELLED\u001b[0m\u001b[0;34m,\u001b[0m \u001b[0mCANCELLED_AND_NOTIFIED\u001b[0m\u001b[0;34m]\u001b[0m\u001b[0;34m:\u001b[0m\u001b[0;34m\u001b[0m\u001b[0;34m\u001b[0m\u001b[0m\n",
            "\u001b[0;32m/usr/lib/python3.7/threading.py\u001b[0m in \u001b[0;36mwait\u001b[0;34m(self, timeout)\u001b[0m\n\u001b[1;32m    294\u001b[0m         \u001b[0;32mtry\u001b[0m\u001b[0;34m:\u001b[0m    \u001b[0;31m# restore state no matter what (e.g., KeyboardInterrupt)\u001b[0m\u001b[0;34m\u001b[0m\u001b[0;34m\u001b[0m\u001b[0m\n\u001b[1;32m    295\u001b[0m             \u001b[0;32mif\u001b[0m \u001b[0mtimeout\u001b[0m \u001b[0;32mis\u001b[0m \u001b[0;32mNone\u001b[0m\u001b[0;34m:\u001b[0m\u001b[0;34m\u001b[0m\u001b[0;34m\u001b[0m\u001b[0m\n\u001b[0;32m--> 296\u001b[0;31m                 \u001b[0mwaiter\u001b[0m\u001b[0;34m.\u001b[0m\u001b[0macquire\u001b[0m\u001b[0;34m(\u001b[0m\u001b[0;34m)\u001b[0m\u001b[0;34m\u001b[0m\u001b[0;34m\u001b[0m\u001b[0m\n\u001b[0m\u001b[1;32m    297\u001b[0m                 \u001b[0mgotit\u001b[0m \u001b[0;34m=\u001b[0m \u001b[0;32mTrue\u001b[0m\u001b[0;34m\u001b[0m\u001b[0;34m\u001b[0m\u001b[0m\n\u001b[1;32m    298\u001b[0m             \u001b[0;32melse\u001b[0m\u001b[0;34m:\u001b[0m\u001b[0;34m\u001b[0m\u001b[0;34m\u001b[0m\u001b[0m\n",
            "\u001b[0;31mKeyboardInterrupt\u001b[0m: "
          ]
        }
      ],
      "source": [
        "# # 순서대로 pipeline 구성 : Feature scaling => lr로 학습/추론\n",
        "# # 각 프로세스 등록 (\"이름\", 객체)\n",
        "\n",
        "# order = [\n",
        "    \n",
        "#     ('xgb', XGBClassifier(random_state=157))\n",
        "# ]\n",
        "# pipeline = Pipeline(order, verbose=True) # verbose=True : 어떤 단계 처리하는지 log를 남김\n",
        "# print(pipeline.steps)\n",
        "\n",
        "# param = {\n",
        "#     'xgb__learning_rate': [0.01, 0.1, 1, 10],\n",
        "#     'xgb__n_estimators':range(100, 1001, 100),\n",
        "#     'xgb__max_depth': range(1, 6),\n",
        "#     'xgb__subsample': [0.5, 0.7, 0.9, 1],\n",
        "#     'xgb__max_iter': range(100, 1001, 100)\n",
        "# }\n",
        "\n",
        "# gs = GridSearchCV(pipeline, \n",
        "#                   param, \n",
        "#                   scoring='accuracy', \n",
        "#                   cv=5, \n",
        "#                   n_jobs=-1)\n",
        "\n",
        "# gs.fit(X_train, y_train)"
      ]
    },
    {
      "cell_type": "code",
      "execution_count": null,
      "metadata": {
        "id": "zLIbassReOAq"
      },
      "outputs": [],
      "source": [
        "# gs.best_estimator_, gs.best_score_"
      ]
    },
    {
      "cell_type": "code",
      "execution_count": null,
      "metadata": {
        "id": "_i7ZuTVNeN4y"
      },
      "outputs": [],
      "source": [
        "# df = pd.DataFrame(gs.cv_results_).sort_values('rank_test_score')\n",
        "# df.head()"
      ]
    },
    {
      "cell_type": "code",
      "execution_count": null,
      "metadata": {
        "id": "MMEbY-U7eRTx"
      },
      "outputs": [],
      "source": [
        "# best = gs.best_estimator_\n",
        "# pred_train = best.predict(X_train)\n",
        "# pred_val = best.predict(X_val)\n",
        "# pred_test = best.predict(X_test)\n",
        "\n",
        "# print_metrics_classifier(y_train, pred_train, 'grb train')\n",
        "# print_metrics_classifier(y_val, pred_val, 'grb validation')\n",
        "# print_metrics_classifier(y_test, pred_test, 'grb test')"
      ]
    },
    {
      "cell_type": "code",
      "execution_count": null,
      "metadata": {
        "colab": {
          "base_uri": "https://localhost:8080/"
        },
        "id": "Ey8pcpRA4K6N",
        "outputId": "860227b4-9027-4832-e125-2a80a22b2423"
      },
      "outputs": [
        {
          "name": "stdout",
          "output_type": "stream",
          "text": [
            "[('scaler', StandardScaler()), ('lr', LogisticRegression(random_state=157))]\n",
            "[Pipeline] ............ (step 1 of 2) Processing scaler, total=   0.0s\n",
            "[Pipeline] ................ (step 2 of 2) Processing lr, total=   0.3s\n"
          ]
        },
        {
          "data": {
            "text/plain": [
              "GridSearchCV(cv=5,\n",
              "             estimator=Pipeline(steps=[('scaler', StandardScaler()),\n",
              "                                       ('lr',\n",
              "                                        LogisticRegression(random_state=157))],\n",
              "                                verbose=True),\n",
              "             n_jobs=-1,\n",
              "             param_grid={'lr__C': [0.001, 0.01, 0.1, 1, 10, 100],\n",
              "                         'lr__max_iter': range(100, 1001, 100)},\n",
              "             scoring='accuracy')"
            ]
          },
          "execution_count": 89,
          "metadata": {},
          "output_type": "execute_result"
        }
      ],
      "source": [
        "# 순서대로 pipeline 구성 : Feature scaling => lr로 학습/추론\n",
        "# 각 프로세스 등록 (\"이름\", 객체)\n",
        "\n",
        "order = [\n",
        "    ('scaler', StandardScaler()),\n",
        "    ('lr', LogisticRegression(random_state=157))\n",
        "]\n",
        "pipeline = Pipeline(order, verbose=True) # verbose=True : 어떤 단계 처리하는지 log를 남김\n",
        "print(pipeline.steps)\n",
        "\n",
        "param = {\n",
        "    'lr__C':[0.001, 0.01, 0.1, 1, 10, 100],\n",
        "    'lr__max_iter': range(100, 1001, 100)\n",
        "}\n",
        "\n",
        "gs = GridSearchCV(pipeline, \n",
        "                  param, \n",
        "                  scoring='accuracy', \n",
        "                  cv=5, \n",
        "                  n_jobs=-1)\n",
        "\n",
        "gs.fit(X_train, y_train)"
      ]
    },
    {
      "cell_type": "code",
      "execution_count": null,
      "metadata": {
        "colab": {
          "base_uri": "https://localhost:8080/"
        },
        "id": "6quXCVkV4mlj",
        "outputId": "bd39d5cf-78f4-47ba-e79d-2b08bc45089b"
      },
      "outputs": [
        {
          "data": {
            "text/plain": [
              "(Pipeline(steps=[('scaler', StandardScaler()),\n",
              "                 ('lr', LogisticRegression(C=10, random_state=157))],\n",
              "          verbose=True), 0.7753739823193265)"
            ]
          },
          "execution_count": 90,
          "metadata": {},
          "output_type": "execute_result"
        }
      ],
      "source": [
        "gs.best_estimator_, gs.best_score_"
      ]
    },
    {
      "cell_type": "code",
      "execution_count": null,
      "metadata": {
        "colab": {
          "base_uri": "https://localhost:8080/",
          "height": 400
        },
        "id": "7VJhP0fu4oiV",
        "outputId": "89fdb762-8ee1-44cd-97a7-17c7ccc9e263"
      },
      "outputs": [
        {
          "data": {
            "text/html": [
              "<div>\n",
              "<style scoped>\n",
              "    .dataframe tbody tr th:only-of-type {\n",
              "        vertical-align: middle;\n",
              "    }\n",
              "\n",
              "    .dataframe tbody tr th {\n",
              "        vertical-align: top;\n",
              "    }\n",
              "\n",
              "    .dataframe thead th {\n",
              "        text-align: right;\n",
              "    }\n",
              "</style>\n",
              "<table border=\"1\" class=\"dataframe\">\n",
              "  <thead>\n",
              "    <tr style=\"text-align: right;\">\n",
              "      <th></th>\n",
              "      <th>mean_fit_time</th>\n",
              "      <th>std_fit_time</th>\n",
              "      <th>mean_score_time</th>\n",
              "      <th>std_score_time</th>\n",
              "      <th>param_lr__C</th>\n",
              "      <th>param_lr__max_iter</th>\n",
              "      <th>params</th>\n",
              "      <th>split0_test_score</th>\n",
              "      <th>split1_test_score</th>\n",
              "      <th>split2_test_score</th>\n",
              "      <th>split3_test_score</th>\n",
              "      <th>split4_test_score</th>\n",
              "      <th>mean_test_score</th>\n",
              "      <th>std_test_score</th>\n",
              "      <th>rank_test_score</th>\n",
              "    </tr>\n",
              "  </thead>\n",
              "  <tbody>\n",
              "    <tr>\n",
              "      <th>59</th>\n",
              "      <td>0.352164</td>\n",
              "      <td>0.043982</td>\n",
              "      <td>0.011263</td>\n",
              "      <td>0.002937</td>\n",
              "      <td>100</td>\n",
              "      <td>1000</td>\n",
              "      <td>{'lr__C': 100, 'lr__max_iter': 1000}</td>\n",
              "      <td>0.775185</td>\n",
              "      <td>0.776773</td>\n",
              "      <td>0.776766</td>\n",
              "      <td>0.775802</td>\n",
              "      <td>0.772343</td>\n",
              "      <td>0.775374</td>\n",
              "      <td>0.001631</td>\n",
              "      <td>1</td>\n",
              "    </tr>\n",
              "    <tr>\n",
              "      <th>40</th>\n",
              "      <td>0.388674</td>\n",
              "      <td>0.019333</td>\n",
              "      <td>0.012479</td>\n",
              "      <td>0.000746</td>\n",
              "      <td>10</td>\n",
              "      <td>100</td>\n",
              "      <td>{'lr__C': 10, 'lr__max_iter': 100}</td>\n",
              "      <td>0.775185</td>\n",
              "      <td>0.776773</td>\n",
              "      <td>0.776766</td>\n",
              "      <td>0.775802</td>\n",
              "      <td>0.772343</td>\n",
              "      <td>0.775374</td>\n",
              "      <td>0.001631</td>\n",
              "      <td>1</td>\n",
              "    </tr>\n",
              "    <tr>\n",
              "      <th>41</th>\n",
              "      <td>0.382323</td>\n",
              "      <td>0.012248</td>\n",
              "      <td>0.012941</td>\n",
              "      <td>0.000425</td>\n",
              "      <td>10</td>\n",
              "      <td>200</td>\n",
              "      <td>{'lr__C': 10, 'lr__max_iter': 200}</td>\n",
              "      <td>0.775185</td>\n",
              "      <td>0.776773</td>\n",
              "      <td>0.776766</td>\n",
              "      <td>0.775802</td>\n",
              "      <td>0.772343</td>\n",
              "      <td>0.775374</td>\n",
              "      <td>0.001631</td>\n",
              "      <td>1</td>\n",
              "    </tr>\n",
              "    <tr>\n",
              "      <th>42</th>\n",
              "      <td>0.382477</td>\n",
              "      <td>0.017651</td>\n",
              "      <td>0.012363</td>\n",
              "      <td>0.000361</td>\n",
              "      <td>10</td>\n",
              "      <td>300</td>\n",
              "      <td>{'lr__C': 10, 'lr__max_iter': 300}</td>\n",
              "      <td>0.775185</td>\n",
              "      <td>0.776773</td>\n",
              "      <td>0.776766</td>\n",
              "      <td>0.775802</td>\n",
              "      <td>0.772343</td>\n",
              "      <td>0.775374</td>\n",
              "      <td>0.001631</td>\n",
              "      <td>1</td>\n",
              "    </tr>\n",
              "    <tr>\n",
              "      <th>43</th>\n",
              "      <td>0.377560</td>\n",
              "      <td>0.017864</td>\n",
              "      <td>0.011866</td>\n",
              "      <td>0.000301</td>\n",
              "      <td>10</td>\n",
              "      <td>400</td>\n",
              "      <td>{'lr__C': 10, 'lr__max_iter': 400}</td>\n",
              "      <td>0.775185</td>\n",
              "      <td>0.776773</td>\n",
              "      <td>0.776766</td>\n",
              "      <td>0.775802</td>\n",
              "      <td>0.772343</td>\n",
              "      <td>0.775374</td>\n",
              "      <td>0.001631</td>\n",
              "      <td>1</td>\n",
              "    </tr>\n",
              "  </tbody>\n",
              "</table>\n",
              "</div>"
            ],
            "text/plain": [
              "    mean_fit_time  std_fit_time  ...  std_test_score  rank_test_score\n",
              "59       0.352164      0.043982  ...        0.001631                1\n",
              "40       0.388674      0.019333  ...        0.001631                1\n",
              "41       0.382323      0.012248  ...        0.001631                1\n",
              "42       0.382477      0.017651  ...        0.001631                1\n",
              "43       0.377560      0.017864  ...        0.001631                1\n",
              "\n",
              "[5 rows x 15 columns]"
            ]
          },
          "execution_count": 91,
          "metadata": {},
          "output_type": "execute_result"
        }
      ],
      "source": [
        "df = pd.DataFrame(gs.cv_results_).sort_values('rank_test_score')\n",
        "df.head()"
      ]
    },
    {
      "cell_type": "code",
      "execution_count": null,
      "metadata": {
        "colab": {
          "base_uri": "https://localhost:8080/"
        },
        "id": "S-F8-jZ14qps",
        "outputId": "352f165a-debe-402a-d4f8-c5040d8061e8"
      },
      "outputs": [
        {
          "name": "stdout",
          "output_type": "stream",
          "text": [
            "LogisticRegression train\n",
            "정확도(Accuracy):  0.7754533803631579\n",
            "재현률(Recall):  0.7447800297149857\n",
            "정밀도(Precision):  0.7934559338826997\n",
            "f1 score:  0.7683478321915604\n",
            "roc_auc_score 0.7754533803631579\n",
            "\n",
            "LogisticRegression validation\n",
            "정확도(Accuracy):  0.7802703806196979\n",
            "재현률(Recall):  0.7486730481331942\n",
            "정밀도(Precision):  0.7991767554479419\n",
            "f1 score:  0.7731009767409178\n",
            "roc_auc_score 0.780270380619698\n",
            "\n",
            "LogisticRegression test\n",
            "정확도(Accuracy):  0.8028785146597208\n",
            "재현률(Recall):  0.7676556623485165\n",
            "정밀도(Precision):  0.25570712694877507\n",
            "f1 score:  0.3836274407434478\n",
            "roc_auc_score 0.7867966548958131\n",
            "\n"
          ]
        }
      ],
      "source": [
        "best = gs.best_estimator_\n",
        "pred_train = best.predict(X_train)\n",
        "pred_val = best.predict(X_val)\n",
        "pred_test = best.predict(X_test)\n",
        "\n",
        "print_metrics_classifier(y_train, pred_train, 'LogisticRegression train')\n",
        "print_metrics_classifier(y_val, pred_val, 'LogisticRegression validation')\n",
        "print_metrics_classifier(y_test, pred_test, 'LogisticRegression test')"
      ]
    },
    {
      "cell_type": "code",
      "execution_count": null,
      "metadata": {
        "colab": {
          "base_uri": "https://localhost:8080/"
        },
        "id": "Tvpt_GqmsHvS",
        "outputId": "d7f788f8-2ba9-4864-b94d-9e2ae9657c97"
      },
      "outputs": [
        {
          "name": "stdout",
          "output_type": "stream",
          "text": [
            "[('rf', RandomForestClassifier())]\n"
          ]
        },
        {
          "name": "stderr",
          "output_type": "stream",
          "text": [
            "/usr/local/lib/python3.7/dist-packages/sklearn/model_selection/_validation.py:372: FitFailedWarning: \n",
            "3750 fits failed out of a total of 6250.\n",
            "The score on these train-test partitions for these parameters will be set to nan.\n",
            "If these failures are not expected, you can try to debug them by setting error_score='raise'.\n",
            "\n",
            "Below are more details about the failures:\n",
            "--------------------------------------------------------------------------------\n",
            "3750 fits failed with the following error:\n",
            "Traceback (most recent call last):\n",
            "  File \"/usr/local/lib/python3.7/dist-packages/sklearn/model_selection/_validation.py\", line 681, in _fit_and_score\n",
            "    estimator.fit(X_train, y_train, **fit_params)\n",
            "  File \"/usr/local/lib/python3.7/dist-packages/sklearn/pipeline.py\", line 394, in fit\n",
            "    self._final_estimator.fit(Xt, y, **fit_params_last_step)\n",
            "  File \"/usr/local/lib/python3.7/dist-packages/sklearn/ensemble/_forest.py\", line 384, in fit\n",
            "    self._validate_estimator()\n",
            "  File \"/usr/local/lib/python3.7/dist-packages/sklearn/ensemble/_base.py\", line 133, in _validate_estimator\n",
            "    type(self.n_estimators)\n",
            "ValueError: n_estimators must be an integer, got <class 'float'>.\n",
            "\n",
            "  warnings.warn(some_fits_failed_message, FitFailedWarning)\n",
            "/usr/local/lib/python3.7/dist-packages/sklearn/model_selection/_search.py:972: UserWarning: One or more of the test scores are non-finite: [       nan        nan        nan ...        nan 0.77176157 0.80069418]\n",
            "  category=UserWarning,\n"
          ]
        },
        {
          "name": "stdout",
          "output_type": "stream",
          "text": [
            "[Pipeline] ................ (step 1 of 1) Processing rf, total=   1.0s\n"
          ]
        },
        {
          "data": {
            "text/plain": [
              "GridSearchCV(cv=5,\n",
              "             estimator=Pipeline(steps=[('rf', RandomForestClassifier())],\n",
              "                                verbose=True),\n",
              "             n_jobs=-1,\n",
              "             param_grid={'rf__max_depth': [1, 2, 3, 4, 5],\n",
              "                         'rf__max_leaf_nodes': [5, 10, 15, 20, 30],\n",
              "                         'rf__min_samples_leaf': range(100, 1001, 100),\n",
              "                         'rf__n_estimators': [0.001, 0.01, 0.1, 1, 10]},\n",
              "             scoring='accuracy')"
            ]
          },
          "execution_count": 85,
          "metadata": {},
          "output_type": "execute_result"
        }
      ],
      "source": [
        "# 순서대로 pipeline 구성 : Feature scaling => rf로 학습/추론\n",
        "# 각 프로세스 등록 (\"이름\", 객체)\n",
        "\n",
        "order = [\n",
        "    ('rf', RandomForestClassifier())\n",
        "]\n",
        "pipeline = Pipeline(order, verbose=True) # verbose=True : 어떤 단계 처리하는지 log를 남김\n",
        "print(pipeline.steps)\n",
        "\n",
        "param = {\n",
        "    'rf__n_estimators':[0.001, 0.01, 0.1, 1, 10],\n",
        "    'rf__max_depth':[1, 2, 3, 4, 5],\n",
        "    'rf__max_leaf_nodes':[5, 10, 15, 20, 30],\n",
        "    'rf__min_samples_leaf': range(100, 1001, 100)\n",
        "}\n",
        "\n",
        "gs = GridSearchCV(pipeline, \n",
        "                  param, \n",
        "                  scoring='accuracy', \n",
        "                  cv=5, \n",
        "                  n_jobs=-1)\n",
        "\n",
        "gs.fit(X_train, y_train)"
      ]
    },
    {
      "cell_type": "code",
      "execution_count": null,
      "metadata": {
        "colab": {
          "base_uri": "https://localhost:8080/"
        },
        "id": "3GsJWQwNtAKE",
        "outputId": "bb088b1d-3671-4028-eec8-d526ccfd6a21"
      },
      "outputs": [
        {
          "data": {
            "text/plain": [
              "(Pipeline(steps=[('rf',\n",
              "                  RandomForestClassifier(max_depth=5, max_leaf_nodes=30,\n",
              "                                         min_samples_leaf=200,\n",
              "                                         n_estimators=10))],\n",
              "          verbose=True), 0.8159769900882626)"
            ]
          },
          "execution_count": 86,
          "metadata": {},
          "output_type": "execute_result"
        }
      ],
      "source": [
        "gs.best_estimator_, gs.best_score_"
      ]
    },
    {
      "cell_type": "code",
      "execution_count": null,
      "metadata": {
        "colab": {
          "base_uri": "https://localhost:8080/",
          "height": 400
        },
        "id": "PXF01ezXvSa6",
        "outputId": "b7d6f62f-0568-4569-f159-68a7a619ff54"
      },
      "outputs": [
        {
          "data": {
            "text/html": [
              "<div>\n",
              "<style scoped>\n",
              "    .dataframe tbody tr th:only-of-type {\n",
              "        vertical-align: middle;\n",
              "    }\n",
              "\n",
              "    .dataframe tbody tr th {\n",
              "        vertical-align: top;\n",
              "    }\n",
              "\n",
              "    .dataframe thead th {\n",
              "        text-align: right;\n",
              "    }\n",
              "</style>\n",
              "<table border=\"1\" class=\"dataframe\">\n",
              "  <thead>\n",
              "    <tr style=\"text-align: right;\">\n",
              "      <th></th>\n",
              "      <th>mean_fit_time</th>\n",
              "      <th>std_fit_time</th>\n",
              "      <th>mean_score_time</th>\n",
              "      <th>std_score_time</th>\n",
              "      <th>param_rf__max_depth</th>\n",
              "      <th>param_rf__max_leaf_nodes</th>\n",
              "      <th>param_rf__min_samples_leaf</th>\n",
              "      <th>param_rf__n_estimators</th>\n",
              "      <th>params</th>\n",
              "      <th>split0_test_score</th>\n",
              "      <th>split1_test_score</th>\n",
              "      <th>split2_test_score</th>\n",
              "      <th>split3_test_score</th>\n",
              "      <th>split4_test_score</th>\n",
              "      <th>mean_test_score</th>\n",
              "      <th>std_test_score</th>\n",
              "      <th>rank_test_score</th>\n",
              "    </tr>\n",
              "  </thead>\n",
              "  <tbody>\n",
              "    <tr>\n",
              "      <th>1209</th>\n",
              "      <td>1.151747</td>\n",
              "      <td>0.026840</td>\n",
              "      <td>0.042676</td>\n",
              "      <td>0.000714</td>\n",
              "      <td>5</td>\n",
              "      <td>30</td>\n",
              "      <td>200</td>\n",
              "      <td>10</td>\n",
              "      <td>{'rf__max_depth': 5, 'rf__max_leaf_nodes': 30,...</td>\n",
              "      <td>0.815872</td>\n",
              "      <td>0.801696</td>\n",
              "      <td>0.810423</td>\n",
              "      <td>0.833872</td>\n",
              "      <td>0.818022</td>\n",
              "      <td>0.815977</td>\n",
              "      <td>0.010576</td>\n",
              "      <td>1</td>\n",
              "    </tr>\n",
              "    <tr>\n",
              "      <th>1129</th>\n",
              "      <td>1.119966</td>\n",
              "      <td>0.049117</td>\n",
              "      <td>0.040949</td>\n",
              "      <td>0.001446</td>\n",
              "      <td>5</td>\n",
              "      <td>15</td>\n",
              "      <td>600</td>\n",
              "      <td>10</td>\n",
              "      <td>{'rf__max_depth': 5, 'rf__max_leaf_nodes': 15,...</td>\n",
              "      <td>0.821515</td>\n",
              "      <td>0.808869</td>\n",
              "      <td>0.815328</td>\n",
              "      <td>0.800414</td>\n",
              "      <td>0.816151</td>\n",
              "      <td>0.812455</td>\n",
              "      <td>0.007237</td>\n",
              "      <td>2</td>\n",
              "    </tr>\n",
              "    <tr>\n",
              "      <th>1114</th>\n",
              "      <td>1.141715</td>\n",
              "      <td>0.054667</td>\n",
              "      <td>0.040386</td>\n",
              "      <td>0.000660</td>\n",
              "      <td>5</td>\n",
              "      <td>15</td>\n",
              "      <td>300</td>\n",
              "      <td>10</td>\n",
              "      <td>{'rf__max_depth': 5, 'rf__max_leaf_nodes': 15,...</td>\n",
              "      <td>0.798889</td>\n",
              "      <td>0.815617</td>\n",
              "      <td>0.817228</td>\n",
              "      <td>0.808722</td>\n",
              "      <td>0.819893</td>\n",
              "      <td>0.812070</td>\n",
              "      <td>0.007555</td>\n",
              "      <td>3</td>\n",
              "    </tr>\n",
              "    <tr>\n",
              "      <th>1164</th>\n",
              "      <td>1.160101</td>\n",
              "      <td>0.035628</td>\n",
              "      <td>0.041017</td>\n",
              "      <td>0.000678</td>\n",
              "      <td>5</td>\n",
              "      <td>20</td>\n",
              "      <td>300</td>\n",
              "      <td>10</td>\n",
              "      <td>{'rf__max_depth': 5, 'rf__max_leaf_nodes': 20,...</td>\n",
              "      <td>0.814767</td>\n",
              "      <td>0.816496</td>\n",
              "      <td>0.798769</td>\n",
              "      <td>0.804015</td>\n",
              "      <td>0.825451</td>\n",
              "      <td>0.811900</td>\n",
              "      <td>0.009461</td>\n",
              "      <td>4</td>\n",
              "    </tr>\n",
              "    <tr>\n",
              "      <th>1204</th>\n",
              "      <td>1.187861</td>\n",
              "      <td>0.056205</td>\n",
              "      <td>0.042258</td>\n",
              "      <td>0.001100</td>\n",
              "      <td>5</td>\n",
              "      <td>30</td>\n",
              "      <td>100</td>\n",
              "      <td>10</td>\n",
              "      <td>{'rf__max_depth': 5, 'rf__max_leaf_nodes': 30,...</td>\n",
              "      <td>0.811449</td>\n",
              "      <td>0.806913</td>\n",
              "      <td>0.809147</td>\n",
              "      <td>0.821510</td>\n",
              "      <td>0.800357</td>\n",
              "      <td>0.809875</td>\n",
              "      <td>0.006895</td>\n",
              "      <td>5</td>\n",
              "    </tr>\n",
              "  </tbody>\n",
              "</table>\n",
              "</div>"
            ],
            "text/plain": [
              "      mean_fit_time  std_fit_time  ...  std_test_score  rank_test_score\n",
              "1209       1.151747      0.026840  ...        0.010576                1\n",
              "1129       1.119966      0.049117  ...        0.007237                2\n",
              "1114       1.141715      0.054667  ...        0.007555                3\n",
              "1164       1.160101      0.035628  ...        0.009461                4\n",
              "1204       1.187861      0.056205  ...        0.006895                5\n",
              "\n",
              "[5 rows x 17 columns]"
            ]
          },
          "execution_count": 87,
          "metadata": {},
          "output_type": "execute_result"
        }
      ],
      "source": [
        "df = pd.DataFrame(gs.cv_results_).sort_values('rank_test_score')\n",
        "df.head()"
      ]
    },
    {
      "cell_type": "code",
      "execution_count": null,
      "metadata": {
        "colab": {
          "base_uri": "https://localhost:8080/"
        },
        "id": "IAN1RAx8vqs6",
        "outputId": "6c9201c4-2767-48a2-c8a3-51c9b998fb4b"
      },
      "outputs": [
        {
          "name": "stdout",
          "output_type": "stream",
          "text": [
            "RandomForest train\n",
            "정확도(Accuracy):  0.8115990518424425\n",
            "재현률(Recall):  0.8153928162320945\n",
            "정밀도(Precision):  0.8092525889239082\n",
            "f1 score:  0.8123110993102124\n",
            "roc_auc_score 0.8115990518424425\n",
            "\n",
            "RandomForest validation\n",
            "정확도(Accuracy):  0.8157691784239894\n",
            "재현률(Recall):  0.8209862541396362\n",
            "정밀도(Precision):  0.8125084182642661\n",
            "f1 score:  0.8167253362216806\n",
            "roc_auc_score 0.8157691784239895\n",
            "\n",
            "RandomForest test\n",
            "정확도(Accuracy):  0.8038135310225072\n",
            "재현률(Recall):  0.7367321353949018\n",
            "정밀도(Precision):  0.2515696347031963\n",
            "f1 score:  0.37506648228911815\n",
            "roc_auc_score 0.7731858695339116\n",
            "\n"
          ]
        }
      ],
      "source": [
        "best = gs.best_estimator_\n",
        "pred_train = best.predict(X_train)\n",
        "pred_val = best.predict(X_val)\n",
        "pred_test = best.predict(X_test)\n",
        "\n",
        "print_metrics_classifier(y_train, pred_train, 'RandomForest train')\n",
        "print_metrics_classifier(y_val, pred_val, 'RandomForest validation')\n",
        "print_metrics_classifier(y_test, pred_test, 'RandomForest test')"
      ]
    },
    {
      "cell_type": "code",
      "execution_count": null,
      "metadata": {
        "colab": {
          "base_uri": "https://localhost:8080/"
        },
        "id": "YlibX5rwkR7l",
        "outputId": "b3f5ae36-2d28-4107-f6d5-9578ef8ce5a5"
      },
      "outputs": [
        {
          "name": "stdout",
          "output_type": "stream",
          "text": [
            "voting train\n",
            "정확도(Accuracy):  0.956051696353294\n",
            "재현률(Recall):  0.287109021876695\n",
            "정밀도(Precision):  0.900737379466818\n",
            "f1 score:  0.4354263778448039\n",
            "roc_auc_score 0.6425621098949087\n",
            "\n",
            "voting validation\n",
            "정확도(Accuracy):  0.9436523520874243\n",
            "재현률(Recall):  0.14099783080260303\n",
            "정밀도(Precision):  0.5963302752293578\n",
            "f1 score:  0.22807017543859648\n",
            "roc_auc_score 0.5675047675992781\n",
            "\n",
            "voting test\n",
            "정확도(Accuracy):  0.9426951710948706\n",
            "재현률(Recall):  0.14699074074074073\n",
            "정밀도(Precision):  0.5545851528384279\n",
            "f1 score:  0.232387923147301\n",
            "roc_auc_score 0.569793548493329\n",
            "\n"
          ]
        }
      ],
      "source": [
        "lr = LogisticRegression(random_state=157)\n",
        "knn = KNeighborsClassifier()\n",
        "rf = RandomForestClassifier(random_state=157)\n",
        "\n",
        "estimators = [\n",
        "    ('lr', lr),\n",
        "    ('knn', knn),\n",
        "    ('rf', rf)\n",
        "]\n",
        "\n",
        "voting = VotingClassifier(estimators, voting='soft')\n",
        "voting.fit(X_train_scaled, y_train)\n",
        "\n",
        "pred_train = voting.predict(X_train_scaled)\n",
        "pred_val = voting.predict(X_val_scaled)\n",
        "pred_test = voting.predict(X_test_scaled)\n",
        "\n",
        "print_metrics_classifier(y_train, pred_train, 'voting train')\n",
        "print_metrics_classifier(y_val, pred_val, 'voting validation')\n",
        "print_metrics_classifier(y_test, pred_test, 'voting test')"
      ]
    }
  ],
  "metadata": {
    "accelerator": "GPU",
    "colab": {
      "collapsed_sections": [
        "LZJNMhcpCGOy",
        "2Aj_FrpzuKTO",
        "rQJsBxesb9JE",
        "JN-ezBtki3Cz"
      ],
      "machine_shape": "hm",
      "name": "minipjt5_note.ipynb",
      "provenance": []
    },
    "kernelspec": {
      "display_name": "Python 3",
      "name": "python3"
    },
    "language_info": {
      "name": "python"
    }
  },
  "nbformat": 4,
  "nbformat_minor": 0
}
