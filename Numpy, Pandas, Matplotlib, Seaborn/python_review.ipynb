{
 "cells": [
  {
   "cell_type": "code",
   "execution_count": 48,
   "source": [
    "english_dict = dict()\r\n",
    "korean_dict = {}\r\n",
    "\r\n",
    "english_dict['one'] = '하나'\r\n",
    "english_dict['two'] = '둘'\r\n",
    "english_dict['three'] = '셋'\r\n",
    "\r\n",
    "korean_dict['하나'] = 'one'\r\n",
    "korean_dict['둘'] = 'two'\r\n",
    "korean_dict['셋'] = 'three'\r\n",
    "\r\n",
    "word1 = input()\r\n",
    "if word1 in english_dict:\r\n",
    "    print(english_dict[word1])\r\n",
    "\r\n",
    "elif word1 in korean_dict:\r\n",
    "    print(korean_dict[word1])\r\n",
    "\r\n",
    "else:\r\n",
    "    print(\"none\")\r\n",
    "\r\n",
    "# word = input()\r\n",
    "# print(english_dict.get(word, '없음'))"
   ],
   "outputs": [
    {
     "output_type": "stream",
     "name": "stdout",
     "text": [
      "none\n"
     ]
    }
   ],
   "metadata": {}
  },
  {
   "cell_type": "code",
   "execution_count": 51,
   "source": [
    "friends_list =[]\r\n",
    "while True: \r\n",
    "    print('-'*10)\r\n",
    "    print('1. 친구 리스트 출력')\r\n",
    "    print('2. 친구 추가')\r\n",
    "    print('3. 친구 삭제')\r\n",
    "    print('4. 이름 변경')\r\n",
    "    print('9. 종료')\r\n",
    "\r\n",
    "    num = int(input('메뉴를 선택하시오: '))\r\n",
    "    if num == 1:\r\n",
    "        print(friends_list)\r\n",
    "    elif num == 2:\r\n",
    "        user_name = input('이름을 입력하시오: ').strip()\r\n",
    "        friends_list.append(user_name)\r\n",
    "    elif num == 3:\r\n",
    "        user_name = input('이름을 입력하시오: ').strip()\r\n",
    "        friends_list.remove(user_name)\r\n",
    "    elif num == 4:\r\n",
    "        user_name = input('이름을 입력하시오: ').strip()\r\n",
    "        user_name2 = input('변경할 이름을 입력하세요: ')\r\n",
    "        idx = friends_list.index(user_name)\r\n",
    "        friends_list[idx] = user_name2 \r\n",
    "    elif num == 9:\r\n",
    "        break    "
   ],
   "outputs": [
    {
     "output_type": "stream",
     "name": "stdout",
     "text": [
      "----------\n",
      "1. 친구 리스트 출력\n",
      "2. 친구 추가\n",
      "3. 친구 삭제\n",
      "4. 이름 변경\n",
      "9. 종료\n",
      "----------\n",
      "1. 친구 리스트 출력\n",
      "2. 친구 추가\n",
      "3. 친구 삭제\n",
      "4. 이름 변경\n",
      "9. 종료\n",
      "['홍길동']\n",
      "----------\n",
      "1. 친구 리스트 출력\n",
      "2. 친구 추가\n",
      "3. 친구 삭제\n",
      "4. 이름 변경\n",
      "9. 종료\n"
     ]
    }
   ],
   "metadata": {}
  },
  {
   "cell_type": "markdown",
   "source": [
    "# 파일 읽기 / 쓰기\r\n",
    "## txt 파일 읽기 / 쓰기"
   ],
   "metadata": {}
  },
  {
   "cell_type": "code",
   "execution_count": 30,
   "source": [
    "infile = open('./Sample/phones.txt', 'r', encoding='utf-8')\r\n",
    "line = infile.readline()\r\n",
    "\r\n",
    "while line != \"\":\r\n",
    "    print(line)\r\n",
    "    line = infile.readline()\r\n",
    "\r\n",
    "infile.close()"
   ],
   "outputs": [
    {
     "output_type": "stream",
     "name": "stdout",
     "text": [
      "홍길동 010-1234-1234\n",
      "\n",
      "김철수 010-1111-1111\n",
      "\n",
      "김영희 010-2222-2222\n"
     ]
    }
   ],
   "metadata": {}
  },
  {
   "cell_type": "code",
   "execution_count": 29,
   "source": [
    "import os.path\r\n",
    "\r\n",
    "outfile = open('./Sample/phones_write.txt', 'w', encoding='utf8')\r\n",
    "\r\n",
    "outfile.write(\"홍길동 010-1234-1234\\n\")\r\n",
    "outfile.write(\"김철수 010-1111-1111\\n\")\r\n",
    "outfile.write(\"김영희 010-2222-2222\")\r\n",
    "\r\n",
    "outfile.close()"
   ],
   "outputs": [],
   "metadata": {}
  },
  {
   "cell_type": "code",
   "execution_count": 32,
   "source": [
    "filename = input('파일명을 입력하세요:').strip()\r\n",
    "infile = open(filename, 'r', encoding='utf8')\r\n",
    "\r\n",
    "freqs = {}\r\n",
    "\r\n",
    "for line in infile:\r\n",
    "    for char in line.strip():\r\n",
    "        if char in freqs:\r\n",
    "            freqs[char] += 1\r\n",
    "        else:\r\n",
    "            freqs[char] = 1\r\n",
    "\r\n",
    "print(freqs)\r\n",
    "infile.close()"
   ],
   "outputs": [
    {
     "output_type": "stream",
     "name": "stdout",
     "text": [
      "{'홍': 1, '길': 1, '동': 1, ' ': 3, '0': 6, '1': 13, '-': 6, '2': 10, '3': 2, '4': 2, '김': 2, '철': 1, '수': 1, '영': 1, '희': 1}\n"
     ]
    }
   ],
   "metadata": {}
  },
  {
   "cell_type": "markdown",
   "source": [
    "## csv 파일 읽기 / 쓰기"
   ],
   "metadata": {}
  },
  {
   "cell_type": "code",
   "execution_count": 28,
   "source": [
    "f = open('./Sample/test.csv', 'r')\r\n",
    "\r\n",
    "for line in f.readlines():\r\n",
    "    line = line.strip()\r\n",
    "    print(line)\r\n",
    "    parts = line.split(',')\r\n",
    "\r\n",
    "    for part in parts:\r\n",
    "        print(' ', part)"
   ],
   "outputs": [],
   "metadata": {}
  },
  {
   "cell_type": "code",
   "execution_count": 9,
   "source": [
    "filename1 = input('원본 파일 이름 입력:')\r\n",
    "filename2 = input('복사 파일 이름 입력:')\r\n",
    "\r\n",
    "infile = open(filename1, 'rb')\r\n",
    "outfile = open(filename2, 'wb')\r\n",
    "\r\n",
    "while True:\r\n",
    "    copy_buffer = infile.read(1024)\r\n",
    "    if not copy_buffer:\r\n",
    "        break\r\n",
    "    outfile.write(copy_buffer)\r\n",
    "\r\n",
    "infile.close()\r\n",
    "outfile.close()\r\n",
    "print(filename1 + \"를 \" + filename2 + ' 로 복사했습니다.')"
   ],
   "outputs": [
    {
     "output_type": "stream",
     "name": "stdout",
     "text": [
      "bear.jpg를 bear2.jpg 로 복사했습니다.\n"
     ]
    }
   ],
   "metadata": {}
  },
  {
   "cell_type": "code",
   "execution_count": 27,
   "source": [
    "infile = open('./Sample/text.txt', 'r+', encoding='utf8') # reading and writing\r\n",
    "str = infile.read(30) \r\n",
    "print('읽은 문자열:', str)\r\n",
    "position = infile.tell() # 한글을 읽는 경우에는 위치가 다를 수 있음 (저장 크기가 달라서)\r\n",
    "print('현재위치:', position)\r\n",
    "\r\n",
    "position = infile.seek(0, 0)\r\n",
    "str = infile.read(10)\r\n",
    "print('다시 읽은 문자열:', str)\r\n",
    "infile.close()"
   ],
   "outputs": [
    {
     "output_type": "stream",
     "name": "stdout",
     "text": [
      "읽은 문자열: # AdaIN (Adaptive Instance Nor\n",
      "현재위치: 30\n",
      "다시 읽은 문자열: # AdaIN (A\n"
     ]
    }
   ],
   "metadata": {}
  },
  {
   "cell_type": "markdown",
   "source": [
    "## pickle 모듈로 파일 읽기 / 쓰기"
   ],
   "metadata": {}
  },
  {
   "cell_type": "code",
   "execution_count": 13,
   "source": [
    "# 텍스트 이외의 자료형을 파일로 저장하기 위하여 pickle이라는 모듈을 제공\r\n",
    "import pickle\r\n",
    "\r\n",
    "myMovie = {'Superman vs Batman': '9.8', 'Ironman': '9.6'}\r\n",
    "\r\n",
    "pickle.dump(myMovie, open('save.p', 'wb'))\r\n",
    "\r\n",
    "myMovie = pickle.load(open('save.p', 'rb'))\r\n",
    "print(myMovie)"
   ],
   "outputs": [
    {
     "output_type": "stream",
     "name": "stdout",
     "text": [
      "{'Superman vs Batman': '9.8', 'Ironman': '9.6'}\n"
     ]
    }
   ],
   "metadata": {}
  },
  {
   "cell_type": "markdown",
   "source": [
    "## json 파일 읽기 / 쓰기"
   ],
   "metadata": {}
  },
  {
   "cell_type": "code",
   "execution_count": 26,
   "source": [
    "import json\r\n",
    "\r\n",
    "with open('./Sample/test.json', 'r') as f:\r\n",
    "    json_data = json.load(f)\r\n",
    "\r\n",
    "print(json.dumps(json_data))"
   ],
   "outputs": [
    {
     "output_type": "stream",
     "name": "stdout",
     "text": [
      "{\"K5\": {\"price\": \"5000\", \"year\": \"2015\"}, \"Avante\": {\"price\": \"3000\", \"year\": \"2014\"}}\n"
     ]
    }
   ],
   "metadata": {}
  },
  {
   "cell_type": "code",
   "execution_count": 21,
   "source": [
    "print(json.dumps(json_data, indent='\\t'))"
   ],
   "outputs": [
    {
     "output_type": "stream",
     "name": "stdout",
     "text": [
      "{\n",
      "\t\"K5\": {\n",
      "\t\t\"price\": \"5000\",\n",
      "\t\t\"year\": \"2015\"\n",
      "\t},\n",
      "\t\"Avante\": {\n",
      "\t\t\"price\": \"3000\",\n",
      "\t\t\"year\": \"2014\"\n",
      "\t}\n",
      "}\n"
     ]
    }
   ],
   "metadata": {}
  },
  {
   "cell_type": "code",
   "execution_count": 23,
   "source": [
    "k5_price = json_data['K5']['price']\r\n",
    "k5_price"
   ],
   "outputs": [
    {
     "output_type": "execute_result",
     "data": {
      "text/plain": [
       "'5000'"
      ]
     },
     "metadata": {},
     "execution_count": 23
    }
   ],
   "metadata": {}
  },
  {
   "cell_type": "code",
   "execution_count": 25,
   "source": [
    "with open('./Sample/test.json', 'w', encoding='utf8') as make_file:\r\n",
    "    json.dump(json_data, make_file, indent='\\t')\r\n",
    "\r\n",
    "with open('./Sample/test.json', 'r') as f:\r\n",
    "    json_data = json.load(f)\r\n",
    "\r\n",
    "print(json.dumps(json_data, indent='\\t'))"
   ],
   "outputs": [
    {
     "output_type": "stream",
     "name": "stdout",
     "text": [
      "{\n",
      "\t\"K5\": {\n",
      "\t\t\"price\": \"5000\",\n",
      "\t\t\"year\": \"2015\"\n",
      "\t},\n",
      "\t\"Avante\": {\n",
      "\t\t\"price\": \"3000\",\n",
      "\t\t\"year\": \"2014\"\n",
      "\t}\n",
      "}\n"
     ]
    }
   ],
   "metadata": {}
  },
  {
   "cell_type": "code",
   "execution_count": 31,
   "source": [
    "import json\r\n",
    "\r\n",
    "car_group = {}\r\n",
    "\r\n",
    "k5 = {}\r\n",
    "k5['price'] = '5000'\r\n",
    "k5['year'] = '2015'\r\n",
    "car_group['k5'] = k5\r\n",
    "\r\n",
    "avante = {}\r\n",
    "avante['price'] = '3000'\r\n",
    "avante['year'] = '2014'\r\n",
    "car_group['avante'] = avante\r\n",
    "\r\n",
    "with open('./Sample/test1.json', 'w', encoding='utf8') as make_file:\r\n",
    "    json.dump(car_group, make_file, indent='\\t')\r\n",
    "\r\n",
    "with open('./Sample/test1.json', 'r') as f:\r\n",
    "    json_data = json.load(f)\r\n",
    "\r\n",
    "print(json.dumps(json_data, indent='\\t'))"
   ],
   "outputs": [
    {
     "output_type": "stream",
     "name": "stdout",
     "text": [
      "{\n",
      "\t\"k5\": {\n",
      "\t\t\"price\": \"5000\",\n",
      "\t\t\"year\": \"2015\"\n",
      "\t},\n",
      "\t\"avante\": {\n",
      "\t\t\"price\": \"3000\",\n",
      "\t\t\"year\": \"2014\"\n",
      "\t}\n",
      "}\n"
     ]
    }
   ],
   "metadata": {}
  },
  {
   "cell_type": "code",
   "execution_count": 63,
   "source": [
    "address = dict()\r\n",
    "\r\n",
    "while menu != 9:\r\n",
    "    print('-' * 30)\r\n",
    "    print('1. 친구 리스트 출력\\n2. 친구 추가\\n3. 친구 삭제\\n4. 이름 변경\\\r\n",
    "    \\n9. 종료')\r\n",
    "    menu = int(input('메뉴를 선택하시오:'))\r\n",
    "\r\n",
    "    if menu == 1:\r\n",
    "        with open('./Sample/address.json','r',encoding='utf-8') as f:\r\n",
    "            address = json.load(f)\r\n",
    "        print(json.dumps(address, indent = '\\t', ensure_ascii=False))\r\n",
    "    \r\n",
    "    elif menu == 2:\r\n",
    "        new_name = input('친구 이름: ')\r\n",
    "        new_num = input('친구 번호: ')\r\n",
    "        \r\n",
    "        with open('./Sample/address.json','r',encoding='utf-8') as f:\r\n",
    "            address = json.load(f)\r\n",
    "        \r\n",
    "        if new_name in address:\r\n",
    "            print('이미 있는 이름 입니다!')\r\n",
    "        \r\n",
    "        else:\r\n",
    "            address[new_name] = new_num\r\n",
    "            with open('./Sample/address.json','w',encoding='utf-8') as make_file:\r\n",
    "                json.dump(address, make_file, indent='\\t', ensure_ascii=False)\r\n",
    "\r\n",
    "    elif menu == 3:\r\n",
    "        with open('./Sample/address.json','r',encoding='utf-8') as f:\r\n",
    "            address = json.load(f)\r\n",
    "        \r\n",
    "        del_name = input('친구 이름: ')\r\n",
    "        if del_name in address: \r\n",
    "            del address[del_name]\r\n",
    "            with open('./Sample/address.json','w',encoding='utf-8') as make_file:\r\n",
    "                json.dump(address, make_file, indent='\\t', ensure_ascii=False)\r\n",
    "        else:\r\n",
    "            print('없는 친구 입니다.')\r\n",
    "    elif menu == 4:\r\n",
    "        with open('./Sample/address.json','r',encoding='utf-8') as f:\r\n",
    "            address = json.load(f)\r\n",
    "        origin_name = input('친구 이름: ')\r\n",
    "        update_name = input('변경할 이름: ')\r\n",
    "        if origin_name not in address:\r\n",
    "            print('없는 친구 입니다.')\r\n",
    "        else:\r\n",
    "            f_num = address[origin_name]\r\n",
    "            address[update_name] = f_num\r\n",
    "            del address[origin_name]\r\n",
    "            with open('./Sample/address.json','w',encoding='utf-8') as make_file:\r\n",
    "                json.dump(address, make_file, indent='\\t', ensure_ascii=False)\r\n",
    "    elif menu == 9:\r\n",
    "        print('프로그램을 종료합니다.')\r\n",
    "        break\r\n",
    "    else:\r\n",
    "        print('잘못된 값을 입력했습니다.')\r\n",
    "        continue\r\n",
    "\r\n",
    "    # except ValueError:\r\n",
    "    #     print('잘못된 값을 입력했습니다.')\r\n",
    "    "
   ],
   "outputs": [
    {
     "output_type": "stream",
     "name": "stdout",
     "text": [
      "------------------------------\n",
      "1. 친구 리스트 출력\n",
      "2. 친구 추가\n",
      "3. 친구 삭제\n",
      "4. 이름 변경    \n",
      "9. 종료\n"
     ]
    },
    {
     "output_type": "error",
     "ename": "JSONDecodeError",
     "evalue": "Expecting value: line 1 column 1 (char 0)",
     "traceback": [
      "\u001b[1;31m---------------------------------------------------------------------------\u001b[0m",
      "\u001b[1;31mJSONDecodeError\u001b[0m                           Traceback (most recent call last)",
      "\u001b[1;32mC:\\Users\\CHANGH~1\\AppData\\Local\\Temp/ipykernel_6336/606156540.py\u001b[0m in \u001b[0;36m<module>\u001b[1;34m\u001b[0m\n\u001b[0;32m     17\u001b[0m \u001b[1;33m\u001b[0m\u001b[0m\n\u001b[0;32m     18\u001b[0m         \u001b[1;32mwith\u001b[0m \u001b[0mopen\u001b[0m\u001b[1;33m(\u001b[0m\u001b[1;34m'./Sample/address.json'\u001b[0m\u001b[1;33m,\u001b[0m\u001b[1;34m'r'\u001b[0m\u001b[1;33m,\u001b[0m\u001b[0mencoding\u001b[0m\u001b[1;33m=\u001b[0m\u001b[1;34m'utf-8'\u001b[0m\u001b[1;33m)\u001b[0m \u001b[1;32mas\u001b[0m \u001b[0mf\u001b[0m\u001b[1;33m:\u001b[0m\u001b[1;33m\u001b[0m\u001b[1;33m\u001b[0m\u001b[0m\n\u001b[1;32m---> 19\u001b[1;33m             \u001b[0maddress\u001b[0m \u001b[1;33m=\u001b[0m \u001b[0mjson\u001b[0m\u001b[1;33m.\u001b[0m\u001b[0mload\u001b[0m\u001b[1;33m(\u001b[0m\u001b[0mf\u001b[0m\u001b[1;33m)\u001b[0m\u001b[1;33m\u001b[0m\u001b[1;33m\u001b[0m\u001b[0m\n\u001b[0m\u001b[0;32m     20\u001b[0m \u001b[1;33m\u001b[0m\u001b[0m\n\u001b[0;32m     21\u001b[0m         \u001b[1;32mif\u001b[0m \u001b[0mnew_name\u001b[0m \u001b[1;32min\u001b[0m \u001b[0maddress\u001b[0m\u001b[1;33m:\u001b[0m\u001b[1;33m\u001b[0m\u001b[1;33m\u001b[0m\u001b[0m\n",
      "\u001b[1;32m~\\AppData\\Local\\Programs\\Python\\Python39\\lib\\json\\__init__.py\u001b[0m in \u001b[0;36mload\u001b[1;34m(fp, cls, object_hook, parse_float, parse_int, parse_constant, object_pairs_hook, **kw)\u001b[0m\n\u001b[0;32m    291\u001b[0m     \u001b[0mkwarg\u001b[0m\u001b[1;33m;\u001b[0m \u001b[0motherwise\u001b[0m\u001b[0;31m \u001b[0m\u001b[0;31m`\u001b[0m\u001b[0;31m`\u001b[0m\u001b[0mJSONDecoder\u001b[0m\u001b[0;31m`\u001b[0m\u001b[0;31m`\u001b[0m \u001b[1;32mis\u001b[0m \u001b[0mused\u001b[0m\u001b[1;33m.\u001b[0m\u001b[1;33m\u001b[0m\u001b[1;33m\u001b[0m\u001b[0m\n\u001b[0;32m    292\u001b[0m     \"\"\"\n\u001b[1;32m--> 293\u001b[1;33m     return loads(fp.read(),\n\u001b[0m\u001b[0;32m    294\u001b[0m         \u001b[0mcls\u001b[0m\u001b[1;33m=\u001b[0m\u001b[0mcls\u001b[0m\u001b[1;33m,\u001b[0m \u001b[0mobject_hook\u001b[0m\u001b[1;33m=\u001b[0m\u001b[0mobject_hook\u001b[0m\u001b[1;33m,\u001b[0m\u001b[1;33m\u001b[0m\u001b[1;33m\u001b[0m\u001b[0m\n\u001b[0;32m    295\u001b[0m         \u001b[0mparse_float\u001b[0m\u001b[1;33m=\u001b[0m\u001b[0mparse_float\u001b[0m\u001b[1;33m,\u001b[0m \u001b[0mparse_int\u001b[0m\u001b[1;33m=\u001b[0m\u001b[0mparse_int\u001b[0m\u001b[1;33m,\u001b[0m\u001b[1;33m\u001b[0m\u001b[1;33m\u001b[0m\u001b[0m\n",
      "\u001b[1;32m~\\AppData\\Local\\Programs\\Python\\Python39\\lib\\json\\__init__.py\u001b[0m in \u001b[0;36mloads\u001b[1;34m(s, cls, object_hook, parse_float, parse_int, parse_constant, object_pairs_hook, **kw)\u001b[0m\n\u001b[0;32m    344\u001b[0m             \u001b[0mparse_int\u001b[0m \u001b[1;32mis\u001b[0m \u001b[1;32mNone\u001b[0m \u001b[1;32mand\u001b[0m \u001b[0mparse_float\u001b[0m \u001b[1;32mis\u001b[0m \u001b[1;32mNone\u001b[0m \u001b[1;32mand\u001b[0m\u001b[1;33m\u001b[0m\u001b[1;33m\u001b[0m\u001b[0m\n\u001b[0;32m    345\u001b[0m             parse_constant is None and object_pairs_hook is None and not kw):\n\u001b[1;32m--> 346\u001b[1;33m         \u001b[1;32mreturn\u001b[0m \u001b[0m_default_decoder\u001b[0m\u001b[1;33m.\u001b[0m\u001b[0mdecode\u001b[0m\u001b[1;33m(\u001b[0m\u001b[0ms\u001b[0m\u001b[1;33m)\u001b[0m\u001b[1;33m\u001b[0m\u001b[1;33m\u001b[0m\u001b[0m\n\u001b[0m\u001b[0;32m    347\u001b[0m     \u001b[1;32mif\u001b[0m \u001b[0mcls\u001b[0m \u001b[1;32mis\u001b[0m \u001b[1;32mNone\u001b[0m\u001b[1;33m:\u001b[0m\u001b[1;33m\u001b[0m\u001b[1;33m\u001b[0m\u001b[0m\n\u001b[0;32m    348\u001b[0m         \u001b[0mcls\u001b[0m \u001b[1;33m=\u001b[0m \u001b[0mJSONDecoder\u001b[0m\u001b[1;33m\u001b[0m\u001b[1;33m\u001b[0m\u001b[0m\n",
      "\u001b[1;32m~\\AppData\\Local\\Programs\\Python\\Python39\\lib\\json\\decoder.py\u001b[0m in \u001b[0;36mdecode\u001b[1;34m(self, s, _w)\u001b[0m\n\u001b[0;32m    335\u001b[0m \u001b[1;33m\u001b[0m\u001b[0m\n\u001b[0;32m    336\u001b[0m         \"\"\"\n\u001b[1;32m--> 337\u001b[1;33m         \u001b[0mobj\u001b[0m\u001b[1;33m,\u001b[0m \u001b[0mend\u001b[0m \u001b[1;33m=\u001b[0m \u001b[0mself\u001b[0m\u001b[1;33m.\u001b[0m\u001b[0mraw_decode\u001b[0m\u001b[1;33m(\u001b[0m\u001b[0ms\u001b[0m\u001b[1;33m,\u001b[0m \u001b[0midx\u001b[0m\u001b[1;33m=\u001b[0m\u001b[0m_w\u001b[0m\u001b[1;33m(\u001b[0m\u001b[0ms\u001b[0m\u001b[1;33m,\u001b[0m \u001b[1;36m0\u001b[0m\u001b[1;33m)\u001b[0m\u001b[1;33m.\u001b[0m\u001b[0mend\u001b[0m\u001b[1;33m(\u001b[0m\u001b[1;33m)\u001b[0m\u001b[1;33m)\u001b[0m\u001b[1;33m\u001b[0m\u001b[1;33m\u001b[0m\u001b[0m\n\u001b[0m\u001b[0;32m    338\u001b[0m         \u001b[0mend\u001b[0m \u001b[1;33m=\u001b[0m \u001b[0m_w\u001b[0m\u001b[1;33m(\u001b[0m\u001b[0ms\u001b[0m\u001b[1;33m,\u001b[0m \u001b[0mend\u001b[0m\u001b[1;33m)\u001b[0m\u001b[1;33m.\u001b[0m\u001b[0mend\u001b[0m\u001b[1;33m(\u001b[0m\u001b[1;33m)\u001b[0m\u001b[1;33m\u001b[0m\u001b[1;33m\u001b[0m\u001b[0m\n\u001b[0;32m    339\u001b[0m         \u001b[1;32mif\u001b[0m \u001b[0mend\u001b[0m \u001b[1;33m!=\u001b[0m \u001b[0mlen\u001b[0m\u001b[1;33m(\u001b[0m\u001b[0ms\u001b[0m\u001b[1;33m)\u001b[0m\u001b[1;33m:\u001b[0m\u001b[1;33m\u001b[0m\u001b[1;33m\u001b[0m\u001b[0m\n",
      "\u001b[1;32m~\\AppData\\Local\\Programs\\Python\\Python39\\lib\\json\\decoder.py\u001b[0m in \u001b[0;36mraw_decode\u001b[1;34m(self, s, idx)\u001b[0m\n\u001b[0;32m    353\u001b[0m             \u001b[0mobj\u001b[0m\u001b[1;33m,\u001b[0m \u001b[0mend\u001b[0m \u001b[1;33m=\u001b[0m \u001b[0mself\u001b[0m\u001b[1;33m.\u001b[0m\u001b[0mscan_once\u001b[0m\u001b[1;33m(\u001b[0m\u001b[0ms\u001b[0m\u001b[1;33m,\u001b[0m \u001b[0midx\u001b[0m\u001b[1;33m)\u001b[0m\u001b[1;33m\u001b[0m\u001b[1;33m\u001b[0m\u001b[0m\n\u001b[0;32m    354\u001b[0m         \u001b[1;32mexcept\u001b[0m \u001b[0mStopIteration\u001b[0m \u001b[1;32mas\u001b[0m \u001b[0merr\u001b[0m\u001b[1;33m:\u001b[0m\u001b[1;33m\u001b[0m\u001b[1;33m\u001b[0m\u001b[0m\n\u001b[1;32m--> 355\u001b[1;33m             \u001b[1;32mraise\u001b[0m \u001b[0mJSONDecodeError\u001b[0m\u001b[1;33m(\u001b[0m\u001b[1;34m\"Expecting value\"\u001b[0m\u001b[1;33m,\u001b[0m \u001b[0ms\u001b[0m\u001b[1;33m,\u001b[0m \u001b[0merr\u001b[0m\u001b[1;33m.\u001b[0m\u001b[0mvalue\u001b[0m\u001b[1;33m)\u001b[0m \u001b[1;32mfrom\u001b[0m \u001b[1;32mNone\u001b[0m\u001b[1;33m\u001b[0m\u001b[1;33m\u001b[0m\u001b[0m\n\u001b[0m\u001b[0;32m    356\u001b[0m         \u001b[1;32mreturn\u001b[0m \u001b[0mobj\u001b[0m\u001b[1;33m,\u001b[0m \u001b[0mend\u001b[0m\u001b[1;33m\u001b[0m\u001b[1;33m\u001b[0m\u001b[0m\n",
      "\u001b[1;31mJSONDecodeError\u001b[0m: Expecting value: line 1 column 1 (char 0)"
     ]
    }
   ],
   "metadata": {}
  },
  {
   "cell_type": "markdown",
   "source": [
    "## xml 파일 읽기 / 쓰기"
   ],
   "metadata": {}
  },
  {
   "cell_type": "code",
   "execution_count": 38,
   "source": [
    "from xml.etree.ElementTree import parse\r\n",
    "\r\n",
    "tree = parse('./Sample/test.xml')\r\n",
    "root = tree.getroot()\r\n",
    "\r\n",
    "student = root.findall('student')\r\n",
    "\r\n",
    "name = [x.findtext('name') for x in student]\r\n",
    "age = [x.findtext('age') for x in student]\r\n",
    "score = [x.find('score').attrib for x in student]\r\n",
    "\r\n",
    "print(name)\r\n",
    "print(age)\r\n",
    "print(score)"
   ],
   "outputs": [
    {
     "output_type": "stream",
     "name": "stdout",
     "text": [
      "['peter', 'lee', 'hong']\n",
      "['24', '21', '36']\n",
      "[{'math': '80', 'english': '97'}, {'math': '67', 'english': '56'}, {'math': '76', 'english': '81'}]\n"
     ]
    }
   ],
   "metadata": {}
  },
  {
   "cell_type": "markdown",
   "source": [
    "## yml 파일 일기 / 쓰기"
   ],
   "metadata": {}
  },
  {
   "cell_type": "code",
   "execution_count": 39,
   "source": [
    "!pip install pyyaml"
   ],
   "outputs": [
    {
     "output_type": "stream",
     "name": "stdout",
     "text": [
      "Collecting pyyaml\n",
      "  Downloading PyYAML-5.4.1-cp39-cp39-win_amd64.whl (213 kB)\n",
      "Installing collected packages: pyyaml\n",
      "Successfully installed pyyaml-5.4.1\n"
     ]
    }
   ],
   "metadata": {}
  },
  {
   "cell_type": "code",
   "execution_count": 41,
   "source": [
    "import yaml\r\n",
    "\r\n",
    "with open('./Sample/test.yml') as f:\r\n",
    "    vegetables = yaml.load(f, Loader=yaml.FullLoader)\r\n",
    "    print(vegetables)"
   ],
   "outputs": [
    {
     "output_type": "stream",
     "name": "stdout",
     "text": [
      "{'Vegetables': ['Pepper', 'Tomato', 'Garlic']}\n"
     ]
    }
   ],
   "metadata": {}
  },
  {
   "cell_type": "code",
   "execution_count": 43,
   "source": [
    "with open('./Sample/test1.yml') as f:\r\n",
    "    deployment_def = yaml.load(f, Loader=yaml.FullLoader)\r\n",
    "deployment_def"
   ],
   "outputs": [
    {
     "output_type": "execute_result",
     "data": {
      "text/plain": [
       "{'apiVersion': 'apps/v1',\n",
       " 'kind': 'Deployment',\n",
       " 'metadata': {'name': 'frontend',\n",
       "  'labels': {'app': 'mywebsite', 'tier': 'frontend'}},\n",
       " 'spec': {'replicas': 3,\n",
       "  'template': {'metadata': {'name': 'myapp-pod', 'labels': {'app': 'myapp'}},\n",
       "   'spec': {'containers': {'name': 'nginx', 'image': 'nginx'}},\n",
       "   'selector': {'matchLabels': {'app': 'myapp'}}}}}"
      ]
     },
     "metadata": {},
     "execution_count": 43
    }
   ],
   "metadata": {}
  },
  {
   "cell_type": "code",
   "execution_count": 44,
   "source": [
    "with open('./Sample/test2.yml') as f:\r\n",
    "    cars_original = yaml.load(f, Loader=yaml.FullLoader)\r\n",
    "    print(cars_original)\r\n",
    "    print('-'*10)\r\n",
    "    cars_sorted = yaml.dump(cars_original, sort_keys=True)\r\n",
    "    print(cars_sorted)\r\n"
   ],
   "outputs": [
    {
     "output_type": "stream",
     "name": "stdout",
     "text": [
      "{'hyundai': 45000, 'tesla': 65000, 'chevrolet': 42000, 'audi': 51000, 'mercedesbenz': 80000}\n",
      "----------\n",
      "audi: 51000\n",
      "chevrolet: 42000\n",
      "hyundai: 45000\n",
      "mercedesbenz: 80000\n",
      "tesla: 65000\n",
      "\n"
     ]
    }
   ],
   "metadata": {}
  },
  {
   "cell_type": "code",
   "execution_count": 45,
   "source": [
    "with open('./Sample/test2.yml') as f:\r\n",
    "    cars_original = yaml.load(f, Loader=yaml.FullLoader)\r\n",
    "    print(cars_original)\r\n",
    "    print('-'*10)\r\n",
    "    for key, value in sorted(cars_original.items(), key=lambda item:item[1]):\r\n",
    "        print(key, ':', value)"
   ],
   "outputs": [
    {
     "output_type": "stream",
     "name": "stdout",
     "text": [
      "{'hyundai': 45000, 'tesla': 65000, 'chevrolet': 42000, 'audi': 51000, 'mercedesbenz': 80000}\n",
      "----------\n",
      "chevrolet : 42000\n",
      "hyundai : 45000\n",
      "audi : 51000\n",
      "tesla : 65000\n",
      "mercedesbenz : 80000\n"
     ]
    }
   ],
   "metadata": {}
  },
  {
   "cell_type": "code",
   "execution_count": 47,
   "source": [
    "fruits = {'fruits': ['blueberry', 'apple', 'orange']}\r\n",
    "\r\n",
    "with open('./Sample/fruits.yaml', 'w') as f:\r\n",
    "    yaml.dump(fruits, f)"
   ],
   "outputs": [],
   "metadata": {}
  }
 ],
 "metadata": {
  "orig_nbformat": 4,
  "language_info": {
   "name": "python",
   "version": "3.9.5",
   "mimetype": "text/x-python",
   "codemirror_mode": {
    "name": "ipython",
    "version": 3
   },
   "pygments_lexer": "ipython3",
   "nbconvert_exporter": "python",
   "file_extension": ".py"
  },
  "kernelspec": {
   "name": "python3",
   "display_name": "Python 3.9.5 64-bit"
  },
  "interpreter": {
   "hash": "5d44725d55c3c25373c9cea7b363fe9d5696c3b23e8383192da0211bfba569d6"
  }
 },
 "nbformat": 4,
 "nbformat_minor": 2
}