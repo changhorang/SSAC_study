{
 "cells": [
  {
   "cell_type": "markdown",
   "source": [
    "## numpy slicing\r\n",
    "### boolean slicing"
   ],
   "metadata": {}
  },
  {
   "cell_type": "code",
   "execution_count": 1,
   "source": [
    "import numpy as np\r\n",
    "import matplotlib.pyplot as plt\r\n",
    "%matplotlib inline\r\n",
    "\r\n",
    "def pprint(arr):\r\n",
    "    print(f'type: {type(arr)}')\r\n",
    "    print(f'shape: {arr.shape}, dimension: {arr.ndim}, dtype: {arr.dtype}')\r\n",
    "    print('Arrays Data:\\n', arr)"
   ],
   "outputs": [],
   "metadata": {}
  },
  {
   "cell_type": "code",
   "execution_count": 2,
   "source": [
    "a1 = np.arange(1, 25).reshape((4, 6))\r\n",
    "pprint(a1)"
   ],
   "outputs": [
    {
     "output_type": "stream",
     "name": "stdout",
     "text": [
      "type: <class 'numpy.ndarray'>\n",
      "shape: (4, 6), dimension: 2, dtype: int32\n",
      "Arrays Data:\n",
      " [[ 1  2  3  4  5  6]\n",
      " [ 7  8  9 10 11 12]\n",
      " [13 14 15 16 17 18]\n",
      " [19 20 21 22 23 24]]\n"
     ]
    }
   ],
   "metadata": {}
  },
  {
   "cell_type": "code",
   "execution_count": 3,
   "source": [
    "even_arr = a1 % 2 == 0\r\n",
    "pprint(even_arr)\r\n",
    "a1[even_arr]"
   ],
   "outputs": [
    {
     "output_type": "stream",
     "name": "stdout",
     "text": [
      "type: <class 'numpy.ndarray'>\n",
      "shape: (4, 6), dimension: 2, dtype: bool\n",
      "Arrays Data:\n",
      " [[False  True False  True False  True]\n",
      " [False  True False  True False  True]\n",
      " [False  True False  True False  True]\n",
      " [False  True False  True False  True]]\n"
     ]
    },
    {
     "output_type": "execute_result",
     "data": {
      "text/plain": [
       "array([ 2,  4,  6,  8, 10, 12, 14, 16, 18, 20, 22, 24])"
      ]
     },
     "metadata": {},
     "execution_count": 3
    }
   ],
   "metadata": {}
  },
  {
   "cell_type": "code",
   "execution_count": 4,
   "source": [
    "np.sum(a1)"
   ],
   "outputs": [
    {
     "output_type": "execute_result",
     "data": {
      "text/plain": [
       "300"
      ]
     },
     "metadata": {},
     "execution_count": 4
    }
   ],
   "metadata": {}
  },
  {
   "cell_type": "code",
   "execution_count": 5,
   "source": [
    "import pandas as pd\r\n",
    "rains_in_seatle = pd.read_csv('./Sample/Seattle2014.csv')\r\n",
    "rains_arr = rains_in_seatle['PRCP'].values\r\n",
    "print('Data size:', len(rains_arr))"
   ],
   "outputs": [
    {
     "output_type": "stream",
     "name": "stdout",
     "text": [
      "Data size: 365\n"
     ]
    }
   ],
   "metadata": {}
  },
  {
   "cell_type": "code",
   "execution_count": 6,
   "source": [
    "days_arr = np.arange(0, 365)"
   ],
   "outputs": [],
   "metadata": {}
  },
  {
   "cell_type": "code",
   "execution_count": 7,
   "source": [
    "# 1월의 날수\r\n",
    "condition_jan = days_arr < 31"
   ],
   "outputs": [],
   "metadata": {}
  },
  {
   "cell_type": "code",
   "execution_count": 10,
   "source": [
    "# 31일 까지만 True가 나옴\r\n",
    "condition_jan[:40]"
   ],
   "outputs": [
    {
     "output_type": "execute_result",
     "data": {
      "text/plain": [
       "array([ True,  True,  True,  True,  True,  True,  True,  True,  True,\n",
       "        True,  True,  True,  True,  True,  True,  True,  True,  True,\n",
       "        True,  True,  True,  True,  True,  True,  True,  True,  True,\n",
       "        True,  True,  True,  True, False, False, False, False, False,\n",
       "       False, False, False, False])"
      ]
     },
     "metadata": {},
     "execution_count": 10
    }
   ],
   "metadata": {}
  },
  {
   "cell_type": "code",
   "execution_count": 12,
   "source": [
    "rains_jan = rains_arr[condition_jan]"
   ],
   "outputs": [],
   "metadata": {}
  },
  {
   "cell_type": "code",
   "execution_count": 115,
   "source": [
    "len(rains_jan), np.sum(rains_jan), np.mean(rains_jan)"
   ],
   "outputs": [
    {
     "output_type": "execute_result",
     "data": {
      "text/plain": [
       "(30, 917, 30.566666666666666)"
      ]
     },
     "metadata": {},
     "execution_count": 115
    }
   ],
   "metadata": {}
  },
  {
   "cell_type": "code",
   "execution_count": 118,
   "source": [
    "import pandas as pd\r\n",
    "rains_in_seatle = pd.read_csv('./Sample/Seattle2014.csv')\r\n",
    "rains_arr = rains_in_seatle['PRCP'].values\r\n",
    "rains_arr[:360]\r\n",
    "\r\n",
    "def rains(self):\r\n",
    "    if self > 12 or self < 1:\r\n",
    "        print(\"Error\")\r\n",
    "    else:\r\n",
    "        days_arr = np.arange(0, 365)\r\n",
    "        start = (self - 1)*30\r\n",
    "        end = self*30\r\n",
    "\r\n",
    "        rains_mon = days_arr[start:end]\r\n",
    "        # print(rains_mon)\r\n",
    "        print(f'{self}월 내린 총 강우량은: ', np.sum(rains_mon))\r\n",
    "        print(f'{self}월 내린 평균 강우량은: ', np.mean(rains_mon))\r\n",
    "\r\n",
    "# 테스트\r\n",
    "rains(12)"
   ],
   "outputs": [
    {
     "output_type": "stream",
     "name": "stdout",
     "text": [
      "12월 내린 총 강우량은:  10335\n",
      "12월 내린 평균 강우량은:  344.5\n"
     ]
    }
   ],
   "metadata": {}
  },
  {
   "cell_type": "markdown",
   "source": [
    "## 팬시 인덱싱(Fancy Indexing)"
   ],
   "metadata": {}
  },
  {
   "cell_type": "code",
   "execution_count": 52,
   "source": [
    "arr = np.arange(1, 25).reshape((4, 6))\r\n",
    "pprint(arr)"
   ],
   "outputs": [
    {
     "output_type": "stream",
     "name": "stdout",
     "text": [
      "type: <class 'numpy.ndarray'>\n",
      "shape: (4, 6), dimension: 2, dtype: int32\n",
      "Arrays Data:\n",
      " [[ 1  2  3  4  5  6]\n",
      " [ 7  8  9 10 11 12]\n",
      " [13 14 15 16 17 18]\n",
      " [19 20 21 22 23 24]]\n"
     ]
    }
   ],
   "metadata": {}
  },
  {
   "cell_type": "code",
   "execution_count": 53,
   "source": [
    "[arr[0, 0], arr[1, 1], arr[2, 2], arr[3, 3]]"
   ],
   "outputs": [
    {
     "output_type": "execute_result",
     "data": {
      "text/plain": [
       "[1, 8, 15, 22]"
      ]
     },
     "metadata": {},
     "execution_count": 53
    }
   ],
   "metadata": {}
  },
  {
   "cell_type": "code",
   "execution_count": 54,
   "source": [
    "arr[[0, 1, 2, 3], [0, 1, 2, 3]]"
   ],
   "outputs": [
    {
     "output_type": "execute_result",
     "data": {
      "text/plain": [
       "array([ 1,  8, 15, 22])"
      ]
     },
     "metadata": {},
     "execution_count": 54
    }
   ],
   "metadata": {}
  },
  {
   "cell_type": "code",
   "execution_count": 55,
   "source": [
    "arr[:, [1, 2]]"
   ],
   "outputs": [
    {
     "output_type": "execute_result",
     "data": {
      "text/plain": [
       "array([[ 2,  3],\n",
       "       [ 8,  9],\n",
       "       [14, 15],\n",
       "       [20, 21]])"
      ]
     },
     "metadata": {},
     "execution_count": 55
    }
   ],
   "metadata": {}
  },
  {
   "cell_type": "markdown",
   "source": [
    "# 배열 변환\r\n",
    "## np.ravel()"
   ],
   "metadata": {}
  },
  {
   "cell_type": "code",
   "execution_count": 69,
   "source": [
    "a = np.random.randint(1, 10, (2, 3))\r\n",
    "pprint(a)"
   ],
   "outputs": [
    {
     "output_type": "stream",
     "name": "stdout",
     "text": [
      "type: <class 'numpy.ndarray'>\n",
      "shape: (2, 3), dimension: 2, dtype: int32\n",
      "Arrays Data:\n",
      " [[9 8 5]\n",
      " [3 4 6]]\n"
     ]
    }
   ],
   "metadata": {}
  },
  {
   "cell_type": "code",
   "execution_count": 70,
   "source": [
    "a.ravel()"
   ],
   "outputs": [
    {
     "output_type": "execute_result",
     "data": {
      "text/plain": [
       "array([9, 8, 5, 3, 4, 6])"
      ]
     },
     "metadata": {},
     "execution_count": 70
    }
   ],
   "metadata": {}
  },
  {
   "cell_type": "code",
   "execution_count": 72,
   "source": [
    "b = a.ravel()\r\n",
    "pprint(b)"
   ],
   "outputs": [
    {
     "output_type": "stream",
     "name": "stdout",
     "text": [
      "type: <class 'numpy.ndarray'>\n",
      "shape: (6,), dimension: 1, dtype: int32\n",
      "Arrays Data:\n",
      " [9 8 5 3 4 6]\n"
     ]
    }
   ],
   "metadata": {}
  },
  {
   "cell_type": "code",
   "execution_count": 73,
   "source": [
    "b[0] = 99\r\n",
    "pprint(b)"
   ],
   "outputs": [
    {
     "output_type": "stream",
     "name": "stdout",
     "text": [
      "type: <class 'numpy.ndarray'>\n",
      "shape: (6,), dimension: 1, dtype: int32\n",
      "Arrays Data:\n",
      " [99  8  5  3  4  6]\n"
     ]
    }
   ],
   "metadata": {}
  },
  {
   "cell_type": "code",
   "execution_count": 74,
   "source": [
    "# ravel은 a 행렬의 view이므로 b를 수정시 같이 반영\r\n",
    "pprint(a)"
   ],
   "outputs": [
    {
     "output_type": "stream",
     "name": "stdout",
     "text": [
      "type: <class 'numpy.ndarray'>\n",
      "shape: (2, 3), dimension: 2, dtype: int32\n",
      "Arrays Data:\n",
      " [[99  8  5]\n",
      " [ 3  4  6]]\n"
     ]
    }
   ],
   "metadata": {}
  },
  {
   "cell_type": "markdown",
   "source": [
    "## np.reshape()"
   ],
   "metadata": {}
  },
  {
   "cell_type": "code",
   "execution_count": 81,
   "source": [
    "a = np.random.randint(1, 10, (2, 3))\r\n",
    "pprint(a)"
   ],
   "outputs": [
    {
     "output_type": "stream",
     "name": "stdout",
     "text": [
      "type: <class 'numpy.ndarray'>\n",
      "shape: (2, 3), dimension: 2, dtype: int32\n",
      "Arrays Data:\n",
      " [[7 3 3]\n",
      " [4 5 4]]\n"
     ]
    }
   ],
   "metadata": {}
  },
  {
   "cell_type": "code",
   "execution_count": 82,
   "source": [
    "result = a.reshape((3, 1, 2))\r\n",
    "pprint(result)"
   ],
   "outputs": [
    {
     "output_type": "stream",
     "name": "stdout",
     "text": [
      "type: <class 'numpy.ndarray'>\n",
      "shape: (3, 1, 2), dimension: 3, dtype: int32\n",
      "Arrays Data:\n",
      " [[[7 3]]\n",
      "\n",
      " [[3 4]]\n",
      "\n",
      " [[5 4]]]\n"
     ]
    }
   ],
   "metadata": {}
  },
  {
   "cell_type": "markdown",
   "source": [
    "## np.resize()\r\n",
    "- 사이즈가 안맞는 경우, 0 추가하거나 뒤에 element 삭제"
   ],
   "metadata": {}
  },
  {
   "cell_type": "code",
   "execution_count": 130,
   "source": [
    "a = np.random.randint(1, 10, (2, 6))\r\n",
    "pprint(a)"
   ],
   "outputs": [
    {
     "output_type": "stream",
     "name": "stdout",
     "text": [
      "type: <class 'numpy.ndarray'>\n",
      "shape: (2, 6), dimension: 2, dtype: int32\n",
      "Arrays Data:\n",
      " [[1 8 8 6 3 4]\n",
      " [5 3 7 6 8 3]]\n"
     ]
    }
   ],
   "metadata": {}
  },
  {
   "cell_type": "code",
   "execution_count": 131,
   "source": [
    "a.resize((6, 2))\r\n",
    "pprint(a)"
   ],
   "outputs": [
    {
     "output_type": "stream",
     "name": "stdout",
     "text": [
      "type: <class 'numpy.ndarray'>\n",
      "shape: (6, 2), dimension: 2, dtype: int32\n",
      "Arrays Data:\n",
      " [[1 8]\n",
      " [8 6]\n",
      " [3 4]\n",
      " [5 3]\n",
      " [7 6]\n",
      " [8 3]]\n"
     ]
    }
   ],
   "metadata": {}
  },
  {
   "cell_type": "code",
   "execution_count": 132,
   "source": [
    "a.resize((2, 10))\r\n",
    "pprint(a)\r\n",
    "\r\n",
    "a.resize((2, 5))\r\n",
    "pprint(a)"
   ],
   "outputs": [
    {
     "output_type": "stream",
     "name": "stdout",
     "text": [
      "type: <class 'numpy.ndarray'>\n",
      "shape: (2, 10), dimension: 2, dtype: int32\n",
      "Arrays Data:\n",
      " [[1 8 8 6 3 4 5 3 7 6]\n",
      " [8 3 0 0 0 0 0 0 0 0]]\n",
      "type: <class 'numpy.ndarray'>\n",
      "shape: (2, 5), dimension: 2, dtype: int32\n",
      "Arrays Data:\n",
      " [[1 8 8 6 3]\n",
      " [4 5 3 7 6]]\n"
     ]
    }
   ],
   "metadata": {}
  },
  {
   "cell_type": "markdown",
   "source": [
    "## np.append()\r\n",
    "- axis가 없는 경우 1차원 배열로 변형되어 결합\r\n",
    "- axis 값이 있는 경우, shape이 **꼭** 같아야함"
   ],
   "metadata": {}
  },
  {
   "cell_type": "code",
   "execution_count": 133,
   "source": [
    "a = np.arange(1, 10).reshape((3, 3))\r\n",
    "b = np.arange(10, 19).reshape((3, 3))\r\n",
    "pprint(a)\r\n",
    "pprint(b)"
   ],
   "outputs": [
    {
     "output_type": "stream",
     "name": "stdout",
     "text": [
      "type: <class 'numpy.ndarray'>\n",
      "shape: (3, 3), dimension: 2, dtype: int32\n",
      "Arrays Data:\n",
      " [[1 2 3]\n",
      " [4 5 6]\n",
      " [7 8 9]]\n",
      "type: <class 'numpy.ndarray'>\n",
      "shape: (3, 3), dimension: 2, dtype: int32\n",
      "Arrays Data:\n",
      " [[10 11 12]\n",
      " [13 14 15]\n",
      " [16 17 18]]\n"
     ]
    }
   ],
   "metadata": {}
  },
  {
   "cell_type": "code",
   "execution_count": 135,
   "source": [
    "# axis가 없는 경우 1차원 배열로 변형되어 결합\r\n",
    "result = np.append(a, b)\r\n",
    "pprint(result)\r\n",
    "pprint(a)"
   ],
   "outputs": [
    {
     "output_type": "stream",
     "name": "stdout",
     "text": [
      "type: <class 'numpy.ndarray'>\n",
      "shape: (18,), dimension: 1, dtype: int32\n",
      "Arrays Data:\n",
      " [ 1  2  3  4  5  6  7  8  9 10 11 12 13 14 15 16 17 18]\n",
      "type: <class 'numpy.ndarray'>\n",
      "shape: (3, 3), dimension: 2, dtype: int32\n",
      "Arrays Data:\n",
      " [[1 2 3]\n",
      " [4 5 6]\n",
      " [7 8 9]]\n"
     ]
    }
   ],
   "metadata": {}
  },
  {
   "cell_type": "code",
   "execution_count": 137,
   "source": [
    "# axis = 0\r\n",
    "result = np.append(a, b, axis=0)\r\n",
    "pprint(result)"
   ],
   "outputs": [
    {
     "output_type": "stream",
     "name": "stdout",
     "text": [
      "type: <class 'numpy.ndarray'>\n",
      "shape: (6, 3), dimension: 2, dtype: int32\n",
      "Arrays Data:\n",
      " [[ 1  2  3]\n",
      " [ 4  5  6]\n",
      " [ 7  8  9]\n",
      " [10 11 12]\n",
      " [13 14 15]\n",
      " [16 17 18]]\n"
     ]
    }
   ],
   "metadata": {}
  },
  {
   "cell_type": "code",
   "execution_count": 139,
   "source": [
    "# axis 값이 있는 경우, shape이 같아야함\r\n",
    "different_shape_arr = np.arange(10, 20).reshape(2, 5)\r\n",
    "pprint(different_shape_arr)\r\n",
    "np.append(a, different_shape_arr, axis=0)"
   ],
   "outputs": [
    {
     "output_type": "stream",
     "name": "stdout",
     "text": [
      "type: <class 'numpy.ndarray'>\n",
      "shape: (2, 5), dimension: 2, dtype: int32\n",
      "Arrays Data:\n",
      " [[10 11 12 13 14]\n",
      " [15 16 17 18 19]]\n"
     ]
    },
    {
     "output_type": "error",
     "ename": "ValueError",
     "evalue": "all the input array dimensions for the concatenation axis must match exactly, but along dimension 1, the array at index 0 has size 3 and the array at index 1 has size 5",
     "traceback": [
      "\u001b[1;31m---------------------------------------------------------------------------\u001b[0m",
      "\u001b[1;31mValueError\u001b[0m                                Traceback (most recent call last)",
      "\u001b[1;32mC:\\Users\\CHANGH~1\\AppData\\Local\\Temp/ipykernel_11840/2967862893.py\u001b[0m in \u001b[0;36m<module>\u001b[1;34m\u001b[0m\n\u001b[0;32m      2\u001b[0m \u001b[0mdifferent_shape_arr\u001b[0m \u001b[1;33m=\u001b[0m \u001b[0mnp\u001b[0m\u001b[1;33m.\u001b[0m\u001b[0marange\u001b[0m\u001b[1;33m(\u001b[0m\u001b[1;36m10\u001b[0m\u001b[1;33m,\u001b[0m \u001b[1;36m20\u001b[0m\u001b[1;33m)\u001b[0m\u001b[1;33m.\u001b[0m\u001b[0mreshape\u001b[0m\u001b[1;33m(\u001b[0m\u001b[1;36m2\u001b[0m\u001b[1;33m,\u001b[0m \u001b[1;36m5\u001b[0m\u001b[1;33m)\u001b[0m\u001b[1;33m\u001b[0m\u001b[1;33m\u001b[0m\u001b[0m\n\u001b[0;32m      3\u001b[0m \u001b[0mpprint\u001b[0m\u001b[1;33m(\u001b[0m\u001b[0mdifferent_shape_arr\u001b[0m\u001b[1;33m)\u001b[0m\u001b[1;33m\u001b[0m\u001b[1;33m\u001b[0m\u001b[0m\n\u001b[1;32m----> 4\u001b[1;33m \u001b[0mnp\u001b[0m\u001b[1;33m.\u001b[0m\u001b[0mappend\u001b[0m\u001b[1;33m(\u001b[0m\u001b[0ma\u001b[0m\u001b[1;33m,\u001b[0m \u001b[0mdifferent_shape_arr\u001b[0m\u001b[1;33m,\u001b[0m \u001b[0maxis\u001b[0m\u001b[1;33m=\u001b[0m\u001b[1;36m0\u001b[0m\u001b[1;33m)\u001b[0m\u001b[1;33m\u001b[0m\u001b[1;33m\u001b[0m\u001b[0m\n\u001b[0m",
      "\u001b[1;32m<__array_function__ internals>\u001b[0m in \u001b[0;36mappend\u001b[1;34m(*args, **kwargs)\u001b[0m\n",
      "\u001b[1;32m~\\AppData\\Local\\Programs\\Python\\Python39\\lib\\site-packages\\numpy\\lib\\function_base.py\u001b[0m in \u001b[0;36mappend\u001b[1;34m(arr, values, axis)\u001b[0m\n\u001b[0;32m   4743\u001b[0m         \u001b[0mvalues\u001b[0m \u001b[1;33m=\u001b[0m \u001b[0mravel\u001b[0m\u001b[1;33m(\u001b[0m\u001b[0mvalues\u001b[0m\u001b[1;33m)\u001b[0m\u001b[1;33m\u001b[0m\u001b[1;33m\u001b[0m\u001b[0m\n\u001b[0;32m   4744\u001b[0m         \u001b[0maxis\u001b[0m \u001b[1;33m=\u001b[0m \u001b[0marr\u001b[0m\u001b[1;33m.\u001b[0m\u001b[0mndim\u001b[0m\u001b[1;33m-\u001b[0m\u001b[1;36m1\u001b[0m\u001b[1;33m\u001b[0m\u001b[1;33m\u001b[0m\u001b[0m\n\u001b[1;32m-> 4745\u001b[1;33m     \u001b[1;32mreturn\u001b[0m \u001b[0mconcatenate\u001b[0m\u001b[1;33m(\u001b[0m\u001b[1;33m(\u001b[0m\u001b[0marr\u001b[0m\u001b[1;33m,\u001b[0m \u001b[0mvalues\u001b[0m\u001b[1;33m)\u001b[0m\u001b[1;33m,\u001b[0m \u001b[0maxis\u001b[0m\u001b[1;33m=\u001b[0m\u001b[0maxis\u001b[0m\u001b[1;33m)\u001b[0m\u001b[1;33m\u001b[0m\u001b[1;33m\u001b[0m\u001b[0m\n\u001b[0m\u001b[0;32m   4746\u001b[0m \u001b[1;33m\u001b[0m\u001b[0m\n\u001b[0;32m   4747\u001b[0m \u001b[1;33m\u001b[0m\u001b[0m\n",
      "\u001b[1;32m<__array_function__ internals>\u001b[0m in \u001b[0;36mconcatenate\u001b[1;34m(*args, **kwargs)\u001b[0m\n",
      "\u001b[1;31mValueError\u001b[0m: all the input array dimensions for the concatenation axis must match exactly, but along dimension 1, the array at index 0 has size 3 and the array at index 1 has size 5"
     ]
    }
   ],
   "metadata": {}
  },
  {
   "cell_type": "code",
   "execution_count": 141,
   "source": [
    "# axis = 1\r\n",
    "result = np.append(a, b, axis=1)\r\n",
    "pprint(result)"
   ],
   "outputs": [
    {
     "output_type": "stream",
     "name": "stdout",
     "text": [
      "type: <class 'numpy.ndarray'>\n",
      "shape: (3, 6), dimension: 2, dtype: int32\n",
      "Arrays Data:\n",
      " [[ 1  2  3 10 11 12]\n",
      " [ 4  5  6 13 14 15]\n",
      " [ 7  8  9 16 17 18]]\n"
     ]
    }
   ],
   "metadata": {}
  },
  {
   "cell_type": "code",
   "execution_count": 142,
   "source": [
    "# size가 동일해야함\r\n",
    "different_shape_arr = np.arange(10, 20).reshape(5, 2)\r\n",
    "pprint(different_shape_arr)\r\n",
    "np.append(a, different_shape_arr, axis=1)"
   ],
   "outputs": [
    {
     "output_type": "stream",
     "name": "stdout",
     "text": [
      "type: <class 'numpy.ndarray'>\n",
      "shape: (5, 2), dimension: 2, dtype: int32\n",
      "Arrays Data:\n",
      " [[10 11]\n",
      " [12 13]\n",
      " [14 15]\n",
      " [16 17]\n",
      " [18 19]]\n"
     ]
    },
    {
     "output_type": "error",
     "ename": "ValueError",
     "evalue": "all the input array dimensions for the concatenation axis must match exactly, but along dimension 0, the array at index 0 has size 3 and the array at index 1 has size 5",
     "traceback": [
      "\u001b[1;31m---------------------------------------------------------------------------\u001b[0m",
      "\u001b[1;31mValueError\u001b[0m                                Traceback (most recent call last)",
      "\u001b[1;32mC:\\Users\\CHANGH~1\\AppData\\Local\\Temp/ipykernel_11840/3824966585.py\u001b[0m in \u001b[0;36m<module>\u001b[1;34m\u001b[0m\n\u001b[0;32m      1\u001b[0m \u001b[0mdifferent_shape_arr\u001b[0m \u001b[1;33m=\u001b[0m \u001b[0mnp\u001b[0m\u001b[1;33m.\u001b[0m\u001b[0marange\u001b[0m\u001b[1;33m(\u001b[0m\u001b[1;36m10\u001b[0m\u001b[1;33m,\u001b[0m \u001b[1;36m20\u001b[0m\u001b[1;33m)\u001b[0m\u001b[1;33m.\u001b[0m\u001b[0mreshape\u001b[0m\u001b[1;33m(\u001b[0m\u001b[1;36m5\u001b[0m\u001b[1;33m,\u001b[0m \u001b[1;36m2\u001b[0m\u001b[1;33m)\u001b[0m\u001b[1;33m\u001b[0m\u001b[1;33m\u001b[0m\u001b[0m\n\u001b[0;32m      2\u001b[0m \u001b[0mpprint\u001b[0m\u001b[1;33m(\u001b[0m\u001b[0mdifferent_shape_arr\u001b[0m\u001b[1;33m)\u001b[0m\u001b[1;33m\u001b[0m\u001b[1;33m\u001b[0m\u001b[0m\n\u001b[1;32m----> 3\u001b[1;33m \u001b[0mnp\u001b[0m\u001b[1;33m.\u001b[0m\u001b[0mappend\u001b[0m\u001b[1;33m(\u001b[0m\u001b[0ma\u001b[0m\u001b[1;33m,\u001b[0m \u001b[0mdifferent_shape_arr\u001b[0m\u001b[1;33m,\u001b[0m \u001b[0maxis\u001b[0m\u001b[1;33m=\u001b[0m\u001b[1;36m1\u001b[0m\u001b[1;33m)\u001b[0m\u001b[1;33m\u001b[0m\u001b[1;33m\u001b[0m\u001b[0m\n\u001b[0m",
      "\u001b[1;32m<__array_function__ internals>\u001b[0m in \u001b[0;36mappend\u001b[1;34m(*args, **kwargs)\u001b[0m\n",
      "\u001b[1;32m~\\AppData\\Local\\Programs\\Python\\Python39\\lib\\site-packages\\numpy\\lib\\function_base.py\u001b[0m in \u001b[0;36mappend\u001b[1;34m(arr, values, axis)\u001b[0m\n\u001b[0;32m   4743\u001b[0m         \u001b[0mvalues\u001b[0m \u001b[1;33m=\u001b[0m \u001b[0mravel\u001b[0m\u001b[1;33m(\u001b[0m\u001b[0mvalues\u001b[0m\u001b[1;33m)\u001b[0m\u001b[1;33m\u001b[0m\u001b[1;33m\u001b[0m\u001b[0m\n\u001b[0;32m   4744\u001b[0m         \u001b[0maxis\u001b[0m \u001b[1;33m=\u001b[0m \u001b[0marr\u001b[0m\u001b[1;33m.\u001b[0m\u001b[0mndim\u001b[0m\u001b[1;33m-\u001b[0m\u001b[1;36m1\u001b[0m\u001b[1;33m\u001b[0m\u001b[1;33m\u001b[0m\u001b[0m\n\u001b[1;32m-> 4745\u001b[1;33m     \u001b[1;32mreturn\u001b[0m \u001b[0mconcatenate\u001b[0m\u001b[1;33m(\u001b[0m\u001b[1;33m(\u001b[0m\u001b[0marr\u001b[0m\u001b[1;33m,\u001b[0m \u001b[0mvalues\u001b[0m\u001b[1;33m)\u001b[0m\u001b[1;33m,\u001b[0m \u001b[0maxis\u001b[0m\u001b[1;33m=\u001b[0m\u001b[0maxis\u001b[0m\u001b[1;33m)\u001b[0m\u001b[1;33m\u001b[0m\u001b[1;33m\u001b[0m\u001b[0m\n\u001b[0m\u001b[0;32m   4746\u001b[0m \u001b[1;33m\u001b[0m\u001b[0m\n\u001b[0;32m   4747\u001b[0m \u001b[1;33m\u001b[0m\u001b[0m\n",
      "\u001b[1;32m<__array_function__ internals>\u001b[0m in \u001b[0;36mconcatenate\u001b[1;34m(*args, **kwargs)\u001b[0m\n",
      "\u001b[1;31mValueError\u001b[0m: all the input array dimensions for the concatenation axis must match exactly, but along dimension 0, the array at index 0 has size 3 and the array at index 1 has size 5"
     ]
    }
   ],
   "metadata": {}
  },
  {
   "cell_type": "markdown",
   "source": [
    "## np.insert\r\n",
    "- axis를 지정하지 않을 시 1차원으로 배열 변환\r\n",
    "- 지정 index에 값 추가\r\n",
    "- axis 추가 시 해당 index에 값을 1열 또는 1행으로 추가 또는 튜플 형태로 값 지정해서 추가"
   ],
   "metadata": {}
  },
  {
   "cell_type": "code",
   "execution_count": 143,
   "source": [
    "a = np.arange(1, 10).reshape(3, 3)\r\n",
    "pprint(a)"
   ],
   "outputs": [
    {
     "output_type": "stream",
     "name": "stdout",
     "text": [
      "type: <class 'numpy.ndarray'>\n",
      "shape: (3, 3), dimension: 2, dtype: int32\n",
      "Arrays Data:\n",
      " [[1 2 3]\n",
      " [4 5 6]\n",
      " [7 8 9]]\n"
     ]
    }
   ],
   "metadata": {}
  },
  {
   "cell_type": "code",
   "execution_count": 144,
   "source": [
    "np.insert(a, 1, 999)"
   ],
   "outputs": [
    {
     "output_type": "execute_result",
     "data": {
      "text/plain": [
       "array([  1, 999,   2,   3,   4,   5,   6,   7,   8,   9])"
      ]
     },
     "metadata": {},
     "execution_count": 144
    }
   ],
   "metadata": {}
  },
  {
   "cell_type": "code",
   "execution_count": 149,
   "source": [
    "np.insert(a, 1, 999, axis=0)"
   ],
   "outputs": [
    {
     "output_type": "execute_result",
     "data": {
      "text/plain": [
       "array([[  1,   2,   3],\n",
       "       [999, 999, 999],\n",
       "       [  4,   5,   6],\n",
       "       [  7,   8,   9]])"
      ]
     },
     "metadata": {},
     "execution_count": 149
    }
   ],
   "metadata": {}
  },
  {
   "cell_type": "code",
   "execution_count": 150,
   "source": [
    "np.insert(a, 1, (9,9,9), axis=0)"
   ],
   "outputs": [
    {
     "output_type": "execute_result",
     "data": {
      "text/plain": [
       "array([[1, 2, 3],\n",
       "       [9, 9, 9],\n",
       "       [4, 5, 6],\n",
       "       [7, 8, 9]])"
      ]
     },
     "metadata": {},
     "execution_count": 150
    }
   ],
   "metadata": {}
  },
  {
   "cell_type": "code",
   "execution_count": 146,
   "source": [
    "np.insert(a, 1, 999, axis=1)"
   ],
   "outputs": [
    {
     "output_type": "execute_result",
     "data": {
      "text/plain": [
       "array([[  1, 999,   2,   3],\n",
       "       [  4, 999,   5,   6],\n",
       "       [  7, 999,   8,   9]])"
      ]
     },
     "metadata": {},
     "execution_count": 146
    }
   ],
   "metadata": {}
  },
  {
   "cell_type": "markdown",
   "source": [
    "## np.delete()\r\n",
    "- axis 지정되지 않을 시 1차원 배열로 변환\r\n",
    "- 삭제할 방향(행 또는 열)을 axis로 지정"
   ],
   "metadata": {}
  },
  {
   "cell_type": "code",
   "execution_count": 151,
   "source": [
    "a = np.arange(1, 10).reshape(3, 3)\r\n",
    "pprint(a)"
   ],
   "outputs": [
    {
     "output_type": "stream",
     "name": "stdout",
     "text": [
      "type: <class 'numpy.ndarray'>\n",
      "shape: (3, 3), dimension: 2, dtype: int32\n",
      "Arrays Data:\n",
      " [[1 2 3]\n",
      " [4 5 6]\n",
      " [7 8 9]]\n"
     ]
    }
   ],
   "metadata": {}
  },
  {
   "cell_type": "code",
   "execution_count": 152,
   "source": [
    "np.delete(a, 1)"
   ],
   "outputs": [
    {
     "output_type": "execute_result",
     "data": {
      "text/plain": [
       "array([1, 3, 4, 5, 6, 7, 8, 9])"
      ]
     },
     "metadata": {},
     "execution_count": 152
    }
   ],
   "metadata": {}
  },
  {
   "cell_type": "code",
   "execution_count": 153,
   "source": [
    "np.delete(a, 1, axis=0)"
   ],
   "outputs": [
    {
     "output_type": "execute_result",
     "data": {
      "text/plain": [
       "array([[1, 2, 3],\n",
       "       [7, 8, 9]])"
      ]
     },
     "metadata": {},
     "execution_count": 153
    }
   ],
   "metadata": {}
  },
  {
   "cell_type": "code",
   "execution_count": 154,
   "source": [
    "np.delete(a, 1, axis=1)"
   ],
   "outputs": [
    {
     "output_type": "execute_result",
     "data": {
      "text/plain": [
       "array([[1, 3],\n",
       "       [4, 6],\n",
       "       [7, 9]])"
      ]
     },
     "metadata": {},
     "execution_count": 154
    }
   ],
   "metadata": {}
  },
  {
   "cell_type": "markdown",
   "source": [
    "# 배열 결합\r\n",
    "## np.concatenate\r\n",
    "- default : 'axis=0'"
   ],
   "metadata": {}
  },
  {
   "cell_type": "code",
   "execution_count": 155,
   "source": [
    "a = np.arange(1, 7).reshape((2, 3))\r\n",
    "b = np.arange(7, 13).reshape((2, 3))\r\n",
    "pprint(a)\r\n",
    "pprint(b)"
   ],
   "outputs": [
    {
     "output_type": "stream",
     "name": "stdout",
     "text": [
      "type: <class 'numpy.ndarray'>\n",
      "shape: (2, 3), dimension: 2, dtype: int32\n",
      "Arrays Data:\n",
      " [[1 2 3]\n",
      " [4 5 6]]\n",
      "type: <class 'numpy.ndarray'>\n",
      "shape: (2, 3), dimension: 2, dtype: int32\n",
      "Arrays Data:\n",
      " [[ 7  8  9]\n",
      " [10 11 12]]\n"
     ]
    }
   ],
   "metadata": {}
  },
  {
   "cell_type": "code",
   "execution_count": 156,
   "source": [
    "# default, axis=0\r\n",
    "result = np.concatenate((a, b))\r\n",
    "result"
   ],
   "outputs": [
    {
     "output_type": "execute_result",
     "data": {
      "text/plain": [
       "array([[ 1,  2,  3],\n",
       "       [ 4,  5,  6],\n",
       "       [ 7,  8,  9],\n",
       "       [10, 11, 12]])"
      ]
     },
     "metadata": {},
     "execution_count": 156
    }
   ],
   "metadata": {}
  },
  {
   "cell_type": "code",
   "execution_count": 159,
   "source": [
    "result = np.concatenate((a, b), axis=0)\r\n",
    "result"
   ],
   "outputs": [
    {
     "output_type": "execute_result",
     "data": {
      "text/plain": [
       "array([[ 1,  2,  3],\n",
       "       [ 4,  5,  6],\n",
       "       [ 7,  8,  9],\n",
       "       [10, 11, 12]])"
      ]
     },
     "metadata": {},
     "execution_count": 159
    }
   ],
   "metadata": {}
  },
  {
   "cell_type": "code",
   "execution_count": 158,
   "source": [
    "result = np.concatenate((a, b), axis=1)\r\n",
    "result"
   ],
   "outputs": [
    {
     "output_type": "execute_result",
     "data": {
      "text/plain": [
       "array([[ 1,  2,  3,  7,  8,  9],\n",
       "       [ 4,  5,  6, 10, 11, 12]])"
      ]
     },
     "metadata": {},
     "execution_count": 158
    }
   ],
   "metadata": {}
  },
  {
   "cell_type": "markdown",
   "source": [
    "## np.vstack"
   ],
   "metadata": {}
  },
  {
   "cell_type": "code",
   "execution_count": 164,
   "source": [
    "a = np.arange(1, 7).reshape(2, 3)\r\n",
    "b = np.arange(7, 13).reshape(2, 3)\r\n",
    "pprint(a)\r\n",
    "pprint(b)"
   ],
   "outputs": [
    {
     "output_type": "stream",
     "name": "stdout",
     "text": [
      "type: <class 'numpy.ndarray'>\n",
      "shape: (2, 3), dimension: 2, dtype: int32\n",
      "Arrays Data:\n",
      " [[1 2 3]\n",
      " [4 5 6]]\n",
      "type: <class 'numpy.ndarray'>\n",
      "shape: (2, 3), dimension: 2, dtype: int32\n",
      "Arrays Data:\n",
      " [[ 7  8  9]\n",
      " [10 11 12]]\n"
     ]
    }
   ],
   "metadata": {}
  },
  {
   "cell_type": "code",
   "execution_count": 168,
   "source": [
    "np.vstack((a, b))"
   ],
   "outputs": [
    {
     "output_type": "execute_result",
     "data": {
      "text/plain": [
       "array([[ 1,  2,  3],\n",
       "       [ 4,  5,  6],\n",
       "       [ 7,  8,  9],\n",
       "       [10, 11, 12]])"
      ]
     },
     "metadata": {},
     "execution_count": 168
    }
   ],
   "metadata": {}
  },
  {
   "cell_type": "code",
   "execution_count": 169,
   "source": [
    "np.vstack((a, b, a, b))"
   ],
   "outputs": [
    {
     "output_type": "execute_result",
     "data": {
      "text/plain": [
       "array([[ 1,  2,  3],\n",
       "       [ 4,  5,  6],\n",
       "       [ 7,  8,  9],\n",
       "       [10, 11, 12],\n",
       "       [ 1,  2,  3],\n",
       "       [ 4,  5,  6],\n",
       "       [ 7,  8,  9],\n",
       "       [10, 11, 12]])"
      ]
     },
     "metadata": {},
     "execution_count": 169
    }
   ],
   "metadata": {}
  },
  {
   "cell_type": "code",
   "execution_count": 165,
   "source": [
    "a = np.arange(1, 7).reshape(2, 3)\r\n",
    "b = np.arange(7, 13).reshape(2, 3)\r\n",
    "pprint(a)\r\n",
    "pprint(b)"
   ],
   "outputs": [
    {
     "output_type": "stream",
     "name": "stdout",
     "text": [
      "type: <class 'numpy.ndarray'>\n",
      "shape: (2, 3), dimension: 2, dtype: int32\n",
      "Arrays Data:\n",
      " [[1 2 3]\n",
      " [4 5 6]]\n",
      "type: <class 'numpy.ndarray'>\n",
      "shape: (2, 3), dimension: 2, dtype: int32\n",
      "Arrays Data:\n",
      " [[ 7  8  9]\n",
      " [10 11 12]]\n"
     ]
    }
   ],
   "metadata": {}
  },
  {
   "cell_type": "code",
   "execution_count": 166,
   "source": [
    "np.hstack((a, b))"
   ],
   "outputs": [
    {
     "output_type": "execute_result",
     "data": {
      "text/plain": [
       "array([[ 1,  2,  3,  7,  8,  9],\n",
       "       [ 4,  5,  6, 10, 11, 12]])"
      ]
     },
     "metadata": {},
     "execution_count": 166
    }
   ],
   "metadata": {}
  },
  {
   "cell_type": "code",
   "execution_count": 170,
   "source": [
    "np.hstack((a, b, a, b))"
   ],
   "outputs": [
    {
     "output_type": "execute_result",
     "data": {
      "text/plain": [
       "array([[ 1,  2,  3,  7,  8,  9,  1,  2,  3,  7,  8,  9],\n",
       "       [ 4,  5,  6, 10, 11, 12,  4,  5,  6, 10, 11, 12]])"
      ]
     },
     "metadata": {},
     "execution_count": 170
    }
   ],
   "metadata": {}
  },
  {
   "cell_type": "markdown",
   "source": [
    "# 배열 분리\r\n",
    "## np.hsplit()"
   ],
   "metadata": {}
  },
  {
   "cell_type": "code",
   "execution_count": 171,
   "source": [
    "a = np.arange(1, 25).reshape((4, 6))\r\n",
    "pprint(a)"
   ],
   "outputs": [
    {
     "output_type": "stream",
     "name": "stdout",
     "text": [
      "type: <class 'numpy.ndarray'>\n",
      "shape: (4, 6), dimension: 2, dtype: int32\n",
      "Arrays Data:\n",
      " [[ 1  2  3  4  5  6]\n",
      " [ 7  8  9 10 11 12]\n",
      " [13 14 15 16 17 18]\n",
      " [19 20 21 22 23 24]]\n"
     ]
    }
   ],
   "metadata": {}
  },
  {
   "cell_type": "code",
   "execution_count": 172,
   "source": [
    "result = np.hsplit(a, 3)\r\n",
    "result"
   ],
   "outputs": [
    {
     "output_type": "execute_result",
     "data": {
      "text/plain": [
       "[array([[ 1,  2],\n",
       "        [ 7,  8],\n",
       "        [13, 14],\n",
       "        [19, 20]]),\n",
       " array([[ 3,  4],\n",
       "        [ 9, 10],\n",
       "        [15, 16],\n",
       "        [21, 22]]),\n",
       " array([[ 5,  6],\n",
       "        [11, 12],\n",
       "        [17, 18],\n",
       "        [23, 24]])]"
      ]
     },
     "metadata": {},
     "execution_count": 172
    }
   ],
   "metadata": {}
  },
  {
   "cell_type": "code",
   "execution_count": 173,
   "source": [
    "np.hsplit(a, [1, 3, 5])"
   ],
   "outputs": [
    {
     "output_type": "execute_result",
     "data": {
      "text/plain": [
       "[array([[ 1],\n",
       "        [ 7],\n",
       "        [13],\n",
       "        [19]]),\n",
       " array([[ 2,  3],\n",
       "        [ 8,  9],\n",
       "        [14, 15],\n",
       "        [20, 21]]),\n",
       " array([[ 4,  5],\n",
       "        [10, 11],\n",
       "        [16, 17],\n",
       "        [22, 23]]),\n",
       " array([[ 6],\n",
       "        [12],\n",
       "        [18],\n",
       "        [24]])]"
      ]
     },
     "metadata": {},
     "execution_count": 173
    }
   ],
   "metadata": {}
  },
  {
   "cell_type": "markdown",
   "source": [
    "## np.vsplit"
   ],
   "metadata": {}
  },
  {
   "cell_type": "code",
   "execution_count": 174,
   "source": [
    "a = np.arange(1, 25).reshape((4, 6))\r\n",
    "pprint(a)"
   ],
   "outputs": [
    {
     "output_type": "stream",
     "name": "stdout",
     "text": [
      "type: <class 'numpy.ndarray'>\n",
      "shape: (4, 6), dimension: 2, dtype: int32\n",
      "Arrays Data:\n",
      " [[ 1  2  3  4  5  6]\n",
      " [ 7  8  9 10 11 12]\n",
      " [13 14 15 16 17 18]\n",
      " [19 20 21 22 23 24]]\n"
     ]
    }
   ],
   "metadata": {}
  },
  {
   "cell_type": "code",
   "execution_count": 176,
   "source": [
    "result = np.vsplit(a, 2)\r\n",
    "result"
   ],
   "outputs": [
    {
     "output_type": "execute_result",
     "data": {
      "text/plain": [
       "[array([[ 1,  2,  3,  4,  5,  6],\n",
       "        [ 7,  8,  9, 10, 11, 12]]),\n",
       " array([[13, 14, 15, 16, 17, 18],\n",
       "        [19, 20, 21, 22, 23, 24]])]"
      ]
     },
     "metadata": {},
     "execution_count": 176
    }
   ],
   "metadata": {}
  },
  {
   "cell_type": "code",
   "execution_count": 178,
   "source": [
    "np.array(result).shape"
   ],
   "outputs": [
    {
     "output_type": "execute_result",
     "data": {
      "text/plain": [
       "(2, 2, 6)"
      ]
     },
     "metadata": {},
     "execution_count": 178
    }
   ],
   "metadata": {}
  },
  {
   "cell_type": "code",
   "execution_count": 180,
   "source": [
    "result = np.vsplit(a, 4)\r\n",
    "result"
   ],
   "outputs": [
    {
     "output_type": "execute_result",
     "data": {
      "text/plain": [
       "[array([[1, 2, 3, 4, 5, 6]]),\n",
       " array([[ 7,  8,  9, 10, 11, 12]]),\n",
       " array([[13, 14, 15, 16, 17, 18]]),\n",
       " array([[19, 20, 21, 22, 23, 24]])]"
      ]
     },
     "metadata": {},
     "execution_count": 180
    }
   ],
   "metadata": {}
  },
  {
   "cell_type": "code",
   "execution_count": 182,
   "source": [
    "np.array(result).shape"
   ],
   "outputs": [
    {
     "output_type": "execute_result",
     "data": {
      "text/plain": [
       "(4, 1, 6)"
      ]
     },
     "metadata": {},
     "execution_count": 182
    }
   ],
   "metadata": {}
  },
  {
   "cell_type": "code",
   "execution_count": 183,
   "source": [
    "np.vsplit(a, [1, 3])"
   ],
   "outputs": [
    {
     "output_type": "execute_result",
     "data": {
      "text/plain": [
       "[array([[1, 2, 3, 4, 5, 6]]),\n",
       " array([[ 7,  8,  9, 10, 11, 12],\n",
       "        [13, 14, 15, 16, 17, 18]]),\n",
       " array([[19, 20, 21, 22, 23, 24]])]"
      ]
     },
     "metadata": {},
     "execution_count": 183
    }
   ],
   "metadata": {}
  }
 ],
 "metadata": {
  "orig_nbformat": 4,
  "language_info": {
   "name": "python",
   "version": "3.9.5",
   "mimetype": "text/x-python",
   "codemirror_mode": {
    "name": "ipython",
    "version": 3
   },
   "pygments_lexer": "ipython3",
   "nbconvert_exporter": "python",
   "file_extension": ".py"
  },
  "kernelspec": {
   "name": "python3",
   "display_name": "Python 3.9.5 64-bit"
  },
  "interpreter": {
   "hash": "5d44725d55c3c25373c9cea7b363fe9d5696c3b23e8383192da0211bfba569d6"
  }
 },
 "nbformat": 4,
 "nbformat_minor": 2
}