{
 "cells": [
  {
   "cell_type": "code",
   "execution_count": 63,
   "metadata": {},
   "outputs": [],
   "source": [
    "import cv2\n",
    "import numpy as np\n",
    "import matplotlib.pyplot as plt"
   ]
  },
  {
   "cell_type": "code",
   "execution_count": 77,
   "metadata": {},
   "outputs": [],
   "source": [
    "# 마우스와 그랩컷으로 배경과 전경 분리 (grabcut.py)\n",
    "\n",
    "img = cv2.imread('data/image_0001.jpg')\n",
    "img_draw = img.copy()\n",
    "mask = np.zeros(img.shape[:2], dtype=np.uint8)  # 마스크 생성\n",
    "rect = [0,0,0,0]    # 사각형 영역 좌표 초기화\n",
    "mode = cv2.GC_EVAL  # 그랩컷 초기 모드\n",
    "# 배경 및 전경 모델 버퍼\n",
    "bgdmodel = np.zeros((1,65),np.float64)\n",
    "fgdmodel = np.zeros((1,65),np.float64)\n",
    "\n",
    "# 마우스 이벤트 처리 함수\n",
    "def onMouse(event, x, y, flags, param):\n",
    "    global mouse_mode, rect, mask, mode\n",
    "    if event == cv2.EVENT_LBUTTONDOWN : # 왼쪽 마우스 누름\n",
    "        if flags <= 1: # 아무 키도 안 눌렀으면\n",
    "            mode = cv2.GC_INIT_WITH_RECT # 드래그 시작, 사각형 모드 ---①\n",
    "            rect[:2] = x, y # 시작 좌표 저장\n",
    "    # 마우스가 움직이고 왼쪽 버튼이 눌러진 상태\n",
    "    elif event == cv2.EVENT_MOUSEMOVE and flags & cv2.EVENT_FLAG_LBUTTON :\n",
    "        if mode == cv2.GC_INIT_WITH_RECT: # 드래그 진행 중 ---②\n",
    "            img_temp = img.copy()\n",
    "            # 드래그 사각형 화면에 표시\n",
    "            cv2.rectangle(img_temp, (rect[0], rect[1]), (x, y), (0,255,0), 2)\n",
    "            cv2.imshow('img', img_temp)\n",
    "        elif flags > 1: # 키가 눌러진 상태\n",
    "            mode = cv2.GC_INIT_WITH_MASK    # 마스크 모드 ---③\n",
    "            if flags & cv2.EVENT_FLAG_CTRLKEY :# 컨트롤 키, 분명한 전경\n",
    "                # 흰색 점 화면에 표시\n",
    "                cv2.circle(img_draw,(x,y),3, (255,255,255),-1)\n",
    "                # 마스크에 GC_FGD로 채우기      ---④\n",
    "                cv2.circle(mask,(x,y),3, cv2.GC_FGD,-1)\n",
    "            if flags & cv2.EVENT_FLAG_SHIFTKEY : # 쉬프트키, 분명한 배경\n",
    "                # 검정색 점 화면에 표시\n",
    "                cv2.circle(img_draw,(x,y),3, (0,0,0),-1)\n",
    "                # 마스크에 GC_BGD로 채우기      ---⑤\n",
    "                cv2.circle(mask,(x,y),3, cv2.GC_BGD,-1)\n",
    "            cv2.imshow('img', img_draw) # 그려진 모습 화면에 출력\n",
    "    elif event == cv2.EVENT_LBUTTONUP: # 마우스 왼쪽 버튼 뗀 상태 ---⑥\n",
    "        if mode == cv2.GC_INIT_WITH_RECT : # 사각형 그리기 종료\n",
    "            rect[2:] =x, y # 사각형 마지막 좌표 수집\n",
    "            # 사각형 그려서 화면에 출력 ---⑦\n",
    "            cv2.rectangle(img_draw, (rect[0], rect[1]), (x, y), (255,0,0), 2)\n",
    "            cv2.imshow('img', img_draw)\n",
    "        # 그랩컷 적용 ---⑧\n",
    "        cv2.grabCut(img, mask, tuple(rect), bgdmodel, fgdmodel, 1, mode)\n",
    "        img2 = img.copy()\n",
    "        # 마스크에 확실한 배경, 아마도 배경으로 표시된 영역을 0으로 채우기\n",
    "        img2[(mask==cv2.GC_BGD) | (mask==cv2.GC_PR_BGD)] = 255\n",
    "        cv2.imshow('grabcut', img2) # 최종 결과 출력\n",
    "        cv2.imwrite('data/new.jpg', img2)\n",
    "        mode = cv2.GC_EVAL # 그랩컷 모드 리셋\n",
    "\n",
    "cv2.imshow('img', img)\n",
    "cv2.setMouseCallback('img', onMouse)\n",
    "\n",
    "while True:    \n",
    "    if cv2.waitKey(0) & 0xFF == 27 : # esc\n",
    "        break\n",
    "\n",
    "cv2.destroyAllWindows()"
   ]
  },
  {
   "cell_type": "code",
   "execution_count": 83,
   "metadata": {},
   "outputs": [],
   "source": [
    "win_title = 'resume photo'\n",
    "alpha = 0.8\n",
    "\n",
    "img2 = cv2.imread('data/new.jpg')\n",
    "img3 = cv2.imread('data/m1.jpg')\n",
    "\n",
    "# resize\n",
    "img2 = cv2.resize(img2, (300, 400))\n",
    "img3 = cv2.resize(img3, (300, 400))\n",
    "\n",
    "# 이미지 합성 (알파 블렌딩... 비트와이즈 이용할려고 계획중)\n",
    "blended = cv2.addWeighted(img2, alpha, img3, (alpha), 0)\n",
    "cv2.imshow('blended', blended)\n",
    "cv2.waitKey(0)\n",
    "cv2.destroyAllWindows()"
   ]
  },
  {
   "cell_type": "code",
   "execution_count": 81,
   "metadata": {},
   "outputs": [],
   "source": [
    "# Clahe 적용\n",
    "img_yuv = cv2.cvtColor(blended, cv2.COLOR_BGR2YUV)\n",
    "\n",
    "# 밝기 채널에 대해서 CLAHE 적용\n",
    "img_clahe = img_yuv.copy()\n",
    "clahe = cv2.createCLAHE(clipLimit=3.0, tileGridSize=(8,8)) #CLAHE 생성\n",
    "img_clahe[:,:,0] = clahe.apply(img_clahe[:,:,0])           #CLAHE 적용\n",
    "img_clahe = cv2.cvtColor(img_clahe, cv2.COLOR_YUV2BGR)\n",
    "\n",
    "# 결과 출력\n",
    "cv2.imshow('CLAHE', img_clahe)\n",
    "cv2.waitKey()\n",
    "cv2.destroyAllWindows()"
   ]
  }
 ],
 "metadata": {
  "interpreter": {
   "hash": "5d44725d55c3c25373c9cea7b363fe9d5696c3b23e8383192da0211bfba569d6"
  },
  "kernelspec": {
   "display_name": "Python 3.9.5 64-bit",
   "name": "python3"
  },
  "language_info": {
   "codemirror_mode": {
    "name": "ipython",
    "version": 3
   },
   "file_extension": ".py",
   "mimetype": "text/x-python",
   "name": "python",
   "nbconvert_exporter": "python",
   "pygments_lexer": "ipython3",
   "version": "3.9.5"
  },
  "orig_nbformat": 4
 },
 "nbformat": 4,
 "nbformat_minor": 2
}
