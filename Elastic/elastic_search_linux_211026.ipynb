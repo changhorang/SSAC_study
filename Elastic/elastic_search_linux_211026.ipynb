{
 "cells": [
  {
   "cell_type": "markdown",
   "metadata": {},
   "source": [
    "# Linux_elasticsearch\n",
    "## 1. hosts file 수정\n",
    "- host name 수정 : hostnamectl set -hostname elastic-1(/2/3)\n",
    "- 터미널 : su root -> PS: bigdata -> gedit /etc/hosts \n",
    "- 아래 내용 추가 <br>\n",
    "192.168.56.101 elastic-1 <br>\n",
    "192.168.56.102 elastic-2 <br>\n",
    "192.168.56.103 elastic-3 <br>"
   ]
  },
  {
   "cell_type": "markdown",
   "metadata": {},
   "source": [
    "## 2. Elasticsearch & Kibana 설치\n",
    "su root <br>\n",
    "sudo yum -y install wget <br>\n",
    "\n",
    "wget https://artifacts.elastic.co/downloads/elasticsearch/elasticsearch-7.14.1-linux-x86_64.tar.gz <br>\n",
    "wget https://artifacts.elastic.co/downloads/kibana/kibana-7.14.1-linux-x86_64.tar.gz <br>\n",
    "\n",
    "tar xfz elasticsearch-7.14.1-linux-x86_64.tar.gz <br>\n",
    "tar xfz kibana-7.14.1-linux-x86_64.tar.gz <br>\n",
    "\n",
    "mkdir files <br>\n",
    "mv *.tar.gz files/ <br>\n",
    "\n",
    "mv elasticsearch-7.14.1 es-714 <br>\n",
    "mv kibana-7.14.1-linux-x86_64 kb-714 <br>\n",
    "\n",
    "\n",
    "## 3. size 수정 (4g -> 1g)\n",
    "gedit ~/es-714/config/jvm.options <br>\n",
    "\n",
    "\n",
    "## 4. limits 파일 수정 (Linux)\n",
    "sudo gedit /etc/security/limits.conf <br>\n",
    "\n",
    "elastic-3\tsoft\tnofile\t65535 <br>\n",
    "elastic-3\thard\tnofile\t65535 <br>\n",
    "elastic-3\thard\tnproc\t65535 <br>\n",
    "elastic-3\tsoft\tnproc\t65535 <br>\n",
    "elastic-3\tsoft\tmemlock\tunlimited <br>\n",
    "elastic-3\thard\tmemlock\tunlimited <br>\n"
   ]
  },
  {
   "cell_type": "markdown",
   "metadata": {},
   "source": [
    "## 5. Linux 파일 수정\n",
    "sudo gedit /etc/security/limits.d/20-nproc.conf <br>\n",
    "- 추가 (기존 내용 삭제 - 밑에서 2번째 줄)<br>\n",
    "*\tsoft\tnofile\t65535 <br>\n",
    "*\thard\tnofile\t65535 <br>\n",
    "*\thard\tnproc\t65535 <br>\n",
    "*\tsoft\tnproc\t65535 <br>\n",
    "*\tsoft\tmemlock\tunlimited <br>\n",
    "*\thard\tmemlock\tunlimited <br>\n",
    "\n",
    "## Linux 파일 수정\n",
    "sudo gedit /etc/sysctl.conf <br>\n",
    "- 추가\n",
    "vm.max_map_count=262144 <br>\n",
    "\n",
    "## Linux reboot\n",
    "sudo shutdown -r now"
   ]
  },
  {
   "cell_type": "markdown",
   "metadata": {},
   "source": [
    "## 6. elasticsearch.yml 파일 수정 (각 노드별로 수행)\n",
    "gedit ~/es-714/config/elasticsearch.yml <br>\n",
    "\n",
    "#Node 1\n",
    "cluster.name: \"es-cluster\"\n",
    "node.name: \"node-1\"\n",
    "#network.host: \"192.168.56.101\"\n",
    "network.host: [\"_local_\", \"_site_\"]\n",
    "discovery.seed_hosts: [\"192.168.56.101\", \"192.168.56.102\", \"192.168.56.103\"]\n",
    "cluster.initial_master_nodes: [\"node-1\", \"node-2\", \"node-3\"]\n",
    "xpack.security.enabled: true\n",
    "xpack.security.transport.ssl.enabled: true\n",
    "xpack.security.transport.ssl.keystore.path: certs/es-cluster.p12\n",
    "xpack.security.transport.ssl.truststore.path: certs/es-cluster.p12\n",
    "\n",
    "\n",
    "#Node 2\n",
    "cluster.name: \"es-cluster\"\n",
    "node.name: \"node-2\"\n",
    "#network.host: \"192.168.56.102\"\n",
    "network.host: [\"_local_\", \"_site_\"]\n",
    "discovery.seed_hosts: [\"192.168.56.101\", \"192.168.56.102\", \"192.168.56.103\"]\n",
    "cluster.initial_master_nodes: [\"node-1\", \"node-2\", \"node-3\"]\n",
    "xpack.security.enabled: true\n",
    "xpack.security.transport.ssl.enabled: true\n",
    "xpack.security.transport.ssl.keystore.path: certs/es-cluster.p12\n",
    "xpack.security.transport.ssl.truststore.path: certs/es-cluster.p12\n",
    "\n",
    "\n",
    "#Node 3\n",
    "cluster.name: \"es-cluster\"\n",
    "node.name: \"node-3\"\n",
    "#network.host: \"192.168.56.103\"\n",
    "network.host: [\"_local_\", \"_site_\"]\n",
    "discovery.seed_hosts: [\"192.168.56.101\", \"192.168.56.102\", \"192.168.56.103\"]\n",
    "cluster.initial_master_nodes: [\"node-1\", \"node-2\", \"node-3\"]\n",
    "xpack.security.enabled: true\n",
    "xpack.security.transport.ssl.enabled: true\n",
    "xpack.security.transport.ssl.keystore.path: certs/es-cluster.p12\n",
    "xpack.security.transport.ssl.truststore.path: certs/es-cluster.p12"
   ]
  },
  {
   "cell_type": "markdown",
   "metadata": {},
   "source": [
    "## 7. Elasticsearch & Kibana 실행 하기 위해 port 열기\n",
    "sudo su\n",
    "firewall-cmd --permanent --zone=public --add-port=9200/tcp\n",
    "firewall-cmd --permanent --zone=public --add-port=9300/tcp\n",
    "firewall-cmd --reload\n",
    "firewall-cmd --list-all\n",
    "\n",
    "## 3번째 노드에만 Kibana 실행 하기 위함\n",
    "firewall-cmd --permanent --zone=public --add-port=5601/tcp\n",
    "firewall-cmd --reload\n",
    "firewall-cmd --list-all\n",
    "exit"
   ]
  },
  {
   "cell_type": "markdown",
   "metadata": {},
   "source": [
    "## elasticsearch 통신을 위한 파일 생성\n",
    "~/es-714/bin/elasticsearch-certutil ca\n",
    "<br>\n",
    "mkdir ~/es-714/config/certs\n",
    "<br>\n",
    "~/es-714/bin/elasticsearch-certutil cert --ca elastic-stack-ca.p12 --ip 192.168.56.101,192.168.56.102,192.168.56.103 --out ~/es-714/config/certs/es-cluster.p12\n",
    "<br>\n",
    "- 파일 확인 <br>\n",
    "ls ~/es-714/config/certs/\n",
    "\n",
    "\n",
    "## 파일 배포하기\n",
    "- 파일 디렉토리 만들기 (2, 3번 노드에서) <br>\n",
    "mkdir ~/es-714/config/certs \n",
    "- 파일 배포 (1번 노드에서) <br>\n",
    "scp -r ~/es-714/config/certs/* elastic-2@192.168.56.102:~/es-714/config/certs/  <br>\n",
    "scp -r ~/es-714/config/certs/* elastic-3@192.168.56.103:~/es-714/config/certs/"
   ]
  },
  {
   "cell_type": "markdown",
   "metadata": {},
   "source": [
    "## 보안 관련 설정 (모든 노드에서)\n",
    "- 파일 생성 <br>\n",
    "~/es-714/bin/elasticsearch-keystore create\n",
    "<br>\n",
    "~/es-714/bin/elasticsearch-keystore add xpack.security.transport.ssl.keystore.secure_password\n",
    "<br>\n",
    "~/es-714/bin/elasticsearch-keystore add xpack.security.transport.ssl.truststore.secure_password\n",
    "<br>\n",
    "- 파일 확인 <br>\n",
    "~/es-714/bin/elasticsearch-keystore list\n",
    "<br>"
   ]
  },
  {
   "cell_type": "markdown",
   "metadata": {},
   "source": [
    "## elasticsearch setup & 실행\n",
    "- elasticsearch 실행 (모든 노드에서) <br>\n",
    "~/es-714/bin/elasticsearch\n",
    "\n",
    "- (노드1에서만) <br>\n",
    "~/es-714/bin/elasticsearch-setup-passwords interactive\n",
    "\n",
    "- 실행 확인 (master 노드는 랜덤하게 선정) <br>\n",
    "curl \"elastic-1:9200/_cat/nodes?v\" -u elastic:bigdata\n",
    "\n",
    "- 어느 노드에서든 Query 가능 <br>\n",
    "curl -XGET elastic-1:9200 -u elastic:bigdata <br>\n",
    "curl -XGET elastic-2:9200 -u elastic:bigdata <br>\n",
    "curl -XGET elastic-3:9200 -u elastic:bigdata <br>\n"
   ]
  },
  {
   "cell_type": "markdown",
   "metadata": {},
   "source": [
    "## Kibana setup (3번 노드에서만)\n",
    "gedit ~/kb-714/config/kibana.yml <br>\n",
    "\n",
    "- yml 파일 내용 추가 <br>\n",
    "server.host: \"192.168.56.103\"\n",
    "server.name: \"my-kibana\"\n",
    "elasticsearch.hosts: [\"http://192.168.56.103:9200\"]\n",
    "elasticsearch.username: \"kibana_system\"\n",
    "\n",
    "- 암호 설정  <br>\n",
    "~/kb-714/bin/kibana-keystore create <br>\n",
    "~/kb-714/bin/kibana-keystore add elasticsearch.password <br>\n",
    "~/kb-714/bin/kibana-keystore list <br>\n",
    "\n",
    "- firefox update <br>\n",
    "sudo yum -y update firefox\n",
    "\n",
    "- Kibana 실행 <br>\n",
    "~/kb-714/bin/kibana\n",
    "\n",
    "- firefox에서 접속: 192.168.56.103:5601 <br>\n",
    "ID : elastic <br>\n",
    "PS : bigdata <br>\n"
   ]
  }
 ],
 "metadata": {
  "interpreter": {
   "hash": "5d44725d55c3c25373c9cea7b363fe9d5696c3b23e8383192da0211bfba569d6"
  },
  "kernelspec": {
   "display_name": "Python 3.9.5 64-bit",
   "name": "python3"
  },
  "language_info": {
   "name": "python",
   "version": "3.9.5"
  },
  "orig_nbformat": 4
 },
 "nbformat": 4,
 "nbformat_minor": 2
}
