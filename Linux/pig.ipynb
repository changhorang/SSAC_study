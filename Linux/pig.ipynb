{
 "cells": [
  {
   "cell_type": "markdown",
   "source": [
    "# PIG\r\n",
    "- 데이터 분석인 MapReduce를 쉽게 하기위한 기능을 가진 툴\r\n",
    "- MapReduce API를 매우 단순화시키고, SQL과 유사한 형태로 설계함\r\n",
    "- 'pig'를 통해 실행"
   ],
   "metadata": {}
  },
  {
   "cell_type": "code",
   "execution_count": null,
   "source": [
    "# 전체적으로 Linux와 비슷\r\n",
    "ls # directory 확인\r\n",
    "mkdir demos\r\n",
    "\r\n",
    "# pigdemo.txt 공유폴더로 옮기기\r\n",
    "$sudo mount -t vboxsf wshare lshare # 공유폴더 연결\r\n",
    "\r\n",
    "# 문서 복사해오기\r\n",
    "copyFromLocal /root/lshare/pigdemo.txt demos/\r\n",
    "\r\n",
    "# 아래 코드로 절대경로를 확인\r\n",
    "cd demos\r\n",
    "pwd\r\n",
    "\r\n",
    "# 문서확인\r\n",
    "cat pigdemo.txt"
   ],
   "outputs": [],
   "metadata": {}
  },
  {
   "cell_type": "code",
   "execution_count": null,
   "source": [
    "# pigdemo.txt 2열 relation column으로 분할\r\n",
    "employees = LOAD 'pigdemo.txt' AS (state, name);\r\n",
    "\r\n",
    "# relation의 구성 확인\r\n",
    "describe employees;\r\n",
    "\r\n",
    "# relation 확인\r\n",
    "DUMP employees;\r\n",
    "\r\n",
    "# 조건에 맞게 filter하여 ca_only 저장 후 확인\r\n",
    "ca_only = FILTER employees BY (state == 'CA');\r\n",
    "DUMP ca_only;\r\n",
    "\r\n",
    "# state 값이 같은 record들을 group한 relation 생성\r\n",
    "emp_group = GROUP employees BY state;\r\n",
    "describe emp_group;\r\n",
    "DUMP emp_group;\r\n",
    "\r\n",
    "# 1. emp_group txt파일로 저장\r\n",
    "STORE emp_group INTO 'emp_group.txt';\r\n",
    "ls # file 확인\r\n",
    "cat emp_group.txt\r\n",
    "\r\n",
    "# 2. emp_group csv파일로 저장\r\n",
    "STORE emp_group INTO 'emp_group.csv' USING PigStorage(',');\r\n",
    "hadoop fs -cat demos/emp_group.csv/part-r-00000 # 확인하기\r\n",
    "\r\n",
    "# aliases 통해 현재 생성된 relation 확인\r\n",
    "aliases;"
   ],
   "outputs": [],
   "metadata": {}
  },
  {
   "cell_type": "code",
   "execution_count": null,
   "source": [
    "# PIG를 활용한 빅데이터 처리\r\n",
    "\r\n",
    "mkdir whitehouse\r\n",
    "\r\n",
    "# 문서 가져오기 및 확인\r\n",
    "copyFromLocal /root/lshare/visits.txt whitehouse/\r\n",
    "ls whitehouse"
   ],
   "outputs": [],
   "metadata": {}
  },
  {
   "cell_type": "markdown",
   "source": [
    "# JOIN DATABASES"
   ],
   "metadata": {}
  },
  {
   "cell_type": "code",
   "execution_count": null,
   "source": [
    "# congress.txt 하둡공간(whitehouse 디렉토리)에 저장 & 확인 & 출력\r\n",
    "hadoop fs -put congress.txt whitehouse/congress.txt\r\n",
    "hadoop fs -ls whitehouse/\r\n",
    "hadoop fs -cat whitehouse/congress.txt\r\n",
    "\r\n",
    "# visitors relation 생성\r\n",
    "visitors = LOAD 'whitehouse/visits.txt' USING PigStorage(',') AS (lname:chararray, fname:chararray);"
   ],
   "outputs": [],
   "metadata": {}
  },
  {
   "cell_type": "code",
   "execution_count": null,
   "source": [
    "# congress relation 생성\r\n",
    "congress = LOAD 'whitehouse/congress.txt' AS (\r\n",
    "full_title:chararray,\r\n",
    "district:chararray,\r\n",
    "title:chararray,\r\n",
    "fname:chararray,\r\n",
    "lname:chararray,\r\n",
    "party:chararray);\r\n",
    "\r\n",
    "# visits.txt 이름이 모두 대문자 but congress.txt는 아님\r\n",
    "# - data 내용을 수정해주는 relation 생성\r\n",
    "congress_data = FOREACH congress GENERATE district, UPPER(lname) AS lname, UPPER(fname) AS fname, party;"
   ],
   "outputs": [],
   "metadata": {}
  },
  {
   "cell_type": "code",
   "execution_count": null,
   "source": [
    "# visitors relation & congress_data relation name을 join한 relation 생성\r\n",
    "join_contact_congress = JOIN visitors BY (lname, fname), congress_data BY (lname, fname);\r\n",
    "\r\n",
    "# joinresult 폴더에 저장\r\n",
    "STORE join_contact_congress INTO 'joinresult';\r\n",
    "\r\n",
    "# 하둡공간에 저장한 relation 확인\r\n",
    "hadoop fs -cat ./joinresult/part-r-00000"
   ],
   "outputs": [],
   "metadata": {}
  }
 ],
 "metadata": {
  "orig_nbformat": 4,
  "language_info": {
   "name": "python",
   "version": "3.9.5",
   "mimetype": "text/x-python",
   "codemirror_mode": {
    "name": "ipython",
    "version": 3
   },
   "pygments_lexer": "ipython3",
   "nbconvert_exporter": "python",
   "file_extension": ".py"
  },
  "kernelspec": {
   "name": "python3",
   "display_name": "Python 3.9.5 64-bit"
  },
  "interpreter": {
   "hash": "5d44725d55c3c25373c9cea7b363fe9d5696c3b23e8383192da0211bfba569d6"
  }
 },
 "nbformat": 4,
 "nbformat_minor": 2
}