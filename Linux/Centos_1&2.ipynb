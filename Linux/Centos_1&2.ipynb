{
 "cells": [
  {
   "cell_type": "markdown",
   "metadata": {},
   "source": [
    "# Ch.01 : Linux 설치 (VMware&CentOS)\n",
    "- https://copycoding.tistory.com/269 참고\n",
    "<br>"
   ]
  },
  {
   "cell_type": "markdown",
   "metadata": {},
   "source": [
    "# Ch.02 Directory와 file 사용법\n",
    "## Directory 관련 명령어\n",
    "- pwd : 현재 Directory 확인\n",
    "- cd : Directory 이동\n",
    "- ls : Directory 내용 확인 (ls [옵션] [Directory(file)])\n",
    "    - a : 숨긴 파일 포함해 모든 파일의 목록 출력\n",
    "    - d : 자체의 정보를 출력\n",
    "    - l : 파일의 상세 정보를 출력\n",
    "    - R : 하위 Directory의 목록까지 출력\n",
    "\n",
    "- mkdir : Directory 생성\n",
    "    - p : 옵션으로 중간 Directory 생성\n",
    "- rmdir : Directory 삭제 (비어있는 경우 가능) / (rmdir [옵션] [Directory])"
   ]
  },
  {
   "cell_type": "markdown",
   "metadata": {},
   "source": [
    "## File 사용법\n",
    "- cat : 파일 내용 출력 (cat [옵션] [파일])\n",
    "    - n : 행 번호를 붙여서 출력\n",
    "- more : 파일 내용을 화면 단위로 출력 (more [옵션] [파일])\n",
    "- less : 파일 내용을 화면 단위로 출력 (less [옵션] [파일])\n",
    "- tail : 파일 뒷부분의 몇 행을 출력 (tail [옵션] [파일])\n",
    "    - 기록된 로그 등을 확인 시 사용\n",
    "    - 기본 값은 10줄, -num : 출력할 행의 수 지정\n",
    "    - f : 파일을 종료하지 않고 주기적으로 계속 출력\n",
    "- cp : 파일 복사 (cp [옵션] [파일1 (Directory1)] [파일2 (Directory2)])\n",
    "- mv : 파일 이동 (mv [옵션] [파일1 (Directory1)] [파일2 (Directory2)])\n",
    "    - i : 파일2가 존재하면 덮어쓸 것인지 여부 확인함\n",
    "- rm : 파일 삭제 (rm [옵션] [파일 또는 Directory])\n",
    "    - i : 파일을 삭제할 것인지 확인\n",
    "    - r : Directory 삭제 시 지정\n"
   ]
  },
  {
   "cell_type": "markdown",
   "metadata": {},
   "source": [
    "## 파일 링크\n",
    "- 파일링크 : 기존에 있는 파일에 새로운 파일명을 붙이는 것\n",
    "- 하드링크 : 기존 파일에 새로운 파일명을 추가로 생성 (inode 동일)\n",
    "- 심볼릭링크 : 원본파일을 가리키는 새로운 파일을 생성\n",
    "<br>\n",
    "<br>\n",
    "\n",
    "### 하드링크 : inode 동일하지만 독립적인 파일을 만들 수 있음\n",
    "### 심볼릭링크 : inode가 다르며, ls -l로 원본 파일도 알 수 있음\n",
    "- ln : 파일의 링크를 생성 (ln [옵션] [원본파일] [링크파일])\n",
    "    - s : 심볼릭 링크파일을 생성\n",
    "\n",
    "\n",
    "## 파일 관련 기타 유용한 명령\n",
    "- touch : 빈파일 생성 (ls -l [file]로 확인)\n",
    "- grep : 지정한 패턴이 포함된 행을 찾기 (파일 내용 검색)\n",
    "    - grep [옵션] [패턴] [파일]\n",
    "- find : 지정한 위치에서 검색 조건에 맞는 파일을 찾기\n",
    "    - find [경로] [검색조건] [동작]\n",
    "    - 예시 : -user 옵션, 특정 사용자 계정이 소유자인 파일을 찾고 싶은 경우 사용\n",
    "    - find /home -user changhorang"
   ]
  },
  {
   "cell_type": "markdown",
   "metadata": {},
   "source": [
    "# Ch.05 파일 접근 권한 관리\n",
    "\n",
    "## 접근 권한 종류 : 읽기, 쓰기, 실행 (rwx)\n",
    "- ls -l 통해서 확인 가능 (Ex: -rw-r--r--. root...)\n",
    "- 1~3 : 소유자 / 4~6 : 그룹 / 7~9 : 기타 사용자\n",
    "- chmod 명령을 통해서 접근권한 수정\n",
    "- 기호 방식 / 숫자 방식\n",
    "\n",
    "### 기호 방식\n",
    "- Ex : chmod u-w test.txt -rw-r--r--... => -r--r--r--...\n",
    "- u : 소유자 / g : 그룹 / o : 기타\n",
    "- +(=)/- : 권한 부여/권한 제거\n",
    "- r/w/x : 읽기/쓰기/실행\n",
    "\n",
    "\n",
    "### 숫자를 이용한 방식\n",
    "- rwx/rw-/r-- : 7/6/4 ...\n",
    "- Ex : chmod 777 test.txt"
   ]
  }
 ],
 "metadata": {
  "interpreter": {
   "hash": "5d44725d55c3c25373c9cea7b363fe9d5696c3b23e8383192da0211bfba569d6"
  },
  "kernelspec": {
   "display_name": "Python 3.9.5 64-bit",
   "name": "python3"
  },
  "language_info": {
   "codemirror_mode": {
    "name": "ipython",
    "version": 3
   },
   "file_extension": ".py",
   "mimetype": "text/x-python",
   "name": "python",
   "nbconvert_exporter": "python",
   "pygments_lexer": "ipython3",
   "version": "3.9.5"
  },
  "orig_nbformat": 4
 },
 "nbformat": 4,
 "nbformat_minor": 2
}
