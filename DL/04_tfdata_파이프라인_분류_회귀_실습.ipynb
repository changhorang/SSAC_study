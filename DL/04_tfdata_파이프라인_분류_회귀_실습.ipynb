{
 "cells": [
  {
   "cell_type": "markdown",
   "metadata": {
    "colab_type": "text",
    "id": "view-in-github"
   },
   "source": [
    "<a href=\"https://colab.research.google.com/github/changhorang/SSAC_study/blob/main/DL/04_tfdata_%ED%8C%8C%EC%9D%B4%ED%94%84%EB%9D%BC%EC%9D%B8_%EB%B6%84%EB%A5%98_%ED%9A%8C%EA%B7%80_%EC%8B%A4%EC%8A%B5.ipynb\" target=\"_parent\"><img src=\"https://colab.research.google.com/assets/colab-badge.svg\" alt=\"Open In Colab\"/></a>"
   ]
  },
  {
   "cell_type": "markdown",
   "metadata": {
    "id": "kg9YMvp6dQBE"
   },
   "source": [
    "# tf.data 모듈\n",
    "- 데이터 입력 파이프라인을 위한 모듈\n",
    "    - 모델 학습/평가를 위한 대용량 데이터셋을 제공(feeding)하기 위한 모듈\n",
    "    - raw dataset 에서 입력을 위한 전처리, 제공을 위한 배치, shuffling등을 한번에 처리할 수 있게 한다.\n",
    "- tf.data.Dataset 추상클래스에서 상속된 여러가지 클래스들을 제공\n",
    "    - 입력 소스의 제공 형태에 따라 다양한 방식을 제공"
   ]
  },
  {
   "cell_type": "markdown",
   "metadata": {
    "id": "CUEPLiPLdQBN"
   },
   "source": [
    "## Dataset API 사용\n",
    "1. **Dataset 생성**\n",
    "    - raw dataset을 지정\n",
    "    - from_tensor_slices(), from_generator() 클래스 메소드, tf.data.TFRecordDataset 클래스등를 사용해 메모리나 파일에 있는 데이터를 Dataset으로 만든다.\n",
    "    - **from_tensor_slices()**: 리스트 넘파이배열, 텐서플로 자료형에서 데이터를 생성한다."
   ]
  },
  {
   "cell_type": "markdown",
   "metadata": {
    "id": "iKAoHUkydQBP"
   },
   "source": [
    "2. **제공 데이터 전처리**\n",
    "    - **map(함수)**: 하나 하나의 데이터를 변환\n",
    "        - 함수: 값을 변환할 함수로 입력데이터셋의 개수만큼 매개변수 선언\n",
    "    - **filter(함수)**: 특정 조건의 데이터만 제공하도록 처리.\n",
    "        - 함수: 제공할 값의 조건을 정의한 함수로 입력데이터셋의 개수만큼 매개변수 선언하고 bool 값을 반환."
   ]
  },
  {
   "cell_type": "markdown",
   "metadata": {
    "id": "j-lsUKMCdQBQ"
   },
   "source": [
    "3. **Dataset을 사용해 데이터 제공**\n",
    "    - **batch(size)**: 학습/평가시 한번에 제공할 batch size 지정\n",
    "        - size: int. batch size 지정\n",
    "        - drop_remainder: bool. True일 경우 마지막 제공시 남은 데이터수가 batch size보다 작으면 제공하지 않는다.\n",
    "    - **shuffle(buffer 크기)**: dataset의 원소들의 순서를 섞는다. \n",
    "        - buffer 크기: int. buffer 크기는 섞는 공간의 크기로  **데이터보다 크거나 같으면** 완전셔플, **적으면 일부만 가져와서 섞어** 완전셔플이 안된다.\n",
    "        - 데이터 사이즈가 너무 커서 메모리가 부족할 경우 버퍼크기를 적게 준다.\n",
    "        - 메모리가 충분하다면 데이터의 개수와 동일하게 주면된다.\n",
    "        - epoch 단위로 shuffle 한다.\n",
    "    - **repeat(count)**: 전체 데이터를 한번 다 제공한 뒤 다시 데이터를 제공한다.\n",
    "        - count: 몇번 제공할지 반복 횟수\n",
    "        - shuffle이 적용된 Dataset의 경우 다음 반복 제공마다 shuffle을 진행한다.\n",
    "        "
   ]
  },
  {
   "cell_type": "markdown",
   "metadata": {
    "id": "iOoYp7b_dQBQ"
   },
   "source": [
    "- 각 tf.data 함수들은 각 기능에 맞게 데이터를 처리하는 Dataset 객체를 반환한다."
   ]
  },
  {
   "cell_type": "markdown",
   "metadata": {
    "id": "YbvEVOMSdQBR"
   },
   "source": [
    "### Dataset 메소드\n",
    "- take(개수): 지정한 개수만큼의 데이터만 제공한다."
   ]
  },
  {
   "cell_type": "code",
   "execution_count": 1,
   "metadata": {
    "ExecuteTime": {
     "end_time": "2021-11-03T00:17:05.174429Z",
     "start_time": "2021-11-03T00:16:59.147864Z"
    },
    "id": "t5779kpFdQBS"
   },
   "outputs": [],
   "source": [
    "import tensorflow as tf\n",
    "import numpy as np"
   ]
  },
  {
   "cell_type": "markdown",
   "metadata": {
    "id": "mGmpTh4tdQBU"
   },
   "source": [
    "##### Tensor\n",
    "- TensorFlow의 기본 data type. \n",
    "- numpy가 ndarray를 이용해 데이터를 관리하듯이 tensorflow를 Tensor를 이용해 데이터를 관리한다."
   ]
  },
  {
   "cell_type": "code",
   "execution_count": 2,
   "metadata": {
    "ExecuteTime": {
     "end_time": "2021-11-03T00:17:11.522584Z",
     "start_time": "2021-11-03T00:17:06.881850Z"
    },
    "colab": {
     "base_uri": "https://localhost:8080/"
    },
    "id": "m3sp6SEFdQBV",
    "outputId": "cb3f72ba-639a-4d87-afc8-06504e8aa943"
   },
   "outputs": [
    {
     "data": {
      "text/plain": [
       "<tf.Tensor: shape=(3,), dtype=float32, numpy=array([1., 2., 3.], dtype=float32)>"
      ]
     },
     "execution_count": 2,
     "metadata": {},
     "output_type": "execute_result"
    }
   ],
   "source": [
    "t = tf.constant([1,2,3], dtype=\"float32\")\n",
    "t"
   ]
  },
  {
   "cell_type": "code",
   "execution_count": 3,
   "metadata": {
    "ExecuteTime": {
     "end_time": "2021-11-03T00:17:13.119903Z",
     "start_time": "2021-11-03T00:17:13.114902Z"
    },
    "colab": {
     "base_uri": "https://localhost:8080/"
    },
    "id": "6cXNNzpVdQBW",
    "outputId": "d41c7d3a-bcea-4c43-83b4-6e93f6e953a5"
   },
   "outputs": [
    {
     "data": {
      "text/plain": [
       "array([1., 2., 3.], dtype=float32)"
      ]
     },
     "execution_count": 3,
     "metadata": {},
     "output_type": "execute_result"
    }
   ],
   "source": [
    "# tensor=>numpy 변환\n",
    "a = t.numpy()\n",
    "a"
   ]
  },
  {
   "cell_type": "code",
   "execution_count": 4,
   "metadata": {
    "ExecuteTime": {
     "end_time": "2021-11-03T00:17:14.439481Z",
     "start_time": "2021-11-03T00:17:14.428482Z"
    },
    "colab": {
     "base_uri": "https://localhost:8080/"
    },
    "id": "EcZIRzCxdQBW",
    "outputId": "885e1afa-6408-4783-99d9-bfb09b554ba9"
   },
   "outputs": [
    {
     "data": {
      "text/plain": [
       "<tf.Tensor: shape=(3,), dtype=float32, numpy=array([1., 2., 3.], dtype=float32)>"
      ]
     },
     "execution_count": 4,
     "metadata": {},
     "output_type": "execute_result"
    }
   ],
   "source": [
    "# numpy/list => tensor 변환\n",
    "t2 = tf.constant(a)\n",
    "t2"
   ]
  },
  {
   "cell_type": "code",
   "execution_count": 5,
   "metadata": {
    "ExecuteTime": {
     "end_time": "2021-11-03T00:17:15.642829Z",
     "start_time": "2021-11-03T00:17:15.636860Z"
    },
    "colab": {
     "base_uri": "https://localhost:8080/"
    },
    "id": "rlOdzA9rdQBX",
    "outputId": "dc81381a-dd81-42aa-ee1f-6cd22d7be39f"
   },
   "outputs": [
    {
     "data": {
      "text/plain": [
       "<tf.Tensor: shape=(3,), dtype=float32, numpy=array([1., 2., 3.], dtype=float32)>"
      ]
     },
     "execution_count": 5,
     "metadata": {},
     "output_type": "execute_result"
    }
   ],
   "source": [
    "# numpy/list => tensor 변환\n",
    "t3 = tf.convert_to_tensor(a)\n",
    "t3"
   ]
  },
  {
   "cell_type": "markdown",
   "metadata": {
    "id": "HWO_gAKQdQBY"
   },
   "source": [
    "## Dataset 예제"
   ]
  },
  {
   "cell_type": "code",
   "execution_count": 6,
   "metadata": {
    "ExecuteTime": {
     "end_time": "2021-11-03T00:17:20.287779Z",
     "start_time": "2021-11-03T00:17:20.266782Z"
    },
    "colab": {
     "base_uri": "https://localhost:8080/"
    },
    "id": "kh0utB5DdQBY",
    "outputId": "7b14af01-f9ea-4725-faef-66803f7fdfe4"
   },
   "outputs": [
    {
     "data": {
      "text/plain": [
       "array([0, 1, 2, 3, 4, 5, 6, 7, 8, 9])"
      ]
     },
     "execution_count": 6,
     "metadata": {},
     "output_type": "execute_result"
    }
   ],
   "source": [
    "raw_data1 = np.arange(10)\n",
    "raw_data1"
   ]
  },
  {
   "cell_type": "code",
   "execution_count": 7,
   "metadata": {
    "ExecuteTime": {
     "end_time": "2021-11-03T00:17:22.506375Z",
     "start_time": "2021-11-03T00:17:22.491362Z"
    },
    "colab": {
     "base_uri": "https://localhost:8080/"
    },
    "id": "dfk8vMexdQBY",
    "outputId": "39030d14-2770-45a5-e3a9-22a27554d242"
   },
   "outputs": [
    {
     "name": "stdout",
     "output_type": "stream",
     "text": [
      "<class 'tensorflow.python.data.ops.dataset_ops.TensorSliceDataset'>\n"
     ]
    }
   ],
   "source": [
    "# ndarray/list 같이 메모리에 있는 자료구조로 부터 dataset 생성\n",
    "# - from_tensor_slices()\n",
    "dataset = tf.data.Dataset.from_tensor_slices(raw_data1)\n",
    "print(type(dataset))"
   ]
  },
  {
   "cell_type": "code",
   "execution_count": 8,
   "metadata": {
    "ExecuteTime": {
     "end_time": "2021-11-01T08:12:25.809643Z",
     "start_time": "2021-11-01T08:12:25.784653Z"
    },
    "colab": {
     "base_uri": "https://localhost:8080/"
    },
    "id": "m4C0giFFdQBa",
    "outputId": "55d173a1-e51e-4287-dfba-f283d1c5934a"
   },
   "outputs": [
    {
     "name": "stdout",
     "output_type": "stream",
     "text": [
      "tf.Tensor(0, shape=(), dtype=int64)\n",
      "tf.Tensor(1, shape=(), dtype=int64)\n",
      "tf.Tensor(2, shape=(), dtype=int64)\n",
      "tf.Tensor(3, shape=(), dtype=int64)\n",
      "tf.Tensor(4, shape=(), dtype=int64)\n",
      "tf.Tensor(5, shape=(), dtype=int64)\n",
      "tf.Tensor(6, shape=(), dtype=int64)\n",
      "tf.Tensor(7, shape=(), dtype=int64)\n",
      "tf.Tensor(8, shape=(), dtype=int64)\n",
      "tf.Tensor(9, shape=(), dtype=int64)\n"
     ]
    }
   ],
   "source": [
    "# Dataset : iterator => for문을 이용해 값을 조회할 수 있음\n",
    "for data in dataset:\n",
    "    print(data)"
   ]
  },
  {
   "cell_type": "markdown",
   "metadata": {
    "id": "Hz-tLakJdQBa"
   },
   "source": [
    "##### x, y 묶어서 제공"
   ]
  },
  {
   "cell_type": "code",
   "execution_count": 9,
   "metadata": {
    "ExecuteTime": {
     "end_time": "2021-11-03T00:17:25.027859Z",
     "start_time": "2021-11-03T00:17:25.010861Z"
    },
    "colab": {
     "base_uri": "https://localhost:8080/"
    },
    "id": "c_mUlKt0dQBa",
    "outputId": "1e9f7d76-53c3-444a-e87d-aa8190a616b4"
   },
   "outputs": [
    {
     "data": {
      "text/plain": [
       "array([10, 11, 12, 13, 14, 15, 16, 17, 18, 19])"
      ]
     },
     "execution_count": 9,
     "metadata": {},
     "output_type": "execute_result"
    }
   ],
   "source": [
    "raw_data2 = np.arange(10, 20)\n",
    "raw_data2"
   ]
  },
  {
   "cell_type": "code",
   "execution_count": 10,
   "metadata": {
    "ExecuteTime": {
     "end_time": "2021-11-03T00:17:26.648816Z",
     "start_time": "2021-11-03T00:17:26.635809Z"
    },
    "colab": {
     "base_uri": "https://localhost:8080/"
    },
    "id": "srPDmytgdQBb",
    "outputId": "6ee2355c-4365-441b-c998-fcbff96c59fa"
   },
   "outputs": [
    {
     "name": "stdout",
     "output_type": "stream",
     "text": [
      "[0 1 2 3 4 5 6 7 8 9]\n",
      "[10 11 12 13 14 15 16 17 18 19]\n"
     ]
    }
   ],
   "source": [
    "print(raw_data1)\n",
    "print(raw_data2)"
   ]
  },
  {
   "cell_type": "code",
   "execution_count": 11,
   "metadata": {
    "ExecuteTime": {
     "end_time": "2021-11-01T08:13:24.646546Z",
     "start_time": "2021-11-01T08:13:24.624519Z"
    },
    "colab": {
     "base_uri": "https://localhost:8080/"
    },
    "id": "EGBbh7-tdQBc",
    "outputId": "e3296999-afd2-498d-8228-30b1820935dd"
   },
   "outputs": [
    {
     "name": "stdout",
     "output_type": "stream",
     "text": [
      "tf.Tensor(0, shape=(), dtype=int64) --- tf.Tensor(10, shape=(), dtype=int64)\n",
      "tf.Tensor(1, shape=(), dtype=int64) --- tf.Tensor(11, shape=(), dtype=int64)\n",
      "tf.Tensor(2, shape=(), dtype=int64) --- tf.Tensor(12, shape=(), dtype=int64)\n",
      "tf.Tensor(3, shape=(), dtype=int64) --- tf.Tensor(13, shape=(), dtype=int64)\n",
      "tf.Tensor(4, shape=(), dtype=int64) --- tf.Tensor(14, shape=(), dtype=int64)\n",
      "tf.Tensor(5, shape=(), dtype=int64) --- tf.Tensor(15, shape=(), dtype=int64)\n",
      "tf.Tensor(6, shape=(), dtype=int64) --- tf.Tensor(16, shape=(), dtype=int64)\n",
      "tf.Tensor(7, shape=(), dtype=int64) --- tf.Tensor(17, shape=(), dtype=int64)\n",
      "tf.Tensor(8, shape=(), dtype=int64) --- tf.Tensor(18, shape=(), dtype=int64)\n",
      "tf.Tensor(9, shape=(), dtype=int64) --- tf.Tensor(19, shape=(), dtype=int64)\n"
     ]
    }
   ],
   "source": [
    "# 2개 이상의 Dataset을 묶어서 제공할 경우, tuple로 묶어준다\n",
    "# Dataset이 데이터를 제공할 때 같은 index의 데이터들을 묶어서 제공 (== zip())\n",
    "dataset2 = tf.data.Dataset.from_tensor_slices((raw_data1, raw_data2)) \n",
    "for X, y in dataset2:\n",
    "    print(X, y, sep=' --- ')"
   ]
  },
  {
   "cell_type": "code",
   "execution_count": 12,
   "metadata": {
    "ExecuteTime": {
     "end_time": "2021-11-03T00:17:28.129666Z",
     "start_time": "2021-11-03T00:17:28.041820Z"
    },
    "colab": {
     "base_uri": "https://localhost:8080/"
    },
    "id": "TLiTYWVJdQBd",
    "outputId": "b124c6af-7541-4b92-add8-caac03124c27"
   },
   "outputs": [
    {
     "name": "stdout",
     "output_type": "stream",
     "text": [
      "<class 'tensorflow.python.data.ops.dataset_ops.TakeDataset'>\n",
      "tf.Tensor(0, shape=(), dtype=int64)\n",
      "tf.Tensor(1, shape=(), dtype=int64)\n",
      "tf.Tensor(2, shape=(), dtype=int64)\n"
     ]
    }
   ],
   "source": [
    "# take(n) : Dataset에서 지정한 개수만큼의 데이터를 조회\n",
    "dataset3 = dataset.take(3)\n",
    "print(type(dataset3))\n",
    "for data in dataset3:\n",
    "    print(data)"
   ]
  },
  {
   "cell_type": "code",
   "execution_count": 13,
   "metadata": {
    "colab": {
     "base_uri": "https://localhost:8080/"
    },
    "id": "t0ZXH7E_vHP4",
    "outputId": "877dd523-045b-4fac-89a3-bddf1a9a7f70"
   },
   "outputs": [
    {
     "name": "stdout",
     "output_type": "stream",
     "text": [
      "tf.Tensor(0, shape=(), dtype=int64), tf.Tensor(10, shape=(), dtype=int64)\n",
      "tf.Tensor(1, shape=(), dtype=int64), tf.Tensor(11, shape=(), dtype=int64)\n"
     ]
    }
   ],
   "source": [
    "d = dataset2.take(2)\n",
    "for X, y in d:\n",
    "  print(X, y, sep=', ')"
   ]
  },
  {
   "cell_type": "markdown",
   "metadata": {
    "id": "0tOoy2evdQBd"
   },
   "source": [
    "##### shuffle"
   ]
  },
  {
   "cell_type": "code",
   "execution_count": 14,
   "metadata": {
    "ExecuteTime": {
     "end_time": "2021-11-01T08:14:17.513361Z",
     "start_time": "2021-11-01T08:14:17.496360Z"
    },
    "colab": {
     "base_uri": "https://localhost:8080/"
    },
    "id": "xJrKzh2udQBd",
    "outputId": "454805e1-ca52-435a-993e-1f3a36018d43"
   },
   "outputs": [
    {
     "name": "stdout",
     "output_type": "stream",
     "text": [
      "<class 'tensorflow.python.data.ops.dataset_ops.ShuffleDataset'>\n",
      "tf.Tensor(1, shape=(), dtype=int64)\n",
      "tf.Tensor(9, shape=(), dtype=int64)\n",
      "tf.Tensor(8, shape=(), dtype=int64)\n",
      "tf.Tensor(5, shape=(), dtype=int64)\n",
      "tf.Tensor(0, shape=(), dtype=int64)\n",
      "tf.Tensor(3, shape=(), dtype=int64)\n",
      "tf.Tensor(2, shape=(), dtype=int64)\n",
      "tf.Tensor(4, shape=(), dtype=int64)\n",
      "tf.Tensor(6, shape=(), dtype=int64)\n",
      "tf.Tensor(7, shape=(), dtype=int64)\n"
     ]
    }
   ],
   "source": [
    "# shuffle(buffer_size) : data를 제공하기 전에 섞는다\n",
    "dataset4 = dataset.shuffle(10) \n",
    "print(type(dataset4))\n",
    "for data in dataset4:\n",
    "    print(data)"
   ]
  },
  {
   "cell_type": "markdown",
   "metadata": {
    "id": "P3-jp842dQBe"
   },
   "source": [
    "##### batch\n",
    "- drop_remainder: boolean(기본-False)\n",
    "    - batch로 제공할 데이터의 개수가 설정한 batch_size 보다 적으면 제공하지 않는다."
   ]
  },
  {
   "cell_type": "code",
   "execution_count": 15,
   "metadata": {
    "ExecuteTime": {
     "end_time": "2021-11-03T00:17:32.506910Z",
     "start_time": "2021-11-03T00:17:32.489875Z"
    },
    "colab": {
     "base_uri": "https://localhost:8080/"
    },
    "id": "AlNv29QwdQBe",
    "outputId": "ca9dd6bc-9f32-49b3-afe3-aa3a843849b9"
   },
   "outputs": [
    {
     "name": "stdout",
     "output_type": "stream",
     "text": [
      "<class 'tensorflow.python.data.ops.dataset_ops.BatchDataset'>\n",
      "tf.Tensor([0 1 2], shape=(3,), dtype=int64)\n",
      "tf.Tensor([3 4 5], shape=(3,), dtype=int64)\n",
      "tf.Tensor([6 7 8], shape=(3,), dtype=int64)\n"
     ]
    }
   ],
   "source": [
    "# batch(size) : 한 번에 size만큼 데이터를 제공\n",
    "dataset5 = dataset.batch(3, drop_remainder = True)\n",
    "print(type(dataset5))\n",
    "for data in dataset5:\n",
    "    print(data)"
   ]
  },
  {
   "cell_type": "code",
   "execution_count": 16,
   "metadata": {
    "ExecuteTime": {
     "end_time": "2021-11-03T00:17:33.957458Z",
     "start_time": "2021-11-03T00:17:33.929489Z"
    },
    "colab": {
     "base_uri": "https://localhost:8080/"
    },
    "id": "Tviakqx8dQBe",
    "outputId": "e6da2d8f-6676-4b94-f89c-e6c7da1ddfb4"
   },
   "outputs": [
    {
     "name": "stdout",
     "output_type": "stream",
     "text": [
      "tf.Tensor([9 1 7], shape=(3,), dtype=int64)\n",
      "tf.Tensor([5 0 8], shape=(3,), dtype=int64)\n",
      "tf.Tensor([6 3 4], shape=(3,), dtype=int64)\n",
      "tf.Tensor([2], shape=(1,), dtype=int64)\n"
     ]
    }
   ],
   "source": [
    "dataset6 = dataset.shuffle(10).batch(3)\n",
    "for d in dataset6:\n",
    "    print(d)"
   ]
  },
  {
   "cell_type": "markdown",
   "metadata": {
    "id": "jdIrP_DadQBe"
   },
   "source": [
    "##### repeat"
   ]
  },
  {
   "cell_type": "code",
   "execution_count": 17,
   "metadata": {
    "ExecuteTime": {
     "end_time": "2021-11-03T00:17:36.109496Z",
     "start_time": "2021-11-03T00:17:36.090507Z"
    },
    "colab": {
     "base_uri": "https://localhost:8080/"
    },
    "id": "3S3eieGqdQBe",
    "outputId": "cbf32bda-8972-4ca3-a972-3c54eff04a82"
   },
   "outputs": [
    {
     "name": "stdout",
     "output_type": "stream",
     "text": [
      "<class 'tensorflow.python.data.ops.dataset_ops.RepeatDataset'>\n",
      "tf.Tensor(0, shape=(), dtype=int64)\n",
      "tf.Tensor(1, shape=(), dtype=int64)\n",
      "tf.Tensor(2, shape=(), dtype=int64)\n",
      "tf.Tensor(3, shape=(), dtype=int64)\n",
      "tf.Tensor(4, shape=(), dtype=int64)\n",
      "tf.Tensor(5, shape=(), dtype=int64)\n",
      "tf.Tensor(6, shape=(), dtype=int64)\n",
      "tf.Tensor(7, shape=(), dtype=int64)\n",
      "tf.Tensor(8, shape=(), dtype=int64)\n",
      "tf.Tensor(9, shape=(), dtype=int64)\n",
      "tf.Tensor(0, shape=(), dtype=int64)\n",
      "tf.Tensor(1, shape=(), dtype=int64)\n",
      "tf.Tensor(2, shape=(), dtype=int64)\n",
      "tf.Tensor(3, shape=(), dtype=int64)\n",
      "tf.Tensor(4, shape=(), dtype=int64)\n",
      "tf.Tensor(5, shape=(), dtype=int64)\n",
      "tf.Tensor(6, shape=(), dtype=int64)\n",
      "tf.Tensor(7, shape=(), dtype=int64)\n",
      "tf.Tensor(8, shape=(), dtype=int64)\n",
      "tf.Tensor(9, shape=(), dtype=int64)\n",
      "tf.Tensor(0, shape=(), dtype=int64)\n",
      "tf.Tensor(1, shape=(), dtype=int64)\n",
      "tf.Tensor(2, shape=(), dtype=int64)\n",
      "tf.Tensor(3, shape=(), dtype=int64)\n",
      "tf.Tensor(4, shape=(), dtype=int64)\n",
      "tf.Tensor(5, shape=(), dtype=int64)\n",
      "tf.Tensor(6, shape=(), dtype=int64)\n",
      "tf.Tensor(7, shape=(), dtype=int64)\n",
      "tf.Tensor(8, shape=(), dtype=int64)\n",
      "tf.Tensor(9, shape=(), dtype=int64)\n"
     ]
    }
   ],
   "source": [
    "# repeat(n): 데이터를 반복횟수만큼 반복해서 제공. 반복횟수 생략하면 무한제공,\n",
    "dataset7 = dataset.repeat(3) \n",
    "print(type(dataset7))\n",
    "for data in dataset7:\n",
    "    print(data)"
   ]
  },
  {
   "cell_type": "code",
   "execution_count": 18,
   "metadata": {
    "ExecuteTime": {
     "end_time": "2021-11-03T00:17:38.140537Z",
     "start_time": "2021-11-03T00:17:38.120543Z"
    },
    "colab": {
     "base_uri": "https://localhost:8080/"
    },
    "id": "t3bTE7jFdQBf",
    "outputId": "4b52f882-fb91-43de-9b0e-7b44c9f87edf"
   },
   "outputs": [
    {
     "name": "stdout",
     "output_type": "stream",
     "text": [
      "tf.Tensor([8 9 0 2 3], shape=(5,), dtype=int64)\n",
      "tf.Tensor([4 7 1 6 5], shape=(5,), dtype=int64)\n",
      "tf.Tensor([5 6 8 3 0], shape=(5,), dtype=int64)\n",
      "tf.Tensor([1 7 4 9 2], shape=(5,), dtype=int64)\n",
      "tf.Tensor([9 1 7 0 3], shape=(5,), dtype=int64)\n",
      "tf.Tensor([6 5 2 8 4], shape=(5,), dtype=int64)\n"
     ]
    }
   ],
   "source": [
    "dataset8 = dataset.shuffle(10).batch(5).repeat(3)\n",
    "for data in dataset8:\n",
    "    print(data)"
   ]
  },
  {
   "cell_type": "code",
   "execution_count": 19,
   "metadata": {
    "colab": {
     "base_uri": "https://localhost:8080/"
    },
    "id": "BY_YjFTty0tK",
    "outputId": "d67884b1-f17f-4836-da27-3346c62cede0"
   },
   "outputs": [
    {
     "name": "stdout",
     "output_type": "stream",
     "text": [
      "tf.Tensor([1 6 7 0 8], shape=(5,), dtype=int64), tf.Tensor([11 16 17 10 18], shape=(5,), dtype=int64)\n",
      "tf.Tensor([3 4 9 5 2], shape=(5,), dtype=int64), tf.Tensor([13 14 19 15 12], shape=(5,), dtype=int64)\n",
      "tf.Tensor([7 8 0 6 5], shape=(5,), dtype=int64), tf.Tensor([17 18 10 16 15], shape=(5,), dtype=int64)\n",
      "tf.Tensor([9 4 3 2 1], shape=(5,), dtype=int64), tf.Tensor([19 14 13 12 11], shape=(5,), dtype=int64)\n",
      "tf.Tensor([4 3 1 2 5], shape=(5,), dtype=int64), tf.Tensor([14 13 11 12 15], shape=(5,), dtype=int64)\n",
      "tf.Tensor([0 7 9 8 6], shape=(5,), dtype=int64), tf.Tensor([10 17 19 18 16], shape=(5,), dtype=int64)\n"
     ]
    }
   ],
   "source": [
    "d = dataset2.shuffle(10).batch(5).repeat(3)\n",
    "for X, y in d:\n",
    "    print(X, y, sep=', ')"
   ]
  },
  {
   "cell_type": "markdown",
   "metadata": {
    "id": "OJ0ElHmZdQBf"
   },
   "source": [
    "##### map"
   ]
  },
  {
   "cell_type": "code",
   "execution_count": 20,
   "metadata": {
    "ExecuteTime": {
     "end_time": "2021-11-03T00:17:40.527048Z",
     "start_time": "2021-11-03T00:17:40.411788Z"
    },
    "colab": {
     "base_uri": "https://localhost:8080/"
    },
    "id": "qUs6SwaCdQBf",
    "outputId": "70bd25e6-8792-48a0-8f68-7d53f7631279",
    "scrolled": true
   },
   "outputs": [
    {
     "name": "stdout",
     "output_type": "stream",
     "text": [
      "<class 'tensorflow.python.data.ops.dataset_ops.MapDataset'>\n",
      "tf.Tensor(0, shape=(), dtype=int64)\n",
      "tf.Tensor(1, shape=(), dtype=int64)\n",
      "tf.Tensor(4, shape=(), dtype=int64)\n",
      "tf.Tensor(9, shape=(), dtype=int64)\n",
      "tf.Tensor(16, shape=(), dtype=int64)\n",
      "tf.Tensor(25, shape=(), dtype=int64)\n",
      "tf.Tensor(36, shape=(), dtype=int64)\n",
      "tf.Tensor(49, shape=(), dtype=int64)\n",
      "tf.Tensor(64, shape=(), dtype=int64)\n",
      "tf.Tensor(81, shape=(), dtype=int64)\n"
     ]
    }
   ],
   "source": [
    "# 매개변수 : 원소 받을 변수\n",
    "# 리턴 : 변환된 값\n",
    "def mapping_func(x):\n",
    "    return x**2\n",
    "\n",
    "dataset9 = dataset.map(mapping_func) # map에 함수 객체를 넣을것!\n",
    "print(type(dataset9))\n",
    "for data in dataset9:\n",
    "    print(data)"
   ]
  },
  {
   "cell_type": "code",
   "execution_count": 21,
   "metadata": {
    "ExecuteTime": {
     "end_time": "2021-11-03T00:17:41.551921Z",
     "start_time": "2021-11-03T00:17:41.505781Z"
    },
    "colab": {
     "base_uri": "https://localhost:8080/"
    },
    "id": "J4MWzw9VdQBf",
    "outputId": "c26bde30-dcdf-4726-c66a-bd05e68a0672"
   },
   "outputs": [
    {
     "name": "stdout",
     "output_type": "stream",
     "text": [
      "tf.Tensor(0, shape=(), dtype=int64), tf.Tensor(10, shape=(), dtype=int64)\n",
      "tf.Tensor(1, shape=(), dtype=int64), tf.Tensor(11, shape=(), dtype=int64)\n",
      "tf.Tensor(8, shape=(), dtype=int64), tf.Tensor(12, shape=(), dtype=int64)\n",
      "tf.Tensor(27, shape=(), dtype=int64), tf.Tensor(13, shape=(), dtype=int64)\n",
      "tf.Tensor(64, shape=(), dtype=int64), tf.Tensor(14, shape=(), dtype=int64)\n",
      "tf.Tensor(125, shape=(), dtype=int64), tf.Tensor(15, shape=(), dtype=int64)\n",
      "tf.Tensor(216, shape=(), dtype=int64), tf.Tensor(16, shape=(), dtype=int64)\n",
      "tf.Tensor(343, shape=(), dtype=int64), tf.Tensor(17, shape=(), dtype=int64)\n",
      "tf.Tensor(512, shape=(), dtype=int64), tf.Tensor(18, shape=(), dtype=int64)\n",
      "tf.Tensor(729, shape=(), dtype=int64), tf.Tensor(19, shape=(), dtype=int64)\n"
     ]
    }
   ],
   "source": [
    "def mapping_func2(x, y):\n",
    "    return x**3, y\n",
    "\n",
    "dataset2 = tf.data.Dataset.from_tensor_slices((raw_data1, raw_data2))\n",
    "dataset10 = dataset2.map(mapping_func2)\n",
    "\n",
    "for X, y in dataset10:\n",
    "  print(X, y, sep=', ')"
   ]
  },
  {
   "cell_type": "code",
   "execution_count": 22,
   "metadata": {
    "ExecuteTime": {
     "end_time": "2021-11-03T00:17:48.199845Z",
     "start_time": "2021-11-03T00:17:48.152694Z"
    },
    "colab": {
     "base_uri": "https://localhost:8080/"
    },
    "id": "AYJUeDRVdQBg",
    "outputId": "d28ee403-dc25-4208-e1ef-799a20a4dd95",
    "scrolled": true
   },
   "outputs": [
    {
     "name": "stdout",
     "output_type": "stream",
     "text": [
      "tf.Tensor(0, shape=(), dtype=int64)\n",
      "tf.Tensor(1, shape=(), dtype=int64)\n",
      "tf.Tensor(4, shape=(), dtype=int64)\n",
      "tf.Tensor(9, shape=(), dtype=int64)\n",
      "tf.Tensor(16, shape=(), dtype=int64)\n",
      "tf.Tensor(25, shape=(), dtype=int64)\n",
      "tf.Tensor(36, shape=(), dtype=int64)\n",
      "tf.Tensor(49, shape=(), dtype=int64)\n",
      "tf.Tensor(64, shape=(), dtype=int64)\n",
      "tf.Tensor(81, shape=(), dtype=int64)\n"
     ]
    }
   ],
   "source": [
    "dataset11 = dataset.map(lambda x: x**2)\n",
    "for data in dataset11:\n",
    "    print(data)"
   ]
  },
  {
   "cell_type": "code",
   "execution_count": 23,
   "metadata": {
    "ExecuteTime": {
     "end_time": "2021-11-03T00:17:52.607608Z",
     "start_time": "2021-11-03T00:17:52.552682Z"
    },
    "colab": {
     "base_uri": "https://localhost:8080/"
    },
    "id": "PAFvU1yWdQBg",
    "outputId": "29d9a685-5a19-45ed-a03d-a9ea4350a520"
   },
   "outputs": [
    {
     "name": "stdout",
     "output_type": "stream",
     "text": [
      "(<tf.Tensor: shape=(), dtype=int64, numpy=0>, <tf.Tensor: shape=(), dtype=int64, numpy=100>)\n",
      "(<tf.Tensor: shape=(), dtype=int64, numpy=1>, <tf.Tensor: shape=(), dtype=int64, numpy=121>)\n",
      "(<tf.Tensor: shape=(), dtype=int64, numpy=8>, <tf.Tensor: shape=(), dtype=int64, numpy=144>)\n",
      "(<tf.Tensor: shape=(), dtype=int64, numpy=27>, <tf.Tensor: shape=(), dtype=int64, numpy=169>)\n",
      "(<tf.Tensor: shape=(), dtype=int64, numpy=64>, <tf.Tensor: shape=(), dtype=int64, numpy=196>)\n",
      "(<tf.Tensor: shape=(), dtype=int64, numpy=125>, <tf.Tensor: shape=(), dtype=int64, numpy=225>)\n",
      "(<tf.Tensor: shape=(), dtype=int64, numpy=216>, <tf.Tensor: shape=(), dtype=int64, numpy=256>)\n",
      "(<tf.Tensor: shape=(), dtype=int64, numpy=343>, <tf.Tensor: shape=(), dtype=int64, numpy=289>)\n",
      "(<tf.Tensor: shape=(), dtype=int64, numpy=512>, <tf.Tensor: shape=(), dtype=int64, numpy=324>)\n",
      "(<tf.Tensor: shape=(), dtype=int64, numpy=729>, <tf.Tensor: shape=(), dtype=int64, numpy=361>)\n"
     ]
    }
   ],
   "source": [
    "dataset12 = dataset2.map(lambda x, y: (x**3, y**2))\n",
    "for data in dataset12:\n",
    "    print(data)"
   ]
  },
  {
   "cell_type": "markdown",
   "metadata": {
    "id": "bsDZVMQ4dQBg"
   },
   "source": [
    "##### filter"
   ]
  },
  {
   "cell_type": "code",
   "execution_count": 24,
   "metadata": {
    "ExecuteTime": {
     "end_time": "2021-11-03T00:17:56.269694Z",
     "start_time": "2021-11-03T00:17:56.210225Z"
    },
    "colab": {
     "base_uri": "https://localhost:8080/"
    },
    "id": "wxZQkNModQBh",
    "outputId": "3797f47e-dc81-4df9-8eb1-4af2101fe7b1"
   },
   "outputs": [
    {
     "name": "stdout",
     "output_type": "stream",
     "text": [
      "<class 'tensorflow.python.data.ops.dataset_ops.FilterDataset'>\n",
      "tf.Tensor(0, shape=(), dtype=int64)\n",
      "tf.Tensor(2, shape=(), dtype=int64)\n",
      "tf.Tensor(4, shape=(), dtype=int64)\n",
      "tf.Tensor(6, shape=(), dtype=int64)\n",
      "tf.Tensor(8, shape=(), dtype=int64)\n"
     ]
    }
   ],
   "source": [
    "# filter: 특정 조건을 만족하는 원소만 제공\n",
    "# 매개변수: 원소 받을 변수\n",
    "# 리턴: bool => True인 원소만 제공\n",
    "def filter_func(x):\n",
    "    return x%2 == 0 \n",
    "\n",
    "dataset13 = dataset.filter(filter_func)\n",
    "print(type(dataset13))\n",
    "\n",
    "for data in dataset13:\n",
    "  print(data)"
   ]
  },
  {
   "cell_type": "code",
   "execution_count": 25,
   "metadata": {
    "ExecuteTime": {
     "end_time": "2021-11-03T00:17:57.209032Z",
     "start_time": "2021-11-03T00:17:57.166006Z"
    },
    "colab": {
     "base_uri": "https://localhost:8080/"
    },
    "id": "bG9aRz-IdQBh",
    "outputId": "2127af23-0de7-4448-ac52-0ed12c5f5fb7"
   },
   "outputs": [
    {
     "name": "stdout",
     "output_type": "stream",
     "text": [
      "tf.Tensor(6, shape=(), dtype=int64)\n",
      "tf.Tensor(7, shape=(), dtype=int64)\n",
      "tf.Tensor(8, shape=(), dtype=int64)\n",
      "tf.Tensor(9, shape=(), dtype=int64)\n"
     ]
    }
   ],
   "source": [
    "dataset14 = dataset.filter(lambda x : x > 5)\n",
    "for data in dataset14:\n",
    "    print(data)"
   ]
  },
  {
   "cell_type": "markdown",
   "metadata": {
    "id": "s4PrwL4xdQBh"
   },
   "source": [
    "##### 종합"
   ]
  },
  {
   "cell_type": "code",
   "execution_count": 32,
   "metadata": {
    "ExecuteTime": {
     "end_time": "2021-11-03T00:17:59.148304Z",
     "start_time": "2021-11-03T00:17:59.091243Z"
    },
    "colab": {
     "base_uri": "https://localhost:8080/"
    },
    "id": "Gc8waEjYdQBh",
    "outputId": "ebed9038-6c33-4391-a51b-d5afe5289f7b"
   },
   "outputs": [
    {
     "name": "stdout",
     "output_type": "stream",
     "text": [
      "WARNING:tensorflow:AutoGraph could not transform <function <lambda> at 0x7f465ba37cb0> and will run it as-is.\n",
      "Cause: could not parse the source code of <function <lambda> at 0x7f465ba37cb0>: found multiple definitions with identical signatures at the location. This error may be avoided by defining each lambda on a single line and with unique argument names. The matching definitions were:\n",
      "Match 0:\n",
      "(lambda x: (x + 10))\n",
      "\n",
      "Match 1:\n",
      "(lambda x: (x >= 0))\n",
      "\n",
      "To silence this warning, decorate the function with @tf.autograph.experimental.do_not_convert\n",
      "WARNING: AutoGraph could not transform <function <lambda> at 0x7f465ba37cb0> and will run it as-is.\n",
      "Cause: could not parse the source code of <function <lambda> at 0x7f465ba37cb0>: found multiple definitions with identical signatures at the location. This error may be avoided by defining each lambda on a single line and with unique argument names. The matching definitions were:\n",
      "Match 0:\n",
      "(lambda x: (x + 10))\n",
      "\n",
      "Match 1:\n",
      "(lambda x: (x >= 0))\n",
      "\n",
      "To silence this warning, decorate the function with @tf.autograph.experimental.do_not_convert\n",
      "WARNING:tensorflow:AutoGraph could not transform <function <lambda> at 0x7f465ba377a0> and will run it as-is.\n",
      "Cause: could not parse the source code of <function <lambda> at 0x7f465ba377a0>: found multiple definitions with identical signatures at the location. This error may be avoided by defining each lambda on a single line and with unique argument names. The matching definitions were:\n",
      "Match 0:\n",
      "(lambda x: (x + 10))\n",
      "\n",
      "Match 1:\n",
      "(lambda x: (x >= 0))\n",
      "\n",
      "To silence this warning, decorate the function with @tf.autograph.experimental.do_not_convert\n",
      "WARNING: AutoGraph could not transform <function <lambda> at 0x7f465ba377a0> and will run it as-is.\n",
      "Cause: could not parse the source code of <function <lambda> at 0x7f465ba377a0>: found multiple definitions with identical signatures at the location. This error may be avoided by defining each lambda on a single line and with unique argument names. The matching definitions were:\n",
      "Match 0:\n",
      "(lambda x: (x + 10))\n",
      "\n",
      "Match 1:\n",
      "(lambda x: (x >= 0))\n",
      "\n",
      "To silence this warning, decorate the function with @tf.autograph.experimental.do_not_convert\n"
     ]
    }
   ],
   "source": [
    "raw_data = np.arange(-10,11)\n",
    "# x, y 다른 변수명으로 해도 상관은 없음 (경고문 없어짐)\n",
    "dataset_final = tf.data.Dataset.from_tensor_slices(raw_data)\\\n",
    "                               .filter(lambda x:x>=0)\\\n",
    "                               .map(lambda x:x+10)\\\n",
    "                               .shuffle(raw_data.size)\\\n",
    "                               .batch(3)#, drop_remainder=True)"
   ]
  },
  {
   "cell_type": "code",
   "execution_count": 33,
   "metadata": {
    "ExecuteTime": {
     "end_time": "2021-11-03T00:18:00.151996Z",
     "start_time": "2021-11-03T00:18:00.113989Z"
    },
    "colab": {
     "base_uri": "https://localhost:8080/"
    },
    "id": "arX3rNB-dQBh",
    "outputId": "dde0a75c-a1cc-4c86-c8b1-7b90015ed94b"
   },
   "outputs": [
    {
     "name": "stdout",
     "output_type": "stream",
     "text": [
      "tf.Tensor([15 19 20], shape=(3,), dtype=int64)\n",
      "tf.Tensor([13 12 10], shape=(3,), dtype=int64)\n",
      "tf.Tensor([11 16 17], shape=(3,), dtype=int64)\n",
      "tf.Tensor([14 18], shape=(2,), dtype=int64)\n"
     ]
    }
   ],
   "source": [
    "for data in dataset_final:\n",
    "    print(data)"
   ]
  },
  {
   "cell_type": "markdown",
   "metadata": {
    "id": "17u2kSiZdQBi"
   },
   "source": [
    "# 문제 유형별 MLP 네트워크\n",
    "- Multi Layer Perceptron\n",
    "    - Fully Connected Layer로 구성된 네트워크"
   ]
  },
  {
   "cell_type": "markdown",
   "metadata": {
    "id": "MIsXdGcbdQBi"
   },
   "source": [
    "# Regression(회귀)\n",
    "\n",
    "## Boston Housing Dataset\n",
    "보스턴 주택가격 dataset은 다음과 같은 속성을 바탕으로 해당 타운 주택 가격의 중앙값을 예측하는 문제.\n",
    "- CRIM: 범죄율\n",
    "- ZN: 25,000 평방피트당 주거지역 비율\n",
    "- INDUS: 비소매 상업지구 비율\n",
    "- CHAS: 찰스강에 인접해 있는지 여부(인접:1, 아니면:0)\n",
    "- NOX: 일산화질소 농도(단위: 0.1ppm)\n",
    "- RM: 주택당 방의 수\n",
    "- AGE: 1940년 이전에 건설된 주택의 비율\n",
    "- DIS: 5개의 보스턴 직업고용센터와의 거리(가중 평균)\n",
    "- RAD: 고속도로 접근성\n",
    "- TAX: 재산세율\n",
    "- PTRATIO: 학생/교사 비율\n",
    "- B: 흑인 비율\n",
    "- LSTAT: 하위 계층 비율\n",
    "<br><br>\n",
    "- **Target**\n",
    "    - MEDV: 타운의 주택가격 중앙값(단위: 1,000달러)"
   ]
  },
  {
   "cell_type": "code",
   "execution_count": 34,
   "metadata": {
    "ExecuteTime": {
     "end_time": "2021-11-03T00:18:30.667027Z",
     "start_time": "2021-11-03T00:18:30.656991Z"
    },
    "id": "JiA3YWRYdQBj"
   },
   "outputs": [],
   "source": [
    "import numpy as np\n",
    "\n",
    "import tensorflow as tf\n",
    "from tensorflow import keras\n",
    "\n",
    "from tensorflow.keras import layers, models"
   ]
  },
  {
   "cell_type": "code",
   "execution_count": 35,
   "metadata": {
    "ExecuteTime": {
     "end_time": "2021-11-03T00:18:32.570713Z",
     "start_time": "2021-11-03T00:18:32.551682Z"
    },
    "id": "3KJAHh0SdQBj"
   },
   "outputs": [],
   "source": [
    "# 랜덤값이 완전 보장되지는 않음\n",
    "np.random.seed(0)\n",
    "tf.random.set_seed(0)"
   ]
  },
  {
   "cell_type": "markdown",
   "metadata": {
    "id": "851JFMJwdQBj"
   },
   "source": [
    "##### 데이터 로딩"
   ]
  },
  {
   "cell_type": "code",
   "execution_count": 36,
   "metadata": {
    "ExecuteTime": {
     "end_time": "2021-11-03T00:18:34.586431Z",
     "start_time": "2021-11-03T00:18:34.555449Z"
    },
    "colab": {
     "base_uri": "https://localhost:8080/"
    },
    "id": "czWoOe3udQBk",
    "outputId": "cfa30420-703c-4722-8261-f1243efee800"
   },
   "outputs": [
    {
     "name": "stdout",
     "output_type": "stream",
     "text": [
      "Downloading data from https://storage.googleapis.com/tensorflow/tf-keras-datasets/boston_housing.npz\n",
      "57344/57026 [==============================] - 0s 0us/step\n",
      "65536/57026 [==================================] - 0s 0us/step\n",
      "(404, 13) (102, 13)\n",
      "(404,) (102,)\n"
     ]
    }
   ],
   "source": [
    "(train_X, train_y), (test_X, test_y) = keras.datasets.boston_housing.load_data()\n",
    "print(train_X.shape, test_X.shape)\n",
    "print(train_y.shape, test_y.shape)"
   ]
  },
  {
   "cell_type": "code",
   "execution_count": 37,
   "metadata": {
    "ExecuteTime": {
     "end_time": "2021-11-03T00:18:35.928293Z",
     "start_time": "2021-11-03T00:18:35.913288Z"
    },
    "colab": {
     "base_uri": "https://localhost:8080/"
    },
    "id": "GHUQxeiWdQBk",
    "outputId": "3197bd92-809f-47f7-f6f6-9859ff70c5bd",
    "scrolled": true
   },
   "outputs": [
    {
     "data": {
      "text/plain": [
       "array([[1.23247e+00, 0.00000e+00, 8.14000e+00, 0.00000e+00, 5.38000e-01,\n",
       "        6.14200e+00, 9.17000e+01, 3.97690e+00, 4.00000e+00, 3.07000e+02,\n",
       "        2.10000e+01, 3.96900e+02, 1.87200e+01],\n",
       "       [2.17700e-02, 8.25000e+01, 2.03000e+00, 0.00000e+00, 4.15000e-01,\n",
       "        7.61000e+00, 1.57000e+01, 6.27000e+00, 2.00000e+00, 3.48000e+02,\n",
       "        1.47000e+01, 3.95380e+02, 3.11000e+00],\n",
       "       [4.89822e+00, 0.00000e+00, 1.81000e+01, 0.00000e+00, 6.31000e-01,\n",
       "        4.97000e+00, 1.00000e+02, 1.33250e+00, 2.40000e+01, 6.66000e+02,\n",
       "        2.02000e+01, 3.75520e+02, 3.26000e+00],\n",
       "       [3.96100e-02, 0.00000e+00, 5.19000e+00, 0.00000e+00, 5.15000e-01,\n",
       "        6.03700e+00, 3.45000e+01, 5.98530e+00, 5.00000e+00, 2.24000e+02,\n",
       "        2.02000e+01, 3.96900e+02, 8.01000e+00],\n",
       "       [3.69311e+00, 0.00000e+00, 1.81000e+01, 0.00000e+00, 7.13000e-01,\n",
       "        6.37600e+00, 8.84000e+01, 2.56710e+00, 2.40000e+01, 6.66000e+02,\n",
       "        2.02000e+01, 3.91430e+02, 1.46500e+01]])"
      ]
     },
     "execution_count": 37,
     "metadata": {},
     "output_type": "execute_result"
    }
   ],
   "source": [
    "train_X[:5]"
   ]
  },
  {
   "cell_type": "code",
   "execution_count": null,
   "metadata": {
    "ExecuteTime": {
     "end_time": "2021-11-03T00:18:40.002908Z",
     "start_time": "2021-11-03T00:18:39.992903Z"
    },
    "id": "gOzmn_TGdQBl"
   },
   "outputs": [],
   "source": [
    "\n",
    "train_y[:5]"
   ]
  },
  {
   "cell_type": "markdown",
   "metadata": {
    "id": "iFR_5ptVdQBl"
   },
   "source": [
    "##### 하이퍼파라미터, 변수 정의"
   ]
  },
  {
   "cell_type": "code",
   "execution_count": 38,
   "metadata": {
    "ExecuteTime": {
     "end_time": "2021-11-03T00:19:28.221512Z",
     "start_time": "2021-11-03T00:19:28.202545Z"
    },
    "id": "DQ2VZjN-dQBl"
   },
   "outputs": [],
   "source": [
    "# hyperparameter\n",
    "LEARNING_RATE = 0.001 # optimizer에 설정할 학습률\n",
    "N_EPOCHS  = 200 # 데이터셋을 몇 번 학습 시킬지\n",
    "N_BATCHS = 32   # 배치사이즈 - 최적화 데이터 단위\n",
    "\n",
    "# train/test 개수\n",
    "N_TRAIN = train_X.shape[0]\n",
    "N_TEST = test_X.shape[0]   "
   ]
  },
  {
   "cell_type": "markdown",
   "metadata": {
    "id": "5Iub1JfSdQBm"
   },
   "source": [
    "##### X, y 전처리\n",
    "- MLP는 선형기반 모델이므로 Feature scaling을 해준다."
   ]
  },
  {
   "cell_type": "code",
   "execution_count": 39,
   "metadata": {
    "ExecuteTime": {
     "end_time": "2021-11-03T00:22:46.672715Z",
     "start_time": "2021-11-03T00:22:45.928931Z"
    },
    "id": "ns-IQSDtdQBm"
   },
   "outputs": [],
   "source": [
    "from sklearn.preprocessing import StandardScaler\n",
    "\n",
    "scaler = StandardScaler()\n",
    "X_train = scaler.fit_transform(train_X)\n",
    "X_test = scaler.transform(test_X)"
   ]
  },
  {
   "cell_type": "markdown",
   "metadata": {
    "id": "x1DhY4PfdQBm"
   },
   "source": [
    "##### Dataset 생성"
   ]
  },
  {
   "cell_type": "code",
   "execution_count": 40,
   "metadata": {
    "ExecuteTime": {
     "end_time": "2021-11-03T00:22:49.378171Z",
     "start_time": "2021-11-03T00:22:49.346798Z"
    },
    "id": "H8NDGfFadQBn"
   },
   "outputs": [],
   "source": [
    "# train dataset - 일반적으로 batch에서 drop_remainder=True 로 설정 (학습의 일관성을 위해서)\n",
    "train_dataset = tf.data.Dataset.from_tensor_slices((X_train, train_y))\\\n",
    "                                .shuffle(N_TRAIN)\\\n",
    "                                .batch(N_BATCHS, drop_remainder=True)\n",
    "\n",
    "test_dataset = tf.data.Dataset.from_tensor_slices((X_test, test_y)).batch(N_BATCHS)"
   ]
  },
  {
   "cell_type": "markdown",
   "metadata": {
    "id": "yn4ApOVndQBn"
   },
   "source": [
    "##### 모델 구현"
   ]
  },
  {
   "cell_type": "code",
   "execution_count": 41,
   "metadata": {
    "ExecuteTime": {
     "end_time": "2021-11-03T00:25:45.682692Z",
     "start_time": "2021-11-03T00:25:45.665687Z"
    },
    "id": "00L2Bz9adQBo"
   },
   "outputs": [],
   "source": [
    "# model 생성 함수\n",
    "def create_housing_model():\n",
    "    \n",
    "    # 모델 객체 생성\n",
    "    model = keras.Sequential()\n",
    "\n",
    "    # 모델 객체 Layer 추가\n",
    "    # Hidden Layer => Feature Extractor\n",
    "    # model.add(layers.InputLayer((13, ))) \n",
    "    \n",
    "    # => input layer는 입력데이터의 shape만 정의하면 되므로\n",
    "    # 첫번째 layer의 input_shape 매개변수에 shape을 지정하는 것으로 대체 가능\n",
    "\n",
    "    model.add(layers.Dense(units=128, activation='relu', input_shape=(13,)))\n",
    "    model.add(layers.Dense(units=64, activation='relu'))\n",
    "    model.add(layers.Dense(units=32, activation='relu'))\n",
    "    model.add(layers.Dense(units=16, activation='relu'))\n",
    "    \n",
    "    # Output Layer - Regression : unit 개수 = 1 (집값 예측) / activation 함수 : None\n",
    "    model.add(layers.Dense(units=1, name='output')) # name : layer의 이름 설정\n",
    "    \n",
    "    return model"
   ]
  },
  {
   "cell_type": "code",
   "execution_count": 42,
   "metadata": {
    "ExecuteTime": {
     "end_time": "2021-11-03T00:25:46.309942Z",
     "start_time": "2021-11-03T00:25:46.258942Z"
    },
    "id": "lIrmEZoGdQBp"
   },
   "outputs": [],
   "source": [
    "model = create_housing_model()\n",
    "# 회귀에서 loss func.: mse (Mean Squared Error)\n",
    "model.compile(optimizer=keras.optimizers.Adam(learning_rate=LEARNING_RATE),  # default가 아닌 경우 객체 생성 필수\n",
    "              loss='mse')"
   ]
  },
  {
   "cell_type": "code",
   "execution_count": 43,
   "metadata": {
    "colab": {
     "base_uri": "https://localhost:8080/"
    },
    "id": "6GWpK8WydQBq",
    "outputId": "862e73f3-77ce-4c2b-f619-7c453970aee1"
   },
   "outputs": [
    {
     "name": "stdout",
     "output_type": "stream",
     "text": [
      "Model: \"sequential\"\n",
      "_________________________________________________________________\n",
      " Layer (type)                Output Shape              Param #   \n",
      "=================================================================\n",
      " dense (Dense)               (None, 128)               1792      \n",
      "                                                                 \n",
      " dense_1 (Dense)             (None, 64)                8256      \n",
      "                                                                 \n",
      " dense_2 (Dense)             (None, 32)                2080      \n",
      "                                                                 \n",
      " dense_3 (Dense)             (None, 16)                528       \n",
      "                                                                 \n",
      " output (Dense)              (None, 1)                 17        \n",
      "                                                                 \n",
      "=================================================================\n",
      "Total params: 12,673\n",
      "Trainable params: 12,673\n",
      "Non-trainable params: 0\n",
      "_________________________________________________________________\n"
     ]
    }
   ],
   "source": [
    "model.summary()"
   ]
  },
  {
   "cell_type": "code",
   "execution_count": 44,
   "metadata": {
    "ExecuteTime": {
     "end_time": "2021-11-03T00:25:48.796508Z",
     "start_time": "2021-11-03T00:25:48.593053Z"
    },
    "colab": {
     "base_uri": "https://localhost:8080/",
     "height": 644
    },
    "id": "0fB9AZk9dQBq",
    "outputId": "b731db3e-09b7-4122-fffd-6c74df6bee7b"
   },
   "outputs": [
    {
     "data": {
      "image/png": "[encoded data removed]",
      "text/plain": [
       "<IPython.core.display.Image object>"
      ]
     },
     "execution_count": 44,
     "metadata": {},
     "output_type": "execute_result"
    }
   ],
   "source": [
    "keras.utils.plot_model(model, show_shapes=True)"
   ]
  },
  {
   "cell_type": "markdown",
   "metadata": {
    "id": "AfmeHQh0dQBq"
   },
   "source": [
    "##### 학습(Train)"
   ]
  },
  {
   "cell_type": "code",
   "execution_count": 45,
   "metadata": {
    "ExecuteTime": {
     "end_time": "2021-11-03T00:26:09.427202Z",
     "start_time": "2021-11-03T00:25:52.255858Z"
    },
    "colab": {
     "base_uri": "https://localhost:8080/"
    },
    "id": "_ZKOMUfzdQBr",
    "outputId": "d09c686b-8ead-4adc-e11d-d211cf6d6123"
   },
   "outputs": [
    {
     "name": "stdout",
     "output_type": "stream",
     "text": [
      "Epoch 1/200\n",
      "12/12 [==============================] - 2s 12ms/step - loss: 577.3931 - val_loss: 588.7253\n",
      "Epoch 2/200\n",
      "12/12 [==============================] - 0s 3ms/step - loss: 535.2087 - val_loss: 528.5536\n",
      "Epoch 3/200\n",
      "12/12 [==============================] - 0s 4ms/step - loss: 449.3872 - val_loss: 395.9595\n",
      "Epoch 4/200\n",
      "12/12 [==============================] - 0s 3ms/step - loss: 285.8768 - val_loss: 178.5862\n",
      "Epoch 5/200\n",
      "12/12 [==============================] - 0s 4ms/step - loss: 109.0839 - val_loss: 73.3983\n",
      "Epoch 6/200\n",
      "12/12 [==============================] - 0s 3ms/step - loss: 65.2825 - val_loss: 45.6336\n",
      "Epoch 7/200\n",
      "12/12 [==============================] - 0s 3ms/step - loss: 39.5779 - val_loss: 34.2212\n",
      "Epoch 8/200\n",
      "12/12 [==============================] - 0s 3ms/step - loss: 28.1576 - val_loss: 27.1693\n",
      "Epoch 9/200\n",
      "12/12 [==============================] - 0s 3ms/step - loss: 23.3588 - val_loss: 25.1919\n",
      "Epoch 10/200\n",
      "12/12 [==============================] - 0s 3ms/step - loss: 19.0858 - val_loss: 24.1037\n",
      "Epoch 11/200\n",
      "12/12 [==============================] - 0s 3ms/step - loss: 19.5038 - val_loss: 23.9689\n",
      "Epoch 12/200\n",
      "12/12 [==============================] - 0s 3ms/step - loss: 17.9861 - val_loss: 23.8935\n",
      "Epoch 13/200\n",
      "12/12 [==============================] - 0s 3ms/step - loss: 14.9528 - val_loss: 23.4287\n",
      "Epoch 14/200\n",
      "12/12 [==============================] - 0s 3ms/step - loss: 15.2748 - val_loss: 22.8110\n",
      "Epoch 15/200\n",
      "12/12 [==============================] - 0s 3ms/step - loss: 14.5906 - val_loss: 22.0152\n",
      "Epoch 16/200\n",
      "12/12 [==============================] - 0s 3ms/step - loss: 12.4829 - val_loss: 22.9588\n",
      "Epoch 17/200\n",
      "12/12 [==============================] - 0s 3ms/step - loss: 12.8524 - val_loss: 22.8013\n",
      "Epoch 18/200\n",
      "12/12 [==============================] - 0s 4ms/step - loss: 12.8072 - val_loss: 22.6518\n",
      "Epoch 19/200\n",
      "12/12 [==============================] - 0s 3ms/step - loss: 12.0775 - val_loss: 22.9793\n",
      "Epoch 20/200\n",
      "12/12 [==============================] - 0s 3ms/step - loss: 11.9680 - val_loss: 22.2733\n",
      "Epoch 21/200\n",
      "12/12 [==============================] - 0s 4ms/step - loss: 11.4986 - val_loss: 23.1310\n",
      "Epoch 22/200\n",
      "12/12 [==============================] - 0s 3ms/step - loss: 11.2264 - val_loss: 23.4075\n",
      "Epoch 23/200\n",
      "12/12 [==============================] - 0s 3ms/step - loss: 10.7186 - val_loss: 23.4467\n",
      "Epoch 24/200\n",
      "12/12 [==============================] - 0s 4ms/step - loss: 10.1350 - val_loss: 24.0128\n",
      "Epoch 25/200\n",
      "12/12 [==============================] - 0s 3ms/step - loss: 10.4290 - val_loss: 23.1798\n",
      "Epoch 26/200\n",
      "12/12 [==============================] - 0s 4ms/step - loss: 10.1144 - val_loss: 21.9742\n",
      "Epoch 27/200\n",
      "12/12 [==============================] - 0s 3ms/step - loss: 9.3101 - val_loss: 23.3579\n",
      "Epoch 28/200\n",
      "12/12 [==============================] - 0s 3ms/step - loss: 9.9603 - val_loss: 22.3168\n",
      "Epoch 29/200\n",
      "12/12 [==============================] - 0s 3ms/step - loss: 9.5686 - val_loss: 23.8143\n",
      "Epoch 30/200\n",
      "12/12 [==============================] - 0s 3ms/step - loss: 9.4564 - val_loss: 23.7639\n",
      "Epoch 31/200\n",
      "12/12 [==============================] - 0s 3ms/step - loss: 9.4678 - val_loss: 23.7511\n",
      "Epoch 32/200\n",
      "12/12 [==============================] - 0s 3ms/step - loss: 9.2971 - val_loss: 23.1162\n",
      "Epoch 33/200\n",
      "12/12 [==============================] - 0s 3ms/step - loss: 9.3192 - val_loss: 22.3857\n",
      "Epoch 34/200\n",
      "12/12 [==============================] - 0s 4ms/step - loss: 8.4993 - val_loss: 23.0814\n",
      "Epoch 35/200\n",
      "12/12 [==============================] - 0s 3ms/step - loss: 9.0766 - val_loss: 21.6564\n",
      "Epoch 36/200\n",
      "12/12 [==============================] - 0s 3ms/step - loss: 8.8367 - val_loss: 22.3627\n",
      "Epoch 37/200\n",
      "12/12 [==============================] - 0s 4ms/step - loss: 8.7469 - val_loss: 22.1713\n",
      "Epoch 38/200\n",
      "12/12 [==============================] - 0s 3ms/step - loss: 8.4355 - val_loss: 22.7597\n",
      "Epoch 39/200\n",
      "12/12 [==============================] - 0s 3ms/step - loss: 8.3183 - val_loss: 22.8467\n",
      "Epoch 40/200\n",
      "12/12 [==============================] - 0s 3ms/step - loss: 8.3826 - val_loss: 22.1943\n",
      "Epoch 41/200\n",
      "12/12 [==============================] - 0s 3ms/step - loss: 8.2722 - val_loss: 22.7475\n",
      "Epoch 42/200\n",
      "12/12 [==============================] - 0s 3ms/step - loss: 8.5546 - val_loss: 20.8880\n",
      "Epoch 43/200\n",
      "12/12 [==============================] - 0s 3ms/step - loss: 8.1957 - val_loss: 22.8061\n",
      "Epoch 44/200\n",
      "12/12 [==============================] - 0s 5ms/step - loss: 8.1359 - val_loss: 21.5673\n",
      "Epoch 45/200\n",
      "12/12 [==============================] - 0s 3ms/step - loss: 8.2443 - val_loss: 20.6095\n",
      "Epoch 46/200\n",
      "12/12 [==============================] - 0s 3ms/step - loss: 8.1504 - val_loss: 22.3129\n",
      "Epoch 47/200\n",
      "12/12 [==============================] - 0s 3ms/step - loss: 7.2995 - val_loss: 20.7983\n",
      "Epoch 48/200\n",
      "12/12 [==============================] - 0s 3ms/step - loss: 7.1838 - val_loss: 21.3249\n",
      "Epoch 49/200\n",
      "12/12 [==============================] - 0s 3ms/step - loss: 7.6557 - val_loss: 20.8409\n",
      "Epoch 50/200\n",
      "12/12 [==============================] - 0s 4ms/step - loss: 7.2745 - val_loss: 21.3181\n",
      "Epoch 51/200\n",
      "12/12 [==============================] - 0s 3ms/step - loss: 7.7236 - val_loss: 21.2126\n",
      "Epoch 52/200\n",
      "12/12 [==============================] - 0s 3ms/step - loss: 7.1574 - val_loss: 20.9516\n",
      "Epoch 53/200\n",
      "12/12 [==============================] - 0s 3ms/step - loss: 7.3974 - val_loss: 21.2289\n",
      "Epoch 54/200\n",
      "12/12 [==============================] - 0s 3ms/step - loss: 7.6223 - val_loss: 21.7046\n",
      "Epoch 55/200\n",
      "12/12 [==============================] - 0s 3ms/step - loss: 6.8363 - val_loss: 19.0624\n",
      "Epoch 56/200\n",
      "12/12 [==============================] - 0s 4ms/step - loss: 7.1780 - val_loss: 20.7584\n",
      "Epoch 57/200\n",
      "12/12 [==============================] - 0s 3ms/step - loss: 6.9714 - val_loss: 19.7984\n",
      "Epoch 58/200\n",
      "12/12 [==============================] - 0s 3ms/step - loss: 7.0688 - val_loss: 20.6867\n",
      "Epoch 59/200\n",
      "12/12 [==============================] - 0s 3ms/step - loss: 6.7408 - val_loss: 20.4787\n",
      "Epoch 60/200\n",
      "12/12 [==============================] - 0s 3ms/step - loss: 6.8936 - val_loss: 20.2278\n",
      "Epoch 61/200\n",
      "12/12 [==============================] - 0s 3ms/step - loss: 6.8718 - val_loss: 19.7110\n",
      "Epoch 62/200\n",
      "12/12 [==============================] - 0s 3ms/step - loss: 6.9100 - val_loss: 20.6443\n",
      "Epoch 63/200\n",
      "12/12 [==============================] - 0s 3ms/step - loss: 5.9343 - val_loss: 19.0413\n",
      "Epoch 64/200\n",
      "12/12 [==============================] - 0s 3ms/step - loss: 6.4499 - val_loss: 19.1556\n",
      "Epoch 65/200\n",
      "12/12 [==============================] - 0s 4ms/step - loss: 6.4882 - val_loss: 19.6991\n",
      "Epoch 66/200\n",
      "12/12 [==============================] - 0s 3ms/step - loss: 6.4122 - val_loss: 19.7918\n",
      "Epoch 67/200\n",
      "12/12 [==============================] - 0s 3ms/step - loss: 6.4037 - val_loss: 19.7949\n",
      "Epoch 68/200\n",
      "12/12 [==============================] - 0s 3ms/step - loss: 6.4106 - val_loss: 18.7212\n",
      "Epoch 69/200\n",
      "12/12 [==============================] - 0s 3ms/step - loss: 6.4011 - val_loss: 18.5057\n",
      "Epoch 70/200\n",
      "12/12 [==============================] - 0s 3ms/step - loss: 6.2611 - val_loss: 18.4879\n",
      "Epoch 71/200\n",
      "12/12 [==============================] - 0s 3ms/step - loss: 6.2132 - val_loss: 18.6160\n",
      "Epoch 72/200\n",
      "12/12 [==============================] - 0s 3ms/step - loss: 6.0769 - val_loss: 18.2400\n",
      "Epoch 73/200\n",
      "12/12 [==============================] - 0s 4ms/step - loss: 6.1676 - val_loss: 17.8340\n",
      "Epoch 74/200\n",
      "12/12 [==============================] - 0s 3ms/step - loss: 5.9161 - val_loss: 18.6689\n",
      "Epoch 75/200\n",
      "12/12 [==============================] - 0s 4ms/step - loss: 6.0343 - val_loss: 17.8414\n",
      "Epoch 76/200\n",
      "12/12 [==============================] - 0s 3ms/step - loss: 6.2092 - val_loss: 17.7790\n",
      "Epoch 77/200\n",
      "12/12 [==============================] - 0s 3ms/step - loss: 6.0616 - val_loss: 17.0565\n",
      "Epoch 78/200\n",
      "12/12 [==============================] - 0s 4ms/step - loss: 6.0549 - val_loss: 17.2619\n",
      "Epoch 79/200\n",
      "12/12 [==============================] - 0s 3ms/step - loss: 5.4514 - val_loss: 17.7143\n",
      "Epoch 80/200\n",
      "12/12 [==============================] - 0s 3ms/step - loss: 5.8380 - val_loss: 17.1473\n",
      "Epoch 81/200\n",
      "12/12 [==============================] - 0s 4ms/step - loss: 5.7611 - val_loss: 16.7707\n",
      "Epoch 82/200\n",
      "12/12 [==============================] - 0s 3ms/step - loss: 5.7337 - val_loss: 17.1001\n",
      "Epoch 83/200\n",
      "12/12 [==============================] - 0s 3ms/step - loss: 5.6795 - val_loss: 16.5777\n",
      "Epoch 84/200\n",
      "12/12 [==============================] - 0s 3ms/step - loss: 5.5922 - val_loss: 16.6508\n",
      "Epoch 85/200\n",
      "12/12 [==============================] - 0s 3ms/step - loss: 5.4201 - val_loss: 16.0321\n",
      "Epoch 86/200\n",
      "12/12 [==============================] - 0s 4ms/step - loss: 5.3622 - val_loss: 17.0002\n",
      "Epoch 87/200\n",
      "12/12 [==============================] - 0s 3ms/step - loss: 5.2731 - val_loss: 15.6925\n",
      "Epoch 88/200\n",
      "12/12 [==============================] - 0s 3ms/step - loss: 5.2827 - val_loss: 17.1606\n",
      "Epoch 89/200\n",
      "12/12 [==============================] - 0s 3ms/step - loss: 5.2929 - val_loss: 15.9560\n",
      "Epoch 90/200\n",
      "12/12 [==============================] - 0s 3ms/step - loss: 5.1564 - val_loss: 15.0372\n",
      "Epoch 91/200\n",
      "12/12 [==============================] - 0s 3ms/step - loss: 5.1472 - val_loss: 15.1726\n",
      "Epoch 92/200\n",
      "12/12 [==============================] - 0s 3ms/step - loss: 5.1538 - val_loss: 15.8922\n",
      "Epoch 93/200\n",
      "12/12 [==============================] - 0s 4ms/step - loss: 5.1828 - val_loss: 15.1467\n",
      "Epoch 94/200\n",
      "12/12 [==============================] - 0s 3ms/step - loss: 5.2523 - val_loss: 15.3149\n",
      "Epoch 95/200\n",
      "12/12 [==============================] - 0s 3ms/step - loss: 5.0685 - val_loss: 15.7729\n",
      "Epoch 96/200\n",
      "12/12 [==============================] - 0s 4ms/step - loss: 4.8380 - val_loss: 14.5465\n",
      "Epoch 97/200\n",
      "12/12 [==============================] - 0s 3ms/step - loss: 4.7384 - val_loss: 14.8734\n",
      "Epoch 98/200\n",
      "12/12 [==============================] - 0s 3ms/step - loss: 4.7565 - val_loss: 14.8625\n",
      "Epoch 99/200\n",
      "12/12 [==============================] - 0s 3ms/step - loss: 4.3228 - val_loss: 14.2582\n",
      "Epoch 100/200\n",
      "12/12 [==============================] - 0s 4ms/step - loss: 4.6194 - val_loss: 14.3341\n",
      "Epoch 101/200\n",
      "12/12 [==============================] - 0s 3ms/step - loss: 4.9243 - val_loss: 15.3225\n",
      "Epoch 102/200\n",
      "12/12 [==============================] - 0s 3ms/step - loss: 4.8270 - val_loss: 14.0216\n",
      "Epoch 103/200\n",
      "12/12 [==============================] - 0s 3ms/step - loss: 4.9758 - val_loss: 15.6359\n",
      "Epoch 104/200\n",
      "12/12 [==============================] - 0s 3ms/step - loss: 4.5106 - val_loss: 13.2930\n",
      "Epoch 105/200\n",
      "12/12 [==============================] - 0s 4ms/step - loss: 4.3620 - val_loss: 13.4843\n",
      "Epoch 106/200\n",
      "12/12 [==============================] - 0s 3ms/step - loss: 4.6529 - val_loss: 14.0775\n",
      "Epoch 107/200\n",
      "12/12 [==============================] - 0s 3ms/step - loss: 4.5507 - val_loss: 13.7464\n",
      "Epoch 108/200\n",
      "12/12 [==============================] - 0s 3ms/step - loss: 4.3610 - val_loss: 14.1804\n",
      "Epoch 109/200\n",
      "12/12 [==============================] - 0s 3ms/step - loss: 4.4339 - val_loss: 13.4164\n",
      "Epoch 110/200\n",
      "12/12 [==============================] - 0s 3ms/step - loss: 4.1638 - val_loss: 13.3186\n",
      "Epoch 111/200\n",
      "12/12 [==============================] - 0s 4ms/step - loss: 4.4083 - val_loss: 13.4087\n",
      "Epoch 112/200\n",
      "12/12 [==============================] - 0s 4ms/step - loss: 4.4613 - val_loss: 13.1705\n",
      "Epoch 113/200\n",
      "12/12 [==============================] - 0s 3ms/step - loss: 3.8302 - val_loss: 13.2226\n",
      "Epoch 114/200\n",
      "12/12 [==============================] - 0s 3ms/step - loss: 4.1566 - val_loss: 14.4270\n",
      "Epoch 115/200\n",
      "12/12 [==============================] - 0s 3ms/step - loss: 4.4251 - val_loss: 13.4151\n",
      "Epoch 116/200\n",
      "12/12 [==============================] - 0s 3ms/step - loss: 4.1265 - val_loss: 12.4010\n",
      "Epoch 117/200\n",
      "12/12 [==============================] - 0s 3ms/step - loss: 3.8834 - val_loss: 12.7066\n",
      "Epoch 118/200\n",
      "12/12 [==============================] - 0s 3ms/step - loss: 3.7976 - val_loss: 12.9281\n",
      "Epoch 119/200\n",
      "12/12 [==============================] - 0s 3ms/step - loss: 3.8535 - val_loss: 12.7145\n",
      "Epoch 120/200\n",
      "12/12 [==============================] - 0s 4ms/step - loss: 3.8856 - val_loss: 12.4662\n",
      "Epoch 121/200\n",
      "12/12 [==============================] - 0s 3ms/step - loss: 4.0857 - val_loss: 13.2780\n",
      "Epoch 122/200\n",
      "12/12 [==============================] - 0s 3ms/step - loss: 3.8744 - val_loss: 12.9110\n",
      "Epoch 123/200\n",
      "12/12 [==============================] - 0s 3ms/step - loss: 3.7724 - val_loss: 13.1063\n",
      "Epoch 124/200\n",
      "12/12 [==============================] - 0s 3ms/step - loss: 3.9123 - val_loss: 14.9900\n",
      "Epoch 125/200\n",
      "12/12 [==============================] - 0s 4ms/step - loss: 3.7408 - val_loss: 11.8977\n",
      "Epoch 126/200\n",
      "12/12 [==============================] - 0s 3ms/step - loss: 3.6027 - val_loss: 12.4228\n",
      "Epoch 127/200\n",
      "12/12 [==============================] - 0s 4ms/step - loss: 3.6755 - val_loss: 12.7613\n",
      "Epoch 128/200\n",
      "12/12 [==============================] - 0s 3ms/step - loss: 3.4449 - val_loss: 12.5674\n",
      "Epoch 129/200\n",
      "12/12 [==============================] - 0s 3ms/step - loss: 3.4062 - val_loss: 12.1129\n",
      "Epoch 130/200\n",
      "12/12 [==============================] - 0s 4ms/step - loss: 3.6049 - val_loss: 13.0157\n",
      "Epoch 131/200\n",
      "12/12 [==============================] - 0s 3ms/step - loss: 3.5394 - val_loss: 12.2438\n",
      "Epoch 132/200\n",
      "12/12 [==============================] - 0s 3ms/step - loss: 3.0785 - val_loss: 12.4005\n",
      "Epoch 133/200\n",
      "12/12 [==============================] - 0s 3ms/step - loss: 3.4584 - val_loss: 12.6277\n",
      "Epoch 134/200\n",
      "12/12 [==============================] - 0s 3ms/step - loss: 3.2378 - val_loss: 11.7453\n",
      "Epoch 135/200\n",
      "12/12 [==============================] - 0s 4ms/step - loss: 3.1053 - val_loss: 12.0472\n",
      "Epoch 136/200\n",
      "12/12 [==============================] - 0s 4ms/step - loss: 3.5963 - val_loss: 12.6504\n",
      "Epoch 137/200\n",
      "12/12 [==============================] - 0s 3ms/step - loss: 3.4171 - val_loss: 11.9971\n",
      "Epoch 138/200\n",
      "12/12 [==============================] - 0s 3ms/step - loss: 3.0683 - val_loss: 13.3297\n",
      "Epoch 139/200\n",
      "12/12 [==============================] - 0s 3ms/step - loss: 3.3898 - val_loss: 13.4476\n",
      "Epoch 140/200\n",
      "12/12 [==============================] - 0s 3ms/step - loss: 3.2876 - val_loss: 11.5105\n",
      "Epoch 141/200\n",
      "12/12 [==============================] - 0s 3ms/step - loss: 3.1185 - val_loss: 11.6755\n",
      "Epoch 142/200\n",
      "12/12 [==============================] - 0s 4ms/step - loss: 3.1185 - val_loss: 12.0972\n",
      "Epoch 143/200\n",
      "12/12 [==============================] - 0s 3ms/step - loss: 3.1624 - val_loss: 12.1180\n",
      "Epoch 144/200\n",
      "12/12 [==============================] - 0s 3ms/step - loss: 2.9182 - val_loss: 12.2920\n",
      "Epoch 145/200\n",
      "12/12 [==============================] - 0s 3ms/step - loss: 3.1490 - val_loss: 11.6395\n",
      "Epoch 146/200\n",
      "12/12 [==============================] - 0s 3ms/step - loss: 2.9817 - val_loss: 12.6458\n",
      "Epoch 147/200\n",
      "12/12 [==============================] - 0s 3ms/step - loss: 3.1136 - val_loss: 11.8113\n",
      "Epoch 148/200\n",
      "12/12 [==============================] - 0s 3ms/step - loss: 3.0899 - val_loss: 11.8204\n",
      "Epoch 149/200\n",
      "12/12 [==============================] - 0s 3ms/step - loss: 2.9780 - val_loss: 12.3378\n",
      "Epoch 150/200\n",
      "12/12 [==============================] - 0s 3ms/step - loss: 2.8777 - val_loss: 12.1200\n",
      "Epoch 151/200\n",
      "12/12 [==============================] - 0s 3ms/step - loss: 2.8494 - val_loss: 12.0335\n",
      "Epoch 152/200\n",
      "12/12 [==============================] - 0s 3ms/step - loss: 2.7806 - val_loss: 12.0257\n",
      "Epoch 153/200\n",
      "12/12 [==============================] - 0s 3ms/step - loss: 2.7813 - val_loss: 11.5261\n",
      "Epoch 154/200\n",
      "12/12 [==============================] - 0s 3ms/step - loss: 2.7573 - val_loss: 12.4850\n",
      "Epoch 155/200\n",
      "12/12 [==============================] - 0s 4ms/step - loss: 2.5907 - val_loss: 12.3366\n",
      "Epoch 156/200\n",
      "12/12 [==============================] - 0s 3ms/step - loss: 2.7491 - val_loss: 12.3706\n",
      "Epoch 157/200\n",
      "12/12 [==============================] - 0s 3ms/step - loss: 2.7528 - val_loss: 12.6637\n",
      "Epoch 158/200\n",
      "12/12 [==============================] - 0s 3ms/step - loss: 2.8739 - val_loss: 12.2254\n",
      "Epoch 159/200\n",
      "12/12 [==============================] - 0s 3ms/step - loss: 2.7736 - val_loss: 12.4331\n",
      "Epoch 160/200\n",
      "12/12 [==============================] - 0s 3ms/step - loss: 2.8635 - val_loss: 11.8995\n",
      "Epoch 161/200\n",
      "12/12 [==============================] - 0s 4ms/step - loss: 2.8201 - val_loss: 12.8389\n",
      "Epoch 162/200\n",
      "12/12 [==============================] - 0s 3ms/step - loss: 2.8731 - val_loss: 12.5945\n",
      "Epoch 163/200\n",
      "12/12 [==============================] - 0s 3ms/step - loss: 2.8057 - val_loss: 12.1417\n",
      "Epoch 164/200\n",
      "12/12 [==============================] - 0s 3ms/step - loss: 2.6492 - val_loss: 11.5091\n",
      "Epoch 165/200\n",
      "12/12 [==============================] - 0s 4ms/step - loss: 2.5471 - val_loss: 11.3897\n",
      "Epoch 166/200\n",
      "12/12 [==============================] - 0s 3ms/step - loss: 2.6217 - val_loss: 11.5276\n",
      "Epoch 167/200\n",
      "12/12 [==============================] - 0s 4ms/step - loss: 2.5043 - val_loss: 11.8840\n",
      "Epoch 168/200\n",
      "12/12 [==============================] - 0s 3ms/step - loss: 2.4025 - val_loss: 11.9138\n",
      "Epoch 169/200\n",
      "12/12 [==============================] - 0s 4ms/step - loss: 2.4154 - val_loss: 12.1715\n",
      "Epoch 170/200\n",
      "12/12 [==============================] - 0s 4ms/step - loss: 2.4671 - val_loss: 11.6977\n",
      "Epoch 171/200\n",
      "12/12 [==============================] - 0s 4ms/step - loss: 2.3765 - val_loss: 11.8036\n",
      "Epoch 172/200\n",
      "12/12 [==============================] - 0s 3ms/step - loss: 2.4288 - val_loss: 11.4958\n",
      "Epoch 173/200\n",
      "12/12 [==============================] - 0s 3ms/step - loss: 2.4954 - val_loss: 12.1692\n",
      "Epoch 174/200\n",
      "12/12 [==============================] - 0s 3ms/step - loss: 2.5255 - val_loss: 12.2582\n",
      "Epoch 175/200\n",
      "12/12 [==============================] - 0s 3ms/step - loss: 2.4218 - val_loss: 12.0297\n",
      "Epoch 176/200\n",
      "12/12 [==============================] - 0s 3ms/step - loss: 2.3702 - val_loss: 11.8152\n",
      "Epoch 177/200\n",
      "12/12 [==============================] - 0s 3ms/step - loss: 2.2375 - val_loss: 11.9621\n",
      "Epoch 178/200\n",
      "12/12 [==============================] - 0s 3ms/step - loss: 2.2208 - val_loss: 13.0040\n",
      "Epoch 179/200\n",
      "12/12 [==============================] - 0s 4ms/step - loss: 2.3566 - val_loss: 11.8283\n",
      "Epoch 180/200\n",
      "12/12 [==============================] - 0s 4ms/step - loss: 2.3036 - val_loss: 11.8154\n",
      "Epoch 181/200\n",
      "12/12 [==============================] - 0s 3ms/step - loss: 2.2925 - val_loss: 12.2329\n",
      "Epoch 182/200\n",
      "12/12 [==============================] - 0s 3ms/step - loss: 2.0957 - val_loss: 12.9764\n",
      "Epoch 183/200\n",
      "12/12 [==============================] - 0s 3ms/step - loss: 2.4330 - val_loss: 12.1392\n",
      "Epoch 184/200\n",
      "12/12 [==============================] - 0s 4ms/step - loss: 2.4711 - val_loss: 12.5582\n",
      "Epoch 185/200\n",
      "12/12 [==============================] - 0s 3ms/step - loss: 2.4940 - val_loss: 12.7575\n",
      "Epoch 186/200\n",
      "12/12 [==============================] - 0s 3ms/step - loss: 2.1938 - val_loss: 12.4085\n",
      "Epoch 187/200\n",
      "12/12 [==============================] - 0s 3ms/step - loss: 2.0342 - val_loss: 11.9691\n",
      "Epoch 188/200\n",
      "12/12 [==============================] - 0s 3ms/step - loss: 2.2324 - val_loss: 11.6060\n",
      "Epoch 189/200\n",
      "12/12 [==============================] - 0s 4ms/step - loss: 2.1246 - val_loss: 12.1124\n",
      "Epoch 190/200\n",
      "12/12 [==============================] - 0s 4ms/step - loss: 2.0272 - val_loss: 12.2273\n",
      "Epoch 191/200\n",
      "12/12 [==============================] - 0s 3ms/step - loss: 2.0008 - val_loss: 12.0211\n",
      "Epoch 192/200\n",
      "12/12 [==============================] - 0s 3ms/step - loss: 1.9418 - val_loss: 12.0358\n",
      "Epoch 193/200\n",
      "12/12 [==============================] - 0s 3ms/step - loss: 2.0632 - val_loss: 12.4754\n",
      "Epoch 194/200\n",
      "12/12 [==============================] - 0s 3ms/step - loss: 2.2269 - val_loss: 13.2717\n",
      "Epoch 195/200\n",
      "12/12 [==============================] - 0s 4ms/step - loss: 2.0860 - val_loss: 12.6416\n",
      "Epoch 196/200\n",
      "12/12 [==============================] - 0s 3ms/step - loss: 1.8101 - val_loss: 12.7129\n",
      "Epoch 197/200\n",
      "12/12 [==============================] - 0s 4ms/step - loss: 2.0206 - val_loss: 12.1454\n",
      "Epoch 198/200\n",
      "12/12 [==============================] - 0s 4ms/step - loss: 1.8789 - val_loss: 12.1433\n",
      "Epoch 199/200\n",
      "12/12 [==============================] - 0s 3ms/step - loss: 1.7814 - val_loss: 12.8168\n",
      "Epoch 200/200\n",
      "12/12 [==============================] - 0s 4ms/step - loss: 1.9661 - val_loss: 12.6955\n"
     ]
    }
   ],
   "source": [
    "# tf.data.Dataset으로 train 데이터 주입시 validation_split 사용할 수 없음 (비율로 나누기)\n",
    "# 검증 데이터셋도 Dataset으로 만든 뒤 validataion_data 매개변수에 전달\n",
    "# 결과는 과적합 (loss, val_loss 차이로 확인) : data양이 작기 때문에\n",
    "hist = model.fit(train_dataset,\n",
    "                 epochs=N_EPOCHS,\n",
    "                 validation_data=test_dataset)"
   ]
  },
  {
   "cell_type": "markdown",
   "metadata": {
    "id": "fX0WrzgzdQBr"
   },
   "source": [
    "##### 결과 시각화"
   ]
  },
  {
   "cell_type": "code",
   "execution_count": 46,
   "metadata": {
    "ExecuteTime": {
     "end_time": "2021-11-03T00:26:20.841629Z",
     "start_time": "2021-11-03T00:26:20.515761Z"
    },
    "id": "keinbqRWdQBr"
   },
   "outputs": [],
   "source": [
    "import matplotlib.pyplot as plt"
   ]
  },
  {
   "cell_type": "code",
   "execution_count": 47,
   "metadata": {
    "ExecuteTime": {
     "end_time": "2021-11-03T00:26:23.852973Z",
     "start_time": "2021-11-03T00:26:23.696962Z"
    },
    "colab": {
     "base_uri": "https://localhost:8080/",
     "height": 388
    },
    "id": "BiqCUR5FdQBs",
    "outputId": "923a9630-da64-49e6-8bf5-cfb2cab74be3"
   },
   "outputs": [
    {
     "data": {
      "image/png": "[encoded data removed]",
      "text/plain": [
       "<Figure size 576x432 with 1 Axes>"
      ]
     },
     "metadata": {
      "needs_background": "light"
     },
     "output_type": "display_data"
    }
   ],
   "source": [
    "plt.figure(figsize=(8,6))\n",
    "plt.plot(range(1,N_EPOCHS+1), hist.history['loss'], label='Train Loss')\n",
    "plt.plot(range(1,N_EPOCHS+1), hist.history['val_loss'], label='Validation Loss')\n",
    "plt.xlabel(\"Epochs\")\n",
    "plt.ylabel('Loss')\n",
    "plt.legend()\n",
    "plt.show()"
   ]
  },
  {
   "cell_type": "code",
   "execution_count": 48,
   "metadata": {
    "ExecuteTime": {
     "end_time": "2021-11-03T00:26:26.920761Z",
     "start_time": "2021-11-03T00:26:26.792037Z"
    },
    "colab": {
     "base_uri": "https://localhost:8080/",
     "height": 392
    },
    "id": "Ka6EiaqIdQBs",
    "outputId": "b1886d70-a74c-4d3d-bc42-6b51ef4d1711"
   },
   "outputs": [
    {
     "data": {
      "image/png": "[encoded data removed]",
      "text/plain": [
       "<Figure size 576x432 with 1 Axes>"
      ]
     },
     "metadata": {
      "needs_background": "light"
     },
     "output_type": "display_data"
    }
   ],
   "source": [
    "plt.figure(figsize=(8,6))\n",
    "plt.plot(range(1,N_EPOCHS+1), hist.history['loss'], label='Train Loss')\n",
    "plt.plot(range(1,N_EPOCHS+1), hist.history['val_loss'], label='Validation Loss')\n",
    "plt.xlabel(\"Epochs\")\n",
    "plt.ylabel('Loss')\n",
    "\n",
    "plt.ylim(0,50)\n",
    "\n",
    "plt.legend()\n",
    "plt.show()"
   ]
  },
  {
   "cell_type": "markdown",
   "metadata": {
    "id": "9g28kYa-dQBt"
   },
   "source": [
    "##### 최종 테스트"
   ]
  },
  {
   "cell_type": "code",
   "execution_count": 49,
   "metadata": {
    "ExecuteTime": {
     "end_time": "2021-11-03T00:26:48.210620Z",
     "start_time": "2021-11-03T00:26:48.162252Z"
    },
    "colab": {
     "base_uri": "https://localhost:8080/"
    },
    "id": "EoVZ7LlydQBt",
    "outputId": "eab0e940-e46c-4438-e9c5-773911c1de13"
   },
   "outputs": [
    {
     "name": "stdout",
     "output_type": "stream",
     "text": [
      "4/4 [==============================] - 0s 3ms/step - loss: 12.6955\n",
      "12.695542335510254\n"
     ]
    }
   ],
   "source": [
    "loss = model.evaluate(test_dataset)\n",
    "print(loss)"
   ]
  },
  {
   "cell_type": "markdown",
   "metadata": {
    "id": "z4SbzZ99dQBt"
   },
   "source": [
    "##### 모델 네트워크 저장"
   ]
  },
  {
   "cell_type": "code",
   "execution_count": 50,
   "metadata": {
    "ExecuteTime": {
     "end_time": "2021-11-03T00:27:08.142867Z",
     "start_time": "2021-11-03T00:27:07.489865Z"
    },
    "colab": {
     "base_uri": "https://localhost:8080/"
    },
    "id": "NlrR3Pg0dQBu",
    "outputId": "c78d7228-d58a-4173-a8fb-d121329c405c"
   },
   "outputs": [
    {
     "name": "stdout",
     "output_type": "stream",
     "text": [
      "INFO:tensorflow:Assets written to: models/boston_hosing_model/assets\n"
     ]
    }
   ],
   "source": [
    "model.save('models/boston_hosing_model')"
   ]
  },
  {
   "cell_type": "markdown",
   "metadata": {
    "id": "fB5qiNQNdQBu"
   },
   "source": [
    "##### 새로운 데이터 추론"
   ]
  },
  {
   "cell_type": "code",
   "execution_count": 51,
   "metadata": {
    "ExecuteTime": {
     "end_time": "2021-11-03T00:28:25.092114Z",
     "start_time": "2021-11-03T00:28:24.972757Z"
    },
    "id": "HI8M1A5WdQBu"
   },
   "outputs": [],
   "source": [
    "new_data = X_test[:5]\n",
    "pred = model.predict(new_data)"
   ]
  },
  {
   "cell_type": "code",
   "execution_count": 52,
   "metadata": {
    "ExecuteTime": {
     "end_time": "2021-11-03T00:28:26.346282Z",
     "start_time": "2021-11-03T00:28:26.339282Z"
    },
    "colab": {
     "base_uri": "https://localhost:8080/"
    },
    "id": "bGGw9BsndQBu",
    "outputId": "deb89c6a-9ae2-4e3c-e6b0-76b8577ccec8"
   },
   "outputs": [
    {
     "data": {
      "text/plain": [
       "array([[ 8.415545],\n",
       "       [18.235497],\n",
       "       [20.624174],\n",
       "       [31.990938],\n",
       "       [24.556444]], dtype=float32)"
      ]
     },
     "execution_count": 52,
     "metadata": {},
     "output_type": "execute_result"
    }
   ],
   "source": [
    "pred"
   ]
  },
  {
   "cell_type": "code",
   "execution_count": 53,
   "metadata": {
    "ExecuteTime": {
     "end_time": "2021-11-03T00:28:28.308367Z",
     "start_time": "2021-11-03T00:28:28.297334Z"
    },
    "colab": {
     "base_uri": "https://localhost:8080/"
    },
    "id": "f_5RC1iddQBu",
    "outputId": "76ddc15e-005b-4fec-e7e9-59c29ab87597"
   },
   "outputs": [
    {
     "data": {
      "text/plain": [
       "array([ 7.2, 18.8, 19. , 27. , 22.2])"
      ]
     },
     "execution_count": 53,
     "metadata": {},
     "output_type": "execute_result"
    }
   ],
   "source": [
    "test_y[:5]"
   ]
  },
  {
   "cell_type": "markdown",
   "metadata": {
    "id": "1rqB69ApdQBv"
   },
   "source": [
    "# 분류 (Classification)\n",
    "\n",
    "## Fashion MNIST Dataset - 다중분류(Multi-Class Classification) 문제"
   ]
  },
  {
   "cell_type": "markdown",
   "metadata": {
    "id": "zwn4xBJadQBv"
   },
   "source": [
    "10개의 범주(category)와 70,000개의 흑백 이미지로 구성된 [패션 MNIST](https://github.com/zalandoresearch/fashion-mnist) 데이터셋. \n",
    "이미지는 해상도(28x28 픽셀)가 낮고 다음처럼 개별 의류 품목을 나타낸다:\n",
    "\n",
    "<table>\n",
    "  <tr><td>\n",
    "    <img src=\"https://tensorflow.org/images/fashion-mnist-sprite.png\"\n",
    "         alt=\"Fashion MNIST sprite\"  width=\"600\">\n",
    "  </td></tr>\n",
    "  <tr><td align=\"center\">\n",
    "    <b>그림</b> <a href=\"https://github.com/zalandoresearch/fashion-mnist\">패션-MNIST 샘플</a> (Zalando, MIT License).<br/>&nbsp;\n",
    "  </td></tr>\n",
    "</table>"
   ]
  },
  {
   "cell_type": "markdown",
   "metadata": {
    "id": "PU9m4av_dQBv"
   },
   "source": [
    "이미지는 28x28 크기이며 Gray scale이다. *레이블*(label)은 0에서 9까지의 정수 배열이다. 아래 표는 이미지에 있는 의류의 **클래스**(class)들이다.\n",
    "\n",
    "<table>\n",
    "  <tr>\n",
    "    <th>레이블</th>\n",
    "    <th>클래스</th>\n",
    "  </tr>\n",
    "  <tr>\n",
    "    <td>0</td>\n",
    "    <td>T-shirt/top</td>\n",
    "  </tr>\n",
    "  <tr>\n",
    "    <td>1</td>\n",
    "    <td>Trousers</td>\n",
    "  </tr>\n",
    "    <tr>\n",
    "    <td>2</td>\n",
    "    <td>Pullover</td>\n",
    "  </tr>\n",
    "    <tr>\n",
    "    <td>3</td>\n",
    "    <td>Dress</td>\n",
    "  </tr>\n",
    "    <tr>\n",
    "    <td>4</td>\n",
    "    <td>Coat</td>\n",
    "  </tr>\n",
    "    <tr>\n",
    "    <td>5</td>\n",
    "    <td>Sandal</td>\n",
    "  </tr>\n",
    "    <tr>\n",
    "    <td>6</td>\n",
    "    <td>Shirt</td>\n",
    "  </tr>\n",
    "    <tr>\n",
    "    <td>7</td>\n",
    "    <td>Sneaker</td>\n",
    "  </tr>\n",
    "    <tr>\n",
    "    <td>8</td>\n",
    "    <td>Bag</td>\n",
    "  </tr>\n",
    "    <tr>\n",
    "    <td>9</td>\n",
    "    <td>Ankle boot</td>\n",
    "  </tr>\n",
    "</table>\n",
    "\n",
    "각 이미지는 하나의 레이블에 매핑되어 있다. 데이터셋에 클래스 이름이 들어있지 않기 때문에 나중에 이미지를 출력할 때 사용하기 위해 별도의 변수를 만들어 저장한다."
   ]
  },
  {
   "cell_type": "code",
   "execution_count": 54,
   "metadata": {
    "ExecuteTime": {
     "end_time": "2021-11-03T00:47:06.072078Z",
     "start_time": "2021-11-03T00:47:06.056411Z"
    },
    "id": "bnlQwTM1dQBv"
   },
   "outputs": [],
   "source": [
    "import numpy as np\n",
    "import tensorflow as tf\n",
    "from tensorflow import keras\n",
    "from tensorflow.keras import layers\n",
    "import matplotlib.pyplot as plt\n",
    "\n",
    "np.random.seed(0)\n",
    "tf.random.set_seed(0)"
   ]
  },
  {
   "cell_type": "code",
   "execution_count": 55,
   "metadata": {
    "ExecuteTime": {
     "end_time": "2021-11-03T00:47:08.417890Z",
     "start_time": "2021-11-03T00:47:08.409857Z"
    },
    "id": "-fdUkjw-dQBw"
   },
   "outputs": [],
   "source": [
    "class_names = ['T-shirt/top', 'Trousers', 'Pullover', 'Dress', 'Coat', 'Sandal', 'Shirt', 'Sneaker', 'Bag', 'Ankle boot']"
   ]
  },
  {
   "cell_type": "markdown",
   "metadata": {
    "id": "oz2uukNxdQBw"
   },
   "source": [
    "##### Data 로딩"
   ]
  },
  {
   "cell_type": "code",
   "execution_count": 56,
   "metadata": {
    "ExecuteTime": {
     "end_time": "2021-11-03T00:47:16.054009Z",
     "start_time": "2021-11-03T00:47:15.714441Z"
    },
    "colab": {
     "base_uri": "https://localhost:8080/"
    },
    "id": "JOqEZlVvdQBw",
    "outputId": "1a22b60a-9b41-4b35-e729-ecb79ffd8abf"
   },
   "outputs": [
    {
     "name": "stdout",
     "output_type": "stream",
     "text": [
      "Downloading data from https://storage.googleapis.com/tensorflow/tf-keras-datasets/train-labels-idx1-ubyte.gz\n",
      "32768/29515 [=================================] - 0s 0us/step\n",
      "40960/29515 [=========================================] - 0s 0us/step\n",
      "Downloading data from https://storage.googleapis.com/tensorflow/tf-keras-datasets/train-images-idx3-ubyte.gz\n",
      "26427392/26421880 [==============================] - 0s 0us/step\n",
      "26435584/26421880 [==============================] - 0s 0us/step\n",
      "Downloading data from https://storage.googleapis.com/tensorflow/tf-keras-datasets/t10k-labels-idx1-ubyte.gz\n",
      "16384/5148 [===============================================================================================] - 0s 0us/step\n",
      "Downloading data from https://storage.googleapis.com/tensorflow/tf-keras-datasets/t10k-images-idx3-ubyte.gz\n",
      "4423680/4422102 [==============================] - 0s 0us/step\n",
      "4431872/4422102 [==============================] - 0s 0us/step\n"
     ]
    }
   ],
   "source": [
    "(train_image, train_label), (test_image, test_label) = keras.datasets.fashion_mnist.load_data()"
   ]
  },
  {
   "cell_type": "code",
   "execution_count": 57,
   "metadata": {
    "colab": {
     "base_uri": "https://localhost:8080/"
    },
    "id": "SwjIDnZUnDP7",
    "outputId": "7a97d7eb-fca0-4574-9d09-d3d88682d2b4"
   },
   "outputs": [
    {
     "data": {
      "text/plain": [
       "((60000, 28, 28), (10000, 28, 28))"
      ]
     },
     "execution_count": 57,
     "metadata": {},
     "output_type": "execute_result"
    }
   ],
   "source": [
    "train_image.shape, test_image.shape"
   ]
  },
  {
   "cell_type": "markdown",
   "metadata": {
    "id": "OP84fmN0dQBw"
   },
   "source": [
    "##### validata set  생성"
   ]
  },
  {
   "cell_type": "code",
   "execution_count": 58,
   "metadata": {
    "ExecuteTime": {
     "end_time": "2021-11-03T00:47:26.450100Z",
     "start_time": "2021-11-03T00:47:26.393999Z"
    },
    "id": "PHWae51WdQBw"
   },
   "outputs": [],
   "source": [
    "from sklearn.model_selection import train_test_split\n",
    "train_image, val_image, train_label, val_label = train_test_split(train_image, train_label, test_size=0.2, stratify=train_label, random_state=0)"
   ]
  },
  {
   "cell_type": "code",
   "execution_count": 59,
   "metadata": {
    "colab": {
     "base_uri": "https://localhost:8080/"
    },
    "id": "i_ThYmV_njCc",
    "outputId": "36110a7e-c0f9-44d5-82af-d0d756220b9c"
   },
   "outputs": [
    {
     "data": {
      "text/plain": [
       "((48000, 28, 28), (12000, 28, 28), (10000, 28, 28))"
      ]
     },
     "execution_count": 59,
     "metadata": {},
     "output_type": "execute_result"
    }
   ],
   "source": [
    "train_image.shape, val_image.shape, test_image.shape"
   ]
  },
  {
   "cell_type": "markdown",
   "metadata": {
    "id": "jIczfG5WdQBx"
   },
   "source": [
    "##### 이미지 확인"
   ]
  },
  {
   "cell_type": "code",
   "execution_count": 63,
   "metadata": {
    "ExecuteTime": {
     "end_time": "2021-11-03T00:49:25.876438Z",
     "start_time": "2021-11-03T00:49:25.130004Z"
    },
    "colab": {
     "base_uri": "https://localhost:8080/",
     "height": 585
    },
    "id": "1sTrRpcAdQBx",
    "outputId": "b1c363b0-5bcf-4614-cf8c-d99d0c13b9df",
    "scrolled": false
   },
   "outputs": [
    {
     "data": {
      "image/png": "[encoded data removed]",
      "text/plain": [
       "<Figure size 576x576 with 25 Axes>"
      ]
     },
     "metadata": {},
     "output_type": "display_data"
    }
   ],
   "source": [
    "plt.figure(figsize=(8, 8))\n",
    "for i in range(25):\n",
    "    plt.subplot(5, 5, i+1)\n",
    "    plt.xticks([])\n",
    "    plt.yticks([])\n",
    "    plt.imshow(train_image[i], cmap='gray')#\"Greys\")\n",
    "    plt.xlabel(class_names[train_label[i]])\n",
    "\n",
    "plt.tight_layout()\n",
    "plt.show()"
   ]
  },
  {
   "cell_type": "markdown",
   "metadata": {
    "id": "-KGJMAF-dQBx"
   },
   "source": [
    "#### 하이퍼파라미터, 변수 설정"
   ]
  },
  {
   "cell_type": "code",
   "execution_count": 64,
   "metadata": {
    "ExecuteTime": {
     "end_time": "2021-11-03T00:50:08.423973Z",
     "start_time": "2021-11-03T00:50:08.412998Z"
    },
    "id": "ksHkWAgsdQBx"
   },
   "outputs": [],
   "source": [
    "LEARNING_RATE = 0.001\n",
    "N_EPOCHS = 100\n",
    "N_BATCHS = 100\n",
    "\n",
    "# train / validation / test set의 데이터 개수\n",
    "N_TRAIN = train_image.shape[0]\n",
    "N_VAL = val_image.shape[0]\n",
    "N_TEST = test_image.shape[0]"
   ]
  },
  {
   "cell_type": "markdown",
   "metadata": {
    "id": "-hJ-7j_6dQBx"
   },
   "source": [
    "#### X, y  전처리\n",
    "- y값 처리\n",
    "    - 다중 분류에서 label encoding 형식의 label을 one hot encoding 처리"
   ]
  },
  {
   "cell_type": "code",
   "execution_count": 67,
   "metadata": {
    "colab": {
     "base_uri": "https://localhost:8080/"
    },
    "id": "caaAmc8CpFHF",
    "outputId": "9b6432fe-d53d-4436-ed89-510d0f19c434"
   },
   "outputs": [
    {
     "data": {
      "text/plain": [
       "(array([6, 5, 0, ..., 7, 4, 9], dtype=uint8), (48000,))"
      ]
     },
     "execution_count": 67,
     "metadata": {},
     "output_type": "execute_result"
    }
   ],
   "source": [
    "# label encoding된 형태 (onehot encoding 처리 필요)\n",
    "train_label, train_label.shape"
   ]
  },
  {
   "cell_type": "code",
   "execution_count": 66,
   "metadata": {
    "ExecuteTime": {
     "end_time": "2021-11-03T00:50:14.644235Z",
     "start_time": "2021-11-03T00:50:14.627229Z"
    },
    "colab": {
     "base_uri": "https://localhost:8080/"
    },
    "id": "zVdSIhJFdQBx",
    "outputId": "ffb7ad6a-ce9c-4a61-a96e-a8a23130ffd4"
   },
   "outputs": [
    {
     "name": "stdout",
     "output_type": "stream",
     "text": [
      "(48000, 10) (12000, 10) (10000, 10)\n"
     ]
    }
   ],
   "source": [
    "y_train = keras.utils.to_categorical(train_label)\n",
    "y_val = keras.utils.to_categorical(val_label)\n",
    "y_test = keras.utils.to_categorical(test_label)\n",
    "print(y_train.shape, y_val.shape, y_test.shape)"
   ]
  },
  {
   "cell_type": "code",
   "execution_count": 68,
   "metadata": {
    "colab": {
     "base_uri": "https://localhost:8080/"
    },
    "id": "7VCAQe16pv7A",
    "outputId": "bfc30c11-65da-473e-d49f-6c36e14f276e"
   },
   "outputs": [
    {
     "data": {
      "text/plain": [
       "array([0., 0., 0., 0., 0., 0., 1., 0., 0., 0.], dtype=float32)"
      ]
     },
     "execution_count": 68,
     "metadata": {},
     "output_type": "execute_result"
    }
   ],
   "source": [
    "y_train[0]"
   ]
  },
  {
   "cell_type": "markdown",
   "metadata": {
    "id": "50DHw2pAdQBy"
   },
   "source": [
    "- x값(이미지) 처리\n",
    "    - 이미지데이터 전처리: 0 ~ 1 정규화. X/255.0 => Dataset 생성에서 처리"
   ]
  },
  {
   "cell_type": "code",
   "execution_count": 69,
   "metadata": {
    "ExecuteTime": {
     "end_time": "2021-11-03T00:50:23.474850Z",
     "start_time": "2021-11-03T00:50:23.392977Z"
    },
    "id": "Sbnl1PpxdQBy"
   },
   "outputs": [],
   "source": [
    "# map을 적용해보기 위해 밑에와 같이 구현\n",
    "X_train = train_image.astype(np.float32)#/255.\n",
    "X_val = val_image.astype(np.float32)#/255.\n",
    "X_test = test_image.astype(np.float32)#/255."
   ]
  },
  {
   "cell_type": "markdown",
   "metadata": {
    "id": "nD516cAldQBy"
   },
   "source": [
    "##### Dataset 생성"
   ]
  },
  {
   "cell_type": "code",
   "execution_count": 70,
   "metadata": {
    "ExecuteTime": {
     "end_time": "2021-11-03T00:50:46.169253Z",
     "start_time": "2021-11-03T00:50:45.834414Z"
    },
    "id": "49K3XgIfdQBy"
   },
   "outputs": [],
   "source": [
    "train_dataset = tf.data.Dataset.from_tensor_slices((X_train, y_train))\\\n",
    "                               .map(lambda x, y : (x/255, y))\\\n",
    "                               .shuffle(N_TRAIN)\\\n",
    "                               .batch(N_BATCHS, drop_remainder=True)\n",
    "\n",
    "val_dataset = tf.data.Dataset.from_tensor_slices((X_val, y_val)).map(lambda x, y:(x/255, y)).batch(N_BATCHS)\n",
    "test_dataset = tf.data.Dataset.from_tensor_slices((X_test, y_test)).map(lambda x, y:(x/255, y)).batch(N_BATCHS)"
   ]
  },
  {
   "cell_type": "code",
   "execution_count": 71,
   "metadata": {
    "ExecuteTime": {
     "end_time": "2021-11-03T00:50:47.656028Z",
     "start_time": "2021-11-03T00:50:47.641016Z"
    },
    "colab": {
     "base_uri": "https://localhost:8080/"
    },
    "id": "cPT_TBZXdQBy",
    "outputId": "fd4a7e98-7c8b-4c8f-f125-fa9fcd7f8a2d"
   },
   "outputs": [
    {
     "data": {
      "text/plain": [
       "(48000, 28, 28)"
      ]
     },
     "execution_count": 71,
     "metadata": {},
     "output_type": "execute_result"
    }
   ],
   "source": [
    "X_train.shape"
   ]
  },
  {
   "cell_type": "markdown",
   "metadata": {
    "id": "dLq-OzpKdQBz"
   },
   "source": [
    "##### 모델 생성 및 컴파일"
   ]
  },
  {
   "cell_type": "code",
   "execution_count": 72,
   "metadata": {
    "ExecuteTime": {
     "end_time": "2021-11-03T00:51:29.420936Z",
     "start_time": "2021-11-03T00:51:29.411925Z"
    },
    "id": "qw9BotsCdQBz"
   },
   "outputs": [],
   "source": [
    "def create_fashionmnist_model():\n",
    "    # 모델 생성\n",
    "    model = keras.Sequential()\n",
    "\n",
    "    # hidden layer \n",
    "    # (Dense layer는 input으로 1차원 배열을 받음. 입력 data가 1차원이 아닐 경우, 1차원 변환이 필요)\n",
    "    # Flatten 이용\n",
    "    model.add(layers.Flatten(input_shape=(28,28)))\n",
    "    model.add(layers.Dense(units=256, activation='relu'))\n",
    "    model.add(layers.Dense(units=128, activation='relu'))\n",
    "    model.add(layers.Dense(units=64, activation='relu'))\n",
    "    \n",
    "    # output layer (다중 클래스 분류 : unit 수 = class 수, activation func. = softmax (class별 확률))\n",
    "    model.add(layers.Dense(units=10, activation='softmax'))\n",
    "    \n",
    "    return model"
   ]
  },
  {
   "cell_type": "code",
   "execution_count": 73,
   "metadata": {
    "ExecuteTime": {
     "end_time": "2021-11-03T00:51:36.406169Z",
     "start_time": "2021-11-03T00:51:36.339074Z"
    },
    "id": "pszb9R7IdQBz"
   },
   "outputs": [],
   "source": [
    "model = create_fashionmnist_model()\n",
    "model.compile(optimizer=keras.optimizers.Adam(learning_rate=LEARNING_RATE),\n",
    "              loss='categorical_crossentropy', # 다중분류 loss 함수\n",
    "              metrics=['accuracy'])            # loss 이외의 추가 평가지표 설정"
   ]
  },
  {
   "cell_type": "code",
   "execution_count": 74,
   "metadata": {
    "ExecuteTime": {
     "end_time": "2021-11-03T00:51:38.364828Z",
     "start_time": "2021-11-03T00:51:38.354855Z"
    },
    "colab": {
     "base_uri": "https://localhost:8080/"
    },
    "id": "Z4CeAPzEdQB0",
    "outputId": "7bea32a2-c952-4ef6-dd93-383f4c1d387c"
   },
   "outputs": [
    {
     "name": "stdout",
     "output_type": "stream",
     "text": [
      "Model: \"sequential_1\"\n",
      "_________________________________________________________________\n",
      " Layer (type)                Output Shape              Param #   \n",
      "=================================================================\n",
      " flatten (Flatten)           (None, 784)               0         \n",
      "                                                                 \n",
      " dense_4 (Dense)             (None, 256)               200960    \n",
      "                                                                 \n",
      " dense_5 (Dense)             (None, 128)               32896     \n",
      "                                                                 \n",
      " dense_6 (Dense)             (None, 64)                8256      \n",
      "                                                                 \n",
      " dense_7 (Dense)             (None, 10)                650       \n",
      "                                                                 \n",
      "=================================================================\n",
      "Total params: 242,762\n",
      "Trainable params: 242,762\n",
      "Non-trainable params: 0\n",
      "_________________________________________________________________\n"
     ]
    }
   ],
   "source": [
    "model.summary()"
   ]
  },
  {
   "cell_type": "code",
   "execution_count": 75,
   "metadata": {
    "ExecuteTime": {
     "end_time": "2021-11-03T00:52:05.523556Z",
     "start_time": "2021-11-03T00:52:05.291154Z"
    },
    "colab": {
     "base_uri": "https://localhost:8080/",
     "height": 644
    },
    "id": "_FF6kGJ_dQB0",
    "outputId": "c8ef4a41-8de7-4d2d-cbed-52767bce0cec"
   },
   "outputs": [
    {
     "data": {
      "image/png": "[encoded data removed]",
      "text/plain": [
       "<IPython.core.display.Image object>"
      ]
     },
     "execution_count": 75,
     "metadata": {},
     "output_type": "execute_result"
    }
   ],
   "source": [
    "keras.utils.plot_model(model, show_shapes=True, to_file='fashion_mnist_model.png')"
   ]
  },
  {
   "cell_type": "markdown",
   "metadata": {
    "id": "OyzAjabmdQB0"
   },
   "source": [
    "##### Train(학습)"
   ]
  },
  {
   "cell_type": "code",
   "execution_count": 76,
   "metadata": {
    "ExecuteTime": {
     "end_time": "2021-11-03T00:52:33.784862Z",
     "start_time": "2021-11-03T00:52:17.884056Z"
    },
    "colab": {
     "base_uri": "https://localhost:8080/"
    },
    "id": "ycTZYaHQdQB0",
    "outputId": "0eca1b22-9b43-454b-9f9d-368e58a6b388",
    "scrolled": false
   },
   "outputs": [
    {
     "name": "stdout",
     "output_type": "stream",
     "text": [
      "Epoch 1/100\n",
      "480/480 [==============================] - 3s 4ms/step - loss: 0.5456 - accuracy: 0.8095 - val_loss: 0.4161 - val_accuracy: 0.8495\n",
      "Epoch 2/100\n",
      "480/480 [==============================] - 3s 4ms/step - loss: 0.3814 - accuracy: 0.8627 - val_loss: 0.3877 - val_accuracy: 0.8553\n",
      "Epoch 3/100\n",
      "480/480 [==============================] - 3s 5ms/step - loss: 0.3398 - accuracy: 0.8759 - val_loss: 0.3463 - val_accuracy: 0.8720\n",
      "Epoch 4/100\n",
      "480/480 [==============================] - 3s 5ms/step - loss: 0.3124 - accuracy: 0.8846 - val_loss: 0.3230 - val_accuracy: 0.8827\n",
      "Epoch 5/100\n",
      "480/480 [==============================] - 3s 4ms/step - loss: 0.2942 - accuracy: 0.8907 - val_loss: 0.3156 - val_accuracy: 0.8853\n",
      "Epoch 6/100\n",
      "480/480 [==============================] - 3s 4ms/step - loss: 0.2776 - accuracy: 0.8965 - val_loss: 0.3209 - val_accuracy: 0.8852\n",
      "Epoch 7/100\n",
      "480/480 [==============================] - 3s 4ms/step - loss: 0.2633 - accuracy: 0.9020 - val_loss: 0.3165 - val_accuracy: 0.8823\n",
      "Epoch 8/100\n",
      "480/480 [==============================] - 3s 4ms/step - loss: 0.2557 - accuracy: 0.9045 - val_loss: 0.3156 - val_accuracy: 0.8842\n",
      "Epoch 9/100\n",
      "480/480 [==============================] - 3s 4ms/step - loss: 0.2427 - accuracy: 0.9094 - val_loss: 0.3095 - val_accuracy: 0.8905\n",
      "Epoch 10/100\n",
      "480/480 [==============================] - 3s 4ms/step - loss: 0.2313 - accuracy: 0.9115 - val_loss: 0.3168 - val_accuracy: 0.8871\n",
      "Epoch 11/100\n",
      "480/480 [==============================] - 3s 4ms/step - loss: 0.2256 - accuracy: 0.9148 - val_loss: 0.2959 - val_accuracy: 0.8938\n",
      "Epoch 12/100\n",
      "480/480 [==============================] - 3s 4ms/step - loss: 0.2195 - accuracy: 0.9172 - val_loss: 0.3044 - val_accuracy: 0.8910\n",
      "Epoch 13/100\n",
      "480/480 [==============================] - 3s 4ms/step - loss: 0.2078 - accuracy: 0.9206 - val_loss: 0.3104 - val_accuracy: 0.8913\n",
      "Epoch 14/100\n",
      "480/480 [==============================] - 3s 5ms/step - loss: 0.2048 - accuracy: 0.9230 - val_loss: 0.3049 - val_accuracy: 0.8978\n",
      "Epoch 15/100\n",
      "480/480 [==============================] - 3s 4ms/step - loss: 0.1952 - accuracy: 0.9254 - val_loss: 0.3287 - val_accuracy: 0.8881\n",
      "Epoch 16/100\n",
      "480/480 [==============================] - 3s 4ms/step - loss: 0.1895 - accuracy: 0.9276 - val_loss: 0.3297 - val_accuracy: 0.8899\n",
      "Epoch 17/100\n",
      "480/480 [==============================] - 3s 4ms/step - loss: 0.1834 - accuracy: 0.9298 - val_loss: 0.3506 - val_accuracy: 0.8796\n",
      "Epoch 18/100\n",
      "480/480 [==============================] - 3s 4ms/step - loss: 0.1766 - accuracy: 0.9333 - val_loss: 0.3307 - val_accuracy: 0.8928\n",
      "Epoch 19/100\n",
      "480/480 [==============================] - 3s 4ms/step - loss: 0.1682 - accuracy: 0.9360 - val_loss: 0.3242 - val_accuracy: 0.8972\n",
      "Epoch 20/100\n",
      "480/480 [==============================] - 3s 4ms/step - loss: 0.1631 - accuracy: 0.9380 - val_loss: 0.3292 - val_accuracy: 0.8936\n",
      "Epoch 21/100\n",
      "480/480 [==============================] - 3s 5ms/step - loss: 0.1597 - accuracy: 0.9378 - val_loss: 0.3259 - val_accuracy: 0.8935\n",
      "Epoch 22/100\n",
      "480/480 [==============================] - 3s 4ms/step - loss: 0.1523 - accuracy: 0.9416 - val_loss: 0.3795 - val_accuracy: 0.8898\n",
      "Epoch 23/100\n",
      "480/480 [==============================] - 3s 5ms/step - loss: 0.1544 - accuracy: 0.9413 - val_loss: 0.3705 - val_accuracy: 0.8876\n",
      "Epoch 24/100\n",
      "480/480 [==============================] - 3s 4ms/step - loss: 0.1475 - accuracy: 0.9434 - val_loss: 0.3425 - val_accuracy: 0.8953\n",
      "Epoch 25/100\n",
      "480/480 [==============================] - 3s 4ms/step - loss: 0.1387 - accuracy: 0.9471 - val_loss: 0.3421 - val_accuracy: 0.8951\n",
      "Epoch 26/100\n",
      "480/480 [==============================] - 3s 4ms/step - loss: 0.1366 - accuracy: 0.9477 - val_loss: 0.3572 - val_accuracy: 0.8947\n",
      "Epoch 27/100\n",
      "480/480 [==============================] - 3s 4ms/step - loss: 0.1305 - accuracy: 0.9494 - val_loss: 0.3943 - val_accuracy: 0.8928\n",
      "Epoch 28/100\n",
      "480/480 [==============================] - 3s 4ms/step - loss: 0.1269 - accuracy: 0.9505 - val_loss: 0.3630 - val_accuracy: 0.8980\n",
      "Epoch 29/100\n",
      "480/480 [==============================] - 3s 4ms/step - loss: 0.1236 - accuracy: 0.9529 - val_loss: 0.3751 - val_accuracy: 0.8992\n",
      "Epoch 30/100\n",
      "480/480 [==============================] - 3s 4ms/step - loss: 0.1205 - accuracy: 0.9544 - val_loss: 0.4232 - val_accuracy: 0.8907\n",
      "Epoch 31/100\n",
      "480/480 [==============================] - 3s 4ms/step - loss: 0.1240 - accuracy: 0.9530 - val_loss: 0.4095 - val_accuracy: 0.8988\n",
      "Epoch 32/100\n",
      "480/480 [==============================] - 3s 5ms/step - loss: 0.1144 - accuracy: 0.9563 - val_loss: 0.4079 - val_accuracy: 0.8928\n",
      "Epoch 33/100\n",
      "480/480 [==============================] - 3s 4ms/step - loss: 0.1157 - accuracy: 0.9550 - val_loss: 0.4135 - val_accuracy: 0.8937\n",
      "Epoch 34/100\n",
      "480/480 [==============================] - 3s 4ms/step - loss: 0.1023 - accuracy: 0.9604 - val_loss: 0.4121 - val_accuracy: 0.8946\n",
      "Epoch 35/100\n",
      "480/480 [==============================] - 3s 4ms/step - loss: 0.1075 - accuracy: 0.9591 - val_loss: 0.4270 - val_accuracy: 0.8970\n",
      "Epoch 36/100\n",
      "480/480 [==============================] - 3s 4ms/step - loss: 0.1009 - accuracy: 0.9624 - val_loss: 0.4199 - val_accuracy: 0.8944\n",
      "Epoch 37/100\n",
      "480/480 [==============================] - 3s 5ms/step - loss: 0.0979 - accuracy: 0.9624 - val_loss: 0.4148 - val_accuracy: 0.8943\n",
      "Epoch 38/100\n",
      "480/480 [==============================] - 3s 5ms/step - loss: 0.0999 - accuracy: 0.9616 - val_loss: 0.4399 - val_accuracy: 0.8873\n",
      "Epoch 39/100\n",
      "480/480 [==============================] - 3s 4ms/step - loss: 0.0928 - accuracy: 0.9636 - val_loss: 0.4516 - val_accuracy: 0.8904\n",
      "Epoch 40/100\n",
      "480/480 [==============================] - 3s 4ms/step - loss: 0.0955 - accuracy: 0.9631 - val_loss: 0.4560 - val_accuracy: 0.8899\n",
      "Epoch 41/100\n",
      "480/480 [==============================] - 3s 4ms/step - loss: 0.0934 - accuracy: 0.9638 - val_loss: 0.4614 - val_accuracy: 0.8975\n",
      "Epoch 42/100\n",
      "480/480 [==============================] - 3s 4ms/step - loss: 0.0871 - accuracy: 0.9661 - val_loss: 0.4520 - val_accuracy: 0.8966\n",
      "Epoch 43/100\n",
      "480/480 [==============================] - 3s 4ms/step - loss: 0.0824 - accuracy: 0.9684 - val_loss: 0.4597 - val_accuracy: 0.8962\n",
      "Epoch 44/100\n",
      "480/480 [==============================] - 3s 5ms/step - loss: 0.0843 - accuracy: 0.9669 - val_loss: 0.5102 - val_accuracy: 0.8942\n",
      "Epoch 45/100\n",
      "480/480 [==============================] - 3s 4ms/step - loss: 0.0820 - accuracy: 0.9688 - val_loss: 0.4733 - val_accuracy: 0.8969\n",
      "Epoch 46/100\n",
      "480/480 [==============================] - 3s 4ms/step - loss: 0.0843 - accuracy: 0.9685 - val_loss: 0.4995 - val_accuracy: 0.8983\n",
      "Epoch 47/100\n",
      "480/480 [==============================] - 3s 4ms/step - loss: 0.0790 - accuracy: 0.9701 - val_loss: 0.4787 - val_accuracy: 0.8988\n",
      "Epoch 48/100\n",
      "480/480 [==============================] - 3s 4ms/step - loss: 0.0758 - accuracy: 0.9710 - val_loss: 0.4902 - val_accuracy: 0.8979\n",
      "Epoch 49/100\n",
      "480/480 [==============================] - 3s 4ms/step - loss: 0.0769 - accuracy: 0.9708 - val_loss: 0.5021 - val_accuracy: 0.8961\n",
      "Epoch 50/100\n",
      "480/480 [==============================] - 3s 5ms/step - loss: 0.0753 - accuracy: 0.9718 - val_loss: 0.5059 - val_accuracy: 0.8981\n",
      "Epoch 51/100\n",
      "480/480 [==============================] - 3s 4ms/step - loss: 0.0676 - accuracy: 0.9743 - val_loss: 0.5145 - val_accuracy: 0.8976\n",
      "Epoch 52/100\n",
      "480/480 [==============================] - 3s 4ms/step - loss: 0.0682 - accuracy: 0.9742 - val_loss: 0.5224 - val_accuracy: 0.8953\n",
      "Epoch 53/100\n",
      "480/480 [==============================] - 3s 4ms/step - loss: 0.0747 - accuracy: 0.9717 - val_loss: 0.5241 - val_accuracy: 0.8955\n",
      "Epoch 54/100\n",
      "480/480 [==============================] - 3s 4ms/step - loss: 0.0669 - accuracy: 0.9743 - val_loss: 0.4856 - val_accuracy: 0.8977\n",
      "Epoch 55/100\n",
      "480/480 [==============================] - 3s 4ms/step - loss: 0.0616 - accuracy: 0.9766 - val_loss: 0.5132 - val_accuracy: 0.8955\n",
      "Epoch 56/100\n",
      "480/480 [==============================] - 3s 4ms/step - loss: 0.0657 - accuracy: 0.9753 - val_loss: 0.5556 - val_accuracy: 0.8972\n",
      "Epoch 57/100\n",
      "480/480 [==============================] - 3s 4ms/step - loss: 0.0655 - accuracy: 0.9750 - val_loss: 0.5236 - val_accuracy: 0.8973\n",
      "Epoch 58/100\n",
      "480/480 [==============================] - 3s 5ms/step - loss: 0.0629 - accuracy: 0.9760 - val_loss: 0.5461 - val_accuracy: 0.8985\n",
      "Epoch 59/100\n",
      "480/480 [==============================] - 3s 4ms/step - loss: 0.0676 - accuracy: 0.9746 - val_loss: 0.5240 - val_accuracy: 0.8958\n",
      "Epoch 60/100\n",
      "480/480 [==============================] - 3s 4ms/step - loss: 0.0556 - accuracy: 0.9791 - val_loss: 0.5713 - val_accuracy: 0.8954\n",
      "Epoch 61/100\n",
      "480/480 [==============================] - 3s 4ms/step - loss: 0.0553 - accuracy: 0.9789 - val_loss: 0.5859 - val_accuracy: 0.8957\n",
      "Epoch 62/100\n",
      "480/480 [==============================] - 3s 5ms/step - loss: 0.0599 - accuracy: 0.9775 - val_loss: 0.5858 - val_accuracy: 0.8947\n",
      "Epoch 63/100\n",
      "480/480 [==============================] - 3s 4ms/step - loss: 0.0580 - accuracy: 0.9779 - val_loss: 0.5822 - val_accuracy: 0.8982\n",
      "Epoch 64/100\n",
      "480/480 [==============================] - 3s 5ms/step - loss: 0.0533 - accuracy: 0.9800 - val_loss: 0.5803 - val_accuracy: 0.8951\n",
      "Epoch 65/100\n",
      "480/480 [==============================] - 3s 4ms/step - loss: 0.0567 - accuracy: 0.9787 - val_loss: 0.5901 - val_accuracy: 0.8960\n",
      "Epoch 66/100\n",
      "480/480 [==============================] - 3s 4ms/step - loss: 0.0615 - accuracy: 0.9771 - val_loss: 0.5656 - val_accuracy: 0.8965\n",
      "Epoch 67/100\n",
      "480/480 [==============================] - 3s 4ms/step - loss: 0.0456 - accuracy: 0.9831 - val_loss: 0.6124 - val_accuracy: 0.8949\n",
      "Epoch 68/100\n",
      "480/480 [==============================] - 3s 4ms/step - loss: 0.0537 - accuracy: 0.9796 - val_loss: 0.6619 - val_accuracy: 0.8961\n",
      "Epoch 69/100\n",
      "480/480 [==============================] - 3s 4ms/step - loss: 0.0491 - accuracy: 0.9819 - val_loss: 0.6701 - val_accuracy: 0.8876\n",
      "Epoch 70/100\n",
      "480/480 [==============================] - 3s 4ms/step - loss: 0.0505 - accuracy: 0.9809 - val_loss: 0.6566 - val_accuracy: 0.8934\n",
      "Epoch 71/100\n",
      "480/480 [==============================] - 3s 4ms/step - loss: 0.0458 - accuracy: 0.9824 - val_loss: 0.6091 - val_accuracy: 0.8920\n",
      "Epoch 72/100\n",
      "480/480 [==============================] - 3s 5ms/step - loss: 0.0550 - accuracy: 0.9799 - val_loss: 0.6309 - val_accuracy: 0.8961\n",
      "Epoch 73/100\n",
      "480/480 [==============================] - 3s 4ms/step - loss: 0.0500 - accuracy: 0.9807 - val_loss: 0.6446 - val_accuracy: 0.8990\n",
      "Epoch 74/100\n",
      "480/480 [==============================] - 3s 4ms/step - loss: 0.0432 - accuracy: 0.9832 - val_loss: 0.6396 - val_accuracy: 0.8978\n",
      "Epoch 75/100\n",
      "480/480 [==============================] - 3s 4ms/step - loss: 0.0499 - accuracy: 0.9812 - val_loss: 0.6519 - val_accuracy: 0.8993\n",
      "Epoch 76/100\n",
      "480/480 [==============================] - 3s 4ms/step - loss: 0.0462 - accuracy: 0.9824 - val_loss: 0.7227 - val_accuracy: 0.8909\n",
      "Epoch 77/100\n",
      "480/480 [==============================] - 3s 4ms/step - loss: 0.0488 - accuracy: 0.9817 - val_loss: 0.6398 - val_accuracy: 0.8972\n",
      "Epoch 78/100\n",
      "480/480 [==============================] - 3s 4ms/step - loss: 0.0401 - accuracy: 0.9852 - val_loss: 0.7303 - val_accuracy: 0.8959\n",
      "Epoch 79/100\n",
      "480/480 [==============================] - 3s 4ms/step - loss: 0.0487 - accuracy: 0.9821 - val_loss: 0.6320 - val_accuracy: 0.8976\n",
      "Epoch 80/100\n",
      "480/480 [==============================] - 3s 4ms/step - loss: 0.0425 - accuracy: 0.9845 - val_loss: 0.6899 - val_accuracy: 0.9012\n",
      "Epoch 81/100\n",
      "480/480 [==============================] - 3s 4ms/step - loss: 0.0397 - accuracy: 0.9853 - val_loss: 0.6625 - val_accuracy: 0.8950\n",
      "Epoch 82/100\n",
      "480/480 [==============================] - 3s 4ms/step - loss: 0.0460 - accuracy: 0.9831 - val_loss: 0.7302 - val_accuracy: 0.8926\n",
      "Epoch 83/100\n",
      "480/480 [==============================] - 3s 4ms/step - loss: 0.0427 - accuracy: 0.9841 - val_loss: 0.6889 - val_accuracy: 0.8934\n",
      "Epoch 84/100\n",
      "480/480 [==============================] - 3s 4ms/step - loss: 0.0435 - accuracy: 0.9840 - val_loss: 0.7149 - val_accuracy: 0.8938\n",
      "Epoch 85/100\n",
      "480/480 [==============================] - 3s 4ms/step - loss: 0.0452 - accuracy: 0.9837 - val_loss: 0.6602 - val_accuracy: 0.8909\n",
      "Epoch 86/100\n",
      "480/480 [==============================] - 3s 4ms/step - loss: 0.0392 - accuracy: 0.9854 - val_loss: 0.7152 - val_accuracy: 0.8945\n",
      "Epoch 87/100\n",
      "480/480 [==============================] - 3s 4ms/step - loss: 0.0375 - accuracy: 0.9867 - val_loss: 0.6820 - val_accuracy: 0.8947\n",
      "Epoch 88/100\n",
      "480/480 [==============================] - 3s 4ms/step - loss: 0.0441 - accuracy: 0.9842 - val_loss: 0.7093 - val_accuracy: 0.8958\n",
      "Epoch 89/100\n",
      "480/480 [==============================] - 3s 4ms/step - loss: 0.0375 - accuracy: 0.9860 - val_loss: 0.7489 - val_accuracy: 0.8950\n",
      "Epoch 90/100\n",
      "480/480 [==============================] - 3s 4ms/step - loss: 0.0358 - accuracy: 0.9862 - val_loss: 0.7250 - val_accuracy: 0.8992\n",
      "Epoch 91/100\n",
      "480/480 [==============================] - 3s 4ms/step - loss: 0.0455 - accuracy: 0.9830 - val_loss: 0.7036 - val_accuracy: 0.8955\n",
      "Epoch 92/100\n",
      "480/480 [==============================] - 3s 4ms/step - loss: 0.0377 - accuracy: 0.9858 - val_loss: 0.7221 - val_accuracy: 0.8963\n",
      "Epoch 93/100\n",
      "480/480 [==============================] - 3s 4ms/step - loss: 0.0325 - accuracy: 0.9875 - val_loss: 0.7270 - val_accuracy: 0.8993\n",
      "Epoch 94/100\n",
      "480/480 [==============================] - 3s 4ms/step - loss: 0.0288 - accuracy: 0.9893 - val_loss: 0.7510 - val_accuracy: 0.8949\n",
      "Epoch 95/100\n",
      "480/480 [==============================] - 3s 4ms/step - loss: 0.0475 - accuracy: 0.9828 - val_loss: 0.7732 - val_accuracy: 0.8985\n",
      "Epoch 96/100\n",
      "480/480 [==============================] - 3s 4ms/step - loss: 0.0383 - accuracy: 0.9861 - val_loss: 0.7631 - val_accuracy: 0.8961\n",
      "Epoch 97/100\n",
      "480/480 [==============================] - 3s 4ms/step - loss: 0.0363 - accuracy: 0.9874 - val_loss: 0.7680 - val_accuracy: 0.8969\n",
      "Epoch 98/100\n",
      "480/480 [==============================] - 3s 4ms/step - loss: 0.0263 - accuracy: 0.9904 - val_loss: 0.7521 - val_accuracy: 0.8972\n",
      "Epoch 99/100\n",
      "480/480 [==============================] - 3s 5ms/step - loss: 0.0390 - accuracy: 0.9856 - val_loss: 0.7878 - val_accuracy: 0.8962\n",
      "Epoch 100/100\n",
      "480/480 [==============================] - 3s 4ms/step - loss: 0.0331 - accuracy: 0.9879 - val_loss: 0.7975 - val_accuracy: 0.8943\n"
     ]
    }
   ],
   "source": [
    "hist = model.fit(train_dataset,\n",
    "                 epochs=N_EPOCHS,\n",
    "                 validation_data=val_dataset)"
   ]
  },
  {
   "cell_type": "markdown",
   "metadata": {
    "id": "XyuJziMV2RIx"
   },
   "source": [
    "모델을 재학습 시킬 경우 (가장 성능이 좋았던 epoch수에 맞춰) 모델 생성->컴파일->학습 을 다시 진행해야함. 단순히 학습(fit)만 다시 실행하면 이어서 학습하는 것이 되므로 주의해야함."
   ]
  },
  {
   "cell_type": "markdown",
   "metadata": {
    "id": "0LYDAGdTdQB1"
   },
   "source": [
    "##### 결과 시각화"
   ]
  },
  {
   "cell_type": "code",
   "execution_count": 77,
   "metadata": {
    "ExecuteTime": {
     "end_time": "2021-11-03T00:53:47.655062Z",
     "start_time": "2021-11-03T00:53:47.523937Z"
    },
    "colab": {
     "base_uri": "https://localhost:8080/",
     "height": 409
    },
    "id": "0e_0aOaydQB1",
    "outputId": "c0710fb9-8d92-4f58-cf11-f49d7d4e0b85"
   },
   "outputs": [
    {
     "data": {
      "image/png": "[encoded data removed]",
      "text/plain": [
       "<Figure size 504x432 with 1 Axes>"
      ]
     },
     "metadata": {
      "needs_background": "light"
     },
     "output_type": "display_data"
    }
   ],
   "source": [
    "plt.figure(figsize=(7,6))\n",
    "plt.plot(range(1, N_EPOCHS+1), hist.history['loss'], label='train loss')\n",
    "plt.plot(range(1, N_EPOCHS+1), hist.history['val_loss'], label='validation loss')\n",
    "plt.title(\"LOSS\", fontsize=20)\n",
    "plt.xlabel(\"Epochs\")\n",
    "plt.ylabel(\"Loss\")\n",
    "plt.legend()\n",
    "plt.show()"
   ]
  },
  {
   "cell_type": "code",
   "execution_count": 78,
   "metadata": {
    "ExecuteTime": {
     "end_time": "2021-11-03T00:54:00.384594Z",
     "start_time": "2021-11-03T00:54:00.250062Z"
    },
    "colab": {
     "base_uri": "https://localhost:8080/",
     "height": 409
    },
    "id": "MVngQm2QdQB1",
    "outputId": "bacab987-674f-46fb-d212-b626339f8bf6",
    "scrolled": true
   },
   "outputs": [
    {
     "data": {
      "image/png": "[encoded data removed]",
      "text/plain": [
       "<Figure size 504x432 with 1 Axes>"
      ]
     },
     "metadata": {
      "needs_background": "light"
     },
     "output_type": "display_data"
    }
   ],
   "source": [
    "plt.figure(figsize=(7,6))\n",
    "plt.plot(range(1, N_EPOCHS+1), hist.history['accuracy'], label='train accuracy')\n",
    "plt.plot(range(1, N_EPOCHS+1), hist.history['val_accuracy'], label='validation accuracy')\n",
    "plt.title(\"Accuracy\", fontsize=20)\n",
    "plt.xlabel(\"Epochs\")\n",
    "plt.ylabel(\"Accuracy\")\n",
    "plt.legend()\n",
    "plt.show()"
   ]
  },
  {
   "cell_type": "markdown",
   "metadata": {
    "id": "Iyysp-3gdQB2"
   },
   "source": [
    "#### 최종평가"
   ]
  },
  {
   "cell_type": "code",
   "execution_count": 79,
   "metadata": {
    "ExecuteTime": {
     "end_time": "2021-11-03T00:54:08.281394Z",
     "start_time": "2021-11-03T00:54:07.619852Z"
    },
    "colab": {
     "base_uri": "https://localhost:8080/"
    },
    "id": "EsJko_F7dQB2",
    "outputId": "b060fac0-5825-417e-8f3e-628e7d22ccfb",
    "scrolled": true
   },
   "outputs": [
    {
     "name": "stdout",
     "output_type": "stream",
     "text": [
      "100/100 [==============================] - 0s 4ms/step - loss: 0.8704 - accuracy: 0.8892\n"
     ]
    }
   ],
   "source": [
    "loss, accuracy = model.evaluate(test_dataset)"
   ]
  },
  {
   "cell_type": "code",
   "execution_count": 80,
   "metadata": {
    "ExecuteTime": {
     "end_time": "2021-11-03T00:54:12.226598Z",
     "start_time": "2021-11-03T00:54:12.218569Z"
    },
    "colab": {
     "base_uri": "https://localhost:8080/"
    },
    "id": "c5eg9gX_dQB2",
    "outputId": "56b31c4c-e659-440b-e872-3123e7eba053"
   },
   "outputs": [
    {
     "name": "stdout",
     "output_type": "stream",
     "text": [
      "0.8703945279121399 0.88919997215271\n"
     ]
    }
   ],
   "source": [
    "print(loss, accuracy)"
   ]
  },
  {
   "cell_type": "markdown",
   "metadata": {
    "id": "Po_IIEtGdQB4"
   },
   "source": [
    "#### 새로운 데이터 추론"
   ]
  },
  {
   "cell_type": "code",
   "execution_count": 81,
   "metadata": {
    "ExecuteTime": {
     "end_time": "2021-11-03T00:54:17.195599Z",
     "start_time": "2021-11-03T00:54:17.187618Z"
    },
    "id": "LuwLjJ2pdQB5"
   },
   "outputs": [],
   "source": [
    "new_input = X_test[:5]\n",
    "new_input = new_input/255.0"
   ]
  },
  {
   "cell_type": "code",
   "execution_count": 82,
   "metadata": {
    "ExecuteTime": {
     "end_time": "2021-11-03T00:56:14.884900Z",
     "start_time": "2021-11-03T00:56:14.836879Z"
    },
    "colab": {
     "base_uri": "https://localhost:8080/"
    },
    "id": "EZfmXwlHdQB6",
    "outputId": "9df5d4b5-9095-4616-b8ef-5508801ef480"
   },
   "outputs": [
    {
     "data": {
      "text/plain": [
       "array([7.99838695e-10, 1.22751905e-14, 2.18355404e-13, 3.84378147e-08,\n",
       "       1.02218208e-13, 1.43904072e-06, 2.51833138e-10, 2.01184457e-06,\n",
       "       8.32509991e-14, 9.99996543e-01], dtype=float32)"
      ]
     },
     "execution_count": 82,
     "metadata": {},
     "output_type": "execute_result"
    }
   ],
   "source": [
    "pred = model.predict(new_input)\n",
    "pred[0]"
   ]
  },
  {
   "cell_type": "code",
   "execution_count": 83,
   "metadata": {
    "ExecuteTime": {
     "end_time": "2021-11-03T00:54:20.055845Z",
     "start_time": "2021-11-03T00:54:20.043810Z"
    },
    "colab": {
     "base_uri": "https://localhost:8080/"
    },
    "id": "ryQRanA6dQB6",
    "outputId": "52dcd399-e28f-4ccc-e016-534b26c2acec"
   },
   "outputs": [
    {
     "data": {
      "text/plain": [
       "array([9, 2, 1, 1, 6])"
      ]
     },
     "execution_count": 83,
     "metadata": {},
     "output_type": "execute_result"
    }
   ],
   "source": [
    "pred_class = np.argmax(pred, axis=-1)\n",
    "pred_class"
   ]
  },
  {
   "cell_type": "code",
   "execution_count": 84,
   "metadata": {
    "ExecuteTime": {
     "end_time": "2021-11-03T00:54:25.841265Z",
     "start_time": "2021-11-03T00:54:25.829247Z"
    },
    "colab": {
     "base_uri": "https://localhost:8080/"
    },
    "id": "9QHWGgDGdQB6",
    "outputId": "91e6b915-cebb-47f3-d707-fab4eabbdf38"
   },
   "outputs": [
    {
     "data": {
      "text/plain": [
       "array([9, 2, 1, 1, 6], dtype=uint8)"
      ]
     },
     "execution_count": 84,
     "metadata": {},
     "output_type": "execute_result"
    }
   ],
   "source": [
    "test_label[:5]"
   ]
  },
  {
   "cell_type": "code",
   "execution_count": 86,
   "metadata": {
    "ExecuteTime": {
     "end_time": "2021-11-03T00:56:30.733619Z",
     "start_time": "2021-11-03T00:56:30.713647Z"
    },
    "colab": {
     "base_uri": "https://localhost:8080/"
    },
    "id": "Tm8ObAAndQB7",
    "outputId": "93a8894d-cf67-4f72-87d4-453d95ef02dd"
   },
   "outputs": [
    {
     "data": {
      "text/plain": [
       "array(['Ankle boot', 'Pullover', 'Trousers', 'Trousers', 'Shirt'],\n",
       "      dtype='<U11')"
      ]
     },
     "execution_count": 86,
     "metadata": {},
     "output_type": "execute_result"
    }
   ],
   "source": [
    "class_names = np.array(class_names)\n",
    "  class_names[pred_class]"
   ]
  },
  {
   "cell_type": "markdown",
   "metadata": {
    "id": "02ykAKLqdQB7"
   },
   "source": [
    "## 위스콘신 유방암 데이터셋 - 이진분류(Binary Classification) 문제\n",
    "- 위스콘신 대학교에서 제공한 종양의 악성/양성여부 분류를 위한 데이터셋\n",
    "- Feature\n",
    "    - 종양에 대한 다양한 측정값들\n",
    "- Target의 class\n",
    "    - 0 - malignant(악성종양)\n",
    "    - 1 - benign(양성종양)"
   ]
  },
  {
   "cell_type": "code",
   "execution_count": 87,
   "metadata": {
    "ExecuteTime": {
     "end_time": "2021-11-03T00:57:04.860404Z",
     "start_time": "2021-11-03T00:57:04.769013Z"
    },
    "id": "L-zRG9xBdQB7"
   },
   "outputs": [],
   "source": [
    "import numpy as np\n",
    "import tensorflow as tf\n",
    "from tensorflow import keras\n",
    "from tensorflow.keras import layers\n",
    "\n",
    "from sklearn.datasets import load_breast_cancer\n",
    "from sklearn.preprocessing import StandardScaler\n",
    "from sklearn.model_selection import train_test_split\n",
    "\n",
    "np.random.seed(0)\n",
    "tf.random.set_seed(0)"
   ]
  },
  {
   "cell_type": "markdown",
   "metadata": {
    "id": "pSMLLMWzdQB8"
   },
   "source": [
    "##### 데이터 로딩, train/validation/test set 나누기"
   ]
  },
  {
   "cell_type": "code",
   "execution_count": 88,
   "metadata": {
    "ExecuteTime": {
     "end_time": "2021-11-03T00:57:07.145465Z",
     "start_time": "2021-11-03T00:57:07.116460Z"
    },
    "colab": {
     "base_uri": "https://localhost:8080/"
    },
    "id": "z0GZgI4ldQB8",
    "outputId": "dbd5e529-8784-47e0-d9ae-eb6539ee42a4"
   },
   "outputs": [
    {
     "data": {
      "text/plain": [
       "((569, 30), (569,))"
      ]
     },
     "execution_count": 88,
     "metadata": {},
     "output_type": "execute_result"
    }
   ],
   "source": [
    "X, y = load_breast_cancer(return_X_y=True)\n",
    "X.shape, y.shape"
   ]
  },
  {
   "cell_type": "code",
   "execution_count": 89,
   "metadata": {
    "ExecuteTime": {
     "end_time": "2021-11-03T00:57:08.000145Z",
     "start_time": "2021-11-03T00:57:07.964172Z"
    },
    "colab": {
     "base_uri": "https://localhost:8080/"
    },
    "id": "KsNF5eZ1dQB9",
    "outputId": "d02c0a41-ae34-43b1-9586-e47fd4c0e26d"
   },
   "outputs": [
    {
     "data": {
      "text/plain": [
       "((364, 30), (91, 30), (114, 30))"
      ]
     },
     "execution_count": 89,
     "metadata": {},
     "output_type": "execute_result"
    }
   ],
   "source": [
    "X_train, X_test, y_train, y_test = train_test_split(X, y, test_size=0.2, stratify=y, random_state=0)\n",
    "\n",
    "X_train, X_val, y_train, y_val = train_test_split(X_train, y_train, test_size=0.2, stratify=y_train, random_state=0)\n",
    "\n",
    "X_train.shape, X_val.shape, X_test.shape"
   ]
  },
  {
   "cell_type": "code",
   "execution_count": 90,
   "metadata": {
    "ExecuteTime": {
     "end_time": "2021-11-03T00:57:08.931182Z",
     "start_time": "2021-11-03T00:57:08.907148Z"
    },
    "colab": {
     "base_uri": "https://localhost:8080/"
    },
    "id": "hbjcSpxFdQB9",
    "outputId": "6dc71516-8715-432a-966e-e386e129e1d7"
   },
   "outputs": [
    {
     "data": {
      "text/plain": [
       "array([[1.955e+01, 2.321e+01, 1.289e+02, 1.174e+03, 1.010e-01, 1.318e-01,\n",
       "        1.856e-01, 1.021e-01, 1.989e-01, 5.884e-02, 6.107e-01, 2.836e+00,\n",
       "        5.383e+00, 7.010e+01, 1.124e-02, 4.097e-02, 7.469e-02, 3.441e-02,\n",
       "        2.768e-02, 6.240e-03, 2.082e+01, 3.044e+01, 1.420e+02, 1.313e+03,\n",
       "        1.251e-01, 2.414e-01, 3.829e-01, 1.825e-01, 2.576e-01, 7.602e-02],\n",
       "       [1.378e+01, 1.579e+01, 8.837e+01, 5.859e+02, 8.817e-02, 6.718e-02,\n",
       "        1.055e-02, 9.937e-03, 1.405e-01, 5.848e-02, 3.563e-01, 4.833e-01,\n",
       "        2.235e+00, 2.934e+01, 6.432e-03, 1.156e-02, 7.741e-03, 5.657e-03,\n",
       "        1.227e-02, 2.564e-03, 1.527e+01, 1.750e+01, 9.790e+01, 7.066e+02,\n",
       "        1.072e-01, 1.071e-01, 3.517e-02, 3.312e-02, 1.859e-01, 6.810e-02],\n",
       "       [1.865e+01, 1.760e+01, 1.237e+02, 1.076e+03, 1.099e-01, 1.686e-01,\n",
       "        1.974e-01, 1.009e-01, 1.907e-01, 6.049e-02, 6.289e-01, 6.633e-01,\n",
       "        4.293e+00, 7.156e+01, 6.294e-03, 3.994e-02, 5.554e-02, 1.695e-02,\n",
       "        2.428e-02, 3.535e-03, 2.282e+01, 2.132e+01, 1.506e+02, 1.567e+03,\n",
       "        1.679e-01, 5.090e-01, 7.345e-01, 2.378e-01, 3.799e-01, 9.185e-02]])"
      ]
     },
     "execution_count": 90,
     "metadata": {},
     "output_type": "execute_result"
    }
   ],
   "source": [
    "X_train[:3]"
   ]
  },
  {
   "cell_type": "code",
   "execution_count": 92,
   "metadata": {
    "ExecuteTime": {
     "end_time": "2021-11-03T00:57:09.945394Z",
     "start_time": "2021-11-03T00:57:09.932401Z"
    },
    "colab": {
     "base_uri": "https://localhost:8080/"
    },
    "id": "zZbGxfEKdQB-",
    "outputId": "90cbef8e-6735-47ca-9c18-1183bf50771e"
   },
   "outputs": [
    {
     "data": {
      "text/plain": [
       "array([0, 1, 0])"
      ]
     },
     "execution_count": 92,
     "metadata": {},
     "output_type": "execute_result"
    }
   ],
   "source": [
    "y_train[:3]"
   ]
  },
  {
   "cell_type": "markdown",
   "metadata": {
    "id": "7flvkkkddQB-"
   },
   "source": [
    "#### 하이퍼파라미터, 변수 정의"
   ]
  },
  {
   "cell_type": "code",
   "execution_count": 93,
   "metadata": {
    "ExecuteTime": {
     "end_time": "2021-11-03T00:57:16.677364Z",
     "start_time": "2021-11-03T00:57:16.673362Z"
    },
    "id": "lG-mNzLBdQCC"
   },
   "outputs": [],
   "source": [
    "LEARNING_RATE = 0.001\n",
    "N_EPOCHS = 150\n",
    "N_BATCHS = 50\n",
    "\n",
    "N_TRAIN = X_train.shape[0]\n",
    "N_VAL = X_val.shape[0]\n",
    "N_TEST = X_test.shape[0]"
   ]
  },
  {
   "cell_type": "markdown",
   "metadata": {
    "id": "wf8EV5JmdQCC"
   },
   "source": [
    "#### 데이터 전처리\n",
    "- 이진 분류\n",
    "    - 출력 레이어의 unit을 1개, activation 함수를 sigmoid를 사용하는 경우(1일 확률) => y:그대로 사용\n",
    "    - 출력 레이어의 unit을 2개, activation 함수를 sofmax를 사용하는 경우(0일 확률, 1일 확률) - 다중분류와 동일하게 구현 => y: one hot encoding\n",
    "- X: 테이블데이터\n",
    "    - 문자열(범주형): one hot encoding\n",
    "    - 연속형(수치형): feature scaling"
   ]
  },
  {
   "cell_type": "code",
   "execution_count": 94,
   "metadata": {
    "ExecuteTime": {
     "end_time": "2021-11-03T00:57:18.884049Z",
     "start_time": "2021-11-03T00:57:18.866052Z"
    },
    "id": "ZSd_GrGRdQCD"
   },
   "outputs": [],
   "source": [
    "# Feature scaling\n",
    "scaler = StandardScaler()\n",
    "\n",
    "X_train_scaled = scaler.fit_transform(X_train)\n",
    "X_val_scaled = scaler.transform(X_val)\n",
    "X_test_scaled = scaler.transform(X_test)"
   ]
  },
  {
   "cell_type": "markdown",
   "metadata": {
    "id": "IVpmMR83dQCD"
   },
   "source": [
    "#### Dataset 생성"
   ]
  },
  {
   "cell_type": "code",
   "execution_count": 95,
   "metadata": {
    "ExecuteTime": {
     "end_time": "2021-11-03T00:57:21.197269Z",
     "start_time": "2021-11-03T00:57:21.171240Z"
    },
    "id": "DYEjA5U2dQCE"
   },
   "outputs": [],
   "source": [
    "train_dataset = tf.data.Dataset.from_tensor_slices((X_train_scaled, y_train)).shuffle(N_TRAIN)\\\n",
    "                                                    .batch(N_BATCHS, drop_remainder=True)\n",
    "\n",
    "val_dataset = tf.data.Dataset.from_tensor_slices((X_val_scaled, y_val)).batch(N_BATCHS)\n",
    "\n",
    "test_dataset = tf.data.Dataset.from_tensor_slices((X_test_scaled, y_test)).batch(N_BATCHS)"
   ]
  },
  {
   "cell_type": "markdown",
   "metadata": {
    "id": "bCdxYTiNdQCE"
   },
   "source": [
    "#### model 생성, 컴파일"
   ]
  },
  {
   "cell_type": "code",
   "execution_count": 96,
   "metadata": {
    "ExecuteTime": {
     "end_time": "2021-11-03T00:58:17.940097Z",
     "start_time": "2021-11-03T00:58:17.923072Z"
    },
    "id": "WmnZOvBRdQCF"
   },
   "outputs": [],
   "source": [
    "def create_wisconsin_model():\n",
    "    # 모델 생성\n",
    "    model = keras.Sequential()\n",
    "\n",
    "    # hidden layer\n",
    "    model.add(layers.Dense(units=32, activation='relu', input_shape=(30, )))\n",
    "    model.add(layers.Dense(units=16, activation='relu'))\n",
    "    model.add(layers.Dense(units=8, activation='relu'))\n",
    "    \n",
    "    # output layer\n",
    "    # 이진 분류 : 1일 확률 출력하는 방식으로 구현\n",
    "    # unit = 1 / activation_func = sigmoid\n",
    "    model.add(layers.Dense(units=1, activation='sigmoid', name='Output_layer'))\n",
    "    \n",
    "    return model"
   ]
  },
  {
   "cell_type": "code",
   "execution_count": 98,
   "metadata": {
    "ExecuteTime": {
     "end_time": "2021-11-03T00:58:25.622242Z",
     "start_time": "2021-11-03T00:58:25.571472Z"
    },
    "id": "hqT4PSDUdQCF"
   },
   "outputs": [],
   "source": [
    "model = create_wisconsin_model()\n",
    "model.compile(optimizer=keras.optimizers.Adam(learning_rate=LEARNING_RATE), \n",
    "              loss='binary_crossentropy', # 이진 분류에서 1의 확률을 출력하는 경우 loss\n",
    "              metrics=['accuracy'])"
   ]
  },
  {
   "cell_type": "code",
   "execution_count": 99,
   "metadata": {
    "ExecuteTime": {
     "end_time": "2021-11-03T00:58:27.279253Z",
     "start_time": "2021-11-03T00:58:27.259253Z"
    },
    "colab": {
     "base_uri": "https://localhost:8080/"
    },
    "id": "28-zTokndQCG",
    "outputId": "0064d62e-dc74-49b9-e531-d8b7535bfe79"
   },
   "outputs": [
    {
     "name": "stdout",
     "output_type": "stream",
     "text": [
      "Model: \"sequential_3\"\n",
      "_________________________________________________________________\n",
      " Layer (type)                Output Shape              Param #   \n",
      "=================================================================\n",
      " dense_11 (Dense)            (None, 32)                992       \n",
      "                                                                 \n",
      " dense_12 (Dense)            (None, 16)                528       \n",
      "                                                                 \n",
      " dense_13 (Dense)            (None, 8)                 136       \n",
      "                                                                 \n",
      " Output_layer (Dense)        (None, 1)                 9         \n",
      "                                                                 \n",
      "=================================================================\n",
      "Total params: 1,665\n",
      "Trainable params: 1,665\n",
      "Non-trainable params: 0\n",
      "_________________________________________________________________\n"
     ]
    }
   ],
   "source": [
    "model.summary()"
   ]
  },
  {
   "cell_type": "code",
   "execution_count": 100,
   "metadata": {
    "ExecuteTime": {
     "end_time": "2021-11-03T00:58:28.701187Z",
     "start_time": "2021-11-03T00:58:28.466270Z"
    },
    "colab": {
     "base_uri": "https://localhost:8080/",
     "height": 533
    },
    "id": "zuzXJbdLdQCG",
    "outputId": "7b1618e8-7f18-497e-d7b1-927ab192c387"
   },
   "outputs": [
    {
     "data": {
      "image/png": "[encoded data removed]",
      "text/plain": [
       "<IPython.core.display.Image object>"
      ]
     },
     "execution_count": 100,
     "metadata": {},
     "output_type": "execute_result"
    }
   ],
   "source": [
    "keras.utils.plot_model(model, show_shapes=True, to_file='cancer_model.png')"
   ]
  },
  {
   "cell_type": "markdown",
   "metadata": {
    "id": "jiFZnQXmdQCG"
   },
   "source": [
    "#### Train(학습)"
   ]
  },
  {
   "cell_type": "code",
   "execution_count": 101,
   "metadata": {
    "ExecuteTime": {
     "end_time": "2021-11-03T00:58:48.642635Z",
     "start_time": "2021-11-03T00:58:37.854173Z"
    },
    "colab": {
     "base_uri": "https://localhost:8080/"
    },
    "id": "swKaEYJMdQCG",
    "outputId": "9915f038-d10a-4857-9e9d-4d5b07de4104"
   },
   "outputs": [
    {
     "name": "stdout",
     "output_type": "stream",
     "text": [
      "Epoch 1/150\n",
      "7/7 [==============================] - 1s 20ms/step - loss: 0.7270 - accuracy: 0.3943 - val_loss: 0.6933 - val_accuracy: 0.4835\n",
      "Epoch 2/150\n",
      "7/7 [==============================] - 0s 4ms/step - loss: 0.6502 - accuracy: 0.5657 - val_loss: 0.6302 - val_accuracy: 0.6593\n",
      "Epoch 3/150\n",
      "7/7 [==============================] - 0s 4ms/step - loss: 0.5911 - accuracy: 0.7600 - val_loss: 0.5819 - val_accuracy: 0.7802\n",
      "Epoch 4/150\n",
      "7/7 [==============================] - 0s 4ms/step - loss: 0.5463 - accuracy: 0.8286 - val_loss: 0.5387 - val_accuracy: 0.8352\n",
      "Epoch 5/150\n",
      "7/7 [==============================] - 0s 4ms/step - loss: 0.5040 - accuracy: 0.8829 - val_loss: 0.4964 - val_accuracy: 0.8791\n",
      "Epoch 6/150\n",
      "7/7 [==============================] - 0s 4ms/step - loss: 0.4613 - accuracy: 0.8943 - val_loss: 0.4547 - val_accuracy: 0.8791\n",
      "Epoch 7/150\n",
      "7/7 [==============================] - 0s 4ms/step - loss: 0.4205 - accuracy: 0.9086 - val_loss: 0.4125 - val_accuracy: 0.8901\n",
      "Epoch 8/150\n",
      "7/7 [==============================] - 0s 4ms/step - loss: 0.3766 - accuracy: 0.9229 - val_loss: 0.3702 - val_accuracy: 0.9121\n",
      "Epoch 9/150\n",
      "7/7 [==============================] - 0s 4ms/step - loss: 0.3362 - accuracy: 0.9314 - val_loss: 0.3278 - val_accuracy: 0.9451\n",
      "Epoch 10/150\n",
      "7/7 [==============================] - 0s 4ms/step - loss: 0.2971 - accuracy: 0.9429 - val_loss: 0.2861 - val_accuracy: 0.9560\n",
      "Epoch 11/150\n",
      "7/7 [==============================] - 0s 4ms/step - loss: 0.2606 - accuracy: 0.9486 - val_loss: 0.2456 - val_accuracy: 0.9560\n",
      "Epoch 12/150\n",
      "7/7 [==============================] - 0s 4ms/step - loss: 0.2246 - accuracy: 0.9543 - val_loss: 0.2084 - val_accuracy: 0.9670\n",
      "Epoch 13/150\n",
      "7/7 [==============================] - 0s 4ms/step - loss: 0.1919 - accuracy: 0.9600 - val_loss: 0.1770 - val_accuracy: 0.9670\n",
      "Epoch 14/150\n",
      "7/7 [==============================] - 0s 4ms/step - loss: 0.1624 - accuracy: 0.9657 - val_loss: 0.1510 - val_accuracy: 0.9670\n",
      "Epoch 15/150\n",
      "7/7 [==============================] - 0s 4ms/step - loss: 0.1445 - accuracy: 0.9714 - val_loss: 0.1313 - val_accuracy: 0.9670\n",
      "Epoch 16/150\n",
      "7/7 [==============================] - 0s 4ms/step - loss: 0.1220 - accuracy: 0.9771 - val_loss: 0.1152 - val_accuracy: 0.9670\n",
      "Epoch 17/150\n",
      "7/7 [==============================] - 0s 4ms/step - loss: 0.1132 - accuracy: 0.9743 - val_loss: 0.1023 - val_accuracy: 0.9670\n",
      "Epoch 18/150\n",
      "7/7 [==============================] - 0s 4ms/step - loss: 0.1016 - accuracy: 0.9743 - val_loss: 0.0916 - val_accuracy: 0.9670\n",
      "Epoch 19/150\n",
      "7/7 [==============================] - 0s 4ms/step - loss: 0.0897 - accuracy: 0.9771 - val_loss: 0.0841 - val_accuracy: 0.9670\n",
      "Epoch 20/150\n",
      "7/7 [==============================] - 0s 5ms/step - loss: 0.0849 - accuracy: 0.9800 - val_loss: 0.0779 - val_accuracy: 0.9670\n",
      "Epoch 21/150\n",
      "7/7 [==============================] - 0s 4ms/step - loss: 0.0776 - accuracy: 0.9800 - val_loss: 0.0716 - val_accuracy: 0.9670\n",
      "Epoch 22/150\n",
      "7/7 [==============================] - 0s 4ms/step - loss: 0.0701 - accuracy: 0.9829 - val_loss: 0.0668 - val_accuracy: 0.9670\n",
      "Epoch 23/150\n",
      "7/7 [==============================] - 0s 4ms/step - loss: 0.0696 - accuracy: 0.9800 - val_loss: 0.0628 - val_accuracy: 0.9670\n",
      "Epoch 24/150\n",
      "7/7 [==============================] - 0s 4ms/step - loss: 0.0658 - accuracy: 0.9800 - val_loss: 0.0585 - val_accuracy: 0.9670\n",
      "Epoch 25/150\n",
      "7/7 [==============================] - 0s 5ms/step - loss: 0.0504 - accuracy: 0.9829 - val_loss: 0.0548 - val_accuracy: 0.9780\n",
      "Epoch 26/150\n",
      "7/7 [==============================] - 0s 4ms/step - loss: 0.0518 - accuracy: 0.9914 - val_loss: 0.0523 - val_accuracy: 0.9780\n",
      "Epoch 27/150\n",
      "7/7 [==============================] - 0s 4ms/step - loss: 0.0556 - accuracy: 0.9829 - val_loss: 0.0496 - val_accuracy: 0.9780\n",
      "Epoch 28/150\n",
      "7/7 [==============================] - 0s 4ms/step - loss: 0.0543 - accuracy: 0.9857 - val_loss: 0.0476 - val_accuracy: 0.9780\n",
      "Epoch 29/150\n",
      "7/7 [==============================] - 0s 4ms/step - loss: 0.0534 - accuracy: 0.9857 - val_loss: 0.0462 - val_accuracy: 0.9780\n",
      "Epoch 30/150\n",
      "7/7 [==============================] - 0s 4ms/step - loss: 0.0521 - accuracy: 0.9857 - val_loss: 0.0454 - val_accuracy: 0.9780\n",
      "Epoch 31/150\n",
      "7/7 [==============================] - 0s 5ms/step - loss: 0.0484 - accuracy: 0.9857 - val_loss: 0.0442 - val_accuracy: 0.9780\n",
      "Epoch 32/150\n",
      "7/7 [==============================] - 0s 4ms/step - loss: 0.0483 - accuracy: 0.9886 - val_loss: 0.0427 - val_accuracy: 0.9780\n",
      "Epoch 33/150\n",
      "7/7 [==============================] - 0s 4ms/step - loss: 0.0468 - accuracy: 0.9886 - val_loss: 0.0421 - val_accuracy: 0.9780\n",
      "Epoch 34/150\n",
      "7/7 [==============================] - 0s 4ms/step - loss: 0.0451 - accuracy: 0.9857 - val_loss: 0.0430 - val_accuracy: 0.9780\n",
      "Epoch 35/150\n",
      "7/7 [==============================] - 0s 4ms/step - loss: 0.0439 - accuracy: 0.9857 - val_loss: 0.0430 - val_accuracy: 0.9780\n",
      "Epoch 36/150\n",
      "7/7 [==============================] - 0s 4ms/step - loss: 0.0424 - accuracy: 0.9886 - val_loss: 0.0421 - val_accuracy: 0.9780\n",
      "Epoch 37/150\n",
      "7/7 [==============================] - 0s 4ms/step - loss: 0.0427 - accuracy: 0.9886 - val_loss: 0.0419 - val_accuracy: 0.9780\n",
      "Epoch 38/150\n",
      "7/7 [==============================] - 0s 4ms/step - loss: 0.0408 - accuracy: 0.9914 - val_loss: 0.0406 - val_accuracy: 0.9780\n",
      "Epoch 39/150\n",
      "7/7 [==============================] - 0s 4ms/step - loss: 0.0397 - accuracy: 0.9914 - val_loss: 0.0403 - val_accuracy: 0.9780\n",
      "Epoch 40/150\n",
      "7/7 [==============================] - 0s 4ms/step - loss: 0.0394 - accuracy: 0.9914 - val_loss: 0.0403 - val_accuracy: 0.9780\n",
      "Epoch 41/150\n",
      "7/7 [==============================] - 0s 4ms/step - loss: 0.0371 - accuracy: 0.9914 - val_loss: 0.0409 - val_accuracy: 0.9780\n",
      "Epoch 42/150\n",
      "7/7 [==============================] - 0s 6ms/step - loss: 0.0361 - accuracy: 0.9914 - val_loss: 0.0403 - val_accuracy: 0.9780\n",
      "Epoch 43/150\n",
      "7/7 [==============================] - 0s 4ms/step - loss: 0.0355 - accuracy: 0.9943 - val_loss: 0.0399 - val_accuracy: 0.9780\n",
      "Epoch 44/150\n",
      "7/7 [==============================] - 0s 4ms/step - loss: 0.0338 - accuracy: 0.9943 - val_loss: 0.0395 - val_accuracy: 0.9780\n",
      "Epoch 45/150\n",
      "7/7 [==============================] - 0s 4ms/step - loss: 0.0338 - accuracy: 0.9943 - val_loss: 0.0385 - val_accuracy: 0.9780\n",
      "Epoch 46/150\n",
      "7/7 [==============================] - 0s 4ms/step - loss: 0.0339 - accuracy: 0.9943 - val_loss: 0.0380 - val_accuracy: 0.9780\n",
      "Epoch 47/150\n",
      "7/7 [==============================] - 0s 4ms/step - loss: 0.0334 - accuracy: 0.9943 - val_loss: 0.0384 - val_accuracy: 0.9780\n",
      "Epoch 48/150\n",
      "7/7 [==============================] - 0s 4ms/step - loss: 0.0328 - accuracy: 0.9943 - val_loss: 0.0392 - val_accuracy: 0.9780\n",
      "Epoch 49/150\n",
      "7/7 [==============================] - 0s 4ms/step - loss: 0.0315 - accuracy: 0.9943 - val_loss: 0.0382 - val_accuracy: 0.9780\n",
      "Epoch 50/150\n",
      "7/7 [==============================] - 0s 4ms/step - loss: 0.0287 - accuracy: 0.9943 - val_loss: 0.0374 - val_accuracy: 0.9780\n",
      "Epoch 51/150\n",
      "7/7 [==============================] - 0s 4ms/step - loss: 0.0293 - accuracy: 0.9943 - val_loss: 0.0378 - val_accuracy: 0.9780\n",
      "Epoch 52/150\n",
      "7/7 [==============================] - 0s 4ms/step - loss: 0.0290 - accuracy: 0.9943 - val_loss: 0.0384 - val_accuracy: 0.9780\n",
      "Epoch 53/150\n",
      "7/7 [==============================] - 0s 4ms/step - loss: 0.0268 - accuracy: 0.9943 - val_loss: 0.0373 - val_accuracy: 0.9780\n",
      "Epoch 54/150\n",
      "7/7 [==============================] - 0s 4ms/step - loss: 0.0267 - accuracy: 0.9943 - val_loss: 0.0368 - val_accuracy: 0.9780\n",
      "Epoch 55/150\n",
      "7/7 [==============================] - 0s 5ms/step - loss: 0.0270 - accuracy: 0.9943 - val_loss: 0.0364 - val_accuracy: 0.9780\n",
      "Epoch 56/150\n",
      "7/7 [==============================] - 0s 4ms/step - loss: 0.0266 - accuracy: 0.9943 - val_loss: 0.0366 - val_accuracy: 0.9780\n",
      "Epoch 57/150\n",
      "7/7 [==============================] - 0s 4ms/step - loss: 0.0257 - accuracy: 0.9943 - val_loss: 0.0362 - val_accuracy: 0.9780\n",
      "Epoch 58/150\n",
      "7/7 [==============================] - 0s 4ms/step - loss: 0.0252 - accuracy: 0.9943 - val_loss: 0.0364 - val_accuracy: 0.9780\n",
      "Epoch 59/150\n",
      "7/7 [==============================] - 0s 4ms/step - loss: 0.0245 - accuracy: 0.9943 - val_loss: 0.0362 - val_accuracy: 0.9780\n",
      "Epoch 60/150\n",
      "7/7 [==============================] - 0s 4ms/step - loss: 0.0238 - accuracy: 0.9943 - val_loss: 0.0359 - val_accuracy: 0.9780\n",
      "Epoch 61/150\n",
      "7/7 [==============================] - 0s 4ms/step - loss: 0.0236 - accuracy: 0.9943 - val_loss: 0.0351 - val_accuracy: 0.9780\n",
      "Epoch 62/150\n",
      "7/7 [==============================] - 0s 5ms/step - loss: 0.0225 - accuracy: 0.9943 - val_loss: 0.0358 - val_accuracy: 0.9780\n",
      "Epoch 63/150\n",
      "7/7 [==============================] - 0s 4ms/step - loss: 0.0219 - accuracy: 0.9943 - val_loss: 0.0361 - val_accuracy: 0.9780\n",
      "Epoch 64/150\n",
      "7/7 [==============================] - 0s 4ms/step - loss: 0.0210 - accuracy: 0.9971 - val_loss: 0.0362 - val_accuracy: 0.9780\n",
      "Epoch 65/150\n",
      "7/7 [==============================] - 0s 5ms/step - loss: 0.0203 - accuracy: 0.9971 - val_loss: 0.0362 - val_accuracy: 0.9780\n",
      "Epoch 66/150\n",
      "7/7 [==============================] - 0s 5ms/step - loss: 0.0183 - accuracy: 0.9971 - val_loss: 0.0361 - val_accuracy: 0.9780\n",
      "Epoch 67/150\n",
      "7/7 [==============================] - 0s 4ms/step - loss: 0.0194 - accuracy: 0.9971 - val_loss: 0.0359 - val_accuracy: 0.9780\n",
      "Epoch 68/150\n",
      "7/7 [==============================] - 0s 4ms/step - loss: 0.0185 - accuracy: 0.9971 - val_loss: 0.0350 - val_accuracy: 0.9780\n",
      "Epoch 69/150\n",
      "7/7 [==============================] - 0s 5ms/step - loss: 0.0184 - accuracy: 0.9971 - val_loss: 0.0356 - val_accuracy: 0.9780\n",
      "Epoch 70/150\n",
      "7/7 [==============================] - 0s 4ms/step - loss: 0.0175 - accuracy: 0.9971 - val_loss: 0.0352 - val_accuracy: 0.9780\n",
      "Epoch 71/150\n",
      "7/7 [==============================] - 0s 4ms/step - loss: 0.0175 - accuracy: 0.9971 - val_loss: 0.0362 - val_accuracy: 0.9780\n",
      "Epoch 72/150\n",
      "7/7 [==============================] - 0s 4ms/step - loss: 0.0164 - accuracy: 0.9971 - val_loss: 0.0364 - val_accuracy: 0.9780\n",
      "Epoch 73/150\n",
      "7/7 [==============================] - 0s 4ms/step - loss: 0.0162 - accuracy: 0.9971 - val_loss: 0.0364 - val_accuracy: 0.9780\n",
      "Epoch 74/150\n",
      "7/7 [==============================] - 0s 4ms/step - loss: 0.0151 - accuracy: 0.9971 - val_loss: 0.0366 - val_accuracy: 0.9780\n",
      "Epoch 75/150\n",
      "7/7 [==============================] - 0s 4ms/step - loss: 0.0156 - accuracy: 0.9971 - val_loss: 0.0366 - val_accuracy: 0.9780\n",
      "Epoch 76/150\n",
      "7/7 [==============================] - 0s 5ms/step - loss: 0.0154 - accuracy: 0.9971 - val_loss: 0.0355 - val_accuracy: 0.9780\n",
      "Epoch 77/150\n",
      "7/7 [==============================] - 0s 4ms/step - loss: 0.0144 - accuracy: 0.9971 - val_loss: 0.0358 - val_accuracy: 0.9780\n",
      "Epoch 78/150\n",
      "7/7 [==============================] - 0s 4ms/step - loss: 0.0140 - accuracy: 0.9971 - val_loss: 0.0360 - val_accuracy: 0.9780\n",
      "Epoch 79/150\n",
      "7/7 [==============================] - 0s 4ms/step - loss: 0.0139 - accuracy: 0.9971 - val_loss: 0.0370 - val_accuracy: 0.9780\n",
      "Epoch 80/150\n",
      "7/7 [==============================] - 0s 4ms/step - loss: 0.0134 - accuracy: 0.9971 - val_loss: 0.0371 - val_accuracy: 0.9780\n",
      "Epoch 81/150\n",
      "7/7 [==============================] - 0s 4ms/step - loss: 0.0131 - accuracy: 0.9971 - val_loss: 0.0369 - val_accuracy: 0.9780\n",
      "Epoch 82/150\n",
      "7/7 [==============================] - 0s 4ms/step - loss: 0.0130 - accuracy: 0.9971 - val_loss: 0.0364 - val_accuracy: 0.9780\n",
      "Epoch 83/150\n",
      "7/7 [==============================] - 0s 4ms/step - loss: 0.0125 - accuracy: 0.9971 - val_loss: 0.0361 - val_accuracy: 0.9780\n",
      "Epoch 84/150\n",
      "7/7 [==============================] - 0s 4ms/step - loss: 0.0124 - accuracy: 0.9971 - val_loss: 0.0362 - val_accuracy: 0.9780\n",
      "Epoch 85/150\n",
      "7/7 [==============================] - 0s 4ms/step - loss: 0.0120 - accuracy: 0.9971 - val_loss: 0.0365 - val_accuracy: 0.9670\n",
      "Epoch 86/150\n",
      "7/7 [==============================] - 0s 4ms/step - loss: 0.0119 - accuracy: 0.9971 - val_loss: 0.0360 - val_accuracy: 0.9670\n",
      "Epoch 87/150\n",
      "7/7 [==============================] - 0s 4ms/step - loss: 0.0116 - accuracy: 0.9971 - val_loss: 0.0353 - val_accuracy: 0.9670\n",
      "Epoch 88/150\n",
      "7/7 [==============================] - 0s 4ms/step - loss: 0.0115 - accuracy: 0.9971 - val_loss: 0.0359 - val_accuracy: 0.9670\n",
      "Epoch 89/150\n",
      "7/7 [==============================] - 0s 5ms/step - loss: 0.0112 - accuracy: 0.9971 - val_loss: 0.0356 - val_accuracy: 0.9670\n",
      "Epoch 90/150\n",
      "7/7 [==============================] - 0s 5ms/step - loss: 0.0106 - accuracy: 0.9971 - val_loss: 0.0355 - val_accuracy: 0.9670\n",
      "Epoch 91/150\n",
      "7/7 [==============================] - 0s 4ms/step - loss: 0.0105 - accuracy: 0.9971 - val_loss: 0.0353 - val_accuracy: 0.9670\n",
      "Epoch 92/150\n",
      "7/7 [==============================] - 0s 4ms/step - loss: 0.0106 - accuracy: 0.9971 - val_loss: 0.0350 - val_accuracy: 0.9670\n",
      "Epoch 93/150\n",
      "7/7 [==============================] - 0s 6ms/step - loss: 0.0102 - accuracy: 0.9971 - val_loss: 0.0353 - val_accuracy: 0.9670\n",
      "Epoch 94/150\n",
      "7/7 [==============================] - 0s 4ms/step - loss: 0.0099 - accuracy: 0.9971 - val_loss: 0.0346 - val_accuracy: 0.9670\n",
      "Epoch 95/150\n",
      "7/7 [==============================] - 0s 4ms/step - loss: 0.0098 - accuracy: 0.9971 - val_loss: 0.0338 - val_accuracy: 0.9780\n",
      "Epoch 96/150\n",
      "7/7 [==============================] - 0s 5ms/step - loss: 0.0097 - accuracy: 0.9971 - val_loss: 0.0340 - val_accuracy: 0.9780\n",
      "Epoch 97/150\n",
      "7/7 [==============================] - 0s 4ms/step - loss: 0.0094 - accuracy: 0.9971 - val_loss: 0.0338 - val_accuracy: 0.9780\n",
      "Epoch 98/150\n",
      "7/7 [==============================] - 0s 4ms/step - loss: 0.0094 - accuracy: 0.9971 - val_loss: 0.0336 - val_accuracy: 0.9780\n",
      "Epoch 99/150\n",
      "7/7 [==============================] - 0s 5ms/step - loss: 0.0092 - accuracy: 0.9971 - val_loss: 0.0331 - val_accuracy: 0.9780\n",
      "Epoch 100/150\n",
      "7/7 [==============================] - 0s 4ms/step - loss: 0.0090 - accuracy: 0.9971 - val_loss: 0.0331 - val_accuracy: 0.9780\n",
      "Epoch 101/150\n",
      "7/7 [==============================] - 0s 4ms/step - loss: 0.0088 - accuracy: 0.9971 - val_loss: 0.0329 - val_accuracy: 0.9780\n",
      "Epoch 102/150\n",
      "7/7 [==============================] - 0s 4ms/step - loss: 0.0084 - accuracy: 0.9971 - val_loss: 0.0324 - val_accuracy: 0.9780\n",
      "Epoch 103/150\n",
      "7/7 [==============================] - 0s 6ms/step - loss: 0.0085 - accuracy: 0.9971 - val_loss: 0.0321 - val_accuracy: 0.9780\n",
      "Epoch 104/150\n",
      "7/7 [==============================] - 0s 4ms/step - loss: 0.0084 - accuracy: 0.9971 - val_loss: 0.0320 - val_accuracy: 0.9780\n",
      "Epoch 105/150\n",
      "7/7 [==============================] - 0s 5ms/step - loss: 0.0082 - accuracy: 0.9971 - val_loss: 0.0322 - val_accuracy: 0.9780\n",
      "Epoch 106/150\n",
      "7/7 [==============================] - 0s 4ms/step - loss: 0.0081 - accuracy: 0.9971 - val_loss: 0.0319 - val_accuracy: 0.9780\n",
      "Epoch 107/150\n",
      "7/7 [==============================] - 0s 4ms/step - loss: 0.0079 - accuracy: 0.9971 - val_loss: 0.0313 - val_accuracy: 0.9780\n",
      "Epoch 108/150\n",
      "7/7 [==============================] - 0s 4ms/step - loss: 0.0078 - accuracy: 0.9971 - val_loss: 0.0307 - val_accuracy: 0.9780\n",
      "Epoch 109/150\n",
      "7/7 [==============================] - 0s 4ms/step - loss: 0.0077 - accuracy: 0.9971 - val_loss: 0.0307 - val_accuracy: 0.9780\n",
      "Epoch 110/150\n",
      "7/7 [==============================] - 0s 4ms/step - loss: 0.0072 - accuracy: 0.9971 - val_loss: 0.0309 - val_accuracy: 0.9780\n",
      "Epoch 111/150\n",
      "7/7 [==============================] - 0s 5ms/step - loss: 0.0072 - accuracy: 0.9971 - val_loss: 0.0302 - val_accuracy: 0.9780\n",
      "Epoch 112/150\n",
      "7/7 [==============================] - 0s 4ms/step - loss: 0.0069 - accuracy: 0.9971 - val_loss: 0.0294 - val_accuracy: 0.9780\n",
      "Epoch 113/150\n",
      "7/7 [==============================] - 0s 5ms/step - loss: 0.0071 - accuracy: 0.9971 - val_loss: 0.0292 - val_accuracy: 0.9780\n",
      "Epoch 114/150\n",
      "7/7 [==============================] - 0s 4ms/step - loss: 0.0069 - accuracy: 0.9971 - val_loss: 0.0294 - val_accuracy: 0.9780\n",
      "Epoch 115/150\n",
      "7/7 [==============================] - 0s 4ms/step - loss: 0.0069 - accuracy: 0.9971 - val_loss: 0.0295 - val_accuracy: 0.9780\n",
      "Epoch 116/150\n",
      "7/7 [==============================] - 0s 4ms/step - loss: 0.0066 - accuracy: 0.9971 - val_loss: 0.0294 - val_accuracy: 0.9780\n",
      "Epoch 117/150\n",
      "7/7 [==============================] - 0s 5ms/step - loss: 0.0066 - accuracy: 0.9971 - val_loss: 0.0290 - val_accuracy: 0.9780\n",
      "Epoch 118/150\n",
      "7/7 [==============================] - 0s 4ms/step - loss: 0.0066 - accuracy: 0.9971 - val_loss: 0.0283 - val_accuracy: 0.9780\n",
      "Epoch 119/150\n",
      "7/7 [==============================] - 0s 5ms/step - loss: 0.0065 - accuracy: 0.9971 - val_loss: 0.0282 - val_accuracy: 0.9780\n",
      "Epoch 120/150\n",
      "7/7 [==============================] - 0s 5ms/step - loss: 0.0063 - accuracy: 0.9971 - val_loss: 0.0282 - val_accuracy: 0.9780\n",
      "Epoch 121/150\n",
      "7/7 [==============================] - 0s 4ms/step - loss: 0.0062 - accuracy: 0.9971 - val_loss: 0.0283 - val_accuracy: 0.9780\n",
      "Epoch 122/150\n",
      "7/7 [==============================] - 0s 4ms/step - loss: 0.0062 - accuracy: 0.9971 - val_loss: 0.0280 - val_accuracy: 0.9780\n",
      "Epoch 123/150\n",
      "7/7 [==============================] - 0s 4ms/step - loss: 0.0061 - accuracy: 0.9971 - val_loss: 0.0280 - val_accuracy: 0.9780\n",
      "Epoch 124/150\n",
      "7/7 [==============================] - 0s 4ms/step - loss: 0.0060 - accuracy: 0.9971 - val_loss: 0.0264 - val_accuracy: 0.9780\n",
      "Epoch 125/150\n",
      "7/7 [==============================] - 0s 6ms/step - loss: 0.0057 - accuracy: 0.9971 - val_loss: 0.0260 - val_accuracy: 0.9780\n",
      "Epoch 126/150\n",
      "7/7 [==============================] - 0s 4ms/step - loss: 0.0058 - accuracy: 0.9971 - val_loss: 0.0255 - val_accuracy: 0.9780\n",
      "Epoch 127/150\n",
      "7/7 [==============================] - 0s 4ms/step - loss: 0.0057 - accuracy: 0.9971 - val_loss: 0.0253 - val_accuracy: 0.9780\n",
      "Epoch 128/150\n",
      "7/7 [==============================] - 0s 4ms/step - loss: 0.0055 - accuracy: 0.9971 - val_loss: 0.0253 - val_accuracy: 0.9780\n",
      "Epoch 129/150\n",
      "7/7 [==============================] - 0s 4ms/step - loss: 0.0055 - accuracy: 0.9971 - val_loss: 0.0254 - val_accuracy: 0.9780\n",
      "Epoch 130/150\n",
      "7/7 [==============================] - 0s 5ms/step - loss: 0.0054 - accuracy: 0.9971 - val_loss: 0.0250 - val_accuracy: 0.9780\n",
      "Epoch 131/150\n",
      "7/7 [==============================] - 0s 5ms/step - loss: 0.0053 - accuracy: 0.9971 - val_loss: 0.0250 - val_accuracy: 0.9780\n",
      "Epoch 132/150\n",
      "7/7 [==============================] - 0s 5ms/step - loss: 0.0052 - accuracy: 0.9971 - val_loss: 0.0249 - val_accuracy: 0.9780\n",
      "Epoch 133/150\n",
      "7/7 [==============================] - 0s 4ms/step - loss: 0.0050 - accuracy: 0.9971 - val_loss: 0.0241 - val_accuracy: 0.9780\n",
      "Epoch 134/150\n",
      "7/7 [==============================] - 0s 4ms/step - loss: 0.0050 - accuracy: 0.9971 - val_loss: 0.0230 - val_accuracy: 0.9780\n",
      "Epoch 135/150\n",
      "7/7 [==============================] - 0s 4ms/step - loss: 0.0047 - accuracy: 0.9971 - val_loss: 0.0226 - val_accuracy: 0.9780\n",
      "Epoch 136/150\n",
      "7/7 [==============================] - 0s 4ms/step - loss: 0.0047 - accuracy: 0.9971 - val_loss: 0.0223 - val_accuracy: 0.9780\n",
      "Epoch 137/150\n",
      "7/7 [==============================] - 0s 4ms/step - loss: 0.0045 - accuracy: 0.9971 - val_loss: 0.0217 - val_accuracy: 0.9780\n",
      "Epoch 138/150\n",
      "7/7 [==============================] - 0s 4ms/step - loss: 0.0044 - accuracy: 0.9971 - val_loss: 0.0209 - val_accuracy: 0.9780\n",
      "Epoch 139/150\n",
      "7/7 [==============================] - 0s 4ms/step - loss: 0.0043 - accuracy: 0.9971 - val_loss: 0.0201 - val_accuracy: 0.9890\n",
      "Epoch 140/150\n",
      "7/7 [==============================] - 0s 5ms/step - loss: 0.0041 - accuracy: 0.9971 - val_loss: 0.0196 - val_accuracy: 0.9890\n",
      "Epoch 141/150\n",
      "7/7 [==============================] - 0s 4ms/step - loss: 0.0041 - accuracy: 0.9971 - val_loss: 0.0186 - val_accuracy: 0.9890\n",
      "Epoch 142/150\n",
      "7/7 [==============================] - 0s 5ms/step - loss: 0.0040 - accuracy: 0.9971 - val_loss: 0.0178 - val_accuracy: 1.0000\n",
      "Epoch 143/150\n",
      "7/7 [==============================] - 0s 4ms/step - loss: 0.0039 - accuracy: 0.9971 - val_loss: 0.0175 - val_accuracy: 1.0000\n",
      "Epoch 144/150\n",
      "7/7 [==============================] - 0s 4ms/step - loss: 0.0037 - accuracy: 0.9971 - val_loss: 0.0171 - val_accuracy: 1.0000\n",
      "Epoch 145/150\n",
      "7/7 [==============================] - 0s 5ms/step - loss: 0.0038 - accuracy: 0.9971 - val_loss: 0.0171 - val_accuracy: 1.0000\n",
      "Epoch 146/150\n",
      "7/7 [==============================] - 0s 4ms/step - loss: 0.0037 - accuracy: 0.9971 - val_loss: 0.0164 - val_accuracy: 1.0000\n",
      "Epoch 147/150\n",
      "7/7 [==============================] - 0s 5ms/step - loss: 0.0036 - accuracy: 0.9971 - val_loss: 0.0163 - val_accuracy: 1.0000\n",
      "Epoch 148/150\n",
      "7/7 [==============================] - 0s 4ms/step - loss: 0.0035 - accuracy: 0.9971 - val_loss: 0.0157 - val_accuracy: 1.0000\n",
      "Epoch 149/150\n",
      "7/7 [==============================] - 0s 5ms/step - loss: 0.0034 - accuracy: 1.0000 - val_loss: 0.0154 - val_accuracy: 1.0000\n",
      "Epoch 150/150\n",
      "7/7 [==============================] - 0s 4ms/step - loss: 0.0033 - accuracy: 1.0000 - val_loss: 0.0152 - val_accuracy: 1.0000\n"
     ]
    }
   ],
   "source": [
    "hist = model.fit(train_dataset, epochs=N_EPOCHS, validation_data=val_dataset)"
   ]
  },
  {
   "cell_type": "markdown",
   "metadata": {
    "id": "Uwspzg46dQCJ"
   },
   "source": [
    "#### 결과 시각화"
   ]
  },
  {
   "cell_type": "code",
   "execution_count": 102,
   "metadata": {
    "ExecuteTime": {
     "end_time": "2021-11-03T00:58:56.334708Z",
     "start_time": "2021-11-03T00:58:56.043653Z"
    },
    "colab": {
     "base_uri": "https://localhost:8080/",
     "height": 409
    },
    "id": "U_FIrlZcdQCK",
    "outputId": "8a92b36a-237e-4805-feb1-03fa551f77f0",
    "scrolled": true
   },
   "outputs": [
    {
     "data": {
      "image/png": "[encoded data removed]",
      "text/plain": [
       "<Figure size 504x432 with 1 Axes>"
      ]
     },
     "metadata": {
      "needs_background": "light"
     },
     "output_type": "display_data"
    }
   ],
   "source": [
    "import matplotlib.pyplot as plt\n",
    "\n",
    "plt.figure(figsize=(7,6))\n",
    "plt.plot(range(1, N_EPOCHS+1), hist.history['loss'], label='Train Loss')\n",
    "plt.plot(range(1, N_EPOCHS+1), hist.history['val_loss'], label='Validation Loss')\n",
    "plt.title('Loss', fontsize=20)\n",
    "plt.xlabel('Epochs')\n",
    "plt.ylabel('Loss')\n",
    "plt.legend()\n",
    "plt.show()"
   ]
  },
  {
   "cell_type": "code",
   "execution_count": 103,
   "metadata": {
    "ExecuteTime": {
     "end_time": "2021-11-03T00:59:03.092059Z",
     "start_time": "2021-11-03T00:59:02.953881Z"
    },
    "colab": {
     "base_uri": "https://localhost:8080/",
     "height": 409
    },
    "id": "OnncHOi3dQCK",
    "outputId": "398e6667-522b-4344-c58d-cf261d5c1e8a",
    "scrolled": true
   },
   "outputs": [
    {
     "data": {
      "image/png": "[encoded data removed]",
      "text/plain": [
       "<Figure size 504x432 with 1 Axes>"
      ]
     },
     "metadata": {
      "needs_background": "light"
     },
     "output_type": "display_data"
    }
   ],
   "source": [
    "plt.figure(figsize=(7,6))\n",
    "plt.plot(range(1, N_EPOCHS+1), hist.history['accuracy'], label='Train Accuracy')\n",
    "plt.plot(range(1, N_EPOCHS+1), hist.history['val_accuracy'], label='Validation Accuracy')\n",
    "plt.title('Accuracy', fontsize=20)\n",
    "plt.xlabel('Epochs')\n",
    "plt.ylabel('Accuracy')\n",
    "plt.legend()\n",
    "plt.show()"
   ]
  },
  {
   "cell_type": "markdown",
   "metadata": {
    "id": "KwoA3w5-dQCL"
   },
   "source": [
    "#### 최종평가"
   ]
  },
  {
   "cell_type": "code",
   "execution_count": 104,
   "metadata": {
    "ExecuteTime": {
     "end_time": "2021-11-03T00:59:14.751255Z",
     "start_time": "2021-11-03T00:59:14.715247Z"
    },
    "colab": {
     "base_uri": "https://localhost:8080/"
    },
    "id": "HyE9aWIIdQCN",
    "outputId": "ee574162-75ab-4cca-d4fa-b61972695e85"
   },
   "outputs": [
    {
     "name": "stdout",
     "output_type": "stream",
     "text": [
      "3/3 [==============================] - 0s 5ms/step - loss: 0.1948 - accuracy: 0.9561\n"
     ]
    }
   ],
   "source": [
    "loss, acc = model.evaluate(test_dataset)"
   ]
  },
  {
   "cell_type": "code",
   "execution_count": 105,
   "metadata": {
    "ExecuteTime": {
     "end_time": "2021-11-03T00:59:16.738914Z",
     "start_time": "2021-11-03T00:59:16.732879Z"
    },
    "colab": {
     "base_uri": "https://localhost:8080/"
    },
    "id": "GP4zLeZZdQCP",
    "outputId": "83263e32-adc9-46a3-ed13-e5d2d06fa367"
   },
   "outputs": [
    {
     "name": "stdout",
     "output_type": "stream",
     "text": [
      "0.1947760283946991 0.9561403393745422\n"
     ]
    }
   ],
   "source": [
    "print(loss, acc)"
   ]
  },
  {
   "cell_type": "markdown",
   "metadata": {
    "id": "14jsl2K3dQCQ"
   },
   "source": [
    "#### 새로운 데이터 추론"
   ]
  },
  {
   "cell_type": "code",
   "execution_count": 106,
   "metadata": {
    "ExecuteTime": {
     "end_time": "2021-11-03T00:59:19.086745Z",
     "start_time": "2021-11-03T00:59:19.083739Z"
    },
    "id": "gihEKTDOdQCR"
   },
   "outputs": [],
   "source": [
    "new_data = X_test[:5]\n",
    "new_data_scaled = scaler.transform(new_data)"
   ]
  },
  {
   "cell_type": "code",
   "execution_count": 107,
   "metadata": {
    "ExecuteTime": {
     "end_time": "2021-11-03T00:59:20.263087Z",
     "start_time": "2021-11-03T00:59:20.179596Z"
    },
    "id": "vW8aVCumdQCS"
   },
   "outputs": [],
   "source": [
    "pred = model.predict(new_data_scaled)"
   ]
  },
  {
   "cell_type": "code",
   "execution_count": 111,
   "metadata": {
    "ExecuteTime": {
     "end_time": "2021-11-03T00:59:21.138066Z",
     "start_time": "2021-11-03T00:59:21.123054Z"
    },
    "colab": {
     "base_uri": "https://localhost:8080/"
    },
    "id": "8IgqGXgadQCT",
    "outputId": "7e139728-baec-4dfe-eb70-bd19db7d1aa7"
   },
   "outputs": [
    {
     "data": {
      "text/plain": [
       "(array([[7.2469488e-09],\n",
       "        [3.2674623e-37],\n",
       "        [2.5802235e-11],\n",
       "        [9.9995828e-01],\n",
       "        [1.1272362e-10]], dtype=float32), (5, 1))"
      ]
     },
     "execution_count": 111,
     "metadata": {},
     "output_type": "execute_result"
    }
   ],
   "source": [
    "pred, pred.shape"
   ]
  },
  {
   "cell_type": "code",
   "execution_count": 109,
   "metadata": {
    "ExecuteTime": {
     "end_time": "2021-11-03T00:59:26.647416Z",
     "start_time": "2021-11-03T00:59:26.635411Z"
    },
    "colab": {
     "base_uri": "https://localhost:8080/"
    },
    "id": "riGqUK_BdQCT",
    "outputId": "29e90403-3f88-4dd9-cb94-da61542e223c"
   },
   "outputs": [
    {
     "data": {
      "text/plain": [
       "array([[0],\n",
       "       [0],\n",
       "       [0],\n",
       "       [1],\n",
       "       [0]], dtype=int8)"
      ]
     },
     "execution_count": 109,
     "metadata": {},
     "output_type": "execute_result"
    }
   ],
   "source": [
    "result = (pred > 0.5).astype(np.int8)\n",
    "result"
   ]
  },
  {
   "cell_type": "code",
   "execution_count": 110,
   "metadata": {
    "ExecuteTime": {
     "end_time": "2021-11-03T00:59:31.142907Z",
     "start_time": "2021-11-03T00:59:31.130884Z"
    },
    "colab": {
     "base_uri": "https://localhost:8080/"
    },
    "id": "eK570to8dQCU",
    "outputId": "d8a1c6d0-b9e6-4a12-d592-67b98518511d"
   },
   "outputs": [
    {
     "data": {
      "text/plain": [
       "array([['악성'],\n",
       "       ['악성'],\n",
       "       ['악성'],\n",
       "       ['양성'],\n",
       "       ['악성']], dtype='<U2')"
      ]
     },
     "execution_count": 110,
     "metadata": {},
     "output_type": "execute_result"
    }
   ],
   "source": [
    "result_label = np.where(pred>=0.5, \"양성\", \"악성\")\n",
    "result_label"
   ]
  },
  {
   "cell_type": "markdown",
   "metadata": {
    "id": "Tz5AZppndQCU"
   },
   "source": [
    "# Tensorflow 2.3이하 버전에서 Train dataset 구성 및 학습 \n",
    "- 위의 코드들은 2.4 이후 버전\n",
    "- 2.3 이하버전에서는 \n",
    "    1. train_dataset 구성시 **repeat()**를 추가\n",
    "    2. 학습시에 train/validation 1 epoch당 step 횟수를 추가\n",
    "        - steps_per_epoch: train set 에 대한 step 횟수\n",
    "        - validation_steps: validation set 에 대한 step 횟수"
   ]
  },
  {
   "cell_type": "code",
   "execution_count": null,
   "metadata": {
    "ExecuteTime": {
     "end_time": "2021-11-03T01:02:04.237421Z",
     "start_time": "2021-11-03T01:02:04.214435Z"
    },
    "id": "v3NXCT7zdQCV"
   },
   "outputs": [],
   "source": [
    "train_dataset2 = tf.data.Dataset.from_tensor_slices((X_train_scaled, y_train)).shuffle(N_TRAIN).batch(N_BATCHS, drop_remainder=True).repeat()\n",
    "\n",
    "val_dataset2 = tf.data.Dataset.from_tensor_slices((X_val_scaled, y_val)).batch(N_BATCHS)\n",
    "test_dataset2 = tf.data.Dataset.from_tensor_slices((X_test_scaled, y_test)).batch(N_BATCHS)"
   ]
  },
  {
   "cell_type": "code",
   "execution_count": null,
   "metadata": {
    "ExecuteTime": {
     "end_time": "2021-11-03T01:03:43.772869Z",
     "start_time": "2021-11-03T01:03:43.765843Z"
    },
    "id": "sjkCKMCAdQCV"
   },
   "outputs": [],
   "source": [
    "steps_per_epoch = len(train_dataset)\n",
    "validation_steps = len(val_dataset)\n",
    "print(steps_per_epoch, validation_steps)"
   ]
  },
  {
   "cell_type": "code",
   "execution_count": null,
   "metadata": {
    "ExecuteTime": {
     "end_time": "2021-11-03T01:03:44.457988Z",
     "start_time": "2021-11-03T01:03:44.410963Z"
    },
    "id": "I9O7Xm6zdQCV"
   },
   "outputs": [],
   "source": [
    "model = create_wisconsin_model()\n",
    "model.compile(optimizer=keras.optimizers.Adam(learning_rate=LEARNING_RATE), \n",
    "              loss='binary_crossentropy',\n",
    "              metrics=['accuracy'])"
   ]
  },
  {
   "cell_type": "code",
   "execution_count": null,
   "metadata": {
    "ExecuteTime": {
     "end_time": "2021-11-03T01:03:51.545411Z",
     "start_time": "2021-11-03T01:03:50.882537Z"
    },
    "id": "TvYkkBSGdQCW",
    "scrolled": true
   },
   "outputs": [],
   "source": [
    "model.fit(train_dataset2, \n",
    "          steps_per_epoch=steps_per_epoch, # train set: 1epoch당 step수\n",
    "          validation_data=val_dataset2, \n",
    "          validation_steps=validation_steps, # val set: 1epoch당 step수\n",
    "          epochs=10)"
   ]
  }
 ],
 "metadata": {
  "accelerator": "GPU",
  "colab": {
   "collapsed_sections": [],
   "include_colab_link": true,
   "name": "04_tfdata 파이프라인_분류 회귀 실습.ipynb",
   "provenance": []
  },
  "kernelspec": {
   "display_name": "Python 3 (ipykernel)",
   "language": "python",
   "name": "python3"
  },
  "language_info": {
   "codemirror_mode": {
    "name": "ipython",
    "version": 3
   },
   "file_extension": ".py",
   "mimetype": "text/x-python",
   "name": "python",
   "nbconvert_exporter": "python",
   "pygments_lexer": "ipython3",
   "version": "3.9.5"
  },
  "toc": {
   "base_numbering": 1,
   "nav_menu": {},
   "number_sections": false,
   "sideBar": true,
   "skip_h1_title": false,
   "title_cell": "Table of Contents",
   "title_sidebar": "Contents",
   "toc_cell": false,
   "toc_position": {},
   "toc_section_display": true,
   "toc_window_display": false
  },
  "varInspector": {
   "cols": {
    "lenName": 16,
    "lenType": 16,
    "lenVar": 40
   },
   "kernels_config": {
    "python": {
     "delete_cmd_postfix": "",
     "delete_cmd_prefix": "del ",
     "library": "var_list.py",
     "varRefreshCmd": "print(var_dic_list())"
    },
    "r": {
     "delete_cmd_postfix": ") ",
     "delete_cmd_prefix": "rm(",
     "library": "var_list.r",
     "varRefreshCmd": "cat(var_dic_list()) "
    }
   },
   "types_to_exclude": [
    "module",
    "function",
    "builtin_function_or_method",
    "instance",
    "_Feature"
   ],
   "window_display": false
  }
 },
 "nbformat": 4,
 "nbformat_minor": 1
}
