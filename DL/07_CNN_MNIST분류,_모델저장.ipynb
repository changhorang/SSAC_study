{
  "nbformat": 4,
  "nbformat_minor": 0,
  "metadata": {
    "accelerator": "GPU",
    "colab": {
      "name": "07_CNN_MNIST분류, 모델저장.ipynb",
      "provenance": [],
      "collapsed_sections": [
        "2ARCyjDW66NR"
      ],
      "include_colab_link": true
    },
    "kernelspec": {
      "display_name": "Python 3 (ipykernel)",
      "language": "python",
      "name": "python3"
    },
    "language_info": {
      "codemirror_mode": {
        "name": "ipython",
        "version": 3
      },
      "file_extension": ".py",
      "mimetype": "text/x-python",
      "name": "python",
      "nbconvert_exporter": "python",
      "pygments_lexer": "ipython3",
      "version": "3.8.12"
    },
    "toc": {
      "base_numbering": 1,
      "nav_menu": {},
      "number_sections": true,
      "sideBar": true,
      "skip_h1_title": false,
      "title_cell": "Table of Contents",
      "title_sidebar": "Contents",
      "toc_cell": false,
      "toc_position": {},
      "toc_section_display": true,
      "toc_window_display": false
    },
    "varInspector": {
      "cols": {
        "lenName": 16,
        "lenType": 16,
        "lenVar": 40
      },
      "kernels_config": {
        "python": {
          "delete_cmd_postfix": "",
          "delete_cmd_prefix": "del ",
          "library": "var_list.py",
          "varRefreshCmd": "print(var_dic_list())"
        },
        "r": {
          "delete_cmd_postfix": ") ",
          "delete_cmd_prefix": "rm(",
          "library": "var_list.r",
          "varRefreshCmd": "cat(var_dic_list()) "
        }
      },
      "types_to_exclude": [
        "module",
        "function",
        "builtin_function_or_method",
        "instance",
        "_Feature"
      ],
      "window_display": false
    }
  },
  "cells": [
    {
      "cell_type": "markdown",
      "metadata": {
        "id": "view-in-github",
        "colab_type": "text"
      },
      "source": [
        "<a href=\"https://colab.research.google.com/github/changhorang/SSAC_study/blob/main/DL/07_CNN_MNIST%EB%B6%84%EB%A5%98%2C_%EB%AA%A8%EB%8D%B8%EC%A0%80%EC%9E%A5.ipynb\" target=\"_parent\"><img src=\"https://colab.research.google.com/assets/colab-badge.svg\" alt=\"Open In Colab\"/></a>"
      ]
    },
    {
      "cell_type": "markdown",
      "metadata": {
        "id": "n1-HdRR266M6"
      },
      "source": [
        "# Convolutional Neural Network 구현\n",
        "\n",
        "- MNIST 손글씨 data를 이용하여 CNN을 학습하고 MLP와 결과와 비교 해본다."
      ]
    },
    {
      "cell_type": "markdown",
      "metadata": {
        "id": "Ajauq9hxvd9y"
      },
      "source": [
        "##### 학습결과 시각화 함수 정의"
      ]
    },
    {
      "cell_type": "code",
      "metadata": {
        "colab": {
          "base_uri": "https://localhost:8080/"
        },
        "id": "0UYE9mAxz1jO",
        "outputId": "4a03fe22-e092-466f-96d0-0da4e0187618"
      },
      "source": [
        "!nvidia-smi"
      ],
      "execution_count": null,
      "outputs": [
        {
          "output_type": "stream",
          "name": "stdout",
          "text": [
            "Mon Dec  6 08:02:00 2021       \n",
            "+-----------------------------------------------------------------------------+\n",
            "| NVIDIA-SMI 495.44       Driver Version: 460.32.03    CUDA Version: 11.2     |\n",
            "|-------------------------------+----------------------+----------------------+\n",
            "| GPU  Name        Persistence-M| Bus-Id        Disp.A | Volatile Uncorr. ECC |\n",
            "| Fan  Temp  Perf  Pwr:Usage/Cap|         Memory-Usage | GPU-Util  Compute M. |\n",
            "|                               |                      |               MIG M. |\n",
            "|===============================+======================+======================|\n",
            "|   0  Tesla K80           Off  | 00000000:00:04.0 Off |                    0 |\n",
            "| N/A   51C    P8    33W / 149W |      0MiB / 11441MiB |      0%      Default |\n",
            "|                               |                      |                  N/A |\n",
            "+-------------------------------+----------------------+----------------------+\n",
            "                                                                               \n",
            "+-----------------------------------------------------------------------------+\n",
            "| Processes:                                                                  |\n",
            "|  GPU   GI   CI        PID   Type   Process name                  GPU Memory |\n",
            "|        ID   ID                                                   Usage      |\n",
            "|=============================================================================|\n",
            "|  No running processes found                                                 |\n",
            "+-----------------------------------------------------------------------------+\n"
          ]
        }
      ]
    },
    {
      "cell_type": "code",
      "metadata": {
        "ExecuteTime": {
          "end_time": "2021-11-05T01:51:07.359080Z",
          "start_time": "2021-11-05T01:51:06.988477Z"
        },
        "id": "6eRfpyes66NC"
      },
      "source": [
        "import matplotlib.pyplot as plt\n",
        "\n",
        "# loss 그래프\n",
        "def plot_loss(history):\n",
        "    plt.plot(history.history['loss'], label='Train loss')\n",
        "    plt.plot(history.history['val_loss'], label='Validation loss')\n",
        "    plt.title('Loss')\n",
        "    plt.xlabel('epoch')\n",
        "    plt.ylabel('loss')\n",
        "    plt.legend()\n",
        "    plt.show()"
      ],
      "execution_count": 1,
      "outputs": []
    },
    {
      "cell_type": "code",
      "metadata": {
        "ExecuteTime": {
          "end_time": "2021-11-05T01:51:07.375106Z",
          "start_time": "2021-11-05T01:51:07.360114Z"
        },
        "id": "Qb5naeVi66ND"
      },
      "source": [
        "# accuracy 그래프\n",
        "def plot_accuracy(history):\n",
        "    plt.plot(history.history['accuracy'], label='Train accuracy')\n",
        "    plt.plot(history.history['val_accuracy'], label='Validation accuracy')\n",
        "    plt.title('Accuracy')\n",
        "    plt.xlabel('epoch')\n",
        "    plt.ylabel('accuracy')\n",
        "    plt.legend()\n",
        "    plt.show()"
      ],
      "execution_count": 2,
      "outputs": []
    },
    {
      "cell_type": "markdown",
      "metadata": {
        "id": "7nqRM-ZYvd94"
      },
      "source": [
        "# MNIST CNN 적용"
      ]
    },
    {
      "cell_type": "code",
      "metadata": {
        "ExecuteTime": {
          "end_time": "2021-11-05T01:51:10.884077Z",
          "start_time": "2021-11-05T01:51:08.546886Z"
        },
        "colab": {
          "base_uri": "https://localhost:8080/"
        },
        "id": "LcNnf6Ey66NE",
        "outputId": "4bce2000-3d03-489b-8563-365ab72a8fdc"
      },
      "source": [
        "import os\n",
        "import numpy as np\n",
        "\n",
        "import tensorflow as tf\n",
        "from tensorflow import keras\n",
        "from tensorflow.keras import layers\n",
        "\n",
        "print(tf.__version__)\n",
        "print(keras.__version__)"
      ],
      "execution_count": 4,
      "outputs": [
        {
          "output_type": "stream",
          "name": "stdout",
          "text": [
            "2.7.0\n",
            "2.7.0\n"
          ]
        }
      ]
    },
    {
      "cell_type": "code",
      "metadata": {
        "ExecuteTime": {
          "end_time": "2021-11-05T01:51:10.894074Z",
          "start_time": "2021-11-05T01:51:10.886077Z"
        },
        "id": "6MaESnzB66NF"
      },
      "source": [
        "np.random.seed(0)\n",
        "tf.random.set_seed(0)"
      ],
      "execution_count": 5,
      "outputs": []
    },
    {
      "cell_type": "markdown",
      "metadata": {
        "id": "0-BeYV6Jvd99"
      },
      "source": [
        "##### data loading"
      ]
    },
    {
      "cell_type": "code",
      "metadata": {
        "ExecuteTime": {
          "end_time": "2021-11-05T01:51:12.064601Z",
          "start_time": "2021-11-05T01:51:11.810927Z"
        },
        "colab": {
          "base_uri": "https://localhost:8080/"
        },
        "id": "bnUA8ThZvd9_",
        "outputId": "94e0a843-57eb-4ee3-b8ab-1b628d072142"
      },
      "source": [
        "(train_image, train_label), (test_image, test_label) = keras.datasets.mnist.load_data()\n",
        "train_image.shape, test_image.shape\n",
        "# (60000, 28, 28) - (개수, height, width) => channel 축이 없으므로 늘릴 것!"
      ],
      "execution_count": 6,
      "outputs": [
        {
          "output_type": "stream",
          "name": "stdout",
          "text": [
            "Downloading data from https://storage.googleapis.com/tensorflow/tf-keras-datasets/mnist.npz\n",
            "11493376/11490434 [==============================] - 0s 0us/step\n",
            "11501568/11490434 [==============================] - 0s 0us/step\n"
          ]
        },
        {
          "output_type": "execute_result",
          "data": {
            "text/plain": [
              "((60000, 28, 28), (10000, 28, 28))"
            ]
          },
          "metadata": {},
          "execution_count": 6
        }
      ]
    },
    {
      "cell_type": "markdown",
      "metadata": {
        "id": "Jn_X_HsSvd-B"
      },
      "source": [
        "##### 하이퍼파라미터, 변수 설정"
      ]
    },
    {
      "cell_type": "code",
      "metadata": {
        "ExecuteTime": {
          "end_time": "2021-11-05T01:51:12.922956Z",
          "start_time": "2021-11-05T01:51:12.905933Z"
        },
        "id": "DUMcV93l66NG"
      },
      "source": [
        "LEARNING_RATE = 0.001\n",
        "N_EPOCHS = 20\n",
        "N_BATCHS = 100\n",
        "\n",
        "N_TRAIN = train_image.shape[0]\n",
        "N_TEST = test_image.shape[0]"
      ],
      "execution_count": 7,
      "outputs": []
    },
    {
      "cell_type": "markdown",
      "metadata": {
        "id": "nm0RJK1Fvd-E"
      },
      "source": [
        "##### 전처리, Dataset 생성\n",
        "- X: 0 ~ 1 scaling\n",
        "    - gray scale 일 경우 channel 축을 늘려줘야 한다. (h, w, 1)\n",
        "- Y: onehot encoding"
      ]
    },
    {
      "cell_type": "code",
      "metadata": {
        "ExecuteTime": {
          "end_time": "2021-11-05T01:51:14.114053Z",
          "start_time": "2021-11-05T01:51:13.857638Z"
        },
        "colab": {
          "base_uri": "https://localhost:8080/"
        },
        "id": "T7jPHxAhvd-F",
        "outputId": "a09ccbea-d4a9-4f50-8286-ea338fbc1b56"
      },
      "source": [
        "# X: 0 ~ 1 scaling\n",
        "X_train_tmp = (train_image/255.0).astype(np.float32)\n",
        "X_test_tmp = (test_image/255.0).astype(np.float32)\n",
        "\n",
        "# channel 축을 추가\n",
        "# ...: 원래 shape, np.newaxis는 크기가 1인 axis 추가\n",
        "X_train = X_train_tmp[..., np.newaxis] # (60000, 28, 28, 1)\n",
        "X_test = X_test_tmp[..., np.newaxis]\n",
        "X_train.shape, X_test.shape"
      ],
      "execution_count": 8,
      "outputs": [
        {
          "output_type": "execute_result",
          "data": {
            "text/plain": [
              "((60000, 28, 28, 1), (10000, 28, 28, 1))"
            ]
          },
          "metadata": {},
          "execution_count": 8
        }
      ]
    },
    {
      "cell_type": "code",
      "metadata": {
        "ExecuteTime": {
          "end_time": "2021-11-05T01:51:14.254296Z",
          "start_time": "2021-11-05T01:51:14.234264Z"
        },
        "id": "iOQ7nSdE66NI"
      },
      "source": [
        "# y: onehot-encoding\n",
        "y_train = keras.utils.to_categorical(train_label)\n",
        "y_test = keras.utils.to_categorical(test_label)"
      ],
      "execution_count": 9,
      "outputs": []
    },
    {
      "cell_type": "markdown",
      "metadata": {
        "ExecuteTime": {
          "end_time": "2021-04-22T04:45:59.913389Z",
          "start_time": "2021-04-22T04:45:59.848393Z"
        },
        "id": "gCrtqoUC66NJ"
      },
      "source": [
        "###### Dataset 생성"
      ]
    },
    {
      "cell_type": "code",
      "metadata": {
        "ExecuteTime": {
          "end_time": "2021-11-05T01:51:16.901483Z",
          "start_time": "2021-11-05T01:51:15.147591Z"
        },
        "id": "28fJUQG2vd-H"
      },
      "source": [
        "train_dataset = tf.data.Dataset.from_tensor_slices((X_train, y_train)).shuffle(N_TRAIN).batch(N_BATCHS, drop_remainder=True)\n",
        "\n",
        "test_dataset = tf.data.Dataset.from_tensor_slices((X_test, y_test)).batch(N_BATCHS)"
      ],
      "execution_count": 10,
      "outputs": []
    },
    {
      "cell_type": "markdown",
      "metadata": {
        "id": "-qoEYdejvd-I"
      },
      "source": [
        "## Model(Network) 정의\n",
        "- Feature Extraction(backbone):Convolution Layer\n",
        "    - block: Convolution + MaxPooling Layer\n",
        "    - size(height, width) 는 줄이고 channel은 늘리는 방향으로 Layer들을 쌓는다.\n",
        "    - convolution\n",
        "        - size: 3 X 3\n",
        "        - strides: 1\n",
        "    - max pooling\n",
        "        - size: 2 X 2\n",
        "        - strides: 2\n",
        "- 분류기\n",
        "    - Dense Layer 사용        \n",
        "    - Flatten을 먼저 해야 한다. (Conv의 output-feature map- 3차원 배열)\n"
      ]
    },
    {
      "cell_type": "code",
      "metadata": {
        "ExecuteTime": {
          "end_time": "2021-11-05T01:51:20.648669Z",
          "start_time": "2021-11-05T01:51:20.626669Z"
        },
        "id": "L_yg9ijU66NJ"
      },
      "source": [
        "def create_mnist_model():\n",
        "    model = keras.Sequential()\n",
        "\n",
        "    model.add(layers.InputLayer((28, 28, 1))) # Conv2D의 input은 3차원 (h, w, c)\n",
        "\n",
        "    model.add(layers.Conv2D(filters=32,         # filter의 개수\n",
        "                            kernel_size=(3,3),  # filter size (h, w)\n",
        "                            padding='same',     # input과 output(feature map) size가 동일하도록 zero-padding 추가 [default:'valid']\n",
        "                            strides=(1,1),      # conv 연산시 이동 보폭 (좌우, 상하) [default=1]\n",
        "                            activation='relu'   # conv연산 결과를 넣어줄 활성함수\n",
        "                            ))\n",
        "    \n",
        "    model.add(layers.MaxPool2D(pool_size=(2,2), # (2, 2) 영역에서 가장 큰 값 하나를 추출 [default: (2, 2)]\n",
        "                               strides=(2,2),   # 이동 보폭. [default:none] / pool_size의 설정과 동일한 크기\n",
        "                               padding='same')) # [default: valid] / 나머지 짜투리 영역은 버림\n",
        "                                                # same - 짜투리 영역에서도 가장 큰 값을 추출\n",
        "\n",
        "    model.add(layers.Conv2D(filters=64,         # 필터 개수는 늘리기\n",
        "                            kernel_size=3,      # (h, w) - h, w 크기가 같은 경우, 값 하나만 지정\n",
        "                            padding='same',\n",
        "                            activation='relu'\n",
        "                            ))\n",
        "    \n",
        "    model.add(layers.MaxPool2D(padding='same')) # pool_size/stride는 default((2, 2), None) 사용\n",
        "                                                # padding - default : valid\n",
        "\n",
        "    model.add(layers.Conv2D(filters=128, kernel_size=3, padding='same', activation='relu'))\n",
        "    model.add(layers.MaxPool2D(padding='same'))\n",
        "\n",
        "    # 출력 feature map 하나의 shape => 3차원 (h, w, c)\n",
        "    model.add(layers.Flatten()) # 3차원 => 1차원\n",
        "    # Dense layer의 입력의 shape -> 1차원\n",
        "    # Hidden layer 추가\n",
        "    model.add(layers.Dense(units=256, activation='relu'))\n",
        "\n",
        "    # soft max를 통해 각 라벨에 해당하는 확률 구함\n",
        "    model.add(layers.Dense(units=10, activation='softmax'))\n",
        "\n",
        "    return model"
      ],
      "execution_count": 11,
      "outputs": []
    },
    {
      "cell_type": "markdown",
      "metadata": {
        "id": "fLrmzNCkvd-M"
      },
      "source": [
        "##### 컴파일"
      ]
    },
    {
      "cell_type": "code",
      "metadata": {
        "ExecuteTime": {
          "end_time": "2021-11-05T01:51:23.279900Z",
          "start_time": "2021-11-05T01:51:23.194803Z"
        },
        "id": "G7xN6_gSvd-W"
      },
      "source": [
        "model = create_mnist_model()\n",
        "model.compile(optimizer=keras.optimizers.Adam(learning_rate=LEARNING_RATE), \n",
        "              loss='categorical_crossentropy', \n",
        "              metrics=['accuracy'])"
      ],
      "execution_count": null,
      "outputs": []
    },
    {
      "cell_type": "code",
      "metadata": {
        "ExecuteTime": {
          "end_time": "2021-11-05T01:51:25.521666Z",
          "start_time": "2021-11-05T01:51:25.505959Z"
        },
        "colab": {
          "base_uri": "https://localhost:8080/"
        },
        "id": "Hpj7hSEwvd-Y",
        "outputId": "56ae3ec3-4db2-47f2-cd59-6b46c24981ad"
      },
      "source": [
        "model.summary()"
      ],
      "execution_count": null,
      "outputs": [
        {
          "output_type": "stream",
          "name": "stdout",
          "text": [
            "Model: \"sequential\"\n",
            "_________________________________________________________________\n",
            " Layer (type)                Output Shape              Param #   \n",
            "=================================================================\n",
            " conv2d (Conv2D)             (None, 28, 28, 32)        320       \n",
            "                                                                 \n",
            " max_pooling2d (MaxPooling2D  (None, 14, 14, 32)       0         \n",
            " )                                                               \n",
            "                                                                 \n",
            " conv2d_1 (Conv2D)           (None, 14, 14, 64)        18496     \n",
            "                                                                 \n",
            " max_pooling2d_1 (MaxPooling  (None, 7, 7, 64)         0         \n",
            " 2D)                                                             \n",
            "                                                                 \n",
            " conv2d_2 (Conv2D)           (None, 7, 7, 128)         73856     \n",
            "                                                                 \n",
            " max_pooling2d_2 (MaxPooling  (None, 4, 4, 128)        0         \n",
            " 2D)                                                             \n",
            "                                                                 \n",
            " flatten (Flatten)           (None, 2048)              0         \n",
            "                                                                 \n",
            " dense (Dense)               (None, 256)               524544    \n",
            "                                                                 \n",
            " dense_1 (Dense)             (None, 10)                2570      \n",
            "                                                                 \n",
            "=================================================================\n",
            "Total params: 619,786\n",
            "Trainable params: 619,786\n",
            "Non-trainable params: 0\n",
            "_________________________________________________________________\n"
          ]
        }
      ]
    },
    {
      "cell_type": "code",
      "metadata": {
        "colab": {
          "base_uri": "https://localhost:8080/"
        },
        "id": "ouMPFEQLce7d",
        "outputId": "da261979-f775-44ad-b74e-b857f816acce"
      },
      "source": [
        "# conv 파라미터 개수 계산\n",
        "# (filter_width*filter_height)*input_channel*filter개수 +  filter개수(bias)\n",
        "# 1번 conv\n",
        "print(3*3*1*32+32)\n",
        "# 2번 conv 파라미터\n",
        "print(3*3*32*64+64)"
      ],
      "execution_count": null,
      "outputs": [
        {
          "output_type": "stream",
          "name": "stdout",
          "text": [
            "320\n",
            "18496\n"
          ]
        }
      ]
    },
    {
      "cell_type": "code",
      "metadata": {
        "ExecuteTime": {
          "end_time": "2021-11-05T01:51:28.575990Z",
          "start_time": "2021-11-05T01:51:28.057742Z"
        },
        "colab": {
          "base_uri": "https://localhost:8080/",
          "height": 1000
        },
        "id": "P2uQ_63qvd-Z",
        "outputId": "c6a20b48-00bd-460f-8a31-83924c904bc3"
      },
      "source": [
        "keras.utils.plot_model(model, show_shapes=True)"
      ],
      "execution_count": null,
      "outputs": [
        {
          "output_type": "execute_result",
          "data": {
            "image/png": "[encoded data removed]",
            "text/plain": [
              "<IPython.core.display.Image object>"
            ]
          },
          "metadata": {},
          "execution_count": 15
        }
      ]
    },
    {
      "cell_type": "markdown",
      "metadata": {
        "id": "3MSzLaPSvd-Z"
      },
      "source": [
        "##### 학습"
      ]
    },
    {
      "cell_type": "code",
      "metadata": {
        "ExecuteTime": {
          "end_time": "2021-11-05T01:52:46.358218Z",
          "start_time": "2021-11-05T01:52:05.426326Z"
        },
        "colab": {
          "base_uri": "https://localhost:8080/"
        },
        "id": "cte0uN6W66NO",
        "scrolled": false,
        "outputId": "2ec38dfe-8478-4c2d-a22d-4cbab0599f7d"
      },
      "source": [
        "hist = model.fit(train_dataset, \n",
        "                 epochs=N_EPOCHS, \n",
        "                 validation_data=test_dataset)"
      ],
      "execution_count": null,
      "outputs": [
        {
          "output_type": "stream",
          "name": "stdout",
          "text": [
            "Epoch 1/20\n",
            "600/600 [==============================] - 21s 14ms/step - loss: 0.1623 - accuracy: 0.9499 - val_loss: 0.0414 - val_accuracy: 0.9854\n",
            "Epoch 2/20\n",
            "600/600 [==============================] - 8s 13ms/step - loss: 0.0457 - accuracy: 0.9860 - val_loss: 0.0341 - val_accuracy: 0.9886\n",
            "Epoch 3/20\n",
            "600/600 [==============================] - 8s 14ms/step - loss: 0.0308 - accuracy: 0.9904 - val_loss: 0.0322 - val_accuracy: 0.9892\n",
            "Epoch 4/20\n",
            "600/600 [==============================] - 8s 13ms/step - loss: 0.0236 - accuracy: 0.9924 - val_loss: 0.0257 - val_accuracy: 0.9915\n",
            "Epoch 5/20\n",
            "600/600 [==============================] - 8s 13ms/step - loss: 0.0189 - accuracy: 0.9938 - val_loss: 0.0320 - val_accuracy: 0.9905\n",
            "Epoch 6/20\n",
            "600/600 [==============================] - 8s 12ms/step - loss: 0.0161 - accuracy: 0.9948 - val_loss: 0.0192 - val_accuracy: 0.9928\n",
            "Epoch 7/20\n",
            "600/600 [==============================] - 8s 12ms/step - loss: 0.0124 - accuracy: 0.9960 - val_loss: 0.0239 - val_accuracy: 0.9925\n",
            "Epoch 8/20\n",
            "600/600 [==============================] - 8s 13ms/step - loss: 0.0119 - accuracy: 0.9962 - val_loss: 0.0270 - val_accuracy: 0.9914\n",
            "Epoch 9/20\n",
            "600/600 [==============================] - 8s 14ms/step - loss: 0.0084 - accuracy: 0.9973 - val_loss: 0.0258 - val_accuracy: 0.9926\n",
            "Epoch 10/20\n",
            "600/600 [==============================] - 8s 13ms/step - loss: 0.0082 - accuracy: 0.9976 - val_loss: 0.0311 - val_accuracy: 0.9922\n",
            "Epoch 11/20\n",
            "600/600 [==============================] - 8s 14ms/step - loss: 0.0081 - accuracy: 0.9972 - val_loss: 0.0268 - val_accuracy: 0.9912\n",
            "Epoch 12/20\n",
            "600/600 [==============================] - 8s 13ms/step - loss: 0.0062 - accuracy: 0.9980 - val_loss: 0.0257 - val_accuracy: 0.9934\n",
            "Epoch 13/20\n",
            "600/600 [==============================] - 8s 13ms/step - loss: 0.0071 - accuracy: 0.9977 - val_loss: 0.0339 - val_accuracy: 0.9915\n",
            "Epoch 14/20\n",
            "600/600 [==============================] - 8s 13ms/step - loss: 0.0058 - accuracy: 0.9980 - val_loss: 0.0349 - val_accuracy: 0.9912\n",
            "Epoch 15/20\n",
            "600/600 [==============================] - 8s 13ms/step - loss: 0.0039 - accuracy: 0.9987 - val_loss: 0.0420 - val_accuracy: 0.9910\n",
            "Epoch 16/20\n",
            "600/600 [==============================] - 8s 13ms/step - loss: 0.0056 - accuracy: 0.9983 - val_loss: 0.0307 - val_accuracy: 0.9928\n",
            "Epoch 17/20\n",
            "600/600 [==============================] - 8s 13ms/step - loss: 0.0047 - accuracy: 0.9985 - val_loss: 0.0407 - val_accuracy: 0.9909\n",
            "Epoch 18/20\n",
            "600/600 [==============================] - 8s 13ms/step - loss: 0.0050 - accuracy: 0.9983 - val_loss: 0.0291 - val_accuracy: 0.9931\n",
            "Epoch 19/20\n",
            "600/600 [==============================] - 8s 13ms/step - loss: 0.0031 - accuracy: 0.9991 - val_loss: 0.0289 - val_accuracy: 0.9940\n",
            "Epoch 20/20\n",
            "600/600 [==============================] - 8s 13ms/step - loss: 0.0036 - accuracy: 0.9990 - val_loss: 0.0358 - val_accuracy: 0.9919\n"
          ]
        }
      ]
    },
    {
      "cell_type": "markdown",
      "metadata": {
        "id": "6yXuNE-Evd-b"
      },
      "source": [
        "##### 결과시각화"
      ]
    },
    {
      "cell_type": "code",
      "metadata": {
        "ExecuteTime": {
          "end_time": "2021-11-05T02:06:21.981443Z",
          "start_time": "2021-11-05T02:06:21.812535Z"
        },
        "colab": {
          "base_uri": "https://localhost:8080/",
          "height": 295
        },
        "id": "QYdWNwIUvd-e",
        "outputId": "0970f130-63ac-4578-f02e-1d107c4b6c5a"
      },
      "source": [
        "plot_loss(hist)"
      ],
      "execution_count": null,
      "outputs": [
        {
          "output_type": "display_data",
          "data": {
            "image/png": "[encoded data removed]",
            "text/plain": [
              "<Figure size 432x288 with 1 Axes>"
            ]
          },
          "metadata": {
            "needs_background": "light"
          }
        }
      ]
    },
    {
      "cell_type": "code",
      "metadata": {
        "ExecuteTime": {
          "end_time": "2021-11-05T02:06:25.113761Z",
          "start_time": "2021-11-05T02:06:24.971687Z"
        },
        "colab": {
          "base_uri": "https://localhost:8080/",
          "height": 295
        },
        "id": "7s4X3mnPvd-f",
        "outputId": "83724538-e327-43a6-f108-9cf8aeaaa376"
      },
      "source": [
        "plot_accuracy(hist)"
      ],
      "execution_count": null,
      "outputs": [
        {
          "output_type": "display_data",
          "data": {
            "image/png": "[encoded data removed]",
            "text/plain": [
              "<Figure size 432x288 with 1 Axes>"
            ]
          },
          "metadata": {
            "needs_background": "light"
          }
        }
      ]
    },
    {
      "cell_type": "markdown",
      "metadata": {
        "id": "McXg9B1Qvd-g"
      },
      "source": [
        "##### 최종검증"
      ]
    },
    {
      "cell_type": "code",
      "metadata": {
        "ExecuteTime": {
          "end_time": "2021-11-05T02:06:30.129792Z",
          "start_time": "2021-11-05T02:06:29.179663Z"
        },
        "colab": {
          "base_uri": "https://localhost:8080/"
        },
        "id": "KMpaYD_ovd-g",
        "outputId": "5a8c8b93-a557-4b85-a55c-7f4d46c2d288"
      },
      "source": [
        "loss, acc = model.evaluate(test_dataset)"
      ],
      "execution_count": null,
      "outputs": [
        {
          "output_type": "stream",
          "name": "stdout",
          "text": [
            "100/100 [==============================] - 1s 6ms/step - loss: 0.0358 - accuracy: 0.9919\n"
          ]
        }
      ]
    },
    {
      "cell_type": "code",
      "metadata": {
        "ExecuteTime": {
          "end_time": "2021-11-05T02:06:30.913374Z",
          "start_time": "2021-11-05T02:06:30.898351Z"
        },
        "colab": {
          "base_uri": "https://localhost:8080/"
        },
        "id": "xDn6olTSvd-h",
        "outputId": "fe9bdc6e-20d3-4908-8bcc-ed5c2e0d1841"
      },
      "source": [
        "print(loss, acc)"
      ],
      "execution_count": null,
      "outputs": [
        {
          "output_type": "stream",
          "name": "stdout",
          "text": [
            "0.03580016642808914 0.9919000267982483\n"
          ]
        }
      ]
    },
    {
      "cell_type": "markdown",
      "metadata": {
        "id": "3UHdqM1lvd-h"
      },
      "source": [
        "## prediction error가 발생한 example 확인\n",
        "- test dataset으로 예측한 결과중 틀린 것들을 확인해 본다."
      ]
    },
    {
      "cell_type": "code",
      "metadata": {
        "ExecuteTime": {
          "end_time": "2021-11-05T02:06:35.993714Z",
          "start_time": "2021-11-05T02:06:35.043520Z"
        },
        "colab": {
          "base_uri": "https://localhost:8080/"
        },
        "id": "UNtNTYK-vd-i",
        "outputId": "35e853d8-728b-49a9-f43a-59034c51e6cc"
      },
      "source": [
        "pred = model.predict(X_test)\n",
        "pred.shape"
      ],
      "execution_count": null,
      "outputs": [
        {
          "output_type": "execute_result",
          "data": {
            "text/plain": [
              "(10000, 10)"
            ]
          },
          "metadata": {},
          "execution_count": 21
        }
      ]
    },
    {
      "cell_type": "code",
      "metadata": {
        "colab": {
          "base_uri": "https://localhost:8080/"
        },
        "id": "XFk2Fu8-e42K",
        "outputId": "44f97376-ee98-4fda-8b74-f37a3d3b15e1"
      },
      "source": [
        "pred[:5, :4]"
      ],
      "execution_count": null,
      "outputs": [
        {
          "output_type": "execute_result",
          "data": {
            "text/plain": [
              "array([[4.2364711e-20, 1.0941594e-12, 2.7411042e-17, 6.5873679e-13],\n",
              "       [9.1945546e-10, 2.1903275e-09, 1.0000000e+00, 1.0680250e-15],\n",
              "       [4.4137792e-12, 1.0000000e+00, 6.6013915e-13, 3.7151407e-14],\n",
              "       [1.0000000e+00, 7.3477263e-18, 8.2554743e-18, 1.4856377e-14],\n",
              "       [1.8352796e-15, 1.0098488e-10, 5.5650370e-14, 4.2966380e-14]],\n",
              "      dtype=float32)"
            ]
          },
          "metadata": {},
          "execution_count": 22
        }
      ]
    },
    {
      "cell_type": "code",
      "metadata": {
        "ExecuteTime": {
          "end_time": "2021-11-05T02:06:38.315408Z",
          "start_time": "2021-11-05T02:06:38.298432Z"
        },
        "colab": {
          "base_uri": "https://localhost:8080/"
        },
        "id": "DYyQg7_Vvd-i",
        "outputId": "dbd37881-63b4-4500-af82-1a5b1b04acb7"
      },
      "source": [
        "pred_label = np.argmax(pred, axis=-1)\n",
        "pred_label.shape"
      ],
      "execution_count": null,
      "outputs": [
        {
          "output_type": "execute_result",
          "data": {
            "text/plain": [
              "(10000,)"
            ]
          },
          "metadata": {},
          "execution_count": 23
        }
      ]
    },
    {
      "cell_type": "code",
      "metadata": {
        "ExecuteTime": {
          "end_time": "2021-11-05T02:06:39.837431Z",
          "start_time": "2021-11-05T02:06:39.819438Z"
        },
        "colab": {
          "base_uri": "https://localhost:8080/"
        },
        "id": "FVK08iS1vd-i",
        "outputId": "8f4e9158-527e-4299-ea61-261b53ba67f7"
      },
      "source": [
        "# test_label(target) 와 pred_label(prediction) 간에 틀린 것의 index를 조회\n",
        "idx = np.where(test_label != pred_label)[0]\n",
        "idx.shape"
      ],
      "execution_count": null,
      "outputs": [
        {
          "output_type": "execute_result",
          "data": {
            "text/plain": [
              "(81,)"
            ]
          },
          "metadata": {},
          "execution_count": 24
        }
      ]
    },
    {
      "cell_type": "code",
      "metadata": {
        "colab": {
          "base_uri": "https://localhost:8080/"
        },
        "id": "8FlxpQbIflVy",
        "outputId": "4acb54d3-5850-4749-ca20-48a4050e168f"
      },
      "source": [
        "# index별 틀린 것 조회\n",
        "idx[:5]"
      ],
      "execution_count": null,
      "outputs": [
        {
          "output_type": "execute_result",
          "data": {
            "text/plain": [
              "array([ 18, 115, 160, 247, 321])"
            ]
          },
          "metadata": {},
          "execution_count": 25
        }
      ]
    },
    {
      "cell_type": "markdown",
      "metadata": {
        "id": "HcOhLYeovd-j"
      },
      "source": [
        "##### confusion matrix 확인"
      ]
    },
    {
      "cell_type": "code",
      "metadata": {
        "ExecuteTime": {
          "end_time": "2021-11-05T02:08:43.283598Z",
          "start_time": "2021-11-05T02:08:43.252179Z"
        },
        "scrolled": true,
        "colab": {
          "base_uri": "https://localhost:8080/"
        },
        "id": "w0A2i7cfvd-k",
        "outputId": "f13a20f6-b790-45d7-dbe2-a090b12a6d14"
      },
      "source": [
        "from sklearn.metrics import confusion_matrix, plot_confusion_matrix, ConfusionMatrixDisplay\n",
        "\n",
        "confusion_matrix(test_label, pred_label)"
      ],
      "execution_count": null,
      "outputs": [
        {
          "output_type": "execute_result",
          "data": {
            "text/plain": [
              "array([[ 974,    1,    0,    0,    0,    1,    3,    1,    0,    0],\n",
              "       [   0, 1134,    0,    0,    0,    1,    0,    0,    0,    0],\n",
              "       [   1,    1, 1023,    0,    0,    0,    0,    6,    1,    0],\n",
              "       [   0,    0,    0, 1004,    0,    5,    0,    0,    1,    0],\n",
              "       [   0,    2,    0,    0,  967,    0,    1,    0,    1,   11],\n",
              "       [   0,    0,    0,    3,    0,  888,    1,    0,    0,    0],\n",
              "       [   2,    2,    0,    0,    0,    0,  951,    0,    3,    0],\n",
              "       [   0,    4,    0,    1,    0,    0,    0, 1020,    1,    2],\n",
              "       [   0,    0,    1,    1,    0,    0,    0,    0,  971,    1],\n",
              "       [   0,    0,    0,    3,    4,    3,    0,    6,    6,  987]])"
            ]
          },
          "metadata": {},
          "execution_count": 26
        }
      ]
    },
    {
      "cell_type": "code",
      "metadata": {
        "ExecuteTime": {
          "end_time": "2021-11-05T03:17:01.130011Z",
          "start_time": "2021-11-05T03:17:00.709441Z"
        },
        "colab": {
          "base_uri": "https://localhost:8080/",
          "height": 431
        },
        "id": "cOBSqrcEvd-k",
        "outputId": "34673af7-0c91-47a4-d259-c6481aca6d7c"
      },
      "source": [
        "import matplotlib.pyplot as plt\n",
        "\n",
        "plt.figure(figsize=(8,7))\n",
        "ax = plt.gca()\n",
        "\n",
        "cm = confusion_matrix(test_label, pred_label)\n",
        "disp = ConfusionMatrixDisplay(confusion_matrix=cm)\n",
        "disp.plot(cmap='Blues', ax=ax, values_format='d')\n",
        "plt.show()"
      ],
      "execution_count": null,
      "outputs": [
        {
          "output_type": "display_data",
          "data": {
            "image/png": "[encoded data removed]",
            "text/plain": [
              "<Figure size 576x504 with 2 Axes>"
            ]
          },
          "metadata": {
            "needs_background": "light"
          }
        }
      ]
    },
    {
      "cell_type": "code",
      "metadata": {
        "ExecuteTime": {
          "end_time": "2021-11-05T02:50:58.599000Z",
          "start_time": "2021-11-05T02:50:58.253409Z"
        },
        "colab": {
          "base_uri": "https://localhost:8080/",
          "height": 174
        },
        "id": "QdMMR-cxvd-l",
        "outputId": "cee75d0e-904a-44d4-85d6-5ff4ab700b8b"
      },
      "source": [
        "# 틀린 결과 중에 10개 확인\n",
        "import matplotlib.pyplot as plt\n",
        "\n",
        "plt.figure(figsize=(20, 20))\n",
        "\n",
        "for i in range(10):  \n",
        "   \n",
        "    error_idx = idx[i]\n",
        "    \n",
        "    p = pred_label[error_idx] # 추론 결과들\n",
        "    y = test_label[error_idx] # targets\n",
        "\n",
        "    plt.subplot(1, 10, i+1)\n",
        "    plt.imshow(test_image[error_idx], cmap='gray')\n",
        "    plt.title(f\"y: {y}, pred: {p}\", fontsize=17)\n",
        "    plt.axis('off')\n",
        "\n",
        "plt.tight_layout()\n",
        "plt.show()"
      ],
      "execution_count": null,
      "outputs": [
        {
          "output_type": "display_data",
          "data": {
            "image/png": "[encoded data removed]",
            "text/plain": [
              "<Figure size 1440x1440 with 10 Axes>"
            ]
          },
          "metadata": {
            "needs_background": "light"
          }
        }
      ]
    },
    {
      "cell_type": "markdown",
      "metadata": {
        "id": "RJUQJSEp66NR"
      },
      "source": [
        "# 학습한 모델 파일로 저장\n",
        "\n",
        "- **무엇을 저장할 지**\n",
        "    1. Train이 끝난 모델의 파라미터만 저장\n",
        "    1. 모델 구조와 파라미터 모두 저장\n",
        "\n",
        "- **저장시점**\n",
        "    1. Train 완료된 모델을 저장\n",
        "    1. Callback을 이용해 Train 도중 가장 성능이 좋은 시점의 모델을 저장"
      ]
    },
    {
      "cell_type": "markdown",
      "metadata": {
        "id": "2ARCyjDW66NR"
      },
      "source": [
        "## 텐서플로 저장 파일 타입\n",
        "- checkpoint \n",
        "    - 모델의 weight를 저장하기 위한 타입\n",
        "- SavedModel \n",
        "    - 모델의 구조와 파라미터들을 모두 저장하는 타입"
      ]
    },
    {
      "cell_type": "markdown",
      "metadata": {
        "id": "6bAN1wPG66NS"
      },
      "source": [
        "## 학습한 Weight (파라미터) 저장 및 불러오기\n",
        "- 가중치를 저장하여 나중에 재학습 없이 학습된 가중치를 사용할 수 있다.\n",
        "- 저장\n",
        "    - `model.save_weights(\"저장경로\")`\n",
        "- 불러오기\n",
        "    - `model.load_weights('불러올경로')`\n",
        "- 저장형식\n",
        "    - Tensorflow Checkpoint (기본방식)\n",
        "    - HDF5\n",
        "        - `save_weights(.., save_format='h5')`\n",
        "        - 또는 파일 확장자를 h5로 지정한다."
      ]
    },
    {
      "cell_type": "markdown",
      "metadata": {
        "id": "Hhje5aUPvd-n"
      },
      "source": [
        "### Checkpoint 으로 저장"
      ]
    },
    {
      "cell_type": "markdown",
      "metadata": {
        "id": "5odADKJivd-n"
      },
      "source": [
        "##### 저장할 경로 생성및 저장"
      ]
    },
    {
      "cell_type": "code",
      "metadata": {
        "colab": {
          "base_uri": "https://localhost:8080/"
        },
        "id": "wtVHHfyW0x_k",
        "outputId": "0af7c1c3-ec53-4bea-a029-a4309b63e253"
      },
      "source": [
        "from google.colab import drive\n",
        "drive.mount('/content/drive')"
      ],
      "execution_count": 12,
      "outputs": [
        {
          "output_type": "stream",
          "name": "stdout",
          "text": [
            "Mounted at /content/drive\n"
          ]
        }
      ]
    },
    {
      "cell_type": "code",
      "metadata": {
        "ExecuteTime": {
          "end_time": "2021-11-05T02:24:34.859541Z",
          "start_time": "2021-11-05T02:24:34.844507Z"
        },
        "colab": {
          "base_uri": "https://localhost:8080/"
        },
        "id": "3GsR7js61vxq",
        "outputId": "3a3d8829-7737-4356-d0ff-000f586974e3"
      },
      "source": [
        "import os\n",
        "\n",
        "base_dir = \"/content/drive/MyDrive/DL/saved_models\"\n",
        "\n",
        "if not os.path.isdir(base_dir): # base_dir directory 없으면 만들기\n",
        "  os.mkdir(base_dir)\n",
        "\n",
        "# 모델의 weight들을 저장할 directory명\n",
        "mnist_weight_dir = os.path.join(base_dir, \"mnist_weight\") \n",
        "print(mnist_weight_dir)\n",
        "\n",
        "if not os.path.isdir(mnist_weight_dir):\n",
        "    os.mkdir(mnist_weight_dir)\n",
        "    \n",
        "weight_file_path = os.path.join(mnist_weight_dir, \"mnist_weight_ckpt\")\n",
        "\n",
        "print(weight_file_path)"
      ],
      "execution_count": 13,
      "outputs": [
        {
          "output_type": "stream",
          "name": "stdout",
          "text": [
            "/content/drive/MyDrive/DL/saved_models/mnist_weight\n",
            "/content/drive/MyDrive/DL/saved_models/mnist_weight/mnist_weight_ckpt\n"
          ]
        }
      ]
    },
    {
      "cell_type": "code",
      "metadata": {
        "ExecuteTime": {
          "end_time": "2021-11-05T02:24:41.623513Z",
          "start_time": "2021-11-05T02:24:41.524411Z"
        },
        "id": "buuA-01I66NS"
      },
      "source": [
        "model.save_weights(weight_file_path) # parameter들만 저장"
      ],
      "execution_count": null,
      "outputs": []
    },
    {
      "cell_type": "code",
      "metadata": {
        "ExecuteTime": {
          "end_time": "2021-11-05T02:25:34.723553Z",
          "start_time": "2021-11-05T02:25:34.644399Z"
        },
        "id": "6kso54X766NT",
        "scrolled": true
      },
      "source": [
        "# loading시에는 먼저 모델 네트워크 구조부터 생성\n",
        "new_model = create_mnist_model()\n",
        "new_model.compile(optimizer=keras.optimizers.Adam(learning_rate=LEARNING_RATE), loss='categorical_crossentropy', \n",
        "                  metrics=['accuracy'])"
      ],
      "execution_count": 14,
      "outputs": []
    },
    {
      "cell_type": "code",
      "metadata": {
        "ExecuteTime": {
          "end_time": "2021-11-05T02:25:36.368142Z",
          "start_time": "2021-11-05T02:25:35.284228Z"
        },
        "colab": {
          "base_uri": "https://localhost:8080/"
        },
        "id": "xzyaLMAC66NT",
        "outputId": "285d897e-ff8f-4b3a-992a-c78b9a0888c7"
      },
      "source": [
        "new_model.evaluate(test_dataset) # 아직 학습이 안되었기 때문에 성능이 낮음"
      ],
      "execution_count": 15,
      "outputs": [
        {
          "output_type": "stream",
          "name": "stdout",
          "text": [
            "100/100 [==============================] - 9s 7ms/step - loss: 2.3006 - accuracy: 0.1018\n"
          ]
        },
        {
          "output_type": "execute_result",
          "data": {
            "text/plain": [
              "[2.300644636154175, 0.10180000215768814]"
            ]
          },
          "metadata": {},
          "execution_count": 15
        }
      ]
    },
    {
      "cell_type": "code",
      "metadata": {
        "ExecuteTime": {
          "end_time": "2021-11-05T02:25:42.562783Z",
          "start_time": "2021-11-05T02:25:42.459716Z"
        },
        "colab": {
          "base_uri": "https://localhost:8080/"
        },
        "id": "ZGQl2i9Q66NT",
        "scrolled": true,
        "outputId": "95ae4ebc-e8f6-47c6-aeb4-675b56c81425"
      },
      "source": [
        "# new_model에 학습된(저장된) parameter들을 읽어와서 덮기\n",
        "new_model.load_weights(weight_file_path)"
      ],
      "execution_count": 16,
      "outputs": [
        {
          "output_type": "execute_result",
          "data": {
            "text/plain": [
              "<tensorflow.python.training.tracking.util.CheckpointLoadStatus at 0x7fac100f9d90>"
            ]
          },
          "metadata": {},
          "execution_count": 16
        }
      ]
    },
    {
      "cell_type": "code",
      "metadata": {
        "ExecuteTime": {
          "end_time": "2021-11-05T02:25:45.396203Z",
          "start_time": "2021-11-05T02:25:44.476226Z"
        },
        "colab": {
          "base_uri": "https://localhost:8080/"
        },
        "id": "qpYckeJ866NT",
        "outputId": "de9b1e6d-74a1-4b52-8fbf-d39347070892"
      },
      "source": [
        "new_model.evaluate(test_dataset)"
      ],
      "execution_count": 17,
      "outputs": [
        {
          "output_type": "stream",
          "name": "stdout",
          "text": [
            "100/100 [==============================] - 1s 7ms/step - loss: 0.0358 - accuracy: 0.9919\n"
          ]
        },
        {
          "output_type": "execute_result",
          "data": {
            "text/plain": [
              "[0.03580016642808914, 0.9919000267982483]"
            ]
          },
          "metadata": {},
          "execution_count": 17
        }
      ]
    },
    {
      "cell_type": "markdown",
      "metadata": {
        "id": "gbIB2qCX66NU"
      },
      "source": [
        "### h5 형식으로 저장"
      ]
    },
    {
      "cell_type": "code",
      "metadata": {
        "ExecuteTime": {
          "end_time": "2021-11-05T02:25:49.559603Z",
          "start_time": "2021-11-05T02:25:49.541570Z"
        },
        "id": "JUci2ty166NU"
      },
      "source": [
        "weight_h5_dir = os.path.join(base_dir, \"mnist_weight_h5\")\n",
        "if not os.path.isdir(weight_h5_dir):\n",
        "    os.makedirs(weight_h5_dir, exist_ok=True)\n",
        "weight_h5_path = os.path.join(weight_h5_dir, \"mnist_weight.h5\")"
      ],
      "execution_count": 18,
      "outputs": []
    },
    {
      "cell_type": "code",
      "metadata": {
        "ExecuteTime": {
          "end_time": "2021-11-05T02:25:58.586430Z",
          "start_time": "2021-11-05T02:25:58.556455Z"
        },
        "id": "GOUWp-N266NU"
      },
      "source": [
        "model.save_weights(weight_h5_path, save_format='h5')"
      ],
      "execution_count": null,
      "outputs": []
    },
    {
      "cell_type": "code",
      "metadata": {
        "ExecuteTime": {
          "end_time": "2021-11-05T02:26:20.464832Z",
          "start_time": "2021-11-05T02:26:20.388274Z"
        },
        "id": "QwcVSWg866NU"
      },
      "source": [
        "new_model = create_mnist_model()\n",
        "new_model.compile(optimizer=keras.optimizers.Adam(LEARNING_RATE),\n",
        "                  loss='categorical_crossentropy',\n",
        "                  metrics=['accuracy'])"
      ],
      "execution_count": 19,
      "outputs": []
    },
    {
      "cell_type": "code",
      "metadata": {
        "ExecuteTime": {
          "end_time": "2021-11-05T02:26:27.503377Z",
          "start_time": "2021-11-05T02:26:26.363406Z"
        },
        "colab": {
          "base_uri": "https://localhost:8080/"
        },
        "id": "9FVsuX8G66NU",
        "outputId": "03dd521d-5641-4b68-df4e-8a2d9833b7f5"
      },
      "source": [
        "# 학습이 아직 안된 상태의 모델 평가\n",
        "new_model.evaluate(test_dataset)"
      ],
      "execution_count": null,
      "outputs": [
        {
          "output_type": "stream",
          "name": "stdout",
          "text": [
            "100/100 [==============================] - 1s 7ms/step - loss: 2.3001 - accuracy: 0.0936\n"
          ]
        },
        {
          "output_type": "execute_result",
          "data": {
            "text/plain": [
              "[2.3000831604003906, 0.09359999746084213]"
            ]
          },
          "metadata": {},
          "execution_count": 40
        }
      ]
    },
    {
      "cell_type": "code",
      "metadata": {
        "ExecuteTime": {
          "end_time": "2021-11-05T02:26:28.590543Z",
          "start_time": "2021-11-05T02:26:28.547514Z"
        },
        "id": "icTNgSL366NV"
      },
      "source": [
        "# new_model에 저장된 weights(parameter)를 덮어씀\n",
        "new_model.load_weights(weight_h5_path)"
      ],
      "execution_count": 20,
      "outputs": []
    },
    {
      "cell_type": "code",
      "metadata": {
        "ExecuteTime": {
          "end_time": "2021-11-05T02:27:02.615038Z",
          "start_time": "2021-11-05T02:27:01.684432Z"
        },
        "colab": {
          "base_uri": "https://localhost:8080/"
        },
        "id": "KCgJpkxq66NV",
        "outputId": "64ef1679-87ca-4658-c50a-4cfb44d746b3"
      },
      "source": [
        "# weights 덮어쓴 후 평가\n",
        "new_model.evaluate(test_dataset)"
      ],
      "execution_count": 21,
      "outputs": [
        {
          "output_type": "stream",
          "name": "stdout",
          "text": [
            "100/100 [==============================] - 1s 7ms/step - loss: 0.0358 - accuracy: 0.9919\n"
          ]
        },
        {
          "output_type": "execute_result",
          "data": {
            "text/plain": [
              "[0.03580016642808914, 0.9919000267982483]"
            ]
          },
          "metadata": {},
          "execution_count": 21
        }
      ]
    },
    {
      "cell_type": "markdown",
      "metadata": {
        "id": "shNUg6al66NV"
      },
      "source": [
        "## 전체 모델 저장하고 불러오기\n",
        "- https://www.tensorflow.org/guide/keras/save_and_serialize?hl=ko\n",
        "- 저장\n",
        "    - `model.save('저장할디렉토리')`\n",
        "- 불러오기\n",
        "    - `tf.keras.models.load_model('저장된디렉토리')`\n",
        "- 저장 형식\n",
        "    - Tensorflow SavedModel 형식(기본방식)\n",
        "        - 모델 아키텍처 및 훈련 구성(옵티마이저, 손실 및 메트릭 포함)은 saved_model.pb 에 저장된다.\n",
        "        - 파라미터는 variables/ 디렉토리에 저장된다.\n",
        "        - https://www.tensorflow.org/guide/saved_model?hl=ko#the_savedmodel_format_on_disk\n",
        "    - HDF5 형식\n",
        "        - `save(..., save_format='h5')` \n",
        "        - 또는 파일의 확장자를 h5로 지정한다."
      ]
    },
    {
      "cell_type": "markdown",
      "metadata": {
        "id": "GTAMYpGw66NX"
      },
      "source": [
        "###  Saved Model 형식으로 모델 저장\n",
        "- 경로(디렉토리) 만 지정한다."
      ]
    },
    {
      "cell_type": "code",
      "metadata": {
        "ExecuteTime": {
          "end_time": "2021-11-05T02:28:16.402402Z",
          "start_time": "2021-11-05T02:28:16.387408Z"
        },
        "id": "S0yYq-cZ8gDB",
        "colab": {
          "base_uri": "https://localhost:8080/"
        },
        "outputId": "7f66d590-e8c5-494f-e8d5-1ac39840e737"
      },
      "source": [
        "mnist_model_dir = os.path.join(base_dir, 'mnist_model')\n",
        "print(mnist_model_dir, type(mnist_model_dir))\n",
        "if not os.path.isdir(mnist_model_dir):\n",
        "    os.mkdir(mnist_model_dir) "
      ],
      "execution_count": 22,
      "outputs": [
        {
          "output_type": "stream",
          "name": "stdout",
          "text": [
            "/content/drive/MyDrive/DL/saved_models/mnist_model <class 'str'>\n"
          ]
        }
      ]
    },
    {
      "cell_type": "code",
      "metadata": {
        "ExecuteTime": {
          "end_time": "2021-11-05T02:28:18.993052Z",
          "start_time": "2021-11-05T02:28:18.067642Z"
        },
        "colab": {
          "base_uri": "https://localhost:8080/"
        },
        "id": "PR5lIqET8wMy",
        "outputId": "9c7bd380-89c3-47cb-f33c-c2a33bdaedaa"
      },
      "source": [
        "# weight + 모델 구조 저장 : saved_model 형식으로 저장(기본) => 저장할 directory만 지정\n",
        "model.save(mnist_model_dir)"
      ],
      "execution_count": null,
      "outputs": [
        {
          "output_type": "stream",
          "name": "stdout",
          "text": [
            "INFO:tensorflow:Assets written to: /content/drive/MyDrive/DL/saved_models/mnist_model/assets\n"
          ]
        }
      ]
    },
    {
      "cell_type": "code",
      "metadata": {
        "ExecuteTime": {
          "end_time": "2021-11-05T02:28:20.146352Z",
          "start_time": "2021-11-05T02:28:19.748174Z"
        },
        "id": "au-pjyoq66NY"
      },
      "source": [
        "# 저장된 model구조 + parameter loading\n",
        "new_model2 = keras.models.load_model(mnist_model_dir)"
      ],
      "execution_count": 23,
      "outputs": []
    },
    {
      "cell_type": "code",
      "metadata": {
        "ExecuteTime": {
          "end_time": "2021-11-05T02:28:21.662414Z",
          "start_time": "2021-11-05T02:28:20.699619Z"
        },
        "colab": {
          "base_uri": "https://localhost:8080/"
        },
        "id": "aOmhPwh_66NY",
        "outputId": "b036e1db-21c8-41a6-d3b1-bbf739d1d426"
      },
      "source": [
        "new_model2.evaluate(test_dataset)"
      ],
      "execution_count": 24,
      "outputs": [
        {
          "output_type": "stream",
          "name": "stdout",
          "text": [
            "100/100 [==============================] - 1s 7ms/step - loss: 0.0358 - accuracy: 0.9919\n"
          ]
        },
        {
          "output_type": "execute_result",
          "data": {
            "text/plain": [
              "[0.03580016642808914, 0.9919000267982483]"
            ]
          },
          "metadata": {},
          "execution_count": 24
        }
      ]
    },
    {
      "cell_type": "markdown",
      "metadata": {
        "id": "PmbZsSksvd-t"
      },
      "source": [
        "### H5 형식으로 모델 저장"
      ]
    },
    {
      "cell_type": "code",
      "metadata": {
        "ExecuteTime": {
          "end_time": "2021-11-05T02:31:53.041967Z",
          "start_time": "2021-11-05T02:31:53.028937Z"
        },
        "id": "cKm7ThE766NW"
      },
      "source": [
        "model_h5_dir = os.path.join(base_dir, 'mnist_model_h5')\n",
        "\n",
        "if not os.path.join(model_h5_dir):\n",
        "    os.makedirs(model_h5_dir, exist_ok=True)\n",
        "\n",
        "model_h5_path = os.path.join(model_h5_dir, \"mnist_model.h5\") # h5형식: 파일명까지 지정"
      ],
      "execution_count": 25,
      "outputs": []
    },
    {
      "cell_type": "code",
      "metadata": {
        "ExecuteTime": {
          "end_time": "2021-11-05T02:32:10.471919Z",
          "start_time": "2021-11-05T02:32:10.388634Z"
        },
        "id": "9OJ0hNog66NW"
      },
      "source": [
        "model.save(model_h5_path, save_format='h5')"
      ],
      "execution_count": null,
      "outputs": []
    },
    {
      "cell_type": "code",
      "metadata": {
        "ExecuteTime": {
          "end_time": "2021-11-05T02:32:14.737782Z",
          "start_time": "2021-11-05T02:32:14.588337Z"
        },
        "colab": {
          "base_uri": "https://localhost:8080/"
        },
        "id": "InPefrxy66NX",
        "outputId": "09bcbf4c-6ecd-4109-8e25-f4c72737bccc"
      },
      "source": [
        "new_model3 = keras.models.load_model(model_h5_path)\n",
        "\n",
        "new_model3.summary()"
      ],
      "execution_count": 26,
      "outputs": [
        {
          "output_type": "stream",
          "name": "stdout",
          "text": [
            "Model: \"sequential\"\n",
            "_________________________________________________________________\n",
            " Layer (type)                Output Shape              Param #   \n",
            "=================================================================\n",
            " conv2d (Conv2D)             (None, 28, 28, 32)        320       \n",
            "                                                                 \n",
            " max_pooling2d (MaxPooling2D  (None, 14, 14, 32)       0         \n",
            " )                                                               \n",
            "                                                                 \n",
            " conv2d_1 (Conv2D)           (None, 14, 14, 64)        18496     \n",
            "                                                                 \n",
            " max_pooling2d_1 (MaxPooling  (None, 7, 7, 64)         0         \n",
            " 2D)                                                             \n",
            "                                                                 \n",
            " conv2d_2 (Conv2D)           (None, 7, 7, 128)         73856     \n",
            "                                                                 \n",
            " max_pooling2d_2 (MaxPooling  (None, 4, 4, 128)        0         \n",
            " 2D)                                                             \n",
            "                                                                 \n",
            " flatten (Flatten)           (None, 2048)              0         \n",
            "                                                                 \n",
            " dense (Dense)               (None, 256)               524544    \n",
            "                                                                 \n",
            " dense_1 (Dense)             (None, 10)                2570      \n",
            "                                                                 \n",
            "=================================================================\n",
            "Total params: 619,786\n",
            "Trainable params: 619,786\n",
            "Non-trainable params: 0\n",
            "_________________________________________________________________\n"
          ]
        }
      ]
    },
    {
      "cell_type": "code",
      "metadata": {
        "ExecuteTime": {
          "end_time": "2021-11-05T02:32:18.706775Z",
          "start_time": "2021-11-05T02:32:17.669377Z"
        },
        "colab": {
          "base_uri": "https://localhost:8080/"
        },
        "id": "wcNFFRU766NX",
        "outputId": "ffe580a3-c5d4-4532-ab6c-a0ace07cc9c8"
      },
      "source": [
        "new_model3.evaluate(test_dataset)"
      ],
      "execution_count": 27,
      "outputs": [
        {
          "output_type": "stream",
          "name": "stdout",
          "text": [
            "100/100 [==============================] - 1s 7ms/step - loss: 0.0358 - accuracy: 0.9919\n"
          ]
        },
        {
          "output_type": "execute_result",
          "data": {
            "text/plain": [
              "[0.03580016642808914, 0.9919000267982483]"
            ]
          },
          "metadata": {},
          "execution_count": 27
        }
      ]
    },
    {
      "cell_type": "markdown",
      "metadata": {
        "id": "7xgQxAU666NZ"
      },
      "source": [
        "## Callback을 사용한 모델 저장 및 Early Stopping\n",
        "- callback은 학습하는 도중 특정 이벤트 발생시 호출되는 다양한 함수를 제공하여 자동화 처리를 지원한다. (cf: 프로그래밍의 콜백함수)\n",
        "- 다양한 콜백 클래스가 제공된다.\n",
        "    - https://www.tensorflow.org/api_docs/python/tf/keras/callbacks\n",
        "- ### ModelCheckpoint\n",
        "    - 각 epoch 마다 학습한 모델과 weight(또는 weight만)를 저장한다. \n",
        "    - 지정한 평가지표(예:validation loss)가 가장 좋을 때 모델과 weight만 저장할 수 있다.\n",
        "    - 주요 파라미터\n",
        "        - `save_weights_only=True`: True: 파라미터(weight)만 저장한다. False: 모델구조와 파라미터 모두 저장한다.\n",
        "        - `save_best_only=True`: 학습중 성능이 개선될 때만 저장한다. (False:기본값 - 모든 에폭마다 저장한다.)\n",
        "- ### EarlyStopping\n",
        "    - Validation set에 대한 평가지표가  더 이상 개선되지 않을 때 학습을 자동으로 멈추는 callback\n",
        "    - 주요 파라미터\n",
        "        - `monitor`: 모니터링할 평가지표 지정. (ex: accuracy)\n",
        "        - `patience`: epoch 수 지정. validation 평가 지표가 개선이 안되더라도 지정한 epoch만큼 반복한다. 지정한 epoch만큼 반복 후에도 개선이 되지 않으면 중단한다. \n",
        "\n",
        "- **callback 객체들을 리스트로 묶은 뒤 fit()의 callbacks 매개변수에 전달한다.**"
      ]
    },
    {
      "cell_type": "code",
      "metadata": {
        "ExecuteTime": {
          "end_time": "2021-11-05T02:35:39.789591Z",
          "start_time": "2021-11-05T02:35:39.708482Z"
        },
        "id": "J59mb-W166NZ"
      },
      "source": [
        "model2 = create_mnist_model()\n",
        "model2.compile(optimizer='adam', \n",
        "               loss='categorical_crossentropy', \n",
        "               metrics=['accuracy'])"
      ],
      "execution_count": 28,
      "outputs": []
    },
    {
      "cell_type": "code",
      "metadata": {
        "ExecuteTime": {
          "end_time": "2021-11-05T02:40:34.240440Z",
          "start_time": "2021-11-05T02:40:33.277554Z"
        },
        "id": "rhZ2VNkE66NZ",
        "colab": {
          "base_uri": "https://localhost:8080/"
        },
        "outputId": "ed91beb2-0b23-47e7-b796-17b8484bf568"
      },
      "source": [
        "model2.evaluate(test_dataset)"
      ],
      "execution_count": 29,
      "outputs": [
        {
          "output_type": "stream",
          "name": "stdout",
          "text": [
            "100/100 [==============================] - 1s 7ms/step - loss: 2.3044 - accuracy: 0.1003\n"
          ]
        },
        {
          "output_type": "execute_result",
          "data": {
            "text/plain": [
              "[2.304438591003418, 0.10029999911785126]"
            ]
          },
          "metadata": {},
          "execution_count": 29
        }
      ]
    },
    {
      "cell_type": "code",
      "metadata": {
        "ExecuteTime": {
          "end_time": "2021-11-05T02:43:07.219856Z",
          "start_time": "2021-11-05T02:43:07.211861Z"
        },
        "id": "4TQggaQT66NZ"
      },
      "source": [
        "# callback을 이용해 모델을 저장할 때 저장할 디렉토리 생성 및 경로 문자열로 저장\n",
        "checkpoint_save_dir = os.path.join(base_dir, 'mnist_callback')\n",
        "if not os.path.isdir(checkpoint_save_dir):\n",
        "    os.mkdir(checkpoint_save_dir)\n",
        "\n",
        "checkpoint_save_file = os.path.join(checkpoint_save_dir, 'mnist_ckpt')"
      ],
      "execution_count": 30,
      "outputs": []
    },
    {
      "cell_type": "code",
      "metadata": {
        "ExecuteTime": {
          "end_time": "2021-11-05T02:44:05.048375Z",
          "start_time": "2021-11-05T02:44:05.039336Z"
        },
        "id": "4kxhcRpn66Na"
      },
      "source": [
        "# 저장경로: parameter만 저장할 경우 파일명까지, 모델구조+weight를 저장할 경우 directory까지 설정\n",
        "mc_callback = keras.callbacks.ModelCheckpoint(filepath=checkpoint_save_file, # save directory\n",
        "                          save_best_only=True, # 성능이 개선된 경우에 계속 덮어쓰면서 저장\n",
        "                          monitor='val_loss',  # 어떤 성능 개선일 때 저장할 지 모니터링할 평가지표\n",
        "                          # save_weights_only=True, # parameter(weight)만 저장 [default: False]\n",
        "                          verbose=1) # 저장할 때 로그 출력"
      ],
      "execution_count": 31,
      "outputs": []
    },
    {
      "cell_type": "code",
      "metadata": {
        "ExecuteTime": {
          "end_time": "2021-11-05T02:44:05.533392Z",
          "start_time": "2021-11-05T02:44:05.524419Z"
        },
        "id": "9k9rOOB4vd-1"
      },
      "source": [
        "es_callback = keras.callbacks.EarlyStopping(monitor='val_loss', # 모니터링할 평가지표\n",
        "                                            patience=5, # 지정한 epoch만 지나도록 개선이 안되면 train stop (general 5~10)\n",
        "                                            verbose=1)  # log 출력 (멈춘 이유 description)"
      ],
      "execution_count": 33,
      "outputs": []
    },
    {
      "cell_type": "code",
      "metadata": {
        "ExecuteTime": {
          "end_time": "2021-11-05T02:44:50.318132Z",
          "start_time": "2021-11-05T02:44:06.500503Z"
        },
        "id": "viJGE-Wcvd-2",
        "colab": {
          "base_uri": "https://localhost:8080/"
        },
        "outputId": "a366518e-736a-438e-8581-feb30f277998"
      },
      "source": [
        "hist = model2.fit(train_dataset, epochs=N_EPOCHS, validation_data=test_dataset,\n",
        "                  callbacks=[mc_callback, es_callback])"
      ],
      "execution_count": 34,
      "outputs": [
        {
          "output_type": "stream",
          "name": "stdout",
          "text": [
            "Epoch 1/20\n",
            "598/600 [============================>.] - ETA: 0s - loss: 0.1589 - accuracy: 0.9517\n",
            "Epoch 00001: val_loss improved from inf to 0.04176, saving model to /content/drive/MyDrive/DL/saved_models/mnist_callback/mnist_ckpt\n",
            "INFO:tensorflow:Assets written to: /content/drive/MyDrive/DL/saved_models/mnist_callback/mnist_ckpt/assets\n",
            "600/600 [==============================] - 13s 19ms/step - loss: 0.1585 - accuracy: 0.9518 - val_loss: 0.0418 - val_accuracy: 0.9863\n",
            "Epoch 2/20\n",
            "598/600 [============================>.] - ETA: 0s - loss: 0.0431 - accuracy: 0.9866\n",
            "Epoch 00002: val_loss improved from 0.04176 to 0.04021, saving model to /content/drive/MyDrive/DL/saved_models/mnist_callback/mnist_ckpt\n",
            "INFO:tensorflow:Assets written to: /content/drive/MyDrive/DL/saved_models/mnist_callback/mnist_ckpt/assets\n",
            "600/600 [==============================] - 11s 18ms/step - loss: 0.0430 - accuracy: 0.9867 - val_loss: 0.0402 - val_accuracy: 0.9871\n",
            "Epoch 3/20\n",
            "598/600 [============================>.] - ETA: 0s - loss: 0.0286 - accuracy: 0.9911\n",
            "Epoch 00003: val_loss improved from 0.04021 to 0.03532, saving model to /content/drive/MyDrive/DL/saved_models/mnist_callback/mnist_ckpt\n",
            "INFO:tensorflow:Assets written to: /content/drive/MyDrive/DL/saved_models/mnist_callback/mnist_ckpt/assets\n",
            "600/600 [==============================] - 11s 18ms/step - loss: 0.0286 - accuracy: 0.9911 - val_loss: 0.0353 - val_accuracy: 0.9878\n",
            "Epoch 4/20\n",
            "600/600 [==============================] - ETA: 0s - loss: 0.0228 - accuracy: 0.9928\n",
            "Epoch 00004: val_loss improved from 0.03532 to 0.02607, saving model to /content/drive/MyDrive/DL/saved_models/mnist_callback/mnist_ckpt\n",
            "INFO:tensorflow:Assets written to: /content/drive/MyDrive/DL/saved_models/mnist_callback/mnist_ckpt/assets\n",
            "600/600 [==============================] - 11s 18ms/step - loss: 0.0228 - accuracy: 0.9928 - val_loss: 0.0261 - val_accuracy: 0.9909\n",
            "Epoch 5/20\n",
            "600/600 [==============================] - ETA: 0s - loss: 0.0169 - accuracy: 0.9948\n",
            "Epoch 00005: val_loss did not improve from 0.02607\n",
            "600/600 [==============================] - 10s 16ms/step - loss: 0.0169 - accuracy: 0.9948 - val_loss: 0.0314 - val_accuracy: 0.9906\n",
            "Epoch 6/20\n",
            "600/600 [==============================] - ETA: 0s - loss: 0.0146 - accuracy: 0.9953\n",
            "Epoch 00006: val_loss improved from 0.02607 to 0.02403, saving model to /content/drive/MyDrive/DL/saved_models/mnist_callback/mnist_ckpt\n",
            "INFO:tensorflow:Assets written to: /content/drive/MyDrive/DL/saved_models/mnist_callback/mnist_ckpt/assets\n",
            "600/600 [==============================] - 11s 19ms/step - loss: 0.0146 - accuracy: 0.9953 - val_loss: 0.0240 - val_accuracy: 0.9922\n",
            "Epoch 7/20\n",
            "598/600 [============================>.] - ETA: 0s - loss: 0.0132 - accuracy: 0.9957\n",
            "Epoch 00007: val_loss did not improve from 0.02403\n",
            "600/600 [==============================] - 10s 16ms/step - loss: 0.0132 - accuracy: 0.9957 - val_loss: 0.0281 - val_accuracy: 0.9927\n",
            "Epoch 8/20\n",
            "600/600 [==============================] - ETA: 0s - loss: 0.0098 - accuracy: 0.9968\n",
            "Epoch 00008: val_loss did not improve from 0.02403\n",
            "600/600 [==============================] - 10s 16ms/step - loss: 0.0098 - accuracy: 0.9968 - val_loss: 0.0301 - val_accuracy: 0.9915\n",
            "Epoch 9/20\n",
            "597/600 [============================>.] - ETA: 0s - loss: 0.0097 - accuracy: 0.9966\n",
            "Epoch 00009: val_loss did not improve from 0.02403\n",
            "600/600 [==============================] - 10s 16ms/step - loss: 0.0097 - accuracy: 0.9966 - val_loss: 0.0325 - val_accuracy: 0.9911\n",
            "Epoch 10/20\n",
            "600/600 [==============================] - ETA: 0s - loss: 0.0075 - accuracy: 0.9978\n",
            "Epoch 00010: val_loss did not improve from 0.02403\n",
            "600/600 [==============================] - 10s 16ms/step - loss: 0.0075 - accuracy: 0.9978 - val_loss: 0.0274 - val_accuracy: 0.9928\n",
            "Epoch 11/20\n",
            "599/600 [============================>.] - ETA: 0s - loss: 0.0075 - accuracy: 0.9975\n",
            "Epoch 00011: val_loss did not improve from 0.02403\n",
            "600/600 [==============================] - 10s 16ms/step - loss: 0.0076 - accuracy: 0.9975 - val_loss: 0.0305 - val_accuracy: 0.9925\n",
            "Epoch 00011: early stopping\n"
          ]
        }
      ]
    },
    {
      "cell_type": "code",
      "metadata": {
        "ExecuteTime": {
          "end_time": "2021-11-05T02:45:45.857251Z",
          "start_time": "2021-11-05T02:45:45.444137Z"
        },
        "id": "QbdBwfeUvd-2"
      },
      "source": [
        "new_model3 = keras.models.load_model(checkpoint_save_file)"
      ],
      "execution_count": 35,
      "outputs": []
    },
    {
      "cell_type": "code",
      "metadata": {
        "ExecuteTime": {
          "end_time": "2021-11-05T02:45:52.082733Z",
          "start_time": "2021-11-05T02:45:51.037514Z"
        },
        "id": "502lBgKNvd-3",
        "colab": {
          "base_uri": "https://localhost:8080/"
        },
        "outputId": "42dedf07-5c04-4955-e946-a03b88d6e4ed"
      },
      "source": [
        "new_model3.evaluate(test_dataset)"
      ],
      "execution_count": 36,
      "outputs": [
        {
          "output_type": "stream",
          "name": "stdout",
          "text": [
            "100/100 [==============================] - 1s 7ms/step - loss: 0.0240 - accuracy: 0.9922\n"
          ]
        },
        {
          "output_type": "execute_result",
          "data": {
            "text/plain": [
              "[0.02403249964118004, 0.9922000169754028]"
            ]
          },
          "metadata": {},
          "execution_count": 36
        }
      ]
    },
    {
      "cell_type": "code",
      "metadata": {
        "id": "RMHqYWMJkDlM"
      },
      "source": [
        "# 파라미터만 저장"
      ],
      "execution_count": null,
      "outputs": []
    },
    {
      "cell_type": "code",
      "metadata": {
        "ExecuteTime": {
          "end_time": "2021-11-05T02:43:07.219856Z",
          "start_time": "2021-11-05T02:43:07.211861Z"
        },
        "id": "9cELeE16jjh2"
      },
      "source": [
        "# callback을 이용해 모델을 저장할 때 저장할 디렉토리 생성 및 경로 문자열로 저장\n",
        "checkpoint_save_dir = os.path.join(base_dir, 'mnist_callback_weight')\n",
        "if not os.path.isdir(checkpoint_save_dir):\n",
        "    os.mkdir(checkpoint_save_dir)\n",
        "\n",
        "checkpoint_save_file = os.path.join(checkpoint_save_dir, 'mnist_ckpt')\n",
        "# 매 epoch마다 저장할 경우, 파일명에 저장 epoch 값이 들어가도록 파일경로에 {epoch} 형식문자를 추가\n",
        "# checkpoint_save_file = os.path.join(checkpoint_save_dir, 'mnist_ckpt_{epoch:03d}')"
      ],
      "execution_count": 37,
      "outputs": []
    },
    {
      "cell_type": "code",
      "metadata": {
        "ExecuteTime": {
          "end_time": "2021-11-05T02:44:05.048375Z",
          "start_time": "2021-11-05T02:44:05.039336Z"
        },
        "id": "jyWBe-yjjjh3"
      },
      "source": [
        "# 저장경로: parameter만 저장할 경우 파일명까지, 모델구조+weight를 저장할 경우 directory까지 설정\n",
        "mc_callback = keras.callbacks.ModelCheckpoint(filepath=checkpoint_save_file, # save directory\n",
        "                          save_best_only=True, # 성능이 개선된 경우에 계속 덮어쓰면서 저장\n",
        "                          # default: False인 경우, epoch마다 저장\n",
        "                          monitor='val_loss',  # 어떤 성능 개선일 때 저장할 지 모니터링할 평가지표\n",
        "                          save_weights_only=True, # parameter(weight)만 저장 [default: False]\n",
        "                          verbose=1) # 저장할 때 로그 출력\n",
        "\n",
        "es_callback = keras.callbacks.EarlyStopping(monitor='val_loss', # 모니터링할 평가지표\n",
        "                                            patience=5, # 지정한 epoch만 지나도록 개선이 안되면 train stop (general 5~10)\n",
        "                                            verbose=1)  # log 출력 (멈춘 이유 description)"
      ],
      "execution_count": 38,
      "outputs": []
    },
    {
      "cell_type": "code",
      "metadata": {
        "id": "-F24T5T2jn--"
      },
      "source": [
        "model2 = create_mnist_model()\n",
        "model2.compile(optimizer='adam', \n",
        "               loss='categorical_crossentropy', \n",
        "               metrics=['accuracy'])"
      ],
      "execution_count": 39,
      "outputs": []
    },
    {
      "cell_type": "code",
      "metadata": {
        "ExecuteTime": {
          "end_time": "2021-11-05T02:44:50.318132Z",
          "start_time": "2021-11-05T02:44:06.500503Z"
        },
        "colab": {
          "base_uri": "https://localhost:8080/"
        },
        "id": "WvWn0yK4jjh4",
        "outputId": "48bbe681-1251-459b-84a0-6a5f27273d31"
      },
      "source": [
        "hist = model2.fit(train_dataset, epochs=N_EPOCHS, validation_data=test_dataset,\n",
        "                  callbacks=[mc_callback, es_callback])"
      ],
      "execution_count": 40,
      "outputs": [
        {
          "output_type": "stream",
          "name": "stdout",
          "text": [
            "Epoch 1/20\n",
            "598/600 [============================>.] - ETA: 0s - loss: 0.1617 - accuracy: 0.9504\n",
            "Epoch 00001: val_loss improved from inf to 0.05309, saving model to /content/drive/MyDrive/DL/saved_models/mnist_callback_weight/mnist_ckpt\n",
            "600/600 [==============================] - 10s 16ms/step - loss: 0.1614 - accuracy: 0.9506 - val_loss: 0.0531 - val_accuracy: 0.9815\n",
            "Epoch 2/20\n",
            "598/600 [============================>.] - ETA: 0s - loss: 0.0429 - accuracy: 0.9868\n",
            "Epoch 00002: val_loss improved from 0.05309 to 0.02926, saving model to /content/drive/MyDrive/DL/saved_models/mnist_callback_weight/mnist_ckpt\n",
            "600/600 [==============================] - 10s 16ms/step - loss: 0.0430 - accuracy: 0.9867 - val_loss: 0.0293 - val_accuracy: 0.9898\n",
            "Epoch 3/20\n",
            "599/600 [============================>.] - ETA: 0s - loss: 0.0301 - accuracy: 0.9903\n",
            "Epoch 00003: val_loss did not improve from 0.02926\n",
            "600/600 [==============================] - 10s 16ms/step - loss: 0.0301 - accuracy: 0.9902 - val_loss: 0.0301 - val_accuracy: 0.9905\n",
            "Epoch 4/20\n",
            "599/600 [============================>.] - ETA: 0s - loss: 0.0226 - accuracy: 0.9928\n",
            "Epoch 00004: val_loss did not improve from 0.02926\n",
            "600/600 [==============================] - 10s 16ms/step - loss: 0.0226 - accuracy: 0.9928 - val_loss: 0.0311 - val_accuracy: 0.9898\n",
            "Epoch 5/20\n",
            "599/600 [============================>.] - ETA: 0s - loss: 0.0177 - accuracy: 0.9943\n",
            "Epoch 00005: val_loss did not improve from 0.02926\n",
            "600/600 [==============================] - 10s 16ms/step - loss: 0.0177 - accuracy: 0.9943 - val_loss: 0.0347 - val_accuracy: 0.9886\n",
            "Epoch 6/20\n",
            "599/600 [============================>.] - ETA: 0s - loss: 0.0158 - accuracy: 0.9945\n",
            "Epoch 00006: val_loss improved from 0.02926 to 0.02479, saving model to /content/drive/MyDrive/DL/saved_models/mnist_callback_weight/mnist_ckpt\n",
            "600/600 [==============================] - 10s 16ms/step - loss: 0.0158 - accuracy: 0.9945 - val_loss: 0.0248 - val_accuracy: 0.9918\n",
            "Epoch 7/20\n",
            "599/600 [============================>.] - ETA: 0s - loss: 0.0126 - accuracy: 0.9959\n",
            "Epoch 00007: val_loss did not improve from 0.02479\n",
            "600/600 [==============================] - 10s 16ms/step - loss: 0.0126 - accuracy: 0.9959 - val_loss: 0.0315 - val_accuracy: 0.9899\n",
            "Epoch 8/20\n",
            "597/600 [============================>.] - ETA: 0s - loss: 0.0102 - accuracy: 0.9966\n",
            "Epoch 00008: val_loss improved from 0.02479 to 0.02426, saving model to /content/drive/MyDrive/DL/saved_models/mnist_callback_weight/mnist_ckpt\n",
            "600/600 [==============================] - 10s 16ms/step - loss: 0.0101 - accuracy: 0.9966 - val_loss: 0.0243 - val_accuracy: 0.9921\n",
            "Epoch 9/20\n",
            "597/600 [============================>.] - ETA: 0s - loss: 0.0085 - accuracy: 0.9973\n",
            "Epoch 00009: val_loss did not improve from 0.02426\n",
            "600/600 [==============================] - 10s 16ms/step - loss: 0.0085 - accuracy: 0.9973 - val_loss: 0.0287 - val_accuracy: 0.9921\n",
            "Epoch 10/20\n",
            "598/600 [============================>.] - ETA: 0s - loss: 0.0092 - accuracy: 0.9970\n",
            "Epoch 00010: val_loss improved from 0.02426 to 0.02021, saving model to /content/drive/MyDrive/DL/saved_models/mnist_callback_weight/mnist_ckpt\n",
            "600/600 [==============================] - 10s 16ms/step - loss: 0.0091 - accuracy: 0.9970 - val_loss: 0.0202 - val_accuracy: 0.9948\n",
            "Epoch 11/20\n",
            "600/600 [==============================] - ETA: 0s - loss: 0.0070 - accuracy: 0.9976\n",
            "Epoch 00011: val_loss did not improve from 0.02021\n",
            "600/600 [==============================] - 10s 16ms/step - loss: 0.0070 - accuracy: 0.9976 - val_loss: 0.0377 - val_accuracy: 0.9904\n",
            "Epoch 12/20\n",
            "599/600 [============================>.] - ETA: 0s - loss: 0.0078 - accuracy: 0.9975\n",
            "Epoch 00012: val_loss did not improve from 0.02021\n",
            "600/600 [==============================] - 10s 16ms/step - loss: 0.0079 - accuracy: 0.9974 - val_loss: 0.0343 - val_accuracy: 0.9912\n",
            "Epoch 13/20\n",
            "599/600 [============================>.] - ETA: 0s - loss: 0.0047 - accuracy: 0.9985\n",
            "Epoch 00013: val_loss did not improve from 0.02021\n",
            "600/600 [==============================] - 10s 16ms/step - loss: 0.0047 - accuracy: 0.9985 - val_loss: 0.0292 - val_accuracy: 0.9927\n",
            "Epoch 14/20\n",
            "599/600 [============================>.] - ETA: 0s - loss: 0.0068 - accuracy: 0.9979\n",
            "Epoch 00014: val_loss did not improve from 0.02021\n",
            "600/600 [==============================] - 10s 16ms/step - loss: 0.0068 - accuracy: 0.9979 - val_loss: 0.0310 - val_accuracy: 0.9926\n",
            "Epoch 15/20\n",
            "598/600 [============================>.] - ETA: 0s - loss: 0.0047 - accuracy: 0.9984\n",
            "Epoch 00015: val_loss did not improve from 0.02021\n",
            "600/600 [==============================] - 10s 16ms/step - loss: 0.0048 - accuracy: 0.9984 - val_loss: 0.0442 - val_accuracy: 0.9893\n",
            "Epoch 00015: early stopping\n"
          ]
        }
      ]
    }
  ]
}