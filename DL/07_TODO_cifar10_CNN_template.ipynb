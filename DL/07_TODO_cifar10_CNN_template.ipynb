{
  "nbformat": 4,
  "nbformat_minor": 0,
  "metadata": {
    "colab": {
      "name": "07_TODO_cifar10_CNN_template.ipynb",
      "provenance": [],
      "collapsed_sections": [],
      "include_colab_link": true
    },
    "kernelspec": {
      "display_name": "Python 3 (ipykernel)",
      "language": "python",
      "name": "python3"
    },
    "language_info": {
      "codemirror_mode": {
        "name": "ipython",
        "version": 3
      },
      "file_extension": ".py",
      "mimetype": "text/x-python",
      "name": "python",
      "nbconvert_exporter": "python",
      "pygments_lexer": "ipython3",
      "version": "3.8.12"
    },
    "toc": {
      "base_numbering": 1,
      "nav_menu": {},
      "number_sections": true,
      "sideBar": true,
      "skip_h1_title": false,
      "title_cell": "Table of Contents",
      "title_sidebar": "Contents",
      "toc_cell": false,
      "toc_position": {},
      "toc_section_display": true,
      "toc_window_display": false
    },
    "varInspector": {
      "cols": {
        "lenName": 16,
        "lenType": 16,
        "lenVar": 40
      },
      "kernels_config": {
        "python": {
          "delete_cmd_postfix": "",
          "delete_cmd_prefix": "del ",
          "library": "var_list.py",
          "varRefreshCmd": "print(var_dic_list())"
        },
        "r": {
          "delete_cmd_postfix": ") ",
          "delete_cmd_prefix": "rm(",
          "library": "var_list.r",
          "varRefreshCmd": "cat(var_dic_list()) "
        }
      },
      "types_to_exclude": [
        "module",
        "function",
        "builtin_function_or_method",
        "instance",
        "_Feature"
      ],
      "window_display": false
    },
    "accelerator": "GPU"
  },
  "cells": [
    {
      "cell_type": "markdown",
      "metadata": {
        "id": "view-in-github",
        "colab_type": "text"
      },
      "source": [
        "<a href=\"https://colab.research.google.com/github/changhorang/SSAC_study/blob/main/DL/07_TODO_cifar10_CNN_template.ipynb\" target=\"_parent\"><img src=\"https://colab.research.google.com/assets/colab-badge.svg\" alt=\"Open In Colab\"/></a>"
      ]
    },
    {
      "cell_type": "code",
      "metadata": {
        "id": "ebMhVMMYBVzR"
      },
      "source": [
        "import numpy as np\n",
        "import tensorflow as tf\n",
        "from tensorflow import keras\n",
        "from tensorflow.keras import layers\n",
        "\n",
        "import matplotlib.pyplot as plt\n",
        "\n",
        "np.random.seed(0)\n",
        "tf.random.set_seed(0)"
      ],
      "execution_count": 1,
      "outputs": []
    },
    {
      "cell_type": "code",
      "metadata": {
        "colab": {
          "base_uri": "https://localhost:8080/"
        },
        "id": "Ka4eB_LfK5Ma",
        "scrolled": true,
        "outputId": "8346358a-d374-413c-92af-1e82eab8caeb"
      },
      "source": [
        "# matplotlib 한글 폰트 적용\n",
        "# 다운로드\n",
        "!sudo apt-get install -y fonts-nanum\n",
        "!sudo fc-cache -fv\n",
        "!rm ~/.cache/matplotlib -rf\n",
        "\n",
        "# 설치 후 런타임 다시시작"
      ],
      "execution_count": 2,
      "outputs": [
        {
          "output_type": "stream",
          "name": "stdout",
          "text": [
            "Reading package lists... Done\n",
            "Building dependency tree       \n",
            "Reading state information... Done\n",
            "The following NEW packages will be installed:\n",
            "  fonts-nanum\n",
            "0 upgraded, 1 newly installed, 0 to remove and 37 not upgraded.\n",
            "Need to get 9,604 kB of archives.\n",
            "After this operation, 29.5 MB of additional disk space will be used.\n",
            "Get:1 http://archive.ubuntu.com/ubuntu bionic/universe amd64 fonts-nanum all 20170925-1 [9,604 kB]\n",
            "Fetched 9,604 kB in 1s (7,225 kB/s)\n",
            "debconf: unable to initialize frontend: Dialog\n",
            "debconf: (No usable dialog-like program is installed, so the dialog based frontend cannot be used. at /usr/share/perl5/Debconf/FrontEnd/Dialog.pm line 76, <> line 1.)\n",
            "debconf: falling back to frontend: Readline\n",
            "debconf: unable to initialize frontend: Readline\n",
            "debconf: (This frontend requires a controlling tty.)\n",
            "debconf: falling back to frontend: Teletype\n",
            "dpkg-preconfigure: unable to re-open stdin: \n",
            "Selecting previously unselected package fonts-nanum.\n",
            "(Reading database ... 155222 files and directories currently installed.)\n",
            "Preparing to unpack .../fonts-nanum_20170925-1_all.deb ...\n",
            "Unpacking fonts-nanum (20170925-1) ...\n",
            "Setting up fonts-nanum (20170925-1) ...\n",
            "Processing triggers for fontconfig (2.12.6-0ubuntu2) ...\n",
            "/usr/share/fonts: caching, new cache contents: 0 fonts, 1 dirs\n",
            "/usr/share/fonts/truetype: caching, new cache contents: 0 fonts, 3 dirs\n",
            "/usr/share/fonts/truetype/humor-sans: caching, new cache contents: 1 fonts, 0 dirs\n",
            "/usr/share/fonts/truetype/liberation: caching, new cache contents: 16 fonts, 0 dirs\n",
            "/usr/share/fonts/truetype/nanum: caching, new cache contents: 10 fonts, 0 dirs\n",
            "/usr/local/share/fonts: caching, new cache contents: 0 fonts, 0 dirs\n",
            "/root/.local/share/fonts: skipping, no such directory\n",
            "/root/.fonts: skipping, no such directory\n",
            "/var/cache/fontconfig: cleaning cache directory\n",
            "/root/.cache/fontconfig: not cleaning non-existent cache directory\n",
            "/root/.fontconfig: not cleaning non-existent cache directory\n",
            "fc-cache: succeeded\n"
          ]
        }
      ]
    },
    {
      "cell_type": "code",
      "metadata": {
        "id": "ztvg-cFhLXMo"
      },
      "source": [
        "import matplotlib as mpl \n",
        "mpl.rcParams['font.family'] = 'NanumBarunGothic'\n",
        "mpl.rcParams['axes.unicode_minus'] = False"
      ],
      "execution_count": 3,
      "outputs": []
    },
    {
      "cell_type": "markdown",
      "metadata": {
        "id": "RzXZNy2dDLo2"
      },
      "source": [
        "# 데이터 로딩"
      ]
    },
    {
      "cell_type": "code",
      "metadata": {
        "colab": {
          "base_uri": "https://localhost:8080/"
        },
        "id": "Fe02xzQfDCd1",
        "outputId": "924bba55-0296-498d-ac65-e5c583ab4029"
      },
      "source": [
        "(train_image, train_label), (test_image, test_label) = keras.datasets.cifar10.load_data()"
      ],
      "execution_count": 4,
      "outputs": [
        {
          "output_type": "stream",
          "name": "stdout",
          "text": [
            "Downloading data from https://www.cs.toronto.edu/~kriz/cifar-10-python.tar.gz\n",
            "170500096/170498071 [==============================] - 3s 0us/step\n",
            "170508288/170498071 [==============================] - 3s 0us/step\n"
          ]
        }
      ]
    },
    {
      "cell_type": "code",
      "metadata": {
        "colab": {
          "base_uri": "https://localhost:8080/"
        },
        "id": "vLyx36IXsC6I",
        "outputId": "7e694e00-0193-4c26-b3c2-9eae251f81b9"
      },
      "source": [
        "train_image.shape, train_label.shape, test_image.shape, test_label.shape"
      ],
      "execution_count": 5,
      "outputs": [
        {
          "output_type": "execute_result",
          "data": {
            "text/plain": [
              "((50000, 32, 32, 3), (50000, 1), (10000, 32, 32, 3), (10000, 1))"
            ]
          },
          "metadata": {},
          "execution_count": 5
        }
      ]
    },
    {
      "cell_type": "code",
      "metadata": {
        "id": "4xCXERFLEdVV"
      },
      "source": [
        "class_names = np.array(['비행기', '자동차', '새', '고양이', '사슴', '개', '개구리', '말', '배', '트럭'])"
      ],
      "execution_count": 6,
      "outputs": []
    },
    {
      "cell_type": "markdown",
      "metadata": {
        "id": "f2GeMfAmqi1L"
      },
      "source": [
        "# 이미지 확인\n",
        "- matplotlib을 이용해 N개의 이미지를 확인한다. \n",
        "    - 개수는 알아서 선택하세요."
      ]
    },
    {
      "cell_type": "code",
      "metadata": {
        "colab": {
          "base_uri": "https://localhost:8080/",
          "height": 160
        },
        "id": "gREzT5zNqi1M",
        "outputId": "cad0f49c-fe7b-45f1-e4ad-c98ecbf4b3e0"
      },
      "source": [
        "plt.figure(figsize=(20, 20))\n",
        "\n",
        "for i in range(1, 11):\n",
        "  plt.subplot(1, 10, i)\n",
        "  plt.imshow(train_image[i])\n",
        "  plt.axis('off')\n",
        "\n",
        "plt.tight_layout()  \n",
        "plt.show()"
      ],
      "execution_count": 7,
      "outputs": [
        {
          "output_type": "display_data",
          "data": {
            "image/png": "[encoded data removed]",
            "text/plain": [
              "<Figure size 1440x1440 with 10 Axes>"
            ]
          },
          "metadata": {
            "needs_background": "light"
          }
        }
      ]
    },
    {
      "cell_type": "code",
      "metadata": {
        "id": "gCzONUbGqi1M"
      },
      "source": [
        ""
      ],
      "execution_count": 7,
      "outputs": []
    },
    {
      "cell_type": "markdown",
      "metadata": {
        "id": "cWUIcNbZGIlF"
      },
      "source": [
        "# 데이터 전처리\n",
        "- X: 0 ~ 1 scaling\n",
        "- y: onehot encoding"
      ]
    },
    {
      "cell_type": "code",
      "metadata": {
        "colab": {
          "base_uri": "https://localhost:8080/"
        },
        "id": "X0L32CgHqi1O",
        "outputId": "39a0ee0c-10ba-4369-bd3d-8fd87bf2eb45"
      },
      "source": [
        "train_image.max(), train_image.min()"
      ],
      "execution_count": 8,
      "outputs": [
        {
          "output_type": "execute_result",
          "data": {
            "text/plain": [
              "(255, 0)"
            ]
          },
          "metadata": {},
          "execution_count": 8
        }
      ]
    },
    {
      "cell_type": "code",
      "metadata": {
        "colab": {
          "base_uri": "https://localhost:8080/"
        },
        "id": "hJWXFMFNqi1P",
        "outputId": "7a61d0f7-c546-474c-e224-7e2c5a7fb633"
      },
      "source": [
        "X_train = (train_image/255.).astype(np.float32)\n",
        "X_test = (test_image/255.).astype(np.float32)\n",
        "\n",
        "X_train.shape, X_test.shape"
      ],
      "execution_count": 9,
      "outputs": [
        {
          "output_type": "execute_result",
          "data": {
            "text/plain": [
              "((50000, 32, 32, 3), (10000, 32, 32, 3))"
            ]
          },
          "metadata": {},
          "execution_count": 9
        }
      ]
    },
    {
      "cell_type": "code",
      "metadata": {
        "colab": {
          "base_uri": "https://localhost:8080/"
        },
        "id": "VbRAYqlovfNo",
        "outputId": "80d9d906-d4ae-44f8-c3de-5f4740726b4f"
      },
      "source": [
        "y_train = keras.utils.to_categorical(train_label)\n",
        "y_test = keras.utils.to_categorical(test_label)\n",
        "\n",
        "y_train.shape, y_test.shape"
      ],
      "execution_count": 10,
      "outputs": [
        {
          "output_type": "execute_result",
          "data": {
            "text/plain": [
              "((50000, 10), (10000, 10))"
            ]
          },
          "metadata": {},
          "execution_count": 10
        }
      ]
    },
    {
      "cell_type": "markdown",
      "metadata": {
        "id": "LwoGiH1ybVLb"
      },
      "source": [
        "# 하이퍼파라미터, 변수 정의"
      ]
    },
    {
      "cell_type": "code",
      "metadata": {
        "id": "YeU8WAqbqi1R"
      },
      "source": [
        "epochs = 30\n",
        "batch_size = 100\n",
        "lr = 1e-3\n",
        "dropout_ratio_1 = 0.5\n",
        "dropout_ratio_2 = 0.3\n",
        "\n",
        "n_train = train_image.shape[0]"
      ],
      "execution_count": 11,
      "outputs": []
    },
    {
      "cell_type": "markdown",
      "metadata": {
        "id": "kcUC3KOIGa9z"
      },
      "source": [
        "# Dataset 생성\n",
        "- train/test set"
      ]
    },
    {
      "cell_type": "code",
      "metadata": {
        "id": "h9rV08-Wqi1T"
      },
      "source": [
        "train_dataset = tf.data.Dataset.from_tensor_slices((X_train, y_train)).shuffle(n_train).batch(batch_size, drop_remainder=True)\n",
        "test_dataset = tf.data.Dataset.from_tensor_slices((X_test, y_test)).batch(batch_size)"
      ],
      "execution_count": 12,
      "outputs": []
    },
    {
      "cell_type": "code",
      "metadata": {
        "id": "viIDX2pTqi1U"
      },
      "source": [
        ""
      ],
      "execution_count": 12,
      "outputs": []
    },
    {
      "cell_type": "markdown",
      "metadata": {
        "id": "v2kVfzGkGRQy"
      },
      "source": [
        "# 모델 생성 및 컴파일\n",
        "- CNN 모델을 이용해 10개의 class를 분류하는 모델을 구현"
      ]
    },
    {
      "cell_type": "code",
      "metadata": {
        "id": "J8q4KXydcAD-"
      },
      "source": [
        "def create_cifar10_model():\n",
        "  model = keras.Sequential()\n",
        "\n",
        "  model.add(layers.InputLayer((32, 32, 3)))\n",
        "  \n",
        "  model.add(layers.Conv2D(filters=32, kernel_size=3, padding='same'))\n",
        "  model.add(layers.BatchNormalization())\n",
        "  model.add(layers.ReLU())\n",
        "  model.add(layers.MaxPool2D(pool_size=2, padding='same'))\n",
        "  \n",
        "  model.add(layers.Conv2D(filters=64, kernel_size=3, padding='same'))\n",
        "  model.add(layers.BatchNormalization())\n",
        "  model.add(layers.ReLU())\n",
        "  model.add(layers.MaxPool2D(pool_size=2, padding='same'))\n",
        "\n",
        "  model.add(layers.Conv2D(filters=128, kernel_size=3, padding='same'))\n",
        "  model.add(layers.BatchNormalization())\n",
        "  model.add(layers.ReLU())\n",
        "  model.add(layers.MaxPool2D(pool_size=2, padding='same'))\n",
        "\n",
        "  model.add(layers.Conv2D(filters=256, kernel_size=3, padding='same'))\n",
        "  model.add(layers.BatchNormalization())\n",
        "  model.add(layers.ReLU())\n",
        "  model.add(layers.MaxPool2D(pool_size=2, padding='same'))\n",
        "\n",
        "  model.add(layers.Flatten())\n",
        "  \n",
        "  model.add(layers.Dropout(rate=dropout_ratio_1))\n",
        "  model.add(layers.Dense(1024))\n",
        "  model.add(layers.BatchNormalization())\n",
        "  model.add(layers.ReLU())\n",
        "\n",
        "  model.add(layers.Dropout(rate=dropout_ratio_1))\n",
        "  model.add(layers.Dense(256))\n",
        "  model.add(layers.BatchNormalization())\n",
        "  model.add(layers.ReLU())\n",
        "\n",
        "  model.add(layers.Dropout(rate=dropout_ratio_2))\n",
        "  model.add(layers.Dense(64))\n",
        "  model.add(layers.BatchNormalization())\n",
        "  model.add(layers.ReLU())\n",
        "\n",
        "  model.add(layers.Dropout(rate=dropout_ratio_2))\n",
        "  model.add(layers.Dense(10))\n",
        "  model.add(layers.BatchNormalization())\n",
        "  model.add(layers.Softmax())\n",
        "\n",
        "  return model"
      ],
      "execution_count": 13,
      "outputs": []
    },
    {
      "cell_type": "code",
      "metadata": {
        "id": "lj4yKDTrcABb",
        "colab": {
          "base_uri": "https://localhost:8080/"
        },
        "outputId": "47f01947-02b6-4c34-dbab-4b90db3f811c"
      },
      "source": [
        "model = create_cifar10_model()\n",
        "model.summary()"
      ],
      "execution_count": 22,
      "outputs": [
        {
          "output_type": "stream",
          "name": "stdout",
          "text": [
            "Model: \"sequential_1\"\n",
            "_________________________________________________________________\n",
            " Layer (type)                Output Shape              Param #   \n",
            "=================================================================\n",
            " conv2d_4 (Conv2D)           (None, 32, 32, 32)        896       \n",
            "                                                                 \n",
            " batch_normalization_8 (Batc  (None, 32, 32, 32)       128       \n",
            " hNormalization)                                                 \n",
            "                                                                 \n",
            " re_lu_7 (ReLU)              (None, 32, 32, 32)        0         \n",
            "                                                                 \n",
            " max_pooling2d_4 (MaxPooling  (None, 16, 16, 32)       0         \n",
            " 2D)                                                             \n",
            "                                                                 \n",
            " conv2d_5 (Conv2D)           (None, 16, 16, 64)        18496     \n",
            "                                                                 \n",
            " batch_normalization_9 (Batc  (None, 16, 16, 64)       256       \n",
            " hNormalization)                                                 \n",
            "                                                                 \n",
            " re_lu_8 (ReLU)              (None, 16, 16, 64)        0         \n",
            "                                                                 \n",
            " max_pooling2d_5 (MaxPooling  (None, 8, 8, 64)         0         \n",
            " 2D)                                                             \n",
            "                                                                 \n",
            " conv2d_6 (Conv2D)           (None, 8, 8, 128)         73856     \n",
            "                                                                 \n",
            " batch_normalization_10 (Bat  (None, 8, 8, 128)        512       \n",
            " chNormalization)                                                \n",
            "                                                                 \n",
            " re_lu_9 (ReLU)              (None, 8, 8, 128)         0         \n",
            "                                                                 \n",
            " max_pooling2d_6 (MaxPooling  (None, 4, 4, 128)        0         \n",
            " 2D)                                                             \n",
            "                                                                 \n",
            " conv2d_7 (Conv2D)           (None, 4, 4, 256)         295168    \n",
            "                                                                 \n",
            " batch_normalization_11 (Bat  (None, 4, 4, 256)        1024      \n",
            " chNormalization)                                                \n",
            "                                                                 \n",
            " re_lu_10 (ReLU)             (None, 4, 4, 256)         0         \n",
            "                                                                 \n",
            " max_pooling2d_7 (MaxPooling  (None, 2, 2, 256)        0         \n",
            " 2D)                                                             \n",
            "                                                                 \n",
            " flatten_1 (Flatten)         (None, 1024)              0         \n",
            "                                                                 \n",
            " dropout_4 (Dropout)         (None, 1024)              0         \n",
            "                                                                 \n",
            " dense_4 (Dense)             (None, 1024)              1049600   \n",
            "                                                                 \n",
            " batch_normalization_12 (Bat  (None, 1024)             4096      \n",
            " chNormalization)                                                \n",
            "                                                                 \n",
            " re_lu_11 (ReLU)             (None, 1024)              0         \n",
            "                                                                 \n",
            " dropout_5 (Dropout)         (None, 1024)              0         \n",
            "                                                                 \n",
            " dense_5 (Dense)             (None, 256)               262400    \n",
            "                                                                 \n",
            " batch_normalization_13 (Bat  (None, 256)              1024      \n",
            " chNormalization)                                                \n",
            "                                                                 \n",
            " re_lu_12 (ReLU)             (None, 256)               0         \n",
            "                                                                 \n",
            " dropout_6 (Dropout)         (None, 256)               0         \n",
            "                                                                 \n",
            " dense_6 (Dense)             (None, 64)                16448     \n",
            "                                                                 \n",
            " batch_normalization_14 (Bat  (None, 64)               256       \n",
            " chNormalization)                                                \n",
            "                                                                 \n",
            " re_lu_13 (ReLU)             (None, 64)                0         \n",
            "                                                                 \n",
            " dropout_7 (Dropout)         (None, 64)                0         \n",
            "                                                                 \n",
            " dense_7 (Dense)             (None, 10)                650       \n",
            "                                                                 \n",
            " batch_normalization_15 (Bat  (None, 10)               40        \n",
            " chNormalization)                                                \n",
            "                                                                 \n",
            " softmax_1 (Softmax)         (None, 10)                0         \n",
            "                                                                 \n",
            "=================================================================\n",
            "Total params: 1,724,850\n",
            "Trainable params: 1,721,182\n",
            "Non-trainable params: 3,668\n",
            "_________________________________________________________________\n"
          ]
        }
      ]
    },
    {
      "cell_type": "markdown",
      "metadata": {
        "id": "mFjspsc1GUxo"
      },
      "source": [
        "# 학습 및 평가\n",
        "- callback을 이용해 early stopping, 가장 성능 좋았을때 모델 저장 하세요.\n",
        "    - 모델은 자신의 google drive에 저장하세요.\n",
        "- 저장됬던 모델을 loading한 뒤 그 모델도 평가해보세요."
      ]
    },
    {
      "cell_type": "code",
      "metadata": {
        "id": "5sa4myWtqi1X"
      },
      "source": [
        "model.compile(optimizer=keras.optimizers.Adam(learning_rate=lr), loss='categorical_crossentropy', metrics=['accuracy'])"
      ],
      "execution_count": 23,
      "outputs": []
    },
    {
      "cell_type": "code",
      "metadata": {
        "colab": {
          "base_uri": "https://localhost:8080/"
        },
        "id": "7anEj0db1Y15",
        "outputId": "4e38481e-80fb-491f-8c19-27e8d65eb567"
      },
      "source": [
        "from google.colab import drive\n",
        "drive.mount('/content/drive')"
      ],
      "execution_count": 16,
      "outputs": [
        {
          "output_type": "stream",
          "name": "stdout",
          "text": [
            "Mounted at /content/drive\n"
          ]
        }
      ]
    },
    {
      "cell_type": "code",
      "metadata": {
        "id": "GgghPVeYqi1X"
      },
      "source": [
        "# callback을 이용해 모델을 저장할 때 저장할 디렉토리 생성 및 경로 문자열로 저장\n",
        "import os\n",
        "\n",
        "base_dir = os.path.join(os.getcwd(), 'saved_models')\n",
        "if not os.path.isdir(base_dir):\n",
        "    os.mkdir(base_dir)\n",
        "\n",
        "\n",
        "# base_dir = '/content/drive/MyDrive/saved_models/'\n",
        "checkpoint_save_dir = os.path.join(base_dir, 'cifar10_callback')\n",
        "if not os.path.isdir(checkpoint_save_dir):\n",
        "    os.mkdir(checkpoint_save_dir)\n",
        "\n",
        "checkpoint_save_file = os.path.join(checkpoint_save_dir, 'cifar10_ckpt')"
      ],
      "execution_count": 19,
      "outputs": []
    },
    {
      "cell_type": "code",
      "metadata": {
        "id": "wgyVutJ61Syk"
      },
      "source": [
        "# 저장경로: parameter만 저장할 경우 파일명까지, 모델구조+weight를 저장할 경우 directory까지 설정\n",
        "mc_callback = keras.callbacks.ModelCheckpoint(filepath=checkpoint_save_file, # save directory\n",
        "                          save_best_only=True, # 성능이 개선된 경우에 계속 덮어쓰면서 저장\n",
        "                          monitor='val_loss',  # 어떤 성능 개선일 때 저장할 지 모니터링할 평가지표\n",
        "                          # save_weights_only=True, # parameter(weight)만 저장 [default: False]\n",
        "                          verbose=1) # 저장할 때 로그 출력\n",
        "\n",
        "es_callback = keras.callbacks.EarlyStopping(monitor='val_loss', # 모니터링할 평가지표\n",
        "                                            patience=8, # 지정한 epoch만 지나도록 개선이 안되면 train stop (general 5~10)\n",
        "                                            verbose=1)  # log 출력 (멈춘 이유 description)\n",
        "\n",
        "ls_callback = keras.callbacks.ReduceLROnPlateau(monitor='val_loss', # 성능개선과 관련해 볼 평가지표\n",
        "                          factor=0.5, # lr 조정 비율 (현재 lr*factor)\n",
        "                          patience=3, # 성능 개선이 안될 때, 몇 epoch까지 기다릴 지 지정 (general=10~)\n",
        "                          mode='min', # monitor의 값이 어떨 때 성능 개선 되는지 (min=작을 수록, max=클수록, auto=자동으로)\n",
        "                          verbose=2) # 학습률 변화시 로그 남기기"
      ],
      "execution_count": 20,
      "outputs": []
    },
    {
      "cell_type": "code",
      "metadata": {
        "colab": {
          "base_uri": "https://localhost:8080/"
        },
        "id": "MB7YEIga103m",
        "outputId": "9be0843d-3c15-47af-cec0-b0247f4fafd2"
      },
      "source": [
        "hist = model.fit(train_dataset, epochs=epochs, validation_data=test_dataset,\n",
        "                  callbacks=[mc_callback, ls_callback])"
      ],
      "execution_count": 24,
      "outputs": [
        {
          "output_type": "stream",
          "name": "stdout",
          "text": [
            "Epoch 1/30\n",
            "499/500 [============================>.] - ETA: 0s - loss: 1.6163 - accuracy: 0.4261\n",
            "Epoch 00001: val_loss did not improve from 1.21304\n",
            "500/500 [==============================] - 21s 38ms/step - loss: 1.6157 - accuracy: 0.4264 - val_loss: 1.5023 - val_accuracy: 0.4645 - lr: 0.0010\n",
            "Epoch 2/30\n",
            "499/500 [============================>.] - ETA: 0s - loss: 1.1790 - accuracy: 0.6072\n",
            "Epoch 00002: val_loss improved from 1.21304 to 1.19203, saving model to /content/saved_models/cifar10_callback/cifar10_ckpt\n",
            "INFO:tensorflow:Assets written to: /content/saved_models/cifar10_callback/cifar10_ckpt/assets\n",
            "500/500 [==============================] - 23s 46ms/step - loss: 1.1787 - accuracy: 0.6074 - val_loss: 1.1920 - val_accuracy: 0.5985 - lr: 0.0010\n",
            "Epoch 3/30\n",
            "499/500 [============================>.] - ETA: 0s - loss: 0.9830 - accuracy: 0.6801\n",
            "Epoch 00003: val_loss improved from 1.19203 to 0.99343, saving model to /content/saved_models/cifar10_callback/cifar10_ckpt\n",
            "INFO:tensorflow:Assets written to: /content/saved_models/cifar10_callback/cifar10_ckpt/assets\n",
            "500/500 [==============================] - 25s 49ms/step - loss: 0.9830 - accuracy: 0.6801 - val_loss: 0.9934 - val_accuracy: 0.6581 - lr: 0.0010\n",
            "Epoch 4/30\n",
            "499/500 [============================>.] - ETA: 0s - loss: 0.8641 - accuracy: 0.7213\n",
            "Epoch 00004: val_loss did not improve from 0.99343\n",
            "500/500 [==============================] - 18s 37ms/step - loss: 0.8644 - accuracy: 0.7212 - val_loss: 1.1186 - val_accuracy: 0.6192 - lr: 0.0010\n",
            "Epoch 5/30\n",
            "499/500 [============================>.] - ETA: 0s - loss: 0.7814 - accuracy: 0.7462\n",
            "Epoch 00005: val_loss did not improve from 0.99343\n",
            "500/500 [==============================] - 17s 35ms/step - loss: 0.7815 - accuracy: 0.7462 - val_loss: 1.1152 - val_accuracy: 0.6362 - lr: 0.0010\n",
            "Epoch 6/30\n",
            "499/500 [============================>.] - ETA: 0s - loss: 0.7117 - accuracy: 0.7741\n",
            "Epoch 00006: val_loss did not improve from 0.99343\n",
            "\n",
            "Epoch 00006: ReduceLROnPlateau reducing learning rate to 0.0005000000237487257.\n",
            "500/500 [==============================] - 18s 35ms/step - loss: 0.7115 - accuracy: 0.7742 - val_loss: 1.0515 - val_accuracy: 0.6645 - lr: 0.0010\n",
            "Epoch 7/30\n",
            "499/500 [============================>.] - ETA: 0s - loss: 0.6004 - accuracy: 0.8122\n",
            "Epoch 00007: val_loss improved from 0.99343 to 0.68737, saving model to /content/saved_models/cifar10_callback/cifar10_ckpt\n",
            "INFO:tensorflow:Assets written to: /content/saved_models/cifar10_callback/cifar10_ckpt/assets\n",
            "500/500 [==============================] - 23s 46ms/step - loss: 0.6003 - accuracy: 0.8121 - val_loss: 0.6874 - val_accuracy: 0.7793 - lr: 5.0000e-04\n",
            "Epoch 8/30\n",
            "499/500 [============================>.] - ETA: 0s - loss: 0.5500 - accuracy: 0.8279\n",
            "Epoch 00008: val_loss did not improve from 0.68737\n",
            "500/500 [==============================] - 17s 34ms/step - loss: 0.5500 - accuracy: 0.8279 - val_loss: 0.9364 - val_accuracy: 0.7085 - lr: 5.0000e-04\n",
            "Epoch 9/30\n",
            "500/500 [==============================] - ETA: 0s - loss: 0.5121 - accuracy: 0.8424\n",
            "Epoch 00009: val_loss did not improve from 0.68737\n",
            "500/500 [==============================] - 19s 38ms/step - loss: 0.5121 - accuracy: 0.8424 - val_loss: 0.7442 - val_accuracy: 0.7558 - lr: 5.0000e-04\n",
            "Epoch 10/30\n",
            "499/500 [============================>.] - ETA: 0s - loss: 0.4735 - accuracy: 0.8541\n",
            "Epoch 00010: val_loss did not improve from 0.68737\n",
            "\n",
            "Epoch 00010: ReduceLROnPlateau reducing learning rate to 0.0002500000118743628.\n",
            "500/500 [==============================] - 18s 36ms/step - loss: 0.4734 - accuracy: 0.8542 - val_loss: 0.7855 - val_accuracy: 0.7456 - lr: 5.0000e-04\n",
            "Epoch 11/30\n",
            "499/500 [============================>.] - ETA: 0s - loss: 0.4060 - accuracy: 0.8777\n",
            "Epoch 00011: val_loss improved from 0.68737 to 0.57706, saving model to /content/saved_models/cifar10_callback/cifar10_ckpt\n",
            "INFO:tensorflow:Assets written to: /content/saved_models/cifar10_callback/cifar10_ckpt/assets\n",
            "500/500 [==============================] - 24s 47ms/step - loss: 0.4061 - accuracy: 0.8777 - val_loss: 0.5771 - val_accuracy: 0.8078 - lr: 2.5000e-04\n",
            "Epoch 12/30\n",
            "499/500 [============================>.] - ETA: 0s - loss: 0.3714 - accuracy: 0.8877\n",
            "Epoch 00012: val_loss did not improve from 0.57706\n",
            "500/500 [==============================] - 17s 34ms/step - loss: 0.3718 - accuracy: 0.8875 - val_loss: 0.6162 - val_accuracy: 0.8063 - lr: 2.5000e-04\n",
            "Epoch 13/30\n",
            "499/500 [============================>.] - ETA: 0s - loss: 0.3560 - accuracy: 0.8940\n",
            "Epoch 00013: val_loss did not improve from 0.57706\n",
            "500/500 [==============================] - 17s 35ms/step - loss: 0.3560 - accuracy: 0.8940 - val_loss: 0.6218 - val_accuracy: 0.8029 - lr: 2.5000e-04\n",
            "Epoch 14/30\n",
            "499/500 [============================>.] - ETA: 0s - loss: 0.3362 - accuracy: 0.8998\n",
            "Epoch 00014: val_loss did not improve from 0.57706\n",
            "\n",
            "Epoch 00014: ReduceLROnPlateau reducing learning rate to 0.0001250000059371814.\n",
            "500/500 [==============================] - 18s 36ms/step - loss: 0.3362 - accuracy: 0.8998 - val_loss: 0.7134 - val_accuracy: 0.7794 - lr: 2.5000e-04\n",
            "Epoch 15/30\n",
            "499/500 [============================>.] - ETA: 0s - loss: 0.2990 - accuracy: 0.9132\n",
            "Epoch 00015: val_loss did not improve from 0.57706\n",
            "500/500 [==============================] - 17s 34ms/step - loss: 0.2988 - accuracy: 0.9133 - val_loss: 0.5840 - val_accuracy: 0.8199 - lr: 1.2500e-04\n",
            "Epoch 16/30\n",
            "499/500 [============================>.] - ETA: 0s - loss: 0.2907 - accuracy: 0.9135\n",
            "Epoch 00016: val_loss did not improve from 0.57706\n",
            "500/500 [==============================] - 18s 36ms/step - loss: 0.2905 - accuracy: 0.9136 - val_loss: 0.6090 - val_accuracy: 0.8129 - lr: 1.2500e-04\n",
            "Epoch 17/30\n",
            "499/500 [============================>.] - ETA: 0s - loss: 0.2733 - accuracy: 0.9209\n",
            "Epoch 00017: val_loss did not improve from 0.57706\n",
            "\n",
            "Epoch 00017: ReduceLROnPlateau reducing learning rate to 6.25000029685907e-05.\n",
            "500/500 [==============================] - 18s 35ms/step - loss: 0.2738 - accuracy: 0.9207 - val_loss: 0.5948 - val_accuracy: 0.8203 - lr: 1.2500e-04\n",
            "Epoch 18/30\n",
            "499/500 [============================>.] - ETA: 0s - loss: 0.2499 - accuracy: 0.9284\n",
            "Epoch 00018: val_loss did not improve from 0.57706\n",
            "500/500 [==============================] - 17s 34ms/step - loss: 0.2498 - accuracy: 0.9284 - val_loss: 0.6007 - val_accuracy: 0.8172 - lr: 6.2500e-05\n",
            "Epoch 19/30\n",
            "499/500 [============================>.] - ETA: 0s - loss: 0.2496 - accuracy: 0.9285\n",
            "Epoch 00019: val_loss did not improve from 0.57706\n",
            "500/500 [==============================] - 18s 35ms/step - loss: 0.2500 - accuracy: 0.9284 - val_loss: 0.6138 - val_accuracy: 0.8174 - lr: 6.2500e-05\n",
            "Epoch 20/30\n",
            "499/500 [============================>.] - ETA: 0s - loss: 0.2423 - accuracy: 0.9304\n",
            "Epoch 00020: val_loss did not improve from 0.57706\n",
            "\n",
            "Epoch 00020: ReduceLROnPlateau reducing learning rate to 3.125000148429535e-05.\n",
            "500/500 [==============================] - 17s 34ms/step - loss: 0.2426 - accuracy: 0.9304 - val_loss: 0.6050 - val_accuracy: 0.8162 - lr: 6.2500e-05\n",
            "Epoch 21/30\n",
            "499/500 [============================>.] - ETA: 0s - loss: 0.2351 - accuracy: 0.9341\n",
            "Epoch 00021: val_loss did not improve from 0.57706\n",
            "500/500 [==============================] - 18s 36ms/step - loss: 0.2354 - accuracy: 0.9340 - val_loss: 0.5898 - val_accuracy: 0.8231 - lr: 3.1250e-05\n",
            "Epoch 22/30\n",
            "499/500 [============================>.] - ETA: 0s - loss: 0.2305 - accuracy: 0.9353\n",
            "Epoch 00022: val_loss did not improve from 0.57706\n",
            "500/500 [==============================] - 17s 34ms/step - loss: 0.2304 - accuracy: 0.9354 - val_loss: 0.5962 - val_accuracy: 0.8211 - lr: 3.1250e-05\n",
            "Epoch 23/30\n",
            "499/500 [============================>.] - ETA: 0s - loss: 0.2294 - accuracy: 0.9352\n",
            "Epoch 00023: val_loss did not improve from 0.57706\n",
            "\n",
            "Epoch 00023: ReduceLROnPlateau reducing learning rate to 1.5625000742147677e-05.\n",
            "500/500 [==============================] - 17s 34ms/step - loss: 0.2293 - accuracy: 0.9352 - val_loss: 0.6055 - val_accuracy: 0.8173 - lr: 3.1250e-05\n",
            "Epoch 24/30\n",
            "499/500 [============================>.] - ETA: 0s - loss: 0.2217 - accuracy: 0.9377\n",
            "Epoch 00024: val_loss did not improve from 0.57706\n",
            "500/500 [==============================] - 17s 33ms/step - loss: 0.2217 - accuracy: 0.9376 - val_loss: 0.5976 - val_accuracy: 0.8203 - lr: 1.5625e-05\n",
            "Epoch 25/30\n",
            "499/500 [============================>.] - ETA: 0s - loss: 0.2186 - accuracy: 0.9395\n",
            "Epoch 00025: val_loss did not improve from 0.57706\n",
            "500/500 [==============================] - 16s 33ms/step - loss: 0.2185 - accuracy: 0.9395 - val_loss: 0.5964 - val_accuracy: 0.8202 - lr: 1.5625e-05\n",
            "Epoch 26/30\n",
            "499/500 [============================>.] - ETA: 0s - loss: 0.2152 - accuracy: 0.9408\n",
            "Epoch 00026: val_loss did not improve from 0.57706\n",
            "\n",
            "Epoch 00026: ReduceLROnPlateau reducing learning rate to 7.812500371073838e-06.\n",
            "500/500 [==============================] - 18s 36ms/step - loss: 0.2152 - accuracy: 0.9408 - val_loss: 0.5983 - val_accuracy: 0.8210 - lr: 1.5625e-05\n",
            "Epoch 27/30\n",
            "499/500 [============================>.] - ETA: 0s - loss: 0.2154 - accuracy: 0.9395\n",
            "Epoch 00027: val_loss did not improve from 0.57706\n",
            "500/500 [==============================] - 17s 34ms/step - loss: 0.2157 - accuracy: 0.9395 - val_loss: 0.5975 - val_accuracy: 0.8215 - lr: 7.8125e-06\n",
            "Epoch 28/30\n",
            "499/500 [============================>.] - ETA: 0s - loss: 0.2145 - accuracy: 0.9404\n",
            "Epoch 00028: val_loss did not improve from 0.57706\n",
            "500/500 [==============================] - 17s 34ms/step - loss: 0.2143 - accuracy: 0.9405 - val_loss: 0.5975 - val_accuracy: 0.8217 - lr: 7.8125e-06\n",
            "Epoch 29/30\n",
            "499/500 [============================>.] - ETA: 0s - loss: 0.2141 - accuracy: 0.9410\n",
            "Epoch 00029: val_loss did not improve from 0.57706\n",
            "\n",
            "Epoch 00029: ReduceLROnPlateau reducing learning rate to 3.906250185536919e-06.\n",
            "500/500 [==============================] - 17s 34ms/step - loss: 0.2139 - accuracy: 0.9411 - val_loss: 0.5973 - val_accuracy: 0.8218 - lr: 7.8125e-06\n",
            "Epoch 30/30\n",
            "499/500 [============================>.] - ETA: 0s - loss: 0.2171 - accuracy: 0.9396\n",
            "Epoch 00030: val_loss did not improve from 0.57706\n",
            "500/500 [==============================] - 17s 33ms/step - loss: 0.2170 - accuracy: 0.9396 - val_loss: 0.5994 - val_accuracy: 0.8209 - lr: 3.9063e-06\n"
          ]
        }
      ]
    },
    {
      "cell_type": "code",
      "metadata": {
        "id": "BVG7A75_15jJ"
      },
      "source": [
        "# loss 그래프\n",
        "def plot_loss(history):\n",
        "    plt.plot(history.history['loss'], label='Train loss')\n",
        "    plt.plot(history.history['val_loss'], label='Validation loss')\n",
        "    plt.title('Loss')\n",
        "    plt.xlabel('epoch')\n",
        "    plt.ylabel('loss')\n",
        "    plt.legend()\n",
        "    plt.show()\n",
        "\n",
        "# accuracy 그래프\n",
        "def plot_accuracy(history):\n",
        "    plt.plot(history.history['accuracy'], label='Train accuracy')\n",
        "    plt.plot(history.history['val_accuracy'], label='Validation accuracy')\n",
        "    plt.title('Accuracy')\n",
        "    plt.xlabel('epoch')\n",
        "    plt.ylabel('accuracy')\n",
        "    plt.legend()\n",
        "    plt.show()"
      ],
      "execution_count": 25,
      "outputs": []
    },
    {
      "cell_type": "code",
      "metadata": {
        "colab": {
          "base_uri": "https://localhost:8080/",
          "height": 332
        },
        "id": "PO-B9VcW8Lha",
        "outputId": "4e961c63-d161-43fd-a24e-a2e0f1717d56"
      },
      "source": [
        "plot_loss(hist)"
      ],
      "execution_count": 26,
      "outputs": [
        {
          "output_type": "stream",
          "name": "stderr",
          "text": [
            "findfont: Font family ['NanumBarunGothic'] not found. Falling back to DejaVu Sans.\n",
            "findfont: Font family ['NanumBarunGothic'] not found. Falling back to DejaVu Sans.\n"
          ]
        },
        {
          "output_type": "display_data",
          "data": {
            "image/png": "[encoded data removed]",
            "text/plain": [
              "<Figure size 432x288 with 1 Axes>"
            ]
          },
          "metadata": {
            "needs_background": "light"
          }
        }
      ]
    },
    {
      "cell_type": "code",
      "metadata": {
        "colab": {
          "base_uri": "https://localhost:8080/",
          "height": 295
        },
        "id": "TDzxEMmz8PHK",
        "outputId": "e27033cb-6cae-40ee-bf9f-902e8bea7858"
      },
      "source": [
        "plot_accuracy(hist)"
      ],
      "execution_count": 27,
      "outputs": [
        {
          "output_type": "display_data",
          "data": {
            "image/png": "[encoded data removed]",
            "text/plain": [
              "<Figure size 432x288 with 1 Axes>"
            ]
          },
          "metadata": {
            "needs_background": "light"
          }
        }
      ]
    }
  ]
}