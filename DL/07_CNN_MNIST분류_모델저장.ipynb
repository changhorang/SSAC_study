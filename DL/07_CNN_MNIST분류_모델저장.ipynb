{
  "nbformat": 4,
  "nbformat_minor": 0,
  "metadata": {
    "accelerator": "GPU",
    "colab": {
      "name": "07_CNN_MNIST분류, 모델저장.ipynb",
      "provenance": [],
      "collapsed_sections": [
        "2ARCyjDW66NR"
      ],
      "include_colab_link": true
    },
    "kernelspec": {
      "display_name": "Python 3 (ipykernel)",
      "language": "python",
      "name": "python3"
    },
    "language_info": {
      "codemirror_mode": {
        "name": "ipython",
        "version": 3
      },
      "file_extension": ".py",
      "mimetype": "text/x-python",
      "name": "python",
      "nbconvert_exporter": "python",
      "pygments_lexer": "ipython3",
      "version": "3.8.12"
    },
    "toc": {
      "base_numbering": 1,
      "nav_menu": {},
      "number_sections": true,
      "sideBar": true,
      "skip_h1_title": false,
      "title_cell": "Table of Contents",
      "title_sidebar": "Contents",
      "toc_cell": false,
      "toc_position": {},
      "toc_section_display": true,
      "toc_window_display": false
    },
    "varInspector": {
      "cols": {
        "lenName": 16,
        "lenType": 16,
        "lenVar": 40
      },
      "kernels_config": {
        "python": {
          "delete_cmd_postfix": "",
          "delete_cmd_prefix": "del ",
          "library": "var_list.py",
          "varRefreshCmd": "print(var_dic_list())"
        },
        "r": {
          "delete_cmd_postfix": ") ",
          "delete_cmd_prefix": "rm(",
          "library": "var_list.r",
          "varRefreshCmd": "cat(var_dic_list()) "
        }
      },
      "types_to_exclude": [
        "module",
        "function",
        "builtin_function_or_method",
        "instance",
        "_Feature"
      ],
      "window_display": false
    }
  },
  "cells": [
    {
      "cell_type": "markdown",
      "metadata": {
        "id": "view-in-github",
        "colab_type": "text"
      },
      "source": [
        "<a href=\"https://colab.research.google.com/github/changhorang/SSAC_study/blob/main/DL/07_CNN_MNIST%EB%B6%84%EB%A5%98_%EB%AA%A8%EB%8D%B8%EC%A0%80%EC%9E%A5.ipynb\" target=\"_parent\"><img src=\"https://colab.research.google.com/assets/colab-badge.svg\" alt=\"Open In Colab\"/></a>"
      ]
    },
    {
      "cell_type": "markdown",
      "metadata": {
        "id": "n1-HdRR266M6"
      },
      "source": [
        "# Convolutional Neural Network 구현\n",
        "\n",
        "- MNIST 손글씨 data를 이용하여 CNN을 학습하고 MLP와 결과와 비교 해본다."
      ]
    },
    {
      "cell_type": "markdown",
      "metadata": {
        "id": "Ajauq9hxvd9y"
      },
      "source": [
        "##### 학습결과 시각화 함수 정의"
      ]
    },
    {
      "cell_type": "code",
      "metadata": {
        "colab": {
          "base_uri": "https://localhost:8080/"
        },
        "id": "0UYE9mAxz1jO",
        "outputId": "ef9baa81-505f-42d4-bf3c-bdd0b3643b08"
      },
      "source": [
        "!nvidia-smi"
      ],
      "execution_count": 1,
      "outputs": [
        {
          "output_type": "stream",
          "name": "stdout",
          "text": [
            "Mon Dec  6 06:22:57 2021       \n",
            "+-----------------------------------------------------------------------------+\n",
            "| NVIDIA-SMI 495.44       Driver Version: 460.32.03    CUDA Version: 11.2     |\n",
            "|-------------------------------+----------------------+----------------------+\n",
            "| GPU  Name        Persistence-M| Bus-Id        Disp.A | Volatile Uncorr. ECC |\n",
            "| Fan  Temp  Perf  Pwr:Usage/Cap|         Memory-Usage | GPU-Util  Compute M. |\n",
            "|                               |                      |               MIG M. |\n",
            "|===============================+======================+======================|\n",
            "|   0  Tesla K80           Off  | 00000000:00:04.0 Off |                    0 |\n",
            "| N/A   36C    P8    28W / 149W |      0MiB / 11441MiB |      0%      Default |\n",
            "|                               |                      |                  N/A |\n",
            "+-------------------------------+----------------------+----------------------+\n",
            "                                                                               \n",
            "+-----------------------------------------------------------------------------+\n",
            "| Processes:                                                                  |\n",
            "|  GPU   GI   CI        PID   Type   Process name                  GPU Memory |\n",
            "|        ID   ID                                                   Usage      |\n",
            "|=============================================================================|\n",
            "|  No running processes found                                                 |\n",
            "+-----------------------------------------------------------------------------+\n"
          ]
        }
      ]
    },
    {
      "cell_type": "code",
      "metadata": {
        "ExecuteTime": {
          "end_time": "2021-11-05T01:51:07.359080Z",
          "start_time": "2021-11-05T01:51:06.988477Z"
        },
        "id": "6eRfpyes66NC"
      },
      "source": [
        "import matplotlib.pyplot as plt\n",
        "\n",
        "# loss 그래프\n",
        "def plot_loss(history):\n",
        "    plt.plot(history.history['loss'], label='Train loss')\n",
        "    plt.plot(history.history['val_loss'], label='Validation loss')\n",
        "    plt.title('Loss')\n",
        "    plt.xlabel('epoch')\n",
        "    plt.ylabel('loss')\n",
        "    plt.legend()\n",
        "    plt.show()"
      ],
      "execution_count": 2,
      "outputs": []
    },
    {
      "cell_type": "code",
      "metadata": {
        "ExecuteTime": {
          "end_time": "2021-11-05T01:51:07.375106Z",
          "start_time": "2021-11-05T01:51:07.360114Z"
        },
        "id": "Qb5naeVi66ND"
      },
      "source": [
        "# accuracy 그래프\n",
        "def plot_accuracy(history):\n",
        "    plt.plot(history.history['accuracy'], label='Train accuracy')\n",
        "    plt.plot(history.history['val_accuracy'], label='Validation accuracy')\n",
        "    plt.title('Accuracy')\n",
        "    plt.xlabel('epoch')\n",
        "    plt.ylabel('accuracy')\n",
        "    plt.legend()\n",
        "    plt.show()"
      ],
      "execution_count": 3,
      "outputs": []
    },
    {
      "cell_type": "markdown",
      "metadata": {
        "id": "7nqRM-ZYvd94"
      },
      "source": [
        "# MNIST CNN 적용"
      ]
    },
    {
      "cell_type": "code",
      "metadata": {
        "ExecuteTime": {
          "end_time": "2021-11-05T01:51:10.884077Z",
          "start_time": "2021-11-05T01:51:08.546886Z"
        },
        "colab": {
          "base_uri": "https://localhost:8080/"
        },
        "id": "LcNnf6Ey66NE",
        "outputId": "6f68eeda-05d4-4359-d526-bf317d632585"
      },
      "source": [
        "import os\n",
        "import numpy as np\n",
        "\n",
        "import tensorflow as tf\n",
        "from tensorflow import keras\n",
        "from tensorflow.keras import layers\n",
        "\n",
        "print(tf.__version__)\n",
        "print(keras.__version__)"
      ],
      "execution_count": 4,
      "outputs": [
        {
          "output_type": "stream",
          "name": "stdout",
          "text": [
            "2.7.0\n",
            "2.7.0\n"
          ]
        }
      ]
    },
    {
      "cell_type": "code",
      "metadata": {
        "ExecuteTime": {
          "end_time": "2021-11-05T01:51:10.894074Z",
          "start_time": "2021-11-05T01:51:10.886077Z"
        },
        "id": "6MaESnzB66NF"
      },
      "source": [
        "np.random.seed(0)\n",
        "tf.random.set_seed(0)"
      ],
      "execution_count": 5,
      "outputs": []
    },
    {
      "cell_type": "markdown",
      "metadata": {
        "id": "0-BeYV6Jvd99"
      },
      "source": [
        "##### data loading"
      ]
    },
    {
      "cell_type": "code",
      "metadata": {
        "ExecuteTime": {
          "end_time": "2021-11-05T01:51:12.064601Z",
          "start_time": "2021-11-05T01:51:11.810927Z"
        },
        "colab": {
          "base_uri": "https://localhost:8080/"
        },
        "id": "bnUA8ThZvd9_",
        "outputId": "63ce1e6b-13f8-46ee-870d-845a9448373a"
      },
      "source": [
        "(train_image, train_label), (test_image, test_label) = keras.datasets.mnist.load_data()\n",
        "train_image.shape, test_image.shape\n",
        "# (60000, 28, 28) - (개수, height, width) => channel 축이 없으므로 늘릴 것!"
      ],
      "execution_count": 6,
      "outputs": [
        {
          "output_type": "stream",
          "name": "stdout",
          "text": [
            "Downloading data from https://storage.googleapis.com/tensorflow/tf-keras-datasets/mnist.npz\n",
            "11493376/11490434 [==============================] - 0s 0us/step\n",
            "11501568/11490434 [==============================] - 0s 0us/step\n"
          ]
        },
        {
          "output_type": "execute_result",
          "data": {
            "text/plain": [
              "((60000, 28, 28), (10000, 28, 28))"
            ]
          },
          "metadata": {},
          "execution_count": 6
        }
      ]
    },
    {
      "cell_type": "markdown",
      "metadata": {
        "id": "Jn_X_HsSvd-B"
      },
      "source": [
        "##### 하이퍼파라미터, 변수 설정"
      ]
    },
    {
      "cell_type": "code",
      "metadata": {
        "ExecuteTime": {
          "end_time": "2021-11-05T01:51:12.922956Z",
          "start_time": "2021-11-05T01:51:12.905933Z"
        },
        "id": "DUMcV93l66NG"
      },
      "source": [
        "LEARNING_RATE = 0.001\n",
        "N_EPOCHS = 20\n",
        "N_BATCHS = 100\n",
        "\n",
        "N_TRAIN = train_image.shape[0]\n",
        "N_TEST = test_image.shape[0]"
      ],
      "execution_count": 7,
      "outputs": []
    },
    {
      "cell_type": "markdown",
      "metadata": {
        "id": "nm0RJK1Fvd-E"
      },
      "source": [
        "##### 전처리, Dataset 생성\n",
        "- X: 0 ~ 1 scaling\n",
        "    - gray scale 일 경우 channel 축을 늘려줘야 한다. (h, w, 1)\n",
        "- Y: onehot encoding"
      ]
    },
    {
      "cell_type": "code",
      "metadata": {
        "ExecuteTime": {
          "end_time": "2021-11-05T01:51:14.114053Z",
          "start_time": "2021-11-05T01:51:13.857638Z"
        },
        "colab": {
          "base_uri": "https://localhost:8080/"
        },
        "id": "T7jPHxAhvd-F",
        "outputId": "ec979848-56c0-47c6-d914-8f0370be0218"
      },
      "source": [
        "# X: 0 ~ 1 scaling\n",
        "X_train_tmp = (train_image/255.0).astype(np.float32)\n",
        "X_test_tmp = (test_image/255.0).astype(np.float32)\n",
        "\n",
        "# channel 축을 추가\n",
        "# ...: 원래 shape, np.newaxis는 크기가 1인 axis 추가\n",
        "X_train = X_train_tmp[..., np.newaxis] # (60000, 28, 28, 1)\n",
        "X_test = X_test_tmp[..., np.newaxis]\n",
        "X_train.shape, X_test.shape"
      ],
      "execution_count": 8,
      "outputs": [
        {
          "output_type": "execute_result",
          "data": {
            "text/plain": [
              "((60000, 28, 28, 1), (10000, 28, 28, 1))"
            ]
          },
          "metadata": {},
          "execution_count": 8
        }
      ]
    },
    {
      "cell_type": "code",
      "metadata": {
        "ExecuteTime": {
          "end_time": "2021-11-05T01:51:14.254296Z",
          "start_time": "2021-11-05T01:51:14.234264Z"
        },
        "id": "iOQ7nSdE66NI"
      },
      "source": [
        "# y: onehot-encoding\n",
        "y_train = keras.utils.to_categorical(train_label)\n",
        "y_test = keras.utils.to_categorical(test_label)"
      ],
      "execution_count": 9,
      "outputs": []
    },
    {
      "cell_type": "markdown",
      "metadata": {
        "ExecuteTime": {
          "end_time": "2021-04-22T04:45:59.913389Z",
          "start_time": "2021-04-22T04:45:59.848393Z"
        },
        "id": "gCrtqoUC66NJ"
      },
      "source": [
        "###### Dataset 생성"
      ]
    },
    {
      "cell_type": "code",
      "metadata": {
        "ExecuteTime": {
          "end_time": "2021-11-05T01:51:16.901483Z",
          "start_time": "2021-11-05T01:51:15.147591Z"
        },
        "id": "28fJUQG2vd-H"
      },
      "source": [
        "train_dataset = tf.data.Dataset.from_tensor_slices((X_train, y_train)).shuffle(N_TRAIN).batch(N_BATCHS, drop_remainder=True)\n",
        "\n",
        "test_dataset = tf.data.Dataset.from_tensor_slices((X_test, y_test)).batch(N_BATCHS)"
      ],
      "execution_count": 10,
      "outputs": []
    },
    {
      "cell_type": "markdown",
      "metadata": {
        "id": "-qoEYdejvd-I"
      },
      "source": [
        "## Model(Network) 정의\n",
        "- Feature Extraction(backbone):Convolution Layer\n",
        "    - block: Convolution + MaxPooling Layer\n",
        "    - size(height, width) 는 줄이고 channel은 늘리는 방향으로 Layer들을 쌓는다.\n",
        "    - convolution\n",
        "        - size: 3 X 3\n",
        "        - strides: 1\n",
        "    - max pooling\n",
        "        - size: 2 X 2\n",
        "        - strides: 2\n",
        "- 분류기\n",
        "    - Dense Layer 사용        \n",
        "    - Flatten을 먼저 해야 한다. (Conv의 output-feature map- 3차원 배열)\n"
      ]
    },
    {
      "cell_type": "code",
      "metadata": {
        "ExecuteTime": {
          "end_time": "2021-11-05T01:51:20.648669Z",
          "start_time": "2021-11-05T01:51:20.626669Z"
        },
        "id": "L_yg9ijU66NJ"
      },
      "source": [
        "def create_mnist_model():\n",
        "    model = keras.Sequential()\n",
        "\n",
        "    model.add(layers.InputLayer((28, 28, 1))) # Conv2D의 input은 3차원 (h, w, c)\n",
        "\n",
        "    model.add(layers.Conv2D(filters=32,         # filter의 개수\n",
        "                            kernel_size=(3,3),  # filter size (h, w)\n",
        "                            padding='same',     # input과 output(feature map) size가 동일하도록 zero-padding 추가 [default:'valid']\n",
        "                            strides=(1,1),      # conv 연산시 이동 보폭 (좌우, 상하) [default=1]\n",
        "                            activation='relu'   # conv연산 결과를 넣어줄 활성함수\n",
        "                            ))\n",
        "    \n",
        "    model.add(layers.MaxPool2D(pool_size=(2,2), # (2, 2) 영역에서 가장 큰 값 하나를 추출 [default: (2, 2)]\n",
        "                               strides=(2,2),   # 이동 보폭. [default:none] / pool_size의 설정과 동일한 크기\n",
        "                               padding='same')) # [default: valid] / 나머지 짜투리 영역은 버림\n",
        "                                                # same - 짜투리 영역에서도 가장 큰 값을 추출\n",
        "\n",
        "    model.add(layers.Conv2D(filters=64,         # 필터 개수는 늘리기\n",
        "                            kernel_size=3,      # (h, w) - h, w 크기가 같은 경우, 값 하나만 지정\n",
        "                            padding='same',\n",
        "                            activation='relu'\n",
        "                            ))\n",
        "    \n",
        "    model.add(layers.MaxPool2D(padding='same')) # pool_size/stride는 default((2, 2), None) 사용\n",
        "                                                # padding - default : valid\n",
        "\n",
        "    model.add(layers.Conv2D(filters=128, kernel_size=3, padding='same', activation='relu'))\n",
        "    model.add(layers.MaxPool2D(padding='same'))\n",
        "\n",
        "    # 출력 feature map 하나의 shape => 3차원 (h, w, c) => 2차원\n",
        "    model.add(layers.Flatten())\n",
        "\n",
        "    model.add(layers.Dense(units=256, activation='relu'))\n",
        "\n",
        "    # soft max를 통해 각 라벨에 해당하는 확률 구함\n",
        "    model.add(layers.Dense(units=10, activation='softmax'))\n",
        "\n",
        "    return model"
      ],
      "execution_count": 11,
      "outputs": []
    },
    {
      "cell_type": "markdown",
      "metadata": {
        "id": "fLrmzNCkvd-M"
      },
      "source": [
        "##### 컴파일"
      ]
    },
    {
      "cell_type": "code",
      "metadata": {
        "ExecuteTime": {
          "end_time": "2021-11-05T01:51:23.279900Z",
          "start_time": "2021-11-05T01:51:23.194803Z"
        },
        "id": "G7xN6_gSvd-W"
      },
      "source": [
        "model = create_mnist_model()\n",
        "model.compile(optimizer=keras.optimizers.Adam(learning_rate=LEARNING_RATE), \n",
        "              loss='categorical_crossentropy', \n",
        "              metrics=['accuracy'])"
      ],
      "execution_count": 12,
      "outputs": []
    },
    {
      "cell_type": "code",
      "metadata": {
        "ExecuteTime": {
          "end_time": "2021-11-05T01:51:25.521666Z",
          "start_time": "2021-11-05T01:51:25.505959Z"
        },
        "colab": {
          "base_uri": "https://localhost:8080/"
        },
        "id": "Hpj7hSEwvd-Y",
        "outputId": "ecdd03ff-9f42-4c54-95b8-30b95db151c1"
      },
      "source": [
        "model.summary()"
      ],
      "execution_count": 13,
      "outputs": [
        {
          "output_type": "stream",
          "name": "stdout",
          "text": [
            "Model: \"sequential\"\n",
            "_________________________________________________________________\n",
            " Layer (type)                Output Shape              Param #   \n",
            "=================================================================\n",
            " conv2d (Conv2D)             (None, 28, 28, 32)        320       \n",
            "                                                                 \n",
            " max_pooling2d (MaxPooling2D  (None, 14, 14, 32)       0         \n",
            " )                                                               \n",
            "                                                                 \n",
            " conv2d_1 (Conv2D)           (None, 14, 14, 64)        18496     \n",
            "                                                                 \n",
            " max_pooling2d_1 (MaxPooling  (None, 7, 7, 64)         0         \n",
            " 2D)                                                             \n",
            "                                                                 \n",
            " conv2d_2 (Conv2D)           (None, 7, 7, 128)         73856     \n",
            "                                                                 \n",
            " max_pooling2d_2 (MaxPooling  (None, 4, 4, 128)        0         \n",
            " 2D)                                                             \n",
            "                                                                 \n",
            " flatten (Flatten)           (None, 2048)              0         \n",
            "                                                                 \n",
            " dense (Dense)               (None, 256)               524544    \n",
            "                                                                 \n",
            " dense_1 (Dense)             (None, 10)                2570      \n",
            "                                                                 \n",
            "=================================================================\n",
            "Total params: 619,786\n",
            "Trainable params: 619,786\n",
            "Non-trainable params: 0\n",
            "_________________________________________________________________\n"
          ]
        }
      ]
    },
    {
      "cell_type": "code",
      "metadata": {
        "colab": {
          "base_uri": "https://localhost:8080/"
        },
        "id": "ouMPFEQLce7d",
        "outputId": "cdbddbfa-9a4e-4e86-c50b-822544574b19"
      },
      "source": [
        "# conv 파라미터 개수\n",
        "# (filter_width*filter_height)*input_channel*filter개수 +  filter개수(bias)\n",
        "# 1번 conv\n",
        "print(3*3*1*32+32)\n",
        "# 2번 conv 파라미터\n",
        "print(3*3*32*64+64)"
      ],
      "execution_count": 15,
      "outputs": [
        {
          "output_type": "stream",
          "name": "stdout",
          "text": [
            "320\n",
            "18496\n"
          ]
        }
      ]
    },
    {
      "cell_type": "code",
      "metadata": {
        "ExecuteTime": {
          "end_time": "2021-11-05T01:51:28.575990Z",
          "start_time": "2021-11-05T01:51:28.057742Z"
        },
        "colab": {
          "base_uri": "https://localhost:8080/",
          "height": 1000
        },
        "id": "P2uQ_63qvd-Z",
        "outputId": "54b1042d-ac5a-4823-bccc-6aff0f02f8a1"
      },
      "source": [
        "keras.utils.plot_model(model, show_shapes=True)"
      ],
      "execution_count": 16,
      "outputs": [
        {
          "output_type": "execute_result",
          "data": {
            "image/png": "[encoded data removed]",
            "text/plain": [
              "<IPython.core.display.Image object>"
            ]
          },
          "metadata": {},
          "execution_count": 16
        }
      ]
    },
    {
      "cell_type": "markdown",
      "metadata": {
        "id": "3MSzLaPSvd-Z"
      },
      "source": [
        "##### 학습"
      ]
    },
    {
      "cell_type": "code",
      "metadata": {
        "ExecuteTime": {
          "end_time": "2021-11-05T01:52:46.358218Z",
          "start_time": "2021-11-05T01:52:05.426326Z"
        },
        "colab": {
          "base_uri": "https://localhost:8080/"
        },
        "id": "cte0uN6W66NO",
        "scrolled": false,
        "outputId": "98908575-fa29-4c7d-bdeb-20fca6866c09"
      },
      "source": [
        "hist = model.fit(train_dataset, \n",
        "                 epochs=N_EPOCHS, \n",
        "                 validation_data=test_dataset)"
      ],
      "execution_count": 17,
      "outputs": [
        {
          "output_type": "stream",
          "name": "stdout",
          "text": [
            "Epoch 1/20\n",
            "600/600 [==============================] - 19s 16ms/step - loss: 0.1617 - accuracy: 0.9500 - val_loss: 0.0425 - val_accuracy: 0.9850\n",
            "Epoch 2/20\n",
            "600/600 [==============================] - 10s 16ms/step - loss: 0.0449 - accuracy: 0.9860 - val_loss: 0.0467 - val_accuracy: 0.9851\n",
            "Epoch 3/20\n",
            "600/600 [==============================] - 10s 16ms/step - loss: 0.0305 - accuracy: 0.9906 - val_loss: 0.0293 - val_accuracy: 0.9903\n",
            "Epoch 4/20\n",
            "600/600 [==============================] - 10s 16ms/step - loss: 0.0235 - accuracy: 0.9926 - val_loss: 0.0236 - val_accuracy: 0.9922\n",
            "Epoch 5/20\n",
            "600/600 [==============================] - 10s 17ms/step - loss: 0.0195 - accuracy: 0.9938 - val_loss: 0.0238 - val_accuracy: 0.9922\n",
            "Epoch 6/20\n",
            "600/600 [==============================] - 10s 16ms/step - loss: 0.0165 - accuracy: 0.9947 - val_loss: 0.0194 - val_accuracy: 0.9938\n",
            "Epoch 7/20\n",
            "600/600 [==============================] - 10s 16ms/step - loss: 0.0126 - accuracy: 0.9960 - val_loss: 0.0261 - val_accuracy: 0.9919\n",
            "Epoch 8/20\n",
            "600/600 [==============================] - 10s 16ms/step - loss: 0.0112 - accuracy: 0.9964 - val_loss: 0.0272 - val_accuracy: 0.9902\n",
            "Epoch 9/20\n",
            "600/600 [==============================] - 10s 16ms/step - loss: 0.0096 - accuracy: 0.9966 - val_loss: 0.0322 - val_accuracy: 0.9911\n",
            "Epoch 10/20\n",
            "600/600 [==============================] - 10s 17ms/step - loss: 0.0080 - accuracy: 0.9971 - val_loss: 0.0291 - val_accuracy: 0.9918\n",
            "Epoch 11/20\n",
            "600/600 [==============================] - 10s 16ms/step - loss: 0.0065 - accuracy: 0.9980 - val_loss: 0.0511 - val_accuracy: 0.9885\n",
            "Epoch 12/20\n",
            "600/600 [==============================] - 10s 16ms/step - loss: 0.0068 - accuracy: 0.9977 - val_loss: 0.0422 - val_accuracy: 0.9884\n",
            "Epoch 13/20\n",
            "600/600 [==============================] - 10s 16ms/step - loss: 0.0080 - accuracy: 0.9973 - val_loss: 0.0277 - val_accuracy: 0.9921\n",
            "Epoch 14/20\n",
            "600/600 [==============================] - 10s 16ms/step - loss: 0.0046 - accuracy: 0.9986 - val_loss: 0.0285 - val_accuracy: 0.9931\n",
            "Epoch 15/20\n",
            "600/600 [==============================] - 10s 16ms/step - loss: 0.0046 - accuracy: 0.9985 - val_loss: 0.0382 - val_accuracy: 0.9904\n",
            "Epoch 16/20\n",
            "600/600 [==============================] - 10s 16ms/step - loss: 0.0059 - accuracy: 0.9981 - val_loss: 0.0393 - val_accuracy: 0.9921\n",
            "Epoch 17/20\n",
            "600/600 [==============================] - 10s 16ms/step - loss: 0.0050 - accuracy: 0.9984 - val_loss: 0.0315 - val_accuracy: 0.9926\n",
            "Epoch 18/20\n",
            "600/600 [==============================] - 10s 16ms/step - loss: 0.0042 - accuracy: 0.9987 - val_loss: 0.0394 - val_accuracy: 0.9905\n",
            "Epoch 19/20\n",
            "600/600 [==============================] - 10s 16ms/step - loss: 0.0052 - accuracy: 0.9983 - val_loss: 0.0317 - val_accuracy: 0.9928\n",
            "Epoch 20/20\n",
            "600/600 [==============================] - 10s 16ms/step - loss: 0.0021 - accuracy: 0.9993 - val_loss: 0.0411 - val_accuracy: 0.9919\n"
          ]
        }
      ]
    },
    {
      "cell_type": "markdown",
      "metadata": {
        "id": "6yXuNE-Evd-b"
      },
      "source": [
        "##### 결과시각화"
      ]
    },
    {
      "cell_type": "code",
      "metadata": {
        "ExecuteTime": {
          "end_time": "2021-11-05T02:06:21.981443Z",
          "start_time": "2021-11-05T02:06:21.812535Z"
        },
        "colab": {
          "base_uri": "https://localhost:8080/",
          "height": 295
        },
        "id": "QYdWNwIUvd-e",
        "outputId": "c7d83e86-1940-4355-9aa9-7707fb7bbefa"
      },
      "source": [
        "plot_loss(hist)"
      ],
      "execution_count": 18,
      "outputs": [
        {
          "output_type": "display_data",
          "data": {
            "image/png": "[encoded data removed]",
            "text/plain": [
              "<Figure size 432x288 with 1 Axes>"
            ]
          },
          "metadata": {
            "needs_background": "light"
          }
        }
      ]
    },
    {
      "cell_type": "code",
      "metadata": {
        "ExecuteTime": {
          "end_time": "2021-11-05T02:06:25.113761Z",
          "start_time": "2021-11-05T02:06:24.971687Z"
        },
        "colab": {
          "base_uri": "https://localhost:8080/",
          "height": 295
        },
        "id": "7s4X3mnPvd-f",
        "outputId": "e4d7bf94-1b0c-4427-b837-2fad816b11e8"
      },
      "source": [
        "plot_accuracy(hist)"
      ],
      "execution_count": 19,
      "outputs": [
        {
          "output_type": "display_data",
          "data": {
            "image/png": "[encoded data removed]",
            "text/plain": [
              "<Figure size 432x288 with 1 Axes>"
            ]
          },
          "metadata": {
            "needs_background": "light"
          }
        }
      ]
    },
    {
      "cell_type": "markdown",
      "metadata": {
        "id": "McXg9B1Qvd-g"
      },
      "source": [
        "##### 최종검증"
      ]
    },
    {
      "cell_type": "code",
      "metadata": {
        "ExecuteTime": {
          "end_time": "2021-11-05T02:06:30.129792Z",
          "start_time": "2021-11-05T02:06:29.179663Z"
        },
        "colab": {
          "base_uri": "https://localhost:8080/"
        },
        "id": "KMpaYD_ovd-g",
        "outputId": "7cbedf08-b8cd-47aa-fad7-95089328b62d"
      },
      "source": [
        "loss, acc = model.evaluate(test_dataset)"
      ],
      "execution_count": 20,
      "outputs": [
        {
          "output_type": "stream",
          "name": "stdout",
          "text": [
            "100/100 [==============================] - 1s 7ms/step - loss: 0.0411 - accuracy: 0.9919\n"
          ]
        }
      ]
    },
    {
      "cell_type": "code",
      "metadata": {
        "ExecuteTime": {
          "end_time": "2021-11-05T02:06:30.913374Z",
          "start_time": "2021-11-05T02:06:30.898351Z"
        },
        "colab": {
          "base_uri": "https://localhost:8080/"
        },
        "id": "xDn6olTSvd-h",
        "outputId": "928051d5-4192-4642-f749-f8b7867186aa"
      },
      "source": [
        "print(loss, acc)"
      ],
      "execution_count": 21,
      "outputs": [
        {
          "output_type": "stream",
          "name": "stdout",
          "text": [
            "0.04111126810312271 0.9919000267982483\n"
          ]
        }
      ]
    },
    {
      "cell_type": "markdown",
      "metadata": {
        "id": "3UHdqM1lvd-h"
      },
      "source": [
        "## prediction error가 발생한 example 확인\n",
        "- test dataset으로 예측한 결과중 틀린 것들을 확인해 본다."
      ]
    },
    {
      "cell_type": "code",
      "metadata": {
        "ExecuteTime": {
          "end_time": "2021-11-05T02:06:35.993714Z",
          "start_time": "2021-11-05T02:06:35.043520Z"
        },
        "colab": {
          "base_uri": "https://localhost:8080/"
        },
        "id": "UNtNTYK-vd-i",
        "outputId": "85d6874f-8e3c-4e3e-9d06-fb109d3df752"
      },
      "source": [
        "pred = model.predict(X_test)\n",
        "pred.shape"
      ],
      "execution_count": 22,
      "outputs": [
        {
          "output_type": "execute_result",
          "data": {
            "text/plain": [
              "(10000, 10)"
            ]
          },
          "metadata": {},
          "execution_count": 22
        }
      ]
    },
    {
      "cell_type": "code",
      "metadata": {
        "colab": {
          "base_uri": "https://localhost:8080/"
        },
        "id": "XFk2Fu8-e42K",
        "outputId": "3d421e8a-ff2f-493a-d391-c5b7608f0f46"
      },
      "source": [
        "pred[:5, :4]"
      ],
      "execution_count": 24,
      "outputs": [
        {
          "output_type": "execute_result",
          "data": {
            "text/plain": [
              "array([[2.5732060e-22, 3.4400304e-17, 3.1737241e-18, 4.6382201e-18],\n",
              "       [1.2618986e-13, 4.4444676e-17, 1.0000000e+00, 3.6812333e-18],\n",
              "       [5.2558858e-13, 1.0000000e+00, 3.3608021e-14, 1.9844237e-17],\n",
              "       [1.0000000e+00, 3.1895947e-21, 8.5965903e-18, 3.3473270e-19],\n",
              "       [9.1240483e-17, 3.2243295e-11, 1.5979459e-16, 1.4594378e-16]],\n",
              "      dtype=float32)"
            ]
          },
          "metadata": {},
          "execution_count": 24
        }
      ]
    },
    {
      "cell_type": "code",
      "metadata": {
        "ExecuteTime": {
          "end_time": "2021-11-05T02:06:38.315408Z",
          "start_time": "2021-11-05T02:06:38.298432Z"
        },
        "colab": {
          "base_uri": "https://localhost:8080/"
        },
        "id": "DYyQg7_Vvd-i",
        "outputId": "a8b5b6cc-a3cb-4f3e-ad76-d2b67ef55090"
      },
      "source": [
        "pred_label = np.argmax(pred, axis=-1)\n",
        "pred_label.shape"
      ],
      "execution_count": 25,
      "outputs": [
        {
          "output_type": "execute_result",
          "data": {
            "text/plain": [
              "(10000,)"
            ]
          },
          "metadata": {},
          "execution_count": 25
        }
      ]
    },
    {
      "cell_type": "code",
      "metadata": {
        "ExecuteTime": {
          "end_time": "2021-11-05T02:06:39.837431Z",
          "start_time": "2021-11-05T02:06:39.819438Z"
        },
        "colab": {
          "base_uri": "https://localhost:8080/"
        },
        "id": "FVK08iS1vd-i",
        "outputId": "458b3af5-c15c-49ec-d6b6-3edbbac13d58"
      },
      "source": [
        "# test_label(target) 와 pred_label(prediction) 간에 틀린 것의 index를 조회\n",
        "idx = np.where(test_label != pred_label)[0]\n",
        "idx.shape"
      ],
      "execution_count": 26,
      "outputs": [
        {
          "output_type": "execute_result",
          "data": {
            "text/plain": [
              "(81,)"
            ]
          },
          "metadata": {},
          "execution_count": 26
        }
      ]
    },
    {
      "cell_type": "code",
      "metadata": {
        "colab": {
          "base_uri": "https://localhost:8080/"
        },
        "id": "8FlxpQbIflVy",
        "outputId": "a2125cf3-0d73-4d6c-e5e6-d80f96bda9a6"
      },
      "source": [
        "# index별 틀린 것 조회\n",
        "idx[:5]"
      ],
      "execution_count": 27,
      "outputs": [
        {
          "output_type": "execute_result",
          "data": {
            "text/plain": [
              "array([ 18, 151, 247, 264, 321])"
            ]
          },
          "metadata": {},
          "execution_count": 27
        }
      ]
    },
    {
      "cell_type": "markdown",
      "metadata": {
        "id": "HcOhLYeovd-j"
      },
      "source": [
        "##### confusion matrix 확인"
      ]
    },
    {
      "cell_type": "code",
      "metadata": {
        "ExecuteTime": {
          "end_time": "2021-11-05T02:08:43.283598Z",
          "start_time": "2021-11-05T02:08:43.252179Z"
        },
        "scrolled": true,
        "colab": {
          "base_uri": "https://localhost:8080/"
        },
        "id": "w0A2i7cfvd-k",
        "outputId": "23e7ea1c-e813-4a47-df28-5cb953472d38"
      },
      "source": [
        "from sklearn.metrics import confusion_matrix, plot_confusion_matrix, ConfusionMatrixDisplay\n",
        "\n",
        "confusion_matrix(test_label, pred_label)"
      ],
      "execution_count": 28,
      "outputs": [
        {
          "output_type": "execute_result",
          "data": {
            "text/plain": [
              "array([[ 976,    0,    0,    0,    0,    0,    2,    2,    0,    0],\n",
              "       [   0, 1133,    0,    1,    0,    0,    0,    1,    0,    0],\n",
              "       [   1,    0, 1024,    0,    0,    0,    0,    6,    1,    0],\n",
              "       [   0,    0,    1, 1004,    0,    3,    0,    1,    1,    0],\n",
              "       [   0,    0,    1,    0,  973,    0,    2,    0,    1,    5],\n",
              "       [   1,    0,    0,    3,    0,  887,    1,    0,    0,    0],\n",
              "       [   2,    1,    0,    0,    0,    2,  952,    0,    1,    0],\n",
              "       [   0,    3,    2,    0,    0,    0,    0, 1021,    0,    2],\n",
              "       [   2,    0,    0,    1,    0,    2,    0,    0,  969,    0],\n",
              "       [   1,    0,    0,    3,    9,    4,    0,    6,    6,  980]])"
            ]
          },
          "metadata": {},
          "execution_count": 28
        }
      ]
    },
    {
      "cell_type": "code",
      "metadata": {
        "ExecuteTime": {
          "end_time": "2021-11-05T03:17:01.130011Z",
          "start_time": "2021-11-05T03:17:00.709441Z"
        },
        "colab": {
          "base_uri": "https://localhost:8080/",
          "height": 431
        },
        "id": "cOBSqrcEvd-k",
        "outputId": "3abb2db2-ce40-4b6a-9b4b-80b77e94fb92"
      },
      "source": [
        "import matplotlib.pyplot as plt\n",
        "\n",
        "plt.figure(figsize=(8,7))\n",
        "ax = plt.gca()\n",
        "\n",
        "cm = confusion_matrix(test_label, pred_label)\n",
        "disp = ConfusionMatrixDisplay(confusion_matrix=cm)\n",
        "disp.plot(cmap='Blues', ax=ax, values_format='d')\n",
        "plt.show()"
      ],
      "execution_count": 29,
      "outputs": [
        {
          "output_type": "display_data",
          "data": {
            "image/png": "[encoded data removed]",
            "text/plain": [
              "<Figure size 576x504 with 2 Axes>"
            ]
          },
          "metadata": {
            "needs_background": "light"
          }
        }
      ]
    },
    {
      "cell_type": "code",
      "metadata": {
        "ExecuteTime": {
          "end_time": "2021-11-05T02:50:58.599000Z",
          "start_time": "2021-11-05T02:50:58.253409Z"
        },
        "colab": {
          "base_uri": "https://localhost:8080/",
          "height": 174
        },
        "id": "QdMMR-cxvd-l",
        "outputId": "ebdd4878-0f10-4b6f-dfb7-9d30f003adca"
      },
      "source": [
        "# 틀린 결과 중에 10개 확인\n",
        "import matplotlib.pyplot as plt\n",
        "\n",
        "plt.figure(figsize=(20, 20))\n",
        "\n",
        "for i in range(10):  \n",
        "   \n",
        "    error_idx = idx[i]\n",
        "    \n",
        "    p = pred_label[error_idx] # 추론 결과들\n",
        "    y = test_label[error_idx] # targets\n",
        "\n",
        "    plt.subplot(1, 10, i+1)\n",
        "    plt.imshow(test_image[error_idx], cmap='gray')\n",
        "    plt.title(f\"y: {y}, pred: {p}\", fontsize=17)\n",
        "    plt.axis('off')\n",
        "\n",
        "plt.tight_layout()\n",
        "plt.show()"
      ],
      "execution_count": 33,
      "outputs": [
        {
          "output_type": "display_data",
          "data": {
            "image/png": "[encoded data removed]",
            "text/plain": [
              "<Figure size 1440x1440 with 10 Axes>"
            ]
          },
          "metadata": {
            "needs_background": "light"
          }
        }
      ]
    },
    {
      "cell_type": "markdown",
      "metadata": {
        "id": "RJUQJSEp66NR"
      },
      "source": [
        "# 학습한 모델 파일로 저장\n",
        "\n",
        "- **무엇을 저장할 지**\n",
        "    1. Train이 끝난 모델의 파라미터만 저장\n",
        "    1. 모델 구조와 파라미터 모두 저장\n",
        "\n",
        "- **저장시점**\n",
        "    1. Train 완료된 모델을 저장\n",
        "    1. Callback을 이용해 Train 도중 가장 성능이 좋은 시점의 모델을 저장"
      ]
    },
    {
      "cell_type": "markdown",
      "metadata": {
        "id": "2ARCyjDW66NR"
      },
      "source": [
        "## 텐서플로 저장 파일 타입\n",
        "- checkpoint \n",
        "    - 모델의 weight를 저장하기 위한 타입\n",
        "- SavedModel \n",
        "    - 모델의 구조와 파라미터들을 모두 저장하는 타입"
      ]
    },
    {
      "cell_type": "markdown",
      "metadata": {
        "id": "6bAN1wPG66NS"
      },
      "source": [
        "## 학습한 Weight (파라미터) 저장 및 불러오기\n",
        "- 가중치를 저장하여 나중에 재학습 없이 학습된 가중치를 사용할 수 있다.\n",
        "- 저장\n",
        "    - `model.save_weights(\"저장경로\")`\n",
        "- 불러오기\n",
        "    - `model.load_weights('불러올경로')`\n",
        "- 저장형식\n",
        "    - Tensorflow Checkpoint (기본방식)\n",
        "    - HDF5\n",
        "        - `save_weights(.., save_format='h5')`\n",
        "        - 또는 파일 확장자를 h5로 지정한다."
      ]
    },
    {
      "cell_type": "markdown",
      "metadata": {
        "id": "Hhje5aUPvd-n"
      },
      "source": [
        "### Checkpoint 으로 저장"
      ]
    },
    {
      "cell_type": "markdown",
      "metadata": {
        "id": "5odADKJivd-n"
      },
      "source": [
        "##### 저장할 경로 생성및 저장"
      ]
    },
    {
      "cell_type": "code",
      "metadata": {
        "ExecuteTime": {
          "end_time": "2021-11-05T02:24:34.859541Z",
          "start_time": "2021-11-05T02:24:34.844507Z"
        },
        "id": "3GsR7js61vxq"
      },
      "source": [
        "import os\n",
        "\n",
        "base_dir = \"/content/drive/MyDrive/saved_models\"\n",
        "mnist_weight_dir = os.path.join(base_dir, \"mnist_weight\")\n",
        "print(mnist_weight_dir)\n",
        "\n",
        "if not os.path.isdir(mnist_weight_dir):\n",
        "    os.mkdir(mnist_weight_dir)\n",
        "    \n",
        "weight_file_path = os.path.join(mnist_weight_dir, \"mnist_weight.ckpt\")\n",
        "\n",
        "print(weight_file_path)"
      ],
      "execution_count": null,
      "outputs": []
    },
    {
      "cell_type": "code",
      "metadata": {
        "ExecuteTime": {
          "end_time": "2021-11-05T02:24:41.623513Z",
          "start_time": "2021-11-05T02:24:41.524411Z"
        },
        "id": "buuA-01I66NS"
      },
      "source": [
        "model.save_weights(weight_file_path)"
      ],
      "execution_count": null,
      "outputs": []
    },
    {
      "cell_type": "code",
      "metadata": {
        "ExecuteTime": {
          "end_time": "2021-11-05T02:25:34.723553Z",
          "start_time": "2021-11-05T02:25:34.644399Z"
        },
        "id": "6kso54X766NT",
        "scrolled": true
      },
      "source": [
        "new_model = create_mnist_model()\n",
        "new_model.compile(optimizer=keras.optimizers.Adam(learning_rate=LEARNING_RATE), loss='categorical_crossentropy', \n",
        "                  metrics=['accuracy'])"
      ],
      "execution_count": null,
      "outputs": []
    },
    {
      "cell_type": "code",
      "metadata": {
        "ExecuteTime": {
          "end_time": "2021-11-05T02:25:36.368142Z",
          "start_time": "2021-11-05T02:25:35.284228Z"
        },
        "id": "xzyaLMAC66NT"
      },
      "source": [
        "new_model.evaluate(test_dataset)"
      ],
      "execution_count": null,
      "outputs": []
    },
    {
      "cell_type": "code",
      "metadata": {
        "ExecuteTime": {
          "end_time": "2021-11-05T02:25:42.562783Z",
          "start_time": "2021-11-05T02:25:42.459716Z"
        },
        "id": "ZGQl2i9Q66NT",
        "scrolled": true
      },
      "source": [
        "new_model.load_weights(weight_file_path)"
      ],
      "execution_count": null,
      "outputs": []
    },
    {
      "cell_type": "code",
      "metadata": {
        "ExecuteTime": {
          "end_time": "2021-11-05T02:25:45.396203Z",
          "start_time": "2021-11-05T02:25:44.476226Z"
        },
        "id": "qpYckeJ866NT"
      },
      "source": [
        "new_model.evaluate(test_dataset)"
      ],
      "execution_count": null,
      "outputs": []
    },
    {
      "cell_type": "markdown",
      "metadata": {
        "id": "gbIB2qCX66NU"
      },
      "source": [
        "### h5 형식으로 저장"
      ]
    },
    {
      "cell_type": "code",
      "metadata": {
        "ExecuteTime": {
          "end_time": "2021-11-05T02:25:49.559603Z",
          "start_time": "2021-11-05T02:25:49.541570Z"
        },
        "id": "JUci2ty166NU"
      },
      "source": [
        "weight_h5_dir = os.path.join(base_dir, \"mnist_weight_h5\")\n",
        "if not os.path.isdir(weight_h5_dir):\n",
        "    os.makedirs(weight_h5_dir, exist_ok=True)\n",
        "weight_h5_path = os.path.join(weight_h5_dir, \"mnist_weight.h5\")"
      ],
      "execution_count": null,
      "outputs": []
    },
    {
      "cell_type": "code",
      "metadata": {
        "ExecuteTime": {
          "end_time": "2021-11-05T02:25:58.586430Z",
          "start_time": "2021-11-05T02:25:58.556455Z"
        },
        "id": "GOUWp-N266NU"
      },
      "source": [
        "model.save_weights(weight_h5_path, save_format='h5')"
      ],
      "execution_count": null,
      "outputs": []
    },
    {
      "cell_type": "code",
      "metadata": {
        "ExecuteTime": {
          "end_time": "2021-11-05T02:26:20.464832Z",
          "start_time": "2021-11-05T02:26:20.388274Z"
        },
        "id": "QwcVSWg866NU"
      },
      "source": [
        "new_model = create_mnist_model()\n",
        "new_model.compile(optimizer=keras.optimizers.Adam(LEARNING_RATE),\n",
        "                  loss='categorical_crossentropy',\n",
        "                  metrics=['accuracy'])"
      ],
      "execution_count": null,
      "outputs": []
    },
    {
      "cell_type": "code",
      "metadata": {
        "ExecuteTime": {
          "end_time": "2021-11-05T02:26:27.503377Z",
          "start_time": "2021-11-05T02:26:26.363406Z"
        },
        "id": "9FVsuX8G66NU"
      },
      "source": [
        "new_model.evaluate(test_dataset)"
      ],
      "execution_count": null,
      "outputs": []
    },
    {
      "cell_type": "code",
      "metadata": {
        "ExecuteTime": {
          "end_time": "2021-11-05T02:26:28.590543Z",
          "start_time": "2021-11-05T02:26:28.547514Z"
        },
        "id": "icTNgSL366NV"
      },
      "source": [
        "new_model.load_weights(weight_h5_path)"
      ],
      "execution_count": null,
      "outputs": []
    },
    {
      "cell_type": "code",
      "metadata": {
        "ExecuteTime": {
          "end_time": "2021-11-05T02:27:02.615038Z",
          "start_time": "2021-11-05T02:27:01.684432Z"
        },
        "id": "KCgJpkxq66NV"
      },
      "source": [
        "new_model.evaluate(test_dataset)"
      ],
      "execution_count": null,
      "outputs": []
    },
    {
      "cell_type": "markdown",
      "metadata": {
        "id": "shNUg6al66NV"
      },
      "source": [
        "## 전체 모델 저장하고 불러오기\n",
        "- https://www.tensorflow.org/guide/keras/save_and_serialize?hl=ko\n",
        "- 저장\n",
        "    - `model.save('저장할디렉토리')`\n",
        "- 불러오기\n",
        "    - `tf.keras.models.load_model('저장된디렉토리')`\n",
        "- 저장 형식\n",
        "    - Tensorflow SavedModel 형식(기본방식)\n",
        "        - 모델 아키텍처 및 훈련 구성(옵티마이저, 손실 및 메트릭 포함)은 saved_model.pb 에 저장된다.\n",
        "        - 파라미터는 variables/ 디렉토리에 저장된다.\n",
        "        - https://www.tensorflow.org/guide/saved_model?hl=ko#the_savedmodel_format_on_disk\n",
        "    - HDF5 형식\n",
        "        - `save(..., save_format='h5')` \n",
        "        - 또는 파일의 확장자를 h5로 지정한다."
      ]
    },
    {
      "cell_type": "markdown",
      "metadata": {
        "id": "GTAMYpGw66NX"
      },
      "source": [
        "###  Saved Model 형식으로 모델 저장\n",
        "- 경로(디렉토리) 만 지정한다."
      ]
    },
    {
      "cell_type": "code",
      "metadata": {
        "ExecuteTime": {
          "end_time": "2021-11-05T02:28:16.402402Z",
          "start_time": "2021-11-05T02:28:16.387408Z"
        },
        "id": "S0yYq-cZ8gDB"
      },
      "source": [
        "mnist_model_dir = os.path.join(base_dir, 'mnist_model')\n",
        "print(mnist_model_dir, type(mnist_model_dir))\n",
        "if not os.path.isdir(mnist_model_dir):\n",
        "    os.mkdir(mnist_model_dir) "
      ],
      "execution_count": null,
      "outputs": []
    },
    {
      "cell_type": "code",
      "metadata": {
        "ExecuteTime": {
          "end_time": "2021-11-05T02:28:18.993052Z",
          "start_time": "2021-11-05T02:28:18.067642Z"
        },
        "id": "PR5lIqET8wMy"
      },
      "source": [
        "model.save(mnist_model_dir)"
      ],
      "execution_count": null,
      "outputs": []
    },
    {
      "cell_type": "code",
      "metadata": {
        "ExecuteTime": {
          "end_time": "2021-11-05T02:28:20.146352Z",
          "start_time": "2021-11-05T02:28:19.748174Z"
        },
        "id": "au-pjyoq66NY"
      },
      "source": [
        "new_model2 = keras.models.load_model(mnist_model_dir)"
      ],
      "execution_count": null,
      "outputs": []
    },
    {
      "cell_type": "code",
      "metadata": {
        "ExecuteTime": {
          "end_time": "2021-11-05T02:28:21.662414Z",
          "start_time": "2021-11-05T02:28:20.699619Z"
        },
        "id": "aOmhPwh_66NY"
      },
      "source": [
        "new_model2.evaluate(test_dataset)"
      ],
      "execution_count": null,
      "outputs": []
    },
    {
      "cell_type": "markdown",
      "metadata": {
        "id": "PmbZsSksvd-t"
      },
      "source": [
        "### H5 형식으로 모델 저장"
      ]
    },
    {
      "cell_type": "code",
      "metadata": {
        "ExecuteTime": {
          "end_time": "2021-11-05T02:31:53.041967Z",
          "start_time": "2021-11-05T02:31:53.028937Z"
        },
        "id": "cKm7ThE766NW"
      },
      "source": [
        "model_h5_dir = os.path.join(base_dir, 'mnist_model_h5')\n",
        "\n",
        "if not os.path.join(model_h5_dir):\n",
        "    os.makedirs(model_h5_dir, exist_ok=True)\n",
        "\n",
        "model_h5_path = os.path.join(model_h5_dir, \"mnist_model.h5\")"
      ],
      "execution_count": null,
      "outputs": []
    },
    {
      "cell_type": "code",
      "metadata": {
        "ExecuteTime": {
          "end_time": "2021-11-05T02:32:10.471919Z",
          "start_time": "2021-11-05T02:32:10.388634Z"
        },
        "id": "9OJ0hNog66NW"
      },
      "source": [
        "model.save(model_h5_path, save_format='h5')"
      ],
      "execution_count": null,
      "outputs": []
    },
    {
      "cell_type": "code",
      "metadata": {
        "ExecuteTime": {
          "end_time": "2021-11-05T02:32:14.737782Z",
          "start_time": "2021-11-05T02:32:14.588337Z"
        },
        "id": "InPefrxy66NX"
      },
      "source": [
        "new_model3 = keras.models.load_model(model_h5_path)\n",
        "\n",
        "new_model3.summary()"
      ],
      "execution_count": null,
      "outputs": []
    },
    {
      "cell_type": "code",
      "metadata": {
        "ExecuteTime": {
          "end_time": "2021-11-05T02:32:18.706775Z",
          "start_time": "2021-11-05T02:32:17.669377Z"
        },
        "id": "wcNFFRU766NX"
      },
      "source": [
        "new_model3.evaluate(test_dataset)"
      ],
      "execution_count": null,
      "outputs": []
    },
    {
      "cell_type": "markdown",
      "metadata": {
        "id": "7xgQxAU666NZ"
      },
      "source": [
        "## Callback을 사용한 모델 저장 및 Early Stopping\n",
        "- callback은 학습하는 도중 특정 이벤트 발생시 호출되는 다양한 함수를 제공하여 자동화 처리를 지원한다. (cf: 프로그래밍의 콜백함수)\n",
        "- 다양한 콜백 클래스가 제공된다.\n",
        "    - https://www.tensorflow.org/api_docs/python/tf/keras/callbacks\n",
        "- ### ModelCheckpoint\n",
        "    - 각 epoch 마다 학습한 모델과 weight(또는 weight만)를 저장한다. \n",
        "    - 지정한 평가지표(예:validation loss)가 가장 좋을 때 모델과 weight만 저장할 수 있다.\n",
        "    - 주요 파라미터\n",
        "        - `save_weights_only=True`: True: 파라미터(weight)만 저장한다. False: 모델구조와 파라미터 모두 저장한다.\n",
        "        - `save_best_only=True`: 학습중 성능이 개선될 때만 저장한다. (False:기본값 - 모든 에폭마다 저장한다.)\n",
        "- ### EarlyStopping\n",
        "    - Validation set에 대한 평가지표가  더 이상 개선되지 않을 때 학습을 자동으로 멈추는 callback\n",
        "    - 주요 파라미터\n",
        "        - `monitor`: 모니터링할 평가지표 지정. (ex: accuracy)\n",
        "        - `patience`: epoch 수 지정. validation 평가 지표가 개선이 안되더라도 지정한 epoch만큼 반복한다. 지정한 epoch만큼 반복 후에도 개선이 되지 않으면 중단한다. \n",
        "\n",
        "- **callback 객체들을 리스트로 묶은 뒤 fit()의 callbacks 매개변수에 전달한다.**"
      ]
    },
    {
      "cell_type": "code",
      "metadata": {
        "ExecuteTime": {
          "end_time": "2021-11-05T02:35:39.789591Z",
          "start_time": "2021-11-05T02:35:39.708482Z"
        },
        "id": "J59mb-W166NZ"
      },
      "source": [
        "model2 = create_mnist_model()\n",
        "model2.compile(optimizer='adam', \n",
        "               loss='categorical_crossentropy', \n",
        "               metrics=['accuracy'])"
      ],
      "execution_count": null,
      "outputs": []
    },
    {
      "cell_type": "code",
      "metadata": {
        "ExecuteTime": {
          "end_time": "2021-11-05T02:40:34.240440Z",
          "start_time": "2021-11-05T02:40:33.277554Z"
        },
        "id": "rhZ2VNkE66NZ"
      },
      "source": [
        "model2.evaluate(test_dataset)"
      ],
      "execution_count": null,
      "outputs": []
    },
    {
      "cell_type": "code",
      "metadata": {
        "ExecuteTime": {
          "end_time": "2021-11-05T02:43:07.219856Z",
          "start_time": "2021-11-05T02:43:07.211861Z"
        },
        "id": "4TQggaQT66NZ"
      },
      "source": [
        "checkpoint_save_dir = os.path.join(base_dir, 'mnist_callback')\n",
        "if not os.path.isdir(checkpoint_save_dir):\n",
        "    os.mkdir(checkpoint_save_dir)\n",
        "\n",
        "checkpoint_save_file = os.path.join(checkpoint_save_dir, 'mnist_ckpt')"
      ],
      "execution_count": null,
      "outputs": []
    },
    {
      "cell_type": "code",
      "metadata": {
        "ExecuteTime": {
          "end_time": "2021-11-05T02:44:05.048375Z",
          "start_time": "2021-11-05T02:44:05.039336Z"
        },
        "id": "4kxhcRpn66Na"
      },
      "source": [
        "mc_callback = keras.callbacks.ModelCheckpoint(filepath=checkpoint_save_file, \n",
        "                          save_best_only=True, \n",
        "                          monitor='val_loss',  \n",
        "                          verbose=1)"
      ],
      "execution_count": null,
      "outputs": []
    },
    {
      "cell_type": "code",
      "metadata": {
        "ExecuteTime": {
          "end_time": "2021-11-05T02:44:05.533392Z",
          "start_time": "2021-11-05T02:44:05.524419Z"
        },
        "id": "9k9rOOB4vd-1"
      },
      "source": [
        "es_callback = keras.callbacks.EarlyStopping(monitor='val_loss',\n",
        "                                            patience=5\n",
        "                                            verbose=1)"
      ],
      "execution_count": null,
      "outputs": []
    },
    {
      "cell_type": "code",
      "metadata": {
        "ExecuteTime": {
          "end_time": "2021-11-05T02:44:50.318132Z",
          "start_time": "2021-11-05T02:44:06.500503Z"
        },
        "id": "viJGE-Wcvd-2"
      },
      "source": [
        "hist = model2.fit(train_dataset, epochs=5, validation_data=test_dataset,\n",
        "                  callbacks=[mc_callback, es_callback])"
      ],
      "execution_count": null,
      "outputs": []
    },
    {
      "cell_type": "code",
      "metadata": {
        "ExecuteTime": {
          "end_time": "2021-11-05T02:45:45.857251Z",
          "start_time": "2021-11-05T02:45:45.444137Z"
        },
        "id": "QbdBwfeUvd-2"
      },
      "source": [
        "new_model3 = keras.models.load_model(checkpoint_save_file)"
      ],
      "execution_count": null,
      "outputs": []
    },
    {
      "cell_type": "code",
      "metadata": {
        "ExecuteTime": {
          "end_time": "2021-11-05T02:45:52.082733Z",
          "start_time": "2021-11-05T02:45:51.037514Z"
        },
        "id": "502lBgKNvd-3"
      },
      "source": [
        "new_model3.evaluate(test_dataset)"
      ],
      "execution_count": null,
      "outputs": []
    }
  ]
}