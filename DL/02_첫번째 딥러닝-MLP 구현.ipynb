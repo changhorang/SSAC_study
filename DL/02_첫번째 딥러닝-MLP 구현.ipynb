{
  "nbformat": 4,
  "nbformat_minor": 0,
  "metadata": {
    "kernelspec": {
      "display_name": "Python 3 (ipykernel)",
      "language": "python",
      "name": "python3"
    },
    "language_info": {
      "codemirror_mode": {
        "name": "ipython",
        "version": 3
      },
      "file_extension": ".py",
      "mimetype": "text/x-python",
      "name": "python",
      "nbconvert_exporter": "python",
      "pygments_lexer": "ipython3",
      "version": "3.9.5"
    },
    "toc": {
      "base_numbering": 1,
      "nav_menu": {},
      "number_sections": false,
      "sideBar": true,
      "skip_h1_title": false,
      "title_cell": "Table of Contents",
      "title_sidebar": "Contents",
      "toc_cell": false,
      "toc_position": {},
      "toc_section_display": true,
      "toc_window_display": false
    },
    "varInspector": {
      "cols": {
        "lenName": 16,
        "lenType": 16,
        "lenVar": 40
      },
      "kernels_config": {
        "python": {
          "delete_cmd_postfix": "",
          "delete_cmd_prefix": "del ",
          "library": "var_list.py",
          "varRefreshCmd": "print(var_dic_list())"
        },
        "r": {
          "delete_cmd_postfix": ") ",
          "delete_cmd_prefix": "rm(",
          "library": "var_list.r",
          "varRefreshCmd": "cat(var_dic_list()) "
        }
      },
      "types_to_exclude": [
        "module",
        "function",
        "builtin_function_or_method",
        "instance",
        "_Feature"
      ],
      "window_display": false
    },
    "colab": {
      "name": "02_첫번째 딥러닝-MLP 구현.ipynb",
      "provenance": [],
      "collapsed_sections": [],
      "include_colab_link": true
    },
    "accelerator": "GPU"
  },
  "cells": [
    {
      "cell_type": "markdown",
      "metadata": {
        "id": "view-in-github",
        "colab_type": "text"
      },
      "source": [
        "<a href=\"https://colab.research.google.com/github/changhorang/SSAC_study/blob/main/DL/02_%EC%B2%AB%EB%B2%88%EC%A7%B8%20%EB%94%A5%EB%9F%AC%EB%8B%9D-MLP%20%EA%B5%AC%ED%98%84.ipynb\" target=\"_parent\"><img src=\"https://colab.research.google.com/assets/colab-badge.svg\" alt=\"Open In Colab\"/></a>"
      ]
    },
    {
      "cell_type": "code",
      "metadata": {
        "ExecuteTime": {
          "end_time": "2021-11-01T02:50:19.150810Z",
          "start_time": "2021-11-01T02:50:19.142852Z"
        },
        "colab": {
          "base_uri": "https://localhost:8080/"
        },
        "id": "OzucULAfWlOi",
        "outputId": "51ea9d85-42cf-4393-f8fb-430c96961712"
      },
      "source": [
        "# !pip install pydot pydotplus graphviz\n",
        "# 설치후 jupyter notebook 은 껐다 켜야 한다."
      ],
      "execution_count": 1,
      "outputs": [
        {
          "output_type": "stream",
          "name": "stdout",
          "text": [
            "Requirement already satisfied: pydot in /usr/local/lib/python3.7/dist-packages (1.3.0)\n",
            "Requirement already satisfied: pydotplus in /usr/local/lib/python3.7/dist-packages (2.0.2)\n",
            "Requirement already satisfied: graphviz in /usr/local/lib/python3.7/dist-packages (0.10.1)\n",
            "Requirement already satisfied: pyparsing>=2.1.4 in /usr/local/lib/python3.7/dist-packages (from pydot) (3.0.6)\n"
          ]
        }
      ]
    },
    {
      "cell_type": "markdown",
      "metadata": {
        "id": "fLIb5ALIWlOn"
      },
      "source": [
        "# Keras 개발 Process"
      ]
    },
    {
      "cell_type": "markdown",
      "metadata": {
        "id": "nnGsaK9GWlOr"
      },
      "source": [
        "1. 입력 텐서(X)와 출력 텐서(y)로 이뤄진 **훈련 데이터를 정의**"
      ]
    },
    {
      "cell_type": "markdown",
      "metadata": {
        "id": "Iq7Epu_TWlOt"
      },
      "source": [
        "2. 입력과 출력을 연결하는 Layer(층)으로 이뤄진 **네트워크(모델)을 정의**\n",
        "    - Sequential 방식: 순서대로 쌓아올린 네트워크로 이뤄진 모델을 생성하는 방식\n",
        "    - Functional API 방식: 다양한 구조의 네트워크로 이뤄진 모델을 생성하는 방식\n",
        "    - Subclass 방식: 네트워크를 정의하는 클래스를 구현.\n",
        "    "
      ]
    },
    {
      "cell_type": "markdown",
      "metadata": {
        "id": "x2eejjsgWlOu"
      },
      "source": [
        "3. **모델 Compile(컴파일)**\n",
        "    - 모델이 Train(학습)할때 사용할 손실함수(Loss Function), 최적화기법(Optimizer), 학습과정을 모니터링할 평가지표(Metrics)를 설정\n",
        "    \n",
        "    > Compile: 실행할 수 있는 상태로 만들어 주는 것."
      ]
    },
    {
      "cell_type": "markdown",
      "metadata": {
        "id": "kY6hYbXHWlOu"
      },
      "source": [
        "4. **Training(학습/훈련)**\n",
        "    - Train dataset을 이용해 모델을 Train 시킨다."
      ]
    },
    {
      "cell_type": "markdown",
      "metadata": {
        "id": "fBZX14bWWlOx"
      },
      "source": [
        "# MNIST 이미지 분류 \n",
        "- ### [MNIST](https://ko.wikipedia.org/wiki/MNIST_%EB%8D%B0%EC%9D%B4%ED%84%B0%EB%B2%A0%EC%9D%B4%EC%8A%A4)(Modified National Institute of Standards and Technology) database\n",
        "- 흑백 손글씨 숫자 0-9까지 10개의 범주로 구분해놓은 데이터셋\n",
        "- 하나의 이미지는 28 * 28 pixel 의 크기\n",
        "- 6만개의 Train 이미지와 1만개의 Test 이미지로 구성됨."
      ]
    },
    {
      "cell_type": "markdown",
      "metadata": {
        "id": "hfjFuLWbWlOy"
      },
      "source": [
        "##### import"
      ]
    },
    {
      "cell_type": "code",
      "metadata": {
        "ExecuteTime": {
          "end_time": "2021-11-05T05:52:08.827346Z",
          "start_time": "2021-11-05T05:52:06.673462Z"
        },
        "id": "mmw6pplzWlO0"
      },
      "source": [
        "import numpy as np\n",
        "import tensorflow as tf\n",
        "from tensorflow import keras"
      ],
      "execution_count": 2,
      "outputs": []
    },
    {
      "cell_type": "markdown",
      "metadata": {
        "ExecuteTime": {
          "end_time": "2021-08-30T05:02:52.852140Z",
          "start_time": "2021-08-30T05:02:52.563117Z"
        },
        "id": "H4oiI7HHWlO1"
      },
      "source": [
        "##### MNIST dataset Loading"
      ]
    },
    {
      "cell_type": "code",
      "metadata": {
        "ExecuteTime": {
          "end_time": "2021-11-05T05:52:09.483696Z",
          "start_time": "2021-11-05T05:52:08.827346Z"
        },
        "colab": {
          "base_uri": "https://localhost:8080/"
        },
        "id": "DxAUjvUGWlO2",
        "outputId": "ea0456e5-43e6-421b-c108-9f9b68c13f9c"
      },
      "source": [
        "(train_image, train_label), (test_image, test_label) = keras.datasets.mnist.load_data()"
      ],
      "execution_count": 3,
      "outputs": [
        {
          "output_type": "stream",
          "name": "stdout",
          "text": [
            "Downloading data from https://storage.googleapis.com/tensorflow/tf-keras-datasets/mnist.npz\n",
            "11493376/11490434 [==============================] - 0s 0us/step\n",
            "11501568/11490434 [==============================] - 0s 0us/step\n"
          ]
        }
      ]
    },
    {
      "cell_type": "code",
      "metadata": {
        "ExecuteTime": {
          "end_time": "2021-11-05T05:52:09.498650Z",
          "start_time": "2021-11-05T05:52:09.484659Z"
        },
        "colab": {
          "base_uri": "https://localhost:8080/"
        },
        "id": "PuQVOptjWlO3",
        "outputId": "4f812fb5-4068-452f-ab7f-92b35ccac100"
      },
      "source": [
        "print(train_image.shape, test_image.shape) \n",
        "# image : (num, height, width)\n",
        "# 결과가 (10000, 28, 28, 3) 이었다면 color image"
      ],
      "execution_count": 4,
      "outputs": [
        {
          "output_type": "stream",
          "name": "stdout",
          "text": [
            "(60000, 28, 28) (10000, 28, 28)\n"
          ]
        }
      ]
    },
    {
      "cell_type": "code",
      "metadata": {
        "ExecuteTime": {
          "end_time": "2021-11-05T05:52:09.514650Z",
          "start_time": "2021-11-05T05:52:09.500651Z"
        },
        "colab": {
          "base_uri": "https://localhost:8080/"
        },
        "id": "U_TygO9eWlO4",
        "outputId": "6dbbe70c-cc81-474a-8a9a-a15c47e14ef3"
      },
      "source": [
        "print(train_label.shape, test_label.shape)\n",
        "# target : (Ground Truth, label)"
      ],
      "execution_count": 5,
      "outputs": [
        {
          "output_type": "stream",
          "name": "stdout",
          "text": [
            "(60000,) (10000,)\n"
          ]
        }
      ]
    },
    {
      "cell_type": "code",
      "metadata": {
        "colab": {
          "base_uri": "https://localhost:8080/"
        },
        "id": "THwg4CJVWlO5",
        "outputId": "ffef5ee0-9cea-45ad-dc96-c1b53bb79043"
      },
      "source": [
        "type(train_image), type(train_label), train_label.dtype"
      ],
      "execution_count": 6,
      "outputs": [
        {
          "output_type": "execute_result",
          "data": {
            "text/plain": [
              "(numpy.ndarray, numpy.ndarray, dtype('uint8'))"
            ]
          },
          "metadata": {},
          "execution_count": 6
        }
      ]
    },
    {
      "cell_type": "code",
      "metadata": {
        "ExecuteTime": {
          "end_time": "2021-11-05T05:52:52.248805Z",
          "start_time": "2021-11-05T05:52:51.881613Z"
        },
        "colab": {
          "base_uri": "https://localhost:8080/",
          "height": 369
        },
        "id": "ICMdcXpWWlO6",
        "outputId": "b713c1e5-974f-43c4-e461-dab92c2ac85c"
      },
      "source": [
        "import matplotlib.pyplot as plt\n",
        "plt.figure(figsize=(15, 5))\n",
        "\n",
        "N = 10\n",
        "for i in range(N):\n",
        "    plt.subplot(2, int(N/2), i+1)\n",
        "    plt.imshow(train_image[i], cmap='gray')\n",
        "    plt.title(str(train_label[i]), fontsize=20) # int8 => str 변환\n",
        "    plt.axis('off')\n",
        "    \n",
        "plt.tight_layout()\n",
        "plt.show()"
      ],
      "execution_count": 7,
      "outputs": [
        {
          "output_type": "display_data",
          "data": {
            "image/png": "[encoded data removed]",
            "text/plain": [
              "<Figure size 1080x360 with 10 Axes>"
            ]
          },
          "metadata": {
            "needs_background": "light"
          }
        }
      ]
    },
    {
      "cell_type": "markdown",
      "metadata": {
        "id": "h2KaGID0WlO6"
      },
      "source": [
        "## 네트워크(모델) 구현\n",
        "- Network : 전체 모델 구조"
      ]
    },
    {
      "cell_type": "code",
      "metadata": {
        "ExecuteTime": {
          "end_time": "2021-11-01T02:50:13.208858Z",
          "start_time": "2021-11-01T02:50:13.143861Z"
        },
        "id": "S29IuyK_WlO7"
      },
      "source": [
        "model = keras.Sequential()\n",
        "\n",
        "# input layer : input data의 shape을 지정 (28, 28)\n",
        "model.add(keras.layers.InputLayer((28,28))) \n",
        "\n",
        "# flatten : 2차원 (N차원) 배열(tensor)을 1차원 배열(tensor)로 변환\n",
        "model.add(keras.layers.Flatten())  \n",
        "\n",
        "# feature extractor\n",
        "# 256, 128 -> unit (node, neuron)의 개수 : 1개 unit은 logisticRegression model 1개와 동일\n",
        "model.add(keras.layers.Dense(256, activation='relu'))\n",
        "model.add(keras.layers.Dense(128, activation='relu'))\n",
        "\n",
        "# 출력 layer\n",
        "# unit 수 (10) : 출력 결과 개수와 동일 (0 ~ 9일 확률 출력)\n",
        "model.add(keras.layers.Dense(10, activation='softmax'))\n",
        "\n",
        "# 다른 표현 방식 (list를 만들어 추가하는 방식)\n",
        "model2 = keras.Sequential([\n",
        "                        keras.layers.InputLayer((28,28)),\n",
        "                        keras.layers.Flatten(),\n",
        "                        keras.layers.Dense(256, activation='relu'),\n",
        "                        keras.layers.Dense(128, activation='relu'),\n",
        "                        keras.layers.Dense(10, activation='softmax')\n",
        "])"
      ],
      "execution_count": 10,
      "outputs": []
    },
    {
      "cell_type": "code",
      "metadata": {
        "ExecuteTime": {
          "end_time": "2021-11-01T02:50:14.795234Z",
          "start_time": "2021-11-01T02:50:14.783202Z"
        },
        "colab": {
          "base_uri": "https://localhost:8080/"
        },
        "id": "0wYcfmqMWlO7",
        "outputId": "d740a7f3-e3fc-45a4-b183-9836a34cee56"
      },
      "source": [
        "model.summary()\n",
        "# output shape: 각 layer의 출력(배열) 형태\n",
        "# (None, 784) - 'None' : data의 개수(미정) / '784' : 데이터 1개가 784개 원소인 1차원 data\n",
        "\n",
        "# Param : 학습 시킬 파라미터 (weight, bias)의 개수"
      ],
      "execution_count": 11,
      "outputs": [
        {
          "output_type": "stream",
          "name": "stdout",
          "text": [
            "Model: \"sequential_1\"\n",
            "_________________________________________________________________\n",
            " Layer (type)                Output Shape              Param #   \n",
            "=================================================================\n",
            " flatten_1 (Flatten)         (None, 784)               0         \n",
            "                                                                 \n",
            " dense_3 (Dense)             (None, 256)               200960    \n",
            "                                                                 \n",
            " dense_4 (Dense)             (None, 128)               32896     \n",
            "                                                                 \n",
            " dense_5 (Dense)             (None, 10)                1290      \n",
            "                                                                 \n",
            "=================================================================\n",
            "Total params: 235,146\n",
            "Trainable params: 235,146\n",
            "Non-trainable params: 0\n",
            "_________________________________________________________________\n"
          ]
        }
      ]
    },
    {
      "cell_type": "code",
      "metadata": {
        "ExecuteTime": {
          "end_time": "2021-11-01T02:50:22.469235Z",
          "start_time": "2021-11-01T02:50:21.998852Z"
        },
        "colab": {
          "base_uri": "https://localhost:8080/",
          "height": 533
        },
        "id": "8jtZljLYWlO8",
        "outputId": "2302dc60-13f0-4863-add9-45254f2bf5bf"
      },
      "source": [
        "# model의 구조를 graphviz를 이용해 시각화 (plot_model)\n",
        "from tensorflow.keras.utils import plot_model\n",
        "\n",
        "plot_model(model, to_file='model_shapes.png', show_shapes=True)"
      ],
      "execution_count": 12,
      "outputs": [
        {
          "output_type": "execute_result",
          "data": {
            "image/png": "[encoded data removed]",
            "text/plain": [
              "<IPython.core.display.Image object>"
            ]
          },
          "metadata": {},
          "execution_count": 12
        }
      ]
    },
    {
      "cell_type": "markdown",
      "metadata": {
        "id": "o4qihD7eWlO8"
      },
      "source": [
        "## 컴파일 단계\n",
        "- 정의된 네트워크 모델에 학습을 위한 추가 설정을 한다.\n",
        "    - Optimizer\n",
        "    - 손실함수\n",
        "    - 평가지표"
      ]
    },
    {
      "cell_type": "code",
      "metadata": {
        "ExecuteTime": {
          "end_time": "2021-11-01T03:14:33.954084Z",
          "start_time": "2021-11-01T03:14:33.929120Z"
        },
        "id": "wS__yXXMWlO-"
      },
      "source": [
        "model.compile(optimizer='adam', # 최적화 방법 (parameter update)\n",
        "              loss='categorical_crossentropy', # 손실 함수 정의 : 오차 구하는 함수\n",
        "              metrics=['accuracy']) # 평가지표 : 학습에 대한 평가를 중간에 출력 (loss & 지정한 평가 지표(accuracy))"
      ],
      "execution_count": 13,
      "outputs": []
    },
    {
      "cell_type": "markdown",
      "metadata": {
        "id": "hMwoakzKWlO-"
      },
      "source": [
        "## 데이터 준비\n",
        "- X (Input Data Image)\n",
        "    - 0 ~ 1 사이의 값으로 정규화 시킨다.\n",
        "- y (Output Data)\n",
        "    - one hot encoding 처리\n",
        "        - Label이 다중분류(Multi class classification)일 경우 One Hot Encoding 한다.\n",
        "    - Keras의 onehot encoding 처리 함수\n",
        "        - tensorflow.keras.utils.to_categorical()"
      ]
    },
    {
      "cell_type": "code",
      "metadata": {
        "ExecuteTime": {
          "end_time": "2021-11-01T02:50:52.997561Z",
          "start_time": "2021-11-01T02:50:52.902800Z"
        },
        "colab": {
          "base_uri": "https://localhost:8080/"
        },
        "id": "855KiHbeWlO-",
        "outputId": "3cb845fd-3784-4159-b220-9617f793b2cc"
      },
      "source": [
        "print(np.min(train_image), np.max(train_image), train_image.dtype, sep=', ')"
      ],
      "execution_count": 14,
      "outputs": [
        {
          "output_type": "stream",
          "name": "stdout",
          "text": [
            "0, 255, uint8\n"
          ]
        }
      ]
    },
    {
      "cell_type": "markdown",
      "metadata": {
        "ExecuteTime": {
          "end_time": "2021-08-30T05:07:46.170159Z",
          "start_time": "2021-08-30T05:07:45.800170Z"
        },
        "id": "py2wdpXMWlO_"
      },
      "source": [
        "##### input image(X)를 정규화. \n",
        "- 이미지를 0 ~ 1 로 정규화 하고 타입을 float32로 변환"
      ]
    },
    {
      "cell_type": "code",
      "metadata": {
        "ExecuteTime": {
          "end_time": "2021-11-01T02:50:53.531227Z",
          "start_time": "2021-11-01T02:50:53.231410Z"
        },
        "id": "Cm-oiTsZWlO_"
      },
      "source": [
        "X_train = (train_image/255.).astype(np.float32)\n",
        "X_test = (test_image/255.).astype(np.float32)"
      ],
      "execution_count": 15,
      "outputs": []
    },
    {
      "cell_type": "code",
      "metadata": {
        "ExecuteTime": {
          "end_time": "2021-11-01T02:50:53.561192Z",
          "start_time": "2021-11-01T02:50:53.531227Z"
        },
        "colab": {
          "base_uri": "https://localhost:8080/"
        },
        "id": "2jGWV4_hWlPA",
        "outputId": "45f696b7-ab3b-4e54-970f-f50f4281dee9"
      },
      "source": [
        "print(np.min(X_train), np.max(X_train), X_train.dtype, sep=', ')"
      ],
      "execution_count": 17,
      "outputs": [
        {
          "output_type": "stream",
          "name": "stdout",
          "text": [
            "0.0, 1.0, float32\n"
          ]
        }
      ]
    },
    {
      "cell_type": "markdown",
      "metadata": {
        "ExecuteTime": {
          "end_time": "2021-08-30T05:08:02.687904Z",
          "start_time": "2021-08-30T05:08:02.678864Z"
        },
        "id": "BYt7HHibWlPA"
      },
      "source": [
        "##### label(y)를 one hot encoding"
      ]
    },
    {
      "cell_type": "code",
      "metadata": {
        "ExecuteTime": {
          "end_time": "2021-11-01T02:50:53.736441Z",
          "start_time": "2021-11-01T02:50:53.720412Z"
        },
        "colab": {
          "base_uri": "https://localhost:8080/"
        },
        "id": "ZFJXqb-jWlPB",
        "outputId": "338a0fb7-1183-44a5-9007-3221ba7b840c"
      },
      "source": [
        "print(train_label.shape, test_label.shape)\n",
        "train_label[:5]"
      ],
      "execution_count": 18,
      "outputs": [
        {
          "output_type": "stream",
          "name": "stdout",
          "text": [
            "(60000,) (10000,)\n"
          ]
        },
        {
          "output_type": "execute_result",
          "data": {
            "text/plain": [
              "array([5, 0, 4, 1, 9], dtype=uint8)"
            ]
          },
          "metadata": {},
          "execution_count": 18
        }
      ]
    },
    {
      "cell_type": "code",
      "metadata": {
        "ExecuteTime": {
          "end_time": "2021-11-01T02:50:54.095562Z",
          "start_time": "2021-11-01T02:50:54.088527Z"
        },
        "id": "4jqv2joBWlPB"
      },
      "source": [
        "# one_hot encoding\n",
        "y_train = keras.utils.to_categorical(train_label)\n",
        "y_test = keras.utils.to_categorical(test_label)"
      ],
      "execution_count": 19,
      "outputs": []
    },
    {
      "cell_type": "code",
      "metadata": {
        "ExecuteTime": {
          "end_time": "2021-11-01T02:50:54.281279Z",
          "start_time": "2021-11-01T02:50:54.272279Z"
        },
        "colab": {
          "base_uri": "https://localhost:8080/"
        },
        "id": "oEyHUwElWlPB",
        "outputId": "6022aaf4-bbc7-4905-8d5e-f7f2ae542106"
      },
      "source": [
        "y_train[:5]"
      ],
      "execution_count": 20,
      "outputs": [
        {
          "output_type": "execute_result",
          "data": {
            "text/plain": [
              "array([[0., 0., 0., 0., 0., 1., 0., 0., 0., 0.],\n",
              "       [1., 0., 0., 0., 0., 0., 0., 0., 0., 0.],\n",
              "       [0., 0., 0., 0., 1., 0., 0., 0., 0., 0.],\n",
              "       [0., 1., 0., 0., 0., 0., 0., 0., 0., 0.],\n",
              "       [0., 0., 0., 0., 0., 0., 0., 0., 0., 1.]], dtype=float32)"
            ]
          },
          "metadata": {},
          "execution_count": 20
        }
      ]
    },
    {
      "cell_type": "code",
      "metadata": {
        "ExecuteTime": {
          "end_time": "2021-11-01T02:50:54.467045Z",
          "start_time": "2021-11-01T02:50:54.458082Z"
        },
        "colab": {
          "base_uri": "https://localhost:8080/"
        },
        "id": "PnY6_8CQWlPB",
        "outputId": "e6e88408-78b6-47bd-9fe7-120f3c833505"
      },
      "source": [
        "print(y_train.shape, y_test.shape)"
      ],
      "execution_count": 21,
      "outputs": [
        {
          "output_type": "stream",
          "name": "stdout",
          "text": [
            "(60000, 10) (10000, 10)\n"
          ]
        }
      ]
    },
    {
      "cell_type": "markdown",
      "metadata": {
        "id": "Q9pFlHvOWlPC"
      },
      "source": [
        "## 학습 (fit)\n",
        "- model.fit()\n",
        "    - 모델 학습 메소드. \n",
        "    - 학습과정의 Log를 History 객체로 반환한다.\n",
        "- History : train 시 에폭별 평가지표값들을 모아서 제공.    "
      ]
    },
    {
      "cell_type": "code",
      "metadata": {
        "ExecuteTime": {
          "end_time": "2021-11-01T02:53:48.924439Z",
          "start_time": "2021-11-01T02:53:29.624572Z"
        },
        "colab": {
          "base_uri": "https://localhost:8080/"
        },
        "id": "kIb7px_iWlPC",
        "outputId": "8aacaf06-57b0-43a4-b94b-a208071fb4a7"
      },
      "source": [
        "# Epoch : train dataset 전체를 1번 학습\n",
        "# step : 1번 최적화\n",
        "# 총 step 수 : data 크기/batch_size*epochs\n",
        "\n",
        "hist = model.fit(X_train, y_train, \n",
        "                  epochs=10,  # epoch 수\n",
        "                  batch_size=100, # 최적화 단위, batch_size만큼의 data를 학습한 뒤 최적화함\n",
        "                  validation_split=0.3 # tranin set을 검증 dataset나눌 비율\n",
        "                  )"
      ],
      "execution_count": 22,
      "outputs": [
        {
          "output_type": "stream",
          "name": "stdout",
          "text": [
            "Epoch 1/10\n",
            "420/420 [==============================] - 3s 4ms/step - loss: 0.3034 - accuracy: 0.9128 - val_loss: 0.1707 - val_accuracy: 0.9498\n",
            "Epoch 2/10\n",
            "420/420 [==============================] - 1s 3ms/step - loss: 0.1177 - accuracy: 0.9652 - val_loss: 0.1147 - val_accuracy: 0.9651\n",
            "Epoch 3/10\n",
            "420/420 [==============================] - 1s 3ms/step - loss: 0.0748 - accuracy: 0.9781 - val_loss: 0.1020 - val_accuracy: 0.9691\n",
            "Epoch 4/10\n",
            "420/420 [==============================] - 1s 3ms/step - loss: 0.0529 - accuracy: 0.9838 - val_loss: 0.1105 - val_accuracy: 0.9677\n",
            "Epoch 5/10\n",
            "420/420 [==============================] - 1s 3ms/step - loss: 0.0385 - accuracy: 0.9879 - val_loss: 0.1104 - val_accuracy: 0.9682\n",
            "Epoch 6/10\n",
            "420/420 [==============================] - 1s 3ms/step - loss: 0.0272 - accuracy: 0.9920 - val_loss: 0.1147 - val_accuracy: 0.9690\n",
            "Epoch 7/10\n",
            "420/420 [==============================] - 1s 3ms/step - loss: 0.0228 - accuracy: 0.9927 - val_loss: 0.1233 - val_accuracy: 0.9676\n",
            "Epoch 8/10\n",
            "420/420 [==============================] - 1s 3ms/step - loss: 0.0201 - accuracy: 0.9934 - val_loss: 0.1117 - val_accuracy: 0.9713\n",
            "Epoch 9/10\n",
            "420/420 [==============================] - 1s 3ms/step - loss: 0.0155 - accuracy: 0.9948 - val_loss: 0.1111 - val_accuracy: 0.9722\n",
            "Epoch 10/10\n",
            "420/420 [==============================] - 1s 3ms/step - loss: 0.0139 - accuracy: 0.9958 - val_loss: 0.1186 - val_accuracy: 0.9712\n"
          ]
        }
      ]
    },
    {
      "cell_type": "code",
      "metadata": {
        "id": "CGK11CkVneFC"
      },
      "source": [
        "# trainset : loss, {accuracy}, val_loss, {val_accuracy} - 지정해서 나온 값"
      ],
      "execution_count": 23,
      "outputs": []
    },
    {
      "cell_type": "code",
      "metadata": {
        "colab": {
          "base_uri": "https://localhost:8080/"
        },
        "id": "PTz0Bt7mn0dT",
        "outputId": "77152623-9451-4193-f5de-ff2657ee46a8"
      },
      "source": [
        "type(hist)"
      ],
      "execution_count": 24,
      "outputs": [
        {
          "output_type": "execute_result",
          "data": {
            "text/plain": [
              "keras.callbacks.History"
            ]
          },
          "metadata": {},
          "execution_count": 24
        }
      ]
    },
    {
      "cell_type": "code",
      "metadata": {
        "colab": {
          "base_uri": "https://localhost:8080/"
        },
        "id": "hTV4NNSxn2Yn",
        "outputId": "6a5cc819-dadb-4c7d-919a-d82321e4331a"
      },
      "source": [
        "type(hist.history)"
      ],
      "execution_count": 26,
      "outputs": [
        {
          "output_type": "execute_result",
          "data": {
            "text/plain": [
              "dict"
            ]
          },
          "metadata": {},
          "execution_count": 26
        }
      ]
    },
    {
      "cell_type": "code",
      "metadata": {
        "colab": {
          "base_uri": "https://localhost:8080/"
        },
        "id": "beFsBbcHn6n3",
        "outputId": "f8802fe5-1570-4851-fd0a-e6776d4fd192"
      },
      "source": [
        "hist.history # dict 형태로 hist return"
      ],
      "execution_count": 27,
      "outputs": [
        {
          "output_type": "execute_result",
          "data": {
            "text/plain": [
              "{'accuracy': [0.9128333330154419,\n",
              "  0.965238094329834,\n",
              "  0.9781190752983093,\n",
              "  0.9838095307350159,\n",
              "  0.987928569316864,\n",
              "  0.9919762015342712,\n",
              "  0.9926905035972595,\n",
              "  0.9933571219444275,\n",
              "  0.9948333501815796,\n",
              "  0.9958333373069763],\n",
              " 'loss': [0.3033634424209595,\n",
              "  0.11769848316907883,\n",
              "  0.07479894906282425,\n",
              "  0.05290234461426735,\n",
              "  0.03845982998609543,\n",
              "  0.027151869609951973,\n",
              "  0.022780366241931915,\n",
              "  0.020114151760935783,\n",
              "  0.015538179315626621,\n",
              "  0.013867287896573544],\n",
              " 'val_accuracy': [0.949833333492279,\n",
              "  0.9651111364364624,\n",
              "  0.9690555334091187,\n",
              "  0.9677222371101379,\n",
              "  0.9681666493415833,\n",
              "  0.968999981880188,\n",
              "  0.967555582523346,\n",
              "  0.9712777733802795,\n",
              "  0.9722222089767456,\n",
              "  0.9712222218513489],\n",
              " 'val_loss': [0.17067354917526245,\n",
              "  0.11465016007423401,\n",
              "  0.10200276225805283,\n",
              "  0.11049393564462662,\n",
              "  0.11041027307510376,\n",
              "  0.11466621607542038,\n",
              "  0.12330827862024307,\n",
              "  0.1117316409945488,\n",
              "  0.1111374944448471,\n",
              "  0.11860562115907669]}"
            ]
          },
          "metadata": {},
          "execution_count": 27
        }
      ]
    },
    {
      "cell_type": "markdown",
      "metadata": {
        "id": "6fEuWReNWlPC"
      },
      "source": [
        "##### History 시각화"
      ]
    },
    {
      "cell_type": "code",
      "metadata": {
        "ExecuteTime": {
          "end_time": "2021-11-01T02:54:03.793711Z",
          "start_time": "2021-11-01T02:54:03.519389Z"
        },
        "colab": {
          "base_uri": "https://localhost:8080/",
          "height": 729
        },
        "id": "-rN7Ik5gWlPC",
        "outputId": "8ed09f92-1fae-4085-f60d-b3c3d1df44b2"
      },
      "source": [
        "import matplotlib.pyplot as plt\n",
        "plt.figure(figsize=(7,10))\n",
        "\n",
        "# loss, val_loss\n",
        "plt.subplot(2,1,1)\n",
        "plt.plot(range(1,11), hist.history['loss'], label='Train Loss')\n",
        "plt.plot(range(1,11), hist.history['val_loss'], label=\"Validation Loss\")\n",
        "plt.title(\"Loss per Epoch\", fontsize=20)\n",
        "plt.legend()\n",
        "\n",
        "# accuracy, val_accuracy\n",
        "plt.subplot(2,1,2)\n",
        "plt.plot(range(1,11), hist.history['accuracy'], label='Train Accuracy')\n",
        "plt.plot(range(1,11), hist.history['val_accuracy'], label='Validation Accuracy')\n",
        "plt.title(\"Accuracy per Epoch\", fontsize=20)\n",
        "\n",
        "plt.legend()\n",
        "plt.tight_layout()\n",
        "plt.show()\n",
        "\n",
        "# epoch이 진행되면 validation의 성능은 좋아지다가 어느 순간 부터 정체 또는 나빠짐. 이때가 overfitting이 발생했다고 볼 수 있음"
      ],
      "execution_count": 28,
      "outputs": [
        {
          "output_type": "display_data",
          "data": {
            "image/png": "[encoded data removed]",
            "text/plain": [
              "<Figure size 504x720 with 2 Axes>"
            ]
          },
          "metadata": {
            "needs_background": "light"
          }
        }
      ]
    },
    {
      "cell_type": "markdown",
      "metadata": {
        "id": "88UGDhUVWlPD"
      },
      "source": [
        "## 테스트셋 평가"
      ]
    },
    {
      "cell_type": "code",
      "metadata": {
        "ExecuteTime": {
          "end_time": "2021-11-01T02:54:55.003613Z",
          "start_time": "2021-11-01T02:54:53.112014Z"
        },
        "colab": {
          "base_uri": "https://localhost:8080/"
        },
        "id": "Ecu6iHoeWlPD",
        "outputId": "2a688e36-2958-4168-a47a-490f21244fff"
      },
      "source": [
        "# model.evaluate() : 평가 함수\n",
        "# loss와 compile시 지정한 metrics 값을 출력\n",
        "test_loss, test_acc = model.evaluate(X_test, y_test)"
      ],
      "execution_count": 29,
      "outputs": [
        {
          "output_type": "stream",
          "name": "stdout",
          "text": [
            "313/313 [==============================] - 1s 3ms/step - loss: 0.0931 - accuracy: 0.9754\n"
          ]
        }
      ]
    },
    {
      "cell_type": "code",
      "metadata": {
        "ExecuteTime": {
          "end_time": "2021-11-01T02:54:59.796293Z",
          "start_time": "2021-11-01T02:54:59.784261Z"
        },
        "colab": {
          "base_uri": "https://localhost:8080/"
        },
        "id": "g1OInkxyWlPD",
        "outputId": "7f4bdb30-9a81-4c5a-d5ba-780452e0b282"
      },
      "source": [
        "print(test_loss, test_acc)"
      ],
      "execution_count": 30,
      "outputs": [
        {
          "output_type": "stream",
          "name": "stdout",
          "text": [
            "0.0931435152888298 0.9753999710083008\n"
          ]
        }
      ]
    },
    {
      "cell_type": "markdown",
      "metadata": {
        "id": "7SBLipZ0WlPE"
      },
      "source": [
        "## 새로운 데이터 추론\n",
        "- 새로운 데이터를 추론하기 전에 학습데이터에 했던 전처리과정을 동일하게 적용 한 뒤 추론한다."
      ]
    },
    {
      "cell_type": "markdown",
      "metadata": {
        "id": "Pzpv2ThqWlPE"
      },
      "source": [
        "### 추론 메소드\n",
        "- predict()\n",
        "    - **분류:** 각 클래스 별 확률 반환\n",
        "    - **회귀:** 최종 예측 결과\n",
        "- <del>predict_classes()</del>\n",
        "    - 분류 문제에서 클래스(범주값) 반환\n",
        "    - tensorflow 2.3 부터 deprecated되고 2.6버전에서 제거됨.\n",
        "- 이진 분류(binary classification)\n",
        "    - `numpy.where(model.predict(x) > 0.5, 1, 0).astype(\"int32\")`\n",
        "- 다중클래스 분류(multi-class classification)\n",
        "    - `numpy.argmax(model.predict(x), axis=1)`"
      ]
    },
    {
      "cell_type": "code",
      "metadata": {
        "ExecuteTime": {
          "end_time": "2021-11-01T02:59:10.029469Z",
          "start_time": "2021-11-01T02:59:10.016497Z"
        },
        "colab": {
          "base_uri": "https://localhost:8080/"
        },
        "id": "OlorPXsLWlPE",
        "outputId": "9b4d12da-032a-437f-bfb2-f338528c6f2c"
      },
      "source": [
        "new_image = X_test[:5] # 0 ~ 1 정규화 이미 되어 있음 (원래는 정규화 해야함)\n",
        "new_image.shape"
      ],
      "execution_count": 31,
      "outputs": [
        {
          "output_type": "execute_result",
          "data": {
            "text/plain": [
              "(5, 28, 28)"
            ]
          },
          "metadata": {},
          "execution_count": 31
        }
      ]
    },
    {
      "cell_type": "code",
      "metadata": {
        "ExecuteTime": {
          "end_time": "2021-11-01T02:59:10.325737Z",
          "start_time": "2021-11-01T02:59:10.264749Z"
        },
        "colab": {
          "base_uri": "https://localhost:8080/"
        },
        "id": "BaKH8GD_WlPF",
        "outputId": "72d3e9b4-e00c-4cab-8e57-f719781f2daf"
      },
      "source": [
        "result = model.predict(new_image)\n",
        "result.shape"
      ],
      "execution_count": 32,
      "outputs": [
        {
          "output_type": "execute_result",
          "data": {
            "text/plain": [
              "(5, 10)"
            ]
          },
          "metadata": {},
          "execution_count": 32
        }
      ]
    },
    {
      "cell_type": "code",
      "metadata": {
        "ExecuteTime": {
          "end_time": "2021-11-01T02:59:21.286183Z",
          "start_time": "2021-11-01T02:59:21.270686Z"
        },
        "colab": {
          "base_uri": "https://localhost:8080/"
        },
        "id": "H1NUftkoWlPF",
        "outputId": "9a562ba0-048c-463f-f834-f7a0034f1b95"
      },
      "source": [
        "result[0]"
      ],
      "execution_count": 33,
      "outputs": [
        {
          "output_type": "execute_result",
          "data": {
            "text/plain": [
              "array([3.2524988e-10, 8.9404333e-09, 5.7328148e-08, 2.3923106e-04,\n",
              "       8.7247735e-12, 1.0756371e-07, 5.7071839e-13, 9.9975461e-01,\n",
              "       1.9904508e-07, 5.7952716e-06], dtype=float32)"
            ]
          },
          "metadata": {},
          "execution_count": 33
        }
      ]
    },
    {
      "cell_type": "code",
      "metadata": {
        "ExecuteTime": {
          "end_time": "2021-11-01T03:00:02.103464Z",
          "start_time": "2021-11-01T03:00:02.087465Z"
        },
        "id": "-9IAbqBPWlPF"
      },
      "source": [
        "result_label = np.argmax(result, axis=-1)"
      ],
      "execution_count": 34,
      "outputs": []
    },
    {
      "cell_type": "code",
      "metadata": {
        "ExecuteTime": {
          "end_time": "2021-11-01T03:00:02.556585Z",
          "start_time": "2021-11-01T03:00:02.543585Z"
        },
        "colab": {
          "base_uri": "https://localhost:8080/"
        },
        "id": "rMFvs1cIWlPF",
        "outputId": "3e5def6c-1bcd-46aa-fb23-f15c6b6c3b83"
      },
      "source": [
        "result_label"
      ],
      "execution_count": 35,
      "outputs": [
        {
          "output_type": "execute_result",
          "data": {
            "text/plain": [
              "array([7, 2, 1, 0, 4])"
            ]
          },
          "metadata": {},
          "execution_count": 35
        }
      ]
    }
  ]
}