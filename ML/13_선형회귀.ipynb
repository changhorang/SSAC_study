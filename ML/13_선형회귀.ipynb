{
 "cells": [
  {
   "cell_type": "markdown",
   "metadata": {
    "slideshow": {
     "slide_type": "slide"
    }
   },
   "source": [
    "# 선형회귀 개요\n",
    "\n",
    "선형 회귀(線型回歸, Linear regression)는 종속 변수 y와 한 개 이상의 독립 변수X와의 선형 상관 관계를 모델링하는 회귀분석 기법. [위키백과](https://ko.wikipedia.org/wiki/%EC%84%A0%ED%98%95_%ED%9A%8C%EA%B7%80)"
   ]
  },
  {
   "cell_type": "markdown",
   "metadata": {
    "slideshow": {
     "slide_type": "fragment"
    }
   },
   "source": [
    "## 선형회귀 모델\n",
    "- 입력 Feature에 가중치(Weight)를 곱하고 편향(bias)를 더해 예측 결과를 출력한다.\n",
    "- Weight와 bias가 학습대상 Parameter가 된다.\n",
    "\n",
    "$$\n",
    "\\hat{y_i} = w_1 x_{i1} + w_2 x_{i2}... + w_{p} x_{ip} + b\n",
    "\\\\\n",
    "\\hat{y_i} = \\mathbf{w}^{T} \\cdot \\mathbf{X} \n",
    "$$\n",
    "\n",
    "- $\\hat{y_i}$: 예측값\n",
    "- $x$: 특성(feature-컬럼)\n",
    "- $w$: 가중치(weight), 회귀계수(regression coefficient). 특성이 $\\hat{y_i}$ 에 얼마나 영향을 주는지 정도\n",
    "- $b$: 절편\n",
    "- $p$: p 번째 특성(feature)/p번째 가중치\n",
    "- $i$: i번째 관측치(sample)"
   ]
  },
  {
   "cell_type": "markdown",
   "metadata": {
    "slideshow": {
     "slide_type": "slide"
    }
   },
   "source": [
    "### Boston DataSet\n",
    " - CRIM\t: 지역별 범죄 발생률\n",
    " - ZN\t: 25,000 평방피트를 초과하는 거주지역의 비율\n",
    " - INDUS: 비상업지역 토지의 비율\n",
    " - CHAS\t: 찰스강에 대한 더미변수(강의 경계에 위치한 경우는 1, 아니면 0)\n",
    " - NOX\t: 일산화질소 농도\n",
    " - RM\t: 주택 1가구당 평균 방의 개수\n",
    " - AGE\t: 1940년 이전에 건축된 소유주택의 비율\n",
    " - DIS\t: 5개의 보스턴 고용센터까지의 접근성 지수\n",
    " - RAD\t: 고속도로까지의 접근성 지수\n",
    " - TAX\t: 10,000 달러 당 재산세율\n",
    " - PTRATIO : 지역별 교사 한명당 학생 비율\n",
    " - B\t: 지역의 흑인 거주 비율\n",
    " - LSTAT: 하위계층의 비율(%)\n",
    " \n",
    " - MEDV\t: Target.  본인 소유의 주택가격(중앙값) (단위: $1,000)\n"
   ]
  },
  {
   "cell_type": "code",
   "execution_count": 1,
   "metadata": {
    "ExecuteTime": {
     "end_time": "2021-11-22T01:30:34.742948Z",
     "start_time": "2021-11-22T01:30:32.103009Z"
    },
    "slideshow": {
     "slide_type": "slide"
    }
   },
   "outputs": [],
   "source": [
    "import pandas as pd\n",
    "import numpy as np\n",
    "from sklearn.datasets import load_boston"
   ]
  },
  {
   "cell_type": "code",
   "execution_count": 2,
   "metadata": {
    "ExecuteTime": {
     "end_time": "2021-11-22T01:30:39.668889Z",
     "start_time": "2021-11-22T01:30:39.637863Z"
    },
    "slideshow": {
     "slide_type": "fragment"
    }
   },
   "outputs": [
    {
     "name": "stderr",
     "output_type": "stream",
     "text": [
      "C:\\Users\\user\\anaconda3\\envs\\ml\\lib\\site-packages\\sklearn\\utils\\deprecation.py:87: FutureWarning: Function load_boston is deprecated; `load_boston` is deprecated in 1.0 and will be removed in 1.2.\n",
      "\n",
      "    The Boston housing prices dataset has an ethical problem. You can refer to\n",
      "    the documentation of this function for further details.\n",
      "\n",
      "    The scikit-learn maintainers therefore strongly discourage the use of this\n",
      "    dataset unless the purpose of the code is to study and educate about\n",
      "    ethical issues in data science and machine learning.\n",
      "\n",
      "    In this special case, you can fetch the dataset from the original\n",
      "    source::\n",
      "\n",
      "        import pandas as pd\n",
      "        import numpy as np\n",
      "\n",
      "\n",
      "        data_url = \"http://lib.stat.cmu.edu/datasets/boston\"\n",
      "        raw_df = pd.read_csv(data_url, sep=\"\\s+\", skiprows=22, header=None)\n",
      "        data = np.hstack([raw_df.values[::2, :], raw_df.values[1::2, :2]])\n",
      "        target = raw_df.values[1::2, 2]\n",
      "\n",
      "    Alternative datasets include the California housing dataset (i.e.\n",
      "    :func:`~sklearn.datasets.fetch_california_housing`) and the Ames housing\n",
      "    dataset. You can load the datasets as follows::\n",
      "\n",
      "        from sklearn.datasets import fetch_california_housing\n",
      "        housing = fetch_california_housing()\n",
      "\n",
      "    for the California housing dataset and::\n",
      "\n",
      "        from sklearn.datasets import fetch_openml\n",
      "        housing = fetch_openml(name=\"house_prices\", as_frame=True)\n",
      "\n",
      "    for the Ames housing dataset.\n",
      "    \n",
      "  warnings.warn(msg, category=FutureWarning)\n"
     ]
    },
    {
     "data": {
      "text/plain": [
       "((506, 13), (506,))"
      ]
     },
     "execution_count": 2,
     "metadata": {},
     "output_type": "execute_result"
    }
   ],
   "source": [
    "boston = load_boston()\n",
    "X, y = boston.data, boston.target\n",
    "\n",
    "X.shape, y.shape"
   ]
  },
  {
   "cell_type": "code",
   "execution_count": 3,
   "metadata": {
    "ExecuteTime": {
     "end_time": "2021-11-22T01:32:35.901897Z",
     "start_time": "2021-11-22T01:32:35.862311Z"
    },
    "slideshow": {
     "slide_type": "fragment"
    }
   },
   "outputs": [
    {
     "data": {
      "text/html": [
       "<div>\n",
       "<style scoped>\n",
       "    .dataframe tbody tr th:only-of-type {\n",
       "        vertical-align: middle;\n",
       "    }\n",
       "\n",
       "    .dataframe tbody tr th {\n",
       "        vertical-align: top;\n",
       "    }\n",
       "\n",
       "    .dataframe thead th {\n",
       "        text-align: right;\n",
       "    }\n",
       "</style>\n",
       "<table border=\"1\" class=\"dataframe\">\n",
       "  <thead>\n",
       "    <tr style=\"text-align: right;\">\n",
       "      <th></th>\n",
       "      <th>CRIM</th>\n",
       "      <th>ZN</th>\n",
       "      <th>INDUS</th>\n",
       "      <th>CHAS</th>\n",
       "      <th>NOX</th>\n",
       "      <th>RM</th>\n",
       "      <th>AGE</th>\n",
       "      <th>DIS</th>\n",
       "      <th>RAD</th>\n",
       "      <th>TAX</th>\n",
       "      <th>PTRATIO</th>\n",
       "      <th>B</th>\n",
       "      <th>LSTAT</th>\n",
       "      <th>MEDV</th>\n",
       "    </tr>\n",
       "  </thead>\n",
       "  <tbody>\n",
       "    <tr>\n",
       "      <th>0</th>\n",
       "      <td>0.00632</td>\n",
       "      <td>18.0</td>\n",
       "      <td>2.31</td>\n",
       "      <td>0.0</td>\n",
       "      <td>0.538</td>\n",
       "      <td>6.575</td>\n",
       "      <td>65.2</td>\n",
       "      <td>4.0900</td>\n",
       "      <td>1.0</td>\n",
       "      <td>296.0</td>\n",
       "      <td>15.3</td>\n",
       "      <td>396.90</td>\n",
       "      <td>4.98</td>\n",
       "      <td>24.0</td>\n",
       "    </tr>\n",
       "    <tr>\n",
       "      <th>1</th>\n",
       "      <td>0.02731</td>\n",
       "      <td>0.0</td>\n",
       "      <td>7.07</td>\n",
       "      <td>0.0</td>\n",
       "      <td>0.469</td>\n",
       "      <td>6.421</td>\n",
       "      <td>78.9</td>\n",
       "      <td>4.9671</td>\n",
       "      <td>2.0</td>\n",
       "      <td>242.0</td>\n",
       "      <td>17.8</td>\n",
       "      <td>396.90</td>\n",
       "      <td>9.14</td>\n",
       "      <td>21.6</td>\n",
       "    </tr>\n",
       "    <tr>\n",
       "      <th>2</th>\n",
       "      <td>0.02729</td>\n",
       "      <td>0.0</td>\n",
       "      <td>7.07</td>\n",
       "      <td>0.0</td>\n",
       "      <td>0.469</td>\n",
       "      <td>7.185</td>\n",
       "      <td>61.1</td>\n",
       "      <td>4.9671</td>\n",
       "      <td>2.0</td>\n",
       "      <td>242.0</td>\n",
       "      <td>17.8</td>\n",
       "      <td>392.83</td>\n",
       "      <td>4.03</td>\n",
       "      <td>34.7</td>\n",
       "    </tr>\n",
       "    <tr>\n",
       "      <th>3</th>\n",
       "      <td>0.03237</td>\n",
       "      <td>0.0</td>\n",
       "      <td>2.18</td>\n",
       "      <td>0.0</td>\n",
       "      <td>0.458</td>\n",
       "      <td>6.998</td>\n",
       "      <td>45.8</td>\n",
       "      <td>6.0622</td>\n",
       "      <td>3.0</td>\n",
       "      <td>222.0</td>\n",
       "      <td>18.7</td>\n",
       "      <td>394.63</td>\n",
       "      <td>2.94</td>\n",
       "      <td>33.4</td>\n",
       "    </tr>\n",
       "    <tr>\n",
       "      <th>4</th>\n",
       "      <td>0.06905</td>\n",
       "      <td>0.0</td>\n",
       "      <td>2.18</td>\n",
       "      <td>0.0</td>\n",
       "      <td>0.458</td>\n",
       "      <td>7.147</td>\n",
       "      <td>54.2</td>\n",
       "      <td>6.0622</td>\n",
       "      <td>3.0</td>\n",
       "      <td>222.0</td>\n",
       "      <td>18.7</td>\n",
       "      <td>396.90</td>\n",
       "      <td>5.33</td>\n",
       "      <td>36.2</td>\n",
       "    </tr>\n",
       "  </tbody>\n",
       "</table>\n",
       "</div>"
      ],
      "text/plain": [
       "      CRIM    ZN  INDUS  CHAS    NOX     RM   AGE     DIS  RAD    TAX  \\\n",
       "0  0.00632  18.0   2.31   0.0  0.538  6.575  65.2  4.0900  1.0  296.0   \n",
       "1  0.02731   0.0   7.07   0.0  0.469  6.421  78.9  4.9671  2.0  242.0   \n",
       "2  0.02729   0.0   7.07   0.0  0.469  7.185  61.1  4.9671  2.0  242.0   \n",
       "3  0.03237   0.0   2.18   0.0  0.458  6.998  45.8  6.0622  3.0  222.0   \n",
       "4  0.06905   0.0   2.18   0.0  0.458  7.147  54.2  6.0622  3.0  222.0   \n",
       "\n",
       "   PTRATIO       B  LSTAT  MEDV  \n",
       "0     15.3  396.90   4.98  24.0  \n",
       "1     17.8  396.90   9.14  21.6  \n",
       "2     17.8  392.83   4.03  34.7  \n",
       "3     18.7  394.63   2.94  33.4  \n",
       "4     18.7  396.90   5.33  36.2  "
      ]
     },
     "execution_count": 3,
     "metadata": {},
     "output_type": "execute_result"
    }
   ],
   "source": [
    "df = pd.DataFrame(X, columns=boston.feature_names)\n",
    "df['MEDV'] = y\n",
    "df.head()"
   ]
  },
  {
   "cell_type": "code",
   "execution_count": 5,
   "metadata": {
    "ExecuteTime": {
     "end_time": "2021-11-22T01:38:29.663928Z",
     "start_time": "2021-11-22T01:38:29.654980Z"
    },
    "slideshow": {
     "slide_type": "fragment"
    }
   },
   "outputs": [
    {
     "data": {
      "text/plain": [
       "0.0    471\n",
       "1.0     35\n",
       "Name: CHAS, dtype: int64"
      ]
     },
     "execution_count": 5,
     "metadata": {},
     "output_type": "execute_result"
    }
   ],
   "source": [
    "#CHAS (강 경계) 여부 - 원핫인코딩으로 변경 필요 (linear regression 위해서)\n",
    "df.CHAS.value_counts()"
   ]
  },
  {
   "cell_type": "code",
   "execution_count": 6,
   "metadata": {
    "ExecuteTime": {
     "end_time": "2021-11-22T01:38:38.971863Z",
     "start_time": "2021-11-22T01:38:38.949922Z"
    }
   },
   "outputs": [
    {
     "name": "stdout",
     "output_type": "stream",
     "text": [
      "<class 'pandas.core.frame.DataFrame'>\n",
      "RangeIndex: 506 entries, 0 to 505\n",
      "Data columns (total 14 columns):\n",
      " #   Column   Non-Null Count  Dtype  \n",
      "---  ------   --------------  -----  \n",
      " 0   CRIM     506 non-null    float64\n",
      " 1   ZN       506 non-null    float64\n",
      " 2   INDUS    506 non-null    float64\n",
      " 3   CHAS     506 non-null    float64\n",
      " 4   NOX      506 non-null    float64\n",
      " 5   RM       506 non-null    float64\n",
      " 6   AGE      506 non-null    float64\n",
      " 7   DIS      506 non-null    float64\n",
      " 8   RAD      506 non-null    float64\n",
      " 9   TAX      506 non-null    float64\n",
      " 10  PTRATIO  506 non-null    float64\n",
      " 11  B        506 non-null    float64\n",
      " 12  LSTAT    506 non-null    float64\n",
      " 13  MEDV     506 non-null    float64\n",
      "dtypes: float64(14)\n",
      "memory usage: 55.5 KB\n"
     ]
    }
   ],
   "source": [
    "df.info()"
   ]
  },
  {
   "cell_type": "code",
   "execution_count": 7,
   "metadata": {
    "ExecuteTime": {
     "end_time": "2021-11-22T01:38:50.240787Z",
     "start_time": "2021-11-22T01:38:50.227815Z"
    },
    "slideshow": {
     "slide_type": "fragment"
    }
   },
   "outputs": [
    {
     "data": {
      "text/plain": [
       "CRIM       0\n",
       "ZN         0\n",
       "INDUS      0\n",
       "CHAS       0\n",
       "NOX        0\n",
       "RM         0\n",
       "AGE        0\n",
       "DIS        0\n",
       "RAD        0\n",
       "TAX        0\n",
       "PTRATIO    0\n",
       "B          0\n",
       "LSTAT      0\n",
       "MEDV       0\n",
       "dtype: int64"
      ]
     },
     "execution_count": 7,
     "metadata": {},
     "output_type": "execute_result"
    }
   ],
   "source": [
    "df.isna().sum()"
   ]
  },
  {
   "cell_type": "markdown",
   "metadata": {
    "slideshow": {
     "slide_type": "slide"
    }
   },
   "source": [
    "## LinearRegression\n",
    "- 가장 기본적인 선형 회귀 모델\n",
    "\n",
    "### 데이터 전처리\n",
    "\n",
    "- **선형회귀 모델사용시 전처리**\n",
    "    - **범주형 Feature**\n",
    "        - : 원핫 인코딩\n",
    "    - **연속형 Feature**\n",
    "        - Feature Scaling을 통해서 각 컬럼들의 값의 단위를 맞춰준다.\n",
    "        - StandardScaler를 사용할 때 성능이 더 잘나오는 경향이 있다."
   ]
  },
  {
   "cell_type": "markdown",
   "metadata": {
    "ExecuteTime": {
     "end_time": "2021-08-18T00:05:31.173228Z",
     "start_time": "2021-08-18T00:05:31.130259Z"
    },
    "slideshow": {
     "slide_type": "fragment"
    }
   },
   "source": [
    "#####  CHAS Feature 원핫인코딩"
   ]
  },
  {
   "cell_type": "code",
   "execution_count": 9,
   "metadata": {
    "ExecuteTime": {
     "end_time": "2021-11-22T01:40:46.654913Z",
     "start_time": "2021-11-22T01:40:46.645942Z"
    },
    "slideshow": {
     "slide_type": "fragment"
    }
   },
   "outputs": [
    {
     "data": {
      "text/html": [
       "<div>\n",
       "<style scoped>\n",
       "    .dataframe tbody tr th:only-of-type {\n",
       "        vertical-align: middle;\n",
       "    }\n",
       "\n",
       "    .dataframe tbody tr th {\n",
       "        vertical-align: top;\n",
       "    }\n",
       "\n",
       "    .dataframe thead th {\n",
       "        text-align: right;\n",
       "    }\n",
       "</style>\n",
       "<table border=\"1\" class=\"dataframe\">\n",
       "  <thead>\n",
       "    <tr style=\"text-align: right;\">\n",
       "      <th></th>\n",
       "      <th>CHAS_0</th>\n",
       "      <th>CHAS_1</th>\n",
       "    </tr>\n",
       "  </thead>\n",
       "  <tbody>\n",
       "    <tr>\n",
       "      <th>0</th>\n",
       "      <td>1</td>\n",
       "      <td>0</td>\n",
       "    </tr>\n",
       "    <tr>\n",
       "      <th>1</th>\n",
       "      <td>1</td>\n",
       "      <td>0</td>\n",
       "    </tr>\n",
       "    <tr>\n",
       "      <th>2</th>\n",
       "      <td>1</td>\n",
       "      <td>0</td>\n",
       "    </tr>\n",
       "    <tr>\n",
       "      <th>3</th>\n",
       "      <td>1</td>\n",
       "      <td>0</td>\n",
       "    </tr>\n",
       "    <tr>\n",
       "      <th>4</th>\n",
       "      <td>1</td>\n",
       "      <td>0</td>\n",
       "    </tr>\n",
       "  </tbody>\n",
       "</table>\n",
       "</div>"
      ],
      "text/plain": [
       "   CHAS_0  CHAS_1\n",
       "0       1       0\n",
       "1       1       0\n",
       "2       1       0\n",
       "3       1       0\n",
       "4       1       0"
      ]
     },
     "execution_count": 9,
     "metadata": {},
     "output_type": "execute_result"
    }
   ],
   "source": [
    "chas_df = pd.get_dummies(df['CHAS'])\n",
    "\n",
    "chas_df.columns = ['CHAS_0', 'CHAS_1']\n",
    "chas_df.head()"
   ]
  },
  {
   "cell_type": "code",
   "execution_count": 10,
   "metadata": {
    "ExecuteTime": {
     "end_time": "2021-11-22T01:43:05.664844Z",
     "start_time": "2021-11-22T01:43:05.637877Z"
    },
    "slideshow": {
     "slide_type": "fragment"
    }
   },
   "outputs": [
    {
     "data": {
      "text/html": [
       "<div>\n",
       "<style scoped>\n",
       "    .dataframe tbody tr th:only-of-type {\n",
       "        vertical-align: middle;\n",
       "    }\n",
       "\n",
       "    .dataframe tbody tr th {\n",
       "        vertical-align: top;\n",
       "    }\n",
       "\n",
       "    .dataframe thead th {\n",
       "        text-align: right;\n",
       "    }\n",
       "</style>\n",
       "<table border=\"1\" class=\"dataframe\">\n",
       "  <thead>\n",
       "    <tr style=\"text-align: right;\">\n",
       "      <th></th>\n",
       "      <th>CRIM</th>\n",
       "      <th>ZN</th>\n",
       "      <th>INDUS</th>\n",
       "      <th>NOX</th>\n",
       "      <th>RM</th>\n",
       "      <th>AGE</th>\n",
       "      <th>DIS</th>\n",
       "      <th>RAD</th>\n",
       "      <th>TAX</th>\n",
       "      <th>PTRATIO</th>\n",
       "      <th>B</th>\n",
       "      <th>LSTAT</th>\n",
       "      <th>MEDV</th>\n",
       "      <th>CHAS_0</th>\n",
       "      <th>CHAS_1</th>\n",
       "    </tr>\n",
       "  </thead>\n",
       "  <tbody>\n",
       "    <tr>\n",
       "      <th>0</th>\n",
       "      <td>0.00632</td>\n",
       "      <td>18.0</td>\n",
       "      <td>2.31</td>\n",
       "      <td>0.538</td>\n",
       "      <td>6.575</td>\n",
       "      <td>65.2</td>\n",
       "      <td>4.0900</td>\n",
       "      <td>1.0</td>\n",
       "      <td>296.0</td>\n",
       "      <td>15.3</td>\n",
       "      <td>396.90</td>\n",
       "      <td>4.98</td>\n",
       "      <td>24.0</td>\n",
       "      <td>1</td>\n",
       "      <td>0</td>\n",
       "    </tr>\n",
       "    <tr>\n",
       "      <th>1</th>\n",
       "      <td>0.02731</td>\n",
       "      <td>0.0</td>\n",
       "      <td>7.07</td>\n",
       "      <td>0.469</td>\n",
       "      <td>6.421</td>\n",
       "      <td>78.9</td>\n",
       "      <td>4.9671</td>\n",
       "      <td>2.0</td>\n",
       "      <td>242.0</td>\n",
       "      <td>17.8</td>\n",
       "      <td>396.90</td>\n",
       "      <td>9.14</td>\n",
       "      <td>21.6</td>\n",
       "      <td>1</td>\n",
       "      <td>0</td>\n",
       "    </tr>\n",
       "    <tr>\n",
       "      <th>2</th>\n",
       "      <td>0.02729</td>\n",
       "      <td>0.0</td>\n",
       "      <td>7.07</td>\n",
       "      <td>0.469</td>\n",
       "      <td>7.185</td>\n",
       "      <td>61.1</td>\n",
       "      <td>4.9671</td>\n",
       "      <td>2.0</td>\n",
       "      <td>242.0</td>\n",
       "      <td>17.8</td>\n",
       "      <td>392.83</td>\n",
       "      <td>4.03</td>\n",
       "      <td>34.7</td>\n",
       "      <td>1</td>\n",
       "      <td>0</td>\n",
       "    </tr>\n",
       "    <tr>\n",
       "      <th>3</th>\n",
       "      <td>0.03237</td>\n",
       "      <td>0.0</td>\n",
       "      <td>2.18</td>\n",
       "      <td>0.458</td>\n",
       "      <td>6.998</td>\n",
       "      <td>45.8</td>\n",
       "      <td>6.0622</td>\n",
       "      <td>3.0</td>\n",
       "      <td>222.0</td>\n",
       "      <td>18.7</td>\n",
       "      <td>394.63</td>\n",
       "      <td>2.94</td>\n",
       "      <td>33.4</td>\n",
       "      <td>1</td>\n",
       "      <td>0</td>\n",
       "    </tr>\n",
       "    <tr>\n",
       "      <th>4</th>\n",
       "      <td>0.06905</td>\n",
       "      <td>0.0</td>\n",
       "      <td>2.18</td>\n",
       "      <td>0.458</td>\n",
       "      <td>7.147</td>\n",
       "      <td>54.2</td>\n",
       "      <td>6.0622</td>\n",
       "      <td>3.0</td>\n",
       "      <td>222.0</td>\n",
       "      <td>18.7</td>\n",
       "      <td>396.90</td>\n",
       "      <td>5.33</td>\n",
       "      <td>36.2</td>\n",
       "      <td>1</td>\n",
       "      <td>0</td>\n",
       "    </tr>\n",
       "  </tbody>\n",
       "</table>\n",
       "</div>"
      ],
      "text/plain": [
       "      CRIM    ZN  INDUS    NOX     RM   AGE     DIS  RAD    TAX  PTRATIO  \\\n",
       "0  0.00632  18.0   2.31  0.538  6.575  65.2  4.0900  1.0  296.0     15.3   \n",
       "1  0.02731   0.0   7.07  0.469  6.421  78.9  4.9671  2.0  242.0     17.8   \n",
       "2  0.02729   0.0   7.07  0.469  7.185  61.1  4.9671  2.0  242.0     17.8   \n",
       "3  0.03237   0.0   2.18  0.458  6.998  45.8  6.0622  3.0  222.0     18.7   \n",
       "4  0.06905   0.0   2.18  0.458  7.147  54.2  6.0622  3.0  222.0     18.7   \n",
       "\n",
       "        B  LSTAT  MEDV  CHAS_0  CHAS_1  \n",
       "0  396.90   4.98  24.0       1       0  \n",
       "1  396.90   9.14  21.6       1       0  \n",
       "2  392.83   4.03  34.7       1       0  \n",
       "3  394.63   2.94  33.4       1       0  \n",
       "4  396.90   5.33  36.2       1       0  "
      ]
     },
     "execution_count": 10,
     "metadata": {},
     "output_type": "execute_result"
    }
   ],
   "source": [
    "# 원본 dataframe에 onehot encoding된 chas_df dataframe 합치기\n",
    "df2 = df.join(chas_df)\n",
    "df2.drop(columns='CHAS', inplace=True) # 기존 'CHAS' 열 삭제\n",
    "df2.head()"
   ]
  },
  {
   "cell_type": "code",
   "execution_count": null,
   "metadata": {},
   "outputs": [],
   "source": [
    "# 한 번에 처리 하는법 (onehot encoding)\n",
    "# pd.get_dummies(df, columns=['CHAS'])"
   ]
  },
  {
   "cell_type": "markdown",
   "metadata": {
    "slideshow": {
     "slide_type": "slide"
    }
   },
   "source": [
    "##### X, y 분리, train/test set 나누기"
   ]
  },
  {
   "cell_type": "code",
   "execution_count": 11,
   "metadata": {
    "ExecuteTime": {
     "end_time": "2021-11-22T01:43:21.197765Z",
     "start_time": "2021-11-22T01:43:21.188817Z"
    },
    "slideshow": {
     "slide_type": "fragment"
    }
   },
   "outputs": [
    {
     "data": {
      "text/plain": [
       "((506, 14), (506,))"
      ]
     },
     "execution_count": 11,
     "metadata": {},
     "output_type": "execute_result"
    }
   ],
   "source": [
    "y = df2['MEDV']\n",
    "X = df2.drop(columns='MEDV')\n",
    "X.shape, y.shape"
   ]
  },
  {
   "cell_type": "code",
   "execution_count": 12,
   "metadata": {
    "ExecuteTime": {
     "end_time": "2021-11-22T01:47:01.901123Z",
     "start_time": "2021-11-22T01:47:01.796784Z"
    },
    "slideshow": {
     "slide_type": "fragment"
    }
   },
   "outputs": [
    {
     "data": {
      "text/plain": [
       "((379, 14), (127, 14))"
      ]
     },
     "execution_count": 12,
     "metadata": {},
     "output_type": "execute_result"
    }
   ],
   "source": [
    "from sklearn.model_selection import train_test_split\n",
    "\n",
    "# 회귀모델에서는 y값이 다 다르기 때문에 stratify 설정 하지 않는다 (분류에서만!!!)\n",
    "X_train, X_test, y_train, y_test = train_test_split(X, y, random_state=0)\n",
    "X_train.shape, X_test.shape"
   ]
  },
  {
   "cell_type": "markdown",
   "metadata": {
    "slideshow": {
     "slide_type": "slide"
    }
   },
   "source": [
    "##### Feature scaling"
   ]
  },
  {
   "cell_type": "code",
   "execution_count": 13,
   "metadata": {
    "ExecuteTime": {
     "end_time": "2021-11-22T02:12:17.872924Z",
     "start_time": "2021-11-22T02:12:17.859987Z"
    },
    "slideshow": {
     "slide_type": "fragment"
    }
   },
   "outputs": [],
   "source": [
    "from sklearn.preprocessing import StandardScaler, MinMaxScaler\n",
    "\n",
    "scaler = StandardScaler()\n",
    "X_train_scaled = scaler.fit_transform(X_train)\n",
    "X_test_scaled = scaler.transform(X_test)"
   ]
  },
  {
   "cell_type": "code",
   "execution_count": 14,
   "metadata": {
    "ExecuteTime": {
     "end_time": "2021-11-22T02:12:19.308265Z",
     "start_time": "2021-11-22T02:12:19.299291Z"
    },
    "slideshow": {
     "slide_type": "fragment"
    }
   },
   "outputs": [
    {
     "data": {
      "text/plain": [
       "Index(['CRIM', 'ZN', 'INDUS', 'NOX', 'RM', 'AGE', 'DIS', 'RAD', 'TAX',\n",
       "       'PTRATIO', 'B', 'LSTAT', 'CHAS_0', 'CHAS_1'],\n",
       "      dtype='object')"
      ]
     },
     "execution_count": 14,
     "metadata": {},
     "output_type": "execute_result"
    }
   ],
   "source": [
    "X_train.columns"
   ]
  },
  {
   "cell_type": "markdown",
   "metadata": {
    "slideshow": {
     "slide_type": "slide"
    }
   },
   "source": [
    "##### 평가지표 함수"
   ]
  },
  {
   "cell_type": "code",
   "execution_count": 15,
   "metadata": {
    "ExecuteTime": {
     "end_time": "2021-11-22T02:12:50.002746Z",
     "start_time": "2021-11-22T02:12:49.987780Z"
    },
    "slideshow": {
     "slide_type": "fragment"
    }
   },
   "outputs": [],
   "source": [
    "from sklearn.metrics import mean_squared_error, r2_score\n",
    "\n",
    "def print_regression_metrics(y, pred, title=None):\n",
    "    mse = mean_squared_error(y, pred)\n",
    "    rmse = np.sqrt(mse)\n",
    "    r2 = r2_score(y, pred)\n",
    "    if title:\n",
    "        print(title)\n",
    "    print(f\"MSE: {mse}, RMSE: {rmse}, R2: {r2}\")\n",
    "    print(\"-\"*100)"
   ]
  },
  {
   "cell_type": "markdown",
   "metadata": {
    "slideshow": {
     "slide_type": "fragment"
    }
   },
   "source": [
    "##### 모델 생성, 학습, 추론, 평가"
   ]
  },
  {
   "cell_type": "code",
   "execution_count": 16,
   "metadata": {
    "ExecuteTime": {
     "end_time": "2021-11-22T02:14:05.163043Z",
     "start_time": "2021-11-22T02:14:04.908316Z"
    },
    "slideshow": {
     "slide_type": "fragment"
    }
   },
   "outputs": [
    {
     "data": {
      "text/plain": [
       "LinearRegression()"
      ]
     },
     "execution_count": 16,
     "metadata": {},
     "output_type": "execute_result"
    }
   ],
   "source": [
    "from sklearn.linear_model import LinearRegression\n",
    "\n",
    "lr = LinearRegression()\n",
    "lr.fit(X_train_scaled, y_train)"
   ]
  },
  {
   "cell_type": "markdown",
   "metadata": {},
   "source": [
    "- coef_ : 학습을 통해 찾은 feature 별 weight를 확인\n",
    "- intercept_ : 학습을 통해 찾은 bias를 확인"
   ]
  },
  {
   "cell_type": "code",
   "execution_count": 17,
   "metadata": {
    "ExecuteTime": {
     "end_time": "2021-11-22T02:15:39.749876Z",
     "start_time": "2021-11-22T02:15:39.730928Z"
    },
    "slideshow": {
     "slide_type": "fragment"
    }
   },
   "outputs": [
    {
     "data": {
      "text/plain": [
       "22.608707124010557"
      ]
     },
     "execution_count": 17,
     "metadata": {},
     "output_type": "execute_result"
    }
   ],
   "source": [
    "lr.intercept_"
   ]
  },
  {
   "cell_type": "code",
   "execution_count": 18,
   "metadata": {
    "ExecuteTime": {
     "end_time": "2021-11-22T02:15:45.620774Z",
     "start_time": "2021-11-22T02:15:45.602792Z"
    },
    "slideshow": {
     "slide_type": "fragment"
    }
   },
   "outputs": [
    {
     "data": {
      "text/plain": [
       "array([-0.97100092,  1.04667838, -0.04044753, -1.80876877,  2.60991991,\n",
       "       -0.19823317, -3.00216551,  2.08021582, -1.93289037, -2.15743759,\n",
       "        0.75199122, -3.59027047, -0.29704388,  0.29704388])"
      ]
     },
     "execution_count": 18,
     "metadata": {},
     "output_type": "execute_result"
    }
   ],
   "source": [
    "lr.coef_"
   ]
  },
  {
   "cell_type": "code",
   "execution_count": 19,
   "metadata": {
    "ExecuteTime": {
     "end_time": "2021-11-22T02:19:17.434932Z",
     "start_time": "2021-11-22T02:19:17.426949Z"
    },
    "slideshow": {
     "slide_type": "fragment"
    }
   },
   "outputs": [
    {
     "data": {
      "text/plain": [
       "CRIM      -0.971001\n",
       "ZN         1.046678\n",
       "INDUS     -0.040448\n",
       "NOX       -1.808769\n",
       "RM         2.609920\n",
       "AGE       -0.198233\n",
       "DIS       -3.002166\n",
       "RAD        2.080216\n",
       "TAX       -1.932890\n",
       "PTRATIO   -2.157438\n",
       "B          0.751991\n",
       "LSTAT     -3.590270\n",
       "CHAS_0    -0.297044\n",
       "CHAS_1     0.297044\n",
       "dtype: float64"
      ]
     },
     "execution_count": 19,
     "metadata": {},
     "output_type": "execute_result"
    }
   ],
   "source": [
    "# 양수 : 집값을 높이는 feature\n",
    "# 음수 : 집값을 낮추는 feature\n",
    "# 0에 가까울수록 집값에 영향을 적게 주는 feature\n",
    "pd.Series(lr.coef_, index=X_train.columns)"
   ]
  },
  {
   "cell_type": "markdown",
   "metadata": {
    "slideshow": {
     "slide_type": "fragment"
    }
   },
   "source": [
    "##### 평가"
   ]
  },
  {
   "cell_type": "code",
   "execution_count": 20,
   "metadata": {
    "ExecuteTime": {
     "end_time": "2021-11-22T02:23:30.159176Z",
     "start_time": "2021-11-22T02:23:30.147180Z"
    },
    "slideshow": {
     "slide_type": "fragment"
    }
   },
   "outputs": [
    {
     "name": "stdout",
     "output_type": "stream",
     "text": [
      "LinearRegressor: Train\n",
      "MSE: 19.640519427908046, RMSE: 4.4317625644779355, R2: 0.7697699488741149\n",
      "----------------------------------------------------------------------------------------------------\n",
      "LinearRegressor: Trest\n",
      "MSE: 29.782245092302407, RMSE: 5.457311159564059, R2: 0.6354638433202124\n",
      "----------------------------------------------------------------------------------------------------\n"
     ]
    }
   ],
   "source": [
    "pred_train = lr.predict(X_train_scaled)\n",
    "pred_test = lr.predict(X_test_scaled)\n",
    "\n",
    "print_regression_metrics(y_train, pred_train, title='LinearRegressor: Train')\n",
    "print_regression_metrics(y_test, pred_test, title=\"LinearRegressor: Trest\")"
   ]
  },
  {
   "cell_type": "code",
   "execution_count": 21,
   "metadata": {
    "ExecuteTime": {
     "end_time": "2021-11-22T02:26:13.829699Z",
     "start_time": "2021-11-22T02:26:12.930002Z"
    },
    "scrolled": true,
    "slideshow": {
     "slide_type": "fragment"
    }
   },
   "outputs": [
    {
     "data": {
      "image/png": "[encoded data removed]",
      "text/plain": [
       "<Figure size 1080x504 with 1 Axes>"
      ]
     },
     "metadata": {
      "needs_background": "light"
     },
     "output_type": "display_data"
    }
   ],
   "source": [
    "import matplotlib.pyplot as plt\n",
    "plt.figure(figsize=(15, 7))\n",
    "# y_test : 실제값 / pred_test : 예측값\n",
    "plt.plot(range(len(y_test)), y_test, label='MEDV', marker='x')\n",
    "plt.plot(range(len(y_test)), pred_test, label='Pred', marker='o')\n",
    "plt.legend()\n",
    "plt.show()"
   ]
  },
  {
   "cell_type": "markdown",
   "metadata": {
    "slideshow": {
     "slide_type": "slide"
    }
   },
   "source": [
    "# 다항회귀 (Polynomial Regression)\n",
    "- 단순한 직선형 보다 복잡한 비선형의 데이터셋을 학습하기 위한 방식.\n",
    "- 각 Feature들을 거듭제곱한 것과 Feature들 끼리 곱한 새로운 특성들을 추가한 뒤 선형모델로 훈련시킨다.\n",
    "    - 파라미터 가중치를 기준으로는 일차식이 되어 선형모델이다. 파라미터(Coef, weight)들을 기준으로는 N차식이 되어 비선형 데이터를 추론할 수 있는 모델이 된다.\n",
    "- `PolynomialFeatures` Transformer를 사용해서 변환한다.\n",
    "- LinearRegression에 대해 underfitting시에 이용"
   ]
  },
  {
   "cell_type": "markdown",
   "metadata": {
    "slideshow": {
     "slide_type": "slide"
    }
   },
   "source": [
    "## 예제"
   ]
  },
  {
   "cell_type": "markdown",
   "metadata": {
    "slideshow": {
     "slide_type": "fragment"
    }
   },
   "source": [
    "##### 데이터셋 만들기"
   ]
  },
  {
   "cell_type": "code",
   "execution_count": 22,
   "metadata": {
    "ExecuteTime": {
     "end_time": "2021-11-22T02:49:42.742661Z",
     "start_time": "2021-11-22T02:49:42.725705Z"
    },
    "slideshow": {
     "slide_type": "fragment"
    }
   },
   "outputs": [
    {
     "name": "stdout",
     "output_type": "stream",
     "text": [
      "(100, 1) (100,)\n"
     ]
    }
   ],
   "source": [
    "import numpy as np\n",
    "import pandas as pd\n",
    "import matplotlib.pyplot as plt\n",
    "\n",
    "np.random.seed(0)\n",
    "\n",
    "m = 100\n",
    "X = 6 * np.random.rand(m, 1) - 3 # np.random.rand(0 axis 개수, 1 axis 개수) : 0~1 랜덤수\n",
    "y = X**2 + X + 2 + np.random.normal(0, 1, size=(m, 1)) # np.random.normal(mean, std) 정규분포 랜덤수\n",
    "y = y.flatten() # n차원 배열을 1차원 배열로 변환\n",
    "print(X.shape, y.shape)"
   ]
  },
  {
   "cell_type": "code",
   "execution_count": 23,
   "metadata": {
    "ExecuteTime": {
     "end_time": "2021-11-22T02:50:31.537384Z",
     "start_time": "2021-11-22T02:50:31.521397Z"
    },
    "slideshow": {
     "slide_type": "fragment"
    }
   },
   "outputs": [
    {
     "data": {
      "text/html": [
       "<div>\n",
       "<style scoped>\n",
       "    .dataframe tbody tr th:only-of-type {\n",
       "        vertical-align: middle;\n",
       "    }\n",
       "\n",
       "    .dataframe tbody tr th {\n",
       "        vertical-align: top;\n",
       "    }\n",
       "\n",
       "    .dataframe thead th {\n",
       "        text-align: right;\n",
       "    }\n",
       "</style>\n",
       "<table border=\"1\" class=\"dataframe\">\n",
       "  <thead>\n",
       "    <tr style=\"text-align: right;\">\n",
       "      <th></th>\n",
       "      <th>X</th>\n",
       "      <th>Y</th>\n",
       "    </tr>\n",
       "  </thead>\n",
       "  <tbody>\n",
       "    <tr>\n",
       "      <th>0</th>\n",
       "      <td>0.292881</td>\n",
       "      <td>1.213510</td>\n",
       "    </tr>\n",
       "    <tr>\n",
       "      <th>1</th>\n",
       "      <td>1.291136</td>\n",
       "      <td>5.858995</td>\n",
       "    </tr>\n",
       "    <tr>\n",
       "      <th>2</th>\n",
       "      <td>0.616580</td>\n",
       "      <td>3.462414</td>\n",
       "    </tr>\n",
       "    <tr>\n",
       "      <th>3</th>\n",
       "      <td>0.269299</td>\n",
       "      <td>0.805577</td>\n",
       "    </tr>\n",
       "    <tr>\n",
       "      <th>4</th>\n",
       "      <td>-0.458071</td>\n",
       "      <td>3.240010</td>\n",
       "    </tr>\n",
       "  </tbody>\n",
       "</table>\n",
       "</div>"
      ],
      "text/plain": [
       "          X         Y\n",
       "0  0.292881  1.213510\n",
       "1  1.291136  5.858995\n",
       "2  0.616580  3.462414\n",
       "3  0.269299  0.805577\n",
       "4 -0.458071  3.240010"
      ]
     },
     "execution_count": 23,
     "metadata": {},
     "output_type": "execute_result"
    }
   ],
   "source": [
    "df = pd.DataFrame({\"X\":X.flatten(), \"Y\":y})\n",
    "df.head()"
   ]
  },
  {
   "cell_type": "code",
   "execution_count": 24,
   "metadata": {
    "ExecuteTime": {
     "end_time": "2021-11-22T02:51:21.409631Z",
     "start_time": "2021-11-22T02:51:21.313554Z"
    },
    "slideshow": {
     "slide_type": "fragment"
    }
   },
   "outputs": [
    {
     "data": {
      "image/png": "[encoded data removed]",
      "text/plain": [
       "<Figure size 504x432 with 1 Axes>"
      ]
     },
     "metadata": {
      "needs_background": "light"
     },
     "output_type": "display_data"
    }
   ],
   "source": [
    "plt.figure(figsize=(7, 6))\n",
    "plt.scatter(X, y, alpha=0.7)\n",
    "plt.show()"
   ]
  },
  {
   "cell_type": "markdown",
   "metadata": {
    "slideshow": {
     "slide_type": "slide"
    }
   },
   "source": [
    "##### 모델생성, 학습"
   ]
  },
  {
   "cell_type": "code",
   "execution_count": 25,
   "metadata": {
    "ExecuteTime": {
     "end_time": "2021-11-22T03:13:06.783451Z",
     "start_time": "2021-11-22T03:13:06.768511Z"
    },
    "slideshow": {
     "slide_type": "fragment"
    }
   },
   "outputs": [],
   "source": [
    "from sklearn.linear_model import LinearRegression\n",
    "from sklearn.metrics import mean_squared_error, r2_score"
   ]
  },
  {
   "cell_type": "code",
   "execution_count": 26,
   "metadata": {
    "ExecuteTime": {
     "end_time": "2021-11-22T03:13:09.359933Z",
     "start_time": "2021-11-22T03:13:09.343979Z"
    },
    "slideshow": {
     "slide_type": "fragment"
    }
   },
   "outputs": [
    {
     "name": "stdout",
     "output_type": "stream",
     "text": [
      "[0.78189543] 5.175619278567209\n"
     ]
    }
   ],
   "source": [
    "lr = LinearRegression()\n",
    "lr.fit(X, y)\n",
    "print(lr.coef_, lr.intercept_)\n",
    "\n",
    "# 0.78*X + 5.17 = y_hat\n",
    "# X**2 + X + rand = y_target"
   ]
  },
  {
   "cell_type": "code",
   "execution_count": 27,
   "metadata": {
    "ExecuteTime": {
     "end_time": "2021-11-22T03:14:27.901330Z",
     "start_time": "2021-11-22T03:14:27.886343Z"
    },
    "slideshow": {
     "slide_type": "fragment"
    }
   },
   "outputs": [
    {
     "name": "stdout",
     "output_type": "stream",
     "text": [
      "MSE: 7.729204760808937, RMSE: 2.7801447373848966, R2: 0.19138252437306003\n",
      "----------------------------------------------------------------------------------------------------\n"
     ]
    }
   ],
   "source": [
    "pred = lr.predict(X)\n",
    "print_regression_metrics(y, pred)"
   ]
  },
  {
   "cell_type": "code",
   "execution_count": 28,
   "metadata": {
    "ExecuteTime": {
     "end_time": "2021-11-22T03:23:41.526292Z",
     "start_time": "2021-11-22T03:23:41.423516Z"
    },
    "slideshow": {
     "slide_type": "fragment"
    }
   },
   "outputs": [
    {
     "data": {
      "image/png": "[encoded data removed]",
      "text/plain": [
       "<Figure size 504x432 with 1 Axes>"
      ]
     },
     "metadata": {
      "needs_background": "light"
     },
     "output_type": "display_data"
    }
   ],
   "source": [
    "X_new = np.linspace(-3,3,100).reshape(-1, 1)\n",
    "pred_new = lr.predict(X_new)\n",
    "\n",
    "plt.figure(figsize=(7,6))\n",
    "\n",
    "plt.scatter(X, y, alpha=0.7)\n",
    "plt.plot(X_new, pred_new, color='red')\n",
    "\n",
    "plt.grid(True)\n",
    "plt.show()"
   ]
  },
  {
   "cell_type": "markdown",
   "metadata": {
    "slideshow": {
     "slide_type": "slide"
    }
   },
   "source": [
    "##### PolynomialFeatures를 이용해 다항회귀구현"
   ]
  },
  {
   "cell_type": "code",
   "execution_count": 29,
   "metadata": {
    "ExecuteTime": {
     "end_time": "2021-11-22T03:23:45.327074Z",
     "start_time": "2021-11-22T03:23:45.311088Z"
    },
    "slideshow": {
     "slide_type": "fragment"
    }
   },
   "outputs": [],
   "source": [
    "from sklearn.preprocessing import PolynomialFeatures"
   ]
  },
  {
   "cell_type": "code",
   "execution_count": 38,
   "metadata": {
    "ExecuteTime": {
     "end_time": "2021-11-22T03:28:25.873291Z",
     "start_time": "2021-11-22T03:28:25.855309Z"
    },
    "slideshow": {
     "slide_type": "fragment"
    }
   },
   "outputs": [],
   "source": [
    "poly_f = PolynomialFeatures(degree=2,\n",
    "                            include_bias=True) # default: True (상수항(1) 추가 여부)\n",
    "X_poly = poly_f.fit_transform(X)"
   ]
  },
  {
   "cell_type": "code",
   "execution_count": 39,
   "metadata": {
    "ExecuteTime": {
     "end_time": "2021-11-22T03:28:26.904689Z",
     "start_time": "2021-11-22T03:28:26.894689Z"
    },
    "slideshow": {
     "slide_type": "fragment"
    }
   },
   "outputs": [
    {
     "data": {
      "text/plain": [
       "((100, 1), (100, 3))"
      ]
     },
     "execution_count": 39,
     "metadata": {},
     "output_type": "execute_result"
    }
   ],
   "source": [
    "X.shape, X_poly.shape"
   ]
  },
  {
   "cell_type": "code",
   "execution_count": 40,
   "metadata": {
    "ExecuteTime": {
     "end_time": "2021-11-22T03:28:28.164442Z",
     "start_time": "2021-11-22T03:28:28.158431Z"
    },
    "slideshow": {
     "slide_type": "fragment"
    }
   },
   "outputs": [
    {
     "data": {
      "text/plain": [
       "array([[ 0.29288102],\n",
       "       [ 1.2911362 ],\n",
       "       [ 0.61658026],\n",
       "       [ 0.2692991 ],\n",
       "       [-0.4580712 ]])"
      ]
     },
     "execution_count": 40,
     "metadata": {},
     "output_type": "execute_result"
    }
   ],
   "source": [
    "X[:5]"
   ]
  },
  {
   "cell_type": "code",
   "execution_count": 41,
   "metadata": {
    "ExecuteTime": {
     "end_time": "2021-11-22T03:28:30.692402Z",
     "start_time": "2021-11-22T03:28:30.686414Z"
    },
    "slideshow": {
     "slide_type": "fragment"
    }
   },
   "outputs": [
    {
     "data": {
      "text/plain": [
       "array([[ 1.        ,  0.29288102,  0.08577929],\n",
       "       [ 1.        ,  1.2911362 ,  1.66703268],\n",
       "       [ 1.        ,  0.61658026,  0.38017121],\n",
       "       [ 1.        ,  0.2692991 ,  0.072522  ],\n",
       "       [ 1.        , -0.4580712 ,  0.20982923]])"
      ]
     },
     "execution_count": 41,
     "metadata": {},
     "output_type": "execute_result"
    }
   ],
   "source": [
    "X_poly[:5]"
   ]
  },
  {
   "cell_type": "code",
   "execution_count": 42,
   "metadata": {
    "ExecuteTime": {
     "end_time": "2021-11-22T03:28:34.921956Z",
     "start_time": "2021-11-22T03:28:34.911006Z"
    },
    "slideshow": {
     "slide_type": "fragment"
    }
   },
   "outputs": [
    {
     "data": {
      "text/plain": [
       "array(['1', 'x0', 'x0^2'], dtype=object)"
      ]
     },
     "execution_count": 42,
     "metadata": {},
     "output_type": "execute_result"
    }
   ],
   "source": [
    "poly_f.get_feature_names_out() # 각 feature가 이름(어떤 연산을 해서 만들었는지)을 출력"
   ]
  },
  {
   "cell_type": "markdown",
   "metadata": {
    "slideshow": {
     "slide_type": "slide"
    }
   },
   "source": [
    "##### LinearRegression 모델을 이용해 평가"
   ]
  },
  {
   "cell_type": "code",
   "execution_count": 43,
   "metadata": {
    "ExecuteTime": {
     "end_time": "2021-11-22T03:28:37.212830Z",
     "start_time": "2021-11-22T03:28:37.197791Z"
    },
    "slideshow": {
     "slide_type": "fragment"
    }
   },
   "outputs": [
    {
     "data": {
      "text/plain": [
       "LinearRegression()"
      ]
     },
     "execution_count": 43,
     "metadata": {},
     "output_type": "execute_result"
    }
   ],
   "source": [
    "lr2 = LinearRegression()\n",
    "lr2.fit(X_poly, y)"
   ]
  },
  {
   "cell_type": "code",
   "execution_count": 44,
   "metadata": {
    "ExecuteTime": {
     "end_time": "2021-11-22T03:28:40.040452Z",
     "start_time": "2021-11-22T03:28:40.030478Z"
    },
    "slideshow": {
     "slide_type": "fragment"
    }
   },
   "outputs": [
    {
     "name": "stdout",
     "output_type": "stream",
     "text": [
      "[0.         0.97906552 0.94978823] 2.3405007562628866\n"
     ]
    }
   ],
   "source": [
    "print(lr2.coef_, lr2.intercept_)"
   ]
  },
  {
   "cell_type": "code",
   "execution_count": 45,
   "metadata": {
    "ExecuteTime": {
     "end_time": "2021-11-22T03:28:45.160940Z",
     "start_time": "2021-11-22T03:28:45.148985Z"
    },
    "slideshow": {
     "slide_type": "fragment"
    }
   },
   "outputs": [
    {
     "name": "stdout",
     "output_type": "stream",
     "text": [
      "다항회귀\n",
      "MSE: 0.9735576723414218, RMSE: 0.9866902616026074, R2: 0.898147898555146\n",
      "----------------------------------------------------------------------------------------------------\n",
      "변환없이\n",
      "MSE: 7.729204760808937, RMSE: 2.7801447373848966, R2: 0.19138252437306003\n",
      "----------------------------------------------------------------------------------------------------\n"
     ]
    }
   ],
   "source": [
    "pred2 = lr2.predict(X_poly)\n",
    "print_regression_metrics(y, pred2, title=\"다항회귀\")\n",
    "print_regression_metrics(y, pred, title=\"변환없이\")"
   ]
  },
  {
   "cell_type": "markdown",
   "metadata": {
    "slideshow": {
     "slide_type": "slide"
    }
   },
   "source": [
    "##### 시각화"
   ]
  },
  {
   "cell_type": "code",
   "execution_count": 46,
   "metadata": {
    "ExecuteTime": {
     "end_time": "2021-11-22T03:30:20.485956Z",
     "start_time": "2021-11-22T03:30:20.478942Z"
    },
    "slideshow": {
     "slide_type": "fragment"
    }
   },
   "outputs": [],
   "source": [
    "X_new = np.linspace(-3, 3, 100).reshape(-1, 1)\n",
    "X_new_poly = poly_f.transform(X_new)\n",
    "pred_new2 = lr2.predict(X_new_poly)"
   ]
  },
  {
   "cell_type": "code",
   "execution_count": 47,
   "metadata": {
    "ExecuteTime": {
     "end_time": "2021-11-22T03:30:22.460310Z",
     "start_time": "2021-11-22T03:30:22.348967Z"
    },
    "slideshow": {
     "slide_type": "fragment"
    }
   },
   "outputs": [
    {
     "data": {
      "image/png": "[encoded data removed]",
      "text/plain": [
       "<Figure size 504x432 with 1 Axes>"
      ]
     },
     "metadata": {
      "needs_background": "light"
     },
     "output_type": "display_data"
    }
   ],
   "source": [
    "plt.figure(figsize=(7, 6))\n",
    "\n",
    "plt.scatter(X, y)\n",
    "plt.plot(X_new, pred_new2, color='red')\n",
    "plt.grid(True)\n",
    "plt.show()"
   ]
  },
  {
   "cell_type": "markdown",
   "metadata": {
    "slideshow": {
     "slide_type": "slide"
    }
   },
   "source": [
    "## degree를 크게\n",
    "- Overfitting 문제가 생긴다."
   ]
  },
  {
   "cell_type": "code",
   "execution_count": 48,
   "metadata": {
    "ExecuteTime": {
     "end_time": "2021-11-22T03:42:32.733221Z",
     "start_time": "2021-11-22T03:42:32.718292Z"
    },
    "slideshow": {
     "slide_type": "fragment"
    }
   },
   "outputs": [
    {
     "data": {
      "text/plain": [
       "((100, 25), (100, 1))"
      ]
     },
     "execution_count": 48,
     "metadata": {},
     "output_type": "execute_result"
    }
   ],
   "source": [
    "pnf = PolynomialFeatures(degree=25, include_bias=False)\n",
    "X_train_poly_100 = pnf.fit_transform(X)\n",
    "X_train_poly_100.shape, X.shape"
   ]
  },
  {
   "cell_type": "code",
   "execution_count": 49,
   "metadata": {
    "ExecuteTime": {
     "end_time": "2021-11-22T03:42:33.677678Z",
     "start_time": "2021-11-22T03:42:33.660755Z"
    },
    "slideshow": {
     "slide_type": "fragment"
    }
   },
   "outputs": [
    {
     "data": {
      "text/plain": [
       "LinearRegression()"
      ]
     },
     "execution_count": 49,
     "metadata": {},
     "output_type": "execute_result"
    }
   ],
   "source": [
    "lr = LinearRegression()\n",
    "lr.fit(X_train_poly_100, y)"
   ]
  },
  {
   "cell_type": "code",
   "execution_count": 50,
   "metadata": {
    "ExecuteTime": {
     "end_time": "2021-11-22T03:42:36.476346Z",
     "start_time": "2021-11-22T03:42:36.461361Z"
    },
    "slideshow": {
     "slide_type": "fragment"
    }
   },
   "outputs": [
    {
     "data": {
      "text/plain": [
       "(25,)"
      ]
     },
     "execution_count": 50,
     "metadata": {},
     "output_type": "execute_result"
    }
   ],
   "source": [
    "lr.coef_.shape"
   ]
  },
  {
   "cell_type": "code",
   "execution_count": 51,
   "metadata": {
    "ExecuteTime": {
     "end_time": "2021-11-22T03:42:37.970552Z",
     "start_time": "2021-11-22T03:42:37.965566Z"
    },
    "slideshow": {
     "slide_type": "fragment"
    }
   },
   "outputs": [],
   "source": [
    "X_new = np.linspace(-3,3,100).reshape(-1, 1)\n",
    "X_new_poly_100 = pnf.transform(X_new)\n",
    "pred_new_100 = lr.predict(X_new_poly_100)"
   ]
  },
  {
   "cell_type": "code",
   "execution_count": 52,
   "metadata": {
    "ExecuteTime": {
     "end_time": "2021-11-22T03:42:44.683283Z",
     "start_time": "2021-11-22T03:42:44.590279Z"
    },
    "slideshow": {
     "slide_type": "fragment"
    }
   },
   "outputs": [
    {
     "data": {
      "image/png": "[encoded data removed]",
      "text/plain": [
       "<Figure size 504x432 with 1 Axes>"
      ]
     },
     "metadata": {
      "needs_background": "light"
     },
     "output_type": "display_data"
    }
   ],
   "source": [
    "plt.figure(figsize=(7,6))\n",
    "plt.scatter(X, y)\n",
    "plt.plot(X_new, pred_new_100, color='r', alpha=0.5)\n",
    "plt.show()"
   ]
  },
  {
   "cell_type": "markdown",
   "metadata": {
    "slideshow": {
     "slide_type": "slide"
    }
   },
   "source": [
    "### PolynomialFeatures 예제"
   ]
  },
  {
   "cell_type": "code",
   "execution_count": 53,
   "metadata": {
    "ExecuteTime": {
     "end_time": "2021-11-22T05:17:41.588438Z",
     "start_time": "2021-11-22T05:17:41.584450Z"
    },
    "slideshow": {
     "slide_type": "fragment"
    }
   },
   "outputs": [
    {
     "name": "stdout",
     "output_type": "stream",
     "text": [
      "(4, 3)\n"
     ]
    },
    {
     "data": {
      "text/plain": [
       "array([[ 0,  1,  2],\n",
       "       [ 3,  4,  5],\n",
       "       [ 6,  7,  8],\n",
       "       [ 9, 10, 11]])"
      ]
     },
     "execution_count": 53,
     "metadata": {},
     "output_type": "execute_result"
    }
   ],
   "source": [
    "data = np.arange(12).reshape(4, 3) # Feature: 3\n",
    "print(data.shape)\n",
    "data"
   ]
  },
  {
   "cell_type": "code",
   "execution_count": 54,
   "metadata": {
    "ExecuteTime": {
     "end_time": "2021-11-22T05:18:44.675225Z",
     "start_time": "2021-11-22T05:18:44.656305Z"
    },
    "slideshow": {
     "slide_type": "fragment"
    }
   },
   "outputs": [
    {
     "data": {
      "text/plain": [
       "(4, 10)"
      ]
     },
     "execution_count": 54,
     "metadata": {},
     "output_type": "execute_result"
    }
   ],
   "source": [
    "pnf2 = PolynomialFeatures(degree=2) # include_bias=False)\n",
    "data_poly = pnf2.fit_transform(data)\n",
    "data_poly.shape"
   ]
  },
  {
   "cell_type": "code",
   "execution_count": 56,
   "metadata": {
    "ExecuteTime": {
     "end_time": "2021-11-22T05:19:36.274379Z",
     "start_time": "2021-11-22T05:19:36.256428Z"
    },
    "slideshow": {
     "slide_type": "fragment"
    }
   },
   "outputs": [
    {
     "data": {
      "text/plain": [
       "array(['1', 'x0', 'x1', 'x2', 'x0^2', 'x0 x1', 'x0 x2', 'x1^2', 'x1 x2',\n",
       "       'x2^2'], dtype=object)"
      ]
     },
     "execution_count": 56,
     "metadata": {},
     "output_type": "execute_result"
    }
   ],
   "source": [
    "pnf2.get_feature_names_out() # '1': 상수항 (bias)"
   ]
  },
  {
   "cell_type": "code",
   "execution_count": 57,
   "metadata": {
    "ExecuteTime": {
     "end_time": "2021-11-22T05:19:38.778924Z",
     "start_time": "2021-11-22T05:19:38.765931Z"
    },
    "slideshow": {
     "slide_type": "fragment"
    }
   },
   "outputs": [
    {
     "data": {
      "text/html": [
       "<div>\n",
       "<style scoped>\n",
       "    .dataframe tbody tr th:only-of-type {\n",
       "        vertical-align: middle;\n",
       "    }\n",
       "\n",
       "    .dataframe tbody tr th {\n",
       "        vertical-align: top;\n",
       "    }\n",
       "\n",
       "    .dataframe thead th {\n",
       "        text-align: right;\n",
       "    }\n",
       "</style>\n",
       "<table border=\"1\" class=\"dataframe\">\n",
       "  <thead>\n",
       "    <tr style=\"text-align: right;\">\n",
       "      <th></th>\n",
       "      <th>1</th>\n",
       "      <th>x0</th>\n",
       "      <th>x1</th>\n",
       "      <th>x2</th>\n",
       "      <th>x0^2</th>\n",
       "      <th>x0 x1</th>\n",
       "      <th>x0 x2</th>\n",
       "      <th>x1^2</th>\n",
       "      <th>x1 x2</th>\n",
       "      <th>x2^2</th>\n",
       "    </tr>\n",
       "  </thead>\n",
       "  <tbody>\n",
       "    <tr>\n",
       "      <th>0</th>\n",
       "      <td>1.0</td>\n",
       "      <td>0.0</td>\n",
       "      <td>1.0</td>\n",
       "      <td>2.0</td>\n",
       "      <td>0.0</td>\n",
       "      <td>0.0</td>\n",
       "      <td>0.0</td>\n",
       "      <td>1.0</td>\n",
       "      <td>2.0</td>\n",
       "      <td>4.0</td>\n",
       "    </tr>\n",
       "    <tr>\n",
       "      <th>1</th>\n",
       "      <td>1.0</td>\n",
       "      <td>3.0</td>\n",
       "      <td>4.0</td>\n",
       "      <td>5.0</td>\n",
       "      <td>9.0</td>\n",
       "      <td>12.0</td>\n",
       "      <td>15.0</td>\n",
       "      <td>16.0</td>\n",
       "      <td>20.0</td>\n",
       "      <td>25.0</td>\n",
       "    </tr>\n",
       "    <tr>\n",
       "      <th>2</th>\n",
       "      <td>1.0</td>\n",
       "      <td>6.0</td>\n",
       "      <td>7.0</td>\n",
       "      <td>8.0</td>\n",
       "      <td>36.0</td>\n",
       "      <td>42.0</td>\n",
       "      <td>48.0</td>\n",
       "      <td>49.0</td>\n",
       "      <td>56.0</td>\n",
       "      <td>64.0</td>\n",
       "    </tr>\n",
       "    <tr>\n",
       "      <th>3</th>\n",
       "      <td>1.0</td>\n",
       "      <td>9.0</td>\n",
       "      <td>10.0</td>\n",
       "      <td>11.0</td>\n",
       "      <td>81.0</td>\n",
       "      <td>90.0</td>\n",
       "      <td>99.0</td>\n",
       "      <td>100.0</td>\n",
       "      <td>110.0</td>\n",
       "      <td>121.0</td>\n",
       "    </tr>\n",
       "  </tbody>\n",
       "</table>\n",
       "</div>"
      ],
      "text/plain": [
       "     1   x0    x1    x2  x0^2  x0 x1  x0 x2   x1^2  x1 x2   x2^2\n",
       "0  1.0  0.0   1.0   2.0   0.0    0.0    0.0    1.0    2.0    4.0\n",
       "1  1.0  3.0   4.0   5.0   9.0   12.0   15.0   16.0   20.0   25.0\n",
       "2  1.0  6.0   7.0   8.0  36.0   42.0   48.0   49.0   56.0   64.0\n",
       "3  1.0  9.0  10.0  11.0  81.0   90.0   99.0  100.0  110.0  121.0"
      ]
     },
     "execution_count": 57,
     "metadata": {},
     "output_type": "execute_result"
    }
   ],
   "source": [
    "pd.DataFrame(data_poly, columns=pnf2.get_feature_names_out())"
   ]
  },
  {
   "cell_type": "code",
   "execution_count": 58,
   "metadata": {
    "ExecuteTime": {
     "end_time": "2021-11-22T05:20:38.769242Z",
     "start_time": "2021-11-22T05:20:38.752261Z"
    },
    "slideshow": {
     "slide_type": "fragment"
    }
   },
   "outputs": [
    {
     "data": {
      "text/plain": [
       "(4, 56)"
      ]
     },
     "execution_count": 58,
     "metadata": {},
     "output_type": "execute_result"
    }
   ],
   "source": [
    "pnf3 = PolynomialFeatures(degree=5)\n",
    "data_poly2 = pnf3.fit_transform(data)\n",
    "data_poly2.shape"
   ]
  },
  {
   "cell_type": "code",
   "execution_count": 59,
   "metadata": {
    "ExecuteTime": {
     "end_time": "2021-11-22T05:20:45.254679Z",
     "start_time": "2021-11-22T05:20:45.246705Z"
    },
    "slideshow": {
     "slide_type": "fragment"
    }
   },
   "outputs": [
    {
     "data": {
      "text/plain": [
       "array(['1', 'x0', 'x1', 'x2', 'x0^2', 'x0 x1', 'x0 x2', 'x1^2', 'x1 x2',\n",
       "       'x2^2', 'x0^3', 'x0^2 x1', 'x0^2 x2', 'x0 x1^2', 'x0 x1 x2',\n",
       "       'x0 x2^2', 'x1^3', 'x1^2 x2', 'x1 x2^2', 'x2^3', 'x0^4', 'x0^3 x1',\n",
       "       'x0^3 x2', 'x0^2 x1^2', 'x0^2 x1 x2', 'x0^2 x2^2', 'x0 x1^3',\n",
       "       'x0 x1^2 x2', 'x0 x1 x2^2', 'x0 x2^3', 'x1^4', 'x1^3 x2',\n",
       "       'x1^2 x2^2', 'x1 x2^3', 'x2^4', 'x0^5', 'x0^4 x1', 'x0^4 x2',\n",
       "       'x0^3 x1^2', 'x0^3 x1 x2', 'x0^3 x2^2', 'x0^2 x1^3',\n",
       "       'x0^2 x1^2 x2', 'x0^2 x1 x2^2', 'x0^2 x2^3', 'x0 x1^4',\n",
       "       'x0 x1^3 x2', 'x0 x1^2 x2^2', 'x0 x1 x2^3', 'x0 x2^4', 'x1^5',\n",
       "       'x1^4 x2', 'x1^3 x2^2', 'x1^2 x2^3', 'x1 x2^4', 'x2^5'],\n",
       "      dtype=object)"
      ]
     },
     "execution_count": 59,
     "metadata": {},
     "output_type": "execute_result"
    }
   ],
   "source": [
    "pnf3.get_feature_names_out()"
   ]
  },
  {
   "cell_type": "code",
   "execution_count": 61,
   "metadata": {
    "ExecuteTime": {
     "end_time": "2021-11-22T05:23:04.179156Z",
     "start_time": "2021-11-22T05:23:04.160207Z"
    }
   },
   "outputs": [
    {
     "data": {
      "text/plain": [
       "(4, 7)"
      ]
     },
     "execution_count": 61,
     "metadata": {},
     "output_type": "execute_result"
    }
   ],
   "source": [
    "# interaction_only=True\n",
    "# 교차곱 feature만 만들고 제곱한 feature는 만들지 않음\n",
    "# 차수는 늘리지 않으면서 데이터의 다양성을 위해 feature를 늘릴 때 사용\n",
    "pnf4 = PolynomialFeatures(interaction_only=True)\n",
    "data_poly4 = pnf4.fit_transform(data)\n",
    "data_poly4.shape"
   ]
  },
  {
   "cell_type": "code",
   "execution_count": 63,
   "metadata": {
    "ExecuteTime": {
     "end_time": "2021-11-22T05:23:32.504795Z",
     "start_time": "2021-11-22T05:23:32.495793Z"
    }
   },
   "outputs": [
    {
     "data": {
      "text/plain": [
       "array(['1', 'x0', 'x1', 'x2', 'x0 x1', 'x0 x2', 'x1 x2'], dtype=object)"
      ]
     },
     "execution_count": 63,
     "metadata": {},
     "output_type": "execute_result"
    }
   ],
   "source": [
    "pnf4.get_feature_names_out()"
   ]
  },
  {
   "cell_type": "markdown",
   "metadata": {
    "slideshow": {
     "slide_type": "slide"
    }
   },
   "source": [
    "### 다항회귀를 Boston Dataset에 적용"
   ]
  },
  {
   "cell_type": "code",
   "execution_count": 65,
   "metadata": {
    "ExecuteTime": {
     "end_time": "2021-11-22T05:27:20.385716Z",
     "start_time": "2021-11-22T05:27:20.366792Z"
    },
    "slideshow": {
     "slide_type": "fragment"
    }
   },
   "outputs": [],
   "source": [
    "pnf = PolynomialFeatures(degree=2, include_bias=False)\n",
    "X_train_scaled_poly = pnf.fit_transform(X_train_scaled)\n",
    "X_test_scaled_poly = pnf.transform(X_test_scaled)"
   ]
  },
  {
   "cell_type": "code",
   "execution_count": 66,
   "metadata": {
    "ExecuteTime": {
     "end_time": "2021-11-22T05:27:21.645748Z",
     "start_time": "2021-11-22T05:27:21.630425Z"
    },
    "slideshow": {
     "slide_type": "fragment"
    }
   },
   "outputs": [
    {
     "data": {
      "text/plain": [
       "((379, 14), (379, 119))"
      ]
     },
     "execution_count": 66,
     "metadata": {},
     "output_type": "execute_result"
    }
   ],
   "source": [
    "X_train_scaled.shape, X_train_scaled_poly.shape"
   ]
  },
  {
   "cell_type": "code",
   "execution_count": 67,
   "metadata": {
    "ExecuteTime": {
     "end_time": "2021-11-22T05:27:23.331121Z",
     "start_time": "2021-11-22T05:27:23.326126Z"
    },
    "slideshow": {
     "slide_type": "fragment"
    }
   },
   "outputs": [
    {
     "data": {
      "text/plain": [
       "array(['x0', 'x1', 'x2', 'x3', 'x4', 'x5', 'x6', 'x7', 'x8', 'x9', 'x10',\n",
       "       'x11', 'x12', 'x13', 'x0^2', 'x0 x1', 'x0 x2', 'x0 x3', 'x0 x4',\n",
       "       'x0 x5', 'x0 x6', 'x0 x7', 'x0 x8', 'x0 x9', 'x0 x10', 'x0 x11',\n",
       "       'x0 x12', 'x0 x13', 'x1^2', 'x1 x2', 'x1 x3', 'x1 x4', 'x1 x5',\n",
       "       'x1 x6', 'x1 x7', 'x1 x8', 'x1 x9', 'x1 x10', 'x1 x11', 'x1 x12',\n",
       "       'x1 x13', 'x2^2', 'x2 x3', 'x2 x4', 'x2 x5', 'x2 x6', 'x2 x7',\n",
       "       'x2 x8', 'x2 x9', 'x2 x10', 'x2 x11', 'x2 x12', 'x2 x13', 'x3^2',\n",
       "       'x3 x4', 'x3 x5', 'x3 x6', 'x3 x7', 'x3 x8', 'x3 x9', 'x3 x10',\n",
       "       'x3 x11', 'x3 x12', 'x3 x13', 'x4^2', 'x4 x5', 'x4 x6', 'x4 x7',\n",
       "       'x4 x8', 'x4 x9', 'x4 x10', 'x4 x11', 'x4 x12', 'x4 x13', 'x5^2',\n",
       "       'x5 x6', 'x5 x7', 'x5 x8', 'x5 x9', 'x5 x10', 'x5 x11', 'x5 x12',\n",
       "       'x5 x13', 'x6^2', 'x6 x7', 'x6 x8', 'x6 x9', 'x6 x10', 'x6 x11',\n",
       "       'x6 x12', 'x6 x13', 'x7^2', 'x7 x8', 'x7 x9', 'x7 x10', 'x7 x11',\n",
       "       'x7 x12', 'x7 x13', 'x8^2', 'x8 x9', 'x8 x10', 'x8 x11', 'x8 x12',\n",
       "       'x8 x13', 'x9^2', 'x9 x10', 'x9 x11', 'x9 x12', 'x9 x13', 'x10^2',\n",
       "       'x10 x11', 'x10 x12', 'x10 x13', 'x11^2', 'x11 x12', 'x11 x13',\n",
       "       'x12^2', 'x12 x13', 'x13^2'], dtype=object)"
      ]
     },
     "execution_count": 67,
     "metadata": {},
     "output_type": "execute_result"
    }
   ],
   "source": [
    "pnf.get_feature_names_out()"
   ]
  },
  {
   "cell_type": "markdown",
   "metadata": {
    "slideshow": {
     "slide_type": "slide"
    }
   },
   "source": [
    "##### 모델 생성 학습 추론 평가"
   ]
  },
  {
   "cell_type": "code",
   "execution_count": 68,
   "metadata": {
    "ExecuteTime": {
     "end_time": "2021-11-22T05:27:54.923534Z",
     "start_time": "2021-11-22T05:27:54.879677Z"
    },
    "slideshow": {
     "slide_type": "fragment"
    }
   },
   "outputs": [
    {
     "data": {
      "text/plain": [
       "LinearRegression()"
      ]
     },
     "execution_count": 68,
     "metadata": {},
     "output_type": "execute_result"
    }
   ],
   "source": [
    "lr3 = LinearRegression()\n",
    "lr3.fit(X_train_scaled_poly, y_train)"
   ]
  },
  {
   "cell_type": "code",
   "execution_count": 69,
   "metadata": {
    "ExecuteTime": {
     "end_time": "2021-11-22T05:27:57.279100Z",
     "start_time": "2021-11-22T05:27:57.263168Z"
    },
    "slideshow": {
     "slide_type": "fragment"
    }
   },
   "outputs": [],
   "source": [
    "pred_train3 = lr3.predict(X_train_scaled_poly)\n",
    "pred_test3 = lr3.predict(X_test_scaled_poly)"
   ]
  },
  {
   "cell_type": "code",
   "execution_count": 70,
   "metadata": {
    "ExecuteTime": {
     "end_time": "2021-11-22T05:27:59.399065Z",
     "start_time": "2021-11-22T05:27:59.390093Z"
    },
    "slideshow": {
     "slide_type": "fragment"
    }
   },
   "outputs": [
    {
     "name": "stdout",
     "output_type": "stream",
     "text": [
      "PolynomialFeature 적용전 결과\n",
      "Train\n",
      "MSE: 19.640519427908046, RMSE: 4.4317625644779355, R2: 0.7697699488741149\n",
      "----------------------------------------------------------------------------------------------------\n",
      "Test\n",
      "MSE: 29.782245092302407, RMSE: 5.457311159564059, R2: 0.6354638433202124\n",
      "----------------------------------------------------------------------------------------------------\n"
     ]
    }
   ],
   "source": [
    "print('PolynomialFeature 적용전 결과')\n",
    "print_regression_metrics(y_train, pred_train, title='Train')\n",
    "print_regression_metrics(y_test, pred_test, title='Test')"
   ]
  },
  {
   "cell_type": "code",
   "execution_count": 71,
   "metadata": {
    "ExecuteTime": {
     "end_time": "2021-11-22T05:30:23.511380Z",
     "start_time": "2021-11-22T05:30:23.503401Z"
    },
    "slideshow": {
     "slide_type": "fragment"
    }
   },
   "outputs": [
    {
     "name": "stdout",
     "output_type": "stream",
     "text": [
      "PolynomialFeature 적용 후 결과-degree-2\n",
      "Train poly\n",
      "MSE: 4.092278975735868, RMSE: 2.022938203637439, R2: 0.9520294969151227\n",
      "----------------------------------------------------------------------------------------------------\n",
      "Test poly\n",
      "MSE: 32.02464293862891, RMSE: 5.659031978936761, R2: 0.6080167824920759\n",
      "----------------------------------------------------------------------------------------------------\n"
     ]
    }
   ],
   "source": [
    "print('PolynomialFeature 적용 후 결과-degree-2')\n",
    "print_regression_metrics(y_train, pred_train3, title='Train poly')\n",
    "print_regression_metrics(y_test, pred_test3, title='Test poly')"
   ]
  },
  {
   "cell_type": "markdown",
   "metadata": {
    "slideshow": {
     "slide_type": "slide"
    }
   },
   "source": [
    "#### Degree=5\n",
    "- 과적합"
   ]
  },
  {
   "cell_type": "code",
   "execution_count": 72,
   "metadata": {
    "ExecuteTime": {
     "end_time": "2021-11-22T05:35:59.111472Z",
     "start_time": "2021-11-22T05:35:59.071505Z"
    },
    "slideshow": {
     "slide_type": "fragment"
    }
   },
   "outputs": [
    {
     "data": {
      "text/plain": [
       "((379, 14), (379, 11627))"
      ]
     },
     "execution_count": 72,
     "metadata": {},
     "output_type": "execute_result"
    }
   ],
   "source": [
    "pnf2 = PolynomialFeatures(degree=5, include_bias=False)\n",
    "X_train_scaled_poly2 = pnf2.fit_transform(X_train_scaled)\n",
    "X_test_scaled_poly2 = pnf2.transform(X_test_scaled)\n",
    "X_train_scaled.shape, X_train_scaled_poly2.shape"
   ]
  },
  {
   "cell_type": "code",
   "execution_count": 73,
   "metadata": {
    "ExecuteTime": {
     "end_time": "2021-11-22T05:36:00.370317Z",
     "start_time": "2021-11-22T05:36:00.205635Z"
    },
    "slideshow": {
     "slide_type": "fragment"
    }
   },
   "outputs": [
    {
     "data": {
      "text/plain": [
       "LinearRegression()"
      ]
     },
     "execution_count": 73,
     "metadata": {},
     "output_type": "execute_result"
    }
   ],
   "source": [
    "lr = LinearRegression()\n",
    "lr.fit(X_train_scaled_poly2, y_train)"
   ]
  },
  {
   "cell_type": "code",
   "execution_count": 74,
   "metadata": {
    "ExecuteTime": {
     "end_time": "2021-11-22T05:36:01.602610Z",
     "start_time": "2021-11-22T05:36:01.581708Z"
    },
    "slideshow": {
     "slide_type": "fragment"
    }
   },
   "outputs": [],
   "source": [
    "pred_train4 = lr.predict(X_train_scaled_poly2)\n",
    "pred_test4 = lr.predict(X_test_scaled_poly2)"
   ]
  },
  {
   "cell_type": "code",
   "execution_count": 75,
   "metadata": {
    "ExecuteTime": {
     "end_time": "2021-11-22T05:36:03.760567Z",
     "start_time": "2021-11-22T05:36:03.741576Z"
    },
    "slideshow": {
     "slide_type": "fragment"
    }
   },
   "outputs": [
    {
     "name": "stdout",
     "output_type": "stream",
     "text": [
      "PolynomialFeature 적용 후 결과-degree-5\n",
      "Train\n",
      "MSE: 1.3222825458376234e-22, RMSE: 1.1499054508252509e-11, R2: 1.0\n",
      "----------------------------------------------------------------------------------------------------\n",
      "Test\n",
      "MSE: 75403.57355154064, RMSE: 274.59711133138427, R2: -921.9434791504268\n",
      "----------------------------------------------------------------------------------------------------\n"
     ]
    }
   ],
   "source": [
    "print('PolynomialFeature 적용 후 결과-degree-5')\n",
    "print_regression_metrics(y_train, pred_train4, title=\"Train\")\n",
    "print_regression_metrics(y_test, pred_test4, title='Test')"
   ]
  },
  {
   "cell_type": "markdown",
   "metadata": {
    "slideshow": {
     "slide_type": "slide"
    }
   },
   "source": [
    "## 규제 (Regularization)\n",
    "- 선형 회귀 모델에서 과대적합(Overfitting) 문제를 해결하기 위해 가중치(회귀계수)에 페널티 값을 적용한다.\n",
    "- 입력데이터의 Feature들이 너무 많은 경우 과적합이 발생.\n",
    "    - Feature수에 비해 관측치 수가 적은 경우 모델이 복잡해 지면서 과적합이 발생한다.\n",
    "- 해결\n",
    "    - 데이터를 더 수집한다. \n",
    "    - Feature selection\n",
    "        - 불필요한 Features들을 제거한다.\n",
    "    - 규제 (Regularization) 을 통해 Feature들에 곱해지는 가중치가 커지지 않도록 제한한다.\n",
    "        - L1 규제 (Lasso)\n",
    "        - L2 규제 (Ridge)\n",
    "    "
   ]
  },
  {
   "cell_type": "markdown",
   "metadata": {
    "slideshow": {
     "slide_type": "slide"
    }
   },
   "source": [
    "## Ridge Regression (L2규제)\n",
    "- 손실함수(loss function)에 규제항으로 $\\alpha \\sum_{i=1}^{n}{w_{i}^{2}}$ (L2 Norm)을 더해준다.\n",
    "- $\\alpha$는 하이퍼파라미터로 모델을 얼마나 많이 규제할지 조절한다. \n",
    "    - $\\alpha = 0$ 에 가까울수록 규제가 약해진다. (0일 경우 선형 회귀동일)\n",
    "    - $\\alpha$ 가 커질 수록 모든 가중치가 작아져 입력데이터의 Feature들 중 중요하지 않은 Feature의 예측에 대한 영향력이 작아지게 된다.\n",
    "\n",
    "$$\n",
    "\\text{손실함수}(w) = \\text{MSE}(w) + \\alpha \\cfrac{1}{2}\\sum_{i=1}^{n}{w_{i}^{2}}\n",
    "$$\n",
    "\n",
    "- (약한규제 : 복잡모델-overfitting) 0 ~ alpha ~ 1000 (강한 규제 : 단순한 모델-underfitting)"
   ]
  },
  {
   "cell_type": "markdown",
   "metadata": {
    "slideshow": {
     "slide_type": "slide"
    }
   },
   "source": [
    "### 예제"
   ]
  },
  {
   "cell_type": "code",
   "execution_count": 76,
   "metadata": {
    "ExecuteTime": {
     "end_time": "2021-11-22T06:40:37.967320Z",
     "start_time": "2021-11-22T06:40:37.947033Z"
    },
    "scrolled": true,
    "slideshow": {
     "slide_type": "fragment"
    }
   },
   "outputs": [
    {
     "name": "stderr",
     "output_type": "stream",
     "text": [
      "C:\\Users\\user\\anaconda3\\envs\\ml\\lib\\site-packages\\sklearn\\utils\\deprecation.py:87: FutureWarning: Function load_boston is deprecated; `load_boston` is deprecated in 1.0 and will be removed in 1.2.\n",
      "\n",
      "    The Boston housing prices dataset has an ethical problem. You can refer to\n",
      "    the documentation of this function for further details.\n",
      "\n",
      "    The scikit-learn maintainers therefore strongly discourage the use of this\n",
      "    dataset unless the purpose of the code is to study and educate about\n",
      "    ethical issues in data science and machine learning.\n",
      "\n",
      "    In this special case, you can fetch the dataset from the original\n",
      "    source::\n",
      "\n",
      "        import pandas as pd\n",
      "        import numpy as np\n",
      "\n",
      "\n",
      "        data_url = \"http://lib.stat.cmu.edu/datasets/boston\"\n",
      "        raw_df = pd.read_csv(data_url, sep=\"\\s+\", skiprows=22, header=None)\n",
      "        data = np.hstack([raw_df.values[::2, :], raw_df.values[1::2, :2]])\n",
      "        target = raw_df.values[1::2, 2]\n",
      "\n",
      "    Alternative datasets include the California housing dataset (i.e.\n",
      "    :func:`~sklearn.datasets.fetch_california_housing`) and the Ames housing\n",
      "    dataset. You can load the datasets as follows::\n",
      "\n",
      "        from sklearn.datasets import fetch_california_housing\n",
      "        housing = fetch_california_housing()\n",
      "\n",
      "    for the California housing dataset and::\n",
      "\n",
      "        from sklearn.datasets import fetch_openml\n",
      "        housing = fetch_openml(name=\"house_prices\", as_frame=True)\n",
      "\n",
      "    for the Ames housing dataset.\n",
      "    \n",
      "  warnings.warn(msg, category=FutureWarning)\n"
     ]
    }
   ],
   "source": [
    "from sklearn.datasets import load_boston\n",
    "from sklearn.preprocessing import StandardScaler\n",
    "\n",
    "data = load_boston()\n",
    "X, y = data['data'], data['target']\n",
    "X_train, X_test, y_train, y_test = train_test_split(X, y, random_state=0)\n",
    "\n",
    "scaler = StandardScaler()\n",
    "X_train_scaled = scaler.fit_transform(X_train)\n",
    "X_test_scaled = scaler.transform(X_test)"
   ]
  },
  {
   "cell_type": "code",
   "execution_count": 77,
   "metadata": {
    "ExecuteTime": {
     "end_time": "2021-11-22T06:42:20.749296Z",
     "start_time": "2021-11-22T06:42:20.729350Z"
    },
    "slideshow": {
     "slide_type": "fragment"
    }
   },
   "outputs": [],
   "source": [
    "from sklearn.linear_model import Ridge\n",
    "\n",
    "ridge1 = Ridge(random_state=0) # 처음 w값이 랜덤이기에, random_state 있음 / alpha=1 (default)\n",
    "ridge1.fit(X_train_scaled, y_train)\n",
    "\n",
    "pred_train1 = ridge1.predict(X_train_scaled)\n",
    "pred_test1 = ridge1.predict(X_test_scaled)"
   ]
  },
  {
   "cell_type": "code",
   "execution_count": 78,
   "metadata": {
    "ExecuteTime": {
     "end_time": "2021-11-22T06:42:26.482071Z",
     "start_time": "2021-11-22T06:42:26.475061Z"
    },
    "slideshow": {
     "slide_type": "fragment"
    }
   },
   "outputs": [
    {
     "name": "stdout",
     "output_type": "stream",
     "text": [
      "alpha=1\n",
      "Train\n",
      "MSE: 19.641949353818955, RMSE: 4.431923888540839, R2: 0.76975318699993\n",
      "----------------------------------------------------------------------------------------------------\n",
      "Test\n",
      "MSE: 29.853763334547622, RMSE: 5.463859746968952, R2: 0.6345884564889053\n",
      "----------------------------------------------------------------------------------------------------\n"
     ]
    }
   ],
   "source": [
    "print('alpha=1')\n",
    "print_regression_metrics(y_train, pred_train1, title='Train')\n",
    "print_regression_metrics(y_test, pred_test1, title=\"Test\")"
   ]
  },
  {
   "cell_type": "code",
   "execution_count": 79,
   "metadata": {
    "ExecuteTime": {
     "end_time": "2021-11-22T06:42:43.891241Z",
     "start_time": "2021-11-22T06:42:43.883257Z"
    },
    "slideshow": {
     "slide_type": "fragment"
    }
   },
   "outputs": [
    {
     "data": {
      "text/plain": [
       "array([-0.96187481,  1.02775462, -0.06861144,  0.59814087, -1.77318401,\n",
       "        2.6205672 , -0.20466821, -2.96504904,  2.00091047, -1.85840697,\n",
       "       -2.14955893,  0.75175979, -3.57350065])"
      ]
     },
     "execution_count": 79,
     "metadata": {},
     "output_type": "execute_result"
    }
   ],
   "source": [
    "ridge1.coef_"
   ]
  },
  {
   "cell_type": "code",
   "execution_count": 80,
   "metadata": {
    "ExecuteTime": {
     "end_time": "2021-11-22T06:44:28.043492Z",
     "start_time": "2021-11-22T06:44:28.026572Z"
    },
    "slideshow": {
     "slide_type": "fragment"
    }
   },
   "outputs": [
    {
     "name": "stdout",
     "output_type": "stream",
     "text": [
      "alpha=0.01\n",
      "Train\n",
      "MSE: 19.640519579533198, RMSE: 4.431762581584577, R2: 0.7697699470967349\n",
      "----------------------------------------------------------------------------------------------------\n",
      "Test\n",
      "MSE: 29.782964300126427, RMSE: 5.4573770531388455, R2: 0.6354550401807846\n",
      "----------------------------------------------------------------------------------------------------\n"
     ]
    }
   ],
   "source": [
    "from sklearn.linear_model import Ridge\n",
    "ridge1 = Ridge(alpha=0.01, random_state=0) #alpah=0.01 (1.0보다 약한 regularization)\n",
    "ridge1.fit(X_train_scaled, y_train)\n",
    "pred_train1 = ridge1.predict(X_train_scaled)\n",
    "pred_test1 = ridge1.predict(X_test_scaled)\n",
    "\n",
    "print('alpha=0.01')\n",
    "print_regression_metrics(y_train, pred_train1, title='Train')\n",
    "print_regression_metrics(y_test, pred_test1, title=\"Test\")"
   ]
  },
  {
   "cell_type": "code",
   "execution_count": 83,
   "metadata": {
    "ExecuteTime": {
     "end_time": "2021-11-22T06:48:35.575739Z",
     "start_time": "2021-11-22T06:48:35.561774Z"
    },
    "slideshow": {
     "slide_type": "fragment"
    }
   },
   "outputs": [
    {
     "data": {
      "text/plain": [
       "array([-0.44267768,  0.38220219, -0.51288178,  0.3335525 , -0.37129939,\n",
       "        1.25386598, -0.32729508, -0.06287806, -0.28302417, -0.47738562,\n",
       "       -0.87977916,  0.4225767 , -1.16283877])"
      ]
     },
     "execution_count": 83,
     "metadata": {},
     "output_type": "execute_result"
    }
   ],
   "source": [
    "ridge1.coef_"
   ]
  },
  {
   "cell_type": "code",
   "execution_count": 81,
   "metadata": {
    "ExecuteTime": {
     "end_time": "2021-11-22T06:46:15.351930Z",
     "start_time": "2021-11-22T06:46:15.338966Z"
    },
    "slideshow": {
     "slide_type": "fragment"
    }
   },
   "outputs": [
    {
     "name": "stdout",
     "output_type": "stream",
     "text": [
      "alpha=1000\n",
      "Train\n",
      "MSE: 37.6379127019148, RMSE: 6.13497454778052, R2: 0.55880094732523\n",
      "----------------------------------------------------------------------------------------------------\n",
      "Test\n",
      "MSE: 47.385118128796044, RMSE: 6.883684923701552, R2: 0.42000380451661745\n",
      "----------------------------------------------------------------------------------------------------\n"
     ]
    }
   ],
   "source": [
    "from sklearn.linear_model import Ridge\n",
    "ridge1 = Ridge(alpha=1000, random_state=0) #alpah=1000 (1.0보다 강한 regularization)\n",
    "ridge1.fit(X_train_scaled, y_train)\n",
    "pred_train1 = ridge1.predict(X_train_scaled)\n",
    "pred_test1 = ridge1.predict(X_test_scaled)\n",
    "\n",
    "print('alpha=1000')\n",
    "print_regression_metrics(y_train, pred_train1, title='Train')\n",
    "print_regression_metrics(y_test, pred_test1, title=\"Test\")"
   ]
  },
  {
   "cell_type": "code",
   "execution_count": 82,
   "metadata": {
    "ExecuteTime": {
     "end_time": "2021-11-22T06:46:33.569806Z",
     "start_time": "2021-11-22T06:46:33.562794Z"
    },
    "slideshow": {
     "slide_type": "fragment"
    }
   },
   "outputs": [
    {
     "data": {
      "text/plain": [
       "array([-0.44267768,  0.38220219, -0.51288178,  0.3335525 , -0.37129939,\n",
       "        1.25386598, -0.32729508, -0.06287806, -0.28302417, -0.47738562,\n",
       "       -0.87977916,  0.4225767 , -1.16283877])"
      ]
     },
     "execution_count": 82,
     "metadata": {},
     "output_type": "execute_result"
    }
   ],
   "source": [
    "ridge1.coef_"
   ]
  },
  {
   "cell_type": "markdown",
   "metadata": {
    "slideshow": {
     "slide_type": "slide"
    }
   },
   "source": [
    "## GridSearchCV를 이용해 최적의 alpha 탐색"
   ]
  },
  {
   "cell_type": "code",
   "execution_count": 84,
   "metadata": {
    "ExecuteTime": {
     "end_time": "2021-11-22T06:49:02.727501Z",
     "start_time": "2021-11-22T06:49:02.666692Z"
    },
    "slideshow": {
     "slide_type": "fragment"
    }
   },
   "outputs": [
    {
     "data": {
      "text/plain": [
       "GridSearchCV(cv=4, estimator=Ridge(random_state=0),\n",
       "             param_grid={'alpha': [0.01, 0.1, 1, 5, 10, 20, 30, 40, 100]},\n",
       "             refit='r2', scoring=['r2', 'neg_mean_squared_error'])"
      ]
     },
     "execution_count": 84,
     "metadata": {},
     "output_type": "execute_result"
    }
   ],
   "source": [
    "from sklearn.model_selection import GridSearchCV\n",
    "param = {\"alpha\":[0.01, 0.1, 1, 5, 10, 20, 30, 40, 100]}\n",
    "ridge = Ridge(random_state=0)\n",
    "gs = GridSearchCV(ridge, param, cv=4, scoring=['r2', 'neg_mean_squared_error'], refit='r2')\n",
    "\n",
    "gs.fit(X_train_scaled, y_train)"
   ]
  },
  {
   "cell_type": "code",
   "execution_count": 85,
   "metadata": {
    "ExecuteTime": {
     "end_time": "2021-11-22T06:49:19.675330Z",
     "start_time": "2021-11-22T06:49:19.658383Z"
    },
    "slideshow": {
     "slide_type": "fragment"
    }
   },
   "outputs": [
    {
     "data": {
      "text/html": [
       "<div>\n",
       "<style scoped>\n",
       "    .dataframe tbody tr th:only-of-type {\n",
       "        vertical-align: middle;\n",
       "    }\n",
       "\n",
       "    .dataframe tbody tr th {\n",
       "        vertical-align: top;\n",
       "    }\n",
       "\n",
       "    .dataframe thead th {\n",
       "        text-align: right;\n",
       "    }\n",
       "</style>\n",
       "<table border=\"1\" class=\"dataframe\">\n",
       "  <thead>\n",
       "    <tr style=\"text-align: right;\">\n",
       "      <th></th>\n",
       "      <th>mean_fit_time</th>\n",
       "      <th>std_fit_time</th>\n",
       "      <th>mean_score_time</th>\n",
       "      <th>std_score_time</th>\n",
       "      <th>param_alpha</th>\n",
       "      <th>params</th>\n",
       "      <th>split0_test_r2</th>\n",
       "      <th>split1_test_r2</th>\n",
       "      <th>split2_test_r2</th>\n",
       "      <th>split3_test_r2</th>\n",
       "      <th>mean_test_r2</th>\n",
       "      <th>std_test_r2</th>\n",
       "      <th>rank_test_r2</th>\n",
       "      <th>split0_test_neg_mean_squared_error</th>\n",
       "      <th>split1_test_neg_mean_squared_error</th>\n",
       "      <th>split2_test_neg_mean_squared_error</th>\n",
       "      <th>split3_test_neg_mean_squared_error</th>\n",
       "      <th>mean_test_neg_mean_squared_error</th>\n",
       "      <th>std_test_neg_mean_squared_error</th>\n",
       "      <th>rank_test_neg_mean_squared_error</th>\n",
       "    </tr>\n",
       "  </thead>\n",
       "  <tbody>\n",
       "    <tr>\n",
       "      <th>5</th>\n",
       "      <td>0.000249</td>\n",
       "      <td>0.000432</td>\n",
       "      <td>0.000499</td>\n",
       "      <td>0.000499</td>\n",
       "      <td>20</td>\n",
       "      <td>{'alpha': 20}</td>\n",
       "      <td>0.769783</td>\n",
       "      <td>0.645949</td>\n",
       "      <td>0.646802</td>\n",
       "      <td>0.818040</td>\n",
       "      <td>0.720144</td>\n",
       "      <td>0.075716</td>\n",
       "      <td>1</td>\n",
       "      <td>-17.823357</td>\n",
       "      <td>-26.999550</td>\n",
       "      <td>-30.525873</td>\n",
       "      <td>-18.104060</td>\n",
       "      <td>-23.363210</td>\n",
       "      <td>5.542457</td>\n",
       "      <td>2</td>\n",
       "    </tr>\n",
       "    <tr>\n",
       "      <th>4</th>\n",
       "      <td>0.000748</td>\n",
       "      <td>0.000432</td>\n",
       "      <td>0.000249</td>\n",
       "      <td>0.000432</td>\n",
       "      <td>10</td>\n",
       "      <td>{'alpha': 10}</td>\n",
       "      <td>0.762913</td>\n",
       "      <td>0.645798</td>\n",
       "      <td>0.650567</td>\n",
       "      <td>0.820667</td>\n",
       "      <td>0.719986</td>\n",
       "      <td>0.074670</td>\n",
       "      <td>2</td>\n",
       "      <td>-18.355176</td>\n",
       "      <td>-27.011065</td>\n",
       "      <td>-30.200460</td>\n",
       "      <td>-17.842694</td>\n",
       "      <td>-23.352349</td>\n",
       "      <td>5.376125</td>\n",
       "      <td>1</td>\n",
       "    </tr>\n",
       "    <tr>\n",
       "      <th>6</th>\n",
       "      <td>0.000499</td>\n",
       "      <td>0.000499</td>\n",
       "      <td>0.000499</td>\n",
       "      <td>0.000499</td>\n",
       "      <td>30</td>\n",
       "      <td>{'alpha': 30}</td>\n",
       "      <td>0.773569</td>\n",
       "      <td>0.646587</td>\n",
       "      <td>0.644039</td>\n",
       "      <td>0.814082</td>\n",
       "      <td>0.719569</td>\n",
       "      <td>0.075631</td>\n",
       "      <td>3</td>\n",
       "      <td>-17.530173</td>\n",
       "      <td>-26.950941</td>\n",
       "      <td>-30.764711</td>\n",
       "      <td>-18.497835</td>\n",
       "      <td>-23.435915</td>\n",
       "      <td>5.597524</td>\n",
       "      <td>4</td>\n",
       "    </tr>\n",
       "    <tr>\n",
       "      <th>3</th>\n",
       "      <td>0.000000</td>\n",
       "      <td>0.000000</td>\n",
       "      <td>0.000499</td>\n",
       "      <td>0.000499</td>\n",
       "      <td>5</td>\n",
       "      <td>{'alpha': 5}</td>\n",
       "      <td>0.757436</td>\n",
       "      <td>0.646131</td>\n",
       "      <td>0.653369</td>\n",
       "      <td>0.820574</td>\n",
       "      <td>0.719378</td>\n",
       "      <td>0.073163</td>\n",
       "      <td>4</td>\n",
       "      <td>-18.779233</td>\n",
       "      <td>-26.985694</td>\n",
       "      <td>-29.958289</td>\n",
       "      <td>-17.851926</td>\n",
       "      <td>-23.393786</td>\n",
       "      <td>5.196172</td>\n",
       "      <td>3</td>\n",
       "    </tr>\n",
       "    <tr>\n",
       "      <th>7</th>\n",
       "      <td>0.000748</td>\n",
       "      <td>0.000432</td>\n",
       "      <td>0.000000</td>\n",
       "      <td>0.000000</td>\n",
       "      <td>40</td>\n",
       "      <td>{'alpha': 40}</td>\n",
       "      <td>0.775585</td>\n",
       "      <td>0.647291</td>\n",
       "      <td>0.641584</td>\n",
       "      <td>0.809645</td>\n",
       "      <td>0.718526</td>\n",
       "      <td>0.075088</td>\n",
       "      <td>5</td>\n",
       "      <td>-17.374137</td>\n",
       "      <td>-26.897195</td>\n",
       "      <td>-30.976839</td>\n",
       "      <td>-18.939336</td>\n",
       "      <td>-23.546877</td>\n",
       "      <td>5.607163</td>\n",
       "      <td>8</td>\n",
       "    </tr>\n",
       "  </tbody>\n",
       "</table>\n",
       "</div>"
      ],
      "text/plain": [
       "   mean_fit_time  std_fit_time  mean_score_time  std_score_time param_alpha  \\\n",
       "5       0.000249      0.000432         0.000499        0.000499          20   \n",
       "4       0.000748      0.000432         0.000249        0.000432          10   \n",
       "6       0.000499      0.000499         0.000499        0.000499          30   \n",
       "3       0.000000      0.000000         0.000499        0.000499           5   \n",
       "7       0.000748      0.000432         0.000000        0.000000          40   \n",
       "\n",
       "          params  split0_test_r2  split1_test_r2  split2_test_r2  \\\n",
       "5  {'alpha': 20}        0.769783        0.645949        0.646802   \n",
       "4  {'alpha': 10}        0.762913        0.645798        0.650567   \n",
       "6  {'alpha': 30}        0.773569        0.646587        0.644039   \n",
       "3   {'alpha': 5}        0.757436        0.646131        0.653369   \n",
       "7  {'alpha': 40}        0.775585        0.647291        0.641584   \n",
       "\n",
       "   split3_test_r2  mean_test_r2  std_test_r2  rank_test_r2  \\\n",
       "5        0.818040      0.720144     0.075716             1   \n",
       "4        0.820667      0.719986     0.074670             2   \n",
       "6        0.814082      0.719569     0.075631             3   \n",
       "3        0.820574      0.719378     0.073163             4   \n",
       "7        0.809645      0.718526     0.075088             5   \n",
       "\n",
       "   split0_test_neg_mean_squared_error  split1_test_neg_mean_squared_error  \\\n",
       "5                          -17.823357                          -26.999550   \n",
       "4                          -18.355176                          -27.011065   \n",
       "6                          -17.530173                          -26.950941   \n",
       "3                          -18.779233                          -26.985694   \n",
       "7                          -17.374137                          -26.897195   \n",
       "\n",
       "   split2_test_neg_mean_squared_error  split3_test_neg_mean_squared_error  \\\n",
       "5                          -30.525873                          -18.104060   \n",
       "4                          -30.200460                          -17.842694   \n",
       "6                          -30.764711                          -18.497835   \n",
       "3                          -29.958289                          -17.851926   \n",
       "7                          -30.976839                          -18.939336   \n",
       "\n",
       "   mean_test_neg_mean_squared_error  std_test_neg_mean_squared_error  \\\n",
       "5                        -23.363210                         5.542457   \n",
       "4                        -23.352349                         5.376125   \n",
       "6                        -23.435915                         5.597524   \n",
       "3                        -23.393786                         5.196172   \n",
       "7                        -23.546877                         5.607163   \n",
       "\n",
       "   rank_test_neg_mean_squared_error  \n",
       "5                                 2  \n",
       "4                                 1  \n",
       "6                                 4  \n",
       "3                                 3  \n",
       "7                                 8  "
      ]
     },
     "execution_count": 85,
     "metadata": {},
     "output_type": "execute_result"
    }
   ],
   "source": [
    "result_df = pd.DataFrame(gs.cv_results_)\n",
    "result_df.sort_values('rank_test_r2').head()"
   ]
  },
  {
   "cell_type": "code",
   "execution_count": 86,
   "metadata": {
    "ExecuteTime": {
     "end_time": "2021-11-22T06:50:32.173890Z",
     "start_time": "2021-11-22T06:50:32.169903Z"
    }
   },
   "outputs": [
    {
     "data": {
      "text/plain": [
       "({'alpha': 20}, 0.7201435211837184)"
      ]
     },
     "execution_count": 86,
     "metadata": {},
     "output_type": "execute_result"
    }
   ],
   "source": [
    "gs.best_params_, gs.best_score_"
   ]
  },
  {
   "cell_type": "markdown",
   "metadata": {
    "slideshow": {
     "slide_type": "slide"
    }
   },
   "source": [
    "## 규제 alpha 에 따른 weight 변화"
   ]
  },
  {
   "cell_type": "code",
   "execution_count": 89,
   "metadata": {
    "ExecuteTime": {
     "end_time": "2021-11-22T07:15:34.703954Z",
     "start_time": "2021-11-22T07:15:33.929758Z"
    },
    "scrolled": false,
    "slideshow": {
     "slide_type": "fragment"
    }
   },
   "outputs": [
    {
     "data": {
      "image/png": "[encoded data removed]",
      "text/plain": [
       "<Figure size 432x1800 with 6 Axes>"
      ]
     },
     "metadata": {
      "needs_background": "light"
     },
     "output_type": "display_data"
    }
   ],
   "source": [
    "import matplotlib.pyplot as plt\n",
    "np.random.seed(1)\n",
    "alpha_list = [0, 1, 10, 100, 500, 1000]\n",
    "coef_df = pd.DataFrame() # 각 alpha별 weight들 저장할 DataFrame\n",
    "\n",
    "plt.figure(figsize=(6, 25))\n",
    "for idx, alpha in enumerate(alpha_list, start=1):\n",
    "\n",
    "    ridge = Ridge(alpha=alpha)\n",
    "    ridge.fit(X_train_scaled, y_train)\n",
    "    \n",
    "    pred_train = ridge.predict(X_train_scaled)\n",
    "    pred_test = ridge.predict(X_test_scaled)\n",
    "    \n",
    "    # ridge.coef_ : 각 feature에 곱해진 weight 조회\n",
    "    w = pd.Series(np.round(ridge.coef_, 3), index=data[\"feature_names\"]).sort_values()\n",
    "    coef_df[f'alpha = {alpha}'] = w # coef_ series를 DataFrame 열로 추가\n",
    "    plt.subplot(6, 1, idx)\n",
    "    \n",
    "    plt.bar(x=w.index, height=w)\n",
    "    plt.xticks(rotation=45)\n",
    "    plt.ylim(-20, 20)\n",
    "    plt.title(f\"alpha = {alpha}\")\n",
    "    plt.grid(True)\n",
    "\n",
    "plt.tight_layout()\n",
    "plt.show()"
   ]
  },
  {
   "cell_type": "code",
   "execution_count": 90,
   "metadata": {
    "ExecuteTime": {
     "end_time": "2021-11-22T07:15:41.915672Z",
     "start_time": "2021-11-22T07:15:41.896724Z"
    },
    "slideshow": {
     "slide_type": "fragment"
    }
   },
   "outputs": [
    {
     "data": {
      "text/html": [
       "<div>\n",
       "<style scoped>\n",
       "    .dataframe tbody tr th:only-of-type {\n",
       "        vertical-align: middle;\n",
       "    }\n",
       "\n",
       "    .dataframe tbody tr th {\n",
       "        vertical-align: top;\n",
       "    }\n",
       "\n",
       "    .dataframe thead th {\n",
       "        text-align: right;\n",
       "    }\n",
       "</style>\n",
       "<table border=\"1\" class=\"dataframe\">\n",
       "  <thead>\n",
       "    <tr style=\"text-align: right;\">\n",
       "      <th></th>\n",
       "      <th>alpha = 0</th>\n",
       "      <th>alpha = 1</th>\n",
       "      <th>alpha = 10</th>\n",
       "      <th>alpha = 100</th>\n",
       "      <th>alpha = 500</th>\n",
       "      <th>alpha = 1000</th>\n",
       "    </tr>\n",
       "  </thead>\n",
       "  <tbody>\n",
       "    <tr>\n",
       "      <th>LSTAT</th>\n",
       "      <td>-3.590</td>\n",
       "      <td>-3.574</td>\n",
       "      <td>-3.438</td>\n",
       "      <td>-2.684</td>\n",
       "      <td>-1.622</td>\n",
       "      <td>-1.163</td>\n",
       "    </tr>\n",
       "    <tr>\n",
       "      <th>DIS</th>\n",
       "      <td>-3.002</td>\n",
       "      <td>-2.965</td>\n",
       "      <td>-2.672</td>\n",
       "      <td>-1.379</td>\n",
       "      <td>-0.332</td>\n",
       "      <td>-0.063</td>\n",
       "    </tr>\n",
       "    <tr>\n",
       "      <th>PTRATIO</th>\n",
       "      <td>-2.157</td>\n",
       "      <td>-2.150</td>\n",
       "      <td>-2.090</td>\n",
       "      <td>-1.783</td>\n",
       "      <td>-1.201</td>\n",
       "      <td>-0.880</td>\n",
       "    </tr>\n",
       "    <tr>\n",
       "      <th>TAX</th>\n",
       "      <td>-1.933</td>\n",
       "      <td>-1.858</td>\n",
       "      <td>-1.398</td>\n",
       "      <td>-0.630</td>\n",
       "      <td>-0.527</td>\n",
       "      <td>-0.477</td>\n",
       "    </tr>\n",
       "    <tr>\n",
       "      <th>NOX</th>\n",
       "      <td>-1.809</td>\n",
       "      <td>-1.773</td>\n",
       "      <td>-1.513</td>\n",
       "      <td>-0.686</td>\n",
       "      <td>-0.406</td>\n",
       "      <td>-0.371</td>\n",
       "    </tr>\n",
       "    <tr>\n",
       "      <th>CRIM</th>\n",
       "      <td>-0.971</td>\n",
       "      <td>-0.962</td>\n",
       "      <td>-0.899</td>\n",
       "      <td>-0.703</td>\n",
       "      <td>-0.535</td>\n",
       "      <td>-0.443</td>\n",
       "    </tr>\n",
       "    <tr>\n",
       "      <th>AGE</th>\n",
       "      <td>-0.198</td>\n",
       "      <td>-0.205</td>\n",
       "      <td>-0.245</td>\n",
       "      <td>-0.308</td>\n",
       "      <td>-0.333</td>\n",
       "      <td>-0.327</td>\n",
       "    </tr>\n",
       "    <tr>\n",
       "      <th>INDUS</th>\n",
       "      <td>-0.040</td>\n",
       "      <td>-0.069</td>\n",
       "      <td>-0.242</td>\n",
       "      <td>-0.539</td>\n",
       "      <td>-0.571</td>\n",
       "      <td>-0.513</td>\n",
       "    </tr>\n",
       "    <tr>\n",
       "      <th>CHAS</th>\n",
       "      <td>0.594</td>\n",
       "      <td>0.598</td>\n",
       "      <td>0.623</td>\n",
       "      <td>0.643</td>\n",
       "      <td>0.470</td>\n",
       "      <td>0.334</td>\n",
       "    </tr>\n",
       "    <tr>\n",
       "      <th>B</th>\n",
       "      <td>0.752</td>\n",
       "      <td>0.752</td>\n",
       "      <td>0.751</td>\n",
       "      <td>0.714</td>\n",
       "      <td>0.535</td>\n",
       "      <td>0.423</td>\n",
       "    </tr>\n",
       "    <tr>\n",
       "      <th>ZN</th>\n",
       "      <td>1.047</td>\n",
       "      <td>1.028</td>\n",
       "      <td>0.896</td>\n",
       "      <td>0.542</td>\n",
       "      <td>0.432</td>\n",
       "      <td>0.382</td>\n",
       "    </tr>\n",
       "    <tr>\n",
       "      <th>RAD</th>\n",
       "      <td>2.080</td>\n",
       "      <td>2.001</td>\n",
       "      <td>1.487</td>\n",
       "      <td>0.302</td>\n",
       "      <td>-0.209</td>\n",
       "      <td>-0.283</td>\n",
       "    </tr>\n",
       "    <tr>\n",
       "      <th>RM</th>\n",
       "      <td>2.610</td>\n",
       "      <td>2.621</td>\n",
       "      <td>2.690</td>\n",
       "      <td>2.650</td>\n",
       "      <td>1.776</td>\n",
       "      <td>1.254</td>\n",
       "    </tr>\n",
       "  </tbody>\n",
       "</table>\n",
       "</div>"
      ],
      "text/plain": [
       "         alpha = 0  alpha = 1  alpha = 10  alpha = 100  alpha = 500  \\\n",
       "LSTAT       -3.590     -3.574      -3.438       -2.684       -1.622   \n",
       "DIS         -3.002     -2.965      -2.672       -1.379       -0.332   \n",
       "PTRATIO     -2.157     -2.150      -2.090       -1.783       -1.201   \n",
       "TAX         -1.933     -1.858      -1.398       -0.630       -0.527   \n",
       "NOX         -1.809     -1.773      -1.513       -0.686       -0.406   \n",
       "CRIM        -0.971     -0.962      -0.899       -0.703       -0.535   \n",
       "AGE         -0.198     -0.205      -0.245       -0.308       -0.333   \n",
       "INDUS       -0.040     -0.069      -0.242       -0.539       -0.571   \n",
       "CHAS         0.594      0.598       0.623        0.643        0.470   \n",
       "B            0.752      0.752       0.751        0.714        0.535   \n",
       "ZN           1.047      1.028       0.896        0.542        0.432   \n",
       "RAD          2.080      2.001       1.487        0.302       -0.209   \n",
       "RM           2.610      2.621       2.690        2.650        1.776   \n",
       "\n",
       "         alpha = 1000  \n",
       "LSTAT          -1.163  \n",
       "DIS            -0.063  \n",
       "PTRATIO        -0.880  \n",
       "TAX            -0.477  \n",
       "NOX            -0.371  \n",
       "CRIM           -0.443  \n",
       "AGE            -0.327  \n",
       "INDUS          -0.513  \n",
       "CHAS            0.334  \n",
       "B               0.423  \n",
       "ZN              0.382  \n",
       "RAD            -0.283  \n",
       "RM              1.254  "
      ]
     },
     "execution_count": 90,
     "metadata": {},
     "output_type": "execute_result"
    }
   ],
   "source": [
    "coef_df"
   ]
  },
  {
   "cell_type": "markdown",
   "metadata": {
    "slideshow": {
     "slide_type": "slide"
    }
   },
   "source": [
    "## Lasso(Least Absolut Shrinkage and Selection Operator) Regression (L1 규제)\n",
    "\n",
    "- 손실함수에 규제항으로 $\\alpha \\sum_{i=1}^{n}{\\left| w_i \\right|}$ (L1 Norm)더한다.\n",
    "- Lasso 회귀의 상대적으로 덜 중요한 특성의 가중치를 0으로 만들어 자동으로 Feature Selection이 된다.\n",
    "\n",
    "$$\n",
    "\\text{손실함수}(w) = \\text{MSE}(w) + \\alpha \\sum_{i=1}^{n}{\\left| w_i \\right|}\n",
    "$$"
   ]
  },
  {
   "cell_type": "markdown",
   "metadata": {
    "slideshow": {
     "slide_type": "slide"
    }
   },
   "source": [
    "### 예제"
   ]
  },
  {
   "cell_type": "code",
   "execution_count": 91,
   "metadata": {
    "ExecuteTime": {
     "end_time": "2021-11-22T07:24:10.056751Z",
     "start_time": "2021-11-22T07:24:10.040795Z"
    },
    "slideshow": {
     "slide_type": "fragment"
    }
   },
   "outputs": [],
   "source": [
    "from sklearn.linear_model import Lasso"
   ]
  },
  {
   "cell_type": "code",
   "execution_count": 92,
   "metadata": {
    "ExecuteTime": {
     "end_time": "2021-11-22T07:24:11.083929Z",
     "start_time": "2021-11-22T07:24:11.063982Z"
    },
    "slideshow": {
     "slide_type": "fragment"
    }
   },
   "outputs": [
    {
     "name": "stdout",
     "output_type": "stream",
     "text": [
      "alpha=1\n",
      "alpha=1 Train\n",
      "MSE: 25.38793844433231, RMSE: 5.038644504659196, R2: 0.702397567056503\n",
      "----------------------------------------------------------------------------------------------------\n",
      "alpha=1 Test\n",
      "MSE: 35.48963616828034, RMSE: 5.957317866983458, R2: 0.5656050935497574\n",
      "----------------------------------------------------------------------------------------------------\n"
     ]
    }
   ],
   "source": [
    "lasso = Lasso()\n",
    "lasso.fit(X_train_scaled, y_train)\n",
    "pred_train = lasso.predict(X_train_scaled)\n",
    "pred_test = lasso.predict(X_test_scaled)\n",
    "\n",
    "print('alpha=1')\n",
    "print_regression_metrics(y_train, pred_train, \"alpha=1 Train\")\n",
    "print_regression_metrics(y_test, pred_test, \"alpha=1 Test\")"
   ]
  },
  {
   "cell_type": "code",
   "execution_count": 93,
   "metadata": {
    "ExecuteTime": {
     "end_time": "2021-11-22T07:24:15.395437Z",
     "start_time": "2021-11-22T07:24:15.384437Z"
    },
    "slideshow": {
     "slide_type": "fragment"
    }
   },
   "outputs": [
    {
     "data": {
      "text/plain": [
       "array([-0.        ,  0.        , -0.        ,  0.        , -0.        ,\n",
       "        2.52933025, -0.        , -0.        , -0.        , -0.22763148,\n",
       "       -1.70088382,  0.13186059, -3.60565498])"
      ]
     },
     "execution_count": 93,
     "metadata": {},
     "output_type": "execute_result"
    }
   ],
   "source": [
    "lasso.coef_"
   ]
  },
  {
   "cell_type": "code",
   "execution_count": 94,
   "metadata": {
    "ExecuteTime": {
     "end_time": "2021-11-22T07:24:17.190838Z",
     "start_time": "2021-11-22T07:24:17.175876Z"
    },
    "slideshow": {
     "slide_type": "fragment"
    }
   },
   "outputs": [
    {
     "name": "stdout",
     "output_type": "stream",
     "text": [
      "alpha=10\n",
      "alpha=10 Train\n",
      "MSE: 85.30823553163789, RMSE: 9.236245748768159, R2: 0.0\n",
      "----------------------------------------------------------------------------------------------------\n",
      "alpha=10 Test\n",
      "MSE: 81.7904659829155, RMSE: 9.043808157126925, R2: -0.001119359203955339\n",
      "----------------------------------------------------------------------------------------------------\n"
     ]
    }
   ],
   "source": [
    "lasso = Lasso(alpha=10, random_state=0) #alpha=10\n",
    "lasso.fit(X_train_scaled, y_train)\n",
    "pred_train = lasso.predict(X_train_scaled)\n",
    "pred_test = lasso.predict(X_test_scaled)\n",
    "\n",
    "print('alpha=10')\n",
    "print_regression_metrics(y_train, pred_train, \"alpha=10 Train\")\n",
    "print_regression_metrics(y_test, pred_test, \"alpha=10 Test\")"
   ]
  },
  {
   "cell_type": "code",
   "execution_count": 95,
   "metadata": {
    "ExecuteTime": {
     "end_time": "2021-11-22T07:24:20.585391Z",
     "start_time": "2021-11-22T07:24:20.568410Z"
    },
    "slideshow": {
     "slide_type": "fragment"
    }
   },
   "outputs": [
    {
     "data": {
      "text/plain": [
       "22.608707124010557"
      ]
     },
     "execution_count": 95,
     "metadata": {},
     "output_type": "execute_result"
    }
   ],
   "source": [
    "lasso.intercept_"
   ]
  },
  {
   "cell_type": "code",
   "execution_count": 96,
   "metadata": {
    "ExecuteTime": {
     "end_time": "2021-11-22T07:24:21.709301Z",
     "start_time": "2021-11-22T07:24:21.703346Z"
    },
    "slideshow": {
     "slide_type": "fragment"
    }
   },
   "outputs": [
    {
     "data": {
      "text/plain": [
       "array([-0.,  0., -0.,  0., -0.,  0., -0.,  0., -0., -0., -0.,  0., -0.])"
      ]
     },
     "execution_count": 96,
     "metadata": {},
     "output_type": "execute_result"
    }
   ],
   "source": [
    "lasso.coef_"
   ]
  },
  {
   "cell_type": "code",
   "execution_count": 97,
   "metadata": {
    "ExecuteTime": {
     "end_time": "2021-11-22T07:24:23.873545Z",
     "start_time": "2021-11-22T07:24:23.094828Z"
    },
    "scrolled": false,
    "slideshow": {
     "slide_type": "slide"
    }
   },
   "outputs": [
    {
     "name": "stderr",
     "output_type": "stream",
     "text": [
      "C:\\Users\\user\\AppData\\Local\\Temp/ipykernel_12016/1124120420.py:9: UserWarning: With alpha=0, this algorithm does not converge well. You are advised to use the LinearRegression estimator\n",
      "  lasso.fit(X_train_scaled, y_train)\n",
      "C:\\Users\\user\\anaconda3\\envs\\ml\\lib\\site-packages\\sklearn\\linear_model\\_coordinate_descent.py:647: UserWarning: Coordinate descent with no regularization may lead to unexpected results and is discouraged.\n",
      "  model = cd_fast.enet_coordinate_descent(\n",
      "C:\\Users\\user\\anaconda3\\envs\\ml\\lib\\site-packages\\sklearn\\linear_model\\_coordinate_descent.py:647: ConvergenceWarning: Objective did not converge. You might want to increase the number of iterations, check the scale of the features or consider increasing regularisation. Duality gap: 3.722e+03, tolerance: 3.233e+00 Linear regression models with null weight for the l1 regularization term are more efficiently fitted using one of the solvers implemented in sklearn.linear_model.Ridge/RidgeCV instead.\n",
      "  model = cd_fast.enet_coordinate_descent(\n"
     ]
    },
    {
     "data": {
      "image/png": "[encoded data removed]",
      "text/plain": [
       "<Figure size 504x1800 with 6 Axes>"
      ]
     },
     "metadata": {
      "needs_background": "light"
     },
     "output_type": "display_data"
    }
   ],
   "source": [
    "import matplotlib.pyplot as plt\n",
    "alpha_list = [0, 0.1, 0.5, 1, 5, 10]\n",
    "\n",
    "lasso_coef_df = pd.DataFrame()\n",
    "\n",
    "plt.figure(figsize=(7,25))\n",
    "for idx, alpha in enumerate(alpha_list, start=1):\n",
    "    lasso = Lasso(alpha=alpha)\n",
    "    lasso.fit(X_train_scaled, y_train)\n",
    "    \n",
    "    w = pd.Series(lasso.coef_, index=data[\"feature_names\"]).sort_values()\n",
    "    lasso_coef_df[f'alpha {alpha}'] = w\n",
    "    plt.subplot(6,1,idx)\n",
    "    \n",
    "    plt.bar(x=w.index, height=w)\n",
    "    plt.xticks(rotation=45)\n",
    "    plt.ylim(-20, 20)\n",
    "    plt.grid(True)\n",
    "    plt.title(f\"Lasso alpha {alpha}\")\n",
    "    \n",
    "plt.tight_layout()\n",
    "plt.show()"
   ]
  },
  {
   "cell_type": "code",
   "execution_count": 100,
   "metadata": {
    "ExecuteTime": {
     "end_time": "2021-11-22T07:26:34.017242Z",
     "start_time": "2021-11-22T07:26:34.008266Z"
    }
   },
   "outputs": [
    {
     "data": {
      "text/html": [
       "<div>\n",
       "<style scoped>\n",
       "    .dataframe tbody tr th:only-of-type {\n",
       "        vertical-align: middle;\n",
       "    }\n",
       "\n",
       "    .dataframe tbody tr th {\n",
       "        vertical-align: top;\n",
       "    }\n",
       "\n",
       "    .dataframe thead th {\n",
       "        text-align: right;\n",
       "    }\n",
       "</style>\n",
       "<table border=\"1\" class=\"dataframe\">\n",
       "  <thead>\n",
       "    <tr style=\"text-align: right;\">\n",
       "      <th></th>\n",
       "      <th>alpha 0</th>\n",
       "      <th>alpha 0.1</th>\n",
       "      <th>alpha 0.5</th>\n",
       "      <th>alpha 1</th>\n",
       "      <th>alpha 5</th>\n",
       "      <th>alpha 10</th>\n",
       "    </tr>\n",
       "  </thead>\n",
       "  <tbody>\n",
       "    <tr>\n",
       "      <th>LSTAT</th>\n",
       "      <td>-3.590270</td>\n",
       "      <td>-3.658501</td>\n",
       "      <td>-3.532405</td>\n",
       "      <td>-3.605655</td>\n",
       "      <td>-1.752124</td>\n",
       "      <td>-0.0</td>\n",
       "    </tr>\n",
       "    <tr>\n",
       "      <th>DIS</th>\n",
       "      <td>-3.002166</td>\n",
       "      <td>-2.216914</td>\n",
       "      <td>-0.003686</td>\n",
       "      <td>-0.000000</td>\n",
       "      <td>0.000000</td>\n",
       "      <td>0.0</td>\n",
       "    </tr>\n",
       "    <tr>\n",
       "      <th>PTRATIO</th>\n",
       "      <td>-2.157438</td>\n",
       "      <td>-2.055994</td>\n",
       "      <td>-1.934512</td>\n",
       "      <td>-1.700884</td>\n",
       "      <td>-0.000000</td>\n",
       "      <td>-0.0</td>\n",
       "    </tr>\n",
       "    <tr>\n",
       "      <th>TAX</th>\n",
       "      <td>-1.932890</td>\n",
       "      <td>-0.724794</td>\n",
       "      <td>-0.291927</td>\n",
       "      <td>-0.227631</td>\n",
       "      <td>-0.000000</td>\n",
       "      <td>-0.0</td>\n",
       "    </tr>\n",
       "    <tr>\n",
       "      <th>NOX</th>\n",
       "      <td>-1.808769</td>\n",
       "      <td>-1.345790</td>\n",
       "      <td>-0.000000</td>\n",
       "      <td>-0.000000</td>\n",
       "      <td>-0.000000</td>\n",
       "      <td>-0.0</td>\n",
       "    </tr>\n",
       "    <tr>\n",
       "      <th>CRIM</th>\n",
       "      <td>-0.971001</td>\n",
       "      <td>-0.659315</td>\n",
       "      <td>-0.236287</td>\n",
       "      <td>-0.000000</td>\n",
       "      <td>-0.000000</td>\n",
       "      <td>-0.0</td>\n",
       "    </tr>\n",
       "    <tr>\n",
       "      <th>AGE</th>\n",
       "      <td>-0.198233</td>\n",
       "      <td>-0.007398</td>\n",
       "      <td>-0.000000</td>\n",
       "      <td>-0.000000</td>\n",
       "      <td>-0.000000</td>\n",
       "      <td>-0.0</td>\n",
       "    </tr>\n",
       "    <tr>\n",
       "      <th>INDUS</th>\n",
       "      <td>-0.040448</td>\n",
       "      <td>-0.207389</td>\n",
       "      <td>-0.000000</td>\n",
       "      <td>-0.000000</td>\n",
       "      <td>-0.000000</td>\n",
       "      <td>-0.0</td>\n",
       "    </tr>\n",
       "    <tr>\n",
       "      <th>CHAS</th>\n",
       "      <td>0.594088</td>\n",
       "      <td>0.575874</td>\n",
       "      <td>0.303608</td>\n",
       "      <td>0.000000</td>\n",
       "      <td>0.000000</td>\n",
       "      <td>0.0</td>\n",
       "    </tr>\n",
       "    <tr>\n",
       "      <th>B</th>\n",
       "      <td>0.751991</td>\n",
       "      <td>0.629083</td>\n",
       "      <td>0.456915</td>\n",
       "      <td>0.131861</td>\n",
       "      <td>0.000000</td>\n",
       "      <td>0.0</td>\n",
       "    </tr>\n",
       "    <tr>\n",
       "      <th>ZN</th>\n",
       "      <td>1.046678</td>\n",
       "      <td>0.684820</td>\n",
       "      <td>0.000000</td>\n",
       "      <td>0.000000</td>\n",
       "      <td>0.000000</td>\n",
       "      <td>0.0</td>\n",
       "    </tr>\n",
       "    <tr>\n",
       "      <th>RAD</th>\n",
       "      <td>2.080216</td>\n",
       "      <td>0.632402</td>\n",
       "      <td>-0.000000</td>\n",
       "      <td>-0.000000</td>\n",
       "      <td>-0.000000</td>\n",
       "      <td>-0.0</td>\n",
       "    </tr>\n",
       "    <tr>\n",
       "      <th>RM</th>\n",
       "      <td>2.609920</td>\n",
       "      <td>2.738958</td>\n",
       "      <td>2.859242</td>\n",
       "      <td>2.529330</td>\n",
       "      <td>0.374985</td>\n",
       "      <td>0.0</td>\n",
       "    </tr>\n",
       "  </tbody>\n",
       "</table>\n",
       "</div>"
      ],
      "text/plain": [
       "          alpha 0  alpha 0.1  alpha 0.5   alpha 1   alpha 5  alpha 10\n",
       "LSTAT   -3.590270  -3.658501  -3.532405 -3.605655 -1.752124      -0.0\n",
       "DIS     -3.002166  -2.216914  -0.003686 -0.000000  0.000000       0.0\n",
       "PTRATIO -2.157438  -2.055994  -1.934512 -1.700884 -0.000000      -0.0\n",
       "TAX     -1.932890  -0.724794  -0.291927 -0.227631 -0.000000      -0.0\n",
       "NOX     -1.808769  -1.345790  -0.000000 -0.000000 -0.000000      -0.0\n",
       "CRIM    -0.971001  -0.659315  -0.236287 -0.000000 -0.000000      -0.0\n",
       "AGE     -0.198233  -0.007398  -0.000000 -0.000000 -0.000000      -0.0\n",
       "INDUS   -0.040448  -0.207389  -0.000000 -0.000000 -0.000000      -0.0\n",
       "CHAS     0.594088   0.575874   0.303608  0.000000  0.000000       0.0\n",
       "B        0.751991   0.629083   0.456915  0.131861  0.000000       0.0\n",
       "ZN       1.046678   0.684820   0.000000  0.000000  0.000000       0.0\n",
       "RAD      2.080216   0.632402  -0.000000 -0.000000 -0.000000      -0.0\n",
       "RM       2.609920   2.738958   2.859242  2.529330  0.374985       0.0"
      ]
     },
     "execution_count": 100,
     "metadata": {},
     "output_type": "execute_result"
    }
   ],
   "source": [
    "lasso_coef_df"
   ]
  },
  {
   "cell_type": "markdown",
   "metadata": {
    "slideshow": {
     "slide_type": "slide"
    }
   },
   "source": [
    "###  PolynomialFeatures로 전처리한 Boston Dataset에 Ridge, Lasso  규제 적용\n",
    "- degree 2로 전처리한 데이터셋 이용"
   ]
  },
  {
   "cell_type": "code",
   "execution_count": 101,
   "metadata": {
    "ExecuteTime": {
     "end_time": "2021-11-22T07:26:54.365839Z",
     "start_time": "2021-11-22T07:26:54.359856Z"
    },
    "slideshow": {
     "slide_type": "fragment"
    }
   },
   "outputs": [
    {
     "data": {
      "text/plain": [
       "(379, 119)"
      ]
     },
     "execution_count": 101,
     "metadata": {},
     "output_type": "execute_result"
    }
   ],
   "source": [
    "X_train_scaled_poly.shape"
   ]
  },
  {
   "cell_type": "code",
   "execution_count": 120,
   "metadata": {
    "ExecuteTime": {
     "end_time": "2021-11-22T07:33:57.252780Z",
     "start_time": "2021-11-22T07:33:57.239815Z"
    },
    "slideshow": {
     "slide_type": "fragment"
    }
   },
   "outputs": [],
   "source": [
    "alpha_list = [0, 0.01, 0.1, 1, 10, 100, 200, 500, 1000]"
   ]
  },
  {
   "cell_type": "code",
   "execution_count": 121,
   "metadata": {
    "ExecuteTime": {
     "end_time": "2021-11-22T07:33:58.252490Z",
     "start_time": "2021-11-22T07:33:58.246507Z"
    },
    "slideshow": {
     "slide_type": "fragment"
    }
   },
   "outputs": [],
   "source": [
    "from sklearn.linear_model import Ridge, Lasso, LinearRegression"
   ]
  },
  {
   "cell_type": "markdown",
   "metadata": {
    "slideshow": {
     "slide_type": "fragment"
    }
   },
   "source": [
    "##### LinearRegression으로 평가"
   ]
  },
  {
   "cell_type": "code",
   "execution_count": 122,
   "metadata": {
    "ExecuteTime": {
     "end_time": "2021-11-22T07:33:59.996918Z",
     "start_time": "2021-11-22T07:33:59.975006Z"
    },
    "slideshow": {
     "slide_type": "fragment"
    }
   },
   "outputs": [
    {
     "name": "stdout",
     "output_type": "stream",
     "text": [
      "LinearRegression Train\n",
      "MSE: 4.092278975735868, RMSE: 2.022938203637439, R2: 0.9520294969151227\n",
      "----------------------------------------------------------------------------------------------------\n",
      "LinearRegression Test\n",
      "MSE: 32.02464293862891, RMSE: 5.659031978936761, R2: 0.6080167824920759\n",
      "----------------------------------------------------------------------------------------------------\n"
     ]
    }
   ],
   "source": [
    "lr = LinearRegression()\n",
    "lr.fit(X_train_scaled_poly, y_train)\n",
    "\n",
    "pred_train_lr = lr.predict(X_train_scaled_poly)\n",
    "pred_test_lr = lr.predict(X_test_scaled_poly)\n",
    "\n",
    "print_regression_metrics(y_train, pred_train_lr, title=\"LinearRegression Train\")\n",
    "print_regression_metrics(y_test, pred_test_lr, title=\"LinearRegression Test\")"
   ]
  },
  {
   "cell_type": "markdown",
   "metadata": {
    "slideshow": {
     "slide_type": "fragment"
    }
   },
   "source": [
    "##### Ridge 의 alpha값 변화에 따른 R square 확인"
   ]
  },
  {
   "cell_type": "code",
   "execution_count": 123,
   "metadata": {
    "ExecuteTime": {
     "end_time": "2021-11-22T07:34:01.586900Z",
     "start_time": "2021-11-22T07:34:01.559005Z"
    },
    "slideshow": {
     "slide_type": "fragment"
    }
   },
   "outputs": [],
   "source": [
    "ridge_train_metrics_list = []\n",
    "ridge_test_metrics_list = []\n",
    "\n",
    "for alpha in alpha_list:\n",
    "    # model\n",
    "    ridge = Ridge(alpha=alpha, random_state=0)\n",
    "    \n",
    "    # train\n",
    "    ridge.fit(X_train_scaled_poly, y_train)\n",
    "    \n",
    "    # predict\n",
    "    pred_train = ridge.predict(X_train_scaled_poly)\n",
    "    pred_test = ridge.predict(X_test_scaled_poly)\n",
    "    \n",
    "    # evaluate (result(r2 score)를 list에 추가)\n",
    "    ridge_train_metrics_list.append(r2_score(y_train, pred_train))\n",
    "    ridge_test_metrics_list.append(r2_score(y_test, pred_test))"
   ]
  },
  {
   "cell_type": "code",
   "execution_count": 124,
   "metadata": {
    "ExecuteTime": {
     "end_time": "2021-11-22T07:34:02.572011Z",
     "start_time": "2021-11-22T07:34:02.567029Z"
    },
    "slideshow": {
     "slide_type": "fragment"
    }
   },
   "outputs": [],
   "source": [
    "ridge_result = pd.DataFrame({\n",
    "    \"alpha\":alpha_list,\n",
    "    \"train\":ridge_train_metrics_list,\n",
    "    \"test\":ridge_test_metrics_list\n",
    "})"
   ]
  },
  {
   "cell_type": "code",
   "execution_count": 125,
   "metadata": {
    "ExecuteTime": {
     "end_time": "2021-11-22T07:34:04.504998Z",
     "start_time": "2021-11-22T07:34:04.487028Z"
    },
    "slideshow": {
     "slide_type": "fragment"
    }
   },
   "outputs": [
    {
     "data": {
      "text/html": [
       "<div>\n",
       "<style scoped>\n",
       "    .dataframe tbody tr th:only-of-type {\n",
       "        vertical-align: middle;\n",
       "    }\n",
       "\n",
       "    .dataframe tbody tr th {\n",
       "        vertical-align: top;\n",
       "    }\n",
       "\n",
       "    .dataframe thead th {\n",
       "        text-align: right;\n",
       "    }\n",
       "</style>\n",
       "<table border=\"1\" class=\"dataframe\">\n",
       "  <thead>\n",
       "    <tr style=\"text-align: right;\">\n",
       "      <th></th>\n",
       "      <th>alpha</th>\n",
       "      <th>train</th>\n",
       "      <th>test</th>\n",
       "    </tr>\n",
       "  </thead>\n",
       "  <tbody>\n",
       "    <tr>\n",
       "      <th>0</th>\n",
       "      <td>0.00</td>\n",
       "      <td>0.899412</td>\n",
       "      <td>0.489710</td>\n",
       "    </tr>\n",
       "    <tr>\n",
       "      <th>1</th>\n",
       "      <td>0.01</td>\n",
       "      <td>0.951620</td>\n",
       "      <td>0.616821</td>\n",
       "    </tr>\n",
       "    <tr>\n",
       "      <th>2</th>\n",
       "      <td>0.10</td>\n",
       "      <td>0.951047</td>\n",
       "      <td>0.625563</td>\n",
       "    </tr>\n",
       "    <tr>\n",
       "      <th>3</th>\n",
       "      <td>1.00</td>\n",
       "      <td>0.948250</td>\n",
       "      <td>0.647907</td>\n",
       "    </tr>\n",
       "    <tr>\n",
       "      <th>4</th>\n",
       "      <td>10.00</td>\n",
       "      <td>0.938756</td>\n",
       "      <td>0.742694</td>\n",
       "    </tr>\n",
       "    <tr>\n",
       "      <th>5</th>\n",
       "      <td>100.00</td>\n",
       "      <td>0.902752</td>\n",
       "      <td>0.760789</td>\n",
       "    </tr>\n",
       "    <tr>\n",
       "      <th>6</th>\n",
       "      <td>200.00</td>\n",
       "      <td>0.873392</td>\n",
       "      <td>0.732392</td>\n",
       "    </tr>\n",
       "    <tr>\n",
       "      <th>7</th>\n",
       "      <td>500.00</td>\n",
       "      <td>0.810367</td>\n",
       "      <td>0.668169</td>\n",
       "    </tr>\n",
       "    <tr>\n",
       "      <th>8</th>\n",
       "      <td>1000.00</td>\n",
       "      <td>0.740547</td>\n",
       "      <td>0.601979</td>\n",
       "    </tr>\n",
       "  </tbody>\n",
       "</table>\n",
       "</div>"
      ],
      "text/plain": [
       "     alpha     train      test\n",
       "0     0.00  0.899412  0.489710\n",
       "1     0.01  0.951620  0.616821\n",
       "2     0.10  0.951047  0.625563\n",
       "3     1.00  0.948250  0.647907\n",
       "4    10.00  0.938756  0.742694\n",
       "5   100.00  0.902752  0.760789\n",
       "6   200.00  0.873392  0.732392\n",
       "7   500.00  0.810367  0.668169\n",
       "8  1000.00  0.740547  0.601979"
      ]
     },
     "execution_count": 125,
     "metadata": {},
     "output_type": "execute_result"
    }
   ],
   "source": [
    "ridge_result"
   ]
  },
  {
   "cell_type": "markdown",
   "metadata": {
    "slideshow": {
     "slide_type": "slide"
    }
   },
   "source": [
    "##### lasso 의 alpha값 변화에 따른 R square 확인"
   ]
  },
  {
   "cell_type": "code",
   "execution_count": 126,
   "metadata": {
    "ExecuteTime": {
     "end_time": "2021-11-22T07:35:31.176471Z",
     "start_time": "2021-11-22T07:35:31.111796Z"
    },
    "slideshow": {
     "slide_type": "fragment"
    }
   },
   "outputs": [
    {
     "name": "stderr",
     "output_type": "stream",
     "text": [
      "C:\\Users\\user\\AppData\\Local\\Temp/ipykernel_12016/2644304948.py:7: UserWarning: With alpha=0, this algorithm does not converge well. You are advised to use the LinearRegression estimator\n",
      "  lasso.fit(X_train_scaled_poly, y_train)\n",
      "C:\\Users\\user\\anaconda3\\envs\\ml\\lib\\site-packages\\sklearn\\linear_model\\_coordinate_descent.py:647: UserWarning: Coordinate descent with no regularization may lead to unexpected results and is discouraged.\n",
      "  model = cd_fast.enet_coordinate_descent(\n",
      "C:\\Users\\user\\anaconda3\\envs\\ml\\lib\\site-packages\\sklearn\\linear_model\\_coordinate_descent.py:647: ConvergenceWarning: Objective did not converge. You might want to increase the number of iterations, check the scale of the features or consider increasing regularisation. Duality gap: 7.944e+02, tolerance: 3.233e+00 Linear regression models with null weight for the l1 regularization term are more efficiently fitted using one of the solvers implemented in sklearn.linear_model.Ridge/RidgeCV instead.\n",
      "  model = cd_fast.enet_coordinate_descent(\n"
     ]
    }
   ],
   "source": [
    "lasso_train_metrics_list = []\n",
    "lasso_test_metrics_list = []\n",
    "\n",
    "for alpha in alpha_list:\n",
    "    lasso = Lasso(alpha=alpha, random_state=0)\n",
    "    \n",
    "    lasso.fit(X_train_scaled_poly, y_train)\n",
    "    \n",
    "    pred_train = lasso.predict(X_train_scaled_poly)\n",
    "    pred_test = lasso.predict(X_test_scaled_poly)\n",
    "    \n",
    "    lasso_train_metrics_list.append(r2_score(y_train, pred_train))\n",
    "    lasso_test_metrics_list.append(r2_score(y_test, pred_test))"
   ]
  },
  {
   "cell_type": "code",
   "execution_count": 127,
   "metadata": {
    "ExecuteTime": {
     "end_time": "2021-11-22T07:35:32.989172Z",
     "start_time": "2021-11-22T07:35:32.983191Z"
    },
    "slideshow": {
     "slide_type": "fragment"
    }
   },
   "outputs": [],
   "source": [
    "lasso_result = pd.DataFrame({\n",
    "    \"alpha\":alpha_list,\n",
    "    \"train\":lasso_train_metrics_list,\n",
    "    \"test\":lasso_test_metrics_list\n",
    "})"
   ]
  },
  {
   "cell_type": "code",
   "execution_count": 128,
   "metadata": {
    "ExecuteTime": {
     "end_time": "2021-11-22T07:35:34.028261Z",
     "start_time": "2021-11-22T07:35:34.006202Z"
    },
    "slideshow": {
     "slide_type": "fragment"
    }
   },
   "outputs": [
    {
     "data": {
      "text/html": [
       "<div>\n",
       "<style scoped>\n",
       "    .dataframe tbody tr th:only-of-type {\n",
       "        vertical-align: middle;\n",
       "    }\n",
       "\n",
       "    .dataframe tbody tr th {\n",
       "        vertical-align: top;\n",
       "    }\n",
       "\n",
       "    .dataframe thead th {\n",
       "        text-align: right;\n",
       "    }\n",
       "</style>\n",
       "<table border=\"1\" class=\"dataframe\">\n",
       "  <thead>\n",
       "    <tr style=\"text-align: right;\">\n",
       "      <th></th>\n",
       "      <th>alpha</th>\n",
       "      <th>train</th>\n",
       "      <th>test</th>\n",
       "    </tr>\n",
       "  </thead>\n",
       "  <tbody>\n",
       "    <tr>\n",
       "      <th>0</th>\n",
       "      <td>0.00</td>\n",
       "      <td>0.950860</td>\n",
       "      <td>0.627938</td>\n",
       "    </tr>\n",
       "    <tr>\n",
       "      <th>1</th>\n",
       "      <td>0.01</td>\n",
       "      <td>0.944941</td>\n",
       "      <td>0.686941</td>\n",
       "    </tr>\n",
       "    <tr>\n",
       "      <th>2</th>\n",
       "      <td>0.10</td>\n",
       "      <td>0.910694</td>\n",
       "      <td>0.776982</td>\n",
       "    </tr>\n",
       "    <tr>\n",
       "      <th>3</th>\n",
       "      <td>1.00</td>\n",
       "      <td>0.802262</td>\n",
       "      <td>0.695405</td>\n",
       "    </tr>\n",
       "    <tr>\n",
       "      <th>4</th>\n",
       "      <td>10.00</td>\n",
       "      <td>0.008723</td>\n",
       "      <td>0.009718</td>\n",
       "    </tr>\n",
       "    <tr>\n",
       "      <th>5</th>\n",
       "      <td>100.00</td>\n",
       "      <td>0.000000</td>\n",
       "      <td>-0.001119</td>\n",
       "    </tr>\n",
       "    <tr>\n",
       "      <th>6</th>\n",
       "      <td>200.00</td>\n",
       "      <td>0.000000</td>\n",
       "      <td>-0.001119</td>\n",
       "    </tr>\n",
       "    <tr>\n",
       "      <th>7</th>\n",
       "      <td>500.00</td>\n",
       "      <td>0.000000</td>\n",
       "      <td>-0.001119</td>\n",
       "    </tr>\n",
       "    <tr>\n",
       "      <th>8</th>\n",
       "      <td>1000.00</td>\n",
       "      <td>0.000000</td>\n",
       "      <td>-0.001119</td>\n",
       "    </tr>\n",
       "  </tbody>\n",
       "</table>\n",
       "</div>"
      ],
      "text/plain": [
       "     alpha     train      test\n",
       "0     0.00  0.950860  0.627938\n",
       "1     0.01  0.944941  0.686941\n",
       "2     0.10  0.910694  0.776982\n",
       "3     1.00  0.802262  0.695405\n",
       "4    10.00  0.008723  0.009718\n",
       "5   100.00  0.000000 -0.001119\n",
       "6   200.00  0.000000 -0.001119\n",
       "7   500.00  0.000000 -0.001119\n",
       "8  1000.00  0.000000 -0.001119"
      ]
     },
     "execution_count": 128,
     "metadata": {},
     "output_type": "execute_result"
    }
   ],
   "source": [
    "lasso_result"
   ]
  },
  {
   "cell_type": "markdown",
   "metadata": {
    "slideshow": {
     "slide_type": "slide"
    }
   },
   "source": [
    "## ElasticNet(엘라스틱넷)\n",
    "- 릿지와 라쏘를 절충한 모델.\n",
    "- 규제항에 릿지, 라쏘 규제항을 더해서 추가한다. \n",
    "- 혼합비율 $r$을 사용해 혼합정도를 조절\n",
    "- $r=0$이면 릿지와 같고 $r=1$이면 라쏘와 같다.\n",
    "\n",
    "$$\n",
    "\\text{손실함수}(w) = \\text{MSE}(w) + r\\alpha \\sum_{i=1}^{n}{\\left| w_i \\right|}  + \\cfrac{1-r}{2}\\alpha\\sum_{i=1}^{n}{w_{i}^{2}}\n",
    "$$"
   ]
  },
  {
   "cell_type": "code",
   "execution_count": 134,
   "metadata": {
    "ExecuteTime": {
     "end_time": "2021-11-22T07:41:05.103093Z",
     "start_time": "2021-11-22T07:41:05.095114Z"
    },
    "slideshow": {
     "slide_type": "slide"
    }
   },
   "outputs": [
    {
     "name": "stdout",
     "output_type": "stream",
     "text": [
      "ElasticNet alpha 0.1: Train\n",
      "MSE: 20.128961453751398, RMSE: 4.486531115879104, R2: 0.7640443348955887\n",
      "----------------------------------------------------------------------------------------------------\n",
      "ElasticNet alpha 0.1: Trest\n",
      "MSE: 31.441232021951834, RMSE: 5.607248168393462, R2: 0.6151577610405823\n",
      "----------------------------------------------------------------------------------------------------\n"
     ]
    }
   ],
   "source": [
    "from sklearn.linear_model import ElasticNet\n",
    "\n",
    "elastic = ElasticNet(alpha=0.1, l1_ratio=0.6) #alpha 페날티, l1_ratio: 비율(라쏘쪽. 위의것으로 보면 앞의것의 r 지정.)\n",
    "elastic.fit(X_train_scaled, y_train)\n",
    "\n",
    "pred_train = elastic.predict(X_train_scaled)\n",
    "pred_test = elastic.predict(X_test_scaled)\n",
    "\n",
    "print_regression_metrics(y_train, pred_train, title='ElasticNet alpha 0.1: Train')\n",
    "print_regression_metrics(y_test, pred_test, title=\"ElasticNet alpha 0.1: Trest\")"
   ]
  },
  {
   "cell_type": "markdown",
   "metadata": {
    "slideshow": {
     "slide_type": "slide"
    }
   },
   "source": [
    "# 정리\n",
    "- 일반적으로 선형회귀의 경우 어느정도 규제가 있는 경우가 성능이 좋다.\n",
    "- 기본적으로 **Ridge**를 사용한다.\n",
    "- Target에 영향을 주는 Feature가 몇 개뿐일 경우 특성의 가중치를 0으로 만들어 주는 **Lasso** 사용한다. \n",
    "- 특성 수가 학습 샘플 수 보다 많거나 feature간에 연관성이 높을 때는 **ElasticNet**을 사용한다."
   ]
  }
 ],
 "metadata": {
  "kernelspec": {
   "display_name": "Python 3 (ipykernel)",
   "language": "python",
   "name": "python3"
  },
  "language_info": {
   "codemirror_mode": {
    "name": "ipython",
    "version": 3
   },
   "file_extension": ".py",
   "mimetype": "text/x-python",
   "name": "python",
   "nbconvert_exporter": "python",
   "pygments_lexer": "ipython3",
   "version": "3.8.12"
  },
  "toc": {
   "base_numbering": 1,
   "nav_menu": {},
   "number_sections": false,
   "sideBar": true,
   "skip_h1_title": false,
   "title_cell": "Table of Contents",
   "title_sidebar": "Contents",
   "toc_cell": false,
   "toc_position": {},
   "toc_section_display": true,
   "toc_window_display": false
  },
  "varInspector": {
   "cols": {
    "lenName": 16,
    "lenType": 16,
    "lenVar": 40
   },
   "kernels_config": {
    "python": {
     "delete_cmd_postfix": "",
     "delete_cmd_prefix": "del ",
     "library": "var_list.py",
     "varRefreshCmd": "print(var_dic_list())"
    },
    "r": {
     "delete_cmd_postfix": ") ",
     "delete_cmd_prefix": "rm(",
     "library": "var_list.r",
     "varRefreshCmd": "cat(var_dic_list()) "
    }
   },
   "types_to_exclude": [
    "module",
    "function",
    "builtin_function_or_method",
    "instance",
    "_Feature"
   ],
   "window_display": false
  }
 },
 "nbformat": 4,
 "nbformat_minor": 2
}
