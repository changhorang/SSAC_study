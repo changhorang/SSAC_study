{
 "cells": [
  {
   "cell_type": "code",
   "execution_count": 1,
   "metadata": {},
   "outputs": [
    {
     "name": "stdout",
     "output_type": "stream",
     "text": [
      "(150,)\n"
     ]
    }
   ],
   "source": [
    "import numpy as np\n",
    "import pandas as pd\n",
    "from sklearn.datasets import load_iris\n",
    "from sklearn.preprocessing import MinMaxScaler\n",
    "from sklearn.cluster import KMeans\n",
    "\n",
    "data = load_iris()\n",
    "X = data.data\n",
    "y = data.target\n",
    "\n",
    "scaler = MinMaxScaler()\n",
    "X_scaled = scaler.fit_transform(X)\n",
    "\n",
    "kmeans = KMeans(n_clusters=3, random_state=0)\n",
    "kmeans.fit(X_scaled)\n",
    "\n",
    "print(kmeans.labels_.shape)"
   ]
  },
  {
   "cell_type": "code",
   "execution_count": 2,
   "metadata": {},
   "outputs": [
    {
     "data": {
      "text/plain": [
       "array([0, 0, 0, 0, 0, 0, 0, 0, 0, 0, 0, 0, 0, 0, 0, 0, 0, 0, 0, 0, 0, 0,\n",
       "       0, 0, 0, 0, 0, 0, 0, 0, 0, 0, 0, 0, 0, 0, 0, 0, 0, 0, 0, 0, 0, 0,\n",
       "       0, 0, 0, 0, 0, 0, 2, 1, 2, 1, 1, 1, 1, 1, 1, 1, 1, 1, 1, 1, 1, 1,\n",
       "       1, 1, 1, 1, 1, 1, 1, 1, 1, 1, 1, 2, 1, 1, 1, 1, 1, 1, 1, 1, 1, 1,\n",
       "       1, 1, 1, 1, 1, 1, 1, 1, 1, 1, 1, 1, 2, 1, 2, 2, 2, 2, 1, 2, 2, 2,\n",
       "       2, 2, 2, 1, 2, 2, 2, 2, 2, 1, 2, 1, 2, 1, 2, 2, 1, 1, 2, 2, 2, 2,\n",
       "       2, 1, 1, 2, 2, 2, 1, 2, 2, 2, 1, 2, 2, 2, 1, 2, 2, 1])"
      ]
     },
     "execution_count": 2,
     "metadata": {},
     "output_type": "execute_result"
    }
   ],
   "source": [
    "cluster = kmeans.labels_\n",
    "cluster"
   ]
  },
  {
   "cell_type": "code",
   "execution_count": 3,
   "metadata": {},
   "outputs": [
    {
     "data": {
      "text/html": [
       "<div>\n",
       "<style scoped>\n",
       "    .dataframe tbody tr th:only-of-type {\n",
       "        vertical-align: middle;\n",
       "    }\n",
       "\n",
       "    .dataframe tbody tr th {\n",
       "        vertical-align: top;\n",
       "    }\n",
       "\n",
       "    .dataframe thead th {\n",
       "        text-align: right;\n",
       "    }\n",
       "</style>\n",
       "<table border=\"1\" class=\"dataframe\">\n",
       "  <thead>\n",
       "    <tr style=\"text-align: right;\">\n",
       "      <th></th>\n",
       "      <th>sepal length (cm)</th>\n",
       "      <th>sepal width (cm)</th>\n",
       "      <th>petal length (cm)</th>\n",
       "      <th>petal width (cm)</th>\n",
       "      <th>cluster</th>\n",
       "      <th>y</th>\n",
       "    </tr>\n",
       "  </thead>\n",
       "  <tbody>\n",
       "    <tr>\n",
       "      <th>0</th>\n",
       "      <td>5.1</td>\n",
       "      <td>3.5</td>\n",
       "      <td>1.4</td>\n",
       "      <td>0.2</td>\n",
       "      <td>0</td>\n",
       "      <td>0</td>\n",
       "    </tr>\n",
       "    <tr>\n",
       "      <th>1</th>\n",
       "      <td>4.9</td>\n",
       "      <td>3.0</td>\n",
       "      <td>1.4</td>\n",
       "      <td>0.2</td>\n",
       "      <td>0</td>\n",
       "      <td>0</td>\n",
       "    </tr>\n",
       "    <tr>\n",
       "      <th>2</th>\n",
       "      <td>4.7</td>\n",
       "      <td>3.2</td>\n",
       "      <td>1.3</td>\n",
       "      <td>0.2</td>\n",
       "      <td>0</td>\n",
       "      <td>0</td>\n",
       "    </tr>\n",
       "    <tr>\n",
       "      <th>3</th>\n",
       "      <td>4.6</td>\n",
       "      <td>3.1</td>\n",
       "      <td>1.5</td>\n",
       "      <td>0.2</td>\n",
       "      <td>0</td>\n",
       "      <td>0</td>\n",
       "    </tr>\n",
       "    <tr>\n",
       "      <th>4</th>\n",
       "      <td>5.0</td>\n",
       "      <td>3.6</td>\n",
       "      <td>1.4</td>\n",
       "      <td>0.2</td>\n",
       "      <td>0</td>\n",
       "      <td>0</td>\n",
       "    </tr>\n",
       "  </tbody>\n",
       "</table>\n",
       "</div>"
      ],
      "text/plain": [
       "   sepal length (cm)  sepal width (cm)  petal length (cm)  petal width (cm)  \\\n",
       "0                5.1               3.5                1.4               0.2   \n",
       "1                4.9               3.0                1.4               0.2   \n",
       "2                4.7               3.2                1.3               0.2   \n",
       "3                4.6               3.1                1.5               0.2   \n",
       "4                5.0               3.6                1.4               0.2   \n",
       "\n",
       "   cluster  y  \n",
       "0        0  0  \n",
       "1        0  0  \n",
       "2        0  0  \n",
       "3        0  0  \n",
       "4        0  0  "
      ]
     },
     "execution_count": 3,
     "metadata": {},
     "output_type": "execute_result"
    }
   ],
   "source": [
    "df = pd.DataFrame(X, columns=data.feature_names)\n",
    "df['cluster'] = cluster\n",
    "df['y'] = y\n",
    "\n",
    "df.head()"
   ]
  },
  {
   "cell_type": "code",
   "execution_count": 4,
   "metadata": {},
   "outputs": [
    {
     "data": {
      "text/plain": [
       "1    61\n",
       "0    50\n",
       "2    39\n",
       "Name: cluster, dtype: int64"
      ]
     },
     "execution_count": 4,
     "metadata": {},
     "output_type": "execute_result"
    }
   ],
   "source": [
    "df.cluster.value_counts()"
   ]
  },
  {
   "cell_type": "code",
   "execution_count": 5,
   "metadata": {},
   "outputs": [
    {
     "data": {
      "text/plain": [
       "6.982216473785234"
      ]
     },
     "execution_count": 5,
     "metadata": {},
     "output_type": "execute_result"
    }
   ],
   "source": [
    "kmeans.inertia_"
   ]
  },
  {
   "cell_type": "code",
   "execution_count": 6,
   "metadata": {},
   "outputs": [
    {
     "name": "stderr",
     "output_type": "stream",
     "text": [
      "C:\\Users\\user\\anaconda3\\envs\\ml\\lib\\site-packages\\sklearn\\cluster\\_kmeans.py:1039: UserWarning: KMeans is known to have a memory leak on Windows with MKL, when there are less chunks than available threads. You can avoid it by setting the environment variable OMP_NUM_THREADS=1.\n",
      "  warnings.warn(\n"
     ]
    },
    {
     "data": {
      "text/plain": [
       "[41.166110421373276,\n",
       " 12.127790750538193,\n",
       " 6.982216473785234,\n",
       " 5.51693347204037,\n",
       " 4.5839407993119,\n",
       " 3.927817798222456,\n",
       " 3.4743786475096514]"
      ]
     },
     "execution_count": 6,
     "metadata": {},
     "output_type": "execute_result"
    }
   ],
   "source": [
    "k_list = range(1, 8)\n",
    "inertias = []\n",
    "\n",
    "for k in k_list:\n",
    "    model = KMeans(n_clusters=k)\n",
    "    model.fit(X_scaled)\n",
    "    inertias.append(model.inertia_)\n",
    "\n",
    "inertias"
   ]
  },
  {
   "cell_type": "code",
   "execution_count": 7,
   "metadata": {},
   "outputs": [
    {
     "data": {
      "image/png": "[encoded data removed]",
      "text/plain": [
       "<Figure size 504x432 with 1 Axes>"
      ]
     },
     "metadata": {
      "needs_background": "light"
     },
     "output_type": "display_data"
    }
   ],
   "source": [
    "import matplotlib.pyplot as plt\n",
    "plt.figure(figsize=(7, 6))\n",
    "plt.plot(k_list, inertias)\n",
    "plt.xticks(k_list)\n",
    "plt.grid()\n",
    "plt.show()"
   ]
  },
  {
   "cell_type": "code",
   "execution_count": 9,
   "metadata": {},
   "outputs": [
    {
     "data": {
      "text/plain": [
       "(array([0.79347482, 0.70973136, 0.76237793, 0.7257315 , 0.78692945,\n",
       "        0.66218237, 0.75897165, 0.79472986, 0.64055474, 0.73946025,\n",
       "        0.73540441, 0.78351441, 0.71021692, 0.66415815, 0.61666756,\n",
       "        0.51541913, 0.67837458, 0.78627881, 0.64045393, 0.73938586,\n",
       "        0.73093854, 0.74178509, 0.74912282, 0.6942033 , 0.75594482,\n",
       "        0.69395379, 0.75844053, 0.78218394, 0.7814923 , 0.75396065,\n",
       "        0.73568776, 0.71236073, 0.66264862, 0.61371799, 0.74185844,\n",
       "        0.76558606, 0.73110902, 0.77878285, 0.67602776, 0.78997325,\n",
       "        0.78917531, 0.38986402, 0.72009413, 0.68367323, 0.69302485,\n",
       "        0.69705284, 0.74154706, 0.7509303 , 0.75022163, 0.78650903,\n",
       "        0.01476308, 0.22682044, 0.0650627 , 0.55303568, 0.31937392,\n",
       "        0.58661177, 0.11211165, 0.31387513, 0.32766896, 0.5545476 ,\n",
       "        0.36363269, 0.50206024, 0.49945109, 0.4818992 , 0.56297865,\n",
       "        0.19869893, 0.5027267 , 0.57609779, 0.40970738, 0.58933932,\n",
       "        0.15428253, 0.55664059, 0.3776135 , 0.52022403, 0.44562702,\n",
       "        0.28920521, 0.17034564, 0.14832896, 0.49870943, 0.50861781,\n",
       "        0.56903958, 0.51663371, 0.60242779, 0.37891028, 0.49322313,\n",
       "        0.21179857, 0.06784019, 0.45532345, 0.55665396, 0.59014969,\n",
       "        0.590536  , 0.46238715, 0.60251761, 0.34551778, 0.60692936,\n",
       "        0.55602968, 0.5852743 , 0.51171406, 0.3336235 , 0.60347114,\n",
       "        0.46897874, 0.22686175, 0.56633432, 0.15531548, 0.50891028,\n",
       "        0.51555092, 0.42993014, 0.46114091, 0.18072241, 0.50786017,\n",
       "        0.37399463, 0.11969686, 0.53462843, 0.22613241, 0.12890362,\n",
       "        0.46512388, 0.2849203 , 0.44714346, 0.43367406, 0.3949084 ,\n",
       "        0.58439132, 0.2149912 , 0.46055373, 0.14451492, 0.53607222,\n",
       "        0.48689005, 0.19412257, 0.13408377, 0.36533949, 0.35664623,\n",
       "        0.46718307, 0.4198932 , 0.39590585, 0.30402226, 0.31843682,\n",
       "        0.51942075, 0.45250761, 0.26172439, 0.21167645, 0.5458538 ,\n",
       "        0.55285186, 0.52038649, 0.22686175, 0.58208661, 0.53658431,\n",
       "        0.5019764 , 0.08745778, 0.365267  , 0.39819986, 0.17273361]),\n",
       " (150,),\n",
       " 0.5047687565398589)"
      ]
     },
     "execution_count": 9,
     "metadata": {},
     "output_type": "execute_result"
    }
   ],
   "source": [
    "from sklearn.metrics import silhouette_score, silhouette_samples\n",
    "\n",
    "silhouette_coef = silhouette_samples(X_scaled, cluster)\n",
    "silhouette_coef, silhouette_coef.shape, silhouette_coef.mean()"
   ]
  },
  {
   "cell_type": "code",
   "execution_count": 10,
   "metadata": {},
   "outputs": [
    {
     "data": {
      "text/plain": [
       "0.5047687565398589"
      ]
     },
     "execution_count": 10,
     "metadata": {},
     "output_type": "execute_result"
    }
   ],
   "source": [
    "score = silhouette_score(X_scaled, cluster)\n",
    "score"
   ]
  },
  {
   "cell_type": "code",
   "execution_count": 11,
   "metadata": {},
   "outputs": [
    {
     "data": {
      "text/html": [
       "<div>\n",
       "<style scoped>\n",
       "    .dataframe tbody tr th:only-of-type {\n",
       "        vertical-align: middle;\n",
       "    }\n",
       "\n",
       "    .dataframe tbody tr th {\n",
       "        vertical-align: top;\n",
       "    }\n",
       "\n",
       "    .dataframe thead th {\n",
       "        text-align: right;\n",
       "    }\n",
       "</style>\n",
       "<table border=\"1\" class=\"dataframe\">\n",
       "  <thead>\n",
       "    <tr style=\"text-align: right;\">\n",
       "      <th></th>\n",
       "      <th>sepal length (cm)</th>\n",
       "      <th>sepal width (cm)</th>\n",
       "      <th>petal length (cm)</th>\n",
       "      <th>petal width (cm)</th>\n",
       "      <th>cluster</th>\n",
       "      <th>y</th>\n",
       "      <th>silhouette_coef</th>\n",
       "    </tr>\n",
       "  </thead>\n",
       "  <tbody>\n",
       "    <tr>\n",
       "      <th>0</th>\n",
       "      <td>5.1</td>\n",
       "      <td>3.5</td>\n",
       "      <td>1.4</td>\n",
       "      <td>0.2</td>\n",
       "      <td>0</td>\n",
       "      <td>0</td>\n",
       "      <td>0.793475</td>\n",
       "    </tr>\n",
       "    <tr>\n",
       "      <th>1</th>\n",
       "      <td>4.9</td>\n",
       "      <td>3.0</td>\n",
       "      <td>1.4</td>\n",
       "      <td>0.2</td>\n",
       "      <td>0</td>\n",
       "      <td>0</td>\n",
       "      <td>0.709731</td>\n",
       "    </tr>\n",
       "    <tr>\n",
       "      <th>2</th>\n",
       "      <td>4.7</td>\n",
       "      <td>3.2</td>\n",
       "      <td>1.3</td>\n",
       "      <td>0.2</td>\n",
       "      <td>0</td>\n",
       "      <td>0</td>\n",
       "      <td>0.762378</td>\n",
       "    </tr>\n",
       "    <tr>\n",
       "      <th>3</th>\n",
       "      <td>4.6</td>\n",
       "      <td>3.1</td>\n",
       "      <td>1.5</td>\n",
       "      <td>0.2</td>\n",
       "      <td>0</td>\n",
       "      <td>0</td>\n",
       "      <td>0.725732</td>\n",
       "    </tr>\n",
       "    <tr>\n",
       "      <th>4</th>\n",
       "      <td>5.0</td>\n",
       "      <td>3.6</td>\n",
       "      <td>1.4</td>\n",
       "      <td>0.2</td>\n",
       "      <td>0</td>\n",
       "      <td>0</td>\n",
       "      <td>0.786929</td>\n",
       "    </tr>\n",
       "  </tbody>\n",
       "</table>\n",
       "</div>"
      ],
      "text/plain": [
       "   sepal length (cm)  sepal width (cm)  petal length (cm)  petal width (cm)  \\\n",
       "0                5.1               3.5                1.4               0.2   \n",
       "1                4.9               3.0                1.4               0.2   \n",
       "2                4.7               3.2                1.3               0.2   \n",
       "3                4.6               3.1                1.5               0.2   \n",
       "4                5.0               3.6                1.4               0.2   \n",
       "\n",
       "   cluster  y  silhouette_coef  \n",
       "0        0  0         0.793475  \n",
       "1        0  0         0.709731  \n",
       "2        0  0         0.762378  \n",
       "3        0  0         0.725732  \n",
       "4        0  0         0.786929  "
      ]
     },
     "execution_count": 11,
     "metadata": {},
     "output_type": "execute_result"
    }
   ],
   "source": [
    "df['silhouette_coef'] = silhouette_coef\n",
    "df.head()"
   ]
  },
  {
   "cell_type": "code",
   "execution_count": 12,
   "metadata": {},
   "outputs": [
    {
     "data": {
      "text/html": [
       "<div>\n",
       "<style scoped>\n",
       "    .dataframe tbody tr th:only-of-type {\n",
       "        vertical-align: middle;\n",
       "    }\n",
       "\n",
       "    .dataframe tbody tr th {\n",
       "        vertical-align: top;\n",
       "    }\n",
       "\n",
       "    .dataframe thead th {\n",
       "        text-align: right;\n",
       "    }\n",
       "</style>\n",
       "<table border=\"1\" class=\"dataframe\">\n",
       "  <thead>\n",
       "    <tr style=\"text-align: right;\">\n",
       "      <th></th>\n",
       "      <th>sepal length (cm)</th>\n",
       "      <th>sepal width (cm)</th>\n",
       "      <th>petal length (cm)</th>\n",
       "      <th>petal width (cm)</th>\n",
       "      <th>cluster</th>\n",
       "      <th>y</th>\n",
       "      <th>silhouette_coef</th>\n",
       "    </tr>\n",
       "  </thead>\n",
       "  <tbody>\n",
       "    <tr>\n",
       "      <th>145</th>\n",
       "      <td>6.7</td>\n",
       "      <td>3.0</td>\n",
       "      <td>5.2</td>\n",
       "      <td>2.3</td>\n",
       "      <td>2</td>\n",
       "      <td>2</td>\n",
       "      <td>0.501976</td>\n",
       "    </tr>\n",
       "    <tr>\n",
       "      <th>146</th>\n",
       "      <td>6.3</td>\n",
       "      <td>2.5</td>\n",
       "      <td>5.0</td>\n",
       "      <td>1.9</td>\n",
       "      <td>1</td>\n",
       "      <td>2</td>\n",
       "      <td>0.087458</td>\n",
       "    </tr>\n",
       "    <tr>\n",
       "      <th>147</th>\n",
       "      <td>6.5</td>\n",
       "      <td>3.0</td>\n",
       "      <td>5.2</td>\n",
       "      <td>2.0</td>\n",
       "      <td>2</td>\n",
       "      <td>2</td>\n",
       "      <td>0.365267</td>\n",
       "    </tr>\n",
       "    <tr>\n",
       "      <th>148</th>\n",
       "      <td>6.2</td>\n",
       "      <td>3.4</td>\n",
       "      <td>5.4</td>\n",
       "      <td>2.3</td>\n",
       "      <td>2</td>\n",
       "      <td>2</td>\n",
       "      <td>0.398200</td>\n",
       "    </tr>\n",
       "    <tr>\n",
       "      <th>149</th>\n",
       "      <td>5.9</td>\n",
       "      <td>3.0</td>\n",
       "      <td>5.1</td>\n",
       "      <td>1.8</td>\n",
       "      <td>1</td>\n",
       "      <td>2</td>\n",
       "      <td>0.172734</td>\n",
       "    </tr>\n",
       "  </tbody>\n",
       "</table>\n",
       "</div>"
      ],
      "text/plain": [
       "     sepal length (cm)  sepal width (cm)  petal length (cm)  petal width (cm)  \\\n",
       "145                6.7               3.0                5.2               2.3   \n",
       "146                6.3               2.5                5.0               1.9   \n",
       "147                6.5               3.0                5.2               2.0   \n",
       "148                6.2               3.4                5.4               2.3   \n",
       "149                5.9               3.0                5.1               1.8   \n",
       "\n",
       "     cluster  y  silhouette_coef  \n",
       "145        2  2         0.501976  \n",
       "146        1  2         0.087458  \n",
       "147        2  2         0.365267  \n",
       "148        2  2         0.398200  \n",
       "149        1  2         0.172734  "
      ]
     },
     "execution_count": 12,
     "metadata": {},
     "output_type": "execute_result"
    }
   ],
   "source": [
    "df.tail()"
   ]
  },
  {
   "cell_type": "code",
   "execution_count": 13,
   "metadata": {},
   "outputs": [],
   "source": [
    "import numpy as np\n",
    "import matplotlib.pyplot as plt\n",
    "import matplotlib as mpl\n",
    "# 한글 처리\n",
    "mpl.rcParams['font.family'] = 'malgun gothic'\n",
    "mpl.rcParams['axes.unicode_minus'] = False"
   ]
  },
  {
   "cell_type": "code",
   "execution_count": 16,
   "metadata": {},
   "outputs": [
    {
     "data": {
      "text/plain": [
       "Text(1, 4, '찾을 지점')"
      ]
     },
     "execution_count": 16,
     "metadata": {},
     "output_type": "execute_result"
    },
    {
     "data": {
      "image/png": "[encoded data removed]",
      "text/plain": [
       "<Figure size 504x432 with 1 Axes>"
      ]
     },
     "metadata": {
      "needs_background": "light"
     },
     "output_type": "display_data"
    }
   ],
   "source": [
    "def loss_func(weight):\n",
    "    return (weight-1)**2 +2\n",
    "\n",
    "plt.figure(figsize=(7, 6))\n",
    "weights = np.linspace(-3, 4, 100)\n",
    "plt.plot(weights, loss_func(weights))\n",
    "plt.plot(1, 2, 'ro', markersize=10)\n",
    "\n",
    "plt.annotate('찾을 지점', ha='center', va='bottom',\n",
    "            xytext=(1, loss_func(1)+2),\n",
    "            xy=(1, loss_func(1)),\n",
    "            arrowprops={\n",
    "                'facecolor' : 'green',\n",
    "                'edgecolor':'green',\n",
    "                'shrink' : 0.2, # 화살표 크기 조절\n",
    "                'alpha':0.5\n",
    "            })"
   ]
  },
  {
   "cell_type": "code",
   "execution_count": 1,
   "metadata": {},
   "outputs": [
    {
     "data": {
      "image/png": "[encoded data removed]",
      "text/plain": [
       "<Figure size 1080x504 with 1 Axes>"
      ]
     },
     "metadata": {
      "needs_background": "light"
     },
     "output_type": "display_data"
    }
   ],
   "source": [
    "import matplotlib.pyplot as plt\n",
    "import numpy as np\n",
    "\n",
    "xx = np.linspace(-10, 10, 100)\n",
    "sig = 1 / (1 + np.exp(-xx)) # logistic 함수를 이용해 계산한 값 (sigmoid)\n",
    "\n",
    "plt.figure(figsize=(15, 7))\n",
    "\n",
    "plt.plot(xx, xx, color='g', label='linear')\n",
    "plt.plot(xx, sig, color='b', linewidth=2, label=\"logistic\")\n",
    "\n",
    "plt.plot([-10, 10], [0, 0], color='k', linestyle='-')\n",
    "plt.plot([0, 0], [-0.1, 1.1], color='k', linestyle='-')\n",
    "plt.plot([-10, 10], [0.5, 0.5], color='r', linestyle=':', label='y=0.5')\n",
    "\n",
    "plt.xlabel(\"x\")\n",
    "plt.legend(bbox_to_anchor=(1, 1), fontsize=20)\n",
    "plt.xlim(-10, 10)\n",
    "plt.ylim(-0.1, 1.1)\n",
    "plt.grid(True)\n",
    "plt.show()"
   ]
  },
  {
   "cell_type": "code",
   "execution_count": 2,
   "metadata": {},
   "outputs": [
    {
     "data": {
      "image/png": "[encoded data removed]",
      "text/plain": [
       "<Figure size 432x288 with 1 Axes>"
      ]
     },
     "metadata": {
      "needs_background": "light"
     },
     "output_type": "display_data"
    }
   ],
   "source": [
    "X = np.linspace(0.0001, 1, 100)\n",
    "y = -np.log(X)\n",
    "\n",
    "plt.plot(X, y)\n",
    "plt.grid()"
   ]
  },
  {
   "cell_type": "code",
   "execution_count": 4,
   "metadata": {},
   "outputs": [],
   "source": [
    "from sklearn.datasets import load_breast_cancer\n",
    "from sklearn.preprocessing import StandardScaler\n",
    "from sklearn.model_selection import train_test_split, GridSearchCV\n",
    "\n",
    "from sklearn.linear_model import LogisticRegression\n",
    "from sklearn.metrics import accuracy_score, recall_score, precision_score, f1_score\n",
    "\n",
    "cancer = load_breast_cancer()\n",
    "X = cancer.data\n",
    "y = cancer.target\n",
    "\n",
    "X_train, X_test, y_train, y_test = train_test_split(X, y, stratify=y, random_state=0)\n",
    "\n",
    "scaler = StandardScaler()\n",
    "X_train_scaled = scaler.fit_transform(X_train)\n",
    "X_test_scaled = scaler.transform(X_test)\n",
    "\n",
    "def print_metrics(y, y_pred, title=None):\n",
    "    if title:\n",
    "        print(title)\n",
    "    print(f'정확도: {accuracy_score(y, y_pred)}, \\\n",
    "            재현율(recall): {recall_score(y, y_pred)}, \\\n",
    "            정밀도(precision): {precision_score(y, y_pred)}, \\\n",
    "            F1점수: {f1_score(y, y_pred)}')"
   ]
  },
  {
   "cell_type": "code",
   "execution_count": 5,
   "metadata": {},
   "outputs": [
    {
     "name": "stdout",
     "output_type": "stream",
     "text": [
      "정확도: 0.9906103286384976,             재현율(recall): 0.9962546816479401,             정밀도(precision): 0.9888475836431226,             F1점수: 0.9925373134328358\n",
      "정확도: 0.958041958041958,             재현율(recall): 0.9666666666666667,             정밀도(precision): 0.9666666666666667,             F1점수: 0.9666666666666667\n"
     ]
    }
   ],
   "source": [
    "lr = LogisticRegression()\n",
    "lr.fit(X_train_scaled, y_train)\n",
    "\n",
    "pred_train = lr.predict(X_train_scaled)\n",
    "pred_test = lr.predict(X_test_scaled)\n",
    "\n",
    "print_metrics(y_train, pred_train)\n",
    "print_metrics(y_test, pred_test)"
   ]
  },
  {
   "cell_type": "code",
   "execution_count": 6,
   "metadata": {},
   "outputs": [
    {
     "data": {
      "text/plain": [
       "{'C': 0.1}"
      ]
     },
     "execution_count": 6,
     "metadata": {},
     "output_type": "execute_result"
    }
   ],
   "source": [
    "parameter = {\n",
    "    'C': [0.001, 0.01, 0.1, 1.]\n",
    "}\n",
    "gs = GridSearchCV(LogisticRegression(random_state=1),\n",
    "                parameter, cv=5, scoring='accuracy', n_jobs=-1)\n",
    "\n",
    "gs.fit(X_train_scaled, y_train)\n",
    "gs.best_params_"
   ]
  },
  {
   "cell_type": "code",
   "execution_count": 7,
   "metadata": {},
   "outputs": [
    {
     "data": {
      "text/plain": [
       "0.958041958041958"
      ]
     },
     "execution_count": 7,
     "metadata": {},
     "output_type": "execute_result"
    }
   ],
   "source": [
    "best_model = gs.best_estimator_\n",
    "pred_test = best_model.predict(X_test_scaled)\n",
    "accuracy_score(y_test, pred_test)\n"
   ]
  },
  {
   "cell_type": "code",
   "execution_count": 1,
   "metadata": {},
   "outputs": [
    {
     "name": "stderr",
     "output_type": "stream",
     "text": [
      "C:\\Users\\user\\anaconda3\\envs\\ml\\lib\\site-packages\\sklearn\\utils\\deprecation.py:87: FutureWarning: Function load_boston is deprecated; `load_boston` is deprecated in 1.0 and will be removed in 1.2.\n",
      "\n",
      "    The Boston housing prices dataset has an ethical problem. You can refer to\n",
      "    the documentation of this function for further details.\n",
      "\n",
      "    The scikit-learn maintainers therefore strongly discourage the use of this\n",
      "    dataset unless the purpose of the code is to study and educate about\n",
      "    ethical issues in data science and machine learning.\n",
      "\n",
      "    In this special case, you can fetch the dataset from the original\n",
      "    source::\n",
      "\n",
      "        import pandas as pd\n",
      "        import numpy as np\n",
      "\n",
      "\n",
      "        data_url = \"http://lib.stat.cmu.edu/datasets/boston\"\n",
      "        raw_df = pd.read_csv(data_url, sep=\"\\s+\", skiprows=22, header=None)\n",
      "        data = np.hstack([raw_df.values[::2, :], raw_df.values[1::2, :2]])\n",
      "        target = raw_df.values[1::2, 2]\n",
      "\n",
      "    Alternative datasets include the California housing dataset (i.e.\n",
      "    :func:`~sklearn.datasets.fetch_california_housing`) and the Ames housing\n",
      "    dataset. You can load the datasets as follows::\n",
      "\n",
      "        from sklearn.datasets import fetch_california_housing\n",
      "        housing = fetch_california_housing()\n",
      "\n",
      "    for the California housing dataset and::\n",
      "\n",
      "        from sklearn.datasets import fetch_openml\n",
      "        housing = fetch_openml(name=\"house_prices\", as_frame=True)\n",
      "\n",
      "    for the Ames housing dataset.\n",
      "    \n",
      "  warnings.warn(msg, category=FutureWarning)\n"
     ]
    },
    {
     "data": {
      "text/plain": [
       "((506, 13), (506,))"
      ]
     },
     "execution_count": 1,
     "metadata": {},
     "output_type": "execute_result"
    }
   ],
   "source": [
    "import pandas as pd\n",
    "import numpy as np\n",
    "import matplotlib.pyplot as plt\n",
    "from sklearn.datasets import load_boston\n",
    "\n",
    "boston = load_boston()\n",
    "X, y = boston.data, boston.target\n",
    "\n",
    "X.shape, y.shape"
   ]
  },
  {
   "cell_type": "code",
   "execution_count": 2,
   "metadata": {},
   "outputs": [
    {
     "data": {
      "text/html": [
       "<div>\n",
       "<style scoped>\n",
       "    .dataframe tbody tr th:only-of-type {\n",
       "        vertical-align: middle;\n",
       "    }\n",
       "\n",
       "    .dataframe tbody tr th {\n",
       "        vertical-align: top;\n",
       "    }\n",
       "\n",
       "    .dataframe thead th {\n",
       "        text-align: right;\n",
       "    }\n",
       "</style>\n",
       "<table border=\"1\" class=\"dataframe\">\n",
       "  <thead>\n",
       "    <tr style=\"text-align: right;\">\n",
       "      <th></th>\n",
       "      <th>CRIM</th>\n",
       "      <th>ZN</th>\n",
       "      <th>INDUS</th>\n",
       "      <th>CHAS</th>\n",
       "      <th>NOX</th>\n",
       "      <th>RM</th>\n",
       "      <th>AGE</th>\n",
       "      <th>DIS</th>\n",
       "      <th>RAD</th>\n",
       "      <th>TAX</th>\n",
       "      <th>PTRATIO</th>\n",
       "      <th>B</th>\n",
       "      <th>LSTAT</th>\n",
       "      <th>MEDV</th>\n",
       "    </tr>\n",
       "  </thead>\n",
       "  <tbody>\n",
       "    <tr>\n",
       "      <th>0</th>\n",
       "      <td>0.00632</td>\n",
       "      <td>18.0</td>\n",
       "      <td>2.31</td>\n",
       "      <td>0.0</td>\n",
       "      <td>0.538</td>\n",
       "      <td>6.575</td>\n",
       "      <td>65.2</td>\n",
       "      <td>4.0900</td>\n",
       "      <td>1.0</td>\n",
       "      <td>296.0</td>\n",
       "      <td>15.3</td>\n",
       "      <td>396.90</td>\n",
       "      <td>4.98</td>\n",
       "      <td>24.0</td>\n",
       "    </tr>\n",
       "    <tr>\n",
       "      <th>1</th>\n",
       "      <td>0.02731</td>\n",
       "      <td>0.0</td>\n",
       "      <td>7.07</td>\n",
       "      <td>0.0</td>\n",
       "      <td>0.469</td>\n",
       "      <td>6.421</td>\n",
       "      <td>78.9</td>\n",
       "      <td>4.9671</td>\n",
       "      <td>2.0</td>\n",
       "      <td>242.0</td>\n",
       "      <td>17.8</td>\n",
       "      <td>396.90</td>\n",
       "      <td>9.14</td>\n",
       "      <td>21.6</td>\n",
       "    </tr>\n",
       "    <tr>\n",
       "      <th>2</th>\n",
       "      <td>0.02729</td>\n",
       "      <td>0.0</td>\n",
       "      <td>7.07</td>\n",
       "      <td>0.0</td>\n",
       "      <td>0.469</td>\n",
       "      <td>7.185</td>\n",
       "      <td>61.1</td>\n",
       "      <td>4.9671</td>\n",
       "      <td>2.0</td>\n",
       "      <td>242.0</td>\n",
       "      <td>17.8</td>\n",
       "      <td>392.83</td>\n",
       "      <td>4.03</td>\n",
       "      <td>34.7</td>\n",
       "    </tr>\n",
       "    <tr>\n",
       "      <th>3</th>\n",
       "      <td>0.03237</td>\n",
       "      <td>0.0</td>\n",
       "      <td>2.18</td>\n",
       "      <td>0.0</td>\n",
       "      <td>0.458</td>\n",
       "      <td>6.998</td>\n",
       "      <td>45.8</td>\n",
       "      <td>6.0622</td>\n",
       "      <td>3.0</td>\n",
       "      <td>222.0</td>\n",
       "      <td>18.7</td>\n",
       "      <td>394.63</td>\n",
       "      <td>2.94</td>\n",
       "      <td>33.4</td>\n",
       "    </tr>\n",
       "    <tr>\n",
       "      <th>4</th>\n",
       "      <td>0.06905</td>\n",
       "      <td>0.0</td>\n",
       "      <td>2.18</td>\n",
       "      <td>0.0</td>\n",
       "      <td>0.458</td>\n",
       "      <td>7.147</td>\n",
       "      <td>54.2</td>\n",
       "      <td>6.0622</td>\n",
       "      <td>3.0</td>\n",
       "      <td>222.0</td>\n",
       "      <td>18.7</td>\n",
       "      <td>396.90</td>\n",
       "      <td>5.33</td>\n",
       "      <td>36.2</td>\n",
       "    </tr>\n",
       "  </tbody>\n",
       "</table>\n",
       "</div>"
      ],
      "text/plain": [
       "      CRIM    ZN  INDUS  CHAS    NOX     RM   AGE     DIS  RAD    TAX  \\\n",
       "0  0.00632  18.0   2.31   0.0  0.538  6.575  65.2  4.0900  1.0  296.0   \n",
       "1  0.02731   0.0   7.07   0.0  0.469  6.421  78.9  4.9671  2.0  242.0   \n",
       "2  0.02729   0.0   7.07   0.0  0.469  7.185  61.1  4.9671  2.0  242.0   \n",
       "3  0.03237   0.0   2.18   0.0  0.458  6.998  45.8  6.0622  3.0  222.0   \n",
       "4  0.06905   0.0   2.18   0.0  0.458  7.147  54.2  6.0622  3.0  222.0   \n",
       "\n",
       "   PTRATIO       B  LSTAT  MEDV  \n",
       "0     15.3  396.90   4.98  24.0  \n",
       "1     17.8  396.90   9.14  21.6  \n",
       "2     17.8  392.83   4.03  34.7  \n",
       "3     18.7  394.63   2.94  33.4  \n",
       "4     18.7  396.90   5.33  36.2  "
      ]
     },
     "execution_count": 2,
     "metadata": {},
     "output_type": "execute_result"
    }
   ],
   "source": [
    "df = pd.DataFrame(X, columns=boston.feature_names)\n",
    "df['MEDV'] = y\n",
    "df.head()"
   ]
  },
  {
   "cell_type": "code",
   "execution_count": 3,
   "metadata": {},
   "outputs": [
    {
     "data": {
      "text/plain": [
       "0.0    471\n",
       "1.0     35\n",
       "Name: CHAS, dtype: int64"
      ]
     },
     "execution_count": 3,
     "metadata": {},
     "output_type": "execute_result"
    }
   ],
   "source": [
    "df.CHAS.value_counts()"
   ]
  },
  {
   "cell_type": "code",
   "execution_count": 4,
   "metadata": {},
   "outputs": [
    {
     "name": "stdout",
     "output_type": "stream",
     "text": [
      "<class 'pandas.core.frame.DataFrame'>\n",
      "RangeIndex: 506 entries, 0 to 505\n",
      "Data columns (total 14 columns):\n",
      " #   Column   Non-Null Count  Dtype  \n",
      "---  ------   --------------  -----  \n",
      " 0   CRIM     506 non-null    float64\n",
      " 1   ZN       506 non-null    float64\n",
      " 2   INDUS    506 non-null    float64\n",
      " 3   CHAS     506 non-null    float64\n",
      " 4   NOX      506 non-null    float64\n",
      " 5   RM       506 non-null    float64\n",
      " 6   AGE      506 non-null    float64\n",
      " 7   DIS      506 non-null    float64\n",
      " 8   RAD      506 non-null    float64\n",
      " 9   TAX      506 non-null    float64\n",
      " 10  PTRATIO  506 non-null    float64\n",
      " 11  B        506 non-null    float64\n",
      " 12  LSTAT    506 non-null    float64\n",
      " 13  MEDV     506 non-null    float64\n",
      "dtypes: float64(14)\n",
      "memory usage: 55.5 KB\n"
     ]
    }
   ],
   "source": [
    "df.info()"
   ]
  },
  {
   "cell_type": "code",
   "execution_count": 5,
   "metadata": {},
   "outputs": [
    {
     "data": {
      "text/plain": [
       "CRIM       0\n",
       "ZN         0\n",
       "INDUS      0\n",
       "CHAS       0\n",
       "NOX        0\n",
       "RM         0\n",
       "AGE        0\n",
       "DIS        0\n",
       "RAD        0\n",
       "TAX        0\n",
       "PTRATIO    0\n",
       "B          0\n",
       "LSTAT      0\n",
       "MEDV       0\n",
       "dtype: int64"
      ]
     },
     "execution_count": 5,
     "metadata": {},
     "output_type": "execute_result"
    }
   ],
   "source": [
    "df.isna().sum()"
   ]
  },
  {
   "cell_type": "code",
   "execution_count": 6,
   "metadata": {},
   "outputs": [
    {
     "data": {
      "text/html": [
       "<div>\n",
       "<style scoped>\n",
       "    .dataframe tbody tr th:only-of-type {\n",
       "        vertical-align: middle;\n",
       "    }\n",
       "\n",
       "    .dataframe tbody tr th {\n",
       "        vertical-align: top;\n",
       "    }\n",
       "\n",
       "    .dataframe thead th {\n",
       "        text-align: right;\n",
       "    }\n",
       "</style>\n",
       "<table border=\"1\" class=\"dataframe\">\n",
       "  <thead>\n",
       "    <tr style=\"text-align: right;\">\n",
       "      <th></th>\n",
       "      <th>CHAS_0</th>\n",
       "      <th>CHAS_1</th>\n",
       "    </tr>\n",
       "  </thead>\n",
       "  <tbody>\n",
       "    <tr>\n",
       "      <th>0</th>\n",
       "      <td>1</td>\n",
       "      <td>0</td>\n",
       "    </tr>\n",
       "    <tr>\n",
       "      <th>1</th>\n",
       "      <td>1</td>\n",
       "      <td>0</td>\n",
       "    </tr>\n",
       "    <tr>\n",
       "      <th>2</th>\n",
       "      <td>1</td>\n",
       "      <td>0</td>\n",
       "    </tr>\n",
       "    <tr>\n",
       "      <th>3</th>\n",
       "      <td>1</td>\n",
       "      <td>0</td>\n",
       "    </tr>\n",
       "    <tr>\n",
       "      <th>4</th>\n",
       "      <td>1</td>\n",
       "      <td>0</td>\n",
       "    </tr>\n",
       "  </tbody>\n",
       "</table>\n",
       "</div>"
      ],
      "text/plain": [
       "   CHAS_0  CHAS_1\n",
       "0       1       0\n",
       "1       1       0\n",
       "2       1       0\n",
       "3       1       0\n",
       "4       1       0"
      ]
     },
     "execution_count": 6,
     "metadata": {},
     "output_type": "execute_result"
    }
   ],
   "source": [
    "chas_df = pd.get_dummies(df['CHAS'])\n",
    "chas_df.columns = ['CHAS_0', 'CHAS_1']\n",
    "chas_df.head()"
   ]
  },
  {
   "cell_type": "code",
   "execution_count": 7,
   "metadata": {},
   "outputs": [
    {
     "data": {
      "text/html": [
       "<div>\n",
       "<style scoped>\n",
       "    .dataframe tbody tr th:only-of-type {\n",
       "        vertical-align: middle;\n",
       "    }\n",
       "\n",
       "    .dataframe tbody tr th {\n",
       "        vertical-align: top;\n",
       "    }\n",
       "\n",
       "    .dataframe thead th {\n",
       "        text-align: right;\n",
       "    }\n",
       "</style>\n",
       "<table border=\"1\" class=\"dataframe\">\n",
       "  <thead>\n",
       "    <tr style=\"text-align: right;\">\n",
       "      <th></th>\n",
       "      <th>CRIM</th>\n",
       "      <th>ZN</th>\n",
       "      <th>INDUS</th>\n",
       "      <th>NOX</th>\n",
       "      <th>RM</th>\n",
       "      <th>AGE</th>\n",
       "      <th>DIS</th>\n",
       "      <th>RAD</th>\n",
       "      <th>TAX</th>\n",
       "      <th>PTRATIO</th>\n",
       "      <th>B</th>\n",
       "      <th>LSTAT</th>\n",
       "      <th>MEDV</th>\n",
       "      <th>CHAS_0</th>\n",
       "      <th>CHAS_1</th>\n",
       "    </tr>\n",
       "  </thead>\n",
       "  <tbody>\n",
       "    <tr>\n",
       "      <th>0</th>\n",
       "      <td>0.00632</td>\n",
       "      <td>18.0</td>\n",
       "      <td>2.31</td>\n",
       "      <td>0.538</td>\n",
       "      <td>6.575</td>\n",
       "      <td>65.2</td>\n",
       "      <td>4.0900</td>\n",
       "      <td>1.0</td>\n",
       "      <td>296.0</td>\n",
       "      <td>15.3</td>\n",
       "      <td>396.90</td>\n",
       "      <td>4.98</td>\n",
       "      <td>24.0</td>\n",
       "      <td>1</td>\n",
       "      <td>0</td>\n",
       "    </tr>\n",
       "    <tr>\n",
       "      <th>1</th>\n",
       "      <td>0.02731</td>\n",
       "      <td>0.0</td>\n",
       "      <td>7.07</td>\n",
       "      <td>0.469</td>\n",
       "      <td>6.421</td>\n",
       "      <td>78.9</td>\n",
       "      <td>4.9671</td>\n",
       "      <td>2.0</td>\n",
       "      <td>242.0</td>\n",
       "      <td>17.8</td>\n",
       "      <td>396.90</td>\n",
       "      <td>9.14</td>\n",
       "      <td>21.6</td>\n",
       "      <td>1</td>\n",
       "      <td>0</td>\n",
       "    </tr>\n",
       "    <tr>\n",
       "      <th>2</th>\n",
       "      <td>0.02729</td>\n",
       "      <td>0.0</td>\n",
       "      <td>7.07</td>\n",
       "      <td>0.469</td>\n",
       "      <td>7.185</td>\n",
       "      <td>61.1</td>\n",
       "      <td>4.9671</td>\n",
       "      <td>2.0</td>\n",
       "      <td>242.0</td>\n",
       "      <td>17.8</td>\n",
       "      <td>392.83</td>\n",
       "      <td>4.03</td>\n",
       "      <td>34.7</td>\n",
       "      <td>1</td>\n",
       "      <td>0</td>\n",
       "    </tr>\n",
       "    <tr>\n",
       "      <th>3</th>\n",
       "      <td>0.03237</td>\n",
       "      <td>0.0</td>\n",
       "      <td>2.18</td>\n",
       "      <td>0.458</td>\n",
       "      <td>6.998</td>\n",
       "      <td>45.8</td>\n",
       "      <td>6.0622</td>\n",
       "      <td>3.0</td>\n",
       "      <td>222.0</td>\n",
       "      <td>18.7</td>\n",
       "      <td>394.63</td>\n",
       "      <td>2.94</td>\n",
       "      <td>33.4</td>\n",
       "      <td>1</td>\n",
       "      <td>0</td>\n",
       "    </tr>\n",
       "    <tr>\n",
       "      <th>4</th>\n",
       "      <td>0.06905</td>\n",
       "      <td>0.0</td>\n",
       "      <td>2.18</td>\n",
       "      <td>0.458</td>\n",
       "      <td>7.147</td>\n",
       "      <td>54.2</td>\n",
       "      <td>6.0622</td>\n",
       "      <td>3.0</td>\n",
       "      <td>222.0</td>\n",
       "      <td>18.7</td>\n",
       "      <td>396.90</td>\n",
       "      <td>5.33</td>\n",
       "      <td>36.2</td>\n",
       "      <td>1</td>\n",
       "      <td>0</td>\n",
       "    </tr>\n",
       "  </tbody>\n",
       "</table>\n",
       "</div>"
      ],
      "text/plain": [
       "      CRIM    ZN  INDUS    NOX     RM   AGE     DIS  RAD    TAX  PTRATIO  \\\n",
       "0  0.00632  18.0   2.31  0.538  6.575  65.2  4.0900  1.0  296.0     15.3   \n",
       "1  0.02731   0.0   7.07  0.469  6.421  78.9  4.9671  2.0  242.0     17.8   \n",
       "2  0.02729   0.0   7.07  0.469  7.185  61.1  4.9671  2.0  242.0     17.8   \n",
       "3  0.03237   0.0   2.18  0.458  6.998  45.8  6.0622  3.0  222.0     18.7   \n",
       "4  0.06905   0.0   2.18  0.458  7.147  54.2  6.0622  3.0  222.0     18.7   \n",
       "\n",
       "        B  LSTAT  MEDV  CHAS_0  CHAS_1  \n",
       "0  396.90   4.98  24.0       1       0  \n",
       "1  396.90   9.14  21.6       1       0  \n",
       "2  392.83   4.03  34.7       1       0  \n",
       "3  394.63   2.94  33.4       1       0  \n",
       "4  396.90   5.33  36.2       1       0  "
      ]
     },
     "execution_count": 7,
     "metadata": {},
     "output_type": "execute_result"
    }
   ],
   "source": [
    "df2 = df.join(chas_df)\n",
    "df2.drop(columns='CHAS', inplace=True)\n",
    "df2.head()"
   ]
  },
  {
   "cell_type": "code",
   "execution_count": 8,
   "metadata": {},
   "outputs": [
    {
     "data": {
      "text/plain": [
       "((506, 14), (506,))"
      ]
     },
     "execution_count": 8,
     "metadata": {},
     "output_type": "execute_result"
    }
   ],
   "source": [
    "y = df2['MEDV']\n",
    "X = df2.drop(columns='MEDV')\n",
    "X.shape, y.shape"
   ]
  },
  {
   "cell_type": "code",
   "execution_count": 9,
   "metadata": {},
   "outputs": [
    {
     "data": {
      "text/plain": [
       "((379, 14), (127, 14))"
      ]
     },
     "execution_count": 9,
     "metadata": {},
     "output_type": "execute_result"
    }
   ],
   "source": [
    "from sklearn.model_selection import train_test_split\n",
    "\n",
    "X_train, X_test, y_train, y_test = train_test_split(X, y, random_state=157)\n",
    "X_train.shape, X_test.shape"
   ]
  },
  {
   "cell_type": "code",
   "execution_count": 13,
   "metadata": {},
   "outputs": [
    {
     "data": {
      "text/plain": [
       "Index(['CRIM', 'ZN', 'INDUS', 'NOX', 'RM', 'AGE', 'DIS', 'RAD', 'TAX',\n",
       "       'PTRATIO', 'B', 'LSTAT', 'CHAS_0', 'CHAS_1'],\n",
       "      dtype='object')"
      ]
     },
     "execution_count": 13,
     "metadata": {},
     "output_type": "execute_result"
    }
   ],
   "source": [
    "from sklearn.preprocessing import StandardScaler, MinMaxScaler\n",
    "\n",
    "scaler = StandardScaler()\n",
    "X_train_scaled = scaler.fit_transform(X_train)\n",
    "X_test_scaled = scaler.fit_transform(X_test)\n",
    "\n",
    "X_train.columns"
   ]
  },
  {
   "cell_type": "code",
   "execution_count": 14,
   "metadata": {},
   "outputs": [
    {
     "data": {
      "text/plain": [
       "(22.62321899736148,\n",
       " array([-0.9978984 ,  1.12979329,  0.36695216, -2.21077471,  2.74497338,\n",
       "        -0.076368  , -3.10162252,  2.99309816, -2.04973449, -2.32404412,\n",
       "         0.74107244, -3.88214836, -0.35399572,  0.35399572]))"
      ]
     },
     "execution_count": 14,
     "metadata": {},
     "output_type": "execute_result"
    }
   ],
   "source": [
    "from sklearn.metrics import mean_squared_error, r2_score\n",
    "from sklearn.linear_model import LinearRegression\n",
    "\n",
    "def print_regression_metrics(y, pred, title=None):\n",
    "    mse = mean_squared_error(y, pred)\n",
    "    rmse = np.sqrt(mse)\n",
    "    r2 = r2_score(y, pred)\n",
    "    if title:\n",
    "        print(title)\n",
    "\n",
    "    print(f'MSE: {mse}, RMSE : {rmse}, R2 : {r2}')\n",
    "    print('-'*50)\n",
    "\n",
    "lr = LinearRegression()\n",
    "lr.fit(X_train_scaled, y_train)\n",
    "\n",
    "lr.intercept_, lr.coef_"
   ]
  },
  {
   "cell_type": "code",
   "execution_count": 15,
   "metadata": {},
   "outputs": [
    {
     "data": {
      "text/plain": [
       "CRIM      -0.997898\n",
       "ZN         1.129793\n",
       "INDUS      0.366952\n",
       "NOX       -2.210775\n",
       "RM         2.744973\n",
       "AGE       -0.076368\n",
       "DIS       -3.101623\n",
       "RAD        2.993098\n",
       "TAX       -2.049734\n",
       "PTRATIO   -2.324044\n",
       "B          0.741072\n",
       "LSTAT     -3.882148\n",
       "CHAS_0    -0.353996\n",
       "CHAS_1     0.353996\n",
       "dtype: float64"
      ]
     },
     "execution_count": 15,
     "metadata": {},
     "output_type": "execute_result"
    }
   ],
   "source": [
    "pd.Series(lr.coef_, index=X_train.columns)"
   ]
  },
  {
   "cell_type": "code",
   "execution_count": 16,
   "metadata": {},
   "outputs": [
    {
     "name": "stdout",
     "output_type": "stream",
     "text": [
      "LinearRegression Train\n",
      "MSE: 22.245118316611595, RMSE : 4.716473080238198, R2 : 0.7461026267994638\n",
      "--------------------------------------------------\n",
      "LinearRegression Test\n",
      "MSE: 21.607750530858414, RMSE : 4.648413765023335, R2 : 0.7110781557728248\n",
      "--------------------------------------------------\n"
     ]
    }
   ],
   "source": [
    "pred_train = lr.predict(X_train_scaled)\n",
    "pred_test = lr.predict(X_test_scaled)\n",
    "\n",
    "print_regression_metrics(y_train, pred_train, title='LinearRegression Train')\n",
    "print_regression_metrics(y_test, pred_test, title='LinearRegression Test')"
   ]
  },
  {
   "cell_type": "code",
   "execution_count": 18,
   "metadata": {},
   "outputs": [
    {
     "data": {
      "text/plain": [
       "<matplotlib.legend.Legend at 0x2536066a700>"
      ]
     },
     "execution_count": 18,
     "metadata": {},
     "output_type": "execute_result"
    },
    {
     "data": {
      "image/png": "[encoded data removed]",
      "text/plain": [
       "<Figure size 1080x504 with 1 Axes>"
      ]
     },
     "metadata": {
      "needs_background": "light"
     },
     "output_type": "display_data"
    }
   ],
   "source": [
    "plt.figure(figsize=(15, 7))\n",
    "plt.plot(range(len(y_test)), y_test, label='MEDV', marker='X')\n",
    "plt.plot(range(len(y_test)), pred_test, label='pred', marker='o')\n",
    "plt.legend()\n"
   ]
  },
  {
   "cell_type": "code",
   "execution_count": 23,
   "metadata": {},
   "outputs": [
    {
     "data": {
      "text/plain": [
       "((100, 1), (100,))"
      ]
     },
     "execution_count": 23,
     "metadata": {},
     "output_type": "execute_result"
    }
   ],
   "source": [
    "np.random.seed(157)\n",
    "\n",
    "m = 100\n",
    "X = 6*np.random.rand(m, 1) -3\n",
    "y = X**2 + X + 2 + np.random.normal(0, 1, size=(m, 1))\n",
    "y = y.flatten()\n",
    "X.shape, y.shape\n",
    "# y[:5]"
   ]
  },
  {
   "cell_type": "code",
   "execution_count": 24,
   "metadata": {},
   "outputs": [
    {
     "data": {
      "text/html": [
       "<div>\n",
       "<style scoped>\n",
       "    .dataframe tbody tr th:only-of-type {\n",
       "        vertical-align: middle;\n",
       "    }\n",
       "\n",
       "    .dataframe tbody tr th {\n",
       "        vertical-align: top;\n",
       "    }\n",
       "\n",
       "    .dataframe thead th {\n",
       "        text-align: right;\n",
       "    }\n",
       "</style>\n",
       "<table border=\"1\" class=\"dataframe\">\n",
       "  <thead>\n",
       "    <tr style=\"text-align: right;\">\n",
       "      <th></th>\n",
       "      <th>X</th>\n",
       "      <th>y</th>\n",
       "    </tr>\n",
       "  </thead>\n",
       "  <tbody>\n",
       "    <tr>\n",
       "      <th>0</th>\n",
       "      <td>1.784412</td>\n",
       "      <td>7.787032</td>\n",
       "    </tr>\n",
       "    <tr>\n",
       "      <th>1</th>\n",
       "      <td>0.511323</td>\n",
       "      <td>2.504881</td>\n",
       "    </tr>\n",
       "    <tr>\n",
       "      <th>2</th>\n",
       "      <td>-1.439820</td>\n",
       "      <td>3.448450</td>\n",
       "    </tr>\n",
       "    <tr>\n",
       "      <th>3</th>\n",
       "      <td>-1.446201</td>\n",
       "      <td>3.981903</td>\n",
       "    </tr>\n",
       "    <tr>\n",
       "      <th>4</th>\n",
       "      <td>1.299191</td>\n",
       "      <td>2.869810</td>\n",
       "    </tr>\n",
       "  </tbody>\n",
       "</table>\n",
       "</div>"
      ],
      "text/plain": [
       "          X         y\n",
       "0  1.784412  7.787032\n",
       "1  0.511323  2.504881\n",
       "2 -1.439820  3.448450\n",
       "3 -1.446201  3.981903\n",
       "4  1.299191  2.869810"
      ]
     },
     "execution_count": 24,
     "metadata": {},
     "output_type": "execute_result"
    }
   ],
   "source": [
    "df = pd.DataFrame({'X': X.flatten(), 'y': y})\n",
    "df.head()"
   ]
  },
  {
   "cell_type": "code",
   "execution_count": 27,
   "metadata": {},
   "outputs": [
    {
     "data": {
      "text/plain": [
       "<matplotlib.collections.PathCollection at 0x25361c361f0>"
      ]
     },
     "execution_count": 27,
     "metadata": {},
     "output_type": "execute_result"
    },
    {
     "data": {
      "image/png": "[encoded data removed]",
      "text/plain": [
       "<Figure size 504x504 with 1 Axes>"
      ]
     },
     "metadata": {
      "needs_background": "light"
     },
     "output_type": "display_data"
    }
   ],
   "source": [
    "plt.figure(figsize=(7, 7))\n",
    "plt.scatter(X, y, alpha=0.8)\n"
   ]
  },
  {
   "cell_type": "code",
   "execution_count": 28,
   "metadata": {},
   "outputs": [
    {
     "data": {
      "text/plain": [
       "(array([1.0354851]), 5.563715406742655)"
      ]
     },
     "execution_count": 28,
     "metadata": {},
     "output_type": "execute_result"
    }
   ],
   "source": [
    "from sklearn.linear_model import LinearRegression\n",
    "from sklearn.metrics import mean_squared_error, r2_score\n",
    "\n",
    "lr = LinearRegression()\n",
    "lr.fit(X, y)\n",
    "lr.coef_, lr.intercept_"
   ]
  },
  {
   "cell_type": "code",
   "execution_count": 29,
   "metadata": {},
   "outputs": [
    {
     "name": "stdout",
     "output_type": "stream",
     "text": [
      "MSE: 9.183082640816057, RMSE : 3.030360150347819, R2 : 0.2827948246288676\n",
      "--------------------------------------------------\n"
     ]
    }
   ],
   "source": [
    "pred = lr.predict(X)\n",
    "print_regression_metrics(y, pred)"
   ]
  },
  {
   "cell_type": "code",
   "execution_count": 30,
   "metadata": {},
   "outputs": [
    {
     "data": {
      "image/png": "[encoded data removed]",
      "text/plain": [
       "<Figure size 504x432 with 1 Axes>"
      ]
     },
     "metadata": {
      "needs_background": "light"
     },
     "output_type": "display_data"
    }
   ],
   "source": [
    "X_new = np.linspace(-3, 3, 100).reshape(-1, 1)\n",
    "pred_new = lr.predict(X_new)\n",
    "\n",
    "plt.figure(figsize=(7, 6))\n",
    "plt.scatter(X, y, alpha=0.7)\n",
    "plt.plot(X_new, pred_new, color='red')\n",
    "plt.grid()"
   ]
  },
  {
   "cell_type": "code",
   "execution_count": 31,
   "metadata": {},
   "outputs": [
    {
     "data": {
      "text/plain": [
       "((100, 1), (100, 3))"
      ]
     },
     "execution_count": 31,
     "metadata": {},
     "output_type": "execute_result"
    }
   ],
   "source": [
    "from sklearn.preprocessing import PolynomialFeatures\n",
    "\n",
    "poly_f = PolynomialFeatures(degree=2, include_bias=True)\n",
    "\n",
    "X_poly = poly_f.fit_transform(X)\n",
    "X.shape, X_poly.shape"
   ]
  },
  {
   "cell_type": "code",
   "execution_count": 32,
   "metadata": {},
   "outputs": [
    {
     "data": {
      "text/plain": [
       "array([[ 1.        ,  1.78441239,  3.18412757],\n",
       "       [ 1.        ,  0.51132343,  0.26145165],\n",
       "       [ 1.        , -1.43981972,  2.07308083],\n",
       "       [ 1.        , -1.44620142,  2.09149854],\n",
       "       [ 1.        ,  1.29919071,  1.68789649]])"
      ]
     },
     "execution_count": 32,
     "metadata": {},
     "output_type": "execute_result"
    }
   ],
   "source": [
    "X_poly[:5]"
   ]
  },
  {
   "cell_type": "code",
   "execution_count": 33,
   "metadata": {},
   "outputs": [
    {
     "data": {
      "text/plain": [
       "array(['1', 'x0', 'x0^2'], dtype=object)"
      ]
     },
     "execution_count": 33,
     "metadata": {},
     "output_type": "execute_result"
    }
   ],
   "source": [
    "poly_f.get_feature_names_out()"
   ]
  },
  {
   "cell_type": "code",
   "execution_count": 34,
   "metadata": {},
   "outputs": [
    {
     "data": {
      "text/plain": [
       "(array([0.        , 1.04148258, 1.05192596]), 1.9965948005979155)"
      ]
     },
     "execution_count": 34,
     "metadata": {},
     "output_type": "execute_result"
    }
   ],
   "source": [
    "lr2 = LinearRegression()\n",
    "lr2.fit(X_poly, y)\n",
    "\n",
    "lr2.coef_, lr2.intercept_"
   ]
  },
  {
   "cell_type": "code",
   "execution_count": 35,
   "metadata": {},
   "outputs": [
    {
     "name": "stdout",
     "output_type": "stream",
     "text": [
      "PolylinearRegression\n",
      "MSE: 0.9818119442906513, RMSE : 0.990864241099986, R2 : 0.9233198006346294\n",
      "--------------------------------------------------\n",
      "LinearRegression\n",
      "MSE: 9.183082640816057, RMSE : 3.030360150347819, R2 : 0.2827948246288676\n",
      "--------------------------------------------------\n"
     ]
    }
   ],
   "source": [
    "pred2 = lr2.predict(X_poly)\n",
    "print_regression_metrics(y, pred2, title='PolylinearRegression')\n",
    "print_regression_metrics(y, pred, title='LinearRegression')"
   ]
  },
  {
   "cell_type": "code",
   "execution_count": 36,
   "metadata": {},
   "outputs": [
    {
     "data": {
      "image/png": "[encoded data removed]",
      "text/plain": [
       "<Figure size 504x432 with 1 Axes>"
      ]
     },
     "metadata": {
      "needs_background": "light"
     },
     "output_type": "display_data"
    }
   ],
   "source": [
    "X_new = np.linspace(-3, 3, 100).reshape(-1, 1)\n",
    "X_new_poly = poly_f.transform(X_new)\n",
    "pred_new2 = lr2.predict(X_new_poly)\n",
    "\n",
    "plt.figure(figsize=(7, 6))\n",
    "plt.scatter(X, y)\n",
    "plt.plot(X_new, pred_new2, color='r')\n",
    "plt.grid()"
   ]
  },
  {
   "cell_type": "code",
   "execution_count": 37,
   "metadata": {},
   "outputs": [
    {
     "data": {
      "text/plain": [
       "((100, 25), (100, 1))"
      ]
     },
     "execution_count": 37,
     "metadata": {},
     "output_type": "execute_result"
    }
   ],
   "source": [
    "pnf = PolynomialFeatures(degree=25, include_bias=False)\n",
    "X_train_poly_100 = pnf.fit_transform(X)\n",
    "X_train_poly_100.shape, X.shape"
   ]
  },
  {
   "cell_type": "code",
   "execution_count": 39,
   "metadata": {},
   "outputs": [
    {
     "data": {
      "text/plain": [
       "(25,)"
      ]
     },
     "execution_count": 39,
     "metadata": {},
     "output_type": "execute_result"
    }
   ],
   "source": [
    "lr = LinearRegression()\n",
    "lr.fit(X_train_poly_100, y)\n",
    "\n",
    "lr.coef_.shape"
   ]
  },
  {
   "cell_type": "code",
   "execution_count": 41,
   "metadata": {},
   "outputs": [
    {
     "data": {
      "image/png": "[encoded data removed]",
      "text/plain": [
       "<Figure size 504x432 with 1 Axes>"
      ]
     },
     "metadata": {
      "needs_background": "light"
     },
     "output_type": "display_data"
    }
   ],
   "source": [
    "X_new = np.linspace(-3, 3, 100).reshape(-1, 1)\n",
    "X_new_poly = pnf.transform(X_new)\n",
    "pred_new100 = lr.predict(X_new_poly)\n",
    "\n",
    "plt.figure(figsize=(7, 6))\n",
    "plt.scatter(X, y)\n",
    "plt.plot(X_new, pred_new100, color='r')\n",
    "plt.grid()"
   ]
  },
  {
   "cell_type": "code",
   "execution_count": 42,
   "metadata": {},
   "outputs": [
    {
     "name": "stdout",
     "output_type": "stream",
     "text": [
      "(4, 3)\n"
     ]
    },
    {
     "data": {
      "text/plain": [
       "array([[ 0,  1,  2],\n",
       "       [ 3,  4,  5],\n",
       "       [ 6,  7,  8],\n",
       "       [ 9, 10, 11]])"
      ]
     },
     "execution_count": 42,
     "metadata": {},
     "output_type": "execute_result"
    }
   ],
   "source": [
    "data = np.arange(12).reshape(4, 3)\n",
    "print(data.shape)\n",
    "data"
   ]
  },
  {
   "cell_type": "code",
   "execution_count": 43,
   "metadata": {},
   "outputs": [
    {
     "data": {
      "text/plain": [
       "(4, 10)"
      ]
     },
     "execution_count": 43,
     "metadata": {},
     "output_type": "execute_result"
    }
   ],
   "source": [
    "pnf2 = PolynomialFeatures(degree=2)\n",
    "data_poly = pnf2.fit_transform(data)\n",
    "data_poly.shape"
   ]
  },
  {
   "cell_type": "code",
   "execution_count": 45,
   "metadata": {},
   "outputs": [
    {
     "data": {
      "text/plain": [
       "array(['1', 'x0', 'x1', 'x2', 'x0^2', 'x0 x1', 'x0 x2', 'x1^2', 'x1 x2',\n",
       "       'x2^2'], dtype=object)"
      ]
     },
     "execution_count": 45,
     "metadata": {},
     "output_type": "execute_result"
    }
   ],
   "source": [
    "pnf2.get_feature_names_out()"
   ]
  },
  {
   "cell_type": "code",
   "execution_count": 46,
   "metadata": {},
   "outputs": [
    {
     "data": {
      "text/html": [
       "<div>\n",
       "<style scoped>\n",
       "    .dataframe tbody tr th:only-of-type {\n",
       "        vertical-align: middle;\n",
       "    }\n",
       "\n",
       "    .dataframe tbody tr th {\n",
       "        vertical-align: top;\n",
       "    }\n",
       "\n",
       "    .dataframe thead th {\n",
       "        text-align: right;\n",
       "    }\n",
       "</style>\n",
       "<table border=\"1\" class=\"dataframe\">\n",
       "  <thead>\n",
       "    <tr style=\"text-align: right;\">\n",
       "      <th></th>\n",
       "      <th>1</th>\n",
       "      <th>x0</th>\n",
       "      <th>x1</th>\n",
       "      <th>x2</th>\n",
       "      <th>x0^2</th>\n",
       "      <th>x0 x1</th>\n",
       "      <th>x0 x2</th>\n",
       "      <th>x1^2</th>\n",
       "      <th>x1 x2</th>\n",
       "      <th>x2^2</th>\n",
       "    </tr>\n",
       "  </thead>\n",
       "  <tbody>\n",
       "    <tr>\n",
       "      <th>0</th>\n",
       "      <td>1.0</td>\n",
       "      <td>0.0</td>\n",
       "      <td>1.0</td>\n",
       "      <td>2.0</td>\n",
       "      <td>0.0</td>\n",
       "      <td>0.0</td>\n",
       "      <td>0.0</td>\n",
       "      <td>1.0</td>\n",
       "      <td>2.0</td>\n",
       "      <td>4.0</td>\n",
       "    </tr>\n",
       "    <tr>\n",
       "      <th>1</th>\n",
       "      <td>1.0</td>\n",
       "      <td>3.0</td>\n",
       "      <td>4.0</td>\n",
       "      <td>5.0</td>\n",
       "      <td>9.0</td>\n",
       "      <td>12.0</td>\n",
       "      <td>15.0</td>\n",
       "      <td>16.0</td>\n",
       "      <td>20.0</td>\n",
       "      <td>25.0</td>\n",
       "    </tr>\n",
       "    <tr>\n",
       "      <th>2</th>\n",
       "      <td>1.0</td>\n",
       "      <td>6.0</td>\n",
       "      <td>7.0</td>\n",
       "      <td>8.0</td>\n",
       "      <td>36.0</td>\n",
       "      <td>42.0</td>\n",
       "      <td>48.0</td>\n",
       "      <td>49.0</td>\n",
       "      <td>56.0</td>\n",
       "      <td>64.0</td>\n",
       "    </tr>\n",
       "    <tr>\n",
       "      <th>3</th>\n",
       "      <td>1.0</td>\n",
       "      <td>9.0</td>\n",
       "      <td>10.0</td>\n",
       "      <td>11.0</td>\n",
       "      <td>81.0</td>\n",
       "      <td>90.0</td>\n",
       "      <td>99.0</td>\n",
       "      <td>100.0</td>\n",
       "      <td>110.0</td>\n",
       "      <td>121.0</td>\n",
       "    </tr>\n",
       "  </tbody>\n",
       "</table>\n",
       "</div>"
      ],
      "text/plain": [
       "     1   x0    x1    x2  x0^2  x0 x1  x0 x2   x1^2  x1 x2   x2^2\n",
       "0  1.0  0.0   1.0   2.0   0.0    0.0    0.0    1.0    2.0    4.0\n",
       "1  1.0  3.0   4.0   5.0   9.0   12.0   15.0   16.0   20.0   25.0\n",
       "2  1.0  6.0   7.0   8.0  36.0   42.0   48.0   49.0   56.0   64.0\n",
       "3  1.0  9.0  10.0  11.0  81.0   90.0   99.0  100.0  110.0  121.0"
      ]
     },
     "execution_count": 46,
     "metadata": {},
     "output_type": "execute_result"
    }
   ],
   "source": [
    "pd.DataFrame(data_poly, columns=pnf2.get_feature_names_out())"
   ]
  },
  {
   "cell_type": "code",
   "execution_count": 47,
   "metadata": {},
   "outputs": [
    {
     "data": {
      "text/plain": [
       "(4, 56)"
      ]
     },
     "execution_count": 47,
     "metadata": {},
     "output_type": "execute_result"
    }
   ],
   "source": [
    "pnf3 = PolynomialFeatures(degree=5)\n",
    "data_poly2 = pnf3.fit_transform(data)\n",
    "data_poly2.shape"
   ]
  },
  {
   "cell_type": "code",
   "execution_count": 48,
   "metadata": {},
   "outputs": [
    {
     "data": {
      "text/plain": [
       "array(['1', 'x0', 'x1', 'x2', 'x0^2', 'x0 x1', 'x0 x2', 'x1^2', 'x1 x2',\n",
       "       'x2^2', 'x0^3', 'x0^2 x1', 'x0^2 x2', 'x0 x1^2', 'x0 x1 x2',\n",
       "       'x0 x2^2', 'x1^3', 'x1^2 x2', 'x1 x2^2', 'x2^3', 'x0^4', 'x0^3 x1',\n",
       "       'x0^3 x2', 'x0^2 x1^2', 'x0^2 x1 x2', 'x0^2 x2^2', 'x0 x1^3',\n",
       "       'x0 x1^2 x2', 'x0 x1 x2^2', 'x0 x2^3', 'x1^4', 'x1^3 x2',\n",
       "       'x1^2 x2^2', 'x1 x2^3', 'x2^4', 'x0^5', 'x0^4 x1', 'x0^4 x2',\n",
       "       'x0^3 x1^2', 'x0^3 x1 x2', 'x0^3 x2^2', 'x0^2 x1^3',\n",
       "       'x0^2 x1^2 x2', 'x0^2 x1 x2^2', 'x0^2 x2^3', 'x0 x1^4',\n",
       "       'x0 x1^3 x2', 'x0 x1^2 x2^2', 'x0 x1 x2^3', 'x0 x2^4', 'x1^5',\n",
       "       'x1^4 x2', 'x1^3 x2^2', 'x1^2 x2^3', 'x1 x2^4', 'x2^5'],\n",
       "      dtype=object)"
      ]
     },
     "execution_count": 48,
     "metadata": {},
     "output_type": "execute_result"
    }
   ],
   "source": [
    "pnf3.get_feature_names_out()"
   ]
  },
  {
   "cell_type": "code",
   "execution_count": 49,
   "metadata": {},
   "outputs": [
    {
     "data": {
      "text/plain": [
       "(4, 7)"
      ]
     },
     "execution_count": 49,
     "metadata": {},
     "output_type": "execute_result"
    }
   ],
   "source": [
    "pnf4 = PolynomialFeatures(interaction_only=True)\n",
    "data_poly4 = pnf4.fit_transform(data)\n",
    "data_poly4.shape"
   ]
  },
  {
   "cell_type": "code",
   "execution_count": 50,
   "metadata": {},
   "outputs": [
    {
     "data": {
      "text/plain": [
       "array(['1', 'x0', 'x1', 'x2', 'x0 x1', 'x0 x2', 'x1 x2'], dtype=object)"
      ]
     },
     "execution_count": 50,
     "metadata": {},
     "output_type": "execute_result"
    }
   ],
   "source": [
    "pnf4.get_feature_names_out()"
   ]
  },
  {
   "cell_type": "code",
   "execution_count": 56,
   "metadata": {},
   "outputs": [
    {
     "data": {
      "text/plain": [
       "((379, 119), (127, 119))"
      ]
     },
     "execution_count": 56,
     "metadata": {},
     "output_type": "execute_result"
    }
   ],
   "source": [
    "pnf = PolynomialFeatures(degree=2, include_bias=False)\n",
    "X_train_scaled_poly = pnf.fit_transform(X_train_scaled)\n",
    "X_test_scaled_poly = pnf.transform(X_test_scaled)\n",
    "\n",
    "X_train_scaled_poly.shape, X_test_scaled_poly.shape"
   ]
  },
  {
   "cell_type": "code",
   "execution_count": 57,
   "metadata": {},
   "outputs": [
    {
     "data": {
      "text/plain": [
       "array(['x0', 'x1', 'x2', 'x3', 'x4', 'x5', 'x6', 'x7', 'x8', 'x9', 'x10',\n",
       "       'x11', 'x12', 'x13', 'x0^2', 'x0 x1', 'x0 x2', 'x0 x3', 'x0 x4',\n",
       "       'x0 x5', 'x0 x6', 'x0 x7', 'x0 x8', 'x0 x9', 'x0 x10', 'x0 x11',\n",
       "       'x0 x12', 'x0 x13', 'x1^2', 'x1 x2', 'x1 x3', 'x1 x4', 'x1 x5',\n",
       "       'x1 x6', 'x1 x7', 'x1 x8', 'x1 x9', 'x1 x10', 'x1 x11', 'x1 x12',\n",
       "       'x1 x13', 'x2^2', 'x2 x3', 'x2 x4', 'x2 x5', 'x2 x6', 'x2 x7',\n",
       "       'x2 x8', 'x2 x9', 'x2 x10', 'x2 x11', 'x2 x12', 'x2 x13', 'x3^2',\n",
       "       'x3 x4', 'x3 x5', 'x3 x6', 'x3 x7', 'x3 x8', 'x3 x9', 'x3 x10',\n",
       "       'x3 x11', 'x3 x12', 'x3 x13', 'x4^2', 'x4 x5', 'x4 x6', 'x4 x7',\n",
       "       'x4 x8', 'x4 x9', 'x4 x10', 'x4 x11', 'x4 x12', 'x4 x13', 'x5^2',\n",
       "       'x5 x6', 'x5 x7', 'x5 x8', 'x5 x9', 'x5 x10', 'x5 x11', 'x5 x12',\n",
       "       'x5 x13', 'x6^2', 'x6 x7', 'x6 x8', 'x6 x9', 'x6 x10', 'x6 x11',\n",
       "       'x6 x12', 'x6 x13', 'x7^2', 'x7 x8', 'x7 x9', 'x7 x10', 'x7 x11',\n",
       "       'x7 x12', 'x7 x13', 'x8^2', 'x8 x9', 'x8 x10', 'x8 x11', 'x8 x12',\n",
       "       'x8 x13', 'x9^2', 'x9 x10', 'x9 x11', 'x9 x12', 'x9 x13', 'x10^2',\n",
       "       'x10 x11', 'x10 x12', 'x10 x13', 'x11^2', 'x11 x12', 'x11 x13',\n",
       "       'x12^2', 'x12 x13', 'x13^2'], dtype=object)"
      ]
     },
     "execution_count": 57,
     "metadata": {},
     "output_type": "execute_result"
    }
   ],
   "source": [
    "pnf.get_feature_names_out()"
   ]
  },
  {
   "cell_type": "code",
   "execution_count": 58,
   "metadata": {},
   "outputs": [
    {
     "name": "stdout",
     "output_type": "stream",
     "text": [
      "Train\n",
      "MSE: 22.245118316611595, RMSE : 4.716473080238198, R2 : 0.7461026267994638\n",
      "--------------------------------------------------\n",
      "Test\n",
      "MSE: 21.607750530858414, RMSE : 4.648413765023335, R2 : 0.7110781557728248\n",
      "--------------------------------------------------\n",
      "Train poly\n",
      "MSE: 5.842167846200335, RMSE : 2.417057683672513, R2 : 0.9333197041780069\n",
      "--------------------------------------------------\n",
      "Test poly\n",
      "MSE: 3.497946088890619e+24, RMSE : 1870279681996.952, R2 : -4.6771783743347504e+22\n",
      "--------------------------------------------------\n"
     ]
    }
   ],
   "source": [
    "lr3 = LinearRegression()\n",
    "lr3.fit(X_train_scaled_poly, y_train)\n",
    "\n",
    "pred_train3 = lr3.predict(X_train_scaled_poly)\n",
    "pred_test3 = lr3.predict(X_test_scaled_poly)\n",
    "\n",
    "print_regression_metrics(y_train, pred_train, title='Train')\n",
    "print_regression_metrics(y_test, pred_test, title='Test')\n",
    "\n",
    "print_regression_metrics(y_train, pred_train3, title='Train poly')\n",
    "print_regression_metrics(y_test, pred_test3, title='Test poly')"
   ]
  },
  {
   "cell_type": "code",
   "execution_count": null,
   "metadata": {},
   "outputs": [],
   "source": []
  },
  {
   "cell_type": "code",
   "execution_count": null,
   "metadata": {},
   "outputs": [],
   "source": []
  },
  {
   "cell_type": "code",
   "execution_count": null,
   "metadata": {},
   "outputs": [],
   "source": []
  },
  {
   "cell_type": "code",
   "execution_count": null,
   "metadata": {},
   "outputs": [],
   "source": []
  },
  {
   "cell_type": "code",
   "execution_count": null,
   "metadata": {},
   "outputs": [],
   "source": []
  },
  {
   "cell_type": "code",
   "execution_count": null,
   "metadata": {},
   "outputs": [],
   "source": []
  },
  {
   "cell_type": "code",
   "execution_count": 18,
   "metadata": {},
   "outputs": [
    {
     "data": {
      "text/plain": [
       "((455, 30), (114, 30))"
      ]
     },
     "execution_count": 18,
     "metadata": {},
     "output_type": "execute_result"
    }
   ],
   "source": [
    "from util import print_metrics\n",
    "from sklearn.datasets import load_breast_cancer\n",
    "from sklearn.model_selection import train_test_split\n",
    "from sklearn.ensemble import GradientBoostingClassifier\n",
    "\n",
    "data = load_breast_cancer()\n",
    "X, y = load_breast_cancer(return_X_y=True)\n",
    "\n",
    "X_train, X_test, y_train, y_test = train_test_split(X, y, stratify=y, random_state=157, test_size=0.2)\n",
    "\n",
    "X_train.shape, X_test.shape"
   ]
  },
  {
   "cell_type": "code",
   "execution_count": 13,
   "metadata": {},
   "outputs": [
    {
     "name": "stdout",
     "output_type": "stream",
     "text": [
      "train\n",
      "정확도: 1.0, recall: 1.0, Precision: 1.0, f1점수: 1.0\n",
      "test\n",
      "정확도: 0.956140350877193, recall: 0.9861111111111112, Precision: 0.9466666666666667, f1점수: 0.9659863945578231\n"
     ]
    }
   ],
   "source": [
    "gb = GradientBoostingClassifier(random_state=157)\n",
    "\n",
    "gb.fit(X_train, y_train)\n",
    "pred_train = gb.predict(X_train)\n",
    "pred_test = gb.predict(X_test)\n",
    "\n",
    "print_metrics(y_train, pred_train, title='train')\n",
    "print_metrics(y_test, pred_test, title='test')"
   ]
  },
  {
   "cell_type": "code",
   "execution_count": 14,
   "metadata": {},
   "outputs": [
    {
     "name": "stdout",
     "output_type": "stream",
     "text": [
      "train\n",
      "정확도: 0.9912087912087912, recall: 1.0, Precision: 0.986159169550173, f1점수: 0.9930313588850175\n",
      "test\n",
      "정확도: 0.956140350877193, recall: 0.9861111111111112, Precision: 0.9466666666666667, f1점수: 0.9659863945578231\n"
     ]
    }
   ],
   "source": [
    "gb = GradientBoostingClassifier(random_state=157, max_depth=1)\n",
    "\n",
    "gb.fit(X_train, y_train)\n",
    "pred_train = gb.predict(X_train)\n",
    "pred_test = gb.predict(X_test)\n",
    "\n",
    "print_metrics(y_train, pred_train, title='train')\n",
    "print_metrics(y_test, pred_test, title='test')"
   ]
  },
  {
   "cell_type": "code",
   "execution_count": 15,
   "metadata": {},
   "outputs": [
    {
     "name": "stdout",
     "output_type": "stream",
     "text": [
      "train\n",
      "정확도: 0.9406593406593406, recall: 0.9894736842105263, Precision: 0.9215686274509803, f1점수: 0.9543147208121827\n",
      "test\n",
      "정확도: 0.9210526315789473, recall: 1.0, Precision: 0.8888888888888888, f1점수: 0.9411764705882353\n"
     ]
    }
   ],
   "source": [
    "gb = GradientBoostingClassifier(random_state=157, max_depth=1,\n",
    "                                learning_rate=0.001, n_estimators=1000)\n",
    "\n",
    "gb.fit(X_train, y_train)\n",
    "pred_train = gb.predict(X_train)\n",
    "pred_test = gb.predict(X_test)\n",
    "\n",
    "print_metrics(y_train, pred_train, title='train')\n",
    "print_metrics(y_test, pred_test, title='test')"
   ]
  },
  {
   "cell_type": "code",
   "execution_count": 16,
   "metadata": {},
   "outputs": [
    {
     "data": {
      "text/plain": [
       "array([0.        , 0.        , 0.        , 0.        , 0.        ,\n",
       "       0.        , 0.        , 0.26344023, 0.        , 0.        ,\n",
       "       0.        , 0.        , 0.        , 0.        , 0.        ,\n",
       "       0.        , 0.        , 0.        , 0.        , 0.        ,\n",
       "       0.03713345, 0.        , 0.33063152, 0.13140424, 0.        ,\n",
       "       0.        , 0.        , 0.23739055, 0.        , 0.        ])"
      ]
     },
     "execution_count": 16,
     "metadata": {},
     "output_type": "execute_result"
    }
   ],
   "source": [
    "gb.feature_importances_"
   ]
  },
  {
   "cell_type": "code",
   "execution_count": 19,
   "metadata": {},
   "outputs": [
    {
     "data": {
      "text/plain": [
       "worst perimeter            0.330632\n",
       "mean concave points        0.263440\n",
       "worst concave points       0.237391\n",
       "worst area                 0.131404\n",
       "worst radius               0.037133\n",
       "mean radius                0.000000\n",
       "concavity error            0.000000\n",
       "worst symmetry             0.000000\n",
       "worst concavity            0.000000\n",
       "worst compactness          0.000000\n",
       "worst smoothness           0.000000\n",
       "worst texture              0.000000\n",
       "fractal dimension error    0.000000\n",
       "symmetry error             0.000000\n",
       "concave points error       0.000000\n",
       "compactness error          0.000000\n",
       "mean texture               0.000000\n",
       "smoothness error           0.000000\n",
       "area error                 0.000000\n",
       "perimeter error            0.000000\n",
       "texture error              0.000000\n",
       "radius error               0.000000\n",
       "mean fractal dimension     0.000000\n",
       "mean symmetry              0.000000\n",
       "mean concavity             0.000000\n",
       "mean compactness           0.000000\n",
       "mean smoothness            0.000000\n",
       "mean area                  0.000000\n",
       "mean perimeter             0.000000\n",
       "worst fractal dimension    0.000000\n",
       "dtype: float64"
      ]
     },
     "execution_count": 19,
     "metadata": {},
     "output_type": "execute_result"
    }
   ],
   "source": [
    "import pandas as pd\n",
    "\n",
    "fi = pd.Series(gb.feature_importances_, index=data['feature_names'])\n",
    "fi.sort_values(ascending=False)"
   ]
  },
  {
   "cell_type": "code",
   "execution_count": 20,
   "metadata": {},
   "outputs": [
    {
     "data": {
      "text/plain": [
       "<AxesSubplot:>"
      ]
     },
     "execution_count": 20,
     "metadata": {},
     "output_type": "execute_result"
    },
    {
     "data": {
      "image/png": "[encoded data removed]",
      "text/plain": [
       "<Figure size 576x432 with 1 Axes>"
      ]
     },
     "metadata": {
      "needs_background": "light"
     },
     "output_type": "display_data"
    }
   ],
   "source": [
    "fi.sort_values().plot(kind='barh', figsize=(8, 6))"
   ]
  },
  {
   "cell_type": "code",
   "execution_count": 52,
   "metadata": {},
   "outputs": [
    {
     "data": {
      "text/plain": [
       "RandomizedSearchCV(cv=4, estimator=GradientBoostingClassifier(random_state=157),\n",
       "                   n_iter=60, n_jobs=-1,\n",
       "                   param_distributions={'learning_rate': [0.001, 0.05, 0.01,\n",
       "                                                          0.1, 0.5],\n",
       "                                        'max_depth': [1, 2, 3],\n",
       "                                        'n_estimators': range(500, 1001, 100),\n",
       "                                        'subsample': [0.5, 0.7, 0.9, 1]},\n",
       "                   scoring='accuracy')"
      ]
     },
     "execution_count": 52,
     "metadata": {},
     "output_type": "execute_result"
    }
   ],
   "source": [
    "from sklearn.model_selection import RandomizedSearchCV\n",
    "\n",
    "param = {\n",
    "    'n_estimators': range(500, 1001, 100),\n",
    "    'learning_rate': [0.001, 0.05, 0.01, 0.1, 0.5],\n",
    "    'max_depth': [1, 2, 3],\n",
    "    'subsample': [.5, .7, .9, 1]\n",
    "}\n",
    "\n",
    "rs = RandomizedSearchCV(GradientBoostingClassifier(random_state=157),\n",
    "                        param, cv=4, n_iter=60, scoring='accuracy',\n",
    "                        n_jobs=-1)\n",
    "\n",
    "rs.fit(X_train, y_train)"
   ]
  },
  {
   "cell_type": "code",
   "execution_count": 53,
   "metadata": {},
   "outputs": [
    {
     "data": {
      "text/html": [
       "<div>\n",
       "<style scoped>\n",
       "    .dataframe tbody tr th:only-of-type {\n",
       "        vertical-align: middle;\n",
       "    }\n",
       "\n",
       "    .dataframe tbody tr th {\n",
       "        vertical-align: top;\n",
       "    }\n",
       "\n",
       "    .dataframe thead th {\n",
       "        text-align: right;\n",
       "    }\n",
       "</style>\n",
       "<table border=\"1\" class=\"dataframe\">\n",
       "  <thead>\n",
       "    <tr style=\"text-align: right;\">\n",
       "      <th></th>\n",
       "      <th>mean_fit_time</th>\n",
       "      <th>std_fit_time</th>\n",
       "      <th>mean_score_time</th>\n",
       "      <th>std_score_time</th>\n",
       "      <th>param_subsample</th>\n",
       "      <th>param_n_estimators</th>\n",
       "      <th>param_max_depth</th>\n",
       "      <th>param_learning_rate</th>\n",
       "      <th>params</th>\n",
       "      <th>split0_test_score</th>\n",
       "      <th>split1_test_score</th>\n",
       "      <th>split2_test_score</th>\n",
       "      <th>split3_test_score</th>\n",
       "      <th>mean_test_score</th>\n",
       "      <th>std_test_score</th>\n",
       "      <th>rank_test_score</th>\n",
       "    </tr>\n",
       "  </thead>\n",
       "  <tbody>\n",
       "    <tr>\n",
       "      <th>39</th>\n",
       "      <td>0.480535</td>\n",
       "      <td>0.062454</td>\n",
       "      <td>0.001156</td>\n",
       "      <td>2.756466e-04</td>\n",
       "      <td>0.5</td>\n",
       "      <td>900</td>\n",
       "      <td>3</td>\n",
       "      <td>0.5</td>\n",
       "      <td>{'subsample': 0.5, 'n_estimators': 900, 'max_d...</td>\n",
       "      <td>0.981308</td>\n",
       "      <td>0.981308</td>\n",
       "      <td>0.981132</td>\n",
       "      <td>0.971698</td>\n",
       "      <td>0.978862</td>\n",
       "      <td>0.004137</td>\n",
       "      <td>1</td>\n",
       "    </tr>\n",
       "    <tr>\n",
       "      <th>43</th>\n",
       "      <td>0.311728</td>\n",
       "      <td>0.030668</td>\n",
       "      <td>0.000997</td>\n",
       "      <td>1.685874e-07</td>\n",
       "      <td>0.5</td>\n",
       "      <td>500</td>\n",
       "      <td>3</td>\n",
       "      <td>0.5</td>\n",
       "      <td>{'subsample': 0.5, 'n_estimators': 500, 'max_d...</td>\n",
       "      <td>0.981308</td>\n",
       "      <td>0.981308</td>\n",
       "      <td>0.981132</td>\n",
       "      <td>0.971698</td>\n",
       "      <td>0.978862</td>\n",
       "      <td>0.004137</td>\n",
       "      <td>1</td>\n",
       "    </tr>\n",
       "    <tr>\n",
       "      <th>20</th>\n",
       "      <td>0.419982</td>\n",
       "      <td>0.056172</td>\n",
       "      <td>0.000748</td>\n",
       "      <td>4.317769e-04</td>\n",
       "      <td>0.5</td>\n",
       "      <td>700</td>\n",
       "      <td>3</td>\n",
       "      <td>0.5</td>\n",
       "      <td>{'subsample': 0.5, 'n_estimators': 700, 'max_d...</td>\n",
       "      <td>0.981308</td>\n",
       "      <td>0.981308</td>\n",
       "      <td>0.981132</td>\n",
       "      <td>0.971698</td>\n",
       "      <td>0.978862</td>\n",
       "      <td>0.004137</td>\n",
       "      <td>1</td>\n",
       "    </tr>\n",
       "    <tr>\n",
       "      <th>36</th>\n",
       "      <td>0.456645</td>\n",
       "      <td>0.005706</td>\n",
       "      <td>0.000937</td>\n",
       "      <td>1.125109e-04</td>\n",
       "      <td>0.5</td>\n",
       "      <td>1000</td>\n",
       "      <td>1</td>\n",
       "      <td>0.5</td>\n",
       "      <td>{'subsample': 0.5, 'n_estimators': 1000, 'max_...</td>\n",
       "      <td>0.990654</td>\n",
       "      <td>0.981308</td>\n",
       "      <td>0.981132</td>\n",
       "      <td>0.962264</td>\n",
       "      <td>0.978840</td>\n",
       "      <td>0.010316</td>\n",
       "      <td>4</td>\n",
       "    </tr>\n",
       "    <tr>\n",
       "      <th>32</th>\n",
       "      <td>0.301486</td>\n",
       "      <td>0.007178</td>\n",
       "      <td>0.000995</td>\n",
       "      <td>4.110560e-06</td>\n",
       "      <td>0.5</td>\n",
       "      <td>500</td>\n",
       "      <td>1</td>\n",
       "      <td>0.5</td>\n",
       "      <td>{'subsample': 0.5, 'n_estimators': 500, 'max_d...</td>\n",
       "      <td>0.990654</td>\n",
       "      <td>0.971963</td>\n",
       "      <td>0.981132</td>\n",
       "      <td>0.962264</td>\n",
       "      <td>0.976503</td>\n",
       "      <td>0.010548</td>\n",
       "      <td>5</td>\n",
       "    </tr>\n",
       "  </tbody>\n",
       "</table>\n",
       "</div>"
      ],
      "text/plain": [
       "    mean_fit_time  std_fit_time  mean_score_time  std_score_time  \\\n",
       "39       0.480535      0.062454         0.001156    2.756466e-04   \n",
       "43       0.311728      0.030668         0.000997    1.685874e-07   \n",
       "20       0.419982      0.056172         0.000748    4.317769e-04   \n",
       "36       0.456645      0.005706         0.000937    1.125109e-04   \n",
       "32       0.301486      0.007178         0.000995    4.110560e-06   \n",
       "\n",
       "   param_subsample param_n_estimators param_max_depth param_learning_rate  \\\n",
       "39             0.5                900               3                 0.5   \n",
       "43             0.5                500               3                 0.5   \n",
       "20             0.5                700               3                 0.5   \n",
       "36             0.5               1000               1                 0.5   \n",
       "32             0.5                500               1                 0.5   \n",
       "\n",
       "                                               params  split0_test_score  \\\n",
       "39  {'subsample': 0.5, 'n_estimators': 900, 'max_d...           0.981308   \n",
       "43  {'subsample': 0.5, 'n_estimators': 500, 'max_d...           0.981308   \n",
       "20  {'subsample': 0.5, 'n_estimators': 700, 'max_d...           0.981308   \n",
       "36  {'subsample': 0.5, 'n_estimators': 1000, 'max_...           0.990654   \n",
       "32  {'subsample': 0.5, 'n_estimators': 500, 'max_d...           0.990654   \n",
       "\n",
       "    split1_test_score  split2_test_score  split3_test_score  mean_test_score  \\\n",
       "39           0.981308           0.981132           0.971698         0.978862   \n",
       "43           0.981308           0.981132           0.971698         0.978862   \n",
       "20           0.981308           0.981132           0.971698         0.978862   \n",
       "36           0.981308           0.981132           0.962264         0.978840   \n",
       "32           0.971963           0.981132           0.962264         0.976503   \n",
       "\n",
       "    std_test_score  rank_test_score  \n",
       "39        0.004137                1  \n",
       "43        0.004137                1  \n",
       "20        0.004137                1  \n",
       "36        0.010316                4  \n",
       "32        0.010548                5  "
      ]
     },
     "execution_count": 53,
     "metadata": {},
     "output_type": "execute_result"
    }
   ],
   "source": [
    "result_df = pd.DataFrame(rs.cv_results_)\n",
    "result_df.sort_values('rank_test_score').head()"
   ]
  },
  {
   "cell_type": "code",
   "execution_count": 54,
   "metadata": {},
   "outputs": [
    {
     "data": {
      "text/plain": [
       "{'subsample': 0.5, 'n_estimators': 700, 'max_depth': 3, 'learning_rate': 0.5}"
      ]
     },
     "execution_count": 54,
     "metadata": {},
     "output_type": "execute_result"
    }
   ],
   "source": [
    "rs.best_params_"
   ]
  },
  {
   "cell_type": "code",
   "execution_count": 55,
   "metadata": {},
   "outputs": [
    {
     "data": {
      "text/plain": [
       "0.978861752777288"
      ]
     },
     "execution_count": 55,
     "metadata": {},
     "output_type": "execute_result"
    }
   ],
   "source": [
    "rs.best_score_"
   ]
  },
  {
   "cell_type": "code",
   "execution_count": 57,
   "metadata": {},
   "outputs": [
    {
     "name": "stdout",
     "output_type": "stream",
     "text": [
      "accuracy_score: 0.9440559440559441\n"
     ]
    }
   ],
   "source": [
    "best_model = rs.best_estimator_\n",
    "pred_test = best_model.predict(X_test)\n",
    "\n",
    "print_metrics(y_test, pred_test)"
   ]
  },
  {
   "cell_type": "code",
   "execution_count": 58,
   "metadata": {},
   "outputs": [
    {
     "data": {
      "text/plain": [
       "worst concave points       0.433601\n",
       "worst perimeter            0.185450\n",
       "texture error              0.062065\n",
       "mean concave points        0.062046\n",
       "mean texture               0.044016\n",
       "worst area                 0.038604\n",
       "worst texture              0.031685\n",
       "worst smoothness           0.023211\n",
       "radius error               0.019416\n",
       "worst concavity            0.012176\n",
       "mean smoothness            0.009106\n",
       "mean compactness           0.008961\n",
       "area error                 0.008755\n",
       "worst symmetry             0.007502\n",
       "concavity error            0.007340\n",
       "worst radius               0.006669\n",
       "fractal dimension error    0.005744\n",
       "smoothness error           0.005719\n",
       "compactness error          0.005484\n",
       "mean concavity             0.004953\n",
       "mean perimeter             0.003603\n",
       "mean radius                0.003529\n",
       "worst compactness          0.002957\n",
       "mean area                  0.002831\n",
       "perimeter error            0.001518\n",
       "mean symmetry              0.001108\n",
       "mean fractal dimension     0.000716\n",
       "worst fractal dimension    0.000646\n",
       "symmetry error             0.000537\n",
       "concave points error       0.000051\n",
       "dtype: float64"
      ]
     },
     "execution_count": 58,
     "metadata": {},
     "output_type": "execute_result"
    }
   ],
   "source": [
    "import numpy as np\n",
    "\n",
    "fi = pd.Series(best_model.feature_importances_, index=data['feature_names'])\n",
    "fi.sort_values(ascending=False)"
   ]
  },
  {
   "cell_type": "code",
   "execution_count": 59,
   "metadata": {},
   "outputs": [
    {
     "data": {
      "text/plain": [
       "<AxesSubplot:>"
      ]
     },
     "execution_count": 59,
     "metadata": {},
     "output_type": "execute_result"
    },
    {
     "data": {
      "image/png": "[encoded data removed]",
      "text/plain": [
       "<Figure size 504x504 with 1 Axes>"
      ]
     },
     "metadata": {
      "needs_background": "light"
     },
     "output_type": "display_data"
    }
   ],
   "source": [
    "fi.sort_values().plot(kind='barh', figsize=(7, 7))"
   ]
  },
  {
   "cell_type": "code",
   "execution_count": 60,
   "metadata": {},
   "outputs": [
    {
     "name": "stdout",
     "output_type": "stream",
     "text": [
      "[14:54:35] WARNING: ..\\src\\learner.cc:1061: Starting in XGBoost 1.3.0, the default evaluation metric used with the objective 'binary:logistic' was changed from 'error' to 'logloss'. Explicitly set eval_metric if you'd like to restore the old behavior.\n"
     ]
    },
    {
     "name": "stderr",
     "output_type": "stream",
     "text": [
      "C:\\Users\\user\\anaconda3\\envs\\ml\\lib\\site-packages\\xgboost\\sklearn.py:888: UserWarning: The use of label encoder in XGBClassifier is deprecated and will be removed in a future release. To remove this warning, do the following: 1) Pass option use_label_encoder=False when constructing XGBClassifier object; and 2) Encode your labels (y) as integers starting with 0, i.e. 0, 1, 2, ..., [num_class - 1].\n",
      "  warnings.warn(label_encoder_deprecation_msg, UserWarning)\n"
     ]
    },
    {
     "data": {
      "text/plain": [
       "XGBClassifier(base_score=0.5, booster='gbtree', colsample_bylevel=1,\n",
       "              colsample_bynode=1, colsample_bytree=1, gamma=0, gpu_id=-1,\n",
       "              importance_type='gain', interaction_constraints='',\n",
       "              learning_rate=0.01, max_delta_step=0, max_depth=2,\n",
       "              min_child_weight=1, missing=nan, monotone_constraints='()',\n",
       "              n_estimators=500, n_jobs=8, num_parallel_tree=1, random_state=157,\n",
       "              reg_alpha=0, reg_lambda=1, scale_pos_weight=1, subsample=1,\n",
       "              tree_method='exact', validate_parameters=1, verbosity=None)"
      ]
     },
     "execution_count": 60,
     "metadata": {},
     "output_type": "execute_result"
    }
   ],
   "source": [
    "from xgboost import XGBClassifier\n",
    "xgb = XGBClassifier(n_estimators=500, learning_rate=0.01, max_depth=2, random_state=157)\n",
    "xgb.fit(X_train, y_train)"
   ]
  },
  {
   "cell_type": "code",
   "execution_count": 63,
   "metadata": {},
   "outputs": [
    {
     "name": "stdout",
     "output_type": "stream",
     "text": [
      "xgb train\n",
      "정확도: 0.9929577464788732, recall: 1.0, Precision: 0.9888888888888889, f1점수: 0.9944134078212291\n",
      "xgb test\n",
      "정확도: 0.958041958041958, recall: 0.9777777777777777, Precision: 0.9565217391304348, f1점수: 0.967032967032967\n"
     ]
    }
   ],
   "source": [
    "from util import print_metrics\n",
    "pred_train = xgb.predict(X_train)\n",
    "pred_test = xgb.predict(X_test)\n",
    "\n",
    "print_metrics(y_train, pred_train, 'xgb train')\n",
    "print_metrics(y_test, pred_test, 'xgb test')"
   ]
  },
  {
   "cell_type": "code",
   "execution_count": 64,
   "metadata": {},
   "outputs": [
    {
     "data": {
      "text/plain": [
       "<AxesSubplot:>"
      ]
     },
     "execution_count": 64,
     "metadata": {},
     "output_type": "execute_result"
    },
    {
     "data": {
      "image/png": "[encoded data removed]",
      "text/plain": [
       "<Figure size 504x504 with 1 Axes>"
      ]
     },
     "metadata": {
      "needs_background": "light"
     },
     "output_type": "display_data"
    }
   ],
   "source": [
    "pd.Series(xgb.feature_importances_, index=data.feature_names).sort_values().plot(kind='barh', figsize=(7, 7))"
   ]
  },
  {
   "cell_type": "code",
   "execution_count": null,
   "metadata": {},
   "outputs": [],
   "source": []
  },
  {
   "cell_type": "code",
   "execution_count": 22,
   "metadata": {},
   "outputs": [],
   "source": [
    "from sklearn.datasets import load_breast_cancer\n",
    "from sklearn.preprocessing import StandardScaler\n",
    "from sklearn.model_selection import train_test_split\n",
    "from sklearn.svm import SVC\n",
    "from sklearn.neighbors import KNeighborsClassifier\n",
    "from sklearn.ensemble import RandomForestClassifier, VotingClassifier\n",
    "from sklearn.metrics import accuracy_score"
   ]
  },
  {
   "cell_type": "code",
   "execution_count": 23,
   "metadata": {},
   "outputs": [
    {
     "data": {
      "text/plain": [
       "((426, 30), (143, 30))"
      ]
     },
     "execution_count": 23,
     "metadata": {},
     "output_type": "execute_result"
    }
   ],
   "source": [
    "X, y = load_breast_cancer(return_X_y=True)\n",
    "\n",
    "X_train, X_test, y_train, y_test = train_test_split(X, y, stratify=y, random_state=157)\n",
    "\n",
    "X_train.shape, X_test.shape"
   ]
  },
  {
   "cell_type": "code",
   "execution_count": 24,
   "metadata": {},
   "outputs": [],
   "source": [
    "scaler = StandardScaler()\n",
    "X_train_scaled = scaler.fit_transform(X_train)\n",
    "X_test_scaled = scaler.fit_transform(X_test)\n",
    "\n",
    "def print_metrics(y, pred, title=None):\n",
    "    acc = accuracy_score(y, pred)\n",
    "    if title:\n",
    "        print(title)\n",
    "    print('accuracy_score:', acc)"
   ]
  },
  {
   "cell_type": "code",
   "execution_count": 25,
   "metadata": {},
   "outputs": [
    {
     "name": "stdout",
     "output_type": "stream",
     "text": [
      "train SVC\n",
      "accuracy_score: 0.9882629107981221\n",
      "train KNN\n",
      "accuracy_score: 0.9812206572769953\n",
      "train_rf\n",
      "accuracy_score: 0.9929577464788732\n",
      "test SVC\n",
      "accuracy_score: 0.972027972027972\n",
      "test KNN\n",
      "accuracy_score: 0.972027972027972\n",
      "test_rf\n",
      "accuracy_score: 0.951048951048951\n"
     ]
    }
   ],
   "source": [
    "svc = SVC(random_state=157)\n",
    "knn = KNeighborsClassifier(n_neighbors=5)\n",
    "rf = RandomForestClassifier(n_estimators=200, max_depth=5, random_state=157)\n",
    "\n",
    "svc.fit(X_train_scaled, y_train)\n",
    "knn.fit(X_train_scaled, y_train)\n",
    "rf.fit(X_train, y_train)\n",
    "\n",
    "pred_train_svc = svc.predict(X_train_scaled)\n",
    "pred_train_knn = knn.predict(X_train_scaled)\n",
    "pred_train_rf = rf.predict(X_train)\n",
    "\n",
    "pred_test_svc = svc.predict(X_test_scaled)\n",
    "pred_test_knn = knn.predict(X_test_scaled)\n",
    "pred_test_rf = rf.predict(X_test)\n",
    "\n",
    "print_metrics(y_train, pred_train_svc, 'train SVC')\n",
    "print_metrics(y_train, pred_train_knn, 'train KNN')\n",
    "print_metrics(y_train, pred_train_rf, 'train_rf')\n",
    "\n",
    "print_metrics(y_test, pred_test_svc, 'test SVC')\n",
    "print_metrics(y_test, pred_test_knn, 'test KNN')\n",
    "print_metrics(y_test, pred_test_rf, 'test_rf')"
   ]
  },
  {
   "cell_type": "code",
   "execution_count": 26,
   "metadata": {},
   "outputs": [
    {
     "name": "stdout",
     "output_type": "stream",
     "text": [
      "train\n",
      "accuracy_score: 0.9906103286384976\n",
      "test\n",
      "accuracy_score: 0.965034965034965\n"
     ]
    }
   ],
   "source": [
    "estimators = [\n",
    "    ('svc', svc),\n",
    "    ('knn', knn),\n",
    "    ('rf', rf)\n",
    "]\n",
    "\n",
    "voting = VotingClassifier(estimators)\n",
    "voting.fit(X_train_scaled, y_train)\n",
    "\n",
    "pred_train = voting.predict(X_train_scaled)\n",
    "pred_test = voting.predict(X_test_scaled)\n",
    "\n",
    "print_metrics(y_train, pred_train, 'train')\n",
    "print_metrics(y_test, pred_test, 'test')"
   ]
  },
  {
   "cell_type": "code",
   "execution_count": 27,
   "metadata": {},
   "outputs": [
    {
     "name": "stdout",
     "output_type": "stream",
     "text": [
      "train\n",
      "accuracy_score: 0.9906103286384976\n",
      "test\n",
      "accuracy_score: 0.965034965034965\n"
     ]
    }
   ],
   "source": [
    "estimators = [\n",
    "    ('svc', SVC(random_state=157, probability=True)),\n",
    "    ('knn', knn),\n",
    "    ('rf', rf)\n",
    "]\n",
    "\n",
    "voting = VotingClassifier(estimators, voting='soft')\n",
    "voting.fit(X_train_scaled, y_train)\n",
    "\n",
    "pred_train = voting.predict(X_train_scaled)\n",
    "pred_test = voting.predict(X_test_scaled)\n",
    "\n",
    "print_metrics(y_train, pred_train, 'train')\n",
    "print_metrics(y_test, pred_test, 'test')"
   ]
  },
  {
   "cell_type": "code",
   "execution_count": 28,
   "metadata": {},
   "outputs": [
    {
     "name": "stdout",
     "output_type": "stream",
     "text": [
      "accuracy_score: 0.9906103286384976\n",
      "accuracy_score: 0.951048951048951\n"
     ]
    }
   ],
   "source": [
    "from sklearn.pipeline import Pipeline, make_pipeline\n",
    "\n",
    "order_knn = [\n",
    "    ('scaler', StandardScaler()),\n",
    "    ('knn', KNeighborsClassifier())\n",
    "]\n",
    "\n",
    "order_svc = [\n",
    "    ('scaler', StandardScaler()),\n",
    "    ('svc', SVC(random_state=157, probability=True))\n",
    "]\n",
    "\n",
    "knn_pl = Pipeline(order_knn)\n",
    "svc_pl = Pipeline(order_svc)\n",
    "\n",
    "rf = RandomForestClassifier(n_estimators=200, max_depth=5, random_state=157)\n",
    "\n",
    "estimators = [\n",
    "    ('knn', knn_pl),\n",
    "    ('svc', svc_pl),\n",
    "    ('rf', rf)\n",
    "]\n",
    "\n",
    "voting = VotingClassifier(estimators, voting='soft')\n",
    "voting.fit(X_train, y_train)\n",
    "\n",
    "print_metrics(y_train, voting.predict(X_train))\n",
    "print_metrics(y_test, voting.predict(X_test))\n"
   ]
  },
  {
   "cell_type": "code",
   "execution_count": null,
   "metadata": {},
   "outputs": [],
   "source": []
  },
  {
   "cell_type": "code",
   "execution_count": null,
   "metadata": {},
   "outputs": [],
   "source": []
  },
  {
   "cell_type": "code",
   "execution_count": 29,
   "metadata": {},
   "outputs": [
    {
     "data": {
      "text/plain": [
       "(6497, 13)"
      ]
     },
     "execution_count": 29,
     "metadata": {},
     "output_type": "execute_result"
    }
   ],
   "source": [
    "import pandas as pd\n",
    "import numpy as np\n",
    "import matplotlib.pyplot as plt\n",
    "\n",
    "wine = pd.read_csv('data/wine.csv')\n",
    "wine.shape"
   ]
  },
  {
   "cell_type": "code",
   "execution_count": 30,
   "metadata": {},
   "outputs": [
    {
     "name": "stdout",
     "output_type": "stream",
     "text": [
      "<class 'pandas.core.frame.DataFrame'>\n",
      "RangeIndex: 6497 entries, 0 to 6496\n",
      "Data columns (total 13 columns):\n",
      " #   Column                Non-Null Count  Dtype  \n",
      "---  ------                --------------  -----  \n",
      " 0   fixed acidity         6497 non-null   float64\n",
      " 1   volatile acidity      6497 non-null   float64\n",
      " 2   citric acid           6497 non-null   float64\n",
      " 3   residual sugar        6497 non-null   float64\n",
      " 4   chlorides             6497 non-null   float64\n",
      " 5   free sulfur dioxide   6497 non-null   float64\n",
      " 6   total sulfur dioxide  6497 non-null   float64\n",
      " 7   density               6497 non-null   float64\n",
      " 8   pH                    6497 non-null   float64\n",
      " 9   sulphates             6497 non-null   float64\n",
      " 10  alcohol               6497 non-null   float64\n",
      " 11  quality               6497 non-null   object \n",
      " 12  color                 6497 non-null   int64  \n",
      "dtypes: float64(11), int64(1), object(1)\n",
      "memory usage: 660.0+ KB\n"
     ]
    }
   ],
   "source": [
    "wine.info()"
   ]
  },
  {
   "cell_type": "code",
   "execution_count": 31,
   "metadata": {},
   "outputs": [
    {
     "data": {
      "text/html": [
       "<div>\n",
       "<style scoped>\n",
       "    .dataframe tbody tr th:only-of-type {\n",
       "        vertical-align: middle;\n",
       "    }\n",
       "\n",
       "    .dataframe tbody tr th {\n",
       "        vertical-align: top;\n",
       "    }\n",
       "\n",
       "    .dataframe thead th {\n",
       "        text-align: right;\n",
       "    }\n",
       "</style>\n",
       "<table border=\"1\" class=\"dataframe\">\n",
       "  <thead>\n",
       "    <tr style=\"text-align: right;\">\n",
       "      <th></th>\n",
       "      <th>fixed acidity</th>\n",
       "      <th>volatile acidity</th>\n",
       "      <th>citric acid</th>\n",
       "      <th>residual sugar</th>\n",
       "      <th>chlorides</th>\n",
       "      <th>free sulfur dioxide</th>\n",
       "      <th>total sulfur dioxide</th>\n",
       "      <th>density</th>\n",
       "      <th>pH</th>\n",
       "      <th>sulphates</th>\n",
       "      <th>alcohol</th>\n",
       "      <th>quality</th>\n",
       "      <th>color</th>\n",
       "    </tr>\n",
       "  </thead>\n",
       "  <tbody>\n",
       "    <tr>\n",
       "      <th>0</th>\n",
       "      <td>7.4</td>\n",
       "      <td>0.70</td>\n",
       "      <td>0.00</td>\n",
       "      <td>1.9</td>\n",
       "      <td>0.076</td>\n",
       "      <td>11.0</td>\n",
       "      <td>34.0</td>\n",
       "      <td>0.9978</td>\n",
       "      <td>3.51</td>\n",
       "      <td>0.56</td>\n",
       "      <td>9.4</td>\n",
       "      <td>C</td>\n",
       "      <td>1</td>\n",
       "    </tr>\n",
       "    <tr>\n",
       "      <th>1</th>\n",
       "      <td>7.8</td>\n",
       "      <td>0.88</td>\n",
       "      <td>0.00</td>\n",
       "      <td>2.6</td>\n",
       "      <td>0.098</td>\n",
       "      <td>25.0</td>\n",
       "      <td>67.0</td>\n",
       "      <td>0.9968</td>\n",
       "      <td>3.20</td>\n",
       "      <td>0.68</td>\n",
       "      <td>9.8</td>\n",
       "      <td>C</td>\n",
       "      <td>1</td>\n",
       "    </tr>\n",
       "    <tr>\n",
       "      <th>2</th>\n",
       "      <td>7.8</td>\n",
       "      <td>0.76</td>\n",
       "      <td>0.04</td>\n",
       "      <td>2.3</td>\n",
       "      <td>0.092</td>\n",
       "      <td>15.0</td>\n",
       "      <td>54.0</td>\n",
       "      <td>0.9970</td>\n",
       "      <td>3.26</td>\n",
       "      <td>0.65</td>\n",
       "      <td>9.8</td>\n",
       "      <td>C</td>\n",
       "      <td>1</td>\n",
       "    </tr>\n",
       "    <tr>\n",
       "      <th>3</th>\n",
       "      <td>11.2</td>\n",
       "      <td>0.28</td>\n",
       "      <td>0.56</td>\n",
       "      <td>1.9</td>\n",
       "      <td>0.075</td>\n",
       "      <td>17.0</td>\n",
       "      <td>60.0</td>\n",
       "      <td>0.9980</td>\n",
       "      <td>3.16</td>\n",
       "      <td>0.58</td>\n",
       "      <td>9.8</td>\n",
       "      <td>B</td>\n",
       "      <td>1</td>\n",
       "    </tr>\n",
       "    <tr>\n",
       "      <th>4</th>\n",
       "      <td>7.4</td>\n",
       "      <td>0.70</td>\n",
       "      <td>0.00</td>\n",
       "      <td>1.9</td>\n",
       "      <td>0.076</td>\n",
       "      <td>11.0</td>\n",
       "      <td>34.0</td>\n",
       "      <td>0.9978</td>\n",
       "      <td>3.51</td>\n",
       "      <td>0.56</td>\n",
       "      <td>9.4</td>\n",
       "      <td>C</td>\n",
       "      <td>1</td>\n",
       "    </tr>\n",
       "  </tbody>\n",
       "</table>\n",
       "</div>"
      ],
      "text/plain": [
       "   fixed acidity  volatile acidity  citric acid  residual sugar  chlorides  \\\n",
       "0            7.4              0.70         0.00             1.9      0.076   \n",
       "1            7.8              0.88         0.00             2.6      0.098   \n",
       "2            7.8              0.76         0.04             2.3      0.092   \n",
       "3           11.2              0.28         0.56             1.9      0.075   \n",
       "4            7.4              0.70         0.00             1.9      0.076   \n",
       "\n",
       "   free sulfur dioxide  total sulfur dioxide  density    pH  sulphates  \\\n",
       "0                 11.0                  34.0   0.9978  3.51       0.56   \n",
       "1                 25.0                  67.0   0.9968  3.20       0.68   \n",
       "2                 15.0                  54.0   0.9970  3.26       0.65   \n",
       "3                 17.0                  60.0   0.9980  3.16       0.58   \n",
       "4                 11.0                  34.0   0.9978  3.51       0.56   \n",
       "\n",
       "   alcohol quality  color  \n",
       "0      9.4       C      1  \n",
       "1      9.8       C      1  \n",
       "2      9.8       C      1  \n",
       "3      9.8       B      1  \n",
       "4      9.4       C      1  "
      ]
     },
     "execution_count": 31,
     "metadata": {},
     "output_type": "execute_result"
    }
   ],
   "source": [
    "wine.head()"
   ]
  },
  {
   "cell_type": "code",
   "execution_count": 32,
   "metadata": {},
   "outputs": [
    {
     "data": {
      "text/plain": [
       "0    4898\n",
       "1    1599\n",
       "Name: color, dtype: int64"
      ]
     },
     "execution_count": 32,
     "metadata": {},
     "output_type": "execute_result"
    }
   ],
   "source": [
    "wine['color'].value_counts()"
   ]
  },
  {
   "cell_type": "code",
   "execution_count": 33,
   "metadata": {},
   "outputs": [
    {
     "data": {
      "text/plain": [
       "0    0.753886\n",
       "1    0.246114\n",
       "Name: color, dtype: float64"
      ]
     },
     "execution_count": 33,
     "metadata": {},
     "output_type": "execute_result"
    }
   ],
   "source": [
    "wine['color'].value_counts()/len(wine)"
   ]
  },
  {
   "cell_type": "code",
   "execution_count": 34,
   "metadata": {},
   "outputs": [
    {
     "data": {
      "text/plain": [
       "((6497, 12), (6497,))"
      ]
     },
     "execution_count": 34,
     "metadata": {},
     "output_type": "execute_result"
    }
   ],
   "source": [
    "# X = wine.drop(labels='color', axis=1)\n",
    "X = wine.iloc[:, :-1]\n",
    "y = wine['color']\n",
    "X.shape, y.shape"
   ]
  },
  {
   "cell_type": "code",
   "execution_count": 35,
   "metadata": {},
   "outputs": [
    {
     "name": "stdout",
     "output_type": "stream",
     "text": [
      "['A' 'B' 'C']\n"
     ]
    }
   ],
   "source": [
    "from sklearn.preprocessing import LabelEncoder\n",
    "from sklearn.model_selection import train_test_split\n",
    "\n",
    "encoder = LabelEncoder()\n",
    "\n",
    "X['quality'] = encoder.fit_transform(X['quality'])\n",
    "\n",
    "print(encoder.classes_)"
   ]
  },
  {
   "cell_type": "code",
   "execution_count": 36,
   "metadata": {},
   "outputs": [
    {
     "data": {
      "text/html": [
       "<div>\n",
       "<style scoped>\n",
       "    .dataframe tbody tr th:only-of-type {\n",
       "        vertical-align: middle;\n",
       "    }\n",
       "\n",
       "    .dataframe tbody tr th {\n",
       "        vertical-align: top;\n",
       "    }\n",
       "\n",
       "    .dataframe thead th {\n",
       "        text-align: right;\n",
       "    }\n",
       "</style>\n",
       "<table border=\"1\" class=\"dataframe\">\n",
       "  <thead>\n",
       "    <tr style=\"text-align: right;\">\n",
       "      <th></th>\n",
       "      <th>fixed acidity</th>\n",
       "      <th>volatile acidity</th>\n",
       "      <th>citric acid</th>\n",
       "      <th>residual sugar</th>\n",
       "      <th>chlorides</th>\n",
       "      <th>free sulfur dioxide</th>\n",
       "      <th>total sulfur dioxide</th>\n",
       "      <th>density</th>\n",
       "      <th>pH</th>\n",
       "      <th>sulphates</th>\n",
       "      <th>alcohol</th>\n",
       "      <th>quality</th>\n",
       "    </tr>\n",
       "  </thead>\n",
       "  <tbody>\n",
       "    <tr>\n",
       "      <th>0</th>\n",
       "      <td>7.4</td>\n",
       "      <td>0.70</td>\n",
       "      <td>0.00</td>\n",
       "      <td>1.9</td>\n",
       "      <td>0.076</td>\n",
       "      <td>11.0</td>\n",
       "      <td>34.0</td>\n",
       "      <td>0.9978</td>\n",
       "      <td>3.51</td>\n",
       "      <td>0.56</td>\n",
       "      <td>9.4</td>\n",
       "      <td>2</td>\n",
       "    </tr>\n",
       "    <tr>\n",
       "      <th>1</th>\n",
       "      <td>7.8</td>\n",
       "      <td>0.88</td>\n",
       "      <td>0.00</td>\n",
       "      <td>2.6</td>\n",
       "      <td>0.098</td>\n",
       "      <td>25.0</td>\n",
       "      <td>67.0</td>\n",
       "      <td>0.9968</td>\n",
       "      <td>3.20</td>\n",
       "      <td>0.68</td>\n",
       "      <td>9.8</td>\n",
       "      <td>2</td>\n",
       "    </tr>\n",
       "    <tr>\n",
       "      <th>2</th>\n",
       "      <td>7.8</td>\n",
       "      <td>0.76</td>\n",
       "      <td>0.04</td>\n",
       "      <td>2.3</td>\n",
       "      <td>0.092</td>\n",
       "      <td>15.0</td>\n",
       "      <td>54.0</td>\n",
       "      <td>0.9970</td>\n",
       "      <td>3.26</td>\n",
       "      <td>0.65</td>\n",
       "      <td>9.8</td>\n",
       "      <td>2</td>\n",
       "    </tr>\n",
       "    <tr>\n",
       "      <th>3</th>\n",
       "      <td>11.2</td>\n",
       "      <td>0.28</td>\n",
       "      <td>0.56</td>\n",
       "      <td>1.9</td>\n",
       "      <td>0.075</td>\n",
       "      <td>17.0</td>\n",
       "      <td>60.0</td>\n",
       "      <td>0.9980</td>\n",
       "      <td>3.16</td>\n",
       "      <td>0.58</td>\n",
       "      <td>9.8</td>\n",
       "      <td>1</td>\n",
       "    </tr>\n",
       "    <tr>\n",
       "      <th>4</th>\n",
       "      <td>7.4</td>\n",
       "      <td>0.70</td>\n",
       "      <td>0.00</td>\n",
       "      <td>1.9</td>\n",
       "      <td>0.076</td>\n",
       "      <td>11.0</td>\n",
       "      <td>34.0</td>\n",
       "      <td>0.9978</td>\n",
       "      <td>3.51</td>\n",
       "      <td>0.56</td>\n",
       "      <td>9.4</td>\n",
       "      <td>2</td>\n",
       "    </tr>\n",
       "  </tbody>\n",
       "</table>\n",
       "</div>"
      ],
      "text/plain": [
       "   fixed acidity  volatile acidity  citric acid  residual sugar  chlorides  \\\n",
       "0            7.4              0.70         0.00             1.9      0.076   \n",
       "1            7.8              0.88         0.00             2.6      0.098   \n",
       "2            7.8              0.76         0.04             2.3      0.092   \n",
       "3           11.2              0.28         0.56             1.9      0.075   \n",
       "4            7.4              0.70         0.00             1.9      0.076   \n",
       "\n",
       "   free sulfur dioxide  total sulfur dioxide  density    pH  sulphates  \\\n",
       "0                 11.0                  34.0   0.9978  3.51       0.56   \n",
       "1                 25.0                  67.0   0.9968  3.20       0.68   \n",
       "2                 15.0                  54.0   0.9970  3.26       0.65   \n",
       "3                 17.0                  60.0   0.9980  3.16       0.58   \n",
       "4                 11.0                  34.0   0.9978  3.51       0.56   \n",
       "\n",
       "   alcohol  quality  \n",
       "0      9.4        2  \n",
       "1      9.8        2  \n",
       "2      9.8        2  \n",
       "3      9.8        1  \n",
       "4      9.4        2  "
      ]
     },
     "execution_count": 36,
     "metadata": {},
     "output_type": "execute_result"
    }
   ],
   "source": [
    "X.head()"
   ]
  },
  {
   "cell_type": "code",
   "execution_count": 37,
   "metadata": {},
   "outputs": [],
   "source": [
    "X_train, X_test, y_train, y_test = train_test_split(X, y, stratify=y, test_size=0.2, random_state=157)"
   ]
  },
  {
   "cell_type": "code",
   "execution_count": 38,
   "metadata": {},
   "outputs": [
    {
     "data": {
      "text/plain": [
       "((5197, 12), (1300, 12))"
      ]
     },
     "execution_count": 38,
     "metadata": {},
     "output_type": "execute_result"
    }
   ],
   "source": [
    "X_train.shape, X_test.shape"
   ]
  },
  {
   "cell_type": "code",
   "execution_count": 39,
   "metadata": {},
   "outputs": [],
   "source": [
    "from sklearn.tree import DecisionTreeClassifier\n",
    "\n",
    "tree = DecisionTreeClassifier()\n",
    "tree.fit(X_train, y_train)\n",
    "\n",
    "pred_train = tree.predict(X_train)\n",
    "pred_test = tree.predict(X_test)\n",
    "\n",
    "proba_train = tree.predict_proba(X_train)[:, 1]\n",
    "proba_test = tree.predict_proba(X_test)[:, 1]"
   ]
  },
  {
   "cell_type": "code",
   "execution_count": 40,
   "metadata": {},
   "outputs": [
    {
     "data": {
      "image/svg+xml": "<?xml version=\"1.0\" encoding=\"UTF-8\" standalone=\"no\"?>\n<!DOCTYPE svg PUBLIC \"-//W3C//DTD SVG 1.1//EN\"\n \"http://www.w3.org/Graphics/SVG/1.1/DTD/svg11.dtd\">\n<!-- Generated by graphviz version 2.49.3 (20211023.0002)\n -->\n<!-- Title: Tree Pages: 1 -->\n<svg width=\"3673pt\" height=\"1861pt\"\n viewBox=\"0.00 0.00 3672.50 1861.00\" xmlns=\"http://www.w3.org/2000/svg\" xmlns:xlink=\"http://www.w3.org/1999/xlink\">\n<g id=\"graph0\" class=\"graph\" transform=\"scale(1 1) rotate(0) translate(4 1857)\">\n<title>Tree</title>\n<polygon fill=\"white\" stroke=\"transparent\" points=\"-4,4 -4,-1857 3668.5,-1857 3668.5,4 -4,4\"/>\n<!-- 0 -->\n<g id=\"node1\" class=\"node\">\n<title>0</title>\n<path fill=\"#edaa7a\" stroke=\"black\" d=\"M1354.5,-1853C1354.5,-1853 1195.5,-1853 1195.5,-1853 1189.5,-1853 1183.5,-1847 1183.5,-1841 1183.5,-1841 1183.5,-1782 1183.5,-1782 1183.5,-1776 1189.5,-1770 1195.5,-1770 1195.5,-1770 1354.5,-1770 1354.5,-1770 1360.5,-1770 1366.5,-1776 1366.5,-1782 1366.5,-1782 1366.5,-1841 1366.5,-1841 1366.5,-1847 1360.5,-1853 1354.5,-1853\"/>\n<text text-anchor=\"middle\" x=\"1275\" y=\"-1837.8\" font-family=\"Helvetica,sans-Serif\" font-size=\"14.00\">total sulfur dioxide &lt;= 67.5</text>\n<text text-anchor=\"middle\" x=\"1275\" y=\"-1822.8\" font-family=\"Helvetica,sans-Serif\" font-size=\"14.00\">gini = 0.371</text>\n<text text-anchor=\"middle\" x=\"1275\" y=\"-1807.8\" font-family=\"Helvetica,sans-Serif\" font-size=\"14.00\">samples = 5197</text>\n<text text-anchor=\"middle\" x=\"1275\" y=\"-1792.8\" font-family=\"Helvetica,sans-Serif\" font-size=\"14.00\">value = [3918, 1279]</text>\n<text text-anchor=\"middle\" x=\"1275\" y=\"-1777.8\" font-family=\"Helvetica,sans-Serif\" font-size=\"14.00\">class = White</text>\n</g>\n<!-- 1 -->\n<g id=\"node2\" class=\"node\">\n<title>1</title>\n<path fill=\"#50a8e8\" stroke=\"black\" d=\"M830,-1734C830,-1734 716,-1734 716,-1734 710,-1734 704,-1728 704,-1722 704,-1722 704,-1663 704,-1663 704,-1657 710,-1651 716,-1651 716,-1651 830,-1651 830,-1651 836,-1651 842,-1657 842,-1663 842,-1663 842,-1722 842,-1722 842,-1728 836,-1734 830,-1734\"/>\n<text text-anchor=\"middle\" x=\"773\" y=\"-1718.8\" font-family=\"Helvetica,sans-Serif\" font-size=\"14.00\">chlorides &lt;= 0.046</text>\n<text text-anchor=\"middle\" x=\"773\" y=\"-1703.8\" font-family=\"Helvetica,sans-Serif\" font-size=\"14.00\">gini = 0.183</text>\n<text text-anchor=\"middle\" x=\"773\" y=\"-1688.8\" font-family=\"Helvetica,sans-Serif\" font-size=\"14.00\">samples = 1136</text>\n<text text-anchor=\"middle\" x=\"773\" y=\"-1673.8\" font-family=\"Helvetica,sans-Serif\" font-size=\"14.00\">value = [116, 1020]</text>\n<text text-anchor=\"middle\" x=\"773\" y=\"-1658.8\" font-family=\"Helvetica,sans-Serif\" font-size=\"14.00\">class = Red</text>\n</g>\n<!-- 0&#45;&gt;1 -->\n<g id=\"edge1\" class=\"edge\">\n<title>0&#45;&gt;1</title>\n<path fill=\"none\" stroke=\"black\" d=\"M1183.22,-1789.11C1088.45,-1767.02 942.12,-1732.92 852.24,-1711.97\"/>\n<polygon fill=\"black\" stroke=\"black\" points=\"852.91,-1708.53 842.38,-1709.67 851.32,-1715.35 852.91,-1708.53\"/>\n<text text-anchor=\"middle\" x=\"855.58\" y=\"-1727.2\" font-family=\"Helvetica,sans-Serif\" font-size=\"14.00\">True</text>\n</g>\n<!-- 36 -->\n<g id=\"node37\" class=\"node\">\n<title>36</title>\n<path fill=\"#e78a46\" stroke=\"black\" d=\"M2172,-1734C2172,-1734 2058,-1734 2058,-1734 2052,-1734 2046,-1728 2046,-1722 2046,-1722 2046,-1663 2046,-1663 2046,-1657 2052,-1651 2058,-1651 2058,-1651 2172,-1651 2172,-1651 2178,-1651 2184,-1657 2184,-1663 2184,-1663 2184,-1722 2184,-1722 2184,-1728 2178,-1734 2172,-1734\"/>\n<text text-anchor=\"middle\" x=\"2115\" y=\"-1718.8\" font-family=\"Helvetica,sans-Serif\" font-size=\"14.00\">chlorides &lt;= 0.069</text>\n<text text-anchor=\"middle\" x=\"2115\" y=\"-1703.8\" font-family=\"Helvetica,sans-Serif\" font-size=\"14.00\">gini = 0.119</text>\n<text text-anchor=\"middle\" x=\"2115\" y=\"-1688.8\" font-family=\"Helvetica,sans-Serif\" font-size=\"14.00\">samples = 4061</text>\n<text text-anchor=\"middle\" x=\"2115\" y=\"-1673.8\" font-family=\"Helvetica,sans-Serif\" font-size=\"14.00\">value = [3802, 259]</text>\n<text text-anchor=\"middle\" x=\"2115\" y=\"-1658.8\" font-family=\"Helvetica,sans-Serif\" font-size=\"14.00\">class = White</text>\n</g>\n<!-- 0&#45;&gt;36 -->\n<g id=\"edge36\" class=\"edge\">\n<title>0&#45;&gt;36</title>\n<path fill=\"none\" stroke=\"black\" d=\"M1366.9,-1797.7C1532.79,-1774.59 1879.53,-1726.3 2035.73,-1704.54\"/>\n<polygon fill=\"black\" stroke=\"black\" points=\"2036.31,-1707.99 2045.74,-1703.15 2035.35,-1701.06 2036.31,-1707.99\"/>\n<text text-anchor=\"middle\" x=\"2030.67\" y=\"-1719.39\" font-family=\"Helvetica,sans-Serif\" font-size=\"14.00\">False</text>\n</g>\n<!-- 2 -->\n<g id=\"node3\" class=\"node\">\n<title>2</title>\n<path fill=\"#e88e4d\" stroke=\"black\" d=\"M567.5,-1615C567.5,-1615 478.5,-1615 478.5,-1615 472.5,-1615 466.5,-1609 466.5,-1603 466.5,-1603 466.5,-1544 466.5,-1544 466.5,-1538 472.5,-1532 478.5,-1532 478.5,-1532 567.5,-1532 567.5,-1532 573.5,-1532 579.5,-1538 579.5,-1544 579.5,-1544 579.5,-1603 579.5,-1603 579.5,-1609 573.5,-1615 567.5,-1615\"/>\n<text text-anchor=\"middle\" x=\"523\" y=\"-1599.8\" font-family=\"Helvetica,sans-Serif\" font-size=\"14.00\">pH &lt;= 3.335</text>\n<text text-anchor=\"middle\" x=\"523\" y=\"-1584.8\" font-family=\"Helvetica,sans-Serif\" font-size=\"14.00\">gini = 0.167</text>\n<text text-anchor=\"middle\" x=\"523\" y=\"-1569.8\" font-family=\"Helvetica,sans-Serif\" font-size=\"14.00\">samples = 109</text>\n<text text-anchor=\"middle\" x=\"523\" y=\"-1554.8\" font-family=\"Helvetica,sans-Serif\" font-size=\"14.00\">value = [99, 10]</text>\n<text text-anchor=\"middle\" x=\"523\" y=\"-1539.8\" font-family=\"Helvetica,sans-Serif\" font-size=\"14.00\">class = White</text>\n</g>\n<!-- 1&#45;&gt;2 -->\n<g id=\"edge2\" class=\"edge\">\n<title>1&#45;&gt;2</title>\n<path fill=\"none\" stroke=\"black\" d=\"M703.69,-1659.06C667.88,-1642.3 624.39,-1621.95 589.06,-1605.42\"/>\n<polygon fill=\"black\" stroke=\"black\" points=\"590.33,-1602.15 579.79,-1601.08 587.37,-1608.49 590.33,-1602.15\"/>\n</g>\n<!-- 13 -->\n<g id=\"node14\" class=\"node\">\n<title>13</title>\n<path fill=\"#3c9fe5\" stroke=\"black\" d=\"M826,-1615C826,-1615 720,-1615 720,-1615 714,-1615 708,-1609 708,-1603 708,-1603 708,-1544 708,-1544 708,-1538 714,-1532 720,-1532 720,-1532 826,-1532 826,-1532 832,-1532 838,-1538 838,-1544 838,-1544 838,-1603 838,-1603 838,-1609 832,-1615 826,-1615\"/>\n<text text-anchor=\"middle\" x=\"773\" y=\"-1599.8\" font-family=\"Helvetica,sans-Serif\" font-size=\"14.00\">density &lt;= 0.991</text>\n<text text-anchor=\"middle\" x=\"773\" y=\"-1584.8\" font-family=\"Helvetica,sans-Serif\" font-size=\"14.00\">gini = 0.033</text>\n<text text-anchor=\"middle\" x=\"773\" y=\"-1569.8\" font-family=\"Helvetica,sans-Serif\" font-size=\"14.00\">samples = 1027</text>\n<text text-anchor=\"middle\" x=\"773\" y=\"-1554.8\" font-family=\"Helvetica,sans-Serif\" font-size=\"14.00\">value = [17, 1010]</text>\n<text text-anchor=\"middle\" x=\"773\" y=\"-1539.8\" font-family=\"Helvetica,sans-Serif\" font-size=\"14.00\">class = Red</text>\n</g>\n<!-- 1&#45;&gt;13 -->\n<g id=\"edge13\" class=\"edge\">\n<title>1&#45;&gt;13</title>\n<path fill=\"none\" stroke=\"black\" d=\"M773,-1650.91C773,-1642.65 773,-1633.86 773,-1625.3\"/>\n<polygon fill=\"black\" stroke=\"black\" points=\"776.5,-1625.02 773,-1615.02 769.5,-1625.02 776.5,-1625.02\"/>\n</g>\n<!-- 3 -->\n<g id=\"node4\" class=\"node\">\n<title>3</title>\n<path fill=\"#e5823b\" stroke=\"black\" d=\"M382.5,-1496C382.5,-1496 223.5,-1496 223.5,-1496 217.5,-1496 211.5,-1490 211.5,-1484 211.5,-1484 211.5,-1425 211.5,-1425 211.5,-1419 217.5,-1413 223.5,-1413 223.5,-1413 382.5,-1413 382.5,-1413 388.5,-1413 394.5,-1419 394.5,-1425 394.5,-1425 394.5,-1484 394.5,-1484 394.5,-1490 388.5,-1496 382.5,-1496\"/>\n<text text-anchor=\"middle\" x=\"303\" y=\"-1480.8\" font-family=\"Helvetica,sans-Serif\" font-size=\"14.00\">total sulfur dioxide &lt;= 15.0</text>\n<text text-anchor=\"middle\" x=\"303\" y=\"-1465.8\" font-family=\"Helvetica,sans-Serif\" font-size=\"14.00\">gini = 0.022</text>\n<text text-anchor=\"middle\" x=\"303\" y=\"-1450.8\" font-family=\"Helvetica,sans-Serif\" font-size=\"14.00\">samples = 88</text>\n<text text-anchor=\"middle\" x=\"303\" y=\"-1435.8\" font-family=\"Helvetica,sans-Serif\" font-size=\"14.00\">value = [87, 1]</text>\n<text text-anchor=\"middle\" x=\"303\" y=\"-1420.8\" font-family=\"Helvetica,sans-Serif\" font-size=\"14.00\">class = White</text>\n</g>\n<!-- 2&#45;&gt;3 -->\n<g id=\"edge3\" class=\"edge\">\n<title>2&#45;&gt;3</title>\n<path fill=\"none\" stroke=\"black\" d=\"M466.34,-1542.37C442.66,-1529.77 414.61,-1514.86 388.51,-1500.98\"/>\n<polygon fill=\"black\" stroke=\"black\" points=\"389.84,-1497.72 379.37,-1496.11 386.55,-1503.9 389.84,-1497.72\"/>\n</g>\n<!-- 8 -->\n<g id=\"node9\" class=\"node\">\n<title>8</title>\n<path fill=\"#f8e0ce\" stroke=\"black\" d=\"M580,-1496C580,-1496 466,-1496 466,-1496 460,-1496 454,-1490 454,-1484 454,-1484 454,-1425 454,-1425 454,-1419 460,-1413 466,-1413 466,-1413 580,-1413 580,-1413 586,-1413 592,-1419 592,-1425 592,-1425 592,-1484 592,-1484 592,-1490 586,-1496 580,-1496\"/>\n<text text-anchor=\"middle\" x=\"523\" y=\"-1480.8\" font-family=\"Helvetica,sans-Serif\" font-size=\"14.00\">sulphates &lt;= 0.555</text>\n<text text-anchor=\"middle\" x=\"523\" y=\"-1465.8\" font-family=\"Helvetica,sans-Serif\" font-size=\"14.00\">gini = 0.49</text>\n<text text-anchor=\"middle\" x=\"523\" y=\"-1450.8\" font-family=\"Helvetica,sans-Serif\" font-size=\"14.00\">samples = 21</text>\n<text text-anchor=\"middle\" x=\"523\" y=\"-1435.8\" font-family=\"Helvetica,sans-Serif\" font-size=\"14.00\">value = [12, 9]</text>\n<text text-anchor=\"middle\" x=\"523\" y=\"-1420.8\" font-family=\"Helvetica,sans-Serif\" font-size=\"14.00\">class = White</text>\n</g>\n<!-- 2&#45;&gt;8 -->\n<g id=\"edge8\" class=\"edge\">\n<title>2&#45;&gt;8</title>\n<path fill=\"none\" stroke=\"black\" d=\"M523,-1531.91C523,-1523.65 523,-1514.86 523,-1506.3\"/>\n<polygon fill=\"black\" stroke=\"black\" points=\"526.5,-1506.02 523,-1496.02 519.5,-1506.02 526.5,-1506.02\"/>\n</g>\n<!-- 4 -->\n<g id=\"node5\" class=\"node\">\n<title>4</title>\n<path fill=\"#ffffff\" stroke=\"black\" d=\"M220.5,-1377C220.5,-1377 61.5,-1377 61.5,-1377 55.5,-1377 49.5,-1371 49.5,-1365 49.5,-1365 49.5,-1306 49.5,-1306 49.5,-1300 55.5,-1294 61.5,-1294 61.5,-1294 220.5,-1294 220.5,-1294 226.5,-1294 232.5,-1300 232.5,-1306 232.5,-1306 232.5,-1365 232.5,-1365 232.5,-1371 226.5,-1377 220.5,-1377\"/>\n<text text-anchor=\"middle\" x=\"141\" y=\"-1361.8\" font-family=\"Helvetica,sans-Serif\" font-size=\"14.00\">total sulfur dioxide &lt;= 10.5</text>\n<text text-anchor=\"middle\" x=\"141\" y=\"-1346.8\" font-family=\"Helvetica,sans-Serif\" font-size=\"14.00\">gini = 0.5</text>\n<text text-anchor=\"middle\" x=\"141\" y=\"-1331.8\" font-family=\"Helvetica,sans-Serif\" font-size=\"14.00\">samples = 2</text>\n<text text-anchor=\"middle\" x=\"141\" y=\"-1316.8\" font-family=\"Helvetica,sans-Serif\" font-size=\"14.00\">value = [1, 1]</text>\n<text text-anchor=\"middle\" x=\"141\" y=\"-1301.8\" font-family=\"Helvetica,sans-Serif\" font-size=\"14.00\">class = White</text>\n</g>\n<!-- 3&#45;&gt;4 -->\n<g id=\"edge4\" class=\"edge\">\n<title>3&#45;&gt;4</title>\n<path fill=\"none\" stroke=\"black\" d=\"M246.79,-1412.91C233.48,-1403.29 219.17,-1392.95 205.51,-1383.09\"/>\n<polygon fill=\"black\" stroke=\"black\" points=\"207.26,-1380.04 197.11,-1377.02 203.16,-1385.71 207.26,-1380.04\"/>\n</g>\n<!-- 7 -->\n<g id=\"node8\" class=\"node\">\n<title>7</title>\n<path fill=\"#e58139\" stroke=\"black\" d=\"M343.5,-1369.5C343.5,-1369.5 262.5,-1369.5 262.5,-1369.5 256.5,-1369.5 250.5,-1363.5 250.5,-1357.5 250.5,-1357.5 250.5,-1313.5 250.5,-1313.5 250.5,-1307.5 256.5,-1301.5 262.5,-1301.5 262.5,-1301.5 343.5,-1301.5 343.5,-1301.5 349.5,-1301.5 355.5,-1307.5 355.5,-1313.5 355.5,-1313.5 355.5,-1357.5 355.5,-1357.5 355.5,-1363.5 349.5,-1369.5 343.5,-1369.5\"/>\n<text text-anchor=\"middle\" x=\"303\" y=\"-1354.3\" font-family=\"Helvetica,sans-Serif\" font-size=\"14.00\">gini = 0.0</text>\n<text text-anchor=\"middle\" x=\"303\" y=\"-1339.3\" font-family=\"Helvetica,sans-Serif\" font-size=\"14.00\">samples = 86</text>\n<text text-anchor=\"middle\" x=\"303\" y=\"-1324.3\" font-family=\"Helvetica,sans-Serif\" font-size=\"14.00\">value = [86, 0]</text>\n<text text-anchor=\"middle\" x=\"303\" y=\"-1309.3\" font-family=\"Helvetica,sans-Serif\" font-size=\"14.00\">class = White</text>\n</g>\n<!-- 3&#45;&gt;7 -->\n<g id=\"edge7\" class=\"edge\">\n<title>3&#45;&gt;7</title>\n<path fill=\"none\" stroke=\"black\" d=\"M303,-1412.91C303,-1402.2 303,-1390.62 303,-1379.78\"/>\n<polygon fill=\"black\" stroke=\"black\" points=\"306.5,-1379.67 303,-1369.67 299.5,-1379.67 306.5,-1379.67\"/>\n</g>\n<!-- 5 -->\n<g id=\"node6\" class=\"node\">\n<title>5</title>\n<path fill=\"#e58139\" stroke=\"black\" d=\"M90,-1250.5C90,-1250.5 12,-1250.5 12,-1250.5 6,-1250.5 0,-1244.5 0,-1238.5 0,-1238.5 0,-1194.5 0,-1194.5 0,-1188.5 6,-1182.5 12,-1182.5 12,-1182.5 90,-1182.5 90,-1182.5 96,-1182.5 102,-1188.5 102,-1194.5 102,-1194.5 102,-1238.5 102,-1238.5 102,-1244.5 96,-1250.5 90,-1250.5\"/>\n<text text-anchor=\"middle\" x=\"51\" y=\"-1235.3\" font-family=\"Helvetica,sans-Serif\" font-size=\"14.00\">gini = 0.0</text>\n<text text-anchor=\"middle\" x=\"51\" y=\"-1220.3\" font-family=\"Helvetica,sans-Serif\" font-size=\"14.00\">samples = 1</text>\n<text text-anchor=\"middle\" x=\"51\" y=\"-1205.3\" font-family=\"Helvetica,sans-Serif\" font-size=\"14.00\">value = [1, 0]</text>\n<text text-anchor=\"middle\" x=\"51\" y=\"-1190.3\" font-family=\"Helvetica,sans-Serif\" font-size=\"14.00\">class = White</text>\n</g>\n<!-- 4&#45;&gt;5 -->\n<g id=\"edge5\" class=\"edge\">\n<title>4&#45;&gt;5</title>\n<path fill=\"none\" stroke=\"black\" d=\"M109.77,-1293.91C101.03,-1282.54 91.52,-1270.18 82.75,-1258.77\"/>\n<polygon fill=\"black\" stroke=\"black\" points=\"85.38,-1256.46 76.51,-1250.67 79.84,-1260.73 85.38,-1256.46\"/>\n</g>\n<!-- 6 -->\n<g id=\"node7\" class=\"node\">\n<title>6</title>\n<path fill=\"#399de5\" stroke=\"black\" d=\"M205.5,-1250.5C205.5,-1250.5 132.5,-1250.5 132.5,-1250.5 126.5,-1250.5 120.5,-1244.5 120.5,-1238.5 120.5,-1238.5 120.5,-1194.5 120.5,-1194.5 120.5,-1188.5 126.5,-1182.5 132.5,-1182.5 132.5,-1182.5 205.5,-1182.5 205.5,-1182.5 211.5,-1182.5 217.5,-1188.5 217.5,-1194.5 217.5,-1194.5 217.5,-1238.5 217.5,-1238.5 217.5,-1244.5 211.5,-1250.5 205.5,-1250.5\"/>\n<text text-anchor=\"middle\" x=\"169\" y=\"-1235.3\" font-family=\"Helvetica,sans-Serif\" font-size=\"14.00\">gini = 0.0</text>\n<text text-anchor=\"middle\" x=\"169\" y=\"-1220.3\" font-family=\"Helvetica,sans-Serif\" font-size=\"14.00\">samples = 1</text>\n<text text-anchor=\"middle\" x=\"169\" y=\"-1205.3\" font-family=\"Helvetica,sans-Serif\" font-size=\"14.00\">value = [0, 1]</text>\n<text text-anchor=\"middle\" x=\"169\" y=\"-1190.3\" font-family=\"Helvetica,sans-Serif\" font-size=\"14.00\">class = Red</text>\n</g>\n<!-- 4&#45;&gt;6 -->\n<g id=\"edge6\" class=\"edge\">\n<title>4&#45;&gt;6</title>\n<path fill=\"none\" stroke=\"black\" d=\"M150.71,-1293.91C153.3,-1283.09 156.11,-1271.38 158.72,-1260.44\"/>\n<polygon fill=\"black\" stroke=\"black\" points=\"162.14,-1261.21 161.06,-1250.67 155.33,-1259.58 162.14,-1261.21\"/>\n</g>\n<!-- 9 -->\n<g id=\"node10\" class=\"node\">\n<title>9</title>\n<path fill=\"#e78c49\" stroke=\"black\" d=\"M484,-1377C484,-1377 386,-1377 386,-1377 380,-1377 374,-1371 374,-1365 374,-1365 374,-1306 374,-1306 374,-1300 380,-1294 386,-1294 386,-1294 484,-1294 484,-1294 490,-1294 496,-1300 496,-1306 496,-1306 496,-1365 496,-1365 496,-1371 490,-1377 484,-1377\"/>\n<text text-anchor=\"middle\" x=\"435\" y=\"-1361.8\" font-family=\"Helvetica,sans-Serif\" font-size=\"14.00\">density &lt;= 0.995</text>\n<text text-anchor=\"middle\" x=\"435\" y=\"-1346.8\" font-family=\"Helvetica,sans-Serif\" font-size=\"14.00\">gini = 0.142</text>\n<text text-anchor=\"middle\" x=\"435\" y=\"-1331.8\" font-family=\"Helvetica,sans-Serif\" font-size=\"14.00\">samples = 13</text>\n<text text-anchor=\"middle\" x=\"435\" y=\"-1316.8\" font-family=\"Helvetica,sans-Serif\" font-size=\"14.00\">value = [12, 1]</text>\n<text text-anchor=\"middle\" x=\"435\" y=\"-1301.8\" font-family=\"Helvetica,sans-Serif\" font-size=\"14.00\">class = White</text>\n</g>\n<!-- 8&#45;&gt;9 -->\n<g id=\"edge9\" class=\"edge\">\n<title>8&#45;&gt;9</title>\n<path fill=\"none\" stroke=\"black\" d=\"M492.47,-1412.91C485.71,-1403.92 478.48,-1394.32 471.52,-1385.05\"/>\n<polygon fill=\"black\" stroke=\"black\" points=\"474.29,-1382.91 465.48,-1377.02 468.69,-1387.12 474.29,-1382.91\"/>\n</g>\n<!-- 12 -->\n<g id=\"node13\" class=\"node\">\n<title>12</title>\n<path fill=\"#399de5\" stroke=\"black\" d=\"M599.5,-1369.5C599.5,-1369.5 526.5,-1369.5 526.5,-1369.5 520.5,-1369.5 514.5,-1363.5 514.5,-1357.5 514.5,-1357.5 514.5,-1313.5 514.5,-1313.5 514.5,-1307.5 520.5,-1301.5 526.5,-1301.5 526.5,-1301.5 599.5,-1301.5 599.5,-1301.5 605.5,-1301.5 611.5,-1307.5 611.5,-1313.5 611.5,-1313.5 611.5,-1357.5 611.5,-1357.5 611.5,-1363.5 605.5,-1369.5 599.5,-1369.5\"/>\n<text text-anchor=\"middle\" x=\"563\" y=\"-1354.3\" font-family=\"Helvetica,sans-Serif\" font-size=\"14.00\">gini = 0.0</text>\n<text text-anchor=\"middle\" x=\"563\" y=\"-1339.3\" font-family=\"Helvetica,sans-Serif\" font-size=\"14.00\">samples = 8</text>\n<text text-anchor=\"middle\" x=\"563\" y=\"-1324.3\" font-family=\"Helvetica,sans-Serif\" font-size=\"14.00\">value = [0, 8]</text>\n<text text-anchor=\"middle\" x=\"563\" y=\"-1309.3\" font-family=\"Helvetica,sans-Serif\" font-size=\"14.00\">class = Red</text>\n</g>\n<!-- 8&#45;&gt;12 -->\n<g id=\"edge12\" class=\"edge\">\n<title>8&#45;&gt;12</title>\n<path fill=\"none\" stroke=\"black\" d=\"M536.88,-1412.91C540.57,-1402.09 544.58,-1390.38 548.32,-1379.44\"/>\n<polygon fill=\"black\" stroke=\"black\" points=\"551.74,-1380.26 551.66,-1369.67 545.11,-1378 551.74,-1380.26\"/>\n</g>\n<!-- 10 -->\n<g id=\"node11\" class=\"node\">\n<title>10</title>\n<path fill=\"#e58139\" stroke=\"black\" d=\"M369.5,-1250.5C369.5,-1250.5 288.5,-1250.5 288.5,-1250.5 282.5,-1250.5 276.5,-1244.5 276.5,-1238.5 276.5,-1238.5 276.5,-1194.5 276.5,-1194.5 276.5,-1188.5 282.5,-1182.5 288.5,-1182.5 288.5,-1182.5 369.5,-1182.5 369.5,-1182.5 375.5,-1182.5 381.5,-1188.5 381.5,-1194.5 381.5,-1194.5 381.5,-1238.5 381.5,-1238.5 381.5,-1244.5 375.5,-1250.5 369.5,-1250.5\"/>\n<text text-anchor=\"middle\" x=\"329\" y=\"-1235.3\" font-family=\"Helvetica,sans-Serif\" font-size=\"14.00\">gini = 0.0</text>\n<text text-anchor=\"middle\" x=\"329\" y=\"-1220.3\" font-family=\"Helvetica,sans-Serif\" font-size=\"14.00\">samples = 12</text>\n<text text-anchor=\"middle\" x=\"329\" y=\"-1205.3\" font-family=\"Helvetica,sans-Serif\" font-size=\"14.00\">value = [12, 0]</text>\n<text text-anchor=\"middle\" x=\"329\" y=\"-1190.3\" font-family=\"Helvetica,sans-Serif\" font-size=\"14.00\">class = White</text>\n</g>\n<!-- 9&#45;&gt;10 -->\n<g id=\"edge10\" class=\"edge\">\n<title>9&#45;&gt;10</title>\n<path fill=\"none\" stroke=\"black\" d=\"M398.22,-1293.91C387.73,-1282.32 376.29,-1269.7 365.79,-1258.11\"/>\n<polygon fill=\"black\" stroke=\"black\" points=\"368.36,-1255.73 359.05,-1250.67 363.17,-1260.43 368.36,-1255.73\"/>\n</g>\n<!-- 11 -->\n<g id=\"node12\" class=\"node\">\n<title>11</title>\n<path fill=\"#399de5\" stroke=\"black\" d=\"M484.5,-1250.5C484.5,-1250.5 411.5,-1250.5 411.5,-1250.5 405.5,-1250.5 399.5,-1244.5 399.5,-1238.5 399.5,-1238.5 399.5,-1194.5 399.5,-1194.5 399.5,-1188.5 405.5,-1182.5 411.5,-1182.5 411.5,-1182.5 484.5,-1182.5 484.5,-1182.5 490.5,-1182.5 496.5,-1188.5 496.5,-1194.5 496.5,-1194.5 496.5,-1238.5 496.5,-1238.5 496.5,-1244.5 490.5,-1250.5 484.5,-1250.5\"/>\n<text text-anchor=\"middle\" x=\"448\" y=\"-1235.3\" font-family=\"Helvetica,sans-Serif\" font-size=\"14.00\">gini = 0.0</text>\n<text text-anchor=\"middle\" x=\"448\" y=\"-1220.3\" font-family=\"Helvetica,sans-Serif\" font-size=\"14.00\">samples = 1</text>\n<text text-anchor=\"middle\" x=\"448\" y=\"-1205.3\" font-family=\"Helvetica,sans-Serif\" font-size=\"14.00\">value = [0, 1]</text>\n<text text-anchor=\"middle\" x=\"448\" y=\"-1190.3\" font-family=\"Helvetica,sans-Serif\" font-size=\"14.00\">class = Red</text>\n</g>\n<!-- 9&#45;&gt;11 -->\n<g id=\"edge11\" class=\"edge\">\n<title>9&#45;&gt;11</title>\n<path fill=\"none\" stroke=\"black\" d=\"M439.51,-1293.91C440.7,-1283.2 441.99,-1271.62 443.19,-1260.78\"/>\n<polygon fill=\"black\" stroke=\"black\" points=\"446.69,-1260.99 444.31,-1250.67 439.73,-1260.22 446.69,-1260.99\"/>\n</g>\n<!-- 14 -->\n<g id=\"node15\" class=\"node\">\n<title>14</title>\n<path fill=\"#e58139\" stroke=\"black\" d=\"M743,-1488.5C743,-1488.5 665,-1488.5 665,-1488.5 659,-1488.5 653,-1482.5 653,-1476.5 653,-1476.5 653,-1432.5 653,-1432.5 653,-1426.5 659,-1420.5 665,-1420.5 665,-1420.5 743,-1420.5 743,-1420.5 749,-1420.5 755,-1426.5 755,-1432.5 755,-1432.5 755,-1476.5 755,-1476.5 755,-1482.5 749,-1488.5 743,-1488.5\"/>\n<text text-anchor=\"middle\" x=\"704\" y=\"-1473.3\" font-family=\"Helvetica,sans-Serif\" font-size=\"14.00\">gini = 0.0</text>\n<text text-anchor=\"middle\" x=\"704\" y=\"-1458.3\" font-family=\"Helvetica,sans-Serif\" font-size=\"14.00\">samples = 4</text>\n<text text-anchor=\"middle\" x=\"704\" y=\"-1443.3\" font-family=\"Helvetica,sans-Serif\" font-size=\"14.00\">value = [4, 0]</text>\n<text text-anchor=\"middle\" x=\"704\" y=\"-1428.3\" font-family=\"Helvetica,sans-Serif\" font-size=\"14.00\">class = White</text>\n</g>\n<!-- 13&#45;&gt;14 -->\n<g id=\"edge14\" class=\"edge\">\n<title>13&#45;&gt;14</title>\n<path fill=\"none\" stroke=\"black\" d=\"M749.06,-1531.91C742.49,-1520.76 735.35,-1508.66 728.73,-1497.44\"/>\n<polygon fill=\"black\" stroke=\"black\" points=\"731.65,-1495.5 723.56,-1488.67 725.63,-1499.06 731.65,-1495.5\"/>\n</g>\n<!-- 15 -->\n<g id=\"node16\" class=\"node\">\n<title>15</title>\n<path fill=\"#3c9ee5\" stroke=\"black\" d=\"M899,-1496C899,-1496 785,-1496 785,-1496 779,-1496 773,-1490 773,-1484 773,-1484 773,-1425 773,-1425 773,-1419 779,-1413 785,-1413 785,-1413 899,-1413 899,-1413 905,-1413 911,-1419 911,-1425 911,-1425 911,-1484 911,-1484 911,-1490 905,-1496 899,-1496\"/>\n<text text-anchor=\"middle\" x=\"842\" y=\"-1480.8\" font-family=\"Helvetica,sans-Serif\" font-size=\"14.00\">sulphates &lt;= 0.415</text>\n<text text-anchor=\"middle\" x=\"842\" y=\"-1465.8\" font-family=\"Helvetica,sans-Serif\" font-size=\"14.00\">gini = 0.025</text>\n<text text-anchor=\"middle\" x=\"842\" y=\"-1450.8\" font-family=\"Helvetica,sans-Serif\" font-size=\"14.00\">samples = 1023</text>\n<text text-anchor=\"middle\" x=\"842\" y=\"-1435.8\" font-family=\"Helvetica,sans-Serif\" font-size=\"14.00\">value = [13, 1010]</text>\n<text text-anchor=\"middle\" x=\"842\" y=\"-1420.8\" font-family=\"Helvetica,sans-Serif\" font-size=\"14.00\">class = Red</text>\n</g>\n<!-- 13&#45;&gt;15 -->\n<g id=\"edge15\" class=\"edge\">\n<title>13&#45;&gt;15</title>\n<path fill=\"none\" stroke=\"black\" d=\"M796.94,-1531.91C802.08,-1523.2 807.56,-1513.9 812.87,-1504.89\"/>\n<polygon fill=\"black\" stroke=\"black\" points=\"816.04,-1506.41 818.1,-1496.02 810.01,-1502.86 816.04,-1506.41\"/>\n</g>\n<!-- 16 -->\n<g id=\"node17\" class=\"node\">\n<title>16</title>\n<path fill=\"#bddef6\" stroke=\"black\" d=\"M752.5,-1377C752.5,-1377 641.5,-1377 641.5,-1377 635.5,-1377 629.5,-1371 629.5,-1365 629.5,-1365 629.5,-1306 629.5,-1306 629.5,-1300 635.5,-1294 641.5,-1294 641.5,-1294 752.5,-1294 752.5,-1294 758.5,-1294 764.5,-1300 764.5,-1306 764.5,-1306 764.5,-1365 764.5,-1365 764.5,-1371 758.5,-1377 752.5,-1377\"/>\n<text text-anchor=\"middle\" x=\"697\" y=\"-1361.8\" font-family=\"Helvetica,sans-Serif\" font-size=\"14.00\">chlorides &lt;= 0.056</text>\n<text text-anchor=\"middle\" x=\"697\" y=\"-1346.8\" font-family=\"Helvetica,sans-Serif\" font-size=\"14.00\">gini = 0.48</text>\n<text text-anchor=\"middle\" x=\"697\" y=\"-1331.8\" font-family=\"Helvetica,sans-Serif\" font-size=\"14.00\">samples = 15</text>\n<text text-anchor=\"middle\" x=\"697\" y=\"-1316.8\" font-family=\"Helvetica,sans-Serif\" font-size=\"14.00\">value = [6, 9]</text>\n<text text-anchor=\"middle\" x=\"697\" y=\"-1301.8\" font-family=\"Helvetica,sans-Serif\" font-size=\"14.00\">class = Red</text>\n</g>\n<!-- 15&#45;&gt;16 -->\n<g id=\"edge16\" class=\"edge\">\n<title>15&#45;&gt;16</title>\n<path fill=\"none\" stroke=\"black\" d=\"M791.69,-1412.91C779.88,-1403.38 767.21,-1393.15 755.09,-1383.37\"/>\n<polygon fill=\"black\" stroke=\"black\" points=\"757.2,-1380.58 747.22,-1377.02 752.8,-1386.02 757.2,-1380.58\"/>\n</g>\n<!-- 19 -->\n<g id=\"node20\" class=\"node\">\n<title>19</title>\n<path fill=\"#3a9ee5\" stroke=\"black\" d=\"M893,-1377C893,-1377 795,-1377 795,-1377 789,-1377 783,-1371 783,-1365 783,-1365 783,-1306 783,-1306 783,-1300 789,-1294 795,-1294 795,-1294 893,-1294 893,-1294 899,-1294 905,-1300 905,-1306 905,-1306 905,-1365 905,-1365 905,-1371 899,-1377 893,-1377\"/>\n<text text-anchor=\"middle\" x=\"844\" y=\"-1361.8\" font-family=\"Helvetica,sans-Serif\" font-size=\"14.00\">density &lt;= 0.993</text>\n<text text-anchor=\"middle\" x=\"844\" y=\"-1346.8\" font-family=\"Helvetica,sans-Serif\" font-size=\"14.00\">gini = 0.014</text>\n<text text-anchor=\"middle\" x=\"844\" y=\"-1331.8\" font-family=\"Helvetica,sans-Serif\" font-size=\"14.00\">samples = 1008</text>\n<text text-anchor=\"middle\" x=\"844\" y=\"-1316.8\" font-family=\"Helvetica,sans-Serif\" font-size=\"14.00\">value = [7, 1001]</text>\n<text text-anchor=\"middle\" x=\"844\" y=\"-1301.8\" font-family=\"Helvetica,sans-Serif\" font-size=\"14.00\">class = Red</text>\n</g>\n<!-- 15&#45;&gt;19 -->\n<g id=\"edge19\" class=\"edge\">\n<title>15&#45;&gt;19</title>\n<path fill=\"none\" stroke=\"black\" d=\"M842.69,-1412.91C842.84,-1404.56 842.99,-1395.67 843.14,-1387.02\"/>\n<polygon fill=\"black\" stroke=\"black\" points=\"846.64,-1387.08 843.31,-1377.02 839.64,-1386.96 846.64,-1387.08\"/>\n</g>\n<!-- 17 -->\n<g id=\"node18\" class=\"node\">\n<title>17</title>\n<path fill=\"#e58139\" stroke=\"black\" d=\"M618,-1250.5C618,-1250.5 540,-1250.5 540,-1250.5 534,-1250.5 528,-1244.5 528,-1238.5 528,-1238.5 528,-1194.5 528,-1194.5 528,-1188.5 534,-1182.5 540,-1182.5 540,-1182.5 618,-1182.5 618,-1182.5 624,-1182.5 630,-1188.5 630,-1194.5 630,-1194.5 630,-1238.5 630,-1238.5 630,-1244.5 624,-1250.5 618,-1250.5\"/>\n<text text-anchor=\"middle\" x=\"579\" y=\"-1235.3\" font-family=\"Helvetica,sans-Serif\" font-size=\"14.00\">gini = 0.0</text>\n<text text-anchor=\"middle\" x=\"579\" y=\"-1220.3\" font-family=\"Helvetica,sans-Serif\" font-size=\"14.00\">samples = 6</text>\n<text text-anchor=\"middle\" x=\"579\" y=\"-1205.3\" font-family=\"Helvetica,sans-Serif\" font-size=\"14.00\">value = [6, 0]</text>\n<text text-anchor=\"middle\" x=\"579\" y=\"-1190.3\" font-family=\"Helvetica,sans-Serif\" font-size=\"14.00\">class = White</text>\n</g>\n<!-- 16&#45;&gt;17 -->\n<g id=\"edge17\" class=\"edge\">\n<title>16&#45;&gt;17</title>\n<path fill=\"none\" stroke=\"black\" d=\"M656.06,-1293.91C644.26,-1282.21 631.4,-1269.46 619.62,-1257.78\"/>\n<polygon fill=\"black\" stroke=\"black\" points=\"622.02,-1255.22 612.45,-1250.67 617.09,-1260.19 622.02,-1255.22\"/>\n</g>\n<!-- 18 -->\n<g id=\"node19\" class=\"node\">\n<title>18</title>\n<path fill=\"#399de5\" stroke=\"black\" d=\"M733.5,-1250.5C733.5,-1250.5 660.5,-1250.5 660.5,-1250.5 654.5,-1250.5 648.5,-1244.5 648.5,-1238.5 648.5,-1238.5 648.5,-1194.5 648.5,-1194.5 648.5,-1188.5 654.5,-1182.5 660.5,-1182.5 660.5,-1182.5 733.5,-1182.5 733.5,-1182.5 739.5,-1182.5 745.5,-1188.5 745.5,-1194.5 745.5,-1194.5 745.5,-1238.5 745.5,-1238.5 745.5,-1244.5 739.5,-1250.5 733.5,-1250.5\"/>\n<text text-anchor=\"middle\" x=\"697\" y=\"-1235.3\" font-family=\"Helvetica,sans-Serif\" font-size=\"14.00\">gini = 0.0</text>\n<text text-anchor=\"middle\" x=\"697\" y=\"-1220.3\" font-family=\"Helvetica,sans-Serif\" font-size=\"14.00\">samples = 9</text>\n<text text-anchor=\"middle\" x=\"697\" y=\"-1205.3\" font-family=\"Helvetica,sans-Serif\" font-size=\"14.00\">value = [0, 9]</text>\n<text text-anchor=\"middle\" x=\"697\" y=\"-1190.3\" font-family=\"Helvetica,sans-Serif\" font-size=\"14.00\">class = Red</text>\n</g>\n<!-- 16&#45;&gt;18 -->\n<g id=\"edge18\" class=\"edge\">\n<title>16&#45;&gt;18</title>\n<path fill=\"none\" stroke=\"black\" d=\"M697,-1293.91C697,-1283.2 697,-1271.62 697,-1260.78\"/>\n<polygon fill=\"black\" stroke=\"black\" points=\"700.5,-1260.67 697,-1250.67 693.5,-1260.67 700.5,-1260.67\"/>\n</g>\n<!-- 20 -->\n<g id=\"node21\" class=\"node\">\n<title>20</title>\n<path fill=\"#81c1ee\" stroke=\"black\" d=\"M888.5,-1258C888.5,-1258 775.5,-1258 775.5,-1258 769.5,-1258 763.5,-1252 763.5,-1246 763.5,-1246 763.5,-1187 763.5,-1187 763.5,-1181 769.5,-1175 775.5,-1175 775.5,-1175 888.5,-1175 888.5,-1175 894.5,-1175 900.5,-1181 900.5,-1187 900.5,-1187 900.5,-1246 900.5,-1246 900.5,-1252 894.5,-1258 888.5,-1258\"/>\n<text text-anchor=\"middle\" x=\"832\" y=\"-1242.8\" font-family=\"Helvetica,sans-Serif\" font-size=\"14.00\">citric acid &lt;= 0.295</text>\n<text text-anchor=\"middle\" x=\"832\" y=\"-1227.8\" font-family=\"Helvetica,sans-Serif\" font-size=\"14.00\">gini = 0.391</text>\n<text text-anchor=\"middle\" x=\"832\" y=\"-1212.8\" font-family=\"Helvetica,sans-Serif\" font-size=\"14.00\">samples = 15</text>\n<text text-anchor=\"middle\" x=\"832\" y=\"-1197.8\" font-family=\"Helvetica,sans-Serif\" font-size=\"14.00\">value = [4, 11]</text>\n<text text-anchor=\"middle\" x=\"832\" y=\"-1182.8\" font-family=\"Helvetica,sans-Serif\" font-size=\"14.00\">class = Red</text>\n</g>\n<!-- 19&#45;&gt;20 -->\n<g id=\"edge20\" class=\"edge\">\n<title>19&#45;&gt;20</title>\n<path fill=\"none\" stroke=\"black\" d=\"M839.84,-1293.91C838.98,-1285.56 838.07,-1276.67 837.18,-1268.02\"/>\n<polygon fill=\"black\" stroke=\"black\" points=\"840.66,-1267.61 836.16,-1258.02 833.69,-1268.33 840.66,-1267.61\"/>\n</g>\n<!-- 23 -->\n<g id=\"node24\" class=\"node\">\n<title>23</title>\n<path fill=\"#3a9de5\" stroke=\"black\" d=\"M1041.5,-1258C1041.5,-1258 930.5,-1258 930.5,-1258 924.5,-1258 918.5,-1252 918.5,-1246 918.5,-1246 918.5,-1187 918.5,-1187 918.5,-1181 924.5,-1175 930.5,-1175 930.5,-1175 1041.5,-1175 1041.5,-1175 1047.5,-1175 1053.5,-1181 1053.5,-1187 1053.5,-1187 1053.5,-1246 1053.5,-1246 1053.5,-1252 1047.5,-1258 1041.5,-1258\"/>\n<text text-anchor=\"middle\" x=\"986\" y=\"-1242.8\" font-family=\"Helvetica,sans-Serif\" font-size=\"14.00\">chlorides &lt;= 0.051</text>\n<text text-anchor=\"middle\" x=\"986\" y=\"-1227.8\" font-family=\"Helvetica,sans-Serif\" font-size=\"14.00\">gini = 0.006</text>\n<text text-anchor=\"middle\" x=\"986\" y=\"-1212.8\" font-family=\"Helvetica,sans-Serif\" font-size=\"14.00\">samples = 993</text>\n<text text-anchor=\"middle\" x=\"986\" y=\"-1197.8\" font-family=\"Helvetica,sans-Serif\" font-size=\"14.00\">value = [3, 990]</text>\n<text text-anchor=\"middle\" x=\"986\" y=\"-1182.8\" font-family=\"Helvetica,sans-Serif\" font-size=\"14.00\">class = Red</text>\n</g>\n<!-- 19&#45;&gt;23 -->\n<g id=\"edge23\" class=\"edge\">\n<title>19&#45;&gt;23</title>\n<path fill=\"none\" stroke=\"black\" d=\"M893.27,-1293.91C904.72,-1284.47 917.01,-1274.34 928.78,-1264.65\"/>\n<polygon fill=\"black\" stroke=\"black\" points=\"931.33,-1267.08 936.82,-1258.02 926.88,-1261.68 931.33,-1267.08\"/>\n</g>\n<!-- 21 -->\n<g id=\"node22\" class=\"node\">\n<title>21</title>\n<path fill=\"#399de5\" stroke=\"black\" d=\"M750.5,-1131.5C750.5,-1131.5 669.5,-1131.5 669.5,-1131.5 663.5,-1131.5 657.5,-1125.5 657.5,-1119.5 657.5,-1119.5 657.5,-1075.5 657.5,-1075.5 657.5,-1069.5 663.5,-1063.5 669.5,-1063.5 669.5,-1063.5 750.5,-1063.5 750.5,-1063.5 756.5,-1063.5 762.5,-1069.5 762.5,-1075.5 762.5,-1075.5 762.5,-1119.5 762.5,-1119.5 762.5,-1125.5 756.5,-1131.5 750.5,-1131.5\"/>\n<text text-anchor=\"middle\" x=\"710\" y=\"-1116.3\" font-family=\"Helvetica,sans-Serif\" font-size=\"14.00\">gini = 0.0</text>\n<text text-anchor=\"middle\" x=\"710\" y=\"-1101.3\" font-family=\"Helvetica,sans-Serif\" font-size=\"14.00\">samples = 11</text>\n<text text-anchor=\"middle\" x=\"710\" y=\"-1086.3\" font-family=\"Helvetica,sans-Serif\" font-size=\"14.00\">value = [0, 11]</text>\n<text text-anchor=\"middle\" x=\"710\" y=\"-1071.3\" font-family=\"Helvetica,sans-Serif\" font-size=\"14.00\">class = Red</text>\n</g>\n<!-- 20&#45;&gt;21 -->\n<g id=\"edge21\" class=\"edge\">\n<title>20&#45;&gt;21</title>\n<path fill=\"none\" stroke=\"black\" d=\"M789.67,-1174.91C777.48,-1163.21 764.18,-1150.46 752,-1138.78\"/>\n<polygon fill=\"black\" stroke=\"black\" points=\"754.22,-1136.06 744.58,-1131.67 749.38,-1141.11 754.22,-1136.06\"/>\n</g>\n<!-- 22 -->\n<g id=\"node23\" class=\"node\">\n<title>22</title>\n<path fill=\"#e58139\" stroke=\"black\" d=\"M871,-1131.5C871,-1131.5 793,-1131.5 793,-1131.5 787,-1131.5 781,-1125.5 781,-1119.5 781,-1119.5 781,-1075.5 781,-1075.5 781,-1069.5 787,-1063.5 793,-1063.5 793,-1063.5 871,-1063.5 871,-1063.5 877,-1063.5 883,-1069.5 883,-1075.5 883,-1075.5 883,-1119.5 883,-1119.5 883,-1125.5 877,-1131.5 871,-1131.5\"/>\n<text text-anchor=\"middle\" x=\"832\" y=\"-1116.3\" font-family=\"Helvetica,sans-Serif\" font-size=\"14.00\">gini = 0.0</text>\n<text text-anchor=\"middle\" x=\"832\" y=\"-1101.3\" font-family=\"Helvetica,sans-Serif\" font-size=\"14.00\">samples = 4</text>\n<text text-anchor=\"middle\" x=\"832\" y=\"-1086.3\" font-family=\"Helvetica,sans-Serif\" font-size=\"14.00\">value = [4, 0]</text>\n<text text-anchor=\"middle\" x=\"832\" y=\"-1071.3\" font-family=\"Helvetica,sans-Serif\" font-size=\"14.00\">class = White</text>\n</g>\n<!-- 20&#45;&gt;22 -->\n<g id=\"edge22\" class=\"edge\">\n<title>20&#45;&gt;22</title>\n<path fill=\"none\" stroke=\"black\" d=\"M832,-1174.91C832,-1164.2 832,-1152.62 832,-1141.78\"/>\n<polygon fill=\"black\" stroke=\"black\" points=\"835.5,-1141.67 832,-1131.67 828.5,-1141.67 835.5,-1141.67\"/>\n</g>\n<!-- 24 -->\n<g id=\"node25\" class=\"node\">\n<title>24</title>\n<path fill=\"#55abe9\" stroke=\"black\" d=\"M1011,-1139C1011,-1139 913,-1139 913,-1139 907,-1139 901,-1133 901,-1127 901,-1127 901,-1068 901,-1068 901,-1062 907,-1056 913,-1056 913,-1056 1011,-1056 1011,-1056 1017,-1056 1023,-1062 1023,-1068 1023,-1068 1023,-1127 1023,-1127 1023,-1133 1017,-1139 1011,-1139\"/>\n<text text-anchor=\"middle\" x=\"962\" y=\"-1123.8\" font-family=\"Helvetica,sans-Serif\" font-size=\"14.00\">density &lt;= 0.993</text>\n<text text-anchor=\"middle\" x=\"962\" y=\"-1108.8\" font-family=\"Helvetica,sans-Serif\" font-size=\"14.00\">gini = 0.219</text>\n<text text-anchor=\"middle\" x=\"962\" y=\"-1093.8\" font-family=\"Helvetica,sans-Serif\" font-size=\"14.00\">samples = 16</text>\n<text text-anchor=\"middle\" x=\"962\" y=\"-1078.8\" font-family=\"Helvetica,sans-Serif\" font-size=\"14.00\">value = [2, 14]</text>\n<text text-anchor=\"middle\" x=\"962\" y=\"-1063.8\" font-family=\"Helvetica,sans-Serif\" font-size=\"14.00\">class = Red</text>\n</g>\n<!-- 23&#45;&gt;24 -->\n<g id=\"edge24\" class=\"edge\">\n<title>23&#45;&gt;24</title>\n<path fill=\"none\" stroke=\"black\" d=\"M977.67,-1174.91C975.96,-1166.56 974.14,-1157.67 972.36,-1149.02\"/>\n<polygon fill=\"black\" stroke=\"black\" points=\"975.75,-1148.11 970.31,-1139.02 968.89,-1149.52 975.75,-1148.11\"/>\n</g>\n<!-- 31 -->\n<g id=\"node32\" class=\"node\">\n<title>31</title>\n<path fill=\"#399de5\" stroke=\"black\" d=\"M1179,-1139C1179,-1139 1065,-1139 1065,-1139 1059,-1139 1053,-1133 1053,-1127 1053,-1127 1053,-1068 1053,-1068 1053,-1062 1059,-1056 1065,-1056 1065,-1056 1179,-1056 1179,-1056 1185,-1056 1191,-1062 1191,-1068 1191,-1068 1191,-1127 1191,-1127 1191,-1133 1185,-1139 1179,-1139\"/>\n<text text-anchor=\"middle\" x=\"1122\" y=\"-1123.8\" font-family=\"Helvetica,sans-Serif\" font-size=\"14.00\">sulphates &lt;= 0.455</text>\n<text text-anchor=\"middle\" x=\"1122\" y=\"-1108.8\" font-family=\"Helvetica,sans-Serif\" font-size=\"14.00\">gini = 0.002</text>\n<text text-anchor=\"middle\" x=\"1122\" y=\"-1093.8\" font-family=\"Helvetica,sans-Serif\" font-size=\"14.00\">samples = 977</text>\n<text text-anchor=\"middle\" x=\"1122\" y=\"-1078.8\" font-family=\"Helvetica,sans-Serif\" font-size=\"14.00\">value = [1, 976]</text>\n<text text-anchor=\"middle\" x=\"1122\" y=\"-1063.8\" font-family=\"Helvetica,sans-Serif\" font-size=\"14.00\">class = Red</text>\n</g>\n<!-- 23&#45;&gt;31 -->\n<g id=\"edge31\" class=\"edge\">\n<title>23&#45;&gt;31</title>\n<path fill=\"none\" stroke=\"black\" d=\"M1033.18,-1174.91C1044.16,-1165.47 1055.93,-1155.34 1067.19,-1145.65\"/>\n<polygon fill=\"black\" stroke=\"black\" points=\"1069.6,-1148.2 1074.9,-1139.02 1065.04,-1142.89 1069.6,-1148.2\"/>\n</g>\n<!-- 25 -->\n<g id=\"node26\" class=\"node\">\n<title>25</title>\n<path fill=\"#e58139\" stroke=\"black\" d=\"M842,-1012.5C842,-1012.5 764,-1012.5 764,-1012.5 758,-1012.5 752,-1006.5 752,-1000.5 752,-1000.5 752,-956.5 752,-956.5 752,-950.5 758,-944.5 764,-944.5 764,-944.5 842,-944.5 842,-944.5 848,-944.5 854,-950.5 854,-956.5 854,-956.5 854,-1000.5 854,-1000.5 854,-1006.5 848,-1012.5 842,-1012.5\"/>\n<text text-anchor=\"middle\" x=\"803\" y=\"-997.3\" font-family=\"Helvetica,sans-Serif\" font-size=\"14.00\">gini = 0.0</text>\n<text text-anchor=\"middle\" x=\"803\" y=\"-982.3\" font-family=\"Helvetica,sans-Serif\" font-size=\"14.00\">samples = 1</text>\n<text text-anchor=\"middle\" x=\"803\" y=\"-967.3\" font-family=\"Helvetica,sans-Serif\" font-size=\"14.00\">value = [1, 0]</text>\n<text text-anchor=\"middle\" x=\"803\" y=\"-952.3\" font-family=\"Helvetica,sans-Serif\" font-size=\"14.00\">class = White</text>\n</g>\n<!-- 24&#45;&gt;25 -->\n<g id=\"edge25\" class=\"edge\">\n<title>24&#45;&gt;25</title>\n<path fill=\"none\" stroke=\"black\" d=\"M906.84,-1055.91C890.49,-1043.88 872.63,-1030.73 856.4,-1018.79\"/>\n<polygon fill=\"black\" stroke=\"black\" points=\"858.2,-1015.77 848.07,-1012.67 854.05,-1021.41 858.2,-1015.77\"/>\n</g>\n<!-- 26 -->\n<g id=\"node27\" class=\"node\">\n<title>26</title>\n<path fill=\"#47a4e7\" stroke=\"black\" d=\"M1018,-1020C1018,-1020 884,-1020 884,-1020 878,-1020 872,-1014 872,-1008 872,-1008 872,-949 872,-949 872,-943 878,-937 884,-937 884,-937 1018,-937 1018,-937 1024,-937 1030,-943 1030,-949 1030,-949 1030,-1008 1030,-1008 1030,-1014 1024,-1020 1018,-1020\"/>\n<text text-anchor=\"middle\" x=\"951\" y=\"-1004.8\" font-family=\"Helvetica,sans-Serif\" font-size=\"14.00\">residual sugar &lt;= 2.75</text>\n<text text-anchor=\"middle\" x=\"951\" y=\"-989.8\" font-family=\"Helvetica,sans-Serif\" font-size=\"14.00\">gini = 0.124</text>\n<text text-anchor=\"middle\" x=\"951\" y=\"-974.8\" font-family=\"Helvetica,sans-Serif\" font-size=\"14.00\">samples = 15</text>\n<text text-anchor=\"middle\" x=\"951\" y=\"-959.8\" font-family=\"Helvetica,sans-Serif\" font-size=\"14.00\">value = [1, 14]</text>\n<text text-anchor=\"middle\" x=\"951\" y=\"-944.8\" font-family=\"Helvetica,sans-Serif\" font-size=\"14.00\">class = Red</text>\n</g>\n<!-- 24&#45;&gt;26 -->\n<g id=\"edge26\" class=\"edge\">\n<title>24&#45;&gt;26</title>\n<path fill=\"none\" stroke=\"black\" d=\"M958.18,-1055.91C957.4,-1047.56 956.56,-1038.67 955.75,-1030.02\"/>\n<polygon fill=\"black\" stroke=\"black\" points=\"959.23,-1029.65 954.81,-1020.02 952.26,-1030.3 959.23,-1029.65\"/>\n</g>\n<!-- 27 -->\n<g id=\"node28\" class=\"node\">\n<title>27</title>\n<path fill=\"#399de5\" stroke=\"black\" d=\"M855.5,-893.5C855.5,-893.5 774.5,-893.5 774.5,-893.5 768.5,-893.5 762.5,-887.5 762.5,-881.5 762.5,-881.5 762.5,-837.5 762.5,-837.5 762.5,-831.5 768.5,-825.5 774.5,-825.5 774.5,-825.5 855.5,-825.5 855.5,-825.5 861.5,-825.5 867.5,-831.5 867.5,-837.5 867.5,-837.5 867.5,-881.5 867.5,-881.5 867.5,-887.5 861.5,-893.5 855.5,-893.5\"/>\n<text text-anchor=\"middle\" x=\"815\" y=\"-878.3\" font-family=\"Helvetica,sans-Serif\" font-size=\"14.00\">gini = 0.0</text>\n<text text-anchor=\"middle\" x=\"815\" y=\"-863.3\" font-family=\"Helvetica,sans-Serif\" font-size=\"14.00\">samples = 13</text>\n<text text-anchor=\"middle\" x=\"815\" y=\"-848.3\" font-family=\"Helvetica,sans-Serif\" font-size=\"14.00\">value = [0, 13]</text>\n<text text-anchor=\"middle\" x=\"815\" y=\"-833.3\" font-family=\"Helvetica,sans-Serif\" font-size=\"14.00\">class = Red</text>\n</g>\n<!-- 26&#45;&gt;27 -->\n<g id=\"edge27\" class=\"edge\">\n<title>26&#45;&gt;27</title>\n<path fill=\"none\" stroke=\"black\" d=\"M903.82,-936.91C890.09,-925.1 875.11,-912.22 861.44,-900.45\"/>\n<polygon fill=\"black\" stroke=\"black\" points=\"863.42,-897.54 853.55,-893.67 858.85,-902.84 863.42,-897.54\"/>\n</g>\n<!-- 28 -->\n<g id=\"node29\" class=\"node\">\n<title>28</title>\n<path fill=\"#ffffff\" stroke=\"black\" d=\"M1004,-901C1004,-901 898,-901 898,-901 892,-901 886,-895 886,-889 886,-889 886,-830 886,-830 886,-824 892,-818 898,-818 898,-818 1004,-818 1004,-818 1010,-818 1016,-824 1016,-830 1016,-830 1016,-889 1016,-889 1016,-895 1010,-901 1004,-901\"/>\n<text text-anchor=\"middle\" x=\"951\" y=\"-885.8\" font-family=\"Helvetica,sans-Serif\" font-size=\"14.00\">sulphates &lt;= 0.54</text>\n<text text-anchor=\"middle\" x=\"951\" y=\"-870.8\" font-family=\"Helvetica,sans-Serif\" font-size=\"14.00\">gini = 0.5</text>\n<text text-anchor=\"middle\" x=\"951\" y=\"-855.8\" font-family=\"Helvetica,sans-Serif\" font-size=\"14.00\">samples = 2</text>\n<text text-anchor=\"middle\" x=\"951\" y=\"-840.8\" font-family=\"Helvetica,sans-Serif\" font-size=\"14.00\">value = [1, 1]</text>\n<text text-anchor=\"middle\" x=\"951\" y=\"-825.8\" font-family=\"Helvetica,sans-Serif\" font-size=\"14.00\">class = White</text>\n</g>\n<!-- 26&#45;&gt;28 -->\n<g id=\"edge28\" class=\"edge\">\n<title>26&#45;&gt;28</title>\n<path fill=\"none\" stroke=\"black\" d=\"M951,-936.91C951,-928.65 951,-919.86 951,-911.3\"/>\n<polygon fill=\"black\" stroke=\"black\" points=\"954.5,-911.02 951,-901.02 947.5,-911.02 954.5,-911.02\"/>\n</g>\n<!-- 29 -->\n<g id=\"node30\" class=\"node\">\n<title>29</title>\n<path fill=\"#e58139\" stroke=\"black\" d=\"M930,-774.5C930,-774.5 852,-774.5 852,-774.5 846,-774.5 840,-768.5 840,-762.5 840,-762.5 840,-718.5 840,-718.5 840,-712.5 846,-706.5 852,-706.5 852,-706.5 930,-706.5 930,-706.5 936,-706.5 942,-712.5 942,-718.5 942,-718.5 942,-762.5 942,-762.5 942,-768.5 936,-774.5 930,-774.5\"/>\n<text text-anchor=\"middle\" x=\"891\" y=\"-759.3\" font-family=\"Helvetica,sans-Serif\" font-size=\"14.00\">gini = 0.0</text>\n<text text-anchor=\"middle\" x=\"891\" y=\"-744.3\" font-family=\"Helvetica,sans-Serif\" font-size=\"14.00\">samples = 1</text>\n<text text-anchor=\"middle\" x=\"891\" y=\"-729.3\" font-family=\"Helvetica,sans-Serif\" font-size=\"14.00\">value = [1, 0]</text>\n<text text-anchor=\"middle\" x=\"891\" y=\"-714.3\" font-family=\"Helvetica,sans-Serif\" font-size=\"14.00\">class = White</text>\n</g>\n<!-- 28&#45;&gt;29 -->\n<g id=\"edge29\" class=\"edge\">\n<title>28&#45;&gt;29</title>\n<path fill=\"none\" stroke=\"black\" d=\"M930.18,-817.91C924.52,-806.87 918.38,-794.9 912.68,-783.77\"/>\n<polygon fill=\"black\" stroke=\"black\" points=\"915.69,-781.97 908.01,-774.67 909.46,-785.16 915.69,-781.97\"/>\n</g>\n<!-- 30 -->\n<g id=\"node31\" class=\"node\">\n<title>30</title>\n<path fill=\"#399de5\" stroke=\"black\" d=\"M1045.5,-774.5C1045.5,-774.5 972.5,-774.5 972.5,-774.5 966.5,-774.5 960.5,-768.5 960.5,-762.5 960.5,-762.5 960.5,-718.5 960.5,-718.5 960.5,-712.5 966.5,-706.5 972.5,-706.5 972.5,-706.5 1045.5,-706.5 1045.5,-706.5 1051.5,-706.5 1057.5,-712.5 1057.5,-718.5 1057.5,-718.5 1057.5,-762.5 1057.5,-762.5 1057.5,-768.5 1051.5,-774.5 1045.5,-774.5\"/>\n<text text-anchor=\"middle\" x=\"1009\" y=\"-759.3\" font-family=\"Helvetica,sans-Serif\" font-size=\"14.00\">gini = 0.0</text>\n<text text-anchor=\"middle\" x=\"1009\" y=\"-744.3\" font-family=\"Helvetica,sans-Serif\" font-size=\"14.00\">samples = 1</text>\n<text text-anchor=\"middle\" x=\"1009\" y=\"-729.3\" font-family=\"Helvetica,sans-Serif\" font-size=\"14.00\">value = [0, 1]</text>\n<text text-anchor=\"middle\" x=\"1009\" y=\"-714.3\" font-family=\"Helvetica,sans-Serif\" font-size=\"14.00\">class = Red</text>\n</g>\n<!-- 28&#45;&gt;30 -->\n<g id=\"edge30\" class=\"edge\">\n<title>28&#45;&gt;30</title>\n<path fill=\"none\" stroke=\"black\" d=\"M971.12,-817.91C976.59,-806.87 982.53,-794.9 988.04,-783.77\"/>\n<polygon fill=\"black\" stroke=\"black\" points=\"991.25,-785.18 992.56,-774.67 984.98,-782.07 991.25,-785.18\"/>\n</g>\n<!-- 32 -->\n<g id=\"node33\" class=\"node\">\n<title>32</title>\n<path fill=\"#41a1e6\" stroke=\"black\" d=\"M1184,-1020C1184,-1020 1060,-1020 1060,-1020 1054,-1020 1048,-1014 1048,-1008 1048,-1008 1048,-949 1048,-949 1048,-943 1054,-937 1060,-937 1060,-937 1184,-937 1184,-937 1190,-937 1196,-943 1196,-949 1196,-949 1196,-1008 1196,-1008 1196,-1014 1190,-1020 1184,-1020\"/>\n<text text-anchor=\"middle\" x=\"1122\" y=\"-1004.8\" font-family=\"Helvetica,sans-Serif\" font-size=\"14.00\">volatile acidity &lt;= 0.3</text>\n<text text-anchor=\"middle\" x=\"1122\" y=\"-989.8\" font-family=\"Helvetica,sans-Serif\" font-size=\"14.00\">gini = 0.077</text>\n<text text-anchor=\"middle\" x=\"1122\" y=\"-974.8\" font-family=\"Helvetica,sans-Serif\" font-size=\"14.00\">samples = 25</text>\n<text text-anchor=\"middle\" x=\"1122\" y=\"-959.8\" font-family=\"Helvetica,sans-Serif\" font-size=\"14.00\">value = [1, 24]</text>\n<text text-anchor=\"middle\" x=\"1122\" y=\"-944.8\" font-family=\"Helvetica,sans-Serif\" font-size=\"14.00\">class = Red</text>\n</g>\n<!-- 31&#45;&gt;32 -->\n<g id=\"edge32\" class=\"edge\">\n<title>31&#45;&gt;32</title>\n<path fill=\"none\" stroke=\"black\" d=\"M1122,-1055.91C1122,-1047.65 1122,-1038.86 1122,-1030.3\"/>\n<polygon fill=\"black\" stroke=\"black\" points=\"1125.5,-1030.02 1122,-1020.02 1118.5,-1030.02 1125.5,-1030.02\"/>\n</g>\n<!-- 35 -->\n<g id=\"node36\" class=\"node\">\n<title>35</title>\n<path fill=\"#399de5\" stroke=\"black\" d=\"M1315.5,-1012.5C1315.5,-1012.5 1226.5,-1012.5 1226.5,-1012.5 1220.5,-1012.5 1214.5,-1006.5 1214.5,-1000.5 1214.5,-1000.5 1214.5,-956.5 1214.5,-956.5 1214.5,-950.5 1220.5,-944.5 1226.5,-944.5 1226.5,-944.5 1315.5,-944.5 1315.5,-944.5 1321.5,-944.5 1327.5,-950.5 1327.5,-956.5 1327.5,-956.5 1327.5,-1000.5 1327.5,-1000.5 1327.5,-1006.5 1321.5,-1012.5 1315.5,-1012.5\"/>\n<text text-anchor=\"middle\" x=\"1271\" y=\"-997.3\" font-family=\"Helvetica,sans-Serif\" font-size=\"14.00\">gini = 0.0</text>\n<text text-anchor=\"middle\" x=\"1271\" y=\"-982.3\" font-family=\"Helvetica,sans-Serif\" font-size=\"14.00\">samples = 952</text>\n<text text-anchor=\"middle\" x=\"1271\" y=\"-967.3\" font-family=\"Helvetica,sans-Serif\" font-size=\"14.00\">value = [0, 952]</text>\n<text text-anchor=\"middle\" x=\"1271\" y=\"-952.3\" font-family=\"Helvetica,sans-Serif\" font-size=\"14.00\">class = Red</text>\n</g>\n<!-- 31&#45;&gt;35 -->\n<g id=\"edge35\" class=\"edge\">\n<title>31&#45;&gt;35</title>\n<path fill=\"none\" stroke=\"black\" d=\"M1173.69,-1055.91C1188.87,-1043.99 1205.45,-1030.98 1220.54,-1019.12\"/>\n<polygon fill=\"black\" stroke=\"black\" points=\"1223.06,-1021.6 1228.76,-1012.67 1218.74,-1016.09 1223.06,-1021.6\"/>\n</g>\n<!-- 33 -->\n<g id=\"node34\" class=\"node\">\n<title>33</title>\n<path fill=\"#e58139\" stroke=\"black\" d=\"M1124,-893.5C1124,-893.5 1046,-893.5 1046,-893.5 1040,-893.5 1034,-887.5 1034,-881.5 1034,-881.5 1034,-837.5 1034,-837.5 1034,-831.5 1040,-825.5 1046,-825.5 1046,-825.5 1124,-825.5 1124,-825.5 1130,-825.5 1136,-831.5 1136,-837.5 1136,-837.5 1136,-881.5 1136,-881.5 1136,-887.5 1130,-893.5 1124,-893.5\"/>\n<text text-anchor=\"middle\" x=\"1085\" y=\"-878.3\" font-family=\"Helvetica,sans-Serif\" font-size=\"14.00\">gini = 0.0</text>\n<text text-anchor=\"middle\" x=\"1085\" y=\"-863.3\" font-family=\"Helvetica,sans-Serif\" font-size=\"14.00\">samples = 1</text>\n<text text-anchor=\"middle\" x=\"1085\" y=\"-848.3\" font-family=\"Helvetica,sans-Serif\" font-size=\"14.00\">value = [1, 0]</text>\n<text text-anchor=\"middle\" x=\"1085\" y=\"-833.3\" font-family=\"Helvetica,sans-Serif\" font-size=\"14.00\">class = White</text>\n</g>\n<!-- 32&#45;&gt;33 -->\n<g id=\"edge33\" class=\"edge\">\n<title>32&#45;&gt;33</title>\n<path fill=\"none\" stroke=\"black\" d=\"M1109.16,-936.91C1105.74,-926.09 1102.04,-914.38 1098.58,-903.44\"/>\n<polygon fill=\"black\" stroke=\"black\" points=\"1101.84,-902.15 1095.49,-893.67 1095.17,-904.26 1101.84,-902.15\"/>\n</g>\n<!-- 34 -->\n<g id=\"node35\" class=\"node\">\n<title>34</title>\n<path fill=\"#399de5\" stroke=\"black\" d=\"M1247.5,-893.5C1247.5,-893.5 1166.5,-893.5 1166.5,-893.5 1160.5,-893.5 1154.5,-887.5 1154.5,-881.5 1154.5,-881.5 1154.5,-837.5 1154.5,-837.5 1154.5,-831.5 1160.5,-825.5 1166.5,-825.5 1166.5,-825.5 1247.5,-825.5 1247.5,-825.5 1253.5,-825.5 1259.5,-831.5 1259.5,-837.5 1259.5,-837.5 1259.5,-881.5 1259.5,-881.5 1259.5,-887.5 1253.5,-893.5 1247.5,-893.5\"/>\n<text text-anchor=\"middle\" x=\"1207\" y=\"-878.3\" font-family=\"Helvetica,sans-Serif\" font-size=\"14.00\">gini = 0.0</text>\n<text text-anchor=\"middle\" x=\"1207\" y=\"-863.3\" font-family=\"Helvetica,sans-Serif\" font-size=\"14.00\">samples = 24</text>\n<text text-anchor=\"middle\" x=\"1207\" y=\"-848.3\" font-family=\"Helvetica,sans-Serif\" font-size=\"14.00\">value = [0, 24]</text>\n<text text-anchor=\"middle\" x=\"1207\" y=\"-833.3\" font-family=\"Helvetica,sans-Serif\" font-size=\"14.00\">class = Red</text>\n</g>\n<!-- 32&#45;&gt;34 -->\n<g id=\"edge34\" class=\"edge\">\n<title>32&#45;&gt;34</title>\n<path fill=\"none\" stroke=\"black\" d=\"M1151.49,-936.91C1159.75,-925.54 1168.73,-913.18 1177.01,-901.77\"/>\n<polygon fill=\"black\" stroke=\"black\" points=\"1179.86,-903.81 1182.9,-893.67 1174.2,-899.7 1179.86,-903.81\"/>\n</g>\n<!-- 37 -->\n<g id=\"node38\" class=\"node\">\n<title>37</title>\n<path fill=\"#e5823b\" stroke=\"black\" d=\"M2172,-1615C2172,-1615 2058,-1615 2058,-1615 2052,-1615 2046,-1609 2046,-1603 2046,-1603 2046,-1544 2046,-1544 2046,-1538 2052,-1532 2058,-1532 2058,-1532 2172,-1532 2172,-1532 2178,-1532 2184,-1538 2184,-1544 2184,-1544 2184,-1603 2184,-1603 2184,-1609 2178,-1615 2172,-1615\"/>\n<text text-anchor=\"middle\" x=\"2115\" y=\"-1599.8\" font-family=\"Helvetica,sans-Serif\" font-size=\"14.00\">sulphates &lt;= 1.125</text>\n<text text-anchor=\"middle\" x=\"2115\" y=\"-1584.8\" font-family=\"Helvetica,sans-Serif\" font-size=\"14.00\">gini = 0.02</text>\n<text text-anchor=\"middle\" x=\"2115\" y=\"-1569.8\" font-family=\"Helvetica,sans-Serif\" font-size=\"14.00\">samples = 3679</text>\n<text text-anchor=\"middle\" x=\"2115\" y=\"-1554.8\" font-family=\"Helvetica,sans-Serif\" font-size=\"14.00\">value = [3641, 38]</text>\n<text text-anchor=\"middle\" x=\"2115\" y=\"-1539.8\" font-family=\"Helvetica,sans-Serif\" font-size=\"14.00\">class = White</text>\n</g>\n<!-- 36&#45;&gt;37 -->\n<g id=\"edge37\" class=\"edge\">\n<title>36&#45;&gt;37</title>\n<path fill=\"none\" stroke=\"black\" d=\"M2115,-1650.91C2115,-1642.65 2115,-1633.86 2115,-1625.3\"/>\n<polygon fill=\"black\" stroke=\"black\" points=\"2118.5,-1625.02 2115,-1615.02 2111.5,-1625.02 2118.5,-1625.02\"/>\n</g>\n<!-- 106 -->\n<g id=\"node107\" class=\"node\">\n<title>106</title>\n<path fill=\"#c9e4f8\" stroke=\"black\" d=\"M2970.5,-1615C2970.5,-1615 2851.5,-1615 2851.5,-1615 2845.5,-1615 2839.5,-1609 2839.5,-1603 2839.5,-1603 2839.5,-1544 2839.5,-1544 2839.5,-1538 2845.5,-1532 2851.5,-1532 2851.5,-1532 2970.5,-1532 2970.5,-1532 2976.5,-1532 2982.5,-1538 2982.5,-1544 2982.5,-1544 2982.5,-1603 2982.5,-1603 2982.5,-1609 2976.5,-1615 2970.5,-1615\"/>\n<text text-anchor=\"middle\" x=\"2911\" y=\"-1599.8\" font-family=\"Helvetica,sans-Serif\" font-size=\"14.00\">fixed acidity &lt;= 7.05</text>\n<text text-anchor=\"middle\" x=\"2911\" y=\"-1584.8\" font-family=\"Helvetica,sans-Serif\" font-size=\"14.00\">gini = 0.488</text>\n<text text-anchor=\"middle\" x=\"2911\" y=\"-1569.8\" font-family=\"Helvetica,sans-Serif\" font-size=\"14.00\">samples = 382</text>\n<text text-anchor=\"middle\" x=\"2911\" y=\"-1554.8\" font-family=\"Helvetica,sans-Serif\" font-size=\"14.00\">value = [161, 221]</text>\n<text text-anchor=\"middle\" x=\"2911\" y=\"-1539.8\" font-family=\"Helvetica,sans-Serif\" font-size=\"14.00\">class = Red</text>\n</g>\n<!-- 36&#45;&gt;106 -->\n<g id=\"edge106\" class=\"edge\">\n<title>36&#45;&gt;106</title>\n<path fill=\"none\" stroke=\"black\" d=\"M2184.25,-1681.32C2330.91,-1659.76 2672.23,-1609.6 2829.27,-1586.51\"/>\n<polygon fill=\"black\" stroke=\"black\" points=\"2829.96,-1589.95 2839.34,-1585.03 2828.94,-1583.02 2829.96,-1589.95\"/>\n</g>\n<!-- 38 -->\n<g id=\"node39\" class=\"node\">\n<title>38</title>\n<path fill=\"#e5823b\" stroke=\"black\" d=\"M2111,-1496C2111,-1496 1971,-1496 1971,-1496 1965,-1496 1959,-1490 1959,-1484 1959,-1484 1959,-1425 1959,-1425 1959,-1419 1965,-1413 1971,-1413 1971,-1413 2111,-1413 2111,-1413 2117,-1413 2123,-1419 2123,-1425 2123,-1425 2123,-1484 2123,-1484 2123,-1490 2117,-1496 2111,-1496\"/>\n<text text-anchor=\"middle\" x=\"2041\" y=\"-1480.8\" font-family=\"Helvetica,sans-Serif\" font-size=\"14.00\">volatile acidity &lt;= 0.465</text>\n<text text-anchor=\"middle\" x=\"2041\" y=\"-1465.8\" font-family=\"Helvetica,sans-Serif\" font-size=\"14.00\">gini = 0.019</text>\n<text text-anchor=\"middle\" x=\"2041\" y=\"-1450.8\" font-family=\"Helvetica,sans-Serif\" font-size=\"14.00\">samples = 3677</text>\n<text text-anchor=\"middle\" x=\"2041\" y=\"-1435.8\" font-family=\"Helvetica,sans-Serif\" font-size=\"14.00\">value = [3641, 36]</text>\n<text text-anchor=\"middle\" x=\"2041\" y=\"-1420.8\" font-family=\"Helvetica,sans-Serif\" font-size=\"14.00\">class = White</text>\n</g>\n<!-- 37&#45;&gt;38 -->\n<g id=\"edge38\" class=\"edge\">\n<title>37&#45;&gt;38</title>\n<path fill=\"none\" stroke=\"black\" d=\"M2089.33,-1531.91C2083.76,-1523.1 2077.81,-1513.7 2072.06,-1504.61\"/>\n<polygon fill=\"black\" stroke=\"black\" points=\"2074.93,-1502.6 2066.63,-1496.02 2069.02,-1506.34 2074.93,-1502.6\"/>\n</g>\n<!-- 105 -->\n<g id=\"node106\" class=\"node\">\n<title>105</title>\n<path fill=\"#399de5\" stroke=\"black\" d=\"M2226.5,-1488.5C2226.5,-1488.5 2153.5,-1488.5 2153.5,-1488.5 2147.5,-1488.5 2141.5,-1482.5 2141.5,-1476.5 2141.5,-1476.5 2141.5,-1432.5 2141.5,-1432.5 2141.5,-1426.5 2147.5,-1420.5 2153.5,-1420.5 2153.5,-1420.5 2226.5,-1420.5 2226.5,-1420.5 2232.5,-1420.5 2238.5,-1426.5 2238.5,-1432.5 2238.5,-1432.5 2238.5,-1476.5 2238.5,-1476.5 2238.5,-1482.5 2232.5,-1488.5 2226.5,-1488.5\"/>\n<text text-anchor=\"middle\" x=\"2190\" y=\"-1473.3\" font-family=\"Helvetica,sans-Serif\" font-size=\"14.00\">gini = 0.0</text>\n<text text-anchor=\"middle\" x=\"2190\" y=\"-1458.3\" font-family=\"Helvetica,sans-Serif\" font-size=\"14.00\">samples = 2</text>\n<text text-anchor=\"middle\" x=\"2190\" y=\"-1443.3\" font-family=\"Helvetica,sans-Serif\" font-size=\"14.00\">value = [0, 2]</text>\n<text text-anchor=\"middle\" x=\"2190\" y=\"-1428.3\" font-family=\"Helvetica,sans-Serif\" font-size=\"14.00\">class = Red</text>\n</g>\n<!-- 37&#45;&gt;105 -->\n<g id=\"edge105\" class=\"edge\">\n<title>37&#45;&gt;105</title>\n<path fill=\"none\" stroke=\"black\" d=\"M2141.02,-1531.91C2148.24,-1520.65 2156.08,-1508.42 2163.33,-1497.11\"/>\n<polygon fill=\"black\" stroke=\"black\" points=\"2166.29,-1498.97 2168.74,-1488.67 2160.4,-1495.2 2166.29,-1498.97\"/>\n</g>\n<!-- 39 -->\n<g id=\"node40\" class=\"node\">\n<title>39</title>\n<path fill=\"#e5823a\" stroke=\"black\" d=\"M1949.5,-1377C1949.5,-1377 1838.5,-1377 1838.5,-1377 1832.5,-1377 1826.5,-1371 1826.5,-1365 1826.5,-1365 1826.5,-1306 1826.5,-1306 1826.5,-1300 1832.5,-1294 1838.5,-1294 1838.5,-1294 1949.5,-1294 1949.5,-1294 1955.5,-1294 1961.5,-1300 1961.5,-1306 1961.5,-1306 1961.5,-1365 1961.5,-1365 1961.5,-1371 1955.5,-1377 1949.5,-1377\"/>\n<text text-anchor=\"middle\" x=\"1894\" y=\"-1361.8\" font-family=\"Helvetica,sans-Serif\" font-size=\"14.00\">chlorides &lt;= 0.013</text>\n<text text-anchor=\"middle\" x=\"1894\" y=\"-1346.8\" font-family=\"Helvetica,sans-Serif\" font-size=\"14.00\">gini = 0.011</text>\n<text text-anchor=\"middle\" x=\"1894\" y=\"-1331.8\" font-family=\"Helvetica,sans-Serif\" font-size=\"14.00\">samples = 3525</text>\n<text text-anchor=\"middle\" x=\"1894\" y=\"-1316.8\" font-family=\"Helvetica,sans-Serif\" font-size=\"14.00\">value = [3506, 19]</text>\n<text text-anchor=\"middle\" x=\"1894\" y=\"-1301.8\" font-family=\"Helvetica,sans-Serif\" font-size=\"14.00\">class = White</text>\n</g>\n<!-- 38&#45;&gt;39 -->\n<g id=\"edge39\" class=\"edge\">\n<title>38&#45;&gt;39</title>\n<path fill=\"none\" stroke=\"black\" d=\"M1990,-1412.91C1978.03,-1403.38 1965.17,-1393.15 1952.89,-1383.37\"/>\n<polygon fill=\"black\" stroke=\"black\" points=\"1954.91,-1380.51 1944.91,-1377.02 1950.56,-1385.99 1954.91,-1380.51\"/>\n</g>\n<!-- 84 -->\n<g id=\"node85\" class=\"node\">\n<title>84</title>\n<path fill=\"#e89152\" stroke=\"black\" d=\"M2181,-1377C2181,-1377 2083,-1377 2083,-1377 2077,-1377 2071,-1371 2071,-1365 2071,-1365 2071,-1306 2071,-1306 2071,-1300 2077,-1294 2083,-1294 2083,-1294 2181,-1294 2181,-1294 2187,-1294 2193,-1300 2193,-1306 2193,-1306 2193,-1365 2193,-1365 2193,-1371 2187,-1377 2181,-1377\"/>\n<text text-anchor=\"middle\" x=\"2132\" y=\"-1361.8\" font-family=\"Helvetica,sans-Serif\" font-size=\"14.00\">pH &lt;= 3.535</text>\n<text text-anchor=\"middle\" x=\"2132\" y=\"-1346.8\" font-family=\"Helvetica,sans-Serif\" font-size=\"14.00\">gini = 0.199</text>\n<text text-anchor=\"middle\" x=\"2132\" y=\"-1331.8\" font-family=\"Helvetica,sans-Serif\" font-size=\"14.00\">samples = 152</text>\n<text text-anchor=\"middle\" x=\"2132\" y=\"-1316.8\" font-family=\"Helvetica,sans-Serif\" font-size=\"14.00\">value = [135, 17]</text>\n<text text-anchor=\"middle\" x=\"2132\" y=\"-1301.8\" font-family=\"Helvetica,sans-Serif\" font-size=\"14.00\">class = White</text>\n</g>\n<!-- 38&#45;&gt;84 -->\n<g id=\"edge84\" class=\"edge\">\n<title>38&#45;&gt;84</title>\n<path fill=\"none\" stroke=\"black\" d=\"M2072.57,-1412.91C2079.56,-1403.92 2087.03,-1394.32 2094.24,-1385.05\"/>\n<polygon fill=\"black\" stroke=\"black\" points=\"2097.11,-1387.06 2100.48,-1377.02 2091.58,-1382.77 2097.11,-1387.06\"/>\n</g>\n<!-- 40 -->\n<g id=\"node41\" class=\"node\">\n<title>40</title>\n<path fill=\"#9ccef2\" stroke=\"black\" d=\"M1768.5,-1250.5C1768.5,-1250.5 1695.5,-1250.5 1695.5,-1250.5 1689.5,-1250.5 1683.5,-1244.5 1683.5,-1238.5 1683.5,-1238.5 1683.5,-1194.5 1683.5,-1194.5 1683.5,-1188.5 1689.5,-1182.5 1695.5,-1182.5 1695.5,-1182.5 1768.5,-1182.5 1768.5,-1182.5 1774.5,-1182.5 1780.5,-1188.5 1780.5,-1194.5 1780.5,-1194.5 1780.5,-1238.5 1780.5,-1238.5 1780.5,-1244.5 1774.5,-1250.5 1768.5,-1250.5\"/>\n<text text-anchor=\"middle\" x=\"1732\" y=\"-1235.3\" font-family=\"Helvetica,sans-Serif\" font-size=\"14.00\">gini = 0.444</text>\n<text text-anchor=\"middle\" x=\"1732\" y=\"-1220.3\" font-family=\"Helvetica,sans-Serif\" font-size=\"14.00\">samples = 3</text>\n<text text-anchor=\"middle\" x=\"1732\" y=\"-1205.3\" font-family=\"Helvetica,sans-Serif\" font-size=\"14.00\">value = [1, 2]</text>\n<text text-anchor=\"middle\" x=\"1732\" y=\"-1190.3\" font-family=\"Helvetica,sans-Serif\" font-size=\"14.00\">class = Red</text>\n</g>\n<!-- 39&#45;&gt;40 -->\n<g id=\"edge40\" class=\"edge\">\n<title>39&#45;&gt;40</title>\n<path fill=\"none\" stroke=\"black\" d=\"M1837.79,-1293.91C1821.14,-1281.88 1802.94,-1268.73 1786.4,-1256.79\"/>\n<polygon fill=\"black\" stroke=\"black\" points=\"1788.08,-1253.68 1777.92,-1250.67 1783.98,-1259.36 1788.08,-1253.68\"/>\n</g>\n<!-- 41 -->\n<g id=\"node42\" class=\"node\">\n<title>41</title>\n<path fill=\"#e5823a\" stroke=\"black\" d=\"M1977.5,-1258C1977.5,-1258 1810.5,-1258 1810.5,-1258 1804.5,-1258 1798.5,-1252 1798.5,-1246 1798.5,-1246 1798.5,-1187 1798.5,-1187 1798.5,-1181 1804.5,-1175 1810.5,-1175 1810.5,-1175 1977.5,-1175 1977.5,-1175 1983.5,-1175 1989.5,-1181 1989.5,-1187 1989.5,-1187 1989.5,-1246 1989.5,-1246 1989.5,-1252 1983.5,-1258 1977.5,-1258\"/>\n<text text-anchor=\"middle\" x=\"1894\" y=\"-1242.8\" font-family=\"Helvetica,sans-Serif\" font-size=\"14.00\">total sulfur dioxide &lt;= 275.0</text>\n<text text-anchor=\"middle\" x=\"1894\" y=\"-1227.8\" font-family=\"Helvetica,sans-Serif\" font-size=\"14.00\">gini = 0.01</text>\n<text text-anchor=\"middle\" x=\"1894\" y=\"-1212.8\" font-family=\"Helvetica,sans-Serif\" font-size=\"14.00\">samples = 3522</text>\n<text text-anchor=\"middle\" x=\"1894\" y=\"-1197.8\" font-family=\"Helvetica,sans-Serif\" font-size=\"14.00\">value = [3505, 17]</text>\n<text text-anchor=\"middle\" x=\"1894\" y=\"-1182.8\" font-family=\"Helvetica,sans-Serif\" font-size=\"14.00\">class = White</text>\n</g>\n<!-- 39&#45;&gt;41 -->\n<g id=\"edge41\" class=\"edge\">\n<title>39&#45;&gt;41</title>\n<path fill=\"none\" stroke=\"black\" d=\"M1894,-1293.91C1894,-1285.65 1894,-1276.86 1894,-1268.3\"/>\n<polygon fill=\"black\" stroke=\"black\" points=\"1897.5,-1268.02 1894,-1258.02 1890.5,-1268.02 1897.5,-1268.02\"/>\n</g>\n<!-- 42 -->\n<g id=\"node43\" class=\"node\">\n<title>42</title>\n<path fill=\"#e5823a\" stroke=\"black\" d=\"M1735.5,-1139C1735.5,-1139 1624.5,-1139 1624.5,-1139 1618.5,-1139 1612.5,-1133 1612.5,-1127 1612.5,-1127 1612.5,-1068 1612.5,-1068 1612.5,-1062 1618.5,-1056 1624.5,-1056 1624.5,-1056 1735.5,-1056 1735.5,-1056 1741.5,-1056 1747.5,-1062 1747.5,-1068 1747.5,-1068 1747.5,-1127 1747.5,-1127 1747.5,-1133 1741.5,-1139 1735.5,-1139\"/>\n<text text-anchor=\"middle\" x=\"1680\" y=\"-1123.8\" font-family=\"Helvetica,sans-Serif\" font-size=\"14.00\">chlorides &lt;= 0.064</text>\n<text text-anchor=\"middle\" x=\"1680\" y=\"-1108.8\" font-family=\"Helvetica,sans-Serif\" font-size=\"14.00\">gini = 0.008</text>\n<text text-anchor=\"middle\" x=\"1680\" y=\"-1093.8\" font-family=\"Helvetica,sans-Serif\" font-size=\"14.00\">samples = 3515</text>\n<text text-anchor=\"middle\" x=\"1680\" y=\"-1078.8\" font-family=\"Helvetica,sans-Serif\" font-size=\"14.00\">value = [3500, 15]</text>\n<text text-anchor=\"middle\" x=\"1680\" y=\"-1063.8\" font-family=\"Helvetica,sans-Serif\" font-size=\"14.00\">class = White</text>\n</g>\n<!-- 41&#45;&gt;42 -->\n<g id=\"edge42\" class=\"edge\">\n<title>41&#45;&gt;42</title>\n<path fill=\"none\" stroke=\"black\" d=\"M1819.75,-1174.91C1799.35,-1163.75 1777.19,-1151.64 1756.66,-1140.41\"/>\n<polygon fill=\"black\" stroke=\"black\" points=\"1758.12,-1137.22 1747.66,-1135.49 1754.76,-1143.36 1758.12,-1137.22\"/>\n</g>\n<!-- 81 -->\n<g id=\"node82\" class=\"node\">\n<title>81</title>\n<path fill=\"#efb388\" stroke=\"black\" d=\"M1933,-1139C1933,-1139 1855,-1139 1855,-1139 1849,-1139 1843,-1133 1843,-1127 1843,-1127 1843,-1068 1843,-1068 1843,-1062 1849,-1056 1855,-1056 1855,-1056 1933,-1056 1933,-1056 1939,-1056 1945,-1062 1945,-1068 1945,-1068 1945,-1127 1945,-1127 1945,-1133 1939,-1139 1933,-1139\"/>\n<text text-anchor=\"middle\" x=\"1894\" y=\"-1123.8\" font-family=\"Helvetica,sans-Serif\" font-size=\"14.00\">pH &lt;= 3.02</text>\n<text text-anchor=\"middle\" x=\"1894\" y=\"-1108.8\" font-family=\"Helvetica,sans-Serif\" font-size=\"14.00\">gini = 0.408</text>\n<text text-anchor=\"middle\" x=\"1894\" y=\"-1093.8\" font-family=\"Helvetica,sans-Serif\" font-size=\"14.00\">samples = 7</text>\n<text text-anchor=\"middle\" x=\"1894\" y=\"-1078.8\" font-family=\"Helvetica,sans-Serif\" font-size=\"14.00\">value = [5, 2]</text>\n<text text-anchor=\"middle\" x=\"1894\" y=\"-1063.8\" font-family=\"Helvetica,sans-Serif\" font-size=\"14.00\">class = White</text>\n</g>\n<!-- 41&#45;&gt;81 -->\n<g id=\"edge81\" class=\"edge\">\n<title>41&#45;&gt;81</title>\n<path fill=\"none\" stroke=\"black\" d=\"M1894,-1174.91C1894,-1166.65 1894,-1157.86 1894,-1149.3\"/>\n<polygon fill=\"black\" stroke=\"black\" points=\"1897.5,-1149.02 1894,-1139.02 1890.5,-1149.02 1897.5,-1149.02\"/>\n</g>\n<!-- 43 -->\n<g id=\"node44\" class=\"node\">\n<title>43</title>\n<path fill=\"#e5813a\" stroke=\"black\" d=\"M1558,-1020C1558,-1020 1460,-1020 1460,-1020 1454,-1020 1448,-1014 1448,-1008 1448,-1008 1448,-949 1448,-949 1448,-943 1454,-937 1460,-937 1460,-937 1558,-937 1558,-937 1564,-937 1570,-943 1570,-949 1570,-949 1570,-1008 1570,-1008 1570,-1014 1564,-1020 1558,-1020\"/>\n<text text-anchor=\"middle\" x=\"1509\" y=\"-1004.8\" font-family=\"Helvetica,sans-Serif\" font-size=\"14.00\">alcohol &lt;= 13.55</text>\n<text text-anchor=\"middle\" x=\"1509\" y=\"-989.8\" font-family=\"Helvetica,sans-Serif\" font-size=\"14.00\">gini = 0.005</text>\n<text text-anchor=\"middle\" x=\"1509\" y=\"-974.8\" font-family=\"Helvetica,sans-Serif\" font-size=\"14.00\">samples = 3454</text>\n<text text-anchor=\"middle\" x=\"1509\" y=\"-959.8\" font-family=\"Helvetica,sans-Serif\" font-size=\"14.00\">value = [3445, 9]</text>\n<text text-anchor=\"middle\" x=\"1509\" y=\"-944.8\" font-family=\"Helvetica,sans-Serif\" font-size=\"14.00\">class = White</text>\n</g>\n<!-- 42&#45;&gt;43 -->\n<g id=\"edge43\" class=\"edge\">\n<title>42&#45;&gt;43</title>\n<path fill=\"none\" stroke=\"black\" d=\"M1620.67,-1055.91C1606.48,-1046.2 1591.22,-1035.76 1576.69,-1025.81\"/>\n<polygon fill=\"black\" stroke=\"black\" points=\"1578.45,-1022.78 1568.22,-1020.02 1574.5,-1028.56 1578.45,-1022.78\"/>\n</g>\n<!-- 74 -->\n<g id=\"node75\" class=\"node\">\n<title>74</title>\n<path fill=\"#e88f4f\" stroke=\"black\" d=\"M1759.5,-1020C1759.5,-1020 1600.5,-1020 1600.5,-1020 1594.5,-1020 1588.5,-1014 1588.5,-1008 1588.5,-1008 1588.5,-949 1588.5,-949 1588.5,-943 1594.5,-937 1600.5,-937 1600.5,-937 1759.5,-937 1759.5,-937 1765.5,-937 1771.5,-943 1771.5,-949 1771.5,-949 1771.5,-1008 1771.5,-1008 1771.5,-1014 1765.5,-1020 1759.5,-1020\"/>\n<text text-anchor=\"middle\" x=\"1680\" y=\"-1004.8\" font-family=\"Helvetica,sans-Serif\" font-size=\"14.00\">total sulfur dioxide &lt;= 83.0</text>\n<text text-anchor=\"middle\" x=\"1680\" y=\"-989.8\" font-family=\"Helvetica,sans-Serif\" font-size=\"14.00\">gini = 0.177</text>\n<text text-anchor=\"middle\" x=\"1680\" y=\"-974.8\" font-family=\"Helvetica,sans-Serif\" font-size=\"14.00\">samples = 61</text>\n<text text-anchor=\"middle\" x=\"1680\" y=\"-959.8\" font-family=\"Helvetica,sans-Serif\" font-size=\"14.00\">value = [55, 6]</text>\n<text text-anchor=\"middle\" x=\"1680\" y=\"-944.8\" font-family=\"Helvetica,sans-Serif\" font-size=\"14.00\">class = White</text>\n</g>\n<!-- 42&#45;&gt;74 -->\n<g id=\"edge74\" class=\"edge\">\n<title>42&#45;&gt;74</title>\n<path fill=\"none\" stroke=\"black\" d=\"M1680,-1055.91C1680,-1047.65 1680,-1038.86 1680,-1030.3\"/>\n<polygon fill=\"black\" stroke=\"black\" points=\"1683.5,-1030.02 1680,-1020.02 1676.5,-1030.02 1683.5,-1030.02\"/>\n</g>\n<!-- 44 -->\n<g id=\"node45\" class=\"node\">\n<title>44</title>\n<path fill=\"#e58139\" stroke=\"black\" d=\"M1448.5,-901C1448.5,-901 1289.5,-901 1289.5,-901 1283.5,-901 1277.5,-895 1277.5,-889 1277.5,-889 1277.5,-830 1277.5,-830 1277.5,-824 1283.5,-818 1289.5,-818 1289.5,-818 1448.5,-818 1448.5,-818 1454.5,-818 1460.5,-824 1460.5,-830 1460.5,-830 1460.5,-889 1460.5,-889 1460.5,-895 1454.5,-901 1448.5,-901\"/>\n<text text-anchor=\"middle\" x=\"1369\" y=\"-885.8\" font-family=\"Helvetica,sans-Serif\" font-size=\"14.00\">total sulfur dioxide &lt;= 77.5</text>\n<text text-anchor=\"middle\" x=\"1369\" y=\"-870.8\" font-family=\"Helvetica,sans-Serif\" font-size=\"14.00\">gini = 0.004</text>\n<text text-anchor=\"middle\" x=\"1369\" y=\"-855.8\" font-family=\"Helvetica,sans-Serif\" font-size=\"14.00\">samples = 3437</text>\n<text text-anchor=\"middle\" x=\"1369\" y=\"-840.8\" font-family=\"Helvetica,sans-Serif\" font-size=\"14.00\">value = [3430, 7]</text>\n<text text-anchor=\"middle\" x=\"1369\" y=\"-825.8\" font-family=\"Helvetica,sans-Serif\" font-size=\"14.00\">class = White</text>\n</g>\n<!-- 43&#45;&gt;44 -->\n<g id=\"edge44\" class=\"edge\">\n<title>43&#45;&gt;44</title>\n<path fill=\"none\" stroke=\"black\" d=\"M1460.43,-936.91C1449.13,-927.47 1437.02,-917.34 1425.42,-907.65\"/>\n<polygon fill=\"black\" stroke=\"black\" points=\"1427.4,-904.75 1417.49,-901.02 1422.92,-910.12 1427.4,-904.75\"/>\n</g>\n<!-- 71 -->\n<g id=\"node72\" class=\"node\">\n<title>71</title>\n<path fill=\"#e89253\" stroke=\"black\" d=\"M1601.5,-901C1601.5,-901 1490.5,-901 1490.5,-901 1484.5,-901 1478.5,-895 1478.5,-889 1478.5,-889 1478.5,-830 1478.5,-830 1478.5,-824 1484.5,-818 1490.5,-818 1490.5,-818 1601.5,-818 1601.5,-818 1607.5,-818 1613.5,-824 1613.5,-830 1613.5,-830 1613.5,-889 1613.5,-889 1613.5,-895 1607.5,-901 1601.5,-901\"/>\n<text text-anchor=\"middle\" x=\"1546\" y=\"-885.8\" font-family=\"Helvetica,sans-Serif\" font-size=\"14.00\">chlorides &lt;= 0.042</text>\n<text text-anchor=\"middle\" x=\"1546\" y=\"-870.8\" font-family=\"Helvetica,sans-Serif\" font-size=\"14.00\">gini = 0.208</text>\n<text text-anchor=\"middle\" x=\"1546\" y=\"-855.8\" font-family=\"Helvetica,sans-Serif\" font-size=\"14.00\">samples = 17</text>\n<text text-anchor=\"middle\" x=\"1546\" y=\"-840.8\" font-family=\"Helvetica,sans-Serif\" font-size=\"14.00\">value = [15, 2]</text>\n<text text-anchor=\"middle\" x=\"1546\" y=\"-825.8\" font-family=\"Helvetica,sans-Serif\" font-size=\"14.00\">class = White</text>\n</g>\n<!-- 43&#45;&gt;71 -->\n<g id=\"edge71\" class=\"edge\">\n<title>43&#45;&gt;71</title>\n<path fill=\"none\" stroke=\"black\" d=\"M1521.84,-936.91C1524.51,-928.47 1527.35,-919.48 1530.11,-910.74\"/>\n<polygon fill=\"black\" stroke=\"black\" points=\"1533.51,-911.61 1533.19,-901.02 1526.83,-909.5 1533.51,-911.61\"/>\n</g>\n<!-- 45 -->\n<g id=\"node46\" class=\"node\">\n<title>45</title>\n<path fill=\"#e68640\" stroke=\"black\" d=\"M1218,-782C1218,-782 1120,-782 1120,-782 1114,-782 1108,-776 1108,-770 1108,-770 1108,-711 1108,-711 1108,-705 1114,-699 1120,-699 1120,-699 1218,-699 1218,-699 1224,-699 1230,-705 1230,-711 1230,-711 1230,-770 1230,-770 1230,-776 1224,-782 1218,-782\"/>\n<text text-anchor=\"middle\" x=\"1169\" y=\"-766.8\" font-family=\"Helvetica,sans-Serif\" font-size=\"14.00\">density &lt;= 0.995</text>\n<text text-anchor=\"middle\" x=\"1169\" y=\"-751.8\" font-family=\"Helvetica,sans-Serif\" font-size=\"14.00\">gini = 0.069</text>\n<text text-anchor=\"middle\" x=\"1169\" y=\"-736.8\" font-family=\"Helvetica,sans-Serif\" font-size=\"14.00\">samples = 112</text>\n<text text-anchor=\"middle\" x=\"1169\" y=\"-721.8\" font-family=\"Helvetica,sans-Serif\" font-size=\"14.00\">value = [108, 4]</text>\n<text text-anchor=\"middle\" x=\"1169\" y=\"-706.8\" font-family=\"Helvetica,sans-Serif\" font-size=\"14.00\">class = White</text>\n</g>\n<!-- 44&#45;&gt;45 -->\n<g id=\"edge45\" class=\"edge\">\n<title>44&#45;&gt;45</title>\n<path fill=\"none\" stroke=\"black\" d=\"M1299.61,-817.91C1280.04,-806.46 1258.75,-794 1239.13,-782.53\"/>\n<polygon fill=\"black\" stroke=\"black\" points=\"1240.65,-779.36 1230.26,-777.33 1237.12,-785.4 1240.65,-779.36\"/>\n</g>\n<!-- 52 -->\n<g id=\"node53\" class=\"node\">\n<title>52</title>\n<path fill=\"#e58139\" stroke=\"black\" d=\"M1449,-782C1449,-782 1299,-782 1299,-782 1293,-782 1287,-776 1287,-770 1287,-770 1287,-711 1287,-711 1287,-705 1293,-699 1299,-699 1299,-699 1449,-699 1449,-699 1455,-699 1461,-705 1461,-711 1461,-711 1461,-770 1461,-770 1461,-776 1455,-782 1449,-782\"/>\n<text text-anchor=\"middle\" x=\"1374\" y=\"-766.8\" font-family=\"Helvetica,sans-Serif\" font-size=\"14.00\">free sulfur dioxide &lt;= 6.5</text>\n<text text-anchor=\"middle\" x=\"1374\" y=\"-751.8\" font-family=\"Helvetica,sans-Serif\" font-size=\"14.00\">gini = 0.002</text>\n<text text-anchor=\"middle\" x=\"1374\" y=\"-736.8\" font-family=\"Helvetica,sans-Serif\" font-size=\"14.00\">samples = 3325</text>\n<text text-anchor=\"middle\" x=\"1374\" y=\"-721.8\" font-family=\"Helvetica,sans-Serif\" font-size=\"14.00\">value = [3322, 3]</text>\n<text text-anchor=\"middle\" x=\"1374\" y=\"-706.8\" font-family=\"Helvetica,sans-Serif\" font-size=\"14.00\">class = White</text>\n</g>\n<!-- 44&#45;&gt;52 -->\n<g id=\"edge52\" class=\"edge\">\n<title>44&#45;&gt;52</title>\n<path fill=\"none\" stroke=\"black\" d=\"M1370.73,-817.91C1371.09,-809.56 1371.47,-800.67 1371.84,-792.02\"/>\n<polygon fill=\"black\" stroke=\"black\" points=\"1375.34,-792.16 1372.27,-782.02 1368.34,-791.86 1375.34,-792.16\"/>\n</g>\n<!-- 46 -->\n<g id=\"node47\" class=\"node\">\n<title>46</title>\n<path fill=\"#e5823b\" stroke=\"black\" d=\"M1056,-663C1056,-663 898,-663 898,-663 892,-663 886,-657 886,-651 886,-651 886,-592 886,-592 886,-586 892,-580 898,-580 898,-580 1056,-580 1056,-580 1062,-580 1068,-586 1068,-592 1068,-592 1068,-651 1068,-651 1068,-657 1062,-663 1056,-663\"/>\n<text text-anchor=\"middle\" x=\"977\" y=\"-647.8\" font-family=\"Helvetica,sans-Serif\" font-size=\"14.00\">free sulfur dioxide &lt;= 37.5</text>\n<text text-anchor=\"middle\" x=\"977\" y=\"-632.8\" font-family=\"Helvetica,sans-Serif\" font-size=\"14.00\">gini = 0.018</text>\n<text text-anchor=\"middle\" x=\"977\" y=\"-617.8\" font-family=\"Helvetica,sans-Serif\" font-size=\"14.00\">samples = 108</text>\n<text text-anchor=\"middle\" x=\"977\" y=\"-602.8\" font-family=\"Helvetica,sans-Serif\" font-size=\"14.00\">value = [107, 1]</text>\n<text text-anchor=\"middle\" x=\"977\" y=\"-587.8\" font-family=\"Helvetica,sans-Serif\" font-size=\"14.00\">class = White</text>\n</g>\n<!-- 45&#45;&gt;46 -->\n<g id=\"edge46\" class=\"edge\">\n<title>45&#45;&gt;46</title>\n<path fill=\"none\" stroke=\"black\" d=\"M1107.99,-702.32C1090.26,-691.52 1070.69,-679.59 1052.2,-668.33\"/>\n<polygon fill=\"black\" stroke=\"black\" points=\"1053.87,-665.24 1043.51,-663.03 1050.23,-671.22 1053.87,-665.24\"/>\n</g>\n<!-- 49 -->\n<g id=\"node50\" class=\"node\">\n<title>49</title>\n<path fill=\"#7bbeee\" stroke=\"black\" d=\"M1231.5,-663C1231.5,-663 1106.5,-663 1106.5,-663 1100.5,-663 1094.5,-657 1094.5,-651 1094.5,-651 1094.5,-592 1094.5,-592 1094.5,-586 1100.5,-580 1106.5,-580 1106.5,-580 1231.5,-580 1231.5,-580 1237.5,-580 1243.5,-586 1243.5,-592 1243.5,-592 1243.5,-651 1243.5,-651 1243.5,-657 1237.5,-663 1231.5,-663\"/>\n<text text-anchor=\"middle\" x=\"1169\" y=\"-647.8\" font-family=\"Helvetica,sans-Serif\" font-size=\"14.00\">residual sugar &lt;= 4.9</text>\n<text text-anchor=\"middle\" x=\"1169\" y=\"-632.8\" font-family=\"Helvetica,sans-Serif\" font-size=\"14.00\">gini = 0.375</text>\n<text text-anchor=\"middle\" x=\"1169\" y=\"-617.8\" font-family=\"Helvetica,sans-Serif\" font-size=\"14.00\">samples = 4</text>\n<text text-anchor=\"middle\" x=\"1169\" y=\"-602.8\" font-family=\"Helvetica,sans-Serif\" font-size=\"14.00\">value = [1, 3]</text>\n<text text-anchor=\"middle\" x=\"1169\" y=\"-587.8\" font-family=\"Helvetica,sans-Serif\" font-size=\"14.00\">class = Red</text>\n</g>\n<!-- 45&#45;&gt;49 -->\n<g id=\"edge49\" class=\"edge\">\n<title>45&#45;&gt;49</title>\n<path fill=\"none\" stroke=\"black\" d=\"M1169,-698.91C1169,-690.65 1169,-681.86 1169,-673.3\"/>\n<polygon fill=\"black\" stroke=\"black\" points=\"1172.5,-673.02 1169,-663.02 1165.5,-673.02 1172.5,-673.02\"/>\n</g>\n<!-- 47 -->\n<g id=\"node48\" class=\"node\">\n<title>47</title>\n<path fill=\"#e58139\" stroke=\"black\" d=\"M898.5,-536.5C898.5,-536.5 809.5,-536.5 809.5,-536.5 803.5,-536.5 797.5,-530.5 797.5,-524.5 797.5,-524.5 797.5,-480.5 797.5,-480.5 797.5,-474.5 803.5,-468.5 809.5,-468.5 809.5,-468.5 898.5,-468.5 898.5,-468.5 904.5,-468.5 910.5,-474.5 910.5,-480.5 910.5,-480.5 910.5,-524.5 910.5,-524.5 910.5,-530.5 904.5,-536.5 898.5,-536.5\"/>\n<text text-anchor=\"middle\" x=\"854\" y=\"-521.3\" font-family=\"Helvetica,sans-Serif\" font-size=\"14.00\">gini = 0.0</text>\n<text text-anchor=\"middle\" x=\"854\" y=\"-506.3\" font-family=\"Helvetica,sans-Serif\" font-size=\"14.00\">samples = 107</text>\n<text text-anchor=\"middle\" x=\"854\" y=\"-491.3\" font-family=\"Helvetica,sans-Serif\" font-size=\"14.00\">value = [107, 0]</text>\n<text text-anchor=\"middle\" x=\"854\" y=\"-476.3\" font-family=\"Helvetica,sans-Serif\" font-size=\"14.00\">class = White</text>\n</g>\n<!-- 46&#45;&gt;47 -->\n<g id=\"edge47\" class=\"edge\">\n<title>46&#45;&gt;47</title>\n<path fill=\"none\" stroke=\"black\" d=\"M934.33,-579.91C922.03,-568.21 908.62,-555.46 896.35,-543.78\"/>\n<polygon fill=\"black\" stroke=\"black\" points=\"898.53,-541.02 888.87,-536.67 893.7,-546.1 898.53,-541.02\"/>\n</g>\n<!-- 48 -->\n<g id=\"node49\" class=\"node\">\n<title>48</title>\n<path fill=\"#399de5\" stroke=\"black\" d=\"M1013.5,-536.5C1013.5,-536.5 940.5,-536.5 940.5,-536.5 934.5,-536.5 928.5,-530.5 928.5,-524.5 928.5,-524.5 928.5,-480.5 928.5,-480.5 928.5,-474.5 934.5,-468.5 940.5,-468.5 940.5,-468.5 1013.5,-468.5 1013.5,-468.5 1019.5,-468.5 1025.5,-474.5 1025.5,-480.5 1025.5,-480.5 1025.5,-524.5 1025.5,-524.5 1025.5,-530.5 1019.5,-536.5 1013.5,-536.5\"/>\n<text text-anchor=\"middle\" x=\"977\" y=\"-521.3\" font-family=\"Helvetica,sans-Serif\" font-size=\"14.00\">gini = 0.0</text>\n<text text-anchor=\"middle\" x=\"977\" y=\"-506.3\" font-family=\"Helvetica,sans-Serif\" font-size=\"14.00\">samples = 1</text>\n<text text-anchor=\"middle\" x=\"977\" y=\"-491.3\" font-family=\"Helvetica,sans-Serif\" font-size=\"14.00\">value = [0, 1]</text>\n<text text-anchor=\"middle\" x=\"977\" y=\"-476.3\" font-family=\"Helvetica,sans-Serif\" font-size=\"14.00\">class = Red</text>\n</g>\n<!-- 46&#45;&gt;48 -->\n<g id=\"edge48\" class=\"edge\">\n<title>46&#45;&gt;48</title>\n<path fill=\"none\" stroke=\"black\" d=\"M977,-579.91C977,-569.2 977,-557.62 977,-546.78\"/>\n<polygon fill=\"black\" stroke=\"black\" points=\"980.5,-546.67 977,-536.67 973.5,-546.67 980.5,-546.67\"/>\n</g>\n<!-- 50 -->\n<g id=\"node51\" class=\"node\">\n<title>50</title>\n<path fill=\"#399de5\" stroke=\"black\" d=\"M1128.5,-536.5C1128.5,-536.5 1055.5,-536.5 1055.5,-536.5 1049.5,-536.5 1043.5,-530.5 1043.5,-524.5 1043.5,-524.5 1043.5,-480.5 1043.5,-480.5 1043.5,-474.5 1049.5,-468.5 1055.5,-468.5 1055.5,-468.5 1128.5,-468.5 1128.5,-468.5 1134.5,-468.5 1140.5,-474.5 1140.5,-480.5 1140.5,-480.5 1140.5,-524.5 1140.5,-524.5 1140.5,-530.5 1134.5,-536.5 1128.5,-536.5\"/>\n<text text-anchor=\"middle\" x=\"1092\" y=\"-521.3\" font-family=\"Helvetica,sans-Serif\" font-size=\"14.00\">gini = 0.0</text>\n<text text-anchor=\"middle\" x=\"1092\" y=\"-506.3\" font-family=\"Helvetica,sans-Serif\" font-size=\"14.00\">samples = 3</text>\n<text text-anchor=\"middle\" x=\"1092\" y=\"-491.3\" font-family=\"Helvetica,sans-Serif\" font-size=\"14.00\">value = [0, 3]</text>\n<text text-anchor=\"middle\" x=\"1092\" y=\"-476.3\" font-family=\"Helvetica,sans-Serif\" font-size=\"14.00\">class = Red</text>\n</g>\n<!-- 49&#45;&gt;50 -->\n<g id=\"edge50\" class=\"edge\">\n<title>49&#45;&gt;50</title>\n<path fill=\"none\" stroke=\"black\" d=\"M1142.29,-579.91C1134.88,-568.65 1126.83,-556.42 1119.38,-545.11\"/>\n<polygon fill=\"black\" stroke=\"black\" points=\"1122.25,-543.1 1113.83,-536.67 1116.4,-546.94 1122.25,-543.1\"/>\n</g>\n<!-- 51 -->\n<g id=\"node52\" class=\"node\">\n<title>51</title>\n<path fill=\"#e58139\" stroke=\"black\" d=\"M1249,-536.5C1249,-536.5 1171,-536.5 1171,-536.5 1165,-536.5 1159,-530.5 1159,-524.5 1159,-524.5 1159,-480.5 1159,-480.5 1159,-474.5 1165,-468.5 1171,-468.5 1171,-468.5 1249,-468.5 1249,-468.5 1255,-468.5 1261,-474.5 1261,-480.5 1261,-480.5 1261,-524.5 1261,-524.5 1261,-530.5 1255,-536.5 1249,-536.5\"/>\n<text text-anchor=\"middle\" x=\"1210\" y=\"-521.3\" font-family=\"Helvetica,sans-Serif\" font-size=\"14.00\">gini = 0.0</text>\n<text text-anchor=\"middle\" x=\"1210\" y=\"-506.3\" font-family=\"Helvetica,sans-Serif\" font-size=\"14.00\">samples = 1</text>\n<text text-anchor=\"middle\" x=\"1210\" y=\"-491.3\" font-family=\"Helvetica,sans-Serif\" font-size=\"14.00\">value = [1, 0]</text>\n<text text-anchor=\"middle\" x=\"1210\" y=\"-476.3\" font-family=\"Helvetica,sans-Serif\" font-size=\"14.00\">class = White</text>\n</g>\n<!-- 49&#45;&gt;51 -->\n<g id=\"edge51\" class=\"edge\">\n<title>49&#45;&gt;51</title>\n<path fill=\"none\" stroke=\"black\" d=\"M1183.22,-579.91C1187.05,-568.98 1191.2,-557.14 1195.07,-546.11\"/>\n<polygon fill=\"black\" stroke=\"black\" points=\"1198.37,-547.26 1198.38,-536.67 1191.77,-544.95 1198.37,-547.26\"/>\n</g>\n<!-- 53 -->\n<g id=\"node54\" class=\"node\">\n<title>53</title>\n<path fill=\"#e68640\" stroke=\"black\" d=\"M1429.5,-663C1429.5,-663 1318.5,-663 1318.5,-663 1312.5,-663 1306.5,-657 1306.5,-651 1306.5,-651 1306.5,-592 1306.5,-592 1306.5,-586 1312.5,-580 1318.5,-580 1318.5,-580 1429.5,-580 1429.5,-580 1435.5,-580 1441.5,-586 1441.5,-592 1441.5,-592 1441.5,-651 1441.5,-651 1441.5,-657 1435.5,-663 1429.5,-663\"/>\n<text text-anchor=\"middle\" x=\"1374\" y=\"-647.8\" font-family=\"Helvetica,sans-Serif\" font-size=\"14.00\">fixed acidity &lt;= 6.1</text>\n<text text-anchor=\"middle\" x=\"1374\" y=\"-632.8\" font-family=\"Helvetica,sans-Serif\" font-size=\"14.00\">gini = 0.067</text>\n<text text-anchor=\"middle\" x=\"1374\" y=\"-617.8\" font-family=\"Helvetica,sans-Serif\" font-size=\"14.00\">samples = 29</text>\n<text text-anchor=\"middle\" x=\"1374\" y=\"-602.8\" font-family=\"Helvetica,sans-Serif\" font-size=\"14.00\">value = [28, 1]</text>\n<text text-anchor=\"middle\" x=\"1374\" y=\"-587.8\" font-family=\"Helvetica,sans-Serif\" font-size=\"14.00\">class = White</text>\n</g>\n<!-- 52&#45;&gt;53 -->\n<g id=\"edge53\" class=\"edge\">\n<title>52&#45;&gt;53</title>\n<path fill=\"none\" stroke=\"black\" d=\"M1374,-698.91C1374,-690.65 1374,-681.86 1374,-673.3\"/>\n<polygon fill=\"black\" stroke=\"black\" points=\"1377.5,-673.02 1374,-663.02 1370.5,-673.02 1377.5,-673.02\"/>\n</g>\n<!-- 58 -->\n<g id=\"node59\" class=\"node\">\n<title>58</title>\n<path fill=\"#e58139\" stroke=\"black\" d=\"M1661.5,-663C1661.5,-663 1548.5,-663 1548.5,-663 1542.5,-663 1536.5,-657 1536.5,-651 1536.5,-651 1536.5,-592 1536.5,-592 1536.5,-586 1542.5,-580 1548.5,-580 1548.5,-580 1661.5,-580 1661.5,-580 1667.5,-580 1673.5,-586 1673.5,-592 1673.5,-592 1673.5,-651 1673.5,-651 1673.5,-657 1667.5,-663 1661.5,-663\"/>\n<text text-anchor=\"middle\" x=\"1605\" y=\"-647.8\" font-family=\"Helvetica,sans-Serif\" font-size=\"14.00\">citric acid &lt;= 0.235</text>\n<text text-anchor=\"middle\" x=\"1605\" y=\"-632.8\" font-family=\"Helvetica,sans-Serif\" font-size=\"14.00\">gini = 0.001</text>\n<text text-anchor=\"middle\" x=\"1605\" y=\"-617.8\" font-family=\"Helvetica,sans-Serif\" font-size=\"14.00\">samples = 3296</text>\n<text text-anchor=\"middle\" x=\"1605\" y=\"-602.8\" font-family=\"Helvetica,sans-Serif\" font-size=\"14.00\">value = [3294, 2]</text>\n<text text-anchor=\"middle\" x=\"1605\" y=\"-587.8\" font-family=\"Helvetica,sans-Serif\" font-size=\"14.00\">class = White</text>\n</g>\n<!-- 52&#45;&gt;58 -->\n<g id=\"edge58\" class=\"edge\">\n<title>52&#45;&gt;58</title>\n<path fill=\"none\" stroke=\"black\" d=\"M1454.14,-698.91C1477.73,-686.96 1503.49,-673.92 1526.94,-662.04\"/>\n<polygon fill=\"black\" stroke=\"black\" points=\"1528.8,-665.02 1536.14,-657.38 1525.64,-658.77 1528.8,-665.02\"/>\n</g>\n<!-- 54 -->\n<g id=\"node55\" class=\"node\">\n<title>54</title>\n<path fill=\"#ffffff\" stroke=\"black\" d=\"M1395,-544C1395,-544 1291,-544 1291,-544 1285,-544 1279,-538 1279,-532 1279,-532 1279,-473 1279,-473 1279,-467 1285,-461 1291,-461 1291,-461 1395,-461 1395,-461 1401,-461 1407,-467 1407,-473 1407,-473 1407,-532 1407,-532 1407,-538 1401,-544 1395,-544\"/>\n<text text-anchor=\"middle\" x=\"1343\" y=\"-528.8\" font-family=\"Helvetica,sans-Serif\" font-size=\"14.00\">citric acid &lt;= 0.25</text>\n<text text-anchor=\"middle\" x=\"1343\" y=\"-513.8\" font-family=\"Helvetica,sans-Serif\" font-size=\"14.00\">gini = 0.5</text>\n<text text-anchor=\"middle\" x=\"1343\" y=\"-498.8\" font-family=\"Helvetica,sans-Serif\" font-size=\"14.00\">samples = 2</text>\n<text text-anchor=\"middle\" x=\"1343\" y=\"-483.8\" font-family=\"Helvetica,sans-Serif\" font-size=\"14.00\">value = [1, 1]</text>\n<text text-anchor=\"middle\" x=\"1343\" y=\"-468.8\" font-family=\"Helvetica,sans-Serif\" font-size=\"14.00\">class = White</text>\n</g>\n<!-- 53&#45;&gt;54 -->\n<g id=\"edge54\" class=\"edge\">\n<title>53&#45;&gt;54</title>\n<path fill=\"none\" stroke=\"black\" d=\"M1363.24,-579.91C1361.01,-571.47 1358.63,-562.48 1356.31,-553.74\"/>\n<polygon fill=\"black\" stroke=\"black\" points=\"1359.68,-552.79 1353.74,-544.02 1352.91,-554.58 1359.68,-552.79\"/>\n</g>\n<!-- 57 -->\n<g id=\"node58\" class=\"node\">\n<title>57</title>\n<path fill=\"#e58139\" stroke=\"black\" d=\"M1518.5,-536.5C1518.5,-536.5 1437.5,-536.5 1437.5,-536.5 1431.5,-536.5 1425.5,-530.5 1425.5,-524.5 1425.5,-524.5 1425.5,-480.5 1425.5,-480.5 1425.5,-474.5 1431.5,-468.5 1437.5,-468.5 1437.5,-468.5 1518.5,-468.5 1518.5,-468.5 1524.5,-468.5 1530.5,-474.5 1530.5,-480.5 1530.5,-480.5 1530.5,-524.5 1530.5,-524.5 1530.5,-530.5 1524.5,-536.5 1518.5,-536.5\"/>\n<text text-anchor=\"middle\" x=\"1478\" y=\"-521.3\" font-family=\"Helvetica,sans-Serif\" font-size=\"14.00\">gini = 0.0</text>\n<text text-anchor=\"middle\" x=\"1478\" y=\"-506.3\" font-family=\"Helvetica,sans-Serif\" font-size=\"14.00\">samples = 27</text>\n<text text-anchor=\"middle\" x=\"1478\" y=\"-491.3\" font-family=\"Helvetica,sans-Serif\" font-size=\"14.00\">value = [27, 0]</text>\n<text text-anchor=\"middle\" x=\"1478\" y=\"-476.3\" font-family=\"Helvetica,sans-Serif\" font-size=\"14.00\">class = White</text>\n</g>\n<!-- 53&#45;&gt;57 -->\n<g id=\"edge57\" class=\"edge\">\n<title>53&#45;&gt;57</title>\n<path fill=\"none\" stroke=\"black\" d=\"M1410.08,-579.91C1420.28,-568.43 1431.39,-555.94 1441.61,-544.44\"/>\n<polygon fill=\"black\" stroke=\"black\" points=\"1444.49,-546.47 1448.52,-536.67 1439.26,-541.82 1444.49,-546.47\"/>\n</g>\n<!-- 55 -->\n<g id=\"node56\" class=\"node\">\n<title>55</title>\n<path fill=\"#e58139\" stroke=\"black\" d=\"M1299,-417.5C1299,-417.5 1221,-417.5 1221,-417.5 1215,-417.5 1209,-411.5 1209,-405.5 1209,-405.5 1209,-361.5 1209,-361.5 1209,-355.5 1215,-349.5 1221,-349.5 1221,-349.5 1299,-349.5 1299,-349.5 1305,-349.5 1311,-355.5 1311,-361.5 1311,-361.5 1311,-405.5 1311,-405.5 1311,-411.5 1305,-417.5 1299,-417.5\"/>\n<text text-anchor=\"middle\" x=\"1260\" y=\"-402.3\" font-family=\"Helvetica,sans-Serif\" font-size=\"14.00\">gini = 0.0</text>\n<text text-anchor=\"middle\" x=\"1260\" y=\"-387.3\" font-family=\"Helvetica,sans-Serif\" font-size=\"14.00\">samples = 1</text>\n<text text-anchor=\"middle\" x=\"1260\" y=\"-372.3\" font-family=\"Helvetica,sans-Serif\" font-size=\"14.00\">value = [1, 0]</text>\n<text text-anchor=\"middle\" x=\"1260\" y=\"-357.3\" font-family=\"Helvetica,sans-Serif\" font-size=\"14.00\">class = White</text>\n</g>\n<!-- 54&#45;&gt;55 -->\n<g id=\"edge55\" class=\"edge\">\n<title>54&#45;&gt;55</title>\n<path fill=\"none\" stroke=\"black\" d=\"M1314.2,-460.91C1306.22,-449.65 1297.54,-437.42 1289.52,-426.11\"/>\n<polygon fill=\"black\" stroke=\"black\" points=\"1292.17,-423.8 1283.53,-417.67 1286.46,-427.85 1292.17,-423.8\"/>\n</g>\n<!-- 56 -->\n<g id=\"node57\" class=\"node\">\n<title>56</title>\n<path fill=\"#399de5\" stroke=\"black\" d=\"M1414.5,-417.5C1414.5,-417.5 1341.5,-417.5 1341.5,-417.5 1335.5,-417.5 1329.5,-411.5 1329.5,-405.5 1329.5,-405.5 1329.5,-361.5 1329.5,-361.5 1329.5,-355.5 1335.5,-349.5 1341.5,-349.5 1341.5,-349.5 1414.5,-349.5 1414.5,-349.5 1420.5,-349.5 1426.5,-355.5 1426.5,-361.5 1426.5,-361.5 1426.5,-405.5 1426.5,-405.5 1426.5,-411.5 1420.5,-417.5 1414.5,-417.5\"/>\n<text text-anchor=\"middle\" x=\"1378\" y=\"-402.3\" font-family=\"Helvetica,sans-Serif\" font-size=\"14.00\">gini = 0.0</text>\n<text text-anchor=\"middle\" x=\"1378\" y=\"-387.3\" font-family=\"Helvetica,sans-Serif\" font-size=\"14.00\">samples = 1</text>\n<text text-anchor=\"middle\" x=\"1378\" y=\"-372.3\" font-family=\"Helvetica,sans-Serif\" font-size=\"14.00\">value = [0, 1]</text>\n<text text-anchor=\"middle\" x=\"1378\" y=\"-357.3\" font-family=\"Helvetica,sans-Serif\" font-size=\"14.00\">class = Red</text>\n</g>\n<!-- 54&#45;&gt;56 -->\n<g id=\"edge56\" class=\"edge\">\n<title>54&#45;&gt;56</title>\n<path fill=\"none\" stroke=\"black\" d=\"M1355.14,-460.91C1358.38,-450.09 1361.88,-438.38 1365.15,-427.44\"/>\n<polygon fill=\"black\" stroke=\"black\" points=\"1368.57,-428.25 1368.08,-417.67 1361.86,-426.24 1368.57,-428.25\"/>\n</g>\n<!-- 59 -->\n<g id=\"node60\" class=\"node\">\n<title>59</title>\n<path fill=\"#e5823a\" stroke=\"black\" d=\"M1649.5,-544C1649.5,-544 1560.5,-544 1560.5,-544 1554.5,-544 1548.5,-538 1548.5,-532 1548.5,-532 1548.5,-473 1548.5,-473 1548.5,-467 1554.5,-461 1560.5,-461 1560.5,-461 1649.5,-461 1649.5,-461 1655.5,-461 1661.5,-467 1661.5,-473 1661.5,-473 1661.5,-532 1661.5,-532 1661.5,-538 1655.5,-544 1649.5,-544\"/>\n<text text-anchor=\"middle\" x=\"1605\" y=\"-528.8\" font-family=\"Helvetica,sans-Serif\" font-size=\"14.00\">pH &lt;= 3.315</text>\n<text text-anchor=\"middle\" x=\"1605\" y=\"-513.8\" font-family=\"Helvetica,sans-Serif\" font-size=\"14.00\">gini = 0.01</text>\n<text text-anchor=\"middle\" x=\"1605\" y=\"-498.8\" font-family=\"Helvetica,sans-Serif\" font-size=\"14.00\">samples = 388</text>\n<text text-anchor=\"middle\" x=\"1605\" y=\"-483.8\" font-family=\"Helvetica,sans-Serif\" font-size=\"14.00\">value = [386, 2]</text>\n<text text-anchor=\"middle\" x=\"1605\" y=\"-468.8\" font-family=\"Helvetica,sans-Serif\" font-size=\"14.00\">class = White</text>\n</g>\n<!-- 58&#45;&gt;59 -->\n<g id=\"edge59\" class=\"edge\">\n<title>58&#45;&gt;59</title>\n<path fill=\"none\" stroke=\"black\" d=\"M1605,-579.91C1605,-571.65 1605,-562.86 1605,-554.3\"/>\n<polygon fill=\"black\" stroke=\"black\" points=\"1608.5,-554.02 1605,-544.02 1601.5,-554.02 1608.5,-554.02\"/>\n</g>\n<!-- 70 -->\n<g id=\"node71\" class=\"node\">\n<title>70</title>\n<path fill=\"#e58139\" stroke=\"black\" d=\"M1790,-536.5C1790,-536.5 1692,-536.5 1692,-536.5 1686,-536.5 1680,-530.5 1680,-524.5 1680,-524.5 1680,-480.5 1680,-480.5 1680,-474.5 1686,-468.5 1692,-468.5 1692,-468.5 1790,-468.5 1790,-468.5 1796,-468.5 1802,-474.5 1802,-480.5 1802,-480.5 1802,-524.5 1802,-524.5 1802,-530.5 1796,-536.5 1790,-536.5\"/>\n<text text-anchor=\"middle\" x=\"1741\" y=\"-521.3\" font-family=\"Helvetica,sans-Serif\" font-size=\"14.00\">gini = 0.0</text>\n<text text-anchor=\"middle\" x=\"1741\" y=\"-506.3\" font-family=\"Helvetica,sans-Serif\" font-size=\"14.00\">samples = 2908</text>\n<text text-anchor=\"middle\" x=\"1741\" y=\"-491.3\" font-family=\"Helvetica,sans-Serif\" font-size=\"14.00\">value = [2908, 0]</text>\n<text text-anchor=\"middle\" x=\"1741\" y=\"-476.3\" font-family=\"Helvetica,sans-Serif\" font-size=\"14.00\">class = White</text>\n</g>\n<!-- 58&#45;&gt;70 -->\n<g id=\"edge70\" class=\"edge\">\n<title>58&#45;&gt;70</title>\n<path fill=\"none\" stroke=\"black\" d=\"M1652.18,-579.91C1665.91,-568.1 1680.89,-555.22 1694.56,-543.45\"/>\n<polygon fill=\"black\" stroke=\"black\" points=\"1697.15,-545.84 1702.45,-536.67 1692.58,-540.54 1697.15,-545.84\"/>\n</g>\n<!-- 60 -->\n<g id=\"node61\" class=\"node\">\n<title>60</title>\n<path fill=\"#e58139\" stroke=\"black\" d=\"M1614.5,-417.5C1614.5,-417.5 1525.5,-417.5 1525.5,-417.5 1519.5,-417.5 1513.5,-411.5 1513.5,-405.5 1513.5,-405.5 1513.5,-361.5 1513.5,-361.5 1513.5,-355.5 1519.5,-349.5 1525.5,-349.5 1525.5,-349.5 1614.5,-349.5 1614.5,-349.5 1620.5,-349.5 1626.5,-355.5 1626.5,-361.5 1626.5,-361.5 1626.5,-405.5 1626.5,-405.5 1626.5,-411.5 1620.5,-417.5 1614.5,-417.5\"/>\n<text text-anchor=\"middle\" x=\"1570\" y=\"-402.3\" font-family=\"Helvetica,sans-Serif\" font-size=\"14.00\">gini = 0.0</text>\n<text text-anchor=\"middle\" x=\"1570\" y=\"-387.3\" font-family=\"Helvetica,sans-Serif\" font-size=\"14.00\">samples = 309</text>\n<text text-anchor=\"middle\" x=\"1570\" y=\"-372.3\" font-family=\"Helvetica,sans-Serif\" font-size=\"14.00\">value = [309, 0]</text>\n<text text-anchor=\"middle\" x=\"1570\" y=\"-357.3\" font-family=\"Helvetica,sans-Serif\" font-size=\"14.00\">class = White</text>\n</g>\n<!-- 59&#45;&gt;60 -->\n<g id=\"edge60\" class=\"edge\">\n<title>59&#45;&gt;60</title>\n<path fill=\"none\" stroke=\"black\" d=\"M1592.86,-460.91C1589.62,-450.09 1586.12,-438.38 1582.85,-427.44\"/>\n<polygon fill=\"black\" stroke=\"black\" points=\"1586.14,-426.24 1579.92,-417.67 1579.43,-428.25 1586.14,-426.24\"/>\n</g>\n<!-- 61 -->\n<g id=\"node62\" class=\"node\">\n<title>61</title>\n<path fill=\"#e6843e\" stroke=\"black\" d=\"M1815.5,-425C1815.5,-425 1656.5,-425 1656.5,-425 1650.5,-425 1644.5,-419 1644.5,-413 1644.5,-413 1644.5,-354 1644.5,-354 1644.5,-348 1650.5,-342 1656.5,-342 1656.5,-342 1815.5,-342 1815.5,-342 1821.5,-342 1827.5,-348 1827.5,-354 1827.5,-354 1827.5,-413 1827.5,-413 1827.5,-419 1821.5,-425 1815.5,-425\"/>\n<text text-anchor=\"middle\" x=\"1736\" y=\"-409.8\" font-family=\"Helvetica,sans-Serif\" font-size=\"14.00\">total sulfur dioxide &lt;= 92.0</text>\n<text text-anchor=\"middle\" x=\"1736\" y=\"-394.8\" font-family=\"Helvetica,sans-Serif\" font-size=\"14.00\">gini = 0.049</text>\n<text text-anchor=\"middle\" x=\"1736\" y=\"-379.8\" font-family=\"Helvetica,sans-Serif\" font-size=\"14.00\">samples = 79</text>\n<text text-anchor=\"middle\" x=\"1736\" y=\"-364.8\" font-family=\"Helvetica,sans-Serif\" font-size=\"14.00\">value = [77, 2]</text>\n<text text-anchor=\"middle\" x=\"1736\" y=\"-349.8\" font-family=\"Helvetica,sans-Serif\" font-size=\"14.00\">class = White</text>\n</g>\n<!-- 59&#45;&gt;61 -->\n<g id=\"edge61\" class=\"edge\">\n<title>59&#45;&gt;61</title>\n<path fill=\"none\" stroke=\"black\" d=\"M1650.45,-460.91C1660.92,-451.56 1672.14,-441.54 1682.9,-431.93\"/>\n<polygon fill=\"black\" stroke=\"black\" points=\"1685.5,-434.29 1690.63,-425.02 1680.84,-429.07 1685.5,-434.29\"/>\n</g>\n<!-- 62 -->\n<g id=\"node63\" class=\"node\">\n<title>62</title>\n<path fill=\"#eca06a\" stroke=\"black\" d=\"M1715,-306C1715,-306 1557,-306 1557,-306 1551,-306 1545,-300 1545,-294 1545,-294 1545,-235 1545,-235 1545,-229 1551,-223 1557,-223 1557,-223 1715,-223 1715,-223 1721,-223 1727,-229 1727,-235 1727,-235 1727,-294 1727,-294 1727,-300 1721,-306 1715,-306\"/>\n<text text-anchor=\"middle\" x=\"1636\" y=\"-290.8\" font-family=\"Helvetica,sans-Serif\" font-size=\"14.00\">free sulfur dioxide &lt;= 27.5</text>\n<text text-anchor=\"middle\" x=\"1636\" y=\"-275.8\" font-family=\"Helvetica,sans-Serif\" font-size=\"14.00\">gini = 0.32</text>\n<text text-anchor=\"middle\" x=\"1636\" y=\"-260.8\" font-family=\"Helvetica,sans-Serif\" font-size=\"14.00\">samples = 5</text>\n<text text-anchor=\"middle\" x=\"1636\" y=\"-245.8\" font-family=\"Helvetica,sans-Serif\" font-size=\"14.00\">value = [4, 1]</text>\n<text text-anchor=\"middle\" x=\"1636\" y=\"-230.8\" font-family=\"Helvetica,sans-Serif\" font-size=\"14.00\">class = White</text>\n</g>\n<!-- 61&#45;&gt;62 -->\n<g id=\"edge62\" class=\"edge\">\n<title>61&#45;&gt;62</title>\n<path fill=\"none\" stroke=\"black\" d=\"M1701.31,-341.91C1693.55,-332.83 1685.25,-323.12 1677.26,-313.77\"/>\n<polygon fill=\"black\" stroke=\"black\" points=\"1679.79,-311.35 1670.63,-306.02 1674.47,-315.9 1679.79,-311.35\"/>\n</g>\n<!-- 65 -->\n<g id=\"node66\" class=\"node\">\n<title>65</title>\n<path fill=\"#e5833c\" stroke=\"black\" d=\"M1915,-306C1915,-306 1757,-306 1757,-306 1751,-306 1745,-300 1745,-294 1745,-294 1745,-235 1745,-235 1745,-229 1751,-223 1757,-223 1757,-223 1915,-223 1915,-223 1921,-223 1927,-229 1927,-235 1927,-235 1927,-294 1927,-294 1927,-300 1921,-306 1915,-306\"/>\n<text text-anchor=\"middle\" x=\"1836\" y=\"-290.8\" font-family=\"Helvetica,sans-Serif\" font-size=\"14.00\">free sulfur dioxide &lt;= 54.0</text>\n<text text-anchor=\"middle\" x=\"1836\" y=\"-275.8\" font-family=\"Helvetica,sans-Serif\" font-size=\"14.00\">gini = 0.027</text>\n<text text-anchor=\"middle\" x=\"1836\" y=\"-260.8\" font-family=\"Helvetica,sans-Serif\" font-size=\"14.00\">samples = 74</text>\n<text text-anchor=\"middle\" x=\"1836\" y=\"-245.8\" font-family=\"Helvetica,sans-Serif\" font-size=\"14.00\">value = [73, 1]</text>\n<text text-anchor=\"middle\" x=\"1836\" y=\"-230.8\" font-family=\"Helvetica,sans-Serif\" font-size=\"14.00\">class = White</text>\n</g>\n<!-- 61&#45;&gt;65 -->\n<g id=\"edge65\" class=\"edge\">\n<title>61&#45;&gt;65</title>\n<path fill=\"none\" stroke=\"black\" d=\"M1770.69,-341.91C1778.45,-332.83 1786.75,-323.12 1794.74,-313.77\"/>\n<polygon fill=\"black\" stroke=\"black\" points=\"1797.53,-315.9 1801.37,-306.02 1792.21,-311.35 1797.53,-315.9\"/>\n</g>\n<!-- 63 -->\n<g id=\"node64\" class=\"node\">\n<title>63</title>\n<path fill=\"#e58139\" stroke=\"black\" d=\"M1578,-179.5C1578,-179.5 1500,-179.5 1500,-179.5 1494,-179.5 1488,-173.5 1488,-167.5 1488,-167.5 1488,-123.5 1488,-123.5 1488,-117.5 1494,-111.5 1500,-111.5 1500,-111.5 1578,-111.5 1578,-111.5 1584,-111.5 1590,-117.5 1590,-123.5 1590,-123.5 1590,-167.5 1590,-167.5 1590,-173.5 1584,-179.5 1578,-179.5\"/>\n<text text-anchor=\"middle\" x=\"1539\" y=\"-164.3\" font-family=\"Helvetica,sans-Serif\" font-size=\"14.00\">gini = 0.0</text>\n<text text-anchor=\"middle\" x=\"1539\" y=\"-149.3\" font-family=\"Helvetica,sans-Serif\" font-size=\"14.00\">samples = 4</text>\n<text text-anchor=\"middle\" x=\"1539\" y=\"-134.3\" font-family=\"Helvetica,sans-Serif\" font-size=\"14.00\">value = [4, 0]</text>\n<text text-anchor=\"middle\" x=\"1539\" y=\"-119.3\" font-family=\"Helvetica,sans-Serif\" font-size=\"14.00\">class = White</text>\n</g>\n<!-- 62&#45;&gt;63 -->\n<g id=\"edge63\" class=\"edge\">\n<title>62&#45;&gt;63</title>\n<path fill=\"none\" stroke=\"black\" d=\"M1602.35,-222.91C1592.83,-211.43 1582.47,-198.94 1572.94,-187.44\"/>\n<polygon fill=\"black\" stroke=\"black\" points=\"1575.57,-185.13 1566.5,-179.67 1570.19,-189.6 1575.57,-185.13\"/>\n</g>\n<!-- 64 -->\n<g id=\"node65\" class=\"node\">\n<title>64</title>\n<path fill=\"#399de5\" stroke=\"black\" d=\"M1693.5,-179.5C1693.5,-179.5 1620.5,-179.5 1620.5,-179.5 1614.5,-179.5 1608.5,-173.5 1608.5,-167.5 1608.5,-167.5 1608.5,-123.5 1608.5,-123.5 1608.5,-117.5 1614.5,-111.5 1620.5,-111.5 1620.5,-111.5 1693.5,-111.5 1693.5,-111.5 1699.5,-111.5 1705.5,-117.5 1705.5,-123.5 1705.5,-123.5 1705.5,-167.5 1705.5,-167.5 1705.5,-173.5 1699.5,-179.5 1693.5,-179.5\"/>\n<text text-anchor=\"middle\" x=\"1657\" y=\"-164.3\" font-family=\"Helvetica,sans-Serif\" font-size=\"14.00\">gini = 0.0</text>\n<text text-anchor=\"middle\" x=\"1657\" y=\"-149.3\" font-family=\"Helvetica,sans-Serif\" font-size=\"14.00\">samples = 1</text>\n<text text-anchor=\"middle\" x=\"1657\" y=\"-134.3\" font-family=\"Helvetica,sans-Serif\" font-size=\"14.00\">value = [0, 1]</text>\n<text text-anchor=\"middle\" x=\"1657\" y=\"-119.3\" font-family=\"Helvetica,sans-Serif\" font-size=\"14.00\">class = Red</text>\n</g>\n<!-- 62&#45;&gt;64 -->\n<g id=\"edge64\" class=\"edge\">\n<title>62&#45;&gt;64</title>\n<path fill=\"none\" stroke=\"black\" d=\"M1643.29,-222.91C1645.21,-212.2 1647.29,-200.62 1649.23,-189.78\"/>\n<polygon fill=\"black\" stroke=\"black\" points=\"1652.73,-190.13 1651.05,-179.67 1645.84,-188.89 1652.73,-190.13\"/>\n</g>\n<!-- 66 -->\n<g id=\"node67\" class=\"node\">\n<title>66</title>\n<path fill=\"#e58139\" stroke=\"black\" d=\"M1856.5,-179.5C1856.5,-179.5 1775.5,-179.5 1775.5,-179.5 1769.5,-179.5 1763.5,-173.5 1763.5,-167.5 1763.5,-167.5 1763.5,-123.5 1763.5,-123.5 1763.5,-117.5 1769.5,-111.5 1775.5,-111.5 1775.5,-111.5 1856.5,-111.5 1856.5,-111.5 1862.5,-111.5 1868.5,-117.5 1868.5,-123.5 1868.5,-123.5 1868.5,-167.5 1868.5,-167.5 1868.5,-173.5 1862.5,-179.5 1856.5,-179.5\"/>\n<text text-anchor=\"middle\" x=\"1816\" y=\"-164.3\" font-family=\"Helvetica,sans-Serif\" font-size=\"14.00\">gini = 0.0</text>\n<text text-anchor=\"middle\" x=\"1816\" y=\"-149.3\" font-family=\"Helvetica,sans-Serif\" font-size=\"14.00\">samples = 67</text>\n<text text-anchor=\"middle\" x=\"1816\" y=\"-134.3\" font-family=\"Helvetica,sans-Serif\" font-size=\"14.00\">value = [67, 0]</text>\n<text text-anchor=\"middle\" x=\"1816\" y=\"-119.3\" font-family=\"Helvetica,sans-Serif\" font-size=\"14.00\">class = White</text>\n</g>\n<!-- 65&#45;&gt;66 -->\n<g id=\"edge66\" class=\"edge\">\n<title>65&#45;&gt;66</title>\n<path fill=\"none\" stroke=\"black\" d=\"M1829.06,-222.91C1827.23,-212.2 1825.25,-200.62 1823.4,-189.78\"/>\n<polygon fill=\"black\" stroke=\"black\" points=\"1826.8,-188.93 1821.67,-179.67 1819.9,-190.11 1826.8,-188.93\"/>\n</g>\n<!-- 67 -->\n<g id=\"node68\" class=\"node\">\n<title>67</title>\n<path fill=\"#e9965a\" stroke=\"black\" d=\"M2065.5,-187C2065.5,-187 1898.5,-187 1898.5,-187 1892.5,-187 1886.5,-181 1886.5,-175 1886.5,-175 1886.5,-116 1886.5,-116 1886.5,-110 1892.5,-104 1898.5,-104 1898.5,-104 2065.5,-104 2065.5,-104 2071.5,-104 2077.5,-110 2077.5,-116 2077.5,-116 2077.5,-175 2077.5,-175 2077.5,-181 2071.5,-187 2065.5,-187\"/>\n<text text-anchor=\"middle\" x=\"1982\" y=\"-171.8\" font-family=\"Helvetica,sans-Serif\" font-size=\"14.00\">total sulfur dioxide &lt;= 146.0</text>\n<text text-anchor=\"middle\" x=\"1982\" y=\"-156.8\" font-family=\"Helvetica,sans-Serif\" font-size=\"14.00\">gini = 0.245</text>\n<text text-anchor=\"middle\" x=\"1982\" y=\"-141.8\" font-family=\"Helvetica,sans-Serif\" font-size=\"14.00\">samples = 7</text>\n<text text-anchor=\"middle\" x=\"1982\" y=\"-126.8\" font-family=\"Helvetica,sans-Serif\" font-size=\"14.00\">value = [6, 1]</text>\n<text text-anchor=\"middle\" x=\"1982\" y=\"-111.8\" font-family=\"Helvetica,sans-Serif\" font-size=\"14.00\">class = White</text>\n</g>\n<!-- 65&#45;&gt;67 -->\n<g id=\"edge67\" class=\"edge\">\n<title>65&#45;&gt;67</title>\n<path fill=\"none\" stroke=\"black\" d=\"M1886.65,-222.91C1898.54,-213.38 1911.31,-203.15 1923.51,-193.37\"/>\n<polygon fill=\"black\" stroke=\"black\" points=\"1925.82,-196.01 1931.44,-187.02 1921.44,-190.54 1925.82,-196.01\"/>\n</g>\n<!-- 68 -->\n<g id=\"node69\" class=\"node\">\n<title>68</title>\n<path fill=\"#ffffff\" stroke=\"black\" d=\"M1961,-68C1961,-68 1883,-68 1883,-68 1877,-68 1871,-62 1871,-56 1871,-56 1871,-12 1871,-12 1871,-6 1877,0 1883,0 1883,0 1961,0 1961,0 1967,0 1973,-6 1973,-12 1973,-12 1973,-56 1973,-56 1973,-62 1967,-68 1961,-68\"/>\n<text text-anchor=\"middle\" x=\"1922\" y=\"-52.8\" font-family=\"Helvetica,sans-Serif\" font-size=\"14.00\">gini = 0.5</text>\n<text text-anchor=\"middle\" x=\"1922\" y=\"-37.8\" font-family=\"Helvetica,sans-Serif\" font-size=\"14.00\">samples = 2</text>\n<text text-anchor=\"middle\" x=\"1922\" y=\"-22.8\" font-family=\"Helvetica,sans-Serif\" font-size=\"14.00\">value = [1, 1]</text>\n<text text-anchor=\"middle\" x=\"1922\" y=\"-7.8\" font-family=\"Helvetica,sans-Serif\" font-size=\"14.00\">class = White</text>\n</g>\n<!-- 67&#45;&gt;68 -->\n<g id=\"edge68\" class=\"edge\">\n<title>67&#45;&gt;68</title>\n<path fill=\"none\" stroke=\"black\" d=\"M1959.66,-103.73C1954.91,-95.06 1949.89,-85.9 1945.11,-77.18\"/>\n<polygon fill=\"black\" stroke=\"black\" points=\"1948.12,-75.39 1940.25,-68.3 1941.98,-78.75 1948.12,-75.39\"/>\n</g>\n<!-- 69 -->\n<g id=\"node70\" class=\"node\">\n<title>69</title>\n<path fill=\"#e58139\" stroke=\"black\" d=\"M2081,-68C2081,-68 2003,-68 2003,-68 1997,-68 1991,-62 1991,-56 1991,-56 1991,-12 1991,-12 1991,-6 1997,0 2003,0 2003,0 2081,0 2081,0 2087,0 2093,-6 2093,-12 2093,-12 2093,-56 2093,-56 2093,-62 2087,-68 2081,-68\"/>\n<text text-anchor=\"middle\" x=\"2042\" y=\"-52.8\" font-family=\"Helvetica,sans-Serif\" font-size=\"14.00\">gini = 0.0</text>\n<text text-anchor=\"middle\" x=\"2042\" y=\"-37.8\" font-family=\"Helvetica,sans-Serif\" font-size=\"14.00\">samples = 5</text>\n<text text-anchor=\"middle\" x=\"2042\" y=\"-22.8\" font-family=\"Helvetica,sans-Serif\" font-size=\"14.00\">value = [5, 0]</text>\n<text text-anchor=\"middle\" x=\"2042\" y=\"-7.8\" font-family=\"Helvetica,sans-Serif\" font-size=\"14.00\">class = White</text>\n</g>\n<!-- 67&#45;&gt;69 -->\n<g id=\"edge69\" class=\"edge\">\n<title>67&#45;&gt;69</title>\n<path fill=\"none\" stroke=\"black\" d=\"M2004.34,-103.73C2009.09,-95.06 2014.11,-85.9 2018.89,-77.18\"/>\n<polygon fill=\"black\" stroke=\"black\" points=\"2022.02,-78.75 2023.75,-68.3 2015.88,-75.39 2022.02,-78.75\"/>\n</g>\n<!-- 72 -->\n<g id=\"node73\" class=\"node\">\n<title>72</title>\n<path fill=\"#e58139\" stroke=\"black\" d=\"M1575.5,-774.5C1575.5,-774.5 1494.5,-774.5 1494.5,-774.5 1488.5,-774.5 1482.5,-768.5 1482.5,-762.5 1482.5,-762.5 1482.5,-718.5 1482.5,-718.5 1482.5,-712.5 1488.5,-706.5 1494.5,-706.5 1494.5,-706.5 1575.5,-706.5 1575.5,-706.5 1581.5,-706.5 1587.5,-712.5 1587.5,-718.5 1587.5,-718.5 1587.5,-762.5 1587.5,-762.5 1587.5,-768.5 1581.5,-774.5 1575.5,-774.5\"/>\n<text text-anchor=\"middle\" x=\"1535\" y=\"-759.3\" font-family=\"Helvetica,sans-Serif\" font-size=\"14.00\">gini = 0.0</text>\n<text text-anchor=\"middle\" x=\"1535\" y=\"-744.3\" font-family=\"Helvetica,sans-Serif\" font-size=\"14.00\">samples = 15</text>\n<text text-anchor=\"middle\" x=\"1535\" y=\"-729.3\" font-family=\"Helvetica,sans-Serif\" font-size=\"14.00\">value = [15, 0]</text>\n<text text-anchor=\"middle\" x=\"1535\" y=\"-714.3\" font-family=\"Helvetica,sans-Serif\" font-size=\"14.00\">class = White</text>\n</g>\n<!-- 71&#45;&gt;72 -->\n<g id=\"edge72\" class=\"edge\">\n<title>71&#45;&gt;72</title>\n<path fill=\"none\" stroke=\"black\" d=\"M1542.18,-817.91C1541.18,-807.2 1540.09,-795.62 1539.07,-784.78\"/>\n<polygon fill=\"black\" stroke=\"black\" points=\"1542.54,-784.3 1538.12,-774.67 1535.57,-784.95 1542.54,-784.3\"/>\n</g>\n<!-- 73 -->\n<g id=\"node74\" class=\"node\">\n<title>73</title>\n<path fill=\"#399de5\" stroke=\"black\" d=\"M1690.5,-774.5C1690.5,-774.5 1617.5,-774.5 1617.5,-774.5 1611.5,-774.5 1605.5,-768.5 1605.5,-762.5 1605.5,-762.5 1605.5,-718.5 1605.5,-718.5 1605.5,-712.5 1611.5,-706.5 1617.5,-706.5 1617.5,-706.5 1690.5,-706.5 1690.5,-706.5 1696.5,-706.5 1702.5,-712.5 1702.5,-718.5 1702.5,-718.5 1702.5,-762.5 1702.5,-762.5 1702.5,-768.5 1696.5,-774.5 1690.5,-774.5\"/>\n<text text-anchor=\"middle\" x=\"1654\" y=\"-759.3\" font-family=\"Helvetica,sans-Serif\" font-size=\"14.00\">gini = 0.0</text>\n<text text-anchor=\"middle\" x=\"1654\" y=\"-744.3\" font-family=\"Helvetica,sans-Serif\" font-size=\"14.00\">samples = 2</text>\n<text text-anchor=\"middle\" x=\"1654\" y=\"-729.3\" font-family=\"Helvetica,sans-Serif\" font-size=\"14.00\">value = [0, 2]</text>\n<text text-anchor=\"middle\" x=\"1654\" y=\"-714.3\" font-family=\"Helvetica,sans-Serif\" font-size=\"14.00\">class = Red</text>\n</g>\n<!-- 71&#45;&gt;73 -->\n<g id=\"edge73\" class=\"edge\">\n<title>71&#45;&gt;73</title>\n<path fill=\"none\" stroke=\"black\" d=\"M1583.47,-817.91C1594.17,-806.32 1605.82,-793.7 1616.51,-782.11\"/>\n<polygon fill=\"black\" stroke=\"black\" points=\"1619.17,-784.39 1623.38,-774.67 1614.03,-779.64 1619.17,-784.39\"/>\n</g>\n<!-- 75 -->\n<g id=\"node76\" class=\"node\">\n<title>75</title>\n<path fill=\"#399de5\" stroke=\"black\" d=\"M1716.5,-893.5C1716.5,-893.5 1643.5,-893.5 1643.5,-893.5 1637.5,-893.5 1631.5,-887.5 1631.5,-881.5 1631.5,-881.5 1631.5,-837.5 1631.5,-837.5 1631.5,-831.5 1637.5,-825.5 1643.5,-825.5 1643.5,-825.5 1716.5,-825.5 1716.5,-825.5 1722.5,-825.5 1728.5,-831.5 1728.5,-837.5 1728.5,-837.5 1728.5,-881.5 1728.5,-881.5 1728.5,-887.5 1722.5,-893.5 1716.5,-893.5\"/>\n<text text-anchor=\"middle\" x=\"1680\" y=\"-878.3\" font-family=\"Helvetica,sans-Serif\" font-size=\"14.00\">gini = 0.0</text>\n<text text-anchor=\"middle\" x=\"1680\" y=\"-863.3\" font-family=\"Helvetica,sans-Serif\" font-size=\"14.00\">samples = 3</text>\n<text text-anchor=\"middle\" x=\"1680\" y=\"-848.3\" font-family=\"Helvetica,sans-Serif\" font-size=\"14.00\">value = [0, 3]</text>\n<text text-anchor=\"middle\" x=\"1680\" y=\"-833.3\" font-family=\"Helvetica,sans-Serif\" font-size=\"14.00\">class = Red</text>\n</g>\n<!-- 74&#45;&gt;75 -->\n<g id=\"edge75\" class=\"edge\">\n<title>74&#45;&gt;75</title>\n<path fill=\"none\" stroke=\"black\" d=\"M1680,-936.91C1680,-926.2 1680,-914.62 1680,-903.78\"/>\n<polygon fill=\"black\" stroke=\"black\" points=\"1683.5,-903.67 1680,-893.67 1676.5,-903.67 1683.5,-903.67\"/>\n</g>\n<!-- 76 -->\n<g id=\"node77\" class=\"node\">\n<title>76</title>\n<path fill=\"#e68844\" stroke=\"black\" d=\"M1857,-901C1857,-901 1759,-901 1759,-901 1753,-901 1747,-895 1747,-889 1747,-889 1747,-830 1747,-830 1747,-824 1753,-818 1759,-818 1759,-818 1857,-818 1857,-818 1863,-818 1869,-824 1869,-830 1869,-830 1869,-889 1869,-889 1869,-895 1863,-901 1857,-901\"/>\n<text text-anchor=\"middle\" x=\"1808\" y=\"-885.8\" font-family=\"Helvetica,sans-Serif\" font-size=\"14.00\">alcohol &lt;= 10.25</text>\n<text text-anchor=\"middle\" x=\"1808\" y=\"-870.8\" font-family=\"Helvetica,sans-Serif\" font-size=\"14.00\">gini = 0.098</text>\n<text text-anchor=\"middle\" x=\"1808\" y=\"-855.8\" font-family=\"Helvetica,sans-Serif\" font-size=\"14.00\">samples = 58</text>\n<text text-anchor=\"middle\" x=\"1808\" y=\"-840.8\" font-family=\"Helvetica,sans-Serif\" font-size=\"14.00\">value = [55, 3]</text>\n<text text-anchor=\"middle\" x=\"1808\" y=\"-825.8\" font-family=\"Helvetica,sans-Serif\" font-size=\"14.00\">class = White</text>\n</g>\n<!-- 74&#45;&gt;76 -->\n<g id=\"edge76\" class=\"edge\">\n<title>74&#45;&gt;76</title>\n<path fill=\"none\" stroke=\"black\" d=\"M1724.41,-936.91C1734.64,-927.56 1745.6,-917.54 1756.11,-907.93\"/>\n<polygon fill=\"black\" stroke=\"black\" points=\"1758.65,-910.35 1763.67,-901.02 1753.93,-905.18 1758.65,-910.35\"/>\n</g>\n<!-- 77 -->\n<g id=\"node78\" class=\"node\">\n<title>77</title>\n<path fill=\"#e58139\" stroke=\"black\" d=\"M1813.5,-774.5C1813.5,-774.5 1732.5,-774.5 1732.5,-774.5 1726.5,-774.5 1720.5,-768.5 1720.5,-762.5 1720.5,-762.5 1720.5,-718.5 1720.5,-718.5 1720.5,-712.5 1726.5,-706.5 1732.5,-706.5 1732.5,-706.5 1813.5,-706.5 1813.5,-706.5 1819.5,-706.5 1825.5,-712.5 1825.5,-718.5 1825.5,-718.5 1825.5,-762.5 1825.5,-762.5 1825.5,-768.5 1819.5,-774.5 1813.5,-774.5\"/>\n<text text-anchor=\"middle\" x=\"1773\" y=\"-759.3\" font-family=\"Helvetica,sans-Serif\" font-size=\"14.00\">gini = 0.0</text>\n<text text-anchor=\"middle\" x=\"1773\" y=\"-744.3\" font-family=\"Helvetica,sans-Serif\" font-size=\"14.00\">samples = 51</text>\n<text text-anchor=\"middle\" x=\"1773\" y=\"-729.3\" font-family=\"Helvetica,sans-Serif\" font-size=\"14.00\">value = [51, 0]</text>\n<text text-anchor=\"middle\" x=\"1773\" y=\"-714.3\" font-family=\"Helvetica,sans-Serif\" font-size=\"14.00\">class = White</text>\n</g>\n<!-- 76&#45;&gt;77 -->\n<g id=\"edge77\" class=\"edge\">\n<title>76&#45;&gt;77</title>\n<path fill=\"none\" stroke=\"black\" d=\"M1795.86,-817.91C1792.62,-807.09 1789.12,-795.38 1785.85,-784.44\"/>\n<polygon fill=\"black\" stroke=\"black\" points=\"1789.14,-783.24 1782.92,-774.67 1782.43,-785.25 1789.14,-783.24\"/>\n</g>\n<!-- 78 -->\n<g id=\"node79\" class=\"node\">\n<title>78</title>\n<path fill=\"#f8e0ce\" stroke=\"black\" d=\"M1966.5,-782C1966.5,-782 1855.5,-782 1855.5,-782 1849.5,-782 1843.5,-776 1843.5,-770 1843.5,-770 1843.5,-711 1843.5,-711 1843.5,-705 1849.5,-699 1855.5,-699 1855.5,-699 1966.5,-699 1966.5,-699 1972.5,-699 1978.5,-705 1978.5,-711 1978.5,-711 1978.5,-770 1978.5,-770 1978.5,-776 1972.5,-782 1966.5,-782\"/>\n<text text-anchor=\"middle\" x=\"1911\" y=\"-766.8\" font-family=\"Helvetica,sans-Serif\" font-size=\"14.00\">fixed acidity &lt;= 6.9</text>\n<text text-anchor=\"middle\" x=\"1911\" y=\"-751.8\" font-family=\"Helvetica,sans-Serif\" font-size=\"14.00\">gini = 0.49</text>\n<text text-anchor=\"middle\" x=\"1911\" y=\"-736.8\" font-family=\"Helvetica,sans-Serif\" font-size=\"14.00\">samples = 7</text>\n<text text-anchor=\"middle\" x=\"1911\" y=\"-721.8\" font-family=\"Helvetica,sans-Serif\" font-size=\"14.00\">value = [4, 3]</text>\n<text text-anchor=\"middle\" x=\"1911\" y=\"-706.8\" font-family=\"Helvetica,sans-Serif\" font-size=\"14.00\">class = White</text>\n</g>\n<!-- 76&#45;&gt;78 -->\n<g id=\"edge78\" class=\"edge\">\n<title>76&#45;&gt;78</title>\n<path fill=\"none\" stroke=\"black\" d=\"M1843.74,-817.91C1851.72,-808.83 1860.27,-799.12 1868.51,-789.77\"/>\n<polygon fill=\"black\" stroke=\"black\" points=\"1871.35,-791.84 1875.33,-782.02 1866.09,-787.21 1871.35,-791.84\"/>\n</g>\n<!-- 79 -->\n<g id=\"node80\" class=\"node\">\n<title>79</title>\n<path fill=\"#399de5\" stroke=\"black\" d=\"M1838.5,-655.5C1838.5,-655.5 1765.5,-655.5 1765.5,-655.5 1759.5,-655.5 1753.5,-649.5 1753.5,-643.5 1753.5,-643.5 1753.5,-599.5 1753.5,-599.5 1753.5,-593.5 1759.5,-587.5 1765.5,-587.5 1765.5,-587.5 1838.5,-587.5 1838.5,-587.5 1844.5,-587.5 1850.5,-593.5 1850.5,-599.5 1850.5,-599.5 1850.5,-643.5 1850.5,-643.5 1850.5,-649.5 1844.5,-655.5 1838.5,-655.5\"/>\n<text text-anchor=\"middle\" x=\"1802\" y=\"-640.3\" font-family=\"Helvetica,sans-Serif\" font-size=\"14.00\">gini = 0.0</text>\n<text text-anchor=\"middle\" x=\"1802\" y=\"-625.3\" font-family=\"Helvetica,sans-Serif\" font-size=\"14.00\">samples = 3</text>\n<text text-anchor=\"middle\" x=\"1802\" y=\"-610.3\" font-family=\"Helvetica,sans-Serif\" font-size=\"14.00\">value = [0, 3]</text>\n<text text-anchor=\"middle\" x=\"1802\" y=\"-595.3\" font-family=\"Helvetica,sans-Serif\" font-size=\"14.00\">class = Red</text>\n</g>\n<!-- 78&#45;&gt;79 -->\n<g id=\"edge79\" class=\"edge\">\n<title>78&#45;&gt;79</title>\n<path fill=\"none\" stroke=\"black\" d=\"M1873.18,-698.91C1862.39,-687.32 1850.63,-674.7 1839.83,-663.11\"/>\n<polygon fill=\"black\" stroke=\"black\" points=\"1842.28,-660.6 1832.9,-655.67 1837.15,-665.37 1842.28,-660.6\"/>\n</g>\n<!-- 80 -->\n<g id=\"node81\" class=\"node\">\n<title>80</title>\n<path fill=\"#e58139\" stroke=\"black\" d=\"M1959,-655.5C1959,-655.5 1881,-655.5 1881,-655.5 1875,-655.5 1869,-649.5 1869,-643.5 1869,-643.5 1869,-599.5 1869,-599.5 1869,-593.5 1875,-587.5 1881,-587.5 1881,-587.5 1959,-587.5 1959,-587.5 1965,-587.5 1971,-593.5 1971,-599.5 1971,-599.5 1971,-643.5 1971,-643.5 1971,-649.5 1965,-655.5 1959,-655.5\"/>\n<text text-anchor=\"middle\" x=\"1920\" y=\"-640.3\" font-family=\"Helvetica,sans-Serif\" font-size=\"14.00\">gini = 0.0</text>\n<text text-anchor=\"middle\" x=\"1920\" y=\"-625.3\" font-family=\"Helvetica,sans-Serif\" font-size=\"14.00\">samples = 4</text>\n<text text-anchor=\"middle\" x=\"1920\" y=\"-610.3\" font-family=\"Helvetica,sans-Serif\" font-size=\"14.00\">value = [4, 0]</text>\n<text text-anchor=\"middle\" x=\"1920\" y=\"-595.3\" font-family=\"Helvetica,sans-Serif\" font-size=\"14.00\">class = White</text>\n</g>\n<!-- 78&#45;&gt;80 -->\n<g id=\"edge80\" class=\"edge\">\n<title>78&#45;&gt;80</title>\n<path fill=\"none\" stroke=\"black\" d=\"M1914.12,-698.91C1914.95,-688.2 1915.84,-676.62 1916.67,-665.78\"/>\n<polygon fill=\"black\" stroke=\"black\" points=\"1920.17,-665.91 1917.45,-655.67 1913.19,-665.37 1920.17,-665.91\"/>\n</g>\n<!-- 82 -->\n<g id=\"node83\" class=\"node\">\n<title>82</title>\n<path fill=\"#399de5\" stroke=\"black\" d=\"M1874.5,-1012.5C1874.5,-1012.5 1801.5,-1012.5 1801.5,-1012.5 1795.5,-1012.5 1789.5,-1006.5 1789.5,-1000.5 1789.5,-1000.5 1789.5,-956.5 1789.5,-956.5 1789.5,-950.5 1795.5,-944.5 1801.5,-944.5 1801.5,-944.5 1874.5,-944.5 1874.5,-944.5 1880.5,-944.5 1886.5,-950.5 1886.5,-956.5 1886.5,-956.5 1886.5,-1000.5 1886.5,-1000.5 1886.5,-1006.5 1880.5,-1012.5 1874.5,-1012.5\"/>\n<text text-anchor=\"middle\" x=\"1838\" y=\"-997.3\" font-family=\"Helvetica,sans-Serif\" font-size=\"14.00\">gini = 0.0</text>\n<text text-anchor=\"middle\" x=\"1838\" y=\"-982.3\" font-family=\"Helvetica,sans-Serif\" font-size=\"14.00\">samples = 2</text>\n<text text-anchor=\"middle\" x=\"1838\" y=\"-967.3\" font-family=\"Helvetica,sans-Serif\" font-size=\"14.00\">value = [0, 2]</text>\n<text text-anchor=\"middle\" x=\"1838\" y=\"-952.3\" font-family=\"Helvetica,sans-Serif\" font-size=\"14.00\">class = Red</text>\n</g>\n<!-- 81&#45;&gt;82 -->\n<g id=\"edge82\" class=\"edge\">\n<title>81&#45;&gt;82</title>\n<path fill=\"none\" stroke=\"black\" d=\"M1874.57,-1055.91C1869.29,-1044.87 1863.56,-1032.9 1858.23,-1021.77\"/>\n<polygon fill=\"black\" stroke=\"black\" points=\"1861.35,-1020.18 1853.87,-1012.67 1855.04,-1023.2 1861.35,-1020.18\"/>\n</g>\n<!-- 83 -->\n<g id=\"node84\" class=\"node\">\n<title>83</title>\n<path fill=\"#e58139\" stroke=\"black\" d=\"M1995,-1012.5C1995,-1012.5 1917,-1012.5 1917,-1012.5 1911,-1012.5 1905,-1006.5 1905,-1000.5 1905,-1000.5 1905,-956.5 1905,-956.5 1905,-950.5 1911,-944.5 1917,-944.5 1917,-944.5 1995,-944.5 1995,-944.5 2001,-944.5 2007,-950.5 2007,-956.5 2007,-956.5 2007,-1000.5 2007,-1000.5 2007,-1006.5 2001,-1012.5 1995,-1012.5\"/>\n<text text-anchor=\"middle\" x=\"1956\" y=\"-997.3\" font-family=\"Helvetica,sans-Serif\" font-size=\"14.00\">gini = 0.0</text>\n<text text-anchor=\"middle\" x=\"1956\" y=\"-982.3\" font-family=\"Helvetica,sans-Serif\" font-size=\"14.00\">samples = 5</text>\n<text text-anchor=\"middle\" x=\"1956\" y=\"-967.3\" font-family=\"Helvetica,sans-Serif\" font-size=\"14.00\">value = [5, 0]</text>\n<text text-anchor=\"middle\" x=\"1956\" y=\"-952.3\" font-family=\"Helvetica,sans-Serif\" font-size=\"14.00\">class = White</text>\n</g>\n<!-- 81&#45;&gt;83 -->\n<g id=\"edge83\" class=\"edge\">\n<title>81&#45;&gt;83</title>\n<path fill=\"none\" stroke=\"black\" d=\"M1915.51,-1055.91C1921.36,-1044.87 1927.7,-1032.9 1933.6,-1021.77\"/>\n<polygon fill=\"black\" stroke=\"black\" points=\"1936.83,-1023.14 1938.42,-1012.67 1930.65,-1019.86 1936.83,-1023.14\"/>\n</g>\n<!-- 85 -->\n<g id=\"node86\" class=\"node\">\n<title>85</title>\n<path fill=\"#e78845\" stroke=\"black\" d=\"M2187.5,-1258C2187.5,-1258 2076.5,-1258 2076.5,-1258 2070.5,-1258 2064.5,-1252 2064.5,-1246 2064.5,-1246 2064.5,-1187 2064.5,-1187 2064.5,-1181 2070.5,-1175 2076.5,-1175 2076.5,-1175 2187.5,-1175 2187.5,-1175 2193.5,-1175 2199.5,-1181 2199.5,-1187 2199.5,-1187 2199.5,-1246 2199.5,-1246 2199.5,-1252 2193.5,-1258 2187.5,-1258\"/>\n<text text-anchor=\"middle\" x=\"2132\" y=\"-1242.8\" font-family=\"Helvetica,sans-Serif\" font-size=\"14.00\">chlorides &lt;= 0.068</text>\n<text text-anchor=\"middle\" x=\"2132\" y=\"-1227.8\" font-family=\"Helvetica,sans-Serif\" font-size=\"14.00\">gini = 0.106</text>\n<text text-anchor=\"middle\" x=\"2132\" y=\"-1212.8\" font-family=\"Helvetica,sans-Serif\" font-size=\"14.00\">samples = 143</text>\n<text text-anchor=\"middle\" x=\"2132\" y=\"-1197.8\" font-family=\"Helvetica,sans-Serif\" font-size=\"14.00\">value = [135, 8]</text>\n<text text-anchor=\"middle\" x=\"2132\" y=\"-1182.8\" font-family=\"Helvetica,sans-Serif\" font-size=\"14.00\">class = White</text>\n</g>\n<!-- 84&#45;&gt;85 -->\n<g id=\"edge85\" class=\"edge\">\n<title>84&#45;&gt;85</title>\n<path fill=\"none\" stroke=\"black\" d=\"M2132,-1293.91C2132,-1285.65 2132,-1276.86 2132,-1268.3\"/>\n<polygon fill=\"black\" stroke=\"black\" points=\"2135.5,-1268.02 2132,-1258.02 2128.5,-1268.02 2135.5,-1268.02\"/>\n</g>\n<!-- 104 -->\n<g id=\"node105\" class=\"node\">\n<title>104</title>\n<path fill=\"#399de5\" stroke=\"black\" d=\"M2302.5,-1250.5C2302.5,-1250.5 2229.5,-1250.5 2229.5,-1250.5 2223.5,-1250.5 2217.5,-1244.5 2217.5,-1238.5 2217.5,-1238.5 2217.5,-1194.5 2217.5,-1194.5 2217.5,-1188.5 2223.5,-1182.5 2229.5,-1182.5 2229.5,-1182.5 2302.5,-1182.5 2302.5,-1182.5 2308.5,-1182.5 2314.5,-1188.5 2314.5,-1194.5 2314.5,-1194.5 2314.5,-1238.5 2314.5,-1238.5 2314.5,-1244.5 2308.5,-1250.5 2302.5,-1250.5\"/>\n<text text-anchor=\"middle\" x=\"2266\" y=\"-1235.3\" font-family=\"Helvetica,sans-Serif\" font-size=\"14.00\">gini = 0.0</text>\n<text text-anchor=\"middle\" x=\"2266\" y=\"-1220.3\" font-family=\"Helvetica,sans-Serif\" font-size=\"14.00\">samples = 9</text>\n<text text-anchor=\"middle\" x=\"2266\" y=\"-1205.3\" font-family=\"Helvetica,sans-Serif\" font-size=\"14.00\">value = [0, 9]</text>\n<text text-anchor=\"middle\" x=\"2266\" y=\"-1190.3\" font-family=\"Helvetica,sans-Serif\" font-size=\"14.00\">class = Red</text>\n</g>\n<!-- 84&#45;&gt;104 -->\n<g id=\"edge104\" class=\"edge\">\n<title>84&#45;&gt;104</title>\n<path fill=\"none\" stroke=\"black\" d=\"M2178.49,-1293.91C2192.01,-1282.1 2206.77,-1269.22 2220.25,-1257.45\"/>\n<polygon fill=\"black\" stroke=\"black\" points=\"2222.78,-1259.88 2228.01,-1250.67 2218.18,-1254.61 2222.78,-1259.88\"/>\n</g>\n<!-- 86 -->\n<g id=\"node87\" class=\"node\">\n<title>86</title>\n<path fill=\"#e6853f\" stroke=\"black\" d=\"M2211.5,-1139C2211.5,-1139 2052.5,-1139 2052.5,-1139 2046.5,-1139 2040.5,-1133 2040.5,-1127 2040.5,-1127 2040.5,-1068 2040.5,-1068 2040.5,-1062 2046.5,-1056 2052.5,-1056 2052.5,-1056 2211.5,-1056 2211.5,-1056 2217.5,-1056 2223.5,-1062 2223.5,-1068 2223.5,-1068 2223.5,-1127 2223.5,-1127 2223.5,-1133 2217.5,-1139 2211.5,-1139\"/>\n<text text-anchor=\"middle\" x=\"2132\" y=\"-1123.8\" font-family=\"Helvetica,sans-Serif\" font-size=\"14.00\">total sulfur dioxide &lt;= 70.5</text>\n<text text-anchor=\"middle\" x=\"2132\" y=\"-1108.8\" font-family=\"Helvetica,sans-Serif\" font-size=\"14.00\">gini = 0.057</text>\n<text text-anchor=\"middle\" x=\"2132\" y=\"-1093.8\" font-family=\"Helvetica,sans-Serif\" font-size=\"14.00\">samples = 136</text>\n<text text-anchor=\"middle\" x=\"2132\" y=\"-1078.8\" font-family=\"Helvetica,sans-Serif\" font-size=\"14.00\">value = [132, 4]</text>\n<text text-anchor=\"middle\" x=\"2132\" y=\"-1063.8\" font-family=\"Helvetica,sans-Serif\" font-size=\"14.00\">class = White</text>\n</g>\n<!-- 85&#45;&gt;86 -->\n<g id=\"edge86\" class=\"edge\">\n<title>85&#45;&gt;86</title>\n<path fill=\"none\" stroke=\"black\" d=\"M2132,-1174.91C2132,-1166.65 2132,-1157.86 2132,-1149.3\"/>\n<polygon fill=\"black\" stroke=\"black\" points=\"2135.5,-1149.02 2132,-1139.02 2128.5,-1149.02 2135.5,-1149.02\"/>\n</g>\n<!-- 101 -->\n<g id=\"node102\" class=\"node\">\n<title>101</title>\n<path fill=\"#cee6f8\" stroke=\"black\" d=\"M2384.5,-1139C2384.5,-1139 2311.5,-1139 2311.5,-1139 2305.5,-1139 2299.5,-1133 2299.5,-1127 2299.5,-1127 2299.5,-1068 2299.5,-1068 2299.5,-1062 2305.5,-1056 2311.5,-1056 2311.5,-1056 2384.5,-1056 2384.5,-1056 2390.5,-1056 2396.5,-1062 2396.5,-1068 2396.5,-1068 2396.5,-1127 2396.5,-1127 2396.5,-1133 2390.5,-1139 2384.5,-1139\"/>\n<text text-anchor=\"middle\" x=\"2348\" y=\"-1123.8\" font-family=\"Helvetica,sans-Serif\" font-size=\"14.00\">pH &lt;= 3.245</text>\n<text text-anchor=\"middle\" x=\"2348\" y=\"-1108.8\" font-family=\"Helvetica,sans-Serif\" font-size=\"14.00\">gini = 0.49</text>\n<text text-anchor=\"middle\" x=\"2348\" y=\"-1093.8\" font-family=\"Helvetica,sans-Serif\" font-size=\"14.00\">samples = 7</text>\n<text text-anchor=\"middle\" x=\"2348\" y=\"-1078.8\" font-family=\"Helvetica,sans-Serif\" font-size=\"14.00\">value = [3, 4]</text>\n<text text-anchor=\"middle\" x=\"2348\" y=\"-1063.8\" font-family=\"Helvetica,sans-Serif\" font-size=\"14.00\">class = Red</text>\n</g>\n<!-- 85&#45;&gt;101 -->\n<g id=\"edge101\" class=\"edge\">\n<title>85&#45;&gt;101</title>\n<path fill=\"none\" stroke=\"black\" d=\"M2199.75,-1178.8C2228.89,-1163.02 2262.59,-1144.76 2290.49,-1129.65\"/>\n<polygon fill=\"black\" stroke=\"black\" points=\"2292.2,-1132.7 2299.33,-1124.86 2288.87,-1126.55 2292.2,-1132.7\"/>\n</g>\n<!-- 87 -->\n<g id=\"node88\" class=\"node\">\n<title>87</title>\n<path fill=\"#399de5\" stroke=\"black\" d=\"M2110.5,-1012.5C2110.5,-1012.5 2037.5,-1012.5 2037.5,-1012.5 2031.5,-1012.5 2025.5,-1006.5 2025.5,-1000.5 2025.5,-1000.5 2025.5,-956.5 2025.5,-956.5 2025.5,-950.5 2031.5,-944.5 2037.5,-944.5 2037.5,-944.5 2110.5,-944.5 2110.5,-944.5 2116.5,-944.5 2122.5,-950.5 2122.5,-956.5 2122.5,-956.5 2122.5,-1000.5 2122.5,-1000.5 2122.5,-1006.5 2116.5,-1012.5 2110.5,-1012.5\"/>\n<text text-anchor=\"middle\" x=\"2074\" y=\"-997.3\" font-family=\"Helvetica,sans-Serif\" font-size=\"14.00\">gini = 0.0</text>\n<text text-anchor=\"middle\" x=\"2074\" y=\"-982.3\" font-family=\"Helvetica,sans-Serif\" font-size=\"14.00\">samples = 1</text>\n<text text-anchor=\"middle\" x=\"2074\" y=\"-967.3\" font-family=\"Helvetica,sans-Serif\" font-size=\"14.00\">value = [0, 1]</text>\n<text text-anchor=\"middle\" x=\"2074\" y=\"-952.3\" font-family=\"Helvetica,sans-Serif\" font-size=\"14.00\">class = Red</text>\n</g>\n<!-- 86&#45;&gt;87 -->\n<g id=\"edge87\" class=\"edge\">\n<title>86&#45;&gt;87</title>\n<path fill=\"none\" stroke=\"black\" d=\"M2111.88,-1055.91C2106.41,-1044.87 2100.47,-1032.9 2094.96,-1021.77\"/>\n<polygon fill=\"black\" stroke=\"black\" points=\"2098.02,-1020.07 2090.44,-1012.67 2091.75,-1023.18 2098.02,-1020.07\"/>\n</g>\n<!-- 88 -->\n<g id=\"node89\" class=\"node\">\n<title>88</title>\n<path fill=\"#e6843d\" stroke=\"black\" d=\"M2267,-1020C2267,-1020 2153,-1020 2153,-1020 2147,-1020 2141,-1014 2141,-1008 2141,-1008 2141,-949 2141,-949 2141,-943 2147,-937 2153,-937 2153,-937 2267,-937 2267,-937 2273,-937 2279,-943 2279,-949 2279,-949 2279,-1008 2279,-1008 2279,-1014 2273,-1020 2267,-1020\"/>\n<text text-anchor=\"middle\" x=\"2210\" y=\"-1004.8\" font-family=\"Helvetica,sans-Serif\" font-size=\"14.00\">sulphates &lt;= 0.755</text>\n<text text-anchor=\"middle\" x=\"2210\" y=\"-989.8\" font-family=\"Helvetica,sans-Serif\" font-size=\"14.00\">gini = 0.043</text>\n<text text-anchor=\"middle\" x=\"2210\" y=\"-974.8\" font-family=\"Helvetica,sans-Serif\" font-size=\"14.00\">samples = 135</text>\n<text text-anchor=\"middle\" x=\"2210\" y=\"-959.8\" font-family=\"Helvetica,sans-Serif\" font-size=\"14.00\">value = [132, 3]</text>\n<text text-anchor=\"middle\" x=\"2210\" y=\"-944.8\" font-family=\"Helvetica,sans-Serif\" font-size=\"14.00\">class = White</text>\n</g>\n<!-- 86&#45;&gt;88 -->\n<g id=\"edge88\" class=\"edge\">\n<title>86&#45;&gt;88</title>\n<path fill=\"none\" stroke=\"black\" d=\"M2159.06,-1055.91C2164.93,-1047.1 2171.2,-1037.7 2177.26,-1028.61\"/>\n<polygon fill=\"black\" stroke=\"black\" points=\"2180.35,-1030.28 2182.99,-1020.02 2174.53,-1026.4 2180.35,-1030.28\"/>\n</g>\n<!-- 89 -->\n<g id=\"node90\" class=\"node\">\n<title>89</title>\n<path fill=\"#e5823b\" stroke=\"black\" d=\"M2240.5,-901C2240.5,-901 2127.5,-901 2127.5,-901 2121.5,-901 2115.5,-895 2115.5,-889 2115.5,-889 2115.5,-830 2115.5,-830 2115.5,-824 2121.5,-818 2127.5,-818 2127.5,-818 2240.5,-818 2240.5,-818 2246.5,-818 2252.5,-824 2252.5,-830 2252.5,-830 2252.5,-889 2252.5,-889 2252.5,-895 2246.5,-901 2240.5,-901\"/>\n<text text-anchor=\"middle\" x=\"2184\" y=\"-885.8\" font-family=\"Helvetica,sans-Serif\" font-size=\"14.00\">citric acid &lt;= 0.065</text>\n<text text-anchor=\"middle\" x=\"2184\" y=\"-870.8\" font-family=\"Helvetica,sans-Serif\" font-size=\"14.00\">gini = 0.016</text>\n<text text-anchor=\"middle\" x=\"2184\" y=\"-855.8\" font-family=\"Helvetica,sans-Serif\" font-size=\"14.00\">samples = 125</text>\n<text text-anchor=\"middle\" x=\"2184\" y=\"-840.8\" font-family=\"Helvetica,sans-Serif\" font-size=\"14.00\">value = [124, 1]</text>\n<text text-anchor=\"middle\" x=\"2184\" y=\"-825.8\" font-family=\"Helvetica,sans-Serif\" font-size=\"14.00\">class = White</text>\n</g>\n<!-- 88&#45;&gt;89 -->\n<g id=\"edge89\" class=\"edge\">\n<title>88&#45;&gt;89</title>\n<path fill=\"none\" stroke=\"black\" d=\"M2200.98,-936.91C2199.12,-928.56 2197.15,-919.67 2195.23,-911.02\"/>\n<polygon fill=\"black\" stroke=\"black\" points=\"2198.59,-910.02 2193,-901.02 2191.76,-911.54 2198.59,-910.02\"/>\n</g>\n<!-- 96 -->\n<g id=\"node97\" class=\"node\">\n<title>96</title>\n<path fill=\"#eca06a\" stroke=\"black\" d=\"M2393.5,-901C2393.5,-901 2282.5,-901 2282.5,-901 2276.5,-901 2270.5,-895 2270.5,-889 2270.5,-889 2270.5,-830 2270.5,-830 2270.5,-824 2276.5,-818 2282.5,-818 2282.5,-818 2393.5,-818 2393.5,-818 2399.5,-818 2405.5,-824 2405.5,-830 2405.5,-830 2405.5,-889 2405.5,-889 2405.5,-895 2399.5,-901 2393.5,-901\"/>\n<text text-anchor=\"middle\" x=\"2338\" y=\"-885.8\" font-family=\"Helvetica,sans-Serif\" font-size=\"14.00\">chlorides &lt;= 0.042</text>\n<text text-anchor=\"middle\" x=\"2338\" y=\"-870.8\" font-family=\"Helvetica,sans-Serif\" font-size=\"14.00\">gini = 0.32</text>\n<text text-anchor=\"middle\" x=\"2338\" y=\"-855.8\" font-family=\"Helvetica,sans-Serif\" font-size=\"14.00\">samples = 10</text>\n<text text-anchor=\"middle\" x=\"2338\" y=\"-840.8\" font-family=\"Helvetica,sans-Serif\" font-size=\"14.00\">value = [8, 2]</text>\n<text text-anchor=\"middle\" x=\"2338\" y=\"-825.8\" font-family=\"Helvetica,sans-Serif\" font-size=\"14.00\">class = White</text>\n</g>\n<!-- 88&#45;&gt;96 -->\n<g id=\"edge96\" class=\"edge\">\n<title>88&#45;&gt;96</title>\n<path fill=\"none\" stroke=\"black\" d=\"M2254.41,-936.91C2264.64,-927.56 2275.6,-917.54 2286.11,-907.93\"/>\n<polygon fill=\"black\" stroke=\"black\" points=\"2288.65,-910.35 2293.67,-901.02 2283.93,-905.18 2288.65,-910.35\"/>\n</g>\n<!-- 90 -->\n<g id=\"node91\" class=\"node\">\n<title>90</title>\n<path fill=\"#e78945\" stroke=\"black\" d=\"M2123,-782C2123,-782 2009,-782 2009,-782 2003,-782 1997,-776 1997,-770 1997,-770 1997,-711 1997,-711 1997,-705 2003,-699 2009,-699 2009,-699 2123,-699 2123,-699 2129,-699 2135,-705 2135,-711 2135,-711 2135,-770 2135,-770 2135,-776 2129,-782 2123,-782\"/>\n<text text-anchor=\"middle\" x=\"2066\" y=\"-766.8\" font-family=\"Helvetica,sans-Serif\" font-size=\"14.00\">sulphates &lt;= 0.485</text>\n<text text-anchor=\"middle\" x=\"2066\" y=\"-751.8\" font-family=\"Helvetica,sans-Serif\" font-size=\"14.00\">gini = 0.111</text>\n<text text-anchor=\"middle\" x=\"2066\" y=\"-736.8\" font-family=\"Helvetica,sans-Serif\" font-size=\"14.00\">samples = 17</text>\n<text text-anchor=\"middle\" x=\"2066\" y=\"-721.8\" font-family=\"Helvetica,sans-Serif\" font-size=\"14.00\">value = [16, 1]</text>\n<text text-anchor=\"middle\" x=\"2066\" y=\"-706.8\" font-family=\"Helvetica,sans-Serif\" font-size=\"14.00\">class = White</text>\n</g>\n<!-- 89&#45;&gt;90 -->\n<g id=\"edge90\" class=\"edge\">\n<title>89&#45;&gt;90</title>\n<path fill=\"none\" stroke=\"black\" d=\"M2143.06,-817.91C2133.72,-808.65 2123.72,-798.73 2114.12,-789.21\"/>\n<polygon fill=\"black\" stroke=\"black\" points=\"2116.43,-786.58 2106.87,-782.02 2111.5,-791.55 2116.43,-786.58\"/>\n</g>\n<!-- 95 -->\n<g id=\"node96\" class=\"node\">\n<title>95</title>\n<path fill=\"#e58139\" stroke=\"black\" d=\"M2254.5,-774.5C2254.5,-774.5 2165.5,-774.5 2165.5,-774.5 2159.5,-774.5 2153.5,-768.5 2153.5,-762.5 2153.5,-762.5 2153.5,-718.5 2153.5,-718.5 2153.5,-712.5 2159.5,-706.5 2165.5,-706.5 2165.5,-706.5 2254.5,-706.5 2254.5,-706.5 2260.5,-706.5 2266.5,-712.5 2266.5,-718.5 2266.5,-718.5 2266.5,-762.5 2266.5,-762.5 2266.5,-768.5 2260.5,-774.5 2254.5,-774.5\"/>\n<text text-anchor=\"middle\" x=\"2210\" y=\"-759.3\" font-family=\"Helvetica,sans-Serif\" font-size=\"14.00\">gini = 0.0</text>\n<text text-anchor=\"middle\" x=\"2210\" y=\"-744.3\" font-family=\"Helvetica,sans-Serif\" font-size=\"14.00\">samples = 108</text>\n<text text-anchor=\"middle\" x=\"2210\" y=\"-729.3\" font-family=\"Helvetica,sans-Serif\" font-size=\"14.00\">value = [108, 0]</text>\n<text text-anchor=\"middle\" x=\"2210\" y=\"-714.3\" font-family=\"Helvetica,sans-Serif\" font-size=\"14.00\">class = White</text>\n</g>\n<!-- 89&#45;&gt;95 -->\n<g id=\"edge95\" class=\"edge\">\n<title>89&#45;&gt;95</title>\n<path fill=\"none\" stroke=\"black\" d=\"M2193.02,-817.91C2195.42,-807.09 2198.03,-795.38 2200.46,-784.44\"/>\n<polygon fill=\"black\" stroke=\"black\" points=\"2203.88,-785.19 2202.63,-774.67 2197.04,-783.67 2203.88,-785.19\"/>\n</g>\n<!-- 91 -->\n<g id=\"node92\" class=\"node\">\n<title>91</title>\n<path fill=\"#e58139\" stroke=\"black\" d=\"M2098.5,-655.5C2098.5,-655.5 2017.5,-655.5 2017.5,-655.5 2011.5,-655.5 2005.5,-649.5 2005.5,-643.5 2005.5,-643.5 2005.5,-599.5 2005.5,-599.5 2005.5,-593.5 2011.5,-587.5 2017.5,-587.5 2017.5,-587.5 2098.5,-587.5 2098.5,-587.5 2104.5,-587.5 2110.5,-593.5 2110.5,-599.5 2110.5,-599.5 2110.5,-643.5 2110.5,-643.5 2110.5,-649.5 2104.5,-655.5 2098.5,-655.5\"/>\n<text text-anchor=\"middle\" x=\"2058\" y=\"-640.3\" font-family=\"Helvetica,sans-Serif\" font-size=\"14.00\">gini = 0.0</text>\n<text text-anchor=\"middle\" x=\"2058\" y=\"-625.3\" font-family=\"Helvetica,sans-Serif\" font-size=\"14.00\">samples = 14</text>\n<text text-anchor=\"middle\" x=\"2058\" y=\"-610.3\" font-family=\"Helvetica,sans-Serif\" font-size=\"14.00\">value = [14, 0]</text>\n<text text-anchor=\"middle\" x=\"2058\" y=\"-595.3\" font-family=\"Helvetica,sans-Serif\" font-size=\"14.00\">class = White</text>\n</g>\n<!-- 90&#45;&gt;91 -->\n<g id=\"edge91\" class=\"edge\">\n<title>90&#45;&gt;91</title>\n<path fill=\"none\" stroke=\"black\" d=\"M2063.22,-698.91C2062.49,-688.2 2061.7,-676.62 2060.96,-665.78\"/>\n<polygon fill=\"black\" stroke=\"black\" points=\"2064.44,-665.4 2060.27,-655.67 2057.46,-665.88 2064.44,-665.4\"/>\n</g>\n<!-- 92 -->\n<g id=\"node93\" class=\"node\">\n<title>92</title>\n<path fill=\"#f2c09c\" stroke=\"black\" d=\"M2259.5,-663C2259.5,-663 2140.5,-663 2140.5,-663 2134.5,-663 2128.5,-657 2128.5,-651 2128.5,-651 2128.5,-592 2128.5,-592 2128.5,-586 2134.5,-580 2140.5,-580 2140.5,-580 2259.5,-580 2259.5,-580 2265.5,-580 2271.5,-586 2271.5,-592 2271.5,-592 2271.5,-651 2271.5,-651 2271.5,-657 2265.5,-663 2259.5,-663\"/>\n<text text-anchor=\"middle\" x=\"2200\" y=\"-647.8\" font-family=\"Helvetica,sans-Serif\" font-size=\"14.00\">fixed acidity &lt;= 5.95</text>\n<text text-anchor=\"middle\" x=\"2200\" y=\"-632.8\" font-family=\"Helvetica,sans-Serif\" font-size=\"14.00\">gini = 0.444</text>\n<text text-anchor=\"middle\" x=\"2200\" y=\"-617.8\" font-family=\"Helvetica,sans-Serif\" font-size=\"14.00\">samples = 3</text>\n<text text-anchor=\"middle\" x=\"2200\" y=\"-602.8\" font-family=\"Helvetica,sans-Serif\" font-size=\"14.00\">value = [2, 1]</text>\n<text text-anchor=\"middle\" x=\"2200\" y=\"-587.8\" font-family=\"Helvetica,sans-Serif\" font-size=\"14.00\">class = White</text>\n</g>\n<!-- 90&#45;&gt;92 -->\n<g id=\"edge92\" class=\"edge\">\n<title>90&#45;&gt;92</title>\n<path fill=\"none\" stroke=\"black\" d=\"M2112.49,-698.91C2123.3,-689.47 2134.9,-679.34 2146,-669.65\"/>\n<polygon fill=\"black\" stroke=\"black\" points=\"2148.36,-672.23 2153.59,-663.02 2143.76,-666.96 2148.36,-672.23\"/>\n</g>\n<!-- 93 -->\n<g id=\"node94\" class=\"node\">\n<title>93</title>\n<path fill=\"#e58139\" stroke=\"black\" d=\"M2180,-536.5C2180,-536.5 2102,-536.5 2102,-536.5 2096,-536.5 2090,-530.5 2090,-524.5 2090,-524.5 2090,-480.5 2090,-480.5 2090,-474.5 2096,-468.5 2102,-468.5 2102,-468.5 2180,-468.5 2180,-468.5 2186,-468.5 2192,-474.5 2192,-480.5 2192,-480.5 2192,-524.5 2192,-524.5 2192,-530.5 2186,-536.5 2180,-536.5\"/>\n<text text-anchor=\"middle\" x=\"2141\" y=\"-521.3\" font-family=\"Helvetica,sans-Serif\" font-size=\"14.00\">gini = 0.0</text>\n<text text-anchor=\"middle\" x=\"2141\" y=\"-506.3\" font-family=\"Helvetica,sans-Serif\" font-size=\"14.00\">samples = 2</text>\n<text text-anchor=\"middle\" x=\"2141\" y=\"-491.3\" font-family=\"Helvetica,sans-Serif\" font-size=\"14.00\">value = [2, 0]</text>\n<text text-anchor=\"middle\" x=\"2141\" y=\"-476.3\" font-family=\"Helvetica,sans-Serif\" font-size=\"14.00\">class = White</text>\n</g>\n<!-- 92&#45;&gt;93 -->\n<g id=\"edge93\" class=\"edge\">\n<title>92&#45;&gt;93</title>\n<path fill=\"none\" stroke=\"black\" d=\"M2179.53,-579.91C2173.97,-568.87 2167.93,-556.9 2162.32,-545.77\"/>\n<polygon fill=\"black\" stroke=\"black\" points=\"2165.35,-544.02 2157.73,-536.67 2159.1,-547.17 2165.35,-544.02\"/>\n</g>\n<!-- 94 -->\n<g id=\"node95\" class=\"node\">\n<title>94</title>\n<path fill=\"#399de5\" stroke=\"black\" d=\"M2295.5,-536.5C2295.5,-536.5 2222.5,-536.5 2222.5,-536.5 2216.5,-536.5 2210.5,-530.5 2210.5,-524.5 2210.5,-524.5 2210.5,-480.5 2210.5,-480.5 2210.5,-474.5 2216.5,-468.5 2222.5,-468.5 2222.5,-468.5 2295.5,-468.5 2295.5,-468.5 2301.5,-468.5 2307.5,-474.5 2307.5,-480.5 2307.5,-480.5 2307.5,-524.5 2307.5,-524.5 2307.5,-530.5 2301.5,-536.5 2295.5,-536.5\"/>\n<text text-anchor=\"middle\" x=\"2259\" y=\"-521.3\" font-family=\"Helvetica,sans-Serif\" font-size=\"14.00\">gini = 0.0</text>\n<text text-anchor=\"middle\" x=\"2259\" y=\"-506.3\" font-family=\"Helvetica,sans-Serif\" font-size=\"14.00\">samples = 1</text>\n<text text-anchor=\"middle\" x=\"2259\" y=\"-491.3\" font-family=\"Helvetica,sans-Serif\" font-size=\"14.00\">value = [0, 1]</text>\n<text text-anchor=\"middle\" x=\"2259\" y=\"-476.3\" font-family=\"Helvetica,sans-Serif\" font-size=\"14.00\">class = Red</text>\n</g>\n<!-- 92&#45;&gt;94 -->\n<g id=\"edge94\" class=\"edge\">\n<title>92&#45;&gt;94</title>\n<path fill=\"none\" stroke=\"black\" d=\"M2220.47,-579.91C2226.03,-568.87 2232.07,-556.9 2237.68,-545.77\"/>\n<polygon fill=\"black\" stroke=\"black\" points=\"2240.9,-547.17 2242.27,-536.67 2234.65,-544.02 2240.9,-547.17\"/>\n</g>\n<!-- 97 -->\n<g id=\"node98\" class=\"node\">\n<title>97</title>\n<path fill=\"#e58139\" stroke=\"black\" d=\"M2375,-774.5C2375,-774.5 2297,-774.5 2297,-774.5 2291,-774.5 2285,-768.5 2285,-762.5 2285,-762.5 2285,-718.5 2285,-718.5 2285,-712.5 2291,-706.5 2297,-706.5 2297,-706.5 2375,-706.5 2375,-706.5 2381,-706.5 2387,-712.5 2387,-718.5 2387,-718.5 2387,-762.5 2387,-762.5 2387,-768.5 2381,-774.5 2375,-774.5\"/>\n<text text-anchor=\"middle\" x=\"2336\" y=\"-759.3\" font-family=\"Helvetica,sans-Serif\" font-size=\"14.00\">gini = 0.0</text>\n<text text-anchor=\"middle\" x=\"2336\" y=\"-744.3\" font-family=\"Helvetica,sans-Serif\" font-size=\"14.00\">samples = 7</text>\n<text text-anchor=\"middle\" x=\"2336\" y=\"-729.3\" font-family=\"Helvetica,sans-Serif\" font-size=\"14.00\">value = [7, 0]</text>\n<text text-anchor=\"middle\" x=\"2336\" y=\"-714.3\" font-family=\"Helvetica,sans-Serif\" font-size=\"14.00\">class = White</text>\n</g>\n<!-- 96&#45;&gt;97 -->\n<g id=\"edge97\" class=\"edge\">\n<title>96&#45;&gt;97</title>\n<path fill=\"none\" stroke=\"black\" d=\"M2337.31,-817.91C2337.12,-807.2 2336.93,-795.62 2336.74,-784.78\"/>\n<polygon fill=\"black\" stroke=\"black\" points=\"2340.24,-784.61 2336.57,-774.67 2333.24,-784.73 2340.24,-784.61\"/>\n</g>\n<!-- 98 -->\n<g id=\"node99\" class=\"node\">\n<title>98</title>\n<path fill=\"#9ccef2\" stroke=\"black\" d=\"M2507,-782C2507,-782 2417,-782 2417,-782 2411,-782 2405,-776 2405,-770 2405,-770 2405,-711 2405,-711 2405,-705 2411,-699 2417,-699 2417,-699 2507,-699 2507,-699 2513,-699 2519,-705 2519,-711 2519,-711 2519,-770 2519,-770 2519,-776 2513,-782 2507,-782\"/>\n<text text-anchor=\"middle\" x=\"2462\" y=\"-766.8\" font-family=\"Helvetica,sans-Serif\" font-size=\"14.00\">alcohol &lt;= 9.75</text>\n<text text-anchor=\"middle\" x=\"2462\" y=\"-751.8\" font-family=\"Helvetica,sans-Serif\" font-size=\"14.00\">gini = 0.444</text>\n<text text-anchor=\"middle\" x=\"2462\" y=\"-736.8\" font-family=\"Helvetica,sans-Serif\" font-size=\"14.00\">samples = 3</text>\n<text text-anchor=\"middle\" x=\"2462\" y=\"-721.8\" font-family=\"Helvetica,sans-Serif\" font-size=\"14.00\">value = [1, 2]</text>\n<text text-anchor=\"middle\" x=\"2462\" y=\"-706.8\" font-family=\"Helvetica,sans-Serif\" font-size=\"14.00\">class = Red</text>\n</g>\n<!-- 96&#45;&gt;98 -->\n<g id=\"edge98\" class=\"edge\">\n<title>96&#45;&gt;98</title>\n<path fill=\"none\" stroke=\"black\" d=\"M2381.02,-817.91C2390.93,-808.56 2401.55,-798.54 2411.73,-788.93\"/>\n<polygon fill=\"black\" stroke=\"black\" points=\"2414.18,-791.43 2419.05,-782.02 2409.38,-786.34 2414.18,-791.43\"/>\n</g>\n<!-- 99 -->\n<g id=\"node100\" class=\"node\">\n<title>99</title>\n<path fill=\"#e58139\" stroke=\"black\" d=\"M2436,-655.5C2436,-655.5 2358,-655.5 2358,-655.5 2352,-655.5 2346,-649.5 2346,-643.5 2346,-643.5 2346,-599.5 2346,-599.5 2346,-593.5 2352,-587.5 2358,-587.5 2358,-587.5 2436,-587.5 2436,-587.5 2442,-587.5 2448,-593.5 2448,-599.5 2448,-599.5 2448,-643.5 2448,-643.5 2448,-649.5 2442,-655.5 2436,-655.5\"/>\n<text text-anchor=\"middle\" x=\"2397\" y=\"-640.3\" font-family=\"Helvetica,sans-Serif\" font-size=\"14.00\">gini = 0.0</text>\n<text text-anchor=\"middle\" x=\"2397\" y=\"-625.3\" font-family=\"Helvetica,sans-Serif\" font-size=\"14.00\">samples = 1</text>\n<text text-anchor=\"middle\" x=\"2397\" y=\"-610.3\" font-family=\"Helvetica,sans-Serif\" font-size=\"14.00\">value = [1, 0]</text>\n<text text-anchor=\"middle\" x=\"2397\" y=\"-595.3\" font-family=\"Helvetica,sans-Serif\" font-size=\"14.00\">class = White</text>\n</g>\n<!-- 98&#45;&gt;99 -->\n<g id=\"edge99\" class=\"edge\">\n<title>98&#45;&gt;99</title>\n<path fill=\"none\" stroke=\"black\" d=\"M2439.45,-698.91C2433.26,-687.76 2426.53,-675.66 2420.3,-664.44\"/>\n<polygon fill=\"black\" stroke=\"black\" points=\"2423.34,-662.71 2415.43,-655.67 2417.22,-666.11 2423.34,-662.71\"/>\n</g>\n<!-- 100 -->\n<g id=\"node101\" class=\"node\">\n<title>100</title>\n<path fill=\"#399de5\" stroke=\"black\" d=\"M2551.5,-655.5C2551.5,-655.5 2478.5,-655.5 2478.5,-655.5 2472.5,-655.5 2466.5,-649.5 2466.5,-643.5 2466.5,-643.5 2466.5,-599.5 2466.5,-599.5 2466.5,-593.5 2472.5,-587.5 2478.5,-587.5 2478.5,-587.5 2551.5,-587.5 2551.5,-587.5 2557.5,-587.5 2563.5,-593.5 2563.5,-599.5 2563.5,-599.5 2563.5,-643.5 2563.5,-643.5 2563.5,-649.5 2557.5,-655.5 2551.5,-655.5\"/>\n<text text-anchor=\"middle\" x=\"2515\" y=\"-640.3\" font-family=\"Helvetica,sans-Serif\" font-size=\"14.00\">gini = 0.0</text>\n<text text-anchor=\"middle\" x=\"2515\" y=\"-625.3\" font-family=\"Helvetica,sans-Serif\" font-size=\"14.00\">samples = 2</text>\n<text text-anchor=\"middle\" x=\"2515\" y=\"-610.3\" font-family=\"Helvetica,sans-Serif\" font-size=\"14.00\">value = [0, 2]</text>\n<text text-anchor=\"middle\" x=\"2515\" y=\"-595.3\" font-family=\"Helvetica,sans-Serif\" font-size=\"14.00\">class = Red</text>\n</g>\n<!-- 98&#45;&gt;100 -->\n<g id=\"edge100\" class=\"edge\">\n<title>98&#45;&gt;100</title>\n<path fill=\"none\" stroke=\"black\" d=\"M2480.39,-698.91C2485.34,-687.98 2490.7,-676.14 2495.7,-665.11\"/>\n<polygon fill=\"black\" stroke=\"black\" points=\"2499.04,-666.22 2499.98,-655.67 2492.66,-663.33 2499.04,-666.22\"/>\n</g>\n<!-- 102 -->\n<g id=\"node103\" class=\"node\">\n<title>102</title>\n<path fill=\"#e58139\" stroke=\"black\" d=\"M2387,-1012.5C2387,-1012.5 2309,-1012.5 2309,-1012.5 2303,-1012.5 2297,-1006.5 2297,-1000.5 2297,-1000.5 2297,-956.5 2297,-956.5 2297,-950.5 2303,-944.5 2309,-944.5 2309,-944.5 2387,-944.5 2387,-944.5 2393,-944.5 2399,-950.5 2399,-956.5 2399,-956.5 2399,-1000.5 2399,-1000.5 2399,-1006.5 2393,-1012.5 2387,-1012.5\"/>\n<text text-anchor=\"middle\" x=\"2348\" y=\"-997.3\" font-family=\"Helvetica,sans-Serif\" font-size=\"14.00\">gini = 0.0</text>\n<text text-anchor=\"middle\" x=\"2348\" y=\"-982.3\" font-family=\"Helvetica,sans-Serif\" font-size=\"14.00\">samples = 3</text>\n<text text-anchor=\"middle\" x=\"2348\" y=\"-967.3\" font-family=\"Helvetica,sans-Serif\" font-size=\"14.00\">value = [3, 0]</text>\n<text text-anchor=\"middle\" x=\"2348\" y=\"-952.3\" font-family=\"Helvetica,sans-Serif\" font-size=\"14.00\">class = White</text>\n</g>\n<!-- 101&#45;&gt;102 -->\n<g id=\"edge102\" class=\"edge\">\n<title>101&#45;&gt;102</title>\n<path fill=\"none\" stroke=\"black\" d=\"M2348,-1055.91C2348,-1045.2 2348,-1033.62 2348,-1022.78\"/>\n<polygon fill=\"black\" stroke=\"black\" points=\"2351.5,-1022.67 2348,-1012.67 2344.5,-1022.67 2351.5,-1022.67\"/>\n</g>\n<!-- 103 -->\n<g id=\"node104\" class=\"node\">\n<title>103</title>\n<path fill=\"#399de5\" stroke=\"black\" d=\"M2502.5,-1012.5C2502.5,-1012.5 2429.5,-1012.5 2429.5,-1012.5 2423.5,-1012.5 2417.5,-1006.5 2417.5,-1000.5 2417.5,-1000.5 2417.5,-956.5 2417.5,-956.5 2417.5,-950.5 2423.5,-944.5 2429.5,-944.5 2429.5,-944.5 2502.5,-944.5 2502.5,-944.5 2508.5,-944.5 2514.5,-950.5 2514.5,-956.5 2514.5,-956.5 2514.5,-1000.5 2514.5,-1000.5 2514.5,-1006.5 2508.5,-1012.5 2502.5,-1012.5\"/>\n<text text-anchor=\"middle\" x=\"2466\" y=\"-997.3\" font-family=\"Helvetica,sans-Serif\" font-size=\"14.00\">gini = 0.0</text>\n<text text-anchor=\"middle\" x=\"2466\" y=\"-982.3\" font-family=\"Helvetica,sans-Serif\" font-size=\"14.00\">samples = 4</text>\n<text text-anchor=\"middle\" x=\"2466\" y=\"-967.3\" font-family=\"Helvetica,sans-Serif\" font-size=\"14.00\">value = [0, 4]</text>\n<text text-anchor=\"middle\" x=\"2466\" y=\"-952.3\" font-family=\"Helvetica,sans-Serif\" font-size=\"14.00\">class = Red</text>\n</g>\n<!-- 101&#45;&gt;103 -->\n<g id=\"edge103\" class=\"edge\">\n<title>101&#45;&gt;103</title>\n<path fill=\"none\" stroke=\"black\" d=\"M2388.94,-1055.91C2400.74,-1044.21 2413.6,-1031.46 2425.38,-1019.78\"/>\n<polygon fill=\"black\" stroke=\"black\" points=\"2427.91,-1022.19 2432.55,-1012.67 2422.98,-1017.22 2427.91,-1022.19\"/>\n</g>\n<!-- 107 -->\n<g id=\"node108\" class=\"node\">\n<title>107</title>\n<path fill=\"#ea995f\" stroke=\"black\" d=\"M2981,-1496C2981,-1496 2841,-1496 2841,-1496 2835,-1496 2829,-1490 2829,-1484 2829,-1484 2829,-1425 2829,-1425 2829,-1419 2835,-1413 2841,-1413 2841,-1413 2981,-1413 2981,-1413 2987,-1413 2993,-1419 2993,-1425 2993,-1425 2993,-1484 2993,-1484 2993,-1490 2987,-1496 2981,-1496\"/>\n<text text-anchor=\"middle\" x=\"2911\" y=\"-1480.8\" font-family=\"Helvetica,sans-Serif\" font-size=\"14.00\">volatile acidity &lt;= 0.535</text>\n<text text-anchor=\"middle\" x=\"2911\" y=\"-1465.8\" font-family=\"Helvetica,sans-Serif\" font-size=\"14.00\">gini = 0.27</text>\n<text text-anchor=\"middle\" x=\"2911\" y=\"-1450.8\" font-family=\"Helvetica,sans-Serif\" font-size=\"14.00\">samples = 137</text>\n<text text-anchor=\"middle\" x=\"2911\" y=\"-1435.8\" font-family=\"Helvetica,sans-Serif\" font-size=\"14.00\">value = [115, 22]</text>\n<text text-anchor=\"middle\" x=\"2911\" y=\"-1420.8\" font-family=\"Helvetica,sans-Serif\" font-size=\"14.00\">class = White</text>\n</g>\n<!-- 106&#45;&gt;107 -->\n<g id=\"edge107\" class=\"edge\">\n<title>106&#45;&gt;107</title>\n<path fill=\"none\" stroke=\"black\" d=\"M2911,-1531.91C2911,-1523.65 2911,-1514.86 2911,-1506.3\"/>\n<polygon fill=\"black\" stroke=\"black\" points=\"2914.5,-1506.02 2911,-1496.02 2907.5,-1506.02 2914.5,-1506.02\"/>\n</g>\n<!-- 124 -->\n<g id=\"node125\" class=\"node\">\n<title>124</title>\n<path fill=\"#67b4eb\" stroke=\"black\" d=\"M3360.5,-1496C3360.5,-1496 3193.5,-1496 3193.5,-1496 3187.5,-1496 3181.5,-1490 3181.5,-1484 3181.5,-1484 3181.5,-1425 3181.5,-1425 3181.5,-1419 3187.5,-1413 3193.5,-1413 3193.5,-1413 3360.5,-1413 3360.5,-1413 3366.5,-1413 3372.5,-1419 3372.5,-1425 3372.5,-1425 3372.5,-1484 3372.5,-1484 3372.5,-1490 3366.5,-1496 3360.5,-1496\"/>\n<text text-anchor=\"middle\" x=\"3277\" y=\"-1480.8\" font-family=\"Helvetica,sans-Serif\" font-size=\"14.00\">total sulfur dioxide &lt;= 156.0</text>\n<text text-anchor=\"middle\" x=\"3277\" y=\"-1465.8\" font-family=\"Helvetica,sans-Serif\" font-size=\"14.00\">gini = 0.305</text>\n<text text-anchor=\"middle\" x=\"3277\" y=\"-1450.8\" font-family=\"Helvetica,sans-Serif\" font-size=\"14.00\">samples = 245</text>\n<text text-anchor=\"middle\" x=\"3277\" y=\"-1435.8\" font-family=\"Helvetica,sans-Serif\" font-size=\"14.00\">value = [46, 199]</text>\n<text text-anchor=\"middle\" x=\"3277\" y=\"-1420.8\" font-family=\"Helvetica,sans-Serif\" font-size=\"14.00\">class = Red</text>\n</g>\n<!-- 106&#45;&gt;124 -->\n<g id=\"edge124\" class=\"edge\">\n<title>106&#45;&gt;124</title>\n<path fill=\"none\" stroke=\"black\" d=\"M2982.87,-1549.52C3036.72,-1532.31 3111.23,-1508.49 3171.78,-1489.14\"/>\n<polygon fill=\"black\" stroke=\"black\" points=\"3172.91,-1492.45 3181.37,-1486.07 3170.78,-1485.78 3172.91,-1492.45\"/>\n</g>\n<!-- 108 -->\n<g id=\"node109\" class=\"node\">\n<title>108</title>\n<path fill=\"#e78b49\" stroke=\"black\" d=\"M2870.5,-1377C2870.5,-1377 2781.5,-1377 2781.5,-1377 2775.5,-1377 2769.5,-1371 2769.5,-1365 2769.5,-1365 2769.5,-1306 2769.5,-1306 2769.5,-1300 2775.5,-1294 2781.5,-1294 2781.5,-1294 2870.5,-1294 2870.5,-1294 2876.5,-1294 2882.5,-1300 2882.5,-1306 2882.5,-1306 2882.5,-1365 2882.5,-1365 2882.5,-1371 2876.5,-1377 2870.5,-1377\"/>\n<text text-anchor=\"middle\" x=\"2826\" y=\"-1361.8\" font-family=\"Helvetica,sans-Serif\" font-size=\"14.00\">pH &lt;= 3.315</text>\n<text text-anchor=\"middle\" x=\"2826\" y=\"-1346.8\" font-family=\"Helvetica,sans-Serif\" font-size=\"14.00\">gini = 0.137</text>\n<text text-anchor=\"middle\" x=\"2826\" y=\"-1331.8\" font-family=\"Helvetica,sans-Serif\" font-size=\"14.00\">samples = 122</text>\n<text text-anchor=\"middle\" x=\"2826\" y=\"-1316.8\" font-family=\"Helvetica,sans-Serif\" font-size=\"14.00\">value = [113, 9]</text>\n<text text-anchor=\"middle\" x=\"2826\" y=\"-1301.8\" font-family=\"Helvetica,sans-Serif\" font-size=\"14.00\">class = White</text>\n</g>\n<!-- 107&#45;&gt;108 -->\n<g id=\"edge108\" class=\"edge\">\n<title>107&#45;&gt;108</title>\n<path fill=\"none\" stroke=\"black\" d=\"M2881.51,-1412.91C2875.05,-1404.01 2868.14,-1394.51 2861.48,-1385.33\"/>\n<polygon fill=\"black\" stroke=\"black\" points=\"2864.15,-1383.05 2855.44,-1377.02 2858.48,-1387.17 2864.15,-1383.05\"/>\n</g>\n<!-- 121 -->\n<g id=\"node122\" class=\"node\">\n<title>121</title>\n<path fill=\"#57ace9\" stroke=\"black\" d=\"M3079.5,-1377C3079.5,-1377 2912.5,-1377 2912.5,-1377 2906.5,-1377 2900.5,-1371 2900.5,-1365 2900.5,-1365 2900.5,-1306 2900.5,-1306 2900.5,-1300 2906.5,-1294 2912.5,-1294 2912.5,-1294 3079.5,-1294 3079.5,-1294 3085.5,-1294 3091.5,-1300 3091.5,-1306 3091.5,-1306 3091.5,-1365 3091.5,-1365 3091.5,-1371 3085.5,-1377 3079.5,-1377\"/>\n<text text-anchor=\"middle\" x=\"2996\" y=\"-1361.8\" font-family=\"Helvetica,sans-Serif\" font-size=\"14.00\">total sulfur dioxide &lt;= 157.0</text>\n<text text-anchor=\"middle\" x=\"2996\" y=\"-1346.8\" font-family=\"Helvetica,sans-Serif\" font-size=\"14.00\">gini = 0.231</text>\n<text text-anchor=\"middle\" x=\"2996\" y=\"-1331.8\" font-family=\"Helvetica,sans-Serif\" font-size=\"14.00\">samples = 15</text>\n<text text-anchor=\"middle\" x=\"2996\" y=\"-1316.8\" font-family=\"Helvetica,sans-Serif\" font-size=\"14.00\">value = [2, 13]</text>\n<text text-anchor=\"middle\" x=\"2996\" y=\"-1301.8\" font-family=\"Helvetica,sans-Serif\" font-size=\"14.00\">class = Red</text>\n</g>\n<!-- 107&#45;&gt;121 -->\n<g id=\"edge121\" class=\"edge\">\n<title>107&#45;&gt;121</title>\n<path fill=\"none\" stroke=\"black\" d=\"M2940.49,-1412.91C2946.95,-1404.01 2953.86,-1394.51 2960.52,-1385.33\"/>\n<polygon fill=\"black\" stroke=\"black\" points=\"2963.52,-1387.17 2966.56,-1377.02 2957.85,-1383.05 2963.52,-1387.17\"/>\n</g>\n<!-- 109 -->\n<g id=\"node110\" class=\"node\">\n<title>109</title>\n<path fill=\"#e6843d\" stroke=\"black\" d=\"M2702,-1258C2702,-1258 2598,-1258 2598,-1258 2592,-1258 2586,-1252 2586,-1246 2586,-1246 2586,-1187 2586,-1187 2586,-1181 2592,-1175 2598,-1175 2598,-1175 2702,-1175 2702,-1175 2708,-1175 2714,-1181 2714,-1187 2714,-1187 2714,-1246 2714,-1246 2714,-1252 2708,-1258 2702,-1258\"/>\n<text text-anchor=\"middle\" x=\"2650\" y=\"-1242.8\" font-family=\"Helvetica,sans-Serif\" font-size=\"14.00\">citric acid &lt;= 0.08</text>\n<text text-anchor=\"middle\" x=\"2650\" y=\"-1227.8\" font-family=\"Helvetica,sans-Serif\" font-size=\"14.00\">gini = 0.039</text>\n<text text-anchor=\"middle\" x=\"2650\" y=\"-1212.8\" font-family=\"Helvetica,sans-Serif\" font-size=\"14.00\">samples = 101</text>\n<text text-anchor=\"middle\" x=\"2650\" y=\"-1197.8\" font-family=\"Helvetica,sans-Serif\" font-size=\"14.00\">value = [99, 2]</text>\n<text text-anchor=\"middle\" x=\"2650\" y=\"-1182.8\" font-family=\"Helvetica,sans-Serif\" font-size=\"14.00\">class = White</text>\n</g>\n<!-- 108&#45;&gt;109 -->\n<g id=\"edge109\" class=\"edge\">\n<title>108&#45;&gt;109</title>\n<path fill=\"none\" stroke=\"black\" d=\"M2769.34,-1296.84C2753.51,-1286.31 2736.13,-1274.75 2719.64,-1263.79\"/>\n<polygon fill=\"black\" stroke=\"black\" points=\"2721.38,-1260.75 2711.11,-1258.12 2717.5,-1266.58 2721.38,-1260.75\"/>\n</g>\n<!-- 116 -->\n<g id=\"node117\" class=\"node\">\n<title>116</title>\n<path fill=\"#f2c09c\" stroke=\"black\" d=\"M2911.5,-1258C2911.5,-1258 2744.5,-1258 2744.5,-1258 2738.5,-1258 2732.5,-1252 2732.5,-1246 2732.5,-1246 2732.5,-1187 2732.5,-1187 2732.5,-1181 2738.5,-1175 2744.5,-1175 2744.5,-1175 2911.5,-1175 2911.5,-1175 2917.5,-1175 2923.5,-1181 2923.5,-1187 2923.5,-1187 2923.5,-1246 2923.5,-1246 2923.5,-1252 2917.5,-1258 2911.5,-1258\"/>\n<text text-anchor=\"middle\" x=\"2828\" y=\"-1242.8\" font-family=\"Helvetica,sans-Serif\" font-size=\"14.00\">total sulfur dioxide &lt;= 115.5</text>\n<text text-anchor=\"middle\" x=\"2828\" y=\"-1227.8\" font-family=\"Helvetica,sans-Serif\" font-size=\"14.00\">gini = 0.444</text>\n<text text-anchor=\"middle\" x=\"2828\" y=\"-1212.8\" font-family=\"Helvetica,sans-Serif\" font-size=\"14.00\">samples = 21</text>\n<text text-anchor=\"middle\" x=\"2828\" y=\"-1197.8\" font-family=\"Helvetica,sans-Serif\" font-size=\"14.00\">value = [14, 7]</text>\n<text text-anchor=\"middle\" x=\"2828\" y=\"-1182.8\" font-family=\"Helvetica,sans-Serif\" font-size=\"14.00\">class = White</text>\n</g>\n<!-- 108&#45;&gt;116 -->\n<g id=\"edge116\" class=\"edge\">\n<title>108&#45;&gt;116</title>\n<path fill=\"none\" stroke=\"black\" d=\"M2826.69,-1293.91C2826.84,-1285.56 2826.99,-1276.67 2827.14,-1268.02\"/>\n<polygon fill=\"black\" stroke=\"black\" points=\"2830.64,-1268.08 2827.31,-1258.02 2823.64,-1267.96 2830.64,-1268.08\"/>\n</g>\n<!-- 110 -->\n<g id=\"node111\" class=\"node\">\n<title>110</title>\n<path fill=\"#399de5\" stroke=\"black\" d=\"M2559.5,-1131.5C2559.5,-1131.5 2486.5,-1131.5 2486.5,-1131.5 2480.5,-1131.5 2474.5,-1125.5 2474.5,-1119.5 2474.5,-1119.5 2474.5,-1075.5 2474.5,-1075.5 2474.5,-1069.5 2480.5,-1063.5 2486.5,-1063.5 2486.5,-1063.5 2559.5,-1063.5 2559.5,-1063.5 2565.5,-1063.5 2571.5,-1069.5 2571.5,-1075.5 2571.5,-1075.5 2571.5,-1119.5 2571.5,-1119.5 2571.5,-1125.5 2565.5,-1131.5 2559.5,-1131.5\"/>\n<text text-anchor=\"middle\" x=\"2523\" y=\"-1116.3\" font-family=\"Helvetica,sans-Serif\" font-size=\"14.00\">gini = 0.0</text>\n<text text-anchor=\"middle\" x=\"2523\" y=\"-1101.3\" font-family=\"Helvetica,sans-Serif\" font-size=\"14.00\">samples = 1</text>\n<text text-anchor=\"middle\" x=\"2523\" y=\"-1086.3\" font-family=\"Helvetica,sans-Serif\" font-size=\"14.00\">value = [0, 1]</text>\n<text text-anchor=\"middle\" x=\"2523\" y=\"-1071.3\" font-family=\"Helvetica,sans-Serif\" font-size=\"14.00\">class = Red</text>\n</g>\n<!-- 109&#45;&gt;110 -->\n<g id=\"edge110\" class=\"edge\">\n<title>109&#45;&gt;110</title>\n<path fill=\"none\" stroke=\"black\" d=\"M2605.94,-1174.91C2593.12,-1163.1 2579.14,-1150.22 2566.36,-1138.45\"/>\n<polygon fill=\"black\" stroke=\"black\" points=\"2568.73,-1135.87 2559,-1131.67 2563.98,-1141.02 2568.73,-1135.87\"/>\n</g>\n<!-- 111 -->\n<g id=\"node112\" class=\"node\">\n<title>111</title>\n<path fill=\"#e5823b\" stroke=\"black\" d=\"M2712.5,-1139C2712.5,-1139 2601.5,-1139 2601.5,-1139 2595.5,-1139 2589.5,-1133 2589.5,-1127 2589.5,-1127 2589.5,-1068 2589.5,-1068 2589.5,-1062 2595.5,-1056 2601.5,-1056 2601.5,-1056 2712.5,-1056 2712.5,-1056 2718.5,-1056 2724.5,-1062 2724.5,-1068 2724.5,-1068 2724.5,-1127 2724.5,-1127 2724.5,-1133 2718.5,-1139 2712.5,-1139\"/>\n<text text-anchor=\"middle\" x=\"2657\" y=\"-1123.8\" font-family=\"Helvetica,sans-Serif\" font-size=\"14.00\">chlorides &lt;= 0.071</text>\n<text text-anchor=\"middle\" x=\"2657\" y=\"-1108.8\" font-family=\"Helvetica,sans-Serif\" font-size=\"14.00\">gini = 0.02</text>\n<text text-anchor=\"middle\" x=\"2657\" y=\"-1093.8\" font-family=\"Helvetica,sans-Serif\" font-size=\"14.00\">samples = 100</text>\n<text text-anchor=\"middle\" x=\"2657\" y=\"-1078.8\" font-family=\"Helvetica,sans-Serif\" font-size=\"14.00\">value = [99, 1]</text>\n<text text-anchor=\"middle\" x=\"2657\" y=\"-1063.8\" font-family=\"Helvetica,sans-Serif\" font-size=\"14.00\">class = White</text>\n</g>\n<!-- 109&#45;&gt;111 -->\n<g id=\"edge111\" class=\"edge\">\n<title>109&#45;&gt;111</title>\n<path fill=\"none\" stroke=\"black\" d=\"M2652.43,-1174.91C2652.93,-1166.56 2653.46,-1157.67 2653.98,-1149.02\"/>\n<polygon fill=\"black\" stroke=\"black\" points=\"2657.47,-1149.21 2654.58,-1139.02 2650.48,-1148.79 2657.47,-1149.21\"/>\n</g>\n<!-- 112 -->\n<g id=\"node113\" class=\"node\">\n<title>112</title>\n<path fill=\"#f2c09c\" stroke=\"black\" d=\"M2623,-1020C2623,-1020 2545,-1020 2545,-1020 2539,-1020 2533,-1014 2533,-1008 2533,-1008 2533,-949 2533,-949 2533,-943 2539,-937 2545,-937 2545,-937 2623,-937 2623,-937 2629,-937 2635,-943 2635,-949 2635,-949 2635,-1008 2635,-1008 2635,-1014 2629,-1020 2623,-1020\"/>\n<text text-anchor=\"middle\" x=\"2584\" y=\"-1004.8\" font-family=\"Helvetica,sans-Serif\" font-size=\"14.00\">pH &lt;= 3.005</text>\n<text text-anchor=\"middle\" x=\"2584\" y=\"-989.8\" font-family=\"Helvetica,sans-Serif\" font-size=\"14.00\">gini = 0.444</text>\n<text text-anchor=\"middle\" x=\"2584\" y=\"-974.8\" font-family=\"Helvetica,sans-Serif\" font-size=\"14.00\">samples = 3</text>\n<text text-anchor=\"middle\" x=\"2584\" y=\"-959.8\" font-family=\"Helvetica,sans-Serif\" font-size=\"14.00\">value = [2, 1]</text>\n<text text-anchor=\"middle\" x=\"2584\" y=\"-944.8\" font-family=\"Helvetica,sans-Serif\" font-size=\"14.00\">class = White</text>\n</g>\n<!-- 111&#45;&gt;112 -->\n<g id=\"edge112\" class=\"edge\">\n<title>111&#45;&gt;112</title>\n<path fill=\"none\" stroke=\"black\" d=\"M2631.67,-1055.91C2626.18,-1047.1 2620.31,-1037.7 2614.64,-1028.61\"/>\n<polygon fill=\"black\" stroke=\"black\" points=\"2617.55,-1026.65 2609.28,-1020.02 2611.61,-1030.36 2617.55,-1026.65\"/>\n</g>\n<!-- 115 -->\n<g id=\"node116\" class=\"node\">\n<title>115</title>\n<path fill=\"#e58139\" stroke=\"black\" d=\"M2746.5,-1012.5C2746.5,-1012.5 2665.5,-1012.5 2665.5,-1012.5 2659.5,-1012.5 2653.5,-1006.5 2653.5,-1000.5 2653.5,-1000.5 2653.5,-956.5 2653.5,-956.5 2653.5,-950.5 2659.5,-944.5 2665.5,-944.5 2665.5,-944.5 2746.5,-944.5 2746.5,-944.5 2752.5,-944.5 2758.5,-950.5 2758.5,-956.5 2758.5,-956.5 2758.5,-1000.5 2758.5,-1000.5 2758.5,-1006.5 2752.5,-1012.5 2746.5,-1012.5\"/>\n<text text-anchor=\"middle\" x=\"2706\" y=\"-997.3\" font-family=\"Helvetica,sans-Serif\" font-size=\"14.00\">gini = 0.0</text>\n<text text-anchor=\"middle\" x=\"2706\" y=\"-982.3\" font-family=\"Helvetica,sans-Serif\" font-size=\"14.00\">samples = 97</text>\n<text text-anchor=\"middle\" x=\"2706\" y=\"-967.3\" font-family=\"Helvetica,sans-Serif\" font-size=\"14.00\">value = [97, 0]</text>\n<text text-anchor=\"middle\" x=\"2706\" y=\"-952.3\" font-family=\"Helvetica,sans-Serif\" font-size=\"14.00\">class = White</text>\n</g>\n<!-- 111&#45;&gt;115 -->\n<g id=\"edge115\" class=\"edge\">\n<title>111&#45;&gt;115</title>\n<path fill=\"none\" stroke=\"black\" d=\"M2674,-1055.91C2678.58,-1044.98 2683.54,-1033.14 2688.16,-1022.11\"/>\n<polygon fill=\"black\" stroke=\"black\" points=\"2691.47,-1023.24 2692.11,-1012.67 2685.02,-1020.54 2691.47,-1023.24\"/>\n</g>\n<!-- 113 -->\n<g id=\"node114\" class=\"node\">\n<title>113</title>\n<path fill=\"#e58139\" stroke=\"black\" d=\"M2514,-893.5C2514,-893.5 2436,-893.5 2436,-893.5 2430,-893.5 2424,-887.5 2424,-881.5 2424,-881.5 2424,-837.5 2424,-837.5 2424,-831.5 2430,-825.5 2436,-825.5 2436,-825.5 2514,-825.5 2514,-825.5 2520,-825.5 2526,-831.5 2526,-837.5 2526,-837.5 2526,-881.5 2526,-881.5 2526,-887.5 2520,-893.5 2514,-893.5\"/>\n<text text-anchor=\"middle\" x=\"2475\" y=\"-878.3\" font-family=\"Helvetica,sans-Serif\" font-size=\"14.00\">gini = 0.0</text>\n<text text-anchor=\"middle\" x=\"2475\" y=\"-863.3\" font-family=\"Helvetica,sans-Serif\" font-size=\"14.00\">samples = 2</text>\n<text text-anchor=\"middle\" x=\"2475\" y=\"-848.3\" font-family=\"Helvetica,sans-Serif\" font-size=\"14.00\">value = [2, 0]</text>\n<text text-anchor=\"middle\" x=\"2475\" y=\"-833.3\" font-family=\"Helvetica,sans-Serif\" font-size=\"14.00\">class = White</text>\n</g>\n<!-- 112&#45;&gt;113 -->\n<g id=\"edge113\" class=\"edge\">\n<title>112&#45;&gt;113</title>\n<path fill=\"none\" stroke=\"black\" d=\"M2546.18,-936.91C2535.39,-925.32 2523.63,-912.7 2512.83,-901.11\"/>\n<polygon fill=\"black\" stroke=\"black\" points=\"2515.28,-898.6 2505.9,-893.67 2510.15,-903.37 2515.28,-898.6\"/>\n</g>\n<!-- 114 -->\n<g id=\"node115\" class=\"node\">\n<title>114</title>\n<path fill=\"#399de5\" stroke=\"black\" d=\"M2629.5,-893.5C2629.5,-893.5 2556.5,-893.5 2556.5,-893.5 2550.5,-893.5 2544.5,-887.5 2544.5,-881.5 2544.5,-881.5 2544.5,-837.5 2544.5,-837.5 2544.5,-831.5 2550.5,-825.5 2556.5,-825.5 2556.5,-825.5 2629.5,-825.5 2629.5,-825.5 2635.5,-825.5 2641.5,-831.5 2641.5,-837.5 2641.5,-837.5 2641.5,-881.5 2641.5,-881.5 2641.5,-887.5 2635.5,-893.5 2629.5,-893.5\"/>\n<text text-anchor=\"middle\" x=\"2593\" y=\"-878.3\" font-family=\"Helvetica,sans-Serif\" font-size=\"14.00\">gini = 0.0</text>\n<text text-anchor=\"middle\" x=\"2593\" y=\"-863.3\" font-family=\"Helvetica,sans-Serif\" font-size=\"14.00\">samples = 1</text>\n<text text-anchor=\"middle\" x=\"2593\" y=\"-848.3\" font-family=\"Helvetica,sans-Serif\" font-size=\"14.00\">value = [0, 1]</text>\n<text text-anchor=\"middle\" x=\"2593\" y=\"-833.3\" font-family=\"Helvetica,sans-Serif\" font-size=\"14.00\">class = Red</text>\n</g>\n<!-- 112&#45;&gt;114 -->\n<g id=\"edge114\" class=\"edge\">\n<title>112&#45;&gt;114</title>\n<path fill=\"none\" stroke=\"black\" d=\"M2587.12,-936.91C2587.95,-926.2 2588.84,-914.62 2589.67,-903.78\"/>\n<polygon fill=\"black\" stroke=\"black\" points=\"2593.17,-903.91 2590.45,-893.67 2586.19,-903.37 2593.17,-903.91\"/>\n</g>\n<!-- 117 -->\n<g id=\"node118\" class=\"node\">\n<title>117</title>\n<path fill=\"#55abe9\" stroke=\"black\" d=\"M2894,-1139C2894,-1139 2762,-1139 2762,-1139 2756,-1139 2750,-1133 2750,-1127 2750,-1127 2750,-1068 2750,-1068 2750,-1062 2756,-1056 2762,-1056 2762,-1056 2894,-1056 2894,-1056 2900,-1056 2906,-1062 2906,-1068 2906,-1068 2906,-1127 2906,-1127 2906,-1133 2900,-1139 2894,-1139\"/>\n<text text-anchor=\"middle\" x=\"2828\" y=\"-1123.8\" font-family=\"Helvetica,sans-Serif\" font-size=\"14.00\">volatile acidity &lt;= 0.24</text>\n<text text-anchor=\"middle\" x=\"2828\" y=\"-1108.8\" font-family=\"Helvetica,sans-Serif\" font-size=\"14.00\">gini = 0.219</text>\n<text text-anchor=\"middle\" x=\"2828\" y=\"-1093.8\" font-family=\"Helvetica,sans-Serif\" font-size=\"14.00\">samples = 8</text>\n<text text-anchor=\"middle\" x=\"2828\" y=\"-1078.8\" font-family=\"Helvetica,sans-Serif\" font-size=\"14.00\">value = [1, 7]</text>\n<text text-anchor=\"middle\" x=\"2828\" y=\"-1063.8\" font-family=\"Helvetica,sans-Serif\" font-size=\"14.00\">class = Red</text>\n</g>\n<!-- 116&#45;&gt;117 -->\n<g id=\"edge117\" class=\"edge\">\n<title>116&#45;&gt;117</title>\n<path fill=\"none\" stroke=\"black\" d=\"M2828,-1174.91C2828,-1166.65 2828,-1157.86 2828,-1149.3\"/>\n<polygon fill=\"black\" stroke=\"black\" points=\"2831.5,-1149.02 2828,-1139.02 2824.5,-1149.02 2831.5,-1149.02\"/>\n</g>\n<!-- 120 -->\n<g id=\"node121\" class=\"node\">\n<title>120</title>\n<path fill=\"#e58139\" stroke=\"black\" d=\"M3017.5,-1131.5C3017.5,-1131.5 2936.5,-1131.5 2936.5,-1131.5 2930.5,-1131.5 2924.5,-1125.5 2924.5,-1119.5 2924.5,-1119.5 2924.5,-1075.5 2924.5,-1075.5 2924.5,-1069.5 2930.5,-1063.5 2936.5,-1063.5 2936.5,-1063.5 3017.5,-1063.5 3017.5,-1063.5 3023.5,-1063.5 3029.5,-1069.5 3029.5,-1075.5 3029.5,-1075.5 3029.5,-1119.5 3029.5,-1119.5 3029.5,-1125.5 3023.5,-1131.5 3017.5,-1131.5\"/>\n<text text-anchor=\"middle\" x=\"2977\" y=\"-1116.3\" font-family=\"Helvetica,sans-Serif\" font-size=\"14.00\">gini = 0.0</text>\n<text text-anchor=\"middle\" x=\"2977\" y=\"-1101.3\" font-family=\"Helvetica,sans-Serif\" font-size=\"14.00\">samples = 13</text>\n<text text-anchor=\"middle\" x=\"2977\" y=\"-1086.3\" font-family=\"Helvetica,sans-Serif\" font-size=\"14.00\">value = [13, 0]</text>\n<text text-anchor=\"middle\" x=\"2977\" y=\"-1071.3\" font-family=\"Helvetica,sans-Serif\" font-size=\"14.00\">class = White</text>\n</g>\n<!-- 116&#45;&gt;120 -->\n<g id=\"edge120\" class=\"edge\">\n<title>116&#45;&gt;120</title>\n<path fill=\"none\" stroke=\"black\" d=\"M2879.69,-1174.91C2894.87,-1162.99 2911.45,-1149.98 2926.54,-1138.12\"/>\n<polygon fill=\"black\" stroke=\"black\" points=\"2929.06,-1140.6 2934.76,-1131.67 2924.74,-1135.09 2929.06,-1140.6\"/>\n</g>\n<!-- 118 -->\n<g id=\"node119\" class=\"node\">\n<title>118</title>\n<path fill=\"#e58139\" stroke=\"black\" d=\"M2867,-1012.5C2867,-1012.5 2789,-1012.5 2789,-1012.5 2783,-1012.5 2777,-1006.5 2777,-1000.5 2777,-1000.5 2777,-956.5 2777,-956.5 2777,-950.5 2783,-944.5 2789,-944.5 2789,-944.5 2867,-944.5 2867,-944.5 2873,-944.5 2879,-950.5 2879,-956.5 2879,-956.5 2879,-1000.5 2879,-1000.5 2879,-1006.5 2873,-1012.5 2867,-1012.5\"/>\n<text text-anchor=\"middle\" x=\"2828\" y=\"-997.3\" font-family=\"Helvetica,sans-Serif\" font-size=\"14.00\">gini = 0.0</text>\n<text text-anchor=\"middle\" x=\"2828\" y=\"-982.3\" font-family=\"Helvetica,sans-Serif\" font-size=\"14.00\">samples = 1</text>\n<text text-anchor=\"middle\" x=\"2828\" y=\"-967.3\" font-family=\"Helvetica,sans-Serif\" font-size=\"14.00\">value = [1, 0]</text>\n<text text-anchor=\"middle\" x=\"2828\" y=\"-952.3\" font-family=\"Helvetica,sans-Serif\" font-size=\"14.00\">class = White</text>\n</g>\n<!-- 117&#45;&gt;118 -->\n<g id=\"edge118\" class=\"edge\">\n<title>117&#45;&gt;118</title>\n<path fill=\"none\" stroke=\"black\" d=\"M2828,-1055.91C2828,-1045.2 2828,-1033.62 2828,-1022.78\"/>\n<polygon fill=\"black\" stroke=\"black\" points=\"2831.5,-1022.67 2828,-1012.67 2824.5,-1022.67 2831.5,-1022.67\"/>\n</g>\n<!-- 119 -->\n<g id=\"node120\" class=\"node\">\n<title>119</title>\n<path fill=\"#399de5\" stroke=\"black\" d=\"M2982.5,-1012.5C2982.5,-1012.5 2909.5,-1012.5 2909.5,-1012.5 2903.5,-1012.5 2897.5,-1006.5 2897.5,-1000.5 2897.5,-1000.5 2897.5,-956.5 2897.5,-956.5 2897.5,-950.5 2903.5,-944.5 2909.5,-944.5 2909.5,-944.5 2982.5,-944.5 2982.5,-944.5 2988.5,-944.5 2994.5,-950.5 2994.5,-956.5 2994.5,-956.5 2994.5,-1000.5 2994.5,-1000.5 2994.5,-1006.5 2988.5,-1012.5 2982.5,-1012.5\"/>\n<text text-anchor=\"middle\" x=\"2946\" y=\"-997.3\" font-family=\"Helvetica,sans-Serif\" font-size=\"14.00\">gini = 0.0</text>\n<text text-anchor=\"middle\" x=\"2946\" y=\"-982.3\" font-family=\"Helvetica,sans-Serif\" font-size=\"14.00\">samples = 7</text>\n<text text-anchor=\"middle\" x=\"2946\" y=\"-967.3\" font-family=\"Helvetica,sans-Serif\" font-size=\"14.00\">value = [0, 7]</text>\n<text text-anchor=\"middle\" x=\"2946\" y=\"-952.3\" font-family=\"Helvetica,sans-Serif\" font-size=\"14.00\">class = Red</text>\n</g>\n<!-- 117&#45;&gt;119 -->\n<g id=\"edge119\" class=\"edge\">\n<title>117&#45;&gt;119</title>\n<path fill=\"none\" stroke=\"black\" d=\"M2868.94,-1055.91C2880.74,-1044.21 2893.6,-1031.46 2905.38,-1019.78\"/>\n<polygon fill=\"black\" stroke=\"black\" points=\"2907.91,-1022.19 2912.55,-1012.67 2902.98,-1017.22 2907.91,-1022.19\"/>\n</g>\n<!-- 122 -->\n<g id=\"node123\" class=\"node\">\n<title>122</title>\n<path fill=\"#399de5\" stroke=\"black\" d=\"M3034.5,-1250.5C3034.5,-1250.5 2953.5,-1250.5 2953.5,-1250.5 2947.5,-1250.5 2941.5,-1244.5 2941.5,-1238.5 2941.5,-1238.5 2941.5,-1194.5 2941.5,-1194.5 2941.5,-1188.5 2947.5,-1182.5 2953.5,-1182.5 2953.5,-1182.5 3034.5,-1182.5 3034.5,-1182.5 3040.5,-1182.5 3046.5,-1188.5 3046.5,-1194.5 3046.5,-1194.5 3046.5,-1238.5 3046.5,-1238.5 3046.5,-1244.5 3040.5,-1250.5 3034.5,-1250.5\"/>\n<text text-anchor=\"middle\" x=\"2994\" y=\"-1235.3\" font-family=\"Helvetica,sans-Serif\" font-size=\"14.00\">gini = 0.0</text>\n<text text-anchor=\"middle\" x=\"2994\" y=\"-1220.3\" font-family=\"Helvetica,sans-Serif\" font-size=\"14.00\">samples = 13</text>\n<text text-anchor=\"middle\" x=\"2994\" y=\"-1205.3\" font-family=\"Helvetica,sans-Serif\" font-size=\"14.00\">value = [0, 13]</text>\n<text text-anchor=\"middle\" x=\"2994\" y=\"-1190.3\" font-family=\"Helvetica,sans-Serif\" font-size=\"14.00\">class = Red</text>\n</g>\n<!-- 121&#45;&gt;122 -->\n<g id=\"edge122\" class=\"edge\">\n<title>121&#45;&gt;122</title>\n<path fill=\"none\" stroke=\"black\" d=\"M2995.31,-1293.91C2995.12,-1283.2 2994.93,-1271.62 2994.74,-1260.78\"/>\n<polygon fill=\"black\" stroke=\"black\" points=\"2998.24,-1260.61 2994.57,-1250.67 2991.24,-1260.73 2998.24,-1260.61\"/>\n</g>\n<!-- 123 -->\n<g id=\"node124\" class=\"node\">\n<title>123</title>\n<path fill=\"#e58139\" stroke=\"black\" d=\"M3155,-1250.5C3155,-1250.5 3077,-1250.5 3077,-1250.5 3071,-1250.5 3065,-1244.5 3065,-1238.5 3065,-1238.5 3065,-1194.5 3065,-1194.5 3065,-1188.5 3071,-1182.5 3077,-1182.5 3077,-1182.5 3155,-1182.5 3155,-1182.5 3161,-1182.5 3167,-1188.5 3167,-1194.5 3167,-1194.5 3167,-1238.5 3167,-1238.5 3167,-1244.5 3161,-1250.5 3155,-1250.5\"/>\n<text text-anchor=\"middle\" x=\"3116\" y=\"-1235.3\" font-family=\"Helvetica,sans-Serif\" font-size=\"14.00\">gini = 0.0</text>\n<text text-anchor=\"middle\" x=\"3116\" y=\"-1220.3\" font-family=\"Helvetica,sans-Serif\" font-size=\"14.00\">samples = 2</text>\n<text text-anchor=\"middle\" x=\"3116\" y=\"-1205.3\" font-family=\"Helvetica,sans-Serif\" font-size=\"14.00\">value = [2, 0]</text>\n<text text-anchor=\"middle\" x=\"3116\" y=\"-1190.3\" font-family=\"Helvetica,sans-Serif\" font-size=\"14.00\">class = White</text>\n</g>\n<!-- 121&#45;&gt;123 -->\n<g id=\"edge123\" class=\"edge\">\n<title>121&#45;&gt;123</title>\n<path fill=\"none\" stroke=\"black\" d=\"M3037.63,-1293.91C3049.63,-1282.21 3062.71,-1269.46 3074.69,-1257.78\"/>\n<polygon fill=\"black\" stroke=\"black\" points=\"3077.27,-1260.15 3081.98,-1250.67 3072.38,-1255.14 3077.27,-1260.15\"/>\n</g>\n<!-- 125 -->\n<g id=\"node126\" class=\"node\">\n<title>125</title>\n<path fill=\"#4da7e8\" stroke=\"black\" d=\"M3326,-1377C3326,-1377 3228,-1377 3228,-1377 3222,-1377 3216,-1371 3216,-1365 3216,-1365 3216,-1306 3216,-1306 3216,-1300 3222,-1294 3228,-1294 3228,-1294 3326,-1294 3326,-1294 3332,-1294 3338,-1300 3338,-1306 3338,-1306 3338,-1365 3338,-1365 3338,-1371 3332,-1377 3326,-1377\"/>\n<text text-anchor=\"middle\" x=\"3277\" y=\"-1361.8\" font-family=\"Helvetica,sans-Serif\" font-size=\"14.00\">density &lt;= 0.995</text>\n<text text-anchor=\"middle\" x=\"3277\" y=\"-1346.8\" font-family=\"Helvetica,sans-Serif\" font-size=\"14.00\">gini = 0.166</text>\n<text text-anchor=\"middle\" x=\"3277\" y=\"-1331.8\" font-family=\"Helvetica,sans-Serif\" font-size=\"14.00\">samples = 219</text>\n<text text-anchor=\"middle\" x=\"3277\" y=\"-1316.8\" font-family=\"Helvetica,sans-Serif\" font-size=\"14.00\">value = [20, 199]</text>\n<text text-anchor=\"middle\" x=\"3277\" y=\"-1301.8\" font-family=\"Helvetica,sans-Serif\" font-size=\"14.00\">class = Red</text>\n</g>\n<!-- 124&#45;&gt;125 -->\n<g id=\"edge125\" class=\"edge\">\n<title>124&#45;&gt;125</title>\n<path fill=\"none\" stroke=\"black\" d=\"M3277,-1412.91C3277,-1404.65 3277,-1395.86 3277,-1387.3\"/>\n<polygon fill=\"black\" stroke=\"black\" points=\"3280.5,-1387.02 3277,-1377.02 3273.5,-1387.02 3280.5,-1387.02\"/>\n</g>\n<!-- 134 -->\n<g id=\"node135\" class=\"node\">\n<title>134</title>\n<path fill=\"#e58139\" stroke=\"black\" d=\"M3449.5,-1369.5C3449.5,-1369.5 3368.5,-1369.5 3368.5,-1369.5 3362.5,-1369.5 3356.5,-1363.5 3356.5,-1357.5 3356.5,-1357.5 3356.5,-1313.5 3356.5,-1313.5 3356.5,-1307.5 3362.5,-1301.5 3368.5,-1301.5 3368.5,-1301.5 3449.5,-1301.5 3449.5,-1301.5 3455.5,-1301.5 3461.5,-1307.5 3461.5,-1313.5 3461.5,-1313.5 3461.5,-1357.5 3461.5,-1357.5 3461.5,-1363.5 3455.5,-1369.5 3449.5,-1369.5\"/>\n<text text-anchor=\"middle\" x=\"3409\" y=\"-1354.3\" font-family=\"Helvetica,sans-Serif\" font-size=\"14.00\">gini = 0.0</text>\n<text text-anchor=\"middle\" x=\"3409\" y=\"-1339.3\" font-family=\"Helvetica,sans-Serif\" font-size=\"14.00\">samples = 26</text>\n<text text-anchor=\"middle\" x=\"3409\" y=\"-1324.3\" font-family=\"Helvetica,sans-Serif\" font-size=\"14.00\">value = [26, 0]</text>\n<text text-anchor=\"middle\" x=\"3409\" y=\"-1309.3\" font-family=\"Helvetica,sans-Serif\" font-size=\"14.00\">class = White</text>\n</g>\n<!-- 124&#45;&gt;134 -->\n<g id=\"edge134\" class=\"edge\">\n<title>124&#45;&gt;134</title>\n<path fill=\"none\" stroke=\"black\" d=\"M3322.8,-1412.91C3336.12,-1401.1 3350.65,-1388.22 3363.93,-1376.45\"/>\n<polygon fill=\"black\" stroke=\"black\" points=\"3366.42,-1378.92 3371.58,-1369.67 3361.78,-1373.68 3366.42,-1378.92\"/>\n</g>\n<!-- 126 -->\n<g id=\"node127\" class=\"node\">\n<title>126</title>\n<path fill=\"#e99355\" stroke=\"black\" d=\"M3356.5,-1258C3356.5,-1258 3197.5,-1258 3197.5,-1258 3191.5,-1258 3185.5,-1252 3185.5,-1246 3185.5,-1246 3185.5,-1187 3185.5,-1187 3185.5,-1181 3191.5,-1175 3197.5,-1175 3197.5,-1175 3356.5,-1175 3356.5,-1175 3362.5,-1175 3368.5,-1181 3368.5,-1187 3368.5,-1187 3368.5,-1246 3368.5,-1246 3368.5,-1252 3362.5,-1258 3356.5,-1258\"/>\n<text text-anchor=\"middle\" x=\"3277\" y=\"-1242.8\" font-family=\"Helvetica,sans-Serif\" font-size=\"14.00\">total sulfur dioxide &lt;= 75.0</text>\n<text text-anchor=\"middle\" x=\"3277\" y=\"-1227.8\" font-family=\"Helvetica,sans-Serif\" font-size=\"14.00\">gini = 0.219</text>\n<text text-anchor=\"middle\" x=\"3277\" y=\"-1212.8\" font-family=\"Helvetica,sans-Serif\" font-size=\"14.00\">samples = 16</text>\n<text text-anchor=\"middle\" x=\"3277\" y=\"-1197.8\" font-family=\"Helvetica,sans-Serif\" font-size=\"14.00\">value = [14, 2]</text>\n<text text-anchor=\"middle\" x=\"3277\" y=\"-1182.8\" font-family=\"Helvetica,sans-Serif\" font-size=\"14.00\">class = White</text>\n</g>\n<!-- 125&#45;&gt;126 -->\n<g id=\"edge126\" class=\"edge\">\n<title>125&#45;&gt;126</title>\n<path fill=\"none\" stroke=\"black\" d=\"M3277,-1293.91C3277,-1285.65 3277,-1276.86 3277,-1268.3\"/>\n<polygon fill=\"black\" stroke=\"black\" points=\"3280.5,-1268.02 3277,-1258.02 3273.5,-1268.02 3280.5,-1268.02\"/>\n</g>\n<!-- 129 -->\n<g id=\"node130\" class=\"node\">\n<title>129</title>\n<path fill=\"#3fa0e6\" stroke=\"black\" d=\"M3531,-1258C3531,-1258 3399,-1258 3399,-1258 3393,-1258 3387,-1252 3387,-1246 3387,-1246 3387,-1187 3387,-1187 3387,-1181 3393,-1175 3399,-1175 3399,-1175 3531,-1175 3531,-1175 3537,-1175 3543,-1181 3543,-1187 3543,-1187 3543,-1246 3543,-1246 3543,-1252 3537,-1258 3531,-1258\"/>\n<text text-anchor=\"middle\" x=\"3465\" y=\"-1242.8\" font-family=\"Helvetica,sans-Serif\" font-size=\"14.00\">volatile acidity &lt;= 0.27</text>\n<text text-anchor=\"middle\" x=\"3465\" y=\"-1227.8\" font-family=\"Helvetica,sans-Serif\" font-size=\"14.00\">gini = 0.057</text>\n<text text-anchor=\"middle\" x=\"3465\" y=\"-1212.8\" font-family=\"Helvetica,sans-Serif\" font-size=\"14.00\">samples = 203</text>\n<text text-anchor=\"middle\" x=\"3465\" y=\"-1197.8\" font-family=\"Helvetica,sans-Serif\" font-size=\"14.00\">value = [6, 197]</text>\n<text text-anchor=\"middle\" x=\"3465\" y=\"-1182.8\" font-family=\"Helvetica,sans-Serif\" font-size=\"14.00\">class = Red</text>\n</g>\n<!-- 125&#45;&gt;129 -->\n<g id=\"edge129\" class=\"edge\">\n<title>125&#45;&gt;129</title>\n<path fill=\"none\" stroke=\"black\" d=\"M3338.04,-1296.51C3354.99,-1285.96 3373.58,-1274.39 3391.18,-1263.44\"/>\n<polygon fill=\"black\" stroke=\"black\" points=\"3393.09,-1266.37 3399.73,-1258.12 3389.39,-1260.43 3393.09,-1266.37\"/>\n</g>\n<!-- 127 -->\n<g id=\"node128\" class=\"node\">\n<title>127</title>\n<path fill=\"#399de5\" stroke=\"black\" d=\"M3204.5,-1131.5C3204.5,-1131.5 3131.5,-1131.5 3131.5,-1131.5 3125.5,-1131.5 3119.5,-1125.5 3119.5,-1119.5 3119.5,-1119.5 3119.5,-1075.5 3119.5,-1075.5 3119.5,-1069.5 3125.5,-1063.5 3131.5,-1063.5 3131.5,-1063.5 3204.5,-1063.5 3204.5,-1063.5 3210.5,-1063.5 3216.5,-1069.5 3216.5,-1075.5 3216.5,-1075.5 3216.5,-1119.5 3216.5,-1119.5 3216.5,-1125.5 3210.5,-1131.5 3204.5,-1131.5\"/>\n<text text-anchor=\"middle\" x=\"3168\" y=\"-1116.3\" font-family=\"Helvetica,sans-Serif\" font-size=\"14.00\">gini = 0.0</text>\n<text text-anchor=\"middle\" x=\"3168\" y=\"-1101.3\" font-family=\"Helvetica,sans-Serif\" font-size=\"14.00\">samples = 2</text>\n<text text-anchor=\"middle\" x=\"3168\" y=\"-1086.3\" font-family=\"Helvetica,sans-Serif\" font-size=\"14.00\">value = [0, 2]</text>\n<text text-anchor=\"middle\" x=\"3168\" y=\"-1071.3\" font-family=\"Helvetica,sans-Serif\" font-size=\"14.00\">class = Red</text>\n</g>\n<!-- 126&#45;&gt;127 -->\n<g id=\"edge127\" class=\"edge\">\n<title>126&#45;&gt;127</title>\n<path fill=\"none\" stroke=\"black\" d=\"M3239.18,-1174.91C3228.39,-1163.32 3216.63,-1150.7 3205.83,-1139.11\"/>\n<polygon fill=\"black\" stroke=\"black\" points=\"3208.28,-1136.6 3198.9,-1131.67 3203.15,-1141.37 3208.28,-1136.6\"/>\n</g>\n<!-- 128 -->\n<g id=\"node129\" class=\"node\">\n<title>128</title>\n<path fill=\"#e58139\" stroke=\"black\" d=\"M3327.5,-1131.5C3327.5,-1131.5 3246.5,-1131.5 3246.5,-1131.5 3240.5,-1131.5 3234.5,-1125.5 3234.5,-1119.5 3234.5,-1119.5 3234.5,-1075.5 3234.5,-1075.5 3234.5,-1069.5 3240.5,-1063.5 3246.5,-1063.5 3246.5,-1063.5 3327.5,-1063.5 3327.5,-1063.5 3333.5,-1063.5 3339.5,-1069.5 3339.5,-1075.5 3339.5,-1075.5 3339.5,-1119.5 3339.5,-1119.5 3339.5,-1125.5 3333.5,-1131.5 3327.5,-1131.5\"/>\n<text text-anchor=\"middle\" x=\"3287\" y=\"-1116.3\" font-family=\"Helvetica,sans-Serif\" font-size=\"14.00\">gini = 0.0</text>\n<text text-anchor=\"middle\" x=\"3287\" y=\"-1101.3\" font-family=\"Helvetica,sans-Serif\" font-size=\"14.00\">samples = 14</text>\n<text text-anchor=\"middle\" x=\"3287\" y=\"-1086.3\" font-family=\"Helvetica,sans-Serif\" font-size=\"14.00\">value = [14, 0]</text>\n<text text-anchor=\"middle\" x=\"3287\" y=\"-1071.3\" font-family=\"Helvetica,sans-Serif\" font-size=\"14.00\">class = White</text>\n</g>\n<!-- 126&#45;&gt;128 -->\n<g id=\"edge128\" class=\"edge\">\n<title>126&#45;&gt;128</title>\n<path fill=\"none\" stroke=\"black\" d=\"M3280.47,-1174.91C3281.38,-1164.2 3282.37,-1152.62 3283.3,-1141.78\"/>\n<polygon fill=\"black\" stroke=\"black\" points=\"3286.8,-1141.93 3284.17,-1131.67 3279.83,-1141.33 3286.8,-1141.93\"/>\n</g>\n<!-- 130 -->\n<g id=\"node131\" class=\"node\">\n<title>130</title>\n<path fill=\"#e9965a\" stroke=\"black\" d=\"M3521,-1139C3521,-1139 3389,-1139 3389,-1139 3383,-1139 3377,-1133 3377,-1127 3377,-1127 3377,-1068 3377,-1068 3377,-1062 3383,-1056 3389,-1056 3389,-1056 3521,-1056 3521,-1056 3527,-1056 3533,-1062 3533,-1068 3533,-1068 3533,-1127 3533,-1127 3533,-1133 3527,-1139 3521,-1139\"/>\n<text text-anchor=\"middle\" x=\"3455\" y=\"-1123.8\" font-family=\"Helvetica,sans-Serif\" font-size=\"14.00\">volatile acidity &lt;= 0.19</text>\n<text text-anchor=\"middle\" x=\"3455\" y=\"-1108.8\" font-family=\"Helvetica,sans-Serif\" font-size=\"14.00\">gini = 0.245</text>\n<text text-anchor=\"middle\" x=\"3455\" y=\"-1093.8\" font-family=\"Helvetica,sans-Serif\" font-size=\"14.00\">samples = 7</text>\n<text text-anchor=\"middle\" x=\"3455\" y=\"-1078.8\" font-family=\"Helvetica,sans-Serif\" font-size=\"14.00\">value = [6, 1]</text>\n<text text-anchor=\"middle\" x=\"3455\" y=\"-1063.8\" font-family=\"Helvetica,sans-Serif\" font-size=\"14.00\">class = White</text>\n</g>\n<!-- 129&#45;&gt;130 -->\n<g id=\"edge130\" class=\"edge\">\n<title>129&#45;&gt;130</title>\n<path fill=\"none\" stroke=\"black\" d=\"M3461.53,-1174.91C3460.82,-1166.56 3460.06,-1157.67 3459.32,-1149.02\"/>\n<polygon fill=\"black\" stroke=\"black\" points=\"3462.8,-1148.69 3458.46,-1139.02 3455.83,-1149.28 3462.8,-1148.69\"/>\n</g>\n<!-- 133 -->\n<g id=\"node134\" class=\"node\">\n<title>133</title>\n<path fill=\"#399de5\" stroke=\"black\" d=\"M3652.5,-1131.5C3652.5,-1131.5 3563.5,-1131.5 3563.5,-1131.5 3557.5,-1131.5 3551.5,-1125.5 3551.5,-1119.5 3551.5,-1119.5 3551.5,-1075.5 3551.5,-1075.5 3551.5,-1069.5 3557.5,-1063.5 3563.5,-1063.5 3563.5,-1063.5 3652.5,-1063.5 3652.5,-1063.5 3658.5,-1063.5 3664.5,-1069.5 3664.5,-1075.5 3664.5,-1075.5 3664.5,-1119.5 3664.5,-1119.5 3664.5,-1125.5 3658.5,-1131.5 3652.5,-1131.5\"/>\n<text text-anchor=\"middle\" x=\"3608\" y=\"-1116.3\" font-family=\"Helvetica,sans-Serif\" font-size=\"14.00\">gini = 0.0</text>\n<text text-anchor=\"middle\" x=\"3608\" y=\"-1101.3\" font-family=\"Helvetica,sans-Serif\" font-size=\"14.00\">samples = 196</text>\n<text text-anchor=\"middle\" x=\"3608\" y=\"-1086.3\" font-family=\"Helvetica,sans-Serif\" font-size=\"14.00\">value = [0, 196]</text>\n<text text-anchor=\"middle\" x=\"3608\" y=\"-1071.3\" font-family=\"Helvetica,sans-Serif\" font-size=\"14.00\">class = Red</text>\n</g>\n<!-- 129&#45;&gt;133 -->\n<g id=\"edge133\" class=\"edge\">\n<title>129&#45;&gt;133</title>\n<path fill=\"none\" stroke=\"black\" d=\"M3514.61,-1174.91C3529.18,-1162.99 3545.09,-1149.98 3559.58,-1138.12\"/>\n<polygon fill=\"black\" stroke=\"black\" points=\"3561.94,-1140.71 3567.46,-1131.67 3557.51,-1135.29 3561.94,-1140.71\"/>\n</g>\n<!-- 131 -->\n<g id=\"node132\" class=\"node\">\n<title>131</title>\n<path fill=\"#399de5\" stroke=\"black\" d=\"M3432.5,-1012.5C3432.5,-1012.5 3359.5,-1012.5 3359.5,-1012.5 3353.5,-1012.5 3347.5,-1006.5 3347.5,-1000.5 3347.5,-1000.5 3347.5,-956.5 3347.5,-956.5 3347.5,-950.5 3353.5,-944.5 3359.5,-944.5 3359.5,-944.5 3432.5,-944.5 3432.5,-944.5 3438.5,-944.5 3444.5,-950.5 3444.5,-956.5 3444.5,-956.5 3444.5,-1000.5 3444.5,-1000.5 3444.5,-1006.5 3438.5,-1012.5 3432.5,-1012.5\"/>\n<text text-anchor=\"middle\" x=\"3396\" y=\"-997.3\" font-family=\"Helvetica,sans-Serif\" font-size=\"14.00\">gini = 0.0</text>\n<text text-anchor=\"middle\" x=\"3396\" y=\"-982.3\" font-family=\"Helvetica,sans-Serif\" font-size=\"14.00\">samples = 1</text>\n<text text-anchor=\"middle\" x=\"3396\" y=\"-967.3\" font-family=\"Helvetica,sans-Serif\" font-size=\"14.00\">value = [0, 1]</text>\n<text text-anchor=\"middle\" x=\"3396\" y=\"-952.3\" font-family=\"Helvetica,sans-Serif\" font-size=\"14.00\">class = Red</text>\n</g>\n<!-- 130&#45;&gt;131 -->\n<g id=\"edge131\" class=\"edge\">\n<title>130&#45;&gt;131</title>\n<path fill=\"none\" stroke=\"black\" d=\"M3434.53,-1055.91C3428.97,-1044.87 3422.93,-1032.9 3417.32,-1021.77\"/>\n<polygon fill=\"black\" stroke=\"black\" points=\"3420.35,-1020.02 3412.73,-1012.67 3414.1,-1023.17 3420.35,-1020.02\"/>\n</g>\n<!-- 132 -->\n<g id=\"node133\" class=\"node\">\n<title>132</title>\n<path fill=\"#e58139\" stroke=\"black\" d=\"M3553,-1012.5C3553,-1012.5 3475,-1012.5 3475,-1012.5 3469,-1012.5 3463,-1006.5 3463,-1000.5 3463,-1000.5 3463,-956.5 3463,-956.5 3463,-950.5 3469,-944.5 3475,-944.5 3475,-944.5 3553,-944.5 3553,-944.5 3559,-944.5 3565,-950.5 3565,-956.5 3565,-956.5 3565,-1000.5 3565,-1000.5 3565,-1006.5 3559,-1012.5 3553,-1012.5\"/>\n<text text-anchor=\"middle\" x=\"3514\" y=\"-997.3\" font-family=\"Helvetica,sans-Serif\" font-size=\"14.00\">gini = 0.0</text>\n<text text-anchor=\"middle\" x=\"3514\" y=\"-982.3\" font-family=\"Helvetica,sans-Serif\" font-size=\"14.00\">samples = 6</text>\n<text text-anchor=\"middle\" x=\"3514\" y=\"-967.3\" font-family=\"Helvetica,sans-Serif\" font-size=\"14.00\">value = [6, 0]</text>\n<text text-anchor=\"middle\" x=\"3514\" y=\"-952.3\" font-family=\"Helvetica,sans-Serif\" font-size=\"14.00\">class = White</text>\n</g>\n<!-- 130&#45;&gt;132 -->\n<g id=\"edge132\" class=\"edge\">\n<title>130&#45;&gt;132</title>\n<path fill=\"none\" stroke=\"black\" d=\"M3475.47,-1055.91C3481.03,-1044.87 3487.07,-1032.9 3492.68,-1021.77\"/>\n<polygon fill=\"black\" stroke=\"black\" points=\"3495.9,-1023.17 3497.27,-1012.67 3489.65,-1020.02 3495.9,-1023.17\"/>\n</g>\n</g>\n</svg>\n",
      "text/plain": [
       "<graphviz.sources.Source at 0x190dcb9de80>"
      ]
     },
     "execution_count": 40,
     "metadata": {},
     "output_type": "execute_result"
    }
   ],
   "source": [
    "from sklearn.tree import export_graphviz\n",
    "from graphviz import Source\n",
    "from IPython.display import SVG\n",
    "\n",
    "graph = Source(export_graphviz(tree, out_file=None,\n",
    "                                feature_names=X.columns,\n",
    "                                class_names=['White', 'Red'],\n",
    "                                rounded=True, filled=True))\n",
    "\n",
    "graph"
   ]
  },
  {
   "cell_type": "code",
   "execution_count": 41,
   "metadata": {},
   "outputs": [
    {
     "data": {
      "text/plain": [
       "(array([[3917,    1],\n",
       "        [   1, 1278]], dtype=int64),\n",
       " array([[969,  11],\n",
       "        [ 11, 309]], dtype=int64))"
      ]
     },
     "execution_count": 41,
     "metadata": {},
     "output_type": "execute_result"
    }
   ],
   "source": [
    "from sklearn.metrics import confusion_matrix, classification_report, accuracy_score\n",
    "\n",
    "confusion_matrix(y_train, pred_train), confusion_matrix(y_test, pred_test)"
   ]
  },
  {
   "cell_type": "code",
   "execution_count": 42,
   "metadata": {},
   "outputs": [
    {
     "data": {
      "text/plain": [
       "(0.9996151625938041, 0.9830769230769231)"
      ]
     },
     "execution_count": 42,
     "metadata": {},
     "output_type": "execute_result"
    }
   ],
   "source": [
    "accuracy_score(y_train, pred_train), accuracy_score(y_test, pred_test)"
   ]
  },
  {
   "cell_type": "code",
   "execution_count": 43,
   "metadata": {},
   "outputs": [
    {
     "data": {
      "text/plain": [
       "(0.9999995011097316, 0.9772002551020408)"
      ]
     },
     "execution_count": 43,
     "metadata": {},
     "output_type": "execute_result"
    }
   ],
   "source": [
    "from sklearn.metrics import roc_auc_score, plot_roc_curve, RocCurveDisplay, roc_curve, auc\n",
    "\n",
    "roc_auc_score(y_train, proba_train), roc_auc_score(y_test, proba_test)"
   ]
  },
  {
   "cell_type": "code",
   "execution_count": 44,
   "metadata": {},
   "outputs": [
    {
     "data": {
      "text/plain": [
       "<sklearn.metrics._plot.roc_curve.RocCurveDisplay at 0x190d6deb8e0>"
      ]
     },
     "execution_count": 44,
     "metadata": {},
     "output_type": "execute_result"
    },
    {
     "data": {
      "image/png": "[encoded data removed]",
      "text/plain": [
       "<Figure size 432x288 with 1 Axes>"
      ]
     },
     "metadata": {
      "needs_background": "light"
     },
     "output_type": "display_data"
    }
   ],
   "source": [
    "fpr, tpr, thresholds = roc_curve(y_test, pred_test)\n",
    "roc_auc = auc(fpr, tpr)\n",
    "display = RocCurveDisplay(fpr=fpr, tpr=tpr, roc_auc=roc_auc)\n",
    "display.plot()"
   ]
  },
  {
   "cell_type": "code",
   "execution_count": 45,
   "metadata": {},
   "outputs": [
    {
     "name": "stderr",
     "output_type": "stream",
     "text": [
      "C:\\Users\\user\\anaconda3\\envs\\ml\\lib\\site-packages\\sklearn\\utils\\deprecation.py:87: FutureWarning: Function plot_roc_curve is deprecated; Function `plot_roc_curve` is deprecated in 1.0 and will be removed in 1.2. Use one of the class methods: RocCurveDisplay.from_predictions or RocCurveDisplay.from_estimator.\n",
      "  warnings.warn(msg, category=FutureWarning)\n",
      "C:\\Users\\user\\anaconda3\\envs\\ml\\lib\\site-packages\\sklearn\\utils\\deprecation.py:87: FutureWarning: Function plot_roc_curve is deprecated; Function `plot_roc_curve` is deprecated in 1.0 and will be removed in 1.2. Use one of the class methods: RocCurveDisplay.from_predictions or RocCurveDisplay.from_estimator.\n",
      "  warnings.warn(msg, category=FutureWarning)\n"
     ]
    },
    {
     "data": {
      "text/plain": [
       "<sklearn.metrics._plot.roc_curve.RocCurveDisplay at 0x190dcc46970>"
      ]
     },
     "execution_count": 45,
     "metadata": {},
     "output_type": "execute_result"
    },
    {
     "data": {
      "image/png": "[encoded data removed]",
      "text/plain": [
       "<Figure size 504x504 with 1 Axes>"
      ]
     },
     "metadata": {
      "needs_background": "light"
     },
     "output_type": "display_data"
    }
   ],
   "source": [
    "_, ax = plt.subplots(1, 1, figsize=(7, 7))\n",
    "plot_roc_curve(tree, X_train, y_train, ax=ax, name='Train')\n",
    "plot_roc_curve(tree, X_test, y_test, ax=ax, name='Test')"
   ]
  },
  {
   "cell_type": "code",
   "execution_count": 46,
   "metadata": {},
   "outputs": [
    {
     "data": {
      "text/plain": [
       "(12,)"
      ]
     },
     "execution_count": 46,
     "metadata": {},
     "output_type": "execute_result"
    }
   ],
   "source": [
    "fi = tree.feature_importances_\n",
    "fi.shape"
   ]
  },
  {
   "cell_type": "code",
   "execution_count": 47,
   "metadata": {},
   "outputs": [
    {
     "data": {
      "text/plain": [
       "quality                 0.000000\n",
       "residual sugar          0.001229\n",
       "free sulfur dioxide     0.002028\n",
       "alcohol                 0.002101\n",
       "citric acid             0.004635\n",
       "sulphates               0.009987\n",
       "pH                      0.016672\n",
       "volatile acidity        0.018386\n",
       "density                 0.020111\n",
       "fixed acidity           0.041700\n",
       "chlorides               0.208465\n",
       "total sulfur dioxide    0.674687\n",
       "dtype: float64"
      ]
     },
     "execution_count": 47,
     "metadata": {},
     "output_type": "execute_result"
    }
   ],
   "source": [
    "fi_s = pd.Series(fi, index=X.columns)\n",
    "fi_s.sort_values()"
   ]
  },
  {
   "cell_type": "code",
   "execution_count": 48,
   "metadata": {},
   "outputs": [
    {
     "data": {
      "text/plain": [
       "<AxesSubplot:>"
      ]
     },
     "execution_count": 48,
     "metadata": {},
     "output_type": "execute_result"
    },
    {
     "data": {
      "image/png": "[encoded data removed]",
      "text/plain": [
       "<Figure size 576x576 with 1 Axes>"
      ]
     },
     "metadata": {
      "needs_background": "light"
     },
     "output_type": "display_data"
    }
   ],
   "source": [
    "fi_s.sort_values().plot(kind='bar', figsize=(8, 8))"
   ]
  },
  {
   "cell_type": "code",
   "execution_count": null,
   "metadata": {},
   "outputs": [],
   "source": []
  },
  {
   "cell_type": "code",
   "execution_count": 49,
   "metadata": {},
   "outputs": [
    {
     "name": "stdout",
     "output_type": "stream",
     "text": [
      "0.9765258215962441\n",
      "0.9230769230769231\n"
     ]
    }
   ],
   "source": [
    "from sklearn.datasets import load_breast_cancer\n",
    "from sklearn.model_selection import train_test_split\n",
    "from sklearn.tree import DecisionTreeClassifier\n",
    "from sklearn.svm import SVC\n",
    "from sklearn.metrics import accuracy_score\n",
    "\n",
    "cancer = load_breast_cancer()\n",
    "\n",
    "X = cancer.data\n",
    "y = cancer.target\n",
    "X_train, X_test, y_train, y_test = train_test_split(X, y, stratify=y, random_state=157)\n",
    "\n",
    "tree = DecisionTreeClassifier(max_depth=3, random_state=157)\n",
    "tree.fit(X_train, y_train)\n",
    "\n",
    "pred_train = tree.predict(X_train)\n",
    "pred_test = tree.predict(X_test)\n",
    "\n",
    "print(accuracy_score(y_train, pred_train))\n",
    "print(accuracy_score(y_test, pred_test))"
   ]
  },
  {
   "cell_type": "code",
   "execution_count": 50,
   "metadata": {},
   "outputs": [
    {
     "data": {
      "image/svg+xml": "<?xml version=\"1.0\" encoding=\"UTF-8\" standalone=\"no\"?>\n<!DOCTYPE svg PUBLIC \"-//W3C//DTD SVG 1.1//EN\"\n \"http://www.w3.org/Graphics/SVG/1.1/DTD/svg11.dtd\">\n<!-- Generated by graphviz version 2.49.3 (20211023.0002)\n -->\n<!-- Title: Tree Pages: 1 -->\n<svg width=\"950pt\" height=\"373pt\"\n viewBox=\"0.00 0.00 950.00 373.00\" xmlns=\"http://www.w3.org/2000/svg\" xmlns:xlink=\"http://www.w3.org/1999/xlink\">\n<g id=\"graph0\" class=\"graph\" transform=\"scale(1 1) rotate(0) translate(4 369)\">\n<title>Tree</title>\n<polygon fill=\"white\" stroke=\"transparent\" points=\"-4,4 -4,-369 946,-369 946,4 -4,4\"/>\n<!-- 0 -->\n<g id=\"node1\" class=\"node\">\n<title>0</title>\n<path fill=\"#afd7f4\" stroke=\"black\" d=\"M548.5,-365C548.5,-365 388.5,-365 388.5,-365 382.5,-365 376.5,-359 376.5,-353 376.5,-353 376.5,-309 376.5,-309 376.5,-303 382.5,-297 388.5,-297 388.5,-297 548.5,-297 548.5,-297 554.5,-297 560.5,-303 560.5,-309 560.5,-309 560.5,-353 560.5,-353 560.5,-359 554.5,-365 548.5,-365\"/>\n<text text-anchor=\"middle\" x=\"468.5\" y=\"-349.8\" font-family=\"Helvetica,sans-Serif\" font-size=\"14.00\">worst perimeter &lt;= 114.45</text>\n<text text-anchor=\"middle\" x=\"468.5\" y=\"-334.8\" font-family=\"Helvetica,sans-Serif\" font-size=\"14.00\">gini = 0.468</text>\n<text text-anchor=\"middle\" x=\"468.5\" y=\"-319.8\" font-family=\"Helvetica,sans-Serif\" font-size=\"14.00\">samples = 426</text>\n<text text-anchor=\"middle\" x=\"468.5\" y=\"-304.8\" font-family=\"Helvetica,sans-Serif\" font-size=\"14.00\">value = [159, 267]</text>\n</g>\n<!-- 1 -->\n<g id=\"node2\" class=\"node\">\n<title>1</title>\n<path fill=\"#4da7e8\" stroke=\"black\" d=\"M456.5,-261C456.5,-261 270.5,-261 270.5,-261 264.5,-261 258.5,-255 258.5,-249 258.5,-249 258.5,-205 258.5,-205 258.5,-199 264.5,-193 270.5,-193 270.5,-193 456.5,-193 456.5,-193 462.5,-193 468.5,-199 468.5,-205 468.5,-205 468.5,-249 468.5,-249 468.5,-255 462.5,-261 456.5,-261\"/>\n<text text-anchor=\"middle\" x=\"363.5\" y=\"-245.8\" font-family=\"Helvetica,sans-Serif\" font-size=\"14.00\">worst concave points &lt;= 0.146</text>\n<text text-anchor=\"middle\" x=\"363.5\" y=\"-230.8\" font-family=\"Helvetica,sans-Serif\" font-size=\"14.00\">gini = 0.169</text>\n<text text-anchor=\"middle\" x=\"363.5\" y=\"-215.8\" font-family=\"Helvetica,sans-Serif\" font-size=\"14.00\">samples = 290</text>\n<text text-anchor=\"middle\" x=\"363.5\" y=\"-200.8\" font-family=\"Helvetica,sans-Serif\" font-size=\"14.00\">value = [27, 263]</text>\n</g>\n<!-- 0&#45;&gt;1 -->\n<g id=\"edge1\" class=\"edge\">\n<title>0&#45;&gt;1</title>\n<path fill=\"none\" stroke=\"black\" d=\"M434.41,-296.88C425.06,-287.8 414.81,-277.85 405.09,-268.4\"/>\n<polygon fill=\"black\" stroke=\"black\" points=\"407.39,-265.76 397.78,-261.3 402.51,-270.78 407.39,-265.76\"/>\n<text text-anchor=\"middle\" x=\"398.14\" y=\"-282.6\" font-family=\"Helvetica,sans-Serif\" font-size=\"14.00\">True</text>\n</g>\n<!-- 8 -->\n<g id=\"node9\" class=\"node\">\n<title>8</title>\n<path fill=\"#e6853f\" stroke=\"black\" d=\"M648,-261C648,-261 499,-261 499,-261 493,-261 487,-255 487,-249 487,-249 487,-205 487,-205 487,-199 493,-193 499,-193 499,-193 648,-193 648,-193 654,-193 660,-199 660,-205 660,-205 660,-249 660,-249 660,-255 654,-261 648,-261\"/>\n<text text-anchor=\"middle\" x=\"573.5\" y=\"-245.8\" font-family=\"Helvetica,sans-Serif\" font-size=\"14.00\">worst concavity &lt;= 0.191</text>\n<text text-anchor=\"middle\" x=\"573.5\" y=\"-230.8\" font-family=\"Helvetica,sans-Serif\" font-size=\"14.00\">gini = 0.057</text>\n<text text-anchor=\"middle\" x=\"573.5\" y=\"-215.8\" font-family=\"Helvetica,sans-Serif\" font-size=\"14.00\">samples = 136</text>\n<text text-anchor=\"middle\" x=\"573.5\" y=\"-200.8\" font-family=\"Helvetica,sans-Serif\" font-size=\"14.00\">value = [132, 4]</text>\n</g>\n<!-- 0&#45;&gt;8 -->\n<g id=\"edge8\" class=\"edge\">\n<title>0&#45;&gt;8</title>\n<path fill=\"none\" stroke=\"black\" d=\"M502.59,-296.88C511.94,-287.8 522.19,-277.85 531.91,-268.4\"/>\n<polygon fill=\"black\" stroke=\"black\" points=\"534.49,-270.78 539.22,-261.3 529.61,-265.76 534.49,-270.78\"/>\n<text text-anchor=\"middle\" x=\"538.86\" y=\"-282.6\" font-family=\"Helvetica,sans-Serif\" font-size=\"14.00\">False</text>\n</g>\n<!-- 2 -->\n<g id=\"node3\" class=\"node\">\n<title>2</title>\n<path fill=\"#41a1e6\" stroke=\"black\" d=\"M238,-157C238,-157 119,-157 119,-157 113,-157 107,-151 107,-145 107,-145 107,-101 107,-101 107,-95 113,-89 119,-89 119,-89 238,-89 238,-89 244,-89 250,-95 250,-101 250,-101 250,-145 250,-145 250,-151 244,-157 238,-157\"/>\n<text text-anchor=\"middle\" x=\"178.5\" y=\"-141.8\" font-family=\"Helvetica,sans-Serif\" font-size=\"14.00\">worst area &lt;= 952.9</text>\n<text text-anchor=\"middle\" x=\"178.5\" y=\"-126.8\" font-family=\"Helvetica,sans-Serif\" font-size=\"14.00\">gini = 0.072</text>\n<text text-anchor=\"middle\" x=\"178.5\" y=\"-111.8\" font-family=\"Helvetica,sans-Serif\" font-size=\"14.00\">samples = 266</text>\n<text text-anchor=\"middle\" x=\"178.5\" y=\"-96.8\" font-family=\"Helvetica,sans-Serif\" font-size=\"14.00\">value = [10, 256]</text>\n</g>\n<!-- 1&#45;&gt;2 -->\n<g id=\"edge2\" class=\"edge\">\n<title>1&#45;&gt;2</title>\n<path fill=\"none\" stroke=\"black\" d=\"M303.44,-192.88C285.57,-183.04 265.86,-172.17 247.48,-162.03\"/>\n<polygon fill=\"black\" stroke=\"black\" points=\"249.03,-158.89 238.58,-157.12 245.65,-165.02 249.03,-158.89\"/>\n</g>\n<!-- 5 -->\n<g id=\"node6\" class=\"node\">\n<title>5</title>\n<path fill=\"#f0b58b\" stroke=\"black\" d=\"M449,-157C449,-157 280,-157 280,-157 274,-157 268,-151 268,-145 268,-145 268,-101 268,-101 268,-95 274,-89 280,-89 280,-89 449,-89 449,-89 455,-89 461,-95 461,-101 461,-101 461,-145 461,-145 461,-151 455,-157 449,-157\"/>\n<text text-anchor=\"middle\" x=\"364.5\" y=\"-141.8\" font-family=\"Helvetica,sans-Serif\" font-size=\"14.00\">worst smoothness &lt;= 0.149</text>\n<text text-anchor=\"middle\" x=\"364.5\" y=\"-126.8\" font-family=\"Helvetica,sans-Serif\" font-size=\"14.00\">gini = 0.413</text>\n<text text-anchor=\"middle\" x=\"364.5\" y=\"-111.8\" font-family=\"Helvetica,sans-Serif\" font-size=\"14.00\">samples = 24</text>\n<text text-anchor=\"middle\" x=\"364.5\" y=\"-96.8\" font-family=\"Helvetica,sans-Serif\" font-size=\"14.00\">value = [17, 7]</text>\n</g>\n<!-- 1&#45;&gt;5 -->\n<g id=\"edge5\" class=\"edge\">\n<title>1&#45;&gt;5</title>\n<path fill=\"none\" stroke=\"black\" d=\"M363.82,-192.88C363.9,-184.78 363.99,-175.98 364.07,-167.47\"/>\n<polygon fill=\"black\" stroke=\"black\" points=\"367.58,-167.33 364.17,-157.3 360.58,-167.26 367.58,-167.33\"/>\n</g>\n<!-- 3 -->\n<g id=\"node4\" class=\"node\">\n<title>3</title>\n<path fill=\"#3fa0e6\" stroke=\"black\" d=\"M101,-53C101,-53 12,-53 12,-53 6,-53 0,-47 0,-41 0,-41 0,-12 0,-12 0,-6 6,0 12,0 12,0 101,0 101,0 107,0 113,-6 113,-12 113,-12 113,-41 113,-41 113,-47 107,-53 101,-53\"/>\n<text text-anchor=\"middle\" x=\"56.5\" y=\"-37.8\" font-family=\"Helvetica,sans-Serif\" font-size=\"14.00\">gini = 0.059</text>\n<text text-anchor=\"middle\" x=\"56.5\" y=\"-22.8\" font-family=\"Helvetica,sans-Serif\" font-size=\"14.00\">samples = 264</text>\n<text text-anchor=\"middle\" x=\"56.5\" y=\"-7.8\" font-family=\"Helvetica,sans-Serif\" font-size=\"14.00\">value = [8, 256]</text>\n</g>\n<!-- 2&#45;&gt;3 -->\n<g id=\"edge3\" class=\"edge\">\n<title>2&#45;&gt;3</title>\n<path fill=\"none\" stroke=\"black\" d=\"M135.83,-88.95C123.55,-79.43 110.17,-69.07 97.96,-59.62\"/>\n<polygon fill=\"black\" stroke=\"black\" points=\"99.78,-56.59 89.73,-53.24 95.49,-62.13 99.78,-56.59\"/>\n</g>\n<!-- 4 -->\n<g id=\"node5\" class=\"node\">\n<title>4</title>\n<path fill=\"#e58139\" stroke=\"black\" d=\"M216,-53C216,-53 143,-53 143,-53 137,-53 131,-47 131,-41 131,-41 131,-12 131,-12 131,-6 137,0 143,0 143,0 216,0 216,0 222,0 228,-6 228,-12 228,-12 228,-41 228,-41 228,-47 222,-53 216,-53\"/>\n<text text-anchor=\"middle\" x=\"179.5\" y=\"-37.8\" font-family=\"Helvetica,sans-Serif\" font-size=\"14.00\">gini = 0.0</text>\n<text text-anchor=\"middle\" x=\"179.5\" y=\"-22.8\" font-family=\"Helvetica,sans-Serif\" font-size=\"14.00\">samples = 2</text>\n<text text-anchor=\"middle\" x=\"179.5\" y=\"-7.8\" font-family=\"Helvetica,sans-Serif\" font-size=\"14.00\">value = [2, 0]</text>\n</g>\n<!-- 2&#45;&gt;4 -->\n<g id=\"edge4\" class=\"edge\">\n<title>2&#45;&gt;4</title>\n<path fill=\"none\" stroke=\"black\" d=\"M178.85,-88.95C178.94,-80.72 179.03,-71.85 179.12,-63.48\"/>\n<polygon fill=\"black\" stroke=\"black\" points=\"182.62,-63.27 179.23,-53.24 175.62,-63.2 182.62,-63.27\"/>\n</g>\n<!-- 6 -->\n<g id=\"node7\" class=\"node\">\n<title>6</title>\n<path fill=\"#72b9ec\" stroke=\"black\" d=\"M331,-53C331,-53 258,-53 258,-53 252,-53 246,-47 246,-41 246,-41 246,-12 246,-12 246,-6 252,0 258,0 258,0 331,0 331,0 337,0 343,-6 343,-12 343,-12 343,-41 343,-41 343,-47 337,-53 331,-53\"/>\n<text text-anchor=\"middle\" x=\"294.5\" y=\"-37.8\" font-family=\"Helvetica,sans-Serif\" font-size=\"14.00\">gini = 0.346</text>\n<text text-anchor=\"middle\" x=\"294.5\" y=\"-22.8\" font-family=\"Helvetica,sans-Serif\" font-size=\"14.00\">samples = 9</text>\n<text text-anchor=\"middle\" x=\"294.5\" y=\"-7.8\" font-family=\"Helvetica,sans-Serif\" font-size=\"14.00\">value = [2, 7]</text>\n</g>\n<!-- 5&#45;&gt;6 -->\n<g id=\"edge6\" class=\"edge\">\n<title>5&#45;&gt;6</title>\n<path fill=\"none\" stroke=\"black\" d=\"M340.02,-88.95C333.44,-80.07 326.33,-70.46 319.71,-61.54\"/>\n<polygon fill=\"black\" stroke=\"black\" points=\"322.33,-59.19 313.56,-53.24 316.7,-63.36 322.33,-59.19\"/>\n</g>\n<!-- 7 -->\n<g id=\"node8\" class=\"node\">\n<title>7</title>\n<path fill=\"#e58139\" stroke=\"black\" d=\"M454,-53C454,-53 373,-53 373,-53 367,-53 361,-47 361,-41 361,-41 361,-12 361,-12 361,-6 367,0 373,0 373,0 454,0 454,0 460,0 466,-6 466,-12 466,-12 466,-41 466,-41 466,-47 460,-53 454,-53\"/>\n<text text-anchor=\"middle\" x=\"413.5\" y=\"-37.8\" font-family=\"Helvetica,sans-Serif\" font-size=\"14.00\">gini = 0.0</text>\n<text text-anchor=\"middle\" x=\"413.5\" y=\"-22.8\" font-family=\"Helvetica,sans-Serif\" font-size=\"14.00\">samples = 15</text>\n<text text-anchor=\"middle\" x=\"413.5\" y=\"-7.8\" font-family=\"Helvetica,sans-Serif\" font-size=\"14.00\">value = [15, 0]</text>\n</g>\n<!-- 5&#45;&gt;7 -->\n<g id=\"edge7\" class=\"edge\">\n<title>5&#45;&gt;7</title>\n<path fill=\"none\" stroke=\"black\" d=\"M381.64,-88.95C386.1,-80.35 390.91,-71.06 395.42,-62.37\"/>\n<polygon fill=\"black\" stroke=\"black\" points=\"398.66,-63.73 400.16,-53.24 392.44,-60.5 398.66,-63.73\"/>\n</g>\n<!-- 9 -->\n<g id=\"node10\" class=\"node\">\n<title>9</title>\n<path fill=\"#7bbeee\" stroke=\"black\" d=\"M652.5,-157C652.5,-157 492.5,-157 492.5,-157 486.5,-157 480.5,-151 480.5,-145 480.5,-145 480.5,-101 480.5,-101 480.5,-95 486.5,-89 492.5,-89 492.5,-89 652.5,-89 652.5,-89 658.5,-89 664.5,-95 664.5,-101 664.5,-101 664.5,-145 664.5,-145 664.5,-151 658.5,-157 652.5,-157\"/>\n<text text-anchor=\"middle\" x=\"572.5\" y=\"-141.8\" font-family=\"Helvetica,sans-Serif\" font-size=\"14.00\">worst perimeter &lt;= 127.65</text>\n<text text-anchor=\"middle\" x=\"572.5\" y=\"-126.8\" font-family=\"Helvetica,sans-Serif\" font-size=\"14.00\">gini = 0.375</text>\n<text text-anchor=\"middle\" x=\"572.5\" y=\"-111.8\" font-family=\"Helvetica,sans-Serif\" font-size=\"14.00\">samples = 4</text>\n<text text-anchor=\"middle\" x=\"572.5\" y=\"-96.8\" font-family=\"Helvetica,sans-Serif\" font-size=\"14.00\">value = [1, 3]</text>\n</g>\n<!-- 8&#45;&gt;9 -->\n<g id=\"edge9\" class=\"edge\">\n<title>8&#45;&gt;9</title>\n<path fill=\"none\" stroke=\"black\" d=\"M573.18,-192.88C573.1,-184.78 573.01,-175.98 572.93,-167.47\"/>\n<polygon fill=\"black\" stroke=\"black\" points=\"576.42,-167.26 572.83,-157.3 569.42,-167.33 576.42,-167.26\"/>\n</g>\n<!-- 12 -->\n<g id=\"node13\" class=\"node\">\n<title>12</title>\n<path fill=\"#e5823b\" stroke=\"black\" d=\"M832,-157C832,-157 695,-157 695,-157 689,-157 683,-151 683,-145 683,-145 683,-101 683,-101 683,-95 689,-89 695,-89 695,-89 832,-89 832,-89 838,-89 844,-95 844,-101 844,-101 844,-145 844,-145 844,-151 838,-157 832,-157\"/>\n<text text-anchor=\"middle\" x=\"763.5\" y=\"-141.8\" font-family=\"Helvetica,sans-Serif\" font-size=\"14.00\">worst radius &lt;= 15.665</text>\n<text text-anchor=\"middle\" x=\"763.5\" y=\"-126.8\" font-family=\"Helvetica,sans-Serif\" font-size=\"14.00\">gini = 0.015</text>\n<text text-anchor=\"middle\" x=\"763.5\" y=\"-111.8\" font-family=\"Helvetica,sans-Serif\" font-size=\"14.00\">samples = 132</text>\n<text text-anchor=\"middle\" x=\"763.5\" y=\"-96.8\" font-family=\"Helvetica,sans-Serif\" font-size=\"14.00\">value = [131, 1]</text>\n</g>\n<!-- 8&#45;&gt;12 -->\n<g id=\"edge12\" class=\"edge\">\n<title>8&#45;&gt;12</title>\n<path fill=\"none\" stroke=\"black\" d=\"M635.19,-192.88C653.62,-182.99 673.96,-172.07 692.91,-161.9\"/>\n<polygon fill=\"black\" stroke=\"black\" points=\"694.64,-164.94 701.8,-157.12 691.33,-158.77 694.64,-164.94\"/>\n</g>\n<!-- 10 -->\n<g id=\"node11\" class=\"node\">\n<title>10</title>\n<path fill=\"#399de5\" stroke=\"black\" d=\"M569,-53C569,-53 496,-53 496,-53 490,-53 484,-47 484,-41 484,-41 484,-12 484,-12 484,-6 490,0 496,0 496,0 569,0 569,0 575,0 581,-6 581,-12 581,-12 581,-41 581,-41 581,-47 575,-53 569,-53\"/>\n<text text-anchor=\"middle\" x=\"532.5\" y=\"-37.8\" font-family=\"Helvetica,sans-Serif\" font-size=\"14.00\">gini = 0.0</text>\n<text text-anchor=\"middle\" x=\"532.5\" y=\"-22.8\" font-family=\"Helvetica,sans-Serif\" font-size=\"14.00\">samples = 3</text>\n<text text-anchor=\"middle\" x=\"532.5\" y=\"-7.8\" font-family=\"Helvetica,sans-Serif\" font-size=\"14.00\">value = [0, 3]</text>\n</g>\n<!-- 9&#45;&gt;10 -->\n<g id=\"edge10\" class=\"edge\">\n<title>9&#45;&gt;10</title>\n<path fill=\"none\" stroke=\"black\" d=\"M558.51,-88.95C554.91,-80.44 551.02,-71.26 547.38,-62.65\"/>\n<polygon fill=\"black\" stroke=\"black\" points=\"550.52,-61.08 543.39,-53.24 544.07,-63.81 550.52,-61.08\"/>\n</g>\n<!-- 11 -->\n<g id=\"node12\" class=\"node\">\n<title>11</title>\n<path fill=\"#e58139\" stroke=\"black\" d=\"M684,-53C684,-53 611,-53 611,-53 605,-53 599,-47 599,-41 599,-41 599,-12 599,-12 599,-6 605,0 611,0 611,0 684,0 684,0 690,0 696,-6 696,-12 696,-12 696,-41 696,-41 696,-47 690,-53 684,-53\"/>\n<text text-anchor=\"middle\" x=\"647.5\" y=\"-37.8\" font-family=\"Helvetica,sans-Serif\" font-size=\"14.00\">gini = 0.0</text>\n<text text-anchor=\"middle\" x=\"647.5\" y=\"-22.8\" font-family=\"Helvetica,sans-Serif\" font-size=\"14.00\">samples = 1</text>\n<text text-anchor=\"middle\" x=\"647.5\" y=\"-7.8\" font-family=\"Helvetica,sans-Serif\" font-size=\"14.00\">value = [1, 0]</text>\n</g>\n<!-- 9&#45;&gt;11 -->\n<g id=\"edge11\" class=\"edge\">\n<title>9&#45;&gt;11</title>\n<path fill=\"none\" stroke=\"black\" d=\"M598.73,-88.95C605.85,-79.98 613.56,-70.27 620.7,-61.26\"/>\n<polygon fill=\"black\" stroke=\"black\" points=\"623.6,-63.25 627.07,-53.24 618.12,-58.89 623.6,-63.25\"/>\n</g>\n<!-- 13 -->\n<g id=\"node14\" class=\"node\">\n<title>13</title>\n<path fill=\"#399de5\" stroke=\"black\" d=\"M799,-53C799,-53 726,-53 726,-53 720,-53 714,-47 714,-41 714,-41 714,-12 714,-12 714,-6 720,0 726,0 726,0 799,0 799,0 805,0 811,-6 811,-12 811,-12 811,-41 811,-41 811,-47 805,-53 799,-53\"/>\n<text text-anchor=\"middle\" x=\"762.5\" y=\"-37.8\" font-family=\"Helvetica,sans-Serif\" font-size=\"14.00\">gini = 0.0</text>\n<text text-anchor=\"middle\" x=\"762.5\" y=\"-22.8\" font-family=\"Helvetica,sans-Serif\" font-size=\"14.00\">samples = 1</text>\n<text text-anchor=\"middle\" x=\"762.5\" y=\"-7.8\" font-family=\"Helvetica,sans-Serif\" font-size=\"14.00\">value = [0, 1]</text>\n</g>\n<!-- 12&#45;&gt;13 -->\n<g id=\"edge13\" class=\"edge\">\n<title>12&#45;&gt;13</title>\n<path fill=\"none\" stroke=\"black\" d=\"M763.15,-88.95C763.06,-80.72 762.97,-71.85 762.88,-63.48\"/>\n<polygon fill=\"black\" stroke=\"black\" points=\"766.38,-63.2 762.77,-53.24 759.38,-63.27 766.38,-63.2\"/>\n</g>\n<!-- 14 -->\n<g id=\"node15\" class=\"node\">\n<title>14</title>\n<path fill=\"#e58139\" stroke=\"black\" d=\"M930,-53C930,-53 841,-53 841,-53 835,-53 829,-47 829,-41 829,-41 829,-12 829,-12 829,-6 835,0 841,0 841,0 930,0 930,0 936,0 942,-6 942,-12 942,-12 942,-41 942,-41 942,-47 936,-53 930,-53\"/>\n<text text-anchor=\"middle\" x=\"885.5\" y=\"-37.8\" font-family=\"Helvetica,sans-Serif\" font-size=\"14.00\">gini = 0.0</text>\n<text text-anchor=\"middle\" x=\"885.5\" y=\"-22.8\" font-family=\"Helvetica,sans-Serif\" font-size=\"14.00\">samples = 131</text>\n<text text-anchor=\"middle\" x=\"885.5\" y=\"-7.8\" font-family=\"Helvetica,sans-Serif\" font-size=\"14.00\">value = [131, 0]</text>\n</g>\n<!-- 12&#45;&gt;14 -->\n<g id=\"edge14\" class=\"edge\">\n<title>12&#45;&gt;14</title>\n<path fill=\"none\" stroke=\"black\" d=\"M806.17,-88.95C818.45,-79.43 831.83,-69.07 844.04,-59.62\"/>\n<polygon fill=\"black\" stroke=\"black\" points=\"846.51,-62.13 852.27,-53.24 842.22,-56.59 846.51,-62.13\"/>\n</g>\n</g>\n</svg>\n",
      "text/plain": [
       "<graphviz.sources.Source at 0x190dcba6e80>"
      ]
     },
     "execution_count": 50,
     "metadata": {},
     "output_type": "execute_result"
    }
   ],
   "source": [
    "from sklearn.tree import export_graphviz\n",
    "from graphviz import Source\n",
    "graph = Source(export_graphviz(tree, out_file=None, feature_names=cancer.feature_names, rounded=True, filled=True))\n",
    "graph"
   ]
  },
  {
   "cell_type": "code",
   "execution_count": 6,
   "metadata": {},
   "outputs": [
    {
     "data": {
      "text/html": [
       "<div>\n",
       "<style scoped>\n",
       "    .dataframe tbody tr th:only-of-type {\n",
       "        vertical-align: middle;\n",
       "    }\n",
       "\n",
       "    .dataframe tbody tr th {\n",
       "        vertical-align: top;\n",
       "    }\n",
       "\n",
       "    .dataframe thead th {\n",
       "        text-align: right;\n",
       "    }\n",
       "</style>\n",
       "<table border=\"1\" class=\"dataframe\">\n",
       "  <thead>\n",
       "    <tr style=\"text-align: right;\">\n",
       "      <th>dataset</th>\n",
       "      <th>Train acc</th>\n",
       "      <th>Test acc</th>\n",
       "    </tr>\n",
       "    <tr>\n",
       "      <th>max_depth</th>\n",
       "      <th></th>\n",
       "      <th></th>\n",
       "    </tr>\n",
       "  </thead>\n",
       "  <tbody>\n",
       "    <tr>\n",
       "      <th>1</th>\n",
       "      <td>0.927230</td>\n",
       "      <td>0.895105</td>\n",
       "    </tr>\n",
       "    <tr>\n",
       "      <th>2</th>\n",
       "      <td>0.955399</td>\n",
       "      <td>0.923077</td>\n",
       "    </tr>\n",
       "    <tr>\n",
       "      <th>3</th>\n",
       "      <td>0.976526</td>\n",
       "      <td>0.923077</td>\n",
       "    </tr>\n",
       "    <tr>\n",
       "      <th>4</th>\n",
       "      <td>0.981221</td>\n",
       "      <td>0.930070</td>\n",
       "    </tr>\n",
       "    <tr>\n",
       "      <th>5</th>\n",
       "      <td>0.985915</td>\n",
       "      <td>0.923077</td>\n",
       "    </tr>\n",
       "  </tbody>\n",
       "</table>\n",
       "</div>"
      ],
      "text/plain": [
       "dataset    Train acc  Test acc\n",
       "max_depth                     \n",
       "1           0.927230  0.895105\n",
       "2           0.955399  0.923077\n",
       "3           0.976526  0.923077\n",
       "4           0.981221  0.930070\n",
       "5           0.985915  0.923077"
      ]
     },
     "execution_count": 6,
     "metadata": {},
     "output_type": "execute_result"
    }
   ],
   "source": [
    "from sklearn.tree import DecisionTreeClassifier\n",
    "from sklearn.metrics import accuracy_score\n",
    "import pandas as pd\n",
    "\n",
    "max_depth_candidates = range(1, 6)\n",
    "train_acc_list = []\n",
    "test_acc_list = []\n",
    "\n",
    "for depth in max_depth_candidates:\n",
    "    tree = DecisionTreeClassifier(max_depth=depth, random_state=157)\n",
    "    tree.fit(X_train, y_train)\n",
    "\n",
    "    pred_train = tree.predict(X_train)\n",
    "    pred_test = tree.predict(X_test)\n",
    "\n",
    "    train_acc_list.append(accuracy_score(y_train, pred_train))\n",
    "    test_acc_list.append(accuracy_score(y_test, pred_test))\n",
    "\n",
    "result_df = pd.DataFrame({\n",
    "    'Train acc' : train_acc_list,\n",
    "    'Test acc' : test_acc_list\n",
    "}, index=max_depth_candidates)\n",
    "\n",
    "result_df.rename_axis(index='max_depth', columns='dataset', inplace=True)\n",
    "result_df"
   ]
  },
  {
   "cell_type": "code",
   "execution_count": 7,
   "metadata": {},
   "outputs": [
    {
     "data": {
      "image/png": "[encoded data removed]",
      "text/plain": [
       "<Figure size 576x504 with 1 Axes>"
      ]
     },
     "metadata": {
      "needs_background": "light"
     },
     "output_type": "display_data"
    }
   ],
   "source": [
    "import matplotlib.pyplot as plt\n",
    "\n",
    "result_df.plot(figsize=(8, 7))\n",
    "plt.xticks(range(1, 6))\n",
    "plt.show()"
   ]
  },
  {
   "cell_type": "code",
   "execution_count": 11,
   "metadata": {},
   "outputs": [],
   "source": [
    "from sklearn.datasets import load_breast_cancer\n",
    "from sklearn.model_selection import train_test_split\n",
    "from sklearn.model_selection import GridSearchCV\n",
    "from sklearn.tree import DecisionTreeClassifier\n",
    "\n",
    "cancer = load_breast_cancer()\n",
    "X = cancer.data\n",
    "y = cancer.target\n",
    "X_train, X_test, y_train, y_test = train_test_split(X, y, stratify=y, random_state=0)\n",
    "tree = DecisionTreeClassifier(random_state=157)\n",
    "\n",
    "param_grid = {'max_depth':[None, 1, 2, 3, 4, 5],\n",
    "                'max_leaf_nodes': [3, 5, 7, 9]}\n",
    "\n",
    "grid_search = GridSearchCV(tree, param_grid=param_grid, scoring='accuracy', cv=5, n_jobs=-1)"
   ]
  },
  {
   "cell_type": "code",
   "execution_count": 12,
   "metadata": {},
   "outputs": [
    {
     "data": {
      "text/plain": [
       "GridSearchCV(cv=5, estimator=DecisionTreeClassifier(random_state=157),\n",
       "             n_jobs=-1,\n",
       "             param_grid={'max_depth': [None, 1, 2, 3, 4, 5],\n",
       "                         'max_leaf_nodes': [3, 5, 7, 9]},\n",
       "             scoring='accuracy')"
      ]
     },
     "execution_count": 12,
     "metadata": {},
     "output_type": "execute_result"
    }
   ],
   "source": [
    "grid_search.fit(X_train, y_train)"
   ]
  },
  {
   "cell_type": "code",
   "execution_count": 13,
   "metadata": {},
   "outputs": [
    {
     "data": {
      "text/plain": [
       "{'mean_fit_time': array([0.00279288, 0.00598392, 0.0047873 , 0.00418887, 0.00179543,\n",
       "        0.00179501, 0.00139675, 0.00159588, 0.00199451, 0.0021944 ,\n",
       "        0.0025939 , 0.0021934 , 0.00199451, 0.0025929 , 0.00299201,\n",
       "        0.00259314, 0.00199494, 0.00259256, 0.00259304, 0.00279284,\n",
       "        0.00199485, 0.0021944 , 0.00279298, 0.0025929 ]),\n",
       " 'std_fit_time': array([3.99017334e-04, 4.50405149e-03, 3.99280374e-04, 3.99542125e-04,\n",
       "        3.98588822e-04, 3.98850680e-04, 4.90096414e-04, 4.88831877e-04,\n",
       "        2.43140197e-07, 3.99112844e-04, 4.88830901e-04, 3.99137408e-04,\n",
       "        1.90734863e-07, 4.88791920e-04, 5.35248383e-07, 4.88598020e-04,\n",
       "        6.67572021e-07, 4.88324764e-04, 4.88324904e-04, 3.98635893e-04,\n",
       "        6.21719590e-07, 3.99351191e-04, 3.98826656e-04, 4.88694596e-04]),\n",
       " 'mean_score_time': array([0.0011972 , 0.00239353, 0.00059834, 0.00039892, 0.00019937,\n",
       "        0.00039902, 0.00079732, 0.00039868, 0.00059848, 0.00019989,\n",
       "        0.        , 0.00019937, 0.0001996 , 0.        , 0.        ,\n",
       "        0.00019946, 0.00039854, 0.        , 0.00039883, 0.00019951,\n",
       "        0.00059829, 0.0007978 , 0.        , 0.00039892]),\n",
       " 'std_score_time': array([0.00146626, 0.00381625, 0.00048854, 0.00048858, 0.00039873,\n",
       "        0.00048869, 0.00039866, 0.00048829, 0.00048866, 0.00039978,\n",
       "        0.        , 0.00039873, 0.00039921, 0.        , 0.        ,\n",
       "        0.00039892, 0.00048811, 0.        , 0.00048846, 0.00039902,\n",
       "        0.0004885 , 0.0003989 , 0.        , 0.00048858]),\n",
       " 'param_max_depth': masked_array(data=[None, None, None, None, 1, 1, 1, 1, 2, 2, 2, 2, 3, 3,\n",
       "                    3, 3, 4, 4, 4, 4, 5, 5, 5, 5],\n",
       "              mask=[False, False, False, False, False, False, False, False,\n",
       "                    False, False, False, False, False, False, False, False,\n",
       "                    False, False, False, False, False, False, False, False],\n",
       "        fill_value='?',\n",
       "             dtype=object),\n",
       " 'param_max_leaf_nodes': masked_array(data=[3, 5, 7, 9, 3, 5, 7, 9, 3, 5, 7, 9, 3, 5, 7, 9, 3, 5,\n",
       "                    7, 9, 3, 5, 7, 9],\n",
       "              mask=[False, False, False, False, False, False, False, False,\n",
       "                    False, False, False, False, False, False, False, False,\n",
       "                    False, False, False, False, False, False, False, False],\n",
       "        fill_value='?',\n",
       "             dtype=object),\n",
       " 'params': [{'max_depth': None, 'max_leaf_nodes': 3},\n",
       "  {'max_depth': None, 'max_leaf_nodes': 5},\n",
       "  {'max_depth': None, 'max_leaf_nodes': 7},\n",
       "  {'max_depth': None, 'max_leaf_nodes': 9},\n",
       "  {'max_depth': 1, 'max_leaf_nodes': 3},\n",
       "  {'max_depth': 1, 'max_leaf_nodes': 5},\n",
       "  {'max_depth': 1, 'max_leaf_nodes': 7},\n",
       "  {'max_depth': 1, 'max_leaf_nodes': 9},\n",
       "  {'max_depth': 2, 'max_leaf_nodes': 3},\n",
       "  {'max_depth': 2, 'max_leaf_nodes': 5},\n",
       "  {'max_depth': 2, 'max_leaf_nodes': 7},\n",
       "  {'max_depth': 2, 'max_leaf_nodes': 9},\n",
       "  {'max_depth': 3, 'max_leaf_nodes': 3},\n",
       "  {'max_depth': 3, 'max_leaf_nodes': 5},\n",
       "  {'max_depth': 3, 'max_leaf_nodes': 7},\n",
       "  {'max_depth': 3, 'max_leaf_nodes': 9},\n",
       "  {'max_depth': 4, 'max_leaf_nodes': 3},\n",
       "  {'max_depth': 4, 'max_leaf_nodes': 5},\n",
       "  {'max_depth': 4, 'max_leaf_nodes': 7},\n",
       "  {'max_depth': 4, 'max_leaf_nodes': 9},\n",
       "  {'max_depth': 5, 'max_leaf_nodes': 3},\n",
       "  {'max_depth': 5, 'max_leaf_nodes': 5},\n",
       "  {'max_depth': 5, 'max_leaf_nodes': 7},\n",
       "  {'max_depth': 5, 'max_leaf_nodes': 9}],\n",
       " 'split0_test_score': array([0.91860465, 0.94186047, 0.94186047, 0.94186047, 0.86046512,\n",
       "        0.86046512, 0.86046512, 0.86046512, 0.91860465, 0.93023256,\n",
       "        0.93023256, 0.93023256, 0.91860465, 0.94186047, 0.94186047,\n",
       "        0.94186047, 0.91860465, 0.94186047, 0.94186047, 0.93023256,\n",
       "        0.91860465, 0.94186047, 0.94186047, 0.94186047]),\n",
       " 'split1_test_score': array([0.92941176, 0.96470588, 0.97647059, 0.97647059, 0.92941176,\n",
       "        0.92941176, 0.92941176, 0.92941176, 0.92941176, 0.94117647,\n",
       "        0.94117647, 0.94117647, 0.92941176, 0.96470588, 0.96470588,\n",
       "        0.96470588, 0.92941176, 0.96470588, 0.97647059, 0.96470588,\n",
       "        0.92941176, 0.96470588, 0.97647059, 0.97647059]),\n",
       " 'split2_test_score': array([0.87058824, 0.90588235, 0.89411765, 0.88235294, 0.88235294,\n",
       "        0.88235294, 0.88235294, 0.88235294, 0.87058824, 0.89411765,\n",
       "        0.89411765, 0.89411765, 0.87058824, 0.90588235, 0.89411765,\n",
       "        0.89411765, 0.87058824, 0.90588235, 0.89411765, 0.88235294,\n",
       "        0.87058824, 0.90588235, 0.89411765, 0.88235294]),\n",
       " 'split3_test_score': array([0.91764706, 0.92941176, 0.91764706, 0.90588235, 0.89411765,\n",
       "        0.89411765, 0.89411765, 0.89411765, 0.91764706, 0.92941176,\n",
       "        0.92941176, 0.92941176, 0.91764706, 0.92941176, 0.89411765,\n",
       "        0.88235294, 0.91764706, 0.92941176, 0.91764706, 0.90588235,\n",
       "        0.91764706, 0.92941176, 0.91764706, 0.90588235]),\n",
       " 'split4_test_score': array([0.95294118, 0.96470588, 0.96470588, 0.95294118, 0.91764706,\n",
       "        0.91764706, 0.91764706, 0.91764706, 0.95294118, 0.96470588,\n",
       "        0.96470588, 0.96470588, 0.95294118, 0.96470588, 0.96470588,\n",
       "        0.95294118, 0.95294118, 0.96470588, 0.96470588, 0.95294118,\n",
       "        0.95294118, 0.96470588, 0.96470588, 0.95294118]),\n",
       " 'mean_test_score': array([0.91783858, 0.94131327, 0.93896033, 0.9319015 , 0.89679891,\n",
       "        0.89679891, 0.89679891, 0.89679891, 0.91783858, 0.93192886,\n",
       "        0.93192886, 0.93192886, 0.91783858, 0.94131327, 0.9319015 ,\n",
       "        0.92719562, 0.91783858, 0.94131327, 0.93896033, 0.92722298,\n",
       "        0.91783858, 0.94131327, 0.93896033, 0.9319015 ]),\n",
       " 'std_test_score': array([0.02683039, 0.02232364, 0.03014427, 0.03364612, 0.02463438,\n",
       "        0.02463438, 0.02463438, 0.02463438, 0.02683039, 0.02279804,\n",
       "        0.02279804, 0.02279804, 0.02683039, 0.02232364, 0.03195833,\n",
       "        0.03283269, 0.02683039, 0.02232364, 0.03014427, 0.03014695,\n",
       "        0.02683039, 0.02232364, 0.03014427, 0.03364612]),\n",
       " 'rank_test_score': array([16,  1,  5, 11, 21, 21, 21, 21, 16,  8,  8,  8, 16,  1, 11, 15, 16,\n",
       "         1,  5, 14, 16,  1,  5, 11])}"
      ]
     },
     "execution_count": 13,
     "metadata": {},
     "output_type": "execute_result"
    }
   ],
   "source": [
    "grid_search.cv_results_"
   ]
  },
  {
   "cell_type": "code",
   "execution_count": 14,
   "metadata": {},
   "outputs": [
    {
     "data": {
      "text/plain": [
       "Index(['mean_fit_time', 'std_fit_time', 'mean_score_time', 'std_score_time',\n",
       "       'param_max_depth', 'param_max_leaf_nodes', 'params',\n",
       "       'split0_test_score', 'split1_test_score', 'split2_test_score',\n",
       "       'split3_test_score', 'split4_test_score', 'mean_test_score',\n",
       "       'std_test_score', 'rank_test_score'],\n",
       "      dtype='object')"
      ]
     },
     "execution_count": 14,
     "metadata": {},
     "output_type": "execute_result"
    }
   ],
   "source": [
    "import pandas as pd\n",
    "df = pd.DataFrame(grid_search.cv_results_)\n",
    "df.columns"
   ]
  },
  {
   "cell_type": "code",
   "execution_count": 15,
   "metadata": {},
   "outputs": [
    {
     "data": {
      "text/html": [
       "<div>\n",
       "<style scoped>\n",
       "    .dataframe tbody tr th:only-of-type {\n",
       "        vertical-align: middle;\n",
       "    }\n",
       "\n",
       "    .dataframe tbody tr th {\n",
       "        vertical-align: top;\n",
       "    }\n",
       "\n",
       "    .dataframe thead th {\n",
       "        text-align: right;\n",
       "    }\n",
       "</style>\n",
       "<table border=\"1\" class=\"dataframe\">\n",
       "  <thead>\n",
       "    <tr style=\"text-align: right;\">\n",
       "      <th></th>\n",
       "      <th>params</th>\n",
       "      <th>split0_test_score</th>\n",
       "      <th>split1_test_score</th>\n",
       "      <th>split2_test_score</th>\n",
       "      <th>split3_test_score</th>\n",
       "      <th>split4_test_score</th>\n",
       "      <th>mean_test_score</th>\n",
       "      <th>std_test_score</th>\n",
       "      <th>rank_test_score</th>\n",
       "    </tr>\n",
       "  </thead>\n",
       "  <tbody>\n",
       "    <tr>\n",
       "      <th>1</th>\n",
       "      <td>{'max_depth': None, 'max_leaf_nodes': 5}</td>\n",
       "      <td>0.94186</td>\n",
       "      <td>0.964706</td>\n",
       "      <td>0.905882</td>\n",
       "      <td>0.929412</td>\n",
       "      <td>0.964706</td>\n",
       "      <td>0.941313</td>\n",
       "      <td>0.022324</td>\n",
       "      <td>1</td>\n",
       "    </tr>\n",
       "    <tr>\n",
       "      <th>21</th>\n",
       "      <td>{'max_depth': 5, 'max_leaf_nodes': 5}</td>\n",
       "      <td>0.94186</td>\n",
       "      <td>0.964706</td>\n",
       "      <td>0.905882</td>\n",
       "      <td>0.929412</td>\n",
       "      <td>0.964706</td>\n",
       "      <td>0.941313</td>\n",
       "      <td>0.022324</td>\n",
       "      <td>1</td>\n",
       "    </tr>\n",
       "    <tr>\n",
       "      <th>17</th>\n",
       "      <td>{'max_depth': 4, 'max_leaf_nodes': 5}</td>\n",
       "      <td>0.94186</td>\n",
       "      <td>0.964706</td>\n",
       "      <td>0.905882</td>\n",
       "      <td>0.929412</td>\n",
       "      <td>0.964706</td>\n",
       "      <td>0.941313</td>\n",
       "      <td>0.022324</td>\n",
       "      <td>1</td>\n",
       "    </tr>\n",
       "    <tr>\n",
       "      <th>13</th>\n",
       "      <td>{'max_depth': 3, 'max_leaf_nodes': 5}</td>\n",
       "      <td>0.94186</td>\n",
       "      <td>0.964706</td>\n",
       "      <td>0.905882</td>\n",
       "      <td>0.929412</td>\n",
       "      <td>0.964706</td>\n",
       "      <td>0.941313</td>\n",
       "      <td>0.022324</td>\n",
       "      <td>1</td>\n",
       "    </tr>\n",
       "    <tr>\n",
       "      <th>2</th>\n",
       "      <td>{'max_depth': None, 'max_leaf_nodes': 7}</td>\n",
       "      <td>0.94186</td>\n",
       "      <td>0.976471</td>\n",
       "      <td>0.894118</td>\n",
       "      <td>0.917647</td>\n",
       "      <td>0.964706</td>\n",
       "      <td>0.938960</td>\n",
       "      <td>0.030144</td>\n",
       "      <td>5</td>\n",
       "    </tr>\n",
       "  </tbody>\n",
       "</table>\n",
       "</div>"
      ],
      "text/plain": [
       "                                      params  split0_test_score  \\\n",
       "1   {'max_depth': None, 'max_leaf_nodes': 5}            0.94186   \n",
       "21     {'max_depth': 5, 'max_leaf_nodes': 5}            0.94186   \n",
       "17     {'max_depth': 4, 'max_leaf_nodes': 5}            0.94186   \n",
       "13     {'max_depth': 3, 'max_leaf_nodes': 5}            0.94186   \n",
       "2   {'max_depth': None, 'max_leaf_nodes': 7}            0.94186   \n",
       "\n",
       "    split1_test_score  split2_test_score  split3_test_score  \\\n",
       "1            0.964706           0.905882           0.929412   \n",
       "21           0.964706           0.905882           0.929412   \n",
       "17           0.964706           0.905882           0.929412   \n",
       "13           0.964706           0.905882           0.929412   \n",
       "2            0.976471           0.894118           0.917647   \n",
       "\n",
       "    split4_test_score  mean_test_score  std_test_score  rank_test_score  \n",
       "1            0.964706         0.941313        0.022324                1  \n",
       "21           0.964706         0.941313        0.022324                1  \n",
       "17           0.964706         0.941313        0.022324                1  \n",
       "13           0.964706         0.941313        0.022324                1  \n",
       "2            0.964706         0.938960        0.030144                5  "
      ]
     },
     "execution_count": 15,
     "metadata": {},
     "output_type": "execute_result"
    }
   ],
   "source": [
    "df[df.columns[6:]].sort_values('rank_test_score').head()"
   ]
  },
  {
   "cell_type": "code",
   "execution_count": 16,
   "metadata": {},
   "outputs": [
    {
     "name": "stdout",
     "output_type": "stream",
     "text": [
      "가장 좋은 평가점수:  0.941313269493844\n",
      "가장 좋은 파라미터 조합: {'max_depth': None, 'max_leaf_nodes': 5}\n"
     ]
    }
   ],
   "source": [
    "print(\"가장 좋은 평가점수: \", grid_search.best_score_)\n",
    "print(\"가장 좋은 파라미터 조합:\", grid_search.best_params_)"
   ]
  },
  {
   "cell_type": "code",
   "execution_count": 17,
   "metadata": {},
   "outputs": [
    {
     "data": {
      "text/plain": [
       "DecisionTreeClassifier(max_leaf_nodes=5, random_state=157)"
      ]
     },
     "execution_count": 17,
     "metadata": {},
     "output_type": "execute_result"
    }
   ],
   "source": [
    "best_model = grid_search.best_estimator_\n",
    "best_model"
   ]
  },
  {
   "cell_type": "code",
   "execution_count": 18,
   "metadata": {},
   "outputs": [
    {
     "data": {
      "text/plain": [
       "0.9020979020979021"
      ]
     },
     "execution_count": 18,
     "metadata": {},
     "output_type": "execute_result"
    }
   ],
   "source": [
    "from sklearn.metrics import accuracy_score\n",
    "accuracy_score(y_test, best_model.predict(X_test))"
   ]
  },
  {
   "cell_type": "code",
   "execution_count": 19,
   "metadata": {},
   "outputs": [],
   "source": [
    "tree = DecisionTreeClassifier(random_state=0)\n",
    "param_grid = {'max_depth':[None, 1, 2, 3, 4, 5],\n",
    "              'max_leaf_nodes':[3,5,7,9]\n",
    "             }\n",
    "grid_search = GridSearchCV(tree, \n",
    "                           param_grid=param_grid,\n",
    "                           scoring=['accuracy', 'recall', 'precision','roc_auc', 'f1'], \n",
    "                           refit='accuracy',\n",
    "                           cv=5, \n",
    "                           n_jobs=-1)\n",
    "# refit : best parameter를 선택할 평가지표 설정\n",
    "#       여기서 지정한 평가지표가 가장 좋은 파라미터로 모델을 재학습"
   ]
  },
  {
   "cell_type": "code",
   "execution_count": 20,
   "metadata": {},
   "outputs": [
    {
     "data": {
      "text/plain": [
       "GridSearchCV(cv=5, estimator=DecisionTreeClassifier(random_state=0), n_jobs=-1,\n",
       "             param_grid={'max_depth': [None, 1, 2, 3, 4, 5],\n",
       "                         'max_leaf_nodes': [3, 5, 7, 9]},\n",
       "             refit='accuracy',\n",
       "             scoring=['accuracy', 'recall', 'precision', 'roc_auc', 'f1'])"
      ]
     },
     "execution_count": 20,
     "metadata": {},
     "output_type": "execute_result"
    }
   ],
   "source": [
    "grid_search.fit(X_train,y_train)"
   ]
  },
  {
   "cell_type": "code",
   "execution_count": 21,
   "metadata": {},
   "outputs": [
    {
     "data": {
      "text/plain": [
       "Index(['mean_fit_time', 'std_fit_time', 'mean_score_time', 'std_score_time',\n",
       "       'param_max_depth', 'param_max_leaf_nodes', 'params',\n",
       "       'split0_test_accuracy', 'split1_test_accuracy', 'split2_test_accuracy',\n",
       "       'split3_test_accuracy', 'split4_test_accuracy', 'mean_test_accuracy',\n",
       "       'std_test_accuracy', 'rank_test_accuracy', 'split0_test_recall',\n",
       "       'split1_test_recall', 'split2_test_recall', 'split3_test_recall',\n",
       "       'split4_test_recall', 'mean_test_recall', 'std_test_recall',\n",
       "       'rank_test_recall', 'split0_test_precision', 'split1_test_precision',\n",
       "       'split2_test_precision', 'split3_test_precision',\n",
       "       'split4_test_precision', 'mean_test_precision', 'std_test_precision',\n",
       "       'rank_test_precision', 'split0_test_roc_auc', 'split1_test_roc_auc',\n",
       "       'split2_test_roc_auc', 'split3_test_roc_auc', 'split4_test_roc_auc',\n",
       "       'mean_test_roc_auc', 'std_test_roc_auc', 'rank_test_roc_auc',\n",
       "       'split0_test_f1', 'split1_test_f1', 'split2_test_f1', 'split3_test_f1',\n",
       "       'split4_test_f1', 'mean_test_f1', 'std_test_f1', 'rank_test_f1'],\n",
       "      dtype='object')"
      ]
     },
     "execution_count": 21,
     "metadata": {},
     "output_type": "execute_result"
    }
   ],
   "source": [
    "df2 = pd.DataFrame(grid_search.cv_results_)\n",
    "df2.columns"
   ]
  },
  {
   "cell_type": "code",
   "execution_count": 22,
   "metadata": {},
   "outputs": [
    {
     "data": {
      "text/html": [
       "<div>\n",
       "<style scoped>\n",
       "    .dataframe tbody tr th:only-of-type {\n",
       "        vertical-align: middle;\n",
       "    }\n",
       "\n",
       "    .dataframe tbody tr th {\n",
       "        vertical-align: top;\n",
       "    }\n",
       "\n",
       "    .dataframe thead th {\n",
       "        text-align: right;\n",
       "    }\n",
       "</style>\n",
       "<table border=\"1\" class=\"dataframe\">\n",
       "  <thead>\n",
       "    <tr style=\"text-align: right;\">\n",
       "      <th></th>\n",
       "      <th>params</th>\n",
       "      <th>split0_test_accuracy</th>\n",
       "      <th>split1_test_accuracy</th>\n",
       "      <th>split2_test_accuracy</th>\n",
       "      <th>split3_test_accuracy</th>\n",
       "      <th>split4_test_accuracy</th>\n",
       "      <th>mean_test_accuracy</th>\n",
       "      <th>std_test_accuracy</th>\n",
       "      <th>rank_test_accuracy</th>\n",
       "      <th>split0_test_recall</th>\n",
       "      <th>...</th>\n",
       "      <th>std_test_roc_auc</th>\n",
       "      <th>rank_test_roc_auc</th>\n",
       "      <th>split0_test_f1</th>\n",
       "      <th>split1_test_f1</th>\n",
       "      <th>split2_test_f1</th>\n",
       "      <th>split3_test_f1</th>\n",
       "      <th>split4_test_f1</th>\n",
       "      <th>mean_test_f1</th>\n",
       "      <th>std_test_f1</th>\n",
       "      <th>rank_test_f1</th>\n",
       "    </tr>\n",
       "  </thead>\n",
       "  <tbody>\n",
       "    <tr>\n",
       "      <th>2</th>\n",
       "      <td>{'max_depth': None, 'max_leaf_nodes': 7}</td>\n",
       "      <td>0.94186</td>\n",
       "      <td>0.976471</td>\n",
       "      <td>0.894118</td>\n",
       "      <td>0.941176</td>\n",
       "      <td>0.964706</td>\n",
       "      <td>0.943666</td>\n",
       "      <td>0.028225</td>\n",
       "      <td>1</td>\n",
       "      <td>0.962963</td>\n",
       "      <td>...</td>\n",
       "      <td>0.034893</td>\n",
       "      <td>4</td>\n",
       "      <td>0.954128</td>\n",
       "      <td>0.981481</td>\n",
       "      <td>0.915888</td>\n",
       "      <td>0.953271</td>\n",
       "      <td>0.971429</td>\n",
       "      <td>0.955239</td>\n",
       "      <td>0.022380</td>\n",
       "      <td>1</td>\n",
       "    </tr>\n",
       "    <tr>\n",
       "      <th>18</th>\n",
       "      <td>{'max_depth': 4, 'max_leaf_nodes': 7}</td>\n",
       "      <td>0.94186</td>\n",
       "      <td>0.976471</td>\n",
       "      <td>0.894118</td>\n",
       "      <td>0.941176</td>\n",
       "      <td>0.964706</td>\n",
       "      <td>0.943666</td>\n",
       "      <td>0.028225</td>\n",
       "      <td>1</td>\n",
       "      <td>0.962963</td>\n",
       "      <td>...</td>\n",
       "      <td>0.034893</td>\n",
       "      <td>4</td>\n",
       "      <td>0.954128</td>\n",
       "      <td>0.981481</td>\n",
       "      <td>0.915888</td>\n",
       "      <td>0.953271</td>\n",
       "      <td>0.971429</td>\n",
       "      <td>0.955239</td>\n",
       "      <td>0.022380</td>\n",
       "      <td>1</td>\n",
       "    </tr>\n",
       "    <tr>\n",
       "      <th>22</th>\n",
       "      <td>{'max_depth': 5, 'max_leaf_nodes': 7}</td>\n",
       "      <td>0.94186</td>\n",
       "      <td>0.976471</td>\n",
       "      <td>0.894118</td>\n",
       "      <td>0.941176</td>\n",
       "      <td>0.964706</td>\n",
       "      <td>0.943666</td>\n",
       "      <td>0.028225</td>\n",
       "      <td>1</td>\n",
       "      <td>0.962963</td>\n",
       "      <td>...</td>\n",
       "      <td>0.034893</td>\n",
       "      <td>4</td>\n",
       "      <td>0.954128</td>\n",
       "      <td>0.981481</td>\n",
       "      <td>0.915888</td>\n",
       "      <td>0.953271</td>\n",
       "      <td>0.971429</td>\n",
       "      <td>0.955239</td>\n",
       "      <td>0.022380</td>\n",
       "      <td>1</td>\n",
       "    </tr>\n",
       "    <tr>\n",
       "      <th>23</th>\n",
       "      <td>{'max_depth': 5, 'max_leaf_nodes': 9}</td>\n",
       "      <td>0.94186</td>\n",
       "      <td>0.976471</td>\n",
       "      <td>0.882353</td>\n",
       "      <td>0.929412</td>\n",
       "      <td>0.952941</td>\n",
       "      <td>0.936607</td>\n",
       "      <td>0.031237</td>\n",
       "      <td>4</td>\n",
       "      <td>0.962963</td>\n",
       "      <td>...</td>\n",
       "      <td>0.043003</td>\n",
       "      <td>19</td>\n",
       "      <td>0.954128</td>\n",
       "      <td>0.981481</td>\n",
       "      <td>0.907407</td>\n",
       "      <td>0.943396</td>\n",
       "      <td>0.961538</td>\n",
       "      <td>0.949590</td>\n",
       "      <td>0.024487</td>\n",
       "      <td>4</td>\n",
       "    </tr>\n",
       "    <tr>\n",
       "      <th>1</th>\n",
       "      <td>{'max_depth': None, 'max_leaf_nodes': 5}</td>\n",
       "      <td>0.94186</td>\n",
       "      <td>0.964706</td>\n",
       "      <td>0.905882</td>\n",
       "      <td>0.929412</td>\n",
       "      <td>0.941176</td>\n",
       "      <td>0.936607</td>\n",
       "      <td>0.019151</td>\n",
       "      <td>4</td>\n",
       "      <td>0.962963</td>\n",
       "      <td>...</td>\n",
       "      <td>0.024735</td>\n",
       "      <td>9</td>\n",
       "      <td>0.954128</td>\n",
       "      <td>0.971963</td>\n",
       "      <td>0.924528</td>\n",
       "      <td>0.943396</td>\n",
       "      <td>0.953271</td>\n",
       "      <td>0.949457</td>\n",
       "      <td>0.015499</td>\n",
       "      <td>6</td>\n",
       "    </tr>\n",
       "  </tbody>\n",
       "</table>\n",
       "<p>5 rows × 41 columns</p>\n",
       "</div>"
      ],
      "text/plain": [
       "                                      params  split0_test_accuracy  \\\n",
       "2   {'max_depth': None, 'max_leaf_nodes': 7}               0.94186   \n",
       "18     {'max_depth': 4, 'max_leaf_nodes': 7}               0.94186   \n",
       "22     {'max_depth': 5, 'max_leaf_nodes': 7}               0.94186   \n",
       "23     {'max_depth': 5, 'max_leaf_nodes': 9}               0.94186   \n",
       "1   {'max_depth': None, 'max_leaf_nodes': 5}               0.94186   \n",
       "\n",
       "    split1_test_accuracy  split2_test_accuracy  split3_test_accuracy  \\\n",
       "2               0.976471              0.894118              0.941176   \n",
       "18              0.976471              0.894118              0.941176   \n",
       "22              0.976471              0.894118              0.941176   \n",
       "23              0.976471              0.882353              0.929412   \n",
       "1               0.964706              0.905882              0.929412   \n",
       "\n",
       "    split4_test_accuracy  mean_test_accuracy  std_test_accuracy  \\\n",
       "2               0.964706            0.943666           0.028225   \n",
       "18              0.964706            0.943666           0.028225   \n",
       "22              0.964706            0.943666           0.028225   \n",
       "23              0.952941            0.936607           0.031237   \n",
       "1               0.941176            0.936607           0.019151   \n",
       "\n",
       "    rank_test_accuracy  split0_test_recall  ...  std_test_roc_auc  \\\n",
       "2                    1            0.962963  ...          0.034893   \n",
       "18                   1            0.962963  ...          0.034893   \n",
       "22                   1            0.962963  ...          0.034893   \n",
       "23                   4            0.962963  ...          0.043003   \n",
       "1                    4            0.962963  ...          0.024735   \n",
       "\n",
       "    rank_test_roc_auc  split0_test_f1  split1_test_f1  split2_test_f1  \\\n",
       "2                   4        0.954128        0.981481        0.915888   \n",
       "18                  4        0.954128        0.981481        0.915888   \n",
       "22                  4        0.954128        0.981481        0.915888   \n",
       "23                 19        0.954128        0.981481        0.907407   \n",
       "1                   9        0.954128        0.971963        0.924528   \n",
       "\n",
       "    split3_test_f1  split4_test_f1  mean_test_f1  std_test_f1  rank_test_f1  \n",
       "2         0.953271        0.971429      0.955239     0.022380             1  \n",
       "18        0.953271        0.971429      0.955239     0.022380             1  \n",
       "22        0.953271        0.971429      0.955239     0.022380             1  \n",
       "23        0.943396        0.961538      0.949590     0.024487             4  \n",
       "1         0.943396        0.953271      0.949457     0.015499             6  \n",
       "\n",
       "[5 rows x 41 columns]"
      ]
     },
     "execution_count": 22,
     "metadata": {},
     "output_type": "execute_result"
    }
   ],
   "source": [
    "df2[df2.columns[6:]].sort_values('rank_test_accuracy').head()"
   ]
  },
  {
   "cell_type": "code",
   "execution_count": 23,
   "metadata": {},
   "outputs": [
    {
     "data": {
      "text/plain": [
       "(0.9436662106703146, {'max_depth': None, 'max_leaf_nodes': 7})"
      ]
     },
     "execution_count": 23,
     "metadata": {},
     "output_type": "execute_result"
    }
   ],
   "source": [
    "grid_search.best_score_, grid_search.best_params_"
   ]
  },
  {
   "cell_type": "code",
   "execution_count": 24,
   "metadata": {},
   "outputs": [
    {
     "data": {
      "text/plain": [
       "0.9370629370629371"
      ]
     },
     "execution_count": 24,
     "metadata": {},
     "output_type": "execute_result"
    }
   ],
   "source": [
    "# refit 평가지표가 가장 좋은 파라미터로 재학습한 모델\n",
    "best_model = grid_search.best_estimator_\n",
    "accuracy_score(y_test, best_model.predict(X_test))"
   ]
  },
  {
   "cell_type": "code",
   "execution_count": null,
   "metadata": {},
   "outputs": [],
   "source": []
  },
  {
   "cell_type": "code",
   "execution_count": null,
   "metadata": {},
   "outputs": [],
   "source": []
  },
  {
   "cell_type": "code",
   "execution_count": null,
   "metadata": {},
   "outputs": [],
   "source": []
  },
  {
   "cell_type": "code",
   "execution_count": null,
   "metadata": {},
   "outputs": [],
   "source": []
  },
  {
   "cell_type": "code",
   "execution_count": null,
   "metadata": {},
   "outputs": [],
   "source": []
  },
  {
   "cell_type": "code",
   "execution_count": null,
   "metadata": {},
   "outputs": [],
   "source": []
  },
  {
   "cell_type": "code",
   "execution_count": null,
   "metadata": {},
   "outputs": [],
   "source": []
  },
  {
   "cell_type": "code",
   "execution_count": 1,
   "metadata": {},
   "outputs": [],
   "source": [
    "import numpy as np\n",
    "import matplotlib.pyplot as plt\n",
    "\n",
    "from sklearn.datasets import load_digits\n",
    "\n",
    "digits = load_digits() # 8*8 = 64 pixel => flatten data로 제공\n",
    "digits.keys()\n",
    "\n",
    "X = digits.data\n",
    "y = digits.target\n",
    "\n",
    "y = np.where(y==9, 1, 0) # 조건이 true = 1 변환, false = 0 변환"
   ]
  },
  {
   "cell_type": "code",
   "execution_count": 2,
   "metadata": {},
   "outputs": [
    {
     "name": "stdout",
     "output_type": "stream",
     "text": [
      "[0.89977728 0.10022272]\n",
      "[0.9 0.1]\n"
     ]
    }
   ],
   "source": [
    "from sklearn.model_selection import train_test_split\n",
    "\n",
    "X_train, X_test, y_train, y_test = train_test_split(X, y, stratify=y,\n",
    "                                                    random_state=157)\n",
    "print(np.unique(y_train, return_counts=True)[1]/y_train.size)\n",
    "print(np.unique(y_test, return_counts=True)[1]/y_test.size)"
   ]
  },
  {
   "cell_type": "code",
   "execution_count": 3,
   "metadata": {},
   "outputs": [],
   "source": [
    "from sklearn.metrics import confusion_matrix, plot_confusion_matrix, accuracy_score, recall_score, precision_score, f1_score\n",
    "from sklearn.tree import DecisionTreeClassifier\n",
    "from sklearn.ensemble import RandomForestClassifier\n",
    "\n",
    "tree = DecisionTreeClassifier(max_depth=3,\n",
    "                                random_state=157)\n",
    "\n",
    "rf = RandomForestClassifier(n_estimators=100,\n",
    "                            max_depth=3,\n",
    "                            random_state=157)\n",
    "\n",
    "tree.fit(X_train, y_train)\n",
    "rf.fit(X_train, y_train)\n",
    "\n",
    "predict_train_tree = tree.predict(X_train)\n",
    "predict_test_tree = tree.predict(X_test)\n",
    "\n",
    "predict_train_rf = rf.predict(X_train)\n",
    "predict_test_rf = rf.predict(X_test)"
   ]
  },
  {
   "cell_type": "code",
   "execution_count": 4,
   "metadata": {},
   "outputs": [],
   "source": [
    "from sklearn.metrics import ConfusionMatrixDisplay\n",
    "def display_cm(y, pred, title):\n",
    "    \"\"\"\n",
    "    cm 시각화 함수\n",
    "    [parameter]\n",
    "    y : target (ndarray)\n",
    "    pred : predict (ndarray)\n",
    "    title : (str)\n",
    "    \"\"\"\n",
    "    cm = confusion_matrix(y, pred)\n",
    "    plt.figure(figsize=(7, 7))\n",
    "    ax = plt.gca()\n",
    "\n",
    "    disp = ConfusionMatrixDisplay(cm, display_labels=['not 9', '9'])\n",
    "    disp.plot(cmap='Reds', ax=ax)\n",
    "    plt.title(f'{title} Confusion Matrix')"
   ]
  },
  {
   "cell_type": "code",
   "execution_count": 7,
   "metadata": {},
   "outputs": [
    {
     "data": {
      "image/png": "[encoded data removed]",
      "text/plain": [
       "<Figure size 504x504 with 2 Axes>"
      ]
     },
     "metadata": {
      "needs_background": "light"
     },
     "output_type": "display_data"
    },
    {
     "data": {
      "image/png": "[encoded data removed]",
      "text/plain": [
       "<Figure size 504x504 with 2 Axes>"
      ]
     },
     "metadata": {
      "needs_background": "light"
     },
     "output_type": "display_data"
    }
   ],
   "source": [
    "display_cm(y_test, predict_test_tree, 'tree')\n",
    "display_cm(y_test, predict_test_rf, 'rf')"
   ]
  },
  {
   "cell_type": "code",
   "execution_count": 8,
   "metadata": {},
   "outputs": [],
   "source": [
    "def print_metrics_score(y, pred, title):\n",
    "    \"\"\"\n",
    "    acc, recall, precision, f1 출력\n",
    "    [parameter]\n",
    "    y : target (ndarray)\n",
    "    pred : predict (ndarray)\n",
    "    title : (str)\n",
    "    \"\"\"\n",
    "    print(title)\n",
    "    print('accuracy_score', accuracy_score(y, pred))\n",
    "    print('recall_score', recall_score(y, pred))\n",
    "    print('precision_score', precision_score(y, pred))\n",
    "    print('f1_score', f1_score(y, pred))\n",
    "    print()"
   ]
  },
  {
   "cell_type": "code",
   "execution_count": 9,
   "metadata": {},
   "outputs": [
    {
     "name": "stdout",
     "output_type": "stream",
     "text": [
      "tree model\n",
      "accuracy_score 0.96\n",
      "recall_score 0.8888888888888888\n",
      "precision_score 0.7547169811320755\n",
      "f1_score 0.8163265306122449\n",
      "\n",
      "rf model\n",
      "accuracy_score 0.9333333333333333\n",
      "recall_score 0.3333333333333333\n",
      "precision_score 1.0\n",
      "f1_score 0.5\n",
      "\n"
     ]
    }
   ],
   "source": [
    "print_metrics_score(y_test, predict_test_tree, 'tree model')\n",
    "print_metrics_score(y_test, predict_test_rf, 'rf model')"
   ]
  },
  {
   "cell_type": "code",
   "execution_count": 11,
   "metadata": {},
   "outputs": [
    {
     "name": "stdout",
     "output_type": "stream",
     "text": [
      "              precision    recall  f1-score   support\n",
      "\n",
      " pos (not 9)       0.93      1.00      0.96       405\n",
      "     pos (9)       1.00      0.33      0.50        45\n",
      "\n",
      "    accuracy                           0.93       450\n",
      "   macro avg       0.97      0.67      0.73       450\n",
      "weighted avg       0.94      0.93      0.92       450\n",
      "\n"
     ]
    }
   ],
   "source": [
    "from sklearn.metrics import classification_report\n",
    "\n",
    "result = classification_report(y_test,\n",
    "                                predict_test_rf,\n",
    "                                target_names=['pos (not 9)', 'pos (9)'])\n",
    "\n",
    "print(result)"
   ]
  },
  {
   "cell_type": "code",
   "execution_count": 13,
   "metadata": {},
   "outputs": [
    {
     "data": {
      "text/plain": [
       "array([[0.98676957, 0.01323043],\n",
       "       [0.98676957, 0.01323043],\n",
       "       [0.98676957, 0.01323043],\n",
       "       [0.25409836, 0.74590164],\n",
       "       [0.98676957, 0.01323043]])"
      ]
     },
     "execution_count": 13,
     "metadata": {},
     "output_type": "execute_result"
    }
   ],
   "source": [
    "tree.predict_proba(X_test)[:5]"
   ]
  },
  {
   "cell_type": "code",
   "execution_count": 14,
   "metadata": {},
   "outputs": [
    {
     "data": {
      "text/plain": [
       "array([0, 0, 0, 1, 0])"
      ]
     },
     "execution_count": 14,
     "metadata": {},
     "output_type": "execute_result"
    }
   ],
   "source": [
    "tree.predict(X_test)[:5]"
   ]
  },
  {
   "cell_type": "code",
   "execution_count": 15,
   "metadata": {},
   "outputs": [
    {
     "name": "stdout",
     "output_type": "stream",
     "text": [
      "(9,) (9,) (8,)\n"
     ]
    }
   ],
   "source": [
    "from sklearn.metrics import precision_recall_curve\n",
    "\n",
    "pos_proba = tree.predict_proba(X_test)[:, 1]\n",
    "precisions, recalls, thresholds = precision_recall_curve(y_test, pos_proba)\n",
    "\n",
    "print(precisions.shape, recalls.shape, thresholds.shape)"
   ]
  },
  {
   "cell_type": "code",
   "execution_count": 17,
   "metadata": {},
   "outputs": [
    {
     "name": "stdout",
     "output_type": "stream",
     "text": [
      "[0.00671141 0.01323043 0.03571429 0.03846154 0.17021277 0.3125\n",
      " 0.57692308 0.74590164 1.        ]\n"
     ]
    }
   ],
   "source": [
    "thresholds = np.append(thresholds, 1)\n",
    "\n",
    "print(thresholds)"
   ]
  },
  {
   "cell_type": "code",
   "execution_count": 18,
   "metadata": {},
   "outputs": [
    {
     "data": {
      "text/html": [
       "<div>\n",
       "<style scoped>\n",
       "    .dataframe tbody tr th:only-of-type {\n",
       "        vertical-align: middle;\n",
       "    }\n",
       "\n",
       "    .dataframe tbody tr th {\n",
       "        vertical-align: top;\n",
       "    }\n",
       "\n",
       "    .dataframe thead th {\n",
       "        text-align: right;\n",
       "    }\n",
       "</style>\n",
       "<table border=\"1\" class=\"dataframe\">\n",
       "  <thead>\n",
       "    <tr style=\"text-align: right;\">\n",
       "      <th></th>\n",
       "      <th>thresholds</th>\n",
       "      <th>precision</th>\n",
       "      <th>recall</th>\n",
       "    </tr>\n",
       "  </thead>\n",
       "  <tbody>\n",
       "    <tr>\n",
       "      <th>0</th>\n",
       "      <td>0.006711</td>\n",
       "      <td>0.100000</td>\n",
       "      <td>1.000000</td>\n",
       "    </tr>\n",
       "    <tr>\n",
       "      <th>1</th>\n",
       "      <td>0.013230</td>\n",
       "      <td>0.110000</td>\n",
       "      <td>0.977778</td>\n",
       "    </tr>\n",
       "    <tr>\n",
       "      <th>2</th>\n",
       "      <td>0.035714</td>\n",
       "      <td>0.439560</td>\n",
       "      <td>0.888889</td>\n",
       "    </tr>\n",
       "    <tr>\n",
       "      <th>3</th>\n",
       "      <td>0.038462</td>\n",
       "      <td>0.493827</td>\n",
       "      <td>0.888889</td>\n",
       "    </tr>\n",
       "    <tr>\n",
       "      <th>4</th>\n",
       "      <td>0.170213</td>\n",
       "      <td>0.563380</td>\n",
       "      <td>0.888889</td>\n",
       "    </tr>\n",
       "    <tr>\n",
       "      <th>5</th>\n",
       "      <td>0.312500</td>\n",
       "      <td>0.689655</td>\n",
       "      <td>0.888889</td>\n",
       "    </tr>\n",
       "    <tr>\n",
       "      <th>6</th>\n",
       "      <td>0.576923</td>\n",
       "      <td>0.754717</td>\n",
       "      <td>0.888889</td>\n",
       "    </tr>\n",
       "    <tr>\n",
       "      <th>7</th>\n",
       "      <td>0.745902</td>\n",
       "      <td>0.808511</td>\n",
       "      <td>0.844444</td>\n",
       "    </tr>\n",
       "    <tr>\n",
       "      <th>8</th>\n",
       "      <td>1.000000</td>\n",
       "      <td>1.000000</td>\n",
       "      <td>0.000000</td>\n",
       "    </tr>\n",
       "  </tbody>\n",
       "</table>\n",
       "</div>"
      ],
      "text/plain": [
       "   thresholds  precision    recall\n",
       "0    0.006711   0.100000  1.000000\n",
       "1    0.013230   0.110000  0.977778\n",
       "2    0.035714   0.439560  0.888889\n",
       "3    0.038462   0.493827  0.888889\n",
       "4    0.170213   0.563380  0.888889\n",
       "5    0.312500   0.689655  0.888889\n",
       "6    0.576923   0.754717  0.888889\n",
       "7    0.745902   0.808511  0.844444\n",
       "8    1.000000   1.000000  0.000000"
      ]
     },
     "execution_count": 18,
     "metadata": {},
     "output_type": "execute_result"
    }
   ],
   "source": [
    "import pandas as pd\n",
    "\n",
    "pd.DataFrame({\n",
    "    'thresholds' : thresholds,\n",
    "    'precision' : precisions,\n",
    "    'recall' : recalls\n",
    "})"
   ]
  },
  {
   "cell_type": "code",
   "execution_count": 20,
   "metadata": {},
   "outputs": [
    {
     "data": {
      "image/png": "[encoded data removed]",
      "text/plain": [
       "<Figure size 504x504 with 1 Axes>"
      ]
     },
     "metadata": {
      "needs_background": "light"
     },
     "output_type": "display_data"
    }
   ],
   "source": [
    "plt.figure(figsize=(7, 7))\n",
    "\n",
    "plt.plot(thresholds, precisions, marker='o', label='precision')\n",
    "plt.plot(thresholds, recalls, marker='x', label='recall')\n",
    "\n",
    "plt.xticks(np.arange(0, 1.1, 0.1))\n",
    "plt.grid()\n",
    "plt.legend(loc='upper left', bbox_to_anchor=(1, 1))\n",
    "plt.show()"
   ]
  },
  {
   "cell_type": "code",
   "execution_count": 21,
   "metadata": {},
   "outputs": [
    {
     "data": {
      "text/plain": [
       "array([[0., 0., 1., 1., 1., 1., 1., 1., 1.]])"
      ]
     },
     "execution_count": 21,
     "metadata": {},
     "output_type": "execute_result"
    }
   ],
   "source": [
    "from sklearn.preprocessing import Binarizer\n",
    "\n",
    "exam = [np.arange(0.1, 1.0, 0.1)]\n",
    "\n",
    "binarizer = Binarizer(threshold=0.3)\n",
    "binarizer.fit_transform(exam)"
   ]
  },
  {
   "cell_type": "code",
   "execution_count": 26,
   "metadata": {},
   "outputs": [
    {
     "data": {
      "text/plain": [
       "array([[0, 0, 0, 0, 0, 0, 1, 1, 1]])"
      ]
     },
     "execution_count": 26,
     "metadata": {},
     "output_type": "execute_result"
    }
   ],
   "source": [
    "exam = np.array(exam)\n",
    "th = 0.6\n",
    "np.where(exam <= th, 0, 1)"
   ]
  },
  {
   "cell_type": "code",
   "execution_count": 30,
   "metadata": {},
   "outputs": [
    {
     "name": "stdout",
     "output_type": "stream",
     "text": [
      "th=0.1\n",
      "accuracy_score 0.92\n",
      "recall_score 0.8888888888888888\n",
      "precision_score 0.5633802816901409\n",
      "f1_score 0.689655172413793\n",
      "\n",
      "th=0.4\n",
      "accuracy_score 0.96\n",
      "recall_score 0.8888888888888888\n",
      "precision_score 0.7547169811320755\n",
      "f1_score 0.8163265306122449\n",
      "\n"
     ]
    }
   ],
   "source": [
    "binarizer1 = Binarizer(threshold=0.1)\n",
    "binarizer2 = Binarizer(threshold=0.4)\n",
    "pred_proba = tree.predict_proba(X_test)\n",
    "\n",
    "pred_test_tree2 = binarizer1.fit_transform(pred_proba)[:, 1]\n",
    "pred_test_tree3 = binarizer2.fit_transform(pred_proba)[:, 1]\n",
    "\n",
    "print_metrics_score(y_test, pred_test_tree2, 'th=0.1')\n",
    "print_metrics_score(y_test, pred_test_tree3, 'th=0.4')"
   ]
  },
  {
   "cell_type": "code",
   "execution_count": null,
   "metadata": {},
   "outputs": [],
   "source": []
  },
  {
   "cell_type": "code",
   "execution_count": null,
   "metadata": {},
   "outputs": [],
   "source": []
  },
  {
   "cell_type": "code",
   "execution_count": null,
   "metadata": {},
   "outputs": [],
   "source": []
  }
 ],
 "metadata": {
  "interpreter": {
   "hash": "c0c16e8c51e0197e683d6d72d442e87571d40c23e12dd43510d6b884cdd80d60"
  },
  "kernelspec": {
   "display_name": "Python 3.8.12 64-bit ('ml': conda)",
   "language": "python",
   "name": "python3"
  },
  "language_info": {
   "codemirror_mode": {
    "name": "ipython",
    "version": 3
   },
   "file_extension": ".py",
   "mimetype": "text/x-python",
   "name": "python",
   "nbconvert_exporter": "python",
   "pygments_lexer": "ipython3",
   "version": "3.8.12"
  },
  "orig_nbformat": 4
 },
 "nbformat": 4,
 "nbformat_minor": 2
}
