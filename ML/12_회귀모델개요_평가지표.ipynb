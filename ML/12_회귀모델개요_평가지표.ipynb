{
 "cells": [
  {
   "cell_type": "markdown",
   "metadata": {
    "slideshow": {
     "slide_type": "slide"
    }
   },
   "source": [
    "# 회귀(Regression)\n",
    "\n",
    "예측할 값(Target)이 연속형(continuous) 데이터(float)인 지도 학습(Supervised Learning)."
   ]
  },
  {
   "cell_type": "markdown",
   "metadata": {
    "slideshow": {
     "slide_type": "fragment"
    }
   },
   "source": [
    "## 회귀의 주요 평가 지표\n",
    "\n",
    "- ### MSE (Mean Squared Error)\n",
    "    - 실제 값과 예측값의 차를 제곱해 평균 낸 것\n",
    "    - scikit-learn 평가함수: mean_absolute_error() \n",
    "    - 교차검증시 지정할 문자열: 'neg_mean_squared_error'\n",
    "    $$\n",
    "    MSE = \\frac{1}{n}\\sum_{i=1}^{n}(y_i - \\hat{y_i})^2\\\\\n",
    "    y_i: 실제값, \\hat{y_i}: 모델이 예측한 값\n",
    "    $$\n",
    "    "
   ]
  },
  {
   "cell_type": "markdown",
   "metadata": {
    "slideshow": {
     "slide_type": "fragment"
    }
   },
   "source": [
    "- ### RMSE (Root Mean Squared Error)\n",
    "    - MSE는 오차의 제곱한 값이므로 실제 오차의 평균보다 큰 값이 나온다.  MSE의 제곱근이 RMSE이다.\n",
    "    - scikit-learn은 함수를 지원하지 않는다. (MSE를 구한 뒤 np.sqrt()로 제곱근을 구한다.)\n",
    "    \n",
    "    $$\n",
    "    RMSE = \\sqrt{\\frac{1}{n}\\sum_{i=1}^{n}(y_i - \\hat{y_i})^2}\n",
    "    $$"
   ]
  },
  {
   "cell_type": "markdown",
   "metadata": {
    "slideshow": {
     "slide_type": "fragment"
    }
   },
   "source": [
    "- ### $R^2$ (R square, 결정계수)\n",
    "    - 평균으로 예측했을 때 오차(총오차) 보다 모델을 사용했을 때 얼마 만큼 더 좋은 성능을 내는지를 비율로 나타낸 값. \n",
    "    - 1에 가까울 수록 좋은 모델.\n",
    "    - scikit-learn 평가함수: r2_score()\n",
    "    - 교차검증시 지정할 문자열: 'r2'\n",
    "    - [참고](https://ko.khanacademy.org/math/statistics-probability/describing-relationships-quantitative-data/assessing-the-fit-in-least-squares-regression/a/r-squared-intuition)\n",
    "    $$\n",
    "    R^2 = \\cfrac{\\sum_{i=1}^{n}(\\hat{y_i}-\\bar{y})^2}{\\sum_{i=1}^{n}(y_i - \\bar{y})^2}\\\\\n",
    "    R^2 = 1 - \\cfrac{\\sum_{i=1}^{n}(y_i - \\hat{y_i})^2}{\\sum_{i=1}^{n}(y_i - \\bar{y})^2}\n",
    "    $$\n",
    "\n",
    "- $y_i$ : i번째 실제 값, \n",
    "- $\\hat{y_i}$ : i 번째 예측 값, \n",
    "- $\\bar{y}$ : y의 평균    "
   ]
  },
  {
   "cell_type": "markdown",
   "metadata": {
    "slideshow": {
     "slide_type": "slide"
    }
   },
   "source": [
    "### 예제"
   ]
  },
  {
   "cell_type": "markdown",
   "metadata": {
    "slideshow": {
     "slide_type": "fragment"
    }
   },
   "source": [
    "##### import"
   ]
  },
  {
   "cell_type": "code",
   "execution_count": 1,
   "metadata": {
    "ExecuteTime": {
     "end_time": "2021-11-19T08:07:52.078597Z",
     "start_time": "2021-11-19T08:07:51.051714Z"
    },
    "slideshow": {
     "slide_type": "fragment"
    }
   },
   "outputs": [],
   "source": [
    "import numpy as np\n",
    "import matplotlib.pyplot as plt\n",
    "import seaborn as sns\n",
    "\n",
    "from sklearn.datasets import make_regression # dummy regression example 만들 수 있음\n",
    "from sklearn.model_selection import cross_val_score\n",
    "\n",
    "from sklearn.linear_model import LinearRegression"
   ]
  },
  {
   "cell_type": "markdown",
   "metadata": {
    "slideshow": {
     "slide_type": "slide"
    }
   },
   "source": [
    "##### Dataset 생성\n",
    "- make_xxxxx() 함수\n",
    "    - 머신러닝 학습을 위한 dummy dataset 구현 함수\n",
    "    - 필요한 설정을 직접하여 테스트할 수 있는 데이터셋을 생성해준다.\n",
    "- make_regression(): 회귀 문제를 위한 dummy dataset 생성\n",
    "- make_classification(): 분류 문제를 위한 dummy dataset 생성"
   ]
  },
  {
   "cell_type": "code",
   "execution_count": 2,
   "metadata": {
    "ExecuteTime": {
     "end_time": "2021-11-19T08:07:52.093812Z",
     "start_time": "2021-11-19T08:07:52.079300Z"
    },
    "slideshow": {
     "slide_type": "fragment"
    }
   },
   "outputs": [],
   "source": [
    "X, y = make_regression(n_samples=100, # data sample 개수\n",
    "                       n_features=1, # feature 개수\n",
    "                       n_informative=1, # target 영향을 주는 feature 개수\n",
    "                       noise = 50, # 예측할 수 없는 절대 오차 (0~50 값을 랜덤하게 사용)\n",
    "                       coef = False, # feature간의 상관성(연관성) 여부\n",
    "                       random_state = 1) "
   ]
  },
  {
   "cell_type": "code",
   "execution_count": 3,
   "metadata": {
    "ExecuteTime": {
     "end_time": "2021-11-19T08:07:52.109799Z",
     "start_time": "2021-11-19T08:07:52.094840Z"
    },
    "slideshow": {
     "slide_type": "fragment"
    }
   },
   "outputs": [
    {
     "data": {
      "text/plain": [
       "((100, 1), (100,))"
      ]
     },
     "execution_count": 3,
     "metadata": {},
     "output_type": "execute_result"
    }
   ],
   "source": [
    "X.shape, y.shape"
   ]
  },
  {
   "cell_type": "code",
   "execution_count": 4,
   "metadata": {
    "ExecuteTime": {
     "end_time": "2021-11-19T08:07:52.252602Z",
     "start_time": "2021-11-19T08:07:52.110799Z"
    },
    "slideshow": {
     "slide_type": "fragment"
    }
   },
   "outputs": [
    {
     "data": {
      "text/plain": [
       "<matplotlib.collections.PathCollection at 0x2afc4a80580>"
      ]
     },
     "execution_count": 4,
     "metadata": {},
     "output_type": "execute_result"
    },
    {
     "data": {
      "image/png": "[encoded data removed]",
      "text/plain": [
       "<Figure size 432x288 with 1 Axes>"
      ]
     },
     "metadata": {
      "needs_background": "light"
     },
     "output_type": "display_data"
    }
   ],
   "source": [
    "plt.scatter(X, y)"
   ]
  },
  {
   "cell_type": "code",
   "execution_count": 5,
   "metadata": {
    "ExecuteTime": {
     "end_time": "2021-11-19T08:07:52.267852Z",
     "start_time": "2021-11-19T08:07:52.253603Z"
    },
    "slideshow": {
     "slide_type": "fragment"
    }
   },
   "outputs": [
    {
     "data": {
      "text/plain": [
       "(15.293427290684107,\n",
       " -255.11169199137663,\n",
       " 247.19463389209255,\n",
       " 20.62597485010551)"
      ]
     },
     "execution_count": 5,
     "metadata": {},
     "output_type": "execute_result"
    }
   ],
   "source": [
    "np.mean(y), np.min(y), np.max(y), np.median(y)"
   ]
  },
  {
   "cell_type": "markdown",
   "metadata": {
    "slideshow": {
     "slide_type": "slide"
    }
   },
   "source": [
    "##### 모델 생성, 학습, 추론"
   ]
  },
  {
   "cell_type": "code",
   "execution_count": 6,
   "metadata": {
    "ExecuteTime": {
     "end_time": "2021-11-19T08:07:52.283475Z",
     "start_time": "2021-11-19T08:07:52.269514Z"
    },
    "slideshow": {
     "slide_type": "fragment"
    }
   },
   "outputs": [],
   "source": [
    "lr = LinearRegression()\n",
    "lr.fit(X, y)\n",
    "pred = lr.predict(X)"
   ]
  },
  {
   "cell_type": "markdown",
   "metadata": {
    "slideshow": {
     "slide_type": "fragment"
    }
   },
   "source": [
    "##### 평가"
   ]
  },
  {
   "cell_type": "code",
   "execution_count": 7,
   "metadata": {
    "ExecuteTime": {
     "end_time": "2021-11-19T08:07:52.299432Z",
     "start_time": "2021-11-19T08:07:52.284473Z"
    },
    "slideshow": {
     "slide_type": "fragment"
    }
   },
   "outputs": [
    {
     "name": "stdout",
     "output_type": "stream",
     "text": [
      "MSE :  2078.5472792307764\n",
      "RMSE :  45.59108771712709\n",
      "R^2 :  0.7321024057172182\n"
     ]
    }
   ],
   "source": [
    "from sklearn.metrics import mean_squared_error, r2_score\n",
    "\n",
    "mse = mean_squared_error(y, pred)\n",
    "r2 = r2_score(y, pred)\n",
    "print(\"MSE : \", mse)\n",
    "print(\"RMSE : \", np.sqrt(mse))\n",
    "print('R^2 : ', r2)"
   ]
  },
  {
   "cell_type": "markdown",
   "metadata": {
    "slideshow": {
     "slide_type": "slide"
    }
   },
   "source": [
    "##### 교차검증 (cross validation)"
   ]
  },
  {
   "cell_type": "code",
   "execution_count": 8,
   "metadata": {
    "ExecuteTime": {
     "end_time": "2021-11-19T08:07:52.315389Z",
     "start_time": "2021-11-19T08:07:52.300430Z"
    },
    "slideshow": {
     "slide_type": "fragment"
    }
   },
   "outputs": [
    {
     "name": "stdout",
     "output_type": "stream",
     "text": [
      "cv별 R2: [0.58124097 0.82853824 0.52826294 0.76611492 0.7184243 ]\n",
      "평균 R2:  0.6845162761863837\n"
     ]
    }
   ],
   "source": [
    "# 기본 평가 지표: R2\n",
    "score = cross_val_score(lr, X, y, cv=5) # 기본 평가 지표: R2\n",
    "print(\"cv별 R2:\", score)\n",
    "print(\"평균 R2: \", np.mean(score))"
   ]
  },
  {
   "cell_type": "code",
   "execution_count": 9,
   "metadata": {
    "ExecuteTime": {
     "end_time": "2021-11-19T08:07:52.331347Z",
     "start_time": "2021-11-19T08:07:52.316387Z"
    }
   },
   "outputs": [
    {
     "data": {
      "text/plain": [
       "array([-1882.70290581, -2859.09589717,  -420.87862081, -3244.99975507,\n",
       "       -1404.5936989 , -2794.10631553, -1863.97405357, -1262.61248332,\n",
       "       -3714.70549983, -2626.12950655])"
      ]
     },
     "execution_count": 9,
     "metadata": {},
     "output_type": "execute_result"
    }
   ],
   "source": [
    "cross_val_score(lr, X, y, scoring='neg_mean_squared_error', cv=10)"
   ]
  },
  {
   "cell_type": "code",
   "execution_count": 10,
   "metadata": {
    "ExecuteTime": {
     "end_time": "2021-11-19T08:07:52.347304Z",
     "start_time": "2021-11-19T08:07:52.333342Z"
    }
   },
   "outputs": [
    {
     "name": "stdout",
     "output_type": "stream",
     "text": [
      "mse: [2345.81697166 1813.79924962 2204.02751713 1490.54918087 3044.11453168]\n",
      "mse 평균:  2179.661490191461\n"
     ]
    }
   ],
   "source": [
    "score = cross_val_score(lr, X, y, scoring='neg_mean_squared_error', cv=5) \n",
    "# neg_mean_squared_error : mse*-1값을 평가 지표로 출력\n",
    "print(\"mse:\", score*-1) # mse 값을 보려면 -1을 다시 곱해야함\n",
    "print(\"mse 평균: \", np.mean(score)*-1)"
   ]
  },
  {
   "cell_type": "markdown",
   "metadata": {
    "slideshow": {
     "slide_type": "slide"
    }
   },
   "source": [
    "##### 모델이 계수(coef)와 절편(intercept) 조회\n",
    "- LinearRegression 모델이 학습해서 찾는 파라미터\n",
    "    - coef_: Feature에 곱하는 가중치\n",
    "    - intercept_: 모든 Feature가 0일때 예측값"
   ]
  },
  {
   "cell_type": "code",
   "execution_count": 11,
   "metadata": {
    "ExecuteTime": {
     "end_time": "2021-11-19T08:07:52.363262Z",
     "start_time": "2021-11-19T08:07:52.348302Z"
    },
    "slideshow": {
     "slide_type": "fragment"
    }
   },
   "outputs": [
    {
     "name": "stdout",
     "output_type": "stream",
     "text": [
      "coef: [85.14546889] intercept: 10.135071944054275\n"
     ]
    }
   ],
   "source": [
    "lr.fit(X, y)\n",
    "print(\"coef:\", lr.coef_, \"intercept:\",lr.intercept_)"
   ]
  },
  {
   "cell_type": "markdown",
   "metadata": {
    "slideshow": {
     "slide_type": "fragment"
    }
   },
   "source": [
    "##### X, y와 추론결과  시각화"
   ]
  },
  {
   "cell_type": "code",
   "execution_count": 12,
   "metadata": {
    "ExecuteTime": {
     "end_time": "2021-11-19T08:07:52.379219Z",
     "start_time": "2021-11-19T08:07:52.364259Z"
    }
   },
   "outputs": [
    {
     "data": {
      "text/plain": [
       "array([[-41.95321474],\n",
       "       [-11.0976856 ],\n",
       "       [ 51.73017859],\n",
       "       [ 75.01687119],\n",
       "       [139.5405874 ]])"
      ]
     },
     "execution_count": 12,
     "metadata": {},
     "output_type": "execute_result"
    }
   ],
   "source": [
    "# 예측값\n",
    "X[:5]*lr.coef_ + lr.intercept_"
   ]
  },
  {
   "cell_type": "code",
   "execution_count": 13,
   "metadata": {
    "ExecuteTime": {
     "end_time": "2021-11-19T08:07:52.394179Z",
     "start_time": "2021-11-19T08:07:52.380216Z"
    }
   },
   "outputs": [
    {
     "data": {
      "text/plain": [
       "array([[-64.78371502],\n",
       "       [  3.53525698],\n",
       "       [ -2.24930988],\n",
       "       [160.48684461],\n",
       "       [176.84608642]])"
      ]
     },
     "execution_count": 13,
     "metadata": {},
     "output_type": "execute_result"
    }
   ],
   "source": [
    "# 실제값\n",
    "y.reshape(-1, 1)[:5]"
   ]
  },
  {
   "cell_type": "code",
   "execution_count": 14,
   "metadata": {
    "ExecuteTime": {
     "end_time": "2021-11-19T08:07:52.502754Z",
     "start_time": "2021-11-19T08:07:52.395176Z"
    },
    "slideshow": {
     "slide_type": "fragment"
    }
   },
   "outputs": [
    {
     "data": {
      "image/png": "[encoded data removed]",
      "text/plain": [
       "<Figure size 504x504 with 1 Axes>"
      ]
     },
     "metadata": {
      "needs_background": "light"
     },
     "output_type": "display_data"
    }
   ],
   "source": [
    "plt.figure(figsize=(7, 7))\n",
    "plt.scatter(X, y, label='target')\n",
    "y_hat = X*lr.coef_ + lr.intercept_\n",
    "plt.plot(X, y_hat, color='red', label='predict')\n",
    "plt.legend()\n",
    "plt.grid()\n",
    "plt.show()"
   ]
  },
  {
   "cell_type": "markdown",
   "metadata": {
    "slideshow": {
     "slide_type": "slide"
    }
   },
   "source": [
    "## 기존 분류 모델의 회귀 모델"
   ]
  },
  {
   "cell_type": "markdown",
   "metadata": {
    "slideshow": {
     "slide_type": "fragment"
    }
   },
   "source": [
    "##### import"
   ]
  },
  {
   "cell_type": "code",
   "execution_count": 15,
   "metadata": {
    "ExecuteTime": {
     "end_time": "2021-11-19T08:07:52.565930Z",
     "start_time": "2021-11-19T08:07:52.502754Z"
    },
    "slideshow": {
     "slide_type": "fragment"
    }
   },
   "outputs": [],
   "source": [
    "from sklearn.model_selection import train_test_split\n",
    "\n",
    "from sklearn.neighbors import KNeighborsRegressor\n",
    "from sklearn.tree import DecisionTreeRegressor\n",
    "from sklearn.ensemble import RandomForestRegressor, GradientBoostingRegressor, VotingRegressor\n",
    "from sklearn.linear_model import LinearRegression\n",
    "\n",
    "# make_regression으로 만든 data\n",
    "X_train, X_test, y_train, y_test = train_test_split(X, y, test_size=0.2, random_state=12)"
   ]
  },
  {
   "cell_type": "markdown",
   "metadata": {
    "slideshow": {
     "slide_type": "fragment"
    }
   },
   "source": [
    "##### 모델들 생성"
   ]
  },
  {
   "cell_type": "code",
   "execution_count": 16,
   "metadata": {
    "ExecuteTime": {
     "end_time": "2021-11-19T08:07:52.581247Z",
     "start_time": "2021-11-19T08:07:52.566932Z"
    },
    "slideshow": {
     "slide_type": "fragment"
    }
   },
   "outputs": [],
   "source": [
    "knn_reg = KNeighborsRegressor(n_neighbors=3)\n",
    "tree_reg = DecisionTreeRegressor(max_depth=5)\n",
    "rf_reg = RandomForestRegressor(n_estimators=300, max_depth=2)\n",
    "gb_reg = GradientBoostingRegressor(n_estimators=200, max_depth=1)\n",
    "lr_reg = LinearRegression()\n",
    "\n",
    "estimators = [(\"knn\",knn_reg), \n",
    "              ('decision tree',tree_reg), \n",
    "              ('random forest',rf_reg),\n",
    "              ('Gradient Boosting', gb_reg), \n",
    "              ('linear reg',lr_reg)]"
   ]
  },
  {
   "cell_type": "markdown",
   "metadata": {
    "slideshow": {
     "slide_type": "slide"
    }
   },
   "source": [
    "##### 평가출력 함수"
   ]
  },
  {
   "cell_type": "code",
   "execution_count": 17,
   "metadata": {
    "ExecuteTime": {
     "end_time": "2021-11-19T08:07:52.596213Z",
     "start_time": "2021-11-19T08:07:52.587237Z"
    }
   },
   "outputs": [],
   "source": [
    "# %%writefile util.py\n",
    "# # %%writefile 의 경우 제일 첫 줄에 있어야함 (주석도 허용 X)\n",
    "# # %load util.py\n",
    "\n",
    "# # %%writefile 파일경로 - cell의 내용을 파일로 저장한다. 반드시 첫줄에 작성한다.\n",
    "\n",
    "# import numpy as np\n",
    "# from sklearn.metrics import (accuracy_score, recall_score,\n",
    "#                             precision_score, f1_score,\n",
    "#                             mean_squared_error,\n",
    "#                             r2_score)\n",
    "\n",
    "# def print_metrics(y, pred, title=None):\n",
    "#     acc = accuracy_score(y, pred)\n",
    "#     recall = recall_score(y, pred)\n",
    "#     precision = precision_score(y, pred)\n",
    "#     f1 = f1_score(y, pred)   \n",
    "    \n",
    "#     if title:\n",
    "#         print(title)\n",
    "#     print(f'정확도: {acc}, recall: {recall}, Precision: {precision}, f1점수: {f1}')\n",
    "\n",
    "# def print_regression_metrics(y, y_pred, title=None):\n",
    "#     mse = mean_squared_error(y, y_pred)\n",
    "#     rmse = np.sqrt(mse)\n",
    "#     r2 = r2_score(y, y_pred)\n",
    "#     if title:\n",
    "#         print(title)\n",
    "#     print(f\"MSE:{mse}, RMSE:{rmse}, R Square:{r2}\")"
   ]
  },
  {
   "cell_type": "code",
   "execution_count": 21,
   "metadata": {
    "ExecuteTime": {
     "end_time": "2021-11-19T08:08:06.119498Z",
     "start_time": "2021-11-19T08:08:06.102758Z"
    },
    "slideshow": {
     "slide_type": "fragment"
    }
   },
   "outputs": [],
   "source": [
    "import numpy as np\n",
    "def print_metrics(y, y_pred, title=None):\n",
    "    mse = mean_squared_error(y, y_pred)\n",
    "    rmse = np.sqrt(mse)\n",
    "    r2 = r2_score(y, y_pred)\n",
    "    if title:\n",
    "        print(title)\n",
    "    print(f\"MSE:{mse}, RMSE:{rmse}, R Square:{r2}\")"
   ]
  },
  {
   "cell_type": "code",
   "execution_count": 19,
   "metadata": {
    "ExecuteTime": {
     "end_time": "2021-11-19T08:07:52.642130Z",
     "start_time": "2021-11-19T08:07:52.630163Z"
    }
   },
   "outputs": [],
   "source": [
    "# from util import print_regression_metrics as print_metrics"
   ]
  },
  {
   "cell_type": "markdown",
   "metadata": {
    "slideshow": {
     "slide_type": "fragment"
    }
   },
   "source": [
    "##### 모델 학습 및 평가"
   ]
  },
  {
   "cell_type": "code",
   "execution_count": 22,
   "metadata": {
    "ExecuteTime": {
     "end_time": "2021-11-19T08:08:08.523474Z",
     "start_time": "2021-11-19T08:08:08.231938Z"
    },
    "slideshow": {
     "slide_type": "fragment"
    }
   },
   "outputs": [
    {
     "name": "stdout",
     "output_type": "stream",
     "text": [
      "knn - Train\n",
      "MSE:1427.767659021123, RMSE:37.785812933178015, R Square:0.8019417941941395\n",
      "knn - Test\n",
      "MSE:2864.855454376287, RMSE:53.52434450207015, R Square:0.6640766473771966\n",
      "-------------------------------------------\n",
      "decision tree - Train\n",
      "MSE:817.4625116301221, RMSE:28.59130132802846, R Square:0.8866025873719422\n",
      "decision tree - Test\n",
      "MSE:3301.0727964279786, RMSE:57.45496320099751, R Square:0.6129272632816158\n",
      "-------------------------------------------\n",
      "random forest - Train\n",
      "MSE:1717.6458547054485, RMSE:41.44449124679236, R Square:0.7617302408810187\n",
      "random forest - Test\n",
      "MSE:2965.382824812248, RMSE:54.455328709064354, R Square:0.6522891447108345\n",
      "-------------------------------------------\n",
      "Gradient Boosting - Train\n",
      "MSE:1378.1570809707919, RMSE:37.123538098769515, R Square:0.8088237136826204\n",
      "Gradient Boosting - Test\n",
      "MSE:2399.250662740208, RMSE:48.98214636722454, R Square:0.7186719053559923\n",
      "-------------------------------------------\n",
      "linear reg - Train\n",
      "MSE:2017.1792010802012, RMSE:44.9130181693482, R Square:0.7201793367215267\n",
      "linear reg - Test\n",
      "MSE:2368.5811126977082, RMSE:48.6680707723011, R Square:0.7222681140435795\n",
      "-------------------------------------------\n"
     ]
    }
   ],
   "source": [
    "for name, model in estimators:\n",
    "    model.fit(X_train, y_train)\n",
    "    pred_train = model.predict(X_train)\n",
    "    pred_test = model.predict(X_test)\n",
    "    \n",
    "    print_metrics(y_train, pred_train, name+\" - Train\")\n",
    "    print_metrics(y_test, pred_test, name+\" - Test\")\n",
    "    print(\"-------------------------------------------\")"
   ]
  },
  {
   "cell_type": "markdown",
   "metadata": {
    "slideshow": {
     "slide_type": "slide"
    }
   },
   "source": [
    "##### Voting\n",
    "- VotingRegressor \n",
    "    - 각 모델이 예측한 값의 평균을 반환한다."
   ]
  },
  {
   "cell_type": "code",
   "execution_count": 23,
   "metadata": {
    "ExecuteTime": {
     "end_time": "2021-11-19T08:10:58.596152Z",
     "start_time": "2021-11-19T08:10:58.391514Z"
    },
    "slideshow": {
     "slide_type": "fragment"
    }
   },
   "outputs": [],
   "source": [
    "knn_reg = KNeighborsRegressor(n_neighbors=3)\n",
    "tree_reg = DecisionTreeRegressor(max_depth=2)\n",
    "rf_reg = RandomForestRegressor(n_estimators=200, max_depth=2)\n",
    "gb_reg = GradientBoostingRegressor(n_estimators=200, max_depth=1)\n",
    "lr_reg = LinearRegression()\n",
    "\n",
    "estimators = [(\"knn\",knn_reg), ('random forest',rf_reg), ('Gradient Boosting', gb_reg), ('linear reg',lr_reg)]\n",
    "\n",
    "vote_reg = VotingRegressor(estimators)\n",
    "vote_reg.fit(X_train, y_train)\n",
    "pred_train = vote_reg.predict(X_train)\n",
    "pred_test = vote_reg.predict(X_test)"
   ]
  },
  {
   "cell_type": "code",
   "execution_count": 24,
   "metadata": {
    "ExecuteTime": {
     "end_time": "2021-11-19T08:10:59.507139Z",
     "start_time": "2021-11-19T08:10:59.494015Z"
    },
    "slideshow": {
     "slide_type": "fragment"
    }
   },
   "outputs": [
    {
     "name": "stdout",
     "output_type": "stream",
     "text": [
      "MSE:1502.0336923053928, RMSE:38.75607942381934, R Square:0.7916396997240314\n",
      "MSE:2393.8636342259824, RMSE:48.92712575071197, R Square:0.7193035702717245\n"
     ]
    }
   ],
   "source": [
    "print_metrics(y_train, pred_train)\n",
    "print_metrics(y_test, pred_test)"
   ]
  },
  {
   "cell_type": "markdown",
   "metadata": {
    "slideshow": {
     "slide_type": "slide"
    }
   },
   "source": [
    "##### DecisionTreeRegressor Tree 시각화"
   ]
  },
  {
   "cell_type": "code",
   "execution_count": 25,
   "metadata": {
    "ExecuteTime": {
     "end_time": "2021-11-19T08:11:47.267522Z",
     "start_time": "2021-11-19T08:11:47.255554Z"
    },
    "slideshow": {
     "slide_type": "fragment"
    }
   },
   "outputs": [],
   "source": [
    "tree_reg = DecisionTreeRegressor(max_depth=3)"
   ]
  },
  {
   "cell_type": "code",
   "execution_count": 26,
   "metadata": {
    "ExecuteTime": {
     "end_time": "2021-11-19T08:11:48.189179Z",
     "start_time": "2021-11-19T08:11:48.182194Z"
    },
    "slideshow": {
     "slide_type": "fragment"
    }
   },
   "outputs": [
    {
     "data": {
      "text/plain": [
       "DecisionTreeRegressor(max_depth=3)"
      ]
     },
     "execution_count": 26,
     "metadata": {},
     "output_type": "execute_result"
    }
   ],
   "source": [
    "tree_reg.fit(X_train, y_train)"
   ]
  },
  {
   "cell_type": "code",
   "execution_count": 28,
   "metadata": {
    "ExecuteTime": {
     "end_time": "2021-11-19T08:12:13.067662Z",
     "start_time": "2021-11-19T08:12:12.983618Z"
    },
    "scrolled": false,
    "slideshow": {
     "slide_type": "fragment"
    }
   },
   "outputs": [
    {
     "data": {
      "image/svg+xml": [
       "<?xml version=\"1.0\" encoding=\"UTF-8\" standalone=\"no\"?>\n",
       "<!DOCTYPE svg PUBLIC \"-//W3C//DTD SVG 1.1//EN\"\n",
       " \"http://www.w3.org/Graphics/SVG/1.1/DTD/svg11.dtd\">\n",
       "<!-- Generated by graphviz version 2.49.3 (20211023.0002)\n",
       " -->\n",
       "<!-- Title: Tree Pages: 1 -->\n",
       "<svg width=\"1481pt\" height=\"373pt\"\n",
       " viewBox=\"0.00 0.00 1480.50 373.00\" xmlns=\"http://www.w3.org/2000/svg\" xmlns:xlink=\"http://www.w3.org/1999/xlink\">\n",
       "<g id=\"graph0\" class=\"graph\" transform=\"scale(1 1) rotate(0) translate(4 369)\">\n",
       "<title>Tree</title>\n",
       "<polygon fill=\"white\" stroke=\"transparent\" points=\"-4,4 -4,-369 1476.5,-369 1476.5,4 -4,4\"/>\n",
       "<!-- 0 -->\n",
       "<g id=\"node1\" class=\"node\">\n",
       "<title>0</title>\n",
       "<path fill=\"#efb287\" stroke=\"black\" d=\"M773.5,-365C773.5,-365 613.5,-365 613.5,-365 607.5,-365 601.5,-359 601.5,-353 601.5,-353 601.5,-309 601.5,-309 601.5,-303 607.5,-297 613.5,-297 613.5,-297 773.5,-297 773.5,-297 779.5,-297 785.5,-303 785.5,-309 785.5,-309 785.5,-353 785.5,-353 785.5,-359 779.5,-365 773.5,-365\"/>\n",
       "<text text-anchor=\"middle\" x=\"693.5\" y=\"-349.8\" font-family=\"Helvetica,sans-Serif\" font-size=\"14.00\">X[0] &lt;= 0.015</text>\n",
       "<text text-anchor=\"middle\" x=\"693.5\" y=\"-334.8\" font-family=\"Helvetica,sans-Serif\" font-size=\"14.00\">squared_error = 7208.829</text>\n",
       "<text text-anchor=\"middle\" x=\"693.5\" y=\"-319.8\" font-family=\"Helvetica,sans-Serif\" font-size=\"14.00\">samples = 80</text>\n",
       "<text text-anchor=\"middle\" x=\"693.5\" y=\"-304.8\" font-family=\"Helvetica,sans-Serif\" font-size=\"14.00\">value = 23.749</text>\n",
       "</g>\n",
       "<!-- 1 -->\n",
       "<g id=\"node2\" class=\"node\">\n",
       "<title>1</title>\n",
       "<path fill=\"#f4caab\" stroke=\"black\" d=\"M588.5,-261C588.5,-261 428.5,-261 428.5,-261 422.5,-261 416.5,-255 416.5,-249 416.5,-249 416.5,-205 416.5,-205 416.5,-199 422.5,-193 428.5,-193 428.5,-193 588.5,-193 588.5,-193 594.5,-193 600.5,-199 600.5,-205 600.5,-205 600.5,-249 600.5,-249 600.5,-255 594.5,-261 588.5,-261\"/>\n",
       "<text text-anchor=\"middle\" x=\"508.5\" y=\"-245.8\" font-family=\"Helvetica,sans-Serif\" font-size=\"14.00\">X[0] &lt;= &#45;1.601</text>\n",
       "<text text-anchor=\"middle\" x=\"508.5\" y=\"-230.8\" font-family=\"Helvetica,sans-Serif\" font-size=\"14.00\">squared_error = 2661.791</text>\n",
       "<text text-anchor=\"middle\" x=\"508.5\" y=\"-215.8\" font-family=\"Helvetica,sans-Serif\" font-size=\"14.00\">samples = 34</text>\n",
       "<text text-anchor=\"middle\" x=\"508.5\" y=\"-200.8\" font-family=\"Helvetica,sans-Serif\" font-size=\"14.00\">value = &#45;46.023</text>\n",
       "</g>\n",
       "<!-- 0&#45;&gt;1 -->\n",
       "<g id=\"edge1\" class=\"edge\">\n",
       "<title>0&#45;&gt;1</title>\n",
       "<path fill=\"none\" stroke=\"black\" d=\"M633.44,-296.88C615.57,-287.04 595.86,-276.17 577.48,-266.03\"/>\n",
       "<polygon fill=\"black\" stroke=\"black\" points=\"579.03,-262.89 568.58,-261.12 575.65,-269.02 579.03,-262.89\"/>\n",
       "<text text-anchor=\"middle\" x=\"575.52\" y=\"-281.44\" font-family=\"Helvetica,sans-Serif\" font-size=\"14.00\">True</text>\n",
       "</g>\n",
       "<!-- 8 -->\n",
       "<g id=\"node9\" class=\"node\">\n",
       "<title>8</title>\n",
       "<path fill=\"#eca16b\" stroke=\"black\" d=\"M965.5,-261C965.5,-261 805.5,-261 805.5,-261 799.5,-261 793.5,-255 793.5,-249 793.5,-249 793.5,-205 793.5,-205 793.5,-199 799.5,-193 805.5,-193 805.5,-193 965.5,-193 965.5,-193 971.5,-193 977.5,-199 977.5,-205 977.5,-205 977.5,-249 977.5,-249 977.5,-255 971.5,-261 965.5,-261\"/>\n",
       "<text text-anchor=\"middle\" x=\"885.5\" y=\"-245.8\" font-family=\"Helvetica,sans-Serif\" font-size=\"14.00\">X[0] &lt;= 0.585</text>\n",
       "<text text-anchor=\"middle\" x=\"885.5\" y=\"-230.8\" font-family=\"Helvetica,sans-Serif\" font-size=\"14.00\">squared_error = 4311.951</text>\n",
       "<text text-anchor=\"middle\" x=\"885.5\" y=\"-215.8\" font-family=\"Helvetica,sans-Serif\" font-size=\"14.00\">samples = 46</text>\n",
       "<text text-anchor=\"middle\" x=\"885.5\" y=\"-200.8\" font-family=\"Helvetica,sans-Serif\" font-size=\"14.00\">value = 75.32</text>\n",
       "</g>\n",
       "<!-- 0&#45;&gt;8 -->\n",
       "<g id=\"edge8\" class=\"edge\">\n",
       "<title>0&#45;&gt;8</title>\n",
       "<path fill=\"none\" stroke=\"black\" d=\"M755.84,-296.88C774.46,-286.99 795.02,-276.07 814.17,-265.9\"/>\n",
       "<polygon fill=\"black\" stroke=\"black\" points=\"815.96,-268.91 823.15,-261.12 812.67,-262.73 815.96,-268.91\"/>\n",
       "<text text-anchor=\"middle\" x=\"815.83\" y=\"-281.33\" font-family=\"Helvetica,sans-Serif\" font-size=\"14.00\">False</text>\n",
       "</g>\n",
       "<!-- 2 -->\n",
       "<g id=\"node3\" class=\"node\">\n",
       "<title>2</title>\n",
       "<path fill=\"#fffffe\" stroke=\"black\" d=\"M302,-157C302,-157 167,-157 167,-157 161,-157 155,-151 155,-145 155,-145 155,-101 155,-101 155,-95 161,-89 167,-89 167,-89 302,-89 302,-89 308,-89 314,-95 314,-101 314,-101 314,-145 314,-145 314,-151 308,-157 302,-157\"/>\n",
       "<text text-anchor=\"middle\" x=\"234.5\" y=\"-141.8\" font-family=\"Helvetica,sans-Serif\" font-size=\"14.00\">X[0] &lt;= &#45;2.181</text>\n",
       "<text text-anchor=\"middle\" x=\"234.5\" y=\"-126.8\" font-family=\"Helvetica,sans-Serif\" font-size=\"14.00\">squared_error = 1.477</text>\n",
       "<text text-anchor=\"middle\" x=\"234.5\" y=\"-111.8\" font-family=\"Helvetica,sans-Serif\" font-size=\"14.00\">samples = 2</text>\n",
       "<text text-anchor=\"middle\" x=\"234.5\" y=\"-96.8\" font-family=\"Helvetica,sans-Serif\" font-size=\"14.00\">value = &#45;204.015</text>\n",
       "</g>\n",
       "<!-- 1&#45;&gt;2 -->\n",
       "<g id=\"edge2\" class=\"edge\">\n",
       "<title>1&#45;&gt;2</title>\n",
       "<path fill=\"none\" stroke=\"black\" d=\"M419.54,-192.88C388.81,-181.44 354.39,-168.63 323.64,-157.18\"/>\n",
       "<polygon fill=\"black\" stroke=\"black\" points=\"324.82,-153.89 314.23,-153.68 322.38,-160.45 324.82,-153.89\"/>\n",
       "</g>\n",
       "<!-- 5 -->\n",
       "<g id=\"node6\" class=\"node\">\n",
       "<title>5</title>\n",
       "<path fill=\"#f3c6a6\" stroke=\"black\" d=\"M588.5,-157C588.5,-157 428.5,-157 428.5,-157 422.5,-157 416.5,-151 416.5,-145 416.5,-145 416.5,-101 416.5,-101 416.5,-95 422.5,-89 428.5,-89 428.5,-89 588.5,-89 588.5,-89 594.5,-89 600.5,-95 600.5,-101 600.5,-101 600.5,-145 600.5,-145 600.5,-151 594.5,-157 588.5,-157\"/>\n",
       "<text text-anchor=\"middle\" x=\"508.5\" y=\"-141.8\" font-family=\"Helvetica,sans-Serif\" font-size=\"14.00\">X[0] &lt;= &#45;0.558</text>\n",
       "<text text-anchor=\"middle\" x=\"508.5\" y=\"-126.8\" font-family=\"Helvetica,sans-Serif\" font-size=\"14.00\">squared_error = 1170.454</text>\n",
       "<text text-anchor=\"middle\" x=\"508.5\" y=\"-111.8\" font-family=\"Helvetica,sans-Serif\" font-size=\"14.00\">samples = 32</text>\n",
       "<text text-anchor=\"middle\" x=\"508.5\" y=\"-96.8\" font-family=\"Helvetica,sans-Serif\" font-size=\"14.00\">value = &#45;36.148</text>\n",
       "</g>\n",
       "<!-- 1&#45;&gt;5 -->\n",
       "<g id=\"edge5\" class=\"edge\">\n",
       "<title>1&#45;&gt;5</title>\n",
       "<path fill=\"none\" stroke=\"black\" d=\"M508.5,-192.88C508.5,-184.78 508.5,-175.98 508.5,-167.47\"/>\n",
       "<polygon fill=\"black\" stroke=\"black\" points=\"512,-167.3 508.5,-157.3 505,-167.3 512,-167.3\"/>\n",
       "</g>\n",
       "<!-- 3 -->\n",
       "<g id=\"node4\" class=\"node\">\n",
       "<title>3</title>\n",
       "<path fill=\"#fffefe\" stroke=\"black\" d=\"M131,-53C131,-53 12,-53 12,-53 6,-53 0,-47 0,-41 0,-41 0,-12 0,-12 0,-6 6,0 12,0 12,0 131,0 131,0 137,0 143,-6 143,-12 143,-12 143,-41 143,-41 143,-47 137,-53 131,-53\"/>\n",
       "<text text-anchor=\"middle\" x=\"71.5\" y=\"-37.8\" font-family=\"Helvetica,sans-Serif\" font-size=\"14.00\">squared_error = 0.0</text>\n",
       "<text text-anchor=\"middle\" x=\"71.5\" y=\"-22.8\" font-family=\"Helvetica,sans-Serif\" font-size=\"14.00\">samples = 1</text>\n",
       "<text text-anchor=\"middle\" x=\"71.5\" y=\"-7.8\" font-family=\"Helvetica,sans-Serif\" font-size=\"14.00\">value = &#45;202.8</text>\n",
       "</g>\n",
       "<!-- 2&#45;&gt;3 -->\n",
       "<g id=\"edge3\" class=\"edge\">\n",
       "<title>2&#45;&gt;3</title>\n",
       "<path fill=\"none\" stroke=\"black\" d=\"M177.49,-88.95C160.21,-78.93 141.32,-67.98 124.33,-58.13\"/>\n",
       "<polygon fill=\"black\" stroke=\"black\" points=\"126.04,-55.07 115.63,-53.09 122.53,-61.13 126.04,-55.07\"/>\n",
       "</g>\n",
       "<!-- 4 -->\n",
       "<g id=\"node5\" class=\"node\">\n",
       "<title>4</title>\n",
       "<path fill=\"#ffffff\" stroke=\"black\" d=\"M296,-53C296,-53 173,-53 173,-53 167,-53 161,-47 161,-41 161,-41 161,-12 161,-12 161,-6 167,0 173,0 173,0 296,0 296,0 302,0 308,-6 308,-12 308,-12 308,-41 308,-41 308,-47 302,-53 296,-53\"/>\n",
       "<text text-anchor=\"middle\" x=\"234.5\" y=\"-37.8\" font-family=\"Helvetica,sans-Serif\" font-size=\"14.00\">squared_error = &#45;0.0</text>\n",
       "<text text-anchor=\"middle\" x=\"234.5\" y=\"-22.8\" font-family=\"Helvetica,sans-Serif\" font-size=\"14.00\">samples = 1</text>\n",
       "<text text-anchor=\"middle\" x=\"234.5\" y=\"-7.8\" font-family=\"Helvetica,sans-Serif\" font-size=\"14.00\">value = &#45;205.23</text>\n",
       "</g>\n",
       "<!-- 2&#45;&gt;4 -->\n",
       "<g id=\"edge4\" class=\"edge\">\n",
       "<title>2&#45;&gt;4</title>\n",
       "<path fill=\"none\" stroke=\"black\" d=\"M234.5,-88.95C234.5,-80.72 234.5,-71.85 234.5,-63.48\"/>\n",
       "<polygon fill=\"black\" stroke=\"black\" points=\"238,-63.24 234.5,-53.24 231,-63.24 238,-63.24\"/>\n",
       "</g>\n",
       "<!-- 6 -->\n",
       "<g id=\"node7\" class=\"node\">\n",
       "<title>6</title>\n",
       "<path fill=\"#f4c9aa\" stroke=\"black\" d=\"M490.5,-53C490.5,-53 338.5,-53 338.5,-53 332.5,-53 326.5,-47 326.5,-41 326.5,-41 326.5,-12 326.5,-12 326.5,-6 332.5,0 338.5,0 338.5,0 490.5,0 490.5,0 496.5,0 502.5,-6 502.5,-12 502.5,-12 502.5,-41 502.5,-41 502.5,-47 496.5,-53 490.5,-53\"/>\n",
       "<text text-anchor=\"middle\" x=\"414.5\" y=\"-37.8\" font-family=\"Helvetica,sans-Serif\" font-size=\"14.00\">squared_error = 774.659</text>\n",
       "<text text-anchor=\"middle\" x=\"414.5\" y=\"-22.8\" font-family=\"Helvetica,sans-Serif\" font-size=\"14.00\">samples = 16</text>\n",
       "<text text-anchor=\"middle\" x=\"414.5\" y=\"-7.8\" font-family=\"Helvetica,sans-Serif\" font-size=\"14.00\">value = &#45;43.69</text>\n",
       "</g>\n",
       "<!-- 5&#45;&gt;6 -->\n",
       "<g id=\"edge6\" class=\"edge\">\n",
       "<title>5&#45;&gt;6</title>\n",
       "<path fill=\"none\" stroke=\"black\" d=\"M475.62,-88.95C466.43,-79.71 456.45,-69.67 447.26,-60.44\"/>\n",
       "<polygon fill=\"black\" stroke=\"black\" points=\"449.63,-57.86 440.1,-53.24 444.67,-62.79 449.63,-57.86\"/>\n",
       "</g>\n",
       "<!-- 7 -->\n",
       "<g id=\"node8\" class=\"node\">\n",
       "<title>7</title>\n",
       "<path fill=\"#f3c4a2\" stroke=\"black\" d=\"M692.5,-53C692.5,-53 532.5,-53 532.5,-53 526.5,-53 520.5,-47 520.5,-41 520.5,-41 520.5,-12 520.5,-12 520.5,-6 526.5,0 532.5,0 532.5,0 692.5,0 692.5,0 698.5,0 704.5,-6 704.5,-12 704.5,-12 704.5,-41 704.5,-41 704.5,-47 698.5,-53 692.5,-53\"/>\n",
       "<text text-anchor=\"middle\" x=\"612.5\" y=\"-37.8\" font-family=\"Helvetica,sans-Serif\" font-size=\"14.00\">squared_error = 1452.491</text>\n",
       "<text text-anchor=\"middle\" x=\"612.5\" y=\"-22.8\" font-family=\"Helvetica,sans-Serif\" font-size=\"14.00\">samples = 16</text>\n",
       "<text text-anchor=\"middle\" x=\"612.5\" y=\"-7.8\" font-family=\"Helvetica,sans-Serif\" font-size=\"14.00\">value = &#45;28.606</text>\n",
       "</g>\n",
       "<!-- 5&#45;&gt;7 -->\n",
       "<g id=\"edge7\" class=\"edge\">\n",
       "<title>5&#45;&gt;7</title>\n",
       "<path fill=\"none\" stroke=\"black\" d=\"M544.87,-88.95C555.14,-79.62 566.31,-69.47 576.55,-60.16\"/>\n",
       "<polygon fill=\"black\" stroke=\"black\" points=\"579.13,-62.55 584.18,-53.24 574.42,-57.37 579.13,-62.55\"/>\n",
       "</g>\n",
       "<!-- 9 -->\n",
       "<g id=\"node10\" class=\"node\">\n",
       "<title>9</title>\n",
       "<path fill=\"#eeaf81\" stroke=\"black\" d=\"M965.5,-157C965.5,-157 805.5,-157 805.5,-157 799.5,-157 793.5,-151 793.5,-145 793.5,-145 793.5,-101 793.5,-101 793.5,-95 799.5,-89 805.5,-89 805.5,-89 965.5,-89 965.5,-89 971.5,-89 977.5,-95 977.5,-101 977.5,-101 977.5,-145 977.5,-145 977.5,-151 971.5,-157 965.5,-157\"/>\n",
       "<text text-anchor=\"middle\" x=\"885.5\" y=\"-141.8\" font-family=\"Helvetica,sans-Serif\" font-size=\"14.00\">X[0] &lt;= 0.043</text>\n",
       "<text text-anchor=\"middle\" x=\"885.5\" y=\"-126.8\" font-family=\"Helvetica,sans-Serif\" font-size=\"14.00\">squared_error = 1469.287</text>\n",
       "<text text-anchor=\"middle\" x=\"885.5\" y=\"-111.8\" font-family=\"Helvetica,sans-Serif\" font-size=\"14.00\">samples = 23</text>\n",
       "<text text-anchor=\"middle\" x=\"885.5\" y=\"-96.8\" font-family=\"Helvetica,sans-Serif\" font-size=\"14.00\">value = 33.604</text>\n",
       "</g>\n",
       "<!-- 8&#45;&gt;9 -->\n",
       "<g id=\"edge9\" class=\"edge\">\n",
       "<title>8&#45;&gt;9</title>\n",
       "<path fill=\"none\" stroke=\"black\" d=\"M885.5,-192.88C885.5,-184.78 885.5,-175.98 885.5,-167.47\"/>\n",
       "<polygon fill=\"black\" stroke=\"black\" points=\"889,-167.3 885.5,-157.3 882,-167.3 889,-167.3\"/>\n",
       "</g>\n",
       "<!-- 12 -->\n",
       "<g id=\"node13\" class=\"node\">\n",
       "<title>12</title>\n",
       "<path fill=\"#e99355\" stroke=\"black\" d=\"M1258.5,-157C1258.5,-157 1098.5,-157 1098.5,-157 1092.5,-157 1086.5,-151 1086.5,-145 1086.5,-145 1086.5,-101 1086.5,-101 1086.5,-95 1092.5,-89 1098.5,-89 1098.5,-89 1258.5,-89 1258.5,-89 1264.5,-89 1270.5,-95 1270.5,-101 1270.5,-101 1270.5,-145 1270.5,-145 1270.5,-151 1264.5,-157 1258.5,-157\"/>\n",
       "<text text-anchor=\"middle\" x=\"1178.5\" y=\"-141.8\" font-family=\"Helvetica,sans-Serif\" font-size=\"14.00\">X[0] &lt;= 1.226</text>\n",
       "<text text-anchor=\"middle\" x=\"1178.5\" y=\"-126.8\" font-family=\"Helvetica,sans-Serif\" font-size=\"14.00\">squared_error = 3674.072</text>\n",
       "<text text-anchor=\"middle\" x=\"1178.5\" y=\"-111.8\" font-family=\"Helvetica,sans-Serif\" font-size=\"14.00\">samples = 23</text>\n",
       "<text text-anchor=\"middle\" x=\"1178.5\" y=\"-96.8\" font-family=\"Helvetica,sans-Serif\" font-size=\"14.00\">value = 117.037</text>\n",
       "</g>\n",
       "<!-- 8&#45;&gt;12 -->\n",
       "<g id=\"edge12\" class=\"edge\">\n",
       "<title>8&#45;&gt;12</title>\n",
       "<path fill=\"none\" stroke=\"black\" d=\"M977.8,-193.87C1009.2,-182.94 1044.45,-170.67 1076.55,-159.49\"/>\n",
       "<polygon fill=\"black\" stroke=\"black\" points=\"1078.11,-162.65 1086.41,-156.06 1075.81,-156.04 1078.11,-162.65\"/>\n",
       "</g>\n",
       "<!-- 10 -->\n",
       "<g id=\"node11\" class=\"node\">\n",
       "<title>10</title>\n",
       "<path fill=\"#e89152\" stroke=\"black\" d=\"M854,-53C854,-53 735,-53 735,-53 729,-53 723,-47 723,-41 723,-41 723,-12 723,-12 723,-6 729,0 735,0 735,0 854,0 854,0 860,0 866,-6 866,-12 866,-12 866,-41 866,-41 866,-47 860,-53 854,-53\"/>\n",
       "<text text-anchor=\"middle\" x=\"794.5\" y=\"-37.8\" font-family=\"Helvetica,sans-Serif\" font-size=\"14.00\">squared_error = 0.0</text>\n",
       "<text text-anchor=\"middle\" x=\"794.5\" y=\"-22.8\" font-family=\"Helvetica,sans-Serif\" font-size=\"14.00\">samples = 1</text>\n",
       "<text text-anchor=\"middle\" x=\"794.5\" y=\"-7.8\" font-family=\"Helvetica,sans-Serif\" font-size=\"14.00\">value = 122.667</text>\n",
       "</g>\n",
       "<!-- 9&#45;&gt;10 -->\n",
       "<g id=\"edge10\" class=\"edge\">\n",
       "<title>9&#45;&gt;10</title>\n",
       "<path fill=\"none\" stroke=\"black\" d=\"M853.67,-88.95C844.86,-79.8 835.3,-69.87 826.48,-60.71\"/>\n",
       "<polygon fill=\"black\" stroke=\"black\" points=\"828.74,-58.01 819.28,-53.24 823.7,-62.87 828.74,-58.01\"/>\n",
       "</g>\n",
       "<!-- 11 -->\n",
       "<g id=\"node12\" class=\"node\">\n",
       "<title>11</title>\n",
       "<path fill=\"#efb083\" stroke=\"black\" d=\"M1056.5,-53C1056.5,-53 896.5,-53 896.5,-53 890.5,-53 884.5,-47 884.5,-41 884.5,-41 884.5,-12 884.5,-12 884.5,-6 890.5,0 896.5,0 896.5,0 1056.5,0 1056.5,0 1062.5,0 1068.5,-6 1068.5,-12 1068.5,-12 1068.5,-41 1068.5,-41 1068.5,-47 1062.5,-53 1056.5,-53\"/>\n",
       "<text text-anchor=\"middle\" x=\"976.5\" y=\"-37.8\" font-family=\"Helvetica,sans-Serif\" font-size=\"14.00\">squared_error = 1159.121</text>\n",
       "<text text-anchor=\"middle\" x=\"976.5\" y=\"-22.8\" font-family=\"Helvetica,sans-Serif\" font-size=\"14.00\">samples = 22</text>\n",
       "<text text-anchor=\"middle\" x=\"976.5\" y=\"-7.8\" font-family=\"Helvetica,sans-Serif\" font-size=\"14.00\">value = 29.555</text>\n",
       "</g>\n",
       "<!-- 9&#45;&gt;11 -->\n",
       "<g id=\"edge11\" class=\"edge\">\n",
       "<title>9&#45;&gt;11</title>\n",
       "<path fill=\"none\" stroke=\"black\" d=\"M917.33,-88.95C926.14,-79.8 935.7,-69.87 944.52,-60.71\"/>\n",
       "<polygon fill=\"black\" stroke=\"black\" points=\"947.3,-62.87 951.72,-53.24 942.26,-58.01 947.3,-62.87\"/>\n",
       "</g>\n",
       "<!-- 13 -->\n",
       "<g id=\"node14\" class=\"node\">\n",
       "<title>13</title>\n",
       "<path fill=\"#ea9b62\" stroke=\"black\" d=\"M1258.5,-53C1258.5,-53 1098.5,-53 1098.5,-53 1092.5,-53 1086.5,-47 1086.5,-41 1086.5,-41 1086.5,-12 1086.5,-12 1086.5,-6 1092.5,0 1098.5,0 1098.5,0 1258.5,0 1258.5,0 1264.5,0 1270.5,-6 1270.5,-12 1270.5,-12 1270.5,-41 1270.5,-41 1270.5,-47 1264.5,-53 1258.5,-53\"/>\n",
       "<text text-anchor=\"middle\" x=\"1178.5\" y=\"-37.8\" font-family=\"Helvetica,sans-Serif\" font-size=\"14.00\">squared_error = 2888.959</text>\n",
       "<text text-anchor=\"middle\" x=\"1178.5\" y=\"-22.8\" font-family=\"Helvetica,sans-Serif\" font-size=\"14.00\">samples = 16</text>\n",
       "<text text-anchor=\"middle\" x=\"1178.5\" y=\"-7.8\" font-family=\"Helvetica,sans-Serif\" font-size=\"14.00\">value = 93.403</text>\n",
       "</g>\n",
       "<!-- 12&#45;&gt;13 -->\n",
       "<g id=\"edge13\" class=\"edge\">\n",
       "<title>12&#45;&gt;13</title>\n",
       "<path fill=\"none\" stroke=\"black\" d=\"M1178.5,-88.95C1178.5,-80.72 1178.5,-71.85 1178.5,-63.48\"/>\n",
       "<polygon fill=\"black\" stroke=\"black\" points=\"1182,-63.24 1178.5,-53.24 1175,-63.24 1182,-63.24\"/>\n",
       "</g>\n",
       "<!-- 14 -->\n",
       "<g id=\"node15\" class=\"node\">\n",
       "<title>14</title>\n",
       "<path fill=\"#e58139\" stroke=\"black\" d=\"M1460.5,-53C1460.5,-53 1300.5,-53 1300.5,-53 1294.5,-53 1288.5,-47 1288.5,-41 1288.5,-41 1288.5,-12 1288.5,-12 1288.5,-6 1294.5,0 1300.5,0 1300.5,0 1460.5,0 1460.5,0 1466.5,0 1472.5,-6 1472.5,-12 1472.5,-12 1472.5,-41 1472.5,-41 1472.5,-47 1466.5,-53 1460.5,-53\"/>\n",
       "<text text-anchor=\"middle\" x=\"1380.5\" y=\"-37.8\" font-family=\"Helvetica,sans-Serif\" font-size=\"14.00\">squared_error = 1273.962</text>\n",
       "<text text-anchor=\"middle\" x=\"1380.5\" y=\"-22.8\" font-family=\"Helvetica,sans-Serif\" font-size=\"14.00\">samples = 7</text>\n",
       "<text text-anchor=\"middle\" x=\"1380.5\" y=\"-7.8\" font-family=\"Helvetica,sans-Serif\" font-size=\"14.00\">value = 171.055</text>\n",
       "</g>\n",
       "<!-- 12&#45;&gt;14 -->\n",
       "<g id=\"edge14\" class=\"edge\">\n",
       "<title>12&#45;&gt;14</title>\n",
       "<path fill=\"none\" stroke=\"black\" d=\"M1249.15,-88.95C1271.05,-78.7 1295.05,-67.47 1316.48,-57.45\"/>\n",
       "<polygon fill=\"black\" stroke=\"black\" points=\"1318.23,-60.49 1325.81,-53.09 1315.27,-54.15 1318.23,-60.49\"/>\n",
       "</g>\n",
       "</g>\n",
       "</svg>\n"
      ],
      "text/plain": [
       "<graphviz.sources.Source at 0x2afc50e0430>"
      ]
     },
     "execution_count": 28,
     "metadata": {},
     "output_type": "execute_result"
    }
   ],
   "source": [
    "from sklearn.tree import export_graphviz\n",
    "from graphviz import Source\n",
    "from IPython.display import SVG\n",
    "graph = Source(export_graphviz(tree_reg, \n",
    "                               out_file=None,\n",
    "                               rounded=True, filled=True))\n",
    "# display(SVG(graph.pipe(format='svg'))) # 옛날 방식\n",
    "graph\n",
    "# value : 예측 결과"
   ]
  },
  {
   "cell_type": "code",
   "execution_count": 30,
   "metadata": {
    "ExecuteTime": {
     "end_time": "2021-11-19T08:18:10.034165Z",
     "start_time": "2021-11-19T08:18:10.023165Z"
    }
   },
   "outputs": [
    {
     "data": {
      "text/plain": [
       "array([1.])"
      ]
     },
     "execution_count": 30,
     "metadata": {},
     "output_type": "execute_result"
    }
   ],
   "source": [
    "tree_reg.feature_importances_"
   ]
  }
 ],
 "metadata": {
  "kernelspec": {
   "display_name": "Python 3 (ipykernel)",
   "language": "python",
   "name": "python3"
  },
  "language_info": {
   "codemirror_mode": {
    "name": "ipython",
    "version": 3
   },
   "file_extension": ".py",
   "mimetype": "text/x-python",
   "name": "python",
   "nbconvert_exporter": "python",
   "pygments_lexer": "ipython3",
   "version": "3.8.12"
  },
  "toc": {
   "base_numbering": 1,
   "nav_menu": {},
   "number_sections": false,
   "sideBar": true,
   "skip_h1_title": false,
   "title_cell": "Table of Contents",
   "title_sidebar": "Contents",
   "toc_cell": false,
   "toc_position": {},
   "toc_section_display": true,
   "toc_window_display": false
  },
  "varInspector": {
   "cols": {
    "lenName": 16,
    "lenType": 16,
    "lenVar": 40
   },
   "kernels_config": {
    "python": {
     "delete_cmd_postfix": "",
     "delete_cmd_prefix": "del ",
     "library": "var_list.py",
     "varRefreshCmd": "print(var_dic_list())"
    },
    "r": {
     "delete_cmd_postfix": ") ",
     "delete_cmd_prefix": "rm(",
     "library": "var_list.r",
     "varRefreshCmd": "cat(var_dic_list()) "
    }
   },
   "types_to_exclude": [
    "module",
    "function",
    "builtin_function_or_method",
    "instance",
    "_Feature"
   ],
   "window_display": false
  }
 },
 "nbformat": 4,
 "nbformat_minor": 2
}
