{
 "cells": [
  {
   "cell_type": "markdown",
   "source": [
    "# MySQL\r\n",
    "## Ch.1 DBMS 개요와 MySQL\r\n",
    "\r\n",
    "### 1. 데이터베이스 vs DBMS\r\n",
    "- 데이터의 집합, 저장소 vs 소프트웨어\r\n",
    "- 데이터 파일 vs 프로그램 파일\r\n",
    "\r\n",
    "### 2. 데이터베이스 특징\r\n",
    "- 데이터의 무결성 (Integrity) : 제약조건(Constraint)으로 데이터 무결성을 지원\r\n",
    "- 데이터의 독립성 (Isolation) : Coupling이 되어 있으면 Maintenance가 오래 걸림 / DBMS에서 구현\r\n",
    "- 보안 (Security) : 권한 (Privileges)\r\n",
    "- 데이터 중복 최소화 : 관계형데이터베이스 <- 관계 대수\r\n",
    "- 응용 프로그램 제작 및 수정이 쉬어짐\r\n",
    "- 데이터의 안정성 향상 : 백업 (Backup), 복원 (Restore/Recover)\r\n",
    "\r\n",
    "### 3. 관계형 데이터베이스 (Related DB)\r\n",
    "- 관계대수(Relational Algebra)에 기반하여 설계된 DB\r\n",
    "- 관계(Relation) vs Relationship(관계) : 테이블(표) vs 참조제약조건(Foreign Key)"
   ],
   "metadata": {}
  },
  {
   "cell_type": "code",
   "execution_count": null,
   "source": [],
   "outputs": [],
   "metadata": {}
  }
 ],
 "metadata": {
  "orig_nbformat": 4,
  "language_info": {
   "name": "python",
   "version": "3.9.5",
   "mimetype": "text/x-python",
   "codemirror_mode": {
    "name": "ipython",
    "version": 3
   },
   "pygments_lexer": "ipython3",
   "nbconvert_exporter": "python",
   "file_extension": ".py"
  },
  "kernelspec": {
   "name": "python3",
   "display_name": "Python 3.9.5 64-bit"
  },
  "interpreter": {
   "hash": "5d44725d55c3c25373c9cea7b363fe9d5696c3b23e8383192da0211bfba569d6"
  }
 },
 "nbformat": 4,
 "nbformat_minor": 2
}