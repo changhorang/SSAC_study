{
 "cells": [
  {
   "cell_type": "markdown",
   "source": [
    "# MySQL\r\n",
    "## Ch.1 DBMS 개요와 MySQL\r\n",
    "\r\n",
    "### 1. 데이터베이스 vs DBMS\r\n",
    "- 데이터의 집합, 저장소 vs 소프트웨어\r\n",
    "- 데이터 파일 vs 프로그램 파일\r\n",
    "\r\n",
    "### 2. 데이터베이스 특징\r\n",
    "- 데이터의 무결성 (Integrity) : 제약조건(Constraint)으로 데이터 무결성을 지원\r\n",
    "- 데이터의 독립성 (Isolation) : Coupling이 되어 있으면 Maintenance가 오래 걸림 / DBMS에서 구현\r\n",
    "- 보안 (Security) : 권한 (Privileges)\r\n",
    "- 데이터 중복 최소화 : 관계형데이터베이스 <- 관계 대수\r\n",
    "- 응용 프로그램 제작 및 수정이 쉬어짐\r\n",
    "- 데이터의 안정성 향상 : 백업 (Backup), 복원 (Restore/Recover), 복구(Recover = Restore + Redo Log)\r\n",
    "\r\n",
    "### 3. 관계형 데이터베이스 (Related DB)\r\n",
    "- 관계대수(Relational Algebra)에 기반하여 설계된 DB\r\n",
    "- 관계(Relation) vs Relationship(관계) :\r\n",
    "⇒ 데이터의 집합 vs. 관련 있는 릴레이션을 표현 \r\n",
    "⇒ 테이블(표) vs 참조제약조건(Foreign Key)"
   ],
   "metadata": {}
  },
  {
   "cell_type": "markdown",
   "source": [
    "### 4. SQL 특징\r\n",
    "* DBMS 제작 회사와 독립적\r\n",
    "  - SQL 표준 + 회사별 SQL\r\n",
    "\r\n",
    "* 다른 시스템으로 이식성이 좋다\r\n",
    "  - SQL 표준 덕분\r\n",
    "\r\n",
    "* 표준이 계속 발전\r\n",
    "  - SQL-86, SQL-89, SQL-92, SQL:1999, SQL:2003, SQL:2008, SQL:2011 등\r\n",
    "\r\n",
    "* 대화식 언어\r\n",
    "  - 인터프리터\r\n",
    "  - 대화형 셸 인터페이스\r\n",
    "\r\n",
    "* 분산형 클라이언트/서버 구조\r\n",
    "\r\n",
    "* 선언적 프로그래밍 언어\r\n",
    "  - 옵티마이저\r\n",
    "  - 실행계획\r\n",
    "\r\n",
    "\r\n",
    "### 5. SQL과 다른 언어의 차이점\r\n",
    "* 키워드/절은 대소문자 구별하지 않음\r\n",
    "* 변수가 없음\r\n",
    "  - 예외: 바인드 변수\r\n",
    "* 반복문 없음\r\n",
    "* 조건문 없음\r\n",
    "* 예외 처리 없음\r\n",
    "\r\n",
    "\r\n",
    "### 6. SQL + 절차적 프로그래밍의 요소\r\n",
    "  ⇒ PL/SQL, T*SQL, SQL\r\n",
    "\r\n",
    "\r\n",
    "### 7. Daemon(Unix-like), Service(Windows)\r\n",
    "  ⇒ 항상 실행 중인 프로세스\r\n",
    "\r\n",
    "\r\n",
    "### 8. Program vs. Process vs. Thread\r\n"
   ],
   "metadata": {}
  }
 ],
 "metadata": {
  "orig_nbformat": 4,
  "language_info": {
   "name": "python",
   "version": "3.9.5",
   "mimetype": "text/x-python",
   "codemirror_mode": {
    "name": "ipython",
    "version": 3
   },
   "pygments_lexer": "ipython3",
   "nbconvert_exporter": "python",
   "file_extension": ".py"
  },
  "kernelspec": {
   "name": "python3",
   "display_name": "Python 3.9.5 64-bit"
  },
  "interpreter": {
   "hash": "5d44725d55c3c25373c9cea7b363fe9d5696c3b23e8383192da0211bfba569d6"
  }
 },
 "nbformat": 4,
 "nbformat_minor": 2
}