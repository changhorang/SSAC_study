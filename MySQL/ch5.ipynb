{
 "cells": [
  {
   "cell_type": "markdown",
   "source": [
    "# Ch.5 MySQL 유틸리티 사용법\r\n",
    "## Ch.5.3 사용자 관리\r\n",
    "\r\n",
    "### 최소 권한의 원칙 (Priciples of Least Privileges)\r\n",
    "\r\n",
    "### 1. 권한(Previleges) vs 롤(Role)\r\n",
    "- 롤 : 관련 있는 권한을 묶어서 이름 붙인 것 / 효율적인 권한 관리, 계정과 권한을 느슨하게 연결(Loosely-coupled)\r\n",
    "- 계정 <--> 롤 <--> 권한"
   ],
   "metadata": {}
  }
 ],
 "metadata": {
  "orig_nbformat": 4,
  "language_info": {
   "name": "python"
  }
 },
 "nbformat": 4,
 "nbformat_minor": 2
}