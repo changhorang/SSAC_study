{
 "cells": [
  {
   "cell_type": "markdown",
   "source": [
    "### 데이터베이스 연결"
   ],
   "metadata": {}
  },
  {
   "cell_type": "code",
   "execution_count": 4,
   "source": [
    "import pymysql\r\n",
    "conn = pymysql.connect(host = '127.0.0.1', user = 'test1', password = '1q2w3e4r!!',\r\n",
    "                        db = 'hanbitDB', charset = 'utf8')"
   ],
   "outputs": [],
   "metadata": {}
  },
  {
   "cell_type": "markdown",
   "source": [
    "### 커서 생성"
   ],
   "metadata": {}
  },
  {
   "cell_type": "code",
   "execution_count": 13,
   "source": [
    "cur = conn.cursor()"
   ],
   "outputs": [],
   "metadata": {}
  },
  {
   "cell_type": "markdown",
   "source": [
    "### 테이블 만들기"
   ],
   "metadata": {}
  },
  {
   "cell_type": "code",
   "execution_count": 14,
   "source": [
    "cur.execute(\"CREATE TABLE IF NOT EXISTS userTable (id char(4),\\\r\n",
    "            userName char(15), email char(20), birthYear int)\")"
   ],
   "outputs": [
    {
     "output_type": "execute_result",
     "data": {
      "text/plain": [
       "0"
      ]
     },
     "metadata": {},
     "execution_count": 14
    }
   ],
   "metadata": {}
  },
  {
   "cell_type": "markdown",
   "source": [
    "### 데이터 입력"
   ],
   "metadata": {}
  },
  {
   "cell_type": "code",
   "execution_count": 15,
   "source": [
    "cur.execute(\"INSERT INTO userTable VALUES ('john', 'john bann', 'john@naver.com', 1990)\")\r\n",
    "cur.execute(\"INSERT INTO userTable VALUES ('kim', 'kim chi', 'kim@naver.com', 1992)\")\r\n",
    "cur.execute(\"INSERT INTO userTable VALUES ('lee', 'lee pal', 'lee@naver.com', 1988)\")\r\n",
    "cur.execute(\"INSERT INTO userTable VALUES ('park', 'park su', 'park@naver.com', 1980)\")"
   ],
   "outputs": [
    {
     "output_type": "execute_result",
     "data": {
      "text/plain": [
       "1"
      ]
     },
     "metadata": {},
     "execution_count": 15
    }
   ],
   "metadata": {}
  },
  {
   "cell_type": "markdown",
   "source": [
    "### 입력한 데이터 저장"
   ],
   "metadata": {}
  },
  {
   "cell_type": "code",
   "execution_count": 16,
   "source": [
    "conn.commit()"
   ],
   "outputs": [],
   "metadata": {}
  },
  {
   "cell_type": "markdown",
   "source": [
    "### 데이터 베이스 닫기"
   ],
   "metadata": {}
  },
  {
   "cell_type": "code",
   "execution_count": 17,
   "source": [
    "conn.close()"
   ],
   "outputs": [],
   "metadata": {}
  }
 ],
 "metadata": {
  "orig_nbformat": 4,
  "language_info": {
   "name": "python",
   "version": "3.9.5",
   "mimetype": "text/x-python",
   "codemirror_mode": {
    "name": "ipython",
    "version": 3
   },
   "pygments_lexer": "ipython3",
   "nbconvert_exporter": "python",
   "file_extension": ".py"
  },
  "kernelspec": {
   "name": "python3",
   "display_name": "Python 3.9.5 64-bit"
  },
  "interpreter": {
   "hash": "5d44725d55c3c25373c9cea7b363fe9d5696c3b23e8383192da0211bfba569d6"
  }
 },
 "nbformat": 4,
 "nbformat_minor": 2
}