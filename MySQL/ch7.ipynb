{
 "cells": [
  {
   "cell_type": "markdown",
   "source": [
    "# Ch.7 SQL 고급\r\n",
    "## Ch.7.1 MySQL의 데이터 형식\r\n",
    "\r\n",
    "### 1. MySQL에서 지원하는 데이터 형식의 종류 (p.238~ 참고)\r\n",
    "- 숫자 데이터 형식\r\n",
    "- 문자 데이터 형식\r\n",
    "- 날짜와 시간 데이터 형식\r\n",
    "\r\n",
    "### 2. 변수의 사용\r\n",
    "- \"@\"를 이용해 선언\r\n",
    "- 모든 곳에 변수를 사용할 수는 없고, 동적 변환이 필요함"
   ],
   "metadata": {}
  },
  {
   "cell_type": "code",
   "execution_count": 2,
   "source": [
    "# 동적 변환 : 물음표('?')를 수정 가능\r\n",
    "print(\"\"\"\r\n",
    "SET @myVar1 = 3 ;\r\n",
    "PREPARE myQuery \r\n",
    "    FROM 'SELECT Name, height FROM usertbl ORDER BY height LIMIT ?';\r\n",
    "EXECUTE myQuery USING @myVar1 ;\r\n",
    "\"\"\")"
   ],
   "outputs": [
    {
     "output_type": "stream",
     "name": "stdout",
     "text": [
      "\n",
      "SET @myVar1 = 3 ;\n",
      "PREPARE myQuery \n",
      "    FROM 'SELECT Name, height FROM usertbl ORDER BY height LIMIT ?';\n",
      "EXECUTE myQuery USING @myVar1 ;\n",
      "\n"
     ]
    }
   ],
   "metadata": {}
  },
  {
   "cell_type": "markdown",
   "source": [
    "### 3. 데이터 형식과 형 변환\r\n",
    "\r\n",
    "- 암시적 형 변환: Implicit vs. Explicit ⇒ Automatic vs. Manual\r\n",
    "\r\n",
    "### 4. MySQL 내장 함수\r\n",
    "\r\n",
    "- CASE expr. ⇒ 값\r\n",
    "  - Simple CASE expr.\r\n",
    "  - Searched CASE expr.\r\n"
   ],
   "metadata": {}
  },
  {
   "cell_type": "code",
   "execution_count": 3,
   "source": [
    "from IPython.display import Image\r\n",
    "import os\r\n",
    "os.chdir(r\"C:\\Users\\ChangHo Kim\\Desktop\\이미지\")"
   ],
   "outputs": [],
   "metadata": {}
  },
  {
   "cell_type": "code",
   "execution_count": 18,
   "source": [
    "# CASE 표현식의 활용 예\r\n",
    "print(\"\"\"\r\n",
    "SELECT name, height, addr\r\n",
    "FROM usertbl\r\n",
    "ORDER BY CASE addr \tWHEN '서울' THEN 1\r\n",
    "\t\t\tWHEN '경기' THEN 2\r\n",
    "                \tWHEN '경북' THEN 3\r\n",
    "                \tWHEN '경남' THEN 4\r\n",
    "\t\t\t\t    ELSE 10\r\n",
    "\t\tEND;\r\n",
    "\"\"\")\r\n",
    "Image('case.png')"
   ],
   "outputs": [
    {
     "output_type": "stream",
     "name": "stdout",
     "text": [
      "\n",
      "SELECT name, height, addr\n",
      "FROM usertbl\n",
      "ORDER BY CASE addr \tWHEN '서울' THEN 1\n",
      "\t\t\tWHEN '경기' THEN 2\n",
      "                \tWHEN '경북' THEN 3\n",
      "                \tWHEN '경남' THEN 4\n",
      "\t\t\t\t    ELSE 10\n",
      "\t\tEND;\n",
      "\n"
     ]
    },
    {
     "output_type": "execute_result",
     "data": {
      "text/plain": [
       "<IPython.core.display.Image object>"
      ],
      "image/png": "[encoded data removed]"
     },
     "metadata": {},
     "execution_count": 18
    }
   ],
   "metadata": {}
  },
  {
   "cell_type": "markdown",
   "source": [
    "## Ch.7.2 JOIN \r\n",
    "- 둘 이상의 테이블을 서로 묶어서 하나의 결과 집합으로 만들어 내는 것\r\n",
    "- 둘 이상의 재료집합으로 부터 새로운 재료집합을 만드는 연산\r\n",
    "- 조인 조건 : WHERE 절 또는 ON 절 / Predicate\r\n",
    "\r\n",
    "- 조인 메커니즘에 따른 종류\r\n",
    "    - (내부) 조인 (Inner Join)\r\n",
    "    - 외부 조인 (Outer Join)\r\n",
    "    - 무조건 조인 (Cross Join) <br>\r\n",
    "\r\n",
    "- 셀프 조인 (Self Join) -> 테이블 별칭이 반드시 필요\r\n",
    "- 동등 조인(Equi-Join)\r\n",
    "\r\n",
    "### 1. EXISTS, NOT EXISTS\r\n",
    "- 오른편에 반드시 상호관련서브쿼리\r\n",
    "- True 나 False 반환\r\n",
    "- 다 찾지 않고 진행할 수 있으므로 Performance가 좋음\r\n",
    "- 조인 조건을 만족하는 결과가 나오면 \r\n",
    "- EXISTS: TRUE를 리턴하고 다음 후보행으로\r\n",
    "    - > NOT EXISTS: FALSE를 리턴하고 다음 후보행으로\r\n",
    "    - > 서브쿼리의 모든 행에 대해서 조인 조건을 만족하는 행이 하나도 없다면\r\n",
    "    - > EXISTS: FALSE를 리턴하고 다음 후보행으로\r\n",
    "    - > NOT EXISTS: TRUE를 리턴하고 다음 후보행으로\r\n",
    "- EXISTS: Semi-Join\r\n",
    "- NOT EXISTS: Anti-Join\r\n"
   ],
   "metadata": {}
  },
  {
   "cell_type": "code",
   "execution_count": null,
   "source": [],
   "outputs": [],
   "metadata": {}
  }
 ],
 "metadata": {
  "orig_nbformat": 4,
  "language_info": {
   "name": "python",
   "version": "3.9.5",
   "mimetype": "text/x-python",
   "codemirror_mode": {
    "name": "ipython",
    "version": 3
   },
   "pygments_lexer": "ipython3",
   "nbconvert_exporter": "python",
   "file_extension": ".py"
  },
  "kernelspec": {
   "name": "python3",
   "display_name": "Python 3.9.5 64-bit"
  },
  "interpreter": {
   "hash": "5d44725d55c3c25373c9cea7b363fe9d5696c3b23e8383192da0211bfba569d6"
  }
 },
 "nbformat": 4,
 "nbformat_minor": 2
}